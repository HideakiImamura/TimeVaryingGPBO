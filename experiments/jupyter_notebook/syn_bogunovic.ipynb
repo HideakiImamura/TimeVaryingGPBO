{
 "cells": [
  {
   "cell_type": "code",
   "execution_count": 16,
   "metadata": {},
   "outputs": [
    {
     "data": {
      "text/html": [
       "<script type=\"text/javascript\">window.PlotlyConfig = {MathJaxConfig: 'local'};</script><script type=\"text/javascript\">if (window.MathJax) {MathJax.Hub.Config({SVG: {font: \"STIX-Web\"}});}</script><script>requirejs.config({paths: { 'plotly': ['https://cdn.plot.ly/plotly-latest.min']},});if(!window._Plotly) {require(['plotly'],function(plotly) {window._Plotly=plotly;});}</script>"
      ],
      "text/plain": [
       "<script type=\"text/javascript\">window.PlotlyConfig = {MathJaxConfig: 'local'};</script><script type=\"text/javascript\">if (window.MathJax) {MathJax.Hub.Config({SVG: {font: \"STIX-Web\"}});}</script><script>requirejs.config({paths: { 'plotly': ['https://cdn.plot.ly/plotly-latest.min']},});if(!window._Plotly) {require(['plotly'],function(plotly) {window._Plotly=plotly;});}</script>"
      ]
     },
     "execution_count": 0,
     "metadata": {},
     "output_type": "execute_result"
    }
   ],
   "source": [
    "# This is necessary for jupyter to draw graphs offline.\n",
    "# Plotly tries to use cloud service to draw graphs by default.\n",
    "from plotly.offline import download_plotlyjs, init_notebook_mode, plot, iplot\n",
    "init_notebook_mode(connected=True)"
   ]
  },
  {
   "cell_type": "code",
   "execution_count": 17,
   "metadata": {
    "collapsed": true
   },
   "outputs": [],
   "source": [
    "import GPy\n",
    "import optuna\n",
    "import numpy as np\n",
    "import plotly.figure_factory as ff\n",
    "import plotly.graph_objs as go\n",
    "import plotly.io as pio\n",
    "    \n",
    "\n",
    "seed = 123\n",
    "np.random.seed(seed=seed)"
   ]
  },
  {
   "cell_type": "code",
   "execution_count": 18,
   "metadata": {},
   "outputs": [],
   "source": [
    "variance = 1.\n",
    "lengthscale = 0.2\n",
    "quantization = 50\n",
    "epsilon = 0.1\n",
    "sigma2 = 0.01"
   ]
  },
  {
   "cell_type": "code",
   "execution_count": 19,
   "metadata": {},
   "outputs": [],
   "source": [
    "kernel = GPy.kern.RBF(input_dim=2, variance=variance, lengthscale=lengthscale)\n",
    "\n",
    "x = np.linspace(0., 1., quantization)\n",
    "xx = [[0., 0.] for _ in range(quantization ** 2)]\n",
    "for i in range(quantization):\n",
    "    for j in range(quantization):\n",
    "        xx[i * quantization + j][0] = x[i]\n",
    "        xx[i * quantization + j][1] = x[j]\n",
    "xx = np.asarray(xx)\n",
    "mu_rbf = np.zeros(quantization ** 2)\n",
    "cov_rbf = kernel.K(xx, xx) + sigma2 * np.eye(quantization ** 2)\n",
    "\n",
    "y_rbf = np.zeros(quantization ** 2)\n",
    "y_rbf_best = []\n",
    "\n",
    "\n",
    "def quantize(a):\n",
    "    return np.argmin(np.abs(np.linspace(0., 1., quantization) - a))\n",
    "\n",
    "\n",
    "def fun_rbf(a, b):\n",
    "    global y_rbf\n",
    "    global y_rbf_best\n",
    "    y_rbf = np.sqrt(1. - epsilon) * y_rbf + np.sqrt(epsilon) * np.random.multivariate_normal(mu_rbf, cov_rbf)\n",
    "    y_rbf_best.append(np.max(y_rbf))\n",
    "    i = quantize(a)\n",
    "    j = quantize(b)\n",
    "    return y_rbf[i + quantization + j]\n",
    "\n",
    "\n",
    "def objevtive_rbf(trial):\n",
    "    a, b = trial.suggest_joint('ab',\n",
    "                               [['uniform', 'a', 0., 1.],\n",
    "                                ['uniform', 'b', 0., 1.]])\n",
    "    return fun_rbf(a, b)"
   ]
  },
  {
   "cell_type": "code",
   "execution_count": 20,
   "metadata": {},
   "outputs": [],
   "source": [
    "n_trials = 100"
   ]
  },
  {
   "cell_type": "code",
   "execution_count": null,
   "metadata": {},
   "outputs": [],
   "source": [
    "sampler = optuna.samplers.GPSampler()\n",
    "study_rbf = optuna.create_study(sampler=sampler)\n",
    "study_rbf.optimize(lambda t: - objevtive_rbf(t), n_trials=n_trials)"
   ]
  },
  {
   "cell_type": "code",
   "execution_count": 15,
   "metadata": {
    "collapsed": true
   },
   "outputs": [
    {
     "ename": "NameError",
     "evalue": "name 'study_rbf' is not defined",
     "traceback": [
      "\u001b[0;31m---------------------------------------------------------------------------\u001b[0m",
      "\u001b[0;31mNameError\u001b[0m                                 Traceback (most recent call last)",
      "\u001b[0;32m<ipython-input-15-653091012266>\u001b[0m in \u001b[0;36m<module>\u001b[0;34m\u001b[0m\n\u001b[0;32m----> 1\u001b[0;31m \u001b[0mtrials\u001b[0m \u001b[0;34m=\u001b[0m \u001b[0mstudy_rbf\u001b[0m\u001b[0;34m.\u001b[0m\u001b[0mtrials\u001b[0m\u001b[0;34m\u001b[0m\u001b[0m\n\u001b[0m\u001b[1;32m      2\u001b[0m \u001b[0mtrial_values\u001b[0m \u001b[0;34m=\u001b[0m \u001b[0;34m[\u001b[0m\u001b[0mtrial\u001b[0m\u001b[0;34m.\u001b[0m\u001b[0mvalue\u001b[0m \u001b[0;32mfor\u001b[0m \u001b[0mtrial\u001b[0m \u001b[0;32min\u001b[0m \u001b[0mtrials\u001b[0m\u001b[0;34m]\u001b[0m\u001b[0;34m\u001b[0m\u001b[0m\n\u001b[1;32m      3\u001b[0m \u001b[0;34m\u001b[0m\u001b[0m\n\u001b[1;32m      4\u001b[0m \u001b[0;32massert\u001b[0m \u001b[0mlen\u001b[0m\u001b[0;34m(\u001b[0m\u001b[0mtrial_values\u001b[0m\u001b[0;34m)\u001b[0m \u001b[0;34m==\u001b[0m \u001b[0mlen\u001b[0m\u001b[0;34m(\u001b[0m\u001b[0my_rbf_best\u001b[0m\u001b[0;34m)\u001b[0m\u001b[0;34m\u001b[0m\u001b[0m\n\u001b[1;32m      5\u001b[0m \u001b[0;34m\u001b[0m\u001b[0m\n",
      "\u001b[0;31mNameError\u001b[0m: name 'study_rbf' is not defined"
     ],
     "output_type": "error"
    }
   ],
   "source": [
    "trials = study_rbf.trials\n",
    "trial_values = [trial.value for trial in trials]\n",
    "\n",
    "assert len(trial_values) == len(y_rbf_best)\n",
    "\n",
    "cum_regret = 0.\n",
    "avg_cum_regrets = []\n",
    "for t, best_value, trial_value in enumerate(zip(y_rbf_best, trial_values)):\n",
    "    cum_regret += best_value - trial_value\n",
    "    avg_cum_regrets.append(cum_regret / (t + 1))\n",
    "\n",
    "data = [\n",
    "    go.Scatter(x=np.arange(len(avg_cum_regrets)) + 1, y=avg_cum_regrets, mode='markers')\n",
    "]\n",
    "iplot(data, filename='syn_bogunovic_rbf')"
   ]
  },
  {
   "cell_type": "code",
   "execution_count": null,
   "metadata": {},
   "outputs": [],
   "source": []
  }
 ],
 "metadata": {
  "kernelspec": {
   "display_name": "Python 2",
   "language": "python",
   "name": "python2"
  },
  "language_info": {
   "codemirror_mode": {
    "name": "ipython",
    "version": 2
   },
   "file_extension": ".py",
   "mimetype": "text/x-python",
   "name": "python",
   "nbconvert_exporter": "python",
   "pygments_lexer": "ipython2",
   "version": "2.7.6"
  }
 },
 "nbformat": 4,
 "nbformat_minor": 0
}
