{
 "cells": [
  {
   "cell_type": "code",
   "execution_count": 1,
   "metadata": {},
   "outputs": [
    {
     "data": {
      "text/html": [
       "<script type=\"text/javascript\">window.PlotlyConfig = {MathJaxConfig: 'local'};</script><script type=\"text/javascript\">if (window.MathJax) {MathJax.Hub.Config({SVG: {font: \"STIX-Web\"}});}</script><script>requirejs.config({paths: { 'plotly': ['https://cdn.plot.ly/plotly-latest.min']},});if(!window._Plotly) {require(['plotly'],function(plotly) {window._Plotly=plotly;});}</script>"
      ],
      "text/vnd.plotly.v1+html": [
       "<script type=\"text/javascript\">window.PlotlyConfig = {MathJaxConfig: 'local'};</script><script type=\"text/javascript\">if (window.MathJax) {MathJax.Hub.Config({SVG: {font: \"STIX-Web\"}});}</script><script>requirejs.config({paths: { 'plotly': ['https://cdn.plot.ly/plotly-latest.min']},});if(!window._Plotly) {require(['plotly'],function(plotly) {window._Plotly=plotly;});}</script>"
      ]
     },
     "metadata": {},
     "output_type": "display_data"
    }
   ],
   "source": [
    "# This is necessary for jupyter to draw graphs offline.\n",
    "# Plotly tries to use cloud service to draw graphs by default.\n",
    "from plotly.offline import download_plotlyjs, init_notebook_mode, plot, iplot\n",
    "init_notebook_mode(connected=True)"
   ]
  },
  {
   "cell_type": "code",
   "execution_count": 2,
   "metadata": {},
   "outputs": [],
   "source": [
    "import GPy\n",
    "import optuna\n",
    "import numpy as np\n",
    "import plotly.figure_factory as ff\n",
    "import plotly.graph_objs as go\n",
    "import plotly.io as pio\n",
    "import time\n",
    "    \n",
    "\n",
    "seed = 123\n",
    "np.random.seed(seed=seed)"
   ]
  },
  {
   "cell_type": "code",
   "execution_count": 3,
   "metadata": {},
   "outputs": [
    {
     "data": {
      "text/plain": [
       "(300, 2500)"
      ]
     },
     "execution_count": 3,
     "metadata": {},
     "output_type": "execute_result"
    }
   ],
   "source": [
    "data = np.loadtxt('functions/bogunovic_matern52.csv', delimiter=',')\n",
    "data.shape"
   ]
  },
  {
   "cell_type": "code",
   "execution_count": 4,
   "metadata": {},
   "outputs": [
    {
     "data": {
      "text/plain": [
       "(300,)"
      ]
     },
     "execution_count": 4,
     "metadata": {},
     "output_type": "execute_result"
    }
   ],
   "source": [
    "best_values = np.max(data, axis=1)\n",
    "best_values.shape"
   ]
  },
  {
   "cell_type": "code",
   "execution_count": 5,
   "metadata": {},
   "outputs": [],
   "source": [
    "t = -1\n",
    "quantization = int(np.sqrt(data.shape[1]))\n",
    "\n",
    "def quantize(a):\n",
    "    return np.argmin(np.abs(np.linspace(0., 1., quantization) - a))\n",
    "\n",
    "\n",
    "def fun_rbf(a, b):\n",
    "    global t\n",
    "    t += 1\n",
    "    i = quantize(a)\n",
    "    j = quantize(b)\n",
    "    time.sleep(1)\n",
    "    return data[t][i + quantization + j]\n",
    "\n",
    "\n",
    "def objevtive_rbf(trial):\n",
    "    a, b = trial.suggest_joint('ab',\n",
    "                               [['uniform', 'a', 0., 1.],\n",
    "                                ['uniform', 'b', 0., 1.]])\n",
    "    return fun_rbf(a, b)"
   ]
  },
  {
   "cell_type": "code",
   "execution_count": 6,
   "metadata": {},
   "outputs": [],
   "source": [
    "n_trials = int(data.shape[0])"
   ]
  },
  {
   "cell_type": "code",
   "execution_count": 7,
   "metadata": {
    "scrolled": true
   },
   "outputs": [
    {
     "name": "stdout",
     "output_type": "stream",
     "text": [
      "sampling end!. 2019-04-17 16:38:08.962367 2019-04-17 16:38:08.962648\n"
     ]
    },
    {
     "name": "stderr",
     "output_type": "stream",
     "text": [
      "[I 2019-04-17 16:38:09,969] Finished a trial resulted in value: -0.02079104984127402. Current best value is -0.02079104984127402 with parameters: {'a': 0.4279188712380998, 'b': 0.1362582485095044, 'ab': [0.4279188712380998, 0.1362582485095044]}.\n"
     ]
    },
    {
     "name": "stdout",
     "output_type": "stream",
     "text": [
      "sampling end!. 2019-04-17 16:38:09.971317 2019-04-17 16:38:09.971571\n"
     ]
    },
    {
     "name": "stderr",
     "output_type": "stream",
     "text": [
      "[I 2019-04-17 16:38:10,973] Finished a trial resulted in value: -0.02700862192744403. Current best value is -0.02700862192744403 with parameters: {'a': 0.0703627513941758, 'b': 0.7617616903472294, 'ab': [0.0703627513941758, 0.7617616903472294]}.\n"
     ]
    },
    {
     "name": "stdout",
     "output_type": "stream",
     "text": [
      "sampling end!. 2019-04-17 16:38:10.976110 2019-04-17 16:38:10.976387\n"
     ]
    },
    {
     "name": "stderr",
     "output_type": "stream",
     "text": [
      "[I 2019-04-17 16:38:11,978] Finished a trial resulted in value: 0.024164450520468055. Current best value is -0.02700862192744403 with parameters: {'a': 0.0703627513941758, 'b': 0.7617616903472294, 'ab': [0.0703627513941758, 0.7617616903472294]}.\n"
     ]
    },
    {
     "name": "stdout",
     "output_type": "stream",
     "text": [
      "sampling end!. 2019-04-17 16:38:11.980444 2019-04-17 16:38:11.980852\n"
     ]
    },
    {
     "name": "stderr",
     "output_type": "stream",
     "text": [
      "[I 2019-04-17 16:38:12,985] Finished a trial resulted in value: -0.14483456160075936. Current best value is -0.14483456160075936 with parameters: {'a': 0.9755915035341056, 'b': 0.5633265275434421, 'ab': [0.9755915035341056, 0.5633265275434421]}.\n"
     ]
    },
    {
     "name": "stdout",
     "output_type": "stream",
     "text": [
      "sampling end!. 2019-04-17 16:38:13.001049 2019-04-17 16:38:13.001889\n"
     ]
    },
    {
     "name": "stderr",
     "output_type": "stream",
     "text": [
      "[I 2019-04-17 16:38:14,008] Finished a trial resulted in value: -0.17815459741176456. Current best value is -0.17815459741176456 with parameters: {'a': 0.6401346737735847, 'b': 0.885075190533519, 'ab': [0.6401346737735847, 0.885075190533519]}.\n"
     ]
    },
    {
     "name": "stdout",
     "output_type": "stream",
     "text": [
      "sampling end!. 2019-04-17 16:38:14.010362 2019-04-17 16:38:14.010850\n"
     ]
    },
    {
     "name": "stderr",
     "output_type": "stream",
     "text": [
      "[I 2019-04-17 16:38:15,013] Finished a trial resulted in value: -0.08786357506965942. Current best value is -0.17815459741176456 with parameters: {'a': 0.6401346737735847, 'b': 0.885075190533519, 'ab': [0.6401346737735847, 0.885075190533519]}.\n"
     ]
    },
    {
     "name": "stdout",
     "output_type": "stream",
     "text": [
      "sampling end!. 2019-04-17 16:38:15.015648 2019-04-17 16:38:15.016328\n"
     ]
    },
    {
     "name": "stderr",
     "output_type": "stream",
     "text": [
      "[I 2019-04-17 16:38:16,022] Finished a trial resulted in value: -0.3325454287750983. Current best value is -0.3325454287750983 with parameters: {'a': 0.9617590673509494, 'b': 0.987087641365478, 'ab': [0.9617590673509494, 0.987087641365478]}.\n"
     ]
    },
    {
     "name": "stdout",
     "output_type": "stream",
     "text": [
      "sampling end!. 2019-04-17 16:38:16.028103 2019-04-17 16:38:16.028869\n"
     ]
    },
    {
     "name": "stderr",
     "output_type": "stream",
     "text": [
      "[I 2019-04-17 16:38:17,035] Finished a trial resulted in value: -0.17376214649584373. Current best value is -0.3325454287750983 with parameters: {'a': 0.9617590673509494, 'b': 0.987087641365478, 'ab': [0.9617590673509494, 0.987087641365478]}.\n"
     ]
    },
    {
     "name": "stdout",
     "output_type": "stream",
     "text": [
      "sampling end!. 2019-04-17 16:38:17.037192 2019-04-17 16:38:17.037673\n"
     ]
    },
    {
     "name": "stderr",
     "output_type": "stream",
     "text": [
      "[I 2019-04-17 16:38:18,041] Finished a trial resulted in value: 0.04119609361392988. Current best value is -0.3325454287750983 with parameters: {'a': 0.9617590673509494, 'b': 0.987087641365478, 'ab': [0.9617590673509494, 0.987087641365478]}.\n"
     ]
    },
    {
     "name": "stdout",
     "output_type": "stream",
     "text": [
      "sampling end!. 2019-04-17 16:38:18.043794 2019-04-17 16:38:18.044935\n"
     ]
    },
    {
     "name": "stderr",
     "output_type": "stream",
     "text": [
      "[I 2019-04-17 16:38:19,050] Finished a trial resulted in value: 0.1621999635970077. Current best value is -0.3325454287750983 with parameters: {'a': 0.9617590673509494, 'b': 0.987087641365478, 'ab': [0.9617590673509494, 0.987087641365478]}.\n"
     ]
    },
    {
     "name": "stdout",
     "output_type": "stream",
     "text": [
      "The set cost function is ignored! LCB acquisition does not make sense with cost.\n"
     ]
    },
    {
     "name": "stderr",
     "output_type": "stream",
     "text": [
      "reconstraining parameters GP_regression.Mat52\n",
      "reconstraining parameters GP_regression.Gaussian_noise.variance\n"
     ]
    },
    {
     "name": "stdout",
     "output_type": "stream",
     "text": [
      "sampling end!. 2019-04-17 16:38:19.052468 2019-04-17 16:38:24.943566\n"
     ]
    },
    {
     "name": "stderr",
     "output_type": "stream",
     "text": [
      "[I 2019-04-17 16:38:25,947] Finished a trial resulted in value: 0.08573693165264136. Current best value is -0.3325454287750983 with parameters: {'a': 0.9617590673509494, 'b': 0.987087641365478, 'ab': [0.9617590673509494, 0.987087641365478]}.\n"
     ]
    },
    {
     "name": "stdout",
     "output_type": "stream",
     "text": [
      "The set cost function is ignored! LCB acquisition does not make sense with cost.\n"
     ]
    },
    {
     "name": "stderr",
     "output_type": "stream",
     "text": [
      "reconstraining parameters GP_regression.Mat52\n",
      "reconstraining parameters GP_regression.Gaussian_noise.variance\n"
     ]
    },
    {
     "name": "stdout",
     "output_type": "stream",
     "text": [
      "sampling end!. 2019-04-17 16:38:25.951099 2019-04-17 16:38:34.136855\n"
     ]
    },
    {
     "name": "stderr",
     "output_type": "stream",
     "text": [
      "[I 2019-04-17 16:38:35,139] Finished a trial resulted in value: 0.17217513964008607. Current best value is -0.3325454287750983 with parameters: {'a': 0.9617590673509494, 'b': 0.987087641365478, 'ab': [0.9617590673509494, 0.987087641365478]}.\n"
     ]
    },
    {
     "name": "stdout",
     "output_type": "stream",
     "text": [
      "The set cost function is ignored! LCB acquisition does not make sense with cost.\n"
     ]
    },
    {
     "name": "stderr",
     "output_type": "stream",
     "text": [
      "reconstraining parameters GP_regression.Mat52\n",
      "reconstraining parameters GP_regression.Gaussian_noise.variance\n"
     ]
    },
    {
     "name": "stdout",
     "output_type": "stream",
     "text": [
      "sampling end!. 2019-04-17 16:38:35.141651 2019-04-17 16:38:40.861177\n"
     ]
    },
    {
     "name": "stderr",
     "output_type": "stream",
     "text": [
      "[I 2019-04-17 16:38:41,866] Finished a trial resulted in value: 0.06403034050121913. Current best value is -0.3325454287750983 with parameters: {'a': 0.9617590673509494, 'b': 0.987087641365478, 'ab': [0.9617590673509494, 0.987087641365478]}.\n"
     ]
    },
    {
     "name": "stdout",
     "output_type": "stream",
     "text": [
      "The set cost function is ignored! LCB acquisition does not make sense with cost.\n"
     ]
    },
    {
     "name": "stderr",
     "output_type": "stream",
     "text": [
      "reconstraining parameters GP_regression.Mat52\n",
      "reconstraining parameters GP_regression.Gaussian_noise.variance\n"
     ]
    },
    {
     "name": "stdout",
     "output_type": "stream",
     "text": [
      "sampling end!. 2019-04-17 16:38:41.868713 2019-04-17 16:38:50.607351\n"
     ]
    },
    {
     "name": "stderr",
     "output_type": "stream",
     "text": [
      "[I 2019-04-17 16:38:51,611] Finished a trial resulted in value: 0.19594205636423223. Current best value is -0.3325454287750983 with parameters: {'a': 0.9617590673509494, 'b': 0.987087641365478, 'ab': [0.9617590673509494, 0.987087641365478]}.\n"
     ]
    },
    {
     "name": "stdout",
     "output_type": "stream",
     "text": [
      "The set cost function is ignored! LCB acquisition does not make sense with cost.\n"
     ]
    },
    {
     "name": "stderr",
     "output_type": "stream",
     "text": [
      "reconstraining parameters GP_regression.Mat52\n",
      "reconstraining parameters GP_regression.Gaussian_noise.variance\n"
     ]
    },
    {
     "name": "stdout",
     "output_type": "stream",
     "text": [
      "sampling end!. 2019-04-17 16:38:51.619936 2019-04-17 16:38:58.467238\n"
     ]
    },
    {
     "name": "stderr",
     "output_type": "stream",
     "text": [
      "[I 2019-04-17 16:38:59,474] Finished a trial resulted in value: 0.2549960742908212. Current best value is -0.3325454287750983 with parameters: {'a': 0.9617590673509494, 'b': 0.987087641365478, 'ab': [0.9617590673509494, 0.987087641365478]}.\n"
     ]
    },
    {
     "name": "stdout",
     "output_type": "stream",
     "text": [
      "The set cost function is ignored! LCB acquisition does not make sense with cost.\n"
     ]
    },
    {
     "name": "stderr",
     "output_type": "stream",
     "text": [
      "reconstraining parameters GP_regression.Mat52\n",
      "reconstraining parameters GP_regression.Gaussian_noise.variance\n"
     ]
    },
    {
     "name": "stdout",
     "output_type": "stream",
     "text": [
      "sampling end!. 2019-04-17 16:38:59.476678 2019-04-17 16:39:10.570605\n"
     ]
    },
    {
     "name": "stderr",
     "output_type": "stream",
     "text": [
      "[I 2019-04-17 16:39:11,578] Finished a trial resulted in value: -0.0142751543197791. Current best value is -0.3325454287750983 with parameters: {'a': 0.9617590673509494, 'b': 0.987087641365478, 'ab': [0.9617590673509494, 0.987087641365478]}.\n"
     ]
    },
    {
     "name": "stdout",
     "output_type": "stream",
     "text": [
      "The set cost function is ignored! LCB acquisition does not make sense with cost.\n"
     ]
    },
    {
     "name": "stderr",
     "output_type": "stream",
     "text": [
      "reconstraining parameters GP_regression.Mat52\n",
      "reconstraining parameters GP_regression.Gaussian_noise.variance\n"
     ]
    },
    {
     "name": "stdout",
     "output_type": "stream",
     "text": [
      "sampling end!. 2019-04-17 16:39:11.585098 2019-04-17 16:39:17.920468\n"
     ]
    },
    {
     "name": "stderr",
     "output_type": "stream",
     "text": [
      "[I 2019-04-17 16:39:18,924] Finished a trial resulted in value: 0.03226211689821712. Current best value is -0.3325454287750983 with parameters: {'a': 0.9617590673509494, 'b': 0.987087641365478, 'ab': [0.9617590673509494, 0.987087641365478]}.\n"
     ]
    },
    {
     "name": "stdout",
     "output_type": "stream",
     "text": [
      "The set cost function is ignored! LCB acquisition does not make sense with cost.\n"
     ]
    },
    {
     "name": "stderr",
     "output_type": "stream",
     "text": [
      "reconstraining parameters GP_regression.Mat52\n",
      "reconstraining parameters GP_regression.Gaussian_noise.variance\n"
     ]
    },
    {
     "name": "stdout",
     "output_type": "stream",
     "text": [
      "sampling end!. 2019-04-17 16:39:18.926353 2019-04-17 16:39:27.524324\n"
     ]
    },
    {
     "name": "stderr",
     "output_type": "stream",
     "text": [
      "[I 2019-04-17 16:39:28,528] Finished a trial resulted in value: 0.8190431268377298. Current best value is -0.3325454287750983 with parameters: {'a': 0.9617590673509494, 'b': 0.987087641365478, 'ab': [0.9617590673509494, 0.987087641365478]}.\n"
     ]
    },
    {
     "name": "stdout",
     "output_type": "stream",
     "text": [
      "The set cost function is ignored! LCB acquisition does not make sense with cost.\n"
     ]
    },
    {
     "name": "stderr",
     "output_type": "stream",
     "text": [
      "reconstraining parameters GP_regression.Mat52\n",
      "reconstraining parameters GP_regression.Gaussian_noise.variance\n"
     ]
    },
    {
     "name": "stdout",
     "output_type": "stream",
     "text": [
      "sampling end!. 2019-04-17 16:39:28.530817 2019-04-17 16:39:38.351128\n"
     ]
    },
    {
     "name": "stderr",
     "output_type": "stream",
     "text": [
      "[I 2019-04-17 16:39:39,354] Finished a trial resulted in value: 0.6941559298500743. Current best value is -0.3325454287750983 with parameters: {'a': 0.9617590673509494, 'b': 0.987087641365478, 'ab': [0.9617590673509494, 0.987087641365478]}.\n"
     ]
    },
    {
     "name": "stdout",
     "output_type": "stream",
     "text": [
      "The set cost function is ignored! LCB acquisition does not make sense with cost.\n"
     ]
    },
    {
     "name": "stderr",
     "output_type": "stream",
     "text": [
      "reconstraining parameters GP_regression.Mat52\n",
      "reconstraining parameters GP_regression.Gaussian_noise.variance\n"
     ]
    },
    {
     "name": "stdout",
     "output_type": "stream",
     "text": [
      "sampling end!. 2019-04-17 16:39:39.356259 2019-04-17 16:39:46.399592\n"
     ]
    },
    {
     "name": "stderr",
     "output_type": "stream",
     "text": [
      "[I 2019-04-17 16:39:47,404] Finished a trial resulted in value: 0.09568114068872258. Current best value is -0.3325454287750983 with parameters: {'a': 0.9617590673509494, 'b': 0.987087641365478, 'ab': [0.9617590673509494, 0.987087641365478]}.\n"
     ]
    },
    {
     "name": "stdout",
     "output_type": "stream",
     "text": [
      "The set cost function is ignored! LCB acquisition does not make sense with cost.\n"
     ]
    },
    {
     "name": "stderr",
     "output_type": "stream",
     "text": [
      "reconstraining parameters GP_regression.Mat52\n",
      "reconstraining parameters GP_regression.Gaussian_noise.variance\n"
     ]
    },
    {
     "name": "stdout",
     "output_type": "stream",
     "text": [
      "sampling end!. 2019-04-17 16:39:47.406570 2019-04-17 16:39:56.380235\n"
     ]
    },
    {
     "name": "stderr",
     "output_type": "stream",
     "text": [
      "[I 2019-04-17 16:39:57,387] Finished a trial resulted in value: 1.0122156719211055. Current best value is -0.3325454287750983 with parameters: {'a': 0.9617590673509494, 'b': 0.987087641365478, 'ab': [0.9617590673509494, 0.987087641365478]}.\n"
     ]
    },
    {
     "name": "stdout",
     "output_type": "stream",
     "text": [
      "The set cost function is ignored! LCB acquisition does not make sense with cost.\n"
     ]
    },
    {
     "name": "stderr",
     "output_type": "stream",
     "text": [
      "reconstraining parameters GP_regression.Mat52\n",
      "reconstraining parameters GP_regression.Gaussian_noise.variance\n"
     ]
    },
    {
     "name": "stdout",
     "output_type": "stream",
     "text": [
      "sampling end!. 2019-04-17 16:39:57.389400 2019-04-17 16:40:12.449335\n"
     ]
    },
    {
     "name": "stderr",
     "output_type": "stream",
     "text": [
      "[I 2019-04-17 16:40:13,457] Finished a trial resulted in value: 0.015649281541008163. Current best value is -0.3325454287750983 with parameters: {'a': 0.9617590673509494, 'b': 0.987087641365478, 'ab': [0.9617590673509494, 0.987087641365478]}.\n"
     ]
    },
    {
     "name": "stdout",
     "output_type": "stream",
     "text": [
      "The set cost function is ignored! LCB acquisition does not make sense with cost.\n"
     ]
    },
    {
     "name": "stderr",
     "output_type": "stream",
     "text": [
      "reconstraining parameters GP_regression.Mat52\n",
      "reconstraining parameters GP_regression.Gaussian_noise.variance\n"
     ]
    },
    {
     "name": "stdout",
     "output_type": "stream",
     "text": [
      "sampling end!. 2019-04-17 16:40:13.459741 2019-04-17 16:40:20.749903\n"
     ]
    },
    {
     "name": "stderr",
     "output_type": "stream",
     "text": [
      "[I 2019-04-17 16:40:21,760] Finished a trial resulted in value: 0.8818589254502402. Current best value is -0.3325454287750983 with parameters: {'a': 0.9617590673509494, 'b': 0.987087641365478, 'ab': [0.9617590673509494, 0.987087641365478]}.\n"
     ]
    },
    {
     "name": "stdout",
     "output_type": "stream",
     "text": [
      "The set cost function is ignored! LCB acquisition does not make sense with cost.\n"
     ]
    },
    {
     "name": "stderr",
     "output_type": "stream",
     "text": [
      "reconstraining parameters GP_regression.Mat52\n",
      "reconstraining parameters GP_regression.Gaussian_noise.variance\n"
     ]
    },
    {
     "name": "stdout",
     "output_type": "stream",
     "text": [
      "sampling end!. 2019-04-17 16:40:21.765721 2019-04-17 16:40:30.464651\n"
     ]
    },
    {
     "name": "stderr",
     "output_type": "stream",
     "text": [
      "[I 2019-04-17 16:40:31,471] Finished a trial resulted in value: 0.3964143852399325. Current best value is -0.3325454287750983 with parameters: {'a': 0.9617590673509494, 'b': 0.987087641365478, 'ab': [0.9617590673509494, 0.987087641365478]}.\n"
     ]
    },
    {
     "name": "stdout",
     "output_type": "stream",
     "text": [
      "The set cost function is ignored! LCB acquisition does not make sense with cost.\n"
     ]
    },
    {
     "name": "stderr",
     "output_type": "stream",
     "text": [
      "reconstraining parameters GP_regression.Mat52\n",
      "reconstraining parameters GP_regression.Gaussian_noise.variance\n"
     ]
    },
    {
     "name": "stdout",
     "output_type": "stream",
     "text": [
      "sampling end!. 2019-04-17 16:40:31.473334 2019-04-17 16:40:38.855013\n"
     ]
    },
    {
     "name": "stderr",
     "output_type": "stream",
     "text": [
      "[I 2019-04-17 16:40:39,861] Finished a trial resulted in value: 0.37922594809699633. Current best value is -0.3325454287750983 with parameters: {'a': 0.9617590673509494, 'b': 0.987087641365478, 'ab': [0.9617590673509494, 0.987087641365478]}.\n"
     ]
    },
    {
     "name": "stdout",
     "output_type": "stream",
     "text": [
      "The set cost function is ignored! LCB acquisition does not make sense with cost.\n"
     ]
    },
    {
     "name": "stderr",
     "output_type": "stream",
     "text": [
      "reconstraining parameters GP_regression.Mat52\n",
      "reconstraining parameters GP_regression.Gaussian_noise.variance\n"
     ]
    },
    {
     "name": "stdout",
     "output_type": "stream",
     "text": [
      "sampling end!. 2019-04-17 16:40:39.863258 2019-04-17 16:40:46.269838\n"
     ]
    },
    {
     "name": "stderr",
     "output_type": "stream",
     "text": [
      "[I 2019-04-17 16:40:47,277] Finished a trial resulted in value: 0.8673699340620027. Current best value is -0.3325454287750983 with parameters: {'a': 0.9617590673509494, 'b': 0.987087641365478, 'ab': [0.9617590673509494, 0.987087641365478]}.\n"
     ]
    },
    {
     "name": "stdout",
     "output_type": "stream",
     "text": [
      "The set cost function is ignored! LCB acquisition does not make sense with cost.\n"
     ]
    },
    {
     "name": "stderr",
     "output_type": "stream",
     "text": [
      "reconstraining parameters GP_regression.Mat52\n",
      "reconstraining parameters GP_regression.Gaussian_noise.variance\n"
     ]
    },
    {
     "name": "stdout",
     "output_type": "stream",
     "text": [
      "sampling end!. 2019-04-17 16:40:47.280028 2019-04-17 16:40:53.457885\n"
     ]
    },
    {
     "name": "stderr",
     "output_type": "stream",
     "text": [
      "[I 2019-04-17 16:40:54,463] Finished a trial resulted in value: 0.20030209875828303. Current best value is -0.3325454287750983 with parameters: {'a': 0.9617590673509494, 'b': 0.987087641365478, 'ab': [0.9617590673509494, 0.987087641365478]}.\n"
     ]
    },
    {
     "name": "stdout",
     "output_type": "stream",
     "text": [
      "The set cost function is ignored! LCB acquisition does not make sense with cost.\n"
     ]
    },
    {
     "name": "stderr",
     "output_type": "stream",
     "text": [
      "reconstraining parameters GP_regression.Mat52\n",
      "reconstraining parameters GP_regression.Gaussian_noise.variance\n"
     ]
    },
    {
     "name": "stdout",
     "output_type": "stream",
     "text": [
      "sampling end!. 2019-04-17 16:40:54.464930 2019-04-17 16:41:04.888351\n"
     ]
    },
    {
     "name": "stderr",
     "output_type": "stream",
     "text": [
      "[I 2019-04-17 16:41:05,894] Finished a trial resulted in value: 0.0376329277139507. Current best value is -0.3325454287750983 with parameters: {'a': 0.9617590673509494, 'b': 0.987087641365478, 'ab': [0.9617590673509494, 0.987087641365478]}.\n"
     ]
    },
    {
     "name": "stdout",
     "output_type": "stream",
     "text": [
      "The set cost function is ignored! LCB acquisition does not make sense with cost.\n"
     ]
    },
    {
     "name": "stderr",
     "output_type": "stream",
     "text": [
      "reconstraining parameters GP_regression.Mat52\n",
      "reconstraining parameters GP_regression.Gaussian_noise.variance\n"
     ]
    },
    {
     "name": "stdout",
     "output_type": "stream",
     "text": [
      "sampling end!. 2019-04-17 16:41:05.896340 2019-04-17 16:41:16.508704\n"
     ]
    },
    {
     "name": "stderr",
     "output_type": "stream",
     "text": [
      "[I 2019-04-17 16:41:17,514] Finished a trial resulted in value: 0.11229016527984963. Current best value is -0.3325454287750983 with parameters: {'a': 0.9617590673509494, 'b': 0.987087641365478, 'ab': [0.9617590673509494, 0.987087641365478]}.\n"
     ]
    },
    {
     "name": "stdout",
     "output_type": "stream",
     "text": [
      "The set cost function is ignored! LCB acquisition does not make sense with cost.\n"
     ]
    },
    {
     "name": "stderr",
     "output_type": "stream",
     "text": [
      "reconstraining parameters GP_regression.Mat52\n",
      "reconstraining parameters GP_regression.Gaussian_noise.variance\n"
     ]
    },
    {
     "name": "stdout",
     "output_type": "stream",
     "text": [
      "sampling end!. 2019-04-17 16:41:17.516770 2019-04-17 16:41:23.465114\n"
     ]
    },
    {
     "name": "stderr",
     "output_type": "stream",
     "text": [
      "[I 2019-04-17 16:41:24,470] Finished a trial resulted in value: 0.052739817662686594. Current best value is -0.3325454287750983 with parameters: {'a': 0.9617590673509494, 'b': 0.987087641365478, 'ab': [0.9617590673509494, 0.987087641365478]}.\n"
     ]
    },
    {
     "name": "stdout",
     "output_type": "stream",
     "text": [
      "The set cost function is ignored! LCB acquisition does not make sense with cost.\n"
     ]
    },
    {
     "name": "stderr",
     "output_type": "stream",
     "text": [
      "reconstraining parameters GP_regression.Mat52\n",
      "reconstraining parameters GP_regression.Gaussian_noise.variance\n"
     ]
    },
    {
     "name": "stdout",
     "output_type": "stream",
     "text": [
      "sampling end!. 2019-04-17 16:41:24.472285 2019-04-17 16:41:34.407315\n"
     ]
    },
    {
     "name": "stderr",
     "output_type": "stream",
     "text": [
      "[I 2019-04-17 16:41:35,411] Finished a trial resulted in value: 0.7872695509316681. Current best value is -0.3325454287750983 with parameters: {'a': 0.9617590673509494, 'b': 0.987087641365478, 'ab': [0.9617590673509494, 0.987087641365478]}.\n"
     ]
    },
    {
     "name": "stdout",
     "output_type": "stream",
     "text": [
      "The set cost function is ignored! LCB acquisition does not make sense with cost.\n"
     ]
    },
    {
     "name": "stderr",
     "output_type": "stream",
     "text": [
      "reconstraining parameters GP_regression.Mat52\n",
      "reconstraining parameters GP_regression.Gaussian_noise.variance\n"
     ]
    },
    {
     "name": "stdout",
     "output_type": "stream",
     "text": [
      "sampling end!. 2019-04-17 16:41:35.413423 2019-04-17 16:41:48.061847\n"
     ]
    },
    {
     "name": "stderr",
     "output_type": "stream",
     "text": [
      "[I 2019-04-17 16:41:49,070] Finished a trial resulted in value: 0.007913006437626602. Current best value is -0.3325454287750983 with parameters: {'a': 0.9617590673509494, 'b': 0.987087641365478, 'ab': [0.9617590673509494, 0.987087641365478]}.\n"
     ]
    },
    {
     "name": "stdout",
     "output_type": "stream",
     "text": [
      "The set cost function is ignored! LCB acquisition does not make sense with cost.\n"
     ]
    },
    {
     "name": "stderr",
     "output_type": "stream",
     "text": [
      "reconstraining parameters GP_regression.Mat52\n",
      "reconstraining parameters GP_regression.Gaussian_noise.variance\n"
     ]
    },
    {
     "name": "stdout",
     "output_type": "stream",
     "text": [
      "sampling end!. 2019-04-17 16:41:49.072296 2019-04-17 16:41:54.905559\n"
     ]
    },
    {
     "name": "stderr",
     "output_type": "stream",
     "text": [
      "[I 2019-04-17 16:41:55,910] Finished a trial resulted in value: 0.06417282344989728. Current best value is -0.3325454287750983 with parameters: {'a': 0.9617590673509494, 'b': 0.987087641365478, 'ab': [0.9617590673509494, 0.987087641365478]}.\n"
     ]
    },
    {
     "name": "stdout",
     "output_type": "stream",
     "text": [
      "The set cost function is ignored! LCB acquisition does not make sense with cost.\n"
     ]
    },
    {
     "name": "stderr",
     "output_type": "stream",
     "text": [
      "reconstraining parameters GP_regression.Mat52\n",
      "reconstraining parameters GP_regression.Gaussian_noise.variance\n"
     ]
    },
    {
     "name": "stdout",
     "output_type": "stream",
     "text": [
      "sampling end!. 2019-04-17 16:41:55.912137 2019-04-17 16:42:08.567357\n"
     ]
    },
    {
     "name": "stderr",
     "output_type": "stream",
     "text": [
      "[I 2019-04-17 16:42:09,578] Finished a trial resulted in value: 0.14825900767465372. Current best value is -0.3325454287750983 with parameters: {'a': 0.9617590673509494, 'b': 0.987087641365478, 'ab': [0.9617590673509494, 0.987087641365478]}.\n"
     ]
    },
    {
     "name": "stdout",
     "output_type": "stream",
     "text": [
      "The set cost function is ignored! LCB acquisition does not make sense with cost.\n"
     ]
    },
    {
     "name": "stderr",
     "output_type": "stream",
     "text": [
      "reconstraining parameters GP_regression.Mat52\n",
      "reconstraining parameters GP_regression.Gaussian_noise.variance\n"
     ]
    },
    {
     "name": "stdout",
     "output_type": "stream",
     "text": [
      "sampling end!. 2019-04-17 16:42:09.580833 2019-04-17 16:42:19.237344\n"
     ]
    },
    {
     "name": "stderr",
     "output_type": "stream",
     "text": [
      "[I 2019-04-17 16:42:20,242] Finished a trial resulted in value: 0.20427417934347053. Current best value is -0.3325454287750983 with parameters: {'a': 0.9617590673509494, 'b': 0.987087641365478, 'ab': [0.9617590673509494, 0.987087641365478]}.\n"
     ]
    },
    {
     "name": "stdout",
     "output_type": "stream",
     "text": [
      "The set cost function is ignored! LCB acquisition does not make sense with cost.\n"
     ]
    },
    {
     "name": "stderr",
     "output_type": "stream",
     "text": [
      "reconstraining parameters GP_regression.Mat52\n",
      "reconstraining parameters GP_regression.Gaussian_noise.variance\n"
     ]
    },
    {
     "name": "stdout",
     "output_type": "stream",
     "text": [
      "sampling end!. 2019-04-17 16:42:20.244191 2019-04-17 16:42:32.053945\n"
     ]
    },
    {
     "name": "stderr",
     "output_type": "stream",
     "text": [
      "[I 2019-04-17 16:42:33,060] Finished a trial resulted in value: 0.5964157820948568. Current best value is -0.3325454287750983 with parameters: {'a': 0.9617590673509494, 'b': 0.987087641365478, 'ab': [0.9617590673509494, 0.987087641365478]}.\n"
     ]
    },
    {
     "name": "stdout",
     "output_type": "stream",
     "text": [
      "The set cost function is ignored! LCB acquisition does not make sense with cost.\n"
     ]
    },
    {
     "name": "stderr",
     "output_type": "stream",
     "text": [
      "reconstraining parameters GP_regression.Mat52\n",
      "reconstraining parameters GP_regression.Gaussian_noise.variance\n"
     ]
    },
    {
     "name": "stdout",
     "output_type": "stream",
     "text": [
      "sampling end!. 2019-04-17 16:42:33.062207 2019-04-17 16:42:41.599567\n"
     ]
    },
    {
     "name": "stderr",
     "output_type": "stream",
     "text": [
      "[I 2019-04-17 16:42:42,607] Finished a trial resulted in value: 0.3356910008478453. Current best value is -0.3325454287750983 with parameters: {'a': 0.9617590673509494, 'b': 0.987087641365478, 'ab': [0.9617590673509494, 0.987087641365478]}.\n"
     ]
    },
    {
     "name": "stdout",
     "output_type": "stream",
     "text": [
      "The set cost function is ignored! LCB acquisition does not make sense with cost.\n"
     ]
    },
    {
     "name": "stderr",
     "output_type": "stream",
     "text": [
      "reconstraining parameters GP_regression.Mat52\n",
      "reconstraining parameters GP_regression.Gaussian_noise.variance\n"
     ]
    },
    {
     "name": "stdout",
     "output_type": "stream",
     "text": [
      "sampling end!. 2019-04-17 16:42:42.609576 2019-04-17 16:42:48.535329\n"
     ]
    },
    {
     "name": "stderr",
     "output_type": "stream",
     "text": [
      "[I 2019-04-17 16:42:49,540] Finished a trial resulted in value: 0.36711454765492. Current best value is -0.3325454287750983 with parameters: {'a': 0.9617590673509494, 'b': 0.987087641365478, 'ab': [0.9617590673509494, 0.987087641365478]}.\n"
     ]
    },
    {
     "name": "stdout",
     "output_type": "stream",
     "text": [
      "The set cost function is ignored! LCB acquisition does not make sense with cost.\n"
     ]
    },
    {
     "name": "stderr",
     "output_type": "stream",
     "text": [
      "reconstraining parameters GP_regression.Mat52\n",
      "reconstraining parameters GP_regression.Gaussian_noise.variance\n"
     ]
    },
    {
     "name": "stdout",
     "output_type": "stream",
     "text": [
      "sampling end!. 2019-04-17 16:42:49.542480 2019-04-17 16:42:55.694823\n"
     ]
    },
    {
     "name": "stderr",
     "output_type": "stream",
     "text": [
      "[I 2019-04-17 16:42:56,701] Finished a trial resulted in value: 0.33073530670143403. Current best value is -0.3325454287750983 with parameters: {'a': 0.9617590673509494, 'b': 0.987087641365478, 'ab': [0.9617590673509494, 0.987087641365478]}.\n"
     ]
    },
    {
     "name": "stdout",
     "output_type": "stream",
     "text": [
      "The set cost function is ignored! LCB acquisition does not make sense with cost.\n"
     ]
    },
    {
     "name": "stderr",
     "output_type": "stream",
     "text": [
      "reconstraining parameters GP_regression.Mat52\n",
      "reconstraining parameters GP_regression.Gaussian_noise.variance\n"
     ]
    },
    {
     "name": "stdout",
     "output_type": "stream",
     "text": [
      "sampling end!. 2019-04-17 16:42:56.703189 2019-04-17 16:43:15.311517\n"
     ]
    },
    {
     "name": "stderr",
     "output_type": "stream",
     "text": [
      "[I 2019-04-17 16:43:16,321] Finished a trial resulted in value: 0.44269029412720384. Current best value is -0.3325454287750983 with parameters: {'a': 0.9617590673509494, 'b': 0.987087641365478, 'ab': [0.9617590673509494, 0.987087641365478]}.\n"
     ]
    },
    {
     "name": "stdout",
     "output_type": "stream",
     "text": [
      "The set cost function is ignored! LCB acquisition does not make sense with cost.\n"
     ]
    },
    {
     "name": "stderr",
     "output_type": "stream",
     "text": [
      "reconstraining parameters GP_regression.Mat52\n",
      "reconstraining parameters GP_regression.Gaussian_noise.variance\n"
     ]
    },
    {
     "name": "stdout",
     "output_type": "stream",
     "text": [
      "sampling end!. 2019-04-17 16:43:16.323083 2019-04-17 16:43:25.173968\n"
     ]
    },
    {
     "name": "stderr",
     "output_type": "stream",
     "text": [
      "[I 2019-04-17 16:43:26,184] Finished a trial resulted in value: 0.35047173668086384. Current best value is -0.3325454287750983 with parameters: {'a': 0.9617590673509494, 'b': 0.987087641365478, 'ab': [0.9617590673509494, 0.987087641365478]}.\n"
     ]
    },
    {
     "name": "stdout",
     "output_type": "stream",
     "text": [
      "The set cost function is ignored! LCB acquisition does not make sense with cost.\n"
     ]
    },
    {
     "name": "stderr",
     "output_type": "stream",
     "text": [
      "reconstraining parameters GP_regression.Mat52\n",
      "reconstraining parameters GP_regression.Gaussian_noise.variance\n"
     ]
    },
    {
     "name": "stdout",
     "output_type": "stream",
     "text": [
      "sampling end!. 2019-04-17 16:43:26.185961 2019-04-17 16:43:36.994286\n"
     ]
    },
    {
     "name": "stderr",
     "output_type": "stream",
     "text": [
      "[I 2019-04-17 16:43:37,999] Finished a trial resulted in value: 0.1831751649861408. Current best value is -0.3325454287750983 with parameters: {'a': 0.9617590673509494, 'b': 0.987087641365478, 'ab': [0.9617590673509494, 0.987087641365478]}.\n"
     ]
    },
    {
     "name": "stdout",
     "output_type": "stream",
     "text": [
      "The set cost function is ignored! LCB acquisition does not make sense with cost.\n"
     ]
    },
    {
     "name": "stderr",
     "output_type": "stream",
     "text": [
      "reconstraining parameters GP_regression.Mat52\n",
      "reconstraining parameters GP_regression.Gaussian_noise.variance\n"
     ]
    },
    {
     "name": "stdout",
     "output_type": "stream",
     "text": [
      "sampling end!. 2019-04-17 16:43:38.001658 2019-04-17 16:43:48.996793\n"
     ]
    },
    {
     "name": "stderr",
     "output_type": "stream",
     "text": [
      "[I 2019-04-17 16:43:50,002] Finished a trial resulted in value: 0.12284816115251021. Current best value is -0.3325454287750983 with parameters: {'a': 0.9617590673509494, 'b': 0.987087641365478, 'ab': [0.9617590673509494, 0.987087641365478]}.\n"
     ]
    },
    {
     "name": "stdout",
     "output_type": "stream",
     "text": [
      "The set cost function is ignored! LCB acquisition does not make sense with cost.\n"
     ]
    },
    {
     "name": "stderr",
     "output_type": "stream",
     "text": [
      "reconstraining parameters GP_regression.Mat52\n",
      "reconstraining parameters GP_regression.Gaussian_noise.variance\n"
     ]
    },
    {
     "name": "stdout",
     "output_type": "stream",
     "text": [
      "sampling end!. 2019-04-17 16:43:50.004665 2019-04-17 16:43:56.827012\n"
     ]
    },
    {
     "name": "stderr",
     "output_type": "stream",
     "text": [
      "[I 2019-04-17 16:43:57,834] Finished a trial resulted in value: 0.033058896120013295. Current best value is -0.3325454287750983 with parameters: {'a': 0.9617590673509494, 'b': 0.987087641365478, 'ab': [0.9617590673509494, 0.987087641365478]}.\n"
     ]
    },
    {
     "name": "stdout",
     "output_type": "stream",
     "text": [
      "The set cost function is ignored! LCB acquisition does not make sense with cost.\n"
     ]
    },
    {
     "name": "stderr",
     "output_type": "stream",
     "text": [
      "reconstraining parameters GP_regression.Mat52\n",
      "reconstraining parameters GP_regression.Gaussian_noise.variance\n"
     ]
    },
    {
     "name": "stdout",
     "output_type": "stream",
     "text": [
      "sampling end!. 2019-04-17 16:43:57.836571 2019-04-17 16:44:05.748736\n"
     ]
    },
    {
     "name": "stderr",
     "output_type": "stream",
     "text": [
      "[I 2019-04-17 16:44:06,756] Finished a trial resulted in value: 0.6334800418086314. Current best value is -0.3325454287750983 with parameters: {'a': 0.9617590673509494, 'b': 0.987087641365478, 'ab': [0.9617590673509494, 0.987087641365478]}.\n"
     ]
    },
    {
     "name": "stdout",
     "output_type": "stream",
     "text": [
      "The set cost function is ignored! LCB acquisition does not make sense with cost.\n"
     ]
    },
    {
     "name": "stderr",
     "output_type": "stream",
     "text": [
      "reconstraining parameters GP_regression.Mat52\n",
      "reconstraining parameters GP_regression.Gaussian_noise.variance\n"
     ]
    },
    {
     "name": "stdout",
     "output_type": "stream",
     "text": [
      "sampling end!. 2019-04-17 16:44:06.758651 2019-04-17 16:44:13.562623\n"
     ]
    },
    {
     "name": "stderr",
     "output_type": "stream",
     "text": [
      "[I 2019-04-17 16:44:14,571] Finished a trial resulted in value: -0.01626471095292776. Current best value is -0.3325454287750983 with parameters: {'a': 0.9617590673509494, 'b': 0.987087641365478, 'ab': [0.9617590673509494, 0.987087641365478]}.\n"
     ]
    },
    {
     "name": "stdout",
     "output_type": "stream",
     "text": [
      "The set cost function is ignored! LCB acquisition does not make sense with cost.\n"
     ]
    },
    {
     "name": "stderr",
     "output_type": "stream",
     "text": [
      "reconstraining parameters GP_regression.Mat52\n",
      "reconstraining parameters GP_regression.Gaussian_noise.variance\n"
     ]
    },
    {
     "name": "stdout",
     "output_type": "stream",
     "text": [
      "sampling end!. 2019-04-17 16:44:14.573845 2019-04-17 16:44:22.011786\n"
     ]
    },
    {
     "name": "stderr",
     "output_type": "stream",
     "text": [
      "[I 2019-04-17 16:44:23,021] Finished a trial resulted in value: -0.2147963587993746. Current best value is -0.3325454287750983 with parameters: {'a': 0.9617590673509494, 'b': 0.987087641365478, 'ab': [0.9617590673509494, 0.987087641365478]}.\n"
     ]
    },
    {
     "name": "stdout",
     "output_type": "stream",
     "text": [
      "The set cost function is ignored! LCB acquisition does not make sense with cost.\n"
     ]
    },
    {
     "name": "stderr",
     "output_type": "stream",
     "text": [
      "reconstraining parameters GP_regression.Mat52\n",
      "reconstraining parameters GP_regression.Gaussian_noise.variance\n"
     ]
    },
    {
     "name": "stdout",
     "output_type": "stream",
     "text": [
      "sampling end!. 2019-04-17 16:44:23.023675 2019-04-17 16:44:29.070688\n"
     ]
    },
    {
     "name": "stderr",
     "output_type": "stream",
     "text": [
      "[I 2019-04-17 16:44:30,079] Finished a trial resulted in value: -0.16182985671636696. Current best value is -0.3325454287750983 with parameters: {'a': 0.9617590673509494, 'b': 0.987087641365478, 'ab': [0.9617590673509494, 0.987087641365478]}.\n"
     ]
    },
    {
     "name": "stdout",
     "output_type": "stream",
     "text": [
      "The set cost function is ignored! LCB acquisition does not make sense with cost.\n"
     ]
    },
    {
     "name": "stderr",
     "output_type": "stream",
     "text": [
      "reconstraining parameters GP_regression.Mat52\n",
      "reconstraining parameters GP_regression.Gaussian_noise.variance\n"
     ]
    },
    {
     "name": "stdout",
     "output_type": "stream",
     "text": [
      "sampling end!. 2019-04-17 16:44:30.081735 2019-04-17 16:44:42.953020\n"
     ]
    },
    {
     "name": "stderr",
     "output_type": "stream",
     "text": [
      "[I 2019-04-17 16:44:43,959] Finished a trial resulted in value: -0.23765472361902412. Current best value is -0.3325454287750983 with parameters: {'a': 0.9617590673509494, 'b': 0.987087641365478, 'ab': [0.9617590673509494, 0.987087641365478]}.\n"
     ]
    },
    {
     "name": "stdout",
     "output_type": "stream",
     "text": [
      "The set cost function is ignored! LCB acquisition does not make sense with cost.\n"
     ]
    },
    {
     "name": "stderr",
     "output_type": "stream",
     "text": [
      "reconstraining parameters GP_regression.Mat52\n",
      "reconstraining parameters GP_regression.Gaussian_noise.variance\n"
     ]
    },
    {
     "name": "stdout",
     "output_type": "stream",
     "text": [
      "sampling end!. 2019-04-17 16:44:43.961476 2019-04-17 16:44:52.955457\n"
     ]
    },
    {
     "name": "stderr",
     "output_type": "stream",
     "text": [
      "[I 2019-04-17 16:44:53,964] Finished a trial resulted in value: 1.2272395847370492. Current best value is -0.3325454287750983 with parameters: {'a': 0.9617590673509494, 'b': 0.987087641365478, 'ab': [0.9617590673509494, 0.987087641365478]}.\n"
     ]
    },
    {
     "name": "stdout",
     "output_type": "stream",
     "text": [
      "The set cost function is ignored! LCB acquisition does not make sense with cost.\n"
     ]
    },
    {
     "name": "stderr",
     "output_type": "stream",
     "text": [
      "reconstraining parameters GP_regression.Mat52\n",
      "reconstraining parameters GP_regression.Gaussian_noise.variance\n"
     ]
    },
    {
     "name": "stdout",
     "output_type": "stream",
     "text": [
      "sampling end!. 2019-04-17 16:44:53.966476 2019-04-17 16:45:00.048683\n"
     ]
    },
    {
     "name": "stderr",
     "output_type": "stream",
     "text": [
      "[I 2019-04-17 16:45:01,059] Finished a trial resulted in value: -0.17800778016879515. Current best value is -0.3325454287750983 with parameters: {'a': 0.9617590673509494, 'b': 0.987087641365478, 'ab': [0.9617590673509494, 0.987087641365478]}.\n"
     ]
    },
    {
     "name": "stdout",
     "output_type": "stream",
     "text": [
      "The set cost function is ignored! LCB acquisition does not make sense with cost.\n"
     ]
    },
    {
     "name": "stderr",
     "output_type": "stream",
     "text": [
      "reconstraining parameters GP_regression.Mat52\n",
      "reconstraining parameters GP_regression.Gaussian_noise.variance\n"
     ]
    },
    {
     "name": "stdout",
     "output_type": "stream",
     "text": [
      "sampling end!. 2019-04-17 16:45:01.062162 2019-04-17 16:45:09.323096\n"
     ]
    },
    {
     "name": "stderr",
     "output_type": "stream",
     "text": [
      "[I 2019-04-17 16:45:10,336] Finished a trial resulted in value: -0.07554384458492745. Current best value is -0.3325454287750983 with parameters: {'a': 0.9617590673509494, 'b': 0.987087641365478, 'ab': [0.9617590673509494, 0.987087641365478]}.\n"
     ]
    },
    {
     "name": "stdout",
     "output_type": "stream",
     "text": [
      "The set cost function is ignored! LCB acquisition does not make sense with cost.\n"
     ]
    },
    {
     "name": "stderr",
     "output_type": "stream",
     "text": [
      "reconstraining parameters GP_regression.Mat52\n",
      "reconstraining parameters GP_regression.Gaussian_noise.variance\n"
     ]
    },
    {
     "name": "stdout",
     "output_type": "stream",
     "text": [
      "sampling end!. 2019-04-17 16:45:10.338717 2019-04-17 16:45:21.297067\n"
     ]
    },
    {
     "name": "stderr",
     "output_type": "stream",
     "text": [
      "[I 2019-04-17 16:45:22,306] Finished a trial resulted in value: 0.09853845285192667. Current best value is -0.3325454287750983 with parameters: {'a': 0.9617590673509494, 'b': 0.987087641365478, 'ab': [0.9617590673509494, 0.987087641365478]}.\n"
     ]
    },
    {
     "name": "stdout",
     "output_type": "stream",
     "text": [
      "The set cost function is ignored! LCB acquisition does not make sense with cost.\n"
     ]
    },
    {
     "name": "stderr",
     "output_type": "stream",
     "text": [
      "reconstraining parameters GP_regression.Mat52\n",
      "reconstraining parameters GP_regression.Gaussian_noise.variance\n"
     ]
    },
    {
     "name": "stdout",
     "output_type": "stream",
     "text": [
      "sampling end!. 2019-04-17 16:45:22.307995 2019-04-17 16:45:32.314919\n"
     ]
    },
    {
     "name": "stderr",
     "output_type": "stream",
     "text": [
      "[I 2019-04-17 16:45:33,322] Finished a trial resulted in value: 0.35555074158321365. Current best value is -0.3325454287750983 with parameters: {'a': 0.9617590673509494, 'b': 0.987087641365478, 'ab': [0.9617590673509494, 0.987087641365478]}.\n"
     ]
    },
    {
     "name": "stdout",
     "output_type": "stream",
     "text": [
      "The set cost function is ignored! LCB acquisition does not make sense with cost.\n"
     ]
    },
    {
     "name": "stderr",
     "output_type": "stream",
     "text": [
      "reconstraining parameters GP_regression.Mat52\n",
      "reconstraining parameters GP_regression.Gaussian_noise.variance\n"
     ]
    },
    {
     "name": "stdout",
     "output_type": "stream",
     "text": [
      "sampling end!. 2019-04-17 16:45:33.324552 2019-04-17 16:45:56.705167\n"
     ]
    },
    {
     "name": "stderr",
     "output_type": "stream",
     "text": [
      "[I 2019-04-17 16:45:57,712] Finished a trial resulted in value: 0.9500950773643078. Current best value is -0.3325454287750983 with parameters: {'a': 0.9617590673509494, 'b': 0.987087641365478, 'ab': [0.9617590673509494, 0.987087641365478]}.\n"
     ]
    },
    {
     "name": "stdout",
     "output_type": "stream",
     "text": [
      "The set cost function is ignored! LCB acquisition does not make sense with cost.\n"
     ]
    },
    {
     "name": "stderr",
     "output_type": "stream",
     "text": [
      "reconstraining parameters GP_regression.Mat52\n",
      "reconstraining parameters GP_regression.Gaussian_noise.variance\n"
     ]
    },
    {
     "name": "stdout",
     "output_type": "stream",
     "text": [
      "sampling end!. 2019-04-17 16:45:57.714474 2019-04-17 16:46:04.055768\n"
     ]
    },
    {
     "name": "stderr",
     "output_type": "stream",
     "text": [
      "[I 2019-04-17 16:46:05,062] Finished a trial resulted in value: 0.12266871430846105. Current best value is -0.3325454287750983 with parameters: {'a': 0.9617590673509494, 'b': 0.987087641365478, 'ab': [0.9617590673509494, 0.987087641365478]}.\n"
     ]
    },
    {
     "name": "stdout",
     "output_type": "stream",
     "text": [
      "The set cost function is ignored! LCB acquisition does not make sense with cost.\n"
     ]
    },
    {
     "name": "stderr",
     "output_type": "stream",
     "text": [
      "reconstraining parameters GP_regression.Mat52\n",
      "reconstraining parameters GP_regression.Gaussian_noise.variance\n"
     ]
    },
    {
     "name": "stdout",
     "output_type": "stream",
     "text": [
      "sampling end!. 2019-04-17 16:46:05.064433 2019-04-17 16:46:14.292152\n"
     ]
    },
    {
     "name": "stderr",
     "output_type": "stream",
     "text": [
      "[I 2019-04-17 16:46:15,300] Finished a trial resulted in value: 0.2031161174897297. Current best value is -0.3325454287750983 with parameters: {'a': 0.9617590673509494, 'b': 0.987087641365478, 'ab': [0.9617590673509494, 0.987087641365478]}.\n"
     ]
    },
    {
     "name": "stdout",
     "output_type": "stream",
     "text": [
      "The set cost function is ignored! LCB acquisition does not make sense with cost.\n"
     ]
    },
    {
     "name": "stderr",
     "output_type": "stream",
     "text": [
      "reconstraining parameters GP_regression.Mat52\n",
      "reconstraining parameters GP_regression.Gaussian_noise.variance\n"
     ]
    },
    {
     "name": "stdout",
     "output_type": "stream",
     "text": [
      "sampling end!. 2019-04-17 16:46:15.302238 2019-04-17 16:46:26.873712\n"
     ]
    },
    {
     "name": "stderr",
     "output_type": "stream",
     "text": [
      "[I 2019-04-17 16:46:27,885] Finished a trial resulted in value: 0.5635318874690037. Current best value is -0.3325454287750983 with parameters: {'a': 0.9617590673509494, 'b': 0.987087641365478, 'ab': [0.9617590673509494, 0.987087641365478]}.\n"
     ]
    },
    {
     "name": "stdout",
     "output_type": "stream",
     "text": [
      "The set cost function is ignored! LCB acquisition does not make sense with cost.\n"
     ]
    },
    {
     "name": "stderr",
     "output_type": "stream",
     "text": [
      "reconstraining parameters GP_regression.Mat52\n",
      "reconstraining parameters GP_regression.Gaussian_noise.variance\n"
     ]
    },
    {
     "name": "stdout",
     "output_type": "stream",
     "text": [
      "sampling end!. 2019-04-17 16:46:27.887863 2019-04-17 16:46:34.327977\n"
     ]
    },
    {
     "name": "stderr",
     "output_type": "stream",
     "text": [
      "[I 2019-04-17 16:46:35,339] Finished a trial resulted in value: 0.19500040284621206. Current best value is -0.3325454287750983 with parameters: {'a': 0.9617590673509494, 'b': 0.987087641365478, 'ab': [0.9617590673509494, 0.987087641365478]}.\n"
     ]
    },
    {
     "name": "stdout",
     "output_type": "stream",
     "text": [
      "The set cost function is ignored! LCB acquisition does not make sense with cost.\n"
     ]
    },
    {
     "name": "stderr",
     "output_type": "stream",
     "text": [
      "reconstraining parameters GP_regression.Mat52\n",
      "reconstraining parameters GP_regression.Gaussian_noise.variance\n"
     ]
    },
    {
     "name": "stdout",
     "output_type": "stream",
     "text": [
      "sampling end!. 2019-04-17 16:46:35.341594 2019-04-17 16:46:42.189176\n"
     ]
    },
    {
     "name": "stderr",
     "output_type": "stream",
     "text": [
      "[I 2019-04-17 16:46:43,196] Finished a trial resulted in value: 0.35552083930715117. Current best value is -0.3325454287750983 with parameters: {'a': 0.9617590673509494, 'b': 0.987087641365478, 'ab': [0.9617590673509494, 0.987087641365478]}.\n"
     ]
    },
    {
     "name": "stdout",
     "output_type": "stream",
     "text": [
      "The set cost function is ignored! LCB acquisition does not make sense with cost.\n"
     ]
    },
    {
     "name": "stderr",
     "output_type": "stream",
     "text": [
      "reconstraining parameters GP_regression.Mat52\n",
      "reconstraining parameters GP_regression.Gaussian_noise.variance\n"
     ]
    },
    {
     "name": "stdout",
     "output_type": "stream",
     "text": [
      "sampling end!. 2019-04-17 16:46:43.198515 2019-04-17 16:46:57.247985\n"
     ]
    },
    {
     "name": "stderr",
     "output_type": "stream",
     "text": [
      "[I 2019-04-17 16:46:58,255] Finished a trial resulted in value: 0.34524847930877234. Current best value is -0.3325454287750983 with parameters: {'a': 0.9617590673509494, 'b': 0.987087641365478, 'ab': [0.9617590673509494, 0.987087641365478]}.\n"
     ]
    },
    {
     "name": "stdout",
     "output_type": "stream",
     "text": [
      "The set cost function is ignored! LCB acquisition does not make sense with cost.\n"
     ]
    },
    {
     "name": "stderr",
     "output_type": "stream",
     "text": [
      "reconstraining parameters GP_regression.Mat52\n",
      "reconstraining parameters GP_regression.Gaussian_noise.variance\n"
     ]
    },
    {
     "name": "stdout",
     "output_type": "stream",
     "text": [
      "sampling end!. 2019-04-17 16:46:58.257397 2019-04-17 16:47:04.813278\n"
     ]
    },
    {
     "name": "stderr",
     "output_type": "stream",
     "text": [
      "[I 2019-04-17 16:47:05,823] Finished a trial resulted in value: 0.5191634837134327. Current best value is -0.3325454287750983 with parameters: {'a': 0.9617590673509494, 'b': 0.987087641365478, 'ab': [0.9617590673509494, 0.987087641365478]}.\n"
     ]
    },
    {
     "name": "stdout",
     "output_type": "stream",
     "text": [
      "The set cost function is ignored! LCB acquisition does not make sense with cost.\n"
     ]
    },
    {
     "name": "stderr",
     "output_type": "stream",
     "text": [
      "reconstraining parameters GP_regression.Mat52\n",
      "reconstraining parameters GP_regression.Gaussian_noise.variance\n"
     ]
    },
    {
     "name": "stdout",
     "output_type": "stream",
     "text": [
      "sampling end!. 2019-04-17 16:47:05.825503 2019-04-17 16:47:14.763427\n"
     ]
    },
    {
     "name": "stderr",
     "output_type": "stream",
     "text": [
      "[I 2019-04-17 16:47:15,773] Finished a trial resulted in value: 0.6465755615302335. Current best value is -0.3325454287750983 with parameters: {'a': 0.9617590673509494, 'b': 0.987087641365478, 'ab': [0.9617590673509494, 0.987087641365478]}.\n"
     ]
    },
    {
     "name": "stdout",
     "output_type": "stream",
     "text": [
      "The set cost function is ignored! LCB acquisition does not make sense with cost.\n"
     ]
    },
    {
     "name": "stderr",
     "output_type": "stream",
     "text": [
      "reconstraining parameters GP_regression.Mat52\n",
      "reconstraining parameters GP_regression.Gaussian_noise.variance\n"
     ]
    },
    {
     "name": "stdout",
     "output_type": "stream",
     "text": [
      "sampling end!. 2019-04-17 16:47:15.775197 2019-04-17 16:47:22.693085\n"
     ]
    },
    {
     "name": "stderr",
     "output_type": "stream",
     "text": [
      "[I 2019-04-17 16:47:23,703] Finished a trial resulted in value: 0.6199995971573568. Current best value is -0.3325454287750983 with parameters: {'a': 0.9617590673509494, 'b': 0.987087641365478, 'ab': [0.9617590673509494, 0.987087641365478]}.\n"
     ]
    },
    {
     "name": "stdout",
     "output_type": "stream",
     "text": [
      "The set cost function is ignored! LCB acquisition does not make sense with cost.\n"
     ]
    },
    {
     "name": "stderr",
     "output_type": "stream",
     "text": [
      "reconstraining parameters GP_regression.Mat52\n",
      "reconstraining parameters GP_regression.Gaussian_noise.variance\n"
     ]
    },
    {
     "name": "stdout",
     "output_type": "stream",
     "text": [
      "sampling end!. 2019-04-17 16:47:23.705284 2019-04-17 16:47:30.374245\n"
     ]
    },
    {
     "name": "stderr",
     "output_type": "stream",
     "text": [
      "[I 2019-04-17 16:47:31,389] Finished a trial resulted in value: 0.6564632984997647. Current best value is -0.3325454287750983 with parameters: {'a': 0.9617590673509494, 'b': 0.987087641365478, 'ab': [0.9617590673509494, 0.987087641365478]}.\n"
     ]
    },
    {
     "name": "stdout",
     "output_type": "stream",
     "text": [
      "The set cost function is ignored! LCB acquisition does not make sense with cost.\n"
     ]
    },
    {
     "name": "stderr",
     "output_type": "stream",
     "text": [
      "reconstraining parameters GP_regression.Mat52\n",
      "reconstraining parameters GP_regression.Gaussian_noise.variance\n"
     ]
    },
    {
     "name": "stdout",
     "output_type": "stream",
     "text": [
      "sampling end!. 2019-04-17 16:47:31.391875 2019-04-17 16:47:39.242217\n"
     ]
    },
    {
     "name": "stderr",
     "output_type": "stream",
     "text": [
      "[I 2019-04-17 16:47:40,252] Finished a trial resulted in value: 0.7986418438529672. Current best value is -0.3325454287750983 with parameters: {'a': 0.9617590673509494, 'b': 0.987087641365478, 'ab': [0.9617590673509494, 0.987087641365478]}.\n"
     ]
    },
    {
     "name": "stdout",
     "output_type": "stream",
     "text": [
      "The set cost function is ignored! LCB acquisition does not make sense with cost.\n"
     ]
    },
    {
     "name": "stderr",
     "output_type": "stream",
     "text": [
      "reconstraining parameters GP_regression.Mat52\n",
      "reconstraining parameters GP_regression.Gaussian_noise.variance\n"
     ]
    },
    {
     "name": "stdout",
     "output_type": "stream",
     "text": [
      "sampling end!. 2019-04-17 16:47:40.254712 2019-04-17 16:47:47.976995\n"
     ]
    },
    {
     "name": "stderr",
     "output_type": "stream",
     "text": [
      "[I 2019-04-17 16:47:48,990] Finished a trial resulted in value: 0.8673970558916838. Current best value is -0.3325454287750983 with parameters: {'a': 0.9617590673509494, 'b': 0.987087641365478, 'ab': [0.9617590673509494, 0.987087641365478]}.\n"
     ]
    },
    {
     "name": "stdout",
     "output_type": "stream",
     "text": [
      "The set cost function is ignored! LCB acquisition does not make sense with cost.\n"
     ]
    },
    {
     "name": "stderr",
     "output_type": "stream",
     "text": [
      "reconstraining parameters GP_regression.Mat52\n",
      "reconstraining parameters GP_regression.Gaussian_noise.variance\n"
     ]
    },
    {
     "name": "stdout",
     "output_type": "stream",
     "text": [
      "sampling end!. 2019-04-17 16:47:48.992520 2019-04-17 16:47:57.060061\n"
     ]
    },
    {
     "name": "stderr",
     "output_type": "stream",
     "text": [
      "[I 2019-04-17 16:47:58,073] Finished a trial resulted in value: 0.8426081970713135. Current best value is -0.3325454287750983 with parameters: {'a': 0.9617590673509494, 'b': 0.987087641365478, 'ab': [0.9617590673509494, 0.987087641365478]}.\n"
     ]
    },
    {
     "name": "stdout",
     "output_type": "stream",
     "text": [
      "The set cost function is ignored! LCB acquisition does not make sense with cost.\n"
     ]
    },
    {
     "name": "stderr",
     "output_type": "stream",
     "text": [
      "reconstraining parameters GP_regression.Mat52\n",
      "reconstraining parameters GP_regression.Gaussian_noise.variance\n"
     ]
    },
    {
     "name": "stdout",
     "output_type": "stream",
     "text": [
      "sampling end!. 2019-04-17 16:47:58.076106 2019-04-17 16:48:06.974069\n"
     ]
    },
    {
     "name": "stderr",
     "output_type": "stream",
     "text": [
      "[I 2019-04-17 16:48:07,994] Finished a trial resulted in value: 0.8436510124011476. Current best value is -0.3325454287750983 with parameters: {'a': 0.9617590673509494, 'b': 0.987087641365478, 'ab': [0.9617590673509494, 0.987087641365478]}.\n"
     ]
    },
    {
     "name": "stdout",
     "output_type": "stream",
     "text": [
      "The set cost function is ignored! LCB acquisition does not make sense with cost.\n"
     ]
    },
    {
     "name": "stderr",
     "output_type": "stream",
     "text": [
      "reconstraining parameters GP_regression.Mat52\n",
      "reconstraining parameters GP_regression.Gaussian_noise.variance\n"
     ]
    },
    {
     "name": "stdout",
     "output_type": "stream",
     "text": [
      "sampling end!. 2019-04-17 16:48:07.996632 2019-04-17 16:48:17.150030\n"
     ]
    },
    {
     "name": "stderr",
     "output_type": "stream",
     "text": [
      "[I 2019-04-17 16:48:18,160] Finished a trial resulted in value: 0.959914758734307. Current best value is -0.3325454287750983 with parameters: {'a': 0.9617590673509494, 'b': 0.987087641365478, 'ab': [0.9617590673509494, 0.987087641365478]}.\n"
     ]
    },
    {
     "name": "stdout",
     "output_type": "stream",
     "text": [
      "The set cost function is ignored! LCB acquisition does not make sense with cost.\n"
     ]
    },
    {
     "name": "stderr",
     "output_type": "stream",
     "text": [
      "reconstraining parameters GP_regression.Mat52\n",
      "reconstraining parameters GP_regression.Gaussian_noise.variance\n"
     ]
    },
    {
     "name": "stdout",
     "output_type": "stream",
     "text": [
      "sampling end!. 2019-04-17 16:48:18.162376 2019-04-17 16:48:26.551476\n"
     ]
    },
    {
     "name": "stderr",
     "output_type": "stream",
     "text": [
      "[I 2019-04-17 16:48:27,567] Finished a trial resulted in value: 1.0350848589421895. Current best value is -0.3325454287750983 with parameters: {'a': 0.9617590673509494, 'b': 0.987087641365478, 'ab': [0.9617590673509494, 0.987087641365478]}.\n"
     ]
    },
    {
     "name": "stdout",
     "output_type": "stream",
     "text": [
      "The set cost function is ignored! LCB acquisition does not make sense with cost.\n"
     ]
    },
    {
     "name": "stderr",
     "output_type": "stream",
     "text": [
      "reconstraining parameters GP_regression.Mat52\n",
      "reconstraining parameters GP_regression.Gaussian_noise.variance\n"
     ]
    },
    {
     "name": "stdout",
     "output_type": "stream",
     "text": [
      "sampling end!. 2019-04-17 16:48:27.570492 2019-04-17 16:48:36.769213\n"
     ]
    },
    {
     "name": "stderr",
     "output_type": "stream",
     "text": [
      "[I 2019-04-17 16:48:37,779] Finished a trial resulted in value: 1.1870459417146675. Current best value is -0.3325454287750983 with parameters: {'a': 0.9617590673509494, 'b': 0.987087641365478, 'ab': [0.9617590673509494, 0.987087641365478]}.\n"
     ]
    },
    {
     "name": "stdout",
     "output_type": "stream",
     "text": [
      "The set cost function is ignored! LCB acquisition does not make sense with cost.\n"
     ]
    },
    {
     "name": "stderr",
     "output_type": "stream",
     "text": [
      "reconstraining parameters GP_regression.Mat52\n",
      "reconstraining parameters GP_regression.Gaussian_noise.variance\n"
     ]
    },
    {
     "name": "stdout",
     "output_type": "stream",
     "text": [
      "sampling end!. 2019-04-17 16:48:37.781127 2019-04-17 16:48:47.889471\n"
     ]
    },
    {
     "name": "stderr",
     "output_type": "stream",
     "text": [
      "[I 2019-04-17 16:48:48,899] Finished a trial resulted in value: 0.345035275623845. Current best value is -0.3325454287750983 with parameters: {'a': 0.9617590673509494, 'b': 0.987087641365478, 'ab': [0.9617590673509494, 0.987087641365478]}.\n"
     ]
    },
    {
     "name": "stdout",
     "output_type": "stream",
     "text": [
      "The set cost function is ignored! LCB acquisition does not make sense with cost.\n"
     ]
    },
    {
     "name": "stderr",
     "output_type": "stream",
     "text": [
      "reconstraining parameters GP_regression.Mat52\n",
      "reconstraining parameters GP_regression.Gaussian_noise.variance\n"
     ]
    },
    {
     "name": "stdout",
     "output_type": "stream",
     "text": [
      "sampling end!. 2019-04-17 16:48:48.901530 2019-04-17 16:48:57.934467\n"
     ]
    },
    {
     "name": "stderr",
     "output_type": "stream",
     "text": [
      "[I 2019-04-17 16:48:58,947] Finished a trial resulted in value: 1.2928028293561835. Current best value is -0.3325454287750983 with parameters: {'a': 0.9617590673509494, 'b': 0.987087641365478, 'ab': [0.9617590673509494, 0.987087641365478]}.\n"
     ]
    },
    {
     "name": "stdout",
     "output_type": "stream",
     "text": [
      "The set cost function is ignored! LCB acquisition does not make sense with cost.\n"
     ]
    },
    {
     "name": "stderr",
     "output_type": "stream",
     "text": [
      "reconstraining parameters GP_regression.Mat52\n",
      "reconstraining parameters GP_regression.Gaussian_noise.variance\n"
     ]
    },
    {
     "name": "stdout",
     "output_type": "stream",
     "text": [
      "sampling end!. 2019-04-17 16:48:58.950210 2019-04-17 16:49:06.997374\n"
     ]
    },
    {
     "name": "stderr",
     "output_type": "stream",
     "text": [
      "[I 2019-04-17 16:49:08,006] Finished a trial resulted in value: 1.3894726650238336. Current best value is -0.3325454287750983 with parameters: {'a': 0.9617590673509494, 'b': 0.987087641365478, 'ab': [0.9617590673509494, 0.987087641365478]}.\n"
     ]
    },
    {
     "name": "stdout",
     "output_type": "stream",
     "text": [
      "The set cost function is ignored! LCB acquisition does not make sense with cost.\n"
     ]
    },
    {
     "name": "stderr",
     "output_type": "stream",
     "text": [
      "reconstraining parameters GP_regression.Mat52\n",
      "reconstraining parameters GP_regression.Gaussian_noise.variance\n"
     ]
    },
    {
     "name": "stdout",
     "output_type": "stream",
     "text": [
      "sampling end!. 2019-04-17 16:49:08.008366 2019-04-17 16:49:18.067993\n"
     ]
    },
    {
     "name": "stderr",
     "output_type": "stream",
     "text": [
      "[I 2019-04-17 16:49:19,080] Finished a trial resulted in value: -0.020937774990366094. Current best value is -0.3325454287750983 with parameters: {'a': 0.9617590673509494, 'b': 0.987087641365478, 'ab': [0.9617590673509494, 0.987087641365478]}.\n"
     ]
    },
    {
     "name": "stdout",
     "output_type": "stream",
     "text": [
      "The set cost function is ignored! LCB acquisition does not make sense with cost.\n"
     ]
    },
    {
     "name": "stderr",
     "output_type": "stream",
     "text": [
      "reconstraining parameters GP_regression.Mat52\n",
      "reconstraining parameters GP_regression.Gaussian_noise.variance\n"
     ]
    },
    {
     "name": "stdout",
     "output_type": "stream",
     "text": [
      "sampling end!. 2019-04-17 16:49:19.082764 2019-04-17 16:49:28.403485\n"
     ]
    },
    {
     "name": "stderr",
     "output_type": "stream",
     "text": [
      "[I 2019-04-17 16:49:29,417] Finished a trial resulted in value: 0.03389365032044976. Current best value is -0.3325454287750983 with parameters: {'a': 0.9617590673509494, 'b': 0.987087641365478, 'ab': [0.9617590673509494, 0.987087641365478]}.\n"
     ]
    },
    {
     "name": "stdout",
     "output_type": "stream",
     "text": [
      "The set cost function is ignored! LCB acquisition does not make sense with cost.\n"
     ]
    },
    {
     "name": "stderr",
     "output_type": "stream",
     "text": [
      "reconstraining parameters GP_regression.Mat52\n",
      "reconstraining parameters GP_regression.Gaussian_noise.variance\n"
     ]
    },
    {
     "name": "stdout",
     "output_type": "stream",
     "text": [
      "sampling end!. 2019-04-17 16:49:29.419695 2019-04-17 16:49:39.271082\n"
     ]
    },
    {
     "name": "stderr",
     "output_type": "stream",
     "text": [
      "[I 2019-04-17 16:49:40,282] Finished a trial resulted in value: 0.042886094451043716. Current best value is -0.3325454287750983 with parameters: {'a': 0.9617590673509494, 'b': 0.987087641365478, 'ab': [0.9617590673509494, 0.987087641365478]}.\n"
     ]
    },
    {
     "name": "stdout",
     "output_type": "stream",
     "text": [
      "The set cost function is ignored! LCB acquisition does not make sense with cost.\n"
     ]
    },
    {
     "name": "stderr",
     "output_type": "stream",
     "text": [
      "reconstraining parameters GP_regression.Mat52\n",
      "reconstraining parameters GP_regression.Gaussian_noise.variance\n"
     ]
    },
    {
     "name": "stdout",
     "output_type": "stream",
     "text": [
      "sampling end!. 2019-04-17 16:49:40.284604 2019-04-17 16:49:50.165667\n"
     ]
    },
    {
     "name": "stderr",
     "output_type": "stream",
     "text": [
      "[I 2019-04-17 16:49:51,174] Finished a trial resulted in value: -0.10383089460195155. Current best value is -0.3325454287750983 with parameters: {'a': 0.9617590673509494, 'b': 0.987087641365478, 'ab': [0.9617590673509494, 0.987087641365478]}.\n"
     ]
    },
    {
     "name": "stdout",
     "output_type": "stream",
     "text": [
      "The set cost function is ignored! LCB acquisition does not make sense with cost.\n"
     ]
    },
    {
     "name": "stderr",
     "output_type": "stream",
     "text": [
      "reconstraining parameters GP_regression.Mat52\n",
      "reconstraining parameters GP_regression.Gaussian_noise.variance\n"
     ]
    },
    {
     "name": "stdout",
     "output_type": "stream",
     "text": [
      "sampling end!. 2019-04-17 16:49:51.176922 2019-04-17 16:50:00.949629\n"
     ]
    },
    {
     "name": "stderr",
     "output_type": "stream",
     "text": [
      "[I 2019-04-17 16:50:01,964] Finished a trial resulted in value: -0.1660783611848753. Current best value is -0.3325454287750983 with parameters: {'a': 0.9617590673509494, 'b': 0.987087641365478, 'ab': [0.9617590673509494, 0.987087641365478]}.\n"
     ]
    },
    {
     "name": "stdout",
     "output_type": "stream",
     "text": [
      "The set cost function is ignored! LCB acquisition does not make sense with cost.\n"
     ]
    },
    {
     "name": "stderr",
     "output_type": "stream",
     "text": [
      "reconstraining parameters GP_regression.Mat52\n",
      "reconstraining parameters GP_regression.Gaussian_noise.variance\n"
     ]
    },
    {
     "name": "stdout",
     "output_type": "stream",
     "text": [
      "sampling end!. 2019-04-17 16:50:01.966753 2019-04-17 16:50:14.359053\n"
     ]
    },
    {
     "name": "stderr",
     "output_type": "stream",
     "text": [
      "[I 2019-04-17 16:50:15,378] Finished a trial resulted in value: -0.16449345280405897. Current best value is -0.3325454287750983 with parameters: {'a': 0.9617590673509494, 'b': 0.987087641365478, 'ab': [0.9617590673509494, 0.987087641365478]}.\n"
     ]
    },
    {
     "name": "stdout",
     "output_type": "stream",
     "text": [
      "The set cost function is ignored! LCB acquisition does not make sense with cost.\n"
     ]
    },
    {
     "name": "stderr",
     "output_type": "stream",
     "text": [
      "reconstraining parameters GP_regression.Mat52\n",
      "reconstraining parameters GP_regression.Gaussian_noise.variance\n"
     ]
    },
    {
     "name": "stdout",
     "output_type": "stream",
     "text": [
      "sampling end!. 2019-04-17 16:50:15.380851 2019-04-17 16:50:26.650541\n"
     ]
    },
    {
     "name": "stderr",
     "output_type": "stream",
     "text": [
      "[I 2019-04-17 16:50:27,662] Finished a trial resulted in value: 0.2911877990435744. Current best value is -0.3325454287750983 with parameters: {'a': 0.9617590673509494, 'b': 0.987087641365478, 'ab': [0.9617590673509494, 0.987087641365478]}.\n"
     ]
    },
    {
     "name": "stdout",
     "output_type": "stream",
     "text": [
      "The set cost function is ignored! LCB acquisition does not make sense with cost.\n"
     ]
    },
    {
     "name": "stderr",
     "output_type": "stream",
     "text": [
      "reconstraining parameters GP_regression.Mat52\n",
      "reconstraining parameters GP_regression.Gaussian_noise.variance\n"
     ]
    },
    {
     "name": "stdout",
     "output_type": "stream",
     "text": [
      "sampling end!. 2019-04-17 16:50:27.664350 2019-04-17 16:50:37.145815\n"
     ]
    },
    {
     "name": "stderr",
     "output_type": "stream",
     "text": [
      "[I 2019-04-17 16:50:38,166] Finished a trial resulted in value: 0.07932176123974133. Current best value is -0.3325454287750983 with parameters: {'a': 0.9617590673509494, 'b': 0.987087641365478, 'ab': [0.9617590673509494, 0.987087641365478]}.\n"
     ]
    },
    {
     "name": "stdout",
     "output_type": "stream",
     "text": [
      "The set cost function is ignored! LCB acquisition does not make sense with cost.\n"
     ]
    },
    {
     "name": "stderr",
     "output_type": "stream",
     "text": [
      "reconstraining parameters GP_regression.Mat52\n",
      "reconstraining parameters GP_regression.Gaussian_noise.variance\n"
     ]
    },
    {
     "name": "stdout",
     "output_type": "stream",
     "text": [
      "sampling end!. 2019-04-17 16:50:38.169585 2019-04-17 16:50:49.281187\n"
     ]
    },
    {
     "name": "stderr",
     "output_type": "stream",
     "text": [
      "[I 2019-04-17 16:50:50,291] Finished a trial resulted in value: -0.03104385693025924. Current best value is -0.3325454287750983 with parameters: {'a': 0.9617590673509494, 'b': 0.987087641365478, 'ab': [0.9617590673509494, 0.987087641365478]}.\n"
     ]
    },
    {
     "name": "stdout",
     "output_type": "stream",
     "text": [
      "The set cost function is ignored! LCB acquisition does not make sense with cost.\n"
     ]
    },
    {
     "name": "stderr",
     "output_type": "stream",
     "text": [
      "reconstraining parameters GP_regression.Mat52\n",
      "reconstraining parameters GP_regression.Gaussian_noise.variance\n"
     ]
    },
    {
     "name": "stdout",
     "output_type": "stream",
     "text": [
      "sampling end!. 2019-04-17 16:50:50.293626 2019-04-17 16:51:00.993780\n"
     ]
    },
    {
     "name": "stderr",
     "output_type": "stream",
     "text": [
      "[I 2019-04-17 16:51:02,003] Finished a trial resulted in value: -0.05203765520964401. Current best value is -0.3325454287750983 with parameters: {'a': 0.9617590673509494, 'b': 0.987087641365478, 'ab': [0.9617590673509494, 0.987087641365478]}.\n"
     ]
    },
    {
     "name": "stdout",
     "output_type": "stream",
     "text": [
      "The set cost function is ignored! LCB acquisition does not make sense with cost.\n"
     ]
    },
    {
     "name": "stderr",
     "output_type": "stream",
     "text": [
      "reconstraining parameters GP_regression.Mat52\n",
      "reconstraining parameters GP_regression.Gaussian_noise.variance\n"
     ]
    },
    {
     "name": "stdout",
     "output_type": "stream",
     "text": [
      "sampling end!. 2019-04-17 16:51:02.005421 2019-04-17 16:51:12.880388\n"
     ]
    },
    {
     "name": "stderr",
     "output_type": "stream",
     "text": [
      "[I 2019-04-17 16:51:13,898] Finished a trial resulted in value: 0.00038225614642889427. Current best value is -0.3325454287750983 with parameters: {'a': 0.9617590673509494, 'b': 0.987087641365478, 'ab': [0.9617590673509494, 0.987087641365478]}.\n"
     ]
    },
    {
     "name": "stdout",
     "output_type": "stream",
     "text": [
      "The set cost function is ignored! LCB acquisition does not make sense with cost.\n"
     ]
    },
    {
     "name": "stderr",
     "output_type": "stream",
     "text": [
      "reconstraining parameters GP_regression.Mat52\n",
      "reconstraining parameters GP_regression.Gaussian_noise.variance\n"
     ]
    },
    {
     "name": "stdout",
     "output_type": "stream",
     "text": [
      "sampling end!. 2019-04-17 16:51:13.901168 2019-04-17 16:51:23.939134\n"
     ]
    },
    {
     "name": "stderr",
     "output_type": "stream",
     "text": [
      "[I 2019-04-17 16:51:24,958] Finished a trial resulted in value: -0.1542790159205518. Current best value is -0.3325454287750983 with parameters: {'a': 0.9617590673509494, 'b': 0.987087641365478, 'ab': [0.9617590673509494, 0.987087641365478]}.\n"
     ]
    },
    {
     "name": "stdout",
     "output_type": "stream",
     "text": [
      "The set cost function is ignored! LCB acquisition does not make sense with cost.\n"
     ]
    },
    {
     "name": "stderr",
     "output_type": "stream",
     "text": [
      "reconstraining parameters GP_regression.Mat52\n",
      "reconstraining parameters GP_regression.Gaussian_noise.variance\n"
     ]
    },
    {
     "name": "stdout",
     "output_type": "stream",
     "text": [
      "sampling end!. 2019-04-17 16:51:24.961149 2019-04-17 16:51:35.477530\n"
     ]
    },
    {
     "name": "stderr",
     "output_type": "stream",
     "text": [
      "[I 2019-04-17 16:51:36,492] Finished a trial resulted in value: -0.29595574776232403. Current best value is -0.3325454287750983 with parameters: {'a': 0.9617590673509494, 'b': 0.987087641365478, 'ab': [0.9617590673509494, 0.987087641365478]}.\n"
     ]
    },
    {
     "name": "stdout",
     "output_type": "stream",
     "text": [
      "The set cost function is ignored! LCB acquisition does not make sense with cost.\n"
     ]
    },
    {
     "name": "stderr",
     "output_type": "stream",
     "text": [
      "reconstraining parameters GP_regression.Mat52\n",
      "reconstraining parameters GP_regression.Gaussian_noise.variance\n"
     ]
    },
    {
     "name": "stdout",
     "output_type": "stream",
     "text": [
      "sampling end!. 2019-04-17 16:51:36.494218 2019-04-17 16:51:49.713291\n"
     ]
    },
    {
     "name": "stderr",
     "output_type": "stream",
     "text": [
      "[I 2019-04-17 16:51:50,726] Finished a trial resulted in value: -0.27274683307605274. Current best value is -0.3325454287750983 with parameters: {'a': 0.9617590673509494, 'b': 0.987087641365478, 'ab': [0.9617590673509494, 0.987087641365478]}.\n"
     ]
    },
    {
     "name": "stdout",
     "output_type": "stream",
     "text": [
      "The set cost function is ignored! LCB acquisition does not make sense with cost.\n"
     ]
    },
    {
     "name": "stderr",
     "output_type": "stream",
     "text": [
      "reconstraining parameters GP_regression.Mat52\n",
      "reconstraining parameters GP_regression.Gaussian_noise.variance\n"
     ]
    },
    {
     "name": "stdout",
     "output_type": "stream",
     "text": [
      "sampling end!. 2019-04-17 16:51:50.728800 2019-04-17 16:52:04.198594\n"
     ]
    },
    {
     "name": "stderr",
     "output_type": "stream",
     "text": [
      "[I 2019-04-17 16:52:05,212] Finished a trial resulted in value: -0.3026968898838004. Current best value is -0.3325454287750983 with parameters: {'a': 0.9617590673509494, 'b': 0.987087641365478, 'ab': [0.9617590673509494, 0.987087641365478]}.\n"
     ]
    },
    {
     "name": "stdout",
     "output_type": "stream",
     "text": [
      "The set cost function is ignored! LCB acquisition does not make sense with cost.\n"
     ]
    },
    {
     "name": "stderr",
     "output_type": "stream",
     "text": [
      "reconstraining parameters GP_regression.Mat52\n",
      "reconstraining parameters GP_regression.Gaussian_noise.variance\n"
     ]
    },
    {
     "name": "stdout",
     "output_type": "stream",
     "text": [
      "sampling end!. 2019-04-17 16:52:05.214528 2019-04-17 16:52:17.894219\n"
     ]
    },
    {
     "name": "stderr",
     "output_type": "stream",
     "text": [
      "[I 2019-04-17 16:52:18,907] Finished a trial resulted in value: -0.32373253848776173. Current best value is -0.3325454287750983 with parameters: {'a': 0.9617590673509494, 'b': 0.987087641365478, 'ab': [0.9617590673509494, 0.987087641365478]}.\n"
     ]
    },
    {
     "name": "stdout",
     "output_type": "stream",
     "text": [
      "The set cost function is ignored! LCB acquisition does not make sense with cost.\n"
     ]
    },
    {
     "name": "stderr",
     "output_type": "stream",
     "text": [
      "reconstraining parameters GP_regression.Mat52\n",
      "reconstraining parameters GP_regression.Gaussian_noise.variance\n"
     ]
    },
    {
     "name": "stdout",
     "output_type": "stream",
     "text": [
      "sampling end!. 2019-04-17 16:52:18.910362 2019-04-17 16:52:32.603346\n"
     ]
    },
    {
     "name": "stderr",
     "output_type": "stream",
     "text": [
      "[I 2019-04-17 16:52:33,619] Finished a trial resulted in value: -0.22482962193650496. Current best value is -0.3325454287750983 with parameters: {'a': 0.9617590673509494, 'b': 0.987087641365478, 'ab': [0.9617590673509494, 0.987087641365478]}.\n"
     ]
    },
    {
     "name": "stdout",
     "output_type": "stream",
     "text": [
      "The set cost function is ignored! LCB acquisition does not make sense with cost.\n"
     ]
    },
    {
     "name": "stderr",
     "output_type": "stream",
     "text": [
      "reconstraining parameters GP_regression.Mat52\n",
      "reconstraining parameters GP_regression.Gaussian_noise.variance\n"
     ]
    },
    {
     "name": "stdout",
     "output_type": "stream",
     "text": [
      "sampling end!. 2019-04-17 16:52:33.622382 2019-04-17 16:52:46.535616\n"
     ]
    },
    {
     "name": "stderr",
     "output_type": "stream",
     "text": [
      "[I 2019-04-17 16:52:47,552] Finished a trial resulted in value: -0.27927420540936027. Current best value is -0.3325454287750983 with parameters: {'a': 0.9617590673509494, 'b': 0.987087641365478, 'ab': [0.9617590673509494, 0.987087641365478]}.\n"
     ]
    },
    {
     "name": "stdout",
     "output_type": "stream",
     "text": [
      "The set cost function is ignored! LCB acquisition does not make sense with cost.\n"
     ]
    },
    {
     "name": "stderr",
     "output_type": "stream",
     "text": [
      "reconstraining parameters GP_regression.Mat52\n",
      "reconstraining parameters GP_regression.Gaussian_noise.variance\n"
     ]
    },
    {
     "name": "stdout",
     "output_type": "stream",
     "text": [
      "sampling end!. 2019-04-17 16:52:47.554519 2019-04-17 16:53:01.464990\n"
     ]
    },
    {
     "name": "stderr",
     "output_type": "stream",
     "text": [
      "[I 2019-04-17 16:53:02,478] Finished a trial resulted in value: -0.4134795362339805. Current best value is -0.4134795362339805 with parameters: {'a': 0.526379528405682, 'b': 0.0, 'ab': [0.526379528405682, 0.0]}.\n"
     ]
    },
    {
     "name": "stdout",
     "output_type": "stream",
     "text": [
      "The set cost function is ignored! LCB acquisition does not make sense with cost.\n"
     ]
    },
    {
     "name": "stderr",
     "output_type": "stream",
     "text": [
      "reconstraining parameters GP_regression.Mat52\n",
      "reconstraining parameters GP_regression.Gaussian_noise.variance\n"
     ]
    },
    {
     "name": "stdout",
     "output_type": "stream",
     "text": [
      "sampling end!. 2019-04-17 16:53:02.480125 2019-04-17 16:53:14.217202\n"
     ]
    },
    {
     "name": "stderr",
     "output_type": "stream",
     "text": [
      "[I 2019-04-17 16:53:15,228] Finished a trial resulted in value: -0.3780835499179452. Current best value is -0.4134795362339805 with parameters: {'a': 0.526379528405682, 'b': 0.0, 'ab': [0.526379528405682, 0.0]}.\n"
     ]
    },
    {
     "name": "stdout",
     "output_type": "stream",
     "text": [
      "The set cost function is ignored! LCB acquisition does not make sense with cost.\n"
     ]
    },
    {
     "name": "stderr",
     "output_type": "stream",
     "text": [
      "reconstraining parameters GP_regression.Mat52\n",
      "reconstraining parameters GP_regression.Gaussian_noise.variance\n"
     ]
    },
    {
     "name": "stdout",
     "output_type": "stream",
     "text": [
      "sampling end!. 2019-04-17 16:53:15.230898 2019-04-17 16:53:27.339104\n"
     ]
    },
    {
     "name": "stderr",
     "output_type": "stream",
     "text": [
      "[I 2019-04-17 16:53:28,351] Finished a trial resulted in value: -0.26261107107567433. Current best value is -0.4134795362339805 with parameters: {'a': 0.526379528405682, 'b': 0.0, 'ab': [0.526379528405682, 0.0]}.\n"
     ]
    },
    {
     "name": "stdout",
     "output_type": "stream",
     "text": [
      "The set cost function is ignored! LCB acquisition does not make sense with cost.\n"
     ]
    },
    {
     "name": "stderr",
     "output_type": "stream",
     "text": [
      "reconstraining parameters GP_regression.Mat52\n",
      "reconstraining parameters GP_regression.Gaussian_noise.variance\n"
     ]
    },
    {
     "name": "stdout",
     "output_type": "stream",
     "text": [
      "sampling end!. 2019-04-17 16:53:28.353718 2019-04-17 16:53:42.580955\n"
     ]
    },
    {
     "name": "stderr",
     "output_type": "stream",
     "text": [
      "[I 2019-04-17 16:53:43,592] Finished a trial resulted in value: -0.22287548292368248. Current best value is -0.4134795362339805 with parameters: {'a': 0.526379528405682, 'b': 0.0, 'ab': [0.526379528405682, 0.0]}.\n"
     ]
    },
    {
     "name": "stdout",
     "output_type": "stream",
     "text": [
      "The set cost function is ignored! LCB acquisition does not make sense with cost.\n"
     ]
    },
    {
     "name": "stderr",
     "output_type": "stream",
     "text": [
      "reconstraining parameters GP_regression.Mat52\n",
      "reconstraining parameters GP_regression.Gaussian_noise.variance\n"
     ]
    },
    {
     "name": "stdout",
     "output_type": "stream",
     "text": [
      "sampling end!. 2019-04-17 16:53:43.594670 2019-04-17 16:53:58.560430\n"
     ]
    },
    {
     "name": "stderr",
     "output_type": "stream",
     "text": [
      "[I 2019-04-17 16:53:59,579] Finished a trial resulted in value: -0.14810922457346146. Current best value is -0.4134795362339805 with parameters: {'a': 0.526379528405682, 'b': 0.0, 'ab': [0.526379528405682, 0.0]}.\n"
     ]
    },
    {
     "name": "stdout",
     "output_type": "stream",
     "text": [
      "The set cost function is ignored! LCB acquisition does not make sense with cost.\n"
     ]
    },
    {
     "name": "stderr",
     "output_type": "stream",
     "text": [
      "reconstraining parameters GP_regression.Mat52\n",
      "reconstraining parameters GP_regression.Gaussian_noise.variance\n"
     ]
    },
    {
     "name": "stdout",
     "output_type": "stream",
     "text": [
      "sampling end!. 2019-04-17 16:53:59.581614 2019-04-17 16:54:14.272671\n"
     ]
    },
    {
     "name": "stderr",
     "output_type": "stream",
     "text": [
      "[I 2019-04-17 16:54:15,292] Finished a trial resulted in value: -0.24983773644744392. Current best value is -0.4134795362339805 with parameters: {'a': 0.526379528405682, 'b': 0.0, 'ab': [0.526379528405682, 0.0]}.\n"
     ]
    },
    {
     "name": "stdout",
     "output_type": "stream",
     "text": [
      "The set cost function is ignored! LCB acquisition does not make sense with cost.\n"
     ]
    },
    {
     "name": "stderr",
     "output_type": "stream",
     "text": [
      "reconstraining parameters GP_regression.Mat52\n",
      "reconstraining parameters GP_regression.Gaussian_noise.variance\n"
     ]
    },
    {
     "name": "stdout",
     "output_type": "stream",
     "text": [
      "sampling end!. 2019-04-17 16:54:15.294709 2019-04-17 16:54:32.370310\n"
     ]
    },
    {
     "name": "stderr",
     "output_type": "stream",
     "text": [
      "[I 2019-04-17 16:54:33,383] Finished a trial resulted in value: -0.20434159310380015. Current best value is -0.4134795362339805 with parameters: {'a': 0.526379528405682, 'b': 0.0, 'ab': [0.526379528405682, 0.0]}.\n"
     ]
    },
    {
     "name": "stdout",
     "output_type": "stream",
     "text": [
      "The set cost function is ignored! LCB acquisition does not make sense with cost.\n"
     ]
    },
    {
     "name": "stderr",
     "output_type": "stream",
     "text": [
      "reconstraining parameters GP_regression.Mat52\n",
      "reconstraining parameters GP_regression.Gaussian_noise.variance\n"
     ]
    },
    {
     "name": "stdout",
     "output_type": "stream",
     "text": [
      "sampling end!. 2019-04-17 16:54:33.385657 2019-04-17 16:54:52.892877\n"
     ]
    },
    {
     "name": "stderr",
     "output_type": "stream",
     "text": [
      "[I 2019-04-17 16:54:53,906] Finished a trial resulted in value: -0.39246824896112364. Current best value is -0.4134795362339805 with parameters: {'a': 0.526379528405682, 'b': 0.0, 'ab': [0.526379528405682, 0.0]}.\n"
     ]
    },
    {
     "name": "stdout",
     "output_type": "stream",
     "text": [
      "The set cost function is ignored! LCB acquisition does not make sense with cost.\n"
     ]
    },
    {
     "name": "stderr",
     "output_type": "stream",
     "text": [
      "reconstraining parameters GP_regression.Mat52\n",
      "reconstraining parameters GP_regression.Gaussian_noise.variance\n"
     ]
    },
    {
     "name": "stdout",
     "output_type": "stream",
     "text": [
      "sampling end!. 2019-04-17 16:54:53.910026 2019-04-17 16:55:11.235856\n"
     ]
    },
    {
     "name": "stderr",
     "output_type": "stream",
     "text": [
      "[I 2019-04-17 16:55:12,251] Finished a trial resulted in value: -0.4598641583430082. Current best value is -0.4598641583430082 with parameters: {'a': 0.5267188631179948, 'b': 0.0, 'ab': [0.5267188631179948, 0.0]}.\n"
     ]
    },
    {
     "name": "stdout",
     "output_type": "stream",
     "text": [
      "The set cost function is ignored! LCB acquisition does not make sense with cost.\n"
     ]
    },
    {
     "name": "stderr",
     "output_type": "stream",
     "text": [
      "reconstraining parameters GP_regression.Mat52\n",
      "reconstraining parameters GP_regression.Gaussian_noise.variance\n"
     ]
    },
    {
     "name": "stdout",
     "output_type": "stream",
     "text": [
      "sampling end!. 2019-04-17 16:55:12.253242 2019-04-17 16:55:30.692761\n"
     ]
    },
    {
     "name": "stderr",
     "output_type": "stream",
     "text": [
      "[I 2019-04-17 16:55:31,705] Finished a trial resulted in value: -0.40013110749287395. Current best value is -0.4598641583430082 with parameters: {'a': 0.5267188631179948, 'b': 0.0, 'ab': [0.5267188631179948, 0.0]}.\n"
     ]
    },
    {
     "name": "stdout",
     "output_type": "stream",
     "text": [
      "The set cost function is ignored! LCB acquisition does not make sense with cost.\n"
     ]
    },
    {
     "name": "stderr",
     "output_type": "stream",
     "text": [
      "reconstraining parameters GP_regression.Mat52\n",
      "reconstraining parameters GP_regression.Gaussian_noise.variance\n"
     ]
    },
    {
     "name": "stdout",
     "output_type": "stream",
     "text": [
      "sampling end!. 2019-04-17 16:55:31.707194 2019-04-17 16:55:48.625070\n"
     ]
    },
    {
     "name": "stderr",
     "output_type": "stream",
     "text": [
      "[I 2019-04-17 16:55:49,644] Finished a trial resulted in value: -0.3047042003453383. Current best value is -0.4598641583430082 with parameters: {'a': 0.5267188631179948, 'b': 0.0, 'ab': [0.5267188631179948, 0.0]}.\n"
     ]
    },
    {
     "name": "stdout",
     "output_type": "stream",
     "text": [
      "The set cost function is ignored! LCB acquisition does not make sense with cost.\n"
     ]
    },
    {
     "name": "stderr",
     "output_type": "stream",
     "text": [
      "reconstraining parameters GP_regression.Mat52\n",
      "reconstraining parameters GP_regression.Gaussian_noise.variance\n"
     ]
    },
    {
     "name": "stdout",
     "output_type": "stream",
     "text": [
      "sampling end!. 2019-04-17 16:55:49.646738 2019-04-17 16:56:07.829904\n"
     ]
    },
    {
     "name": "stderr",
     "output_type": "stream",
     "text": [
      "[I 2019-04-17 16:56:08,844] Finished a trial resulted in value: -0.3085701470466484. Current best value is -0.4598641583430082 with parameters: {'a': 0.5267188631179948, 'b': 0.0, 'ab': [0.5267188631179948, 0.0]}.\n"
     ]
    },
    {
     "name": "stdout",
     "output_type": "stream",
     "text": [
      "The set cost function is ignored! LCB acquisition does not make sense with cost.\n"
     ]
    },
    {
     "name": "stderr",
     "output_type": "stream",
     "text": [
      "reconstraining parameters GP_regression.Mat52\n",
      "reconstraining parameters GP_regression.Gaussian_noise.variance\n"
     ]
    },
    {
     "name": "stdout",
     "output_type": "stream",
     "text": [
      "sampling end!. 2019-04-17 16:56:08.846092 2019-04-17 16:56:23.979557\n"
     ]
    },
    {
     "name": "stderr",
     "output_type": "stream",
     "text": [
      "[I 2019-04-17 16:56:24,994] Finished a trial resulted in value: -0.31672207261718766. Current best value is -0.4598641583430082 with parameters: {'a': 0.5267188631179948, 'b': 0.0, 'ab': [0.5267188631179948, 0.0]}.\n"
     ]
    },
    {
     "name": "stdout",
     "output_type": "stream",
     "text": [
      "The set cost function is ignored! LCB acquisition does not make sense with cost.\n"
     ]
    },
    {
     "name": "stderr",
     "output_type": "stream",
     "text": [
      "reconstraining parameters GP_regression.Mat52\n",
      "reconstraining parameters GP_regression.Gaussian_noise.variance\n"
     ]
    },
    {
     "name": "stdout",
     "output_type": "stream",
     "text": [
      "sampling end!. 2019-04-17 16:56:24.996044 2019-04-17 16:56:43.366376\n"
     ]
    },
    {
     "name": "stderr",
     "output_type": "stream",
     "text": [
      "[I 2019-04-17 16:56:44,380] Finished a trial resulted in value: -0.26482533225478594. Current best value is -0.4598641583430082 with parameters: {'a': 0.5267188631179948, 'b': 0.0, 'ab': [0.5267188631179948, 0.0]}.\n"
     ]
    },
    {
     "name": "stdout",
     "output_type": "stream",
     "text": [
      "The set cost function is ignored! LCB acquisition does not make sense with cost.\n"
     ]
    },
    {
     "name": "stderr",
     "output_type": "stream",
     "text": [
      "reconstraining parameters GP_regression.Mat52\n",
      "reconstraining parameters GP_regression.Gaussian_noise.variance\n"
     ]
    },
    {
     "name": "stdout",
     "output_type": "stream",
     "text": [
      "sampling end!. 2019-04-17 16:56:44.383185 2019-04-17 16:57:02.004861\n"
     ]
    },
    {
     "name": "stderr",
     "output_type": "stream",
     "text": [
      "[I 2019-04-17 16:57:03,018] Finished a trial resulted in value: -0.12221655891434657. Current best value is -0.4598641583430082 with parameters: {'a': 0.5267188631179948, 'b': 0.0, 'ab': [0.5267188631179948, 0.0]}.\n"
     ]
    },
    {
     "name": "stdout",
     "output_type": "stream",
     "text": [
      "The set cost function is ignored! LCB acquisition does not make sense with cost.\n"
     ]
    },
    {
     "name": "stderr",
     "output_type": "stream",
     "text": [
      "reconstraining parameters GP_regression.Mat52\n",
      "reconstraining parameters GP_regression.Gaussian_noise.variance\n"
     ]
    },
    {
     "name": "stdout",
     "output_type": "stream",
     "text": [
      "sampling end!. 2019-04-17 16:57:03.020216 2019-04-17 16:57:21.176589\n"
     ]
    },
    {
     "name": "stderr",
     "output_type": "stream",
     "text": [
      "[I 2019-04-17 16:57:22,194] Finished a trial resulted in value: -0.02297750010647312. Current best value is -0.4598641583430082 with parameters: {'a': 0.5267188631179948, 'b': 0.0, 'ab': [0.5267188631179948, 0.0]}.\n"
     ]
    },
    {
     "name": "stdout",
     "output_type": "stream",
     "text": [
      "The set cost function is ignored! LCB acquisition does not make sense with cost.\n"
     ]
    },
    {
     "name": "stderr",
     "output_type": "stream",
     "text": [
      "reconstraining parameters GP_regression.Mat52\n",
      "reconstraining parameters GP_regression.Gaussian_noise.variance\n"
     ]
    },
    {
     "name": "stdout",
     "output_type": "stream",
     "text": [
      "sampling end!. 2019-04-17 16:57:22.197236 2019-04-17 16:57:38.144028\n"
     ]
    },
    {
     "name": "stderr",
     "output_type": "stream",
     "text": [
      "[I 2019-04-17 16:57:39,162] Finished a trial resulted in value: 0.07754257879309523. Current best value is -0.4598641583430082 with parameters: {'a': 0.5267188631179948, 'b': 0.0, 'ab': [0.5267188631179948, 0.0]}.\n"
     ]
    },
    {
     "name": "stdout",
     "output_type": "stream",
     "text": [
      "The set cost function is ignored! LCB acquisition does not make sense with cost.\n"
     ]
    },
    {
     "name": "stderr",
     "output_type": "stream",
     "text": [
      "reconstraining parameters GP_regression.Mat52\n",
      "reconstraining parameters GP_regression.Gaussian_noise.variance\n"
     ]
    },
    {
     "name": "stdout",
     "output_type": "stream",
     "text": [
      "sampling end!. 2019-04-17 16:57:39.164309 2019-04-17 16:57:55.101549\n"
     ]
    },
    {
     "name": "stderr",
     "output_type": "stream",
     "text": [
      "[I 2019-04-17 16:57:56,117] Finished a trial resulted in value: 0.17268941810332722. Current best value is -0.4598641583430082 with parameters: {'a': 0.5267188631179948, 'b': 0.0, 'ab': [0.5267188631179948, 0.0]}.\n"
     ]
    },
    {
     "name": "stdout",
     "output_type": "stream",
     "text": [
      "The set cost function is ignored! LCB acquisition does not make sense with cost.\n"
     ]
    },
    {
     "name": "stderr",
     "output_type": "stream",
     "text": [
      "reconstraining parameters GP_regression.Mat52\n",
      "reconstraining parameters GP_regression.Gaussian_noise.variance\n"
     ]
    },
    {
     "name": "stdout",
     "output_type": "stream",
     "text": [
      "sampling end!. 2019-04-17 16:57:56.119861 2019-04-17 16:58:12.561223\n"
     ]
    },
    {
     "name": "stderr",
     "output_type": "stream",
     "text": [
      "[I 2019-04-17 16:58:13,583] Finished a trial resulted in value: 0.21065710282103065. Current best value is -0.4598641583430082 with parameters: {'a': 0.5267188631179948, 'b': 0.0, 'ab': [0.5267188631179948, 0.0]}.\n"
     ]
    },
    {
     "name": "stdout",
     "output_type": "stream",
     "text": [
      "The set cost function is ignored! LCB acquisition does not make sense with cost.\n"
     ]
    },
    {
     "name": "stderr",
     "output_type": "stream",
     "text": [
      "reconstraining parameters GP_regression.Mat52\n",
      "reconstraining parameters GP_regression.Gaussian_noise.variance\n"
     ]
    },
    {
     "name": "stdout",
     "output_type": "stream",
     "text": [
      "sampling end!. 2019-04-17 16:58:13.585469 2019-04-17 16:58:30.724297\n"
     ]
    },
    {
     "name": "stderr",
     "output_type": "stream",
     "text": [
      "[I 2019-04-17 16:58:31,745] Finished a trial resulted in value: 0.30955753265278807. Current best value is -0.4598641583430082 with parameters: {'a': 0.5267188631179948, 'b': 0.0, 'ab': [0.5267188631179948, 0.0]}.\n"
     ]
    },
    {
     "name": "stdout",
     "output_type": "stream",
     "text": [
      "The set cost function is ignored! LCB acquisition does not make sense with cost.\n"
     ]
    },
    {
     "name": "stderr",
     "output_type": "stream",
     "text": [
      "reconstraining parameters GP_regression.Mat52\n",
      "reconstraining parameters GP_regression.Gaussian_noise.variance\n"
     ]
    },
    {
     "name": "stdout",
     "output_type": "stream",
     "text": [
      "sampling end!. 2019-04-17 16:58:31.748341 2019-04-17 16:58:49.741041\n"
     ]
    },
    {
     "name": "stderr",
     "output_type": "stream",
     "text": [
      "[I 2019-04-17 16:58:50,755] Finished a trial resulted in value: 0.4575622920746388. Current best value is -0.4598641583430082 with parameters: {'a': 0.5267188631179948, 'b': 0.0, 'ab': [0.5267188631179948, 0.0]}.\n"
     ]
    },
    {
     "name": "stdout",
     "output_type": "stream",
     "text": [
      "The set cost function is ignored! LCB acquisition does not make sense with cost.\n"
     ]
    },
    {
     "name": "stderr",
     "output_type": "stream",
     "text": [
      "reconstraining parameters GP_regression.Mat52\n",
      "reconstraining parameters GP_regression.Gaussian_noise.variance\n"
     ]
    },
    {
     "name": "stdout",
     "output_type": "stream",
     "text": [
      "sampling end!. 2019-04-17 16:58:50.757105 2019-04-17 16:59:09.763678\n"
     ]
    },
    {
     "name": "stderr",
     "output_type": "stream",
     "text": [
      "[I 2019-04-17 16:59:10,781] Finished a trial resulted in value: 0.42997937981946766. Current best value is -0.4598641583430082 with parameters: {'a': 0.5267188631179948, 'b': 0.0, 'ab': [0.5267188631179948, 0.0]}.\n"
     ]
    },
    {
     "name": "stdout",
     "output_type": "stream",
     "text": [
      "The set cost function is ignored! LCB acquisition does not make sense with cost.\n"
     ]
    },
    {
     "name": "stderr",
     "output_type": "stream",
     "text": [
      "reconstraining parameters GP_regression.Mat52\n",
      "reconstraining parameters GP_regression.Gaussian_noise.variance\n"
     ]
    },
    {
     "name": "stdout",
     "output_type": "stream",
     "text": [
      "sampling end!. 2019-04-17 16:59:10.783272 2019-04-17 16:59:28.903688\n"
     ]
    },
    {
     "name": "stderr",
     "output_type": "stream",
     "text": [
      "[I 2019-04-17 16:59:29,917] Finished a trial resulted in value: 0.3790587095858712. Current best value is -0.4598641583430082 with parameters: {'a': 0.5267188631179948, 'b': 0.0, 'ab': [0.5267188631179948, 0.0]}.\n"
     ]
    },
    {
     "name": "stdout",
     "output_type": "stream",
     "text": [
      "The set cost function is ignored! LCB acquisition does not make sense with cost.\n"
     ]
    },
    {
     "name": "stderr",
     "output_type": "stream",
     "text": [
      "reconstraining parameters GP_regression.Mat52\n",
      "reconstraining parameters GP_regression.Gaussian_noise.variance\n"
     ]
    },
    {
     "name": "stdout",
     "output_type": "stream",
     "text": [
      "sampling end!. 2019-04-17 16:59:29.919763 2019-04-17 16:59:44.022279\n"
     ]
    },
    {
     "name": "stderr",
     "output_type": "stream",
     "text": [
      "[I 2019-04-17 16:59:45,039] Finished a trial resulted in value: 0.3583681688071811. Current best value is -0.4598641583430082 with parameters: {'a': 0.5267188631179948, 'b': 0.0, 'ab': [0.5267188631179948, 0.0]}.\n"
     ]
    },
    {
     "name": "stdout",
     "output_type": "stream",
     "text": [
      "The set cost function is ignored! LCB acquisition does not make sense with cost.\n"
     ]
    },
    {
     "name": "stderr",
     "output_type": "stream",
     "text": [
      "reconstraining parameters GP_regression.Mat52\n",
      "reconstraining parameters GP_regression.Gaussian_noise.variance\n"
     ]
    },
    {
     "name": "stdout",
     "output_type": "stream",
     "text": [
      "sampling end!. 2019-04-17 16:59:45.042068 2019-04-17 16:59:59.382983\n"
     ]
    },
    {
     "name": "stderr",
     "output_type": "stream",
     "text": [
      "[I 2019-04-17 17:00:00,402] Finished a trial resulted in value: 0.4379846674933253. Current best value is -0.4598641583430082 with parameters: {'a': 0.5267188631179948, 'b': 0.0, 'ab': [0.5267188631179948, 0.0]}.\n"
     ]
    },
    {
     "name": "stdout",
     "output_type": "stream",
     "text": [
      "The set cost function is ignored! LCB acquisition does not make sense with cost.\n"
     ]
    },
    {
     "name": "stderr",
     "output_type": "stream",
     "text": [
      "reconstraining parameters GP_regression.Mat52\n",
      "reconstraining parameters GP_regression.Gaussian_noise.variance\n"
     ]
    },
    {
     "name": "stdout",
     "output_type": "stream",
     "text": [
      "sampling end!. 2019-04-17 17:00:00.404283 2019-04-17 17:00:19.398067\n"
     ]
    },
    {
     "name": "stderr",
     "output_type": "stream",
     "text": [
      "[I 2019-04-17 17:00:20,412] Finished a trial resulted in value: 0.3126848847441642. Current best value is -0.4598641583430082 with parameters: {'a': 0.5267188631179948, 'b': 0.0, 'ab': [0.5267188631179948, 0.0]}.\n"
     ]
    },
    {
     "name": "stdout",
     "output_type": "stream",
     "text": [
      "The set cost function is ignored! LCB acquisition does not make sense with cost.\n"
     ]
    },
    {
     "name": "stderr",
     "output_type": "stream",
     "text": [
      "reconstraining parameters GP_regression.Mat52\n",
      "reconstraining parameters GP_regression.Gaussian_noise.variance\n"
     ]
    },
    {
     "name": "stdout",
     "output_type": "stream",
     "text": [
      "sampling end!. 2019-04-17 17:00:20.414485 2019-04-17 17:00:36.316394\n"
     ]
    },
    {
     "name": "stderr",
     "output_type": "stream",
     "text": [
      "[I 2019-04-17 17:00:37,332] Finished a trial resulted in value: 0.26972578213629644. Current best value is -0.4598641583430082 with parameters: {'a': 0.5267188631179948, 'b': 0.0, 'ab': [0.5267188631179948, 0.0]}.\n"
     ]
    },
    {
     "name": "stdout",
     "output_type": "stream",
     "text": [
      "The set cost function is ignored! LCB acquisition does not make sense with cost.\n"
     ]
    },
    {
     "name": "stderr",
     "output_type": "stream",
     "text": [
      "reconstraining parameters GP_regression.Mat52\n",
      "reconstraining parameters GP_regression.Gaussian_noise.variance\n"
     ]
    },
    {
     "name": "stdout",
     "output_type": "stream",
     "text": [
      "sampling end!. 2019-04-17 17:00:37.334028 2019-04-17 17:00:53.258838\n"
     ]
    },
    {
     "name": "stderr",
     "output_type": "stream",
     "text": [
      "[I 2019-04-17 17:00:54,280] Finished a trial resulted in value: 0.18421134853784016. Current best value is -0.4598641583430082 with parameters: {'a': 0.5267188631179948, 'b': 0.0, 'ab': [0.5267188631179948, 0.0]}.\n"
     ]
    },
    {
     "name": "stdout",
     "output_type": "stream",
     "text": [
      "The set cost function is ignored! LCB acquisition does not make sense with cost.\n"
     ]
    },
    {
     "name": "stderr",
     "output_type": "stream",
     "text": [
      "reconstraining parameters GP_regression.Mat52\n",
      "reconstraining parameters GP_regression.Gaussian_noise.variance\n"
     ]
    },
    {
     "name": "stdout",
     "output_type": "stream",
     "text": [
      "sampling end!. 2019-04-17 17:00:54.282643 2019-04-17 17:01:12.477776\n"
     ]
    },
    {
     "name": "stderr",
     "output_type": "stream",
     "text": [
      "[I 2019-04-17 17:01:13,495] Finished a trial resulted in value: 0.12853040131216925. Current best value is -0.4598641583430082 with parameters: {'a': 0.5267188631179948, 'b': 0.0, 'ab': [0.5267188631179948, 0.0]}.\n"
     ]
    },
    {
     "name": "stdout",
     "output_type": "stream",
     "text": [
      "The set cost function is ignored! LCB acquisition does not make sense with cost.\n"
     ]
    },
    {
     "name": "stderr",
     "output_type": "stream",
     "text": [
      "reconstraining parameters GP_regression.Mat52\n",
      "reconstraining parameters GP_regression.Gaussian_noise.variance\n"
     ]
    },
    {
     "name": "stdout",
     "output_type": "stream",
     "text": [
      "sampling end!. 2019-04-17 17:01:13.497550 2019-04-17 17:01:31.382028\n"
     ]
    },
    {
     "name": "stderr",
     "output_type": "stream",
     "text": [
      "[I 2019-04-17 17:01:32,403] Finished a trial resulted in value: 0.11164552711375443. Current best value is -0.4598641583430082 with parameters: {'a': 0.5267188631179948, 'b': 0.0, 'ab': [0.5267188631179948, 0.0]}.\n"
     ]
    },
    {
     "name": "stdout",
     "output_type": "stream",
     "text": [
      "The set cost function is ignored! LCB acquisition does not make sense with cost.\n"
     ]
    },
    {
     "name": "stderr",
     "output_type": "stream",
     "text": [
      "reconstraining parameters GP_regression.Mat52\n",
      "reconstraining parameters GP_regression.Gaussian_noise.variance\n"
     ]
    },
    {
     "name": "stdout",
     "output_type": "stream",
     "text": [
      "sampling end!. 2019-04-17 17:01:32.405883 2019-04-17 17:01:48.657687\n"
     ]
    },
    {
     "name": "stderr",
     "output_type": "stream",
     "text": [
      "[I 2019-04-17 17:01:49,679] Finished a trial resulted in value: -0.05153472941590462. Current best value is -0.4598641583430082 with parameters: {'a': 0.5267188631179948, 'b': 0.0, 'ab': [0.5267188631179948, 0.0]}.\n"
     ]
    },
    {
     "name": "stdout",
     "output_type": "stream",
     "text": [
      "The set cost function is ignored! LCB acquisition does not make sense with cost.\n"
     ]
    },
    {
     "name": "stderr",
     "output_type": "stream",
     "text": [
      "reconstraining parameters GP_regression.Mat52\n",
      "reconstraining parameters GP_regression.Gaussian_noise.variance\n"
     ]
    },
    {
     "name": "stdout",
     "output_type": "stream",
     "text": [
      "sampling end!. 2019-04-17 17:01:49.681932 2019-04-17 17:02:05.595699\n"
     ]
    },
    {
     "name": "stderr",
     "output_type": "stream",
     "text": [
      "[I 2019-04-17 17:02:06,610] Finished a trial resulted in value: -0.03408389687776296. Current best value is -0.4598641583430082 with parameters: {'a': 0.5267188631179948, 'b': 0.0, 'ab': [0.5267188631179948, 0.0]}.\n"
     ]
    },
    {
     "name": "stdout",
     "output_type": "stream",
     "text": [
      "The set cost function is ignored! LCB acquisition does not make sense with cost.\n"
     ]
    },
    {
     "name": "stderr",
     "output_type": "stream",
     "text": [
      "reconstraining parameters GP_regression.Mat52\n",
      "reconstraining parameters GP_regression.Gaussian_noise.variance\n"
     ]
    },
    {
     "name": "stdout",
     "output_type": "stream",
     "text": [
      "sampling end!. 2019-04-17 17:02:06.613080 2019-04-17 17:02:25.448036\n"
     ]
    },
    {
     "name": "stderr",
     "output_type": "stream",
     "text": [
      "[I 2019-04-17 17:02:26,466] Finished a trial resulted in value: -0.007049086523697373. Current best value is -0.4598641583430082 with parameters: {'a': 0.5267188631179948, 'b': 0.0, 'ab': [0.5267188631179948, 0.0]}.\n"
     ]
    },
    {
     "name": "stdout",
     "output_type": "stream",
     "text": [
      "The set cost function is ignored! LCB acquisition does not make sense with cost.\n"
     ]
    },
    {
     "name": "stderr",
     "output_type": "stream",
     "text": [
      "reconstraining parameters GP_regression.Mat52\n",
      "reconstraining parameters GP_regression.Gaussian_noise.variance\n"
     ]
    },
    {
     "name": "stdout",
     "output_type": "stream",
     "text": [
      "sampling end!. 2019-04-17 17:02:26.468523 2019-04-17 17:02:42.965281\n"
     ]
    },
    {
     "name": "stderr",
     "output_type": "stream",
     "text": [
      "[I 2019-04-17 17:02:43,979] Finished a trial resulted in value: 0.22011019972041135. Current best value is -0.4598641583430082 with parameters: {'a': 0.5267188631179948, 'b': 0.0, 'ab': [0.5267188631179948, 0.0]}.\n"
     ]
    },
    {
     "name": "stdout",
     "output_type": "stream",
     "text": [
      "The set cost function is ignored! LCB acquisition does not make sense with cost.\n"
     ]
    },
    {
     "name": "stderr",
     "output_type": "stream",
     "text": [
      "reconstraining parameters GP_regression.Mat52\n",
      "reconstraining parameters GP_regression.Gaussian_noise.variance\n"
     ]
    },
    {
     "name": "stdout",
     "output_type": "stream",
     "text": [
      "sampling end!. 2019-04-17 17:02:43.981551 2019-04-17 17:03:00.603834\n"
     ]
    },
    {
     "name": "stderr",
     "output_type": "stream",
     "text": [
      "[I 2019-04-17 17:03:01,625] Finished a trial resulted in value: 0.17677731308890166. Current best value is -0.4598641583430082 with parameters: {'a': 0.5267188631179948, 'b': 0.0, 'ab': [0.5267188631179948, 0.0]}.\n"
     ]
    },
    {
     "name": "stdout",
     "output_type": "stream",
     "text": [
      "The set cost function is ignored! LCB acquisition does not make sense with cost.\n"
     ]
    },
    {
     "name": "stderr",
     "output_type": "stream",
     "text": [
      "reconstraining parameters GP_regression.Mat52\n",
      "reconstraining parameters GP_regression.Gaussian_noise.variance\n"
     ]
    },
    {
     "name": "stdout",
     "output_type": "stream",
     "text": [
      "sampling end!. 2019-04-17 17:03:01.627717 2019-04-17 17:03:21.633798\n"
     ]
    },
    {
     "name": "stderr",
     "output_type": "stream",
     "text": [
      "[I 2019-04-17 17:03:22,658] Finished a trial resulted in value: 0.10067443160108291. Current best value is -0.4598641583430082 with parameters: {'a': 0.5267188631179948, 'b': 0.0, 'ab': [0.5267188631179948, 0.0]}.\n"
     ]
    },
    {
     "name": "stdout",
     "output_type": "stream",
     "text": [
      "The set cost function is ignored! LCB acquisition does not make sense with cost.\n"
     ]
    },
    {
     "name": "stderr",
     "output_type": "stream",
     "text": [
      "reconstraining parameters GP_regression.Mat52\n",
      "reconstraining parameters GP_regression.Gaussian_noise.variance\n"
     ]
    },
    {
     "name": "stdout",
     "output_type": "stream",
     "text": [
      "sampling end!. 2019-04-17 17:03:22.659915 2019-04-17 17:03:41.472557\n"
     ]
    },
    {
     "name": "stderr",
     "output_type": "stream",
     "text": [
      "[I 2019-04-17 17:03:42,496] Finished a trial resulted in value: -0.12620433948040716. Current best value is -0.4598641583430082 with parameters: {'a': 0.5267188631179948, 'b': 0.0, 'ab': [0.5267188631179948, 0.0]}.\n"
     ]
    },
    {
     "name": "stdout",
     "output_type": "stream",
     "text": [
      "The set cost function is ignored! LCB acquisition does not make sense with cost.\n"
     ]
    },
    {
     "name": "stderr",
     "output_type": "stream",
     "text": [
      "reconstraining parameters GP_regression.Mat52\n",
      "reconstraining parameters GP_regression.Gaussian_noise.variance\n"
     ]
    },
    {
     "name": "stdout",
     "output_type": "stream",
     "text": [
      "sampling end!. 2019-04-17 17:03:42.498416 2019-04-17 17:04:01.703513\n"
     ]
    },
    {
     "name": "stderr",
     "output_type": "stream",
     "text": [
      "[I 2019-04-17 17:04:02,718] Finished a trial resulted in value: -0.10878482641020729. Current best value is -0.4598641583430082 with parameters: {'a': 0.5267188631179948, 'b': 0.0, 'ab': [0.5267188631179948, 0.0]}.\n"
     ]
    },
    {
     "name": "stdout",
     "output_type": "stream",
     "text": [
      "The set cost function is ignored! LCB acquisition does not make sense with cost.\n"
     ]
    },
    {
     "name": "stderr",
     "output_type": "stream",
     "text": [
      "reconstraining parameters GP_regression.Mat52\n",
      "reconstraining parameters GP_regression.Gaussian_noise.variance\n"
     ]
    },
    {
     "name": "stdout",
     "output_type": "stream",
     "text": [
      "sampling end!. 2019-04-17 17:04:02.720456 2019-04-17 17:04:23.412691\n"
     ]
    },
    {
     "name": "stderr",
     "output_type": "stream",
     "text": [
      "[I 2019-04-17 17:04:24,431] Finished a trial resulted in value: 0.004890539776069156. Current best value is -0.4598641583430082 with parameters: {'a': 0.5267188631179948, 'b': 0.0, 'ab': [0.5267188631179948, 0.0]}.\n"
     ]
    },
    {
     "name": "stdout",
     "output_type": "stream",
     "text": [
      "The set cost function is ignored! LCB acquisition does not make sense with cost.\n"
     ]
    },
    {
     "name": "stderr",
     "output_type": "stream",
     "text": [
      "reconstraining parameters GP_regression.Mat52\n",
      "reconstraining parameters GP_regression.Gaussian_noise.variance\n"
     ]
    },
    {
     "name": "stdout",
     "output_type": "stream",
     "text": [
      "sampling end!. 2019-04-17 17:04:24.433381 2019-04-17 17:04:47.061782\n"
     ]
    },
    {
     "name": "stderr",
     "output_type": "stream",
     "text": [
      "[I 2019-04-17 17:04:48,081] Finished a trial resulted in value: -0.023671577128719576. Current best value is -0.4598641583430082 with parameters: {'a': 0.5267188631179948, 'b': 0.0, 'ab': [0.5267188631179948, 0.0]}.\n"
     ]
    },
    {
     "name": "stdout",
     "output_type": "stream",
     "text": [
      "The set cost function is ignored! LCB acquisition does not make sense with cost.\n"
     ]
    },
    {
     "name": "stderr",
     "output_type": "stream",
     "text": [
      "reconstraining parameters GP_regression.Mat52\n",
      "reconstraining parameters GP_regression.Gaussian_noise.variance\n"
     ]
    },
    {
     "name": "stdout",
     "output_type": "stream",
     "text": [
      "sampling end!. 2019-04-17 17:04:48.083835 2019-04-17 17:05:08.994196\n"
     ]
    },
    {
     "name": "stderr",
     "output_type": "stream",
     "text": [
      "[I 2019-04-17 17:05:10,011] Finished a trial resulted in value: -0.11164442917879601. Current best value is -0.4598641583430082 with parameters: {'a': 0.5267188631179948, 'b': 0.0, 'ab': [0.5267188631179948, 0.0]}.\n"
     ]
    },
    {
     "name": "stdout",
     "output_type": "stream",
     "text": [
      "The set cost function is ignored! LCB acquisition does not make sense with cost.\n"
     ]
    },
    {
     "name": "stderr",
     "output_type": "stream",
     "text": [
      "reconstraining parameters GP_regression.Mat52\n",
      "reconstraining parameters GP_regression.Gaussian_noise.variance\n"
     ]
    },
    {
     "name": "stdout",
     "output_type": "stream",
     "text": [
      "sampling end!. 2019-04-17 17:05:10.013432 2019-04-17 17:05:34.857646\n"
     ]
    },
    {
     "name": "stderr",
     "output_type": "stream",
     "text": [
      "[I 2019-04-17 17:05:35,888] Finished a trial resulted in value: -0.07000369186154608. Current best value is -0.4598641583430082 with parameters: {'a': 0.5267188631179948, 'b': 0.0, 'ab': [0.5267188631179948, 0.0]}.\n"
     ]
    },
    {
     "name": "stdout",
     "output_type": "stream",
     "text": [
      "The set cost function is ignored! LCB acquisition does not make sense with cost.\n"
     ]
    },
    {
     "name": "stderr",
     "output_type": "stream",
     "text": [
      "reconstraining parameters GP_regression.Mat52\n",
      "reconstraining parameters GP_regression.Gaussian_noise.variance\n"
     ]
    },
    {
     "name": "stdout",
     "output_type": "stream",
     "text": [
      "sampling end!. 2019-04-17 17:05:35.890576 2019-04-17 17:06:00.447057\n"
     ]
    },
    {
     "name": "stderr",
     "output_type": "stream",
     "text": [
      "[I 2019-04-17 17:06:01,462] Finished a trial resulted in value: 0.11314302981481951. Current best value is -0.4598641583430082 with parameters: {'a': 0.5267188631179948, 'b': 0.0, 'ab': [0.5267188631179948, 0.0]}.\n"
     ]
    },
    {
     "name": "stdout",
     "output_type": "stream",
     "text": [
      "The set cost function is ignored! LCB acquisition does not make sense with cost.\n"
     ]
    },
    {
     "name": "stderr",
     "output_type": "stream",
     "text": [
      "reconstraining parameters GP_regression.Mat52\n",
      "reconstraining parameters GP_regression.Gaussian_noise.variance\n"
     ]
    },
    {
     "name": "stdout",
     "output_type": "stream",
     "text": [
      "sampling end!. 2019-04-17 17:06:01.464322 2019-04-17 17:06:25.175816\n"
     ]
    },
    {
     "name": "stderr",
     "output_type": "stream",
     "text": [
      "[I 2019-04-17 17:06:26,197] Finished a trial resulted in value: -0.003033477498505582. Current best value is -0.4598641583430082 with parameters: {'a': 0.5267188631179948, 'b': 0.0, 'ab': [0.5267188631179948, 0.0]}.\n"
     ]
    },
    {
     "name": "stdout",
     "output_type": "stream",
     "text": [
      "The set cost function is ignored! LCB acquisition does not make sense with cost.\n"
     ]
    },
    {
     "name": "stderr",
     "output_type": "stream",
     "text": [
      "reconstraining parameters GP_regression.Mat52\n",
      "reconstraining parameters GP_regression.Gaussian_noise.variance\n"
     ]
    },
    {
     "name": "stdout",
     "output_type": "stream",
     "text": [
      "sampling end!. 2019-04-17 17:06:26.199030 2019-04-17 17:06:52.525482\n"
     ]
    },
    {
     "name": "stderr",
     "output_type": "stream",
     "text": [
      "[I 2019-04-17 17:06:53,549] Finished a trial resulted in value: 0.30084969809793083. Current best value is -0.4598641583430082 with parameters: {'a': 0.5267188631179948, 'b': 0.0, 'ab': [0.5267188631179948, 0.0]}.\n"
     ]
    },
    {
     "name": "stdout",
     "output_type": "stream",
     "text": [
      "The set cost function is ignored! LCB acquisition does not make sense with cost.\n"
     ]
    },
    {
     "name": "stderr",
     "output_type": "stream",
     "text": [
      "reconstraining parameters GP_regression.Mat52\n",
      "reconstraining parameters GP_regression.Gaussian_noise.variance\n"
     ]
    },
    {
     "name": "stdout",
     "output_type": "stream",
     "text": [
      "sampling end!. 2019-04-17 17:06:53.551475 2019-04-17 17:07:16.972258\n"
     ]
    },
    {
     "name": "stderr",
     "output_type": "stream",
     "text": [
      "[I 2019-04-17 17:07:17,994] Finished a trial resulted in value: 0.45788212335969747. Current best value is -0.4598641583430082 with parameters: {'a': 0.5267188631179948, 'b': 0.0, 'ab': [0.5267188631179948, 0.0]}.\n"
     ]
    },
    {
     "name": "stdout",
     "output_type": "stream",
     "text": [
      "The set cost function is ignored! LCB acquisition does not make sense with cost.\n"
     ]
    },
    {
     "name": "stderr",
     "output_type": "stream",
     "text": [
      "reconstraining parameters GP_regression.Mat52\n",
      "reconstraining parameters GP_regression.Gaussian_noise.variance\n"
     ]
    },
    {
     "name": "stdout",
     "output_type": "stream",
     "text": [
      "sampling end!. 2019-04-17 17:07:17.996658 2019-04-17 17:07:38.275604\n"
     ]
    },
    {
     "name": "stderr",
     "output_type": "stream",
     "text": [
      "[I 2019-04-17 17:07:39,301] Finished a trial resulted in value: 0.25522263590421645. Current best value is -0.4598641583430082 with parameters: {'a': 0.5267188631179948, 'b': 0.0, 'ab': [0.5267188631179948, 0.0]}.\n"
     ]
    },
    {
     "name": "stdout",
     "output_type": "stream",
     "text": [
      "The set cost function is ignored! LCB acquisition does not make sense with cost.\n"
     ]
    },
    {
     "name": "stderr",
     "output_type": "stream",
     "text": [
      "reconstraining parameters GP_regression.Mat52\n",
      "reconstraining parameters GP_regression.Gaussian_noise.variance\n"
     ]
    },
    {
     "name": "stdout",
     "output_type": "stream",
     "text": [
      "sampling end!. 2019-04-17 17:07:39.303306 2019-04-17 17:08:04.096913\n"
     ]
    },
    {
     "name": "stderr",
     "output_type": "stream",
     "text": [
      "[I 2019-04-17 17:08:05,117] Finished a trial resulted in value: 0.48346272457517125. Current best value is -0.4598641583430082 with parameters: {'a': 0.5267188631179948, 'b': 0.0, 'ab': [0.5267188631179948, 0.0]}.\n"
     ]
    },
    {
     "name": "stdout",
     "output_type": "stream",
     "text": [
      "The set cost function is ignored! LCB acquisition does not make sense with cost.\n"
     ]
    },
    {
     "name": "stderr",
     "output_type": "stream",
     "text": [
      "reconstraining parameters GP_regression.Mat52\n",
      "reconstraining parameters GP_regression.Gaussian_noise.variance\n"
     ]
    },
    {
     "name": "stdout",
     "output_type": "stream",
     "text": [
      "sampling end!. 2019-04-17 17:08:05.119399 2019-04-17 17:08:29.087354\n"
     ]
    },
    {
     "name": "stderr",
     "output_type": "stream",
     "text": [
      "[I 2019-04-17 17:08:30,107] Finished a trial resulted in value: 0.5621038197072029. Current best value is -0.4598641583430082 with parameters: {'a': 0.5267188631179948, 'b': 0.0, 'ab': [0.5267188631179948, 0.0]}.\n"
     ]
    },
    {
     "name": "stdout",
     "output_type": "stream",
     "text": [
      "The set cost function is ignored! LCB acquisition does not make sense with cost.\n"
     ]
    },
    {
     "name": "stderr",
     "output_type": "stream",
     "text": [
      "reconstraining parameters GP_regression.Mat52\n",
      "reconstraining parameters GP_regression.Gaussian_noise.variance\n"
     ]
    },
    {
     "name": "stdout",
     "output_type": "stream",
     "text": [
      "sampling end!. 2019-04-17 17:08:30.110365 2019-04-17 17:08:53.748293\n"
     ]
    },
    {
     "name": "stderr",
     "output_type": "stream",
     "text": [
      "[I 2019-04-17 17:08:54,771] Finished a trial resulted in value: 0.525319262523304. Current best value is -0.4598641583430082 with parameters: {'a': 0.5267188631179948, 'b': 0.0, 'ab': [0.5267188631179948, 0.0]}.\n"
     ]
    },
    {
     "name": "stdout",
     "output_type": "stream",
     "text": [
      "The set cost function is ignored! LCB acquisition does not make sense with cost.\n"
     ]
    },
    {
     "name": "stderr",
     "output_type": "stream",
     "text": [
      "reconstraining parameters GP_regression.Mat52\n",
      "reconstraining parameters GP_regression.Gaussian_noise.variance\n"
     ]
    },
    {
     "name": "stdout",
     "output_type": "stream",
     "text": [
      "sampling end!. 2019-04-17 17:08:54.773537 2019-04-17 17:09:19.766089\n"
     ]
    },
    {
     "name": "stderr",
     "output_type": "stream",
     "text": [
      "[I 2019-04-17 17:09:20,785] Finished a trial resulted in value: 0.30791157104176. Current best value is -0.4598641583430082 with parameters: {'a': 0.5267188631179948, 'b': 0.0, 'ab': [0.5267188631179948, 0.0]}.\n"
     ]
    },
    {
     "name": "stdout",
     "output_type": "stream",
     "text": [
      "The set cost function is ignored! LCB acquisition does not make sense with cost.\n"
     ]
    },
    {
     "name": "stderr",
     "output_type": "stream",
     "text": [
      "reconstraining parameters GP_regression.Mat52\n",
      "reconstraining parameters GP_regression.Gaussian_noise.variance\n"
     ]
    },
    {
     "name": "stdout",
     "output_type": "stream",
     "text": [
      "sampling end!. 2019-04-17 17:09:20.787275 2019-04-17 17:09:43.653533\n"
     ]
    },
    {
     "name": "stderr",
     "output_type": "stream",
     "text": [
      "[I 2019-04-17 17:09:44,669] Finished a trial resulted in value: 0.09436850240281235. Current best value is -0.4598641583430082 with parameters: {'a': 0.5267188631179948, 'b': 0.0, 'ab': [0.5267188631179948, 0.0]}.\n"
     ]
    },
    {
     "name": "stdout",
     "output_type": "stream",
     "text": [
      "The set cost function is ignored! LCB acquisition does not make sense with cost.\n"
     ]
    },
    {
     "name": "stderr",
     "output_type": "stream",
     "text": [
      "reconstraining parameters GP_regression.Mat52\n",
      "reconstraining parameters GP_regression.Gaussian_noise.variance\n"
     ]
    },
    {
     "name": "stdout",
     "output_type": "stream",
     "text": [
      "sampling end!. 2019-04-17 17:09:44.670910 2019-04-17 17:10:07.765766\n"
     ]
    },
    {
     "name": "stderr",
     "output_type": "stream",
     "text": [
      "[I 2019-04-17 17:10:08,786] Finished a trial resulted in value: -0.10849687143834276. Current best value is -0.4598641583430082 with parameters: {'a': 0.5267188631179948, 'b': 0.0, 'ab': [0.5267188631179948, 0.0]}.\n"
     ]
    },
    {
     "name": "stdout",
     "output_type": "stream",
     "text": [
      "The set cost function is ignored! LCB acquisition does not make sense with cost.\n"
     ]
    },
    {
     "name": "stderr",
     "output_type": "stream",
     "text": [
      "reconstraining parameters GP_regression.Mat52\n",
      "reconstraining parameters GP_regression.Gaussian_noise.variance\n"
     ]
    },
    {
     "name": "stdout",
     "output_type": "stream",
     "text": [
      "sampling end!. 2019-04-17 17:10:08.788630 2019-04-17 17:10:33.352877\n"
     ]
    },
    {
     "name": "stderr",
     "output_type": "stream",
     "text": [
      "[I 2019-04-17 17:10:34,370] Finished a trial resulted in value: -0.19775166972158417. Current best value is -0.4598641583430082 with parameters: {'a': 0.5267188631179948, 'b': 0.0, 'ab': [0.5267188631179948, 0.0]}.\n"
     ]
    },
    {
     "name": "stdout",
     "output_type": "stream",
     "text": [
      "The set cost function is ignored! LCB acquisition does not make sense with cost.\n"
     ]
    },
    {
     "name": "stderr",
     "output_type": "stream",
     "text": [
      "reconstraining parameters GP_regression.Mat52\n",
      "reconstraining parameters GP_regression.Gaussian_noise.variance\n"
     ]
    },
    {
     "name": "stdout",
     "output_type": "stream",
     "text": [
      "sampling end!. 2019-04-17 17:10:34.372971 2019-04-17 17:10:57.937825\n"
     ]
    },
    {
     "name": "stderr",
     "output_type": "stream",
     "text": [
      "[I 2019-04-17 17:10:58,956] Finished a trial resulted in value: -0.26486088555177817. Current best value is -0.4598641583430082 with parameters: {'a': 0.5267188631179948, 'b': 0.0, 'ab': [0.5267188631179948, 0.0]}.\n"
     ]
    },
    {
     "name": "stdout",
     "output_type": "stream",
     "text": [
      "The set cost function is ignored! LCB acquisition does not make sense with cost.\n"
     ]
    },
    {
     "name": "stderr",
     "output_type": "stream",
     "text": [
      "reconstraining parameters GP_regression.Mat52\n",
      "reconstraining parameters GP_regression.Gaussian_noise.variance\n"
     ]
    },
    {
     "name": "stdout",
     "output_type": "stream",
     "text": [
      "sampling end!. 2019-04-17 17:10:58.958771 2019-04-17 17:11:25.505170\n"
     ]
    },
    {
     "name": "stderr",
     "output_type": "stream",
     "text": [
      "[I 2019-04-17 17:11:26,522] Finished a trial resulted in value: -0.23963292212232043. Current best value is -0.4598641583430082 with parameters: {'a': 0.5267188631179948, 'b': 0.0, 'ab': [0.5267188631179948, 0.0]}.\n"
     ]
    },
    {
     "name": "stdout",
     "output_type": "stream",
     "text": [
      "The set cost function is ignored! LCB acquisition does not make sense with cost.\n"
     ]
    },
    {
     "name": "stderr",
     "output_type": "stream",
     "text": [
      "reconstraining parameters GP_regression.Mat52\n",
      "reconstraining parameters GP_regression.Gaussian_noise.variance\n"
     ]
    },
    {
     "name": "stdout",
     "output_type": "stream",
     "text": [
      "sampling end!. 2019-04-17 17:11:26.524755 2019-04-17 17:11:49.932815\n"
     ]
    },
    {
     "name": "stderr",
     "output_type": "stream",
     "text": [
      "[I 2019-04-17 17:11:50,953] Finished a trial resulted in value: -0.2621415272415567. Current best value is -0.4598641583430082 with parameters: {'a': 0.5267188631179948, 'b': 0.0, 'ab': [0.5267188631179948, 0.0]}.\n"
     ]
    },
    {
     "name": "stdout",
     "output_type": "stream",
     "text": [
      "The set cost function is ignored! LCB acquisition does not make sense with cost.\n"
     ]
    },
    {
     "name": "stderr",
     "output_type": "stream",
     "text": [
      "reconstraining parameters GP_regression.Mat52\n",
      "reconstraining parameters GP_regression.Gaussian_noise.variance\n"
     ]
    },
    {
     "name": "stdout",
     "output_type": "stream",
     "text": [
      "sampling end!. 2019-04-17 17:11:50.955926 2019-04-17 17:12:14.992312\n"
     ]
    },
    {
     "name": "stderr",
     "output_type": "stream",
     "text": [
      "[I 2019-04-17 17:12:16,015] Finished a trial resulted in value: -0.28023218045778153. Current best value is -0.4598641583430082 with parameters: {'a': 0.5267188631179948, 'b': 0.0, 'ab': [0.5267188631179948, 0.0]}.\n"
     ]
    },
    {
     "name": "stdout",
     "output_type": "stream",
     "text": [
      "The set cost function is ignored! LCB acquisition does not make sense with cost.\n"
     ]
    },
    {
     "name": "stderr",
     "output_type": "stream",
     "text": [
      "reconstraining parameters GP_regression.Mat52\n",
      "reconstraining parameters GP_regression.Gaussian_noise.variance\n"
     ]
    },
    {
     "name": "stdout",
     "output_type": "stream",
     "text": [
      "sampling end!. 2019-04-17 17:12:16.017343 2019-04-17 17:12:40.068790\n"
     ]
    },
    {
     "name": "stderr",
     "output_type": "stream",
     "text": [
      "[I 2019-04-17 17:12:41,089] Finished a trial resulted in value: -0.2852757734305437. Current best value is -0.4598641583430082 with parameters: {'a': 0.5267188631179948, 'b': 0.0, 'ab': [0.5267188631179948, 0.0]}.\n"
     ]
    },
    {
     "name": "stdout",
     "output_type": "stream",
     "text": [
      "The set cost function is ignored! LCB acquisition does not make sense with cost.\n"
     ]
    },
    {
     "name": "stderr",
     "output_type": "stream",
     "text": [
      "reconstraining parameters GP_regression.Mat52\n",
      "reconstraining parameters GP_regression.Gaussian_noise.variance\n"
     ]
    },
    {
     "name": "stdout",
     "output_type": "stream",
     "text": [
      "sampling end!. 2019-04-17 17:12:41.091343 2019-04-17 17:13:03.977808\n"
     ]
    },
    {
     "name": "stderr",
     "output_type": "stream",
     "text": [
      "[I 2019-04-17 17:13:05,004] Finished a trial resulted in value: -0.20520326823288002. Current best value is -0.4598641583430082 with parameters: {'a': 0.5267188631179948, 'b': 0.0, 'ab': [0.5267188631179948, 0.0]}.\n"
     ]
    },
    {
     "name": "stdout",
     "output_type": "stream",
     "text": [
      "The set cost function is ignored! LCB acquisition does not make sense with cost.\n"
     ]
    },
    {
     "name": "stderr",
     "output_type": "stream",
     "text": [
      "reconstraining parameters GP_regression.Mat52\n",
      "reconstraining parameters GP_regression.Gaussian_noise.variance\n"
     ]
    },
    {
     "name": "stdout",
     "output_type": "stream",
     "text": [
      "sampling end!. 2019-04-17 17:13:05.006714 2019-04-17 17:13:27.988369\n"
     ]
    },
    {
     "name": "stderr",
     "output_type": "stream",
     "text": [
      "[I 2019-04-17 17:13:29,010] Finished a trial resulted in value: -0.06332402804746629. Current best value is -0.4598641583430082 with parameters: {'a': 0.5267188631179948, 'b': 0.0, 'ab': [0.5267188631179948, 0.0]}.\n"
     ]
    },
    {
     "name": "stdout",
     "output_type": "stream",
     "text": [
      "The set cost function is ignored! LCB acquisition does not make sense with cost.\n"
     ]
    },
    {
     "name": "stderr",
     "output_type": "stream",
     "text": [
      "reconstraining parameters GP_regression.Mat52\n",
      "reconstraining parameters GP_regression.Gaussian_noise.variance\n"
     ]
    },
    {
     "name": "stdout",
     "output_type": "stream",
     "text": [
      "sampling end!. 2019-04-17 17:13:29.012319 2019-04-17 17:13:53.881315\n"
     ]
    },
    {
     "name": "stderr",
     "output_type": "stream",
     "text": [
      "[I 2019-04-17 17:13:54,899] Finished a trial resulted in value: -0.1901590834615859. Current best value is -0.4598641583430082 with parameters: {'a': 0.5267188631179948, 'b': 0.0, 'ab': [0.5267188631179948, 0.0]}.\n"
     ]
    },
    {
     "name": "stdout",
     "output_type": "stream",
     "text": [
      "The set cost function is ignored! LCB acquisition does not make sense with cost.\n"
     ]
    },
    {
     "name": "stderr",
     "output_type": "stream",
     "text": [
      "reconstraining parameters GP_regression.Mat52\n",
      "reconstraining parameters GP_regression.Gaussian_noise.variance\n"
     ]
    },
    {
     "name": "stdout",
     "output_type": "stream",
     "text": [
      "sampling end!. 2019-04-17 17:13:54.901933 2019-04-17 17:14:19.358878\n"
     ]
    },
    {
     "name": "stderr",
     "output_type": "stream",
     "text": [
      "[I 2019-04-17 17:14:20,389] Finished a trial resulted in value: -0.08109142516841857. Current best value is -0.4598641583430082 with parameters: {'a': 0.5267188631179948, 'b': 0.0, 'ab': [0.5267188631179948, 0.0]}.\n"
     ]
    },
    {
     "name": "stdout",
     "output_type": "stream",
     "text": [
      "The set cost function is ignored! LCB acquisition does not make sense with cost.\n"
     ]
    },
    {
     "name": "stderr",
     "output_type": "stream",
     "text": [
      "reconstraining parameters GP_regression.Mat52\n",
      "reconstraining parameters GP_regression.Gaussian_noise.variance\n"
     ]
    },
    {
     "name": "stdout",
     "output_type": "stream",
     "text": [
      "sampling end!. 2019-04-17 17:14:20.391533 2019-04-17 17:14:43.657623\n"
     ]
    },
    {
     "name": "stderr",
     "output_type": "stream",
     "text": [
      "[I 2019-04-17 17:14:44,693] Finished a trial resulted in value: -0.1390828075982588. Current best value is -0.4598641583430082 with parameters: {'a': 0.5267188631179948, 'b': 0.0, 'ab': [0.5267188631179948, 0.0]}.\n"
     ]
    },
    {
     "name": "stdout",
     "output_type": "stream",
     "text": [
      "The set cost function is ignored! LCB acquisition does not make sense with cost.\n"
     ]
    },
    {
     "name": "stderr",
     "output_type": "stream",
     "text": [
      "reconstraining parameters GP_regression.Mat52\n",
      "reconstraining parameters GP_regression.Gaussian_noise.variance\n"
     ]
    },
    {
     "name": "stdout",
     "output_type": "stream",
     "text": [
      "sampling end!. 2019-04-17 17:14:44.695507 2019-04-17 17:15:08.977501\n"
     ]
    },
    {
     "name": "stderr",
     "output_type": "stream",
     "text": [
      "[I 2019-04-17 17:15:10,005] Finished a trial resulted in value: -0.3198316464434993. Current best value is -0.4598641583430082 with parameters: {'a': 0.5267188631179948, 'b': 0.0, 'ab': [0.5267188631179948, 0.0]}.\n"
     ]
    },
    {
     "name": "stdout",
     "output_type": "stream",
     "text": [
      "The set cost function is ignored! LCB acquisition does not make sense with cost.\n"
     ]
    },
    {
     "name": "stderr",
     "output_type": "stream",
     "text": [
      "reconstraining parameters GP_regression.Mat52\n",
      "reconstraining parameters GP_regression.Gaussian_noise.variance\n"
     ]
    },
    {
     "name": "stdout",
     "output_type": "stream",
     "text": [
      "sampling end!. 2019-04-17 17:15:10.007796 2019-04-17 17:15:35.221528\n"
     ]
    },
    {
     "name": "stderr",
     "output_type": "stream",
     "text": [
      "[I 2019-04-17 17:15:36,243] Finished a trial resulted in value: -0.5121491791728756. Current best value is -0.5121491791728756 with parameters: {'a': 0.42115056582560645, 'b': 0.0, 'ab': [0.42115056582560645, 0.0]}.\n"
     ]
    },
    {
     "name": "stdout",
     "output_type": "stream",
     "text": [
      "The set cost function is ignored! LCB acquisition does not make sense with cost.\n"
     ]
    },
    {
     "name": "stderr",
     "output_type": "stream",
     "text": [
      "reconstraining parameters GP_regression.Mat52\n",
      "reconstraining parameters GP_regression.Gaussian_noise.variance\n"
     ]
    },
    {
     "name": "stdout",
     "output_type": "stream",
     "text": [
      "sampling end!. 2019-04-17 17:15:36.245307 2019-04-17 17:16:01.338349\n"
     ]
    },
    {
     "name": "stderr",
     "output_type": "stream",
     "text": [
      "[I 2019-04-17 17:16:02,360] Finished a trial resulted in value: 0.055649238357143825. Current best value is -0.5121491791728756 with parameters: {'a': 0.42115056582560645, 'b': 0.0, 'ab': [0.42115056582560645, 0.0]}.\n"
     ]
    },
    {
     "name": "stdout",
     "output_type": "stream",
     "text": [
      "The set cost function is ignored! LCB acquisition does not make sense with cost.\n"
     ]
    },
    {
     "name": "stderr",
     "output_type": "stream",
     "text": [
      "reconstraining parameters GP_regression.Mat52\n",
      "reconstraining parameters GP_regression.Gaussian_noise.variance\n"
     ]
    },
    {
     "name": "stdout",
     "output_type": "stream",
     "text": [
      "sampling end!. 2019-04-17 17:16:02.361997 2019-04-17 17:16:27.828120\n"
     ]
    },
    {
     "name": "stderr",
     "output_type": "stream",
     "text": [
      "[I 2019-04-17 17:16:28,849] Finished a trial resulted in value: -0.4022715070388629. Current best value is -0.5121491791728756 with parameters: {'a': 0.42115056582560645, 'b': 0.0, 'ab': [0.42115056582560645, 0.0]}.\n"
     ]
    },
    {
     "name": "stdout",
     "output_type": "stream",
     "text": [
      "The set cost function is ignored! LCB acquisition does not make sense with cost.\n"
     ]
    },
    {
     "name": "stderr",
     "output_type": "stream",
     "text": [
      "reconstraining parameters GP_regression.Mat52\n",
      "reconstraining parameters GP_regression.Gaussian_noise.variance\n"
     ]
    },
    {
     "name": "stdout",
     "output_type": "stream",
     "text": [
      "sampling end!. 2019-04-17 17:16:28.852112 2019-04-17 17:16:55.538098\n"
     ]
    },
    {
     "name": "stderr",
     "output_type": "stream",
     "text": [
      "[I 2019-04-17 17:16:56,564] Finished a trial resulted in value: -0.4152902854730912. Current best value is -0.5121491791728756 with parameters: {'a': 0.42115056582560645, 'b': 0.0, 'ab': [0.42115056582560645, 0.0]}.\n"
     ]
    },
    {
     "name": "stdout",
     "output_type": "stream",
     "text": [
      "The set cost function is ignored! LCB acquisition does not make sense with cost.\n"
     ]
    },
    {
     "name": "stderr",
     "output_type": "stream",
     "text": [
      "reconstraining parameters GP_regression.Mat52\n",
      "reconstraining parameters GP_regression.Gaussian_noise.variance\n"
     ]
    },
    {
     "name": "stdout",
     "output_type": "stream",
     "text": [
      "sampling end!. 2019-04-17 17:16:56.566679 2019-04-17 17:17:22.048942\n"
     ]
    },
    {
     "name": "stderr",
     "output_type": "stream",
     "text": [
      "[I 2019-04-17 17:17:23,068] Finished a trial resulted in value: 0.09924815048347385. Current best value is -0.5121491791728756 with parameters: {'a': 0.42115056582560645, 'b': 0.0, 'ab': [0.42115056582560645, 0.0]}.\n"
     ]
    },
    {
     "name": "stdout",
     "output_type": "stream",
     "text": [
      "The set cost function is ignored! LCB acquisition does not make sense with cost.\n"
     ]
    },
    {
     "name": "stderr",
     "output_type": "stream",
     "text": [
      "reconstraining parameters GP_regression.Mat52\n",
      "reconstraining parameters GP_regression.Gaussian_noise.variance\n"
     ]
    },
    {
     "name": "stdout",
     "output_type": "stream",
     "text": [
      "sampling end!. 2019-04-17 17:17:23.070459 2019-04-17 17:17:50.295529\n"
     ]
    },
    {
     "name": "stderr",
     "output_type": "stream",
     "text": [
      "[I 2019-04-17 17:17:51,316] Finished a trial resulted in value: 0.1244059649113366. Current best value is -0.5121491791728756 with parameters: {'a': 0.42115056582560645, 'b': 0.0, 'ab': [0.42115056582560645, 0.0]}.\n"
     ]
    },
    {
     "name": "stdout",
     "output_type": "stream",
     "text": [
      "The set cost function is ignored! LCB acquisition does not make sense with cost.\n"
     ]
    },
    {
     "name": "stderr",
     "output_type": "stream",
     "text": [
      "reconstraining parameters GP_regression.Mat52\n",
      "reconstraining parameters GP_regression.Gaussian_noise.variance\n"
     ]
    },
    {
     "name": "stdout",
     "output_type": "stream",
     "text": [
      "sampling end!. 2019-04-17 17:17:51.318241 2019-04-17 17:18:17.050423\n"
     ]
    },
    {
     "name": "stderr",
     "output_type": "stream",
     "text": [
      "[I 2019-04-17 17:18:18,077] Finished a trial resulted in value: -0.542844551881975. Current best value is -0.542844551881975 with parameters: {'a': 0.4074155544658045, 'b': 0.0, 'ab': [0.4074155544658045, 0.0]}.\n"
     ]
    },
    {
     "name": "stdout",
     "output_type": "stream",
     "text": [
      "The set cost function is ignored! LCB acquisition does not make sense with cost.\n"
     ]
    },
    {
     "name": "stderr",
     "output_type": "stream",
     "text": [
      "reconstraining parameters GP_regression.Mat52\n",
      "reconstraining parameters GP_regression.Gaussian_noise.variance\n"
     ]
    },
    {
     "name": "stdout",
     "output_type": "stream",
     "text": [
      "sampling end!. 2019-04-17 17:18:18.080124 2019-04-17 17:18:47.621689\n"
     ]
    },
    {
     "name": "stderr",
     "output_type": "stream",
     "text": [
      "[I 2019-04-17 17:18:48,645] Finished a trial resulted in value: -0.4790550497869873. Current best value is -0.542844551881975 with parameters: {'a': 0.4074155544658045, 'b': 0.0, 'ab': [0.4074155544658045, 0.0]}.\n"
     ]
    },
    {
     "name": "stdout",
     "output_type": "stream",
     "text": [
      "The set cost function is ignored! LCB acquisition does not make sense with cost.\n"
     ]
    },
    {
     "name": "stderr",
     "output_type": "stream",
     "text": [
      "reconstraining parameters GP_regression.Mat52\n",
      "reconstraining parameters GP_regression.Gaussian_noise.variance\n"
     ]
    },
    {
     "name": "stdout",
     "output_type": "stream",
     "text": [
      "sampling end!. 2019-04-17 17:18:48.647226 2019-04-17 17:19:15.694963\n"
     ]
    },
    {
     "name": "stderr",
     "output_type": "stream",
     "text": [
      "[I 2019-04-17 17:19:16,718] Finished a trial resulted in value: -0.3779383738572894. Current best value is -0.542844551881975 with parameters: {'a': 0.4074155544658045, 'b': 0.0, 'ab': [0.4074155544658045, 0.0]}.\n"
     ]
    },
    {
     "name": "stdout",
     "output_type": "stream",
     "text": [
      "The set cost function is ignored! LCB acquisition does not make sense with cost.\n"
     ]
    },
    {
     "name": "stderr",
     "output_type": "stream",
     "text": [
      "reconstraining parameters GP_regression.Mat52\n",
      "reconstraining parameters GP_regression.Gaussian_noise.variance\n"
     ]
    },
    {
     "name": "stdout",
     "output_type": "stream",
     "text": [
      "sampling end!. 2019-04-17 17:19:16.720405 2019-04-17 17:19:42.930616\n"
     ]
    },
    {
     "name": "stderr",
     "output_type": "stream",
     "text": [
      "[I 2019-04-17 17:19:43,954] Finished a trial resulted in value: 0.08846675892616591. Current best value is -0.542844551881975 with parameters: {'a': 0.4074155544658045, 'b': 0.0, 'ab': [0.4074155544658045, 0.0]}.\n"
     ]
    },
    {
     "name": "stdout",
     "output_type": "stream",
     "text": [
      "The set cost function is ignored! LCB acquisition does not make sense with cost.\n"
     ]
    },
    {
     "name": "stderr",
     "output_type": "stream",
     "text": [
      "reconstraining parameters GP_regression.Mat52\n",
      "reconstraining parameters GP_regression.Gaussian_noise.variance\n"
     ]
    },
    {
     "name": "stdout",
     "output_type": "stream",
     "text": [
      "sampling end!. 2019-04-17 17:19:43.956460 2019-04-17 17:20:16.573509\n"
     ]
    },
    {
     "name": "stderr",
     "output_type": "stream",
     "text": [
      "[I 2019-04-17 17:20:17,592] Finished a trial resulted in value: -0.44857965510805475. Current best value is -0.542844551881975 with parameters: {'a': 0.4074155544658045, 'b': 0.0, 'ab': [0.4074155544658045, 0.0]}.\n"
     ]
    },
    {
     "name": "stdout",
     "output_type": "stream",
     "text": [
      "The set cost function is ignored! LCB acquisition does not make sense with cost.\n"
     ]
    },
    {
     "name": "stderr",
     "output_type": "stream",
     "text": [
      "reconstraining parameters GP_regression.Mat52\n",
      "reconstraining parameters GP_regression.Gaussian_noise.variance\n"
     ]
    },
    {
     "name": "stdout",
     "output_type": "stream",
     "text": [
      "sampling end!. 2019-04-17 17:20:17.595347 2019-04-17 17:20:44.493336\n"
     ]
    },
    {
     "name": "stderr",
     "output_type": "stream",
     "text": [
      "[I 2019-04-17 17:20:45,512] Finished a trial resulted in value: 0.2293437629166275. Current best value is -0.542844551881975 with parameters: {'a': 0.4074155544658045, 'b': 0.0, 'ab': [0.4074155544658045, 0.0]}.\n"
     ]
    },
    {
     "name": "stdout",
     "output_type": "stream",
     "text": [
      "The set cost function is ignored! LCB acquisition does not make sense with cost.\n"
     ]
    },
    {
     "name": "stderr",
     "output_type": "stream",
     "text": [
      "reconstraining parameters GP_regression.Mat52\n",
      "reconstraining parameters GP_regression.Gaussian_noise.variance\n"
     ]
    },
    {
     "name": "stdout",
     "output_type": "stream",
     "text": [
      "sampling end!. 2019-04-17 17:20:45.514055 2019-04-17 17:21:20.280105\n"
     ]
    },
    {
     "name": "stderr",
     "output_type": "stream",
     "text": [
      "[I 2019-04-17 17:21:21,303] Finished a trial resulted in value: -0.4067471424852253. Current best value is -0.542844551881975 with parameters: {'a': 0.4074155544658045, 'b': 0.0, 'ab': [0.4074155544658045, 0.0]}.\n"
     ]
    },
    {
     "name": "stdout",
     "output_type": "stream",
     "text": [
      "The set cost function is ignored! LCB acquisition does not make sense with cost.\n"
     ]
    },
    {
     "name": "stderr",
     "output_type": "stream",
     "text": [
      "reconstraining parameters GP_regression.Mat52\n",
      "reconstraining parameters GP_regression.Gaussian_noise.variance\n"
     ]
    },
    {
     "name": "stdout",
     "output_type": "stream",
     "text": [
      "sampling end!. 2019-04-17 17:21:21.305915 2019-04-17 17:21:52.451757\n"
     ]
    },
    {
     "name": "stderr",
     "output_type": "stream",
     "text": [
      "[I 2019-04-17 17:21:53,476] Finished a trial resulted in value: -0.612243976874355. Current best value is -0.612243976874355 with parameters: {'a': 0.41458156434080756, 'b': 0.0, 'ab': [0.41458156434080756, 0.0]}.\n"
     ]
    },
    {
     "name": "stdout",
     "output_type": "stream",
     "text": [
      "The set cost function is ignored! LCB acquisition does not make sense with cost.\n"
     ]
    },
    {
     "name": "stderr",
     "output_type": "stream",
     "text": [
      "reconstraining parameters GP_regression.Mat52\n",
      "reconstraining parameters GP_regression.Gaussian_noise.variance\n"
     ]
    },
    {
     "name": "stdout",
     "output_type": "stream",
     "text": [
      "sampling end!. 2019-04-17 17:21:53.478832 2019-04-17 17:22:27.187170\n"
     ]
    },
    {
     "name": "stderr",
     "output_type": "stream",
     "text": [
      "[I 2019-04-17 17:22:28,211] Finished a trial resulted in value: -0.10200251127477007. Current best value is -0.612243976874355 with parameters: {'a': 0.41458156434080756, 'b': 0.0, 'ab': [0.41458156434080756, 0.0]}.\n"
     ]
    },
    {
     "name": "stdout",
     "output_type": "stream",
     "text": [
      "The set cost function is ignored! LCB acquisition does not make sense with cost.\n"
     ]
    },
    {
     "name": "stderr",
     "output_type": "stream",
     "text": [
      "reconstraining parameters GP_regression.Mat52\n",
      "reconstraining parameters GP_regression.Gaussian_noise.variance\n"
     ]
    },
    {
     "name": "stdout",
     "output_type": "stream",
     "text": [
      "sampling end!. 2019-04-17 17:22:28.213225 2019-04-17 17:23:04.010504\n"
     ]
    },
    {
     "name": "stderr",
     "output_type": "stream",
     "text": [
      "[I 2019-04-17 17:23:05,046] Finished a trial resulted in value: -0.4324600866684866. Current best value is -0.612243976874355 with parameters: {'a': 0.41458156434080756, 'b': 0.0, 'ab': [0.41458156434080756, 0.0]}.\n"
     ]
    },
    {
     "name": "stdout",
     "output_type": "stream",
     "text": [
      "The set cost function is ignored! LCB acquisition does not make sense with cost.\n"
     ]
    },
    {
     "name": "stderr",
     "output_type": "stream",
     "text": [
      "reconstraining parameters GP_regression.Mat52\n",
      "reconstraining parameters GP_regression.Gaussian_noise.variance\n"
     ]
    },
    {
     "name": "stdout",
     "output_type": "stream",
     "text": [
      "sampling end!. 2019-04-17 17:23:05.048470 2019-04-17 17:23:40.053057\n"
     ]
    },
    {
     "name": "stderr",
     "output_type": "stream",
     "text": [
      "[I 2019-04-17 17:23:41,081] Finished a trial resulted in value: -0.3627137160172618. Current best value is -0.612243976874355 with parameters: {'a': 0.41458156434080756, 'b': 0.0, 'ab': [0.41458156434080756, 0.0]}.\n"
     ]
    },
    {
     "name": "stdout",
     "output_type": "stream",
     "text": [
      "The set cost function is ignored! LCB acquisition does not make sense with cost.\n"
     ]
    },
    {
     "name": "stderr",
     "output_type": "stream",
     "text": [
      "reconstraining parameters GP_regression.Mat52\n",
      "reconstraining parameters GP_regression.Gaussian_noise.variance\n"
     ]
    },
    {
     "name": "stdout",
     "output_type": "stream",
     "text": [
      "sampling end!. 2019-04-17 17:23:41.084205 2019-04-17 17:24:17.380971\n"
     ]
    },
    {
     "name": "stderr",
     "output_type": "stream",
     "text": [
      "[I 2019-04-17 17:24:18,408] Finished a trial resulted in value: -0.364391180951196. Current best value is -0.612243976874355 with parameters: {'a': 0.41458156434080756, 'b': 0.0, 'ab': [0.41458156434080756, 0.0]}.\n"
     ]
    },
    {
     "name": "stdout",
     "output_type": "stream",
     "text": [
      "The set cost function is ignored! LCB acquisition does not make sense with cost.\n"
     ]
    },
    {
     "name": "stderr",
     "output_type": "stream",
     "text": [
      "reconstraining parameters GP_regression.Mat52\n",
      "reconstraining parameters GP_regression.Gaussian_noise.variance\n"
     ]
    },
    {
     "name": "stdout",
     "output_type": "stream",
     "text": [
      "sampling end!. 2019-04-17 17:24:18.410537 2019-04-17 17:24:54.333858\n"
     ]
    },
    {
     "name": "stderr",
     "output_type": "stream",
     "text": [
      "[I 2019-04-17 17:24:55,355] Finished a trial resulted in value: -0.36905280649590405. Current best value is -0.612243976874355 with parameters: {'a': 0.41458156434080756, 'b': 0.0, 'ab': [0.41458156434080756, 0.0]}.\n"
     ]
    },
    {
     "name": "stdout",
     "output_type": "stream",
     "text": [
      "The set cost function is ignored! LCB acquisition does not make sense with cost.\n"
     ]
    },
    {
     "name": "stderr",
     "output_type": "stream",
     "text": [
      "reconstraining parameters GP_regression.Mat52\n",
      "reconstraining parameters GP_regression.Gaussian_noise.variance\n"
     ]
    },
    {
     "name": "stdout",
     "output_type": "stream",
     "text": [
      "sampling end!. 2019-04-17 17:24:55.357496 2019-04-17 17:25:25.980066\n"
     ]
    },
    {
     "name": "stderr",
     "output_type": "stream",
     "text": [
      "[I 2019-04-17 17:25:27,002] Finished a trial resulted in value: 0.012041306885399339. Current best value is -0.612243976874355 with parameters: {'a': 0.41458156434080756, 'b': 0.0, 'ab': [0.41458156434080756, 0.0]}.\n"
     ]
    },
    {
     "name": "stdout",
     "output_type": "stream",
     "text": [
      "The set cost function is ignored! LCB acquisition does not make sense with cost.\n"
     ]
    },
    {
     "name": "stderr",
     "output_type": "stream",
     "text": [
      "reconstraining parameters GP_regression.Mat52\n",
      "reconstraining parameters GP_regression.Gaussian_noise.variance\n"
     ]
    },
    {
     "name": "stdout",
     "output_type": "stream",
     "text": [
      "sampling end!. 2019-04-17 17:25:27.004729 2019-04-17 17:26:05.297273\n"
     ]
    },
    {
     "name": "stderr",
     "output_type": "stream",
     "text": [
      "[I 2019-04-17 17:26:06,319] Finished a trial resulted in value: -0.6921802009967397. Current best value is -0.6921802009967397 with parameters: {'a': 0.4103438513641178, 'b': 0.0, 'ab': [0.4103438513641178, 0.0]}.\n"
     ]
    },
    {
     "name": "stdout",
     "output_type": "stream",
     "text": [
      "The set cost function is ignored! LCB acquisition does not make sense with cost.\n"
     ]
    },
    {
     "name": "stderr",
     "output_type": "stream",
     "text": [
      "reconstraining parameters GP_regression.Mat52\n",
      "reconstraining parameters GP_regression.Gaussian_noise.variance\n"
     ]
    },
    {
     "name": "stdout",
     "output_type": "stream",
     "text": [
      "sampling end!. 2019-04-17 17:26:06.323586 2019-04-17 17:26:49.292559\n"
     ]
    },
    {
     "name": "stderr",
     "output_type": "stream",
     "text": [
      "[I 2019-04-17 17:26:50,319] Finished a trial resulted in value: -0.573801257445421. Current best value is -0.6921802009967397 with parameters: {'a': 0.4103438513641178, 'b': 0.0, 'ab': [0.4103438513641178, 0.0]}.\n"
     ]
    },
    {
     "name": "stdout",
     "output_type": "stream",
     "text": [
      "The set cost function is ignored! LCB acquisition does not make sense with cost.\n"
     ]
    },
    {
     "name": "stderr",
     "output_type": "stream",
     "text": [
      "reconstraining parameters GP_regression.Mat52\n",
      "reconstraining parameters GP_regression.Gaussian_noise.variance\n"
     ]
    },
    {
     "name": "stdout",
     "output_type": "stream",
     "text": [
      "sampling end!. 2019-04-17 17:26:50.321495 2019-04-17 17:27:29.025341\n"
     ]
    },
    {
     "name": "stderr",
     "output_type": "stream",
     "text": [
      "[I 2019-04-17 17:27:30,053] Finished a trial resulted in value: -0.676847211889618. Current best value is -0.6921802009967397 with parameters: {'a': 0.4103438513641178, 'b': 0.0, 'ab': [0.4103438513641178, 0.0]}.\n"
     ]
    },
    {
     "name": "stdout",
     "output_type": "stream",
     "text": [
      "The set cost function is ignored! LCB acquisition does not make sense with cost.\n"
     ]
    },
    {
     "name": "stderr",
     "output_type": "stream",
     "text": [
      "reconstraining parameters GP_regression.Mat52\n",
      "reconstraining parameters GP_regression.Gaussian_noise.variance\n"
     ]
    },
    {
     "name": "stdout",
     "output_type": "stream",
     "text": [
      "sampling end!. 2019-04-17 17:27:30.055886 2019-04-17 17:28:08.528077\n"
     ]
    },
    {
     "name": "stderr",
     "output_type": "stream",
     "text": [
      "[I 2019-04-17 17:28:09,555] Finished a trial resulted in value: -0.3320331821863305. Current best value is -0.6921802009967397 with parameters: {'a': 0.4103438513641178, 'b': 0.0, 'ab': [0.4103438513641178, 0.0]}.\n"
     ]
    },
    {
     "name": "stdout",
     "output_type": "stream",
     "text": [
      "The set cost function is ignored! LCB acquisition does not make sense with cost.\n"
     ]
    },
    {
     "name": "stderr",
     "output_type": "stream",
     "text": [
      "reconstraining parameters GP_regression.Mat52\n",
      "reconstraining parameters GP_regression.Gaussian_noise.variance\n"
     ]
    },
    {
     "name": "stdout",
     "output_type": "stream",
     "text": [
      "sampling end!. 2019-04-17 17:28:09.557147 2019-04-17 17:28:51.488697\n"
     ]
    },
    {
     "name": "stderr",
     "output_type": "stream",
     "text": [
      "[I 2019-04-17 17:28:52,517] Finished a trial resulted in value: -0.7092572986623331. Current best value is -0.7092572986623331 with parameters: {'a': 0.4111452858463295, 'b': 0.0, 'ab': [0.4111452858463295, 0.0]}.\n"
     ]
    },
    {
     "name": "stdout",
     "output_type": "stream",
     "text": [
      "The set cost function is ignored! LCB acquisition does not make sense with cost.\n"
     ]
    },
    {
     "name": "stderr",
     "output_type": "stream",
     "text": [
      "reconstraining parameters GP_regression.Mat52\n",
      "reconstraining parameters GP_regression.Gaussian_noise.variance\n"
     ]
    },
    {
     "name": "stdout",
     "output_type": "stream",
     "text": [
      "sampling end!. 2019-04-17 17:28:52.520315 2019-04-17 17:29:36.883569\n"
     ]
    },
    {
     "name": "stderr",
     "output_type": "stream",
     "text": [
      "[I 2019-04-17 17:29:37,904] Finished a trial resulted in value: -0.7074805859512564. Current best value is -0.7092572986623331 with parameters: {'a': 0.4111452858463295, 'b': 0.0, 'ab': [0.4111452858463295, 0.0]}.\n"
     ]
    },
    {
     "name": "stdout",
     "output_type": "stream",
     "text": [
      "The set cost function is ignored! LCB acquisition does not make sense with cost.\n"
     ]
    },
    {
     "name": "stderr",
     "output_type": "stream",
     "text": [
      "reconstraining parameters GP_regression.Mat52\n",
      "reconstraining parameters GP_regression.Gaussian_noise.variance\n"
     ]
    },
    {
     "name": "stdout",
     "output_type": "stream",
     "text": [
      "sampling end!. 2019-04-17 17:29:37.907684 2019-04-17 17:30:18.540590\n"
     ]
    },
    {
     "name": "stderr",
     "output_type": "stream",
     "text": [
      "[I 2019-04-17 17:30:19,562] Finished a trial resulted in value: -0.6039034146233988. Current best value is -0.7092572986623331 with parameters: {'a': 0.4111452858463295, 'b': 0.0, 'ab': [0.4111452858463295, 0.0]}.\n"
     ]
    },
    {
     "name": "stdout",
     "output_type": "stream",
     "text": [
      "The set cost function is ignored! LCB acquisition does not make sense with cost.\n"
     ]
    },
    {
     "name": "stderr",
     "output_type": "stream",
     "text": [
      "reconstraining parameters GP_regression.Mat52\n",
      "reconstraining parameters GP_regression.Gaussian_noise.variance\n"
     ]
    },
    {
     "name": "stdout",
     "output_type": "stream",
     "text": [
      "sampling end!. 2019-04-17 17:30:19.564944 2019-04-17 17:31:02.281683\n"
     ]
    },
    {
     "name": "stderr",
     "output_type": "stream",
     "text": [
      "[I 2019-04-17 17:31:03,305] Finished a trial resulted in value: -0.6009040761828692. Current best value is -0.7092572986623331 with parameters: {'a': 0.4111452858463295, 'b': 0.0, 'ab': [0.4111452858463295, 0.0]}.\n"
     ]
    },
    {
     "name": "stdout",
     "output_type": "stream",
     "text": [
      "The set cost function is ignored! LCB acquisition does not make sense with cost.\n"
     ]
    },
    {
     "name": "stderr",
     "output_type": "stream",
     "text": [
      "reconstraining parameters GP_regression.Mat52\n",
      "reconstraining parameters GP_regression.Gaussian_noise.variance\n"
     ]
    },
    {
     "name": "stdout",
     "output_type": "stream",
     "text": [
      "sampling end!. 2019-04-17 17:31:03.307122 2019-04-17 17:31:43.271991\n"
     ]
    },
    {
     "name": "stderr",
     "output_type": "stream",
     "text": [
      "[I 2019-04-17 17:31:44,299] Finished a trial resulted in value: -0.7181219768509772. Current best value is -0.7181219768509772 with parameters: {'a': 0.4156076191545304, 'b': 0.0, 'ab': [0.4156076191545304, 0.0]}.\n"
     ]
    },
    {
     "name": "stdout",
     "output_type": "stream",
     "text": [
      "The set cost function is ignored! LCB acquisition does not make sense with cost.\n"
     ]
    },
    {
     "name": "stderr",
     "output_type": "stream",
     "text": [
      "reconstraining parameters GP_regression.Mat52\n",
      "reconstraining parameters GP_regression.Gaussian_noise.variance\n"
     ]
    },
    {
     "name": "stdout",
     "output_type": "stream",
     "text": [
      "sampling end!. 2019-04-17 17:31:44.305940 2019-04-17 17:32:34.070590\n"
     ]
    },
    {
     "name": "stderr",
     "output_type": "stream",
     "text": [
      "[I 2019-04-17 17:32:35,095] Finished a trial resulted in value: -0.6171077515886665. Current best value is -0.7181219768509772 with parameters: {'a': 0.4156076191545304, 'b': 0.0, 'ab': [0.4156076191545304, 0.0]}.\n"
     ]
    },
    {
     "name": "stdout",
     "output_type": "stream",
     "text": [
      "The set cost function is ignored! LCB acquisition does not make sense with cost.\n"
     ]
    },
    {
     "name": "stderr",
     "output_type": "stream",
     "text": [
      "reconstraining parameters GP_regression.Mat52\n",
      "reconstraining parameters GP_regression.Gaussian_noise.variance\n"
     ]
    },
    {
     "name": "stdout",
     "output_type": "stream",
     "text": [
      "sampling end!. 2019-04-17 17:32:35.097377 2019-04-17 17:33:38.905689\n"
     ]
    },
    {
     "name": "stderr",
     "output_type": "stream",
     "text": [
      "[I 2019-04-17 17:33:39,926] Finished a trial resulted in value: -0.416095449899902. Current best value is -0.7181219768509772 with parameters: {'a': 0.4156076191545304, 'b': 0.0, 'ab': [0.4156076191545304, 0.0]}.\n"
     ]
    },
    {
     "name": "stdout",
     "output_type": "stream",
     "text": [
      "The set cost function is ignored! LCB acquisition does not make sense with cost.\n"
     ]
    },
    {
     "name": "stderr",
     "output_type": "stream",
     "text": [
      "reconstraining parameters GP_regression.Mat52\n",
      "reconstraining parameters GP_regression.Gaussian_noise.variance\n"
     ]
    },
    {
     "name": "stdout",
     "output_type": "stream",
     "text": [
      "sampling end!. 2019-04-17 17:33:39.928149 2019-04-17 17:34:30.368733\n"
     ]
    },
    {
     "name": "stderr",
     "output_type": "stream",
     "text": [
      "[I 2019-04-17 17:34:31,388] Finished a trial resulted in value: -0.5087903903388823. Current best value is -0.7181219768509772 with parameters: {'a': 0.4156076191545304, 'b': 0.0, 'ab': [0.4156076191545304, 0.0]}.\n"
     ]
    },
    {
     "name": "stdout",
     "output_type": "stream",
     "text": [
      "The set cost function is ignored! LCB acquisition does not make sense with cost.\n"
     ]
    },
    {
     "name": "stderr",
     "output_type": "stream",
     "text": [
      "reconstraining parameters GP_regression.Mat52\n",
      "reconstraining parameters GP_regression.Gaussian_noise.variance\n"
     ]
    },
    {
     "name": "stdout",
     "output_type": "stream",
     "text": [
      "sampling end!. 2019-04-17 17:34:31.391120 2019-04-17 17:35:18.428243\n"
     ]
    },
    {
     "name": "stderr",
     "output_type": "stream",
     "text": [
      "[I 2019-04-17 17:35:19,462] Finished a trial resulted in value: -0.5720330489625883. Current best value is -0.7181219768509772 with parameters: {'a': 0.4156076191545304, 'b': 0.0, 'ab': [0.4156076191545304, 0.0]}.\n"
     ]
    },
    {
     "name": "stdout",
     "output_type": "stream",
     "text": [
      "The set cost function is ignored! LCB acquisition does not make sense with cost.\n"
     ]
    },
    {
     "name": "stderr",
     "output_type": "stream",
     "text": [
      "reconstraining parameters GP_regression.Mat52\n",
      "reconstraining parameters GP_regression.Gaussian_noise.variance\n"
     ]
    },
    {
     "name": "stdout",
     "output_type": "stream",
     "text": [
      "sampling end!. 2019-04-17 17:35:19.464324 2019-04-17 17:36:05.872487\n"
     ]
    },
    {
     "name": "stderr",
     "output_type": "stream",
     "text": [
      "[I 2019-04-17 17:36:06,894] Finished a trial resulted in value: -0.5858946022685255. Current best value is -0.7181219768509772 with parameters: {'a': 0.4156076191545304, 'b': 0.0, 'ab': [0.4156076191545304, 0.0]}.\n"
     ]
    },
    {
     "name": "stdout",
     "output_type": "stream",
     "text": [
      "The set cost function is ignored! LCB acquisition does not make sense with cost.\n"
     ]
    },
    {
     "name": "stderr",
     "output_type": "stream",
     "text": [
      "reconstraining parameters GP_regression.Mat52\n",
      "reconstraining parameters GP_regression.Gaussian_noise.variance\n"
     ]
    },
    {
     "name": "stdout",
     "output_type": "stream",
     "text": [
      "sampling end!. 2019-04-17 17:36:06.896770 2019-04-17 17:36:45.700934\n"
     ]
    },
    {
     "name": "stderr",
     "output_type": "stream",
     "text": [
      "[I 2019-04-17 17:36:46,738] Finished a trial resulted in value: -1.680588803274962. Current best value is -1.680588803274962 with parameters: {'a': 0.2400843038794577, 'b': 0.41567731224242255, 'ab': [0.2400843038794577, 0.41567731224242255]}.\n"
     ]
    },
    {
     "name": "stdout",
     "output_type": "stream",
     "text": [
      "The set cost function is ignored! LCB acquisition does not make sense with cost.\n"
     ]
    },
    {
     "name": "stderr",
     "output_type": "stream",
     "text": [
      "reconstraining parameters GP_regression.Mat52\n",
      "reconstraining parameters GP_regression.Gaussian_noise.variance\n"
     ]
    },
    {
     "name": "stdout",
     "output_type": "stream",
     "text": [
      "sampling end!. 2019-04-17 17:36:46.740974 2019-04-17 17:37:27.935080\n"
     ]
    },
    {
     "name": "stderr",
     "output_type": "stream",
     "text": [
      "[I 2019-04-17 17:37:28,956] Finished a trial resulted in value: -1.58074849468966. Current best value is -1.680588803274962 with parameters: {'a': 0.2400843038794577, 'b': 0.41567731224242255, 'ab': [0.2400843038794577, 0.41567731224242255]}.\n"
     ]
    },
    {
     "name": "stdout",
     "output_type": "stream",
     "text": [
      "The set cost function is ignored! LCB acquisition does not make sense with cost.\n"
     ]
    },
    {
     "name": "stderr",
     "output_type": "stream",
     "text": [
      "reconstraining parameters GP_regression.Mat52\n",
      "reconstraining parameters GP_regression.Gaussian_noise.variance\n"
     ]
    },
    {
     "name": "stdout",
     "output_type": "stream",
     "text": [
      "sampling end!. 2019-04-17 17:37:28.959179 2019-04-17 17:38:21.244063\n"
     ]
    },
    {
     "name": "stderr",
     "output_type": "stream",
     "text": [
      "[I 2019-04-17 17:38:22,267] Finished a trial resulted in value: -1.5350550625958097. Current best value is -1.680588803274962 with parameters: {'a': 0.2400843038794577, 'b': 0.41567731224242255, 'ab': [0.2400843038794577, 0.41567731224242255]}.\n"
     ]
    },
    {
     "name": "stdout",
     "output_type": "stream",
     "text": [
      "The set cost function is ignored! LCB acquisition does not make sense with cost.\n"
     ]
    },
    {
     "name": "stderr",
     "output_type": "stream",
     "text": [
      "reconstraining parameters GP_regression.Mat52\n",
      "reconstraining parameters GP_regression.Gaussian_noise.variance\n"
     ]
    },
    {
     "name": "stdout",
     "output_type": "stream",
     "text": [
      "sampling end!. 2019-04-17 17:38:22.270637 2019-04-17 17:39:06.959654\n"
     ]
    },
    {
     "name": "stderr",
     "output_type": "stream",
     "text": [
      "[I 2019-04-17 17:39:07,988] Finished a trial resulted in value: -1.444373023288569. Current best value is -1.680588803274962 with parameters: {'a': 0.2400843038794577, 'b': 0.41567731224242255, 'ab': [0.2400843038794577, 0.41567731224242255]}.\n"
     ]
    },
    {
     "name": "stdout",
     "output_type": "stream",
     "text": [
      "The set cost function is ignored! LCB acquisition does not make sense with cost.\n"
     ]
    },
    {
     "name": "stderr",
     "output_type": "stream",
     "text": [
      "reconstraining parameters GP_regression.Mat52\n",
      "reconstraining parameters GP_regression.Gaussian_noise.variance\n"
     ]
    },
    {
     "name": "stdout",
     "output_type": "stream",
     "text": [
      "sampling end!. 2019-04-17 17:39:07.990647 2019-04-17 17:39:51.365162\n"
     ]
    },
    {
     "name": "stderr",
     "output_type": "stream",
     "text": [
      "[I 2019-04-17 17:39:52,390] Finished a trial resulted in value: -1.461997405774546. Current best value is -1.680588803274962 with parameters: {'a': 0.2400843038794577, 'b': 0.41567731224242255, 'ab': [0.2400843038794577, 0.41567731224242255]}.\n"
     ]
    },
    {
     "name": "stdout",
     "output_type": "stream",
     "text": [
      "The set cost function is ignored! LCB acquisition does not make sense with cost.\n"
     ]
    },
    {
     "name": "stderr",
     "output_type": "stream",
     "text": [
      "reconstraining parameters GP_regression.Mat52\n",
      "reconstraining parameters GP_regression.Gaussian_noise.variance\n"
     ]
    },
    {
     "name": "stdout",
     "output_type": "stream",
     "text": [
      "sampling end!. 2019-04-17 17:39:52.392331 2019-04-17 17:40:36.874721\n"
     ]
    },
    {
     "name": "stderr",
     "output_type": "stream",
     "text": [
      "[I 2019-04-17 17:40:37,909] Finished a trial resulted in value: -1.3693403523339167. Current best value is -1.680588803274962 with parameters: {'a': 0.2400843038794577, 'b': 0.41567731224242255, 'ab': [0.2400843038794577, 0.41567731224242255]}.\n"
     ]
    },
    {
     "name": "stdout",
     "output_type": "stream",
     "text": [
      "The set cost function is ignored! LCB acquisition does not make sense with cost.\n"
     ]
    },
    {
     "name": "stderr",
     "output_type": "stream",
     "text": [
      "reconstraining parameters GP_regression.Mat52\n",
      "reconstraining parameters GP_regression.Gaussian_noise.variance\n"
     ]
    },
    {
     "name": "stdout",
     "output_type": "stream",
     "text": [
      "sampling end!. 2019-04-17 17:40:37.911906 2019-04-17 17:41:28.577865\n"
     ]
    },
    {
     "name": "stderr",
     "output_type": "stream",
     "text": [
      "[I 2019-04-17 17:41:29,606] Finished a trial resulted in value: -1.3943333816574948. Current best value is -1.680588803274962 with parameters: {'a': 0.2400843038794577, 'b': 0.41567731224242255, 'ab': [0.2400843038794577, 0.41567731224242255]}.\n"
     ]
    },
    {
     "name": "stdout",
     "output_type": "stream",
     "text": [
      "The set cost function is ignored! LCB acquisition does not make sense with cost.\n"
     ]
    },
    {
     "name": "stderr",
     "output_type": "stream",
     "text": [
      "reconstraining parameters GP_regression.Mat52\n",
      "reconstraining parameters GP_regression.Gaussian_noise.variance\n"
     ]
    },
    {
     "name": "stdout",
     "output_type": "stream",
     "text": [
      "sampling end!. 2019-04-17 17:41:29.609476 2019-04-17 17:42:15.722871\n"
     ]
    },
    {
     "name": "stderr",
     "output_type": "stream",
     "text": [
      "[I 2019-04-17 17:42:16,751] Finished a trial resulted in value: -1.3513717466559552. Current best value is -1.680588803274962 with parameters: {'a': 0.2400843038794577, 'b': 0.41567731224242255, 'ab': [0.2400843038794577, 0.41567731224242255]}.\n"
     ]
    },
    {
     "name": "stdout",
     "output_type": "stream",
     "text": [
      "The set cost function is ignored! LCB acquisition does not make sense with cost.\n"
     ]
    },
    {
     "name": "stderr",
     "output_type": "stream",
     "text": [
      "reconstraining parameters GP_regression.Mat52\n",
      "reconstraining parameters GP_regression.Gaussian_noise.variance\n"
     ]
    },
    {
     "name": "stdout",
     "output_type": "stream",
     "text": [
      "sampling end!. 2019-04-17 17:42:16.753364 2019-04-17 17:43:05.665406\n"
     ]
    },
    {
     "name": "stderr",
     "output_type": "stream",
     "text": [
      "[I 2019-04-17 17:43:06,705] Finished a trial resulted in value: -1.4665710706138486. Current best value is -1.680588803274962 with parameters: {'a': 0.2400843038794577, 'b': 0.41567731224242255, 'ab': [0.2400843038794577, 0.41567731224242255]}.\n"
     ]
    },
    {
     "name": "stdout",
     "output_type": "stream",
     "text": [
      "The set cost function is ignored! LCB acquisition does not make sense with cost.\n"
     ]
    },
    {
     "name": "stderr",
     "output_type": "stream",
     "text": [
      "reconstraining parameters GP_regression.Mat52\n",
      "reconstraining parameters GP_regression.Gaussian_noise.variance\n"
     ]
    },
    {
     "name": "stdout",
     "output_type": "stream",
     "text": [
      "sampling end!. 2019-04-17 17:43:06.708687 2019-04-17 17:43:57.559803\n"
     ]
    },
    {
     "name": "stderr",
     "output_type": "stream",
     "text": [
      "[I 2019-04-17 17:43:58,595] Finished a trial resulted in value: -1.3126187510947003. Current best value is -1.680588803274962 with parameters: {'a': 0.2400843038794577, 'b': 0.41567731224242255, 'ab': [0.2400843038794577, 0.41567731224242255]}.\n"
     ]
    },
    {
     "name": "stdout",
     "output_type": "stream",
     "text": [
      "The set cost function is ignored! LCB acquisition does not make sense with cost.\n"
     ]
    },
    {
     "name": "stderr",
     "output_type": "stream",
     "text": [
      "reconstraining parameters GP_regression.Mat52\n",
      "reconstraining parameters GP_regression.Gaussian_noise.variance\n"
     ]
    },
    {
     "name": "stdout",
     "output_type": "stream",
     "text": [
      "sampling end!. 2019-04-17 17:43:58.597399 2019-04-17 17:44:38.748658\n"
     ]
    },
    {
     "name": "stderr",
     "output_type": "stream",
     "text": [
      "[I 2019-04-17 17:44:39,773] Finished a trial resulted in value: -1.360572462960662. Current best value is -1.680588803274962 with parameters: {'a': 0.2400843038794577, 'b': 0.41567731224242255, 'ab': [0.2400843038794577, 0.41567731224242255]}.\n"
     ]
    },
    {
     "name": "stdout",
     "output_type": "stream",
     "text": [
      "The set cost function is ignored! LCB acquisition does not make sense with cost.\n"
     ]
    },
    {
     "name": "stderr",
     "output_type": "stream",
     "text": [
      "reconstraining parameters GP_regression.Mat52\n",
      "reconstraining parameters GP_regression.Gaussian_noise.variance\n"
     ]
    },
    {
     "name": "stdout",
     "output_type": "stream",
     "text": [
      "sampling end!. 2019-04-17 17:44:39.776248 2019-04-17 17:45:26.111799\n"
     ]
    },
    {
     "name": "stderr",
     "output_type": "stream",
     "text": [
      "[I 2019-04-17 17:45:27,139] Finished a trial resulted in value: -1.3902763089452785. Current best value is -1.680588803274962 with parameters: {'a': 0.2400843038794577, 'b': 0.41567731224242255, 'ab': [0.2400843038794577, 0.41567731224242255]}.\n"
     ]
    },
    {
     "name": "stdout",
     "output_type": "stream",
     "text": [
      "The set cost function is ignored! LCB acquisition does not make sense with cost.\n"
     ]
    },
    {
     "name": "stderr",
     "output_type": "stream",
     "text": [
      "reconstraining parameters GP_regression.Mat52\n",
      "reconstraining parameters GP_regression.Gaussian_noise.variance\n"
     ]
    },
    {
     "name": "stdout",
     "output_type": "stream",
     "text": [
      "sampling end!. 2019-04-17 17:45:27.141880 2019-04-17 17:46:11.867823\n"
     ]
    },
    {
     "name": "stderr",
     "output_type": "stream",
     "text": [
      "[I 2019-04-17 17:46:12,892] Finished a trial resulted in value: -1.356180612134837. Current best value is -1.680588803274962 with parameters: {'a': 0.2400843038794577, 'b': 0.41567731224242255, 'ab': [0.2400843038794577, 0.41567731224242255]}.\n"
     ]
    },
    {
     "name": "stdout",
     "output_type": "stream",
     "text": [
      "The set cost function is ignored! LCB acquisition does not make sense with cost.\n"
     ]
    },
    {
     "name": "stderr",
     "output_type": "stream",
     "text": [
      "reconstraining parameters GP_regression.Mat52\n",
      "reconstraining parameters GP_regression.Gaussian_noise.variance\n"
     ]
    },
    {
     "name": "stdout",
     "output_type": "stream",
     "text": [
      "sampling end!. 2019-04-17 17:46:12.894309 2019-04-17 17:47:01.233191\n"
     ]
    },
    {
     "name": "stderr",
     "output_type": "stream",
     "text": [
      "[I 2019-04-17 17:47:02,255] Finished a trial resulted in value: -1.261251033538975. Current best value is -1.680588803274962 with parameters: {'a': 0.2400843038794577, 'b': 0.41567731224242255, 'ab': [0.2400843038794577, 0.41567731224242255]}.\n"
     ]
    },
    {
     "name": "stdout",
     "output_type": "stream",
     "text": [
      "The set cost function is ignored! LCB acquisition does not make sense with cost.\n"
     ]
    },
    {
     "name": "stderr",
     "output_type": "stream",
     "text": [
      "reconstraining parameters GP_regression.Mat52\n",
      "reconstraining parameters GP_regression.Gaussian_noise.variance\n"
     ]
    },
    {
     "name": "stdout",
     "output_type": "stream",
     "text": [
      "sampling end!. 2019-04-17 17:47:02.258379 2019-04-17 17:47:53.720933\n"
     ]
    },
    {
     "name": "stderr",
     "output_type": "stream",
     "text": [
      "[I 2019-04-17 17:47:54,744] Finished a trial resulted in value: -1.3148697406835888. Current best value is -1.680588803274962 with parameters: {'a': 0.2400843038794577, 'b': 0.41567731224242255, 'ab': [0.2400843038794577, 0.41567731224242255]}.\n"
     ]
    },
    {
     "name": "stdout",
     "output_type": "stream",
     "text": [
      "The set cost function is ignored! LCB acquisition does not make sense with cost.\n"
     ]
    },
    {
     "name": "stderr",
     "output_type": "stream",
     "text": [
      "reconstraining parameters GP_regression.Mat52\n",
      "reconstraining parameters GP_regression.Gaussian_noise.variance\n"
     ]
    },
    {
     "name": "stdout",
     "output_type": "stream",
     "text": [
      "sampling end!. 2019-04-17 17:47:54.746581 2019-04-17 17:48:37.998085\n"
     ]
    },
    {
     "name": "stderr",
     "output_type": "stream",
     "text": [
      "[I 2019-04-17 17:48:39,021] Finished a trial resulted in value: -1.364199935325546. Current best value is -1.680588803274962 with parameters: {'a': 0.2400843038794577, 'b': 0.41567731224242255, 'ab': [0.2400843038794577, 0.41567731224242255]}.\n"
     ]
    },
    {
     "name": "stdout",
     "output_type": "stream",
     "text": [
      "The set cost function is ignored! LCB acquisition does not make sense with cost.\n"
     ]
    },
    {
     "name": "stderr",
     "output_type": "stream",
     "text": [
      "reconstraining parameters GP_regression.Mat52\n",
      "reconstraining parameters GP_regression.Gaussian_noise.variance\n"
     ]
    },
    {
     "name": "stdout",
     "output_type": "stream",
     "text": [
      "sampling end!. 2019-04-17 17:48:39.023461 2019-04-17 17:49:20.521983\n"
     ]
    },
    {
     "name": "stderr",
     "output_type": "stream",
     "text": [
      "[I 2019-04-17 17:49:21,560] Finished a trial resulted in value: -1.4860521079745457. Current best value is -1.680588803274962 with parameters: {'a': 0.2400843038794577, 'b': 0.41567731224242255, 'ab': [0.2400843038794577, 0.41567731224242255]}.\n"
     ]
    },
    {
     "name": "stdout",
     "output_type": "stream",
     "text": [
      "The set cost function is ignored! LCB acquisition does not make sense with cost.\n"
     ]
    },
    {
     "name": "stderr",
     "output_type": "stream",
     "text": [
      "reconstraining parameters GP_regression.Mat52\n",
      "reconstraining parameters GP_regression.Gaussian_noise.variance\n"
     ]
    },
    {
     "name": "stdout",
     "output_type": "stream",
     "text": [
      "sampling end!. 2019-04-17 17:49:21.562656 2019-04-17 17:50:03.214626\n"
     ]
    },
    {
     "name": "stderr",
     "output_type": "stream",
     "text": [
      "[I 2019-04-17 17:50:04,243] Finished a trial resulted in value: -1.469425586333037. Current best value is -1.680588803274962 with parameters: {'a': 0.2400843038794577, 'b': 0.41567731224242255, 'ab': [0.2400843038794577, 0.41567731224242255]}.\n"
     ]
    },
    {
     "name": "stdout",
     "output_type": "stream",
     "text": [
      "The set cost function is ignored! LCB acquisition does not make sense with cost.\n"
     ]
    },
    {
     "name": "stderr",
     "output_type": "stream",
     "text": [
      "reconstraining parameters GP_regression.Mat52\n",
      "reconstraining parameters GP_regression.Gaussian_noise.variance\n"
     ]
    },
    {
     "name": "stdout",
     "output_type": "stream",
     "text": [
      "sampling end!. 2019-04-17 17:50:04.245725 2019-04-17 17:50:52.410411\n"
     ]
    },
    {
     "name": "stderr",
     "output_type": "stream",
     "text": [
      "[I 2019-04-17 17:50:53,441] Finished a trial resulted in value: -1.4751603320874322. Current best value is -1.680588803274962 with parameters: {'a': 0.2400843038794577, 'b': 0.41567731224242255, 'ab': [0.2400843038794577, 0.41567731224242255]}.\n"
     ]
    },
    {
     "name": "stdout",
     "output_type": "stream",
     "text": [
      "The set cost function is ignored! LCB acquisition does not make sense with cost.\n"
     ]
    },
    {
     "name": "stderr",
     "output_type": "stream",
     "text": [
      "reconstraining parameters GP_regression.Mat52\n",
      "reconstraining parameters GP_regression.Gaussian_noise.variance\n"
     ]
    },
    {
     "name": "stdout",
     "output_type": "stream",
     "text": [
      "sampling end!. 2019-04-17 17:50:53.443594 2019-04-17 17:51:37.719247\n"
     ]
    },
    {
     "name": "stderr",
     "output_type": "stream",
     "text": [
      "[I 2019-04-17 17:51:38,745] Finished a trial resulted in value: -1.385854956469508. Current best value is -1.680588803274962 with parameters: {'a': 0.2400843038794577, 'b': 0.41567731224242255, 'ab': [0.2400843038794577, 0.41567731224242255]}.\n"
     ]
    },
    {
     "name": "stdout",
     "output_type": "stream",
     "text": [
      "The set cost function is ignored! LCB acquisition does not make sense with cost.\n"
     ]
    },
    {
     "name": "stderr",
     "output_type": "stream",
     "text": [
      "reconstraining parameters GP_regression.Mat52\n",
      "reconstraining parameters GP_regression.Gaussian_noise.variance\n"
     ]
    },
    {
     "name": "stdout",
     "output_type": "stream",
     "text": [
      "sampling end!. 2019-04-17 17:51:38.747416 2019-04-17 17:52:26.161655\n"
     ]
    },
    {
     "name": "stderr",
     "output_type": "stream",
     "text": [
      "[I 2019-04-17 17:52:27,190] Finished a trial resulted in value: -1.4046046166835908. Current best value is -1.680588803274962 with parameters: {'a': 0.2400843038794577, 'b': 0.41567731224242255, 'ab': [0.2400843038794577, 0.41567731224242255]}.\n"
     ]
    },
    {
     "name": "stdout",
     "output_type": "stream",
     "text": [
      "The set cost function is ignored! LCB acquisition does not make sense with cost.\n"
     ]
    },
    {
     "name": "stderr",
     "output_type": "stream",
     "text": [
      "reconstraining parameters GP_regression.Mat52\n",
      "reconstraining parameters GP_regression.Gaussian_noise.variance\n"
     ]
    },
    {
     "name": "stdout",
     "output_type": "stream",
     "text": [
      "sampling end!. 2019-04-17 17:52:27.192932 2019-04-17 17:53:10.383886\n"
     ]
    },
    {
     "name": "stderr",
     "output_type": "stream",
     "text": [
      "[I 2019-04-17 17:53:11,414] Finished a trial resulted in value: -1.2972998749706393. Current best value is -1.680588803274962 with parameters: {'a': 0.2400843038794577, 'b': 0.41567731224242255, 'ab': [0.2400843038794577, 0.41567731224242255]}.\n"
     ]
    },
    {
     "name": "stdout",
     "output_type": "stream",
     "text": [
      "The set cost function is ignored! LCB acquisition does not make sense with cost.\n"
     ]
    },
    {
     "name": "stderr",
     "output_type": "stream",
     "text": [
      "reconstraining parameters GP_regression.Mat52\n",
      "reconstraining parameters GP_regression.Gaussian_noise.variance\n"
     ]
    },
    {
     "name": "stdout",
     "output_type": "stream",
     "text": [
      "sampling end!. 2019-04-17 17:53:11.417641 2019-04-17 17:54:00.817566\n"
     ]
    },
    {
     "name": "stderr",
     "output_type": "stream",
     "text": [
      "[I 2019-04-17 17:54:01,845] Finished a trial resulted in value: -1.0483467916730174. Current best value is -1.680588803274962 with parameters: {'a': 0.2400843038794577, 'b': 0.41567731224242255, 'ab': [0.2400843038794577, 0.41567731224242255]}.\n"
     ]
    },
    {
     "name": "stdout",
     "output_type": "stream",
     "text": [
      "The set cost function is ignored! LCB acquisition does not make sense with cost.\n"
     ]
    },
    {
     "name": "stderr",
     "output_type": "stream",
     "text": [
      "reconstraining parameters GP_regression.Mat52\n",
      "reconstraining parameters GP_regression.Gaussian_noise.variance\n"
     ]
    },
    {
     "name": "stdout",
     "output_type": "stream",
     "text": [
      "sampling end!. 2019-04-17 17:54:01.847721 2019-04-17 17:54:53.477657\n"
     ]
    },
    {
     "name": "stderr",
     "output_type": "stream",
     "text": [
      "[I 2019-04-17 17:54:54,513] Finished a trial resulted in value: -1.2378359282358566. Current best value is -1.680588803274962 with parameters: {'a': 0.2400843038794577, 'b': 0.41567731224242255, 'ab': [0.2400843038794577, 0.41567731224242255]}.\n"
     ]
    },
    {
     "name": "stdout",
     "output_type": "stream",
     "text": [
      "The set cost function is ignored! LCB acquisition does not make sense with cost.\n"
     ]
    },
    {
     "name": "stderr",
     "output_type": "stream",
     "text": [
      "reconstraining parameters GP_regression.Mat52\n",
      "reconstraining parameters GP_regression.Gaussian_noise.variance\n"
     ]
    },
    {
     "name": "stdout",
     "output_type": "stream",
     "text": [
      "sampling end!. 2019-04-17 17:54:54.519577 2019-04-17 17:55:40.307534\n"
     ]
    },
    {
     "name": "stderr",
     "output_type": "stream",
     "text": [
      "[I 2019-04-17 17:55:41,339] Finished a trial resulted in value: -0.9330152901049948. Current best value is -1.680588803274962 with parameters: {'a': 0.2400843038794577, 'b': 0.41567731224242255, 'ab': [0.2400843038794577, 0.41567731224242255]}.\n"
     ]
    },
    {
     "name": "stdout",
     "output_type": "stream",
     "text": [
      "The set cost function is ignored! LCB acquisition does not make sense with cost.\n"
     ]
    },
    {
     "name": "stderr",
     "output_type": "stream",
     "text": [
      "reconstraining parameters GP_regression.Mat52\n",
      "reconstraining parameters GP_regression.Gaussian_noise.variance\n"
     ]
    },
    {
     "name": "stdout",
     "output_type": "stream",
     "text": [
      "sampling end!. 2019-04-17 17:55:41.341961 2019-04-17 17:56:34.210378\n"
     ]
    },
    {
     "name": "stderr",
     "output_type": "stream",
     "text": [
      "[I 2019-04-17 17:56:35,239] Finished a trial resulted in value: -0.9067226921805233. Current best value is -1.680588803274962 with parameters: {'a': 0.2400843038794577, 'b': 0.41567731224242255, 'ab': [0.2400843038794577, 0.41567731224242255]}.\n"
     ]
    },
    {
     "name": "stdout",
     "output_type": "stream",
     "text": [
      "The set cost function is ignored! LCB acquisition does not make sense with cost.\n"
     ]
    },
    {
     "name": "stderr",
     "output_type": "stream",
     "text": [
      "reconstraining parameters GP_regression.Mat52\n",
      "reconstraining parameters GP_regression.Gaussian_noise.variance\n"
     ]
    },
    {
     "name": "stdout",
     "output_type": "stream",
     "text": [
      "sampling end!. 2019-04-17 17:56:35.242688 2019-04-17 17:57:25.624952\n"
     ]
    },
    {
     "name": "stderr",
     "output_type": "stream",
     "text": [
      "[I 2019-04-17 17:57:26,659] Finished a trial resulted in value: -1.0409724747942903. Current best value is -1.680588803274962 with parameters: {'a': 0.2400843038794577, 'b': 0.41567731224242255, 'ab': [0.2400843038794577, 0.41567731224242255]}.\n"
     ]
    },
    {
     "name": "stdout",
     "output_type": "stream",
     "text": [
      "The set cost function is ignored! LCB acquisition does not make sense with cost.\n"
     ]
    },
    {
     "name": "stderr",
     "output_type": "stream",
     "text": [
      "reconstraining parameters GP_regression.Mat52\n",
      "reconstraining parameters GP_regression.Gaussian_noise.variance\n"
     ]
    },
    {
     "name": "stdout",
     "output_type": "stream",
     "text": [
      "sampling end!. 2019-04-17 17:57:26.662428 2019-04-17 17:58:17.498126\n"
     ]
    },
    {
     "name": "stderr",
     "output_type": "stream",
     "text": [
      "[I 2019-04-17 17:58:18,528] Finished a trial resulted in value: -0.99011678562986. Current best value is -1.680588803274962 with parameters: {'a': 0.2400843038794577, 'b': 0.41567731224242255, 'ab': [0.2400843038794577, 0.41567731224242255]}.\n"
     ]
    },
    {
     "name": "stdout",
     "output_type": "stream",
     "text": [
      "The set cost function is ignored! LCB acquisition does not make sense with cost.\n"
     ]
    },
    {
     "name": "stderr",
     "output_type": "stream",
     "text": [
      "reconstraining parameters GP_regression.Mat52\n",
      "reconstraining parameters GP_regression.Gaussian_noise.variance\n"
     ]
    },
    {
     "name": "stdout",
     "output_type": "stream",
     "text": [
      "sampling end!. 2019-04-17 17:58:18.530399 2019-04-17 17:59:11.315034\n"
     ]
    },
    {
     "name": "stderr",
     "output_type": "stream",
     "text": [
      "[I 2019-04-17 17:59:12,340] Finished a trial resulted in value: -1.0965014078582715. Current best value is -1.680588803274962 with parameters: {'a': 0.2400843038794577, 'b': 0.41567731224242255, 'ab': [0.2400843038794577, 0.41567731224242255]}.\n"
     ]
    },
    {
     "name": "stdout",
     "output_type": "stream",
     "text": [
      "The set cost function is ignored! LCB acquisition does not make sense with cost.\n"
     ]
    },
    {
     "name": "stderr",
     "output_type": "stream",
     "text": [
      "reconstraining parameters GP_regression.Mat52\n",
      "reconstraining parameters GP_regression.Gaussian_noise.variance\n"
     ]
    },
    {
     "name": "stdout",
     "output_type": "stream",
     "text": [
      "sampling end!. 2019-04-17 17:59:12.345976 2019-04-17 18:00:09.253816\n"
     ]
    },
    {
     "name": "stderr",
     "output_type": "stream",
     "text": [
      "[I 2019-04-17 18:00:10,280] Finished a trial resulted in value: -1.1314567042241965. Current best value is -1.680588803274962 with parameters: {'a': 0.2400843038794577, 'b': 0.41567731224242255, 'ab': [0.2400843038794577, 0.41567731224242255]}.\n"
     ]
    },
    {
     "name": "stdout",
     "output_type": "stream",
     "text": [
      "The set cost function is ignored! LCB acquisition does not make sense with cost.\n"
     ]
    },
    {
     "name": "stderr",
     "output_type": "stream",
     "text": [
      "reconstraining parameters GP_regression.Mat52\n",
      "reconstraining parameters GP_regression.Gaussian_noise.variance\n"
     ]
    },
    {
     "name": "stdout",
     "output_type": "stream",
     "text": [
      "sampling end!. 2019-04-17 18:00:10.282238 2019-04-17 18:01:04.983152\n"
     ]
    },
    {
     "name": "stderr",
     "output_type": "stream",
     "text": [
      "[I 2019-04-17 18:01:06,014] Finished a trial resulted in value: -1.057122814032742. Current best value is -1.680588803274962 with parameters: {'a': 0.2400843038794577, 'b': 0.41567731224242255, 'ab': [0.2400843038794577, 0.41567731224242255]}.\n"
     ]
    },
    {
     "name": "stdout",
     "output_type": "stream",
     "text": [
      "The set cost function is ignored! LCB acquisition does not make sense with cost.\n"
     ]
    },
    {
     "name": "stderr",
     "output_type": "stream",
     "text": [
      "reconstraining parameters GP_regression.Mat52\n",
      "reconstraining parameters GP_regression.Gaussian_noise.variance\n"
     ]
    },
    {
     "name": "stdout",
     "output_type": "stream",
     "text": [
      "sampling end!. 2019-04-17 18:01:06.016875 2019-04-17 18:02:00.315056\n"
     ]
    },
    {
     "name": "stderr",
     "output_type": "stream",
     "text": [
      "[I 2019-04-17 18:02:01,342] Finished a trial resulted in value: -1.2160187948025403. Current best value is -1.680588803274962 with parameters: {'a': 0.2400843038794577, 'b': 0.41567731224242255, 'ab': [0.2400843038794577, 0.41567731224242255]}.\n"
     ]
    },
    {
     "name": "stdout",
     "output_type": "stream",
     "text": [
      "The set cost function is ignored! LCB acquisition does not make sense with cost.\n"
     ]
    },
    {
     "name": "stderr",
     "output_type": "stream",
     "text": [
      "reconstraining parameters GP_regression.Mat52\n",
      "reconstraining parameters GP_regression.Gaussian_noise.variance\n"
     ]
    },
    {
     "name": "stdout",
     "output_type": "stream",
     "text": [
      "sampling end!. 2019-04-17 18:02:01.345014 2019-04-17 18:02:52.455489\n"
     ]
    },
    {
     "name": "stderr",
     "output_type": "stream",
     "text": [
      "[I 2019-04-17 18:02:53,488] Finished a trial resulted in value: -1.262982048932602. Current best value is -1.680588803274962 with parameters: {'a': 0.2400843038794577, 'b': 0.41567731224242255, 'ab': [0.2400843038794577, 0.41567731224242255]}.\n"
     ]
    },
    {
     "name": "stdout",
     "output_type": "stream",
     "text": [
      "The set cost function is ignored! LCB acquisition does not make sense with cost.\n"
     ]
    },
    {
     "name": "stderr",
     "output_type": "stream",
     "text": [
      "reconstraining parameters GP_regression.Mat52\n",
      "reconstraining parameters GP_regression.Gaussian_noise.variance\n"
     ]
    },
    {
     "name": "stdout",
     "output_type": "stream",
     "text": [
      "sampling end!. 2019-04-17 18:02:53.490901 2019-04-17 18:03:51.239194\n"
     ]
    },
    {
     "name": "stderr",
     "output_type": "stream",
     "text": [
      "[I 2019-04-17 18:03:52,279] Finished a trial resulted in value: -1.104861199311908. Current best value is -1.680588803274962 with parameters: {'a': 0.2400843038794577, 'b': 0.41567731224242255, 'ab': [0.2400843038794577, 0.41567731224242255]}.\n"
     ]
    },
    {
     "name": "stdout",
     "output_type": "stream",
     "text": [
      "The set cost function is ignored! LCB acquisition does not make sense with cost.\n"
     ]
    },
    {
     "name": "stderr",
     "output_type": "stream",
     "text": [
      "reconstraining parameters GP_regression.Mat52\n",
      "reconstraining parameters GP_regression.Gaussian_noise.variance\n"
     ]
    },
    {
     "name": "stdout",
     "output_type": "stream",
     "text": [
      "sampling end!. 2019-04-17 18:03:52.281846 2019-04-17 18:04:49.314162\n"
     ]
    },
    {
     "name": "stderr",
     "output_type": "stream",
     "text": [
      "[I 2019-04-17 18:04:50,338] Finished a trial resulted in value: -1.3529709406738137. Current best value is -1.680588803274962 with parameters: {'a': 0.2400843038794577, 'b': 0.41567731224242255, 'ab': [0.2400843038794577, 0.41567731224242255]}.\n"
     ]
    },
    {
     "name": "stdout",
     "output_type": "stream",
     "text": [
      "The set cost function is ignored! LCB acquisition does not make sense with cost.\n"
     ]
    },
    {
     "name": "stderr",
     "output_type": "stream",
     "text": [
      "reconstraining parameters GP_regression.Mat52\n",
      "reconstraining parameters GP_regression.Gaussian_noise.variance\n"
     ]
    },
    {
     "name": "stdout",
     "output_type": "stream",
     "text": [
      "sampling end!. 2019-04-17 18:04:50.340888 2019-04-17 18:05:51.288260\n"
     ]
    },
    {
     "name": "stderr",
     "output_type": "stream",
     "text": [
      "[I 2019-04-17 18:05:52,314] Finished a trial resulted in value: -1.2231290847418839. Current best value is -1.680588803274962 with parameters: {'a': 0.2400843038794577, 'b': 0.41567731224242255, 'ab': [0.2400843038794577, 0.41567731224242255]}.\n"
     ]
    },
    {
     "name": "stdout",
     "output_type": "stream",
     "text": [
      "The set cost function is ignored! LCB acquisition does not make sense with cost.\n"
     ]
    },
    {
     "name": "stderr",
     "output_type": "stream",
     "text": [
      "reconstraining parameters GP_regression.Mat52\n",
      "reconstraining parameters GP_regression.Gaussian_noise.variance\n"
     ]
    },
    {
     "name": "stdout",
     "output_type": "stream",
     "text": [
      "sampling end!. 2019-04-17 18:05:52.316573 2019-04-17 18:06:53.251099\n"
     ]
    },
    {
     "name": "stderr",
     "output_type": "stream",
     "text": [
      "[I 2019-04-17 18:06:54,303] Finished a trial resulted in value: -1.3318866687738462. Current best value is -1.680588803274962 with parameters: {'a': 0.2400843038794577, 'b': 0.41567731224242255, 'ab': [0.2400843038794577, 0.41567731224242255]}.\n"
     ]
    },
    {
     "name": "stdout",
     "output_type": "stream",
     "text": [
      "The set cost function is ignored! LCB acquisition does not make sense with cost.\n"
     ]
    },
    {
     "name": "stderr",
     "output_type": "stream",
     "text": [
      "reconstraining parameters GP_regression.Mat52\n",
      "reconstraining parameters GP_regression.Gaussian_noise.variance\n"
     ]
    },
    {
     "name": "stdout",
     "output_type": "stream",
     "text": [
      "sampling end!. 2019-04-17 18:06:54.306068 2019-04-17 18:07:48.579316\n"
     ]
    },
    {
     "name": "stderr",
     "output_type": "stream",
     "text": [
      "[I 2019-04-17 18:07:49,611] Finished a trial resulted in value: -1.2879561937055646. Current best value is -1.680588803274962 with parameters: {'a': 0.2400843038794577, 'b': 0.41567731224242255, 'ab': [0.2400843038794577, 0.41567731224242255]}.\n"
     ]
    },
    {
     "name": "stdout",
     "output_type": "stream",
     "text": [
      "The set cost function is ignored! LCB acquisition does not make sense with cost.\n"
     ]
    },
    {
     "name": "stderr",
     "output_type": "stream",
     "text": [
      "reconstraining parameters GP_regression.Mat52\n",
      "reconstraining parameters GP_regression.Gaussian_noise.variance\n"
     ]
    },
    {
     "name": "stdout",
     "output_type": "stream",
     "text": [
      "sampling end!. 2019-04-17 18:07:49.613130 2019-04-17 18:08:57.545918\n"
     ]
    },
    {
     "name": "stderr",
     "output_type": "stream",
     "text": [
      "[I 2019-04-17 18:08:58,575] Finished a trial resulted in value: -1.1533341730654634. Current best value is -1.680588803274962 with parameters: {'a': 0.2400843038794577, 'b': 0.41567731224242255, 'ab': [0.2400843038794577, 0.41567731224242255]}.\n"
     ]
    },
    {
     "name": "stdout",
     "output_type": "stream",
     "text": [
      "The set cost function is ignored! LCB acquisition does not make sense with cost.\n"
     ]
    },
    {
     "name": "stderr",
     "output_type": "stream",
     "text": [
      "reconstraining parameters GP_regression.Mat52\n",
      "reconstraining parameters GP_regression.Gaussian_noise.variance\n"
     ]
    },
    {
     "name": "stdout",
     "output_type": "stream",
     "text": [
      "sampling end!. 2019-04-17 18:08:58.581385 2019-04-17 18:10:01.524049\n"
     ]
    },
    {
     "name": "stderr",
     "output_type": "stream",
     "text": [
      "[I 2019-04-17 18:10:02,553] Finished a trial resulted in value: -0.7916767169648921. Current best value is -1.680588803274962 with parameters: {'a': 0.2400843038794577, 'b': 0.41567731224242255, 'ab': [0.2400843038794577, 0.41567731224242255]}.\n"
     ]
    },
    {
     "name": "stdout",
     "output_type": "stream",
     "text": [
      "The set cost function is ignored! LCB acquisition does not make sense with cost.\n"
     ]
    },
    {
     "name": "stderr",
     "output_type": "stream",
     "text": [
      "reconstraining parameters GP_regression.Mat52\n",
      "reconstraining parameters GP_regression.Gaussian_noise.variance\n"
     ]
    },
    {
     "name": "stdout",
     "output_type": "stream",
     "text": [
      "sampling end!. 2019-04-17 18:10:02.555643 2019-04-17 18:10:56.776528\n"
     ]
    },
    {
     "name": "stderr",
     "output_type": "stream",
     "text": [
      "[I 2019-04-17 18:10:57,804] Finished a trial resulted in value: -1.2371188213863915. Current best value is -1.680588803274962 with parameters: {'a': 0.2400843038794577, 'b': 0.41567731224242255, 'ab': [0.2400843038794577, 0.41567731224242255]}.\n"
     ]
    },
    {
     "name": "stdout",
     "output_type": "stream",
     "text": [
      "The set cost function is ignored! LCB acquisition does not make sense with cost.\n"
     ]
    },
    {
     "name": "stderr",
     "output_type": "stream",
     "text": [
      "reconstraining parameters GP_regression.Mat52\n",
      "reconstraining parameters GP_regression.Gaussian_noise.variance\n"
     ]
    },
    {
     "name": "stdout",
     "output_type": "stream",
     "text": [
      "sampling end!. 2019-04-17 18:10:57.807464 2019-04-17 18:11:58.178436\n"
     ]
    },
    {
     "name": "stderr",
     "output_type": "stream",
     "text": [
      "[I 2019-04-17 18:11:59,207] Finished a trial resulted in value: -1.119802628912918. Current best value is -1.680588803274962 with parameters: {'a': 0.2400843038794577, 'b': 0.41567731224242255, 'ab': [0.2400843038794577, 0.41567731224242255]}.\n"
     ]
    },
    {
     "name": "stdout",
     "output_type": "stream",
     "text": [
      "The set cost function is ignored! LCB acquisition does not make sense with cost.\n"
     ]
    },
    {
     "name": "stderr",
     "output_type": "stream",
     "text": [
      "reconstraining parameters GP_regression.Mat52\n",
      "reconstraining parameters GP_regression.Gaussian_noise.variance\n"
     ]
    },
    {
     "name": "stdout",
     "output_type": "stream",
     "text": [
      "sampling end!. 2019-04-17 18:11:59.209686 2019-04-17 18:12:56.750257\n"
     ]
    },
    {
     "name": "stderr",
     "output_type": "stream",
     "text": [
      "[I 2019-04-17 18:12:57,781] Finished a trial resulted in value: -0.9596599724457935. Current best value is -1.680588803274962 with parameters: {'a': 0.2400843038794577, 'b': 0.41567731224242255, 'ab': [0.2400843038794577, 0.41567731224242255]}.\n"
     ]
    },
    {
     "name": "stdout",
     "output_type": "stream",
     "text": [
      "The set cost function is ignored! LCB acquisition does not make sense with cost.\n"
     ]
    },
    {
     "name": "stderr",
     "output_type": "stream",
     "text": [
      "reconstraining parameters GP_regression.Mat52\n",
      "reconstraining parameters GP_regression.Gaussian_noise.variance\n"
     ]
    },
    {
     "name": "stdout",
     "output_type": "stream",
     "text": [
      "sampling end!. 2019-04-17 18:12:57.789374 2019-04-17 18:14:15.283218\n"
     ]
    },
    {
     "name": "stderr",
     "output_type": "stream",
     "text": [
      "[I 2019-04-17 18:14:16,309] Finished a trial resulted in value: -0.5802564720175771. Current best value is -1.680588803274962 with parameters: {'a': 0.2400843038794577, 'b': 0.41567731224242255, 'ab': [0.2400843038794577, 0.41567731224242255]}.\n"
     ]
    },
    {
     "name": "stdout",
     "output_type": "stream",
     "text": [
      "The set cost function is ignored! LCB acquisition does not make sense with cost.\n"
     ]
    },
    {
     "name": "stderr",
     "output_type": "stream",
     "text": [
      "reconstraining parameters GP_regression.Mat52\n",
      "reconstraining parameters GP_regression.Gaussian_noise.variance\n"
     ]
    },
    {
     "name": "stdout",
     "output_type": "stream",
     "text": [
      "sampling end!. 2019-04-17 18:14:16.311446 2019-04-17 18:15:06.559564\n"
     ]
    },
    {
     "name": "stderr",
     "output_type": "stream",
     "text": [
      "[I 2019-04-17 18:15:07,606] Finished a trial resulted in value: -0.8348055154419074. Current best value is -1.680588803274962 with parameters: {'a': 0.2400843038794577, 'b': 0.41567731224242255, 'ab': [0.2400843038794577, 0.41567731224242255]}.\n"
     ]
    },
    {
     "name": "stdout",
     "output_type": "stream",
     "text": [
      "The set cost function is ignored! LCB acquisition does not make sense with cost.\n"
     ]
    },
    {
     "name": "stderr",
     "output_type": "stream",
     "text": [
      "reconstraining parameters GP_regression.Mat52\n",
      "reconstraining parameters GP_regression.Gaussian_noise.variance\n"
     ]
    },
    {
     "name": "stdout",
     "output_type": "stream",
     "text": [
      "sampling end!. 2019-04-17 18:15:07.608700 2019-04-17 18:16:09.248816\n"
     ]
    },
    {
     "name": "stderr",
     "output_type": "stream",
     "text": [
      "[I 2019-04-17 18:16:10,286] Finished a trial resulted in value: -0.4020568772575285. Current best value is -1.680588803274962 with parameters: {'a': 0.2400843038794577, 'b': 0.41567731224242255, 'ab': [0.2400843038794577, 0.41567731224242255]}.\n"
     ]
    },
    {
     "name": "stdout",
     "output_type": "stream",
     "text": [
      "The set cost function is ignored! LCB acquisition does not make sense with cost.\n"
     ]
    },
    {
     "name": "stderr",
     "output_type": "stream",
     "text": [
      "reconstraining parameters GP_regression.Mat52\n",
      "reconstraining parameters GP_regression.Gaussian_noise.variance\n"
     ]
    },
    {
     "name": "stdout",
     "output_type": "stream",
     "text": [
      "sampling end!. 2019-04-17 18:16:10.289378 2019-04-17 18:17:20.963058\n"
     ]
    },
    {
     "name": "stderr",
     "output_type": "stream",
     "text": [
      "[I 2019-04-17 18:17:22,005] Finished a trial resulted in value: -0.28500030472473975. Current best value is -1.680588803274962 with parameters: {'a': 0.2400843038794577, 'b': 0.41567731224242255, 'ab': [0.2400843038794577, 0.41567731224242255]}.\n"
     ]
    },
    {
     "name": "stdout",
     "output_type": "stream",
     "text": [
      "The set cost function is ignored! LCB acquisition does not make sense with cost.\n"
     ]
    },
    {
     "name": "stderr",
     "output_type": "stream",
     "text": [
      "reconstraining parameters GP_regression.Mat52\n",
      "reconstraining parameters GP_regression.Gaussian_noise.variance\n"
     ]
    },
    {
     "name": "stdout",
     "output_type": "stream",
     "text": [
      "sampling end!. 2019-04-17 18:17:22.013563 2019-04-17 18:18:17.982431\n"
     ]
    },
    {
     "name": "stderr",
     "output_type": "stream",
     "text": [
      "[I 2019-04-17 18:18:19,024] Finished a trial resulted in value: -0.5591561556924511. Current best value is -1.680588803274962 with parameters: {'a': 0.2400843038794577, 'b': 0.41567731224242255, 'ab': [0.2400843038794577, 0.41567731224242255]}.\n"
     ]
    },
    {
     "name": "stdout",
     "output_type": "stream",
     "text": [
      "The set cost function is ignored! LCB acquisition does not make sense with cost.\n"
     ]
    },
    {
     "name": "stderr",
     "output_type": "stream",
     "text": [
      "reconstraining parameters GP_regression.Mat52\n",
      "reconstraining parameters GP_regression.Gaussian_noise.variance\n"
     ]
    },
    {
     "name": "stdout",
     "output_type": "stream",
     "text": [
      "sampling end!. 2019-04-17 18:18:19.028255 2019-04-17 18:19:28.372547\n"
     ]
    },
    {
     "name": "stderr",
     "output_type": "stream",
     "text": [
      "[I 2019-04-17 18:19:29,401] Finished a trial resulted in value: -0.5822512594497877. Current best value is -1.680588803274962 with parameters: {'a': 0.2400843038794577, 'b': 0.41567731224242255, 'ab': [0.2400843038794577, 0.41567731224242255]}.\n"
     ]
    },
    {
     "name": "stdout",
     "output_type": "stream",
     "text": [
      "The set cost function is ignored! LCB acquisition does not make sense with cost.\n"
     ]
    },
    {
     "name": "stderr",
     "output_type": "stream",
     "text": [
      "reconstraining parameters GP_regression.Mat52\n",
      "reconstraining parameters GP_regression.Gaussian_noise.variance\n"
     ]
    },
    {
     "name": "stdout",
     "output_type": "stream",
     "text": [
      "sampling end!. 2019-04-17 18:19:29.403850 2019-04-17 18:20:39.747240\n"
     ]
    },
    {
     "name": "stderr",
     "output_type": "stream",
     "text": [
      "[I 2019-04-17 18:20:40,780] Finished a trial resulted in value: -0.2659796265776284. Current best value is -1.680588803274962 with parameters: {'a': 0.2400843038794577, 'b': 0.41567731224242255, 'ab': [0.2400843038794577, 0.41567731224242255]}.\n"
     ]
    },
    {
     "name": "stdout",
     "output_type": "stream",
     "text": [
      "The set cost function is ignored! LCB acquisition does not make sense with cost.\n"
     ]
    },
    {
     "name": "stderr",
     "output_type": "stream",
     "text": [
      "reconstraining parameters GP_regression.Mat52\n",
      "reconstraining parameters GP_regression.Gaussian_noise.variance\n"
     ]
    },
    {
     "name": "stdout",
     "output_type": "stream",
     "text": [
      "sampling end!. 2019-04-17 18:20:40.783450 2019-04-17 18:21:37.320735\n"
     ]
    },
    {
     "name": "stderr",
     "output_type": "stream",
     "text": [
      "[I 2019-04-17 18:21:38,348] Finished a trial resulted in value: -0.6372766468899252. Current best value is -1.680588803274962 with parameters: {'a': 0.2400843038794577, 'b': 0.41567731224242255, 'ab': [0.2400843038794577, 0.41567731224242255]}.\n"
     ]
    },
    {
     "name": "stdout",
     "output_type": "stream",
     "text": [
      "The set cost function is ignored! LCB acquisition does not make sense with cost.\n"
     ]
    },
    {
     "name": "stderr",
     "output_type": "stream",
     "text": [
      "reconstraining parameters GP_regression.Mat52\n",
      "reconstraining parameters GP_regression.Gaussian_noise.variance\n"
     ]
    },
    {
     "name": "stdout",
     "output_type": "stream",
     "text": [
      "sampling end!. 2019-04-17 18:21:38.351147 2019-04-17 18:22:44.498172\n"
     ]
    },
    {
     "name": "stderr",
     "output_type": "stream",
     "text": [
      "[I 2019-04-17 18:22:45,528] Finished a trial resulted in value: -0.19148859249131628. Current best value is -1.680588803274962 with parameters: {'a': 0.2400843038794577, 'b': 0.41567731224242255, 'ab': [0.2400843038794577, 0.41567731224242255]}.\n"
     ]
    },
    {
     "name": "stdout",
     "output_type": "stream",
     "text": [
      "The set cost function is ignored! LCB acquisition does not make sense with cost.\n"
     ]
    },
    {
     "name": "stderr",
     "output_type": "stream",
     "text": [
      "reconstraining parameters GP_regression.Mat52\n",
      "reconstraining parameters GP_regression.Gaussian_noise.variance\n"
     ]
    },
    {
     "name": "stdout",
     "output_type": "stream",
     "text": [
      "sampling end!. 2019-04-17 18:22:45.531188 2019-04-17 18:23:46.839250\n"
     ]
    },
    {
     "name": "stderr",
     "output_type": "stream",
     "text": [
      "[I 2019-04-17 18:23:47,884] Finished a trial resulted in value: -0.5477552615776222. Current best value is -1.680588803274962 with parameters: {'a': 0.2400843038794577, 'b': 0.41567731224242255, 'ab': [0.2400843038794577, 0.41567731224242255]}.\n"
     ]
    },
    {
     "name": "stdout",
     "output_type": "stream",
     "text": [
      "The set cost function is ignored! LCB acquisition does not make sense with cost.\n"
     ]
    },
    {
     "name": "stderr",
     "output_type": "stream",
     "text": [
      "reconstraining parameters GP_regression.Mat52\n",
      "reconstraining parameters GP_regression.Gaussian_noise.variance\n"
     ]
    },
    {
     "name": "stdout",
     "output_type": "stream",
     "text": [
      "sampling end!. 2019-04-17 18:23:47.890253 2019-04-17 18:24:59.532093\n"
     ]
    },
    {
     "name": "stderr",
     "output_type": "stream",
     "text": [
      "[I 2019-04-17 18:25:00,566] Finished a trial resulted in value: -0.3421338929385149. Current best value is -1.680588803274962 with parameters: {'a': 0.2400843038794577, 'b': 0.41567731224242255, 'ab': [0.2400843038794577, 0.41567731224242255]}.\n"
     ]
    },
    {
     "name": "stdout",
     "output_type": "stream",
     "text": [
      "The set cost function is ignored! LCB acquisition does not make sense with cost.\n"
     ]
    },
    {
     "name": "stderr",
     "output_type": "stream",
     "text": [
      "reconstraining parameters GP_regression.Mat52\n",
      "reconstraining parameters GP_regression.Gaussian_noise.variance\n"
     ]
    },
    {
     "name": "stdout",
     "output_type": "stream",
     "text": [
      "sampling end!. 2019-04-17 18:25:00.571050 2019-04-17 18:26:25.428534\n"
     ]
    },
    {
     "name": "stderr",
     "output_type": "stream",
     "text": [
      "[I 2019-04-17 18:26:26,467] Finished a trial resulted in value: -0.7053364354645026. Current best value is -1.680588803274962 with parameters: {'a': 0.2400843038794577, 'b': 0.41567731224242255, 'ab': [0.2400843038794577, 0.41567731224242255]}.\n"
     ]
    },
    {
     "name": "stdout",
     "output_type": "stream",
     "text": [
      "The set cost function is ignored! LCB acquisition does not make sense with cost.\n"
     ]
    },
    {
     "name": "stderr",
     "output_type": "stream",
     "text": [
      "reconstraining parameters GP_regression.Mat52\n",
      "reconstraining parameters GP_regression.Gaussian_noise.variance\n"
     ]
    },
    {
     "name": "stdout",
     "output_type": "stream",
     "text": [
      "sampling end!. 2019-04-17 18:26:26.474163 2019-04-17 18:27:32.233825\n"
     ]
    },
    {
     "name": "stderr",
     "output_type": "stream",
     "text": [
      "[I 2019-04-17 18:27:33,276] Finished a trial resulted in value: -0.6533080981315863. Current best value is -1.680588803274962 with parameters: {'a': 0.2400843038794577, 'b': 0.41567731224242255, 'ab': [0.2400843038794577, 0.41567731224242255]}.\n"
     ]
    },
    {
     "name": "stdout",
     "output_type": "stream",
     "text": [
      "The set cost function is ignored! LCB acquisition does not make sense with cost.\n"
     ]
    },
    {
     "name": "stderr",
     "output_type": "stream",
     "text": [
      "reconstraining parameters GP_regression.Mat52\n",
      "reconstraining parameters GP_regression.Gaussian_noise.variance\n"
     ]
    },
    {
     "name": "stdout",
     "output_type": "stream",
     "text": [
      "sampling end!. 2019-04-17 18:27:33.283825 2019-04-17 18:28:40.829839\n"
     ]
    },
    {
     "name": "stderr",
     "output_type": "stream",
     "text": [
      "[I 2019-04-17 18:28:41,857] Finished a trial resulted in value: -0.5967789904209398. Current best value is -1.680588803274962 with parameters: {'a': 0.2400843038794577, 'b': 0.41567731224242255, 'ab': [0.2400843038794577, 0.41567731224242255]}.\n"
     ]
    },
    {
     "name": "stdout",
     "output_type": "stream",
     "text": [
      "The set cost function is ignored! LCB acquisition does not make sense with cost.\n"
     ]
    },
    {
     "name": "stderr",
     "output_type": "stream",
     "text": [
      "reconstraining parameters GP_regression.Mat52\n",
      "reconstraining parameters GP_regression.Gaussian_noise.variance\n"
     ]
    },
    {
     "name": "stdout",
     "output_type": "stream",
     "text": [
      "sampling end!. 2019-04-17 18:28:41.859937 2019-04-17 18:29:51.136738\n"
     ]
    },
    {
     "name": "stderr",
     "output_type": "stream",
     "text": [
      "[I 2019-04-17 18:29:52,166] Finished a trial resulted in value: -0.5743812349118671. Current best value is -1.680588803274962 with parameters: {'a': 0.2400843038794577, 'b': 0.41567731224242255, 'ab': [0.2400843038794577, 0.41567731224242255]}.\n"
     ]
    },
    {
     "name": "stdout",
     "output_type": "stream",
     "text": [
      "The set cost function is ignored! LCB acquisition does not make sense with cost.\n"
     ]
    },
    {
     "name": "stderr",
     "output_type": "stream",
     "text": [
      "reconstraining parameters GP_regression.Mat52\n",
      "reconstraining parameters GP_regression.Gaussian_noise.variance\n"
     ]
    },
    {
     "name": "stdout",
     "output_type": "stream",
     "text": [
      "sampling end!. 2019-04-17 18:29:52.169722 2019-04-17 18:31:04.773518\n"
     ]
    },
    {
     "name": "stderr",
     "output_type": "stream",
     "text": [
      "[I 2019-04-17 18:31:05,806] Finished a trial resulted in value: -0.4873158237124066. Current best value is -1.680588803274962 with parameters: {'a': 0.2400843038794577, 'b': 0.41567731224242255, 'ab': [0.2400843038794577, 0.41567731224242255]}.\n"
     ]
    },
    {
     "name": "stdout",
     "output_type": "stream",
     "text": [
      "The set cost function is ignored! LCB acquisition does not make sense with cost.\n"
     ]
    },
    {
     "name": "stderr",
     "output_type": "stream",
     "text": [
      "reconstraining parameters GP_regression.Mat52\n",
      "reconstraining parameters GP_regression.Gaussian_noise.variance\n"
     ]
    },
    {
     "name": "stdout",
     "output_type": "stream",
     "text": [
      "sampling end!. 2019-04-17 18:31:05.809366 2019-04-17 18:32:04.675169\n"
     ]
    },
    {
     "name": "stderr",
     "output_type": "stream",
     "text": [
      "[I 2019-04-17 18:32:05,703] Finished a trial resulted in value: -0.4327949716016428. Current best value is -1.680588803274962 with parameters: {'a': 0.2400843038794577, 'b': 0.41567731224242255, 'ab': [0.2400843038794577, 0.41567731224242255]}.\n"
     ]
    },
    {
     "name": "stdout",
     "output_type": "stream",
     "text": [
      "The set cost function is ignored! LCB acquisition does not make sense with cost.\n"
     ]
    },
    {
     "name": "stderr",
     "output_type": "stream",
     "text": [
      "reconstraining parameters GP_regression.Mat52\n",
      "reconstraining parameters GP_regression.Gaussian_noise.variance\n"
     ]
    },
    {
     "name": "stdout",
     "output_type": "stream",
     "text": [
      "sampling end!. 2019-04-17 18:32:05.705802 2019-04-17 18:33:21.251666\n"
     ]
    },
    {
     "name": "stderr",
     "output_type": "stream",
     "text": [
      "[I 2019-04-17 18:33:22,280] Finished a trial resulted in value: -0.2654705281435229. Current best value is -1.680588803274962 with parameters: {'a': 0.2400843038794577, 'b': 0.41567731224242255, 'ab': [0.2400843038794577, 0.41567731224242255]}.\n"
     ]
    },
    {
     "name": "stdout",
     "output_type": "stream",
     "text": [
      "The set cost function is ignored! LCB acquisition does not make sense with cost.\n"
     ]
    },
    {
     "name": "stderr",
     "output_type": "stream",
     "text": [
      "reconstraining parameters GP_regression.Mat52\n",
      "reconstraining parameters GP_regression.Gaussian_noise.variance\n"
     ]
    },
    {
     "name": "stdout",
     "output_type": "stream",
     "text": [
      "sampling end!. 2019-04-17 18:33:22.283463 2019-04-17 18:34:39.288510\n"
     ]
    },
    {
     "name": "stderr",
     "output_type": "stream",
     "text": [
      "[I 2019-04-17 18:34:40,316] Finished a trial resulted in value: -0.1716024781265166. Current best value is -1.680588803274962 with parameters: {'a': 0.2400843038794577, 'b': 0.41567731224242255, 'ab': [0.2400843038794577, 0.41567731224242255]}.\n"
     ]
    },
    {
     "name": "stdout",
     "output_type": "stream",
     "text": [
      "The set cost function is ignored! LCB acquisition does not make sense with cost.\n"
     ]
    },
    {
     "name": "stderr",
     "output_type": "stream",
     "text": [
      "reconstraining parameters GP_regression.Mat52\n",
      "reconstraining parameters GP_regression.Gaussian_noise.variance\n"
     ]
    },
    {
     "name": "stdout",
     "output_type": "stream",
     "text": [
      "sampling end!. 2019-04-17 18:34:40.318397 2019-04-17 18:35:43.158161\n"
     ]
    },
    {
     "name": "stderr",
     "output_type": "stream",
     "text": [
      "[I 2019-04-17 18:35:44,194] Finished a trial resulted in value: -0.32663335651346814. Current best value is -1.680588803274962 with parameters: {'a': 0.2400843038794577, 'b': 0.41567731224242255, 'ab': [0.2400843038794577, 0.41567731224242255]}.\n"
     ]
    },
    {
     "name": "stdout",
     "output_type": "stream",
     "text": [
      "The set cost function is ignored! LCB acquisition does not make sense with cost.\n"
     ]
    },
    {
     "name": "stderr",
     "output_type": "stream",
     "text": [
      "reconstraining parameters GP_regression.Mat52\n",
      "reconstraining parameters GP_regression.Gaussian_noise.variance\n"
     ]
    },
    {
     "name": "stdout",
     "output_type": "stream",
     "text": [
      "sampling end!. 2019-04-17 18:35:44.197118 2019-04-17 18:37:10.660831\n"
     ]
    },
    {
     "name": "stderr",
     "output_type": "stream",
     "text": [
      "[I 2019-04-17 18:37:11,689] Finished a trial resulted in value: -0.3503995661045563. Current best value is -1.680588803274962 with parameters: {'a': 0.2400843038794577, 'b': 0.41567731224242255, 'ab': [0.2400843038794577, 0.41567731224242255]}.\n"
     ]
    },
    {
     "name": "stdout",
     "output_type": "stream",
     "text": [
      "The set cost function is ignored! LCB acquisition does not make sense with cost.\n"
     ]
    },
    {
     "name": "stderr",
     "output_type": "stream",
     "text": [
      "reconstraining parameters GP_regression.Mat52\n",
      "reconstraining parameters GP_regression.Gaussian_noise.variance\n"
     ]
    },
    {
     "name": "stdout",
     "output_type": "stream",
     "text": [
      "sampling end!. 2019-04-17 18:37:11.690895 2019-04-17 18:38:30.738029\n"
     ]
    },
    {
     "name": "stderr",
     "output_type": "stream",
     "text": [
      "[I 2019-04-17 18:38:31,770] Finished a trial resulted in value: -0.3385743160241241. Current best value is -1.680588803274962 with parameters: {'a': 0.2400843038794577, 'b': 0.41567731224242255, 'ab': [0.2400843038794577, 0.41567731224242255]}.\n"
     ]
    },
    {
     "name": "stdout",
     "output_type": "stream",
     "text": [
      "The set cost function is ignored! LCB acquisition does not make sense with cost.\n"
     ]
    },
    {
     "name": "stderr",
     "output_type": "stream",
     "text": [
      "reconstraining parameters GP_regression.Mat52\n",
      "reconstraining parameters GP_regression.Gaussian_noise.variance\n"
     ]
    },
    {
     "name": "stdout",
     "output_type": "stream",
     "text": [
      "sampling end!. 2019-04-17 18:38:31.775702 2019-04-17 18:39:47.540244\n"
     ]
    },
    {
     "name": "stderr",
     "output_type": "stream",
     "text": [
      "[I 2019-04-17 18:39:48,574] Finished a trial resulted in value: -0.3672554179187243. Current best value is -1.680588803274962 with parameters: {'a': 0.2400843038794577, 'b': 0.41567731224242255, 'ab': [0.2400843038794577, 0.41567731224242255]}.\n"
     ]
    },
    {
     "name": "stdout",
     "output_type": "stream",
     "text": [
      "The set cost function is ignored! LCB acquisition does not make sense with cost.\n"
     ]
    },
    {
     "name": "stderr",
     "output_type": "stream",
     "text": [
      "reconstraining parameters GP_regression.Mat52\n",
      "reconstraining parameters GP_regression.Gaussian_noise.variance\n"
     ]
    },
    {
     "name": "stdout",
     "output_type": "stream",
     "text": [
      "sampling end!. 2019-04-17 18:39:48.576449 2019-04-17 18:41:09.529261\n"
     ]
    },
    {
     "name": "stderr",
     "output_type": "stream",
     "text": [
      "[I 2019-04-17 18:41:10,561] Finished a trial resulted in value: -0.23273319345388666. Current best value is -1.680588803274962 with parameters: {'a': 0.2400843038794577, 'b': 0.41567731224242255, 'ab': [0.2400843038794577, 0.41567731224242255]}.\n"
     ]
    },
    {
     "name": "stdout",
     "output_type": "stream",
     "text": [
      "The set cost function is ignored! LCB acquisition does not make sense with cost.\n"
     ]
    },
    {
     "name": "stderr",
     "output_type": "stream",
     "text": [
      "reconstraining parameters GP_regression.Mat52\n",
      "reconstraining parameters GP_regression.Gaussian_noise.variance\n"
     ]
    },
    {
     "name": "stdout",
     "output_type": "stream",
     "text": [
      "sampling end!. 2019-04-17 18:41:10.563556 2019-04-17 18:42:26.129318\n"
     ]
    },
    {
     "name": "stderr",
     "output_type": "stream",
     "text": [
      "[I 2019-04-17 18:42:27,162] Finished a trial resulted in value: -0.2698525000628238. Current best value is -1.680588803274962 with parameters: {'a': 0.2400843038794577, 'b': 0.41567731224242255, 'ab': [0.2400843038794577, 0.41567731224242255]}.\n"
     ]
    },
    {
     "name": "stdout",
     "output_type": "stream",
     "text": [
      "The set cost function is ignored! LCB acquisition does not make sense with cost.\n"
     ]
    },
    {
     "name": "stderr",
     "output_type": "stream",
     "text": [
      "reconstraining parameters GP_regression.Mat52\n",
      "reconstraining parameters GP_regression.Gaussian_noise.variance\n"
     ]
    },
    {
     "name": "stdout",
     "output_type": "stream",
     "text": [
      "sampling end!. 2019-04-17 18:42:27.164490 2019-04-17 18:43:45.858332\n"
     ]
    },
    {
     "name": "stderr",
     "output_type": "stream",
     "text": [
      "[I 2019-04-17 18:43:46,893] Finished a trial resulted in value: -0.20590465986971196. Current best value is -1.680588803274962 with parameters: {'a': 0.2400843038794577, 'b': 0.41567731224242255, 'ab': [0.2400843038794577, 0.41567731224242255]}.\n"
     ]
    },
    {
     "name": "stdout",
     "output_type": "stream",
     "text": [
      "The set cost function is ignored! LCB acquisition does not make sense with cost.\n"
     ]
    },
    {
     "name": "stderr",
     "output_type": "stream",
     "text": [
      "reconstraining parameters GP_regression.Mat52\n",
      "reconstraining parameters GP_regression.Gaussian_noise.variance\n"
     ]
    },
    {
     "name": "stdout",
     "output_type": "stream",
     "text": [
      "sampling end!. 2019-04-17 18:43:46.896411 2019-04-17 18:45:04.100774\n"
     ]
    },
    {
     "name": "stderr",
     "output_type": "stream",
     "text": [
      "[I 2019-04-17 18:45:05,134] Finished a trial resulted in value: -0.23420440967064254. Current best value is -1.680588803274962 with parameters: {'a': 0.2400843038794577, 'b': 0.41567731224242255, 'ab': [0.2400843038794577, 0.41567731224242255]}.\n"
     ]
    },
    {
     "name": "stdout",
     "output_type": "stream",
     "text": [
      "The set cost function is ignored! LCB acquisition does not make sense with cost.\n"
     ]
    },
    {
     "name": "stderr",
     "output_type": "stream",
     "text": [
      "reconstraining parameters GP_regression.Mat52\n",
      "reconstraining parameters GP_regression.Gaussian_noise.variance\n"
     ]
    },
    {
     "name": "stdout",
     "output_type": "stream",
     "text": [
      "sampling end!. 2019-04-17 18:45:05.136908 2019-04-17 18:46:13.896304\n"
     ]
    },
    {
     "name": "stderr",
     "output_type": "stream",
     "text": [
      "[I 2019-04-17 18:46:14,928] Finished a trial resulted in value: -0.35255145339795146. Current best value is -1.680588803274962 with parameters: {'a': 0.2400843038794577, 'b': 0.41567731224242255, 'ab': [0.2400843038794577, 0.41567731224242255]}.\n"
     ]
    },
    {
     "name": "stdout",
     "output_type": "stream",
     "text": [
      "The set cost function is ignored! LCB acquisition does not make sense with cost.\n"
     ]
    },
    {
     "name": "stderr",
     "output_type": "stream",
     "text": [
      "reconstraining parameters GP_regression.Mat52\n",
      "reconstraining parameters GP_regression.Gaussian_noise.variance\n"
     ]
    },
    {
     "name": "stdout",
     "output_type": "stream",
     "text": [
      "sampling end!. 2019-04-17 18:46:14.930589 2019-04-17 18:47:24.261184\n"
     ]
    },
    {
     "name": "stderr",
     "output_type": "stream",
     "text": [
      "[I 2019-04-17 18:47:25,290] Finished a trial resulted in value: -0.33374672034727965. Current best value is -1.680588803274962 with parameters: {'a': 0.2400843038794577, 'b': 0.41567731224242255, 'ab': [0.2400843038794577, 0.41567731224242255]}.\n"
     ]
    },
    {
     "name": "stdout",
     "output_type": "stream",
     "text": [
      "The set cost function is ignored! LCB acquisition does not make sense with cost.\n"
     ]
    },
    {
     "name": "stderr",
     "output_type": "stream",
     "text": [
      "reconstraining parameters GP_regression.Mat52\n",
      "reconstraining parameters GP_regression.Gaussian_noise.variance\n"
     ]
    },
    {
     "name": "stdout",
     "output_type": "stream",
     "text": [
      "sampling end!. 2019-04-17 18:47:25.292450 2019-04-17 18:48:58.665176\n"
     ]
    },
    {
     "name": "stderr",
     "output_type": "stream",
     "text": [
      "[I 2019-04-17 18:48:59,702] Finished a trial resulted in value: 0.08855988658042663. Current best value is -1.680588803274962 with parameters: {'a': 0.2400843038794577, 'b': 0.41567731224242255, 'ab': [0.2400843038794577, 0.41567731224242255]}.\n"
     ]
    },
    {
     "name": "stdout",
     "output_type": "stream",
     "text": [
      "The set cost function is ignored! LCB acquisition does not make sense with cost.\n"
     ]
    },
    {
     "name": "stderr",
     "output_type": "stream",
     "text": [
      "reconstraining parameters GP_regression.Mat52\n",
      "reconstraining parameters GP_regression.Gaussian_noise.variance\n"
     ]
    },
    {
     "name": "stdout",
     "output_type": "stream",
     "text": [
      "sampling end!. 2019-04-17 18:48:59.704560 2019-04-17 18:50:10.457808\n"
     ]
    },
    {
     "name": "stderr",
     "output_type": "stream",
     "text": [
      "[I 2019-04-17 18:50:11,494] Finished a trial resulted in value: -0.18559683394404078. Current best value is -1.680588803274962 with parameters: {'a': 0.2400843038794577, 'b': 0.41567731224242255, 'ab': [0.2400843038794577, 0.41567731224242255]}.\n"
     ]
    },
    {
     "name": "stdout",
     "output_type": "stream",
     "text": [
      "The set cost function is ignored! LCB acquisition does not make sense with cost.\n"
     ]
    },
    {
     "name": "stderr",
     "output_type": "stream",
     "text": [
      "reconstraining parameters GP_regression.Mat52\n",
      "reconstraining parameters GP_regression.Gaussian_noise.variance\n"
     ]
    },
    {
     "name": "stdout",
     "output_type": "stream",
     "text": [
      "sampling end!. 2019-04-17 18:50:11.498034 2019-04-17 18:51:30.973420\n"
     ]
    },
    {
     "name": "stderr",
     "output_type": "stream",
     "text": [
      "[I 2019-04-17 18:51:32,012] Finished a trial resulted in value: 0.16134500555659825. Current best value is -1.680588803274962 with parameters: {'a': 0.2400843038794577, 'b': 0.41567731224242255, 'ab': [0.2400843038794577, 0.41567731224242255]}.\n"
     ]
    },
    {
     "name": "stdout",
     "output_type": "stream",
     "text": [
      "The set cost function is ignored! LCB acquisition does not make sense with cost.\n"
     ]
    },
    {
     "name": "stderr",
     "output_type": "stream",
     "text": [
      "reconstraining parameters GP_regression.Mat52\n",
      "reconstraining parameters GP_regression.Gaussian_noise.variance\n"
     ]
    },
    {
     "name": "stdout",
     "output_type": "stream",
     "text": [
      "sampling end!. 2019-04-17 18:51:32.015958 2019-04-17 18:52:52.172754\n"
     ]
    },
    {
     "name": "stderr",
     "output_type": "stream",
     "text": [
      "[I 2019-04-17 18:52:53,224] Finished a trial resulted in value: -0.3595346245385749. Current best value is -1.680588803274962 with parameters: {'a': 0.2400843038794577, 'b': 0.41567731224242255, 'ab': [0.2400843038794577, 0.41567731224242255]}.\n"
     ]
    },
    {
     "name": "stdout",
     "output_type": "stream",
     "text": [
      "The set cost function is ignored! LCB acquisition does not make sense with cost.\n"
     ]
    },
    {
     "name": "stderr",
     "output_type": "stream",
     "text": [
      "reconstraining parameters GP_regression.Mat52\n",
      "reconstraining parameters GP_regression.Gaussian_noise.variance\n"
     ]
    },
    {
     "name": "stdout",
     "output_type": "stream",
     "text": [
      "sampling end!. 2019-04-17 18:52:53.231408 2019-04-17 18:54:47.245827\n"
     ]
    },
    {
     "name": "stderr",
     "output_type": "stream",
     "text": [
      "[I 2019-04-17 18:54:48,309] Finished a trial resulted in value: -0.4832118829893963. Current best value is -1.680588803274962 with parameters: {'a': 0.2400843038794577, 'b': 0.41567731224242255, 'ab': [0.2400843038794577, 0.41567731224242255]}.\n"
     ]
    },
    {
     "name": "stdout",
     "output_type": "stream",
     "text": [
      "The set cost function is ignored! LCB acquisition does not make sense with cost.\n"
     ]
    },
    {
     "name": "stderr",
     "output_type": "stream",
     "text": [
      "reconstraining parameters GP_regression.Mat52\n",
      "reconstraining parameters GP_regression.Gaussian_noise.variance\n"
     ]
    },
    {
     "name": "stdout",
     "output_type": "stream",
     "text": [
      "sampling end!. 2019-04-17 18:54:48.311395 2019-04-17 18:56:25.691837\n"
     ]
    },
    {
     "name": "stderr",
     "output_type": "stream",
     "text": [
      "[I 2019-04-17 18:56:26,732] Finished a trial resulted in value: -0.5408190517871212. Current best value is -1.680588803274962 with parameters: {'a': 0.2400843038794577, 'b': 0.41567731224242255, 'ab': [0.2400843038794577, 0.41567731224242255]}.\n"
     ]
    },
    {
     "name": "stdout",
     "output_type": "stream",
     "text": [
      "The set cost function is ignored! LCB acquisition does not make sense with cost.\n"
     ]
    },
    {
     "name": "stderr",
     "output_type": "stream",
     "text": [
      "reconstraining parameters GP_regression.Mat52\n",
      "reconstraining parameters GP_regression.Gaussian_noise.variance\n"
     ]
    },
    {
     "name": "stdout",
     "output_type": "stream",
     "text": [
      "sampling end!. 2019-04-17 18:56:26.735891 2019-04-17 18:58:00.043069\n"
     ]
    },
    {
     "name": "stderr",
     "output_type": "stream",
     "text": [
      "[I 2019-04-17 18:58:01,093] Finished a trial resulted in value: -0.11232354821323305. Current best value is -1.680588803274962 with parameters: {'a': 0.2400843038794577, 'b': 0.41567731224242255, 'ab': [0.2400843038794577, 0.41567731224242255]}.\n"
     ]
    },
    {
     "name": "stdout",
     "output_type": "stream",
     "text": [
      "The set cost function is ignored! LCB acquisition does not make sense with cost.\n"
     ]
    },
    {
     "name": "stderr",
     "output_type": "stream",
     "text": [
      "reconstraining parameters GP_regression.Mat52\n",
      "reconstraining parameters GP_regression.Gaussian_noise.variance\n"
     ]
    },
    {
     "name": "stdout",
     "output_type": "stream",
     "text": [
      "sampling end!. 2019-04-17 18:58:01.095371 2019-04-17 18:59:39.160738\n"
     ]
    },
    {
     "name": "stderr",
     "output_type": "stream",
     "text": [
      "[I 2019-04-17 18:59:40,226] Finished a trial resulted in value: -0.334030331568664. Current best value is -1.680588803274962 with parameters: {'a': 0.2400843038794577, 'b': 0.41567731224242255, 'ab': [0.2400843038794577, 0.41567731224242255]}.\n"
     ]
    },
    {
     "name": "stdout",
     "output_type": "stream",
     "text": [
      "The set cost function is ignored! LCB acquisition does not make sense with cost.\n"
     ]
    },
    {
     "name": "stderr",
     "output_type": "stream",
     "text": [
      "reconstraining parameters GP_regression.Mat52\n",
      "reconstraining parameters GP_regression.Gaussian_noise.variance\n"
     ]
    },
    {
     "name": "stdout",
     "output_type": "stream",
     "text": [
      "sampling end!. 2019-04-17 18:59:40.229001 2019-04-17 19:01:10.771067\n"
     ]
    },
    {
     "name": "stderr",
     "output_type": "stream",
     "text": [
      "[I 2019-04-17 19:01:11,811] Finished a trial resulted in value: 0.22609002309034487. Current best value is -1.680588803274962 with parameters: {'a': 0.2400843038794577, 'b': 0.41567731224242255, 'ab': [0.2400843038794577, 0.41567731224242255]}.\n"
     ]
    },
    {
     "name": "stdout",
     "output_type": "stream",
     "text": [
      "The set cost function is ignored! LCB acquisition does not make sense with cost.\n"
     ]
    },
    {
     "name": "stderr",
     "output_type": "stream",
     "text": [
      "reconstraining parameters GP_regression.Mat52\n",
      "reconstraining parameters GP_regression.Gaussian_noise.variance\n"
     ]
    },
    {
     "name": "stdout",
     "output_type": "stream",
     "text": [
      "sampling end!. 2019-04-17 19:01:11.813062 2019-04-17 19:02:46.028987\n"
     ]
    },
    {
     "name": "stderr",
     "output_type": "stream",
     "text": [
      "[I 2019-04-17 19:02:47,061] Finished a trial resulted in value: 0.0008165032249951576. Current best value is -1.680588803274962 with parameters: {'a': 0.2400843038794577, 'b': 0.41567731224242255, 'ab': [0.2400843038794577, 0.41567731224242255]}.\n"
     ]
    },
    {
     "name": "stdout",
     "output_type": "stream",
     "text": [
      "The set cost function is ignored! LCB acquisition does not make sense with cost.\n"
     ]
    },
    {
     "name": "stderr",
     "output_type": "stream",
     "text": [
      "reconstraining parameters GP_regression.Mat52\n",
      "reconstraining parameters GP_regression.Gaussian_noise.variance\n"
     ]
    },
    {
     "name": "stdout",
     "output_type": "stream",
     "text": [
      "sampling end!. 2019-04-17 19:02:47.063187 2019-04-17 19:04:14.783683\n"
     ]
    },
    {
     "name": "stderr",
     "output_type": "stream",
     "text": [
      "[I 2019-04-17 19:04:15,840] Finished a trial resulted in value: 0.30477807332991336. Current best value is -1.680588803274962 with parameters: {'a': 0.2400843038794577, 'b': 0.41567731224242255, 'ab': [0.2400843038794577, 0.41567731224242255]}.\n"
     ]
    },
    {
     "name": "stdout",
     "output_type": "stream",
     "text": [
      "The set cost function is ignored! LCB acquisition does not make sense with cost.\n"
     ]
    },
    {
     "name": "stderr",
     "output_type": "stream",
     "text": [
      "reconstraining parameters GP_regression.Mat52\n",
      "reconstraining parameters GP_regression.Gaussian_noise.variance\n"
     ]
    },
    {
     "name": "stdout",
     "output_type": "stream",
     "text": [
      "sampling end!. 2019-04-17 19:04:15.859989 2019-04-17 19:05:51.501283\n"
     ]
    },
    {
     "name": "stderr",
     "output_type": "stream",
     "text": [
      "[I 2019-04-17 19:05:52,560] Finished a trial resulted in value: -0.12195679776780848. Current best value is -1.680588803274962 with parameters: {'a': 0.2400843038794577, 'b': 0.41567731224242255, 'ab': [0.2400843038794577, 0.41567731224242255]}.\n"
     ]
    },
    {
     "name": "stdout",
     "output_type": "stream",
     "text": [
      "The set cost function is ignored! LCB acquisition does not make sense with cost.\n"
     ]
    },
    {
     "name": "stderr",
     "output_type": "stream",
     "text": [
      "reconstraining parameters GP_regression.Mat52\n",
      "reconstraining parameters GP_regression.Gaussian_noise.variance\n"
     ]
    },
    {
     "name": "stdout",
     "output_type": "stream",
     "text": [
      "sampling end!. 2019-04-17 19:05:52.562771 2019-04-17 19:07:39.399101\n"
     ]
    },
    {
     "name": "stderr",
     "output_type": "stream",
     "text": [
      "[I 2019-04-17 19:07:40,437] Finished a trial resulted in value: 0.3888324517967659. Current best value is -1.680588803274962 with parameters: {'a': 0.2400843038794577, 'b': 0.41567731224242255, 'ab': [0.2400843038794577, 0.41567731224242255]}.\n"
     ]
    },
    {
     "name": "stdout",
     "output_type": "stream",
     "text": [
      "The set cost function is ignored! LCB acquisition does not make sense with cost.\n"
     ]
    },
    {
     "name": "stderr",
     "output_type": "stream",
     "text": [
      "reconstraining parameters GP_regression.Mat52\n",
      "reconstraining parameters GP_regression.Gaussian_noise.variance\n"
     ]
    },
    {
     "name": "stdout",
     "output_type": "stream",
     "text": [
      "sampling end!. 2019-04-17 19:07:40.439775 2019-04-17 19:09:39.009916\n"
     ]
    },
    {
     "name": "stderr",
     "output_type": "stream",
     "text": [
      "[I 2019-04-17 19:09:40,062] Finished a trial resulted in value: 0.24027063562741613. Current best value is -1.680588803274962 with parameters: {'a': 0.2400843038794577, 'b': 0.41567731224242255, 'ab': [0.2400843038794577, 0.41567731224242255]}.\n"
     ]
    },
    {
     "name": "stdout",
     "output_type": "stream",
     "text": [
      "The set cost function is ignored! LCB acquisition does not make sense with cost.\n"
     ]
    },
    {
     "name": "stderr",
     "output_type": "stream",
     "text": [
      "reconstraining parameters GP_regression.Mat52\n",
      "reconstraining parameters GP_regression.Gaussian_noise.variance\n"
     ]
    },
    {
     "name": "stdout",
     "output_type": "stream",
     "text": [
      "sampling end!. 2019-04-17 19:09:40.065014 2019-04-17 19:11:27.704386\n"
     ]
    },
    {
     "name": "stderr",
     "output_type": "stream",
     "text": [
      "[I 2019-04-17 19:11:28,751] Finished a trial resulted in value: 0.21663583120726734. Current best value is -1.680588803274962 with parameters: {'a': 0.2400843038794577, 'b': 0.41567731224242255, 'ab': [0.2400843038794577, 0.41567731224242255]}.\n"
     ]
    },
    {
     "name": "stdout",
     "output_type": "stream",
     "text": [
      "The set cost function is ignored! LCB acquisition does not make sense with cost.\n"
     ]
    },
    {
     "name": "stderr",
     "output_type": "stream",
     "text": [
      "reconstraining parameters GP_regression.Mat52\n",
      "reconstraining parameters GP_regression.Gaussian_noise.variance\n"
     ]
    },
    {
     "name": "stdout",
     "output_type": "stream",
     "text": [
      "sampling end!. 2019-04-17 19:11:28.753642 2019-04-17 19:13:18.524625\n"
     ]
    },
    {
     "name": "stderr",
     "output_type": "stream",
     "text": [
      "[I 2019-04-17 19:13:19,560] Finished a trial resulted in value: -0.20877860292864198. Current best value is -1.680588803274962 with parameters: {'a': 0.2400843038794577, 'b': 0.41567731224242255, 'ab': [0.2400843038794577, 0.41567731224242255]}.\n"
     ]
    },
    {
     "name": "stdout",
     "output_type": "stream",
     "text": [
      "The set cost function is ignored! LCB acquisition does not make sense with cost.\n"
     ]
    },
    {
     "name": "stderr",
     "output_type": "stream",
     "text": [
      "reconstraining parameters GP_regression.Mat52\n",
      "reconstraining parameters GP_regression.Gaussian_noise.variance\n"
     ]
    },
    {
     "name": "stdout",
     "output_type": "stream",
     "text": [
      "sampling end!. 2019-04-17 19:13:19.562674 2019-04-17 19:15:07.158998\n"
     ]
    },
    {
     "name": "stderr",
     "output_type": "stream",
     "text": [
      "[I 2019-04-17 19:15:08,198] Finished a trial resulted in value: -0.1871164236544817. Current best value is -1.680588803274962 with parameters: {'a': 0.2400843038794577, 'b': 0.41567731224242255, 'ab': [0.2400843038794577, 0.41567731224242255]}.\n"
     ]
    },
    {
     "name": "stdout",
     "output_type": "stream",
     "text": [
      "The set cost function is ignored! LCB acquisition does not make sense with cost.\n"
     ]
    },
    {
     "name": "stderr",
     "output_type": "stream",
     "text": [
      "reconstraining parameters GP_regression.Mat52\n",
      "reconstraining parameters GP_regression.Gaussian_noise.variance\n"
     ]
    },
    {
     "name": "stdout",
     "output_type": "stream",
     "text": [
      "sampling end!. 2019-04-17 19:15:08.200693 2019-04-17 19:16:56.856610\n"
     ]
    },
    {
     "name": "stderr",
     "output_type": "stream",
     "text": [
      "[I 2019-04-17 19:16:57,919] Finished a trial resulted in value: -0.23415730448995314. Current best value is -1.680588803274962 with parameters: {'a': 0.2400843038794577, 'b': 0.41567731224242255, 'ab': [0.2400843038794577, 0.41567731224242255]}.\n"
     ]
    },
    {
     "name": "stdout",
     "output_type": "stream",
     "text": [
      "The set cost function is ignored! LCB acquisition does not make sense with cost.\n"
     ]
    },
    {
     "name": "stderr",
     "output_type": "stream",
     "text": [
      "reconstraining parameters GP_regression.Mat52\n",
      "reconstraining parameters GP_regression.Gaussian_noise.variance\n"
     ]
    },
    {
     "name": "stdout",
     "output_type": "stream",
     "text": [
      "sampling end!. 2019-04-17 19:16:57.921461 2019-04-17 19:18:52.466309\n"
     ]
    },
    {
     "name": "stderr",
     "output_type": "stream",
     "text": [
      "[I 2019-04-17 19:18:53,516] Finished a trial resulted in value: -0.25270904739632416. Current best value is -1.680588803274962 with parameters: {'a': 0.2400843038794577, 'b': 0.41567731224242255, 'ab': [0.2400843038794577, 0.41567731224242255]}.\n"
     ]
    },
    {
     "name": "stdout",
     "output_type": "stream",
     "text": [
      "The set cost function is ignored! LCB acquisition does not make sense with cost.\n"
     ]
    },
    {
     "name": "stderr",
     "output_type": "stream",
     "text": [
      "reconstraining parameters GP_regression.Mat52\n",
      "reconstraining parameters GP_regression.Gaussian_noise.variance\n"
     ]
    },
    {
     "name": "stdout",
     "output_type": "stream",
     "text": [
      "sampling end!. 2019-04-17 19:18:53.518715 2019-04-17 19:20:43.734112\n"
     ]
    },
    {
     "name": "stderr",
     "output_type": "stream",
     "text": [
      "[I 2019-04-17 19:20:44,772] Finished a trial resulted in value: -0.2767120801178371. Current best value is -1.680588803274962 with parameters: {'a': 0.2400843038794577, 'b': 0.41567731224242255, 'ab': [0.2400843038794577, 0.41567731224242255]}.\n"
     ]
    },
    {
     "name": "stdout",
     "output_type": "stream",
     "text": [
      "The set cost function is ignored! LCB acquisition does not make sense with cost.\n"
     ]
    },
    {
     "name": "stderr",
     "output_type": "stream",
     "text": [
      "reconstraining parameters GP_regression.Mat52\n",
      "reconstraining parameters GP_regression.Gaussian_noise.variance\n"
     ]
    },
    {
     "name": "stdout",
     "output_type": "stream",
     "text": [
      "sampling end!. 2019-04-17 19:20:44.774779 2019-04-17 19:23:21.237708\n"
     ]
    },
    {
     "name": "stderr",
     "output_type": "stream",
     "text": [
      "[I 2019-04-17 19:23:22,279] Finished a trial resulted in value: 0.25515187821187757. Current best value is -1.680588803274962 with parameters: {'a': 0.2400843038794577, 'b': 0.41567731224242255, 'ab': [0.2400843038794577, 0.41567731224242255]}.\n"
     ]
    },
    {
     "name": "stdout",
     "output_type": "stream",
     "text": [
      "The set cost function is ignored! LCB acquisition does not make sense with cost.\n"
     ]
    },
    {
     "name": "stderr",
     "output_type": "stream",
     "text": [
      "reconstraining parameters GP_regression.Mat52\n",
      "reconstraining parameters GP_regression.Gaussian_noise.variance\n"
     ]
    },
    {
     "name": "stdout",
     "output_type": "stream",
     "text": [
      "sampling end!. 2019-04-17 19:23:22.281517 2019-04-17 19:25:07.226871\n"
     ]
    },
    {
     "name": "stderr",
     "output_type": "stream",
     "text": [
      "[I 2019-04-17 19:25:08,298] Finished a trial resulted in value: -0.3422922207900604. Current best value is -1.680588803274962 with parameters: {'a': 0.2400843038794577, 'b': 0.41567731224242255, 'ab': [0.2400843038794577, 0.41567731224242255]}.\n"
     ]
    },
    {
     "name": "stdout",
     "output_type": "stream",
     "text": [
      "The set cost function is ignored! LCB acquisition does not make sense with cost.\n"
     ]
    },
    {
     "name": "stderr",
     "output_type": "stream",
     "text": [
      "reconstraining parameters GP_regression.Mat52\n",
      "reconstraining parameters GP_regression.Gaussian_noise.variance\n"
     ]
    },
    {
     "name": "stdout",
     "output_type": "stream",
     "text": [
      "sampling end!. 2019-04-17 19:25:08.308271 2019-04-17 19:26:55.602424\n"
     ]
    },
    {
     "name": "stderr",
     "output_type": "stream",
     "text": [
      "[I 2019-04-17 19:26:56,666] Finished a trial resulted in value: -0.28530808596671403. Current best value is -1.680588803274962 with parameters: {'a': 0.2400843038794577, 'b': 0.41567731224242255, 'ab': [0.2400843038794577, 0.41567731224242255]}.\n"
     ]
    },
    {
     "name": "stdout",
     "output_type": "stream",
     "text": [
      "The set cost function is ignored! LCB acquisition does not make sense with cost.\n"
     ]
    },
    {
     "name": "stderr",
     "output_type": "stream",
     "text": [
      "reconstraining parameters GP_regression.Mat52\n",
      "reconstraining parameters GP_regression.Gaussian_noise.variance\n"
     ]
    },
    {
     "name": "stdout",
     "output_type": "stream",
     "text": [
      "sampling end!. 2019-04-17 19:26:56.669606 2019-04-17 19:28:46.239570\n"
     ]
    },
    {
     "name": "stderr",
     "output_type": "stream",
     "text": [
      "[I 2019-04-17 19:28:47,277] Finished a trial resulted in value: -0.11370979431739164. Current best value is -1.680588803274962 with parameters: {'a': 0.2400843038794577, 'b': 0.41567731224242255, 'ab': [0.2400843038794577, 0.41567731224242255]}.\n"
     ]
    },
    {
     "name": "stdout",
     "output_type": "stream",
     "text": [
      "The set cost function is ignored! LCB acquisition does not make sense with cost.\n"
     ]
    },
    {
     "name": "stderr",
     "output_type": "stream",
     "text": [
      "reconstraining parameters GP_regression.Mat52\n",
      "reconstraining parameters GP_regression.Gaussian_noise.variance\n"
     ]
    },
    {
     "name": "stdout",
     "output_type": "stream",
     "text": [
      "sampling end!. 2019-04-17 19:28:47.279978 2019-04-17 19:30:46.466305\n"
     ]
    },
    {
     "name": "stderr",
     "output_type": "stream",
     "text": [
      "[I 2019-04-17 19:30:47,517] Finished a trial resulted in value: -0.03536972875580499. Current best value is -1.680588803274962 with parameters: {'a': 0.2400843038794577, 'b': 0.41567731224242255, 'ab': [0.2400843038794577, 0.41567731224242255]}.\n"
     ]
    },
    {
     "name": "stdout",
     "output_type": "stream",
     "text": [
      "The set cost function is ignored! LCB acquisition does not make sense with cost.\n"
     ]
    },
    {
     "name": "stderr",
     "output_type": "stream",
     "text": [
      "reconstraining parameters GP_regression.Mat52\n",
      "reconstraining parameters GP_regression.Gaussian_noise.variance\n"
     ]
    },
    {
     "name": "stdout",
     "output_type": "stream",
     "text": [
      "sampling end!. 2019-04-17 19:30:47.519694 2019-04-17 19:33:15.519304\n"
     ]
    },
    {
     "name": "stderr",
     "output_type": "stream",
     "text": [
      "[I 2019-04-17 19:33:16,578] Finished a trial resulted in value: 0.024942631046458726. Current best value is -1.680588803274962 with parameters: {'a': 0.2400843038794577, 'b': 0.41567731224242255, 'ab': [0.2400843038794577, 0.41567731224242255]}.\n"
     ]
    },
    {
     "name": "stdout",
     "output_type": "stream",
     "text": [
      "The set cost function is ignored! LCB acquisition does not make sense with cost.\n"
     ]
    },
    {
     "name": "stderr",
     "output_type": "stream",
     "text": [
      "reconstraining parameters GP_regression.Mat52\n",
      "reconstraining parameters GP_regression.Gaussian_noise.variance\n"
     ]
    },
    {
     "name": "stdout",
     "output_type": "stream",
     "text": [
      "sampling end!. 2019-04-17 19:33:16.582418 2019-04-17 19:35:25.571871\n"
     ]
    },
    {
     "name": "stderr",
     "output_type": "stream",
     "text": [
      "[I 2019-04-17 19:35:26,637] Finished a trial resulted in value: 0.17871387498971222. Current best value is -1.680588803274962 with parameters: {'a': 0.2400843038794577, 'b': 0.41567731224242255, 'ab': [0.2400843038794577, 0.41567731224242255]}.\n"
     ]
    },
    {
     "name": "stdout",
     "output_type": "stream",
     "text": [
      "The set cost function is ignored! LCB acquisition does not make sense with cost.\n"
     ]
    },
    {
     "name": "stderr",
     "output_type": "stream",
     "text": [
      "reconstraining parameters GP_regression.Mat52\n",
      "reconstraining parameters GP_regression.Gaussian_noise.variance\n"
     ]
    },
    {
     "name": "stdout",
     "output_type": "stream",
     "text": [
      "sampling end!. 2019-04-17 19:35:26.640804 2019-04-17 19:37:32.751726\n"
     ]
    },
    {
     "name": "stderr",
     "output_type": "stream",
     "text": [
      "[I 2019-04-17 19:37:33,816] Finished a trial resulted in value: 0.46887461663543367. Current best value is -1.680588803274962 with parameters: {'a': 0.2400843038794577, 'b': 0.41567731224242255, 'ab': [0.2400843038794577, 0.41567731224242255]}.\n"
     ]
    },
    {
     "name": "stdout",
     "output_type": "stream",
     "text": [
      "The set cost function is ignored! LCB acquisition does not make sense with cost.\n"
     ]
    },
    {
     "name": "stderr",
     "output_type": "stream",
     "text": [
      "reconstraining parameters GP_regression.Mat52\n",
      "reconstraining parameters GP_regression.Gaussian_noise.variance\n"
     ]
    },
    {
     "name": "stdout",
     "output_type": "stream",
     "text": [
      "sampling end!. 2019-04-17 19:37:33.819167 2019-04-17 19:39:46.366340\n"
     ]
    },
    {
     "name": "stderr",
     "output_type": "stream",
     "text": [
      "[I 2019-04-17 19:39:47,419] Finished a trial resulted in value: -0.012032221182421948. Current best value is -1.680588803274962 with parameters: {'a': 0.2400843038794577, 'b': 0.41567731224242255, 'ab': [0.2400843038794577, 0.41567731224242255]}.\n"
     ]
    },
    {
     "name": "stdout",
     "output_type": "stream",
     "text": [
      "The set cost function is ignored! LCB acquisition does not make sense with cost.\n"
     ]
    },
    {
     "name": "stderr",
     "output_type": "stream",
     "text": [
      "reconstraining parameters GP_regression.Mat52\n",
      "reconstraining parameters GP_regression.Gaussian_noise.variance\n"
     ]
    },
    {
     "name": "stdout",
     "output_type": "stream",
     "text": [
      "sampling end!. 2019-04-17 19:39:47.423328 2019-04-17 19:42:10.469056\n"
     ]
    },
    {
     "name": "stderr",
     "output_type": "stream",
     "text": [
      "[I 2019-04-17 19:42:11,513] Finished a trial resulted in value: 0.3883462478632157. Current best value is -1.680588803274962 with parameters: {'a': 0.2400843038794577, 'b': 0.41567731224242255, 'ab': [0.2400843038794577, 0.41567731224242255]}.\n"
     ]
    },
    {
     "name": "stdout",
     "output_type": "stream",
     "text": [
      "The set cost function is ignored! LCB acquisition does not make sense with cost.\n"
     ]
    },
    {
     "name": "stderr",
     "output_type": "stream",
     "text": [
      "reconstraining parameters GP_regression.Mat52\n",
      "reconstraining parameters GP_regression.Gaussian_noise.variance\n"
     ]
    },
    {
     "name": "stdout",
     "output_type": "stream",
     "text": [
      "sampling end!. 2019-04-17 19:42:11.516744 2019-04-17 19:44:28.366403\n"
     ]
    },
    {
     "name": "stderr",
     "output_type": "stream",
     "text": [
      "[I 2019-04-17 19:44:29,418] Finished a trial resulted in value: 0.28429713106750526. Current best value is -1.680588803274962 with parameters: {'a': 0.2400843038794577, 'b': 0.41567731224242255, 'ab': [0.2400843038794577, 0.41567731224242255]}.\n"
     ]
    },
    {
     "name": "stdout",
     "output_type": "stream",
     "text": [
      "The set cost function is ignored! LCB acquisition does not make sense with cost.\n"
     ]
    },
    {
     "name": "stderr",
     "output_type": "stream",
     "text": [
      "reconstraining parameters GP_regression.Mat52\n",
      "reconstraining parameters GP_regression.Gaussian_noise.variance\n"
     ]
    },
    {
     "name": "stdout",
     "output_type": "stream",
     "text": [
      "sampling end!. 2019-04-17 19:44:29.421888 2019-04-17 19:46:39.786216\n"
     ]
    },
    {
     "name": "stderr",
     "output_type": "stream",
     "text": [
      "[I 2019-04-17 19:46:40,839] Finished a trial resulted in value: -0.2787812323088011. Current best value is -1.680588803274962 with parameters: {'a': 0.2400843038794577, 'b': 0.41567731224242255, 'ab': [0.2400843038794577, 0.41567731224242255]}.\n"
     ]
    },
    {
     "name": "stdout",
     "output_type": "stream",
     "text": [
      "The set cost function is ignored! LCB acquisition does not make sense with cost.\n"
     ]
    },
    {
     "name": "stderr",
     "output_type": "stream",
     "text": [
      "reconstraining parameters GP_regression.Mat52\n",
      "reconstraining parameters GP_regression.Gaussian_noise.variance\n"
     ]
    },
    {
     "name": "stdout",
     "output_type": "stream",
     "text": [
      "sampling end!. 2019-04-17 19:46:40.842863 2019-04-17 19:48:50.508955\n"
     ]
    },
    {
     "name": "stderr",
     "output_type": "stream",
     "text": [
      "[I 2019-04-17 19:48:51,575] Finished a trial resulted in value: -0.27053640523371664. Current best value is -1.680588803274962 with parameters: {'a': 0.2400843038794577, 'b': 0.41567731224242255, 'ab': [0.2400843038794577, 0.41567731224242255]}.\n"
     ]
    },
    {
     "name": "stdout",
     "output_type": "stream",
     "text": [
      "The set cost function is ignored! LCB acquisition does not make sense with cost.\n"
     ]
    },
    {
     "name": "stderr",
     "output_type": "stream",
     "text": [
      "reconstraining parameters GP_regression.Mat52\n",
      "reconstraining parameters GP_regression.Gaussian_noise.variance\n"
     ]
    },
    {
     "name": "stdout",
     "output_type": "stream",
     "text": [
      "sampling end!. 2019-04-17 19:48:51.578123 2019-04-17 19:51:04.759716\n"
     ]
    },
    {
     "name": "stderr",
     "output_type": "stream",
     "text": [
      "[I 2019-04-17 19:51:05,830] Finished a trial resulted in value: 0.12791375895837379. Current best value is -1.680588803274962 with parameters: {'a': 0.2400843038794577, 'b': 0.41567731224242255, 'ab': [0.2400843038794577, 0.41567731224242255]}.\n"
     ]
    },
    {
     "name": "stdout",
     "output_type": "stream",
     "text": [
      "The set cost function is ignored! LCB acquisition does not make sense with cost.\n"
     ]
    },
    {
     "name": "stderr",
     "output_type": "stream",
     "text": [
      "reconstraining parameters GP_regression.Mat52\n",
      "reconstraining parameters GP_regression.Gaussian_noise.variance\n"
     ]
    },
    {
     "name": "stdout",
     "output_type": "stream",
     "text": [
      "sampling end!. 2019-04-17 19:51:05.834011 2019-04-17 19:53:51.418520\n"
     ]
    },
    {
     "name": "stderr",
     "output_type": "stream",
     "text": [
      "[I 2019-04-17 19:53:52,473] Finished a trial resulted in value: -0.23911850826610054. Current best value is -1.680588803274962 with parameters: {'a': 0.2400843038794577, 'b': 0.41567731224242255, 'ab': [0.2400843038794577, 0.41567731224242255]}.\n"
     ]
    },
    {
     "name": "stdout",
     "output_type": "stream",
     "text": [
      "The set cost function is ignored! LCB acquisition does not make sense with cost.\n"
     ]
    },
    {
     "name": "stderr",
     "output_type": "stream",
     "text": [
      "reconstraining parameters GP_regression.Mat52\n",
      "reconstraining parameters GP_regression.Gaussian_noise.variance\n"
     ]
    },
    {
     "name": "stdout",
     "output_type": "stream",
     "text": [
      "sampling end!. 2019-04-17 19:53:52.478170 2019-04-17 19:56:12.960288\n"
     ]
    },
    {
     "name": "stderr",
     "output_type": "stream",
     "text": [
      "[I 2019-04-17 19:56:14,012] Finished a trial resulted in value: 0.04844504867404495. Current best value is -1.680588803274962 with parameters: {'a': 0.2400843038794577, 'b': 0.41567731224242255, 'ab': [0.2400843038794577, 0.41567731224242255]}.\n"
     ]
    }
   ],
   "source": [
    "sampler = optuna.samplers.GPSampler()\n",
    "study_rbf = optuna.create_study(sampler=sampler)\n",
    "study_rbf.optimize(lambda t: - objevtive_rbf(t), n_trials=n_trials)"
   ]
  },
  {
   "cell_type": "code",
   "execution_count": 8,
   "metadata": {},
   "outputs": [],
   "source": [
    "t = -1\n",
    "quantization = int(np.sqrt(data.shape[1]))\n",
    "\n",
    "def quantize(a):\n",
    "    return np.argmin(np.abs(np.linspace(0., 1., quantization) - a))\n",
    "\n",
    "\n",
    "def fun_rbf(a, b):\n",
    "    global t\n",
    "    t += 1\n",
    "    i = quantize(a)\n",
    "    j = quantize(b)\n",
    "    time.sleep(1)\n",
    "    return data[t][i + quantization + j]\n",
    "\n",
    "\n",
    "def objevtive_rbf(trial):\n",
    "    a, b = trial.suggest_joint('ab',\n",
    "                               [['uniform', 'a', 0., 1.],\n",
    "                                ['uniform', 'b', 0., 1.]])\n",
    "    return fun_rbf(a, b)"
   ]
  },
  {
   "cell_type": "code",
   "execution_count": 9,
   "metadata": {},
   "outputs": [
    {
     "name": "stderr",
     "output_type": "stream",
     "text": [
      "[I 2019-04-14 17:11:21,035] Finished a trial resulted in value: 0.0533208092905775. Current best value is 0.0533208092905775 with parameters: {'a': 0.3435098991197073, 'b': 0.30656900896503236, 'ab': [0.3435098991197073, 0.30656900896503236]}.\n",
      "[I 2019-04-14 17:11:22,050] Finished a trial resulted in value: 0.08846897873085827. Current best value is 0.0533208092905775 with parameters: {'a': 0.3435098991197073, 'b': 0.30656900896503236, 'ab': [0.3435098991197073, 0.30656900896503236]}.\n",
      "[I 2019-04-14 17:11:23,062] Finished a trial resulted in value: -0.313283325404796. Current best value is -0.313283325404796 with parameters: {'a': 0.7868568558569027, 'b': 0.3717775281186396, 'ab': [0.7868568558569027, 0.3717775281186396]}.\n",
      "[I 2019-04-14 17:11:24,074] Finished a trial resulted in value: 0.20029735835605178. Current best value is -0.313283325404796 with parameters: {'a': 0.7868568558569027, 'b': 0.3717775281186396, 'ab': [0.7868568558569027, 0.3717775281186396]}.\n",
      "[I 2019-04-14 17:11:25,085] Finished a trial resulted in value: 0.029256039912708795. Current best value is -0.313283325404796 with parameters: {'a': 0.7868568558569027, 'b': 0.3717775281186396, 'ab': [0.7868568558569027, 0.3717775281186396]}.\n",
      "[I 2019-04-14 17:11:26,098] Finished a trial resulted in value: 0.29885149083804247. Current best value is -0.313283325404796 with parameters: {'a': 0.7868568558569027, 'b': 0.3717775281186396, 'ab': [0.7868568558569027, 0.3717775281186396]}.\n",
      "[I 2019-04-14 17:11:27,111] Finished a trial resulted in value: -0.3170192488069208. Current best value is -0.3170192488069208 with parameters: {'a': 0.7463101478689238, 'b': 0.5152094828697749, 'ab': [0.7463101478689238, 0.5152094828697749]}.\n",
      "[I 2019-04-14 17:11:28,122] Finished a trial resulted in value: -0.04667206811831508. Current best value is -0.3170192488069208 with parameters: {'a': 0.7463101478689238, 'b': 0.5152094828697749, 'ab': [0.7463101478689238, 0.5152094828697749]}.\n",
      "[I 2019-04-14 17:11:29,138] Finished a trial resulted in value: 0.3611022177693168. Current best value is -0.3170192488069208 with parameters: {'a': 0.7463101478689238, 'b': 0.5152094828697749, 'ab': [0.7463101478689238, 0.5152094828697749]}.\n",
      "[I 2019-04-14 17:11:30,151] Finished a trial resulted in value: 0.17818176985235995. Current best value is -0.3170192488069208 with parameters: {'a': 0.7463101478689238, 'b': 0.5152094828697749, 'ab': [0.7463101478689238, 0.5152094828697749]}.\n"
     ]
    },
    {
     "name": "stdout",
     "output_type": "stream",
     "text": [
      "The set cost function is ignored! LCB acquisition does not make sense with cost.\n",
      "ab\n"
     ]
    },
    {
     "name": "stderr",
     "output_type": "stream",
     "text": [
      "reconstraining parameters GP_regression.mul\n",
      "reconstraining parameters GP_regression.Gaussian_noise.variance\n",
      "[I 2019-04-14 17:11:40,369] Finished a trial resulted in value: 0.10536232821232758. Current best value is -0.3170192488069208 with parameters: {'a': 0.7463101478689238, 'b': 0.5152094828697749, 'ab': [0.7463101478689238, 0.5152094828697749]}.\n"
     ]
    },
    {
     "name": "stdout",
     "output_type": "stream",
     "text": [
      "The set cost function is ignored! LCB acquisition does not make sense with cost.\n",
      "ab\n"
     ]
    },
    {
     "name": "stderr",
     "output_type": "stream",
     "text": [
      "reconstraining parameters GP_regression.mul\n",
      "reconstraining parameters GP_regression.Gaussian_noise.variance\n",
      "[I 2019-04-14 17:11:50,722] Finished a trial resulted in value: 0.29908814743178663. Current best value is -0.3170192488069208 with parameters: {'a': 0.7463101478689238, 'b': 0.5152094828697749, 'ab': [0.7463101478689238, 0.5152094828697749]}.\n"
     ]
    },
    {
     "name": "stdout",
     "output_type": "stream",
     "text": [
      "The set cost function is ignored! LCB acquisition does not make sense with cost.\n",
      "ab\n"
     ]
    },
    {
     "name": "stderr",
     "output_type": "stream",
     "text": [
      "reconstraining parameters GP_regression.mul\n",
      "reconstraining parameters GP_regression.Gaussian_noise.variance\n",
      "[I 2019-04-14 17:12:00,969] Finished a trial resulted in value: 0.06798142748631204. Current best value is -0.3170192488069208 with parameters: {'a': 0.7463101478689238, 'b': 0.5152094828697749, 'ab': [0.7463101478689238, 0.5152094828697749]}.\n"
     ]
    },
    {
     "name": "stdout",
     "output_type": "stream",
     "text": [
      "The set cost function is ignored! LCB acquisition does not make sense with cost.\n",
      "ab\n"
     ]
    },
    {
     "name": "stderr",
     "output_type": "stream",
     "text": [
      "reconstraining parameters GP_regression.mul\n",
      "reconstraining parameters GP_regression.Gaussian_noise.variance\n",
      "[I 2019-04-14 17:12:12,744] Finished a trial resulted in value: 0.2919154777500525. Current best value is -0.3170192488069208 with parameters: {'a': 0.7463101478689238, 'b': 0.5152094828697749, 'ab': [0.7463101478689238, 0.5152094828697749]}.\n"
     ]
    },
    {
     "name": "stdout",
     "output_type": "stream",
     "text": [
      "The set cost function is ignored! LCB acquisition does not make sense with cost.\n",
      "ab\n"
     ]
    },
    {
     "name": "stderr",
     "output_type": "stream",
     "text": [
      "reconstraining parameters GP_regression.mul\n",
      "reconstraining parameters GP_regression.Gaussian_noise.variance\n",
      "[I 2019-04-14 17:12:23,164] Finished a trial resulted in value: -0.11410740522866768. Current best value is -0.3170192488069208 with parameters: {'a': 0.7463101478689238, 'b': 0.5152094828697749, 'ab': [0.7463101478689238, 0.5152094828697749]}.\n"
     ]
    },
    {
     "name": "stdout",
     "output_type": "stream",
     "text": [
      "The set cost function is ignored! LCB acquisition does not make sense with cost.\n",
      "ab\n"
     ]
    },
    {
     "name": "stderr",
     "output_type": "stream",
     "text": [
      "reconstraining parameters GP_regression.mul\n",
      "reconstraining parameters GP_regression.Gaussian_noise.variance\n",
      "[I 2019-04-14 17:12:34,172] Finished a trial resulted in value: -0.14981012198893592. Current best value is -0.3170192488069208 with parameters: {'a': 0.7463101478689238, 'b': 0.5152094828697749, 'ab': [0.7463101478689238, 0.5152094828697749]}.\n"
     ]
    },
    {
     "name": "stdout",
     "output_type": "stream",
     "text": [
      "The set cost function is ignored! LCB acquisition does not make sense with cost.\n",
      "ab\n"
     ]
    },
    {
     "name": "stderr",
     "output_type": "stream",
     "text": [
      "reconstraining parameters GP_regression.mul\n",
      "reconstraining parameters GP_regression.Gaussian_noise.variance\n",
      "[I 2019-04-14 17:12:45,735] Finished a trial resulted in value: -0.12495272853320649. Current best value is -0.3170192488069208 with parameters: {'a': 0.7463101478689238, 'b': 0.5152094828697749, 'ab': [0.7463101478689238, 0.5152094828697749]}.\n"
     ]
    },
    {
     "name": "stdout",
     "output_type": "stream",
     "text": [
      "The set cost function is ignored! LCB acquisition does not make sense with cost.\n",
      "ab\n"
     ]
    },
    {
     "name": "stderr",
     "output_type": "stream",
     "text": [
      "reconstraining parameters GP_regression.mul\n",
      "reconstraining parameters GP_regression.Gaussian_noise.variance\n",
      "[I 2019-04-14 17:12:56,108] Finished a trial resulted in value: -0.20560348904924786. Current best value is -0.3170192488069208 with parameters: {'a': 0.7463101478689238, 'b': 0.5152094828697749, 'ab': [0.7463101478689238, 0.5152094828697749]}.\n"
     ]
    },
    {
     "name": "stdout",
     "output_type": "stream",
     "text": [
      "The set cost function is ignored! LCB acquisition does not make sense with cost.\n",
      "ab\n"
     ]
    },
    {
     "name": "stderr",
     "output_type": "stream",
     "text": [
      "reconstraining parameters GP_regression.mul\n",
      "reconstraining parameters GP_regression.Gaussian_noise.variance\n",
      "[I 2019-04-14 17:13:06,726] Finished a trial resulted in value: -0.1624121965536517. Current best value is -0.3170192488069208 with parameters: {'a': 0.7463101478689238, 'b': 0.5152094828697749, 'ab': [0.7463101478689238, 0.5152094828697749]}.\n"
     ]
    },
    {
     "name": "stdout",
     "output_type": "stream",
     "text": [
      "The set cost function is ignored! LCB acquisition does not make sense with cost.\n",
      "ab\n"
     ]
    },
    {
     "name": "stderr",
     "output_type": "stream",
     "text": [
      "reconstraining parameters GP_regression.mul\n",
      "reconstraining parameters GP_regression.Gaussian_noise.variance\n",
      "[I 2019-04-14 17:13:17,638] Finished a trial resulted in value: -0.02525429884874006. Current best value is -0.3170192488069208 with parameters: {'a': 0.7463101478689238, 'b': 0.5152094828697749, 'ab': [0.7463101478689238, 0.5152094828697749]}.\n"
     ]
    },
    {
     "name": "stdout",
     "output_type": "stream",
     "text": [
      "The set cost function is ignored! LCB acquisition does not make sense with cost.\n",
      "ab\n"
     ]
    },
    {
     "name": "stderr",
     "output_type": "stream",
     "text": [
      "reconstraining parameters GP_regression.mul\n",
      "reconstraining parameters GP_regression.Gaussian_noise.variance\n",
      "[I 2019-04-14 17:13:30,788] Finished a trial resulted in value: 0.02710321273587689. Current best value is -0.3170192488069208 with parameters: {'a': 0.7463101478689238, 'b': 0.5152094828697749, 'ab': [0.7463101478689238, 0.5152094828697749]}.\n"
     ]
    },
    {
     "name": "stdout",
     "output_type": "stream",
     "text": [
      "The set cost function is ignored! LCB acquisition does not make sense with cost.\n",
      "ab\n"
     ]
    },
    {
     "name": "stderr",
     "output_type": "stream",
     "text": [
      "reconstraining parameters GP_regression.mul\n",
      "reconstraining parameters GP_regression.Gaussian_noise.variance\n",
      "[I 2019-04-14 17:13:42,885] Finished a trial resulted in value: -0.2643522676793506. Current best value is -0.3170192488069208 with parameters: {'a': 0.7463101478689238, 'b': 0.5152094828697749, 'ab': [0.7463101478689238, 0.5152094828697749]}.\n"
     ]
    },
    {
     "name": "stdout",
     "output_type": "stream",
     "text": [
      "The set cost function is ignored! LCB acquisition does not make sense with cost.\n",
      "ab\n"
     ]
    },
    {
     "name": "stderr",
     "output_type": "stream",
     "text": [
      "reconstraining parameters GP_regression.mul\n",
      "reconstraining parameters GP_regression.Gaussian_noise.variance\n",
      "[I 2019-04-14 17:13:52,796] Finished a trial resulted in value: -0.38345098658743. Current best value is -0.38345098658743 with parameters: {'a': 1.0, 'b': 0.0, 'ab': [1.0, 0.0]}.\n"
     ]
    },
    {
     "name": "stdout",
     "output_type": "stream",
     "text": [
      "The set cost function is ignored! LCB acquisition does not make sense with cost.\n",
      "ab\n"
     ]
    },
    {
     "name": "stderr",
     "output_type": "stream",
     "text": [
      "reconstraining parameters GP_regression.mul\n",
      "reconstraining parameters GP_regression.Gaussian_noise.variance\n",
      "[I 2019-04-14 17:14:02,886] Finished a trial resulted in value: -0.30688180460472264. Current best value is -0.38345098658743 with parameters: {'a': 1.0, 'b': 0.0, 'ab': [1.0, 0.0]}.\n"
     ]
    },
    {
     "name": "stdout",
     "output_type": "stream",
     "text": [
      "The set cost function is ignored! LCB acquisition does not make sense with cost.\n",
      "ab\n"
     ]
    },
    {
     "name": "stderr",
     "output_type": "stream",
     "text": [
      "reconstraining parameters GP_regression.mul\n",
      "reconstraining parameters GP_regression.Gaussian_noise.variance\n",
      "[I 2019-04-14 17:14:14,904] Finished a trial resulted in value: -0.2161615667588378. Current best value is -0.38345098658743 with parameters: {'a': 1.0, 'b': 0.0, 'ab': [1.0, 0.0]}.\n"
     ]
    },
    {
     "name": "stdout",
     "output_type": "stream",
     "text": [
      "The set cost function is ignored! LCB acquisition does not make sense with cost.\n",
      "ab\n"
     ]
    },
    {
     "name": "stderr",
     "output_type": "stream",
     "text": [
      "reconstraining parameters GP_regression.mul\n",
      "reconstraining parameters GP_regression.Gaussian_noise.variance\n",
      "[I 2019-04-14 17:14:25,616] Finished a trial resulted in value: -0.4836644801977632. Current best value is -0.4836644801977632 with parameters: {'a': 1.0, 'b': 0.0, 'ab': [1.0, 0.0]}.\n"
     ]
    },
    {
     "name": "stdout",
     "output_type": "stream",
     "text": [
      "The set cost function is ignored! LCB acquisition does not make sense with cost.\n",
      "ab\n"
     ]
    },
    {
     "name": "stderr",
     "output_type": "stream",
     "text": [
      "reconstraining parameters GP_regression.mul\n",
      "reconstraining parameters GP_regression.Gaussian_noise.variance\n",
      "[I 2019-04-14 17:14:36,262] Finished a trial resulted in value: -0.42757569349182567. Current best value is -0.4836644801977632 with parameters: {'a': 1.0, 'b': 0.0, 'ab': [1.0, 0.0]}.\n"
     ]
    },
    {
     "name": "stdout",
     "output_type": "stream",
     "text": [
      "The set cost function is ignored! LCB acquisition does not make sense with cost.\n",
      "ab\n"
     ]
    },
    {
     "name": "stderr",
     "output_type": "stream",
     "text": [
      "reconstraining parameters GP_regression.mul\n",
      "reconstraining parameters GP_regression.Gaussian_noise.variance\n",
      "[I 2019-04-14 17:14:46,913] Finished a trial resulted in value: -0.38175335825893725. Current best value is -0.4836644801977632 with parameters: {'a': 1.0, 'b': 0.0, 'ab': [1.0, 0.0]}.\n"
     ]
    },
    {
     "name": "stdout",
     "output_type": "stream",
     "text": [
      "The set cost function is ignored! LCB acquisition does not make sense with cost.\n",
      "ab\n"
     ]
    },
    {
     "name": "stderr",
     "output_type": "stream",
     "text": [
      "reconstraining parameters GP_regression.mul\n",
      "reconstraining parameters GP_regression.Gaussian_noise.variance\n",
      "[I 2019-04-14 17:14:57,287] Finished a trial resulted in value: -0.35579214904075207. Current best value is -0.4836644801977632 with parameters: {'a': 1.0, 'b': 0.0, 'ab': [1.0, 0.0]}.\n"
     ]
    },
    {
     "name": "stdout",
     "output_type": "stream",
     "text": [
      "The set cost function is ignored! LCB acquisition does not make sense with cost.\n",
      "ab\n"
     ]
    },
    {
     "name": "stderr",
     "output_type": "stream",
     "text": [
      "reconstraining parameters GP_regression.mul\n",
      "reconstraining parameters GP_regression.Gaussian_noise.variance\n",
      "[I 2019-04-14 17:15:08,471] Finished a trial resulted in value: -0.2768239699111865. Current best value is -0.4836644801977632 with parameters: {'a': 1.0, 'b': 0.0, 'ab': [1.0, 0.0]}.\n"
     ]
    },
    {
     "name": "stdout",
     "output_type": "stream",
     "text": [
      "The set cost function is ignored! LCB acquisition does not make sense with cost.\n",
      "ab\n"
     ]
    },
    {
     "name": "stderr",
     "output_type": "stream",
     "text": [
      "reconstraining parameters GP_regression.mul\n",
      "reconstraining parameters GP_regression.Gaussian_noise.variance\n",
      "[I 2019-04-14 17:15:20,356] Finished a trial resulted in value: -0.26080041515152896. Current best value is -0.4836644801977632 with parameters: {'a': 1.0, 'b': 0.0, 'ab': [1.0, 0.0]}.\n"
     ]
    },
    {
     "name": "stdout",
     "output_type": "stream",
     "text": [
      "The set cost function is ignored! LCB acquisition does not make sense with cost.\n",
      "ab\n"
     ]
    },
    {
     "name": "stderr",
     "output_type": "stream",
     "text": [
      "reconstraining parameters GP_regression.mul\n",
      "reconstraining parameters GP_regression.Gaussian_noise.variance\n",
      "[I 2019-04-14 17:15:31,860] Finished a trial resulted in value: -0.11680503986759358. Current best value is -0.4836644801977632 with parameters: {'a': 1.0, 'b': 0.0, 'ab': [1.0, 0.0]}.\n"
     ]
    },
    {
     "name": "stdout",
     "output_type": "stream",
     "text": [
      "The set cost function is ignored! LCB acquisition does not make sense with cost.\n",
      "ab\n"
     ]
    },
    {
     "name": "stderr",
     "output_type": "stream",
     "text": [
      "reconstraining parameters GP_regression.mul\n",
      "reconstraining parameters GP_regression.Gaussian_noise.variance\n",
      "[I 2019-04-14 17:15:43,382] Finished a trial resulted in value: 0.25732484879887596. Current best value is -0.4836644801977632 with parameters: {'a': 1.0, 'b': 0.0, 'ab': [1.0, 0.0]}.\n"
     ]
    },
    {
     "name": "stdout",
     "output_type": "stream",
     "text": [
      "The set cost function is ignored! LCB acquisition does not make sense with cost.\n",
      "ab\n"
     ]
    },
    {
     "name": "stderr",
     "output_type": "stream",
     "text": [
      "reconstraining parameters GP_regression.mul\n",
      "reconstraining parameters GP_regression.Gaussian_noise.variance\n",
      "[I 2019-04-14 17:15:53,726] Finished a trial resulted in value: 0.06487328069433701. Current best value is -0.4836644801977632 with parameters: {'a': 1.0, 'b': 0.0, 'ab': [1.0, 0.0]}.\n"
     ]
    },
    {
     "name": "stdout",
     "output_type": "stream",
     "text": [
      "The set cost function is ignored! LCB acquisition does not make sense with cost.\n",
      "ab\n"
     ]
    },
    {
     "name": "stderr",
     "output_type": "stream",
     "text": [
      "reconstraining parameters GP_regression.mul\n",
      "reconstraining parameters GP_regression.Gaussian_noise.variance\n",
      "[I 2019-04-14 17:16:04,457] Finished a trial resulted in value: 0.21351960337077877. Current best value is -0.4836644801977632 with parameters: {'a': 1.0, 'b': 0.0, 'ab': [1.0, 0.0]}.\n"
     ]
    },
    {
     "name": "stdout",
     "output_type": "stream",
     "text": [
      "The set cost function is ignored! LCB acquisition does not make sense with cost.\n",
      "ab\n"
     ]
    },
    {
     "name": "stderr",
     "output_type": "stream",
     "text": [
      "reconstraining parameters GP_regression.mul\n",
      "reconstraining parameters GP_regression.Gaussian_noise.variance\n",
      "[I 2019-04-14 17:16:14,702] Finished a trial resulted in value: 0.26360163745257725. Current best value is -0.4836644801977632 with parameters: {'a': 1.0, 'b': 0.0, 'ab': [1.0, 0.0]}.\n"
     ]
    },
    {
     "name": "stdout",
     "output_type": "stream",
     "text": [
      "The set cost function is ignored! LCB acquisition does not make sense with cost.\n",
      "ab\n"
     ]
    },
    {
     "name": "stderr",
     "output_type": "stream",
     "text": [
      "reconstraining parameters GP_regression.mul\n",
      "reconstraining parameters GP_regression.Gaussian_noise.variance\n",
      "[I 2019-04-14 17:16:26,927] Finished a trial resulted in value: 0.7161887054117358. Current best value is -0.4836644801977632 with parameters: {'a': 1.0, 'b': 0.0, 'ab': [1.0, 0.0]}.\n"
     ]
    },
    {
     "name": "stdout",
     "output_type": "stream",
     "text": [
      "The set cost function is ignored! LCB acquisition does not make sense with cost.\n",
      "ab\n"
     ]
    },
    {
     "name": "stderr",
     "output_type": "stream",
     "text": [
      "reconstraining parameters GP_regression.mul\n",
      "reconstraining parameters GP_regression.Gaussian_noise.variance\n",
      "[I 2019-04-14 17:16:38,738] Finished a trial resulted in value: 0.516420679965236. Current best value is -0.4836644801977632 with parameters: {'a': 1.0, 'b': 0.0, 'ab': [1.0, 0.0]}.\n"
     ]
    },
    {
     "name": "stdout",
     "output_type": "stream",
     "text": [
      "The set cost function is ignored! LCB acquisition does not make sense with cost.\n",
      "ab\n"
     ]
    },
    {
     "name": "stderr",
     "output_type": "stream",
     "text": [
      "reconstraining parameters GP_regression.mul\n",
      "reconstraining parameters GP_regression.Gaussian_noise.variance\n",
      "[I 2019-04-14 17:16:48,971] Finished a trial resulted in value: 0.34180878739123866. Current best value is -0.4836644801977632 with parameters: {'a': 1.0, 'b': 0.0, 'ab': [1.0, 0.0]}.\n"
     ]
    },
    {
     "name": "stdout",
     "output_type": "stream",
     "text": [
      "The set cost function is ignored! LCB acquisition does not make sense with cost.\n",
      "ab\n"
     ]
    },
    {
     "name": "stderr",
     "output_type": "stream",
     "text": [
      "reconstraining parameters GP_regression.mul\n",
      "reconstraining parameters GP_regression.Gaussian_noise.variance\n",
      "[I 2019-04-14 17:17:01,588] Finished a trial resulted in value: -0.46330025105172756. Current best value is -0.4836644801977632 with parameters: {'a': 1.0, 'b': 0.0, 'ab': [1.0, 0.0]}.\n"
     ]
    },
    {
     "name": "stdout",
     "output_type": "stream",
     "text": [
      "The set cost function is ignored! LCB acquisition does not make sense with cost.\n",
      "ab\n"
     ]
    },
    {
     "name": "stderr",
     "output_type": "stream",
     "text": [
      "reconstraining parameters GP_regression.mul\n",
      "reconstraining parameters GP_regression.Gaussian_noise.variance\n",
      "[I 2019-04-14 17:17:14,878] Finished a trial resulted in value: -0.4095094734587965. Current best value is -0.4836644801977632 with parameters: {'a': 1.0, 'b': 0.0, 'ab': [1.0, 0.0]}.\n"
     ]
    },
    {
     "name": "stdout",
     "output_type": "stream",
     "text": [
      "The set cost function is ignored! LCB acquisition does not make sense with cost.\n",
      "ab\n"
     ]
    },
    {
     "name": "stderr",
     "output_type": "stream",
     "text": [
      "reconstraining parameters GP_regression.mul\n",
      "reconstraining parameters GP_regression.Gaussian_noise.variance\n",
      "[I 2019-04-14 17:17:27,153] Finished a trial resulted in value: -0.3831223837092427. Current best value is -0.4836644801977632 with parameters: {'a': 1.0, 'b': 0.0, 'ab': [1.0, 0.0]}.\n"
     ]
    },
    {
     "name": "stdout",
     "output_type": "stream",
     "text": [
      "The set cost function is ignored! LCB acquisition does not make sense with cost.\n",
      "ab\n"
     ]
    },
    {
     "name": "stderr",
     "output_type": "stream",
     "text": [
      "reconstraining parameters GP_regression.mul\n",
      "reconstraining parameters GP_regression.Gaussian_noise.variance\n",
      "[I 2019-04-14 17:17:41,128] Finished a trial resulted in value: -0.5137256661805353. Current best value is -0.5137256661805353 with parameters: {'a': 1.0, 'b': 0.2707906493425436, 'ab': [1.0, 0.2707906493425436]}.\n"
     ]
    },
    {
     "name": "stdout",
     "output_type": "stream",
     "text": [
      "The set cost function is ignored! LCB acquisition does not make sense with cost.\n",
      "ab\n"
     ]
    },
    {
     "name": "stderr",
     "output_type": "stream",
     "text": [
      "reconstraining parameters GP_regression.mul\n",
      "reconstraining parameters GP_regression.Gaussian_noise.variance\n",
      "[I 2019-04-14 17:18:00,450] Finished a trial resulted in value: -0.5826127671021624. Current best value is -0.5826127671021624 with parameters: {'a': 1.0, 'b': 0.26718897443589784, 'ab': [1.0, 0.26718897443589784]}.\n"
     ]
    },
    {
     "name": "stdout",
     "output_type": "stream",
     "text": [
      "The set cost function is ignored! LCB acquisition does not make sense with cost.\n",
      "ab\n"
     ]
    },
    {
     "name": "stderr",
     "output_type": "stream",
     "text": [
      "reconstraining parameters GP_regression.mul\n",
      "reconstraining parameters GP_regression.Gaussian_noise.variance\n",
      "[I 2019-04-14 17:18:15,369] Finished a trial resulted in value: -0.6831970331166419. Current best value is -0.6831970331166419 with parameters: {'a': 0.0, 'b': 0.37414217740631145, 'ab': [0.0, 0.37414217740631145]}.\n"
     ]
    },
    {
     "name": "stdout",
     "output_type": "stream",
     "text": [
      "The set cost function is ignored! LCB acquisition does not make sense with cost.\n",
      "ab\n"
     ]
    },
    {
     "name": "stderr",
     "output_type": "stream",
     "text": [
      "reconstraining parameters GP_regression.mul\n",
      "reconstraining parameters GP_regression.Gaussian_noise.variance\n",
      "[I 2019-04-14 17:18:27,823] Finished a trial resulted in value: -0.7184987764932621. Current best value is -0.7184987764932621 with parameters: {'a': 1.0, 'b': 0.283140239500381, 'ab': [1.0, 0.283140239500381]}.\n"
     ]
    },
    {
     "name": "stdout",
     "output_type": "stream",
     "text": [
      "The set cost function is ignored! LCB acquisition does not make sense with cost.\n",
      "ab\n"
     ]
    },
    {
     "name": "stderr",
     "output_type": "stream",
     "text": [
      "reconstraining parameters GP_regression.mul\n",
      "reconstraining parameters GP_regression.Gaussian_noise.variance\n",
      "[I 2019-04-14 17:18:41,721] Finished a trial resulted in value: -0.578089075907335. Current best value is -0.7184987764932621 with parameters: {'a': 1.0, 'b': 0.283140239500381, 'ab': [1.0, 0.283140239500381]}.\n"
     ]
    },
    {
     "name": "stdout",
     "output_type": "stream",
     "text": [
      "The set cost function is ignored! LCB acquisition does not make sense with cost.\n",
      "ab\n"
     ]
    },
    {
     "name": "stderr",
     "output_type": "stream",
     "text": [
      "reconstraining parameters GP_regression.mul\n",
      "reconstraining parameters GP_regression.Gaussian_noise.variance\n",
      "[I 2019-04-14 17:18:54,475] Finished a trial resulted in value: -0.7519765311586486. Current best value is -0.7519765311586486 with parameters: {'a': 1.0, 'b': 0.28154466263852984, 'ab': [1.0, 0.28154466263852984]}.\n"
     ]
    },
    {
     "name": "stdout",
     "output_type": "stream",
     "text": [
      "The set cost function is ignored! LCB acquisition does not make sense with cost.\n",
      "ab\n"
     ]
    },
    {
     "name": "stderr",
     "output_type": "stream",
     "text": [
      "reconstraining parameters GP_regression.mul\n",
      "reconstraining parameters GP_regression.Gaussian_noise.variance\n",
      "[I 2019-04-14 17:19:07,351] Finished a trial resulted in value: -0.6921314292765467. Current best value is -0.7519765311586486 with parameters: {'a': 1.0, 'b': 0.28154466263852984, 'ab': [1.0, 0.28154466263852984]}.\n"
     ]
    },
    {
     "name": "stdout",
     "output_type": "stream",
     "text": [
      "The set cost function is ignored! LCB acquisition does not make sense with cost.\n",
      "ab\n"
     ]
    },
    {
     "name": "stderr",
     "output_type": "stream",
     "text": [
      "reconstraining parameters GP_regression.mul\n",
      "reconstraining parameters GP_regression.Gaussian_noise.variance\n",
      "[I 2019-04-14 17:19:21,939] Finished a trial resulted in value: -0.7163045197885578. Current best value is -0.7519765311586486 with parameters: {'a': 1.0, 'b': 0.28154466263852984, 'ab': [1.0, 0.28154466263852984]}.\n"
     ]
    },
    {
     "name": "stdout",
     "output_type": "stream",
     "text": [
      "The set cost function is ignored! LCB acquisition does not make sense with cost.\n",
      "ab\n"
     ]
    },
    {
     "name": "stderr",
     "output_type": "stream",
     "text": [
      "reconstraining parameters GP_regression.mul\n",
      "reconstraining parameters GP_regression.Gaussian_noise.variance\n",
      "[I 2019-04-14 17:19:35,789] Finished a trial resulted in value: -0.8527615398540476. Current best value is -0.8527615398540476 with parameters: {'a': 0.0, 'b': 0.3746220310006324, 'ab': [0.0, 0.3746220310006324]}.\n"
     ]
    },
    {
     "name": "stdout",
     "output_type": "stream",
     "text": [
      "The set cost function is ignored! LCB acquisition does not make sense with cost.\n",
      "ab\n"
     ]
    },
    {
     "name": "stderr",
     "output_type": "stream",
     "text": [
      "reconstraining parameters GP_regression.mul\n",
      "reconstraining parameters GP_regression.Gaussian_noise.variance\n",
      "[I 2019-04-14 17:19:49,950] Finished a trial resulted in value: -0.6666875002922277. Current best value is -0.8527615398540476 with parameters: {'a': 0.0, 'b': 0.3746220310006324, 'ab': [0.0, 0.3746220310006324]}.\n"
     ]
    },
    {
     "name": "stdout",
     "output_type": "stream",
     "text": [
      "The set cost function is ignored! LCB acquisition does not make sense with cost.\n",
      "ab\n"
     ]
    },
    {
     "name": "stderr",
     "output_type": "stream",
     "text": [
      "reconstraining parameters GP_regression.mul\n",
      "reconstraining parameters GP_regression.Gaussian_noise.variance\n",
      "[I 2019-04-14 17:20:02,810] Finished a trial resulted in value: -0.9139721120899391. Current best value is -0.9139721120899391 with parameters: {'a': 0.0, 'b': 0.29952998611099413, 'ab': [0.0, 0.29952998611099413]}.\n"
     ]
    },
    {
     "name": "stdout",
     "output_type": "stream",
     "text": [
      "The set cost function is ignored! LCB acquisition does not make sense with cost.\n",
      "ab\n"
     ]
    },
    {
     "name": "stderr",
     "output_type": "stream",
     "text": [
      "reconstraining parameters GP_regression.mul\n",
      "reconstraining parameters GP_regression.Gaussian_noise.variance\n",
      "[I 2019-04-14 17:20:17,222] Finished a trial resulted in value: -0.5741201137226919. Current best value is -0.9139721120899391 with parameters: {'a': 0.0, 'b': 0.29952998611099413, 'ab': [0.0, 0.29952998611099413]}.\n"
     ]
    },
    {
     "name": "stdout",
     "output_type": "stream",
     "text": [
      "The set cost function is ignored! LCB acquisition does not make sense with cost.\n",
      "ab\n"
     ]
    },
    {
     "name": "stderr",
     "output_type": "stream",
     "text": [
      "reconstraining parameters GP_regression.mul\n",
      "reconstraining parameters GP_regression.Gaussian_noise.variance\n",
      "[I 2019-04-14 17:20:30,880] Finished a trial resulted in value: -0.6777557953004489. Current best value is -0.9139721120899391 with parameters: {'a': 0.0, 'b': 0.29952998611099413, 'ab': [0.0, 0.29952998611099413]}.\n"
     ]
    },
    {
     "name": "stdout",
     "output_type": "stream",
     "text": [
      "The set cost function is ignored! LCB acquisition does not make sense with cost.\n",
      "ab\n"
     ]
    },
    {
     "name": "stderr",
     "output_type": "stream",
     "text": [
      "reconstraining parameters GP_regression.mul\n",
      "reconstraining parameters GP_regression.Gaussian_noise.variance\n",
      "[I 2019-04-14 17:20:45,336] Finished a trial resulted in value: -0.40596024978610884. Current best value is -0.9139721120899391 with parameters: {'a': 0.0, 'b': 0.29952998611099413, 'ab': [0.0, 0.29952998611099413]}.\n"
     ]
    },
    {
     "name": "stdout",
     "output_type": "stream",
     "text": [
      "The set cost function is ignored! LCB acquisition does not make sense with cost.\n",
      "ab\n"
     ]
    },
    {
     "name": "stderr",
     "output_type": "stream",
     "text": [
      "reconstraining parameters GP_regression.mul\n",
      "reconstraining parameters GP_regression.Gaussian_noise.variance\n",
      "[I 2019-04-14 17:20:59,530] Finished a trial resulted in value: -0.33515563395410264. Current best value is -0.9139721120899391 with parameters: {'a': 0.0, 'b': 0.29952998611099413, 'ab': [0.0, 0.29952998611099413]}.\n"
     ]
    },
    {
     "name": "stdout",
     "output_type": "stream",
     "text": [
      "The set cost function is ignored! LCB acquisition does not make sense with cost.\n",
      "ab\n"
     ]
    },
    {
     "name": "stderr",
     "output_type": "stream",
     "text": [
      "reconstraining parameters GP_regression.mul\n",
      "reconstraining parameters GP_regression.Gaussian_noise.variance\n",
      "[I 2019-04-14 17:21:13,308] Finished a trial resulted in value: -0.01231715934186621. Current best value is -0.9139721120899391 with parameters: {'a': 0.0, 'b': 0.29952998611099413, 'ab': [0.0, 0.29952998611099413]}.\n"
     ]
    },
    {
     "name": "stdout",
     "output_type": "stream",
     "text": [
      "The set cost function is ignored! LCB acquisition does not make sense with cost.\n",
      "ab\n"
     ]
    },
    {
     "name": "stderr",
     "output_type": "stream",
     "text": [
      "reconstraining parameters GP_regression.mul\n",
      "reconstraining parameters GP_regression.Gaussian_noise.variance\n",
      "[I 2019-04-14 17:21:24,363] Finished a trial resulted in value: 0.4616393791843634. Current best value is -0.9139721120899391 with parameters: {'a': 0.0, 'b': 0.29952998611099413, 'ab': [0.0, 0.29952998611099413]}.\n"
     ]
    },
    {
     "name": "stdout",
     "output_type": "stream",
     "text": [
      "The set cost function is ignored! LCB acquisition does not make sense with cost.\n",
      "ab\n"
     ]
    },
    {
     "name": "stderr",
     "output_type": "stream",
     "text": [
      "reconstraining parameters GP_regression.mul\n",
      "reconstraining parameters GP_regression.Gaussian_noise.variance\n",
      "[I 2019-04-14 17:21:37,439] Finished a trial resulted in value: -0.17818450334510033. Current best value is -0.9139721120899391 with parameters: {'a': 0.0, 'b': 0.29952998611099413, 'ab': [0.0, 0.29952998611099413]}.\n"
     ]
    },
    {
     "name": "stdout",
     "output_type": "stream",
     "text": [
      "The set cost function is ignored! LCB acquisition does not make sense with cost.\n",
      "ab\n"
     ]
    },
    {
     "name": "stderr",
     "output_type": "stream",
     "text": [
      "reconstraining parameters GP_regression.mul\n",
      "reconstraining parameters GP_regression.Gaussian_noise.variance\n",
      "[I 2019-04-14 17:21:48,557] Finished a trial resulted in value: 0.6223388257447433. Current best value is -0.9139721120899391 with parameters: {'a': 0.0, 'b': 0.29952998611099413, 'ab': [0.0, 0.29952998611099413]}.\n"
     ]
    },
    {
     "name": "stdout",
     "output_type": "stream",
     "text": [
      "The set cost function is ignored! LCB acquisition does not make sense with cost.\n",
      "ab\n"
     ]
    },
    {
     "name": "stderr",
     "output_type": "stream",
     "text": [
      "reconstraining parameters GP_regression.mul\n",
      "reconstraining parameters GP_regression.Gaussian_noise.variance\n",
      "[I 2019-04-14 17:21:59,732] Finished a trial resulted in value: 0.6973081634302123. Current best value is -0.9139721120899391 with parameters: {'a': 0.0, 'b': 0.29952998611099413, 'ab': [0.0, 0.29952998611099413]}.\n"
     ]
    },
    {
     "name": "stdout",
     "output_type": "stream",
     "text": [
      "The set cost function is ignored! LCB acquisition does not make sense with cost.\n",
      "ab\n"
     ]
    },
    {
     "name": "stderr",
     "output_type": "stream",
     "text": [
      "reconstraining parameters GP_regression.mul\n",
      "reconstraining parameters GP_regression.Gaussian_noise.variance\n",
      "[I 2019-04-14 17:22:10,887] Finished a trial resulted in value: -0.569602814142956. Current best value is -0.9139721120899391 with parameters: {'a': 0.0, 'b': 0.29952998611099413, 'ab': [0.0, 0.29952998611099413]}.\n"
     ]
    },
    {
     "name": "stdout",
     "output_type": "stream",
     "text": [
      "The set cost function is ignored! LCB acquisition does not make sense with cost.\n",
      "ab\n"
     ]
    },
    {
     "name": "stderr",
     "output_type": "stream",
     "text": [
      "reconstraining parameters GP_regression.mul\n",
      "reconstraining parameters GP_regression.Gaussian_noise.variance\n",
      "[I 2019-04-14 17:22:25,812] Finished a trial resulted in value: -0.8683032024860875. Current best value is -0.9139721120899391 with parameters: {'a': 0.0, 'b': 0.29952998611099413, 'ab': [0.0, 0.29952998611099413]}.\n"
     ]
    },
    {
     "name": "stdout",
     "output_type": "stream",
     "text": [
      "The set cost function is ignored! LCB acquisition does not make sense with cost.\n",
      "ab\n"
     ]
    },
    {
     "name": "stderr",
     "output_type": "stream",
     "text": [
      "reconstraining parameters GP_regression.mul\n",
      "reconstraining parameters GP_regression.Gaussian_noise.variance\n",
      "[I 2019-04-14 17:22:41,169] Finished a trial resulted in value: -1.0118075570081349. Current best value is -1.0118075570081349 with parameters: {'a': 0.0, 'b': 0.20454682220214832, 'ab': [0.0, 0.20454682220214832]}.\n"
     ]
    },
    {
     "name": "stdout",
     "output_type": "stream",
     "text": [
      "The set cost function is ignored! LCB acquisition does not make sense with cost.\n",
      "ab\n"
     ]
    },
    {
     "name": "stderr",
     "output_type": "stream",
     "text": [
      "reconstraining parameters GP_regression.mul\n",
      "reconstraining parameters GP_regression.Gaussian_noise.variance\n",
      "[I 2019-04-14 17:22:57,457] Finished a trial resulted in value: -0.9623889420441897. Current best value is -1.0118075570081349 with parameters: {'a': 0.0, 'b': 0.20454682220214832, 'ab': [0.0, 0.20454682220214832]}.\n"
     ]
    },
    {
     "name": "stdout",
     "output_type": "stream",
     "text": [
      "The set cost function is ignored! LCB acquisition does not make sense with cost.\n",
      "ab\n"
     ]
    },
    {
     "name": "stderr",
     "output_type": "stream",
     "text": [
      "reconstraining parameters GP_regression.mul\n",
      "reconstraining parameters GP_regression.Gaussian_noise.variance\n",
      "[I 2019-04-14 17:23:13,474] Finished a trial resulted in value: -1.014356209552087. Current best value is -1.014356209552087 with parameters: {'a': 0.0, 'b': 0.21799708053894734, 'ab': [0.0, 0.21799708053894734]}.\n"
     ]
    },
    {
     "name": "stdout",
     "output_type": "stream",
     "text": [
      "The set cost function is ignored! LCB acquisition does not make sense with cost.\n",
      "ab\n"
     ]
    },
    {
     "name": "stderr",
     "output_type": "stream",
     "text": [
      "reconstraining parameters GP_regression.mul\n",
      "reconstraining parameters GP_regression.Gaussian_noise.variance\n",
      "[I 2019-04-14 17:23:29,551] Finished a trial resulted in value: -1.0606085268396848. Current best value is -1.0606085268396848 with parameters: {'a': 0.0, 'b': 0.2027491767494147, 'ab': [0.0, 0.2027491767494147]}.\n"
     ]
    },
    {
     "name": "stdout",
     "output_type": "stream",
     "text": [
      "The set cost function is ignored! LCB acquisition does not make sense with cost.\n",
      "ab\n"
     ]
    },
    {
     "name": "stderr",
     "output_type": "stream",
     "text": [
      "reconstraining parameters GP_regression.mul\n",
      "reconstraining parameters GP_regression.Gaussian_noise.variance\n",
      "[I 2019-04-14 17:23:45,631] Finished a trial resulted in value: -0.9760357624386462. Current best value is -1.0606085268396848 with parameters: {'a': 0.0, 'b': 0.2027491767494147, 'ab': [0.0, 0.2027491767494147]}.\n"
     ]
    },
    {
     "name": "stdout",
     "output_type": "stream",
     "text": [
      "The set cost function is ignored! LCB acquisition does not make sense with cost.\n",
      "ab\n"
     ]
    },
    {
     "name": "stderr",
     "output_type": "stream",
     "text": [
      "reconstraining parameters GP_regression.mul\n",
      "reconstraining parameters GP_regression.Gaussian_noise.variance\n",
      "[I 2019-04-14 17:24:01,518] Finished a trial resulted in value: -0.906048609704109. Current best value is -1.0606085268396848 with parameters: {'a': 0.0, 'b': 0.2027491767494147, 'ab': [0.0, 0.2027491767494147]}.\n"
     ]
    },
    {
     "name": "stdout",
     "output_type": "stream",
     "text": [
      "The set cost function is ignored! LCB acquisition does not make sense with cost.\n",
      "ab\n"
     ]
    },
    {
     "name": "stderr",
     "output_type": "stream",
     "text": [
      "reconstraining parameters GP_regression.mul\n",
      "reconstraining parameters GP_regression.Gaussian_noise.variance\n",
      "[I 2019-04-14 17:24:18,547] Finished a trial resulted in value: -0.7922323187886364. Current best value is -1.0606085268396848 with parameters: {'a': 0.0, 'b': 0.2027491767494147, 'ab': [0.0, 0.2027491767494147]}.\n"
     ]
    },
    {
     "name": "stdout",
     "output_type": "stream",
     "text": [
      "The set cost function is ignored! LCB acquisition does not make sense with cost.\n",
      "ab\n"
     ]
    },
    {
     "name": "stderr",
     "output_type": "stream",
     "text": [
      "reconstraining parameters GP_regression.mul\n",
      "reconstraining parameters GP_regression.Gaussian_noise.variance\n",
      "[I 2019-04-14 17:24:41,419] Finished a trial resulted in value: -0.8051327356836787. Current best value is -1.0606085268396848 with parameters: {'a': 0.0, 'b': 0.2027491767494147, 'ab': [0.0, 0.2027491767494147]}.\n"
     ]
    },
    {
     "name": "stdout",
     "output_type": "stream",
     "text": [
      "The set cost function is ignored! LCB acquisition does not make sense with cost.\n",
      "ab\n"
     ]
    },
    {
     "name": "stderr",
     "output_type": "stream",
     "text": [
      "reconstraining parameters GP_regression.mul\n",
      "reconstraining parameters GP_regression.Gaussian_noise.variance\n",
      "[I 2019-04-14 17:25:00,669] Finished a trial resulted in value: -0.8122223785080088. Current best value is -1.0606085268396848 with parameters: {'a': 0.0, 'b': 0.2027491767494147, 'ab': [0.0, 0.2027491767494147]}.\n"
     ]
    },
    {
     "name": "stdout",
     "output_type": "stream",
     "text": [
      "The set cost function is ignored! LCB acquisition does not make sense with cost.\n",
      "ab\n"
     ]
    },
    {
     "name": "stderr",
     "output_type": "stream",
     "text": [
      "reconstraining parameters GP_regression.mul\n",
      "reconstraining parameters GP_regression.Gaussian_noise.variance\n",
      "[I 2019-04-14 17:25:21,853] Finished a trial resulted in value: -0.9443197198776421. Current best value is -1.0606085268396848 with parameters: {'a': 0.0, 'b': 0.2027491767494147, 'ab': [0.0, 0.2027491767494147]}.\n"
     ]
    },
    {
     "name": "stdout",
     "output_type": "stream",
     "text": [
      "The set cost function is ignored! LCB acquisition does not make sense with cost.\n",
      "ab\n"
     ]
    },
    {
     "name": "stderr",
     "output_type": "stream",
     "text": [
      "reconstraining parameters GP_regression.mul\n",
      "reconstraining parameters GP_regression.Gaussian_noise.variance\n",
      "[I 2019-04-14 17:25:43,212] Finished a trial resulted in value: -1.149722374807718. Current best value is -1.149722374807718 with parameters: {'a': 0.0, 'b': 0.15982412486147893, 'ab': [0.0, 0.15982412486147893]}.\n"
     ]
    },
    {
     "name": "stdout",
     "output_type": "stream",
     "text": [
      "The set cost function is ignored! LCB acquisition does not make sense with cost.\n",
      "ab\n"
     ]
    },
    {
     "name": "stderr",
     "output_type": "stream",
     "text": [
      "reconstraining parameters GP_regression.mul\n",
      "reconstraining parameters GP_regression.Gaussian_noise.variance\n",
      "[I 2019-04-14 17:26:02,884] Finished a trial resulted in value: -0.9848960085447237. Current best value is -1.149722374807718 with parameters: {'a': 0.0, 'b': 0.15982412486147893, 'ab': [0.0, 0.15982412486147893]}.\n"
     ]
    },
    {
     "name": "stdout",
     "output_type": "stream",
     "text": [
      "The set cost function is ignored! LCB acquisition does not make sense with cost.\n",
      "ab\n"
     ]
    },
    {
     "name": "stderr",
     "output_type": "stream",
     "text": [
      "reconstraining parameters GP_regression.mul\n",
      "reconstraining parameters GP_regression.Gaussian_noise.variance\n",
      "[I 2019-04-14 17:26:24,278] Finished a trial resulted in value: -1.0696003178206286. Current best value is -1.149722374807718 with parameters: {'a': 0.0, 'b': 0.15982412486147893, 'ab': [0.0, 0.15982412486147893]}.\n"
     ]
    },
    {
     "name": "stdout",
     "output_type": "stream",
     "text": [
      "The set cost function is ignored! LCB acquisition does not make sense with cost.\n",
      "ab\n"
     ]
    },
    {
     "name": "stderr",
     "output_type": "stream",
     "text": [
      "reconstraining parameters GP_regression.mul\n",
      "reconstraining parameters GP_regression.Gaussian_noise.variance\n",
      "[I 2019-04-14 17:26:41,419] Finished a trial resulted in value: -1.1978489468605187. Current best value is -1.1978489468605187 with parameters: {'a': 0.0, 'b': 0.18565195639794888, 'ab': [0.0, 0.18565195639794888]}.\n"
     ]
    },
    {
     "name": "stdout",
     "output_type": "stream",
     "text": [
      "The set cost function is ignored! LCB acquisition does not make sense with cost.\n",
      "ab\n"
     ]
    },
    {
     "name": "stderr",
     "output_type": "stream",
     "text": [
      "reconstraining parameters GP_regression.mul\n",
      "reconstraining parameters GP_regression.Gaussian_noise.variance\n",
      "[I 2019-04-14 17:26:57,941] Finished a trial resulted in value: -1.2296745891685439. Current best value is -1.2296745891685439 with parameters: {'a': 0.0, 'b': 0.18557935036209727, 'ab': [0.0, 0.18557935036209727]}.\n"
     ]
    },
    {
     "name": "stdout",
     "output_type": "stream",
     "text": [
      "The set cost function is ignored! LCB acquisition does not make sense with cost.\n",
      "ab\n"
     ]
    },
    {
     "name": "stderr",
     "output_type": "stream",
     "text": [
      "reconstraining parameters GP_regression.mul\n",
      "reconstraining parameters GP_regression.Gaussian_noise.variance\n",
      "[I 2019-04-14 17:27:15,308] Finished a trial resulted in value: -1.1368783277717969. Current best value is -1.2296745891685439 with parameters: {'a': 0.0, 'b': 0.18557935036209727, 'ab': [0.0, 0.18557935036209727]}.\n"
     ]
    },
    {
     "name": "stdout",
     "output_type": "stream",
     "text": [
      "The set cost function is ignored! LCB acquisition does not make sense with cost.\n",
      "ab\n"
     ]
    },
    {
     "name": "stderr",
     "output_type": "stream",
     "text": [
      "reconstraining parameters GP_regression.mul\n",
      "reconstraining parameters GP_regression.Gaussian_noise.variance\n",
      "[I 2019-04-14 17:27:33,381] Finished a trial resulted in value: -1.144454563369406. Current best value is -1.2296745891685439 with parameters: {'a': 0.0, 'b': 0.18557935036209727, 'ab': [0.0, 0.18557935036209727]}.\n"
     ]
    },
    {
     "name": "stdout",
     "output_type": "stream",
     "text": [
      "The set cost function is ignored! LCB acquisition does not make sense with cost.\n",
      "ab\n"
     ]
    },
    {
     "name": "stderr",
     "output_type": "stream",
     "text": [
      "reconstraining parameters GP_regression.mul\n",
      "reconstraining parameters GP_regression.Gaussian_noise.variance\n",
      "[I 2019-04-14 17:27:56,782] Finished a trial resulted in value: -1.2478712293452199. Current best value is -1.2478712293452199 with parameters: {'a': 0.0, 'b': 0.1962955611479846, 'ab': [0.0, 0.1962955611479846]}.\n"
     ]
    },
    {
     "name": "stdout",
     "output_type": "stream",
     "text": [
      "The set cost function is ignored! LCB acquisition does not make sense with cost.\n",
      "ab\n"
     ]
    },
    {
     "name": "stderr",
     "output_type": "stream",
     "text": [
      "reconstraining parameters GP_regression.mul\n",
      "reconstraining parameters GP_regression.Gaussian_noise.variance\n",
      "[I 2019-04-14 17:28:13,957] Finished a trial resulted in value: -0.9637517434830614. Current best value is -1.2478712293452199 with parameters: {'a': 0.0, 'b': 0.1962955611479846, 'ab': [0.0, 0.1962955611479846]}.\n"
     ]
    },
    {
     "name": "stdout",
     "output_type": "stream",
     "text": [
      "The set cost function is ignored! LCB acquisition does not make sense with cost.\n",
      "ab\n"
     ]
    },
    {
     "name": "stderr",
     "output_type": "stream",
     "text": [
      "reconstraining parameters GP_regression.mul\n",
      "reconstraining parameters GP_regression.Gaussian_noise.variance\n",
      "[I 2019-04-14 17:28:35,010] Finished a trial resulted in value: -1.1325486149820019. Current best value is -1.2478712293452199 with parameters: {'a': 0.0, 'b': 0.1962955611479846, 'ab': [0.0, 0.1962955611479846]}.\n"
     ]
    },
    {
     "name": "stdout",
     "output_type": "stream",
     "text": [
      "The set cost function is ignored! LCB acquisition does not make sense with cost.\n",
      "ab\n"
     ]
    },
    {
     "name": "stderr",
     "output_type": "stream",
     "text": [
      "reconstraining parameters GP_regression.mul\n",
      "reconstraining parameters GP_regression.Gaussian_noise.variance\n",
      "[I 2019-04-14 17:28:57,420] Finished a trial resulted in value: -0.925231465766329. Current best value is -1.2478712293452199 with parameters: {'a': 0.0, 'b': 0.1962955611479846, 'ab': [0.0, 0.1962955611479846]}.\n"
     ]
    },
    {
     "name": "stdout",
     "output_type": "stream",
     "text": [
      "The set cost function is ignored! LCB acquisition does not make sense with cost.\n",
      "ab\n"
     ]
    },
    {
     "name": "stderr",
     "output_type": "stream",
     "text": [
      "reconstraining parameters GP_regression.mul\n",
      "reconstraining parameters GP_regression.Gaussian_noise.variance\n",
      "[I 2019-04-14 17:29:16,843] Finished a trial resulted in value: -0.6870994601317312. Current best value is -1.2478712293452199 with parameters: {'a': 0.0, 'b': 0.1962955611479846, 'ab': [0.0, 0.1962955611479846]}.\n"
     ]
    },
    {
     "name": "stdout",
     "output_type": "stream",
     "text": [
      "The set cost function is ignored! LCB acquisition does not make sense with cost.\n",
      "ab\n"
     ]
    },
    {
     "name": "stderr",
     "output_type": "stream",
     "text": [
      "reconstraining parameters GP_regression.mul\n",
      "reconstraining parameters GP_regression.Gaussian_noise.variance\n",
      "[I 2019-04-14 17:29:33,870] Finished a trial resulted in value: -0.050335390033857744. Current best value is -1.2478712293452199 with parameters: {'a': 0.0, 'b': 0.1962955611479846, 'ab': [0.0, 0.1962955611479846]}.\n"
     ]
    },
    {
     "name": "stdout",
     "output_type": "stream",
     "text": [
      "The set cost function is ignored! LCB acquisition does not make sense with cost.\n",
      "ab\n"
     ]
    },
    {
     "name": "stderr",
     "output_type": "stream",
     "text": [
      "reconstraining parameters GP_regression.mul\n",
      "reconstraining parameters GP_regression.Gaussian_noise.variance\n",
      "[I 2019-04-14 17:29:50,760] Finished a trial resulted in value: 0.06121252252219392. Current best value is -1.2478712293452199 with parameters: {'a': 0.0, 'b': 0.1962955611479846, 'ab': [0.0, 0.1962955611479846]}.\n"
     ]
    },
    {
     "name": "stdout",
     "output_type": "stream",
     "text": [
      "The set cost function is ignored! LCB acquisition does not make sense with cost.\n",
      "ab\n"
     ]
    },
    {
     "name": "stderr",
     "output_type": "stream",
     "text": [
      "reconstraining parameters GP_regression.mul\n",
      "reconstraining parameters GP_regression.Gaussian_noise.variance\n",
      "[I 2019-04-14 17:30:05,143] Finished a trial resulted in value: -0.9392705521859468. Current best value is -1.2478712293452199 with parameters: {'a': 0.0, 'b': 0.1962955611479846, 'ab': [0.0, 0.1962955611479846]}.\n"
     ]
    },
    {
     "name": "stdout",
     "output_type": "stream",
     "text": [
      "The set cost function is ignored! LCB acquisition does not make sense with cost.\n",
      "ab\n"
     ]
    },
    {
     "name": "stderr",
     "output_type": "stream",
     "text": [
      "reconstraining parameters GP_regression.mul\n",
      "reconstraining parameters GP_regression.Gaussian_noise.variance\n",
      "[I 2019-04-14 17:30:23,834] Finished a trial resulted in value: -0.9859570350962974. Current best value is -1.2478712293452199 with parameters: {'a': 0.0, 'b': 0.1962955611479846, 'ab': [0.0, 0.1962955611479846]}.\n"
     ]
    },
    {
     "name": "stdout",
     "output_type": "stream",
     "text": [
      "The set cost function is ignored! LCB acquisition does not make sense with cost.\n",
      "ab\n"
     ]
    },
    {
     "name": "stderr",
     "output_type": "stream",
     "text": [
      "reconstraining parameters GP_regression.mul\n",
      "reconstraining parameters GP_regression.Gaussian_noise.variance\n",
      "[I 2019-04-14 17:30:41,468] Finished a trial resulted in value: -1.1034592673709864. Current best value is -1.2478712293452199 with parameters: {'a': 0.0, 'b': 0.1962955611479846, 'ab': [0.0, 0.1962955611479846]}.\n"
     ]
    },
    {
     "name": "stdout",
     "output_type": "stream",
     "text": [
      "The set cost function is ignored! LCB acquisition does not make sense with cost.\n",
      "ab\n"
     ]
    },
    {
     "name": "stderr",
     "output_type": "stream",
     "text": [
      "reconstraining parameters GP_regression.mul\n",
      "reconstraining parameters GP_regression.Gaussian_noise.variance\n",
      "[I 2019-04-14 17:30:55,943] Finished a trial resulted in value: -1.1478602155881237. Current best value is -1.2478712293452199 with parameters: {'a': 0.0, 'b': 0.1962955611479846, 'ab': [0.0, 0.1962955611479846]}.\n"
     ]
    },
    {
     "name": "stdout",
     "output_type": "stream",
     "text": [
      "The set cost function is ignored! LCB acquisition does not make sense with cost.\n",
      "ab\n"
     ]
    },
    {
     "name": "stderr",
     "output_type": "stream",
     "text": [
      "reconstraining parameters GP_regression.mul\n",
      "reconstraining parameters GP_regression.Gaussian_noise.variance\n",
      "[I 2019-04-14 17:31:14,048] Finished a trial resulted in value: -0.9808408897324368. Current best value is -1.2478712293452199 with parameters: {'a': 0.0, 'b': 0.1962955611479846, 'ab': [0.0, 0.1962955611479846]}.\n"
     ]
    },
    {
     "name": "stdout",
     "output_type": "stream",
     "text": [
      "The set cost function is ignored! LCB acquisition does not make sense with cost.\n",
      "ab\n"
     ]
    },
    {
     "name": "stderr",
     "output_type": "stream",
     "text": [
      "reconstraining parameters GP_regression.mul\n",
      "reconstraining parameters GP_regression.Gaussian_noise.variance\n",
      "[I 2019-04-14 17:31:28,608] Finished a trial resulted in value: -1.072754556456657. Current best value is -1.2478712293452199 with parameters: {'a': 0.0, 'b': 0.1962955611479846, 'ab': [0.0, 0.1962955611479846]}.\n"
     ]
    },
    {
     "name": "stdout",
     "output_type": "stream",
     "text": [
      "The set cost function is ignored! LCB acquisition does not make sense with cost.\n",
      "ab\n"
     ]
    },
    {
     "name": "stderr",
     "output_type": "stream",
     "text": [
      "reconstraining parameters GP_regression.mul\n",
      "reconstraining parameters GP_regression.Gaussian_noise.variance\n",
      "[I 2019-04-14 17:31:43,155] Finished a trial resulted in value: -1.0950808428317498. Current best value is -1.2478712293452199 with parameters: {'a': 0.0, 'b': 0.1962955611479846, 'ab': [0.0, 0.1962955611479846]}.\n"
     ]
    },
    {
     "name": "stdout",
     "output_type": "stream",
     "text": [
      "The set cost function is ignored! LCB acquisition does not make sense with cost.\n",
      "ab\n"
     ]
    },
    {
     "name": "stderr",
     "output_type": "stream",
     "text": [
      "reconstraining parameters GP_regression.mul\n",
      "reconstraining parameters GP_regression.Gaussian_noise.variance\n",
      "[I 2019-04-14 17:31:57,694] Finished a trial resulted in value: -1.1646299503138402. Current best value is -1.2478712293452199 with parameters: {'a': 0.0, 'b': 0.1962955611479846, 'ab': [0.0, 0.1962955611479846]}.\n"
     ]
    },
    {
     "name": "stdout",
     "output_type": "stream",
     "text": [
      "The set cost function is ignored! LCB acquisition does not make sense with cost.\n",
      "ab\n"
     ]
    },
    {
     "name": "stderr",
     "output_type": "stream",
     "text": [
      "reconstraining parameters GP_regression.mul\n",
      "reconstraining parameters GP_regression.Gaussian_noise.variance\n",
      "[I 2019-04-14 17:32:12,594] Finished a trial resulted in value: -0.8928767913054425. Current best value is -1.2478712293452199 with parameters: {'a': 0.0, 'b': 0.1962955611479846, 'ab': [0.0, 0.1962955611479846]}.\n"
     ]
    },
    {
     "name": "stdout",
     "output_type": "stream",
     "text": [
      "The set cost function is ignored! LCB acquisition does not make sense with cost.\n",
      "ab\n"
     ]
    },
    {
     "name": "stderr",
     "output_type": "stream",
     "text": [
      "reconstraining parameters GP_regression.mul\n",
      "reconstraining parameters GP_regression.Gaussian_noise.variance\n",
      "[I 2019-04-14 17:32:27,733] Finished a trial resulted in value: -0.8238624425177079. Current best value is -1.2478712293452199 with parameters: {'a': 0.0, 'b': 0.1962955611479846, 'ab': [0.0, 0.1962955611479846]}.\n"
     ]
    },
    {
     "name": "stdout",
     "output_type": "stream",
     "text": [
      "The set cost function is ignored! LCB acquisition does not make sense with cost.\n",
      "ab\n"
     ]
    },
    {
     "name": "stderr",
     "output_type": "stream",
     "text": [
      "reconstraining parameters GP_regression.mul\n",
      "reconstraining parameters GP_regression.Gaussian_noise.variance\n",
      "[I 2019-04-14 17:32:45,035] Finished a trial resulted in value: -0.9020118567588973. Current best value is -1.2478712293452199 with parameters: {'a': 0.0, 'b': 0.1962955611479846, 'ab': [0.0, 0.1962955611479846]}.\n"
     ]
    },
    {
     "name": "stdout",
     "output_type": "stream",
     "text": [
      "The set cost function is ignored! LCB acquisition does not make sense with cost.\n",
      "ab\n"
     ]
    },
    {
     "name": "stderr",
     "output_type": "stream",
     "text": [
      "reconstraining parameters GP_regression.mul\n",
      "reconstraining parameters GP_regression.Gaussian_noise.variance\n",
      "[I 2019-04-14 17:33:00,159] Finished a trial resulted in value: -0.9426957706256736. Current best value is -1.2478712293452199 with parameters: {'a': 0.0, 'b': 0.1962955611479846, 'ab': [0.0, 0.1962955611479846]}.\n"
     ]
    },
    {
     "name": "stdout",
     "output_type": "stream",
     "text": [
      "The set cost function is ignored! LCB acquisition does not make sense with cost.\n",
      "ab\n"
     ]
    },
    {
     "name": "stderr",
     "output_type": "stream",
     "text": [
      "reconstraining parameters GP_regression.mul\n",
      "reconstraining parameters GP_regression.Gaussian_noise.variance\n",
      "[I 2019-04-14 17:33:15,343] Finished a trial resulted in value: -0.9182144264909858. Current best value is -1.2478712293452199 with parameters: {'a': 0.0, 'b': 0.1962955611479846, 'ab': [0.0, 0.1962955611479846]}.\n"
     ]
    },
    {
     "name": "stdout",
     "output_type": "stream",
     "text": [
      "The set cost function is ignored! LCB acquisition does not make sense with cost.\n",
      "ab\n"
     ]
    },
    {
     "name": "stderr",
     "output_type": "stream",
     "text": [
      "reconstraining parameters GP_regression.mul\n",
      "reconstraining parameters GP_regression.Gaussian_noise.variance\n",
      "[I 2019-04-14 17:33:31,285] Finished a trial resulted in value: 1.404005453108666. Current best value is -1.2478712293452199 with parameters: {'a': 0.0, 'b': 0.1962955611479846, 'ab': [0.0, 0.1962955611479846]}.\n"
     ]
    },
    {
     "name": "stdout",
     "output_type": "stream",
     "text": [
      "The set cost function is ignored! LCB acquisition does not make sense with cost.\n",
      "ab\n"
     ]
    },
    {
     "name": "stderr",
     "output_type": "stream",
     "text": [
      "reconstraining parameters GP_regression.mul\n",
      "reconstraining parameters GP_regression.Gaussian_noise.variance\n",
      "[I 2019-04-14 17:33:46,690] Finished a trial resulted in value: -0.927883353184844. Current best value is -1.2478712293452199 with parameters: {'a': 0.0, 'b': 0.1962955611479846, 'ab': [0.0, 0.1962955611479846]}.\n"
     ]
    },
    {
     "name": "stdout",
     "output_type": "stream",
     "text": [
      "The set cost function is ignored! LCB acquisition does not make sense with cost.\n",
      "ab\n"
     ]
    },
    {
     "name": "stderr",
     "output_type": "stream",
     "text": [
      "reconstraining parameters GP_regression.mul\n",
      "reconstraining parameters GP_regression.Gaussian_noise.variance\n",
      "[I 2019-04-14 17:34:02,193] Finished a trial resulted in value: -0.8580919790716638. Current best value is -1.2478712293452199 with parameters: {'a': 0.0, 'b': 0.1962955611479846, 'ab': [0.0, 0.1962955611479846]}.\n"
     ]
    },
    {
     "name": "stdout",
     "output_type": "stream",
     "text": [
      "The set cost function is ignored! LCB acquisition does not make sense with cost.\n",
      "ab\n"
     ]
    },
    {
     "name": "stderr",
     "output_type": "stream",
     "text": [
      "reconstraining parameters GP_regression.mul\n",
      "reconstraining parameters GP_regression.Gaussian_noise.variance\n",
      "[I 2019-04-14 17:34:18,111] Finished a trial resulted in value: -0.9327591596824726. Current best value is -1.2478712293452199 with parameters: {'a': 0.0, 'b': 0.1962955611479846, 'ab': [0.0, 0.1962955611479846]}.\n"
     ]
    },
    {
     "name": "stdout",
     "output_type": "stream",
     "text": [
      "The set cost function is ignored! LCB acquisition does not make sense with cost.\n",
      "ab\n"
     ]
    },
    {
     "name": "stderr",
     "output_type": "stream",
     "text": [
      "reconstraining parameters GP_regression.mul\n",
      "reconstraining parameters GP_regression.Gaussian_noise.variance\n",
      "[I 2019-04-14 17:34:33,764] Finished a trial resulted in value: -0.775803830669445. Current best value is -1.2478712293452199 with parameters: {'a': 0.0, 'b': 0.1962955611479846, 'ab': [0.0, 0.1962955611479846]}.\n"
     ]
    },
    {
     "name": "stdout",
     "output_type": "stream",
     "text": [
      "The set cost function is ignored! LCB acquisition does not make sense with cost.\n",
      "ab\n"
     ]
    },
    {
     "name": "stderr",
     "output_type": "stream",
     "text": [
      "reconstraining parameters GP_regression.mul\n",
      "reconstraining parameters GP_regression.Gaussian_noise.variance\n",
      "[I 2019-04-14 17:34:49,674] Finished a trial resulted in value: -0.7035686866311714. Current best value is -1.2478712293452199 with parameters: {'a': 0.0, 'b': 0.1962955611479846, 'ab': [0.0, 0.1962955611479846]}.\n"
     ]
    },
    {
     "name": "stdout",
     "output_type": "stream",
     "text": [
      "The set cost function is ignored! LCB acquisition does not make sense with cost.\n",
      "ab\n"
     ]
    },
    {
     "name": "stderr",
     "output_type": "stream",
     "text": [
      "reconstraining parameters GP_regression.mul\n",
      "reconstraining parameters GP_regression.Gaussian_noise.variance\n",
      "[I 2019-04-14 17:35:06,695] Finished a trial resulted in value: -0.6324257077667125. Current best value is -1.2478712293452199 with parameters: {'a': 0.0, 'b': 0.1962955611479846, 'ab': [0.0, 0.1962955611479846]}.\n"
     ]
    },
    {
     "name": "stdout",
     "output_type": "stream",
     "text": [
      "The set cost function is ignored! LCB acquisition does not make sense with cost.\n",
      "ab\n"
     ]
    },
    {
     "name": "stderr",
     "output_type": "stream",
     "text": [
      "reconstraining parameters GP_regression.mul\n",
      "reconstraining parameters GP_regression.Gaussian_noise.variance\n",
      "[I 2019-04-14 17:35:24,616] Finished a trial resulted in value: -0.6644849174182277. Current best value is -1.2478712293452199 with parameters: {'a': 0.0, 'b': 0.1962955611479846, 'ab': [0.0, 0.1962955611479846]}.\n"
     ]
    },
    {
     "name": "stdout",
     "output_type": "stream",
     "text": [
      "The set cost function is ignored! LCB acquisition does not make sense with cost.\n",
      "ab\n"
     ]
    },
    {
     "name": "stderr",
     "output_type": "stream",
     "text": [
      "reconstraining parameters GP_regression.mul\n",
      "reconstraining parameters GP_regression.Gaussian_noise.variance\n",
      "[I 2019-04-14 17:35:41,581] Finished a trial resulted in value: -0.7088141135550581. Current best value is -1.2478712293452199 with parameters: {'a': 0.0, 'b': 0.1962955611479846, 'ab': [0.0, 0.1962955611479846]}.\n"
     ]
    },
    {
     "name": "stdout",
     "output_type": "stream",
     "text": [
      "The set cost function is ignored! LCB acquisition does not make sense with cost.\n",
      "ab\n"
     ]
    },
    {
     "name": "stderr",
     "output_type": "stream",
     "text": [
      "reconstraining parameters GP_regression.mul\n",
      "reconstraining parameters GP_regression.Gaussian_noise.variance\n",
      "[I 2019-04-14 17:36:00,244] Finished a trial resulted in value: 0.008642539959732146. Current best value is -1.2478712293452199 with parameters: {'a': 0.0, 'b': 0.1962955611479846, 'ab': [0.0, 0.1962955611479846]}.\n"
     ]
    },
    {
     "name": "stdout",
     "output_type": "stream",
     "text": [
      "The set cost function is ignored! LCB acquisition does not make sense with cost.\n",
      "ab\n"
     ]
    },
    {
     "name": "stderr",
     "output_type": "stream",
     "text": [
      "reconstraining parameters GP_regression.mul\n",
      "reconstraining parameters GP_regression.Gaussian_noise.variance\n",
      "[I 2019-04-14 17:36:16,740] Finished a trial resulted in value: 1.8375368702977288. Current best value is -1.2478712293452199 with parameters: {'a': 0.0, 'b': 0.1962955611479846, 'ab': [0.0, 0.1962955611479846]}.\n"
     ]
    },
    {
     "name": "stdout",
     "output_type": "stream",
     "text": [
      "The set cost function is ignored! LCB acquisition does not make sense with cost.\n",
      "ab\n"
     ]
    },
    {
     "name": "stderr",
     "output_type": "stream",
     "text": [
      "reconstraining parameters GP_regression.mul\n",
      "reconstraining parameters GP_regression.Gaussian_noise.variance\n",
      "[I 2019-04-14 17:36:32,946] Finished a trial resulted in value: 1.705372899491559. Current best value is -1.2478712293452199 with parameters: {'a': 0.0, 'b': 0.1962955611479846, 'ab': [0.0, 0.1962955611479846]}.\n"
     ]
    },
    {
     "name": "stdout",
     "output_type": "stream",
     "text": [
      "The set cost function is ignored! LCB acquisition does not make sense with cost.\n",
      "ab\n"
     ]
    },
    {
     "name": "stderr",
     "output_type": "stream",
     "text": [
      "reconstraining parameters GP_regression.mul\n",
      "reconstraining parameters GP_regression.Gaussian_noise.variance\n",
      "[I 2019-04-14 17:36:49,056] Finished a trial resulted in value: -1.0087861714094466. Current best value is -1.2478712293452199 with parameters: {'a': 0.0, 'b': 0.1962955611479846, 'ab': [0.0, 0.1962955611479846]}.\n"
     ]
    },
    {
     "name": "stdout",
     "output_type": "stream",
     "text": [
      "The set cost function is ignored! LCB acquisition does not make sense with cost.\n",
      "ab\n"
     ]
    },
    {
     "name": "stderr",
     "output_type": "stream",
     "text": [
      "reconstraining parameters GP_regression.mul\n",
      "reconstraining parameters GP_regression.Gaussian_noise.variance\n",
      "[I 2019-04-14 17:37:05,227] Finished a trial resulted in value: -1.034653480954294. Current best value is -1.2478712293452199 with parameters: {'a': 0.0, 'b': 0.1962955611479846, 'ab': [0.0, 0.1962955611479846]}.\n"
     ]
    },
    {
     "name": "stdout",
     "output_type": "stream",
     "text": [
      "The set cost function is ignored! LCB acquisition does not make sense with cost.\n",
      "ab\n"
     ]
    },
    {
     "name": "stderr",
     "output_type": "stream",
     "text": [
      "reconstraining parameters GP_regression.mul\n",
      "reconstraining parameters GP_regression.Gaussian_noise.variance\n",
      "[I 2019-04-14 17:37:21,534] Finished a trial resulted in value: -1.1272556892052465. Current best value is -1.2478712293452199 with parameters: {'a': 0.0, 'b': 0.1962955611479846, 'ab': [0.0, 0.1962955611479846]}.\n"
     ]
    },
    {
     "name": "stdout",
     "output_type": "stream",
     "text": [
      "The set cost function is ignored! LCB acquisition does not make sense with cost.\n",
      "ab\n"
     ]
    },
    {
     "name": "stderr",
     "output_type": "stream",
     "text": [
      "reconstraining parameters GP_regression.mul\n",
      "reconstraining parameters GP_regression.Gaussian_noise.variance\n",
      "[I 2019-04-14 17:37:38,068] Finished a trial resulted in value: -1.1353677147737637. Current best value is -1.2478712293452199 with parameters: {'a': 0.0, 'b': 0.1962955611479846, 'ab': [0.0, 0.1962955611479846]}.\n"
     ]
    },
    {
     "name": "stdout",
     "output_type": "stream",
     "text": [
      "The set cost function is ignored! LCB acquisition does not make sense with cost.\n",
      "ab\n"
     ]
    },
    {
     "name": "stderr",
     "output_type": "stream",
     "text": [
      "reconstraining parameters GP_regression.mul\n",
      "reconstraining parameters GP_regression.Gaussian_noise.variance\n",
      "[I 2019-04-14 17:37:54,393] Finished a trial resulted in value: -1.0857760871171522. Current best value is -1.2478712293452199 with parameters: {'a': 0.0, 'b': 0.1962955611479846, 'ab': [0.0, 0.1962955611479846]}.\n"
     ]
    },
    {
     "name": "stdout",
     "output_type": "stream",
     "text": [
      "The set cost function is ignored! LCB acquisition does not make sense with cost.\n",
      "ab\n"
     ]
    },
    {
     "name": "stderr",
     "output_type": "stream",
     "text": [
      "reconstraining parameters GP_regression.mul\n",
      "reconstraining parameters GP_regression.Gaussian_noise.variance\n",
      "[I 2019-04-14 17:38:10,796] Finished a trial resulted in value: -1.15627838395073. Current best value is -1.2478712293452199 with parameters: {'a': 0.0, 'b': 0.1962955611479846, 'ab': [0.0, 0.1962955611479846]}.\n"
     ]
    },
    {
     "name": "stdout",
     "output_type": "stream",
     "text": [
      "The set cost function is ignored! LCB acquisition does not make sense with cost.\n",
      "ab\n"
     ]
    },
    {
     "name": "stderr",
     "output_type": "stream",
     "text": [
      "reconstraining parameters GP_regression.mul\n",
      "reconstraining parameters GP_regression.Gaussian_noise.variance\n",
      "[I 2019-04-14 17:38:27,296] Finished a trial resulted in value: -1.1501906032319715. Current best value is -1.2478712293452199 with parameters: {'a': 0.0, 'b': 0.1962955611479846, 'ab': [0.0, 0.1962955611479846]}.\n"
     ]
    },
    {
     "name": "stdout",
     "output_type": "stream",
     "text": [
      "The set cost function is ignored! LCB acquisition does not make sense with cost.\n",
      "ab\n"
     ]
    },
    {
     "name": "stderr",
     "output_type": "stream",
     "text": [
      "reconstraining parameters GP_regression.mul\n",
      "reconstraining parameters GP_regression.Gaussian_noise.variance\n",
      "[I 2019-04-14 17:38:43,857] Finished a trial resulted in value: -1.0953749964859112. Current best value is -1.2478712293452199 with parameters: {'a': 0.0, 'b': 0.1962955611479846, 'ab': [0.0, 0.1962955611479846]}.\n"
     ]
    },
    {
     "name": "stdout",
     "output_type": "stream",
     "text": [
      "The set cost function is ignored! LCB acquisition does not make sense with cost.\n",
      "ab\n"
     ]
    },
    {
     "name": "stderr",
     "output_type": "stream",
     "text": [
      "reconstraining parameters GP_regression.mul\n",
      "reconstraining parameters GP_regression.Gaussian_noise.variance\n",
      "[I 2019-04-14 17:39:00,548] Finished a trial resulted in value: -1.2398597140701602. Current best value is -1.2478712293452199 with parameters: {'a': 0.0, 'b': 0.1962955611479846, 'ab': [0.0, 0.1962955611479846]}.\n"
     ]
    },
    {
     "name": "stdout",
     "output_type": "stream",
     "text": [
      "The set cost function is ignored! LCB acquisition does not make sense with cost.\n",
      "ab\n"
     ]
    },
    {
     "name": "stderr",
     "output_type": "stream",
     "text": [
      "reconstraining parameters GP_regression.mul\n",
      "reconstraining parameters GP_regression.Gaussian_noise.variance\n",
      "[I 2019-04-14 17:39:17,458] Finished a trial resulted in value: -1.1393417220838093. Current best value is -1.2478712293452199 with parameters: {'a': 0.0, 'b': 0.1962955611479846, 'ab': [0.0, 0.1962955611479846]}.\n"
     ]
    },
    {
     "name": "stdout",
     "output_type": "stream",
     "text": [
      "The set cost function is ignored! LCB acquisition does not make sense with cost.\n",
      "ab\n"
     ]
    },
    {
     "name": "stderr",
     "output_type": "stream",
     "text": [
      "reconstraining parameters GP_regression.mul\n",
      "reconstraining parameters GP_regression.Gaussian_noise.variance\n",
      "[I 2019-04-14 17:39:34,461] Finished a trial resulted in value: -1.2569544807112232. Current best value is -1.2569544807112232 with parameters: {'a': 0.0, 'b': 0.0, 'ab': [0.0, 0.0]}.\n"
     ]
    },
    {
     "name": "stdout",
     "output_type": "stream",
     "text": [
      "The set cost function is ignored! LCB acquisition does not make sense with cost.\n",
      "ab\n"
     ]
    },
    {
     "name": "stderr",
     "output_type": "stream",
     "text": [
      "reconstraining parameters GP_regression.mul\n",
      "reconstraining parameters GP_regression.Gaussian_noise.variance\n",
      "[I 2019-04-14 17:39:51,339] Finished a trial resulted in value: -1.176730469387827. Current best value is -1.2569544807112232 with parameters: {'a': 0.0, 'b': 0.0, 'ab': [0.0, 0.0]}.\n"
     ]
    },
    {
     "name": "stdout",
     "output_type": "stream",
     "text": [
      "The set cost function is ignored! LCB acquisition does not make sense with cost.\n",
      "ab\n"
     ]
    },
    {
     "name": "stderr",
     "output_type": "stream",
     "text": [
      "reconstraining parameters GP_regression.mul\n",
      "reconstraining parameters GP_regression.Gaussian_noise.variance\n",
      "[I 2019-04-14 17:40:08,474] Finished a trial resulted in value: -1.010209140937199. Current best value is -1.2569544807112232 with parameters: {'a': 0.0, 'b': 0.0, 'ab': [0.0, 0.0]}.\n"
     ]
    },
    {
     "name": "stdout",
     "output_type": "stream",
     "text": [
      "The set cost function is ignored! LCB acquisition does not make sense with cost.\n",
      "ab\n"
     ]
    },
    {
     "name": "stderr",
     "output_type": "stream",
     "text": [
      "reconstraining parameters GP_regression.mul\n",
      "reconstraining parameters GP_regression.Gaussian_noise.variance\n",
      "[I 2019-04-14 17:40:25,595] Finished a trial resulted in value: -1.0436731593773831. Current best value is -1.2569544807112232 with parameters: {'a': 0.0, 'b': 0.0, 'ab': [0.0, 0.0]}.\n"
     ]
    },
    {
     "name": "stdout",
     "output_type": "stream",
     "text": [
      "The set cost function is ignored! LCB acquisition does not make sense with cost.\n",
      "ab\n"
     ]
    },
    {
     "name": "stderr",
     "output_type": "stream",
     "text": [
      "reconstraining parameters GP_regression.mul\n",
      "reconstraining parameters GP_regression.Gaussian_noise.variance\n",
      "[I 2019-04-14 17:40:42,811] Finished a trial resulted in value: -1.0457280761438505. Current best value is -1.2569544807112232 with parameters: {'a': 0.0, 'b': 0.0, 'ab': [0.0, 0.0]}.\n"
     ]
    },
    {
     "name": "stdout",
     "output_type": "stream",
     "text": [
      "The set cost function is ignored! LCB acquisition does not make sense with cost.\n",
      "ab\n"
     ]
    },
    {
     "name": "stderr",
     "output_type": "stream",
     "text": [
      "reconstraining parameters GP_regression.mul\n",
      "reconstraining parameters GP_regression.Gaussian_noise.variance\n",
      "[I 2019-04-14 17:41:01,850] Finished a trial resulted in value: -0.999896713156295. Current best value is -1.2569544807112232 with parameters: {'a': 0.0, 'b': 0.0, 'ab': [0.0, 0.0]}.\n"
     ]
    },
    {
     "name": "stdout",
     "output_type": "stream",
     "text": [
      "The set cost function is ignored! LCB acquisition does not make sense with cost.\n",
      "ab\n"
     ]
    },
    {
     "name": "stderr",
     "output_type": "stream",
     "text": [
      "reconstraining parameters GP_regression.mul\n",
      "reconstraining parameters GP_regression.Gaussian_noise.variance\n",
      "[I 2019-04-14 17:41:21,357] Finished a trial resulted in value: -1.0912924312218335. Current best value is -1.2569544807112232 with parameters: {'a': 0.0, 'b': 0.0, 'ab': [0.0, 0.0]}.\n"
     ]
    },
    {
     "name": "stdout",
     "output_type": "stream",
     "text": [
      "The set cost function is ignored! LCB acquisition does not make sense with cost.\n",
      "ab\n"
     ]
    },
    {
     "name": "stderr",
     "output_type": "stream",
     "text": [
      "reconstraining parameters GP_regression.mul\n",
      "reconstraining parameters GP_regression.Gaussian_noise.variance\n",
      "[I 2019-04-14 17:41:40,960] Finished a trial resulted in value: -1.0070073959729915. Current best value is -1.2569544807112232 with parameters: {'a': 0.0, 'b': 0.0, 'ab': [0.0, 0.0]}.\n"
     ]
    },
    {
     "name": "stdout",
     "output_type": "stream",
     "text": [
      "The set cost function is ignored! LCB acquisition does not make sense with cost.\n",
      "ab\n"
     ]
    },
    {
     "name": "stderr",
     "output_type": "stream",
     "text": [
      "reconstraining parameters GP_regression.mul\n",
      "reconstraining parameters GP_regression.Gaussian_noise.variance\n",
      "[I 2019-04-14 17:42:01,177] Finished a trial resulted in value: -1.0445180430299374. Current best value is -1.2569544807112232 with parameters: {'a': 0.0, 'b': 0.0, 'ab': [0.0, 0.0]}.\n"
     ]
    },
    {
     "name": "stdout",
     "output_type": "stream",
     "text": [
      "The set cost function is ignored! LCB acquisition does not make sense with cost.\n",
      "ab\n"
     ]
    },
    {
     "name": "stderr",
     "output_type": "stream",
     "text": [
      "reconstraining parameters GP_regression.mul\n",
      "reconstraining parameters GP_regression.Gaussian_noise.variance\n",
      "[I 2019-04-14 17:42:21,247] Finished a trial resulted in value: -1.108999002959739. Current best value is -1.2569544807112232 with parameters: {'a': 0.0, 'b': 0.0, 'ab': [0.0, 0.0]}.\n"
     ]
    },
    {
     "name": "stdout",
     "output_type": "stream",
     "text": [
      "The set cost function is ignored! LCB acquisition does not make sense with cost.\n",
      "ab\n"
     ]
    },
    {
     "name": "stderr",
     "output_type": "stream",
     "text": [
      "reconstraining parameters GP_regression.mul\n",
      "reconstraining parameters GP_regression.Gaussian_noise.variance\n",
      "[I 2019-04-14 17:42:41,114] Finished a trial resulted in value: -1.2753109442548871. Current best value is -1.2753109442548871 with parameters: {'a': 0.0, 'b': 0.0, 'ab': [0.0, 0.0]}.\n"
     ]
    },
    {
     "name": "stdout",
     "output_type": "stream",
     "text": [
      "The set cost function is ignored! LCB acquisition does not make sense with cost.\n",
      "ab\n"
     ]
    },
    {
     "name": "stderr",
     "output_type": "stream",
     "text": [
      "reconstraining parameters GP_regression.mul\n",
      "reconstraining parameters GP_regression.Gaussian_noise.variance\n",
      "[I 2019-04-14 17:43:00,958] Finished a trial resulted in value: -1.2110698020849648. Current best value is -1.2753109442548871 with parameters: {'a': 0.0, 'b': 0.0, 'ab': [0.0, 0.0]}.\n"
     ]
    },
    {
     "name": "stdout",
     "output_type": "stream",
     "text": [
      "The set cost function is ignored! LCB acquisition does not make sense with cost.\n",
      "ab\n"
     ]
    },
    {
     "name": "stderr",
     "output_type": "stream",
     "text": [
      "reconstraining parameters GP_regression.mul\n",
      "reconstraining parameters GP_regression.Gaussian_noise.variance\n",
      "[I 2019-04-14 17:43:20,959] Finished a trial resulted in value: -1.1790045874884254. Current best value is -1.2753109442548871 with parameters: {'a': 0.0, 'b': 0.0, 'ab': [0.0, 0.0]}.\n"
     ]
    },
    {
     "name": "stdout",
     "output_type": "stream",
     "text": [
      "The set cost function is ignored! LCB acquisition does not make sense with cost.\n",
      "ab\n"
     ]
    },
    {
     "name": "stderr",
     "output_type": "stream",
     "text": [
      "reconstraining parameters GP_regression.mul\n",
      "reconstraining parameters GP_regression.Gaussian_noise.variance\n",
      "[I 2019-04-14 17:43:40,970] Finished a trial resulted in value: -1.072995242189916. Current best value is -1.2753109442548871 with parameters: {'a': 0.0, 'b': 0.0, 'ab': [0.0, 0.0]}.\n"
     ]
    },
    {
     "name": "stdout",
     "output_type": "stream",
     "text": [
      "The set cost function is ignored! LCB acquisition does not make sense with cost.\n",
      "ab\n"
     ]
    },
    {
     "name": "stderr",
     "output_type": "stream",
     "text": [
      "reconstraining parameters GP_regression.mul\n",
      "reconstraining parameters GP_regression.Gaussian_noise.variance\n",
      "[I 2019-04-14 17:44:01,248] Finished a trial resulted in value: -1.0339324425316765. Current best value is -1.2753109442548871 with parameters: {'a': 0.0, 'b': 0.0, 'ab': [0.0, 0.0]}.\n"
     ]
    },
    {
     "name": "stdout",
     "output_type": "stream",
     "text": [
      "The set cost function is ignored! LCB acquisition does not make sense with cost.\n",
      "ab\n"
     ]
    },
    {
     "name": "stderr",
     "output_type": "stream",
     "text": [
      "reconstraining parameters GP_regression.mul\n",
      "reconstraining parameters GP_regression.Gaussian_noise.variance\n",
      "[I 2019-04-14 17:44:22,778] Finished a trial resulted in value: -0.8475671723422782. Current best value is -1.2753109442548871 with parameters: {'a': 0.0, 'b': 0.0, 'ab': [0.0, 0.0]}.\n"
     ]
    },
    {
     "name": "stdout",
     "output_type": "stream",
     "text": [
      "The set cost function is ignored! LCB acquisition does not make sense with cost.\n",
      "ab\n"
     ]
    },
    {
     "name": "stderr",
     "output_type": "stream",
     "text": [
      "reconstraining parameters GP_regression.mul\n",
      "reconstraining parameters GP_regression.Gaussian_noise.variance\n",
      "[I 2019-04-14 17:44:44,184] Finished a trial resulted in value: -0.8330314587502375. Current best value is -1.2753109442548871 with parameters: {'a': 0.0, 'b': 0.0, 'ab': [0.0, 0.0]}.\n"
     ]
    },
    {
     "name": "stdout",
     "output_type": "stream",
     "text": [
      "The set cost function is ignored! LCB acquisition does not make sense with cost.\n",
      "ab\n"
     ]
    },
    {
     "name": "stderr",
     "output_type": "stream",
     "text": [
      "reconstraining parameters GP_regression.mul\n",
      "reconstraining parameters GP_regression.Gaussian_noise.variance\n",
      "[I 2019-04-14 17:45:06,319] Finished a trial resulted in value: 0.1431651099200301. Current best value is -1.2753109442548871 with parameters: {'a': 0.0, 'b': 0.0, 'ab': [0.0, 0.0]}.\n"
     ]
    },
    {
     "name": "stdout",
     "output_type": "stream",
     "text": [
      "The set cost function is ignored! LCB acquisition does not make sense with cost.\n",
      "ab\n"
     ]
    },
    {
     "name": "stderr",
     "output_type": "stream",
     "text": [
      "reconstraining parameters GP_regression.mul\n",
      "reconstraining parameters GP_regression.Gaussian_noise.variance\n",
      "[I 2019-04-14 17:45:27,724] Finished a trial resulted in value: -0.8756855170601603. Current best value is -1.2753109442548871 with parameters: {'a': 0.0, 'b': 0.0, 'ab': [0.0, 0.0]}.\n"
     ]
    },
    {
     "name": "stdout",
     "output_type": "stream",
     "text": [
      "The set cost function is ignored! LCB acquisition does not make sense with cost.\n",
      "ab\n"
     ]
    },
    {
     "name": "stderr",
     "output_type": "stream",
     "text": [
      "reconstraining parameters GP_regression.mul\n",
      "reconstraining parameters GP_regression.Gaussian_noise.variance\n",
      "[I 2019-04-14 17:45:48,617] Finished a trial resulted in value: -0.6932836542729977. Current best value is -1.2753109442548871 with parameters: {'a': 0.0, 'b': 0.0, 'ab': [0.0, 0.0]}.\n"
     ]
    },
    {
     "name": "stdout",
     "output_type": "stream",
     "text": [
      "The set cost function is ignored! LCB acquisition does not make sense with cost.\n",
      "ab\n"
     ]
    },
    {
     "name": "stderr",
     "output_type": "stream",
     "text": [
      "reconstraining parameters GP_regression.mul\n",
      "reconstraining parameters GP_regression.Gaussian_noise.variance\n",
      "[I 2019-04-14 17:46:11,333] Finished a trial resulted in value: -0.03281330438183062. Current best value is -1.2753109442548871 with parameters: {'a': 0.0, 'b': 0.0, 'ab': [0.0, 0.0]}.\n"
     ]
    },
    {
     "name": "stdout",
     "output_type": "stream",
     "text": [
      "The set cost function is ignored! LCB acquisition does not make sense with cost.\n",
      "ab\n"
     ]
    },
    {
     "name": "stderr",
     "output_type": "stream",
     "text": [
      "reconstraining parameters GP_regression.mul\n",
      "reconstraining parameters GP_regression.Gaussian_noise.variance\n",
      "[I 2019-04-14 17:46:32,180] Finished a trial resulted in value: -0.8181455181065943. Current best value is -1.2753109442548871 with parameters: {'a': 0.0, 'b': 0.0, 'ab': [0.0, 0.0]}.\n"
     ]
    },
    {
     "name": "stdout",
     "output_type": "stream",
     "text": [
      "The set cost function is ignored! LCB acquisition does not make sense with cost.\n",
      "ab\n"
     ]
    },
    {
     "name": "stderr",
     "output_type": "stream",
     "text": [
      "reconstraining parameters GP_regression.mul\n",
      "reconstraining parameters GP_regression.Gaussian_noise.variance\n",
      "[I 2019-04-14 17:46:53,491] Finished a trial resulted in value: -0.8206970913601087. Current best value is -1.2753109442548871 with parameters: {'a': 0.0, 'b': 0.0, 'ab': [0.0, 0.0]}.\n"
     ]
    },
    {
     "name": "stdout",
     "output_type": "stream",
     "text": [
      "The set cost function is ignored! LCB acquisition does not make sense with cost.\n",
      "ab\n"
     ]
    },
    {
     "name": "stderr",
     "output_type": "stream",
     "text": [
      "reconstraining parameters GP_regression.mul\n",
      "reconstraining parameters GP_regression.Gaussian_noise.variance\n",
      "[I 2019-04-14 17:47:15,034] Finished a trial resulted in value: -0.7724171907259749. Current best value is -1.2753109442548871 with parameters: {'a': 0.0, 'b': 0.0, 'ab': [0.0, 0.0]}.\n"
     ]
    },
    {
     "name": "stdout",
     "output_type": "stream",
     "text": [
      "The set cost function is ignored! LCB acquisition does not make sense with cost.\n",
      "ab\n"
     ]
    },
    {
     "name": "stderr",
     "output_type": "stream",
     "text": [
      "reconstraining parameters GP_regression.mul\n",
      "reconstraining parameters GP_regression.Gaussian_noise.variance\n",
      "[I 2019-04-14 17:47:36,814] Finished a trial resulted in value: -0.8472895745216573. Current best value is -1.2753109442548871 with parameters: {'a': 0.0, 'b': 0.0, 'ab': [0.0, 0.0]}.\n"
     ]
    },
    {
     "name": "stdout",
     "output_type": "stream",
     "text": [
      "The set cost function is ignored! LCB acquisition does not make sense with cost.\n",
      "ab\n"
     ]
    },
    {
     "name": "stderr",
     "output_type": "stream",
     "text": [
      "reconstraining parameters GP_regression.mul\n",
      "reconstraining parameters GP_regression.Gaussian_noise.variance\n",
      "[I 2019-04-14 17:47:58,365] Finished a trial resulted in value: -0.7944703480176619. Current best value is -1.2753109442548871 with parameters: {'a': 0.0, 'b': 0.0, 'ab': [0.0, 0.0]}.\n"
     ]
    },
    {
     "name": "stdout",
     "output_type": "stream",
     "text": [
      "The set cost function is ignored! LCB acquisition does not make sense with cost.\n",
      "ab\n"
     ]
    },
    {
     "name": "stderr",
     "output_type": "stream",
     "text": [
      "reconstraining parameters GP_regression.mul\n",
      "reconstraining parameters GP_regression.Gaussian_noise.variance\n",
      "[I 2019-04-14 17:48:20,236] Finished a trial resulted in value: -0.8334941250899679. Current best value is -1.2753109442548871 with parameters: {'a': 0.0, 'b': 0.0, 'ab': [0.0, 0.0]}.\n"
     ]
    },
    {
     "name": "stdout",
     "output_type": "stream",
     "text": [
      "The set cost function is ignored! LCB acquisition does not make sense with cost.\n",
      "ab\n"
     ]
    },
    {
     "name": "stderr",
     "output_type": "stream",
     "text": [
      "reconstraining parameters GP_regression.mul\n",
      "reconstraining parameters GP_regression.Gaussian_noise.variance\n",
      "[I 2019-04-14 17:48:42,177] Finished a trial resulted in value: -0.7818061805619927. Current best value is -1.2753109442548871 with parameters: {'a': 0.0, 'b': 0.0, 'ab': [0.0, 0.0]}.\n"
     ]
    },
    {
     "name": "stdout",
     "output_type": "stream",
     "text": [
      "The set cost function is ignored! LCB acquisition does not make sense with cost.\n",
      "ab\n"
     ]
    },
    {
     "name": "stderr",
     "output_type": "stream",
     "text": [
      "reconstraining parameters GP_regression.mul\n",
      "reconstraining parameters GP_regression.Gaussian_noise.variance\n",
      "[I 2019-04-14 17:49:04,337] Finished a trial resulted in value: -0.8653575236802304. Current best value is -1.2753109442548871 with parameters: {'a': 0.0, 'b': 0.0, 'ab': [0.0, 0.0]}.\n"
     ]
    },
    {
     "name": "stdout",
     "output_type": "stream",
     "text": [
      "The set cost function is ignored! LCB acquisition does not make sense with cost.\n",
      "ab\n"
     ]
    },
    {
     "name": "stderr",
     "output_type": "stream",
     "text": [
      "reconstraining parameters GP_regression.mul\n",
      "reconstraining parameters GP_regression.Gaussian_noise.variance\n",
      "[I 2019-04-14 17:49:26,364] Finished a trial resulted in value: -1.0236694504443773. Current best value is -1.2753109442548871 with parameters: {'a': 0.0, 'b': 0.0, 'ab': [0.0, 0.0]}.\n"
     ]
    },
    {
     "name": "stdout",
     "output_type": "stream",
     "text": [
      "The set cost function is ignored! LCB acquisition does not make sense with cost.\n",
      "ab\n"
     ]
    },
    {
     "name": "stderr",
     "output_type": "stream",
     "text": [
      "reconstraining parameters GP_regression.mul\n",
      "reconstraining parameters GP_regression.Gaussian_noise.variance\n",
      "[I 2019-04-14 17:49:48,892] Finished a trial resulted in value: -1.0960350544165292. Current best value is -1.2753109442548871 with parameters: {'a': 0.0, 'b': 0.0, 'ab': [0.0, 0.0]}.\n"
     ]
    },
    {
     "name": "stdout",
     "output_type": "stream",
     "text": [
      "The set cost function is ignored! LCB acquisition does not make sense with cost.\n",
      "ab\n"
     ]
    },
    {
     "name": "stderr",
     "output_type": "stream",
     "text": [
      "reconstraining parameters GP_regression.mul\n",
      "reconstraining parameters GP_regression.Gaussian_noise.variance\n",
      "[I 2019-04-14 17:50:11,310] Finished a trial resulted in value: -1.0070300642373384. Current best value is -1.2753109442548871 with parameters: {'a': 0.0, 'b': 0.0, 'ab': [0.0, 0.0]}.\n"
     ]
    },
    {
     "name": "stdout",
     "output_type": "stream",
     "text": [
      "The set cost function is ignored! LCB acquisition does not make sense with cost.\n",
      "ab\n"
     ]
    },
    {
     "name": "stderr",
     "output_type": "stream",
     "text": [
      "reconstraining parameters GP_regression.mul\n",
      "reconstraining parameters GP_regression.Gaussian_noise.variance\n",
      "[I 2019-04-14 17:50:33,917] Finished a trial resulted in value: -0.8104410071883439. Current best value is -1.2753109442548871 with parameters: {'a': 0.0, 'b': 0.0, 'ab': [0.0, 0.0]}.\n"
     ]
    },
    {
     "name": "stdout",
     "output_type": "stream",
     "text": [
      "The set cost function is ignored! LCB acquisition does not make sense with cost.\n",
      "ab\n"
     ]
    },
    {
     "name": "stderr",
     "output_type": "stream",
     "text": [
      "reconstraining parameters GP_regression.mul\n",
      "reconstraining parameters GP_regression.Gaussian_noise.variance\n",
      "[I 2019-04-14 17:50:56,386] Finished a trial resulted in value: -0.7316308982377395. Current best value is -1.2753109442548871 with parameters: {'a': 0.0, 'b': 0.0, 'ab': [0.0, 0.0]}.\n"
     ]
    },
    {
     "name": "stdout",
     "output_type": "stream",
     "text": [
      "The set cost function is ignored! LCB acquisition does not make sense with cost.\n",
      "ab\n"
     ]
    },
    {
     "name": "stderr",
     "output_type": "stream",
     "text": [
      "reconstraining parameters GP_regression.mul\n",
      "reconstraining parameters GP_regression.Gaussian_noise.variance\n",
      "[I 2019-04-14 17:51:23,561] Finished a trial resulted in value: -0.5480176854063106. Current best value is -1.2753109442548871 with parameters: {'a': 0.0, 'b': 0.0, 'ab': [0.0, 0.0]}.\n"
     ]
    },
    {
     "name": "stdout",
     "output_type": "stream",
     "text": [
      "The set cost function is ignored! LCB acquisition does not make sense with cost.\n",
      "ab\n"
     ]
    },
    {
     "name": "stderr",
     "output_type": "stream",
     "text": [
      "reconstraining parameters GP_regression.mul\n",
      "reconstraining parameters GP_regression.Gaussian_noise.variance\n",
      "[I 2019-04-14 17:51:46,401] Finished a trial resulted in value: -0.9924983664499601. Current best value is -1.2753109442548871 with parameters: {'a': 0.0, 'b': 0.0, 'ab': [0.0, 0.0]}.\n"
     ]
    },
    {
     "name": "stdout",
     "output_type": "stream",
     "text": [
      "The set cost function is ignored! LCB acquisition does not make sense with cost.\n",
      "ab\n"
     ]
    },
    {
     "name": "stderr",
     "output_type": "stream",
     "text": [
      "reconstraining parameters GP_regression.mul\n",
      "reconstraining parameters GP_regression.Gaussian_noise.variance\n",
      "[I 2019-04-14 17:52:09,650] Finished a trial resulted in value: -1.027354777622077. Current best value is -1.2753109442548871 with parameters: {'a': 0.0, 'b': 0.0, 'ab': [0.0, 0.0]}.\n"
     ]
    },
    {
     "name": "stdout",
     "output_type": "stream",
     "text": [
      "The set cost function is ignored! LCB acquisition does not make sense with cost.\n",
      "ab\n"
     ]
    },
    {
     "name": "stderr",
     "output_type": "stream",
     "text": [
      "reconstraining parameters GP_regression.mul\n",
      "reconstraining parameters GP_regression.Gaussian_noise.variance\n",
      "[I 2019-04-14 17:52:33,281] Finished a trial resulted in value: -1.0591896546807593. Current best value is -1.2753109442548871 with parameters: {'a': 0.0, 'b': 0.0, 'ab': [0.0, 0.0]}.\n"
     ]
    },
    {
     "name": "stdout",
     "output_type": "stream",
     "text": [
      "The set cost function is ignored! LCB acquisition does not make sense with cost.\n",
      "ab\n"
     ]
    },
    {
     "name": "stderr",
     "output_type": "stream",
     "text": [
      "reconstraining parameters GP_regression.mul\n",
      "reconstraining parameters GP_regression.Gaussian_noise.variance\n",
      "[I 2019-04-14 17:52:56,802] Finished a trial resulted in value: -1.1009100159470722. Current best value is -1.2753109442548871 with parameters: {'a': 0.0, 'b': 0.0, 'ab': [0.0, 0.0]}.\n"
     ]
    },
    {
     "name": "stdout",
     "output_type": "stream",
     "text": [
      "The set cost function is ignored! LCB acquisition does not make sense with cost.\n",
      "ab\n"
     ]
    },
    {
     "name": "stderr",
     "output_type": "stream",
     "text": [
      "reconstraining parameters GP_regression.mul\n",
      "reconstraining parameters GP_regression.Gaussian_noise.variance\n",
      "[I 2019-04-14 17:53:20,379] Finished a trial resulted in value: -1.054207823318746. Current best value is -1.2753109442548871 with parameters: {'a': 0.0, 'b': 0.0, 'ab': [0.0, 0.0]}.\n"
     ]
    },
    {
     "name": "stdout",
     "output_type": "stream",
     "text": [
      "The set cost function is ignored! LCB acquisition does not make sense with cost.\n",
      "ab\n"
     ]
    },
    {
     "name": "stderr",
     "output_type": "stream",
     "text": [
      "reconstraining parameters GP_regression.mul\n",
      "reconstraining parameters GP_regression.Gaussian_noise.variance\n",
      "[I 2019-04-14 17:53:44,143] Finished a trial resulted in value: -0.9448768530542815. Current best value is -1.2753109442548871 with parameters: {'a': 0.0, 'b': 0.0, 'ab': [0.0, 0.0]}.\n"
     ]
    },
    {
     "name": "stdout",
     "output_type": "stream",
     "text": [
      "The set cost function is ignored! LCB acquisition does not make sense with cost.\n",
      "ab\n"
     ]
    },
    {
     "name": "stderr",
     "output_type": "stream",
     "text": [
      "reconstraining parameters GP_regression.mul\n",
      "reconstraining parameters GP_regression.Gaussian_noise.variance\n",
      "[I 2019-04-14 17:54:07,961] Finished a trial resulted in value: -1.037870380014498. Current best value is -1.2753109442548871 with parameters: {'a': 0.0, 'b': 0.0, 'ab': [0.0, 0.0]}.\n"
     ]
    },
    {
     "name": "stdout",
     "output_type": "stream",
     "text": [
      "The set cost function is ignored! LCB acquisition does not make sense with cost.\n",
      "ab\n"
     ]
    },
    {
     "name": "stderr",
     "output_type": "stream",
     "text": [
      "reconstraining parameters GP_regression.mul\n",
      "reconstraining parameters GP_regression.Gaussian_noise.variance\n",
      "[I 2019-04-14 17:54:32,033] Finished a trial resulted in value: 0.8394294724086152. Current best value is -1.2753109442548871 with parameters: {'a': 0.0, 'b': 0.0, 'ab': [0.0, 0.0]}.\n"
     ]
    },
    {
     "name": "stdout",
     "output_type": "stream",
     "text": [
      "The set cost function is ignored! LCB acquisition does not make sense with cost.\n",
      "ab\n"
     ]
    },
    {
     "name": "stderr",
     "output_type": "stream",
     "text": [
      "reconstraining parameters GP_regression.mul\n",
      "reconstraining parameters GP_regression.Gaussian_noise.variance\n",
      "[I 2019-04-14 17:54:56,163] Finished a trial resulted in value: -1.256295381351985. Current best value is -1.2753109442548871 with parameters: {'a': 0.0, 'b': 0.0, 'ab': [0.0, 0.0]}.\n"
     ]
    },
    {
     "name": "stdout",
     "output_type": "stream",
     "text": [
      "The set cost function is ignored! LCB acquisition does not make sense with cost.\n",
      "ab\n"
     ]
    },
    {
     "name": "stderr",
     "output_type": "stream",
     "text": [
      "reconstraining parameters GP_regression.mul\n",
      "reconstraining parameters GP_regression.Gaussian_noise.variance\n",
      "[I 2019-04-14 17:55:20,522] Finished a trial resulted in value: -1.3193808372636349. Current best value is -1.3193808372636349 with parameters: {'a': 0.0, 'b': 0.0, 'ab': [0.0, 0.0]}.\n"
     ]
    },
    {
     "name": "stdout",
     "output_type": "stream",
     "text": [
      "The set cost function is ignored! LCB acquisition does not make sense with cost.\n",
      "ab\n"
     ]
    },
    {
     "name": "stderr",
     "output_type": "stream",
     "text": [
      "reconstraining parameters GP_regression.mul\n",
      "reconstraining parameters GP_regression.Gaussian_noise.variance\n",
      "[I 2019-04-14 17:55:44,572] Finished a trial resulted in value: -1.2752748831708365. Current best value is -1.3193808372636349 with parameters: {'a': 0.0, 'b': 0.0, 'ab': [0.0, 0.0]}.\n"
     ]
    },
    {
     "name": "stdout",
     "output_type": "stream",
     "text": [
      "The set cost function is ignored! LCB acquisition does not make sense with cost.\n",
      "ab\n"
     ]
    },
    {
     "name": "stderr",
     "output_type": "stream",
     "text": [
      "reconstraining parameters GP_regression.mul\n",
      "reconstraining parameters GP_regression.Gaussian_noise.variance\n",
      "[I 2019-04-14 17:56:09,250] Finished a trial resulted in value: -1.2538533074702196. Current best value is -1.3193808372636349 with parameters: {'a': 0.0, 'b': 0.0, 'ab': [0.0, 0.0]}.\n"
     ]
    },
    {
     "name": "stdout",
     "output_type": "stream",
     "text": [
      "The set cost function is ignored! LCB acquisition does not make sense with cost.\n",
      "ab\n"
     ]
    },
    {
     "name": "stderr",
     "output_type": "stream",
     "text": [
      "reconstraining parameters GP_regression.mul\n",
      "reconstraining parameters GP_regression.Gaussian_noise.variance\n",
      "[I 2019-04-14 17:56:33,864] Finished a trial resulted in value: -1.2918069908089294. Current best value is -1.3193808372636349 with parameters: {'a': 0.0, 'b': 0.0, 'ab': [0.0, 0.0]}.\n"
     ]
    },
    {
     "name": "stdout",
     "output_type": "stream",
     "text": [
      "The set cost function is ignored! LCB acquisition does not make sense with cost.\n",
      "ab\n"
     ]
    },
    {
     "name": "stderr",
     "output_type": "stream",
     "text": [
      "reconstraining parameters GP_regression.mul\n",
      "reconstraining parameters GP_regression.Gaussian_noise.variance\n",
      "[I 2019-04-14 17:56:59,182] Finished a trial resulted in value: -1.4723578888170203. Current best value is -1.4723578888170203 with parameters: {'a': 0.0, 'b': 0.0, 'ab': [0.0, 0.0]}.\n"
     ]
    },
    {
     "name": "stdout",
     "output_type": "stream",
     "text": [
      "The set cost function is ignored! LCB acquisition does not make sense with cost.\n",
      "ab\n"
     ]
    },
    {
     "name": "stderr",
     "output_type": "stream",
     "text": [
      "reconstraining parameters GP_regression.mul\n",
      "reconstraining parameters GP_regression.Gaussian_noise.variance\n",
      "[I 2019-04-14 17:57:23,947] Finished a trial resulted in value: -1.4674170063866365. Current best value is -1.4723578888170203 with parameters: {'a': 0.0, 'b': 0.0, 'ab': [0.0, 0.0]}.\n"
     ]
    },
    {
     "name": "stdout",
     "output_type": "stream",
     "text": [
      "The set cost function is ignored! LCB acquisition does not make sense with cost.\n",
      "ab\n"
     ]
    },
    {
     "name": "stderr",
     "output_type": "stream",
     "text": [
      "reconstraining parameters GP_regression.mul\n",
      "reconstraining parameters GP_regression.Gaussian_noise.variance\n",
      "[I 2019-04-14 17:57:49,251] Finished a trial resulted in value: -1.5283102062716152. Current best value is -1.5283102062716152 with parameters: {'a': 0.0, 'b': 0.0, 'ab': [0.0, 0.0]}.\n"
     ]
    },
    {
     "name": "stdout",
     "output_type": "stream",
     "text": [
      "The set cost function is ignored! LCB acquisition does not make sense with cost.\n",
      "ab\n"
     ]
    },
    {
     "name": "stderr",
     "output_type": "stream",
     "text": [
      "reconstraining parameters GP_regression.mul\n",
      "reconstraining parameters GP_regression.Gaussian_noise.variance\n",
      "[I 2019-04-14 17:58:14,414] Finished a trial resulted in value: -1.5051016317880943. Current best value is -1.5283102062716152 with parameters: {'a': 0.0, 'b': 0.0, 'ab': [0.0, 0.0]}.\n"
     ]
    },
    {
     "name": "stdout",
     "output_type": "stream",
     "text": [
      "The set cost function is ignored! LCB acquisition does not make sense with cost.\n",
      "ab\n"
     ]
    },
    {
     "name": "stderr",
     "output_type": "stream",
     "text": [
      "reconstraining parameters GP_regression.mul\n",
      "reconstraining parameters GP_regression.Gaussian_noise.variance\n",
      "[I 2019-04-14 17:58:39,818] Finished a trial resulted in value: -1.3920273384758268. Current best value is -1.5283102062716152 with parameters: {'a': 0.0, 'b': 0.0, 'ab': [0.0, 0.0]}.\n"
     ]
    },
    {
     "name": "stdout",
     "output_type": "stream",
     "text": [
      "The set cost function is ignored! LCB acquisition does not make sense with cost.\n",
      "ab\n"
     ]
    },
    {
     "name": "stderr",
     "output_type": "stream",
     "text": [
      "reconstraining parameters GP_regression.mul\n",
      "reconstraining parameters GP_regression.Gaussian_noise.variance\n",
      "[I 2019-04-14 17:59:05,170] Finished a trial resulted in value: -1.366673592954047. Current best value is -1.5283102062716152 with parameters: {'a': 0.0, 'b': 0.0, 'ab': [0.0, 0.0]}.\n"
     ]
    },
    {
     "name": "stdout",
     "output_type": "stream",
     "text": [
      "The set cost function is ignored! LCB acquisition does not make sense with cost.\n",
      "ab\n"
     ]
    },
    {
     "name": "stderr",
     "output_type": "stream",
     "text": [
      "reconstraining parameters GP_regression.mul\n",
      "reconstraining parameters GP_regression.Gaussian_noise.variance\n",
      "[I 2019-04-14 17:59:30,918] Finished a trial resulted in value: -1.2599423920786192. Current best value is -1.5283102062716152 with parameters: {'a': 0.0, 'b': 0.0, 'ab': [0.0, 0.0]}.\n"
     ]
    },
    {
     "name": "stdout",
     "output_type": "stream",
     "text": [
      "The set cost function is ignored! LCB acquisition does not make sense with cost.\n",
      "ab\n"
     ]
    },
    {
     "name": "stderr",
     "output_type": "stream",
     "text": [
      "reconstraining parameters GP_regression.mul\n",
      "reconstraining parameters GP_regression.Gaussian_noise.variance\n",
      "[I 2019-04-14 17:59:56,852] Finished a trial resulted in value: -1.1168419677154138. Current best value is -1.5283102062716152 with parameters: {'a': 0.0, 'b': 0.0, 'ab': [0.0, 0.0]}.\n"
     ]
    },
    {
     "name": "stdout",
     "output_type": "stream",
     "text": [
      "The set cost function is ignored! LCB acquisition does not make sense with cost.\n",
      "ab\n"
     ]
    },
    {
     "name": "stderr",
     "output_type": "stream",
     "text": [
      "reconstraining parameters GP_regression.mul\n",
      "reconstraining parameters GP_regression.Gaussian_noise.variance\n",
      "[I 2019-04-14 18:00:22,828] Finished a trial resulted in value: -1.0954014149301423. Current best value is -1.5283102062716152 with parameters: {'a': 0.0, 'b': 0.0, 'ab': [0.0, 0.0]}.\n"
     ]
    },
    {
     "name": "stdout",
     "output_type": "stream",
     "text": [
      "The set cost function is ignored! LCB acquisition does not make sense with cost.\n",
      "ab\n"
     ]
    },
    {
     "name": "stderr",
     "output_type": "stream",
     "text": [
      "reconstraining parameters GP_regression.mul\n",
      "reconstraining parameters GP_regression.Gaussian_noise.variance\n",
      "[I 2019-04-14 18:00:48,584] Finished a trial resulted in value: -1.1977042570822443. Current best value is -1.5283102062716152 with parameters: {'a': 0.0, 'b': 0.0, 'ab': [0.0, 0.0]}.\n"
     ]
    },
    {
     "name": "stdout",
     "output_type": "stream",
     "text": [
      "The set cost function is ignored! LCB acquisition does not make sense with cost.\n",
      "ab\n"
     ]
    },
    {
     "name": "stderr",
     "output_type": "stream",
     "text": [
      "reconstraining parameters GP_regression.mul\n",
      "reconstraining parameters GP_regression.Gaussian_noise.variance\n",
      "[I 2019-04-14 18:01:15,096] Finished a trial resulted in value: -0.9677481302866393. Current best value is -1.5283102062716152 with parameters: {'a': 0.0, 'b': 0.0, 'ab': [0.0, 0.0]}.\n"
     ]
    },
    {
     "name": "stdout",
     "output_type": "stream",
     "text": [
      "The set cost function is ignored! LCB acquisition does not make sense with cost.\n",
      "ab\n"
     ]
    },
    {
     "name": "stderr",
     "output_type": "stream",
     "text": [
      "reconstraining parameters GP_regression.mul\n",
      "reconstraining parameters GP_regression.Gaussian_noise.variance\n",
      "[I 2019-04-14 18:01:41,767] Finished a trial resulted in value: -1.0279520684526335. Current best value is -1.5283102062716152 with parameters: {'a': 0.0, 'b': 0.0, 'ab': [0.0, 0.0]}.\n"
     ]
    },
    {
     "name": "stdout",
     "output_type": "stream",
     "text": [
      "The set cost function is ignored! LCB acquisition does not make sense with cost.\n",
      "ab\n"
     ]
    },
    {
     "name": "stderr",
     "output_type": "stream",
     "text": [
      "reconstraining parameters GP_regression.mul\n",
      "reconstraining parameters GP_regression.Gaussian_noise.variance\n",
      "[I 2019-04-14 18:02:11,224] Finished a trial resulted in value: -1.2631333531246294. Current best value is -1.5283102062716152 with parameters: {'a': 0.0, 'b': 0.0, 'ab': [0.0, 0.0]}.\n"
     ]
    },
    {
     "name": "stdout",
     "output_type": "stream",
     "text": [
      "The set cost function is ignored! LCB acquisition does not make sense with cost.\n",
      "ab\n"
     ]
    },
    {
     "name": "stderr",
     "output_type": "stream",
     "text": [
      "reconstraining parameters GP_regression.mul\n",
      "reconstraining parameters GP_regression.Gaussian_noise.variance\n",
      "[I 2019-04-14 18:02:44,672] Finished a trial resulted in value: -0.9538842015745559. Current best value is -1.5283102062716152 with parameters: {'a': 0.0, 'b': 0.0, 'ab': [0.0, 0.0]}.\n"
     ]
    },
    {
     "name": "stdout",
     "output_type": "stream",
     "text": [
      "The set cost function is ignored! LCB acquisition does not make sense with cost.\n",
      "ab\n"
     ]
    },
    {
     "name": "stderr",
     "output_type": "stream",
     "text": [
      "reconstraining parameters GP_regression.mul\n",
      "reconstraining parameters GP_regression.Gaussian_noise.variance\n",
      "[I 2019-04-14 18:03:17,409] Finished a trial resulted in value: -1.1804796264569688. Current best value is -1.5283102062716152 with parameters: {'a': 0.0, 'b': 0.0, 'ab': [0.0, 0.0]}.\n"
     ]
    },
    {
     "name": "stdout",
     "output_type": "stream",
     "text": [
      "The set cost function is ignored! LCB acquisition does not make sense with cost.\n",
      "ab\n"
     ]
    },
    {
     "name": "stderr",
     "output_type": "stream",
     "text": [
      "reconstraining parameters GP_regression.mul\n",
      "reconstraining parameters GP_regression.Gaussian_noise.variance\n",
      "[I 2019-04-14 18:03:52,125] Finished a trial resulted in value: -1.280165369092294. Current best value is -1.5283102062716152 with parameters: {'a': 0.0, 'b': 0.0, 'ab': [0.0, 0.0]}.\n"
     ]
    },
    {
     "name": "stdout",
     "output_type": "stream",
     "text": [
      "The set cost function is ignored! LCB acquisition does not make sense with cost.\n",
      "ab\n"
     ]
    },
    {
     "name": "stderr",
     "output_type": "stream",
     "text": [
      "reconstraining parameters GP_regression.mul\n",
      "reconstraining parameters GP_regression.Gaussian_noise.variance\n",
      "[I 2019-04-14 18:04:27,400] Finished a trial resulted in value: -1.2794268388653534. Current best value is -1.5283102062716152 with parameters: {'a': 0.0, 'b': 0.0, 'ab': [0.0, 0.0]}.\n"
     ]
    },
    {
     "name": "stdout",
     "output_type": "stream",
     "text": [
      "The set cost function is ignored! LCB acquisition does not make sense with cost.\n",
      "ab\n"
     ]
    },
    {
     "name": "stderr",
     "output_type": "stream",
     "text": [
      "reconstraining parameters GP_regression.mul\n",
      "reconstraining parameters GP_regression.Gaussian_noise.variance\n",
      "[I 2019-04-14 18:05:00,303] Finished a trial resulted in value: -1.1611602556284883. Current best value is -1.5283102062716152 with parameters: {'a': 0.0, 'b': 0.0, 'ab': [0.0, 0.0]}.\n"
     ]
    },
    {
     "name": "stdout",
     "output_type": "stream",
     "text": [
      "The set cost function is ignored! LCB acquisition does not make sense with cost.\n",
      "ab\n"
     ]
    },
    {
     "name": "stderr",
     "output_type": "stream",
     "text": [
      "reconstraining parameters GP_regression.mul\n",
      "reconstraining parameters GP_regression.Gaussian_noise.variance\n",
      "[I 2019-04-14 18:05:35,602] Finished a trial resulted in value: -1.328794592295419. Current best value is -1.5283102062716152 with parameters: {'a': 0.0, 'b': 0.0, 'ab': [0.0, 0.0]}.\n"
     ]
    },
    {
     "name": "stdout",
     "output_type": "stream",
     "text": [
      "The set cost function is ignored! LCB acquisition does not make sense with cost.\n",
      "ab\n"
     ]
    },
    {
     "name": "stderr",
     "output_type": "stream",
     "text": [
      "reconstraining parameters GP_regression.mul\n",
      "reconstraining parameters GP_regression.Gaussian_noise.variance\n",
      "[I 2019-04-14 18:06:10,353] Finished a trial resulted in value: -1.0882139281742185. Current best value is -1.5283102062716152 with parameters: {'a': 0.0, 'b': 0.0, 'ab': [0.0, 0.0]}.\n"
     ]
    },
    {
     "name": "stdout",
     "output_type": "stream",
     "text": [
      "The set cost function is ignored! LCB acquisition does not make sense with cost.\n",
      "ab\n"
     ]
    },
    {
     "name": "stderr",
     "output_type": "stream",
     "text": [
      "reconstraining parameters GP_regression.mul\n",
      "reconstraining parameters GP_regression.Gaussian_noise.variance\n",
      "[I 2019-04-14 18:06:37,812] Finished a trial resulted in value: -0.9686208564837061. Current best value is -1.5283102062716152 with parameters: {'a': 0.0, 'b': 0.0, 'ab': [0.0, 0.0]}.\n"
     ]
    },
    {
     "name": "stdout",
     "output_type": "stream",
     "text": [
      "The set cost function is ignored! LCB acquisition does not make sense with cost.\n",
      "ab\n"
     ]
    },
    {
     "name": "stderr",
     "output_type": "stream",
     "text": [
      "reconstraining parameters GP_regression.mul\n",
      "reconstraining parameters GP_regression.Gaussian_noise.variance\n",
      "[I 2019-04-14 18:07:14,256] Finished a trial resulted in value: -1.369492972789725. Current best value is -1.5283102062716152 with parameters: {'a': 0.0, 'b': 0.0, 'ab': [0.0, 0.0]}.\n"
     ]
    },
    {
     "name": "stdout",
     "output_type": "stream",
     "text": [
      "The set cost function is ignored! LCB acquisition does not make sense with cost.\n",
      "ab\n"
     ]
    },
    {
     "name": "stderr",
     "output_type": "stream",
     "text": [
      "reconstraining parameters GP_regression.mul\n",
      "reconstraining parameters GP_regression.Gaussian_noise.variance\n",
      "[I 2019-04-14 18:07:49,108] Finished a trial resulted in value: -1.0013138267767698. Current best value is -1.5283102062716152 with parameters: {'a': 0.0, 'b': 0.0, 'ab': [0.0, 0.0]}.\n"
     ]
    },
    {
     "name": "stdout",
     "output_type": "stream",
     "text": [
      "The set cost function is ignored! LCB acquisition does not make sense with cost.\n",
      "ab\n"
     ]
    },
    {
     "name": "stderr",
     "output_type": "stream",
     "text": [
      "reconstraining parameters GP_regression.mul\n",
      "reconstraining parameters GP_regression.Gaussian_noise.variance\n",
      "[I 2019-04-14 18:08:29,256] Finished a trial resulted in value: -0.9707025905427447. Current best value is -1.5283102062716152 with parameters: {'a': 0.0, 'b': 0.0, 'ab': [0.0, 0.0]}.\n"
     ]
    },
    {
     "name": "stdout",
     "output_type": "stream",
     "text": [
      "The set cost function is ignored! LCB acquisition does not make sense with cost.\n",
      "ab\n"
     ]
    },
    {
     "name": "stderr",
     "output_type": "stream",
     "text": [
      "reconstraining parameters GP_regression.mul\n",
      "reconstraining parameters GP_regression.Gaussian_noise.variance\n",
      "[I 2019-04-14 18:09:13,379] Finished a trial resulted in value: 0.07943111775145742. Current best value is -1.5283102062716152 with parameters: {'a': 0.0, 'b': 0.0, 'ab': [0.0, 0.0]}.\n"
     ]
    },
    {
     "name": "stdout",
     "output_type": "stream",
     "text": [
      "The set cost function is ignored! LCB acquisition does not make sense with cost.\n",
      "ab\n"
     ]
    },
    {
     "name": "stderr",
     "output_type": "stream",
     "text": [
      "reconstraining parameters GP_regression.mul\n",
      "reconstraining parameters GP_regression.Gaussian_noise.variance\n",
      "[I 2019-04-14 18:09:44,641] Finished a trial resulted in value: 0.8696083553325907. Current best value is -1.5283102062716152 with parameters: {'a': 0.0, 'b': 0.0, 'ab': [0.0, 0.0]}.\n"
     ]
    },
    {
     "name": "stdout",
     "output_type": "stream",
     "text": [
      "The set cost function is ignored! LCB acquisition does not make sense with cost.\n",
      "ab\n"
     ]
    },
    {
     "name": "stderr",
     "output_type": "stream",
     "text": [
      "reconstraining parameters GP_regression.mul\n",
      "reconstraining parameters GP_regression.Gaussian_noise.variance\n",
      "[I 2019-04-14 18:10:18,380] Finished a trial resulted in value: -0.24406997988295753. Current best value is -1.5283102062716152 with parameters: {'a': 0.0, 'b': 0.0, 'ab': [0.0, 0.0]}.\n"
     ]
    },
    {
     "name": "stdout",
     "output_type": "stream",
     "text": [
      "The set cost function is ignored! LCB acquisition does not make sense with cost.\n",
      "ab\n"
     ]
    },
    {
     "name": "stderr",
     "output_type": "stream",
     "text": [
      "reconstraining parameters GP_regression.mul\n",
      "reconstraining parameters GP_regression.Gaussian_noise.variance\n",
      "[I 2019-04-14 18:10:55,591] Finished a trial resulted in value: -1.9815263923139965. Current best value is -1.9815263923139965 with parameters: {'a': 1.0, 'b': 0.62061210065514, 'ab': [1.0, 0.62061210065514]}.\n"
     ]
    },
    {
     "name": "stdout",
     "output_type": "stream",
     "text": [
      "The set cost function is ignored! LCB acquisition does not make sense with cost.\n",
      "ab\n"
     ]
    },
    {
     "name": "stderr",
     "output_type": "stream",
     "text": [
      "reconstraining parameters GP_regression.mul\n",
      "reconstraining parameters GP_regression.Gaussian_noise.variance\n",
      "[I 2019-04-14 18:11:34,148] Finished a trial resulted in value: -2.1943817118616433. Current best value is -2.1943817118616433 with parameters: {'a': 1.0, 'b': 0.6891791106421692, 'ab': [1.0, 0.6891791106421692]}.\n"
     ]
    },
    {
     "name": "stdout",
     "output_type": "stream",
     "text": [
      "The set cost function is ignored! LCB acquisition does not make sense with cost.\n",
      "ab\n"
     ]
    },
    {
     "name": "stderr",
     "output_type": "stream",
     "text": [
      "reconstraining parameters GP_regression.mul\n",
      "reconstraining parameters GP_regression.Gaussian_noise.variance\n",
      "[I 2019-04-14 18:12:11,985] Finished a trial resulted in value: -2.0679373881598817. Current best value is -2.1943817118616433 with parameters: {'a': 1.0, 'b': 0.6891791106421692, 'ab': [1.0, 0.6891791106421692]}.\n"
     ]
    },
    {
     "name": "stdout",
     "output_type": "stream",
     "text": [
      "The set cost function is ignored! LCB acquisition does not make sense with cost.\n",
      "ab\n"
     ]
    },
    {
     "name": "stderr",
     "output_type": "stream",
     "text": [
      "reconstraining parameters GP_regression.mul\n",
      "reconstraining parameters GP_regression.Gaussian_noise.variance\n",
      "[I 2019-04-14 18:12:52,483] Finished a trial resulted in value: -2.0268816987118066. Current best value is -2.1943817118616433 with parameters: {'a': 1.0, 'b': 0.6891791106421692, 'ab': [1.0, 0.6891791106421692]}.\n"
     ]
    },
    {
     "name": "stdout",
     "output_type": "stream",
     "text": [
      "The set cost function is ignored! LCB acquisition does not make sense with cost.\n",
      "ab\n"
     ]
    },
    {
     "name": "stderr",
     "output_type": "stream",
     "text": [
      "reconstraining parameters GP_regression.mul\n",
      "reconstraining parameters GP_regression.Gaussian_noise.variance\n",
      "[I 2019-04-14 18:13:31,781] Finished a trial resulted in value: -2.254768185275404. Current best value is -2.254768185275404 with parameters: {'a': 1.0, 'b': 0.6986052181137297, 'ab': [1.0, 0.6986052181137297]}.\n"
     ]
    },
    {
     "name": "stdout",
     "output_type": "stream",
     "text": [
      "The set cost function is ignored! LCB acquisition does not make sense with cost.\n",
      "ab\n"
     ]
    },
    {
     "name": "stderr",
     "output_type": "stream",
     "text": [
      "reconstraining parameters GP_regression.mul\n",
      "reconstraining parameters GP_regression.Gaussian_noise.variance\n",
      "[I 2019-04-14 18:14:12,771] Finished a trial resulted in value: -2.1233095872962897. Current best value is -2.254768185275404 with parameters: {'a': 1.0, 'b': 0.6986052181137297, 'ab': [1.0, 0.6986052181137297]}.\n"
     ]
    },
    {
     "name": "stdout",
     "output_type": "stream",
     "text": [
      "The set cost function is ignored! LCB acquisition does not make sense with cost.\n",
      "ab\n"
     ]
    },
    {
     "name": "stderr",
     "output_type": "stream",
     "text": [
      "reconstraining parameters GP_regression.mul\n",
      "reconstraining parameters GP_regression.Gaussian_noise.variance\n",
      "[I 2019-04-14 18:14:52,937] Finished a trial resulted in value: -2.158779627042638. Current best value is -2.254768185275404 with parameters: {'a': 1.0, 'b': 0.6986052181137297, 'ab': [1.0, 0.6986052181137297]}.\n"
     ]
    },
    {
     "name": "stdout",
     "output_type": "stream",
     "text": [
      "The set cost function is ignored! LCB acquisition does not make sense with cost.\n",
      "ab\n"
     ]
    },
    {
     "name": "stderr",
     "output_type": "stream",
     "text": [
      "reconstraining parameters GP_regression.mul\n",
      "reconstraining parameters GP_regression.Gaussian_noise.variance\n",
      "[I 2019-04-14 18:15:34,926] Finished a trial resulted in value: -2.407691663261351. Current best value is -2.407691663261351 with parameters: {'a': 1.0, 'b': 0.6910282453868607, 'ab': [1.0, 0.6910282453868607]}.\n"
     ]
    },
    {
     "name": "stdout",
     "output_type": "stream",
     "text": [
      "The set cost function is ignored! LCB acquisition does not make sense with cost.\n",
      "ab\n"
     ]
    },
    {
     "name": "stderr",
     "output_type": "stream",
     "text": [
      "reconstraining parameters GP_regression.mul\n",
      "reconstraining parameters GP_regression.Gaussian_noise.variance\n",
      "[I 2019-04-14 18:16:15,889] Finished a trial resulted in value: -2.500991968118378. Current best value is -2.500991968118378 with parameters: {'a': 1.0, 'b': 0.6868549025025362, 'ab': [1.0, 0.6868549025025362]}.\n"
     ]
    },
    {
     "name": "stdout",
     "output_type": "stream",
     "text": [
      "The set cost function is ignored! LCB acquisition does not make sense with cost.\n",
      "ab\n"
     ]
    },
    {
     "name": "stderr",
     "output_type": "stream",
     "text": [
      "reconstraining parameters GP_regression.mul\n",
      "reconstraining parameters GP_regression.Gaussian_noise.variance\n",
      "[I 2019-04-14 18:16:55,818] Finished a trial resulted in value: -2.6044324898248723. Current best value is -2.6044324898248723 with parameters: {'a': 1.0, 'b': 0.6870241746311222, 'ab': [1.0, 0.6870241746311222]}.\n"
     ]
    },
    {
     "name": "stdout",
     "output_type": "stream",
     "text": [
      "The set cost function is ignored! LCB acquisition does not make sense with cost.\n",
      "ab\n"
     ]
    },
    {
     "name": "stderr",
     "output_type": "stream",
     "text": [
      "reconstraining parameters GP_regression.mul\n",
      "reconstraining parameters GP_regression.Gaussian_noise.variance\n",
      "[I 2019-04-14 18:17:35,073] Finished a trial resulted in value: -2.6095607847752014. Current best value is -2.6095607847752014 with parameters: {'a': 1.0, 'b': 0.6846290074083181, 'ab': [1.0, 0.6846290074083181]}.\n"
     ]
    },
    {
     "name": "stdout",
     "output_type": "stream",
     "text": [
      "The set cost function is ignored! LCB acquisition does not make sense with cost.\n",
      "ab\n"
     ]
    },
    {
     "name": "stderr",
     "output_type": "stream",
     "text": [
      "reconstraining parameters GP_regression.mul\n",
      "reconstraining parameters GP_regression.Gaussian_noise.variance\n",
      "[I 2019-04-14 18:18:14,874] Finished a trial resulted in value: -2.798151432113344. Current best value is -2.798151432113344 with parameters: {'a': 1.0, 'b': 0.6816720359772401, 'ab': [1.0, 0.6816720359772401]}.\n"
     ]
    },
    {
     "name": "stdout",
     "output_type": "stream",
     "text": [
      "The set cost function is ignored! LCB acquisition does not make sense with cost.\n",
      "ab\n"
     ]
    },
    {
     "name": "stderr",
     "output_type": "stream",
     "text": [
      "reconstraining parameters GP_regression.mul\n",
      "reconstraining parameters GP_regression.Gaussian_noise.variance\n",
      "[I 2019-04-14 18:18:54,429] Finished a trial resulted in value: -2.7253497134385682. Current best value is -2.798151432113344 with parameters: {'a': 1.0, 'b': 0.6816720359772401, 'ab': [1.0, 0.6816720359772401]}.\n"
     ]
    },
    {
     "name": "stdout",
     "output_type": "stream",
     "text": [
      "The set cost function is ignored! LCB acquisition does not make sense with cost.\n",
      "ab\n"
     ]
    },
    {
     "name": "stderr",
     "output_type": "stream",
     "text": [
      "reconstraining parameters GP_regression.mul\n",
      "reconstraining parameters GP_regression.Gaussian_noise.variance\n",
      "[I 2019-04-14 18:19:35,337] Finished a trial resulted in value: -2.8096698073483606. Current best value is -2.8096698073483606 with parameters: {'a': 1.0, 'b': 0.6774250682543028, 'ab': [1.0, 0.6774250682543028]}.\n"
     ]
    },
    {
     "name": "stdout",
     "output_type": "stream",
     "text": [
      "The set cost function is ignored! LCB acquisition does not make sense with cost.\n",
      "ab\n"
     ]
    },
    {
     "name": "stderr",
     "output_type": "stream",
     "text": [
      "reconstraining parameters GP_regression.mul\n",
      "reconstraining parameters GP_regression.Gaussian_noise.variance\n",
      "[I 2019-04-14 18:20:14,085] Finished a trial resulted in value: -2.927688761677871. Current best value is -2.927688761677871 with parameters: {'a': 1.0, 'b': 0.6784524503423591, 'ab': [1.0, 0.6784524503423591]}.\n"
     ]
    },
    {
     "name": "stdout",
     "output_type": "stream",
     "text": [
      "The set cost function is ignored! LCB acquisition does not make sense with cost.\n",
      "ab\n"
     ]
    },
    {
     "name": "stderr",
     "output_type": "stream",
     "text": [
      "reconstraining parameters GP_regression.mul\n",
      "reconstraining parameters GP_regression.Gaussian_noise.variance\n",
      "[I 2019-04-14 18:20:54,096] Finished a trial resulted in value: -2.873650882278415. Current best value is -2.927688761677871 with parameters: {'a': 1.0, 'b': 0.6784524503423591, 'ab': [1.0, 0.6784524503423591]}.\n"
     ]
    },
    {
     "name": "stdout",
     "output_type": "stream",
     "text": [
      "The set cost function is ignored! LCB acquisition does not make sense with cost.\n",
      "ab\n"
     ]
    },
    {
     "name": "stderr",
     "output_type": "stream",
     "text": [
      "reconstraining parameters GP_regression.mul\n",
      "reconstraining parameters GP_regression.Gaussian_noise.variance\n",
      "[I 2019-04-14 18:21:35,540] Finished a trial resulted in value: -3.084418733105957. Current best value is -3.084418733105957 with parameters: {'a': 1.0, 'b': 0.6811771558905185, 'ab': [1.0, 0.6811771558905185]}.\n"
     ]
    },
    {
     "name": "stdout",
     "output_type": "stream",
     "text": [
      "The set cost function is ignored! LCB acquisition does not make sense with cost.\n",
      "ab\n"
     ]
    },
    {
     "name": "stderr",
     "output_type": "stream",
     "text": [
      "reconstraining parameters GP_regression.mul\n",
      "reconstraining parameters GP_regression.Gaussian_noise.variance\n",
      "[I 2019-04-14 18:22:17,742] Finished a trial resulted in value: -2.9353877715146517. Current best value is -3.084418733105957 with parameters: {'a': 1.0, 'b': 0.6811771558905185, 'ab': [1.0, 0.6811771558905185]}.\n"
     ]
    },
    {
     "name": "stdout",
     "output_type": "stream",
     "text": [
      "The set cost function is ignored! LCB acquisition does not make sense with cost.\n",
      "ab\n"
     ]
    },
    {
     "name": "stderr",
     "output_type": "stream",
     "text": [
      "reconstraining parameters GP_regression.mul\n",
      "reconstraining parameters GP_regression.Gaussian_noise.variance\n",
      "[I 2019-04-14 18:22:57,590] Finished a trial resulted in value: -2.895087113150881. Current best value is -3.084418733105957 with parameters: {'a': 1.0, 'b': 0.6811771558905185, 'ab': [1.0, 0.6811771558905185]}.\n"
     ]
    },
    {
     "name": "stdout",
     "output_type": "stream",
     "text": [
      "The set cost function is ignored! LCB acquisition does not make sense with cost.\n",
      "ab\n"
     ]
    },
    {
     "name": "stderr",
     "output_type": "stream",
     "text": [
      "reconstraining parameters GP_regression.mul\n",
      "reconstraining parameters GP_regression.Gaussian_noise.variance\n",
      "[I 2019-04-14 18:23:40,190] Finished a trial resulted in value: -3.1330770318710854. Current best value is -3.1330770318710854 with parameters: {'a': 1.0, 'b': 0.6704866767783753, 'ab': [1.0, 0.6704866767783753]}.\n"
     ]
    },
    {
     "name": "stdout",
     "output_type": "stream",
     "text": [
      "The set cost function is ignored! LCB acquisition does not make sense with cost.\n",
      "ab\n"
     ]
    },
    {
     "name": "stderr",
     "output_type": "stream",
     "text": [
      "reconstraining parameters GP_regression.mul\n",
      "reconstraining parameters GP_regression.Gaussian_noise.variance\n",
      "[I 2019-04-14 18:24:21,329] Finished a trial resulted in value: -2.6813918214041355. Current best value is -3.1330770318710854 with parameters: {'a': 1.0, 'b': 0.6704866767783753, 'ab': [1.0, 0.6704866767783753]}.\n"
     ]
    },
    {
     "name": "stdout",
     "output_type": "stream",
     "text": [
      "The set cost function is ignored! LCB acquisition does not make sense with cost.\n",
      "ab\n"
     ]
    },
    {
     "name": "stderr",
     "output_type": "stream",
     "text": [
      "reconstraining parameters GP_regression.mul\n",
      "reconstraining parameters GP_regression.Gaussian_noise.variance\n",
      "[I 2019-04-14 18:25:02,716] Finished a trial resulted in value: -2.8637023312585628. Current best value is -3.1330770318710854 with parameters: {'a': 1.0, 'b': 0.6704866767783753, 'ab': [1.0, 0.6704866767783753]}.\n"
     ]
    },
    {
     "name": "stdout",
     "output_type": "stream",
     "text": [
      "The set cost function is ignored! LCB acquisition does not make sense with cost.\n",
      "ab\n"
     ]
    },
    {
     "name": "stderr",
     "output_type": "stream",
     "text": [
      "reconstraining parameters GP_regression.mul\n",
      "reconstraining parameters GP_regression.Gaussian_noise.variance\n",
      "[I 2019-04-14 18:25:46,089] Finished a trial resulted in value: -2.750000315083547. Current best value is -3.1330770318710854 with parameters: {'a': 1.0, 'b': 0.6704866767783753, 'ab': [1.0, 0.6704866767783753]}.\n"
     ]
    },
    {
     "name": "stdout",
     "output_type": "stream",
     "text": [
      "The set cost function is ignored! LCB acquisition does not make sense with cost.\n",
      "ab\n"
     ]
    },
    {
     "name": "stderr",
     "output_type": "stream",
     "text": [
      "reconstraining parameters GP_regression.mul\n",
      "reconstraining parameters GP_regression.Gaussian_noise.variance\n",
      "[I 2019-04-14 18:26:27,847] Finished a trial resulted in value: -2.742498701806224. Current best value is -3.1330770318710854 with parameters: {'a': 1.0, 'b': 0.6704866767783753, 'ab': [1.0, 0.6704866767783753]}.\n"
     ]
    },
    {
     "name": "stdout",
     "output_type": "stream",
     "text": [
      "The set cost function is ignored! LCB acquisition does not make sense with cost.\n",
      "ab\n"
     ]
    },
    {
     "name": "stderr",
     "output_type": "stream",
     "text": [
      "reconstraining parameters GP_regression.mul\n",
      "reconstraining parameters GP_regression.Gaussian_noise.variance\n",
      "[I 2019-04-14 18:27:11,574] Finished a trial resulted in value: -2.755707184614644. Current best value is -3.1330770318710854 with parameters: {'a': 1.0, 'b': 0.6704866767783753, 'ab': [1.0, 0.6704866767783753]}.\n"
     ]
    },
    {
     "name": "stdout",
     "output_type": "stream",
     "text": [
      "The set cost function is ignored! LCB acquisition does not make sense with cost.\n",
      "ab\n"
     ]
    },
    {
     "name": "stderr",
     "output_type": "stream",
     "text": [
      "reconstraining parameters GP_regression.mul\n",
      "reconstraining parameters GP_regression.Gaussian_noise.variance\n",
      "[I 2019-04-14 18:27:53,491] Finished a trial resulted in value: -2.849545569385616. Current best value is -3.1330770318710854 with parameters: {'a': 1.0, 'b': 0.6704866767783753, 'ab': [1.0, 0.6704866767783753]}.\n"
     ]
    },
    {
     "name": "stdout",
     "output_type": "stream",
     "text": [
      "The set cost function is ignored! LCB acquisition does not make sense with cost.\n",
      "ab\n"
     ]
    },
    {
     "name": "stderr",
     "output_type": "stream",
     "text": [
      "reconstraining parameters GP_regression.mul\n",
      "reconstraining parameters GP_regression.Gaussian_noise.variance\n",
      "[I 2019-04-14 18:28:37,260] Finished a trial resulted in value: -2.715697943699514. Current best value is -3.1330770318710854 with parameters: {'a': 1.0, 'b': 0.6704866767783753, 'ab': [1.0, 0.6704866767783753]}.\n"
     ]
    },
    {
     "name": "stdout",
     "output_type": "stream",
     "text": [
      "The set cost function is ignored! LCB acquisition does not make sense with cost.\n",
      "ab\n"
     ]
    },
    {
     "name": "stderr",
     "output_type": "stream",
     "text": [
      "reconstraining parameters GP_regression.mul\n",
      "reconstraining parameters GP_regression.Gaussian_noise.variance\n",
      "[I 2019-04-14 18:29:21,546] Finished a trial resulted in value: -2.941064882066089. Current best value is -3.1330770318710854 with parameters: {'a': 1.0, 'b': 0.6704866767783753, 'ab': [1.0, 0.6704866767783753]}.\n"
     ]
    },
    {
     "name": "stdout",
     "output_type": "stream",
     "text": [
      "The set cost function is ignored! LCB acquisition does not make sense with cost.\n",
      "ab\n"
     ]
    },
    {
     "name": "stderr",
     "output_type": "stream",
     "text": [
      "reconstraining parameters GP_regression.mul\n",
      "reconstraining parameters GP_regression.Gaussian_noise.variance\n",
      "[I 2019-04-14 18:30:04,803] Finished a trial resulted in value: -3.064526166854837. Current best value is -3.1330770318710854 with parameters: {'a': 1.0, 'b': 0.6704866767783753, 'ab': [1.0, 0.6704866767783753]}.\n"
     ]
    },
    {
     "name": "stdout",
     "output_type": "stream",
     "text": [
      "The set cost function is ignored! LCB acquisition does not make sense with cost.\n",
      "ab\n"
     ]
    },
    {
     "name": "stderr",
     "output_type": "stream",
     "text": [
      "reconstraining parameters GP_regression.mul\n",
      "reconstraining parameters GP_regression.Gaussian_noise.variance\n",
      "[I 2019-04-14 18:30:49,522] Finished a trial resulted in value: -2.910789158696461. Current best value is -3.1330770318710854 with parameters: {'a': 1.0, 'b': 0.6704866767783753, 'ab': [1.0, 0.6704866767783753]}.\n"
     ]
    },
    {
     "name": "stdout",
     "output_type": "stream",
     "text": [
      "The set cost function is ignored! LCB acquisition does not make sense with cost.\n",
      "ab\n"
     ]
    },
    {
     "name": "stderr",
     "output_type": "stream",
     "text": [
      "reconstraining parameters GP_regression.mul\n",
      "reconstraining parameters GP_regression.Gaussian_noise.variance\n",
      "[I 2019-04-14 18:31:30,840] Finished a trial resulted in value: -2.829271318568727. Current best value is -3.1330770318710854 with parameters: {'a': 1.0, 'b': 0.6704866767783753, 'ab': [1.0, 0.6704866767783753]}.\n"
     ]
    },
    {
     "name": "stdout",
     "output_type": "stream",
     "text": [
      "The set cost function is ignored! LCB acquisition does not make sense with cost.\n",
      "ab\n"
     ]
    },
    {
     "name": "stderr",
     "output_type": "stream",
     "text": [
      "reconstraining parameters GP_regression.mul\n",
      "reconstraining parameters GP_regression.Gaussian_noise.variance\n",
      "[I 2019-04-14 18:32:13,334] Finished a trial resulted in value: -2.72490943418604. Current best value is -3.1330770318710854 with parameters: {'a': 1.0, 'b': 0.6704866767783753, 'ab': [1.0, 0.6704866767783753]}.\n"
     ]
    },
    {
     "name": "stdout",
     "output_type": "stream",
     "text": [
      "The set cost function is ignored! LCB acquisition does not make sense with cost.\n",
      "ab\n"
     ]
    },
    {
     "name": "stderr",
     "output_type": "stream",
     "text": [
      "reconstraining parameters GP_regression.mul\n",
      "reconstraining parameters GP_regression.Gaussian_noise.variance\n",
      "[I 2019-04-14 18:32:57,168] Finished a trial resulted in value: -2.55773502114732. Current best value is -3.1330770318710854 with parameters: {'a': 1.0, 'b': 0.6704866767783753, 'ab': [1.0, 0.6704866767783753]}.\n"
     ]
    },
    {
     "name": "stdout",
     "output_type": "stream",
     "text": [
      "The set cost function is ignored! LCB acquisition does not make sense with cost.\n",
      "ab\n"
     ]
    },
    {
     "name": "stderr",
     "output_type": "stream",
     "text": [
      "reconstraining parameters GP_regression.mul\n",
      "reconstraining parameters GP_regression.Gaussian_noise.variance\n",
      "[I 2019-04-14 18:33:39,886] Finished a trial resulted in value: -2.4517248055281167. Current best value is -3.1330770318710854 with parameters: {'a': 1.0, 'b': 0.6704866767783753, 'ab': [1.0, 0.6704866767783753]}.\n"
     ]
    },
    {
     "name": "stdout",
     "output_type": "stream",
     "text": [
      "The set cost function is ignored! LCB acquisition does not make sense with cost.\n",
      "ab\n"
     ]
    },
    {
     "name": "stderr",
     "output_type": "stream",
     "text": [
      "reconstraining parameters GP_regression.mul\n",
      "reconstraining parameters GP_regression.Gaussian_noise.variance\n",
      "[I 2019-04-14 18:34:23,404] Finished a trial resulted in value: -2.7435881938464357. Current best value is -3.1330770318710854 with parameters: {'a': 1.0, 'b': 0.6704866767783753, 'ab': [1.0, 0.6704866767783753]}.\n"
     ]
    },
    {
     "name": "stdout",
     "output_type": "stream",
     "text": [
      "The set cost function is ignored! LCB acquisition does not make sense with cost.\n",
      "ab\n"
     ]
    },
    {
     "name": "stderr",
     "output_type": "stream",
     "text": [
      "reconstraining parameters GP_regression.mul\n",
      "reconstraining parameters GP_regression.Gaussian_noise.variance\n",
      "[I 2019-04-14 18:35:08,258] Finished a trial resulted in value: -2.8845814937102925. Current best value is -3.1330770318710854 with parameters: {'a': 1.0, 'b': 0.6704866767783753, 'ab': [1.0, 0.6704866767783753]}.\n"
     ]
    },
    {
     "name": "stdout",
     "output_type": "stream",
     "text": [
      "The set cost function is ignored! LCB acquisition does not make sense with cost.\n",
      "ab\n"
     ]
    },
    {
     "name": "stderr",
     "output_type": "stream",
     "text": [
      "reconstraining parameters GP_regression.mul\n",
      "reconstraining parameters GP_regression.Gaussian_noise.variance\n",
      "[I 2019-04-14 18:35:53,155] Finished a trial resulted in value: -3.097791240504918. Current best value is -3.1330770318710854 with parameters: {'a': 1.0, 'b': 0.6704866767783753, 'ab': [1.0, 0.6704866767783753]}.\n"
     ]
    },
    {
     "name": "stdout",
     "output_type": "stream",
     "text": [
      "The set cost function is ignored! LCB acquisition does not make sense with cost.\n",
      "ab\n"
     ]
    },
    {
     "name": "stderr",
     "output_type": "stream",
     "text": [
      "reconstraining parameters GP_regression.mul\n",
      "reconstraining parameters GP_regression.Gaussian_noise.variance\n",
      "[I 2019-04-14 18:36:36,537] Finished a trial resulted in value: -3.0627845752047174. Current best value is -3.1330770318710854 with parameters: {'a': 1.0, 'b': 0.6704866767783753, 'ab': [1.0, 0.6704866767783753]}.\n"
     ]
    },
    {
     "name": "stdout",
     "output_type": "stream",
     "text": [
      "The set cost function is ignored! LCB acquisition does not make sense with cost.\n",
      "ab\n"
     ]
    },
    {
     "name": "stderr",
     "output_type": "stream",
     "text": [
      "reconstraining parameters GP_regression.mul\n",
      "reconstraining parameters GP_regression.Gaussian_noise.variance\n",
      "[I 2019-04-14 18:37:21,483] Finished a trial resulted in value: -3.058878628465508. Current best value is -3.1330770318710854 with parameters: {'a': 1.0, 'b': 0.6704866767783753, 'ab': [1.0, 0.6704866767783753]}.\n"
     ]
    },
    {
     "name": "stdout",
     "output_type": "stream",
     "text": [
      "The set cost function is ignored! LCB acquisition does not make sense with cost.\n",
      "ab\n"
     ]
    },
    {
     "name": "stderr",
     "output_type": "stream",
     "text": [
      "reconstraining parameters GP_regression.mul\n",
      "reconstraining parameters GP_regression.Gaussian_noise.variance\n",
      "[I 2019-04-14 18:38:05,929] Finished a trial resulted in value: -2.8804431471310408. Current best value is -3.1330770318710854 with parameters: {'a': 1.0, 'b': 0.6704866767783753, 'ab': [1.0, 0.6704866767783753]}.\n"
     ]
    },
    {
     "name": "stdout",
     "output_type": "stream",
     "text": [
      "The set cost function is ignored! LCB acquisition does not make sense with cost.\n",
      "ab\n"
     ]
    },
    {
     "name": "stderr",
     "output_type": "stream",
     "text": [
      "reconstraining parameters GP_regression.mul\n",
      "reconstraining parameters GP_regression.Gaussian_noise.variance\n",
      "[I 2019-04-14 18:38:51,390] Finished a trial resulted in value: -2.4728991402015117. Current best value is -3.1330770318710854 with parameters: {'a': 1.0, 'b': 0.6704866767783753, 'ab': [1.0, 0.6704866767783753]}.\n"
     ]
    },
    {
     "name": "stdout",
     "output_type": "stream",
     "text": [
      "The set cost function is ignored! LCB acquisition does not make sense with cost.\n",
      "ab\n"
     ]
    },
    {
     "name": "stderr",
     "output_type": "stream",
     "text": [
      "reconstraining parameters GP_regression.mul\n",
      "reconstraining parameters GP_regression.Gaussian_noise.variance\n",
      "[I 2019-04-14 18:39:36,007] Finished a trial resulted in value: -2.2395589994722522. Current best value is -3.1330770318710854 with parameters: {'a': 1.0, 'b': 0.6704866767783753, 'ab': [1.0, 0.6704866767783753]}.\n"
     ]
    },
    {
     "name": "stdout",
     "output_type": "stream",
     "text": [
      "The set cost function is ignored! LCB acquisition does not make sense with cost.\n",
      "ab\n"
     ]
    },
    {
     "name": "stderr",
     "output_type": "stream",
     "text": [
      "reconstraining parameters GP_regression.mul\n",
      "reconstraining parameters GP_regression.Gaussian_noise.variance\n",
      "[I 2019-04-14 18:40:24,630] Finished a trial resulted in value: -2.321645795580291. Current best value is -3.1330770318710854 with parameters: {'a': 1.0, 'b': 0.6704866767783753, 'ab': [1.0, 0.6704866767783753]}.\n"
     ]
    },
    {
     "name": "stdout",
     "output_type": "stream",
     "text": [
      "The set cost function is ignored! LCB acquisition does not make sense with cost.\n",
      "ab\n"
     ]
    },
    {
     "name": "stderr",
     "output_type": "stream",
     "text": [
      "reconstraining parameters GP_regression.mul\n",
      "reconstraining parameters GP_regression.Gaussian_noise.variance\n",
      "[I 2019-04-14 18:41:10,598] Finished a trial resulted in value: -2.7183287412462134. Current best value is -3.1330770318710854 with parameters: {'a': 1.0, 'b': 0.6704866767783753, 'ab': [1.0, 0.6704866767783753]}.\n"
     ]
    },
    {
     "name": "stdout",
     "output_type": "stream",
     "text": [
      "The set cost function is ignored! LCB acquisition does not make sense with cost.\n",
      "ab\n"
     ]
    },
    {
     "name": "stderr",
     "output_type": "stream",
     "text": [
      "reconstraining parameters GP_regression.mul\n",
      "reconstraining parameters GP_regression.Gaussian_noise.variance\n",
      "[I 2019-04-14 18:41:56,556] Finished a trial resulted in value: -2.8072192934757907. Current best value is -3.1330770318710854 with parameters: {'a': 1.0, 'b': 0.6704866767783753, 'ab': [1.0, 0.6704866767783753]}.\n"
     ]
    },
    {
     "name": "stdout",
     "output_type": "stream",
     "text": [
      "The set cost function is ignored! LCB acquisition does not make sense with cost.\n",
      "ab\n"
     ]
    },
    {
     "name": "stderr",
     "output_type": "stream",
     "text": [
      "reconstraining parameters GP_regression.mul\n",
      "reconstraining parameters GP_regression.Gaussian_noise.variance\n",
      "[I 2019-04-14 18:42:42,822] Finished a trial resulted in value: -2.6332853826875873. Current best value is -3.1330770318710854 with parameters: {'a': 1.0, 'b': 0.6704866767783753, 'ab': [1.0, 0.6704866767783753]}.\n"
     ]
    },
    {
     "name": "stdout",
     "output_type": "stream",
     "text": [
      "The set cost function is ignored! LCB acquisition does not make sense with cost.\n",
      "ab\n"
     ]
    },
    {
     "name": "stderr",
     "output_type": "stream",
     "text": [
      "reconstraining parameters GP_regression.mul\n",
      "reconstraining parameters GP_regression.Gaussian_noise.variance\n",
      "[I 2019-04-14 18:43:28,621] Finished a trial resulted in value: -2.6464286601053777. Current best value is -3.1330770318710854 with parameters: {'a': 1.0, 'b': 0.6704866767783753, 'ab': [1.0, 0.6704866767783753]}.\n"
     ]
    },
    {
     "name": "stdout",
     "output_type": "stream",
     "text": [
      "The set cost function is ignored! LCB acquisition does not make sense with cost.\n",
      "ab\n"
     ]
    },
    {
     "name": "stderr",
     "output_type": "stream",
     "text": [
      "reconstraining parameters GP_regression.mul\n",
      "reconstraining parameters GP_regression.Gaussian_noise.variance\n",
      "[I 2019-04-14 18:44:15,185] Finished a trial resulted in value: -2.5331869941821314. Current best value is -3.1330770318710854 with parameters: {'a': 1.0, 'b': 0.6704866767783753, 'ab': [1.0, 0.6704866767783753]}.\n"
     ]
    },
    {
     "name": "stdout",
     "output_type": "stream",
     "text": [
      "The set cost function is ignored! LCB acquisition does not make sense with cost.\n",
      "ab\n"
     ]
    },
    {
     "name": "stderr",
     "output_type": "stream",
     "text": [
      "reconstraining parameters GP_regression.mul\n",
      "reconstraining parameters GP_regression.Gaussian_noise.variance\n",
      "[I 2019-04-14 18:45:01,508] Finished a trial resulted in value: -2.4217395933954236. Current best value is -3.1330770318710854 with parameters: {'a': 1.0, 'b': 0.6704866767783753, 'ab': [1.0, 0.6704866767783753]}.\n"
     ]
    },
    {
     "name": "stdout",
     "output_type": "stream",
     "text": [
      "The set cost function is ignored! LCB acquisition does not make sense with cost.\n",
      "ab\n"
     ]
    },
    {
     "name": "stderr",
     "output_type": "stream",
     "text": [
      "reconstraining parameters GP_regression.mul\n",
      "reconstraining parameters GP_regression.Gaussian_noise.variance\n",
      "[I 2019-04-14 18:45:53,408] Finished a trial resulted in value: -2.2717902078172565. Current best value is -3.1330770318710854 with parameters: {'a': 1.0, 'b': 0.6704866767783753, 'ab': [1.0, 0.6704866767783753]}.\n"
     ]
    },
    {
     "name": "stdout",
     "output_type": "stream",
     "text": [
      "The set cost function is ignored! LCB acquisition does not make sense with cost.\n",
      "ab\n"
     ]
    },
    {
     "name": "stderr",
     "output_type": "stream",
     "text": [
      "reconstraining parameters GP_regression.mul\n",
      "reconstraining parameters GP_regression.Gaussian_noise.variance\n",
      "[I 2019-04-14 18:46:38,784] Finished a trial resulted in value: -2.1004424872893313. Current best value is -3.1330770318710854 with parameters: {'a': 1.0, 'b': 0.6704866767783753, 'ab': [1.0, 0.6704866767783753]}.\n"
     ]
    },
    {
     "name": "stdout",
     "output_type": "stream",
     "text": [
      "The set cost function is ignored! LCB acquisition does not make sense with cost.\n",
      "ab\n"
     ]
    },
    {
     "name": "stderr",
     "output_type": "stream",
     "text": [
      "reconstraining parameters GP_regression.mul\n",
      "reconstraining parameters GP_regression.Gaussian_noise.variance\n",
      "[I 2019-04-14 18:47:23,545] Finished a trial resulted in value: -1.4632728798454795. Current best value is -3.1330770318710854 with parameters: {'a': 1.0, 'b': 0.6704866767783753, 'ab': [1.0, 0.6704866767783753]}.\n"
     ]
    },
    {
     "name": "stdout",
     "output_type": "stream",
     "text": [
      "The set cost function is ignored! LCB acquisition does not make sense with cost.\n",
      "ab\n"
     ]
    },
    {
     "name": "stderr",
     "output_type": "stream",
     "text": [
      "reconstraining parameters GP_regression.mul\n",
      "reconstraining parameters GP_regression.Gaussian_noise.variance\n",
      "[I 2019-04-14 18:48:16,670] Finished a trial resulted in value: -2.182926248665961. Current best value is -3.1330770318710854 with parameters: {'a': 1.0, 'b': 0.6704866767783753, 'ab': [1.0, 0.6704866767783753]}.\n"
     ]
    },
    {
     "name": "stdout",
     "output_type": "stream",
     "text": [
      "The set cost function is ignored! LCB acquisition does not make sense with cost.\n",
      "ab\n"
     ]
    },
    {
     "name": "stderr",
     "output_type": "stream",
     "text": [
      "reconstraining parameters GP_regression.mul\n",
      "reconstraining parameters GP_regression.Gaussian_noise.variance\n",
      "[I 2019-04-14 18:49:06,333] Finished a trial resulted in value: -2.3858912664322167. Current best value is -3.1330770318710854 with parameters: {'a': 1.0, 'b': 0.6704866767783753, 'ab': [1.0, 0.6704866767783753]}.\n"
     ]
    },
    {
     "name": "stdout",
     "output_type": "stream",
     "text": [
      "The set cost function is ignored! LCB acquisition does not make sense with cost.\n",
      "ab\n"
     ]
    },
    {
     "name": "stderr",
     "output_type": "stream",
     "text": [
      "reconstraining parameters GP_regression.mul\n",
      "reconstraining parameters GP_regression.Gaussian_noise.variance\n",
      "[I 2019-04-14 18:49:59,937] Finished a trial resulted in value: -2.651756247397065. Current best value is -3.1330770318710854 with parameters: {'a': 1.0, 'b': 0.6704866767783753, 'ab': [1.0, 0.6704866767783753]}.\n"
     ]
    },
    {
     "name": "stdout",
     "output_type": "stream",
     "text": [
      "The set cost function is ignored! LCB acquisition does not make sense with cost.\n",
      "ab\n"
     ]
    },
    {
     "name": "stderr",
     "output_type": "stream",
     "text": [
      "reconstraining parameters GP_regression.mul\n",
      "reconstraining parameters GP_regression.Gaussian_noise.variance\n",
      "[I 2019-04-14 18:50:51,202] Finished a trial resulted in value: -2.676529789847981. Current best value is -3.1330770318710854 with parameters: {'a': 1.0, 'b': 0.6704866767783753, 'ab': [1.0, 0.6704866767783753]}.\n"
     ]
    },
    {
     "name": "stdout",
     "output_type": "stream",
     "text": [
      "The set cost function is ignored! LCB acquisition does not make sense with cost.\n",
      "ab\n"
     ]
    },
    {
     "name": "stderr",
     "output_type": "stream",
     "text": [
      "reconstraining parameters GP_regression.mul\n",
      "reconstraining parameters GP_regression.Gaussian_noise.variance\n",
      "[I 2019-04-14 18:51:48,934] Finished a trial resulted in value: -2.1448401851579897. Current best value is -3.1330770318710854 with parameters: {'a': 1.0, 'b': 0.6704866767783753, 'ab': [1.0, 0.6704866767783753]}.\n"
     ]
    },
    {
     "name": "stdout",
     "output_type": "stream",
     "text": [
      "The set cost function is ignored! LCB acquisition does not make sense with cost.\n",
      "ab\n"
     ]
    },
    {
     "name": "stderr",
     "output_type": "stream",
     "text": [
      "reconstraining parameters GP_regression.mul\n",
      "reconstraining parameters GP_regression.Gaussian_noise.variance\n",
      "[I 2019-04-14 18:52:39,889] Finished a trial resulted in value: -2.816794006661278. Current best value is -3.1330770318710854 with parameters: {'a': 1.0, 'b': 0.6704866767783753, 'ab': [1.0, 0.6704866767783753]}.\n"
     ]
    },
    {
     "name": "stdout",
     "output_type": "stream",
     "text": [
      "The set cost function is ignored! LCB acquisition does not make sense with cost.\n",
      "ab\n"
     ]
    },
    {
     "name": "stderr",
     "output_type": "stream",
     "text": [
      "reconstraining parameters GP_regression.mul\n",
      "reconstraining parameters GP_regression.Gaussian_noise.variance\n",
      "[I 2019-04-14 18:53:38,625] Finished a trial resulted in value: -2.7764085842870188. Current best value is -3.1330770318710854 with parameters: {'a': 1.0, 'b': 0.6704866767783753, 'ab': [1.0, 0.6704866767783753]}.\n"
     ]
    },
    {
     "name": "stdout",
     "output_type": "stream",
     "text": [
      "The set cost function is ignored! LCB acquisition does not make sense with cost.\n",
      "ab\n"
     ]
    },
    {
     "name": "stderr",
     "output_type": "stream",
     "text": [
      "reconstraining parameters GP_regression.mul\n",
      "reconstraining parameters GP_regression.Gaussian_noise.variance\n",
      "[I 2019-04-14 18:54:31,429] Finished a trial resulted in value: -2.9570651668330115. Current best value is -3.1330770318710854 with parameters: {'a': 1.0, 'b': 0.6704866767783753, 'ab': [1.0, 0.6704866767783753]}.\n"
     ]
    },
    {
     "name": "stdout",
     "output_type": "stream",
     "text": [
      "The set cost function is ignored! LCB acquisition does not make sense with cost.\n",
      "ab\n"
     ]
    },
    {
     "name": "stderr",
     "output_type": "stream",
     "text": [
      "reconstraining parameters GP_regression.mul\n",
      "reconstraining parameters GP_regression.Gaussian_noise.variance\n",
      "[I 2019-04-14 18:55:24,464] Finished a trial resulted in value: -3.0084689729215226. Current best value is -3.1330770318710854 with parameters: {'a': 1.0, 'b': 0.6704866767783753, 'ab': [1.0, 0.6704866767783753]}.\n"
     ]
    },
    {
     "name": "stdout",
     "output_type": "stream",
     "text": [
      "The set cost function is ignored! LCB acquisition does not make sense with cost.\n",
      "ab\n"
     ]
    },
    {
     "name": "stderr",
     "output_type": "stream",
     "text": [
      "reconstraining parameters GP_regression.mul\n",
      "reconstraining parameters GP_regression.Gaussian_noise.variance\n",
      "[I 2019-04-14 18:56:18,719] Finished a trial resulted in value: -2.769685686464538. Current best value is -3.1330770318710854 with parameters: {'a': 1.0, 'b': 0.6704866767783753, 'ab': [1.0, 0.6704866767783753]}.\n"
     ]
    },
    {
     "name": "stdout",
     "output_type": "stream",
     "text": [
      "The set cost function is ignored! LCB acquisition does not make sense with cost.\n",
      "ab\n"
     ]
    },
    {
     "name": "stderr",
     "output_type": "stream",
     "text": [
      "reconstraining parameters GP_regression.mul\n",
      "reconstraining parameters GP_regression.Gaussian_noise.variance\n",
      "[I 2019-04-14 18:57:10,055] Finished a trial resulted in value: -2.619350132569056. Current best value is -3.1330770318710854 with parameters: {'a': 1.0, 'b': 0.6704866767783753, 'ab': [1.0, 0.6704866767783753]}.\n"
     ]
    },
    {
     "name": "stdout",
     "output_type": "stream",
     "text": [
      "The set cost function is ignored! LCB acquisition does not make sense with cost.\n",
      "ab\n"
     ]
    },
    {
     "name": "stderr",
     "output_type": "stream",
     "text": [
      "reconstraining parameters GP_regression.mul\n",
      "reconstraining parameters GP_regression.Gaussian_noise.variance\n",
      "[I 2019-04-14 18:58:04,995] Finished a trial resulted in value: -2.434294888614145. Current best value is -3.1330770318710854 with parameters: {'a': 1.0, 'b': 0.6704866767783753, 'ab': [1.0, 0.6704866767783753]}.\n"
     ]
    },
    {
     "name": "stdout",
     "output_type": "stream",
     "text": [
      "The set cost function is ignored! LCB acquisition does not make sense with cost.\n",
      "ab\n"
     ]
    },
    {
     "name": "stderr",
     "output_type": "stream",
     "text": [
      "reconstraining parameters GP_regression.mul\n",
      "reconstraining parameters GP_regression.Gaussian_noise.variance\n",
      "[I 2019-04-14 18:59:03,773] Finished a trial resulted in value: -2.095888233664567. Current best value is -3.1330770318710854 with parameters: {'a': 1.0, 'b': 0.6704866767783753, 'ab': [1.0, 0.6704866767783753]}.\n"
     ]
    },
    {
     "name": "stdout",
     "output_type": "stream",
     "text": [
      "The set cost function is ignored! LCB acquisition does not make sense with cost.\n",
      "ab\n"
     ]
    },
    {
     "name": "stderr",
     "output_type": "stream",
     "text": [
      "reconstraining parameters GP_regression.mul\n",
      "reconstraining parameters GP_regression.Gaussian_noise.variance\n",
      "[I 2019-04-14 18:59:59,704] Finished a trial resulted in value: -2.123778013406395. Current best value is -3.1330770318710854 with parameters: {'a': 1.0, 'b': 0.6704866767783753, 'ab': [1.0, 0.6704866767783753]}.\n"
     ]
    },
    {
     "name": "stdout",
     "output_type": "stream",
     "text": [
      "The set cost function is ignored! LCB acquisition does not make sense with cost.\n",
      "ab\n"
     ]
    },
    {
     "name": "stderr",
     "output_type": "stream",
     "text": [
      "reconstraining parameters GP_regression.mul\n",
      "reconstraining parameters GP_regression.Gaussian_noise.variance\n",
      "[I 2019-04-14 19:01:04,675] Finished a trial resulted in value: -2.6056324573963736. Current best value is -3.1330770318710854 with parameters: {'a': 1.0, 'b': 0.6704866767783753, 'ab': [1.0, 0.6704866767783753]}.\n"
     ]
    },
    {
     "name": "stdout",
     "output_type": "stream",
     "text": [
      "The set cost function is ignored! LCB acquisition does not make sense with cost.\n",
      "ab\n"
     ]
    },
    {
     "name": "stderr",
     "output_type": "stream",
     "text": [
      "reconstraining parameters GP_regression.mul\n",
      "reconstraining parameters GP_regression.Gaussian_noise.variance\n",
      "[I 2019-04-14 19:02:03,999] Finished a trial resulted in value: -2.6200317480640027. Current best value is -3.1330770318710854 with parameters: {'a': 1.0, 'b': 0.6704866767783753, 'ab': [1.0, 0.6704866767783753]}.\n"
     ]
    },
    {
     "name": "stdout",
     "output_type": "stream",
     "text": [
      "The set cost function is ignored! LCB acquisition does not make sense with cost.\n",
      "ab\n"
     ]
    },
    {
     "name": "stderr",
     "output_type": "stream",
     "text": [
      "reconstraining parameters GP_regression.mul\n",
      "reconstraining parameters GP_regression.Gaussian_noise.variance\n",
      "[I 2019-04-14 19:02:57,603] Finished a trial resulted in value: -2.577324783788766. Current best value is -3.1330770318710854 with parameters: {'a': 1.0, 'b': 0.6704866767783753, 'ab': [1.0, 0.6704866767783753]}.\n"
     ]
    },
    {
     "name": "stdout",
     "output_type": "stream",
     "text": [
      "The set cost function is ignored! LCB acquisition does not make sense with cost.\n",
      "ab\n"
     ]
    },
    {
     "name": "stderr",
     "output_type": "stream",
     "text": [
      "reconstraining parameters GP_regression.mul\n",
      "reconstraining parameters GP_regression.Gaussian_noise.variance\n",
      "[I 2019-04-14 19:03:50,657] Finished a trial resulted in value: -0.6685333490398773. Current best value is -3.1330770318710854 with parameters: {'a': 1.0, 'b': 0.6704866767783753, 'ab': [1.0, 0.6704866767783753]}.\n"
     ]
    },
    {
     "name": "stdout",
     "output_type": "stream",
     "text": [
      "The set cost function is ignored! LCB acquisition does not make sense with cost.\n",
      "ab\n"
     ]
    },
    {
     "name": "stderr",
     "output_type": "stream",
     "text": [
      "reconstraining parameters GP_regression.mul\n",
      "reconstraining parameters GP_regression.Gaussian_noise.variance\n",
      "[I 2019-04-14 19:04:52,953] Finished a trial resulted in value: -2.579758178686469. Current best value is -3.1330770318710854 with parameters: {'a': 1.0, 'b': 0.6704866767783753, 'ab': [1.0, 0.6704866767783753]}.\n"
     ]
    },
    {
     "name": "stdout",
     "output_type": "stream",
     "text": [
      "The set cost function is ignored! LCB acquisition does not make sense with cost.\n",
      "ab\n"
     ]
    },
    {
     "name": "stderr",
     "output_type": "stream",
     "text": [
      "reconstraining parameters GP_regression.mul\n",
      "reconstraining parameters GP_regression.Gaussian_noise.variance\n",
      "[I 2019-04-14 19:05:55,895] Finished a trial resulted in value: -2.724304976198595. Current best value is -3.1330770318710854 with parameters: {'a': 1.0, 'b': 0.6704866767783753, 'ab': [1.0, 0.6704866767783753]}.\n"
     ]
    },
    {
     "name": "stdout",
     "output_type": "stream",
     "text": [
      "The set cost function is ignored! LCB acquisition does not make sense with cost.\n",
      "ab\n"
     ]
    },
    {
     "name": "stderr",
     "output_type": "stream",
     "text": [
      "reconstraining parameters GP_regression.mul\n",
      "reconstraining parameters GP_regression.Gaussian_noise.variance\n",
      "[I 2019-04-14 19:06:58,083] Finished a trial resulted in value: -2.7520978746840936. Current best value is -3.1330770318710854 with parameters: {'a': 1.0, 'b': 0.6704866767783753, 'ab': [1.0, 0.6704866767783753]}.\n"
     ]
    },
    {
     "name": "stdout",
     "output_type": "stream",
     "text": [
      "The set cost function is ignored! LCB acquisition does not make sense with cost.\n",
      "ab\n"
     ]
    },
    {
     "name": "stderr",
     "output_type": "stream",
     "text": [
      "reconstraining parameters GP_regression.mul\n",
      "reconstraining parameters GP_regression.Gaussian_noise.variance\n",
      "[I 2019-04-14 19:07:59,066] Finished a trial resulted in value: -2.7437215658803633. Current best value is -3.1330770318710854 with parameters: {'a': 1.0, 'b': 0.6704866767783753, 'ab': [1.0, 0.6704866767783753]}.\n"
     ]
    },
    {
     "name": "stdout",
     "output_type": "stream",
     "text": [
      "The set cost function is ignored! LCB acquisition does not make sense with cost.\n",
      "ab\n"
     ]
    },
    {
     "name": "stderr",
     "output_type": "stream",
     "text": [
      "reconstraining parameters GP_regression.mul\n",
      "reconstraining parameters GP_regression.Gaussian_noise.variance\n",
      "[I 2019-04-14 19:09:01,053] Finished a trial resulted in value: -2.72594133278203. Current best value is -3.1330770318710854 with parameters: {'a': 1.0, 'b': 0.6704866767783753, 'ab': [1.0, 0.6704866767783753]}.\n"
     ]
    },
    {
     "name": "stdout",
     "output_type": "stream",
     "text": [
      "The set cost function is ignored! LCB acquisition does not make sense with cost.\n",
      "ab\n"
     ]
    },
    {
     "name": "stderr",
     "output_type": "stream",
     "text": [
      "reconstraining parameters GP_regression.mul\n",
      "reconstraining parameters GP_regression.Gaussian_noise.variance\n",
      "[I 2019-04-14 19:10:03,403] Finished a trial resulted in value: -2.8130821442906844. Current best value is -3.1330770318710854 with parameters: {'a': 1.0, 'b': 0.6704866767783753, 'ab': [1.0, 0.6704866767783753]}.\n"
     ]
    },
    {
     "name": "stdout",
     "output_type": "stream",
     "text": [
      "The set cost function is ignored! LCB acquisition does not make sense with cost.\n",
      "ab\n"
     ]
    },
    {
     "name": "stderr",
     "output_type": "stream",
     "text": [
      "reconstraining parameters GP_regression.mul\n",
      "reconstraining parameters GP_regression.Gaussian_noise.variance\n",
      "[I 2019-04-14 19:11:03,754] Finished a trial resulted in value: -2.8038247232028892. Current best value is -3.1330770318710854 with parameters: {'a': 1.0, 'b': 0.6704866767783753, 'ab': [1.0, 0.6704866767783753]}.\n"
     ]
    },
    {
     "name": "stdout",
     "output_type": "stream",
     "text": [
      "The set cost function is ignored! LCB acquisition does not make sense with cost.\n",
      "ab\n"
     ]
    },
    {
     "name": "stderr",
     "output_type": "stream",
     "text": [
      "reconstraining parameters GP_regression.mul\n",
      "reconstraining parameters GP_regression.Gaussian_noise.variance\n",
      "[I 2019-04-14 19:12:06,538] Finished a trial resulted in value: -2.8132822207880084. Current best value is -3.1330770318710854 with parameters: {'a': 1.0, 'b': 0.6704866767783753, 'ab': [1.0, 0.6704866767783753]}.\n"
     ]
    },
    {
     "name": "stdout",
     "output_type": "stream",
     "text": [
      "The set cost function is ignored! LCB acquisition does not make sense with cost.\n",
      "ab\n"
     ]
    },
    {
     "name": "stderr",
     "output_type": "stream",
     "text": [
      "reconstraining parameters GP_regression.mul\n",
      "reconstraining parameters GP_regression.Gaussian_noise.variance\n",
      "[I 2019-04-14 19:13:08,855] Finished a trial resulted in value: -2.758186574997644. Current best value is -3.1330770318710854 with parameters: {'a': 1.0, 'b': 0.6704866767783753, 'ab': [1.0, 0.6704866767783753]}.\n"
     ]
    },
    {
     "name": "stdout",
     "output_type": "stream",
     "text": [
      "The set cost function is ignored! LCB acquisition does not make sense with cost.\n",
      "ab\n"
     ]
    },
    {
     "name": "stderr",
     "output_type": "stream",
     "text": [
      "reconstraining parameters GP_regression.mul\n",
      "reconstraining parameters GP_regression.Gaussian_noise.variance\n",
      "[I 2019-04-14 19:14:10,978] Finished a trial resulted in value: -2.8065347326575094. Current best value is -3.1330770318710854 with parameters: {'a': 1.0, 'b': 0.6704866767783753, 'ab': [1.0, 0.6704866767783753]}.\n"
     ]
    },
    {
     "name": "stdout",
     "output_type": "stream",
     "text": [
      "The set cost function is ignored! LCB acquisition does not make sense with cost.\n",
      "ab\n"
     ]
    },
    {
     "name": "stderr",
     "output_type": "stream",
     "text": [
      "reconstraining parameters GP_regression.mul\n",
      "reconstraining parameters GP_regression.Gaussian_noise.variance\n",
      "[I 2019-04-14 19:15:14,373] Finished a trial resulted in value: -2.7732110653505613. Current best value is -3.1330770318710854 with parameters: {'a': 1.0, 'b': 0.6704866767783753, 'ab': [1.0, 0.6704866767783753]}.\n"
     ]
    },
    {
     "name": "stdout",
     "output_type": "stream",
     "text": [
      "The set cost function is ignored! LCB acquisition does not make sense with cost.\n",
      "ab\n"
     ]
    },
    {
     "name": "stderr",
     "output_type": "stream",
     "text": [
      "reconstraining parameters GP_regression.mul\n",
      "reconstraining parameters GP_regression.Gaussian_noise.variance\n",
      "[I 2019-04-14 19:16:18,224] Finished a trial resulted in value: -2.566885026023492. Current best value is -3.1330770318710854 with parameters: {'a': 1.0, 'b': 0.6704866767783753, 'ab': [1.0, 0.6704866767783753]}.\n"
     ]
    },
    {
     "name": "stdout",
     "output_type": "stream",
     "text": [
      "The set cost function is ignored! LCB acquisition does not make sense with cost.\n",
      "ab\n"
     ]
    },
    {
     "name": "stderr",
     "output_type": "stream",
     "text": [
      "reconstraining parameters GP_regression.mul\n",
      "reconstraining parameters GP_regression.Gaussian_noise.variance\n",
      "[I 2019-04-14 19:17:21,194] Finished a trial resulted in value: -2.4051641205869934. Current best value is -3.1330770318710854 with parameters: {'a': 1.0, 'b': 0.6704866767783753, 'ab': [1.0, 0.6704866767783753]}.\n"
     ]
    },
    {
     "name": "stdout",
     "output_type": "stream",
     "text": [
      "The set cost function is ignored! LCB acquisition does not make sense with cost.\n",
      "ab\n"
     ]
    },
    {
     "name": "stderr",
     "output_type": "stream",
     "text": [
      "reconstraining parameters GP_regression.mul\n",
      "reconstraining parameters GP_regression.Gaussian_noise.variance\n",
      "[I 2019-04-14 19:18:22,767] Finished a trial resulted in value: -2.4216257789880506. Current best value is -3.1330770318710854 with parameters: {'a': 1.0, 'b': 0.6704866767783753, 'ab': [1.0, 0.6704866767783753]}.\n"
     ]
    },
    {
     "name": "stdout",
     "output_type": "stream",
     "text": [
      "The set cost function is ignored! LCB acquisition does not make sense with cost.\n",
      "ab\n"
     ]
    },
    {
     "name": "stderr",
     "output_type": "stream",
     "text": [
      "reconstraining parameters GP_regression.mul\n",
      "reconstraining parameters GP_regression.Gaussian_noise.variance\n",
      "[I 2019-04-14 19:19:30,074] Finished a trial resulted in value: -2.263761867701247. Current best value is -3.1330770318710854 with parameters: {'a': 1.0, 'b': 0.6704866767783753, 'ab': [1.0, 0.6704866767783753]}.\n"
     ]
    },
    {
     "name": "stdout",
     "output_type": "stream",
     "text": [
      "The set cost function is ignored! LCB acquisition does not make sense with cost.\n",
      "ab\n"
     ]
    },
    {
     "name": "stderr",
     "output_type": "stream",
     "text": [
      "reconstraining parameters GP_regression.mul\n",
      "reconstraining parameters GP_regression.Gaussian_noise.variance\n",
      "[I 2019-04-14 19:20:33,769] Finished a trial resulted in value: -1.8078950823656246. Current best value is -3.1330770318710854 with parameters: {'a': 1.0, 'b': 0.6704866767783753, 'ab': [1.0, 0.6704866767783753]}.\n"
     ]
    },
    {
     "name": "stdout",
     "output_type": "stream",
     "text": [
      "The set cost function is ignored! LCB acquisition does not make sense with cost.\n",
      "ab\n"
     ]
    },
    {
     "name": "stderr",
     "output_type": "stream",
     "text": [
      "reconstraining parameters GP_regression.mul\n",
      "reconstraining parameters GP_regression.Gaussian_noise.variance\n",
      "[I 2019-04-14 19:21:20,423] Finished a trial resulted in value: 1.1802644636118271. Current best value is -3.1330770318710854 with parameters: {'a': 1.0, 'b': 0.6704866767783753, 'ab': [1.0, 0.6704866767783753]}.\n"
     ]
    },
    {
     "name": "stdout",
     "output_type": "stream",
     "text": [
      "The set cost function is ignored! LCB acquisition does not make sense with cost.\n",
      "ab\n"
     ]
    },
    {
     "name": "stderr",
     "output_type": "stream",
     "text": [
      "reconstraining parameters GP_regression.mul\n",
      "reconstraining parameters GP_regression.Gaussian_noise.variance\n",
      "[I 2019-04-14 19:22:16,407] Finished a trial resulted in value: -1.2666460148468452. Current best value is -3.1330770318710854 with parameters: {'a': 1.0, 'b': 0.6704866767783753, 'ab': [1.0, 0.6704866767783753]}.\n"
     ]
    },
    {
     "name": "stdout",
     "output_type": "stream",
     "text": [
      "The set cost function is ignored! LCB acquisition does not make sense with cost.\n",
      "ab\n"
     ]
    },
    {
     "name": "stderr",
     "output_type": "stream",
     "text": [
      "reconstraining parameters GP_regression.mul\n",
      "reconstraining parameters GP_regression.Gaussian_noise.variance\n",
      "[I 2019-04-14 19:23:11,758] Finished a trial resulted in value: -1.7576581025988105. Current best value is -3.1330770318710854 with parameters: {'a': 1.0, 'b': 0.6704866767783753, 'ab': [1.0, 0.6704866767783753]}.\n"
     ]
    },
    {
     "name": "stdout",
     "output_type": "stream",
     "text": [
      "The set cost function is ignored! LCB acquisition does not make sense with cost.\n",
      "ab\n"
     ]
    },
    {
     "name": "stderr",
     "output_type": "stream",
     "text": [
      "reconstraining parameters GP_regression.mul\n",
      "reconstraining parameters GP_regression.Gaussian_noise.variance\n",
      "[I 2019-04-14 19:24:17,135] Finished a trial resulted in value: 0.6936720203366356. Current best value is -3.1330770318710854 with parameters: {'a': 1.0, 'b': 0.6704866767783753, 'ab': [1.0, 0.6704866767783753]}.\n"
     ]
    },
    {
     "name": "stdout",
     "output_type": "stream",
     "text": [
      "The set cost function is ignored! LCB acquisition does not make sense with cost.\n",
      "ab\n"
     ]
    },
    {
     "name": "stderr",
     "output_type": "stream",
     "text": [
      "reconstraining parameters GP_regression.mul\n",
      "reconstraining parameters GP_regression.Gaussian_noise.variance\n",
      "[I 2019-04-14 19:25:28,683] Finished a trial resulted in value: -1.622168326773304. Current best value is -3.1330770318710854 with parameters: {'a': 1.0, 'b': 0.6704866767783753, 'ab': [1.0, 0.6704866767783753]}.\n"
     ]
    },
    {
     "name": "stdout",
     "output_type": "stream",
     "text": [
      "The set cost function is ignored! LCB acquisition does not make sense with cost.\n",
      "ab\n"
     ]
    },
    {
     "name": "stderr",
     "output_type": "stream",
     "text": [
      "reconstraining parameters GP_regression.mul\n",
      "reconstraining parameters GP_regression.Gaussian_noise.variance\n",
      "[I 2019-04-14 19:26:48,758] Finished a trial resulted in value: -1.081387003428199. Current best value is -3.1330770318710854 with parameters: {'a': 1.0, 'b': 0.6704866767783753, 'ab': [1.0, 0.6704866767783753]}.\n"
     ]
    },
    {
     "name": "stdout",
     "output_type": "stream",
     "text": [
      "The set cost function is ignored! LCB acquisition does not make sense with cost.\n",
      "ab\n"
     ]
    },
    {
     "name": "stderr",
     "output_type": "stream",
     "text": [
      "reconstraining parameters GP_regression.mul\n",
      "reconstraining parameters GP_regression.Gaussian_noise.variance\n",
      "[I 2019-04-14 19:27:40,902] Finished a trial resulted in value: -0.8073673009247662. Current best value is -3.1330770318710854 with parameters: {'a': 1.0, 'b': 0.6704866767783753, 'ab': [1.0, 0.6704866767783753]}.\n"
     ]
    },
    {
     "name": "stdout",
     "output_type": "stream",
     "text": [
      "The set cost function is ignored! LCB acquisition does not make sense with cost.\n",
      "ab\n"
     ]
    },
    {
     "name": "stderr",
     "output_type": "stream",
     "text": [
      "reconstraining parameters GP_regression.mul\n",
      "reconstraining parameters GP_regression.Gaussian_noise.variance\n",
      "[I 2019-04-14 19:28:58,259] Finished a trial resulted in value: -2.0096405363870855. Current best value is -3.1330770318710854 with parameters: {'a': 1.0, 'b': 0.6704866767783753, 'ab': [1.0, 0.6704866767783753]}.\n"
     ]
    },
    {
     "name": "stdout",
     "output_type": "stream",
     "text": [
      "The set cost function is ignored! LCB acquisition does not make sense with cost.\n",
      "ab\n"
     ]
    },
    {
     "name": "stderr",
     "output_type": "stream",
     "text": [
      "reconstraining parameters GP_regression.mul\n",
      "reconstraining parameters GP_regression.Gaussian_noise.variance\n",
      "[I 2019-04-14 19:30:29,781] Finished a trial resulted in value: -1.9388815933650345. Current best value is -3.1330770318710854 with parameters: {'a': 1.0, 'b': 0.6704866767783753, 'ab': [1.0, 0.6704866767783753]}.\n"
     ]
    },
    {
     "name": "stdout",
     "output_type": "stream",
     "text": [
      "The set cost function is ignored! LCB acquisition does not make sense with cost.\n",
      "ab\n"
     ]
    },
    {
     "name": "stderr",
     "output_type": "stream",
     "text": [
      "reconstraining parameters GP_regression.mul\n",
      "reconstraining parameters GP_regression.Gaussian_noise.variance\n",
      "[I 2019-04-14 19:31:55,512] Finished a trial resulted in value: -1.9413876390965628. Current best value is -3.1330770318710854 with parameters: {'a': 1.0, 'b': 0.6704866767783753, 'ab': [1.0, 0.6704866767783753]}.\n"
     ]
    },
    {
     "name": "stdout",
     "output_type": "stream",
     "text": [
      "The set cost function is ignored! LCB acquisition does not make sense with cost.\n",
      "ab\n"
     ]
    },
    {
     "name": "stderr",
     "output_type": "stream",
     "text": [
      "reconstraining parameters GP_regression.mul\n",
      "reconstraining parameters GP_regression.Gaussian_noise.variance\n",
      "[I 2019-04-14 19:33:06,143] Finished a trial resulted in value: -1.48379285396801. Current best value is -3.1330770318710854 with parameters: {'a': 1.0, 'b': 0.6704866767783753, 'ab': [1.0, 0.6704866767783753]}.\n"
     ]
    },
    {
     "name": "stdout",
     "output_type": "stream",
     "text": [
      "The set cost function is ignored! LCB acquisition does not make sense with cost.\n",
      "ab\n"
     ]
    },
    {
     "name": "stderr",
     "output_type": "stream",
     "text": [
      "reconstraining parameters GP_regression.mul\n",
      "reconstraining parameters GP_regression.Gaussian_noise.variance\n",
      "[I 2019-04-14 19:34:09,676] Finished a trial resulted in value: -1.995037985366423. Current best value is -3.1330770318710854 with parameters: {'a': 1.0, 'b': 0.6704866767783753, 'ab': [1.0, 0.6704866767783753]}.\n"
     ]
    },
    {
     "name": "stdout",
     "output_type": "stream",
     "text": [
      "The set cost function is ignored! LCB acquisition does not make sense with cost.\n",
      "ab\n"
     ]
    },
    {
     "name": "stderr",
     "output_type": "stream",
     "text": [
      "reconstraining parameters GP_regression.mul\n",
      "reconstraining parameters GP_regression.Gaussian_noise.variance\n",
      "[I 2019-04-14 19:35:11,015] Finished a trial resulted in value: -2.275382829996138. Current best value is -3.1330770318710854 with parameters: {'a': 1.0, 'b': 0.6704866767783753, 'ab': [1.0, 0.6704866767783753]}.\n"
     ]
    },
    {
     "name": "stdout",
     "output_type": "stream",
     "text": [
      "The set cost function is ignored! LCB acquisition does not make sense with cost.\n",
      "ab\n"
     ]
    },
    {
     "name": "stderr",
     "output_type": "stream",
     "text": [
      "reconstraining parameters GP_regression.mul\n",
      "reconstraining parameters GP_regression.Gaussian_noise.variance\n",
      "[I 2019-04-14 19:36:16,939] Finished a trial resulted in value: -1.2227727025623278. Current best value is -3.1330770318710854 with parameters: {'a': 1.0, 'b': 0.6704866767783753, 'ab': [1.0, 0.6704866767783753]}.\n"
     ]
    },
    {
     "name": "stdout",
     "output_type": "stream",
     "text": [
      "The set cost function is ignored! LCB acquisition does not make sense with cost.\n",
      "ab\n"
     ]
    },
    {
     "name": "stderr",
     "output_type": "stream",
     "text": [
      "reconstraining parameters GP_regression.mul\n",
      "reconstraining parameters GP_regression.Gaussian_noise.variance\n",
      "[I 2019-04-14 19:37:30,077] Finished a trial resulted in value: -2.3333582986482733. Current best value is -3.1330770318710854 with parameters: {'a': 1.0, 'b': 0.6704866767783753, 'ab': [1.0, 0.6704866767783753]}.\n"
     ]
    },
    {
     "name": "stdout",
     "output_type": "stream",
     "text": [
      "The set cost function is ignored! LCB acquisition does not make sense with cost.\n",
      "ab\n"
     ]
    },
    {
     "name": "stderr",
     "output_type": "stream",
     "text": [
      "reconstraining parameters GP_regression.mul\n",
      "reconstraining parameters GP_regression.Gaussian_noise.variance\n",
      "[I 2019-04-14 19:38:48,719] Finished a trial resulted in value: -2.3518038157721928. Current best value is -3.1330770318710854 with parameters: {'a': 1.0, 'b': 0.6704866767783753, 'ab': [1.0, 0.6704866767783753]}.\n"
     ]
    }
   ],
   "source": [
    "sampler_dtv = optuna.samplers.DTVGPSampler()\n",
    "study_rbf_dtv = optuna.create_study(sampler=sampler_dtv)\n",
    "study_rbf_dtv.optimize(lambda t: - objevtive_rbf(t), n_trials=n_trials)"
   ]
  },
  {
   "cell_type": "code",
   "execution_count": 10,
   "metadata": {},
   "outputs": [],
   "source": [
    "t = -1\n",
    "quantization = int(np.sqrt(data.shape[1]))\n",
    "\n",
    "def quantize(a):\n",
    "    return np.argmin(np.abs(np.linspace(0., 1., quantization) - a))\n",
    "\n",
    "\n",
    "def fun_rbf(a, b):\n",
    "    global t\n",
    "    t += 1\n",
    "    i = quantize(a)\n",
    "    j = quantize(b)\n",
    "    time.sleep(1)\n",
    "    return data[t][i + quantization + j]\n",
    "\n",
    "\n",
    "def objevtive_rbf(trial):\n",
    "    a, b = trial.suggest_joint('ab',\n",
    "                               [['uniform', 'a', 0., 1.],\n",
    "                                ['uniform', 'b', 0., 1.]])\n",
    "    return fun_rbf(a, b)"
   ]
  },
  {
   "cell_type": "code",
   "execution_count": null,
   "metadata": {},
   "outputs": [
    {
     "name": "stdout",
     "output_type": "stream",
     "text": [
      "sampling end!. 2019-04-17 13:32:44.528469 2019-04-17 13:32:44.528677\n"
     ]
    },
    {
     "name": "stderr",
     "output_type": "stream",
     "text": [
      "[I 2019-04-17 13:32:45,536] Finished a trial resulted in value: -0.024412836166179314. Current best value is -0.024412836166179314 with parameters: {'a': 0.9940647289566589, 'b': 0.6168692960228193, 'ab': [0.9940647289566589, 0.6168692960228193]}.\n"
     ]
    },
    {
     "name": "stdout",
     "output_type": "stream",
     "text": [
      "sampling end!. 2019-04-17 13:32:45.539610 2019-04-17 13:32:45.539865\n"
     ]
    },
    {
     "name": "stderr",
     "output_type": "stream",
     "text": [
      "[I 2019-04-17 13:32:46,544] Finished a trial resulted in value: -0.14749635261750887. Current best value is -0.14749635261750887 with parameters: {'a': 0.9961236416393894, 'b': 0.46144816834798763, 'ab': [0.9961236416393894, 0.46144816834798763]}.\n"
     ]
    },
    {
     "name": "stdout",
     "output_type": "stream",
     "text": [
      "sampling end!. 2019-04-17 13:32:46.548113 2019-04-17 13:32:46.548425\n"
     ]
    },
    {
     "name": "stderr",
     "output_type": "stream",
     "text": [
      "[I 2019-04-17 13:32:47,552] Finished a trial resulted in value: 0.12020912552610816. Current best value is -0.14749635261750887 with parameters: {'a': 0.9961236416393894, 'b': 0.46144816834798763, 'ab': [0.9961236416393894, 0.46144816834798763]}.\n"
     ]
    },
    {
     "name": "stdout",
     "output_type": "stream",
     "text": [
      "sampling end!. 2019-04-17 13:32:47.555846 2019-04-17 13:32:47.556550\n"
     ]
    },
    {
     "name": "stderr",
     "output_type": "stream",
     "text": [
      "[I 2019-04-17 13:32:48,563] Finished a trial resulted in value: 0.04873249072534433. Current best value is -0.14749635261750887 with parameters: {'a': 0.9961236416393894, 'b': 0.46144816834798763, 'ab': [0.9961236416393894, 0.46144816834798763]}.\n"
     ]
    },
    {
     "name": "stdout",
     "output_type": "stream",
     "text": [
      "sampling end!. 2019-04-17 13:32:48.566435 2019-04-17 13:32:48.566825\n"
     ]
    },
    {
     "name": "stderr",
     "output_type": "stream",
     "text": [
      "[I 2019-04-17 13:32:49,572] Finished a trial resulted in value: -0.23773146537151232. Current best value is -0.23773146537151232 with parameters: {'a': 0.485171913648741, 'b': 0.8496086515943119, 'ab': [0.485171913648741, 0.8496086515943119]}.\n"
     ]
    },
    {
     "name": "stdout",
     "output_type": "stream",
     "text": [
      "sampling end!. 2019-04-17 13:32:49.575333 2019-04-17 13:32:49.575881\n"
     ]
    },
    {
     "name": "stderr",
     "output_type": "stream",
     "text": [
      "[I 2019-04-17 13:32:50,581] Finished a trial resulted in value: 0.29332262003333104. Current best value is -0.23773146537151232 with parameters: {'a': 0.485171913648741, 'b': 0.8496086515943119, 'ab': [0.485171913648741, 0.8496086515943119]}.\n"
     ]
    },
    {
     "name": "stdout",
     "output_type": "stream",
     "text": [
      "sampling end!. 2019-04-17 13:32:50.583508 2019-04-17 13:32:50.584006\n"
     ]
    },
    {
     "name": "stderr",
     "output_type": "stream",
     "text": [
      "[I 2019-04-17 13:32:51,587] Finished a trial resulted in value: 0.1423109328609073. Current best value is -0.23773146537151232 with parameters: {'a': 0.485171913648741, 'b': 0.8496086515943119, 'ab': [0.485171913648741, 0.8496086515943119]}.\n"
     ]
    },
    {
     "name": "stdout",
     "output_type": "stream",
     "text": [
      "sampling end!. 2019-04-17 13:32:51.589969 2019-04-17 13:32:51.590535\n"
     ]
    },
    {
     "name": "stderr",
     "output_type": "stream",
     "text": [
      "[I 2019-04-17 13:32:52,598] Finished a trial resulted in value: -0.3678504795545692. Current best value is -0.3678504795545692 with parameters: {'a': 0.628575516140339, 'b': 0.6255697130800353, 'ab': [0.628575516140339, 0.6255697130800353]}.\n"
     ]
    },
    {
     "name": "stdout",
     "output_type": "stream",
     "text": [
      "sampling end!. 2019-04-17 13:32:52.601870 2019-04-17 13:32:52.602677\n"
     ]
    },
    {
     "name": "stderr",
     "output_type": "stream",
     "text": [
      "[I 2019-04-17 13:32:53,608] Finished a trial resulted in value: 0.4725771160538524. Current best value is -0.3678504795545692 with parameters: {'a': 0.628575516140339, 'b': 0.6255697130800353, 'ab': [0.628575516140339, 0.6255697130800353]}.\n"
     ]
    },
    {
     "name": "stdout",
     "output_type": "stream",
     "text": [
      "sampling end!. 2019-04-17 13:32:53.611416 2019-04-17 13:32:53.612247\n"
     ]
    },
    {
     "name": "stderr",
     "output_type": "stream",
     "text": [
      "[I 2019-04-17 13:32:54,620] Finished a trial resulted in value: 0.10345816798941951. Current best value is -0.3678504795545692 with parameters: {'a': 0.628575516140339, 'b': 0.6255697130800353, 'ab': [0.628575516140339, 0.6255697130800353]}.\n"
     ]
    },
    {
     "name": "stdout",
     "output_type": "stream",
     "text": [
      "2019-04-17 13:32:45.535397 2019-04-17 13:32:44.528432 0:00:00.000208\n",
      "2019-04-17 13:32:46.544049 2019-04-17 13:32:45.539577 0:00:00.000255\n",
      "2019-04-17 13:32:47.551702 2019-04-17 13:32:46.548077 0:00:00.000312\n",
      "2019-04-17 13:32:48.562685 2019-04-17 13:32:47.555801 0:00:00.000704\n",
      "2019-04-17 13:32:49.571595 2019-04-17 13:32:48.566388 0:00:00.000390\n",
      "2019-04-17 13:32:50.580238 2019-04-17 13:32:49.575298 0:00:00.000548\n",
      "2019-04-17 13:32:51.586422 2019-04-17 13:32:50.583475 0:00:00.000498\n",
      "2019-04-17 13:32:52.597042 2019-04-17 13:32:51.589940 0:00:00.000566\n",
      "2019-04-17 13:32:53.607390 2019-04-17 13:32:52.601836 0:00:00.000807\n",
      "2019-04-17 13:32:54.618539 2019-04-17 13:32:53.611387 0:00:00.000831\n",
      "[[0, 1.0], [1, 2.0], [2, 2.9990997961595953], [3, 4.001054552950209], [4, 5.001652033375256], [5, 6.001826298499227], [6, 7.000065722846756], [7, 8.002374984689565], [8, 9.002902759065021], [9, 10.004997923755521]]\n"
     ]
    },
    {
     "name": "stderr",
     "output_type": "stream",
     "text": [
      "reconstraining parameters GP_regression.mul\n",
      "reconstraining parameters GP_regression.Gaussian_noise.variance\n"
     ]
    },
    {
     "name": "stdout",
     "output_type": "stream",
     "text": [
      "sampling end!. 2019-04-17 13:32:54.623846 2019-04-17 13:34:34.117569\n"
     ]
    },
    {
     "name": "stderr",
     "output_type": "stream",
     "text": [
      "[I 2019-04-17 13:34:35,124] Finished a trial resulted in value: 0.608420513044618. Current best value is -0.3678504795545692 with parameters: {'a': 0.628575516140339, 'b': 0.6255697130800353, 'ab': [0.628575516140339, 0.6255697130800353]}.\n"
     ]
    },
    {
     "name": "stdout",
     "output_type": "stream",
     "text": [
      "2019-04-17 13:32:45.535397 2019-04-17 13:32:44.528432 0:00:00.000208\n",
      "2019-04-17 13:32:46.544049 2019-04-17 13:32:45.539577 0:00:00.000255\n",
      "2019-04-17 13:32:47.551702 2019-04-17 13:32:46.548077 0:00:00.000312\n",
      "2019-04-17 13:32:48.562685 2019-04-17 13:32:47.555801 0:00:00.000704\n",
      "2019-04-17 13:32:49.571595 2019-04-17 13:32:48.566388 0:00:00.000390\n",
      "2019-04-17 13:32:50.580238 2019-04-17 13:32:49.575298 0:00:00.000548\n",
      "2019-04-17 13:32:51.586422 2019-04-17 13:32:50.583475 0:00:00.000498\n",
      "2019-04-17 13:32:52.597042 2019-04-17 13:32:51.589940 0:00:00.000566\n",
      "2019-04-17 13:32:53.607390 2019-04-17 13:32:52.601836 0:00:00.000807\n",
      "2019-04-17 13:32:54.618539 2019-04-17 13:32:53.611387 0:00:00.000831\n",
      "2019-04-17 13:34:35.122242 2019-04-17 13:32:54.623813 0:01:39.493723\n",
      "[[0, 1.0], [1, 2.0], [2, 2.9990997961595953], [3, 4.001054552950209], [4, 5.001652033375256], [5, 6.001826298499227], [6, 7.000065722846756], [7, 8.002374984689565], [8, 9.002902759065021], [9, 10.004997923755521], [10, 11.005484870301936]]\n"
     ]
    },
    {
     "name": "stderr",
     "output_type": "stream",
     "text": [
      "reconstraining parameters GP_regression.mul\n",
      "reconstraining parameters GP_regression.Gaussian_noise.variance\n"
     ]
    },
    {
     "name": "stdout",
     "output_type": "stream",
     "text": [
      "sampling end!. 2019-04-17 13:34:35.127424 2019-04-17 13:36:05.838393\n"
     ]
    },
    {
     "name": "stderr",
     "output_type": "stream",
     "text": [
      "[I 2019-04-17 13:36:06,844] Finished a trial resulted in value: 0.565102146163825. Current best value is -0.3678504795545692 with parameters: {'a': 0.628575516140339, 'b': 0.6255697130800353, 'ab': [0.628575516140339, 0.6255697130800353]}.\n"
     ]
    },
    {
     "name": "stdout",
     "output_type": "stream",
     "text": [
      "2019-04-17 13:32:45.535397 2019-04-17 13:32:44.528432 0:00:00.000208\n",
      "2019-04-17 13:32:46.544049 2019-04-17 13:32:45.539577 0:00:00.000255\n",
      "2019-04-17 13:32:47.551702 2019-04-17 13:32:46.548077 0:00:00.000312\n",
      "2019-04-17 13:32:48.562685 2019-04-17 13:32:47.555801 0:00:00.000704\n",
      "2019-04-17 13:32:49.571595 2019-04-17 13:32:48.566388 0:00:00.000390\n",
      "2019-04-17 13:32:50.580238 2019-04-17 13:32:49.575298 0:00:00.000548\n",
      "2019-04-17 13:32:51.586422 2019-04-17 13:32:50.583475 0:00:00.000498\n",
      "2019-04-17 13:32:52.597042 2019-04-17 13:32:51.589940 0:00:00.000566\n",
      "2019-04-17 13:32:53.607390 2019-04-17 13:32:52.601836 0:00:00.000807\n",
      "2019-04-17 13:32:54.618539 2019-04-17 13:32:53.611387 0:00:00.000831\n",
      "2019-04-17 13:34:35.122242 2019-04-17 13:32:54.623813 0:01:39.493723\n",
      "2019-04-17 13:36:06.841772 2019-04-17 13:34:35.127388 0:01:30.710969\n",
      "[[0, 1.0], [1, 2.0], [2, 2.9990997961595953], [3, 4.001054552950209], [4, 5.001652033375256], [5, 6.001826298499227], [6, 7.000065722846756], [7, 8.002374984689565], [8, 9.002902759065021], [9, 10.004997923755521], [10, 11.005484870301936], [11, 12.00468623813379]]\n"
     ]
    },
    {
     "name": "stderr",
     "output_type": "stream",
     "text": [
      "reconstraining parameters GP_regression.mul\n",
      "reconstraining parameters GP_regression.Gaussian_noise.variance\n"
     ]
    },
    {
     "name": "stdout",
     "output_type": "stream",
     "text": [
      "sampling end!. 2019-04-17 13:36:06.847646 2019-04-17 13:37:46.971859\n"
     ]
    },
    {
     "name": "stderr",
     "output_type": "stream",
     "text": [
      "[I 2019-04-17 13:37:47,981] Finished a trial resulted in value: 0.32002243702968347. Current best value is -0.3678504795545692 with parameters: {'a': 0.628575516140339, 'b': 0.6255697130800353, 'ab': [0.628575516140339, 0.6255697130800353]}.\n"
     ]
    },
    {
     "name": "stdout",
     "output_type": "stream",
     "text": [
      "2019-04-17 13:32:45.535397 2019-04-17 13:32:44.528432 0:00:00.000208\n",
      "2019-04-17 13:32:46.544049 2019-04-17 13:32:45.539577 0:00:00.000255\n",
      "2019-04-17 13:32:47.551702 2019-04-17 13:32:46.548077 0:00:00.000312\n",
      "2019-04-17 13:32:48.562685 2019-04-17 13:32:47.555801 0:00:00.000704\n",
      "2019-04-17 13:32:49.571595 2019-04-17 13:32:48.566388 0:00:00.000390\n",
      "2019-04-17 13:32:50.580238 2019-04-17 13:32:49.575298 0:00:00.000548\n",
      "2019-04-17 13:32:51.586422 2019-04-17 13:32:50.583475 0:00:00.000498\n",
      "2019-04-17 13:32:52.597042 2019-04-17 13:32:51.589940 0:00:00.000566\n",
      "2019-04-17 13:32:53.607390 2019-04-17 13:32:52.601836 0:00:00.000807\n",
      "2019-04-17 13:32:54.618539 2019-04-17 13:32:53.611387 0:00:00.000831\n",
      "2019-04-17 13:34:35.122242 2019-04-17 13:32:54.623813 0:01:39.493723\n",
      "2019-04-17 13:36:06.841772 2019-04-17 13:34:35.127388 0:01:30.710969\n",
      "2019-04-17 13:37:47.978833 2019-04-17 13:36:06.847609 0:01:40.124213\n",
      "[[0, 1.0], [1, 2.0], [2, 2.9990997961595953], [3, 4.001054552950209], [4, 5.001652033375256], [5, 6.001826298499227], [6, 7.000065722846756], [7, 8.002374984689565], [8, 9.002902759065021], [9, 10.004997923755521], [10, 11.005484870301936], [11, 12.00468623813379], [12, 13.007468505313094]]\n"
     ]
    },
    {
     "name": "stderr",
     "output_type": "stream",
     "text": [
      "reconstraining parameters GP_regression.mul\n",
      "reconstraining parameters GP_regression.Gaussian_noise.variance\n"
     ]
    },
    {
     "name": "stdout",
     "output_type": "stream",
     "text": [
      "sampling end!. 2019-04-17 13:37:47.984360 2019-04-17 13:39:22.733215\n"
     ]
    },
    {
     "name": "stderr",
     "output_type": "stream",
     "text": [
      "[I 2019-04-17 13:39:23,738] Finished a trial resulted in value: 0.20445924713920155. Current best value is -0.3678504795545692 with parameters: {'a': 0.628575516140339, 'b': 0.6255697130800353, 'ab': [0.628575516140339, 0.6255697130800353]}.\n"
     ]
    },
    {
     "name": "stdout",
     "output_type": "stream",
     "text": [
      "2019-04-17 13:32:45.535397 2019-04-17 13:32:44.528432 0:00:00.000208\n",
      "2019-04-17 13:32:46.544049 2019-04-17 13:32:45.539577 0:00:00.000255\n",
      "2019-04-17 13:32:47.551702 2019-04-17 13:32:46.548077 0:00:00.000312\n",
      "2019-04-17 13:32:48.562685 2019-04-17 13:32:47.555801 0:00:00.000704\n",
      "2019-04-17 13:32:49.571595 2019-04-17 13:32:48.566388 0:00:00.000390\n",
      "2019-04-17 13:32:50.580238 2019-04-17 13:32:49.575298 0:00:00.000548\n",
      "2019-04-17 13:32:51.586422 2019-04-17 13:32:50.583475 0:00:00.000498\n",
      "2019-04-17 13:32:52.597042 2019-04-17 13:32:51.589940 0:00:00.000566\n",
      "2019-04-17 13:32:53.607390 2019-04-17 13:32:52.601836 0:00:00.000807\n",
      "2019-04-17 13:32:54.618539 2019-04-17 13:32:53.611387 0:00:00.000831\n",
      "2019-04-17 13:34:35.122242 2019-04-17 13:32:54.623813 0:01:39.493723\n",
      "2019-04-17 13:36:06.841772 2019-04-17 13:34:35.127388 0:01:30.710969\n",
      "2019-04-17 13:37:47.978833 2019-04-17 13:36:06.847609 0:01:40.124213\n",
      "2019-04-17 13:39:23.736225 2019-04-17 13:37:47.984325 0:01:34.748855\n",
      "[[0, 1.0], [1, 2.0], [2, 2.9990997961595953], [3, 4.001054552950209], [4, 5.001652033375256], [5, 6.001826298499227], [6, 7.000065722846756], [7, 8.002374984689565], [8, 9.002902759065021], [9, 10.004997923755521], [10, 11.005484870301936], [11, 12.00468623813379], [12, 13.007468505313094], [13, 14.006301426882834]]\n"
     ]
    },
    {
     "name": "stderr",
     "output_type": "stream",
     "text": [
      "reconstraining parameters GP_regression.mul\n",
      "reconstraining parameters GP_regression.Gaussian_noise.variance\n"
     ]
    },
    {
     "name": "stdout",
     "output_type": "stream",
     "text": [
      "sampling end!. 2019-04-17 13:39:23.741763 2019-04-17 13:41:01.273258\n"
     ]
    },
    {
     "name": "stderr",
     "output_type": "stream",
     "text": [
      "[I 2019-04-17 13:41:02,280] Finished a trial resulted in value: 0.16761439006363565. Current best value is -0.3678504795545692 with parameters: {'a': 0.628575516140339, 'b': 0.6255697130800353, 'ab': [0.628575516140339, 0.6255697130800353]}.\n"
     ]
    },
    {
     "name": "stdout",
     "output_type": "stream",
     "text": [
      "2019-04-17 13:32:45.535397 2019-04-17 13:32:44.528432 0:00:00.000208\n",
      "2019-04-17 13:32:46.544049 2019-04-17 13:32:45.539577 0:00:00.000255\n",
      "2019-04-17 13:32:47.551702 2019-04-17 13:32:46.548077 0:00:00.000312\n",
      "2019-04-17 13:32:48.562685 2019-04-17 13:32:47.555801 0:00:00.000704\n",
      "2019-04-17 13:32:49.571595 2019-04-17 13:32:48.566388 0:00:00.000390\n",
      "2019-04-17 13:32:50.580238 2019-04-17 13:32:49.575298 0:00:00.000548\n",
      "2019-04-17 13:32:51.586422 2019-04-17 13:32:50.583475 0:00:00.000498\n",
      "2019-04-17 13:32:52.597042 2019-04-17 13:32:51.589940 0:00:00.000566\n",
      "2019-04-17 13:32:53.607390 2019-04-17 13:32:52.601836 0:00:00.000807\n",
      "2019-04-17 13:32:54.618539 2019-04-17 13:32:53.611387 0:00:00.000831\n",
      "2019-04-17 13:34:35.122242 2019-04-17 13:32:54.623813 0:01:39.493723\n",
      "2019-04-17 13:36:06.841772 2019-04-17 13:34:35.127388 0:01:30.710969\n",
      "2019-04-17 13:37:47.978833 2019-04-17 13:36:06.847609 0:01:40.124213\n",
      "2019-04-17 13:39:23.736225 2019-04-17 13:37:47.984325 0:01:34.748855\n",
      "2019-04-17 13:41:02.277467 2019-04-17 13:39:23.741729 0:01:37.531495\n",
      "[[0, 1.0], [1, 2.0], [2, 2.9990997961595953], [3, 4.001054552950209], [4, 5.001652033375256], [5, 6.001826298499227], [6, 7.000065722846756], [7, 8.002374984689565], [8, 9.002902759065021], [9, 10.004997923755521], [10, 11.005484870301936], [11, 12.00468623813379], [12, 13.007468505313094], [13, 14.006301426882834], [14, 15.006327317701254]]\n"
     ]
    },
    {
     "name": "stderr",
     "output_type": "stream",
     "text": [
      "reconstraining parameters GP_regression.mul\n",
      "reconstraining parameters GP_regression.Gaussian_noise.variance\n"
     ]
    },
    {
     "name": "stdout",
     "output_type": "stream",
     "text": [
      "sampling end!. 2019-04-17 13:41:02.282801 2019-04-17 13:42:48.021822\n"
     ]
    },
    {
     "name": "stderr",
     "output_type": "stream",
     "text": [
      "[I 2019-04-17 13:42:49,030] Finished a trial resulted in value: 0.05247623934438794. Current best value is -0.3678504795545692 with parameters: {'a': 0.628575516140339, 'b': 0.6255697130800353, 'ab': [0.628575516140339, 0.6255697130800353]}.\n"
     ]
    },
    {
     "name": "stdout",
     "output_type": "stream",
     "text": [
      "2019-04-17 13:32:45.535397 2019-04-17 13:32:44.528432 0:00:00.000208\n",
      "2019-04-17 13:32:46.544049 2019-04-17 13:32:45.539577 0:00:00.000255\n",
      "2019-04-17 13:32:47.551702 2019-04-17 13:32:46.548077 0:00:00.000312\n",
      "2019-04-17 13:32:48.562685 2019-04-17 13:32:47.555801 0:00:00.000704\n",
      "2019-04-17 13:32:49.571595 2019-04-17 13:32:48.566388 0:00:00.000390\n",
      "2019-04-17 13:32:50.580238 2019-04-17 13:32:49.575298 0:00:00.000548\n",
      "2019-04-17 13:32:51.586422 2019-04-17 13:32:50.583475 0:00:00.000498\n",
      "2019-04-17 13:32:52.597042 2019-04-17 13:32:51.589940 0:00:00.000566\n",
      "2019-04-17 13:32:53.607390 2019-04-17 13:32:52.601836 0:00:00.000807\n",
      "2019-04-17 13:32:54.618539 2019-04-17 13:32:53.611387 0:00:00.000831\n",
      "2019-04-17 13:34:35.122242 2019-04-17 13:32:54.623813 0:01:39.493723\n",
      "2019-04-17 13:36:06.841772 2019-04-17 13:34:35.127388 0:01:30.710969\n",
      "2019-04-17 13:37:47.978833 2019-04-17 13:36:06.847609 0:01:40.124213\n",
      "2019-04-17 13:39:23.736225 2019-04-17 13:37:47.984325 0:01:34.748855\n",
      "2019-04-17 13:41:02.277467 2019-04-17 13:39:23.741729 0:01:37.531495\n",
      "2019-04-17 13:42:49.027379 2019-04-17 13:41:02.282765 0:01:45.739021\n",
      "[[0, 1.0], [1, 2.0], [2, 2.9990997961595953], [3, 4.001054552950209], [4, 5.001652033375256], [5, 6.001826298499227], [6, 7.000065722846756], [7, 8.002374984689565], [8, 9.002902759065021], [9, 10.004997923755521], [10, 11.005484870301936], [11, 12.00468623813379], [12, 13.007468505313094], [13, 14.006301426882834], [14, 15.006327317701254], [15, 16.00769753947603]]\n"
     ]
    },
    {
     "name": "stderr",
     "output_type": "stream",
     "text": [
      "reconstraining parameters GP_regression.mul\n",
      "reconstraining parameters GP_regression.Gaussian_noise.variance\n"
     ]
    },
    {
     "name": "stdout",
     "output_type": "stream",
     "text": [
      "sampling end!. 2019-04-17 13:42:49.033110 2019-04-17 13:44:11.560244\n"
     ]
    },
    {
     "name": "stderr",
     "output_type": "stream",
     "text": [
      "[I 2019-04-17 13:44:12,570] Finished a trial resulted in value: 0.3415396141655771. Current best value is -0.3678504795545692 with parameters: {'a': 0.628575516140339, 'b': 0.6255697130800353, 'ab': [0.628575516140339, 0.6255697130800353]}.\n"
     ]
    },
    {
     "name": "stdout",
     "output_type": "stream",
     "text": [
      "2019-04-17 13:32:45.535397 2019-04-17 13:32:44.528432 0:00:00.000208\n",
      "2019-04-17 13:32:46.544049 2019-04-17 13:32:45.539577 0:00:00.000255\n",
      "2019-04-17 13:32:47.551702 2019-04-17 13:32:46.548077 0:00:00.000312\n",
      "2019-04-17 13:32:48.562685 2019-04-17 13:32:47.555801 0:00:00.000704\n",
      "2019-04-17 13:32:49.571595 2019-04-17 13:32:48.566388 0:00:00.000390\n",
      "2019-04-17 13:32:50.580238 2019-04-17 13:32:49.575298 0:00:00.000548\n",
      "2019-04-17 13:32:51.586422 2019-04-17 13:32:50.583475 0:00:00.000498\n",
      "2019-04-17 13:32:52.597042 2019-04-17 13:32:51.589940 0:00:00.000566\n",
      "2019-04-17 13:32:53.607390 2019-04-17 13:32:52.601836 0:00:00.000807\n",
      "2019-04-17 13:32:54.618539 2019-04-17 13:32:53.611387 0:00:00.000831\n",
      "2019-04-17 13:34:35.122242 2019-04-17 13:32:54.623813 0:01:39.493723\n",
      "2019-04-17 13:36:06.841772 2019-04-17 13:34:35.127388 0:01:30.710969\n",
      "2019-04-17 13:37:47.978833 2019-04-17 13:36:06.847609 0:01:40.124213\n",
      "2019-04-17 13:39:23.736225 2019-04-17 13:37:47.984325 0:01:34.748855\n",
      "2019-04-17 13:41:02.277467 2019-04-17 13:39:23.741729 0:01:37.531495\n",
      "2019-04-17 13:42:49.027379 2019-04-17 13:41:02.282765 0:01:45.739021\n",
      "2019-04-17 13:44:12.567658 2019-04-17 13:42:49.033075 0:01:22.527134\n",
      "[[0, 1.0], [1, 2.0], [2, 2.9990997961595953], [3, 4.001054552950209], [4, 5.001652033375256], [5, 6.001826298499227], [6, 7.000065722846756], [7, 8.002374984689565], [8, 9.002902759065021], [9, 10.004997923755521], [10, 11.005484870301936], [11, 12.00468623813379], [12, 13.007468505313094], [13, 14.006301426882834], [14, 15.006327317701254], [15, 16.00769753947603], [16, 17.010915967365623]]\n"
     ]
    },
    {
     "name": "stderr",
     "output_type": "stream",
     "text": [
      "reconstraining parameters GP_regression.mul\n",
      "reconstraining parameters GP_regression.Gaussian_noise.variance\n"
     ]
    },
    {
     "name": "stdout",
     "output_type": "stream",
     "text": [
      "sampling end!. 2019-04-17 13:44:12.574428 2019-04-17 13:45:59.164191\n"
     ]
    },
    {
     "name": "stderr",
     "output_type": "stream",
     "text": [
      "[I 2019-04-17 13:46:00,170] Finished a trial resulted in value: 0.20686575058115206. Current best value is -0.3678504795545692 with parameters: {'a': 0.628575516140339, 'b': 0.6255697130800353, 'ab': [0.628575516140339, 0.6255697130800353]}.\n"
     ]
    },
    {
     "name": "stdout",
     "output_type": "stream",
     "text": [
      "2019-04-17 13:32:45.535397 2019-04-17 13:32:44.528432 0:00:00.000208\n",
      "2019-04-17 13:32:46.544049 2019-04-17 13:32:45.539577 0:00:00.000255\n",
      "2019-04-17 13:32:47.551702 2019-04-17 13:32:46.548077 0:00:00.000312\n",
      "2019-04-17 13:32:48.562685 2019-04-17 13:32:47.555801 0:00:00.000704\n",
      "2019-04-17 13:32:49.571595 2019-04-17 13:32:48.566388 0:00:00.000390\n",
      "2019-04-17 13:32:50.580238 2019-04-17 13:32:49.575298 0:00:00.000548\n",
      "2019-04-17 13:32:51.586422 2019-04-17 13:32:50.583475 0:00:00.000498\n",
      "2019-04-17 13:32:52.597042 2019-04-17 13:32:51.589940 0:00:00.000566\n",
      "2019-04-17 13:32:53.607390 2019-04-17 13:32:52.601836 0:00:00.000807\n",
      "2019-04-17 13:32:54.618539 2019-04-17 13:32:53.611387 0:00:00.000831\n",
      "2019-04-17 13:34:35.122242 2019-04-17 13:32:54.623813 0:01:39.493723\n",
      "2019-04-17 13:36:06.841772 2019-04-17 13:34:35.127388 0:01:30.710969\n",
      "2019-04-17 13:37:47.978833 2019-04-17 13:36:06.847609 0:01:40.124213\n",
      "2019-04-17 13:39:23.736225 2019-04-17 13:37:47.984325 0:01:34.748855\n",
      "2019-04-17 13:41:02.277467 2019-04-17 13:39:23.741729 0:01:37.531495\n",
      "2019-04-17 13:42:49.027379 2019-04-17 13:41:02.282765 0:01:45.739021\n",
      "2019-04-17 13:44:12.567658 2019-04-17 13:42:49.033075 0:01:22.527134\n",
      "2019-04-17 13:46:00.167530 2019-04-17 13:44:12.574396 0:01:46.589763\n",
      "[[0, 1.0], [1, 2.0], [2, 2.9990997961595953], [3, 4.001054552950209], [4, 5.001652033375256], [5, 6.001826298499227], [6, 7.000065722846756], [7, 8.002374984689565], [8, 9.002902759065021], [9, 10.004997923755521], [10, 11.005484870301936], [11, 12.00468623813379], [12, 13.007468505313094], [13, 14.006301426882834], [14, 15.006327317701254], [15, 16.00769753947603], [16, 17.010915967365623], [17, 18.010073519966305]]\n"
     ]
    },
    {
     "name": "stderr",
     "output_type": "stream",
     "text": [
      "reconstraining parameters GP_regression.mul\n",
      "reconstraining parameters GP_regression.Gaussian_noise.variance\n"
     ]
    },
    {
     "name": "stdout",
     "output_type": "stream",
     "text": [
      "sampling end!. 2019-04-17 13:46:00.173800 2019-04-17 13:47:42.239647\n"
     ]
    },
    {
     "name": "stderr",
     "output_type": "stream",
     "text": [
      "[I 2019-04-17 13:47:43,247] Finished a trial resulted in value: 0.2763086571636232. Current best value is -0.3678504795545692 with parameters: {'a': 0.628575516140339, 'b': 0.6255697130800353, 'ab': [0.628575516140339, 0.6255697130800353]}.\n"
     ]
    },
    {
     "name": "stdout",
     "output_type": "stream",
     "text": [
      "2019-04-17 13:32:45.535397 2019-04-17 13:32:44.528432 0:00:00.000208\n",
      "2019-04-17 13:32:46.544049 2019-04-17 13:32:45.539577 0:00:00.000255\n",
      "2019-04-17 13:32:47.551702 2019-04-17 13:32:46.548077 0:00:00.000312\n",
      "2019-04-17 13:32:48.562685 2019-04-17 13:32:47.555801 0:00:00.000704\n",
      "2019-04-17 13:32:49.571595 2019-04-17 13:32:48.566388 0:00:00.000390\n",
      "2019-04-17 13:32:50.580238 2019-04-17 13:32:49.575298 0:00:00.000548\n",
      "2019-04-17 13:32:51.586422 2019-04-17 13:32:50.583475 0:00:00.000498\n",
      "2019-04-17 13:32:52.597042 2019-04-17 13:32:51.589940 0:00:00.000566\n",
      "2019-04-17 13:32:53.607390 2019-04-17 13:32:52.601836 0:00:00.000807\n",
      "2019-04-17 13:32:54.618539 2019-04-17 13:32:53.611387 0:00:00.000831\n",
      "2019-04-17 13:34:35.122242 2019-04-17 13:32:54.623813 0:01:39.493723\n",
      "2019-04-17 13:36:06.841772 2019-04-17 13:34:35.127388 0:01:30.710969\n",
      "2019-04-17 13:37:47.978833 2019-04-17 13:36:06.847609 0:01:40.124213\n",
      "2019-04-17 13:39:23.736225 2019-04-17 13:37:47.984325 0:01:34.748855\n",
      "2019-04-17 13:41:02.277467 2019-04-17 13:39:23.741729 0:01:37.531495\n",
      "2019-04-17 13:42:49.027379 2019-04-17 13:41:02.282765 0:01:45.739021\n",
      "2019-04-17 13:44:12.567658 2019-04-17 13:42:49.033075 0:01:22.527134\n",
      "2019-04-17 13:46:00.167530 2019-04-17 13:44:12.574396 0:01:46.589763\n",
      "2019-04-17 13:47:43.244229 2019-04-17 13:46:00.173749 0:01:42.065847\n",
      "[[0, 1.0], [1, 2.0], [2, 2.9990997961595953], [3, 4.001054552950209], [4, 5.001652033375256], [5, 6.001826298499227], [6, 7.000065722846756], [7, 8.002374984689565], [8, 9.002902759065021], [9, 10.004997923755521], [10, 11.005484870301936], [11, 12.00468623813379], [12, 13.007468505313094], [13, 14.006301426882834], [14, 15.006327317701254], [15, 16.00769753947603], [16, 17.010915967365623], [17, 18.010073519966305], [18, 19.01048777306101]]\n"
     ]
    },
    {
     "name": "stderr",
     "output_type": "stream",
     "text": [
      "reconstraining parameters GP_regression.mul\n",
      "reconstraining parameters GP_regression.Gaussian_noise.variance\n"
     ]
    },
    {
     "name": "stdout",
     "output_type": "stream",
     "text": [
      "sampling end!. 2019-04-17 13:47:43.251390 2019-04-17 13:49:04.800688\n"
     ]
    },
    {
     "name": "stderr",
     "output_type": "stream",
     "text": [
      "[I 2019-04-17 13:49:05,808] Finished a trial resulted in value: 0.32436997367575265. Current best value is -0.3678504795545692 with parameters: {'a': 0.628575516140339, 'b': 0.6255697130800353, 'ab': [0.628575516140339, 0.6255697130800353]}.\n"
     ]
    },
    {
     "name": "stdout",
     "output_type": "stream",
     "text": [
      "2019-04-17 13:32:45.535397 2019-04-17 13:32:44.528432 0:00:00.000208\n",
      "2019-04-17 13:32:46.544049 2019-04-17 13:32:45.539577 0:00:00.000255\n",
      "2019-04-17 13:32:47.551702 2019-04-17 13:32:46.548077 0:00:00.000312\n",
      "2019-04-17 13:32:48.562685 2019-04-17 13:32:47.555801 0:00:00.000704\n",
      "2019-04-17 13:32:49.571595 2019-04-17 13:32:48.566388 0:00:00.000390\n",
      "2019-04-17 13:32:50.580238 2019-04-17 13:32:49.575298 0:00:00.000548\n",
      "2019-04-17 13:32:51.586422 2019-04-17 13:32:50.583475 0:00:00.000498\n",
      "2019-04-17 13:32:52.597042 2019-04-17 13:32:51.589940 0:00:00.000566\n",
      "2019-04-17 13:32:53.607390 2019-04-17 13:32:52.601836 0:00:00.000807\n",
      "2019-04-17 13:32:54.618539 2019-04-17 13:32:53.611387 0:00:00.000831\n",
      "2019-04-17 13:34:35.122242 2019-04-17 13:32:54.623813 0:01:39.493723\n",
      "2019-04-17 13:36:06.841772 2019-04-17 13:34:35.127388 0:01:30.710969\n",
      "2019-04-17 13:37:47.978833 2019-04-17 13:36:06.847609 0:01:40.124213\n",
      "2019-04-17 13:39:23.736225 2019-04-17 13:37:47.984325 0:01:34.748855\n",
      "2019-04-17 13:41:02.277467 2019-04-17 13:39:23.741729 0:01:37.531495\n",
      "2019-04-17 13:42:49.027379 2019-04-17 13:41:02.282765 0:01:45.739021\n",
      "2019-04-17 13:44:12.567658 2019-04-17 13:42:49.033075 0:01:22.527134\n",
      "2019-04-17 13:46:00.167530 2019-04-17 13:44:12.574396 0:01:46.589763\n",
      "2019-04-17 13:47:43.244229 2019-04-17 13:46:00.173749 0:01:42.065847\n",
      "2019-04-17 13:49:05.804982 2019-04-17 13:47:43.251344 0:01:21.549298\n",
      "[[0, 1.0], [1, 2.0], [2, 2.9990997961595953], [3, 4.001054552950209], [4, 5.001652033375256], [5, 6.001826298499227], [6, 7.000065722846756], [7, 8.002374984689565], [8, 9.002902759065021], [9, 10.004997923755521], [10, 11.005484870301936], [11, 12.00468623813379], [12, 13.007468505313094], [13, 14.006301426882834], [14, 15.006327317701254], [15, 16.00769753947603], [16, 17.010915967365623], [17, 18.010073519966305], [18, 19.01048777306101], [19, 20.01061025654814]]\n"
     ]
    },
    {
     "name": "stderr",
     "output_type": "stream",
     "text": [
      "reconstraining parameters GP_regression.mul\n",
      "reconstraining parameters GP_regression.Gaussian_noise.variance\n"
     ]
    },
    {
     "name": "stdout",
     "output_type": "stream",
     "text": [
      "sampling end!. 2019-04-17 13:49:05.811858 2019-04-17 13:50:42.556667\n"
     ]
    },
    {
     "name": "stderr",
     "output_type": "stream",
     "text": [
      "[I 2019-04-17 13:50:43,563] Finished a trial resulted in value: 0.4253307787088705. Current best value is -0.3678504795545692 with parameters: {'a': 0.628575516140339, 'b': 0.6255697130800353, 'ab': [0.628575516140339, 0.6255697130800353]}.\n"
     ]
    },
    {
     "name": "stdout",
     "output_type": "stream",
     "text": [
      "2019-04-17 13:32:45.535397 2019-04-17 13:32:44.528432 0:00:00.000208\n",
      "2019-04-17 13:32:46.544049 2019-04-17 13:32:45.539577 0:00:00.000255\n",
      "2019-04-17 13:32:47.551702 2019-04-17 13:32:46.548077 0:00:00.000312\n",
      "2019-04-17 13:32:48.562685 2019-04-17 13:32:47.555801 0:00:00.000704\n",
      "2019-04-17 13:32:49.571595 2019-04-17 13:32:48.566388 0:00:00.000390\n",
      "2019-04-17 13:32:50.580238 2019-04-17 13:32:49.575298 0:00:00.000548\n",
      "2019-04-17 13:32:51.586422 2019-04-17 13:32:50.583475 0:00:00.000498\n",
      "2019-04-17 13:32:52.597042 2019-04-17 13:32:51.589940 0:00:00.000566\n",
      "2019-04-17 13:32:53.607390 2019-04-17 13:32:52.601836 0:00:00.000807\n",
      "2019-04-17 13:32:54.618539 2019-04-17 13:32:53.611387 0:00:00.000831\n",
      "2019-04-17 13:34:35.122242 2019-04-17 13:32:54.623813 0:01:39.493723\n",
      "2019-04-17 13:36:06.841772 2019-04-17 13:34:35.127388 0:01:30.710969\n",
      "2019-04-17 13:37:47.978833 2019-04-17 13:36:06.847609 0:01:40.124213\n",
      "2019-04-17 13:39:23.736225 2019-04-17 13:37:47.984325 0:01:34.748855\n",
      "2019-04-17 13:41:02.277467 2019-04-17 13:39:23.741729 0:01:37.531495\n",
      "2019-04-17 13:42:49.027379 2019-04-17 13:41:02.282765 0:01:45.739021\n",
      "2019-04-17 13:44:12.567658 2019-04-17 13:42:49.033075 0:01:22.527134\n",
      "2019-04-17 13:46:00.167530 2019-04-17 13:44:12.574396 0:01:46.589763\n",
      "2019-04-17 13:47:43.244229 2019-04-17 13:46:00.173749 0:01:42.065847\n",
      "2019-04-17 13:49:05.804982 2019-04-17 13:47:43.251344 0:01:21.549298\n",
      "2019-04-17 13:50:43.560259 2019-04-17 13:49:05.811815 0:01:36.744809\n",
      "[[0, 1.0], [1, 2.0], [2, 2.9990997961595953], [3, 4.001054552950209], [4, 5.001652033375256], [5, 6.001826298499227], [6, 7.000065722846756], [7, 8.002374984689565], [8, 9.002902759065021], [9, 10.004997923755521], [10, 11.005484870301936], [11, 12.00468623813379], [12, 13.007468505313094], [13, 14.006301426882834], [14, 15.006327317701254], [15, 16.00769753947603], [16, 17.010915967365623], [17, 18.010073519966305], [18, 19.01048777306101], [19, 20.01061025654814], [20, 21.010030700535843]]\n"
     ]
    },
    {
     "name": "stderr",
     "output_type": "stream",
     "text": [
      "reconstraining parameters GP_regression.mul\n",
      "reconstraining parameters GP_regression.Gaussian_noise.variance\n"
     ]
    },
    {
     "name": "stdout",
     "output_type": "stream",
     "text": [
      "sampling end!. 2019-04-17 13:50:43.566413 2019-04-17 13:52:56.283489\n"
     ]
    },
    {
     "name": "stderr",
     "output_type": "stream",
     "text": [
      "[I 2019-04-17 13:52:57,289] Finished a trial resulted in value: 0.19597872546902567. Current best value is -0.3678504795545692 with parameters: {'a': 0.628575516140339, 'b': 0.6255697130800353, 'ab': [0.628575516140339, 0.6255697130800353]}.\n"
     ]
    },
    {
     "name": "stdout",
     "output_type": "stream",
     "text": [
      "2019-04-17 13:32:45.535397 2019-04-17 13:32:44.528432 0:00:00.000208\n",
      "2019-04-17 13:32:46.544049 2019-04-17 13:32:45.539577 0:00:00.000255\n",
      "2019-04-17 13:32:47.551702 2019-04-17 13:32:46.548077 0:00:00.000312\n",
      "2019-04-17 13:32:48.562685 2019-04-17 13:32:47.555801 0:00:00.000704\n",
      "2019-04-17 13:32:49.571595 2019-04-17 13:32:48.566388 0:00:00.000390\n",
      "2019-04-17 13:32:50.580238 2019-04-17 13:32:49.575298 0:00:00.000548\n",
      "2019-04-17 13:32:51.586422 2019-04-17 13:32:50.583475 0:00:00.000498\n",
      "2019-04-17 13:32:52.597042 2019-04-17 13:32:51.589940 0:00:00.000566\n",
      "2019-04-17 13:32:53.607390 2019-04-17 13:32:52.601836 0:00:00.000807\n",
      "2019-04-17 13:32:54.618539 2019-04-17 13:32:53.611387 0:00:00.000831\n",
      "2019-04-17 13:34:35.122242 2019-04-17 13:32:54.623813 0:01:39.493723\n",
      "2019-04-17 13:36:06.841772 2019-04-17 13:34:35.127388 0:01:30.710969\n",
      "2019-04-17 13:37:47.978833 2019-04-17 13:36:06.847609 0:01:40.124213\n",
      "2019-04-17 13:39:23.736225 2019-04-17 13:37:47.984325 0:01:34.748855\n",
      "2019-04-17 13:41:02.277467 2019-04-17 13:39:23.741729 0:01:37.531495\n",
      "2019-04-17 13:42:49.027379 2019-04-17 13:41:02.282765 0:01:45.739021\n",
      "2019-04-17 13:44:12.567658 2019-04-17 13:42:49.033075 0:01:22.527134\n",
      "2019-04-17 13:46:00.167530 2019-04-17 13:44:12.574396 0:01:46.589763\n",
      "2019-04-17 13:47:43.244229 2019-04-17 13:46:00.173749 0:01:42.065847\n",
      "2019-04-17 13:49:05.804982 2019-04-17 13:47:43.251344 0:01:21.549298\n",
      "2019-04-17 13:50:43.560259 2019-04-17 13:49:05.811815 0:01:36.744809\n",
      "2019-04-17 13:52:57.285626 2019-04-17 13:50:43.566362 0:02:12.717076\n",
      "[[0, 1.0], [1, 2.0], [2, 2.9990997961595953], [3, 4.001054552950209], [4, 5.001652033375256], [5, 6.001826298499227], [6, 7.000065722846756], [7, 8.002374984689565], [8, 9.002902759065021], [9, 10.004997923755521], [10, 11.005484870301936], [11, 12.00468623813379], [12, 13.007468505313094], [13, 14.006301426882834], [14, 15.006327317701254], [15, 16.00769753947603], [16, 17.010915967365623], [17, 18.010073519966305], [18, 19.01048777306101], [19, 20.01061025654814], [20, 21.010030700535843], [21, 22.008010220898477]]\n"
     ]
    },
    {
     "name": "stderr",
     "output_type": "stream",
     "text": [
      "reconstraining parameters GP_regression.mul\n",
      "reconstraining parameters GP_regression.Gaussian_noise.variance\n"
     ]
    },
    {
     "name": "stdout",
     "output_type": "stream",
     "text": [
      "sampling end!. 2019-04-17 13:52:57.292983 2019-04-17 13:54:48.143682\n"
     ]
    },
    {
     "name": "stderr",
     "output_type": "stream",
     "text": [
      "[I 2019-04-17 13:54:49,154] Finished a trial resulted in value: 0.3840000707884077. Current best value is -0.3678504795545692 with parameters: {'a': 0.628575516140339, 'b': 0.6255697130800353, 'ab': [0.628575516140339, 0.6255697130800353]}.\n"
     ]
    },
    {
     "name": "stdout",
     "output_type": "stream",
     "text": [
      "2019-04-17 13:32:45.535397 2019-04-17 13:32:44.528432 0:00:00.000208\n",
      "2019-04-17 13:32:46.544049 2019-04-17 13:32:45.539577 0:00:00.000255\n",
      "2019-04-17 13:32:47.551702 2019-04-17 13:32:46.548077 0:00:00.000312\n",
      "2019-04-17 13:32:48.562685 2019-04-17 13:32:47.555801 0:00:00.000704\n",
      "2019-04-17 13:32:49.571595 2019-04-17 13:32:48.566388 0:00:00.000390\n",
      "2019-04-17 13:32:50.580238 2019-04-17 13:32:49.575298 0:00:00.000548\n",
      "2019-04-17 13:32:51.586422 2019-04-17 13:32:50.583475 0:00:00.000498\n",
      "2019-04-17 13:32:52.597042 2019-04-17 13:32:51.589940 0:00:00.000566\n",
      "2019-04-17 13:32:53.607390 2019-04-17 13:32:52.601836 0:00:00.000807\n",
      "2019-04-17 13:32:54.618539 2019-04-17 13:32:53.611387 0:00:00.000831\n",
      "2019-04-17 13:34:35.122242 2019-04-17 13:32:54.623813 0:01:39.493723\n",
      "2019-04-17 13:36:06.841772 2019-04-17 13:34:35.127388 0:01:30.710969\n",
      "2019-04-17 13:37:47.978833 2019-04-17 13:36:06.847609 0:01:40.124213\n",
      "2019-04-17 13:39:23.736225 2019-04-17 13:37:47.984325 0:01:34.748855\n",
      "2019-04-17 13:41:02.277467 2019-04-17 13:39:23.741729 0:01:37.531495\n",
      "2019-04-17 13:42:49.027379 2019-04-17 13:41:02.282765 0:01:45.739021\n",
      "2019-04-17 13:44:12.567658 2019-04-17 13:42:49.033075 0:01:22.527134\n",
      "2019-04-17 13:46:00.167530 2019-04-17 13:44:12.574396 0:01:46.589763\n",
      "2019-04-17 13:47:43.244229 2019-04-17 13:46:00.173749 0:01:42.065847\n",
      "2019-04-17 13:49:05.804982 2019-04-17 13:47:43.251344 0:01:21.549298\n",
      "2019-04-17 13:50:43.560259 2019-04-17 13:49:05.811815 0:01:36.744809\n",
      "2019-04-17 13:52:57.285626 2019-04-17 13:50:43.566362 0:02:12.717076\n",
      "2019-04-17 13:54:49.150780 2019-04-17 13:52:57.292908 0:01:50.850699\n",
      "[[0, 1.0], [1, 2.0], [2, 2.9990997961595953], [3, 4.001054552950209], [4, 5.001652033375256], [5, 6.001826298499227], [6, 7.000065722846756], [7, 8.002374984689565], [8, 9.002902759065021], [9, 10.004997923755521], [10, 11.005484870301936], [11, 12.00468623813379], [12, 13.007468505313094], [13, 14.006301426882834], [14, 15.006327317701254], [15, 16.00769753947603], [16, 17.010915967365623], [17, 18.010073519966305], [18, 19.01048777306101], [19, 20.01061025654814], [20, 21.010030700535843], [21, 22.008010220898477], [22, 23.010953807792546]]\n"
     ]
    },
    {
     "name": "stderr",
     "output_type": "stream",
     "text": [
      "reconstraining parameters GP_regression.mul\n",
      "reconstraining parameters GP_regression.Gaussian_noise.variance\n"
     ]
    },
    {
     "name": "stdout",
     "output_type": "stream",
     "text": [
      "sampling end!. 2019-04-17 13:54:49.157655 2019-04-17 13:56:07.994523\n"
     ]
    },
    {
     "name": "stderr",
     "output_type": "stream",
     "text": [
      "[I 2019-04-17 13:56:09,001] Finished a trial resulted in value: 0.5478126730650358. Current best value is -0.3678504795545692 with parameters: {'a': 0.628575516140339, 'b': 0.6255697130800353, 'ab': [0.628575516140339, 0.6255697130800353]}.\n"
     ]
    },
    {
     "name": "stdout",
     "output_type": "stream",
     "text": [
      "2019-04-17 13:32:45.535397 2019-04-17 13:32:44.528432 0:00:00.000208\n",
      "2019-04-17 13:32:46.544049 2019-04-17 13:32:45.539577 0:00:00.000255\n",
      "2019-04-17 13:32:47.551702 2019-04-17 13:32:46.548077 0:00:00.000312\n",
      "2019-04-17 13:32:48.562685 2019-04-17 13:32:47.555801 0:00:00.000704\n",
      "2019-04-17 13:32:49.571595 2019-04-17 13:32:48.566388 0:00:00.000390\n",
      "2019-04-17 13:32:50.580238 2019-04-17 13:32:49.575298 0:00:00.000548\n",
      "2019-04-17 13:32:51.586422 2019-04-17 13:32:50.583475 0:00:00.000498\n",
      "2019-04-17 13:32:52.597042 2019-04-17 13:32:51.589940 0:00:00.000566\n",
      "2019-04-17 13:32:53.607390 2019-04-17 13:32:52.601836 0:00:00.000807\n",
      "2019-04-17 13:32:54.618539 2019-04-17 13:32:53.611387 0:00:00.000831\n",
      "2019-04-17 13:34:35.122242 2019-04-17 13:32:54.623813 0:01:39.493723\n",
      "2019-04-17 13:36:06.841772 2019-04-17 13:34:35.127388 0:01:30.710969\n",
      "2019-04-17 13:37:47.978833 2019-04-17 13:36:06.847609 0:01:40.124213\n",
      "2019-04-17 13:39:23.736225 2019-04-17 13:37:47.984325 0:01:34.748855\n",
      "2019-04-17 13:41:02.277467 2019-04-17 13:39:23.741729 0:01:37.531495\n",
      "2019-04-17 13:42:49.027379 2019-04-17 13:41:02.282765 0:01:45.739021\n",
      "2019-04-17 13:44:12.567658 2019-04-17 13:42:49.033075 0:01:22.527134\n",
      "2019-04-17 13:46:00.167530 2019-04-17 13:44:12.574396 0:01:46.589763\n",
      "2019-04-17 13:47:43.244229 2019-04-17 13:46:00.173749 0:01:42.065847\n",
      "2019-04-17 13:49:05.804982 2019-04-17 13:47:43.251344 0:01:21.549298\n",
      "2019-04-17 13:50:43.560259 2019-04-17 13:49:05.811815 0:01:36.744809\n",
      "2019-04-17 13:52:57.285626 2019-04-17 13:50:43.566362 0:02:12.717076\n",
      "2019-04-17 13:54:49.150780 2019-04-17 13:52:57.292908 0:01:50.850699\n",
      "2019-04-17 13:56:08.997671 2019-04-17 13:54:49.157619 0:01:18.836868\n",
      "[[0, 1.0], [1, 2.0], [2, 2.9990997961595953], [3, 4.001054552950209], [4, 5.001652033375256], [5, 6.001826298499227], [6, 7.000065722846756], [7, 8.002374984689565], [8, 9.002902759065021], [9, 10.004997923755521], [10, 11.005484870301936], [11, 12.00468623813379], [12, 13.007468505313094], [13, 14.006301426882834], [14, 15.006327317701254], [15, 16.00769753947603], [16, 17.010915967365623], [17, 18.010073519966305], [18, 19.01048777306101], [19, 20.01061025654814], [20, 21.010030700535843], [21, 22.008010220898477], [22, 23.010953807792546], [23, 24.009925145660755]]\n"
     ]
    },
    {
     "name": "stderr",
     "output_type": "stream",
     "text": [
      "reconstraining parameters GP_regression.mul\n",
      "reconstraining parameters GP_regression.Gaussian_noise.variance\n"
     ]
    },
    {
     "name": "stdout",
     "output_type": "stream",
     "text": [
      "sampling end!. 2019-04-17 13:56:09.004706 2019-04-17 13:57:41.965818\n"
     ]
    },
    {
     "name": "stderr",
     "output_type": "stream",
     "text": [
      "[I 2019-04-17 13:57:42,971] Finished a trial resulted in value: 0.4686454342684252. Current best value is -0.3678504795545692 with parameters: {'a': 0.628575516140339, 'b': 0.6255697130800353, 'ab': [0.628575516140339, 0.6255697130800353]}.\n"
     ]
    },
    {
     "name": "stdout",
     "output_type": "stream",
     "text": [
      "2019-04-17 13:32:45.535397 2019-04-17 13:32:44.528432 0:00:00.000208\n",
      "2019-04-17 13:32:46.544049 2019-04-17 13:32:45.539577 0:00:00.000255\n",
      "2019-04-17 13:32:47.551702 2019-04-17 13:32:46.548077 0:00:00.000312\n",
      "2019-04-17 13:32:48.562685 2019-04-17 13:32:47.555801 0:00:00.000704\n",
      "2019-04-17 13:32:49.571595 2019-04-17 13:32:48.566388 0:00:00.000390\n",
      "2019-04-17 13:32:50.580238 2019-04-17 13:32:49.575298 0:00:00.000548\n",
      "2019-04-17 13:32:51.586422 2019-04-17 13:32:50.583475 0:00:00.000498\n",
      "2019-04-17 13:32:52.597042 2019-04-17 13:32:51.589940 0:00:00.000566\n",
      "2019-04-17 13:32:53.607390 2019-04-17 13:32:52.601836 0:00:00.000807\n",
      "2019-04-17 13:32:54.618539 2019-04-17 13:32:53.611387 0:00:00.000831\n",
      "2019-04-17 13:34:35.122242 2019-04-17 13:32:54.623813 0:01:39.493723\n",
      "2019-04-17 13:36:06.841772 2019-04-17 13:34:35.127388 0:01:30.710969\n",
      "2019-04-17 13:37:47.978833 2019-04-17 13:36:06.847609 0:01:40.124213\n",
      "2019-04-17 13:39:23.736225 2019-04-17 13:37:47.984325 0:01:34.748855\n",
      "2019-04-17 13:41:02.277467 2019-04-17 13:39:23.741729 0:01:37.531495\n",
      "2019-04-17 13:42:49.027379 2019-04-17 13:41:02.282765 0:01:45.739021\n",
      "2019-04-17 13:44:12.567658 2019-04-17 13:42:49.033075 0:01:22.527134\n",
      "2019-04-17 13:46:00.167530 2019-04-17 13:44:12.574396 0:01:46.589763\n",
      "2019-04-17 13:47:43.244229 2019-04-17 13:46:00.173749 0:01:42.065847\n",
      "2019-04-17 13:49:05.804982 2019-04-17 13:47:43.251344 0:01:21.549298\n",
      "2019-04-17 13:50:43.560259 2019-04-17 13:49:05.811815 0:01:36.744809\n",
      "2019-04-17 13:52:57.285626 2019-04-17 13:50:43.566362 0:02:12.717076\n",
      "2019-04-17 13:54:49.150780 2019-04-17 13:52:57.292908 0:01:50.850699\n",
      "2019-04-17 13:56:08.997671 2019-04-17 13:54:49.157619 0:01:18.836868\n",
      "2019-04-17 13:57:42.967280 2019-04-17 13:56:09.004677 0:01:32.961112\n",
      "[[0, 1.0], [1, 2.0], [2, 2.9990997961595953], [3, 4.001054552950209], [4, 5.001652033375256], [5, 6.001826298499227], [6, 7.000065722846756], [7, 8.002374984689565], [8, 9.002902759065021], [9, 10.004997923755521], [10, 11.005484870301936], [11, 12.00468623813379], [12, 13.007468505313094], [13, 14.006301426882834], [14, 15.006327317701254], [15, 16.00769753947603], [16, 17.010915967365623], [17, 18.010073519966305], [18, 19.01048777306101], [19, 20.01061025654814], [20, 21.010030700535843], [21, 22.008010220898477], [22, 23.010953807792546], [23, 24.009925145660755], [24, 25.007210592929624]]\n"
     ]
    },
    {
     "name": "stderr",
     "output_type": "stream",
     "text": [
      "reconstraining parameters GP_regression.mul\n",
      "reconstraining parameters GP_regression.Gaussian_noise.variance\n"
     ]
    },
    {
     "name": "stdout",
     "output_type": "stream",
     "text": [
      "sampling end!. 2019-04-17 13:57:42.974685 2019-04-17 13:59:29.964597\n"
     ]
    },
    {
     "name": "stderr",
     "output_type": "stream",
     "text": [
      "[I 2019-04-17 13:59:30,974] Finished a trial resulted in value: 0.2652966752585955. Current best value is -0.3678504795545692 with parameters: {'a': 0.628575516140339, 'b': 0.6255697130800353, 'ab': [0.628575516140339, 0.6255697130800353]}.\n"
     ]
    },
    {
     "name": "stdout",
     "output_type": "stream",
     "text": [
      "2019-04-17 13:32:45.535397 2019-04-17 13:32:44.528432 0:00:00.000208\n",
      "2019-04-17 13:32:46.544049 2019-04-17 13:32:45.539577 0:00:00.000255\n",
      "2019-04-17 13:32:47.551702 2019-04-17 13:32:46.548077 0:00:00.000312\n",
      "2019-04-17 13:32:48.562685 2019-04-17 13:32:47.555801 0:00:00.000704\n",
      "2019-04-17 13:32:49.571595 2019-04-17 13:32:48.566388 0:00:00.000390\n",
      "2019-04-17 13:32:50.580238 2019-04-17 13:32:49.575298 0:00:00.000548\n",
      "2019-04-17 13:32:51.586422 2019-04-17 13:32:50.583475 0:00:00.000498\n",
      "2019-04-17 13:32:52.597042 2019-04-17 13:32:51.589940 0:00:00.000566\n",
      "2019-04-17 13:32:53.607390 2019-04-17 13:32:52.601836 0:00:00.000807\n",
      "2019-04-17 13:32:54.618539 2019-04-17 13:32:53.611387 0:00:00.000831\n",
      "2019-04-17 13:34:35.122242 2019-04-17 13:32:54.623813 0:01:39.493723\n",
      "2019-04-17 13:36:06.841772 2019-04-17 13:34:35.127388 0:01:30.710969\n",
      "2019-04-17 13:37:47.978833 2019-04-17 13:36:06.847609 0:01:40.124213\n",
      "2019-04-17 13:39:23.736225 2019-04-17 13:37:47.984325 0:01:34.748855\n",
      "2019-04-17 13:41:02.277467 2019-04-17 13:39:23.741729 0:01:37.531495\n",
      "2019-04-17 13:42:49.027379 2019-04-17 13:41:02.282765 0:01:45.739021\n",
      "2019-04-17 13:44:12.567658 2019-04-17 13:42:49.033075 0:01:22.527134\n",
      "2019-04-17 13:46:00.167530 2019-04-17 13:44:12.574396 0:01:46.589763\n",
      "2019-04-17 13:47:43.244229 2019-04-17 13:46:00.173749 0:01:42.065847\n",
      "2019-04-17 13:49:05.804982 2019-04-17 13:47:43.251344 0:01:21.549298\n",
      "2019-04-17 13:50:43.560259 2019-04-17 13:49:05.811815 0:01:36.744809\n",
      "2019-04-17 13:52:57.285626 2019-04-17 13:50:43.566362 0:02:12.717076\n",
      "2019-04-17 13:54:49.150780 2019-04-17 13:52:57.292908 0:01:50.850699\n",
      "2019-04-17 13:56:08.997671 2019-04-17 13:54:49.157619 0:01:18.836868\n",
      "2019-04-17 13:57:42.967280 2019-04-17 13:56:09.004677 0:01:32.961112\n",
      "2019-04-17 13:59:30.969727 2019-04-17 13:57:42.974637 0:01:46.989912\n",
      "[[0, 1.0], [1, 2.0], [2, 2.9990997961595953], [3, 4.001054552950209], [4, 5.001652033375256], [5, 6.001826298499227], [6, 7.000065722846756], [7, 8.002374984689565], [8, 9.002902759065021], [9, 10.004997923755521], [10, 11.005484870301936], [11, 12.00468623813379], [12, 13.007468505313094], [13, 14.006301426882834], [14, 15.006327317701254], [15, 16.00769753947603], [16, 17.010915967365623], [17, 18.010073519966305], [18, 19.01048777306101], [19, 20.01061025654814], [20, 21.010030700535843], [21, 22.008010220898477], [22, 23.010953807792546], [23, 24.009925145660755], [24, 25.007210592929624], [25, 26.00816755741041]]\n"
     ]
    },
    {
     "name": "stderr",
     "output_type": "stream",
     "text": [
      "reconstraining parameters GP_regression.mul\n",
      "reconstraining parameters GP_regression.Gaussian_noise.variance\n"
     ]
    },
    {
     "name": "stdout",
     "output_type": "stream",
     "text": [
      "sampling end!. 2019-04-17 13:59:30.976464 2019-04-17 14:01:19.555929\n"
     ]
    },
    {
     "name": "stderr",
     "output_type": "stream",
     "text": [
      "[I 2019-04-17 14:01:20,567] Finished a trial resulted in value: 0.23194326013223338. Current best value is -0.3678504795545692 with parameters: {'a': 0.628575516140339, 'b': 0.6255697130800353, 'ab': [0.628575516140339, 0.6255697130800353]}.\n"
     ]
    },
    {
     "name": "stdout",
     "output_type": "stream",
     "text": [
      "2019-04-17 13:32:45.535397 2019-04-17 13:32:44.528432 0:00:00.000208\n",
      "2019-04-17 13:32:46.544049 2019-04-17 13:32:45.539577 0:00:00.000255\n",
      "2019-04-17 13:32:47.551702 2019-04-17 13:32:46.548077 0:00:00.000312\n",
      "2019-04-17 13:32:48.562685 2019-04-17 13:32:47.555801 0:00:00.000704\n",
      "2019-04-17 13:32:49.571595 2019-04-17 13:32:48.566388 0:00:00.000390\n",
      "2019-04-17 13:32:50.580238 2019-04-17 13:32:49.575298 0:00:00.000548\n",
      "2019-04-17 13:32:51.586422 2019-04-17 13:32:50.583475 0:00:00.000498\n",
      "2019-04-17 13:32:52.597042 2019-04-17 13:32:51.589940 0:00:00.000566\n",
      "2019-04-17 13:32:53.607390 2019-04-17 13:32:52.601836 0:00:00.000807\n",
      "2019-04-17 13:32:54.618539 2019-04-17 13:32:53.611387 0:00:00.000831\n",
      "2019-04-17 13:34:35.122242 2019-04-17 13:32:54.623813 0:01:39.493723\n",
      "2019-04-17 13:36:06.841772 2019-04-17 13:34:35.127388 0:01:30.710969\n",
      "2019-04-17 13:37:47.978833 2019-04-17 13:36:06.847609 0:01:40.124213\n",
      "2019-04-17 13:39:23.736225 2019-04-17 13:37:47.984325 0:01:34.748855\n",
      "2019-04-17 13:41:02.277467 2019-04-17 13:39:23.741729 0:01:37.531495\n",
      "2019-04-17 13:42:49.027379 2019-04-17 13:41:02.282765 0:01:45.739021\n",
      "2019-04-17 13:44:12.567658 2019-04-17 13:42:49.033075 0:01:22.527134\n",
      "2019-04-17 13:46:00.167530 2019-04-17 13:44:12.574396 0:01:46.589763\n",
      "2019-04-17 13:47:43.244229 2019-04-17 13:46:00.173749 0:01:42.065847\n",
      "2019-04-17 13:49:05.804982 2019-04-17 13:47:43.251344 0:01:21.549298\n",
      "2019-04-17 13:50:43.560259 2019-04-17 13:49:05.811815 0:01:36.744809\n",
      "2019-04-17 13:52:57.285626 2019-04-17 13:50:43.566362 0:02:12.717076\n",
      "2019-04-17 13:54:49.150780 2019-04-17 13:52:57.292908 0:01:50.850699\n",
      "2019-04-17 13:56:08.997671 2019-04-17 13:54:49.157619 0:01:18.836868\n",
      "2019-04-17 13:57:42.967280 2019-04-17 13:56:09.004677 0:01:32.961112\n",
      "2019-04-17 13:59:30.969727 2019-04-17 13:57:42.974637 0:01:46.989912\n",
      "2019-04-17 14:01:20.562652 2019-04-17 13:59:30.976434 0:01:48.579465\n",
      "[[0, 1.0], [1, 2.0], [2, 2.9990997961595953], [3, 4.001054552950209], [4, 5.001652033375256], [5, 6.001826298499227], [6, 7.000065722846756], [7, 8.002374984689565], [8, 9.002902759065021], [9, 10.004997923755521], [10, 11.005484870301936], [11, 12.00468623813379], [12, 13.007468505313094], [13, 14.006301426882834], [14, 15.006327317701254], [15, 16.00769753947603], [16, 17.010915967365623], [17, 18.010073519966305], [18, 19.01048777306101], [19, 20.01061025654814], [20, 21.010030700535843], [21, 22.008010220898477], [22, 23.010953807792546], [23, 24.009925145660755], [24, 25.007210592929624], [25, 26.00816755741041], [26, 27.01069290800694]]\n"
     ]
    },
    {
     "name": "stderr",
     "output_type": "stream",
     "text": [
      "reconstraining parameters GP_regression.mul\n",
      "reconstraining parameters GP_regression.Gaussian_noise.variance\n"
     ]
    },
    {
     "name": "stdout",
     "output_type": "stream",
     "text": [
      "sampling end!. 2019-04-17 14:01:20.569629 2019-04-17 14:02:55.017191\n"
     ]
    },
    {
     "name": "stderr",
     "output_type": "stream",
     "text": [
      "[I 2019-04-17 14:02:56,025] Finished a trial resulted in value: 0.37831093537009775. Current best value is -0.3678504795545692 with parameters: {'a': 0.628575516140339, 'b': 0.6255697130800353, 'ab': [0.628575516140339, 0.6255697130800353]}.\n"
     ]
    },
    {
     "name": "stdout",
     "output_type": "stream",
     "text": [
      "2019-04-17 13:32:45.535397 2019-04-17 13:32:44.528432 0:00:00.000208\n",
      "2019-04-17 13:32:46.544049 2019-04-17 13:32:45.539577 0:00:00.000255\n",
      "2019-04-17 13:32:47.551702 2019-04-17 13:32:46.548077 0:00:00.000312\n",
      "2019-04-17 13:32:48.562685 2019-04-17 13:32:47.555801 0:00:00.000704\n",
      "2019-04-17 13:32:49.571595 2019-04-17 13:32:48.566388 0:00:00.000390\n",
      "2019-04-17 13:32:50.580238 2019-04-17 13:32:49.575298 0:00:00.000548\n",
      "2019-04-17 13:32:51.586422 2019-04-17 13:32:50.583475 0:00:00.000498\n",
      "2019-04-17 13:32:52.597042 2019-04-17 13:32:51.589940 0:00:00.000566\n",
      "2019-04-17 13:32:53.607390 2019-04-17 13:32:52.601836 0:00:00.000807\n",
      "2019-04-17 13:32:54.618539 2019-04-17 13:32:53.611387 0:00:00.000831\n",
      "2019-04-17 13:34:35.122242 2019-04-17 13:32:54.623813 0:01:39.493723\n",
      "2019-04-17 13:36:06.841772 2019-04-17 13:34:35.127388 0:01:30.710969\n",
      "2019-04-17 13:37:47.978833 2019-04-17 13:36:06.847609 0:01:40.124213\n",
      "2019-04-17 13:39:23.736225 2019-04-17 13:37:47.984325 0:01:34.748855\n",
      "2019-04-17 13:41:02.277467 2019-04-17 13:39:23.741729 0:01:37.531495\n",
      "2019-04-17 13:42:49.027379 2019-04-17 13:41:02.282765 0:01:45.739021\n",
      "2019-04-17 13:44:12.567658 2019-04-17 13:42:49.033075 0:01:22.527134\n",
      "2019-04-17 13:46:00.167530 2019-04-17 13:44:12.574396 0:01:46.589763\n",
      "2019-04-17 13:47:43.244229 2019-04-17 13:46:00.173749 0:01:42.065847\n",
      "2019-04-17 13:49:05.804982 2019-04-17 13:47:43.251344 0:01:21.549298\n",
      "2019-04-17 13:50:43.560259 2019-04-17 13:49:05.811815 0:01:36.744809\n",
      "2019-04-17 13:52:57.285626 2019-04-17 13:50:43.566362 0:02:12.717076\n",
      "2019-04-17 13:54:49.150780 2019-04-17 13:52:57.292908 0:01:50.850699\n",
      "2019-04-17 13:56:08.997671 2019-04-17 13:54:49.157619 0:01:18.836868\n",
      "2019-04-17 13:57:42.967280 2019-04-17 13:56:09.004677 0:01:32.961112\n",
      "2019-04-17 13:59:30.969727 2019-04-17 13:57:42.974637 0:01:46.989912\n",
      "2019-04-17 14:01:20.562652 2019-04-17 13:59:30.976434 0:01:48.579465\n",
      "2019-04-17 14:02:56.020329 2019-04-17 14:01:20.569600 0:01:34.447562\n",
      "[[0, 1.0], [1, 2.0], [2, 2.9990997961595953], [3, 4.001054552950209], [4, 5.001652033375256], [5, 6.001826298499227], [6, 7.000065722846756], [7, 8.002374984689565], [8, 9.002902759065021], [9, 10.004997923755521], [10, 11.005484870301936], [11, 12.00468623813379], [12, 13.007468505313094], [13, 14.006301426882834], [14, 15.006327317701254], [15, 16.00769753947603], [16, 17.010915967365623], [17, 18.010073519966305], [18, 19.01048777306101], [19, 20.01061025654814], [20, 21.010030700535843], [21, 22.008010220898477], [22, 23.010953807792546], [23, 24.009925145660755], [24, 25.007210592929624], [25, 26.00816755741041], [26, 27.01069290800694], [27, 28.00964731726311]]\n"
     ]
    },
    {
     "name": "stderr",
     "output_type": "stream",
     "text": [
      "reconstraining parameters GP_regression.mul\n",
      "reconstraining parameters GP_regression.Gaussian_noise.variance\n"
     ]
    },
    {
     "name": "stdout",
     "output_type": "stream",
     "text": [
      "sampling end!. 2019-04-17 14:02:56.028010 2019-04-17 14:04:53.968386\n"
     ]
    },
    {
     "name": "stderr",
     "output_type": "stream",
     "text": [
      "[I 2019-04-17 14:04:54,978] Finished a trial resulted in value: 0.321134329496506. Current best value is -0.3678504795545692 with parameters: {'a': 0.628575516140339, 'b': 0.6255697130800353, 'ab': [0.628575516140339, 0.6255697130800353]}.\n"
     ]
    },
    {
     "name": "stdout",
     "output_type": "stream",
     "text": [
      "2019-04-17 13:32:45.535397 2019-04-17 13:32:44.528432 0:00:00.000208\n",
      "2019-04-17 13:32:46.544049 2019-04-17 13:32:45.539577 0:00:00.000255\n",
      "2019-04-17 13:32:47.551702 2019-04-17 13:32:46.548077 0:00:00.000312\n",
      "2019-04-17 13:32:48.562685 2019-04-17 13:32:47.555801 0:00:00.000704\n",
      "2019-04-17 13:32:49.571595 2019-04-17 13:32:48.566388 0:00:00.000390\n",
      "2019-04-17 13:32:50.580238 2019-04-17 13:32:49.575298 0:00:00.000548\n",
      "2019-04-17 13:32:51.586422 2019-04-17 13:32:50.583475 0:00:00.000498\n",
      "2019-04-17 13:32:52.597042 2019-04-17 13:32:51.589940 0:00:00.000566\n",
      "2019-04-17 13:32:53.607390 2019-04-17 13:32:52.601836 0:00:00.000807\n",
      "2019-04-17 13:32:54.618539 2019-04-17 13:32:53.611387 0:00:00.000831\n",
      "2019-04-17 13:34:35.122242 2019-04-17 13:32:54.623813 0:01:39.493723\n",
      "2019-04-17 13:36:06.841772 2019-04-17 13:34:35.127388 0:01:30.710969\n",
      "2019-04-17 13:37:47.978833 2019-04-17 13:36:06.847609 0:01:40.124213\n",
      "2019-04-17 13:39:23.736225 2019-04-17 13:37:47.984325 0:01:34.748855\n",
      "2019-04-17 13:41:02.277467 2019-04-17 13:39:23.741729 0:01:37.531495\n",
      "2019-04-17 13:42:49.027379 2019-04-17 13:41:02.282765 0:01:45.739021\n",
      "2019-04-17 13:44:12.567658 2019-04-17 13:42:49.033075 0:01:22.527134\n",
      "2019-04-17 13:46:00.167530 2019-04-17 13:44:12.574396 0:01:46.589763\n",
      "2019-04-17 13:47:43.244229 2019-04-17 13:46:00.173749 0:01:42.065847\n",
      "2019-04-17 13:49:05.804982 2019-04-17 13:47:43.251344 0:01:21.549298\n",
      "2019-04-17 13:50:43.560259 2019-04-17 13:49:05.811815 0:01:36.744809\n",
      "2019-04-17 13:52:57.285626 2019-04-17 13:50:43.566362 0:02:12.717076\n",
      "2019-04-17 13:54:49.150780 2019-04-17 13:52:57.292908 0:01:50.850699\n",
      "2019-04-17 13:56:08.997671 2019-04-17 13:54:49.157619 0:01:18.836868\n",
      "2019-04-17 13:57:42.967280 2019-04-17 13:56:09.004677 0:01:32.961112\n",
      "2019-04-17 13:59:30.969727 2019-04-17 13:57:42.974637 0:01:46.989912\n",
      "2019-04-17 14:01:20.562652 2019-04-17 13:59:30.976434 0:01:48.579465\n",
      "2019-04-17 14:02:56.020329 2019-04-17 14:01:20.569600 0:01:34.447562\n",
      "2019-04-17 14:04:54.973702 2019-04-17 14:02:56.027981 0:01:57.940376\n",
      "[[0, 1.0], [1, 2.0], [2, 2.9990997961595953], [3, 4.001054552950209], [4, 5.001652033375256], [5, 6.001826298499227], [6, 7.000065722846756], [7, 8.002374984689565], [8, 9.002902759065021], [9, 10.004997923755521], [10, 11.005484870301936], [11, 12.00468623813379], [12, 13.007468505313094], [13, 14.006301426882834], [14, 15.006327317701254], [15, 16.00769753947603], [16, 17.010915967365623], [17, 18.010073519966305], [18, 19.01048777306101], [19, 20.01061025654814], [20, 21.010030700535843], [21, 22.008010220898477], [22, 23.010953807792546], [23, 24.009925145660755], [24, 25.007210592929624], [25, 26.00816755741041], [26, 27.01069290800694], [27, 28.00964731726311], [28, 29.0107705804622]]\n"
     ]
    },
    {
     "name": "stderr",
     "output_type": "stream",
     "text": [
      "reconstraining parameters GP_regression.mul\n",
      "reconstraining parameters GP_regression.Gaussian_noise.variance\n"
     ]
    },
    {
     "name": "stdout",
     "output_type": "stream",
     "text": [
      "sampling end!. 2019-04-17 14:04:54.981463 2019-04-17 14:06:24.211790\n"
     ]
    },
    {
     "name": "stderr",
     "output_type": "stream",
     "text": [
      "[I 2019-04-17 14:06:25,224] Finished a trial resulted in value: 0.40658736603030066. Current best value is -0.3678504795545692 with parameters: {'a': 0.628575516140339, 'b': 0.6255697130800353, 'ab': [0.628575516140339, 0.6255697130800353]}.\n"
     ]
    },
    {
     "name": "stdout",
     "output_type": "stream",
     "text": [
      "2019-04-17 13:32:45.535397 2019-04-17 13:32:44.528432 0:00:00.000208\n",
      "2019-04-17 13:32:46.544049 2019-04-17 13:32:45.539577 0:00:00.000255\n",
      "2019-04-17 13:32:47.551702 2019-04-17 13:32:46.548077 0:00:00.000312\n",
      "2019-04-17 13:32:48.562685 2019-04-17 13:32:47.555801 0:00:00.000704\n",
      "2019-04-17 13:32:49.571595 2019-04-17 13:32:48.566388 0:00:00.000390\n",
      "2019-04-17 13:32:50.580238 2019-04-17 13:32:49.575298 0:00:00.000548\n",
      "2019-04-17 13:32:51.586422 2019-04-17 13:32:50.583475 0:00:00.000498\n",
      "2019-04-17 13:32:52.597042 2019-04-17 13:32:51.589940 0:00:00.000566\n",
      "2019-04-17 13:32:53.607390 2019-04-17 13:32:52.601836 0:00:00.000807\n",
      "2019-04-17 13:32:54.618539 2019-04-17 13:32:53.611387 0:00:00.000831\n",
      "2019-04-17 13:34:35.122242 2019-04-17 13:32:54.623813 0:01:39.493723\n",
      "2019-04-17 13:36:06.841772 2019-04-17 13:34:35.127388 0:01:30.710969\n",
      "2019-04-17 13:37:47.978833 2019-04-17 13:36:06.847609 0:01:40.124213\n",
      "2019-04-17 13:39:23.736225 2019-04-17 13:37:47.984325 0:01:34.748855\n",
      "2019-04-17 13:41:02.277467 2019-04-17 13:39:23.741729 0:01:37.531495\n",
      "2019-04-17 13:42:49.027379 2019-04-17 13:41:02.282765 0:01:45.739021\n",
      "2019-04-17 13:44:12.567658 2019-04-17 13:42:49.033075 0:01:22.527134\n",
      "2019-04-17 13:46:00.167530 2019-04-17 13:44:12.574396 0:01:46.589763\n",
      "2019-04-17 13:47:43.244229 2019-04-17 13:46:00.173749 0:01:42.065847\n",
      "2019-04-17 13:49:05.804982 2019-04-17 13:47:43.251344 0:01:21.549298\n",
      "2019-04-17 13:50:43.560259 2019-04-17 13:49:05.811815 0:01:36.744809\n",
      "2019-04-17 13:52:57.285626 2019-04-17 13:50:43.566362 0:02:12.717076\n",
      "2019-04-17 13:54:49.150780 2019-04-17 13:52:57.292908 0:01:50.850699\n",
      "2019-04-17 13:56:08.997671 2019-04-17 13:54:49.157619 0:01:18.836868\n",
      "2019-04-17 13:57:42.967280 2019-04-17 13:56:09.004677 0:01:32.961112\n",
      "2019-04-17 13:59:30.969727 2019-04-17 13:57:42.974637 0:01:46.989912\n",
      "2019-04-17 14:01:20.562652 2019-04-17 13:59:30.976434 0:01:48.579465\n",
      "2019-04-17 14:02:56.020329 2019-04-17 14:01:20.569600 0:01:34.447562\n",
      "2019-04-17 14:04:54.973702 2019-04-17 14:02:56.027981 0:01:57.940376\n",
      "2019-04-17 14:06:25.218921 2019-04-17 14:04:54.981432 0:01:29.230327\n",
      "[[0, 1.0], [1, 2.0], [2, 2.9990997961595953], [3, 4.001054552950209], [4, 5.001652033375256], [5, 6.001826298499227], [6, 7.000065722846756], [7, 8.002374984689565], [8, 9.002902759065021], [9, 10.004997923755521], [10, 11.005484870301936], [11, 12.00468623813379], [12, 13.007468505313094], [13, 14.006301426882834], [14, 15.006327317701254], [15, 16.00769753947603], [16, 17.010915967365623], [17, 18.010073519966305], [18, 19.01048777306101], [19, 20.01061025654814], [20, 21.010030700535843], [21, 22.008010220898477], [22, 23.010953807792546], [23, 24.009925145660755], [24, 25.007210592929624], [25, 26.00816755741041], [26, 27.01069290800694], [27, 28.00964731726311], [28, 29.0107705804622], [29, 30.013703213548474]]\n"
     ]
    },
    {
     "name": "stderr",
     "output_type": "stream",
     "text": [
      "reconstraining parameters GP_regression.mul\n",
      "reconstraining parameters GP_regression.Gaussian_noise.variance\n"
     ]
    },
    {
     "name": "stdout",
     "output_type": "stream",
     "text": [
      "sampling end!. 2019-04-17 14:06:25.227946 2019-04-17 14:08:10.040435\n"
     ]
    },
    {
     "name": "stderr",
     "output_type": "stream",
     "text": [
      "[I 2019-04-17 14:08:11,047] Finished a trial resulted in value: 0.3263976052472815. Current best value is -0.3678504795545692 with parameters: {'a': 0.628575516140339, 'b': 0.6255697130800353, 'ab': [0.628575516140339, 0.6255697130800353]}.\n"
     ]
    },
    {
     "name": "stdout",
     "output_type": "stream",
     "text": [
      "2019-04-17 13:32:45.535397 2019-04-17 13:32:44.528432 0:00:00.000208\n",
      "2019-04-17 13:32:46.544049 2019-04-17 13:32:45.539577 0:00:00.000255\n",
      "2019-04-17 13:32:47.551702 2019-04-17 13:32:46.548077 0:00:00.000312\n",
      "2019-04-17 13:32:48.562685 2019-04-17 13:32:47.555801 0:00:00.000704\n",
      "2019-04-17 13:32:49.571595 2019-04-17 13:32:48.566388 0:00:00.000390\n",
      "2019-04-17 13:32:50.580238 2019-04-17 13:32:49.575298 0:00:00.000548\n",
      "2019-04-17 13:32:51.586422 2019-04-17 13:32:50.583475 0:00:00.000498\n",
      "2019-04-17 13:32:52.597042 2019-04-17 13:32:51.589940 0:00:00.000566\n",
      "2019-04-17 13:32:53.607390 2019-04-17 13:32:52.601836 0:00:00.000807\n",
      "2019-04-17 13:32:54.618539 2019-04-17 13:32:53.611387 0:00:00.000831\n",
      "2019-04-17 13:34:35.122242 2019-04-17 13:32:54.623813 0:01:39.493723\n",
      "2019-04-17 13:36:06.841772 2019-04-17 13:34:35.127388 0:01:30.710969\n",
      "2019-04-17 13:37:47.978833 2019-04-17 13:36:06.847609 0:01:40.124213\n",
      "2019-04-17 13:39:23.736225 2019-04-17 13:37:47.984325 0:01:34.748855\n",
      "2019-04-17 13:41:02.277467 2019-04-17 13:39:23.741729 0:01:37.531495\n",
      "2019-04-17 13:42:49.027379 2019-04-17 13:41:02.282765 0:01:45.739021\n",
      "2019-04-17 13:44:12.567658 2019-04-17 13:42:49.033075 0:01:22.527134\n",
      "2019-04-17 13:46:00.167530 2019-04-17 13:44:12.574396 0:01:46.589763\n",
      "2019-04-17 13:47:43.244229 2019-04-17 13:46:00.173749 0:01:42.065847\n",
      "2019-04-17 13:49:05.804982 2019-04-17 13:47:43.251344 0:01:21.549298\n",
      "2019-04-17 13:50:43.560259 2019-04-17 13:49:05.811815 0:01:36.744809\n",
      "2019-04-17 13:52:57.285626 2019-04-17 13:50:43.566362 0:02:12.717076\n",
      "2019-04-17 13:54:49.150780 2019-04-17 13:52:57.292908 0:01:50.850699\n",
      "2019-04-17 13:56:08.997671 2019-04-17 13:54:49.157619 0:01:18.836868\n",
      "2019-04-17 13:57:42.967280 2019-04-17 13:56:09.004677 0:01:32.961112\n",
      "2019-04-17 13:59:30.969727 2019-04-17 13:57:42.974637 0:01:46.989912\n",
      "2019-04-17 14:01:20.562652 2019-04-17 13:59:30.976434 0:01:48.579465\n",
      "2019-04-17 14:02:56.020329 2019-04-17 14:01:20.569600 0:01:34.447562\n",
      "2019-04-17 14:04:54.973702 2019-04-17 14:02:56.027981 0:01:57.940376\n",
      "2019-04-17 14:06:25.218921 2019-04-17 14:04:54.981432 0:01:29.230327\n",
      "2019-04-17 14:08:11.042810 2019-04-17 14:06:25.227910 0:01:44.812489\n",
      "[[0, 1.0], [1, 2.0], [2, 2.9990997961595953], [3, 4.001054552950209], [4, 5.001652033375256], [5, 6.001826298499227], [6, 7.000065722846756], [7, 8.002374984689565], [8, 9.002902759065021], [9, 10.004997923755521], [10, 11.005484870301936], [11, 12.00468623813379], [12, 13.007468505313094], [13, 14.006301426882834], [14, 15.006327317701254], [15, 16.00769753947603], [16, 17.010915967365623], [17, 18.010073519966305], [18, 19.01048777306101], [19, 20.01061025654814], [20, 21.010030700535843], [21, 22.008010220898477], [22, 23.010953807792546], [23, 24.009925145660755], [24, 25.007210592929624], [25, 26.00816755741041], [26, 27.01069290800694], [27, 28.00964731726311], [28, 29.0107705804622], [29, 30.013703213548474], [30, 31.011904797469075]]\n"
     ]
    },
    {
     "name": "stderr",
     "output_type": "stream",
     "text": [
      "reconstraining parameters GP_regression.mul\n",
      "reconstraining parameters GP_regression.Gaussian_noise.variance\n"
     ]
    },
    {
     "name": "stdout",
     "output_type": "stream",
     "text": [
      "sampling end!. 2019-04-17 14:08:11.050136 2019-04-17 14:10:08.784601\n"
     ]
    },
    {
     "name": "stderr",
     "output_type": "stream",
     "text": [
      "[I 2019-04-17 14:10:09,791] Finished a trial resulted in value: 0.22998206069404747. Current best value is -0.3678504795545692 with parameters: {'a': 0.628575516140339, 'b': 0.6255697130800353, 'ab': [0.628575516140339, 0.6255697130800353]}.\n"
     ]
    },
    {
     "name": "stdout",
     "output_type": "stream",
     "text": [
      "2019-04-17 13:32:45.535397 2019-04-17 13:32:44.528432 0:00:00.000208\n",
      "2019-04-17 13:32:46.544049 2019-04-17 13:32:45.539577 0:00:00.000255\n",
      "2019-04-17 13:32:47.551702 2019-04-17 13:32:46.548077 0:00:00.000312\n",
      "2019-04-17 13:32:48.562685 2019-04-17 13:32:47.555801 0:00:00.000704\n",
      "2019-04-17 13:32:49.571595 2019-04-17 13:32:48.566388 0:00:00.000390\n",
      "2019-04-17 13:32:50.580238 2019-04-17 13:32:49.575298 0:00:00.000548\n",
      "2019-04-17 13:32:51.586422 2019-04-17 13:32:50.583475 0:00:00.000498\n",
      "2019-04-17 13:32:52.597042 2019-04-17 13:32:51.589940 0:00:00.000566\n",
      "2019-04-17 13:32:53.607390 2019-04-17 13:32:52.601836 0:00:00.000807\n",
      "2019-04-17 13:32:54.618539 2019-04-17 13:32:53.611387 0:00:00.000831\n",
      "2019-04-17 13:34:35.122242 2019-04-17 13:32:54.623813 0:01:39.493723\n",
      "2019-04-17 13:36:06.841772 2019-04-17 13:34:35.127388 0:01:30.710969\n",
      "2019-04-17 13:37:47.978833 2019-04-17 13:36:06.847609 0:01:40.124213\n",
      "2019-04-17 13:39:23.736225 2019-04-17 13:37:47.984325 0:01:34.748855\n",
      "2019-04-17 13:41:02.277467 2019-04-17 13:39:23.741729 0:01:37.531495\n",
      "2019-04-17 13:42:49.027379 2019-04-17 13:41:02.282765 0:01:45.739021\n",
      "2019-04-17 13:44:12.567658 2019-04-17 13:42:49.033075 0:01:22.527134\n",
      "2019-04-17 13:46:00.167530 2019-04-17 13:44:12.574396 0:01:46.589763\n",
      "2019-04-17 13:47:43.244229 2019-04-17 13:46:00.173749 0:01:42.065847\n",
      "2019-04-17 13:49:05.804982 2019-04-17 13:47:43.251344 0:01:21.549298\n",
      "2019-04-17 13:50:43.560259 2019-04-17 13:49:05.811815 0:01:36.744809\n",
      "2019-04-17 13:52:57.285626 2019-04-17 13:50:43.566362 0:02:12.717076\n",
      "2019-04-17 13:54:49.150780 2019-04-17 13:52:57.292908 0:01:50.850699\n",
      "2019-04-17 13:56:08.997671 2019-04-17 13:54:49.157619 0:01:18.836868\n",
      "2019-04-17 13:57:42.967280 2019-04-17 13:56:09.004677 0:01:32.961112\n",
      "2019-04-17 13:59:30.969727 2019-04-17 13:57:42.974637 0:01:46.989912\n",
      "2019-04-17 14:01:20.562652 2019-04-17 13:59:30.976434 0:01:48.579465\n",
      "2019-04-17 14:02:56.020329 2019-04-17 14:01:20.569600 0:01:34.447562\n",
      "2019-04-17 14:04:54.973702 2019-04-17 14:02:56.027981 0:01:57.940376\n",
      "2019-04-17 14:06:25.218921 2019-04-17 14:04:54.981432 0:01:29.230327\n",
      "2019-04-17 14:08:11.042810 2019-04-17 14:06:25.227910 0:01:44.812489\n",
      "2019-04-17 14:10:09.786447 2019-04-17 14:08:11.050107 0:01:57.734465\n",
      "[[0, 1.0], [1, 2.0], [2, 2.9990997961595953], [3, 4.001054552950209], [4, 5.001652033375256], [5, 6.001826298499227], [6, 7.000065722846756], [7, 8.002374984689565], [8, 9.002902759065021], [9, 10.004997923755521], [10, 11.005484870301936], [11, 12.00468623813379], [12, 13.007468505313094], [13, 14.006301426882834], [14, 15.006327317701254], [15, 16.00769753947603], [16, 17.010915967365623], [17, 18.010073519966305], [18, 19.01048777306101], [19, 20.01061025654814], [20, 21.010030700535843], [21, 22.008010220898477], [22, 23.010953807792546], [23, 24.009925145660755], [24, 25.007210592929624], [25, 26.00816755741041], [26, 27.01069290800694], [27, 28.00964731726311], [28, 29.0107705804622], [29, 30.013703213548474], [30, 31.011904797469075], [31, 32.009572632209974]]\n"
     ]
    },
    {
     "name": "stderr",
     "output_type": "stream",
     "text": [
      "reconstraining parameters GP_regression.mul\n",
      "reconstraining parameters GP_regression.Gaussian_noise.variance\n"
     ]
    },
    {
     "name": "stdout",
     "output_type": "stream",
     "text": [
      "sampling end!. 2019-04-17 14:10:09.794241 2019-04-17 14:12:02.863242\n"
     ]
    },
    {
     "name": "stderr",
     "output_type": "stream",
     "text": [
      "[I 2019-04-17 14:12:03,872] Finished a trial resulted in value: 0.4208938967774176. Current best value is -0.3678504795545692 with parameters: {'a': 0.628575516140339, 'b': 0.6255697130800353, 'ab': [0.628575516140339, 0.6255697130800353]}.\n"
     ]
    },
    {
     "name": "stdout",
     "output_type": "stream",
     "text": [
      "2019-04-17 13:32:45.535397 2019-04-17 13:32:44.528432 0:00:00.000208\n",
      "2019-04-17 13:32:46.544049 2019-04-17 13:32:45.539577 0:00:00.000255\n",
      "2019-04-17 13:32:47.551702 2019-04-17 13:32:46.548077 0:00:00.000312\n",
      "2019-04-17 13:32:48.562685 2019-04-17 13:32:47.555801 0:00:00.000704\n",
      "2019-04-17 13:32:49.571595 2019-04-17 13:32:48.566388 0:00:00.000390\n",
      "2019-04-17 13:32:50.580238 2019-04-17 13:32:49.575298 0:00:00.000548\n",
      "2019-04-17 13:32:51.586422 2019-04-17 13:32:50.583475 0:00:00.000498\n",
      "2019-04-17 13:32:52.597042 2019-04-17 13:32:51.589940 0:00:00.000566\n",
      "2019-04-17 13:32:53.607390 2019-04-17 13:32:52.601836 0:00:00.000807\n",
      "2019-04-17 13:32:54.618539 2019-04-17 13:32:53.611387 0:00:00.000831\n",
      "2019-04-17 13:34:35.122242 2019-04-17 13:32:54.623813 0:01:39.493723\n",
      "2019-04-17 13:36:06.841772 2019-04-17 13:34:35.127388 0:01:30.710969\n",
      "2019-04-17 13:37:47.978833 2019-04-17 13:36:06.847609 0:01:40.124213\n",
      "2019-04-17 13:39:23.736225 2019-04-17 13:37:47.984325 0:01:34.748855\n",
      "2019-04-17 13:41:02.277467 2019-04-17 13:39:23.741729 0:01:37.531495\n",
      "2019-04-17 13:42:49.027379 2019-04-17 13:41:02.282765 0:01:45.739021\n",
      "2019-04-17 13:44:12.567658 2019-04-17 13:42:49.033075 0:01:22.527134\n",
      "2019-04-17 13:46:00.167530 2019-04-17 13:44:12.574396 0:01:46.589763\n",
      "2019-04-17 13:47:43.244229 2019-04-17 13:46:00.173749 0:01:42.065847\n",
      "2019-04-17 13:49:05.804982 2019-04-17 13:47:43.251344 0:01:21.549298\n",
      "2019-04-17 13:50:43.560259 2019-04-17 13:49:05.811815 0:01:36.744809\n",
      "2019-04-17 13:52:57.285626 2019-04-17 13:50:43.566362 0:02:12.717076\n",
      "2019-04-17 13:54:49.150780 2019-04-17 13:52:57.292908 0:01:50.850699\n",
      "2019-04-17 13:56:08.997671 2019-04-17 13:54:49.157619 0:01:18.836868\n",
      "2019-04-17 13:57:42.967280 2019-04-17 13:56:09.004677 0:01:32.961112\n",
      "2019-04-17 13:59:30.969727 2019-04-17 13:57:42.974637 0:01:46.989912\n",
      "2019-04-17 14:01:20.562652 2019-04-17 13:59:30.976434 0:01:48.579465\n",
      "2019-04-17 14:02:56.020329 2019-04-17 14:01:20.569600 0:01:34.447562\n",
      "2019-04-17 14:04:54.973702 2019-04-17 14:02:56.027981 0:01:57.940376\n",
      "2019-04-17 14:06:25.218921 2019-04-17 14:04:54.981432 0:01:29.230327\n",
      "2019-04-17 14:08:11.042810 2019-04-17 14:06:25.227910 0:01:44.812489\n",
      "2019-04-17 14:10:09.786447 2019-04-17 14:08:11.050107 0:01:57.734465\n",
      "2019-04-17 14:12:03.866770 2019-04-17 14:10:09.794211 0:01:53.069001\n",
      "[[0, 1.0], [1, 2.0], [2, 2.9990997961595953], [3, 4.001054552950209], [4, 5.001652033375256], [5, 6.001826298499227], [6, 7.000065722846756], [7, 8.002374984689565], [8, 9.002902759065021], [9, 10.004997923755521], [10, 11.005484870301936], [11, 12.00468623813379], [12, 13.007468505313094], [13, 14.006301426882834], [14, 15.006327317701254], [15, 16.00769753947603], [16, 17.010915967365623], [17, 18.010073519966305], [18, 19.01048777306101], [19, 20.01061025654814], [20, 21.010030700535843], [21, 22.008010220898477], [22, 23.010953807792546], [23, 24.009925145660755], [24, 25.007210592929624], [25, 26.00816755741041], [26, 27.01069290800694], [27, 28.00964731726311], [28, 29.0107705804622], [29, 30.013703213548474], [30, 31.011904797469075], [31, 32.009572632209974], [32, 33.008916399543125]]\n"
     ]
    },
    {
     "name": "stderr",
     "output_type": "stream",
     "text": [
      "reconstraining parameters GP_regression.mul\n",
      "reconstraining parameters GP_regression.Gaussian_noise.variance\n"
     ]
    },
    {
     "name": "stdout",
     "output_type": "stream",
     "text": [
      "sampling end!. 2019-04-17 14:12:03.874461 2019-04-17 14:13:58.541636\n"
     ]
    },
    {
     "name": "stderr",
     "output_type": "stream",
     "text": [
      "[I 2019-04-17 14:13:59,552] Finished a trial resulted in value: 0.3909200512021647. Current best value is -0.3678504795545692 with parameters: {'a': 0.628575516140339, 'b': 0.6255697130800353, 'ab': [0.628575516140339, 0.6255697130800353]}.\n"
     ]
    },
    {
     "name": "stdout",
     "output_type": "stream",
     "text": [
      "2019-04-17 13:32:45.535397 2019-04-17 13:32:44.528432 0:00:00.000208\n",
      "2019-04-17 13:32:46.544049 2019-04-17 13:32:45.539577 0:00:00.000255\n",
      "2019-04-17 13:32:47.551702 2019-04-17 13:32:46.548077 0:00:00.000312\n",
      "2019-04-17 13:32:48.562685 2019-04-17 13:32:47.555801 0:00:00.000704\n",
      "2019-04-17 13:32:49.571595 2019-04-17 13:32:48.566388 0:00:00.000390\n",
      "2019-04-17 13:32:50.580238 2019-04-17 13:32:49.575298 0:00:00.000548\n",
      "2019-04-17 13:32:51.586422 2019-04-17 13:32:50.583475 0:00:00.000498\n",
      "2019-04-17 13:32:52.597042 2019-04-17 13:32:51.589940 0:00:00.000566\n",
      "2019-04-17 13:32:53.607390 2019-04-17 13:32:52.601836 0:00:00.000807\n",
      "2019-04-17 13:32:54.618539 2019-04-17 13:32:53.611387 0:00:00.000831\n",
      "2019-04-17 13:34:35.122242 2019-04-17 13:32:54.623813 0:01:39.493723\n",
      "2019-04-17 13:36:06.841772 2019-04-17 13:34:35.127388 0:01:30.710969\n",
      "2019-04-17 13:37:47.978833 2019-04-17 13:36:06.847609 0:01:40.124213\n",
      "2019-04-17 13:39:23.736225 2019-04-17 13:37:47.984325 0:01:34.748855\n",
      "2019-04-17 13:41:02.277467 2019-04-17 13:39:23.741729 0:01:37.531495\n",
      "2019-04-17 13:42:49.027379 2019-04-17 13:41:02.282765 0:01:45.739021\n",
      "2019-04-17 13:44:12.567658 2019-04-17 13:42:49.033075 0:01:22.527134\n",
      "2019-04-17 13:46:00.167530 2019-04-17 13:44:12.574396 0:01:46.589763\n",
      "2019-04-17 13:47:43.244229 2019-04-17 13:46:00.173749 0:01:42.065847\n",
      "2019-04-17 13:49:05.804982 2019-04-17 13:47:43.251344 0:01:21.549298\n",
      "2019-04-17 13:50:43.560259 2019-04-17 13:49:05.811815 0:01:36.744809\n",
      "2019-04-17 13:52:57.285626 2019-04-17 13:50:43.566362 0:02:12.717076\n",
      "2019-04-17 13:54:49.150780 2019-04-17 13:52:57.292908 0:01:50.850699\n",
      "2019-04-17 13:56:08.997671 2019-04-17 13:54:49.157619 0:01:18.836868\n",
      "2019-04-17 13:57:42.967280 2019-04-17 13:56:09.004677 0:01:32.961112\n",
      "2019-04-17 13:59:30.969727 2019-04-17 13:57:42.974637 0:01:46.989912\n",
      "2019-04-17 14:01:20.562652 2019-04-17 13:59:30.976434 0:01:48.579465\n",
      "2019-04-17 14:02:56.020329 2019-04-17 14:01:20.569600 0:01:34.447562\n",
      "2019-04-17 14:04:54.973702 2019-04-17 14:02:56.027981 0:01:57.940376\n",
      "2019-04-17 14:06:25.218921 2019-04-17 14:04:54.981432 0:01:29.230327\n",
      "2019-04-17 14:08:11.042810 2019-04-17 14:06:25.227910 0:01:44.812489\n",
      "2019-04-17 14:10:09.786447 2019-04-17 14:08:11.050107 0:01:57.734465\n",
      "2019-04-17 14:12:03.866770 2019-04-17 14:10:09.794211 0:01:53.069001\n",
      "2019-04-17 14:13:59.547424 2019-04-17 14:12:03.874431 0:01:54.667175\n",
      "[[0, 1.0], [1, 2.0], [2, 2.9990997961595953], [3, 4.001054552950209], [4, 5.001652033375256], [5, 6.001826298499227], [6, 7.000065722846756], [7, 8.002374984689565], [8, 9.002902759065021], [9, 10.004997923755521], [10, 11.005484870301936], [11, 12.00468623813379], [12, 13.007468505313094], [13, 14.006301426882834], [14, 15.006327317701254], [15, 16.00769753947603], [16, 17.010915967365623], [17, 18.010073519966305], [18, 19.01048777306101], [19, 20.01061025654814], [20, 21.010030700535843], [21, 22.008010220898477], [22, 23.010953807792546], [23, 24.009925145660755], [24, 25.007210592929624], [25, 26.00816755741041], [26, 27.01069290800694], [27, 28.00964731726311], [28, 29.0107705804622], [29, 30.013703213548474], [30, 31.011904797469075], [31, 32.009572632209974], [32, 33.008916399543125], [33, 34.010510676477296]]\n"
     ]
    },
    {
     "name": "stderr",
     "output_type": "stream",
     "text": [
      "reconstraining parameters GP_regression.mul\n",
      "reconstraining parameters GP_regression.Gaussian_noise.variance\n"
     ]
    },
    {
     "name": "stdout",
     "output_type": "stream",
     "text": [
      "sampling end!. 2019-04-17 14:13:59.555207 2019-04-17 14:15:49.280866\n"
     ]
    },
    {
     "name": "stderr",
     "output_type": "stream",
     "text": [
      "[I 2019-04-17 14:15:50,286] Finished a trial resulted in value: 0.6217604111902753. Current best value is -0.3678504795545692 with parameters: {'a': 0.628575516140339, 'b': 0.6255697130800353, 'ab': [0.628575516140339, 0.6255697130800353]}.\n"
     ]
    },
    {
     "name": "stdout",
     "output_type": "stream",
     "text": [
      "2019-04-17 13:32:45.535397 2019-04-17 13:32:44.528432 0:00:00.000208\n",
      "2019-04-17 13:32:46.544049 2019-04-17 13:32:45.539577 0:00:00.000255\n",
      "2019-04-17 13:32:47.551702 2019-04-17 13:32:46.548077 0:00:00.000312\n",
      "2019-04-17 13:32:48.562685 2019-04-17 13:32:47.555801 0:00:00.000704\n",
      "2019-04-17 13:32:49.571595 2019-04-17 13:32:48.566388 0:00:00.000390\n",
      "2019-04-17 13:32:50.580238 2019-04-17 13:32:49.575298 0:00:00.000548\n",
      "2019-04-17 13:32:51.586422 2019-04-17 13:32:50.583475 0:00:00.000498\n",
      "2019-04-17 13:32:52.597042 2019-04-17 13:32:51.589940 0:00:00.000566\n",
      "2019-04-17 13:32:53.607390 2019-04-17 13:32:52.601836 0:00:00.000807\n",
      "2019-04-17 13:32:54.618539 2019-04-17 13:32:53.611387 0:00:00.000831\n",
      "2019-04-17 13:34:35.122242 2019-04-17 13:32:54.623813 0:01:39.493723\n",
      "2019-04-17 13:36:06.841772 2019-04-17 13:34:35.127388 0:01:30.710969\n",
      "2019-04-17 13:37:47.978833 2019-04-17 13:36:06.847609 0:01:40.124213\n",
      "2019-04-17 13:39:23.736225 2019-04-17 13:37:47.984325 0:01:34.748855\n",
      "2019-04-17 13:41:02.277467 2019-04-17 13:39:23.741729 0:01:37.531495\n",
      "2019-04-17 13:42:49.027379 2019-04-17 13:41:02.282765 0:01:45.739021\n",
      "2019-04-17 13:44:12.567658 2019-04-17 13:42:49.033075 0:01:22.527134\n",
      "2019-04-17 13:46:00.167530 2019-04-17 13:44:12.574396 0:01:46.589763\n",
      "2019-04-17 13:47:43.244229 2019-04-17 13:46:00.173749 0:01:42.065847\n",
      "2019-04-17 13:49:05.804982 2019-04-17 13:47:43.251344 0:01:21.549298\n",
      "2019-04-17 13:50:43.560259 2019-04-17 13:49:05.811815 0:01:36.744809\n",
      "2019-04-17 13:52:57.285626 2019-04-17 13:50:43.566362 0:02:12.717076\n",
      "2019-04-17 13:54:49.150780 2019-04-17 13:52:57.292908 0:01:50.850699\n",
      "2019-04-17 13:56:08.997671 2019-04-17 13:54:49.157619 0:01:18.836868\n",
      "2019-04-17 13:57:42.967280 2019-04-17 13:56:09.004677 0:01:32.961112\n",
      "2019-04-17 13:59:30.969727 2019-04-17 13:57:42.974637 0:01:46.989912\n",
      "2019-04-17 14:01:20.562652 2019-04-17 13:59:30.976434 0:01:48.579465\n",
      "2019-04-17 14:02:56.020329 2019-04-17 14:01:20.569600 0:01:34.447562\n",
      "2019-04-17 14:04:54.973702 2019-04-17 14:02:56.027981 0:01:57.940376\n",
      "2019-04-17 14:06:25.218921 2019-04-17 14:04:54.981432 0:01:29.230327\n",
      "2019-04-17 14:08:11.042810 2019-04-17 14:06:25.227910 0:01:44.812489\n",
      "2019-04-17 14:10:09.786447 2019-04-17 14:08:11.050107 0:01:57.734465\n",
      "2019-04-17 14:12:03.866770 2019-04-17 14:10:09.794211 0:01:53.069001\n",
      "2019-04-17 14:13:59.547424 2019-04-17 14:12:03.874431 0:01:54.667175\n",
      "2019-04-17 14:15:50.282620 2019-04-17 14:13:59.555178 0:01:49.725659\n",
      "[[0, 1.0], [1, 2.0], [2, 2.9990997961595953], [3, 4.001054552950209], [4, 5.001652033375256], [5, 6.001826298499227], [6, 7.000065722846756], [7, 8.002374984689565], [8, 9.002902759065021], [9, 10.004997923755521], [10, 11.005484870301936], [11, 12.00468623813379], [12, 13.007468505313094], [13, 14.006301426882834], [14, 15.006327317701254], [15, 16.00769753947603], [16, 17.010915967365623], [17, 18.010073519966305], [18, 19.01048777306101], [19, 20.01061025654814], [20, 21.010030700535843], [21, 22.008010220898477], [22, 23.010953807792546], [23, 24.009925145660755], [24, 25.007210592929624], [25, 26.00816755741041], [26, 27.01069290800694], [27, 28.00964731726311], [28, 29.0107705804622], [29, 30.013703213548474], [30, 31.011904797469075], [31, 32.009572632209974], [32, 33.008916399543125], [33, 34.010510676477296], [34, 35.00808689755302]]\n"
     ]
    },
    {
     "name": "stderr",
     "output_type": "stream",
     "text": [
      "reconstraining parameters GP_regression.mul\n",
      "reconstraining parameters GP_regression.Gaussian_noise.variance\n"
     ]
    },
    {
     "name": "stdout",
     "output_type": "stream",
     "text": [
      "sampling end!. 2019-04-17 14:15:50.288901 2019-04-17 14:17:28.867795\n"
     ]
    },
    {
     "name": "stderr",
     "output_type": "stream",
     "text": [
      "[I 2019-04-17 14:17:29,877] Finished a trial resulted in value: 0.7286504110037643. Current best value is -0.3678504795545692 with parameters: {'a': 0.628575516140339, 'b': 0.6255697130800353, 'ab': [0.628575516140339, 0.6255697130800353]}.\n"
     ]
    },
    {
     "name": "stdout",
     "output_type": "stream",
     "text": [
      "2019-04-17 13:32:45.535397 2019-04-17 13:32:44.528432 0:00:00.000208\n",
      "2019-04-17 13:32:46.544049 2019-04-17 13:32:45.539577 0:00:00.000255\n",
      "2019-04-17 13:32:47.551702 2019-04-17 13:32:46.548077 0:00:00.000312\n",
      "2019-04-17 13:32:48.562685 2019-04-17 13:32:47.555801 0:00:00.000704\n",
      "2019-04-17 13:32:49.571595 2019-04-17 13:32:48.566388 0:00:00.000390\n",
      "2019-04-17 13:32:50.580238 2019-04-17 13:32:49.575298 0:00:00.000548\n",
      "2019-04-17 13:32:51.586422 2019-04-17 13:32:50.583475 0:00:00.000498\n",
      "2019-04-17 13:32:52.597042 2019-04-17 13:32:51.589940 0:00:00.000566\n",
      "2019-04-17 13:32:53.607390 2019-04-17 13:32:52.601836 0:00:00.000807\n",
      "2019-04-17 13:32:54.618539 2019-04-17 13:32:53.611387 0:00:00.000831\n",
      "2019-04-17 13:34:35.122242 2019-04-17 13:32:54.623813 0:01:39.493723\n",
      "2019-04-17 13:36:06.841772 2019-04-17 13:34:35.127388 0:01:30.710969\n",
      "2019-04-17 13:37:47.978833 2019-04-17 13:36:06.847609 0:01:40.124213\n",
      "2019-04-17 13:39:23.736225 2019-04-17 13:37:47.984325 0:01:34.748855\n",
      "2019-04-17 13:41:02.277467 2019-04-17 13:39:23.741729 0:01:37.531495\n",
      "2019-04-17 13:42:49.027379 2019-04-17 13:41:02.282765 0:01:45.739021\n",
      "2019-04-17 13:44:12.567658 2019-04-17 13:42:49.033075 0:01:22.527134\n",
      "2019-04-17 13:46:00.167530 2019-04-17 13:44:12.574396 0:01:46.589763\n",
      "2019-04-17 13:47:43.244229 2019-04-17 13:46:00.173749 0:01:42.065847\n",
      "2019-04-17 13:49:05.804982 2019-04-17 13:47:43.251344 0:01:21.549298\n",
      "2019-04-17 13:50:43.560259 2019-04-17 13:49:05.811815 0:01:36.744809\n",
      "2019-04-17 13:52:57.285626 2019-04-17 13:50:43.566362 0:02:12.717076\n",
      "2019-04-17 13:54:49.150780 2019-04-17 13:52:57.292908 0:01:50.850699\n",
      "2019-04-17 13:56:08.997671 2019-04-17 13:54:49.157619 0:01:18.836868\n",
      "2019-04-17 13:57:42.967280 2019-04-17 13:56:09.004677 0:01:32.961112\n",
      "2019-04-17 13:59:30.969727 2019-04-17 13:57:42.974637 0:01:46.989912\n",
      "2019-04-17 14:01:20.562652 2019-04-17 13:59:30.976434 0:01:48.579465\n",
      "2019-04-17 14:02:56.020329 2019-04-17 14:01:20.569600 0:01:34.447562\n",
      "2019-04-17 14:04:54.973702 2019-04-17 14:02:56.027981 0:01:57.940376\n",
      "2019-04-17 14:06:25.218921 2019-04-17 14:04:54.981432 0:01:29.230327\n",
      "2019-04-17 14:08:11.042810 2019-04-17 14:06:25.227910 0:01:44.812489\n",
      "2019-04-17 14:10:09.786447 2019-04-17 14:08:11.050107 0:01:57.734465\n",
      "2019-04-17 14:12:03.866770 2019-04-17 14:10:09.794211 0:01:53.069001\n",
      "2019-04-17 14:13:59.547424 2019-04-17 14:12:03.874431 0:01:54.667175\n",
      "2019-04-17 14:15:50.282620 2019-04-17 14:13:59.555178 0:01:49.725659\n",
      "2019-04-17 14:17:29.871802 2019-04-17 14:15:50.288872 0:01:38.578894\n",
      "[[0, 1.0], [1, 2.0], [2, 2.9990997961595953], [3, 4.001054552950209], [4, 5.001652033375256], [5, 6.001826298499227], [6, 7.000065722846756], [7, 8.002374984689565], [8, 9.002902759065021], [9, 10.004997923755521], [10, 11.005484870301936], [11, 12.00468623813379], [12, 13.007468505313094], [13, 14.006301426882834], [14, 15.006327317701254], [15, 16.00769753947603], [16, 17.010915967365623], [17, 18.010073519966305], [18, 19.01048777306101], [19, 20.01061025654814], [20, 21.010030700535843], [21, 22.008010220898477], [22, 23.010953807792546], [23, 24.009925145660755], [24, 25.007210592929624], [25, 26.00816755741041], [26, 27.01069290800694], [27, 28.00964731726311], [28, 29.0107705804622], [29, 30.013703213548474], [30, 31.011904797469075], [31, 32.009572632209974], [32, 33.008916399543125], [33, 34.010510676477296], [34, 35.00808689755302], [35, 36.007906657624794]]\n"
     ]
    },
    {
     "name": "stderr",
     "output_type": "stream",
     "text": [
      "reconstraining parameters GP_regression.mul\n",
      "reconstraining parameters GP_regression.Gaussian_noise.variance\n"
     ]
    },
    {
     "name": "stdout",
     "output_type": "stream",
     "text": [
      "sampling end!. 2019-04-17 14:17:29.879680 2019-04-17 14:19:12.295141\n"
     ]
    },
    {
     "name": "stderr",
     "output_type": "stream",
     "text": [
      "[I 2019-04-17 14:19:13,304] Finished a trial resulted in value: 0.6475532212896128. Current best value is -0.3678504795545692 with parameters: {'a': 0.628575516140339, 'b': 0.6255697130800353, 'ab': [0.628575516140339, 0.6255697130800353]}.\n"
     ]
    },
    {
     "name": "stdout",
     "output_type": "stream",
     "text": [
      "2019-04-17 13:32:45.535397 2019-04-17 13:32:44.528432 0:00:00.000208\n",
      "2019-04-17 13:32:46.544049 2019-04-17 13:32:45.539577 0:00:00.000255\n",
      "2019-04-17 13:32:47.551702 2019-04-17 13:32:46.548077 0:00:00.000312\n",
      "2019-04-17 13:32:48.562685 2019-04-17 13:32:47.555801 0:00:00.000704\n",
      "2019-04-17 13:32:49.571595 2019-04-17 13:32:48.566388 0:00:00.000390\n",
      "2019-04-17 13:32:50.580238 2019-04-17 13:32:49.575298 0:00:00.000548\n",
      "2019-04-17 13:32:51.586422 2019-04-17 13:32:50.583475 0:00:00.000498\n",
      "2019-04-17 13:32:52.597042 2019-04-17 13:32:51.589940 0:00:00.000566\n",
      "2019-04-17 13:32:53.607390 2019-04-17 13:32:52.601836 0:00:00.000807\n",
      "2019-04-17 13:32:54.618539 2019-04-17 13:32:53.611387 0:00:00.000831\n",
      "2019-04-17 13:34:35.122242 2019-04-17 13:32:54.623813 0:01:39.493723\n",
      "2019-04-17 13:36:06.841772 2019-04-17 13:34:35.127388 0:01:30.710969\n",
      "2019-04-17 13:37:47.978833 2019-04-17 13:36:06.847609 0:01:40.124213\n",
      "2019-04-17 13:39:23.736225 2019-04-17 13:37:47.984325 0:01:34.748855\n",
      "2019-04-17 13:41:02.277467 2019-04-17 13:39:23.741729 0:01:37.531495\n",
      "2019-04-17 13:42:49.027379 2019-04-17 13:41:02.282765 0:01:45.739021\n",
      "2019-04-17 13:44:12.567658 2019-04-17 13:42:49.033075 0:01:22.527134\n",
      "2019-04-17 13:46:00.167530 2019-04-17 13:44:12.574396 0:01:46.589763\n",
      "2019-04-17 13:47:43.244229 2019-04-17 13:46:00.173749 0:01:42.065847\n",
      "2019-04-17 13:49:05.804982 2019-04-17 13:47:43.251344 0:01:21.549298\n",
      "2019-04-17 13:50:43.560259 2019-04-17 13:49:05.811815 0:01:36.744809\n",
      "2019-04-17 13:52:57.285626 2019-04-17 13:50:43.566362 0:02:12.717076\n",
      "2019-04-17 13:54:49.150780 2019-04-17 13:52:57.292908 0:01:50.850699\n",
      "2019-04-17 13:56:08.997671 2019-04-17 13:54:49.157619 0:01:18.836868\n",
      "2019-04-17 13:57:42.967280 2019-04-17 13:56:09.004677 0:01:32.961112\n",
      "2019-04-17 13:59:30.969727 2019-04-17 13:57:42.974637 0:01:46.989912\n",
      "2019-04-17 14:01:20.562652 2019-04-17 13:59:30.976434 0:01:48.579465\n",
      "2019-04-17 14:02:56.020329 2019-04-17 14:01:20.569600 0:01:34.447562\n",
      "2019-04-17 14:04:54.973702 2019-04-17 14:02:56.027981 0:01:57.940376\n",
      "2019-04-17 14:06:25.218921 2019-04-17 14:04:54.981432 0:01:29.230327\n",
      "2019-04-17 14:08:11.042810 2019-04-17 14:06:25.227910 0:01:44.812489\n",
      "2019-04-17 14:10:09.786447 2019-04-17 14:08:11.050107 0:01:57.734465\n",
      "2019-04-17 14:12:03.866770 2019-04-17 14:10:09.794211 0:01:53.069001\n",
      "2019-04-17 14:13:59.547424 2019-04-17 14:12:03.874431 0:01:54.667175\n",
      "2019-04-17 14:15:50.282620 2019-04-17 14:13:59.555178 0:01:49.725659\n",
      "2019-04-17 14:17:29.871802 2019-04-17 14:15:50.288872 0:01:38.578894\n",
      "2019-04-17 14:19:13.298968 2019-04-17 14:17:29.879649 0:01:42.415461\n",
      "[[0, 1.0], [1, 2.0], [2, 2.9990997961595953], [3, 4.001054552950209], [4, 5.001652033375256], [5, 6.001826298499227], [6, 7.000065722846756], [7, 8.002374984689565], [8, 9.002902759065021], [9, 10.004997923755521], [10, 11.005484870301936], [11, 12.00468623813379], [12, 13.007468505313094], [13, 14.006301426882834], [14, 15.006327317701254], [15, 16.00769753947603], [16, 17.010915967365623], [17, 18.010073519966305], [18, 19.01048777306101], [19, 20.01061025654814], [20, 21.010030700535843], [21, 22.008010220898477], [22, 23.010953807792546], [23, 24.009925145660755], [24, 25.007210592929624], [25, 26.00816755741041], [26, 27.01069290800694], [27, 28.00964731726311], [28, 29.0107705804622], [29, 30.013703213548474], [30, 31.011904797469075], [31, 32.009572632209974], [32, 33.008916399543125], [33, 34.010510676477296], [34, 35.00808689755302], [35, 36.007906657624794], [36, 37.007549165170474]]\n"
     ]
    },
    {
     "name": "stderr",
     "output_type": "stream",
     "text": [
      "reconstraining parameters GP_regression.mul\n",
      "reconstraining parameters GP_regression.Gaussian_noise.variance\n"
     ]
    },
    {
     "name": "stdout",
     "output_type": "stream",
     "text": [
      "sampling end!. 2019-04-17 14:19:13.306985 2019-04-17 14:21:13.834398\n"
     ]
    },
    {
     "name": "stderr",
     "output_type": "stream",
     "text": [
      "[I 2019-04-17 14:21:14,842] Finished a trial resulted in value: 0.7011978700711711. Current best value is -0.3678504795545692 with parameters: {'a': 0.628575516140339, 'b': 0.6255697130800353, 'ab': [0.628575516140339, 0.6255697130800353]}.\n"
     ]
    },
    {
     "name": "stdout",
     "output_type": "stream",
     "text": [
      "2019-04-17 13:32:45.535397 2019-04-17 13:32:44.528432 0:00:00.000208\n",
      "2019-04-17 13:32:46.544049 2019-04-17 13:32:45.539577 0:00:00.000255\n",
      "2019-04-17 13:32:47.551702 2019-04-17 13:32:46.548077 0:00:00.000312\n",
      "2019-04-17 13:32:48.562685 2019-04-17 13:32:47.555801 0:00:00.000704\n",
      "2019-04-17 13:32:49.571595 2019-04-17 13:32:48.566388 0:00:00.000390\n",
      "2019-04-17 13:32:50.580238 2019-04-17 13:32:49.575298 0:00:00.000548\n",
      "2019-04-17 13:32:51.586422 2019-04-17 13:32:50.583475 0:00:00.000498\n",
      "2019-04-17 13:32:52.597042 2019-04-17 13:32:51.589940 0:00:00.000566\n",
      "2019-04-17 13:32:53.607390 2019-04-17 13:32:52.601836 0:00:00.000807\n",
      "2019-04-17 13:32:54.618539 2019-04-17 13:32:53.611387 0:00:00.000831\n",
      "2019-04-17 13:34:35.122242 2019-04-17 13:32:54.623813 0:01:39.493723\n",
      "2019-04-17 13:36:06.841772 2019-04-17 13:34:35.127388 0:01:30.710969\n",
      "2019-04-17 13:37:47.978833 2019-04-17 13:36:06.847609 0:01:40.124213\n",
      "2019-04-17 13:39:23.736225 2019-04-17 13:37:47.984325 0:01:34.748855\n",
      "2019-04-17 13:41:02.277467 2019-04-17 13:39:23.741729 0:01:37.531495\n",
      "2019-04-17 13:42:49.027379 2019-04-17 13:41:02.282765 0:01:45.739021\n",
      "2019-04-17 13:44:12.567658 2019-04-17 13:42:49.033075 0:01:22.527134\n",
      "2019-04-17 13:46:00.167530 2019-04-17 13:44:12.574396 0:01:46.589763\n",
      "2019-04-17 13:47:43.244229 2019-04-17 13:46:00.173749 0:01:42.065847\n",
      "2019-04-17 13:49:05.804982 2019-04-17 13:47:43.251344 0:01:21.549298\n",
      "2019-04-17 13:50:43.560259 2019-04-17 13:49:05.811815 0:01:36.744809\n",
      "2019-04-17 13:52:57.285626 2019-04-17 13:50:43.566362 0:02:12.717076\n",
      "2019-04-17 13:54:49.150780 2019-04-17 13:52:57.292908 0:01:50.850699\n",
      "2019-04-17 13:56:08.997671 2019-04-17 13:54:49.157619 0:01:18.836868\n",
      "2019-04-17 13:57:42.967280 2019-04-17 13:56:09.004677 0:01:32.961112\n",
      "2019-04-17 13:59:30.969727 2019-04-17 13:57:42.974637 0:01:46.989912\n",
      "2019-04-17 14:01:20.562652 2019-04-17 13:59:30.976434 0:01:48.579465\n",
      "2019-04-17 14:02:56.020329 2019-04-17 14:01:20.569600 0:01:34.447562\n",
      "2019-04-17 14:04:54.973702 2019-04-17 14:02:56.027981 0:01:57.940376\n",
      "2019-04-17 14:06:25.218921 2019-04-17 14:04:54.981432 0:01:29.230327\n",
      "2019-04-17 14:08:11.042810 2019-04-17 14:06:25.227910 0:01:44.812489\n",
      "2019-04-17 14:10:09.786447 2019-04-17 14:08:11.050107 0:01:57.734465\n",
      "2019-04-17 14:12:03.866770 2019-04-17 14:10:09.794211 0:01:53.069001\n",
      "2019-04-17 14:13:59.547424 2019-04-17 14:12:03.874431 0:01:54.667175\n",
      "2019-04-17 14:15:50.282620 2019-04-17 14:13:59.555178 0:01:49.725659\n",
      "2019-04-17 14:17:29.871802 2019-04-17 14:15:50.288872 0:01:38.578894\n",
      "2019-04-17 14:19:13.298968 2019-04-17 14:17:29.879649 0:01:42.415461\n",
      "2019-04-17 14:21:14.836276 2019-04-17 14:19:13.306950 0:02:00.527413\n",
      "[[0, 1.0], [1, 2.0], [2, 2.9990997961595953], [3, 4.001054552950209], [4, 5.001652033375256], [5, 6.001826298499227], [6, 7.000065722846756], [7, 8.002374984689565], [8, 9.002902759065021], [9, 10.004997923755521], [10, 11.005484870301936], [11, 12.00468623813379], [12, 13.007468505313094], [13, 14.006301426882834], [14, 15.006327317701254], [15, 16.00769753947603], [16, 17.010915967365623], [17, 18.010073519966305], [18, 19.01048777306101], [19, 20.01061025654814], [20, 21.010030700535843], [21, 22.008010220898477], [22, 23.010953807792546], [23, 24.009925145660755], [24, 25.007210592929624], [25, 26.00816755741041], [26, 27.01069290800694], [27, 28.00964731726311], [28, 29.0107705804622], [29, 30.013703213548474], [30, 31.011904797469075], [31, 32.009572632209974], [32, 33.008916399543125], [33, 34.010510676477296], [34, 35.00808689755302], [35, 36.007906657624794], [36, 37.007549165170474], [37, 38.005254840338296]]\n"
     ]
    },
    {
     "name": "stderr",
     "output_type": "stream",
     "text": [
      "reconstraining parameters GP_regression.mul\n",
      "reconstraining parameters GP_regression.Gaussian_noise.variance\n"
     ]
    },
    {
     "name": "stdout",
     "output_type": "stream",
     "text": [
      "sampling end!. 2019-04-17 14:21:14.845259 2019-04-17 14:23:15.657171\n"
     ]
    },
    {
     "name": "stderr",
     "output_type": "stream",
     "text": [
      "[I 2019-04-17 14:23:16,669] Finished a trial resulted in value: 0.5896157072125209. Current best value is -0.3678504795545692 with parameters: {'a': 0.628575516140339, 'b': 0.6255697130800353, 'ab': [0.628575516140339, 0.6255697130800353]}.\n"
     ]
    },
    {
     "name": "stdout",
     "output_type": "stream",
     "text": [
      "2019-04-17 13:32:45.535397 2019-04-17 13:32:44.528432 0:00:00.000208\n",
      "2019-04-17 13:32:46.544049 2019-04-17 13:32:45.539577 0:00:00.000255\n",
      "2019-04-17 13:32:47.551702 2019-04-17 13:32:46.548077 0:00:00.000312\n",
      "2019-04-17 13:32:48.562685 2019-04-17 13:32:47.555801 0:00:00.000704\n",
      "2019-04-17 13:32:49.571595 2019-04-17 13:32:48.566388 0:00:00.000390\n",
      "2019-04-17 13:32:50.580238 2019-04-17 13:32:49.575298 0:00:00.000548\n",
      "2019-04-17 13:32:51.586422 2019-04-17 13:32:50.583475 0:00:00.000498\n",
      "2019-04-17 13:32:52.597042 2019-04-17 13:32:51.589940 0:00:00.000566\n",
      "2019-04-17 13:32:53.607390 2019-04-17 13:32:52.601836 0:00:00.000807\n",
      "2019-04-17 13:32:54.618539 2019-04-17 13:32:53.611387 0:00:00.000831\n",
      "2019-04-17 13:34:35.122242 2019-04-17 13:32:54.623813 0:01:39.493723\n",
      "2019-04-17 13:36:06.841772 2019-04-17 13:34:35.127388 0:01:30.710969\n",
      "2019-04-17 13:37:47.978833 2019-04-17 13:36:06.847609 0:01:40.124213\n",
      "2019-04-17 13:39:23.736225 2019-04-17 13:37:47.984325 0:01:34.748855\n",
      "2019-04-17 13:41:02.277467 2019-04-17 13:39:23.741729 0:01:37.531495\n",
      "2019-04-17 13:42:49.027379 2019-04-17 13:41:02.282765 0:01:45.739021\n",
      "2019-04-17 13:44:12.567658 2019-04-17 13:42:49.033075 0:01:22.527134\n",
      "2019-04-17 13:46:00.167530 2019-04-17 13:44:12.574396 0:01:46.589763\n",
      "2019-04-17 13:47:43.244229 2019-04-17 13:46:00.173749 0:01:42.065847\n",
      "2019-04-17 13:49:05.804982 2019-04-17 13:47:43.251344 0:01:21.549298\n",
      "2019-04-17 13:50:43.560259 2019-04-17 13:49:05.811815 0:01:36.744809\n",
      "2019-04-17 13:52:57.285626 2019-04-17 13:50:43.566362 0:02:12.717076\n",
      "2019-04-17 13:54:49.150780 2019-04-17 13:52:57.292908 0:01:50.850699\n",
      "2019-04-17 13:56:08.997671 2019-04-17 13:54:49.157619 0:01:18.836868\n",
      "2019-04-17 13:57:42.967280 2019-04-17 13:56:09.004677 0:01:32.961112\n",
      "2019-04-17 13:59:30.969727 2019-04-17 13:57:42.974637 0:01:46.989912\n",
      "2019-04-17 14:01:20.562652 2019-04-17 13:59:30.976434 0:01:48.579465\n",
      "2019-04-17 14:02:56.020329 2019-04-17 14:01:20.569600 0:01:34.447562\n",
      "2019-04-17 14:04:54.973702 2019-04-17 14:02:56.027981 0:01:57.940376\n",
      "2019-04-17 14:06:25.218921 2019-04-17 14:04:54.981432 0:01:29.230327\n",
      "2019-04-17 14:08:11.042810 2019-04-17 14:06:25.227910 0:01:44.812489\n",
      "2019-04-17 14:10:09.786447 2019-04-17 14:08:11.050107 0:01:57.734465\n",
      "2019-04-17 14:12:03.866770 2019-04-17 14:10:09.794211 0:01:53.069001\n",
      "2019-04-17 14:13:59.547424 2019-04-17 14:12:03.874431 0:01:54.667175\n",
      "2019-04-17 14:15:50.282620 2019-04-17 14:13:59.555178 0:01:49.725659\n",
      "2019-04-17 14:17:29.871802 2019-04-17 14:15:50.288872 0:01:38.578894\n",
      "2019-04-17 14:19:13.298968 2019-04-17 14:17:29.879649 0:01:42.415461\n",
      "2019-04-17 14:21:14.836276 2019-04-17 14:19:13.306950 0:02:00.527413\n",
      "2019-04-17 14:23:16.663054 2019-04-17 14:21:14.845227 0:02:00.811912\n",
      "[[0, 1.0], [1, 2.0], [2, 2.9990997961595953], [3, 4.001054552950209], [4, 5.001652033375256], [5, 6.001826298499227], [6, 7.000065722846756], [7, 8.002374984689565], [8, 9.002902759065021], [9, 10.004997923755521], [10, 11.005484870301936], [11, 12.00468623813379], [12, 13.007468505313094], [13, 14.006301426882834], [14, 15.006327317701254], [15, 16.00769753947603], [16, 17.010915967365623], [17, 18.010073519966305], [18, 19.01048777306101], [19, 20.01061025654814], [20, 21.010030700535843], [21, 22.008010220898477], [22, 23.010953807792546], [23, 24.009925145660755], [24, 25.007210592929624], [25, 26.00816755741041], [26, 27.01069290800694], [27, 28.00964731726311], [28, 29.0107705804622], [29, 30.013703213548474], [30, 31.011904797469075], [31, 32.009572632209974], [32, 33.008916399543125], [33, 34.010510676477296], [34, 35.00808689755302], [35, 36.007906657624794], [36, 37.007549165170474], [37, 38.005254840338296], [38, 39.006945709941185]]\n"
     ]
    },
    {
     "name": "stderr",
     "output_type": "stream",
     "text": [
      "reconstraining parameters GP_regression.mul\n",
      "reconstraining parameters GP_regression.Gaussian_noise.variance\n"
     ]
    },
    {
     "name": "stdout",
     "output_type": "stream",
     "text": [
      "sampling end!. 2019-04-17 14:23:16.671616 2019-04-17 14:25:08.861157\n"
     ]
    },
    {
     "name": "stderr",
     "output_type": "stream",
     "text": [
      "[I 2019-04-17 14:25:09,872] Finished a trial resulted in value: 0.5911263680147725. Current best value is -0.3678504795545692 with parameters: {'a': 0.628575516140339, 'b': 0.6255697130800353, 'ab': [0.628575516140339, 0.6255697130800353]}.\n"
     ]
    },
    {
     "name": "stdout",
     "output_type": "stream",
     "text": [
      "2019-04-17 13:32:45.535397 2019-04-17 13:32:44.528432 0:00:00.000208\n",
      "2019-04-17 13:32:46.544049 2019-04-17 13:32:45.539577 0:00:00.000255\n",
      "2019-04-17 13:32:47.551702 2019-04-17 13:32:46.548077 0:00:00.000312\n",
      "2019-04-17 13:32:48.562685 2019-04-17 13:32:47.555801 0:00:00.000704\n",
      "2019-04-17 13:32:49.571595 2019-04-17 13:32:48.566388 0:00:00.000390\n",
      "2019-04-17 13:32:50.580238 2019-04-17 13:32:49.575298 0:00:00.000548\n",
      "2019-04-17 13:32:51.586422 2019-04-17 13:32:50.583475 0:00:00.000498\n",
      "2019-04-17 13:32:52.597042 2019-04-17 13:32:51.589940 0:00:00.000566\n",
      "2019-04-17 13:32:53.607390 2019-04-17 13:32:52.601836 0:00:00.000807\n",
      "2019-04-17 13:32:54.618539 2019-04-17 13:32:53.611387 0:00:00.000831\n",
      "2019-04-17 13:34:35.122242 2019-04-17 13:32:54.623813 0:01:39.493723\n",
      "2019-04-17 13:36:06.841772 2019-04-17 13:34:35.127388 0:01:30.710969\n",
      "2019-04-17 13:37:47.978833 2019-04-17 13:36:06.847609 0:01:40.124213\n",
      "2019-04-17 13:39:23.736225 2019-04-17 13:37:47.984325 0:01:34.748855\n",
      "2019-04-17 13:41:02.277467 2019-04-17 13:39:23.741729 0:01:37.531495\n",
      "2019-04-17 13:42:49.027379 2019-04-17 13:41:02.282765 0:01:45.739021\n",
      "2019-04-17 13:44:12.567658 2019-04-17 13:42:49.033075 0:01:22.527134\n",
      "2019-04-17 13:46:00.167530 2019-04-17 13:44:12.574396 0:01:46.589763\n",
      "2019-04-17 13:47:43.244229 2019-04-17 13:46:00.173749 0:01:42.065847\n",
      "2019-04-17 13:49:05.804982 2019-04-17 13:47:43.251344 0:01:21.549298\n",
      "2019-04-17 13:50:43.560259 2019-04-17 13:49:05.811815 0:01:36.744809\n",
      "2019-04-17 13:52:57.285626 2019-04-17 13:50:43.566362 0:02:12.717076\n",
      "2019-04-17 13:54:49.150780 2019-04-17 13:52:57.292908 0:01:50.850699\n",
      "2019-04-17 13:56:08.997671 2019-04-17 13:54:49.157619 0:01:18.836868\n",
      "2019-04-17 13:57:42.967280 2019-04-17 13:56:09.004677 0:01:32.961112\n",
      "2019-04-17 13:59:30.969727 2019-04-17 13:57:42.974637 0:01:46.989912\n",
      "2019-04-17 14:01:20.562652 2019-04-17 13:59:30.976434 0:01:48.579465\n",
      "2019-04-17 14:02:56.020329 2019-04-17 14:01:20.569600 0:01:34.447562\n",
      "2019-04-17 14:04:54.973702 2019-04-17 14:02:56.027981 0:01:57.940376\n",
      "2019-04-17 14:06:25.218921 2019-04-17 14:04:54.981432 0:01:29.230327\n",
      "2019-04-17 14:08:11.042810 2019-04-17 14:06:25.227910 0:01:44.812489\n",
      "2019-04-17 14:10:09.786447 2019-04-17 14:08:11.050107 0:01:57.734465\n",
      "2019-04-17 14:12:03.866770 2019-04-17 14:10:09.794211 0:01:53.069001\n",
      "2019-04-17 14:13:59.547424 2019-04-17 14:12:03.874431 0:01:54.667175\n",
      "2019-04-17 14:15:50.282620 2019-04-17 14:13:59.555178 0:01:49.725659\n",
      "2019-04-17 14:17:29.871802 2019-04-17 14:15:50.288872 0:01:38.578894\n",
      "2019-04-17 14:19:13.298968 2019-04-17 14:17:29.879649 0:01:42.415461\n",
      "2019-04-17 14:21:14.836276 2019-04-17 14:19:13.306950 0:02:00.527413\n",
      "2019-04-17 14:23:16.663054 2019-04-17 14:21:14.845227 0:02:00.811912\n",
      "2019-04-17 14:25:09.866602 2019-04-17 14:23:16.671587 0:01:52.189541\n",
      "[[0, 1.0], [1, 2.0], [2, 2.9990997961595953], [3, 4.001054552950209], [4, 5.001652033375256], [5, 6.001826298499227], [6, 7.000065722846756], [7, 8.002374984689565], [8, 9.002902759065021], [9, 10.004997923755521], [10, 11.005484870301936], [11, 12.00468623813379], [12, 13.007468505313094], [13, 14.006301426882834], [14, 15.006327317701254], [15, 16.00769753947603], [16, 17.010915967365623], [17, 18.010073519966305], [18, 19.01048777306101], [19, 20.01061025654814], [20, 21.010030700535843], [21, 22.008010220898477], [22, 23.010953807792546], [23, 24.009925145660755], [24, 25.007210592929624], [25, 26.00816755741041], [26, 27.01069290800694], [27, 28.00964731726311], [28, 29.0107705804622], [29, 30.013703213548474], [30, 31.011904797469075], [31, 32.009572632209974], [32, 33.008916399543125], [33, 34.010510676477296], [34, 35.00808689755302], [35, 36.007906657624794], [36, 37.007549165170474], [37, 38.005254840338296], [38, 39.006945709941185], [39, 40.008197431431654]]\n"
     ]
    },
    {
     "name": "stderr",
     "output_type": "stream",
     "text": [
      "reconstraining parameters GP_regression.mul\n",
      "reconstraining parameters GP_regression.Gaussian_noise.variance\n"
     ]
    },
    {
     "name": "stdout",
     "output_type": "stream",
     "text": [
      "sampling end!. 2019-04-17 14:25:09.875380 2019-04-17 14:26:47.737994\n"
     ]
    },
    {
     "name": "stderr",
     "output_type": "stream",
     "text": [
      "[I 2019-04-17 14:26:48,748] Finished a trial resulted in value: 0.6661689413219318. Current best value is -0.3678504795545692 with parameters: {'a': 0.628575516140339, 'b': 0.6255697130800353, 'ab': [0.628575516140339, 0.6255697130800353]}.\n"
     ]
    },
    {
     "name": "stdout",
     "output_type": "stream",
     "text": [
      "2019-04-17 13:32:45.535397 2019-04-17 13:32:44.528432 0:00:00.000208\n",
      "2019-04-17 13:32:46.544049 2019-04-17 13:32:45.539577 0:00:00.000255\n",
      "2019-04-17 13:32:47.551702 2019-04-17 13:32:46.548077 0:00:00.000312\n",
      "2019-04-17 13:32:48.562685 2019-04-17 13:32:47.555801 0:00:00.000704\n",
      "2019-04-17 13:32:49.571595 2019-04-17 13:32:48.566388 0:00:00.000390\n",
      "2019-04-17 13:32:50.580238 2019-04-17 13:32:49.575298 0:00:00.000548\n",
      "2019-04-17 13:32:51.586422 2019-04-17 13:32:50.583475 0:00:00.000498\n",
      "2019-04-17 13:32:52.597042 2019-04-17 13:32:51.589940 0:00:00.000566\n",
      "2019-04-17 13:32:53.607390 2019-04-17 13:32:52.601836 0:00:00.000807\n",
      "2019-04-17 13:32:54.618539 2019-04-17 13:32:53.611387 0:00:00.000831\n",
      "2019-04-17 13:34:35.122242 2019-04-17 13:32:54.623813 0:01:39.493723\n",
      "2019-04-17 13:36:06.841772 2019-04-17 13:34:35.127388 0:01:30.710969\n",
      "2019-04-17 13:37:47.978833 2019-04-17 13:36:06.847609 0:01:40.124213\n",
      "2019-04-17 13:39:23.736225 2019-04-17 13:37:47.984325 0:01:34.748855\n",
      "2019-04-17 13:41:02.277467 2019-04-17 13:39:23.741729 0:01:37.531495\n",
      "2019-04-17 13:42:49.027379 2019-04-17 13:41:02.282765 0:01:45.739021\n",
      "2019-04-17 13:44:12.567658 2019-04-17 13:42:49.033075 0:01:22.527134\n",
      "2019-04-17 13:46:00.167530 2019-04-17 13:44:12.574396 0:01:46.589763\n",
      "2019-04-17 13:47:43.244229 2019-04-17 13:46:00.173749 0:01:42.065847\n",
      "2019-04-17 13:49:05.804982 2019-04-17 13:47:43.251344 0:01:21.549298\n",
      "2019-04-17 13:50:43.560259 2019-04-17 13:49:05.811815 0:01:36.744809\n",
      "2019-04-17 13:52:57.285626 2019-04-17 13:50:43.566362 0:02:12.717076\n",
      "2019-04-17 13:54:49.150780 2019-04-17 13:52:57.292908 0:01:50.850699\n",
      "2019-04-17 13:56:08.997671 2019-04-17 13:54:49.157619 0:01:18.836868\n",
      "2019-04-17 13:57:42.967280 2019-04-17 13:56:09.004677 0:01:32.961112\n",
      "2019-04-17 13:59:30.969727 2019-04-17 13:57:42.974637 0:01:46.989912\n",
      "2019-04-17 14:01:20.562652 2019-04-17 13:59:30.976434 0:01:48.579465\n",
      "2019-04-17 14:02:56.020329 2019-04-17 14:01:20.569600 0:01:34.447562\n",
      "2019-04-17 14:04:54.973702 2019-04-17 14:02:56.027981 0:01:57.940376\n",
      "2019-04-17 14:06:25.218921 2019-04-17 14:04:54.981432 0:01:29.230327\n",
      "2019-04-17 14:08:11.042810 2019-04-17 14:06:25.227910 0:01:44.812489\n",
      "2019-04-17 14:10:09.786447 2019-04-17 14:08:11.050107 0:01:57.734465\n",
      "2019-04-17 14:12:03.866770 2019-04-17 14:10:09.794211 0:01:53.069001\n",
      "2019-04-17 14:13:59.547424 2019-04-17 14:12:03.874431 0:01:54.667175\n",
      "2019-04-17 14:15:50.282620 2019-04-17 14:13:59.555178 0:01:49.725659\n",
      "2019-04-17 14:17:29.871802 2019-04-17 14:15:50.288872 0:01:38.578894\n",
      "2019-04-17 14:19:13.298968 2019-04-17 14:17:29.879649 0:01:42.415461\n",
      "2019-04-17 14:21:14.836276 2019-04-17 14:19:13.306950 0:02:00.527413\n",
      "2019-04-17 14:23:16.663054 2019-04-17 14:21:14.845227 0:02:00.811912\n",
      "2019-04-17 14:25:09.866602 2019-04-17 14:23:16.671587 0:01:52.189541\n",
      "2019-04-17 14:26:48.742325 2019-04-17 14:25:09.875328 0:01:37.862614\n",
      "[[0, 1.0], [1, 2.0], [2, 2.9990997961595953], [3, 4.001054552950209], [4, 5.001652033375256], [5, 6.001826298499227], [6, 7.000065722846756], [7, 8.002374984689565], [8, 9.002902759065021], [9, 10.004997923755521], [10, 11.005484870301936], [11, 12.00468623813379], [12, 13.007468505313094], [13, 14.006301426882834], [14, 15.006327317701254], [15, 16.00769753947603], [16, 17.010915967365623], [17, 18.010073519966305], [18, 19.01048777306101], [19, 20.01061025654814], [20, 21.010030700535843], [21, 22.008010220898477], [22, 23.010953807792546], [23, 24.009925145660755], [24, 25.007210592929624], [25, 26.00816755741041], [26, 27.01069290800694], [27, 28.00964731726311], [28, 29.0107705804622], [29, 30.013703213548474], [30, 31.011904797469075], [31, 32.009572632209974], [32, 33.008916399543125], [33, 34.010510676477296], [34, 35.00808689755302], [35, 36.007906657624794], [36, 37.007549165170474], [37, 38.005254840338296], [38, 39.006945709941185], [39, 40.008197431431654], [40, 41.00836273434925]]\n"
     ]
    },
    {
     "name": "stderr",
     "output_type": "stream",
     "text": [
      "reconstraining parameters GP_regression.mul\n",
      "reconstraining parameters GP_regression.Gaussian_noise.variance\n"
     ]
    },
    {
     "name": "stdout",
     "output_type": "stream",
     "text": [
      "sampling end!. 2019-04-17 14:26:48.750845 2019-04-17 14:28:36.108611\n"
     ]
    },
    {
     "name": "stderr",
     "output_type": "stream",
     "text": [
      "[I 2019-04-17 14:28:37,121] Finished a trial resulted in value: 0.628484656225703. Current best value is -0.3678504795545692 with parameters: {'a': 0.628575516140339, 'b': 0.6255697130800353, 'ab': [0.628575516140339, 0.6255697130800353]}.\n"
     ]
    },
    {
     "name": "stdout",
     "output_type": "stream",
     "text": [
      "2019-04-17 13:32:45.535397 2019-04-17 13:32:44.528432 0:00:00.000208\n",
      "2019-04-17 13:32:46.544049 2019-04-17 13:32:45.539577 0:00:00.000255\n",
      "2019-04-17 13:32:47.551702 2019-04-17 13:32:46.548077 0:00:00.000312\n",
      "2019-04-17 13:32:48.562685 2019-04-17 13:32:47.555801 0:00:00.000704\n",
      "2019-04-17 13:32:49.571595 2019-04-17 13:32:48.566388 0:00:00.000390\n",
      "2019-04-17 13:32:50.580238 2019-04-17 13:32:49.575298 0:00:00.000548\n",
      "2019-04-17 13:32:51.586422 2019-04-17 13:32:50.583475 0:00:00.000498\n",
      "2019-04-17 13:32:52.597042 2019-04-17 13:32:51.589940 0:00:00.000566\n",
      "2019-04-17 13:32:53.607390 2019-04-17 13:32:52.601836 0:00:00.000807\n",
      "2019-04-17 13:32:54.618539 2019-04-17 13:32:53.611387 0:00:00.000831\n",
      "2019-04-17 13:34:35.122242 2019-04-17 13:32:54.623813 0:01:39.493723\n",
      "2019-04-17 13:36:06.841772 2019-04-17 13:34:35.127388 0:01:30.710969\n",
      "2019-04-17 13:37:47.978833 2019-04-17 13:36:06.847609 0:01:40.124213\n",
      "2019-04-17 13:39:23.736225 2019-04-17 13:37:47.984325 0:01:34.748855\n",
      "2019-04-17 13:41:02.277467 2019-04-17 13:39:23.741729 0:01:37.531495\n",
      "2019-04-17 13:42:49.027379 2019-04-17 13:41:02.282765 0:01:45.739021\n",
      "2019-04-17 13:44:12.567658 2019-04-17 13:42:49.033075 0:01:22.527134\n",
      "2019-04-17 13:46:00.167530 2019-04-17 13:44:12.574396 0:01:46.589763\n",
      "2019-04-17 13:47:43.244229 2019-04-17 13:46:00.173749 0:01:42.065847\n",
      "2019-04-17 13:49:05.804982 2019-04-17 13:47:43.251344 0:01:21.549298\n",
      "2019-04-17 13:50:43.560259 2019-04-17 13:49:05.811815 0:01:36.744809\n",
      "2019-04-17 13:52:57.285626 2019-04-17 13:50:43.566362 0:02:12.717076\n",
      "2019-04-17 13:54:49.150780 2019-04-17 13:52:57.292908 0:01:50.850699\n",
      "2019-04-17 13:56:08.997671 2019-04-17 13:54:49.157619 0:01:18.836868\n",
      "2019-04-17 13:57:42.967280 2019-04-17 13:56:09.004677 0:01:32.961112\n",
      "2019-04-17 13:59:30.969727 2019-04-17 13:57:42.974637 0:01:46.989912\n",
      "2019-04-17 14:01:20.562652 2019-04-17 13:59:30.976434 0:01:48.579465\n",
      "2019-04-17 14:02:56.020329 2019-04-17 14:01:20.569600 0:01:34.447562\n",
      "2019-04-17 14:04:54.973702 2019-04-17 14:02:56.027981 0:01:57.940376\n",
      "2019-04-17 14:06:25.218921 2019-04-17 14:04:54.981432 0:01:29.230327\n",
      "2019-04-17 14:08:11.042810 2019-04-17 14:06:25.227910 0:01:44.812489\n",
      "2019-04-17 14:10:09.786447 2019-04-17 14:08:11.050107 0:01:57.734465\n",
      "2019-04-17 14:12:03.866770 2019-04-17 14:10:09.794211 0:01:53.069001\n",
      "2019-04-17 14:13:59.547424 2019-04-17 14:12:03.874431 0:01:54.667175\n",
      "2019-04-17 14:15:50.282620 2019-04-17 14:13:59.555178 0:01:49.725659\n",
      "2019-04-17 14:17:29.871802 2019-04-17 14:15:50.288872 0:01:38.578894\n",
      "2019-04-17 14:19:13.298968 2019-04-17 14:17:29.879649 0:01:42.415461\n",
      "2019-04-17 14:21:14.836276 2019-04-17 14:19:13.306950 0:02:00.527413\n",
      "2019-04-17 14:23:16.663054 2019-04-17 14:21:14.845227 0:02:00.811912\n",
      "2019-04-17 14:25:09.866602 2019-04-17 14:23:16.671587 0:01:52.189541\n",
      "2019-04-17 14:26:48.742325 2019-04-17 14:25:09.875328 0:01:37.862614\n",
      "2019-04-17 14:28:37.114982 2019-04-17 14:26:48.750813 0:01:47.357766\n",
      "[[0, 1.0], [1, 2.0], [2, 2.9990997961595953], [3, 4.001054552950209], [4, 5.001652033375256], [5, 6.001826298499227], [6, 7.000065722846756], [7, 8.002374984689565], [8, 9.002902759065021], [9, 10.004997923755521], [10, 11.005484870301936], [11, 12.00468623813379], [12, 13.007468505313094], [13, 14.006301426882834], [14, 15.006327317701254], [15, 16.00769753947603], [16, 17.010915967365623], [17, 18.010073519966305], [18, 19.01048777306101], [19, 20.01061025654814], [20, 21.010030700535843], [21, 22.008010220898477], [22, 23.010953807792546], [23, 24.009925145660755], [24, 25.007210592929624], [25, 26.00816755741041], [26, 27.01069290800694], [27, 28.00964731726311], [28, 29.0107705804622], [29, 30.013703213548474], [30, 31.011904797469075], [31, 32.009572632209974], [32, 33.008916399543125], [33, 34.010510676477296], [34, 35.00808689755302], [35, 36.007906657624794], [36, 37.007549165170474], [37, 38.005254840338296], [38, 39.006945709941185], [39, 40.008197431431654], [40, 41.00836273434925], [41, 42.010539554697836]]\n"
     ]
    },
    {
     "name": "stderr",
     "output_type": "stream",
     "text": [
      "reconstraining parameters GP_regression.mul\n",
      "reconstraining parameters GP_regression.Gaussian_noise.variance\n"
     ]
    },
    {
     "name": "stdout",
     "output_type": "stream",
     "text": [
      "sampling end!. 2019-04-17 14:28:37.124405 2019-04-17 14:30:10.749079\n"
     ]
    },
    {
     "name": "stderr",
     "output_type": "stream",
     "text": [
      "[I 2019-04-17 14:30:11,759] Finished a trial resulted in value: 0.8082021827367761. Current best value is -0.3678504795545692 with parameters: {'a': 0.628575516140339, 'b': 0.6255697130800353, 'ab': [0.628575516140339, 0.6255697130800353]}.\n"
     ]
    },
    {
     "name": "stdout",
     "output_type": "stream",
     "text": [
      "2019-04-17 13:32:45.535397 2019-04-17 13:32:44.528432 0:00:00.000208\n",
      "2019-04-17 13:32:46.544049 2019-04-17 13:32:45.539577 0:00:00.000255\n",
      "2019-04-17 13:32:47.551702 2019-04-17 13:32:46.548077 0:00:00.000312\n",
      "2019-04-17 13:32:48.562685 2019-04-17 13:32:47.555801 0:00:00.000704\n",
      "2019-04-17 13:32:49.571595 2019-04-17 13:32:48.566388 0:00:00.000390\n",
      "2019-04-17 13:32:50.580238 2019-04-17 13:32:49.575298 0:00:00.000548\n",
      "2019-04-17 13:32:51.586422 2019-04-17 13:32:50.583475 0:00:00.000498\n",
      "2019-04-17 13:32:52.597042 2019-04-17 13:32:51.589940 0:00:00.000566\n",
      "2019-04-17 13:32:53.607390 2019-04-17 13:32:52.601836 0:00:00.000807\n",
      "2019-04-17 13:32:54.618539 2019-04-17 13:32:53.611387 0:00:00.000831\n",
      "2019-04-17 13:34:35.122242 2019-04-17 13:32:54.623813 0:01:39.493723\n",
      "2019-04-17 13:36:06.841772 2019-04-17 13:34:35.127388 0:01:30.710969\n",
      "2019-04-17 13:37:47.978833 2019-04-17 13:36:06.847609 0:01:40.124213\n",
      "2019-04-17 13:39:23.736225 2019-04-17 13:37:47.984325 0:01:34.748855\n",
      "2019-04-17 13:41:02.277467 2019-04-17 13:39:23.741729 0:01:37.531495\n",
      "2019-04-17 13:42:49.027379 2019-04-17 13:41:02.282765 0:01:45.739021\n",
      "2019-04-17 13:44:12.567658 2019-04-17 13:42:49.033075 0:01:22.527134\n",
      "2019-04-17 13:46:00.167530 2019-04-17 13:44:12.574396 0:01:46.589763\n",
      "2019-04-17 13:47:43.244229 2019-04-17 13:46:00.173749 0:01:42.065847\n",
      "2019-04-17 13:49:05.804982 2019-04-17 13:47:43.251344 0:01:21.549298\n",
      "2019-04-17 13:50:43.560259 2019-04-17 13:49:05.811815 0:01:36.744809\n",
      "2019-04-17 13:52:57.285626 2019-04-17 13:50:43.566362 0:02:12.717076\n",
      "2019-04-17 13:54:49.150780 2019-04-17 13:52:57.292908 0:01:50.850699\n",
      "2019-04-17 13:56:08.997671 2019-04-17 13:54:49.157619 0:01:18.836868\n",
      "2019-04-17 13:57:42.967280 2019-04-17 13:56:09.004677 0:01:32.961112\n",
      "2019-04-17 13:59:30.969727 2019-04-17 13:57:42.974637 0:01:46.989912\n",
      "2019-04-17 14:01:20.562652 2019-04-17 13:59:30.976434 0:01:48.579465\n",
      "2019-04-17 14:02:56.020329 2019-04-17 14:01:20.569600 0:01:34.447562\n",
      "2019-04-17 14:04:54.973702 2019-04-17 14:02:56.027981 0:01:57.940376\n",
      "2019-04-17 14:06:25.218921 2019-04-17 14:04:54.981432 0:01:29.230327\n",
      "2019-04-17 14:08:11.042810 2019-04-17 14:06:25.227910 0:01:44.812489\n",
      "2019-04-17 14:10:09.786447 2019-04-17 14:08:11.050107 0:01:57.734465\n",
      "2019-04-17 14:12:03.866770 2019-04-17 14:10:09.794211 0:01:53.069001\n",
      "2019-04-17 14:13:59.547424 2019-04-17 14:12:03.874431 0:01:54.667175\n",
      "2019-04-17 14:15:50.282620 2019-04-17 14:13:59.555178 0:01:49.725659\n",
      "2019-04-17 14:17:29.871802 2019-04-17 14:15:50.288872 0:01:38.578894\n",
      "2019-04-17 14:19:13.298968 2019-04-17 14:17:29.879649 0:01:42.415461\n",
      "2019-04-17 14:21:14.836276 2019-04-17 14:19:13.306950 0:02:00.527413\n",
      "2019-04-17 14:23:16.663054 2019-04-17 14:21:14.845227 0:02:00.811912\n",
      "2019-04-17 14:25:09.866602 2019-04-17 14:23:16.671587 0:01:52.189541\n",
      "2019-04-17 14:26:48.742325 2019-04-17 14:25:09.875328 0:01:37.862614\n",
      "2019-04-17 14:28:37.114982 2019-04-17 14:26:48.750813 0:01:47.357766\n",
      "2019-04-17 14:30:11.752872 2019-04-17 14:28:37.124364 0:01:33.624674\n",
      "[[0, 1.0], [1, 2.0], [2, 2.9990997961595953], [3, 4.001054552950209], [4, 5.001652033375256], [5, 6.001826298499227], [6, 7.000065722846756], [7, 8.002374984689565], [8, 9.002902759065021], [9, 10.004997923755521], [10, 11.005484870301936], [11, 12.00468623813379], [12, 13.007468505313094], [13, 14.006301426882834], [14, 15.006327317701254], [15, 16.00769753947603], [16, 17.010915967365623], [17, 18.010073519966305], [18, 19.01048777306101], [19, 20.01061025654814], [20, 21.010030700535843], [21, 22.008010220898477], [22, 23.010953807792546], [23, 24.009925145660755], [24, 25.007210592929624], [25, 26.00816755741041], [26, 27.01069290800694], [27, 28.00964731726311], [28, 29.0107705804622], [29, 30.013703213548474], [30, 31.011904797469075], [31, 32.009572632209974], [32, 33.008916399543125], [33, 34.010510676477296], [34, 35.00808689755302], [35, 36.007906657624794], [36, 37.007549165170474], [37, 38.005254840338296], [38, 39.006945709941185], [39, 40.008197431431654], [40, 41.00836273434925], [41, 42.010539554697836], [42, 43.01015816302651]]\n"
     ]
    },
    {
     "name": "stderr",
     "output_type": "stream",
     "text": [
      "reconstraining parameters GP_regression.mul\n",
      "reconstraining parameters GP_regression.Gaussian_noise.variance\n"
     ]
    },
    {
     "name": "stdout",
     "output_type": "stream",
     "text": [
      "sampling end!. 2019-04-17 14:30:11.761103 2019-04-17 14:32:12.591491\n"
     ]
    },
    {
     "name": "stderr",
     "output_type": "stream",
     "text": [
      "[I 2019-04-17 14:32:13,601] Finished a trial resulted in value: 0.6461505689897867. Current best value is -0.3678504795545692 with parameters: {'a': 0.628575516140339, 'b': 0.6255697130800353, 'ab': [0.628575516140339, 0.6255697130800353]}.\n"
     ]
    },
    {
     "name": "stdout",
     "output_type": "stream",
     "text": [
      "2019-04-17 13:32:45.535397 2019-04-17 13:32:44.528432 0:00:00.000208\n",
      "2019-04-17 13:32:46.544049 2019-04-17 13:32:45.539577 0:00:00.000255\n",
      "2019-04-17 13:32:47.551702 2019-04-17 13:32:46.548077 0:00:00.000312\n",
      "2019-04-17 13:32:48.562685 2019-04-17 13:32:47.555801 0:00:00.000704\n",
      "2019-04-17 13:32:49.571595 2019-04-17 13:32:48.566388 0:00:00.000390\n",
      "2019-04-17 13:32:50.580238 2019-04-17 13:32:49.575298 0:00:00.000548\n",
      "2019-04-17 13:32:51.586422 2019-04-17 13:32:50.583475 0:00:00.000498\n",
      "2019-04-17 13:32:52.597042 2019-04-17 13:32:51.589940 0:00:00.000566\n",
      "2019-04-17 13:32:53.607390 2019-04-17 13:32:52.601836 0:00:00.000807\n",
      "2019-04-17 13:32:54.618539 2019-04-17 13:32:53.611387 0:00:00.000831\n",
      "2019-04-17 13:34:35.122242 2019-04-17 13:32:54.623813 0:01:39.493723\n",
      "2019-04-17 13:36:06.841772 2019-04-17 13:34:35.127388 0:01:30.710969\n",
      "2019-04-17 13:37:47.978833 2019-04-17 13:36:06.847609 0:01:40.124213\n",
      "2019-04-17 13:39:23.736225 2019-04-17 13:37:47.984325 0:01:34.748855\n",
      "2019-04-17 13:41:02.277467 2019-04-17 13:39:23.741729 0:01:37.531495\n",
      "2019-04-17 13:42:49.027379 2019-04-17 13:41:02.282765 0:01:45.739021\n",
      "2019-04-17 13:44:12.567658 2019-04-17 13:42:49.033075 0:01:22.527134\n",
      "2019-04-17 13:46:00.167530 2019-04-17 13:44:12.574396 0:01:46.589763\n",
      "2019-04-17 13:47:43.244229 2019-04-17 13:46:00.173749 0:01:42.065847\n",
      "2019-04-17 13:49:05.804982 2019-04-17 13:47:43.251344 0:01:21.549298\n",
      "2019-04-17 13:50:43.560259 2019-04-17 13:49:05.811815 0:01:36.744809\n",
      "2019-04-17 13:52:57.285626 2019-04-17 13:50:43.566362 0:02:12.717076\n",
      "2019-04-17 13:54:49.150780 2019-04-17 13:52:57.292908 0:01:50.850699\n",
      "2019-04-17 13:56:08.997671 2019-04-17 13:54:49.157619 0:01:18.836868\n",
      "2019-04-17 13:57:42.967280 2019-04-17 13:56:09.004677 0:01:32.961112\n",
      "2019-04-17 13:59:30.969727 2019-04-17 13:57:42.974637 0:01:46.989912\n",
      "2019-04-17 14:01:20.562652 2019-04-17 13:59:30.976434 0:01:48.579465\n",
      "2019-04-17 14:02:56.020329 2019-04-17 14:01:20.569600 0:01:34.447562\n",
      "2019-04-17 14:04:54.973702 2019-04-17 14:02:56.027981 0:01:57.940376\n",
      "2019-04-17 14:06:25.218921 2019-04-17 14:04:54.981432 0:01:29.230327\n",
      "2019-04-17 14:08:11.042810 2019-04-17 14:06:25.227910 0:01:44.812489\n",
      "2019-04-17 14:10:09.786447 2019-04-17 14:08:11.050107 0:01:57.734465\n",
      "2019-04-17 14:12:03.866770 2019-04-17 14:10:09.794211 0:01:53.069001\n",
      "2019-04-17 14:13:59.547424 2019-04-17 14:12:03.874431 0:01:54.667175\n",
      "2019-04-17 14:15:50.282620 2019-04-17 14:13:59.555178 0:01:49.725659\n",
      "2019-04-17 14:17:29.871802 2019-04-17 14:15:50.288872 0:01:38.578894\n",
      "2019-04-17 14:19:13.298968 2019-04-17 14:17:29.879649 0:01:42.415461\n",
      "2019-04-17 14:21:14.836276 2019-04-17 14:19:13.306950 0:02:00.527413\n",
      "2019-04-17 14:23:16.663054 2019-04-17 14:21:14.845227 0:02:00.811912\n",
      "2019-04-17 14:25:09.866602 2019-04-17 14:23:16.671587 0:01:52.189541\n",
      "2019-04-17 14:26:48.742325 2019-04-17 14:25:09.875328 0:01:37.862614\n",
      "2019-04-17 14:28:37.114982 2019-04-17 14:26:48.750813 0:01:47.357766\n",
      "2019-04-17 14:30:11.752872 2019-04-17 14:28:37.124364 0:01:33.624674\n",
      "2019-04-17 14:32:13.594553 2019-04-17 14:30:11.761072 0:02:00.830388\n",
      "[[0, 1.0], [1, 2.0], [2, 2.9990997961595953], [3, 4.001054552950209], [4, 5.001652033375256], [5, 6.001826298499227], [6, 7.000065722846756], [7, 8.002374984689565], [8, 9.002902759065021], [9, 10.004997923755521], [10, 11.005484870301936], [11, 12.00468623813379], [12, 13.007468505313094], [13, 14.006301426882834], [14, 15.006327317701254], [15, 16.00769753947603], [16, 17.010915967365623], [17, 18.010073519966305], [18, 19.01048777306101], [19, 20.01061025654814], [20, 21.010030700535843], [21, 22.008010220898477], [22, 23.010953807792546], [23, 24.009925145660755], [24, 25.007210592929624], [25, 26.00816755741041], [26, 27.01069290800694], [27, 28.00964731726311], [28, 29.0107705804622], [29, 30.013703213548474], [30, 31.011904797469075], [31, 32.009572632209974], [32, 33.008916399543125], [33, 34.010510676477296], [34, 35.00808689755302], [35, 36.007906657624794], [36, 37.007549165170474], [37, 38.005254840338296], [38, 39.006945709941185], [39, 40.008197431431654], [40, 41.00836273434925], [41, 42.010539554697836], [42, 43.01015816302651], [43, 44.00903888303026]]\n"
     ]
    },
    {
     "name": "stderr",
     "output_type": "stream",
     "text": [
      "reconstraining parameters GP_regression.mul\n",
      "reconstraining parameters GP_regression.Gaussian_noise.variance\n"
     ]
    },
    {
     "name": "stdout",
     "output_type": "stream",
     "text": [
      "sampling end!. 2019-04-17 14:32:13.603955 2019-04-17 14:33:53.374183\n"
     ]
    },
    {
     "name": "stderr",
     "output_type": "stream",
     "text": [
      "[I 2019-04-17 14:33:54,383] Finished a trial resulted in value: 0.4691878322641361. Current best value is -0.3678504795545692 with parameters: {'a': 0.628575516140339, 'b': 0.6255697130800353, 'ab': [0.628575516140339, 0.6255697130800353]}.\n"
     ]
    },
    {
     "name": "stdout",
     "output_type": "stream",
     "text": [
      "2019-04-17 13:32:45.535397 2019-04-17 13:32:44.528432 0:00:00.000208\n",
      "2019-04-17 13:32:46.544049 2019-04-17 13:32:45.539577 0:00:00.000255\n",
      "2019-04-17 13:32:47.551702 2019-04-17 13:32:46.548077 0:00:00.000312\n",
      "2019-04-17 13:32:48.562685 2019-04-17 13:32:47.555801 0:00:00.000704\n",
      "2019-04-17 13:32:49.571595 2019-04-17 13:32:48.566388 0:00:00.000390\n",
      "2019-04-17 13:32:50.580238 2019-04-17 13:32:49.575298 0:00:00.000548\n",
      "2019-04-17 13:32:51.586422 2019-04-17 13:32:50.583475 0:00:00.000498\n",
      "2019-04-17 13:32:52.597042 2019-04-17 13:32:51.589940 0:00:00.000566\n",
      "2019-04-17 13:32:53.607390 2019-04-17 13:32:52.601836 0:00:00.000807\n",
      "2019-04-17 13:32:54.618539 2019-04-17 13:32:53.611387 0:00:00.000831\n",
      "2019-04-17 13:34:35.122242 2019-04-17 13:32:54.623813 0:01:39.493723\n",
      "2019-04-17 13:36:06.841772 2019-04-17 13:34:35.127388 0:01:30.710969\n",
      "2019-04-17 13:37:47.978833 2019-04-17 13:36:06.847609 0:01:40.124213\n",
      "2019-04-17 13:39:23.736225 2019-04-17 13:37:47.984325 0:01:34.748855\n",
      "2019-04-17 13:41:02.277467 2019-04-17 13:39:23.741729 0:01:37.531495\n",
      "2019-04-17 13:42:49.027379 2019-04-17 13:41:02.282765 0:01:45.739021\n",
      "2019-04-17 13:44:12.567658 2019-04-17 13:42:49.033075 0:01:22.527134\n",
      "2019-04-17 13:46:00.167530 2019-04-17 13:44:12.574396 0:01:46.589763\n",
      "2019-04-17 13:47:43.244229 2019-04-17 13:46:00.173749 0:01:42.065847\n",
      "2019-04-17 13:49:05.804982 2019-04-17 13:47:43.251344 0:01:21.549298\n",
      "2019-04-17 13:50:43.560259 2019-04-17 13:49:05.811815 0:01:36.744809\n",
      "2019-04-17 13:52:57.285626 2019-04-17 13:50:43.566362 0:02:12.717076\n",
      "2019-04-17 13:54:49.150780 2019-04-17 13:52:57.292908 0:01:50.850699\n",
      "2019-04-17 13:56:08.997671 2019-04-17 13:54:49.157619 0:01:18.836868\n",
      "2019-04-17 13:57:42.967280 2019-04-17 13:56:09.004677 0:01:32.961112\n",
      "2019-04-17 13:59:30.969727 2019-04-17 13:57:42.974637 0:01:46.989912\n",
      "2019-04-17 14:01:20.562652 2019-04-17 13:59:30.976434 0:01:48.579465\n",
      "2019-04-17 14:02:56.020329 2019-04-17 14:01:20.569600 0:01:34.447562\n",
      "2019-04-17 14:04:54.973702 2019-04-17 14:02:56.027981 0:01:57.940376\n",
      "2019-04-17 14:06:25.218921 2019-04-17 14:04:54.981432 0:01:29.230327\n",
      "2019-04-17 14:08:11.042810 2019-04-17 14:06:25.227910 0:01:44.812489\n",
      "2019-04-17 14:10:09.786447 2019-04-17 14:08:11.050107 0:01:57.734465\n",
      "2019-04-17 14:12:03.866770 2019-04-17 14:10:09.794211 0:01:53.069001\n",
      "2019-04-17 14:13:59.547424 2019-04-17 14:12:03.874431 0:01:54.667175\n",
      "2019-04-17 14:15:50.282620 2019-04-17 14:13:59.555178 0:01:49.725659\n",
      "2019-04-17 14:17:29.871802 2019-04-17 14:15:50.288872 0:01:38.578894\n",
      "2019-04-17 14:19:13.298968 2019-04-17 14:17:29.879649 0:01:42.415461\n",
      "2019-04-17 14:21:14.836276 2019-04-17 14:19:13.306950 0:02:00.527413\n",
      "2019-04-17 14:23:16.663054 2019-04-17 14:21:14.845227 0:02:00.811912\n",
      "2019-04-17 14:25:09.866602 2019-04-17 14:23:16.671587 0:01:52.189541\n",
      "2019-04-17 14:26:48.742325 2019-04-17 14:25:09.875328 0:01:37.862614\n",
      "2019-04-17 14:28:37.114982 2019-04-17 14:26:48.750813 0:01:47.357766\n",
      "2019-04-17 14:30:11.752872 2019-04-17 14:28:37.124364 0:01:33.624674\n",
      "2019-04-17 14:32:13.594553 2019-04-17 14:30:11.761072 0:02:00.830388\n",
      "2019-04-17 14:33:54.377060 2019-04-17 14:32:13.603926 0:01:39.770228\n",
      "[[0, 1.0], [1, 2.0], [2, 2.9990997961595953], [3, 4.001054552950209], [4, 5.001652033375256], [5, 6.001826298499227], [6, 7.000065722846756], [7, 8.002374984689565], [8, 9.002902759065021], [9, 10.004997923755521], [10, 11.005484870301936], [11, 12.00468623813379], [12, 13.007468505313094], [13, 14.006301426882834], [14, 15.006327317701254], [15, 16.00769753947603], [16, 17.010915967365623], [17, 18.010073519966305], [18, 19.01048777306101], [19, 20.01061025654814], [20, 21.010030700535843], [21, 22.008010220898477], [22, 23.010953807792546], [23, 24.009925145660755], [24, 25.007210592929624], [25, 26.00816755741041], [26, 27.01069290800694], [27, 28.00964731726311], [28, 29.0107705804622], [29, 30.013703213548474], [30, 31.011904797469075], [31, 32.009572632209974], [32, 33.008916399543125], [33, 34.010510676477296], [34, 35.00808689755302], [35, 36.007906657624794], [36, 37.007549165170474], [37, 38.005254840338296], [38, 39.006945709941185], [39, 40.008197431431654], [40, 41.00836273434925], [41, 42.010539554697836], [42, 43.01015816302651], [43, 44.00903888303026], [44, 45.00773338830153]]\n"
     ]
    },
    {
     "name": "stderr",
     "output_type": "stream",
     "text": [
      "reconstraining parameters GP_regression.mul\n",
      "reconstraining parameters GP_regression.Gaussian_noise.variance\n"
     ]
    },
    {
     "name": "stdout",
     "output_type": "stream",
     "text": [
      "sampling end!. 2019-04-17 14:33:54.385522 2019-04-17 14:35:38.717644\n"
     ]
    },
    {
     "name": "stderr",
     "output_type": "stream",
     "text": [
      "[I 2019-04-17 14:35:39,728] Finished a trial resulted in value: 0.3900391488560328. Current best value is -0.3678504795545692 with parameters: {'a': 0.628575516140339, 'b': 0.6255697130800353, 'ab': [0.628575516140339, 0.6255697130800353]}.\n"
     ]
    },
    {
     "name": "stdout",
     "output_type": "stream",
     "text": [
      "2019-04-17 13:32:45.535397 2019-04-17 13:32:44.528432 0:00:00.000208\n",
      "2019-04-17 13:32:46.544049 2019-04-17 13:32:45.539577 0:00:00.000255\n",
      "2019-04-17 13:32:47.551702 2019-04-17 13:32:46.548077 0:00:00.000312\n",
      "2019-04-17 13:32:48.562685 2019-04-17 13:32:47.555801 0:00:00.000704\n",
      "2019-04-17 13:32:49.571595 2019-04-17 13:32:48.566388 0:00:00.000390\n",
      "2019-04-17 13:32:50.580238 2019-04-17 13:32:49.575298 0:00:00.000548\n",
      "2019-04-17 13:32:51.586422 2019-04-17 13:32:50.583475 0:00:00.000498\n",
      "2019-04-17 13:32:52.597042 2019-04-17 13:32:51.589940 0:00:00.000566\n",
      "2019-04-17 13:32:53.607390 2019-04-17 13:32:52.601836 0:00:00.000807\n",
      "2019-04-17 13:32:54.618539 2019-04-17 13:32:53.611387 0:00:00.000831\n",
      "2019-04-17 13:34:35.122242 2019-04-17 13:32:54.623813 0:01:39.493723\n",
      "2019-04-17 13:36:06.841772 2019-04-17 13:34:35.127388 0:01:30.710969\n",
      "2019-04-17 13:37:47.978833 2019-04-17 13:36:06.847609 0:01:40.124213\n",
      "2019-04-17 13:39:23.736225 2019-04-17 13:37:47.984325 0:01:34.748855\n",
      "2019-04-17 13:41:02.277467 2019-04-17 13:39:23.741729 0:01:37.531495\n",
      "2019-04-17 13:42:49.027379 2019-04-17 13:41:02.282765 0:01:45.739021\n",
      "2019-04-17 13:44:12.567658 2019-04-17 13:42:49.033075 0:01:22.527134\n",
      "2019-04-17 13:46:00.167530 2019-04-17 13:44:12.574396 0:01:46.589763\n",
      "2019-04-17 13:47:43.244229 2019-04-17 13:46:00.173749 0:01:42.065847\n",
      "2019-04-17 13:49:05.804982 2019-04-17 13:47:43.251344 0:01:21.549298\n",
      "2019-04-17 13:50:43.560259 2019-04-17 13:49:05.811815 0:01:36.744809\n",
      "2019-04-17 13:52:57.285626 2019-04-17 13:50:43.566362 0:02:12.717076\n",
      "2019-04-17 13:54:49.150780 2019-04-17 13:52:57.292908 0:01:50.850699\n",
      "2019-04-17 13:56:08.997671 2019-04-17 13:54:49.157619 0:01:18.836868\n",
      "2019-04-17 13:57:42.967280 2019-04-17 13:56:09.004677 0:01:32.961112\n",
      "2019-04-17 13:59:30.969727 2019-04-17 13:57:42.974637 0:01:46.989912\n",
      "2019-04-17 14:01:20.562652 2019-04-17 13:59:30.976434 0:01:48.579465\n",
      "2019-04-17 14:02:56.020329 2019-04-17 14:01:20.569600 0:01:34.447562\n",
      "2019-04-17 14:04:54.973702 2019-04-17 14:02:56.027981 0:01:57.940376\n",
      "2019-04-17 14:06:25.218921 2019-04-17 14:04:54.981432 0:01:29.230327\n",
      "2019-04-17 14:08:11.042810 2019-04-17 14:06:25.227910 0:01:44.812489\n",
      "2019-04-17 14:10:09.786447 2019-04-17 14:08:11.050107 0:01:57.734465\n",
      "2019-04-17 14:12:03.866770 2019-04-17 14:10:09.794211 0:01:53.069001\n",
      "2019-04-17 14:13:59.547424 2019-04-17 14:12:03.874431 0:01:54.667175\n",
      "2019-04-17 14:15:50.282620 2019-04-17 14:13:59.555178 0:01:49.725659\n",
      "2019-04-17 14:17:29.871802 2019-04-17 14:15:50.288872 0:01:38.578894\n",
      "2019-04-17 14:19:13.298968 2019-04-17 14:17:29.879649 0:01:42.415461\n",
      "2019-04-17 14:21:14.836276 2019-04-17 14:19:13.306950 0:02:00.527413\n",
      "2019-04-17 14:23:16.663054 2019-04-17 14:21:14.845227 0:02:00.811912\n",
      "2019-04-17 14:25:09.866602 2019-04-17 14:23:16.671587 0:01:52.189541\n",
      "2019-04-17 14:26:48.742325 2019-04-17 14:25:09.875328 0:01:37.862614\n",
      "2019-04-17 14:28:37.114982 2019-04-17 14:26:48.750813 0:01:47.357766\n",
      "2019-04-17 14:30:11.752872 2019-04-17 14:28:37.124364 0:01:33.624674\n",
      "2019-04-17 14:32:13.594553 2019-04-17 14:30:11.761072 0:02:00.830388\n",
      "2019-04-17 14:33:54.377060 2019-04-17 14:32:13.603926 0:01:39.770228\n",
      "2019-04-17 14:35:39.721296 2019-04-17 14:33:54.385493 0:01:44.332122\n",
      "[[0, 1.0], [1, 2.0], [2, 2.9990997961595953], [3, 4.001054552950209], [4, 5.001652033375256], [5, 6.001826298499227], [6, 7.000065722846756], [7, 8.002374984689565], [8, 9.002902759065021], [9, 10.004997923755521], [10, 11.005484870301936], [11, 12.00468623813379], [12, 13.007468505313094], [13, 14.006301426882834], [14, 15.006327317701254], [15, 16.00769753947603], [16, 17.010915967365623], [17, 18.010073519966305], [18, 19.01048777306101], [19, 20.01061025654814], [20, 21.010030700535843], [21, 22.008010220898477], [22, 23.010953807792546], [23, 24.009925145660755], [24, 25.007210592929624], [25, 26.00816755741041], [26, 27.01069290800694], [27, 28.00964731726311], [28, 29.0107705804622], [29, 30.013703213548474], [30, 31.011904797469075], [31, 32.009572632209974], [32, 33.008916399543125], [33, 34.010510676477296], [34, 35.00808689755302], [35, 36.007906657624794], [36, 37.007549165170474], [37, 38.005254840338296], [38, 39.006945709941185], [39, 40.008197431431654], [40, 41.00836273434925], [41, 42.010539554697836], [42, 43.01015816302651], [43, 44.00903888303026], [44, 45.00773338830153], [45, 46.00719963912182]]\n"
     ]
    },
    {
     "name": "stderr",
     "output_type": "stream",
     "text": [
      "reconstraining parameters GP_regression.mul\n",
      "reconstraining parameters GP_regression.Gaussian_noise.variance\n"
     ]
    },
    {
     "name": "stdout",
     "output_type": "stream",
     "text": [
      "sampling end!. 2019-04-17 14:35:39.730445 2019-04-17 14:37:10.350647\n"
     ]
    },
    {
     "name": "stderr",
     "output_type": "stream",
     "text": [
      "[I 2019-04-17 14:37:11,361] Finished a trial resulted in value: 0.31692493368524133. Current best value is -0.3678504795545692 with parameters: {'a': 0.628575516140339, 'b': 0.6255697130800353, 'ab': [0.628575516140339, 0.6255697130800353]}.\n"
     ]
    },
    {
     "name": "stdout",
     "output_type": "stream",
     "text": [
      "2019-04-17 13:32:45.535397 2019-04-17 13:32:44.528432 0:00:00.000208\n",
      "2019-04-17 13:32:46.544049 2019-04-17 13:32:45.539577 0:00:00.000255\n",
      "2019-04-17 13:32:47.551702 2019-04-17 13:32:46.548077 0:00:00.000312\n",
      "2019-04-17 13:32:48.562685 2019-04-17 13:32:47.555801 0:00:00.000704\n",
      "2019-04-17 13:32:49.571595 2019-04-17 13:32:48.566388 0:00:00.000390\n",
      "2019-04-17 13:32:50.580238 2019-04-17 13:32:49.575298 0:00:00.000548\n",
      "2019-04-17 13:32:51.586422 2019-04-17 13:32:50.583475 0:00:00.000498\n",
      "2019-04-17 13:32:52.597042 2019-04-17 13:32:51.589940 0:00:00.000566\n",
      "2019-04-17 13:32:53.607390 2019-04-17 13:32:52.601836 0:00:00.000807\n",
      "2019-04-17 13:32:54.618539 2019-04-17 13:32:53.611387 0:00:00.000831\n",
      "2019-04-17 13:34:35.122242 2019-04-17 13:32:54.623813 0:01:39.493723\n",
      "2019-04-17 13:36:06.841772 2019-04-17 13:34:35.127388 0:01:30.710969\n",
      "2019-04-17 13:37:47.978833 2019-04-17 13:36:06.847609 0:01:40.124213\n",
      "2019-04-17 13:39:23.736225 2019-04-17 13:37:47.984325 0:01:34.748855\n",
      "2019-04-17 13:41:02.277467 2019-04-17 13:39:23.741729 0:01:37.531495\n",
      "2019-04-17 13:42:49.027379 2019-04-17 13:41:02.282765 0:01:45.739021\n",
      "2019-04-17 13:44:12.567658 2019-04-17 13:42:49.033075 0:01:22.527134\n",
      "2019-04-17 13:46:00.167530 2019-04-17 13:44:12.574396 0:01:46.589763\n",
      "2019-04-17 13:47:43.244229 2019-04-17 13:46:00.173749 0:01:42.065847\n",
      "2019-04-17 13:49:05.804982 2019-04-17 13:47:43.251344 0:01:21.549298\n",
      "2019-04-17 13:50:43.560259 2019-04-17 13:49:05.811815 0:01:36.744809\n",
      "2019-04-17 13:52:57.285626 2019-04-17 13:50:43.566362 0:02:12.717076\n",
      "2019-04-17 13:54:49.150780 2019-04-17 13:52:57.292908 0:01:50.850699\n",
      "2019-04-17 13:56:08.997671 2019-04-17 13:54:49.157619 0:01:18.836868\n",
      "2019-04-17 13:57:42.967280 2019-04-17 13:56:09.004677 0:01:32.961112\n",
      "2019-04-17 13:59:30.969727 2019-04-17 13:57:42.974637 0:01:46.989912\n",
      "2019-04-17 14:01:20.562652 2019-04-17 13:59:30.976434 0:01:48.579465\n",
      "2019-04-17 14:02:56.020329 2019-04-17 14:01:20.569600 0:01:34.447562\n",
      "2019-04-17 14:04:54.973702 2019-04-17 14:02:56.027981 0:01:57.940376\n",
      "2019-04-17 14:06:25.218921 2019-04-17 14:04:54.981432 0:01:29.230327\n",
      "2019-04-17 14:08:11.042810 2019-04-17 14:06:25.227910 0:01:44.812489\n",
      "2019-04-17 14:10:09.786447 2019-04-17 14:08:11.050107 0:01:57.734465\n",
      "2019-04-17 14:12:03.866770 2019-04-17 14:10:09.794211 0:01:53.069001\n",
      "2019-04-17 14:13:59.547424 2019-04-17 14:12:03.874431 0:01:54.667175\n",
      "2019-04-17 14:15:50.282620 2019-04-17 14:13:59.555178 0:01:49.725659\n",
      "2019-04-17 14:17:29.871802 2019-04-17 14:15:50.288872 0:01:38.578894\n",
      "2019-04-17 14:19:13.298968 2019-04-17 14:17:29.879649 0:01:42.415461\n",
      "2019-04-17 14:21:14.836276 2019-04-17 14:19:13.306950 0:02:00.527413\n",
      "2019-04-17 14:23:16.663054 2019-04-17 14:21:14.845227 0:02:00.811912\n",
      "2019-04-17 14:25:09.866602 2019-04-17 14:23:16.671587 0:01:52.189541\n",
      "2019-04-17 14:26:48.742325 2019-04-17 14:25:09.875328 0:01:37.862614\n",
      "2019-04-17 14:28:37.114982 2019-04-17 14:26:48.750813 0:01:47.357766\n",
      "2019-04-17 14:30:11.752872 2019-04-17 14:28:37.124364 0:01:33.624674\n",
      "2019-04-17 14:32:13.594553 2019-04-17 14:30:11.761072 0:02:00.830388\n",
      "2019-04-17 14:33:54.377060 2019-04-17 14:32:13.603926 0:01:39.770228\n",
      "2019-04-17 14:35:39.721296 2019-04-17 14:33:54.385493 0:01:44.332122\n",
      "2019-04-17 14:37:11.354143 2019-04-17 14:35:39.730414 0:01:30.620202\n",
      "[[0, 1.0], [1, 2.0], [2, 2.9990997961595953], [3, 4.001054552950209], [4, 5.001652033375256], [5, 6.001826298499227], [6, 7.000065722846756], [7, 8.002374984689565], [8, 9.002902759065021], [9, 10.004997923755521], [10, 11.005484870301936], [11, 12.00468623813379], [12, 13.007468505313094], [13, 14.006301426882834], [14, 15.006327317701254], [15, 16.00769753947603], [16, 17.010915967365623], [17, 18.010073519966305], [18, 19.01048777306101], [19, 20.01061025654814], [20, 21.010030700535843], [21, 22.008010220898477], [22, 23.010953807792546], [23, 24.009925145660755], [24, 25.007210592929624], [25, 26.00816755741041], [26, 27.01069290800694], [27, 28.00964731726311], [28, 29.0107705804622], [29, 30.013703213548474], [30, 31.011904797469075], [31, 32.009572632209974], [32, 33.008916399543125], [33, 34.010510676477296], [34, 35.00808689755302], [35, 36.007906657624794], [36, 37.007549165170474], [37, 38.005254840338296], [38, 39.006945709941185], [39, 40.008197431431654], [40, 41.00836273434925], [41, 42.010539554697836], [42, 43.01015816302651], [43, 44.00903888303026], [44, 45.00773338830153], [45, 46.00719963912182], [46, 47.00651253663302]]\n"
     ]
    },
    {
     "name": "stderr",
     "output_type": "stream",
     "text": [
      "reconstraining parameters GP_regression.mul\n",
      "reconstraining parameters GP_regression.Gaussian_noise.variance\n"
     ]
    },
    {
     "name": "stdout",
     "output_type": "stream",
     "text": [
      "sampling end!. 2019-04-17 14:37:11.364287 2019-04-17 14:38:49.519791\n"
     ]
    },
    {
     "name": "stderr",
     "output_type": "stream",
     "text": [
      "[I 2019-04-17 14:38:50,533] Finished a trial resulted in value: 0.11523179321214744. Current best value is -0.3678504795545692 with parameters: {'a': 0.628575516140339, 'b': 0.6255697130800353, 'ab': [0.628575516140339, 0.6255697130800353]}.\n"
     ]
    },
    {
     "name": "stdout",
     "output_type": "stream",
     "text": [
      "2019-04-17 13:32:45.535397 2019-04-17 13:32:44.528432 0:00:00.000208\n",
      "2019-04-17 13:32:46.544049 2019-04-17 13:32:45.539577 0:00:00.000255\n",
      "2019-04-17 13:32:47.551702 2019-04-17 13:32:46.548077 0:00:00.000312\n",
      "2019-04-17 13:32:48.562685 2019-04-17 13:32:47.555801 0:00:00.000704\n",
      "2019-04-17 13:32:49.571595 2019-04-17 13:32:48.566388 0:00:00.000390\n",
      "2019-04-17 13:32:50.580238 2019-04-17 13:32:49.575298 0:00:00.000548\n",
      "2019-04-17 13:32:51.586422 2019-04-17 13:32:50.583475 0:00:00.000498\n",
      "2019-04-17 13:32:52.597042 2019-04-17 13:32:51.589940 0:00:00.000566\n",
      "2019-04-17 13:32:53.607390 2019-04-17 13:32:52.601836 0:00:00.000807\n",
      "2019-04-17 13:32:54.618539 2019-04-17 13:32:53.611387 0:00:00.000831\n",
      "2019-04-17 13:34:35.122242 2019-04-17 13:32:54.623813 0:01:39.493723\n",
      "2019-04-17 13:36:06.841772 2019-04-17 13:34:35.127388 0:01:30.710969\n",
      "2019-04-17 13:37:47.978833 2019-04-17 13:36:06.847609 0:01:40.124213\n",
      "2019-04-17 13:39:23.736225 2019-04-17 13:37:47.984325 0:01:34.748855\n",
      "2019-04-17 13:41:02.277467 2019-04-17 13:39:23.741729 0:01:37.531495\n",
      "2019-04-17 13:42:49.027379 2019-04-17 13:41:02.282765 0:01:45.739021\n",
      "2019-04-17 13:44:12.567658 2019-04-17 13:42:49.033075 0:01:22.527134\n",
      "2019-04-17 13:46:00.167530 2019-04-17 13:44:12.574396 0:01:46.589763\n",
      "2019-04-17 13:47:43.244229 2019-04-17 13:46:00.173749 0:01:42.065847\n",
      "2019-04-17 13:49:05.804982 2019-04-17 13:47:43.251344 0:01:21.549298\n",
      "2019-04-17 13:50:43.560259 2019-04-17 13:49:05.811815 0:01:36.744809\n",
      "2019-04-17 13:52:57.285626 2019-04-17 13:50:43.566362 0:02:12.717076\n",
      "2019-04-17 13:54:49.150780 2019-04-17 13:52:57.292908 0:01:50.850699\n",
      "2019-04-17 13:56:08.997671 2019-04-17 13:54:49.157619 0:01:18.836868\n",
      "2019-04-17 13:57:42.967280 2019-04-17 13:56:09.004677 0:01:32.961112\n",
      "2019-04-17 13:59:30.969727 2019-04-17 13:57:42.974637 0:01:46.989912\n",
      "2019-04-17 14:01:20.562652 2019-04-17 13:59:30.976434 0:01:48.579465\n",
      "2019-04-17 14:02:56.020329 2019-04-17 14:01:20.569600 0:01:34.447562\n",
      "2019-04-17 14:04:54.973702 2019-04-17 14:02:56.027981 0:01:57.940376\n",
      "2019-04-17 14:06:25.218921 2019-04-17 14:04:54.981432 0:01:29.230327\n",
      "2019-04-17 14:08:11.042810 2019-04-17 14:06:25.227910 0:01:44.812489\n",
      "2019-04-17 14:10:09.786447 2019-04-17 14:08:11.050107 0:01:57.734465\n",
      "2019-04-17 14:12:03.866770 2019-04-17 14:10:09.794211 0:01:53.069001\n",
      "2019-04-17 14:13:59.547424 2019-04-17 14:12:03.874431 0:01:54.667175\n",
      "2019-04-17 14:15:50.282620 2019-04-17 14:13:59.555178 0:01:49.725659\n",
      "2019-04-17 14:17:29.871802 2019-04-17 14:15:50.288872 0:01:38.578894\n",
      "2019-04-17 14:19:13.298968 2019-04-17 14:17:29.879649 0:01:42.415461\n",
      "2019-04-17 14:21:14.836276 2019-04-17 14:19:13.306950 0:02:00.527413\n",
      "2019-04-17 14:23:16.663054 2019-04-17 14:21:14.845227 0:02:00.811912\n",
      "2019-04-17 14:25:09.866602 2019-04-17 14:23:16.671587 0:01:52.189541\n",
      "2019-04-17 14:26:48.742325 2019-04-17 14:25:09.875328 0:01:37.862614\n",
      "2019-04-17 14:28:37.114982 2019-04-17 14:26:48.750813 0:01:47.357766\n",
      "2019-04-17 14:30:11.752872 2019-04-17 14:28:37.124364 0:01:33.624674\n",
      "2019-04-17 14:32:13.594553 2019-04-17 14:30:11.761072 0:02:00.830388\n",
      "2019-04-17 14:33:54.377060 2019-04-17 14:32:13.603926 0:01:39.770228\n",
      "2019-04-17 14:35:39.721296 2019-04-17 14:33:54.385493 0:01:44.332122\n",
      "2019-04-17 14:37:11.354143 2019-04-17 14:35:39.730414 0:01:30.620202\n",
      "2019-04-17 14:38:50.525980 2019-04-17 14:37:11.364252 0:01:38.155504\n",
      "[[0, 1.0], [1, 2.0], [2, 2.9990997961595953], [3, 4.001054552950209], [4, 5.001652033375256], [5, 6.001826298499227], [6, 7.000065722846756], [7, 8.002374984689565], [8, 9.002902759065021], [9, 10.004997923755521], [10, 11.005484870301936], [11, 12.00468623813379], [12, 13.007468505313094], [13, 14.006301426882834], [14, 15.006327317701254], [15, 16.00769753947603], [16, 17.010915967365623], [17, 18.010073519966305], [18, 19.01048777306101], [19, 20.01061025654814], [20, 21.010030700535843], [21, 22.008010220898477], [22, 23.010953807792546], [23, 24.009925145660755], [24, 25.007210592929624], [25, 26.00816755741041], [26, 27.01069290800694], [27, 28.00964731726311], [28, 29.0107705804622], [29, 30.013703213548474], [30, 31.011904797469075], [31, 32.009572632209974], [32, 33.008916399543125], [33, 34.010510676477296], [34, 35.00808689755302], [35, 36.007906657624794], [36, 37.007549165170474], [37, 38.005254840338296], [38, 39.006945709941185], [39, 40.008197431431654], [40, 41.00836273434925], [41, 42.010539554697836], [42, 43.01015816302651], [43, 44.00903888303026], [44, 45.00773338830153], [45, 46.00719963912182], [46, 47.00651253663302], [47, 48.0085111086548]]\n"
     ]
    },
    {
     "name": "stderr",
     "output_type": "stream",
     "text": [
      "reconstraining parameters GP_regression.mul\n",
      "reconstraining parameters GP_regression.Gaussian_noise.variance\n"
     ]
    },
    {
     "name": "stdout",
     "output_type": "stream",
     "text": [
      "sampling end!. 2019-04-17 14:38:50.535328 2019-04-17 14:40:28.142593\n"
     ]
    },
    {
     "name": "stderr",
     "output_type": "stream",
     "text": [
      "[I 2019-04-17 14:40:29,151] Finished a trial resulted in value: 0.23920542764260827. Current best value is -0.3678504795545692 with parameters: {'a': 0.628575516140339, 'b': 0.6255697130800353, 'ab': [0.628575516140339, 0.6255697130800353]}.\n"
     ]
    },
    {
     "name": "stdout",
     "output_type": "stream",
     "text": [
      "2019-04-17 13:32:45.535397 2019-04-17 13:32:44.528432 0:00:00.000208\n",
      "2019-04-17 13:32:46.544049 2019-04-17 13:32:45.539577 0:00:00.000255\n",
      "2019-04-17 13:32:47.551702 2019-04-17 13:32:46.548077 0:00:00.000312\n",
      "2019-04-17 13:32:48.562685 2019-04-17 13:32:47.555801 0:00:00.000704\n",
      "2019-04-17 13:32:49.571595 2019-04-17 13:32:48.566388 0:00:00.000390\n",
      "2019-04-17 13:32:50.580238 2019-04-17 13:32:49.575298 0:00:00.000548\n",
      "2019-04-17 13:32:51.586422 2019-04-17 13:32:50.583475 0:00:00.000498\n",
      "2019-04-17 13:32:52.597042 2019-04-17 13:32:51.589940 0:00:00.000566\n",
      "2019-04-17 13:32:53.607390 2019-04-17 13:32:52.601836 0:00:00.000807\n",
      "2019-04-17 13:32:54.618539 2019-04-17 13:32:53.611387 0:00:00.000831\n",
      "2019-04-17 13:34:35.122242 2019-04-17 13:32:54.623813 0:01:39.493723\n",
      "2019-04-17 13:36:06.841772 2019-04-17 13:34:35.127388 0:01:30.710969\n",
      "2019-04-17 13:37:47.978833 2019-04-17 13:36:06.847609 0:01:40.124213\n",
      "2019-04-17 13:39:23.736225 2019-04-17 13:37:47.984325 0:01:34.748855\n",
      "2019-04-17 13:41:02.277467 2019-04-17 13:39:23.741729 0:01:37.531495\n",
      "2019-04-17 13:42:49.027379 2019-04-17 13:41:02.282765 0:01:45.739021\n",
      "2019-04-17 13:44:12.567658 2019-04-17 13:42:49.033075 0:01:22.527134\n",
      "2019-04-17 13:46:00.167530 2019-04-17 13:44:12.574396 0:01:46.589763\n",
      "2019-04-17 13:47:43.244229 2019-04-17 13:46:00.173749 0:01:42.065847\n",
      "2019-04-17 13:49:05.804982 2019-04-17 13:47:43.251344 0:01:21.549298\n",
      "2019-04-17 13:50:43.560259 2019-04-17 13:49:05.811815 0:01:36.744809\n",
      "2019-04-17 13:52:57.285626 2019-04-17 13:50:43.566362 0:02:12.717076\n",
      "2019-04-17 13:54:49.150780 2019-04-17 13:52:57.292908 0:01:50.850699\n",
      "2019-04-17 13:56:08.997671 2019-04-17 13:54:49.157619 0:01:18.836868\n",
      "2019-04-17 13:57:42.967280 2019-04-17 13:56:09.004677 0:01:32.961112\n",
      "2019-04-17 13:59:30.969727 2019-04-17 13:57:42.974637 0:01:46.989912\n",
      "2019-04-17 14:01:20.562652 2019-04-17 13:59:30.976434 0:01:48.579465\n",
      "2019-04-17 14:02:56.020329 2019-04-17 14:01:20.569600 0:01:34.447562\n",
      "2019-04-17 14:04:54.973702 2019-04-17 14:02:56.027981 0:01:57.940376\n",
      "2019-04-17 14:06:25.218921 2019-04-17 14:04:54.981432 0:01:29.230327\n",
      "2019-04-17 14:08:11.042810 2019-04-17 14:06:25.227910 0:01:44.812489\n",
      "2019-04-17 14:10:09.786447 2019-04-17 14:08:11.050107 0:01:57.734465\n",
      "2019-04-17 14:12:03.866770 2019-04-17 14:10:09.794211 0:01:53.069001\n",
      "2019-04-17 14:13:59.547424 2019-04-17 14:12:03.874431 0:01:54.667175\n",
      "2019-04-17 14:15:50.282620 2019-04-17 14:13:59.555178 0:01:49.725659\n",
      "2019-04-17 14:17:29.871802 2019-04-17 14:15:50.288872 0:01:38.578894\n",
      "2019-04-17 14:19:13.298968 2019-04-17 14:17:29.879649 0:01:42.415461\n",
      "2019-04-17 14:21:14.836276 2019-04-17 14:19:13.306950 0:02:00.527413\n",
      "2019-04-17 14:23:16.663054 2019-04-17 14:21:14.845227 0:02:00.811912\n",
      "2019-04-17 14:25:09.866602 2019-04-17 14:23:16.671587 0:01:52.189541\n",
      "2019-04-17 14:26:48.742325 2019-04-17 14:25:09.875328 0:01:37.862614\n",
      "2019-04-17 14:28:37.114982 2019-04-17 14:26:48.750813 0:01:47.357766\n",
      "2019-04-17 14:30:11.752872 2019-04-17 14:28:37.124364 0:01:33.624674\n",
      "2019-04-17 14:32:13.594553 2019-04-17 14:30:11.761072 0:02:00.830388\n",
      "2019-04-17 14:33:54.377060 2019-04-17 14:32:13.603926 0:01:39.770228\n",
      "2019-04-17 14:35:39.721296 2019-04-17 14:33:54.385493 0:01:44.332122\n",
      "2019-04-17 14:37:11.354143 2019-04-17 14:35:39.730414 0:01:30.620202\n",
      "2019-04-17 14:38:50.525980 2019-04-17 14:37:11.364252 0:01:38.155504\n",
      "2019-04-17 14:40:29.144778 2019-04-17 14:38:50.535300 0:01:37.607265\n",
      "[[0, 1.0], [1, 2.0], [2, 2.9990997961595953], [3, 4.001054552950209], [4, 5.001652033375256], [5, 6.001826298499227], [6, 7.000065722846756], [7, 8.002374984689565], [8, 9.002902759065021], [9, 10.004997923755521], [10, 11.005484870301936], [11, 12.00468623813379], [12, 13.007468505313094], [13, 14.006301426882834], [14, 15.006327317701254], [15, 16.00769753947603], [16, 17.010915967365623], [17, 18.010073519966305], [18, 19.01048777306101], [19, 20.01061025654814], [20, 21.010030700535843], [21, 22.008010220898477], [22, 23.010953807792546], [23, 24.009925145660755], [24, 25.007210592929624], [25, 26.00816755741041], [26, 27.01069290800694], [27, 28.00964731726311], [28, 29.0107705804622], [29, 30.013703213548474], [30, 31.011904797469075], [31, 32.009572632209974], [32, 33.008916399543125], [33, 34.010510676477296], [34, 35.00808689755302], [35, 36.007906657624794], [36, 37.007549165170474], [37, 38.005254840338296], [38, 39.006945709941185], [39, 40.008197431431654], [40, 41.00836273434925], [41, 42.010539554697836], [42, 43.01015816302651], [43, 44.00903888303026], [44, 45.00773338830153], [45, 46.00719963912182], [46, 47.00651253663302], [47, 48.0085111086548], [48, 49.006515524035144]]\n"
     ]
    },
    {
     "name": "stderr",
     "output_type": "stream",
     "text": [
      "reconstraining parameters GP_regression.mul\n",
      "reconstraining parameters GP_regression.Gaussian_noise.variance\n"
     ]
    },
    {
     "name": "stdout",
     "output_type": "stream",
     "text": [
      "sampling end!. 2019-04-17 14:40:29.154055 2019-04-17 14:42:27.041394\n"
     ]
    },
    {
     "name": "stderr",
     "output_type": "stream",
     "text": [
      "[I 2019-04-17 14:42:28,054] Finished a trial resulted in value: 0.3134440329520982. Current best value is -0.3678504795545692 with parameters: {'a': 0.628575516140339, 'b': 0.6255697130800353, 'ab': [0.628575516140339, 0.6255697130800353]}.\n"
     ]
    },
    {
     "name": "stdout",
     "output_type": "stream",
     "text": [
      "2019-04-17 13:32:45.535397 2019-04-17 13:32:44.528432 0:00:00.000208\n",
      "2019-04-17 13:32:46.544049 2019-04-17 13:32:45.539577 0:00:00.000255\n",
      "2019-04-17 13:32:47.551702 2019-04-17 13:32:46.548077 0:00:00.000312\n",
      "2019-04-17 13:32:48.562685 2019-04-17 13:32:47.555801 0:00:00.000704\n",
      "2019-04-17 13:32:49.571595 2019-04-17 13:32:48.566388 0:00:00.000390\n",
      "2019-04-17 13:32:50.580238 2019-04-17 13:32:49.575298 0:00:00.000548\n",
      "2019-04-17 13:32:51.586422 2019-04-17 13:32:50.583475 0:00:00.000498\n",
      "2019-04-17 13:32:52.597042 2019-04-17 13:32:51.589940 0:00:00.000566\n",
      "2019-04-17 13:32:53.607390 2019-04-17 13:32:52.601836 0:00:00.000807\n",
      "2019-04-17 13:32:54.618539 2019-04-17 13:32:53.611387 0:00:00.000831\n",
      "2019-04-17 13:34:35.122242 2019-04-17 13:32:54.623813 0:01:39.493723\n",
      "2019-04-17 13:36:06.841772 2019-04-17 13:34:35.127388 0:01:30.710969\n",
      "2019-04-17 13:37:47.978833 2019-04-17 13:36:06.847609 0:01:40.124213\n",
      "2019-04-17 13:39:23.736225 2019-04-17 13:37:47.984325 0:01:34.748855\n",
      "2019-04-17 13:41:02.277467 2019-04-17 13:39:23.741729 0:01:37.531495\n",
      "2019-04-17 13:42:49.027379 2019-04-17 13:41:02.282765 0:01:45.739021\n",
      "2019-04-17 13:44:12.567658 2019-04-17 13:42:49.033075 0:01:22.527134\n",
      "2019-04-17 13:46:00.167530 2019-04-17 13:44:12.574396 0:01:46.589763\n",
      "2019-04-17 13:47:43.244229 2019-04-17 13:46:00.173749 0:01:42.065847\n",
      "2019-04-17 13:49:05.804982 2019-04-17 13:47:43.251344 0:01:21.549298\n",
      "2019-04-17 13:50:43.560259 2019-04-17 13:49:05.811815 0:01:36.744809\n",
      "2019-04-17 13:52:57.285626 2019-04-17 13:50:43.566362 0:02:12.717076\n",
      "2019-04-17 13:54:49.150780 2019-04-17 13:52:57.292908 0:01:50.850699\n",
      "2019-04-17 13:56:08.997671 2019-04-17 13:54:49.157619 0:01:18.836868\n",
      "2019-04-17 13:57:42.967280 2019-04-17 13:56:09.004677 0:01:32.961112\n",
      "2019-04-17 13:59:30.969727 2019-04-17 13:57:42.974637 0:01:46.989912\n",
      "2019-04-17 14:01:20.562652 2019-04-17 13:59:30.976434 0:01:48.579465\n",
      "2019-04-17 14:02:56.020329 2019-04-17 14:01:20.569600 0:01:34.447562\n",
      "2019-04-17 14:04:54.973702 2019-04-17 14:02:56.027981 0:01:57.940376\n",
      "2019-04-17 14:06:25.218921 2019-04-17 14:04:54.981432 0:01:29.230327\n",
      "2019-04-17 14:08:11.042810 2019-04-17 14:06:25.227910 0:01:44.812489\n",
      "2019-04-17 14:10:09.786447 2019-04-17 14:08:11.050107 0:01:57.734465\n",
      "2019-04-17 14:12:03.866770 2019-04-17 14:10:09.794211 0:01:53.069001\n",
      "2019-04-17 14:13:59.547424 2019-04-17 14:12:03.874431 0:01:54.667175\n",
      "2019-04-17 14:15:50.282620 2019-04-17 14:13:59.555178 0:01:49.725659\n",
      "2019-04-17 14:17:29.871802 2019-04-17 14:15:50.288872 0:01:38.578894\n",
      "2019-04-17 14:19:13.298968 2019-04-17 14:17:29.879649 0:01:42.415461\n",
      "2019-04-17 14:21:14.836276 2019-04-17 14:19:13.306950 0:02:00.527413\n",
      "2019-04-17 14:23:16.663054 2019-04-17 14:21:14.845227 0:02:00.811912\n",
      "2019-04-17 14:25:09.866602 2019-04-17 14:23:16.671587 0:01:52.189541\n",
      "2019-04-17 14:26:48.742325 2019-04-17 14:25:09.875328 0:01:37.862614\n",
      "2019-04-17 14:28:37.114982 2019-04-17 14:26:48.750813 0:01:47.357766\n",
      "2019-04-17 14:30:11.752872 2019-04-17 14:28:37.124364 0:01:33.624674\n",
      "2019-04-17 14:32:13.594553 2019-04-17 14:30:11.761072 0:02:00.830388\n",
      "2019-04-17 14:33:54.377060 2019-04-17 14:32:13.603926 0:01:39.770228\n",
      "2019-04-17 14:35:39.721296 2019-04-17 14:33:54.385493 0:01:44.332122\n",
      "2019-04-17 14:37:11.354143 2019-04-17 14:35:39.730414 0:01:30.620202\n",
      "2019-04-17 14:38:50.525980 2019-04-17 14:37:11.364252 0:01:38.155504\n",
      "2019-04-17 14:40:29.144778 2019-04-17 14:38:50.535300 0:01:37.607265\n",
      "2019-04-17 14:42:28.047041 2019-04-17 14:40:29.154021 0:01:57.887339\n",
      "[[0, 1.0], [1, 2.0], [2, 2.9990997961595953], [3, 4.001054552950209], [4, 5.001652033375256], [5, 6.001826298499227], [6, 7.000065722846756], [7, 8.002374984689565], [8, 9.002902759065021], [9, 10.004997923755521], [10, 11.005484870301936], [11, 12.00468623813379], [12, 13.007468505313094], [13, 14.006301426882834], [14, 15.006327317701254], [15, 16.00769753947603], [16, 17.010915967365623], [17, 18.010073519966305], [18, 19.01048777306101], [19, 20.01061025654814], [20, 21.010030700535843], [21, 22.008010220898477], [22, 23.010953807792546], [23, 24.009925145660755], [24, 25.007210592929624], [25, 26.00816755741041], [26, 27.01069290800694], [27, 28.00964731726311], [28, 29.0107705804622], [29, 30.013703213548474], [30, 31.011904797469075], [31, 32.009572632209974], [32, 33.008916399543125], [33, 34.010510676477296], [34, 35.00808689755302], [35, 36.007906657624794], [36, 37.007549165170474], [37, 38.005254840338296], [38, 39.006945709941185], [39, 40.008197431431654], [40, 41.00836273434925], [41, 42.010539554697836], [42, 43.01015816302651], [43, 44.00903888303026], [44, 45.00773338830153], [45, 46.00719963912182], [46, 47.00651253663302], [47, 48.0085111086548], [48, 49.006515524035144], [49, 50.00797337627226]]\n"
     ]
    },
    {
     "name": "stderr",
     "output_type": "stream",
     "text": [
      "reconstraining parameters GP_regression.mul\n",
      "reconstraining parameters GP_regression.Gaussian_noise.variance\n"
     ]
    },
    {
     "name": "stdout",
     "output_type": "stream",
     "text": [
      "sampling end!. 2019-04-17 14:42:28.056336 2019-04-17 14:44:32.246339\n"
     ]
    },
    {
     "name": "stderr",
     "output_type": "stream",
     "text": [
      "[I 2019-04-17 14:44:33,258] Finished a trial resulted in value: 0.25292898762027. Current best value is -0.3678504795545692 with parameters: {'a': 0.628575516140339, 'b': 0.6255697130800353, 'ab': [0.628575516140339, 0.6255697130800353]}.\n"
     ]
    },
    {
     "name": "stdout",
     "output_type": "stream",
     "text": [
      "2019-04-17 13:32:45.535397 2019-04-17 13:32:44.528432 0:00:00.000208\n",
      "2019-04-17 13:32:46.544049 2019-04-17 13:32:45.539577 0:00:00.000255\n",
      "2019-04-17 13:32:47.551702 2019-04-17 13:32:46.548077 0:00:00.000312\n",
      "2019-04-17 13:32:48.562685 2019-04-17 13:32:47.555801 0:00:00.000704\n",
      "2019-04-17 13:32:49.571595 2019-04-17 13:32:48.566388 0:00:00.000390\n",
      "2019-04-17 13:32:50.580238 2019-04-17 13:32:49.575298 0:00:00.000548\n",
      "2019-04-17 13:32:51.586422 2019-04-17 13:32:50.583475 0:00:00.000498\n",
      "2019-04-17 13:32:52.597042 2019-04-17 13:32:51.589940 0:00:00.000566\n",
      "2019-04-17 13:32:53.607390 2019-04-17 13:32:52.601836 0:00:00.000807\n",
      "2019-04-17 13:32:54.618539 2019-04-17 13:32:53.611387 0:00:00.000831\n",
      "2019-04-17 13:34:35.122242 2019-04-17 13:32:54.623813 0:01:39.493723\n",
      "2019-04-17 13:36:06.841772 2019-04-17 13:34:35.127388 0:01:30.710969\n",
      "2019-04-17 13:37:47.978833 2019-04-17 13:36:06.847609 0:01:40.124213\n",
      "2019-04-17 13:39:23.736225 2019-04-17 13:37:47.984325 0:01:34.748855\n",
      "2019-04-17 13:41:02.277467 2019-04-17 13:39:23.741729 0:01:37.531495\n",
      "2019-04-17 13:42:49.027379 2019-04-17 13:41:02.282765 0:01:45.739021\n",
      "2019-04-17 13:44:12.567658 2019-04-17 13:42:49.033075 0:01:22.527134\n",
      "2019-04-17 13:46:00.167530 2019-04-17 13:44:12.574396 0:01:46.589763\n",
      "2019-04-17 13:47:43.244229 2019-04-17 13:46:00.173749 0:01:42.065847\n",
      "2019-04-17 13:49:05.804982 2019-04-17 13:47:43.251344 0:01:21.549298\n",
      "2019-04-17 13:50:43.560259 2019-04-17 13:49:05.811815 0:01:36.744809\n",
      "2019-04-17 13:52:57.285626 2019-04-17 13:50:43.566362 0:02:12.717076\n",
      "2019-04-17 13:54:49.150780 2019-04-17 13:52:57.292908 0:01:50.850699\n",
      "2019-04-17 13:56:08.997671 2019-04-17 13:54:49.157619 0:01:18.836868\n",
      "2019-04-17 13:57:42.967280 2019-04-17 13:56:09.004677 0:01:32.961112\n",
      "2019-04-17 13:59:30.969727 2019-04-17 13:57:42.974637 0:01:46.989912\n",
      "2019-04-17 14:01:20.562652 2019-04-17 13:59:30.976434 0:01:48.579465\n",
      "2019-04-17 14:02:56.020329 2019-04-17 14:01:20.569600 0:01:34.447562\n",
      "2019-04-17 14:04:54.973702 2019-04-17 14:02:56.027981 0:01:57.940376\n",
      "2019-04-17 14:06:25.218921 2019-04-17 14:04:54.981432 0:01:29.230327\n",
      "2019-04-17 14:08:11.042810 2019-04-17 14:06:25.227910 0:01:44.812489\n",
      "2019-04-17 14:10:09.786447 2019-04-17 14:08:11.050107 0:01:57.734465\n",
      "2019-04-17 14:12:03.866770 2019-04-17 14:10:09.794211 0:01:53.069001\n",
      "2019-04-17 14:13:59.547424 2019-04-17 14:12:03.874431 0:01:54.667175\n",
      "2019-04-17 14:15:50.282620 2019-04-17 14:13:59.555178 0:01:49.725659\n",
      "2019-04-17 14:17:29.871802 2019-04-17 14:15:50.288872 0:01:38.578894\n",
      "2019-04-17 14:19:13.298968 2019-04-17 14:17:29.879649 0:01:42.415461\n",
      "2019-04-17 14:21:14.836276 2019-04-17 14:19:13.306950 0:02:00.527413\n",
      "2019-04-17 14:23:16.663054 2019-04-17 14:21:14.845227 0:02:00.811912\n",
      "2019-04-17 14:25:09.866602 2019-04-17 14:23:16.671587 0:01:52.189541\n",
      "2019-04-17 14:26:48.742325 2019-04-17 14:25:09.875328 0:01:37.862614\n",
      "2019-04-17 14:28:37.114982 2019-04-17 14:26:48.750813 0:01:47.357766\n",
      "2019-04-17 14:30:11.752872 2019-04-17 14:28:37.124364 0:01:33.624674\n",
      "2019-04-17 14:32:13.594553 2019-04-17 14:30:11.761072 0:02:00.830388\n",
      "2019-04-17 14:33:54.377060 2019-04-17 14:32:13.603926 0:01:39.770228\n",
      "2019-04-17 14:35:39.721296 2019-04-17 14:33:54.385493 0:01:44.332122\n",
      "2019-04-17 14:37:11.354143 2019-04-17 14:35:39.730414 0:01:30.620202\n",
      "2019-04-17 14:38:50.525980 2019-04-17 14:37:11.364252 0:01:38.155504\n",
      "2019-04-17 14:40:29.144778 2019-04-17 14:38:50.535300 0:01:37.607265\n",
      "2019-04-17 14:42:28.047041 2019-04-17 14:40:29.154021 0:01:57.887339\n",
      "2019-04-17 14:44:33.251192 2019-04-17 14:42:28.056306 0:02:04.190003\n",
      "[[0, 1.0], [1, 2.0], [2, 2.9990997961595953], [3, 4.001054552950209], [4, 5.001652033375256], [5, 6.001826298499227], [6, 7.000065722846756], [7, 8.002374984689565], [8, 9.002902759065021], [9, 10.004997923755521], [10, 11.005484870301936], [11, 12.00468623813379], [12, 13.007468505313094], [13, 14.006301426882834], [14, 15.006327317701254], [15, 16.00769753947603], [16, 17.010915967365623], [17, 18.010073519966305], [18, 19.01048777306101], [19, 20.01061025654814], [20, 21.010030700535843], [21, 22.008010220898477], [22, 23.010953807792546], [23, 24.009925145660755], [24, 25.007210592929624], [25, 26.00816755741041], [26, 27.01069290800694], [27, 28.00964731726311], [28, 29.0107705804622], [29, 30.013703213548474], [30, 31.011904797469075], [31, 32.009572632209974], [32, 33.008916399543125], [33, 34.010510676477296], [34, 35.00808689755302], [35, 36.007906657624794], [36, 37.007549165170474], [37, 38.005254840338296], [38, 39.006945709941185], [39, 40.008197431431654], [40, 41.00836273434925], [41, 42.010539554697836], [42, 43.01015816302651], [43, 44.00903888303026], [44, 45.00773338830153], [45, 46.00719963912182], [46, 47.00651253663302], [47, 48.0085111086548], [48, 49.006515524035144], [49, 50.00797337627226], [50, 51.00863657954406]]\n"
     ]
    },
    {
     "name": "stderr",
     "output_type": "stream",
     "text": [
      "reconstraining parameters GP_regression.mul\n",
      "reconstraining parameters GP_regression.Gaussian_noise.variance\n"
     ]
    },
    {
     "name": "stdout",
     "output_type": "stream",
     "text": [
      "sampling end!. 2019-04-17 14:44:33.261018 2019-04-17 14:46:24.689887\n"
     ]
    },
    {
     "name": "stderr",
     "output_type": "stream",
     "text": [
      "[I 2019-04-17 14:46:25,699] Finished a trial resulted in value: 0.5346329661806328. Current best value is -0.3678504795545692 with parameters: {'a': 0.628575516140339, 'b': 0.6255697130800353, 'ab': [0.628575516140339, 0.6255697130800353]}.\n"
     ]
    },
    {
     "name": "stdout",
     "output_type": "stream",
     "text": [
      "2019-04-17 13:32:45.535397 2019-04-17 13:32:44.528432 0:00:00.000208\n",
      "2019-04-17 13:32:46.544049 2019-04-17 13:32:45.539577 0:00:00.000255\n",
      "2019-04-17 13:32:47.551702 2019-04-17 13:32:46.548077 0:00:00.000312\n",
      "2019-04-17 13:32:48.562685 2019-04-17 13:32:47.555801 0:00:00.000704\n",
      "2019-04-17 13:32:49.571595 2019-04-17 13:32:48.566388 0:00:00.000390\n",
      "2019-04-17 13:32:50.580238 2019-04-17 13:32:49.575298 0:00:00.000548\n",
      "2019-04-17 13:32:51.586422 2019-04-17 13:32:50.583475 0:00:00.000498\n",
      "2019-04-17 13:32:52.597042 2019-04-17 13:32:51.589940 0:00:00.000566\n",
      "2019-04-17 13:32:53.607390 2019-04-17 13:32:52.601836 0:00:00.000807\n",
      "2019-04-17 13:32:54.618539 2019-04-17 13:32:53.611387 0:00:00.000831\n",
      "2019-04-17 13:34:35.122242 2019-04-17 13:32:54.623813 0:01:39.493723\n",
      "2019-04-17 13:36:06.841772 2019-04-17 13:34:35.127388 0:01:30.710969\n",
      "2019-04-17 13:37:47.978833 2019-04-17 13:36:06.847609 0:01:40.124213\n",
      "2019-04-17 13:39:23.736225 2019-04-17 13:37:47.984325 0:01:34.748855\n",
      "2019-04-17 13:41:02.277467 2019-04-17 13:39:23.741729 0:01:37.531495\n",
      "2019-04-17 13:42:49.027379 2019-04-17 13:41:02.282765 0:01:45.739021\n",
      "2019-04-17 13:44:12.567658 2019-04-17 13:42:49.033075 0:01:22.527134\n",
      "2019-04-17 13:46:00.167530 2019-04-17 13:44:12.574396 0:01:46.589763\n",
      "2019-04-17 13:47:43.244229 2019-04-17 13:46:00.173749 0:01:42.065847\n",
      "2019-04-17 13:49:05.804982 2019-04-17 13:47:43.251344 0:01:21.549298\n",
      "2019-04-17 13:50:43.560259 2019-04-17 13:49:05.811815 0:01:36.744809\n",
      "2019-04-17 13:52:57.285626 2019-04-17 13:50:43.566362 0:02:12.717076\n",
      "2019-04-17 13:54:49.150780 2019-04-17 13:52:57.292908 0:01:50.850699\n",
      "2019-04-17 13:56:08.997671 2019-04-17 13:54:49.157619 0:01:18.836868\n",
      "2019-04-17 13:57:42.967280 2019-04-17 13:56:09.004677 0:01:32.961112\n",
      "2019-04-17 13:59:30.969727 2019-04-17 13:57:42.974637 0:01:46.989912\n",
      "2019-04-17 14:01:20.562652 2019-04-17 13:59:30.976434 0:01:48.579465\n",
      "2019-04-17 14:02:56.020329 2019-04-17 14:01:20.569600 0:01:34.447562\n",
      "2019-04-17 14:04:54.973702 2019-04-17 14:02:56.027981 0:01:57.940376\n",
      "2019-04-17 14:06:25.218921 2019-04-17 14:04:54.981432 0:01:29.230327\n",
      "2019-04-17 14:08:11.042810 2019-04-17 14:06:25.227910 0:01:44.812489\n",
      "2019-04-17 14:10:09.786447 2019-04-17 14:08:11.050107 0:01:57.734465\n",
      "2019-04-17 14:12:03.866770 2019-04-17 14:10:09.794211 0:01:53.069001\n",
      "2019-04-17 14:13:59.547424 2019-04-17 14:12:03.874431 0:01:54.667175\n",
      "2019-04-17 14:15:50.282620 2019-04-17 14:13:59.555178 0:01:49.725659\n",
      "2019-04-17 14:17:29.871802 2019-04-17 14:15:50.288872 0:01:38.578894\n",
      "2019-04-17 14:19:13.298968 2019-04-17 14:17:29.879649 0:01:42.415461\n",
      "2019-04-17 14:21:14.836276 2019-04-17 14:19:13.306950 0:02:00.527413\n",
      "2019-04-17 14:23:16.663054 2019-04-17 14:21:14.845227 0:02:00.811912\n",
      "2019-04-17 14:25:09.866602 2019-04-17 14:23:16.671587 0:01:52.189541\n",
      "2019-04-17 14:26:48.742325 2019-04-17 14:25:09.875328 0:01:37.862614\n",
      "2019-04-17 14:28:37.114982 2019-04-17 14:26:48.750813 0:01:47.357766\n",
      "2019-04-17 14:30:11.752872 2019-04-17 14:28:37.124364 0:01:33.624674\n",
      "2019-04-17 14:32:13.594553 2019-04-17 14:30:11.761072 0:02:00.830388\n",
      "2019-04-17 14:33:54.377060 2019-04-17 14:32:13.603926 0:01:39.770228\n",
      "2019-04-17 14:35:39.721296 2019-04-17 14:33:54.385493 0:01:44.332122\n",
      "2019-04-17 14:37:11.354143 2019-04-17 14:35:39.730414 0:01:30.620202\n",
      "2019-04-17 14:38:50.525980 2019-04-17 14:37:11.364252 0:01:38.155504\n",
      "2019-04-17 14:40:29.144778 2019-04-17 14:38:50.535300 0:01:37.607265\n",
      "2019-04-17 14:42:28.047041 2019-04-17 14:40:29.154021 0:01:57.887339\n",
      "2019-04-17 14:44:33.251192 2019-04-17 14:42:28.056306 0:02:04.190003\n",
      "2019-04-17 14:46:25.694151 2019-04-17 14:44:33.260987 0:01:51.428869\n",
      "[[0, 1.0], [1, 2.0], [2, 2.9990997961595953], [3, 4.001054552950209], [4, 5.001652033375256], [5, 6.001826298499227], [6, 7.000065722846756], [7, 8.002374984689565], [8, 9.002902759065021], [9, 10.004997923755521], [10, 11.005484870301936], [11, 12.00468623813379], [12, 13.007468505313094], [13, 14.006301426882834], [14, 15.006327317701254], [15, 16.00769753947603], [16, 17.010915967365623], [17, 18.010073519966305], [18, 19.01048777306101], [19, 20.01061025654814], [20, 21.010030700535843], [21, 22.008010220898477], [22, 23.010953807792546], [23, 24.009925145660755], [24, 25.007210592929624], [25, 26.00816755741041], [26, 27.01069290800694], [27, 28.00964731726311], [28, 29.0107705804622], [29, 30.013703213548474], [30, 31.011904797469075], [31, 32.009572632209974], [32, 33.008916399543125], [33, 34.010510676477296], [34, 35.00808689755302], [35, 36.007906657624794], [36, 37.007549165170474], [37, 38.005254840338296], [38, 39.006945709941185], [39, 40.008197431431654], [40, 41.00836273434925], [41, 42.010539554697836], [42, 43.01015816302651], [43, 44.00903888303026], [44, 45.00773338830153], [45, 46.00719963912182], [46, 47.00651253663302], [47, 48.0085111086548], [48, 49.006515524035144], [49, 50.00797337627226], [50, 51.00863657954406], [51, 52.008714251999315]]\n"
     ]
    },
    {
     "name": "stderr",
     "output_type": "stream",
     "text": [
      "reconstraining parameters GP_regression.mul\n",
      "reconstraining parameters GP_regression.Gaussian_noise.variance\n"
     ]
    },
    {
     "name": "stdout",
     "output_type": "stream",
     "text": [
      "sampling end!. 2019-04-17 14:46:25.701587 2019-04-17 14:48:06.305079\n"
     ]
    },
    {
     "name": "stderr",
     "output_type": "stream",
     "text": [
      "[I 2019-04-17 14:48:07,316] Finished a trial resulted in value: 0.3520488659628135. Current best value is -0.3678504795545692 with parameters: {'a': 0.628575516140339, 'b': 0.6255697130800353, 'ab': [0.628575516140339, 0.6255697130800353]}.\n"
     ]
    },
    {
     "name": "stdout",
     "output_type": "stream",
     "text": [
      "2019-04-17 13:32:45.535397 2019-04-17 13:32:44.528432 0:00:00.000208\n",
      "2019-04-17 13:32:46.544049 2019-04-17 13:32:45.539577 0:00:00.000255\n",
      "2019-04-17 13:32:47.551702 2019-04-17 13:32:46.548077 0:00:00.000312\n",
      "2019-04-17 13:32:48.562685 2019-04-17 13:32:47.555801 0:00:00.000704\n",
      "2019-04-17 13:32:49.571595 2019-04-17 13:32:48.566388 0:00:00.000390\n",
      "2019-04-17 13:32:50.580238 2019-04-17 13:32:49.575298 0:00:00.000548\n",
      "2019-04-17 13:32:51.586422 2019-04-17 13:32:50.583475 0:00:00.000498\n",
      "2019-04-17 13:32:52.597042 2019-04-17 13:32:51.589940 0:00:00.000566\n",
      "2019-04-17 13:32:53.607390 2019-04-17 13:32:52.601836 0:00:00.000807\n",
      "2019-04-17 13:32:54.618539 2019-04-17 13:32:53.611387 0:00:00.000831\n",
      "2019-04-17 13:34:35.122242 2019-04-17 13:32:54.623813 0:01:39.493723\n",
      "2019-04-17 13:36:06.841772 2019-04-17 13:34:35.127388 0:01:30.710969\n",
      "2019-04-17 13:37:47.978833 2019-04-17 13:36:06.847609 0:01:40.124213\n",
      "2019-04-17 13:39:23.736225 2019-04-17 13:37:47.984325 0:01:34.748855\n",
      "2019-04-17 13:41:02.277467 2019-04-17 13:39:23.741729 0:01:37.531495\n",
      "2019-04-17 13:42:49.027379 2019-04-17 13:41:02.282765 0:01:45.739021\n",
      "2019-04-17 13:44:12.567658 2019-04-17 13:42:49.033075 0:01:22.527134\n",
      "2019-04-17 13:46:00.167530 2019-04-17 13:44:12.574396 0:01:46.589763\n",
      "2019-04-17 13:47:43.244229 2019-04-17 13:46:00.173749 0:01:42.065847\n",
      "2019-04-17 13:49:05.804982 2019-04-17 13:47:43.251344 0:01:21.549298\n",
      "2019-04-17 13:50:43.560259 2019-04-17 13:49:05.811815 0:01:36.744809\n",
      "2019-04-17 13:52:57.285626 2019-04-17 13:50:43.566362 0:02:12.717076\n",
      "2019-04-17 13:54:49.150780 2019-04-17 13:52:57.292908 0:01:50.850699\n",
      "2019-04-17 13:56:08.997671 2019-04-17 13:54:49.157619 0:01:18.836868\n",
      "2019-04-17 13:57:42.967280 2019-04-17 13:56:09.004677 0:01:32.961112\n",
      "2019-04-17 13:59:30.969727 2019-04-17 13:57:42.974637 0:01:46.989912\n",
      "2019-04-17 14:01:20.562652 2019-04-17 13:59:30.976434 0:01:48.579465\n",
      "2019-04-17 14:02:56.020329 2019-04-17 14:01:20.569600 0:01:34.447562\n",
      "2019-04-17 14:04:54.973702 2019-04-17 14:02:56.027981 0:01:57.940376\n",
      "2019-04-17 14:06:25.218921 2019-04-17 14:04:54.981432 0:01:29.230327\n",
      "2019-04-17 14:08:11.042810 2019-04-17 14:06:25.227910 0:01:44.812489\n",
      "2019-04-17 14:10:09.786447 2019-04-17 14:08:11.050107 0:01:57.734465\n",
      "2019-04-17 14:12:03.866770 2019-04-17 14:10:09.794211 0:01:53.069001\n",
      "2019-04-17 14:13:59.547424 2019-04-17 14:12:03.874431 0:01:54.667175\n",
      "2019-04-17 14:15:50.282620 2019-04-17 14:13:59.555178 0:01:49.725659\n",
      "2019-04-17 14:17:29.871802 2019-04-17 14:15:50.288872 0:01:38.578894\n",
      "2019-04-17 14:19:13.298968 2019-04-17 14:17:29.879649 0:01:42.415461\n",
      "2019-04-17 14:21:14.836276 2019-04-17 14:19:13.306950 0:02:00.527413\n",
      "2019-04-17 14:23:16.663054 2019-04-17 14:21:14.845227 0:02:00.811912\n",
      "2019-04-17 14:25:09.866602 2019-04-17 14:23:16.671587 0:01:52.189541\n",
      "2019-04-17 14:26:48.742325 2019-04-17 14:25:09.875328 0:01:37.862614\n",
      "2019-04-17 14:28:37.114982 2019-04-17 14:26:48.750813 0:01:47.357766\n",
      "2019-04-17 14:30:11.752872 2019-04-17 14:28:37.124364 0:01:33.624674\n",
      "2019-04-17 14:32:13.594553 2019-04-17 14:30:11.761072 0:02:00.830388\n",
      "2019-04-17 14:33:54.377060 2019-04-17 14:32:13.603926 0:01:39.770228\n",
      "2019-04-17 14:35:39.721296 2019-04-17 14:33:54.385493 0:01:44.332122\n",
      "2019-04-17 14:37:11.354143 2019-04-17 14:35:39.730414 0:01:30.620202\n",
      "2019-04-17 14:38:50.525980 2019-04-17 14:37:11.364252 0:01:38.155504\n",
      "2019-04-17 14:40:29.144778 2019-04-17 14:38:50.535300 0:01:37.607265\n",
      "2019-04-17 14:42:28.047041 2019-04-17 14:40:29.154021 0:01:57.887339\n",
      "2019-04-17 14:44:33.251192 2019-04-17 14:42:28.056306 0:02:04.190003\n",
      "2019-04-17 14:46:25.694151 2019-04-17 14:44:33.260987 0:01:51.428869\n",
      "2019-04-17 14:48:07.308746 2019-04-17 14:46:25.701556 0:01:40.603492\n",
      "[[0, 1.0], [1, 2.0], [2, 2.9990997961595953], [3, 4.001054552950209], [4, 5.001652033375256], [5, 6.001826298499227], [6, 7.000065722846756], [7, 8.002374984689565], [8, 9.002902759065021], [9, 10.004997923755521], [10, 11.005484870301936], [11, 12.00468623813379], [12, 13.007468505313094], [13, 14.006301426882834], [14, 15.006327317701254], [15, 16.00769753947603], [16, 17.010915967365623], [17, 18.010073519966305], [18, 19.01048777306101], [19, 20.01061025654814], [20, 21.010030700535843], [21, 22.008010220898477], [22, 23.010953807792546], [23, 24.009925145660755], [24, 25.007210592929624], [25, 26.00816755741041], [26, 27.01069290800694], [27, 28.00964731726311], [28, 29.0107705804622], [29, 30.013703213548474], [30, 31.011904797469075], [31, 32.009572632209974], [32, 33.008916399543125], [33, 34.010510676477296], [34, 35.00808689755302], [35, 36.007906657624794], [36, 37.007549165170474], [37, 38.005254840338296], [38, 39.006945709941185], [39, 40.008197431431654], [40, 41.00836273434925], [41, 42.010539554697836], [42, 43.01015816302651], [43, 44.00903888303026], [44, 45.00773338830153], [45, 46.00719963912182], [46, 47.00651253663302], [47, 48.0085111086548], [48, 49.006515524035144], [49, 50.00797337627226], [50, 51.00863657954406], [51, 52.008714251999315], [52, 53.008197431431654]]\n"
     ]
    },
    {
     "name": "stderr",
     "output_type": "stream",
     "text": [
      "reconstraining parameters GP_regression.mul\n",
      "reconstraining parameters GP_regression.Gaussian_noise.variance\n"
     ]
    },
    {
     "name": "stdout",
     "output_type": "stream",
     "text": [
      "sampling end!. 2019-04-17 14:48:07.318957 2019-04-17 14:50:01.373941\n"
     ]
    },
    {
     "name": "stderr",
     "output_type": "stream",
     "text": [
      "[I 2019-04-17 14:50:02,386] Finished a trial resulted in value: 0.328289185637804. Current best value is -0.3678504795545692 with parameters: {'a': 0.628575516140339, 'b': 0.6255697130800353, 'ab': [0.628575516140339, 0.6255697130800353]}.\n"
     ]
    },
    {
     "name": "stdout",
     "output_type": "stream",
     "text": [
      "2019-04-17 13:32:45.535397 2019-04-17 13:32:44.528432 0:00:00.000208\n",
      "2019-04-17 13:32:46.544049 2019-04-17 13:32:45.539577 0:00:00.000255\n",
      "2019-04-17 13:32:47.551702 2019-04-17 13:32:46.548077 0:00:00.000312\n",
      "2019-04-17 13:32:48.562685 2019-04-17 13:32:47.555801 0:00:00.000704\n",
      "2019-04-17 13:32:49.571595 2019-04-17 13:32:48.566388 0:00:00.000390\n",
      "2019-04-17 13:32:50.580238 2019-04-17 13:32:49.575298 0:00:00.000548\n",
      "2019-04-17 13:32:51.586422 2019-04-17 13:32:50.583475 0:00:00.000498\n",
      "2019-04-17 13:32:52.597042 2019-04-17 13:32:51.589940 0:00:00.000566\n",
      "2019-04-17 13:32:53.607390 2019-04-17 13:32:52.601836 0:00:00.000807\n",
      "2019-04-17 13:32:54.618539 2019-04-17 13:32:53.611387 0:00:00.000831\n",
      "2019-04-17 13:34:35.122242 2019-04-17 13:32:54.623813 0:01:39.493723\n",
      "2019-04-17 13:36:06.841772 2019-04-17 13:34:35.127388 0:01:30.710969\n",
      "2019-04-17 13:37:47.978833 2019-04-17 13:36:06.847609 0:01:40.124213\n",
      "2019-04-17 13:39:23.736225 2019-04-17 13:37:47.984325 0:01:34.748855\n",
      "2019-04-17 13:41:02.277467 2019-04-17 13:39:23.741729 0:01:37.531495\n",
      "2019-04-17 13:42:49.027379 2019-04-17 13:41:02.282765 0:01:45.739021\n",
      "2019-04-17 13:44:12.567658 2019-04-17 13:42:49.033075 0:01:22.527134\n",
      "2019-04-17 13:46:00.167530 2019-04-17 13:44:12.574396 0:01:46.589763\n",
      "2019-04-17 13:47:43.244229 2019-04-17 13:46:00.173749 0:01:42.065847\n",
      "2019-04-17 13:49:05.804982 2019-04-17 13:47:43.251344 0:01:21.549298\n",
      "2019-04-17 13:50:43.560259 2019-04-17 13:49:05.811815 0:01:36.744809\n",
      "2019-04-17 13:52:57.285626 2019-04-17 13:50:43.566362 0:02:12.717076\n",
      "2019-04-17 13:54:49.150780 2019-04-17 13:52:57.292908 0:01:50.850699\n",
      "2019-04-17 13:56:08.997671 2019-04-17 13:54:49.157619 0:01:18.836868\n",
      "2019-04-17 13:57:42.967280 2019-04-17 13:56:09.004677 0:01:32.961112\n",
      "2019-04-17 13:59:30.969727 2019-04-17 13:57:42.974637 0:01:46.989912\n",
      "2019-04-17 14:01:20.562652 2019-04-17 13:59:30.976434 0:01:48.579465\n",
      "2019-04-17 14:02:56.020329 2019-04-17 14:01:20.569600 0:01:34.447562\n",
      "2019-04-17 14:04:54.973702 2019-04-17 14:02:56.027981 0:01:57.940376\n",
      "2019-04-17 14:06:25.218921 2019-04-17 14:04:54.981432 0:01:29.230327\n",
      "2019-04-17 14:08:11.042810 2019-04-17 14:06:25.227910 0:01:44.812489\n",
      "2019-04-17 14:10:09.786447 2019-04-17 14:08:11.050107 0:01:57.734465\n",
      "2019-04-17 14:12:03.866770 2019-04-17 14:10:09.794211 0:01:53.069001\n",
      "2019-04-17 14:13:59.547424 2019-04-17 14:12:03.874431 0:01:54.667175\n",
      "2019-04-17 14:15:50.282620 2019-04-17 14:13:59.555178 0:01:49.725659\n",
      "2019-04-17 14:17:29.871802 2019-04-17 14:15:50.288872 0:01:38.578894\n",
      "2019-04-17 14:19:13.298968 2019-04-17 14:17:29.879649 0:01:42.415461\n",
      "2019-04-17 14:21:14.836276 2019-04-17 14:19:13.306950 0:02:00.527413\n",
      "2019-04-17 14:23:16.663054 2019-04-17 14:21:14.845227 0:02:00.811912\n",
      "2019-04-17 14:25:09.866602 2019-04-17 14:23:16.671587 0:01:52.189541\n",
      "2019-04-17 14:26:48.742325 2019-04-17 14:25:09.875328 0:01:37.862614\n",
      "2019-04-17 14:28:37.114982 2019-04-17 14:26:48.750813 0:01:47.357766\n",
      "2019-04-17 14:30:11.752872 2019-04-17 14:28:37.124364 0:01:33.624674\n",
      "2019-04-17 14:32:13.594553 2019-04-17 14:30:11.761072 0:02:00.830388\n",
      "2019-04-17 14:33:54.377060 2019-04-17 14:32:13.603926 0:01:39.770228\n",
      "2019-04-17 14:35:39.721296 2019-04-17 14:33:54.385493 0:01:44.332122\n",
      "2019-04-17 14:37:11.354143 2019-04-17 14:35:39.730414 0:01:30.620202\n",
      "2019-04-17 14:38:50.525980 2019-04-17 14:37:11.364252 0:01:38.155504\n",
      "2019-04-17 14:40:29.144778 2019-04-17 14:38:50.535300 0:01:37.607265\n",
      "2019-04-17 14:42:28.047041 2019-04-17 14:40:29.154021 0:01:57.887339\n",
      "2019-04-17 14:44:33.251192 2019-04-17 14:42:28.056306 0:02:04.190003\n",
      "2019-04-17 14:46:25.694151 2019-04-17 14:44:33.260987 0:01:51.428869\n",
      "2019-04-17 14:48:07.308746 2019-04-17 14:46:25.701556 0:01:40.603492\n",
      "2019-04-17 14:50:02.378871 2019-04-17 14:48:07.318925 0:01:54.054984\n",
      "[[0, 1.0], [1, 2.0], [2, 2.9990997961595953], [3, 4.001054552950209], [4, 5.001652033375256], [5, 6.001826298499227], [6, 7.000065722846756], [7, 8.002374984689565], [8, 9.002902759065021], [9, 10.004997923755521], [10, 11.005484870301936], [11, 12.00468623813379], [12, 13.007468505313094], [13, 14.006301426882834], [14, 15.006327317701254], [15, 16.00769753947603], [16, 17.010915967365623], [17, 18.010073519966305], [18, 19.01048777306101], [19, 20.01061025654814], [20, 21.010030700535843], [21, 22.008010220898477], [22, 23.010953807792546], [23, 24.009925145660755], [24, 25.007210592929624], [25, 26.00816755741041], [26, 27.01069290800694], [27, 28.00964731726311], [28, 29.0107705804622], [29, 30.013703213548474], [30, 31.011904797469075], [31, 32.009572632209974], [32, 33.008916399543125], [33, 34.010510676477296], [34, 35.00808689755302], [35, 36.007906657624794], [36, 37.007549165170474], [37, 38.005254840338296], [38, 39.006945709941185], [39, 40.008197431431654], [40, 41.00836273434925], [41, 42.010539554697836], [42, 43.01015816302651], [43, 44.00903888303026], [44, 45.00773338830153], [45, 46.00719963912182], [46, 47.00651253663302], [47, 48.0085111086548], [48, 49.006515524035144], [49, 50.00797337627226], [50, 51.00863657954406], [51, 52.008714251999315], [52, 53.008197431431654], [53, 54.00893930295942]]\n"
     ]
    },
    {
     "name": "stderr",
     "output_type": "stream",
     "text": [
      "reconstraining parameters GP_regression.mul\n",
      "reconstraining parameters GP_regression.Gaussian_noise.variance\n"
     ]
    },
    {
     "name": "stdout",
     "output_type": "stream",
     "text": [
      "sampling end!. 2019-04-17 14:50:02.389289 2019-04-17 14:51:56.833634\n"
     ]
    },
    {
     "name": "stderr",
     "output_type": "stream",
     "text": [
      "[I 2019-04-17 14:51:57,844] Finished a trial resulted in value: 0.23525725014290758. Current best value is -0.3678504795545692 with parameters: {'a': 0.628575516140339, 'b': 0.6255697130800353, 'ab': [0.628575516140339, 0.6255697130800353]}.\n"
     ]
    },
    {
     "name": "stdout",
     "output_type": "stream",
     "text": [
      "2019-04-17 13:32:45.535397 2019-04-17 13:32:44.528432 0:00:00.000208\n",
      "2019-04-17 13:32:46.544049 2019-04-17 13:32:45.539577 0:00:00.000255\n",
      "2019-04-17 13:32:47.551702 2019-04-17 13:32:46.548077 0:00:00.000312\n",
      "2019-04-17 13:32:48.562685 2019-04-17 13:32:47.555801 0:00:00.000704\n",
      "2019-04-17 13:32:49.571595 2019-04-17 13:32:48.566388 0:00:00.000390\n",
      "2019-04-17 13:32:50.580238 2019-04-17 13:32:49.575298 0:00:00.000548\n",
      "2019-04-17 13:32:51.586422 2019-04-17 13:32:50.583475 0:00:00.000498\n",
      "2019-04-17 13:32:52.597042 2019-04-17 13:32:51.589940 0:00:00.000566\n",
      "2019-04-17 13:32:53.607390 2019-04-17 13:32:52.601836 0:00:00.000807\n",
      "2019-04-17 13:32:54.618539 2019-04-17 13:32:53.611387 0:00:00.000831\n",
      "2019-04-17 13:34:35.122242 2019-04-17 13:32:54.623813 0:01:39.493723\n",
      "2019-04-17 13:36:06.841772 2019-04-17 13:34:35.127388 0:01:30.710969\n",
      "2019-04-17 13:37:47.978833 2019-04-17 13:36:06.847609 0:01:40.124213\n",
      "2019-04-17 13:39:23.736225 2019-04-17 13:37:47.984325 0:01:34.748855\n",
      "2019-04-17 13:41:02.277467 2019-04-17 13:39:23.741729 0:01:37.531495\n",
      "2019-04-17 13:42:49.027379 2019-04-17 13:41:02.282765 0:01:45.739021\n",
      "2019-04-17 13:44:12.567658 2019-04-17 13:42:49.033075 0:01:22.527134\n",
      "2019-04-17 13:46:00.167530 2019-04-17 13:44:12.574396 0:01:46.589763\n",
      "2019-04-17 13:47:43.244229 2019-04-17 13:46:00.173749 0:01:42.065847\n",
      "2019-04-17 13:49:05.804982 2019-04-17 13:47:43.251344 0:01:21.549298\n",
      "2019-04-17 13:50:43.560259 2019-04-17 13:49:05.811815 0:01:36.744809\n",
      "2019-04-17 13:52:57.285626 2019-04-17 13:50:43.566362 0:02:12.717076\n",
      "2019-04-17 13:54:49.150780 2019-04-17 13:52:57.292908 0:01:50.850699\n",
      "2019-04-17 13:56:08.997671 2019-04-17 13:54:49.157619 0:01:18.836868\n",
      "2019-04-17 13:57:42.967280 2019-04-17 13:56:09.004677 0:01:32.961112\n",
      "2019-04-17 13:59:30.969727 2019-04-17 13:57:42.974637 0:01:46.989912\n",
      "2019-04-17 14:01:20.562652 2019-04-17 13:59:30.976434 0:01:48.579465\n",
      "2019-04-17 14:02:56.020329 2019-04-17 14:01:20.569600 0:01:34.447562\n",
      "2019-04-17 14:04:54.973702 2019-04-17 14:02:56.027981 0:01:57.940376\n",
      "2019-04-17 14:06:25.218921 2019-04-17 14:04:54.981432 0:01:29.230327\n",
      "2019-04-17 14:08:11.042810 2019-04-17 14:06:25.227910 0:01:44.812489\n",
      "2019-04-17 14:10:09.786447 2019-04-17 14:08:11.050107 0:01:57.734465\n",
      "2019-04-17 14:12:03.866770 2019-04-17 14:10:09.794211 0:01:53.069001\n",
      "2019-04-17 14:13:59.547424 2019-04-17 14:12:03.874431 0:01:54.667175\n",
      "2019-04-17 14:15:50.282620 2019-04-17 14:13:59.555178 0:01:49.725659\n",
      "2019-04-17 14:17:29.871802 2019-04-17 14:15:50.288872 0:01:38.578894\n",
      "2019-04-17 14:19:13.298968 2019-04-17 14:17:29.879649 0:01:42.415461\n",
      "2019-04-17 14:21:14.836276 2019-04-17 14:19:13.306950 0:02:00.527413\n",
      "2019-04-17 14:23:16.663054 2019-04-17 14:21:14.845227 0:02:00.811912\n",
      "2019-04-17 14:25:09.866602 2019-04-17 14:23:16.671587 0:01:52.189541\n",
      "2019-04-17 14:26:48.742325 2019-04-17 14:25:09.875328 0:01:37.862614\n",
      "2019-04-17 14:28:37.114982 2019-04-17 14:26:48.750813 0:01:47.357766\n",
      "2019-04-17 14:30:11.752872 2019-04-17 14:28:37.124364 0:01:33.624674\n",
      "2019-04-17 14:32:13.594553 2019-04-17 14:30:11.761072 0:02:00.830388\n",
      "2019-04-17 14:33:54.377060 2019-04-17 14:32:13.603926 0:01:39.770228\n",
      "2019-04-17 14:35:39.721296 2019-04-17 14:33:54.385493 0:01:44.332122\n",
      "2019-04-17 14:37:11.354143 2019-04-17 14:35:39.730414 0:01:30.620202\n",
      "2019-04-17 14:38:50.525980 2019-04-17 14:37:11.364252 0:01:38.155504\n",
      "2019-04-17 14:40:29.144778 2019-04-17 14:38:50.535300 0:01:37.607265\n",
      "2019-04-17 14:42:28.047041 2019-04-17 14:40:29.154021 0:01:57.887339\n",
      "2019-04-17 14:44:33.251192 2019-04-17 14:42:28.056306 0:02:04.190003\n",
      "2019-04-17 14:46:25.694151 2019-04-17 14:44:33.260987 0:01:51.428869\n",
      "2019-04-17 14:48:07.308746 2019-04-17 14:46:25.701556 0:01:40.603492\n",
      "2019-04-17 14:50:02.378871 2019-04-17 14:48:07.318925 0:01:54.054984\n",
      "2019-04-17 14:51:57.836530 2019-04-17 14:50:02.389231 0:01:54.444345\n",
      "[[0, 1.0], [1, 2.0], [2, 2.9990997961595953], [3, 4.001054552950209], [4, 5.001652033375256], [5, 6.001826298499227], [6, 7.000065722846756], [7, 8.002374984689565], [8, 9.002902759065021], [9, 10.004997923755521], [10, 11.005484870301936], [11, 12.00468623813379], [12, 13.007468505313094], [13, 14.006301426882834], [14, 15.006327317701254], [15, 16.00769753947603], [16, 17.010915967365623], [17, 18.010073519966305], [18, 19.01048777306101], [19, 20.01061025654814], [20, 21.010030700535843], [21, 22.008010220898477], [22, 23.010953807792546], [23, 24.009925145660755], [24, 25.007210592929624], [25, 26.00816755741041], [26, 27.01069290800694], [27, 28.00964731726311], [28, 29.0107705804622], [29, 30.013703213548474], [30, 31.011904797469075], [31, 32.009572632209974], [32, 33.008916399543125], [33, 34.010510676477296], [34, 35.00808689755302], [35, 36.007906657624794], [36, 37.007549165170474], [37, 38.005254840338296], [38, 39.006945709941185], [39, 40.008197431431654], [40, 41.00836273434925], [41, 42.010539554697836], [42, 43.01015816302651], [43, 44.00903888303026], [44, 45.00773338830153], [45, 46.00719963912182], [46, 47.00651253663302], [47, 48.0085111086548], [48, 49.006515524035144], [49, 50.00797337627226], [50, 51.00863657954406], [51, 52.008714251999315], [52, 53.008197431431654], [53, 54.00893930295942], [54, 55.0076816066647]]\n"
     ]
    },
    {
     "name": "stderr",
     "output_type": "stream",
     "text": [
      "reconstraining parameters GP_regression.mul\n",
      "reconstraining parameters GP_regression.Gaussian_noise.variance\n"
     ]
    },
    {
     "name": "stdout",
     "output_type": "stream",
     "text": [
      "sampling end!. 2019-04-17 14:51:57.846679 2019-04-17 14:53:37.217394\n"
     ]
    },
    {
     "name": "stderr",
     "output_type": "stream",
     "text": [
      "[I 2019-04-17 14:53:38,232] Finished a trial resulted in value: 0.32867602421331665. Current best value is -0.3678504795545692 with parameters: {'a': 0.628575516140339, 'b': 0.6255697130800353, 'ab': [0.628575516140339, 0.6255697130800353]}.\n"
     ]
    },
    {
     "name": "stdout",
     "output_type": "stream",
     "text": [
      "2019-04-17 13:32:45.535397 2019-04-17 13:32:44.528432 0:00:00.000208\n",
      "2019-04-17 13:32:46.544049 2019-04-17 13:32:45.539577 0:00:00.000255\n",
      "2019-04-17 13:32:47.551702 2019-04-17 13:32:46.548077 0:00:00.000312\n",
      "2019-04-17 13:32:48.562685 2019-04-17 13:32:47.555801 0:00:00.000704\n",
      "2019-04-17 13:32:49.571595 2019-04-17 13:32:48.566388 0:00:00.000390\n",
      "2019-04-17 13:32:50.580238 2019-04-17 13:32:49.575298 0:00:00.000548\n",
      "2019-04-17 13:32:51.586422 2019-04-17 13:32:50.583475 0:00:00.000498\n",
      "2019-04-17 13:32:52.597042 2019-04-17 13:32:51.589940 0:00:00.000566\n",
      "2019-04-17 13:32:53.607390 2019-04-17 13:32:52.601836 0:00:00.000807\n",
      "2019-04-17 13:32:54.618539 2019-04-17 13:32:53.611387 0:00:00.000831\n",
      "2019-04-17 13:34:35.122242 2019-04-17 13:32:54.623813 0:01:39.493723\n",
      "2019-04-17 13:36:06.841772 2019-04-17 13:34:35.127388 0:01:30.710969\n",
      "2019-04-17 13:37:47.978833 2019-04-17 13:36:06.847609 0:01:40.124213\n",
      "2019-04-17 13:39:23.736225 2019-04-17 13:37:47.984325 0:01:34.748855\n",
      "2019-04-17 13:41:02.277467 2019-04-17 13:39:23.741729 0:01:37.531495\n",
      "2019-04-17 13:42:49.027379 2019-04-17 13:41:02.282765 0:01:45.739021\n",
      "2019-04-17 13:44:12.567658 2019-04-17 13:42:49.033075 0:01:22.527134\n",
      "2019-04-17 13:46:00.167530 2019-04-17 13:44:12.574396 0:01:46.589763\n",
      "2019-04-17 13:47:43.244229 2019-04-17 13:46:00.173749 0:01:42.065847\n",
      "2019-04-17 13:49:05.804982 2019-04-17 13:47:43.251344 0:01:21.549298\n",
      "2019-04-17 13:50:43.560259 2019-04-17 13:49:05.811815 0:01:36.744809\n",
      "2019-04-17 13:52:57.285626 2019-04-17 13:50:43.566362 0:02:12.717076\n",
      "2019-04-17 13:54:49.150780 2019-04-17 13:52:57.292908 0:01:50.850699\n",
      "2019-04-17 13:56:08.997671 2019-04-17 13:54:49.157619 0:01:18.836868\n",
      "2019-04-17 13:57:42.967280 2019-04-17 13:56:09.004677 0:01:32.961112\n",
      "2019-04-17 13:59:30.969727 2019-04-17 13:57:42.974637 0:01:46.989912\n",
      "2019-04-17 14:01:20.562652 2019-04-17 13:59:30.976434 0:01:48.579465\n",
      "2019-04-17 14:02:56.020329 2019-04-17 14:01:20.569600 0:01:34.447562\n",
      "2019-04-17 14:04:54.973702 2019-04-17 14:02:56.027981 0:01:57.940376\n",
      "2019-04-17 14:06:25.218921 2019-04-17 14:04:54.981432 0:01:29.230327\n",
      "2019-04-17 14:08:11.042810 2019-04-17 14:06:25.227910 0:01:44.812489\n",
      "2019-04-17 14:10:09.786447 2019-04-17 14:08:11.050107 0:01:57.734465\n",
      "2019-04-17 14:12:03.866770 2019-04-17 14:10:09.794211 0:01:53.069001\n",
      "2019-04-17 14:13:59.547424 2019-04-17 14:12:03.874431 0:01:54.667175\n",
      "2019-04-17 14:15:50.282620 2019-04-17 14:13:59.555178 0:01:49.725659\n",
      "2019-04-17 14:17:29.871802 2019-04-17 14:15:50.288872 0:01:38.578894\n",
      "2019-04-17 14:19:13.298968 2019-04-17 14:17:29.879649 0:01:42.415461\n",
      "2019-04-17 14:21:14.836276 2019-04-17 14:19:13.306950 0:02:00.527413\n",
      "2019-04-17 14:23:16.663054 2019-04-17 14:21:14.845227 0:02:00.811912\n",
      "2019-04-17 14:25:09.866602 2019-04-17 14:23:16.671587 0:01:52.189541\n",
      "2019-04-17 14:26:48.742325 2019-04-17 14:25:09.875328 0:01:37.862614\n",
      "2019-04-17 14:28:37.114982 2019-04-17 14:26:48.750813 0:01:47.357766\n",
      "2019-04-17 14:30:11.752872 2019-04-17 14:28:37.124364 0:01:33.624674\n",
      "2019-04-17 14:32:13.594553 2019-04-17 14:30:11.761072 0:02:00.830388\n",
      "2019-04-17 14:33:54.377060 2019-04-17 14:32:13.603926 0:01:39.770228\n",
      "2019-04-17 14:35:39.721296 2019-04-17 14:33:54.385493 0:01:44.332122\n",
      "2019-04-17 14:37:11.354143 2019-04-17 14:35:39.730414 0:01:30.620202\n",
      "2019-04-17 14:38:50.525980 2019-04-17 14:37:11.364252 0:01:38.155504\n",
      "2019-04-17 14:40:29.144778 2019-04-17 14:38:50.535300 0:01:37.607265\n",
      "2019-04-17 14:42:28.047041 2019-04-17 14:40:29.154021 0:01:57.887339\n",
      "2019-04-17 14:44:33.251192 2019-04-17 14:42:28.056306 0:02:04.190003\n",
      "2019-04-17 14:46:25.694151 2019-04-17 14:44:33.260987 0:01:51.428869\n",
      "2019-04-17 14:48:07.308746 2019-04-17 14:46:25.701556 0:01:40.603492\n",
      "2019-04-17 14:50:02.378871 2019-04-17 14:48:07.318925 0:01:54.054984\n",
      "2019-04-17 14:51:57.836530 2019-04-17 14:50:02.389231 0:01:54.444345\n",
      "2019-04-17 14:53:38.224402 2019-04-17 14:51:57.846648 0:01:39.370715\n",
      "[[0, 1.0], [1, 2.0], [2, 2.9990997961595953], [3, 4.001054552950209], [4, 5.001652033375256], [5, 6.001826298499227], [6, 7.000065722846756], [7, 8.002374984689565], [8, 9.002902759065021], [9, 10.004997923755521], [10, 11.005484870301936], [11, 12.00468623813379], [12, 13.007468505313094], [13, 14.006301426882834], [14, 15.006327317701254], [15, 16.00769753947603], [16, 17.010915967365623], [17, 18.010073519966305], [18, 19.01048777306101], [19, 20.01061025654814], [20, 21.010030700535843], [21, 22.008010220898477], [22, 23.010953807792546], [23, 24.009925145660755], [24, 25.007210592929624], [25, 26.00816755741041], [26, 27.01069290800694], [27, 28.00964731726311], [28, 29.0107705804622], [29, 30.013703213548474], [30, 31.011904797469075], [31, 32.009572632209974], [32, 33.008916399543125], [33, 34.010510676477296], [34, 35.00808689755302], [35, 36.007906657624794], [36, 37.007549165170474], [37, 38.005254840338296], [38, 39.006945709941185], [39, 40.008197431431654], [40, 41.00836273434925], [41, 42.010539554697836], [42, 43.01015816302651], [43, 44.00903888303026], [44, 45.00773338830153], [45, 46.00719963912182], [46, 47.00651253663302], [47, 48.0085111086548], [48, 49.006515524035144], [49, 50.00797337627226], [50, 51.00863657954406], [51, 52.008714251999315], [52, 53.008197431431654], [53, 54.00893930295942], [54, 55.0076816066647], [55, 56.01049175626383]]\n"
     ]
    },
    {
     "name": "stderr",
     "output_type": "stream",
     "text": [
      "reconstraining parameters GP_regression.mul\n",
      "reconstraining parameters GP_regression.Gaussian_noise.variance\n"
     ]
    },
    {
     "name": "stdout",
     "output_type": "stream",
     "text": [
      "sampling end!. 2019-04-17 14:53:38.235203 2019-04-17 14:55:54.164117\n"
     ]
    },
    {
     "name": "stderr",
     "output_type": "stream",
     "text": [
      "[I 2019-04-17 14:55:55,177] Finished a trial resulted in value: 0.11676303036894031. Current best value is -0.3678504795545692 with parameters: {'a': 0.628575516140339, 'b': 0.6255697130800353, 'ab': [0.628575516140339, 0.6255697130800353]}.\n"
     ]
    },
    {
     "name": "stdout",
     "output_type": "stream",
     "text": [
      "2019-04-17 13:32:45.535397 2019-04-17 13:32:44.528432 0:00:00.000208\n",
      "2019-04-17 13:32:46.544049 2019-04-17 13:32:45.539577 0:00:00.000255\n",
      "2019-04-17 13:32:47.551702 2019-04-17 13:32:46.548077 0:00:00.000312\n",
      "2019-04-17 13:32:48.562685 2019-04-17 13:32:47.555801 0:00:00.000704\n",
      "2019-04-17 13:32:49.571595 2019-04-17 13:32:48.566388 0:00:00.000390\n",
      "2019-04-17 13:32:50.580238 2019-04-17 13:32:49.575298 0:00:00.000548\n",
      "2019-04-17 13:32:51.586422 2019-04-17 13:32:50.583475 0:00:00.000498\n",
      "2019-04-17 13:32:52.597042 2019-04-17 13:32:51.589940 0:00:00.000566\n",
      "2019-04-17 13:32:53.607390 2019-04-17 13:32:52.601836 0:00:00.000807\n",
      "2019-04-17 13:32:54.618539 2019-04-17 13:32:53.611387 0:00:00.000831\n",
      "2019-04-17 13:34:35.122242 2019-04-17 13:32:54.623813 0:01:39.493723\n",
      "2019-04-17 13:36:06.841772 2019-04-17 13:34:35.127388 0:01:30.710969\n",
      "2019-04-17 13:37:47.978833 2019-04-17 13:36:06.847609 0:01:40.124213\n",
      "2019-04-17 13:39:23.736225 2019-04-17 13:37:47.984325 0:01:34.748855\n",
      "2019-04-17 13:41:02.277467 2019-04-17 13:39:23.741729 0:01:37.531495\n",
      "2019-04-17 13:42:49.027379 2019-04-17 13:41:02.282765 0:01:45.739021\n",
      "2019-04-17 13:44:12.567658 2019-04-17 13:42:49.033075 0:01:22.527134\n",
      "2019-04-17 13:46:00.167530 2019-04-17 13:44:12.574396 0:01:46.589763\n",
      "2019-04-17 13:47:43.244229 2019-04-17 13:46:00.173749 0:01:42.065847\n",
      "2019-04-17 13:49:05.804982 2019-04-17 13:47:43.251344 0:01:21.549298\n",
      "2019-04-17 13:50:43.560259 2019-04-17 13:49:05.811815 0:01:36.744809\n",
      "2019-04-17 13:52:57.285626 2019-04-17 13:50:43.566362 0:02:12.717076\n",
      "2019-04-17 13:54:49.150780 2019-04-17 13:52:57.292908 0:01:50.850699\n",
      "2019-04-17 13:56:08.997671 2019-04-17 13:54:49.157619 0:01:18.836868\n",
      "2019-04-17 13:57:42.967280 2019-04-17 13:56:09.004677 0:01:32.961112\n",
      "2019-04-17 13:59:30.969727 2019-04-17 13:57:42.974637 0:01:46.989912\n",
      "2019-04-17 14:01:20.562652 2019-04-17 13:59:30.976434 0:01:48.579465\n",
      "2019-04-17 14:02:56.020329 2019-04-17 14:01:20.569600 0:01:34.447562\n",
      "2019-04-17 14:04:54.973702 2019-04-17 14:02:56.027981 0:01:57.940376\n",
      "2019-04-17 14:06:25.218921 2019-04-17 14:04:54.981432 0:01:29.230327\n",
      "2019-04-17 14:08:11.042810 2019-04-17 14:06:25.227910 0:01:44.812489\n",
      "2019-04-17 14:10:09.786447 2019-04-17 14:08:11.050107 0:01:57.734465\n",
      "2019-04-17 14:12:03.866770 2019-04-17 14:10:09.794211 0:01:53.069001\n",
      "2019-04-17 14:13:59.547424 2019-04-17 14:12:03.874431 0:01:54.667175\n",
      "2019-04-17 14:15:50.282620 2019-04-17 14:13:59.555178 0:01:49.725659\n",
      "2019-04-17 14:17:29.871802 2019-04-17 14:15:50.288872 0:01:38.578894\n",
      "2019-04-17 14:19:13.298968 2019-04-17 14:17:29.879649 0:01:42.415461\n",
      "2019-04-17 14:21:14.836276 2019-04-17 14:19:13.306950 0:02:00.527413\n",
      "2019-04-17 14:23:16.663054 2019-04-17 14:21:14.845227 0:02:00.811912\n",
      "2019-04-17 14:25:09.866602 2019-04-17 14:23:16.671587 0:01:52.189541\n",
      "2019-04-17 14:26:48.742325 2019-04-17 14:25:09.875328 0:01:37.862614\n",
      "2019-04-17 14:28:37.114982 2019-04-17 14:26:48.750813 0:01:47.357766\n",
      "2019-04-17 14:30:11.752872 2019-04-17 14:28:37.124364 0:01:33.624674\n",
      "2019-04-17 14:32:13.594553 2019-04-17 14:30:11.761072 0:02:00.830388\n",
      "2019-04-17 14:33:54.377060 2019-04-17 14:32:13.603926 0:01:39.770228\n",
      "2019-04-17 14:35:39.721296 2019-04-17 14:33:54.385493 0:01:44.332122\n",
      "2019-04-17 14:37:11.354143 2019-04-17 14:35:39.730414 0:01:30.620202\n",
      "2019-04-17 14:38:50.525980 2019-04-17 14:37:11.364252 0:01:38.155504\n",
      "2019-04-17 14:40:29.144778 2019-04-17 14:38:50.535300 0:01:37.607265\n",
      "2019-04-17 14:42:28.047041 2019-04-17 14:40:29.154021 0:01:57.887339\n",
      "2019-04-17 14:44:33.251192 2019-04-17 14:42:28.056306 0:02:04.190003\n",
      "2019-04-17 14:46:25.694151 2019-04-17 14:44:33.260987 0:01:51.428869\n",
      "2019-04-17 14:48:07.308746 2019-04-17 14:46:25.701556 0:01:40.603492\n",
      "2019-04-17 14:50:02.378871 2019-04-17 14:48:07.318925 0:01:54.054984\n",
      "2019-04-17 14:51:57.836530 2019-04-17 14:50:02.389231 0:01:54.444345\n",
      "2019-04-17 14:53:38.224402 2019-04-17 14:51:57.846648 0:01:39.370715\n",
      "2019-04-17 14:55:55.169377 2019-04-17 14:53:38.235174 0:02:15.928914\n",
      "[[0, 1.0], [1, 2.0], [2, 2.9990997961595953], [3, 4.001054552950209], [4, 5.001652033375256], [5, 6.001826298499227], [6, 7.000065722846756], [7, 8.002374984689565], [8, 9.002902759065021], [9, 10.004997923755521], [10, 11.005484870301936], [11, 12.00468623813379], [12, 13.007468505313094], [13, 14.006301426882834], [14, 15.006327317701254], [15, 16.00769753947603], [16, 17.010915967365623], [17, 18.010073519966305], [18, 19.01048777306101], [19, 20.01061025654814], [20, 21.010030700535843], [21, 22.008010220898477], [22, 23.010953807792546], [23, 24.009925145660755], [24, 25.007210592929624], [25, 26.00816755741041], [26, 27.01069290800694], [27, 28.00964731726311], [28, 29.0107705804622], [29, 30.013703213548474], [30, 31.011904797469075], [31, 32.009572632209974], [32, 33.008916399543125], [33, 34.010510676477296], [34, 35.00808689755302], [35, 36.007906657624794], [36, 37.007549165170474], [37, 38.005254840338296], [38, 39.006945709941185], [39, 40.008197431431654], [40, 41.00836273434925], [41, 42.010539554697836], [42, 43.01015816302651], [43, 44.00903888303026], [44, 45.00773338830153], [45, 46.00719963912182], [46, 47.00651253663302], [47, 48.0085111086548], [48, 49.006515524035144], [49, 50.00797337627226], [50, 51.00863657954406], [51, 52.008714251999315], [52, 53.008197431431654], [53, 54.00893930295942], [54, 55.0076816066647], [55, 56.01049175626383], [56, 57.01155925462325]]\n"
     ]
    },
    {
     "name": "stderr",
     "output_type": "stream",
     "text": [
      "reconstraining parameters GP_regression.mul\n",
      "reconstraining parameters GP_regression.Gaussian_noise.variance\n"
     ]
    },
    {
     "name": "stdout",
     "output_type": "stream",
     "text": [
      "sampling end!. 2019-04-17 14:55:55.179725 2019-04-17 14:58:15.660777\n"
     ]
    },
    {
     "name": "stderr",
     "output_type": "stream",
     "text": [
      "[I 2019-04-17 14:58:16,675] Finished a trial resulted in value: 0.20245635423562808. Current best value is -0.3678504795545692 with parameters: {'a': 0.628575516140339, 'b': 0.6255697130800353, 'ab': [0.628575516140339, 0.6255697130800353]}.\n"
     ]
    },
    {
     "name": "stdout",
     "output_type": "stream",
     "text": [
      "2019-04-17 13:32:45.535397 2019-04-17 13:32:44.528432 0:00:00.000208\n",
      "2019-04-17 13:32:46.544049 2019-04-17 13:32:45.539577 0:00:00.000255\n",
      "2019-04-17 13:32:47.551702 2019-04-17 13:32:46.548077 0:00:00.000312\n",
      "2019-04-17 13:32:48.562685 2019-04-17 13:32:47.555801 0:00:00.000704\n",
      "2019-04-17 13:32:49.571595 2019-04-17 13:32:48.566388 0:00:00.000390\n",
      "2019-04-17 13:32:50.580238 2019-04-17 13:32:49.575298 0:00:00.000548\n",
      "2019-04-17 13:32:51.586422 2019-04-17 13:32:50.583475 0:00:00.000498\n",
      "2019-04-17 13:32:52.597042 2019-04-17 13:32:51.589940 0:00:00.000566\n",
      "2019-04-17 13:32:53.607390 2019-04-17 13:32:52.601836 0:00:00.000807\n",
      "2019-04-17 13:32:54.618539 2019-04-17 13:32:53.611387 0:00:00.000831\n",
      "2019-04-17 13:34:35.122242 2019-04-17 13:32:54.623813 0:01:39.493723\n",
      "2019-04-17 13:36:06.841772 2019-04-17 13:34:35.127388 0:01:30.710969\n",
      "2019-04-17 13:37:47.978833 2019-04-17 13:36:06.847609 0:01:40.124213\n",
      "2019-04-17 13:39:23.736225 2019-04-17 13:37:47.984325 0:01:34.748855\n",
      "2019-04-17 13:41:02.277467 2019-04-17 13:39:23.741729 0:01:37.531495\n",
      "2019-04-17 13:42:49.027379 2019-04-17 13:41:02.282765 0:01:45.739021\n",
      "2019-04-17 13:44:12.567658 2019-04-17 13:42:49.033075 0:01:22.527134\n",
      "2019-04-17 13:46:00.167530 2019-04-17 13:44:12.574396 0:01:46.589763\n",
      "2019-04-17 13:47:43.244229 2019-04-17 13:46:00.173749 0:01:42.065847\n",
      "2019-04-17 13:49:05.804982 2019-04-17 13:47:43.251344 0:01:21.549298\n",
      "2019-04-17 13:50:43.560259 2019-04-17 13:49:05.811815 0:01:36.744809\n",
      "2019-04-17 13:52:57.285626 2019-04-17 13:50:43.566362 0:02:12.717076\n",
      "2019-04-17 13:54:49.150780 2019-04-17 13:52:57.292908 0:01:50.850699\n",
      "2019-04-17 13:56:08.997671 2019-04-17 13:54:49.157619 0:01:18.836868\n",
      "2019-04-17 13:57:42.967280 2019-04-17 13:56:09.004677 0:01:32.961112\n",
      "2019-04-17 13:59:30.969727 2019-04-17 13:57:42.974637 0:01:46.989912\n",
      "2019-04-17 14:01:20.562652 2019-04-17 13:59:30.976434 0:01:48.579465\n",
      "2019-04-17 14:02:56.020329 2019-04-17 14:01:20.569600 0:01:34.447562\n",
      "2019-04-17 14:04:54.973702 2019-04-17 14:02:56.027981 0:01:57.940376\n",
      "2019-04-17 14:06:25.218921 2019-04-17 14:04:54.981432 0:01:29.230327\n",
      "2019-04-17 14:08:11.042810 2019-04-17 14:06:25.227910 0:01:44.812489\n",
      "2019-04-17 14:10:09.786447 2019-04-17 14:08:11.050107 0:01:57.734465\n",
      "2019-04-17 14:12:03.866770 2019-04-17 14:10:09.794211 0:01:53.069001\n",
      "2019-04-17 14:13:59.547424 2019-04-17 14:12:03.874431 0:01:54.667175\n",
      "2019-04-17 14:15:50.282620 2019-04-17 14:13:59.555178 0:01:49.725659\n",
      "2019-04-17 14:17:29.871802 2019-04-17 14:15:50.288872 0:01:38.578894\n",
      "2019-04-17 14:19:13.298968 2019-04-17 14:17:29.879649 0:01:42.415461\n",
      "2019-04-17 14:21:14.836276 2019-04-17 14:19:13.306950 0:02:00.527413\n",
      "2019-04-17 14:23:16.663054 2019-04-17 14:21:14.845227 0:02:00.811912\n",
      "2019-04-17 14:25:09.866602 2019-04-17 14:23:16.671587 0:01:52.189541\n",
      "2019-04-17 14:26:48.742325 2019-04-17 14:25:09.875328 0:01:37.862614\n",
      "2019-04-17 14:28:37.114982 2019-04-17 14:26:48.750813 0:01:47.357766\n",
      "2019-04-17 14:30:11.752872 2019-04-17 14:28:37.124364 0:01:33.624674\n",
      "2019-04-17 14:32:13.594553 2019-04-17 14:30:11.761072 0:02:00.830388\n",
      "2019-04-17 14:33:54.377060 2019-04-17 14:32:13.603926 0:01:39.770228\n",
      "2019-04-17 14:35:39.721296 2019-04-17 14:33:54.385493 0:01:44.332122\n",
      "2019-04-17 14:37:11.354143 2019-04-17 14:35:39.730414 0:01:30.620202\n",
      "2019-04-17 14:38:50.525980 2019-04-17 14:37:11.364252 0:01:38.155504\n",
      "2019-04-17 14:40:29.144778 2019-04-17 14:38:50.535300 0:01:37.607265\n",
      "2019-04-17 14:42:28.047041 2019-04-17 14:40:29.154021 0:01:57.887339\n",
      "2019-04-17 14:44:33.251192 2019-04-17 14:42:28.056306 0:02:04.190003\n",
      "2019-04-17 14:46:25.694151 2019-04-17 14:44:33.260987 0:01:51.428869\n",
      "2019-04-17 14:48:07.308746 2019-04-17 14:46:25.701556 0:01:40.603492\n",
      "2019-04-17 14:50:02.378871 2019-04-17 14:48:07.318925 0:01:54.054984\n",
      "2019-04-17 14:51:57.836530 2019-04-17 14:50:02.389231 0:01:54.444345\n",
      "2019-04-17 14:53:38.224402 2019-04-17 14:51:57.846648 0:01:39.370715\n",
      "2019-04-17 14:55:55.169377 2019-04-17 14:53:38.235174 0:02:15.928914\n",
      "2019-04-17 14:58:16.667379 2019-04-17 14:55:55.179693 0:02:20.481052\n",
      "[[0, 1.0], [1, 2.0], [2, 2.9990997961595953], [3, 4.001054552950209], [4, 5.001652033375256], [5, 6.001826298499227], [6, 7.000065722846756], [7, 8.002374984689565], [8, 9.002902759065021], [9, 10.004997923755521], [10, 11.005484870301936], [11, 12.00468623813379], [12, 13.007468505313094], [13, 14.006301426882834], [14, 15.006327317701254], [15, 16.00769753947603], [16, 17.010915967365623], [17, 18.010073519966305], [18, 19.01048777306101], [19, 20.01061025654814], [20, 21.010030700535843], [21, 22.008010220898477], [22, 23.010953807792546], [23, 24.009925145660755], [24, 25.007210592929624], [25, 26.00816755741041], [26, 27.01069290800694], [27, 28.00964731726311], [28, 29.0107705804622], [29, 30.013703213548474], [30, 31.011904797469075], [31, 32.009572632209974], [32, 33.008916399543125], [33, 34.010510676477296], [34, 35.00808689755302], [35, 36.007906657624794], [36, 37.007549165170474], [37, 38.005254840338296], [38, 39.006945709941185], [39, 40.008197431431654], [40, 41.00836273434925], [41, 42.010539554697836], [42, 43.01015816302651], [43, 44.00903888303026], [44, 45.00773338830153], [45, 46.00719963912182], [46, 47.00651253663302], [47, 48.0085111086548], [48, 49.006515524035144], [49, 50.00797337627226], [50, 51.00863657954406], [51, 52.008714251999315], [52, 53.008197431431654], [53, 54.00893930295942], [54, 55.0076816066647], [55, 56.01049175626383], [56, 57.01155925462325], [57, 58.013966104935484]]\n"
     ]
    },
    {
     "name": "stderr",
     "output_type": "stream",
     "text": [
      "reconstraining parameters GP_regression.mul\n",
      "reconstraining parameters GP_regression.Gaussian_noise.variance\n"
     ]
    },
    {
     "name": "stdout",
     "output_type": "stream",
     "text": [
      "sampling end!. 2019-04-17 14:58:16.678382 2019-04-17 15:00:03.729084\n"
     ]
    },
    {
     "name": "stderr",
     "output_type": "stream",
     "text": [
      "[I 2019-04-17 15:00:04,743] Finished a trial resulted in value: 0.10390025759912222. Current best value is -0.3678504795545692 with parameters: {'a': 0.628575516140339, 'b': 0.6255697130800353, 'ab': [0.628575516140339, 0.6255697130800353]}.\n"
     ]
    },
    {
     "name": "stdout",
     "output_type": "stream",
     "text": [
      "2019-04-17 13:32:45.535397 2019-04-17 13:32:44.528432 0:00:00.000208\n",
      "2019-04-17 13:32:46.544049 2019-04-17 13:32:45.539577 0:00:00.000255\n",
      "2019-04-17 13:32:47.551702 2019-04-17 13:32:46.548077 0:00:00.000312\n",
      "2019-04-17 13:32:48.562685 2019-04-17 13:32:47.555801 0:00:00.000704\n",
      "2019-04-17 13:32:49.571595 2019-04-17 13:32:48.566388 0:00:00.000390\n",
      "2019-04-17 13:32:50.580238 2019-04-17 13:32:49.575298 0:00:00.000548\n",
      "2019-04-17 13:32:51.586422 2019-04-17 13:32:50.583475 0:00:00.000498\n",
      "2019-04-17 13:32:52.597042 2019-04-17 13:32:51.589940 0:00:00.000566\n",
      "2019-04-17 13:32:53.607390 2019-04-17 13:32:52.601836 0:00:00.000807\n",
      "2019-04-17 13:32:54.618539 2019-04-17 13:32:53.611387 0:00:00.000831\n",
      "2019-04-17 13:34:35.122242 2019-04-17 13:32:54.623813 0:01:39.493723\n",
      "2019-04-17 13:36:06.841772 2019-04-17 13:34:35.127388 0:01:30.710969\n",
      "2019-04-17 13:37:47.978833 2019-04-17 13:36:06.847609 0:01:40.124213\n",
      "2019-04-17 13:39:23.736225 2019-04-17 13:37:47.984325 0:01:34.748855\n",
      "2019-04-17 13:41:02.277467 2019-04-17 13:39:23.741729 0:01:37.531495\n",
      "2019-04-17 13:42:49.027379 2019-04-17 13:41:02.282765 0:01:45.739021\n",
      "2019-04-17 13:44:12.567658 2019-04-17 13:42:49.033075 0:01:22.527134\n",
      "2019-04-17 13:46:00.167530 2019-04-17 13:44:12.574396 0:01:46.589763\n",
      "2019-04-17 13:47:43.244229 2019-04-17 13:46:00.173749 0:01:42.065847\n",
      "2019-04-17 13:49:05.804982 2019-04-17 13:47:43.251344 0:01:21.549298\n",
      "2019-04-17 13:50:43.560259 2019-04-17 13:49:05.811815 0:01:36.744809\n",
      "2019-04-17 13:52:57.285626 2019-04-17 13:50:43.566362 0:02:12.717076\n",
      "2019-04-17 13:54:49.150780 2019-04-17 13:52:57.292908 0:01:50.850699\n",
      "2019-04-17 13:56:08.997671 2019-04-17 13:54:49.157619 0:01:18.836868\n",
      "2019-04-17 13:57:42.967280 2019-04-17 13:56:09.004677 0:01:32.961112\n",
      "2019-04-17 13:59:30.969727 2019-04-17 13:57:42.974637 0:01:46.989912\n",
      "2019-04-17 14:01:20.562652 2019-04-17 13:59:30.976434 0:01:48.579465\n",
      "2019-04-17 14:02:56.020329 2019-04-17 14:01:20.569600 0:01:34.447562\n",
      "2019-04-17 14:04:54.973702 2019-04-17 14:02:56.027981 0:01:57.940376\n",
      "2019-04-17 14:06:25.218921 2019-04-17 14:04:54.981432 0:01:29.230327\n",
      "2019-04-17 14:08:11.042810 2019-04-17 14:06:25.227910 0:01:44.812489\n",
      "2019-04-17 14:10:09.786447 2019-04-17 14:08:11.050107 0:01:57.734465\n",
      "2019-04-17 14:12:03.866770 2019-04-17 14:10:09.794211 0:01:53.069001\n",
      "2019-04-17 14:13:59.547424 2019-04-17 14:12:03.874431 0:01:54.667175\n",
      "2019-04-17 14:15:50.282620 2019-04-17 14:13:59.555178 0:01:49.725659\n",
      "2019-04-17 14:17:29.871802 2019-04-17 14:15:50.288872 0:01:38.578894\n",
      "2019-04-17 14:19:13.298968 2019-04-17 14:17:29.879649 0:01:42.415461\n",
      "2019-04-17 14:21:14.836276 2019-04-17 14:19:13.306950 0:02:00.527413\n",
      "2019-04-17 14:23:16.663054 2019-04-17 14:21:14.845227 0:02:00.811912\n",
      "2019-04-17 14:25:09.866602 2019-04-17 14:23:16.671587 0:01:52.189541\n",
      "2019-04-17 14:26:48.742325 2019-04-17 14:25:09.875328 0:01:37.862614\n",
      "2019-04-17 14:28:37.114982 2019-04-17 14:26:48.750813 0:01:47.357766\n",
      "2019-04-17 14:30:11.752872 2019-04-17 14:28:37.124364 0:01:33.624674\n",
      "2019-04-17 14:32:13.594553 2019-04-17 14:30:11.761072 0:02:00.830388\n",
      "2019-04-17 14:33:54.377060 2019-04-17 14:32:13.603926 0:01:39.770228\n",
      "2019-04-17 14:35:39.721296 2019-04-17 14:33:54.385493 0:01:44.332122\n",
      "2019-04-17 14:37:11.354143 2019-04-17 14:35:39.730414 0:01:30.620202\n",
      "2019-04-17 14:38:50.525980 2019-04-17 14:37:11.364252 0:01:38.155504\n",
      "2019-04-17 14:40:29.144778 2019-04-17 14:38:50.535300 0:01:37.607265\n",
      "2019-04-17 14:42:28.047041 2019-04-17 14:40:29.154021 0:01:57.887339\n",
      "2019-04-17 14:44:33.251192 2019-04-17 14:42:28.056306 0:02:04.190003\n",
      "2019-04-17 14:46:25.694151 2019-04-17 14:44:33.260987 0:01:51.428869\n",
      "2019-04-17 14:48:07.308746 2019-04-17 14:46:25.701556 0:01:40.603492\n",
      "2019-04-17 14:50:02.378871 2019-04-17 14:48:07.318925 0:01:54.054984\n",
      "2019-04-17 14:51:57.836530 2019-04-17 14:50:02.389231 0:01:54.444345\n",
      "2019-04-17 14:53:38.224402 2019-04-17 14:51:57.846648 0:01:39.370715\n",
      "2019-04-17 14:55:55.169377 2019-04-17 14:53:38.235174 0:02:15.928914\n",
      "2019-04-17 14:58:16.667379 2019-04-17 14:55:55.179693 0:02:20.481052\n",
      "2019-04-17 15:00:04.735039 2019-04-17 14:58:16.678351 0:01:47.050702\n",
      "[[0, 1.0], [1, 2.0], [2, 2.9990997961595953], [3, 4.001054552950209], [4, 5.001652033375256], [5, 6.001826298499227], [6, 7.000065722846756], [7, 8.002374984689565], [8, 9.002902759065021], [9, 10.004997923755521], [10, 11.005484870301936], [11, 12.00468623813379], [12, 13.007468505313094], [13, 14.006301426882834], [14, 15.006327317701254], [15, 16.00769753947603], [16, 17.010915967365623], [17, 18.010073519966305], [18, 19.01048777306101], [19, 20.01061025654814], [20, 21.010030700535843], [21, 22.008010220898477], [22, 23.010953807792546], [23, 24.009925145660755], [24, 25.007210592929624], [25, 26.00816755741041], [26, 27.01069290800694], [27, 28.00964731726311], [28, 29.0107705804622], [29, 30.013703213548474], [30, 31.011904797469075], [31, 32.009572632209974], [32, 33.008916399543125], [33, 34.010510676477296], [34, 35.00808689755302], [35, 36.007906657624794], [36, 37.007549165170474], [37, 38.005254840338296], [38, 39.006945709941185], [39, 40.008197431431654], [40, 41.00836273434925], [41, 42.010539554697836], [42, 43.01015816302651], [43, 44.00903888303026], [44, 45.00773338830153], [45, 46.00719963912182], [46, 47.00651253663302], [47, 48.0085111086548], [48, 49.006515524035144], [49, 50.00797337627226], [50, 51.00863657954406], [51, 52.008714251999315], [52, 53.008197431431654], [53, 54.00893930295942], [54, 55.0076816066647], [55, 56.01049175626383], [56, 57.01155925462325], [57, 58.013966104935484], [58, 59.015727676388664]]\n"
     ]
    },
    {
     "name": "stderr",
     "output_type": "stream",
     "text": [
      "reconstraining parameters GP_regression.mul\n",
      "reconstraining parameters GP_regression.Gaussian_noise.variance\n"
     ]
    },
    {
     "name": "stdout",
     "output_type": "stream",
     "text": [
      "sampling end!. 2019-04-17 15:00:04.746156 2019-04-17 15:01:46.742544\n"
     ]
    },
    {
     "name": "stderr",
     "output_type": "stream",
     "text": [
      "[I 2019-04-17 15:01:47,755] Finished a trial resulted in value: 0.03873698634572449. Current best value is -0.3678504795545692 with parameters: {'a': 0.628575516140339, 'b': 0.6255697130800353, 'ab': [0.628575516140339, 0.6255697130800353]}.\n"
     ]
    },
    {
     "name": "stdout",
     "output_type": "stream",
     "text": [
      "2019-04-17 13:32:45.535397 2019-04-17 13:32:44.528432 0:00:00.000208\n",
      "2019-04-17 13:32:46.544049 2019-04-17 13:32:45.539577 0:00:00.000255\n",
      "2019-04-17 13:32:47.551702 2019-04-17 13:32:46.548077 0:00:00.000312\n",
      "2019-04-17 13:32:48.562685 2019-04-17 13:32:47.555801 0:00:00.000704\n",
      "2019-04-17 13:32:49.571595 2019-04-17 13:32:48.566388 0:00:00.000390\n",
      "2019-04-17 13:32:50.580238 2019-04-17 13:32:49.575298 0:00:00.000548\n",
      "2019-04-17 13:32:51.586422 2019-04-17 13:32:50.583475 0:00:00.000498\n",
      "2019-04-17 13:32:52.597042 2019-04-17 13:32:51.589940 0:00:00.000566\n",
      "2019-04-17 13:32:53.607390 2019-04-17 13:32:52.601836 0:00:00.000807\n",
      "2019-04-17 13:32:54.618539 2019-04-17 13:32:53.611387 0:00:00.000831\n",
      "2019-04-17 13:34:35.122242 2019-04-17 13:32:54.623813 0:01:39.493723\n",
      "2019-04-17 13:36:06.841772 2019-04-17 13:34:35.127388 0:01:30.710969\n",
      "2019-04-17 13:37:47.978833 2019-04-17 13:36:06.847609 0:01:40.124213\n",
      "2019-04-17 13:39:23.736225 2019-04-17 13:37:47.984325 0:01:34.748855\n",
      "2019-04-17 13:41:02.277467 2019-04-17 13:39:23.741729 0:01:37.531495\n",
      "2019-04-17 13:42:49.027379 2019-04-17 13:41:02.282765 0:01:45.739021\n",
      "2019-04-17 13:44:12.567658 2019-04-17 13:42:49.033075 0:01:22.527134\n",
      "2019-04-17 13:46:00.167530 2019-04-17 13:44:12.574396 0:01:46.589763\n",
      "2019-04-17 13:47:43.244229 2019-04-17 13:46:00.173749 0:01:42.065847\n",
      "2019-04-17 13:49:05.804982 2019-04-17 13:47:43.251344 0:01:21.549298\n",
      "2019-04-17 13:50:43.560259 2019-04-17 13:49:05.811815 0:01:36.744809\n",
      "2019-04-17 13:52:57.285626 2019-04-17 13:50:43.566362 0:02:12.717076\n",
      "2019-04-17 13:54:49.150780 2019-04-17 13:52:57.292908 0:01:50.850699\n",
      "2019-04-17 13:56:08.997671 2019-04-17 13:54:49.157619 0:01:18.836868\n",
      "2019-04-17 13:57:42.967280 2019-04-17 13:56:09.004677 0:01:32.961112\n",
      "2019-04-17 13:59:30.969727 2019-04-17 13:57:42.974637 0:01:46.989912\n",
      "2019-04-17 14:01:20.562652 2019-04-17 13:59:30.976434 0:01:48.579465\n",
      "2019-04-17 14:02:56.020329 2019-04-17 14:01:20.569600 0:01:34.447562\n",
      "2019-04-17 14:04:54.973702 2019-04-17 14:02:56.027981 0:01:57.940376\n",
      "2019-04-17 14:06:25.218921 2019-04-17 14:04:54.981432 0:01:29.230327\n",
      "2019-04-17 14:08:11.042810 2019-04-17 14:06:25.227910 0:01:44.812489\n",
      "2019-04-17 14:10:09.786447 2019-04-17 14:08:11.050107 0:01:57.734465\n",
      "2019-04-17 14:12:03.866770 2019-04-17 14:10:09.794211 0:01:53.069001\n",
      "2019-04-17 14:13:59.547424 2019-04-17 14:12:03.874431 0:01:54.667175\n",
      "2019-04-17 14:15:50.282620 2019-04-17 14:13:59.555178 0:01:49.725659\n",
      "2019-04-17 14:17:29.871802 2019-04-17 14:15:50.288872 0:01:38.578894\n",
      "2019-04-17 14:19:13.298968 2019-04-17 14:17:29.879649 0:01:42.415461\n",
      "2019-04-17 14:21:14.836276 2019-04-17 14:19:13.306950 0:02:00.527413\n",
      "2019-04-17 14:23:16.663054 2019-04-17 14:21:14.845227 0:02:00.811912\n",
      "2019-04-17 14:25:09.866602 2019-04-17 14:23:16.671587 0:01:52.189541\n",
      "2019-04-17 14:26:48.742325 2019-04-17 14:25:09.875328 0:01:37.862614\n",
      "2019-04-17 14:28:37.114982 2019-04-17 14:26:48.750813 0:01:47.357766\n",
      "2019-04-17 14:30:11.752872 2019-04-17 14:28:37.124364 0:01:33.624674\n",
      "2019-04-17 14:32:13.594553 2019-04-17 14:30:11.761072 0:02:00.830388\n",
      "2019-04-17 14:33:54.377060 2019-04-17 14:32:13.603926 0:01:39.770228\n",
      "2019-04-17 14:35:39.721296 2019-04-17 14:33:54.385493 0:01:44.332122\n",
      "2019-04-17 14:37:11.354143 2019-04-17 14:35:39.730414 0:01:30.620202\n",
      "2019-04-17 14:38:50.525980 2019-04-17 14:37:11.364252 0:01:38.155504\n",
      "2019-04-17 14:40:29.144778 2019-04-17 14:38:50.535300 0:01:37.607265\n",
      "2019-04-17 14:42:28.047041 2019-04-17 14:40:29.154021 0:01:57.887339\n",
      "2019-04-17 14:44:33.251192 2019-04-17 14:42:28.056306 0:02:04.190003\n",
      "2019-04-17 14:46:25.694151 2019-04-17 14:44:33.260987 0:01:51.428869\n",
      "2019-04-17 14:48:07.308746 2019-04-17 14:46:25.701556 0:01:40.603492\n",
      "2019-04-17 14:50:02.378871 2019-04-17 14:48:07.318925 0:01:54.054984\n",
      "2019-04-17 14:51:57.836530 2019-04-17 14:50:02.389231 0:01:54.444345\n",
      "2019-04-17 14:53:38.224402 2019-04-17 14:51:57.846648 0:01:39.370715\n",
      "2019-04-17 14:55:55.169377 2019-04-17 14:53:38.235174 0:02:15.928914\n",
      "2019-04-17 14:58:16.667379 2019-04-17 14:55:55.179693 0:02:20.481052\n",
      "2019-04-17 15:00:04.735039 2019-04-17 14:58:16.678351 0:01:47.050702\n",
      "2019-04-17 15:01:47.747135 2019-04-17 15:00:04.746126 0:01:41.996388\n",
      "[[0, 1.0], [1, 2.0], [2, 2.9990997961595953], [3, 4.001054552950209], [4, 5.001652033375256], [5, 6.001826298499227], [6, 7.000065722846756], [7, 8.002374984689565], [8, 9.002902759065021], [9, 10.004997923755521], [10, 11.005484870301936], [11, 12.00468623813379], [12, 13.007468505313094], [13, 14.006301426882834], [14, 15.006327317701254], [15, 16.00769753947603], [16, 17.010915967365623], [17, 18.010073519966305], [18, 19.01048777306101], [19, 20.01061025654814], [20, 21.010030700535843], [21, 22.008010220898477], [22, 23.010953807792546], [23, 24.009925145660755], [24, 25.007210592929624], [25, 26.00816755741041], [26, 27.01069290800694], [27, 28.00964731726311], [28, 29.0107705804622], [29, 30.013703213548474], [30, 31.011904797469075], [31, 32.009572632209974], [32, 33.008916399543125], [33, 34.010510676477296], [34, 35.00808689755302], [35, 36.007906657624794], [36, 37.007549165170474], [37, 38.005254840338296], [38, 39.006945709941185], [39, 40.008197431431654], [40, 41.00836273434925], [41, 42.010539554697836], [42, 43.01015816302651], [43, 44.00903888303026], [44, 45.00773338830153], [45, 46.00719963912182], [46, 47.00651253663302], [47, 48.0085111086548], [48, 49.006515524035144], [49, 50.00797337627226], [50, 51.00863657954406], [51, 52.008714251999315], [52, 53.008197431431654], [53, 54.00893930295942], [54, 55.0076816066647], [55, 56.01049175626383], [56, 57.01155925462325], [57, 58.013966104935484], [58, 59.015727676388664], [59, 60.01612997987486]]\n"
     ]
    },
    {
     "name": "stderr",
     "output_type": "stream",
     "text": [
      "reconstraining parameters GP_regression.mul\n",
      "reconstraining parameters GP_regression.Gaussian_noise.variance\n"
     ]
    },
    {
     "name": "stdout",
     "output_type": "stream",
     "text": [
      "sampling end!. 2019-04-17 15:01:47.757823 2019-04-17 15:03:51.003885\n"
     ]
    },
    {
     "name": "stderr",
     "output_type": "stream",
     "text": [
      "[I 2019-04-17 15:03:52,019] Finished a trial resulted in value: -0.06253993817285607. Current best value is -0.3678504795545692 with parameters: {'a': 0.628575516140339, 'b': 0.6255697130800353, 'ab': [0.628575516140339, 0.6255697130800353]}.\n"
     ]
    },
    {
     "name": "stdout",
     "output_type": "stream",
     "text": [
      "2019-04-17 13:32:45.535397 2019-04-17 13:32:44.528432 0:00:00.000208\n",
      "2019-04-17 13:32:46.544049 2019-04-17 13:32:45.539577 0:00:00.000255\n",
      "2019-04-17 13:32:47.551702 2019-04-17 13:32:46.548077 0:00:00.000312\n",
      "2019-04-17 13:32:48.562685 2019-04-17 13:32:47.555801 0:00:00.000704\n",
      "2019-04-17 13:32:49.571595 2019-04-17 13:32:48.566388 0:00:00.000390\n",
      "2019-04-17 13:32:50.580238 2019-04-17 13:32:49.575298 0:00:00.000548\n",
      "2019-04-17 13:32:51.586422 2019-04-17 13:32:50.583475 0:00:00.000498\n",
      "2019-04-17 13:32:52.597042 2019-04-17 13:32:51.589940 0:00:00.000566\n",
      "2019-04-17 13:32:53.607390 2019-04-17 13:32:52.601836 0:00:00.000807\n",
      "2019-04-17 13:32:54.618539 2019-04-17 13:32:53.611387 0:00:00.000831\n",
      "2019-04-17 13:34:35.122242 2019-04-17 13:32:54.623813 0:01:39.493723\n",
      "2019-04-17 13:36:06.841772 2019-04-17 13:34:35.127388 0:01:30.710969\n",
      "2019-04-17 13:37:47.978833 2019-04-17 13:36:06.847609 0:01:40.124213\n",
      "2019-04-17 13:39:23.736225 2019-04-17 13:37:47.984325 0:01:34.748855\n",
      "2019-04-17 13:41:02.277467 2019-04-17 13:39:23.741729 0:01:37.531495\n",
      "2019-04-17 13:42:49.027379 2019-04-17 13:41:02.282765 0:01:45.739021\n",
      "2019-04-17 13:44:12.567658 2019-04-17 13:42:49.033075 0:01:22.527134\n",
      "2019-04-17 13:46:00.167530 2019-04-17 13:44:12.574396 0:01:46.589763\n",
      "2019-04-17 13:47:43.244229 2019-04-17 13:46:00.173749 0:01:42.065847\n",
      "2019-04-17 13:49:05.804982 2019-04-17 13:47:43.251344 0:01:21.549298\n",
      "2019-04-17 13:50:43.560259 2019-04-17 13:49:05.811815 0:01:36.744809\n",
      "2019-04-17 13:52:57.285626 2019-04-17 13:50:43.566362 0:02:12.717076\n",
      "2019-04-17 13:54:49.150780 2019-04-17 13:52:57.292908 0:01:50.850699\n",
      "2019-04-17 13:56:08.997671 2019-04-17 13:54:49.157619 0:01:18.836868\n",
      "2019-04-17 13:57:42.967280 2019-04-17 13:56:09.004677 0:01:32.961112\n",
      "2019-04-17 13:59:30.969727 2019-04-17 13:57:42.974637 0:01:46.989912\n",
      "2019-04-17 14:01:20.562652 2019-04-17 13:59:30.976434 0:01:48.579465\n",
      "2019-04-17 14:02:56.020329 2019-04-17 14:01:20.569600 0:01:34.447562\n",
      "2019-04-17 14:04:54.973702 2019-04-17 14:02:56.027981 0:01:57.940376\n",
      "2019-04-17 14:06:25.218921 2019-04-17 14:04:54.981432 0:01:29.230327\n",
      "2019-04-17 14:08:11.042810 2019-04-17 14:06:25.227910 0:01:44.812489\n",
      "2019-04-17 14:10:09.786447 2019-04-17 14:08:11.050107 0:01:57.734465\n",
      "2019-04-17 14:12:03.866770 2019-04-17 14:10:09.794211 0:01:53.069001\n",
      "2019-04-17 14:13:59.547424 2019-04-17 14:12:03.874431 0:01:54.667175\n",
      "2019-04-17 14:15:50.282620 2019-04-17 14:13:59.555178 0:01:49.725659\n",
      "2019-04-17 14:17:29.871802 2019-04-17 14:15:50.288872 0:01:38.578894\n",
      "2019-04-17 14:19:13.298968 2019-04-17 14:17:29.879649 0:01:42.415461\n",
      "2019-04-17 14:21:14.836276 2019-04-17 14:19:13.306950 0:02:00.527413\n",
      "2019-04-17 14:23:16.663054 2019-04-17 14:21:14.845227 0:02:00.811912\n",
      "2019-04-17 14:25:09.866602 2019-04-17 14:23:16.671587 0:01:52.189541\n",
      "2019-04-17 14:26:48.742325 2019-04-17 14:25:09.875328 0:01:37.862614\n",
      "2019-04-17 14:28:37.114982 2019-04-17 14:26:48.750813 0:01:47.357766\n",
      "2019-04-17 14:30:11.752872 2019-04-17 14:28:37.124364 0:01:33.624674\n",
      "2019-04-17 14:32:13.594553 2019-04-17 14:30:11.761072 0:02:00.830388\n",
      "2019-04-17 14:33:54.377060 2019-04-17 14:32:13.603926 0:01:39.770228\n",
      "2019-04-17 14:35:39.721296 2019-04-17 14:33:54.385493 0:01:44.332122\n",
      "2019-04-17 14:37:11.354143 2019-04-17 14:35:39.730414 0:01:30.620202\n",
      "2019-04-17 14:38:50.525980 2019-04-17 14:37:11.364252 0:01:38.155504\n",
      "2019-04-17 14:40:29.144778 2019-04-17 14:38:50.535300 0:01:37.607265\n",
      "2019-04-17 14:42:28.047041 2019-04-17 14:40:29.154021 0:01:57.887339\n",
      "2019-04-17 14:44:33.251192 2019-04-17 14:42:28.056306 0:02:04.190003\n",
      "2019-04-17 14:46:25.694151 2019-04-17 14:44:33.260987 0:01:51.428869\n",
      "2019-04-17 14:48:07.308746 2019-04-17 14:46:25.701556 0:01:40.603492\n",
      "2019-04-17 14:50:02.378871 2019-04-17 14:48:07.318925 0:01:54.054984\n",
      "2019-04-17 14:51:57.836530 2019-04-17 14:50:02.389231 0:01:54.444345\n",
      "2019-04-17 14:53:38.224402 2019-04-17 14:51:57.846648 0:01:39.370715\n",
      "2019-04-17 14:55:55.169377 2019-04-17 14:53:38.235174 0:02:15.928914\n",
      "2019-04-17 14:58:16.667379 2019-04-17 14:55:55.179693 0:02:20.481052\n",
      "2019-04-17 15:00:04.735039 2019-04-17 14:58:16.678351 0:01:47.050702\n",
      "2019-04-17 15:01:47.747135 2019-04-17 15:00:04.746126 0:01:41.996388\n",
      "2019-04-17 15:03:52.010945 2019-04-17 15:01:47.757793 0:02:03.246062\n",
      "[[0, 1.0], [1, 2.0], [2, 2.9990997961595953], [3, 4.001054552950209], [4, 5.001652033375256], [5, 6.001826298499227], [6, 7.000065722846756], [7, 8.002374984689565], [8, 9.002902759065021], [9, 10.004997923755521], [10, 11.005484870301936], [11, 12.00468623813379], [12, 13.007468505313094], [13, 14.006301426882834], [14, 15.006327317701254], [15, 16.00769753947603], [16, 17.010915967365623], [17, 18.010073519966305], [18, 19.01048777306101], [19, 20.01061025654814], [20, 21.010030700535843], [21, 22.008010220898477], [22, 23.010953807792546], [23, 24.009925145660755], [24, 25.007210592929624], [25, 26.00816755741041], [26, 27.01069290800694], [27, 28.00964731726311], [28, 29.0107705804622], [29, 30.013703213548474], [30, 31.011904797469075], [31, 32.009572632209974], [32, 33.008916399543125], [33, 34.010510676477296], [34, 35.00808689755302], [35, 36.007906657624794], [36, 37.007549165170474], [37, 38.005254840338296], [38, 39.006945709941185], [39, 40.008197431431654], [40, 41.00836273434925], [41, 42.010539554697836], [42, 43.01015816302651], [43, 44.00903888303026], [44, 45.00773338830153], [45, 46.00719963912182], [46, 47.00651253663302], [47, 48.0085111086548], [48, 49.006515524035144], [49, 50.00797337627226], [50, 51.00863657954406], [51, 52.008714251999315], [52, 53.008197431431654], [53, 54.00893930295942], [54, 55.0076816066647], [55, 56.01049175626383], [56, 57.01155925462325], [57, 58.013966104935484], [58, 59.015727676388664], [59, 60.01612997987486], [60, 61.01899091531013]]\n"
     ]
    },
    {
     "name": "stderr",
     "output_type": "stream",
     "text": [
      "reconstraining parameters GP_regression.mul\n",
      "reconstraining parameters GP_regression.Gaussian_noise.variance\n"
     ]
    },
    {
     "name": "stdout",
     "output_type": "stream",
     "text": [
      "sampling end!. 2019-04-17 15:03:52.021693 2019-04-17 15:05:31.518904\n"
     ]
    },
    {
     "name": "stderr",
     "output_type": "stream",
     "text": [
      "[I 2019-04-17 15:05:32,531] Finished a trial resulted in value: 0.042584300029495474. Current best value is -0.3678504795545692 with parameters: {'a': 0.628575516140339, 'b': 0.6255697130800353, 'ab': [0.628575516140339, 0.6255697130800353]}.\n"
     ]
    },
    {
     "name": "stdout",
     "output_type": "stream",
     "text": [
      "2019-04-17 13:32:45.535397 2019-04-17 13:32:44.528432 0:00:00.000208\n",
      "2019-04-17 13:32:46.544049 2019-04-17 13:32:45.539577 0:00:00.000255\n",
      "2019-04-17 13:32:47.551702 2019-04-17 13:32:46.548077 0:00:00.000312\n",
      "2019-04-17 13:32:48.562685 2019-04-17 13:32:47.555801 0:00:00.000704\n",
      "2019-04-17 13:32:49.571595 2019-04-17 13:32:48.566388 0:00:00.000390\n",
      "2019-04-17 13:32:50.580238 2019-04-17 13:32:49.575298 0:00:00.000548\n",
      "2019-04-17 13:32:51.586422 2019-04-17 13:32:50.583475 0:00:00.000498\n",
      "2019-04-17 13:32:52.597042 2019-04-17 13:32:51.589940 0:00:00.000566\n",
      "2019-04-17 13:32:53.607390 2019-04-17 13:32:52.601836 0:00:00.000807\n",
      "2019-04-17 13:32:54.618539 2019-04-17 13:32:53.611387 0:00:00.000831\n",
      "2019-04-17 13:34:35.122242 2019-04-17 13:32:54.623813 0:01:39.493723\n",
      "2019-04-17 13:36:06.841772 2019-04-17 13:34:35.127388 0:01:30.710969\n",
      "2019-04-17 13:37:47.978833 2019-04-17 13:36:06.847609 0:01:40.124213\n",
      "2019-04-17 13:39:23.736225 2019-04-17 13:37:47.984325 0:01:34.748855\n",
      "2019-04-17 13:41:02.277467 2019-04-17 13:39:23.741729 0:01:37.531495\n",
      "2019-04-17 13:42:49.027379 2019-04-17 13:41:02.282765 0:01:45.739021\n",
      "2019-04-17 13:44:12.567658 2019-04-17 13:42:49.033075 0:01:22.527134\n",
      "2019-04-17 13:46:00.167530 2019-04-17 13:44:12.574396 0:01:46.589763\n",
      "2019-04-17 13:47:43.244229 2019-04-17 13:46:00.173749 0:01:42.065847\n",
      "2019-04-17 13:49:05.804982 2019-04-17 13:47:43.251344 0:01:21.549298\n",
      "2019-04-17 13:50:43.560259 2019-04-17 13:49:05.811815 0:01:36.744809\n",
      "2019-04-17 13:52:57.285626 2019-04-17 13:50:43.566362 0:02:12.717076\n",
      "2019-04-17 13:54:49.150780 2019-04-17 13:52:57.292908 0:01:50.850699\n",
      "2019-04-17 13:56:08.997671 2019-04-17 13:54:49.157619 0:01:18.836868\n",
      "2019-04-17 13:57:42.967280 2019-04-17 13:56:09.004677 0:01:32.961112\n",
      "2019-04-17 13:59:30.969727 2019-04-17 13:57:42.974637 0:01:46.989912\n",
      "2019-04-17 14:01:20.562652 2019-04-17 13:59:30.976434 0:01:48.579465\n",
      "2019-04-17 14:02:56.020329 2019-04-17 14:01:20.569600 0:01:34.447562\n",
      "2019-04-17 14:04:54.973702 2019-04-17 14:02:56.027981 0:01:57.940376\n",
      "2019-04-17 14:06:25.218921 2019-04-17 14:04:54.981432 0:01:29.230327\n",
      "2019-04-17 14:08:11.042810 2019-04-17 14:06:25.227910 0:01:44.812489\n",
      "2019-04-17 14:10:09.786447 2019-04-17 14:08:11.050107 0:01:57.734465\n",
      "2019-04-17 14:12:03.866770 2019-04-17 14:10:09.794211 0:01:53.069001\n",
      "2019-04-17 14:13:59.547424 2019-04-17 14:12:03.874431 0:01:54.667175\n",
      "2019-04-17 14:15:50.282620 2019-04-17 14:13:59.555178 0:01:49.725659\n",
      "2019-04-17 14:17:29.871802 2019-04-17 14:15:50.288872 0:01:38.578894\n",
      "2019-04-17 14:19:13.298968 2019-04-17 14:17:29.879649 0:01:42.415461\n",
      "2019-04-17 14:21:14.836276 2019-04-17 14:19:13.306950 0:02:00.527413\n",
      "2019-04-17 14:23:16.663054 2019-04-17 14:21:14.845227 0:02:00.811912\n",
      "2019-04-17 14:25:09.866602 2019-04-17 14:23:16.671587 0:01:52.189541\n",
      "2019-04-17 14:26:48.742325 2019-04-17 14:25:09.875328 0:01:37.862614\n",
      "2019-04-17 14:28:37.114982 2019-04-17 14:26:48.750813 0:01:47.357766\n",
      "2019-04-17 14:30:11.752872 2019-04-17 14:28:37.124364 0:01:33.624674\n",
      "2019-04-17 14:32:13.594553 2019-04-17 14:30:11.761072 0:02:00.830388\n",
      "2019-04-17 14:33:54.377060 2019-04-17 14:32:13.603926 0:01:39.770228\n",
      "2019-04-17 14:35:39.721296 2019-04-17 14:33:54.385493 0:01:44.332122\n",
      "2019-04-17 14:37:11.354143 2019-04-17 14:35:39.730414 0:01:30.620202\n",
      "2019-04-17 14:38:50.525980 2019-04-17 14:37:11.364252 0:01:38.155504\n",
      "2019-04-17 14:40:29.144778 2019-04-17 14:38:50.535300 0:01:37.607265\n",
      "2019-04-17 14:42:28.047041 2019-04-17 14:40:29.154021 0:01:57.887339\n",
      "2019-04-17 14:44:33.251192 2019-04-17 14:42:28.056306 0:02:04.190003\n",
      "2019-04-17 14:46:25.694151 2019-04-17 14:44:33.260987 0:01:51.428869\n",
      "2019-04-17 14:48:07.308746 2019-04-17 14:46:25.701556 0:01:40.603492\n",
      "2019-04-17 14:50:02.378871 2019-04-17 14:48:07.318925 0:01:54.054984\n",
      "2019-04-17 14:51:57.836530 2019-04-17 14:50:02.389231 0:01:54.444345\n",
      "2019-04-17 14:53:38.224402 2019-04-17 14:51:57.846648 0:01:39.370715\n",
      "2019-04-17 14:55:55.169377 2019-04-17 14:53:38.235174 0:02:15.928914\n",
      "2019-04-17 14:58:16.667379 2019-04-17 14:55:55.179693 0:02:20.481052\n",
      "2019-04-17 15:00:04.735039 2019-04-17 14:58:16.678351 0:01:47.050702\n",
      "2019-04-17 15:01:47.747135 2019-04-17 15:00:04.746126 0:01:41.996388\n",
      "2019-04-17 15:03:52.010945 2019-04-17 15:01:47.757793 0:02:03.246062\n",
      "2019-04-17 15:05:32.525072 2019-04-17 15:03:52.021668 0:01:39.497211\n",
      "[[0, 1.0], [1, 2.0], [2, 2.9990997961595953], [3, 4.001054552950209], [4, 5.001652033375256], [5, 6.001826298499227], [6, 7.000065722846756], [7, 8.002374984689565], [8, 9.002902759065021], [9, 10.004997923755521], [10, 11.005484870301936], [11, 12.00468623813379], [12, 13.007468505313094], [13, 14.006301426882834], [14, 15.006327317701254], [15, 16.00769753947603], [16, 17.010915967365623], [17, 18.010073519966305], [18, 19.01048777306101], [19, 20.01061025654814], [20, 21.010030700535843], [21, 22.008010220898477], [22, 23.010953807792546], [23, 24.009925145660755], [24, 25.007210592929624], [25, 26.00816755741041], [26, 27.01069290800694], [27, 28.00964731726311], [28, 29.0107705804622], [29, 30.013703213548474], [30, 31.011904797469075], [31, 32.009572632209974], [32, 33.008916399543125], [33, 34.010510676477296], [34, 35.00808689755302], [35, 36.007906657624794], [36, 37.007549165170474], [37, 38.005254840338296], [38, 39.006945709941185], [39, 40.008197431431654], [40, 41.00836273434925], [41, 42.010539554697836], [42, 43.01015816302651], [43, 44.00903888303026], [44, 45.00773338830153], [45, 46.00719963912182], [46, 47.00651253663302], [47, 48.0085111086548], [48, 49.006515524035144], [49, 50.00797337627226], [50, 51.00863657954406], [51, 52.008714251999315], [52, 53.008197431431654], [53, 54.00893930295942], [54, 55.0076816066647], [55, 56.01049175626383], [56, 57.01155925462325], [57, 58.013966104935484], [58, 59.015727676388664], [59, 60.01612997987486], [60, 61.01899091531013], [61, 62.02095861750996]]\n"
     ]
    },
    {
     "name": "stderr",
     "output_type": "stream",
     "text": [
      "reconstraining parameters GP_regression.mul\n",
      "reconstraining parameters GP_regression.Gaussian_noise.variance\n"
     ]
    },
    {
     "name": "stdout",
     "output_type": "stream",
     "text": [
      "sampling end!. 2019-04-17 15:05:32.534364 2019-04-17 15:07:51.914692\n"
     ]
    },
    {
     "name": "stderr",
     "output_type": "stream",
     "text": [
      "[I 2019-04-17 15:07:52,927] Finished a trial resulted in value: 0.06685847620778364. Current best value is -0.3678504795545692 with parameters: {'a': 0.628575516140339, 'b': 0.6255697130800353, 'ab': [0.628575516140339, 0.6255697130800353]}.\n"
     ]
    },
    {
     "name": "stdout",
     "output_type": "stream",
     "text": [
      "2019-04-17 13:32:45.535397 2019-04-17 13:32:44.528432 0:00:00.000208\n",
      "2019-04-17 13:32:46.544049 2019-04-17 13:32:45.539577 0:00:00.000255\n",
      "2019-04-17 13:32:47.551702 2019-04-17 13:32:46.548077 0:00:00.000312\n",
      "2019-04-17 13:32:48.562685 2019-04-17 13:32:47.555801 0:00:00.000704\n",
      "2019-04-17 13:32:49.571595 2019-04-17 13:32:48.566388 0:00:00.000390\n",
      "2019-04-17 13:32:50.580238 2019-04-17 13:32:49.575298 0:00:00.000548\n",
      "2019-04-17 13:32:51.586422 2019-04-17 13:32:50.583475 0:00:00.000498\n",
      "2019-04-17 13:32:52.597042 2019-04-17 13:32:51.589940 0:00:00.000566\n",
      "2019-04-17 13:32:53.607390 2019-04-17 13:32:52.601836 0:00:00.000807\n",
      "2019-04-17 13:32:54.618539 2019-04-17 13:32:53.611387 0:00:00.000831\n",
      "2019-04-17 13:34:35.122242 2019-04-17 13:32:54.623813 0:01:39.493723\n",
      "2019-04-17 13:36:06.841772 2019-04-17 13:34:35.127388 0:01:30.710969\n",
      "2019-04-17 13:37:47.978833 2019-04-17 13:36:06.847609 0:01:40.124213\n",
      "2019-04-17 13:39:23.736225 2019-04-17 13:37:47.984325 0:01:34.748855\n",
      "2019-04-17 13:41:02.277467 2019-04-17 13:39:23.741729 0:01:37.531495\n",
      "2019-04-17 13:42:49.027379 2019-04-17 13:41:02.282765 0:01:45.739021\n",
      "2019-04-17 13:44:12.567658 2019-04-17 13:42:49.033075 0:01:22.527134\n",
      "2019-04-17 13:46:00.167530 2019-04-17 13:44:12.574396 0:01:46.589763\n",
      "2019-04-17 13:47:43.244229 2019-04-17 13:46:00.173749 0:01:42.065847\n",
      "2019-04-17 13:49:05.804982 2019-04-17 13:47:43.251344 0:01:21.549298\n",
      "2019-04-17 13:50:43.560259 2019-04-17 13:49:05.811815 0:01:36.744809\n",
      "2019-04-17 13:52:57.285626 2019-04-17 13:50:43.566362 0:02:12.717076\n",
      "2019-04-17 13:54:49.150780 2019-04-17 13:52:57.292908 0:01:50.850699\n",
      "2019-04-17 13:56:08.997671 2019-04-17 13:54:49.157619 0:01:18.836868\n",
      "2019-04-17 13:57:42.967280 2019-04-17 13:56:09.004677 0:01:32.961112\n",
      "2019-04-17 13:59:30.969727 2019-04-17 13:57:42.974637 0:01:46.989912\n",
      "2019-04-17 14:01:20.562652 2019-04-17 13:59:30.976434 0:01:48.579465\n",
      "2019-04-17 14:02:56.020329 2019-04-17 14:01:20.569600 0:01:34.447562\n",
      "2019-04-17 14:04:54.973702 2019-04-17 14:02:56.027981 0:01:57.940376\n",
      "2019-04-17 14:06:25.218921 2019-04-17 14:04:54.981432 0:01:29.230327\n",
      "2019-04-17 14:08:11.042810 2019-04-17 14:06:25.227910 0:01:44.812489\n",
      "2019-04-17 14:10:09.786447 2019-04-17 14:08:11.050107 0:01:57.734465\n",
      "2019-04-17 14:12:03.866770 2019-04-17 14:10:09.794211 0:01:53.069001\n",
      "2019-04-17 14:13:59.547424 2019-04-17 14:12:03.874431 0:01:54.667175\n",
      "2019-04-17 14:15:50.282620 2019-04-17 14:13:59.555178 0:01:49.725659\n",
      "2019-04-17 14:17:29.871802 2019-04-17 14:15:50.288872 0:01:38.578894\n",
      "2019-04-17 14:19:13.298968 2019-04-17 14:17:29.879649 0:01:42.415461\n",
      "2019-04-17 14:21:14.836276 2019-04-17 14:19:13.306950 0:02:00.527413\n",
      "2019-04-17 14:23:16.663054 2019-04-17 14:21:14.845227 0:02:00.811912\n",
      "2019-04-17 14:25:09.866602 2019-04-17 14:23:16.671587 0:01:52.189541\n",
      "2019-04-17 14:26:48.742325 2019-04-17 14:25:09.875328 0:01:37.862614\n",
      "2019-04-17 14:28:37.114982 2019-04-17 14:26:48.750813 0:01:47.357766\n",
      "2019-04-17 14:30:11.752872 2019-04-17 14:28:37.124364 0:01:33.624674\n",
      "2019-04-17 14:32:13.594553 2019-04-17 14:30:11.761072 0:02:00.830388\n",
      "2019-04-17 14:33:54.377060 2019-04-17 14:32:13.603926 0:01:39.770228\n",
      "2019-04-17 14:35:39.721296 2019-04-17 14:33:54.385493 0:01:44.332122\n",
      "2019-04-17 14:37:11.354143 2019-04-17 14:35:39.730414 0:01:30.620202\n",
      "2019-04-17 14:38:50.525980 2019-04-17 14:37:11.364252 0:01:38.155504\n",
      "2019-04-17 14:40:29.144778 2019-04-17 14:38:50.535300 0:01:37.607265\n",
      "2019-04-17 14:42:28.047041 2019-04-17 14:40:29.154021 0:01:57.887339\n",
      "2019-04-17 14:44:33.251192 2019-04-17 14:42:28.056306 0:02:04.190003\n",
      "2019-04-17 14:46:25.694151 2019-04-17 14:44:33.260987 0:01:51.428869\n",
      "2019-04-17 14:48:07.308746 2019-04-17 14:46:25.701556 0:01:40.603492\n",
      "2019-04-17 14:50:02.378871 2019-04-17 14:48:07.318925 0:01:54.054984\n",
      "2019-04-17 14:51:57.836530 2019-04-17 14:50:02.389231 0:01:54.444345\n",
      "2019-04-17 14:53:38.224402 2019-04-17 14:51:57.846648 0:01:39.370715\n",
      "2019-04-17 14:55:55.169377 2019-04-17 14:53:38.235174 0:02:15.928914\n",
      "2019-04-17 14:58:16.667379 2019-04-17 14:55:55.179693 0:02:20.481052\n",
      "2019-04-17 15:00:04.735039 2019-04-17 14:58:16.678351 0:01:47.050702\n",
      "2019-04-17 15:01:47.747135 2019-04-17 15:00:04.746126 0:01:41.996388\n",
      "2019-04-17 15:03:52.010945 2019-04-17 15:01:47.757793 0:02:03.246062\n",
      "2019-04-17 15:05:32.525072 2019-04-17 15:03:52.021668 0:01:39.497211\n",
      "2019-04-17 15:07:52.921570 2019-04-17 15:05:32.534322 0:02:19.380328\n",
      "[[0, 1.0], [1, 2.0], [2, 2.9990997961595953], [3, 4.001054552950209], [4, 5.001652033375256], [5, 6.001826298499227], [6, 7.000065722846756], [7, 8.002374984689565], [8, 9.002902759065021], [9, 10.004997923755521], [10, 11.005484870301936], [11, 12.00468623813379], [12, 13.007468505313094], [13, 14.006301426882834], [14, 15.006327317701254], [15, 16.00769753947603], [16, 17.010915967365623], [17, 18.010073519966305], [18, 19.01048777306101], [19, 20.01061025654814], [20, 21.010030700535843], [21, 22.008010220898477], [22, 23.010953807792546], [23, 24.009925145660755], [24, 25.007210592929624], [25, 26.00816755741041], [26, 27.01069290800694], [27, 28.00964731726311], [28, 29.0107705804622], [29, 30.013703213548474], [30, 31.011904797469075], [31, 32.009572632209974], [32, 33.008916399543125], [33, 34.010510676477296], [34, 35.00808689755302], [35, 36.007906657624794], [36, 37.007549165170474], [37, 38.005254840338296], [38, 39.006945709941185], [39, 40.008197431431654], [40, 41.00836273434925], [41, 42.010539554697836], [42, 43.01015816302651], [43, 44.00903888303026], [44, 45.00773338830153], [45, 46.00719963912182], [46, 47.00651253663302], [47, 48.0085111086548], [48, 49.006515524035144], [49, 50.00797337627226], [50, 51.00863657954406], [51, 52.008714251999315], [52, 53.008197431431654], [53, 54.00893930295942], [54, 55.0076816066647], [55, 56.01049175626383], [56, 57.01155925462325], [57, 58.013966104935484], [58, 59.015727676388664], [59, 60.01612997987486], [60, 61.01899091531013], [61, 62.02095861750996], [62, 63.023650266824795]]\n"
     ]
    },
    {
     "name": "stderr",
     "output_type": "stream",
     "text": [
      "reconstraining parameters GP_regression.mul\n",
      "reconstraining parameters GP_regression.Gaussian_noise.variance\n"
     ]
    },
    {
     "name": "stdout",
     "output_type": "stream",
     "text": [
      "sampling end!. 2019-04-17 15:07:52.930090 2019-04-17 15:09:58.796417\n"
     ]
    },
    {
     "name": "stderr",
     "output_type": "stream",
     "text": [
      "[I 2019-04-17 15:09:59,808] Finished a trial resulted in value: -0.01216411432548778. Current best value is -0.3678504795545692 with parameters: {'a': 0.628575516140339, 'b': 0.6255697130800353, 'ab': [0.628575516140339, 0.6255697130800353]}.\n"
     ]
    },
    {
     "name": "stdout",
     "output_type": "stream",
     "text": [
      "2019-04-17 13:32:45.535397 2019-04-17 13:32:44.528432 0:00:00.000208\n",
      "2019-04-17 13:32:46.544049 2019-04-17 13:32:45.539577 0:00:00.000255\n",
      "2019-04-17 13:32:47.551702 2019-04-17 13:32:46.548077 0:00:00.000312\n",
      "2019-04-17 13:32:48.562685 2019-04-17 13:32:47.555801 0:00:00.000704\n",
      "2019-04-17 13:32:49.571595 2019-04-17 13:32:48.566388 0:00:00.000390\n",
      "2019-04-17 13:32:50.580238 2019-04-17 13:32:49.575298 0:00:00.000548\n",
      "2019-04-17 13:32:51.586422 2019-04-17 13:32:50.583475 0:00:00.000498\n",
      "2019-04-17 13:32:52.597042 2019-04-17 13:32:51.589940 0:00:00.000566\n",
      "2019-04-17 13:32:53.607390 2019-04-17 13:32:52.601836 0:00:00.000807\n",
      "2019-04-17 13:32:54.618539 2019-04-17 13:32:53.611387 0:00:00.000831\n",
      "2019-04-17 13:34:35.122242 2019-04-17 13:32:54.623813 0:01:39.493723\n",
      "2019-04-17 13:36:06.841772 2019-04-17 13:34:35.127388 0:01:30.710969\n",
      "2019-04-17 13:37:47.978833 2019-04-17 13:36:06.847609 0:01:40.124213\n",
      "2019-04-17 13:39:23.736225 2019-04-17 13:37:47.984325 0:01:34.748855\n",
      "2019-04-17 13:41:02.277467 2019-04-17 13:39:23.741729 0:01:37.531495\n",
      "2019-04-17 13:42:49.027379 2019-04-17 13:41:02.282765 0:01:45.739021\n",
      "2019-04-17 13:44:12.567658 2019-04-17 13:42:49.033075 0:01:22.527134\n",
      "2019-04-17 13:46:00.167530 2019-04-17 13:44:12.574396 0:01:46.589763\n",
      "2019-04-17 13:47:43.244229 2019-04-17 13:46:00.173749 0:01:42.065847\n",
      "2019-04-17 13:49:05.804982 2019-04-17 13:47:43.251344 0:01:21.549298\n",
      "2019-04-17 13:50:43.560259 2019-04-17 13:49:05.811815 0:01:36.744809\n",
      "2019-04-17 13:52:57.285626 2019-04-17 13:50:43.566362 0:02:12.717076\n",
      "2019-04-17 13:54:49.150780 2019-04-17 13:52:57.292908 0:01:50.850699\n",
      "2019-04-17 13:56:08.997671 2019-04-17 13:54:49.157619 0:01:18.836868\n",
      "2019-04-17 13:57:42.967280 2019-04-17 13:56:09.004677 0:01:32.961112\n",
      "2019-04-17 13:59:30.969727 2019-04-17 13:57:42.974637 0:01:46.989912\n",
      "2019-04-17 14:01:20.562652 2019-04-17 13:59:30.976434 0:01:48.579465\n",
      "2019-04-17 14:02:56.020329 2019-04-17 14:01:20.569600 0:01:34.447562\n",
      "2019-04-17 14:04:54.973702 2019-04-17 14:02:56.027981 0:01:57.940376\n",
      "2019-04-17 14:06:25.218921 2019-04-17 14:04:54.981432 0:01:29.230327\n",
      "2019-04-17 14:08:11.042810 2019-04-17 14:06:25.227910 0:01:44.812489\n",
      "2019-04-17 14:10:09.786447 2019-04-17 14:08:11.050107 0:01:57.734465\n",
      "2019-04-17 14:12:03.866770 2019-04-17 14:10:09.794211 0:01:53.069001\n",
      "2019-04-17 14:13:59.547424 2019-04-17 14:12:03.874431 0:01:54.667175\n",
      "2019-04-17 14:15:50.282620 2019-04-17 14:13:59.555178 0:01:49.725659\n",
      "2019-04-17 14:17:29.871802 2019-04-17 14:15:50.288872 0:01:38.578894\n",
      "2019-04-17 14:19:13.298968 2019-04-17 14:17:29.879649 0:01:42.415461\n",
      "2019-04-17 14:21:14.836276 2019-04-17 14:19:13.306950 0:02:00.527413\n",
      "2019-04-17 14:23:16.663054 2019-04-17 14:21:14.845227 0:02:00.811912\n",
      "2019-04-17 14:25:09.866602 2019-04-17 14:23:16.671587 0:01:52.189541\n",
      "2019-04-17 14:26:48.742325 2019-04-17 14:25:09.875328 0:01:37.862614\n",
      "2019-04-17 14:28:37.114982 2019-04-17 14:26:48.750813 0:01:47.357766\n",
      "2019-04-17 14:30:11.752872 2019-04-17 14:28:37.124364 0:01:33.624674\n",
      "2019-04-17 14:32:13.594553 2019-04-17 14:30:11.761072 0:02:00.830388\n",
      "2019-04-17 14:33:54.377060 2019-04-17 14:32:13.603926 0:01:39.770228\n",
      "2019-04-17 14:35:39.721296 2019-04-17 14:33:54.385493 0:01:44.332122\n",
      "2019-04-17 14:37:11.354143 2019-04-17 14:35:39.730414 0:01:30.620202\n",
      "2019-04-17 14:38:50.525980 2019-04-17 14:37:11.364252 0:01:38.155504\n",
      "2019-04-17 14:40:29.144778 2019-04-17 14:38:50.535300 0:01:37.607265\n",
      "2019-04-17 14:42:28.047041 2019-04-17 14:40:29.154021 0:01:57.887339\n",
      "2019-04-17 14:44:33.251192 2019-04-17 14:42:28.056306 0:02:04.190003\n",
      "2019-04-17 14:46:25.694151 2019-04-17 14:44:33.260987 0:01:51.428869\n",
      "2019-04-17 14:48:07.308746 2019-04-17 14:46:25.701556 0:01:40.603492\n",
      "2019-04-17 14:50:02.378871 2019-04-17 14:48:07.318925 0:01:54.054984\n",
      "2019-04-17 14:51:57.836530 2019-04-17 14:50:02.389231 0:01:54.444345\n",
      "2019-04-17 14:53:38.224402 2019-04-17 14:51:57.846648 0:01:39.370715\n",
      "2019-04-17 14:55:55.169377 2019-04-17 14:53:38.235174 0:02:15.928914\n",
      "2019-04-17 14:58:16.667379 2019-04-17 14:55:55.179693 0:02:20.481052\n",
      "2019-04-17 15:00:04.735039 2019-04-17 14:58:16.678351 0:01:47.050702\n",
      "2019-04-17 15:01:47.747135 2019-04-17 15:00:04.746126 0:01:41.996388\n",
      "2019-04-17 15:03:52.010945 2019-04-17 15:01:47.757793 0:02:03.246062\n",
      "2019-04-17 15:05:32.525072 2019-04-17 15:03:52.021668 0:01:39.497211\n",
      "2019-04-17 15:07:52.921570 2019-04-17 15:05:32.534322 0:02:19.380328\n",
      "2019-04-17 15:09:59.800415 2019-04-17 15:07:52.930064 0:02:05.866327\n",
      "[[0, 1.0], [1, 2.0], [2, 2.9990997961595953], [3, 4.001054552950209], [4, 5.001652033375256], [5, 6.001826298499227], [6, 7.000065722846756], [7, 8.002374984689565], [8, 9.002902759065021], [9, 10.004997923755521], [10, 11.005484870301936], [11, 12.00468623813379], [12, 13.007468505313094], [13, 14.006301426882834], [14, 15.006327317701254], [15, 16.00769753947603], [16, 17.010915967365623], [17, 18.010073519966305], [18, 19.01048777306101], [19, 20.01061025654814], [20, 21.010030700535843], [21, 22.008010220898477], [22, 23.010953807792546], [23, 24.009925145660755], [24, 25.007210592929624], [25, 26.00816755741041], [26, 27.01069290800694], [27, 28.00964731726311], [28, 29.0107705804622], [29, 30.013703213548474], [30, 31.011904797469075], [31, 32.009572632209974], [32, 33.008916399543125], [33, 34.010510676477296], [34, 35.00808689755302], [35, 36.007906657624794], [36, 37.007549165170474], [37, 38.005254840338296], [38, 39.006945709941185], [39, 40.008197431431654], [40, 41.00836273434925], [41, 42.010539554697836], [42, 43.01015816302651], [43, 44.00903888303026], [44, 45.00773338830153], [45, 46.00719963912182], [46, 47.00651253663302], [47, 48.0085111086548], [48, 49.006515524035144], [49, 50.00797337627226], [50, 51.00863657954406], [51, 52.008714251999315], [52, 53.008197431431654], [53, 54.00893930295942], [54, 55.0076816066647], [55, 56.01049175626383], [56, 57.01155925462325], [57, 58.013966104935484], [58, 59.015727676388664], [59, 60.01612997987486], [60, 61.01899091531013], [61, 62.02095861750996], [62, 63.023650266824795], [63, 64.02345807728807]]\n"
     ]
    },
    {
     "name": "stderr",
     "output_type": "stream",
     "text": [
      "reconstraining parameters GP_regression.mul\n",
      "reconstraining parameters GP_regression.Gaussian_noise.variance\n"
     ]
    },
    {
     "name": "stdout",
     "output_type": "stream",
     "text": [
      "sampling end!. 2019-04-17 15:09:59.810300 2019-04-17 15:11:43.645882\n"
     ]
    },
    {
     "name": "stderr",
     "output_type": "stream",
     "text": [
      "[I 2019-04-17 15:11:44,661] Finished a trial resulted in value: -0.009203899387602604. Current best value is -0.3678504795545692 with parameters: {'a': 0.628575516140339, 'b': 0.6255697130800353, 'ab': [0.628575516140339, 0.6255697130800353]}.\n"
     ]
    },
    {
     "name": "stdout",
     "output_type": "stream",
     "text": [
      "2019-04-17 13:32:45.535397 2019-04-17 13:32:44.528432 0:00:00.000208\n",
      "2019-04-17 13:32:46.544049 2019-04-17 13:32:45.539577 0:00:00.000255\n",
      "2019-04-17 13:32:47.551702 2019-04-17 13:32:46.548077 0:00:00.000312\n",
      "2019-04-17 13:32:48.562685 2019-04-17 13:32:47.555801 0:00:00.000704\n",
      "2019-04-17 13:32:49.571595 2019-04-17 13:32:48.566388 0:00:00.000390\n",
      "2019-04-17 13:32:50.580238 2019-04-17 13:32:49.575298 0:00:00.000548\n",
      "2019-04-17 13:32:51.586422 2019-04-17 13:32:50.583475 0:00:00.000498\n",
      "2019-04-17 13:32:52.597042 2019-04-17 13:32:51.589940 0:00:00.000566\n",
      "2019-04-17 13:32:53.607390 2019-04-17 13:32:52.601836 0:00:00.000807\n",
      "2019-04-17 13:32:54.618539 2019-04-17 13:32:53.611387 0:00:00.000831\n",
      "2019-04-17 13:34:35.122242 2019-04-17 13:32:54.623813 0:01:39.493723\n",
      "2019-04-17 13:36:06.841772 2019-04-17 13:34:35.127388 0:01:30.710969\n",
      "2019-04-17 13:37:47.978833 2019-04-17 13:36:06.847609 0:01:40.124213\n",
      "2019-04-17 13:39:23.736225 2019-04-17 13:37:47.984325 0:01:34.748855\n",
      "2019-04-17 13:41:02.277467 2019-04-17 13:39:23.741729 0:01:37.531495\n",
      "2019-04-17 13:42:49.027379 2019-04-17 13:41:02.282765 0:01:45.739021\n",
      "2019-04-17 13:44:12.567658 2019-04-17 13:42:49.033075 0:01:22.527134\n",
      "2019-04-17 13:46:00.167530 2019-04-17 13:44:12.574396 0:01:46.589763\n",
      "2019-04-17 13:47:43.244229 2019-04-17 13:46:00.173749 0:01:42.065847\n",
      "2019-04-17 13:49:05.804982 2019-04-17 13:47:43.251344 0:01:21.549298\n",
      "2019-04-17 13:50:43.560259 2019-04-17 13:49:05.811815 0:01:36.744809\n",
      "2019-04-17 13:52:57.285626 2019-04-17 13:50:43.566362 0:02:12.717076\n",
      "2019-04-17 13:54:49.150780 2019-04-17 13:52:57.292908 0:01:50.850699\n",
      "2019-04-17 13:56:08.997671 2019-04-17 13:54:49.157619 0:01:18.836868\n",
      "2019-04-17 13:57:42.967280 2019-04-17 13:56:09.004677 0:01:32.961112\n",
      "2019-04-17 13:59:30.969727 2019-04-17 13:57:42.974637 0:01:46.989912\n",
      "2019-04-17 14:01:20.562652 2019-04-17 13:59:30.976434 0:01:48.579465\n",
      "2019-04-17 14:02:56.020329 2019-04-17 14:01:20.569600 0:01:34.447562\n",
      "2019-04-17 14:04:54.973702 2019-04-17 14:02:56.027981 0:01:57.940376\n",
      "2019-04-17 14:06:25.218921 2019-04-17 14:04:54.981432 0:01:29.230327\n",
      "2019-04-17 14:08:11.042810 2019-04-17 14:06:25.227910 0:01:44.812489\n",
      "2019-04-17 14:10:09.786447 2019-04-17 14:08:11.050107 0:01:57.734465\n",
      "2019-04-17 14:12:03.866770 2019-04-17 14:10:09.794211 0:01:53.069001\n",
      "2019-04-17 14:13:59.547424 2019-04-17 14:12:03.874431 0:01:54.667175\n",
      "2019-04-17 14:15:50.282620 2019-04-17 14:13:59.555178 0:01:49.725659\n",
      "2019-04-17 14:17:29.871802 2019-04-17 14:15:50.288872 0:01:38.578894\n",
      "2019-04-17 14:19:13.298968 2019-04-17 14:17:29.879649 0:01:42.415461\n",
      "2019-04-17 14:21:14.836276 2019-04-17 14:19:13.306950 0:02:00.527413\n",
      "2019-04-17 14:23:16.663054 2019-04-17 14:21:14.845227 0:02:00.811912\n",
      "2019-04-17 14:25:09.866602 2019-04-17 14:23:16.671587 0:01:52.189541\n",
      "2019-04-17 14:26:48.742325 2019-04-17 14:25:09.875328 0:01:37.862614\n",
      "2019-04-17 14:28:37.114982 2019-04-17 14:26:48.750813 0:01:47.357766\n",
      "2019-04-17 14:30:11.752872 2019-04-17 14:28:37.124364 0:01:33.624674\n",
      "2019-04-17 14:32:13.594553 2019-04-17 14:30:11.761072 0:02:00.830388\n",
      "2019-04-17 14:33:54.377060 2019-04-17 14:32:13.603926 0:01:39.770228\n",
      "2019-04-17 14:35:39.721296 2019-04-17 14:33:54.385493 0:01:44.332122\n",
      "2019-04-17 14:37:11.354143 2019-04-17 14:35:39.730414 0:01:30.620202\n",
      "2019-04-17 14:38:50.525980 2019-04-17 14:37:11.364252 0:01:38.155504\n",
      "2019-04-17 14:40:29.144778 2019-04-17 14:38:50.535300 0:01:37.607265\n",
      "2019-04-17 14:42:28.047041 2019-04-17 14:40:29.154021 0:01:57.887339\n",
      "2019-04-17 14:44:33.251192 2019-04-17 14:42:28.056306 0:02:04.190003\n",
      "2019-04-17 14:46:25.694151 2019-04-17 14:44:33.260987 0:01:51.428869\n",
      "2019-04-17 14:48:07.308746 2019-04-17 14:46:25.701556 0:01:40.603492\n",
      "2019-04-17 14:50:02.378871 2019-04-17 14:48:07.318925 0:01:54.054984\n",
      "2019-04-17 14:51:57.836530 2019-04-17 14:50:02.389231 0:01:54.444345\n",
      "2019-04-17 14:53:38.224402 2019-04-17 14:51:57.846648 0:01:39.370715\n",
      "2019-04-17 14:55:55.169377 2019-04-17 14:53:38.235174 0:02:15.928914\n",
      "2019-04-17 14:58:16.667379 2019-04-17 14:55:55.179693 0:02:20.481052\n",
      "2019-04-17 15:00:04.735039 2019-04-17 14:58:16.678351 0:01:47.050702\n",
      "2019-04-17 15:01:47.747135 2019-04-17 15:00:04.746126 0:01:41.996388\n",
      "2019-04-17 15:03:52.010945 2019-04-17 15:01:47.757793 0:02:03.246062\n",
      "2019-04-17 15:05:32.525072 2019-04-17 15:03:52.021668 0:01:39.497211\n",
      "2019-04-17 15:07:52.921570 2019-04-17 15:05:32.534322 0:02:19.380328\n",
      "2019-04-17 15:09:59.800415 2019-04-17 15:07:52.930064 0:02:05.866327\n",
      "2019-04-17 15:11:44.651730 2019-04-17 15:09:59.810272 0:01:43.835582\n",
      "[[0, 1.0], [1, 2.0], [2, 2.9990997961595953], [3, 4.001054552950209], [4, 5.001652033375256], [5, 6.001826298499227], [6, 7.000065722846756], [7, 8.002374984689565], [8, 9.002902759065021], [9, 10.004997923755521], [10, 11.005484870301936], [11, 12.00468623813379], [12, 13.007468505313094], [13, 14.006301426882834], [14, 15.006327317701254], [15, 16.00769753947603], [16, 17.010915967365623], [17, 18.010073519966305], [18, 19.01048777306101], [19, 20.01061025654814], [20, 21.010030700535843], [21, 22.008010220898477], [22, 23.010953807792546], [23, 24.009925145660755], [24, 25.007210592929624], [25, 26.00816755741041], [26, 27.01069290800694], [27, 28.00964731726311], [28, 29.0107705804622], [29, 30.013703213548474], [30, 31.011904797469075], [31, 32.009572632209974], [32, 33.008916399543125], [33, 34.010510676477296], [34, 35.00808689755302], [35, 36.007906657624794], [36, 37.007549165170474], [37, 38.005254840338296], [38, 39.006945709941185], [39, 40.008197431431654], [40, 41.00836273434925], [41, 42.010539554697836], [42, 43.01015816302651], [43, 44.00903888303026], [44, 45.00773338830153], [45, 46.00719963912182], [46, 47.00651253663302], [47, 48.0085111086548], [48, 49.006515524035144], [49, 50.00797337627226], [50, 51.00863657954406], [51, 52.008714251999315], [52, 53.008197431431654], [53, 54.00893930295942], [54, 55.0076816066647], [55, 56.01049175626383], [56, 57.01155925462325], [57, 58.013966104935484], [58, 59.015727676388664], [59, 60.01612997987486], [60, 61.01899091531013], [61, 62.02095861750996], [62, 63.023650266824795], [63, 64.02345807728807], [64, 65.02511011066333]]\n"
     ]
    },
    {
     "name": "stderr",
     "output_type": "stream",
     "text": [
      "reconstraining parameters GP_regression.mul\n",
      "reconstraining parameters GP_regression.Gaussian_noise.variance\n"
     ]
    },
    {
     "name": "stdout",
     "output_type": "stream",
     "text": [
      "sampling end!. 2019-04-17 15:11:44.662938 2019-04-17 15:13:52.145917\n"
     ]
    },
    {
     "name": "stderr",
     "output_type": "stream",
     "text": [
      "[I 2019-04-17 15:13:53,161] Finished a trial resulted in value: 0.034497823717980367. Current best value is -0.3678504795545692 with parameters: {'a': 0.628575516140339, 'b': 0.6255697130800353, 'ab': [0.628575516140339, 0.6255697130800353]}.\n"
     ]
    },
    {
     "name": "stdout",
     "output_type": "stream",
     "text": [
      "2019-04-17 13:32:45.535397 2019-04-17 13:32:44.528432 0:00:00.000208\n",
      "2019-04-17 13:32:46.544049 2019-04-17 13:32:45.539577 0:00:00.000255\n",
      "2019-04-17 13:32:47.551702 2019-04-17 13:32:46.548077 0:00:00.000312\n",
      "2019-04-17 13:32:48.562685 2019-04-17 13:32:47.555801 0:00:00.000704\n",
      "2019-04-17 13:32:49.571595 2019-04-17 13:32:48.566388 0:00:00.000390\n",
      "2019-04-17 13:32:50.580238 2019-04-17 13:32:49.575298 0:00:00.000548\n",
      "2019-04-17 13:32:51.586422 2019-04-17 13:32:50.583475 0:00:00.000498\n",
      "2019-04-17 13:32:52.597042 2019-04-17 13:32:51.589940 0:00:00.000566\n",
      "2019-04-17 13:32:53.607390 2019-04-17 13:32:52.601836 0:00:00.000807\n",
      "2019-04-17 13:32:54.618539 2019-04-17 13:32:53.611387 0:00:00.000831\n",
      "2019-04-17 13:34:35.122242 2019-04-17 13:32:54.623813 0:01:39.493723\n",
      "2019-04-17 13:36:06.841772 2019-04-17 13:34:35.127388 0:01:30.710969\n",
      "2019-04-17 13:37:47.978833 2019-04-17 13:36:06.847609 0:01:40.124213\n",
      "2019-04-17 13:39:23.736225 2019-04-17 13:37:47.984325 0:01:34.748855\n",
      "2019-04-17 13:41:02.277467 2019-04-17 13:39:23.741729 0:01:37.531495\n",
      "2019-04-17 13:42:49.027379 2019-04-17 13:41:02.282765 0:01:45.739021\n",
      "2019-04-17 13:44:12.567658 2019-04-17 13:42:49.033075 0:01:22.527134\n",
      "2019-04-17 13:46:00.167530 2019-04-17 13:44:12.574396 0:01:46.589763\n",
      "2019-04-17 13:47:43.244229 2019-04-17 13:46:00.173749 0:01:42.065847\n",
      "2019-04-17 13:49:05.804982 2019-04-17 13:47:43.251344 0:01:21.549298\n",
      "2019-04-17 13:50:43.560259 2019-04-17 13:49:05.811815 0:01:36.744809\n",
      "2019-04-17 13:52:57.285626 2019-04-17 13:50:43.566362 0:02:12.717076\n",
      "2019-04-17 13:54:49.150780 2019-04-17 13:52:57.292908 0:01:50.850699\n",
      "2019-04-17 13:56:08.997671 2019-04-17 13:54:49.157619 0:01:18.836868\n",
      "2019-04-17 13:57:42.967280 2019-04-17 13:56:09.004677 0:01:32.961112\n",
      "2019-04-17 13:59:30.969727 2019-04-17 13:57:42.974637 0:01:46.989912\n",
      "2019-04-17 14:01:20.562652 2019-04-17 13:59:30.976434 0:01:48.579465\n",
      "2019-04-17 14:02:56.020329 2019-04-17 14:01:20.569600 0:01:34.447562\n",
      "2019-04-17 14:04:54.973702 2019-04-17 14:02:56.027981 0:01:57.940376\n",
      "2019-04-17 14:06:25.218921 2019-04-17 14:04:54.981432 0:01:29.230327\n",
      "2019-04-17 14:08:11.042810 2019-04-17 14:06:25.227910 0:01:44.812489\n",
      "2019-04-17 14:10:09.786447 2019-04-17 14:08:11.050107 0:01:57.734465\n",
      "2019-04-17 14:12:03.866770 2019-04-17 14:10:09.794211 0:01:53.069001\n",
      "2019-04-17 14:13:59.547424 2019-04-17 14:12:03.874431 0:01:54.667175\n",
      "2019-04-17 14:15:50.282620 2019-04-17 14:13:59.555178 0:01:49.725659\n",
      "2019-04-17 14:17:29.871802 2019-04-17 14:15:50.288872 0:01:38.578894\n",
      "2019-04-17 14:19:13.298968 2019-04-17 14:17:29.879649 0:01:42.415461\n",
      "2019-04-17 14:21:14.836276 2019-04-17 14:19:13.306950 0:02:00.527413\n",
      "2019-04-17 14:23:16.663054 2019-04-17 14:21:14.845227 0:02:00.811912\n",
      "2019-04-17 14:25:09.866602 2019-04-17 14:23:16.671587 0:01:52.189541\n",
      "2019-04-17 14:26:48.742325 2019-04-17 14:25:09.875328 0:01:37.862614\n",
      "2019-04-17 14:28:37.114982 2019-04-17 14:26:48.750813 0:01:47.357766\n",
      "2019-04-17 14:30:11.752872 2019-04-17 14:28:37.124364 0:01:33.624674\n",
      "2019-04-17 14:32:13.594553 2019-04-17 14:30:11.761072 0:02:00.830388\n",
      "2019-04-17 14:33:54.377060 2019-04-17 14:32:13.603926 0:01:39.770228\n",
      "2019-04-17 14:35:39.721296 2019-04-17 14:33:54.385493 0:01:44.332122\n",
      "2019-04-17 14:37:11.354143 2019-04-17 14:35:39.730414 0:01:30.620202\n",
      "2019-04-17 14:38:50.525980 2019-04-17 14:37:11.364252 0:01:38.155504\n",
      "2019-04-17 14:40:29.144778 2019-04-17 14:38:50.535300 0:01:37.607265\n",
      "2019-04-17 14:42:28.047041 2019-04-17 14:40:29.154021 0:01:57.887339\n",
      "2019-04-17 14:44:33.251192 2019-04-17 14:42:28.056306 0:02:04.190003\n",
      "2019-04-17 14:46:25.694151 2019-04-17 14:44:33.260987 0:01:51.428869\n",
      "2019-04-17 14:48:07.308746 2019-04-17 14:46:25.701556 0:01:40.603492\n",
      "2019-04-17 14:50:02.378871 2019-04-17 14:48:07.318925 0:01:54.054984\n",
      "2019-04-17 14:51:57.836530 2019-04-17 14:50:02.389231 0:01:54.444345\n",
      "2019-04-17 14:53:38.224402 2019-04-17 14:51:57.846648 0:01:39.370715\n",
      "2019-04-17 14:55:55.169377 2019-04-17 14:53:38.235174 0:02:15.928914\n",
      "2019-04-17 14:58:16.667379 2019-04-17 14:55:55.179693 0:02:20.481052\n",
      "2019-04-17 15:00:04.735039 2019-04-17 14:58:16.678351 0:01:47.050702\n",
      "2019-04-17 15:01:47.747135 2019-04-17 15:00:04.746126 0:01:41.996388\n",
      "2019-04-17 15:03:52.010945 2019-04-17 15:01:47.757793 0:02:03.246062\n",
      "2019-04-17 15:05:32.525072 2019-04-17 15:03:52.021668 0:01:39.497211\n",
      "2019-04-17 15:07:52.921570 2019-04-17 15:05:32.534322 0:02:19.380328\n",
      "2019-04-17 15:09:59.800415 2019-04-17 15:07:52.930064 0:02:05.866327\n",
      "2019-04-17 15:11:44.651730 2019-04-17 15:09:59.810272 0:01:43.835582\n",
      "2019-04-17 15:13:53.152336 2019-04-17 15:11:44.662907 0:02:07.482979\n",
      "[[0, 1.0], [1, 2.0], [2, 2.9990997961595953], [3, 4.001054552950209], [4, 5.001652033375256], [5, 6.001826298499227], [6, 7.000065722846756], [7, 8.002374984689565], [8, 9.002902759065021], [9, 10.004997923755521], [10, 11.005484870301936], [11, 12.00468623813379], [12, 13.007468505313094], [13, 14.006301426882834], [14, 15.006327317701254], [15, 16.00769753947603], [16, 17.010915967365623], [17, 18.010073519966305], [18, 19.01048777306101], [19, 20.01061025654814], [20, 21.010030700535843], [21, 22.008010220898477], [22, 23.010953807792546], [23, 24.009925145660755], [24, 25.007210592929624], [25, 26.00816755741041], [26, 27.01069290800694], [27, 28.00964731726311], [28, 29.0107705804622], [29, 30.013703213548474], [30, 31.011904797469075], [31, 32.009572632209974], [32, 33.008916399543125], [33, 34.010510676477296], [34, 35.00808689755302], [35, 36.007906657624794], [36, 37.007549165170474], [37, 38.005254840338296], [38, 39.006945709941185], [39, 40.008197431431654], [40, 41.00836273434925], [41, 42.010539554697836], [42, 43.01015816302651], [43, 44.00903888303026], [44, 45.00773338830153], [45, 46.00719963912182], [46, 47.00651253663302], [47, 48.0085111086548], [48, 49.006515524035144], [49, 50.00797337627226], [50, 51.00863657954406], [51, 52.008714251999315], [52, 53.008197431431654], [53, 54.00893930295942], [54, 55.0076816066647], [55, 56.01049175626383], [56, 57.01155925462325], [57, 58.013966104935484], [58, 59.015727676388664], [59, 60.01612997987486], [60, 61.01899091531013], [61, 62.02095861750996], [62, 63.023650266824795], [63, 64.02345807728807], [64, 65.02511011066333], [65, 66.02733373364522]]\n"
     ]
    },
    {
     "name": "stderr",
     "output_type": "stream",
     "text": [
      "reconstraining parameters GP_regression.mul\n",
      "reconstraining parameters GP_regression.Gaussian_noise.variance\n"
     ]
    },
    {
     "name": "stdout",
     "output_type": "stream",
     "text": [
      "sampling end!. 2019-04-17 15:13:53.164251 2019-04-17 15:16:28.870102\n"
     ]
    },
    {
     "name": "stderr",
     "output_type": "stream",
     "text": [
      "[I 2019-04-17 15:16:29,882] Finished a trial resulted in value: 0.04043999105782564. Current best value is -0.3678504795545692 with parameters: {'a': 0.628575516140339, 'b': 0.6255697130800353, 'ab': [0.628575516140339, 0.6255697130800353]}.\n"
     ]
    },
    {
     "name": "stdout",
     "output_type": "stream",
     "text": [
      "2019-04-17 13:32:45.535397 2019-04-17 13:32:44.528432 0:00:00.000208\n",
      "2019-04-17 13:32:46.544049 2019-04-17 13:32:45.539577 0:00:00.000255\n",
      "2019-04-17 13:32:47.551702 2019-04-17 13:32:46.548077 0:00:00.000312\n",
      "2019-04-17 13:32:48.562685 2019-04-17 13:32:47.555801 0:00:00.000704\n",
      "2019-04-17 13:32:49.571595 2019-04-17 13:32:48.566388 0:00:00.000390\n",
      "2019-04-17 13:32:50.580238 2019-04-17 13:32:49.575298 0:00:00.000548\n",
      "2019-04-17 13:32:51.586422 2019-04-17 13:32:50.583475 0:00:00.000498\n",
      "2019-04-17 13:32:52.597042 2019-04-17 13:32:51.589940 0:00:00.000566\n",
      "2019-04-17 13:32:53.607390 2019-04-17 13:32:52.601836 0:00:00.000807\n",
      "2019-04-17 13:32:54.618539 2019-04-17 13:32:53.611387 0:00:00.000831\n",
      "2019-04-17 13:34:35.122242 2019-04-17 13:32:54.623813 0:01:39.493723\n",
      "2019-04-17 13:36:06.841772 2019-04-17 13:34:35.127388 0:01:30.710969\n",
      "2019-04-17 13:37:47.978833 2019-04-17 13:36:06.847609 0:01:40.124213\n",
      "2019-04-17 13:39:23.736225 2019-04-17 13:37:47.984325 0:01:34.748855\n",
      "2019-04-17 13:41:02.277467 2019-04-17 13:39:23.741729 0:01:37.531495\n",
      "2019-04-17 13:42:49.027379 2019-04-17 13:41:02.282765 0:01:45.739021\n",
      "2019-04-17 13:44:12.567658 2019-04-17 13:42:49.033075 0:01:22.527134\n",
      "2019-04-17 13:46:00.167530 2019-04-17 13:44:12.574396 0:01:46.589763\n",
      "2019-04-17 13:47:43.244229 2019-04-17 13:46:00.173749 0:01:42.065847\n",
      "2019-04-17 13:49:05.804982 2019-04-17 13:47:43.251344 0:01:21.549298\n",
      "2019-04-17 13:50:43.560259 2019-04-17 13:49:05.811815 0:01:36.744809\n",
      "2019-04-17 13:52:57.285626 2019-04-17 13:50:43.566362 0:02:12.717076\n",
      "2019-04-17 13:54:49.150780 2019-04-17 13:52:57.292908 0:01:50.850699\n",
      "2019-04-17 13:56:08.997671 2019-04-17 13:54:49.157619 0:01:18.836868\n",
      "2019-04-17 13:57:42.967280 2019-04-17 13:56:09.004677 0:01:32.961112\n",
      "2019-04-17 13:59:30.969727 2019-04-17 13:57:42.974637 0:01:46.989912\n",
      "2019-04-17 14:01:20.562652 2019-04-17 13:59:30.976434 0:01:48.579465\n",
      "2019-04-17 14:02:56.020329 2019-04-17 14:01:20.569600 0:01:34.447562\n",
      "2019-04-17 14:04:54.973702 2019-04-17 14:02:56.027981 0:01:57.940376\n",
      "2019-04-17 14:06:25.218921 2019-04-17 14:04:54.981432 0:01:29.230327\n",
      "2019-04-17 14:08:11.042810 2019-04-17 14:06:25.227910 0:01:44.812489\n",
      "2019-04-17 14:10:09.786447 2019-04-17 14:08:11.050107 0:01:57.734465\n",
      "2019-04-17 14:12:03.866770 2019-04-17 14:10:09.794211 0:01:53.069001\n",
      "2019-04-17 14:13:59.547424 2019-04-17 14:12:03.874431 0:01:54.667175\n",
      "2019-04-17 14:15:50.282620 2019-04-17 14:13:59.555178 0:01:49.725659\n",
      "2019-04-17 14:17:29.871802 2019-04-17 14:15:50.288872 0:01:38.578894\n",
      "2019-04-17 14:19:13.298968 2019-04-17 14:17:29.879649 0:01:42.415461\n",
      "2019-04-17 14:21:14.836276 2019-04-17 14:19:13.306950 0:02:00.527413\n",
      "2019-04-17 14:23:16.663054 2019-04-17 14:21:14.845227 0:02:00.811912\n",
      "2019-04-17 14:25:09.866602 2019-04-17 14:23:16.671587 0:01:52.189541\n",
      "2019-04-17 14:26:48.742325 2019-04-17 14:25:09.875328 0:01:37.862614\n",
      "2019-04-17 14:28:37.114982 2019-04-17 14:26:48.750813 0:01:47.357766\n",
      "2019-04-17 14:30:11.752872 2019-04-17 14:28:37.124364 0:01:33.624674\n",
      "2019-04-17 14:32:13.594553 2019-04-17 14:30:11.761072 0:02:00.830388\n",
      "2019-04-17 14:33:54.377060 2019-04-17 14:32:13.603926 0:01:39.770228\n",
      "2019-04-17 14:35:39.721296 2019-04-17 14:33:54.385493 0:01:44.332122\n",
      "2019-04-17 14:37:11.354143 2019-04-17 14:35:39.730414 0:01:30.620202\n",
      "2019-04-17 14:38:50.525980 2019-04-17 14:37:11.364252 0:01:38.155504\n",
      "2019-04-17 14:40:29.144778 2019-04-17 14:38:50.535300 0:01:37.607265\n",
      "2019-04-17 14:42:28.047041 2019-04-17 14:40:29.154021 0:01:57.887339\n",
      "2019-04-17 14:44:33.251192 2019-04-17 14:42:28.056306 0:02:04.190003\n",
      "2019-04-17 14:46:25.694151 2019-04-17 14:44:33.260987 0:01:51.428869\n",
      "2019-04-17 14:48:07.308746 2019-04-17 14:46:25.701556 0:01:40.603492\n",
      "2019-04-17 14:50:02.378871 2019-04-17 14:48:07.318925 0:01:54.054984\n",
      "2019-04-17 14:51:57.836530 2019-04-17 14:50:02.389231 0:01:54.444345\n",
      "2019-04-17 14:53:38.224402 2019-04-17 14:51:57.846648 0:01:39.370715\n",
      "2019-04-17 14:55:55.169377 2019-04-17 14:53:38.235174 0:02:15.928914\n",
      "2019-04-17 14:58:16.667379 2019-04-17 14:55:55.179693 0:02:20.481052\n",
      "2019-04-17 15:00:04.735039 2019-04-17 14:58:16.678351 0:01:47.050702\n",
      "2019-04-17 15:01:47.747135 2019-04-17 15:00:04.746126 0:01:41.996388\n",
      "2019-04-17 15:03:52.010945 2019-04-17 15:01:47.757793 0:02:03.246062\n",
      "2019-04-17 15:05:32.525072 2019-04-17 15:03:52.021668 0:01:39.497211\n",
      "2019-04-17 15:07:52.921570 2019-04-17 15:05:32.534322 0:02:19.380328\n",
      "2019-04-17 15:09:59.800415 2019-04-17 15:07:52.930064 0:02:05.866327\n",
      "2019-04-17 15:11:44.651730 2019-04-17 15:09:59.810272 0:01:43.835582\n",
      "2019-04-17 15:13:53.152336 2019-04-17 15:11:44.662907 0:02:07.482979\n",
      "2019-04-17 15:16:29.876512 2019-04-17 15:13:53.164203 0:02:35.705851\n",
      "[[0, 1.0], [1, 2.0], [2, 2.9990997961595953], [3, 4.001054552950209], [4, 5.001652033375256], [5, 6.001826298499227], [6, 7.000065722846756], [7, 8.002374984689565], [8, 9.002902759065021], [9, 10.004997923755521], [10, 11.005484870301936], [11, 12.00468623813379], [12, 13.007468505313094], [13, 14.006301426882834], [14, 15.006327317701254], [15, 16.00769753947603], [16, 17.010915967365623], [17, 18.010073519966305], [18, 19.01048777306101], [19, 20.01061025654814], [20, 21.010030700535843], [21, 22.008010220898477], [22, 23.010953807792546], [23, 24.009925145660755], [24, 25.007210592929624], [25, 26.00816755741041], [26, 27.01069290800694], [27, 28.00964731726311], [28, 29.0107705804622], [29, 30.013703213548474], [30, 31.011904797469075], [31, 32.009572632209974], [32, 33.008916399543125], [33, 34.010510676477296], [34, 35.00808689755302], [35, 36.007906657624794], [36, 37.007549165170474], [37, 38.005254840338296], [38, 39.006945709941185], [39, 40.008197431431654], [40, 41.00836273434925], [41, 42.010539554697836], [42, 43.01015816302651], [43, 44.00903888303026], [44, 45.00773338830153], [45, 46.00719963912182], [46, 47.00651253663302], [47, 48.0085111086548], [48, 49.006515524035144], [49, 50.00797337627226], [50, 51.00863657954406], [51, 52.008714251999315], [52, 53.008197431431654], [53, 54.00893930295942], [54, 55.0076816066647], [55, 56.01049175626383], [56, 57.01155925462325], [57, 58.013966104935484], [58, 59.015727676388664], [59, 60.01612997987486], [60, 61.01899091531013], [61, 62.02095861750996], [62, 63.023650266824795], [63, 64.02345807728807], [64, 65.02511011066333], [65, 66.02733373364522], [66, 67.02956532303277]]\n"
     ]
    },
    {
     "name": "stderr",
     "output_type": "stream",
     "text": [
      "reconstraining parameters GP_regression.mul\n",
      "reconstraining parameters GP_regression.Gaussian_noise.variance\n"
     ]
    },
    {
     "name": "stdout",
     "output_type": "stream",
     "text": [
      "sampling end!. 2019-04-17 15:16:29.885271 2019-04-17 15:19:10.191050\n"
     ]
    },
    {
     "name": "stderr",
     "output_type": "stream",
     "text": [
      "[I 2019-04-17 15:19:11,204] Finished a trial resulted in value: 0.1065379150810982. Current best value is -0.3678504795545692 with parameters: {'a': 0.628575516140339, 'b': 0.6255697130800353, 'ab': [0.628575516140339, 0.6255697130800353]}.\n"
     ]
    },
    {
     "name": "stdout",
     "output_type": "stream",
     "text": [
      "2019-04-17 13:32:45.535397 2019-04-17 13:32:44.528432 0:00:00.000208\n",
      "2019-04-17 13:32:46.544049 2019-04-17 13:32:45.539577 0:00:00.000255\n",
      "2019-04-17 13:32:47.551702 2019-04-17 13:32:46.548077 0:00:00.000312\n",
      "2019-04-17 13:32:48.562685 2019-04-17 13:32:47.555801 0:00:00.000704\n",
      "2019-04-17 13:32:49.571595 2019-04-17 13:32:48.566388 0:00:00.000390\n",
      "2019-04-17 13:32:50.580238 2019-04-17 13:32:49.575298 0:00:00.000548\n",
      "2019-04-17 13:32:51.586422 2019-04-17 13:32:50.583475 0:00:00.000498\n",
      "2019-04-17 13:32:52.597042 2019-04-17 13:32:51.589940 0:00:00.000566\n",
      "2019-04-17 13:32:53.607390 2019-04-17 13:32:52.601836 0:00:00.000807\n",
      "2019-04-17 13:32:54.618539 2019-04-17 13:32:53.611387 0:00:00.000831\n",
      "2019-04-17 13:34:35.122242 2019-04-17 13:32:54.623813 0:01:39.493723\n",
      "2019-04-17 13:36:06.841772 2019-04-17 13:34:35.127388 0:01:30.710969\n",
      "2019-04-17 13:37:47.978833 2019-04-17 13:36:06.847609 0:01:40.124213\n",
      "2019-04-17 13:39:23.736225 2019-04-17 13:37:47.984325 0:01:34.748855\n",
      "2019-04-17 13:41:02.277467 2019-04-17 13:39:23.741729 0:01:37.531495\n",
      "2019-04-17 13:42:49.027379 2019-04-17 13:41:02.282765 0:01:45.739021\n",
      "2019-04-17 13:44:12.567658 2019-04-17 13:42:49.033075 0:01:22.527134\n",
      "2019-04-17 13:46:00.167530 2019-04-17 13:44:12.574396 0:01:46.589763\n",
      "2019-04-17 13:47:43.244229 2019-04-17 13:46:00.173749 0:01:42.065847\n",
      "2019-04-17 13:49:05.804982 2019-04-17 13:47:43.251344 0:01:21.549298\n",
      "2019-04-17 13:50:43.560259 2019-04-17 13:49:05.811815 0:01:36.744809\n",
      "2019-04-17 13:52:57.285626 2019-04-17 13:50:43.566362 0:02:12.717076\n",
      "2019-04-17 13:54:49.150780 2019-04-17 13:52:57.292908 0:01:50.850699\n",
      "2019-04-17 13:56:08.997671 2019-04-17 13:54:49.157619 0:01:18.836868\n",
      "2019-04-17 13:57:42.967280 2019-04-17 13:56:09.004677 0:01:32.961112\n",
      "2019-04-17 13:59:30.969727 2019-04-17 13:57:42.974637 0:01:46.989912\n",
      "2019-04-17 14:01:20.562652 2019-04-17 13:59:30.976434 0:01:48.579465\n",
      "2019-04-17 14:02:56.020329 2019-04-17 14:01:20.569600 0:01:34.447562\n",
      "2019-04-17 14:04:54.973702 2019-04-17 14:02:56.027981 0:01:57.940376\n",
      "2019-04-17 14:06:25.218921 2019-04-17 14:04:54.981432 0:01:29.230327\n",
      "2019-04-17 14:08:11.042810 2019-04-17 14:06:25.227910 0:01:44.812489\n",
      "2019-04-17 14:10:09.786447 2019-04-17 14:08:11.050107 0:01:57.734465\n",
      "2019-04-17 14:12:03.866770 2019-04-17 14:10:09.794211 0:01:53.069001\n",
      "2019-04-17 14:13:59.547424 2019-04-17 14:12:03.874431 0:01:54.667175\n",
      "2019-04-17 14:15:50.282620 2019-04-17 14:13:59.555178 0:01:49.725659\n",
      "2019-04-17 14:17:29.871802 2019-04-17 14:15:50.288872 0:01:38.578894\n",
      "2019-04-17 14:19:13.298968 2019-04-17 14:17:29.879649 0:01:42.415461\n",
      "2019-04-17 14:21:14.836276 2019-04-17 14:19:13.306950 0:02:00.527413\n",
      "2019-04-17 14:23:16.663054 2019-04-17 14:21:14.845227 0:02:00.811912\n",
      "2019-04-17 14:25:09.866602 2019-04-17 14:23:16.671587 0:01:52.189541\n",
      "2019-04-17 14:26:48.742325 2019-04-17 14:25:09.875328 0:01:37.862614\n",
      "2019-04-17 14:28:37.114982 2019-04-17 14:26:48.750813 0:01:47.357766\n",
      "2019-04-17 14:30:11.752872 2019-04-17 14:28:37.124364 0:01:33.624674\n",
      "2019-04-17 14:32:13.594553 2019-04-17 14:30:11.761072 0:02:00.830388\n",
      "2019-04-17 14:33:54.377060 2019-04-17 14:32:13.603926 0:01:39.770228\n",
      "2019-04-17 14:35:39.721296 2019-04-17 14:33:54.385493 0:01:44.332122\n",
      "2019-04-17 14:37:11.354143 2019-04-17 14:35:39.730414 0:01:30.620202\n",
      "2019-04-17 14:38:50.525980 2019-04-17 14:37:11.364252 0:01:38.155504\n",
      "2019-04-17 14:40:29.144778 2019-04-17 14:38:50.535300 0:01:37.607265\n",
      "2019-04-17 14:42:28.047041 2019-04-17 14:40:29.154021 0:01:57.887339\n",
      "2019-04-17 14:44:33.251192 2019-04-17 14:42:28.056306 0:02:04.190003\n",
      "2019-04-17 14:46:25.694151 2019-04-17 14:44:33.260987 0:01:51.428869\n",
      "2019-04-17 14:48:07.308746 2019-04-17 14:46:25.701556 0:01:40.603492\n",
      "2019-04-17 14:50:02.378871 2019-04-17 14:48:07.318925 0:01:54.054984\n",
      "2019-04-17 14:51:57.836530 2019-04-17 14:50:02.389231 0:01:54.444345\n",
      "2019-04-17 14:53:38.224402 2019-04-17 14:51:57.846648 0:01:39.370715\n",
      "2019-04-17 14:55:55.169377 2019-04-17 14:53:38.235174 0:02:15.928914\n",
      "2019-04-17 14:58:16.667379 2019-04-17 14:55:55.179693 0:02:20.481052\n",
      "2019-04-17 15:00:04.735039 2019-04-17 14:58:16.678351 0:01:47.050702\n",
      "2019-04-17 15:01:47.747135 2019-04-17 15:00:04.746126 0:01:41.996388\n",
      "2019-04-17 15:03:52.010945 2019-04-17 15:01:47.757793 0:02:03.246062\n",
      "2019-04-17 15:05:32.525072 2019-04-17 15:03:52.021668 0:01:39.497211\n",
      "2019-04-17 15:07:52.921570 2019-04-17 15:05:32.534322 0:02:19.380328\n",
      "2019-04-17 15:09:59.800415 2019-04-17 15:07:52.930064 0:02:05.866327\n",
      "2019-04-17 15:11:44.651730 2019-04-17 15:09:59.810272 0:01:43.835582\n",
      "2019-04-17 15:13:53.152336 2019-04-17 15:11:44.662907 0:02:07.482979\n",
      "2019-04-17 15:16:29.876512 2019-04-17 15:13:53.164203 0:02:35.705851\n",
      "2019-04-17 15:19:11.195504 2019-04-17 15:16:29.885244 0:02:40.305779\n",
      "[[0, 1.0], [1, 2.0], [2, 2.9990997961595953], [3, 4.001054552950209], [4, 5.001652033375256], [5, 6.001826298499227], [6, 7.000065722846756], [7, 8.002374984689565], [8, 9.002902759065021], [9, 10.004997923755521], [10, 11.005484870301936], [11, 12.00468623813379], [12, 13.007468505313094], [13, 14.006301426882834], [14, 15.006327317701254], [15, 16.00769753947603], [16, 17.010915967365623], [17, 18.010073519966305], [18, 19.01048777306101], [19, 20.01061025654814], [20, 21.010030700535843], [21, 22.008010220898477], [22, 23.010953807792546], [23, 24.009925145660755], [24, 25.007210592929624], [25, 26.00816755741041], [26, 27.01069290800694], [27, 28.00964731726311], [28, 29.0107705804622], [29, 30.013703213548474], [30, 31.011904797469075], [31, 32.009572632209974], [32, 33.008916399543125], [33, 34.010510676477296], [34, 35.00808689755302], [35, 36.007906657624794], [36, 37.007549165170474], [37, 38.005254840338296], [38, 39.006945709941185], [39, 40.008197431431654], [40, 41.00836273434925], [41, 42.010539554697836], [42, 43.01015816302651], [43, 44.00903888303026], [44, 45.00773338830153], [45, 46.00719963912182], [46, 47.00651253663302], [47, 48.0085111086548], [48, 49.006515524035144], [49, 50.00797337627226], [50, 51.00863657954406], [51, 52.008714251999315], [52, 53.008197431431654], [53, 54.00893930295942], [54, 55.0076816066647], [55, 56.01049175626383], [56, 57.01155925462325], [57, 58.013966104935484], [58, 59.015727676388664], [59, 60.01612997987486], [60, 61.01899091531013], [61, 62.02095861750996], [62, 63.023650266824795], [63, 64.02345807728807], [64, 65.02511011066333], [65, 66.02733373364522], [66, 67.02956532303277], [67, 68.02982821441978]]\n"
     ]
    },
    {
     "name": "stderr",
     "output_type": "stream",
     "text": [
      "reconstraining parameters GP_regression.mul\n",
      "reconstraining parameters GP_regression.Gaussian_noise.variance\n"
     ]
    },
    {
     "name": "stdout",
     "output_type": "stream",
     "text": [
      "sampling end!. 2019-04-17 15:19:11.207377 2019-04-17 15:21:05.259663\n"
     ]
    },
    {
     "name": "stderr",
     "output_type": "stream",
     "text": [
      "[I 2019-04-17 15:21:06,276] Finished a trial resulted in value: -0.024304017368926678. Current best value is -0.3678504795545692 with parameters: {'a': 0.628575516140339, 'b': 0.6255697130800353, 'ab': [0.628575516140339, 0.6255697130800353]}.\n"
     ]
    },
    {
     "name": "stdout",
     "output_type": "stream",
     "text": [
      "2019-04-17 13:32:45.535397 2019-04-17 13:32:44.528432 0:00:00.000208\n",
      "2019-04-17 13:32:46.544049 2019-04-17 13:32:45.539577 0:00:00.000255\n",
      "2019-04-17 13:32:47.551702 2019-04-17 13:32:46.548077 0:00:00.000312\n",
      "2019-04-17 13:32:48.562685 2019-04-17 13:32:47.555801 0:00:00.000704\n",
      "2019-04-17 13:32:49.571595 2019-04-17 13:32:48.566388 0:00:00.000390\n",
      "2019-04-17 13:32:50.580238 2019-04-17 13:32:49.575298 0:00:00.000548\n",
      "2019-04-17 13:32:51.586422 2019-04-17 13:32:50.583475 0:00:00.000498\n",
      "2019-04-17 13:32:52.597042 2019-04-17 13:32:51.589940 0:00:00.000566\n",
      "2019-04-17 13:32:53.607390 2019-04-17 13:32:52.601836 0:00:00.000807\n",
      "2019-04-17 13:32:54.618539 2019-04-17 13:32:53.611387 0:00:00.000831\n",
      "2019-04-17 13:34:35.122242 2019-04-17 13:32:54.623813 0:01:39.493723\n",
      "2019-04-17 13:36:06.841772 2019-04-17 13:34:35.127388 0:01:30.710969\n",
      "2019-04-17 13:37:47.978833 2019-04-17 13:36:06.847609 0:01:40.124213\n",
      "2019-04-17 13:39:23.736225 2019-04-17 13:37:47.984325 0:01:34.748855\n",
      "2019-04-17 13:41:02.277467 2019-04-17 13:39:23.741729 0:01:37.531495\n",
      "2019-04-17 13:42:49.027379 2019-04-17 13:41:02.282765 0:01:45.739021\n",
      "2019-04-17 13:44:12.567658 2019-04-17 13:42:49.033075 0:01:22.527134\n",
      "2019-04-17 13:46:00.167530 2019-04-17 13:44:12.574396 0:01:46.589763\n",
      "2019-04-17 13:47:43.244229 2019-04-17 13:46:00.173749 0:01:42.065847\n",
      "2019-04-17 13:49:05.804982 2019-04-17 13:47:43.251344 0:01:21.549298\n",
      "2019-04-17 13:50:43.560259 2019-04-17 13:49:05.811815 0:01:36.744809\n",
      "2019-04-17 13:52:57.285626 2019-04-17 13:50:43.566362 0:02:12.717076\n",
      "2019-04-17 13:54:49.150780 2019-04-17 13:52:57.292908 0:01:50.850699\n",
      "2019-04-17 13:56:08.997671 2019-04-17 13:54:49.157619 0:01:18.836868\n",
      "2019-04-17 13:57:42.967280 2019-04-17 13:56:09.004677 0:01:32.961112\n",
      "2019-04-17 13:59:30.969727 2019-04-17 13:57:42.974637 0:01:46.989912\n",
      "2019-04-17 14:01:20.562652 2019-04-17 13:59:30.976434 0:01:48.579465\n",
      "2019-04-17 14:02:56.020329 2019-04-17 14:01:20.569600 0:01:34.447562\n",
      "2019-04-17 14:04:54.973702 2019-04-17 14:02:56.027981 0:01:57.940376\n",
      "2019-04-17 14:06:25.218921 2019-04-17 14:04:54.981432 0:01:29.230327\n",
      "2019-04-17 14:08:11.042810 2019-04-17 14:06:25.227910 0:01:44.812489\n",
      "2019-04-17 14:10:09.786447 2019-04-17 14:08:11.050107 0:01:57.734465\n",
      "2019-04-17 14:12:03.866770 2019-04-17 14:10:09.794211 0:01:53.069001\n",
      "2019-04-17 14:13:59.547424 2019-04-17 14:12:03.874431 0:01:54.667175\n",
      "2019-04-17 14:15:50.282620 2019-04-17 14:13:59.555178 0:01:49.725659\n",
      "2019-04-17 14:17:29.871802 2019-04-17 14:15:50.288872 0:01:38.578894\n",
      "2019-04-17 14:19:13.298968 2019-04-17 14:17:29.879649 0:01:42.415461\n",
      "2019-04-17 14:21:14.836276 2019-04-17 14:19:13.306950 0:02:00.527413\n",
      "2019-04-17 14:23:16.663054 2019-04-17 14:21:14.845227 0:02:00.811912\n",
      "2019-04-17 14:25:09.866602 2019-04-17 14:23:16.671587 0:01:52.189541\n",
      "2019-04-17 14:26:48.742325 2019-04-17 14:25:09.875328 0:01:37.862614\n",
      "2019-04-17 14:28:37.114982 2019-04-17 14:26:48.750813 0:01:47.357766\n",
      "2019-04-17 14:30:11.752872 2019-04-17 14:28:37.124364 0:01:33.624674\n",
      "2019-04-17 14:32:13.594553 2019-04-17 14:30:11.761072 0:02:00.830388\n",
      "2019-04-17 14:33:54.377060 2019-04-17 14:32:13.603926 0:01:39.770228\n",
      "2019-04-17 14:35:39.721296 2019-04-17 14:33:54.385493 0:01:44.332122\n",
      "2019-04-17 14:37:11.354143 2019-04-17 14:35:39.730414 0:01:30.620202\n",
      "2019-04-17 14:38:50.525980 2019-04-17 14:37:11.364252 0:01:38.155504\n",
      "2019-04-17 14:40:29.144778 2019-04-17 14:38:50.535300 0:01:37.607265\n",
      "2019-04-17 14:42:28.047041 2019-04-17 14:40:29.154021 0:01:57.887339\n",
      "2019-04-17 14:44:33.251192 2019-04-17 14:42:28.056306 0:02:04.190003\n",
      "2019-04-17 14:46:25.694151 2019-04-17 14:44:33.260987 0:01:51.428869\n",
      "2019-04-17 14:48:07.308746 2019-04-17 14:46:25.701556 0:01:40.603492\n",
      "2019-04-17 14:50:02.378871 2019-04-17 14:48:07.318925 0:01:54.054984\n",
      "2019-04-17 14:51:57.836530 2019-04-17 14:50:02.389231 0:01:54.444345\n",
      "2019-04-17 14:53:38.224402 2019-04-17 14:51:57.846648 0:01:39.370715\n",
      "2019-04-17 14:55:55.169377 2019-04-17 14:53:38.235174 0:02:15.928914\n",
      "2019-04-17 14:58:16.667379 2019-04-17 14:55:55.179693 0:02:20.481052\n",
      "2019-04-17 15:00:04.735039 2019-04-17 14:58:16.678351 0:01:47.050702\n",
      "2019-04-17 15:01:47.747135 2019-04-17 15:00:04.746126 0:01:41.996388\n",
      "2019-04-17 15:03:52.010945 2019-04-17 15:01:47.757793 0:02:03.246062\n",
      "2019-04-17 15:05:32.525072 2019-04-17 15:03:52.021668 0:01:39.497211\n",
      "2019-04-17 15:07:52.921570 2019-04-17 15:05:32.534322 0:02:19.380328\n",
      "2019-04-17 15:09:59.800415 2019-04-17 15:07:52.930064 0:02:05.866327\n",
      "2019-04-17 15:11:44.651730 2019-04-17 15:09:59.810272 0:01:43.835582\n",
      "2019-04-17 15:13:53.152336 2019-04-17 15:11:44.662907 0:02:07.482979\n",
      "2019-04-17 15:16:29.876512 2019-04-17 15:13:53.164203 0:02:35.705851\n",
      "2019-04-17 15:19:11.195504 2019-04-17 15:16:29.885244 0:02:40.305779\n",
      "2019-04-17 15:21:06.266149 2019-04-17 15:19:11.207347 0:01:54.052286\n",
      "[[0, 1.0], [1, 2.0], [2, 2.9990997961595953], [3, 4.001054552950209], [4, 5.001652033375256], [5, 6.001826298499227], [6, 7.000065722846756], [7, 8.002374984689565], [8, 9.002902759065021], [9, 10.004997923755521], [10, 11.005484870301936], [11, 12.00468623813379], [12, 13.007468505313094], [13, 14.006301426882834], [14, 15.006327317701254], [15, 16.00769753947603], [16, 17.010915967365623], [17, 18.010073519966305], [18, 19.01048777306101], [19, 20.01061025654814], [20, 21.010030700535843], [21, 22.008010220898477], [22, 23.010953807792546], [23, 24.009925145660755], [24, 25.007210592929624], [25, 26.00816755741041], [26, 27.01069290800694], [27, 28.00964731726311], [28, 29.0107705804622], [29, 30.013703213548474], [30, 31.011904797469075], [31, 32.009572632209974], [32, 33.008916399543125], [33, 34.010510676477296], [34, 35.00808689755302], [35, 36.007906657624794], [36, 37.007549165170474], [37, 38.005254840338296], [38, 39.006945709941185], [39, 40.008197431431654], [40, 41.00836273434925], [41, 42.010539554697836], [42, 43.01015816302651], [43, 44.00903888303026], [44, 45.00773338830153], [45, 46.00719963912182], [46, 47.00651253663302], [47, 48.0085111086548], [48, 49.006515524035144], [49, 50.00797337627226], [50, 51.00863657954406], [51, 52.008714251999315], [52, 53.008197431431654], [53, 54.00893930295942], [54, 55.0076816066647], [55, 56.01049175626383], [56, 57.01155925462325], [57, 58.013966104935484], [58, 59.015727676388664], [59, 60.01612997987486], [60, 61.01899091531013], [61, 62.02095861750996], [62, 63.023650266824795], [63, 64.02345807728807], [64, 65.02511011066333], [65, 66.02733373364522], [66, 67.02956532303277], [67, 68.02982821441978], [68, 69.03211756024842]]\n"
     ]
    },
    {
     "name": "stderr",
     "output_type": "stream",
     "text": [
      "reconstraining parameters GP_regression.mul\n",
      "reconstraining parameters GP_regression.Gaussian_noise.variance\n"
     ]
    },
    {
     "name": "stdout",
     "output_type": "stream",
     "text": [
      "sampling end!. 2019-04-17 15:21:06.278443 2019-04-17 15:23:06.852363\n"
     ]
    },
    {
     "name": "stderr",
     "output_type": "stream",
     "text": [
      "[I 2019-04-17 15:23:07,868] Finished a trial resulted in value: -0.0949131968225615. Current best value is -0.3678504795545692 with parameters: {'a': 0.628575516140339, 'b': 0.6255697130800353, 'ab': [0.628575516140339, 0.6255697130800353]}.\n"
     ]
    },
    {
     "name": "stdout",
     "output_type": "stream",
     "text": [
      "2019-04-17 13:32:45.535397 2019-04-17 13:32:44.528432 0:00:00.000208\n",
      "2019-04-17 13:32:46.544049 2019-04-17 13:32:45.539577 0:00:00.000255\n",
      "2019-04-17 13:32:47.551702 2019-04-17 13:32:46.548077 0:00:00.000312\n",
      "2019-04-17 13:32:48.562685 2019-04-17 13:32:47.555801 0:00:00.000704\n",
      "2019-04-17 13:32:49.571595 2019-04-17 13:32:48.566388 0:00:00.000390\n",
      "2019-04-17 13:32:50.580238 2019-04-17 13:32:49.575298 0:00:00.000548\n",
      "2019-04-17 13:32:51.586422 2019-04-17 13:32:50.583475 0:00:00.000498\n",
      "2019-04-17 13:32:52.597042 2019-04-17 13:32:51.589940 0:00:00.000566\n",
      "2019-04-17 13:32:53.607390 2019-04-17 13:32:52.601836 0:00:00.000807\n",
      "2019-04-17 13:32:54.618539 2019-04-17 13:32:53.611387 0:00:00.000831\n",
      "2019-04-17 13:34:35.122242 2019-04-17 13:32:54.623813 0:01:39.493723\n",
      "2019-04-17 13:36:06.841772 2019-04-17 13:34:35.127388 0:01:30.710969\n",
      "2019-04-17 13:37:47.978833 2019-04-17 13:36:06.847609 0:01:40.124213\n",
      "2019-04-17 13:39:23.736225 2019-04-17 13:37:47.984325 0:01:34.748855\n",
      "2019-04-17 13:41:02.277467 2019-04-17 13:39:23.741729 0:01:37.531495\n",
      "2019-04-17 13:42:49.027379 2019-04-17 13:41:02.282765 0:01:45.739021\n",
      "2019-04-17 13:44:12.567658 2019-04-17 13:42:49.033075 0:01:22.527134\n",
      "2019-04-17 13:46:00.167530 2019-04-17 13:44:12.574396 0:01:46.589763\n",
      "2019-04-17 13:47:43.244229 2019-04-17 13:46:00.173749 0:01:42.065847\n",
      "2019-04-17 13:49:05.804982 2019-04-17 13:47:43.251344 0:01:21.549298\n",
      "2019-04-17 13:50:43.560259 2019-04-17 13:49:05.811815 0:01:36.744809\n",
      "2019-04-17 13:52:57.285626 2019-04-17 13:50:43.566362 0:02:12.717076\n",
      "2019-04-17 13:54:49.150780 2019-04-17 13:52:57.292908 0:01:50.850699\n",
      "2019-04-17 13:56:08.997671 2019-04-17 13:54:49.157619 0:01:18.836868\n",
      "2019-04-17 13:57:42.967280 2019-04-17 13:56:09.004677 0:01:32.961112\n",
      "2019-04-17 13:59:30.969727 2019-04-17 13:57:42.974637 0:01:46.989912\n",
      "2019-04-17 14:01:20.562652 2019-04-17 13:59:30.976434 0:01:48.579465\n",
      "2019-04-17 14:02:56.020329 2019-04-17 14:01:20.569600 0:01:34.447562\n",
      "2019-04-17 14:04:54.973702 2019-04-17 14:02:56.027981 0:01:57.940376\n",
      "2019-04-17 14:06:25.218921 2019-04-17 14:04:54.981432 0:01:29.230327\n",
      "2019-04-17 14:08:11.042810 2019-04-17 14:06:25.227910 0:01:44.812489\n",
      "2019-04-17 14:10:09.786447 2019-04-17 14:08:11.050107 0:01:57.734465\n",
      "2019-04-17 14:12:03.866770 2019-04-17 14:10:09.794211 0:01:53.069001\n",
      "2019-04-17 14:13:59.547424 2019-04-17 14:12:03.874431 0:01:54.667175\n",
      "2019-04-17 14:15:50.282620 2019-04-17 14:13:59.555178 0:01:49.725659\n",
      "2019-04-17 14:17:29.871802 2019-04-17 14:15:50.288872 0:01:38.578894\n",
      "2019-04-17 14:19:13.298968 2019-04-17 14:17:29.879649 0:01:42.415461\n",
      "2019-04-17 14:21:14.836276 2019-04-17 14:19:13.306950 0:02:00.527413\n",
      "2019-04-17 14:23:16.663054 2019-04-17 14:21:14.845227 0:02:00.811912\n",
      "2019-04-17 14:25:09.866602 2019-04-17 14:23:16.671587 0:01:52.189541\n",
      "2019-04-17 14:26:48.742325 2019-04-17 14:25:09.875328 0:01:37.862614\n",
      "2019-04-17 14:28:37.114982 2019-04-17 14:26:48.750813 0:01:47.357766\n",
      "2019-04-17 14:30:11.752872 2019-04-17 14:28:37.124364 0:01:33.624674\n",
      "2019-04-17 14:32:13.594553 2019-04-17 14:30:11.761072 0:02:00.830388\n",
      "2019-04-17 14:33:54.377060 2019-04-17 14:32:13.603926 0:01:39.770228\n",
      "2019-04-17 14:35:39.721296 2019-04-17 14:33:54.385493 0:01:44.332122\n",
      "2019-04-17 14:37:11.354143 2019-04-17 14:35:39.730414 0:01:30.620202\n",
      "2019-04-17 14:38:50.525980 2019-04-17 14:37:11.364252 0:01:38.155504\n",
      "2019-04-17 14:40:29.144778 2019-04-17 14:38:50.535300 0:01:37.607265\n",
      "2019-04-17 14:42:28.047041 2019-04-17 14:40:29.154021 0:01:57.887339\n",
      "2019-04-17 14:44:33.251192 2019-04-17 14:42:28.056306 0:02:04.190003\n",
      "2019-04-17 14:46:25.694151 2019-04-17 14:44:33.260987 0:01:51.428869\n",
      "2019-04-17 14:48:07.308746 2019-04-17 14:46:25.701556 0:01:40.603492\n",
      "2019-04-17 14:50:02.378871 2019-04-17 14:48:07.318925 0:01:54.054984\n",
      "2019-04-17 14:51:57.836530 2019-04-17 14:50:02.389231 0:01:54.444345\n",
      "2019-04-17 14:53:38.224402 2019-04-17 14:51:57.846648 0:01:39.370715\n",
      "2019-04-17 14:55:55.169377 2019-04-17 14:53:38.235174 0:02:15.928914\n",
      "2019-04-17 14:58:16.667379 2019-04-17 14:55:55.179693 0:02:20.481052\n",
      "2019-04-17 15:00:04.735039 2019-04-17 14:58:16.678351 0:01:47.050702\n",
      "2019-04-17 15:01:47.747135 2019-04-17 15:00:04.746126 0:01:41.996388\n",
      "2019-04-17 15:03:52.010945 2019-04-17 15:01:47.757793 0:02:03.246062\n",
      "2019-04-17 15:05:32.525072 2019-04-17 15:03:52.021668 0:01:39.497211\n",
      "2019-04-17 15:07:52.921570 2019-04-17 15:05:32.534322 0:02:19.380328\n",
      "2019-04-17 15:09:59.800415 2019-04-17 15:07:52.930064 0:02:05.866327\n",
      "2019-04-17 15:11:44.651730 2019-04-17 15:09:59.810272 0:01:43.835582\n",
      "2019-04-17 15:13:53.152336 2019-04-17 15:11:44.662907 0:02:07.482979\n",
      "2019-04-17 15:16:29.876512 2019-04-17 15:13:53.164203 0:02:35.705851\n",
      "2019-04-17 15:19:11.195504 2019-04-17 15:16:29.885244 0:02:40.305779\n",
      "2019-04-17 15:21:06.266149 2019-04-17 15:19:11.207347 0:01:54.052286\n",
      "2019-04-17 15:23:07.858353 2019-04-17 15:21:06.278414 0:02:00.573920\n",
      "[[0, 1.0], [1, 2.0], [2, 2.9990997961595953], [3, 4.001054552950209], [4, 5.001652033375256], [5, 6.001826298499227], [6, 7.000065722846756], [7, 8.002374984689565], [8, 9.002902759065021], [9, 10.004997923755521], [10, 11.005484870301936], [11, 12.00468623813379], [12, 13.007468505313094], [13, 14.006301426882834], [14, 15.006327317701254], [15, 16.00769753947603], [16, 17.010915967365623], [17, 18.010073519966305], [18, 19.01048777306101], [19, 20.01061025654814], [20, 21.010030700535843], [21, 22.008010220898477], [22, 23.010953807792546], [23, 24.009925145660755], [24, 25.007210592929624], [25, 26.00816755741041], [26, 27.01069290800694], [27, 28.00964731726311], [28, 29.0107705804622], [29, 30.013703213548474], [30, 31.011904797469075], [31, 32.009572632209974], [32, 33.008916399543125], [33, 34.010510676477296], [34, 35.00808689755302], [35, 36.007906657624794], [36, 37.007549165170474], [37, 38.005254840338296], [38, 39.006945709941185], [39, 40.008197431431654], [40, 41.00836273434925], [41, 42.010539554697836], [42, 43.01015816302651], [43, 44.00903888303026], [44, 45.00773338830153], [45, 46.00719963912182], [46, 47.00651253663302], [47, 48.0085111086548], [48, 49.006515524035144], [49, 50.00797337627226], [50, 51.00863657954406], [51, 52.008714251999315], [52, 53.008197431431654], [53, 54.00893930295942], [54, 55.0076816066647], [55, 56.01049175626383], [56, 57.01155925462325], [57, 58.013966104935484], [58, 59.015727676388664], [59, 60.01612997987486], [60, 61.01899091531013], [61, 62.02095861750996], [62, 63.023650266824795], [63, 64.02345807728807], [64, 65.02511011066333], [65, 66.02733373364522], [66, 67.02956532303277], [67, 68.02982821441978], [68, 69.03211756024842], [69, 70.03391199312499]]\n"
     ]
    },
    {
     "name": "stderr",
     "output_type": "stream",
     "text": [
      "reconstraining parameters GP_regression.mul\n",
      "reconstraining parameters GP_regression.Gaussian_noise.variance\n"
     ]
    },
    {
     "name": "stdout",
     "output_type": "stream",
     "text": [
      "sampling end!. 2019-04-17 15:23:07.870739 2019-04-17 15:25:26.385773\n"
     ]
    },
    {
     "name": "stderr",
     "output_type": "stream",
     "text": [
      "[I 2019-04-17 15:25:27,402] Finished a trial resulted in value: -0.0354715163181651. Current best value is -0.3678504795545692 with parameters: {'a': 0.628575516140339, 'b': 0.6255697130800353, 'ab': [0.628575516140339, 0.6255697130800353]}.\n"
     ]
    },
    {
     "name": "stdout",
     "output_type": "stream",
     "text": [
      "2019-04-17 13:32:45.535397 2019-04-17 13:32:44.528432 0:00:00.000208\n",
      "2019-04-17 13:32:46.544049 2019-04-17 13:32:45.539577 0:00:00.000255\n",
      "2019-04-17 13:32:47.551702 2019-04-17 13:32:46.548077 0:00:00.000312\n",
      "2019-04-17 13:32:48.562685 2019-04-17 13:32:47.555801 0:00:00.000704\n",
      "2019-04-17 13:32:49.571595 2019-04-17 13:32:48.566388 0:00:00.000390\n",
      "2019-04-17 13:32:50.580238 2019-04-17 13:32:49.575298 0:00:00.000548\n",
      "2019-04-17 13:32:51.586422 2019-04-17 13:32:50.583475 0:00:00.000498\n",
      "2019-04-17 13:32:52.597042 2019-04-17 13:32:51.589940 0:00:00.000566\n",
      "2019-04-17 13:32:53.607390 2019-04-17 13:32:52.601836 0:00:00.000807\n",
      "2019-04-17 13:32:54.618539 2019-04-17 13:32:53.611387 0:00:00.000831\n",
      "2019-04-17 13:34:35.122242 2019-04-17 13:32:54.623813 0:01:39.493723\n",
      "2019-04-17 13:36:06.841772 2019-04-17 13:34:35.127388 0:01:30.710969\n",
      "2019-04-17 13:37:47.978833 2019-04-17 13:36:06.847609 0:01:40.124213\n",
      "2019-04-17 13:39:23.736225 2019-04-17 13:37:47.984325 0:01:34.748855\n",
      "2019-04-17 13:41:02.277467 2019-04-17 13:39:23.741729 0:01:37.531495\n",
      "2019-04-17 13:42:49.027379 2019-04-17 13:41:02.282765 0:01:45.739021\n",
      "2019-04-17 13:44:12.567658 2019-04-17 13:42:49.033075 0:01:22.527134\n",
      "2019-04-17 13:46:00.167530 2019-04-17 13:44:12.574396 0:01:46.589763\n",
      "2019-04-17 13:47:43.244229 2019-04-17 13:46:00.173749 0:01:42.065847\n",
      "2019-04-17 13:49:05.804982 2019-04-17 13:47:43.251344 0:01:21.549298\n",
      "2019-04-17 13:50:43.560259 2019-04-17 13:49:05.811815 0:01:36.744809\n",
      "2019-04-17 13:52:57.285626 2019-04-17 13:50:43.566362 0:02:12.717076\n",
      "2019-04-17 13:54:49.150780 2019-04-17 13:52:57.292908 0:01:50.850699\n",
      "2019-04-17 13:56:08.997671 2019-04-17 13:54:49.157619 0:01:18.836868\n",
      "2019-04-17 13:57:42.967280 2019-04-17 13:56:09.004677 0:01:32.961112\n",
      "2019-04-17 13:59:30.969727 2019-04-17 13:57:42.974637 0:01:46.989912\n",
      "2019-04-17 14:01:20.562652 2019-04-17 13:59:30.976434 0:01:48.579465\n",
      "2019-04-17 14:02:56.020329 2019-04-17 14:01:20.569600 0:01:34.447562\n",
      "2019-04-17 14:04:54.973702 2019-04-17 14:02:56.027981 0:01:57.940376\n",
      "2019-04-17 14:06:25.218921 2019-04-17 14:04:54.981432 0:01:29.230327\n",
      "2019-04-17 14:08:11.042810 2019-04-17 14:06:25.227910 0:01:44.812489\n",
      "2019-04-17 14:10:09.786447 2019-04-17 14:08:11.050107 0:01:57.734465\n",
      "2019-04-17 14:12:03.866770 2019-04-17 14:10:09.794211 0:01:53.069001\n",
      "2019-04-17 14:13:59.547424 2019-04-17 14:12:03.874431 0:01:54.667175\n",
      "2019-04-17 14:15:50.282620 2019-04-17 14:13:59.555178 0:01:49.725659\n",
      "2019-04-17 14:17:29.871802 2019-04-17 14:15:50.288872 0:01:38.578894\n",
      "2019-04-17 14:19:13.298968 2019-04-17 14:17:29.879649 0:01:42.415461\n",
      "2019-04-17 14:21:14.836276 2019-04-17 14:19:13.306950 0:02:00.527413\n",
      "2019-04-17 14:23:16.663054 2019-04-17 14:21:14.845227 0:02:00.811912\n",
      "2019-04-17 14:25:09.866602 2019-04-17 14:23:16.671587 0:01:52.189541\n",
      "2019-04-17 14:26:48.742325 2019-04-17 14:25:09.875328 0:01:37.862614\n",
      "2019-04-17 14:28:37.114982 2019-04-17 14:26:48.750813 0:01:47.357766\n",
      "2019-04-17 14:30:11.752872 2019-04-17 14:28:37.124364 0:01:33.624674\n",
      "2019-04-17 14:32:13.594553 2019-04-17 14:30:11.761072 0:02:00.830388\n",
      "2019-04-17 14:33:54.377060 2019-04-17 14:32:13.603926 0:01:39.770228\n",
      "2019-04-17 14:35:39.721296 2019-04-17 14:33:54.385493 0:01:44.332122\n",
      "2019-04-17 14:37:11.354143 2019-04-17 14:35:39.730414 0:01:30.620202\n",
      "2019-04-17 14:38:50.525980 2019-04-17 14:37:11.364252 0:01:38.155504\n",
      "2019-04-17 14:40:29.144778 2019-04-17 14:38:50.535300 0:01:37.607265\n",
      "2019-04-17 14:42:28.047041 2019-04-17 14:40:29.154021 0:01:57.887339\n",
      "2019-04-17 14:44:33.251192 2019-04-17 14:42:28.056306 0:02:04.190003\n",
      "2019-04-17 14:46:25.694151 2019-04-17 14:44:33.260987 0:01:51.428869\n",
      "2019-04-17 14:48:07.308746 2019-04-17 14:46:25.701556 0:01:40.603492\n",
      "2019-04-17 14:50:02.378871 2019-04-17 14:48:07.318925 0:01:54.054984\n",
      "2019-04-17 14:51:57.836530 2019-04-17 14:50:02.389231 0:01:54.444345\n",
      "2019-04-17 14:53:38.224402 2019-04-17 14:51:57.846648 0:01:39.370715\n",
      "2019-04-17 14:55:55.169377 2019-04-17 14:53:38.235174 0:02:15.928914\n",
      "2019-04-17 14:58:16.667379 2019-04-17 14:55:55.179693 0:02:20.481052\n",
      "2019-04-17 15:00:04.735039 2019-04-17 14:58:16.678351 0:01:47.050702\n",
      "2019-04-17 15:01:47.747135 2019-04-17 15:00:04.746126 0:01:41.996388\n",
      "2019-04-17 15:03:52.010945 2019-04-17 15:01:47.757793 0:02:03.246062\n",
      "2019-04-17 15:05:32.525072 2019-04-17 15:03:52.021668 0:01:39.497211\n",
      "2019-04-17 15:07:52.921570 2019-04-17 15:05:32.534322 0:02:19.380328\n",
      "2019-04-17 15:09:59.800415 2019-04-17 15:07:52.930064 0:02:05.866327\n",
      "2019-04-17 15:11:44.651730 2019-04-17 15:09:59.810272 0:01:43.835582\n",
      "2019-04-17 15:13:53.152336 2019-04-17 15:11:44.662907 0:02:07.482979\n",
      "2019-04-17 15:16:29.876512 2019-04-17 15:13:53.164203 0:02:35.705851\n",
      "2019-04-17 15:19:11.195504 2019-04-17 15:16:29.885244 0:02:40.305779\n",
      "2019-04-17 15:21:06.266149 2019-04-17 15:19:11.207347 0:01:54.052286\n",
      "2019-04-17 15:23:07.858353 2019-04-17 15:21:06.278414 0:02:00.573920\n",
      "2019-04-17 15:25:27.392290 2019-04-17 15:23:07.870711 0:02:18.515034\n",
      "[[0, 1.0], [1, 2.0], [2, 2.9990997961595953], [3, 4.001054552950209], [4, 5.001652033375256], [5, 6.001826298499227], [6, 7.000065722846756], [7, 8.002374984689565], [8, 9.002902759065021], [9, 10.004997923755521], [10, 11.005484870301936], [11, 12.00468623813379], [12, 13.007468505313094], [13, 14.006301426882834], [14, 15.006327317701254], [15, 16.00769753947603], [16, 17.010915967365623], [17, 18.010073519966305], [18, 19.01048777306101], [19, 20.01061025654814], [20, 21.010030700535843], [21, 22.008010220898477], [22, 23.010953807792546], [23, 24.009925145660755], [24, 25.007210592929624], [25, 26.00816755741041], [26, 27.01069290800694], [27, 28.00964731726311], [28, 29.0107705804622], [29, 30.013703213548474], [30, 31.011904797469075], [31, 32.009572632209974], [32, 33.008916399543125], [33, 34.010510676477296], [34, 35.00808689755302], [35, 36.007906657624794], [36, 37.007549165170474], [37, 38.005254840338296], [38, 39.006945709941185], [39, 40.008197431431654], [40, 41.00836273434925], [41, 42.010539554697836], [42, 43.01015816302651], [43, 44.00903888303026], [44, 45.00773338830153], [45, 46.00719963912182], [46, 47.00651253663302], [47, 48.0085111086548], [48, 49.006515524035144], [49, 50.00797337627226], [50, 51.00863657954406], [51, 52.008714251999315], [52, 53.008197431431654], [53, 54.00893930295942], [54, 55.0076816066647], [55, 56.01049175626383], [56, 57.01155925462325], [57, 58.013966104935484], [58, 59.015727676388664], [59, 60.01612997987486], [60, 61.01899091531013], [61, 62.02095861750996], [62, 63.023650266824795], [63, 64.02345807728807], [64, 65.02511011066333], [65, 66.02733373364522], [66, 67.02956532303277], [67, 68.02982821441978], [68, 69.03211756024842], [69, 70.03391199312499], [70, 71.03623021717416]]\n"
     ]
    },
    {
     "name": "stderr",
     "output_type": "stream",
     "text": [
      "reconstraining parameters GP_regression.mul\n",
      "reconstraining parameters GP_regression.Gaussian_noise.variance\n"
     ]
    },
    {
     "name": "stdout",
     "output_type": "stream",
     "text": [
      "sampling end!. 2019-04-17 15:25:27.404878 2019-04-17 15:27:36.648304\n"
     ]
    },
    {
     "name": "stderr",
     "output_type": "stream",
     "text": [
      "[I 2019-04-17 15:27:37,660] Finished a trial resulted in value: 0.12914205819308774. Current best value is -0.3678504795545692 with parameters: {'a': 0.628575516140339, 'b': 0.6255697130800353, 'ab': [0.628575516140339, 0.6255697130800353]}.\n"
     ]
    },
    {
     "name": "stdout",
     "output_type": "stream",
     "text": [
      "2019-04-17 13:32:45.535397 2019-04-17 13:32:44.528432 0:00:00.000208\n",
      "2019-04-17 13:32:46.544049 2019-04-17 13:32:45.539577 0:00:00.000255\n",
      "2019-04-17 13:32:47.551702 2019-04-17 13:32:46.548077 0:00:00.000312\n",
      "2019-04-17 13:32:48.562685 2019-04-17 13:32:47.555801 0:00:00.000704\n",
      "2019-04-17 13:32:49.571595 2019-04-17 13:32:48.566388 0:00:00.000390\n",
      "2019-04-17 13:32:50.580238 2019-04-17 13:32:49.575298 0:00:00.000548\n",
      "2019-04-17 13:32:51.586422 2019-04-17 13:32:50.583475 0:00:00.000498\n",
      "2019-04-17 13:32:52.597042 2019-04-17 13:32:51.589940 0:00:00.000566\n",
      "2019-04-17 13:32:53.607390 2019-04-17 13:32:52.601836 0:00:00.000807\n",
      "2019-04-17 13:32:54.618539 2019-04-17 13:32:53.611387 0:00:00.000831\n",
      "2019-04-17 13:34:35.122242 2019-04-17 13:32:54.623813 0:01:39.493723\n",
      "2019-04-17 13:36:06.841772 2019-04-17 13:34:35.127388 0:01:30.710969\n",
      "2019-04-17 13:37:47.978833 2019-04-17 13:36:06.847609 0:01:40.124213\n",
      "2019-04-17 13:39:23.736225 2019-04-17 13:37:47.984325 0:01:34.748855\n",
      "2019-04-17 13:41:02.277467 2019-04-17 13:39:23.741729 0:01:37.531495\n",
      "2019-04-17 13:42:49.027379 2019-04-17 13:41:02.282765 0:01:45.739021\n",
      "2019-04-17 13:44:12.567658 2019-04-17 13:42:49.033075 0:01:22.527134\n",
      "2019-04-17 13:46:00.167530 2019-04-17 13:44:12.574396 0:01:46.589763\n",
      "2019-04-17 13:47:43.244229 2019-04-17 13:46:00.173749 0:01:42.065847\n",
      "2019-04-17 13:49:05.804982 2019-04-17 13:47:43.251344 0:01:21.549298\n",
      "2019-04-17 13:50:43.560259 2019-04-17 13:49:05.811815 0:01:36.744809\n",
      "2019-04-17 13:52:57.285626 2019-04-17 13:50:43.566362 0:02:12.717076\n",
      "2019-04-17 13:54:49.150780 2019-04-17 13:52:57.292908 0:01:50.850699\n",
      "2019-04-17 13:56:08.997671 2019-04-17 13:54:49.157619 0:01:18.836868\n",
      "2019-04-17 13:57:42.967280 2019-04-17 13:56:09.004677 0:01:32.961112\n",
      "2019-04-17 13:59:30.969727 2019-04-17 13:57:42.974637 0:01:46.989912\n",
      "2019-04-17 14:01:20.562652 2019-04-17 13:59:30.976434 0:01:48.579465\n",
      "2019-04-17 14:02:56.020329 2019-04-17 14:01:20.569600 0:01:34.447562\n",
      "2019-04-17 14:04:54.973702 2019-04-17 14:02:56.027981 0:01:57.940376\n",
      "2019-04-17 14:06:25.218921 2019-04-17 14:04:54.981432 0:01:29.230327\n",
      "2019-04-17 14:08:11.042810 2019-04-17 14:06:25.227910 0:01:44.812489\n",
      "2019-04-17 14:10:09.786447 2019-04-17 14:08:11.050107 0:01:57.734465\n",
      "2019-04-17 14:12:03.866770 2019-04-17 14:10:09.794211 0:01:53.069001\n",
      "2019-04-17 14:13:59.547424 2019-04-17 14:12:03.874431 0:01:54.667175\n",
      "2019-04-17 14:15:50.282620 2019-04-17 14:13:59.555178 0:01:49.725659\n",
      "2019-04-17 14:17:29.871802 2019-04-17 14:15:50.288872 0:01:38.578894\n",
      "2019-04-17 14:19:13.298968 2019-04-17 14:17:29.879649 0:01:42.415461\n",
      "2019-04-17 14:21:14.836276 2019-04-17 14:19:13.306950 0:02:00.527413\n",
      "2019-04-17 14:23:16.663054 2019-04-17 14:21:14.845227 0:02:00.811912\n",
      "2019-04-17 14:25:09.866602 2019-04-17 14:23:16.671587 0:01:52.189541\n",
      "2019-04-17 14:26:48.742325 2019-04-17 14:25:09.875328 0:01:37.862614\n",
      "2019-04-17 14:28:37.114982 2019-04-17 14:26:48.750813 0:01:47.357766\n",
      "2019-04-17 14:30:11.752872 2019-04-17 14:28:37.124364 0:01:33.624674\n",
      "2019-04-17 14:32:13.594553 2019-04-17 14:30:11.761072 0:02:00.830388\n",
      "2019-04-17 14:33:54.377060 2019-04-17 14:32:13.603926 0:01:39.770228\n",
      "2019-04-17 14:35:39.721296 2019-04-17 14:33:54.385493 0:01:44.332122\n",
      "2019-04-17 14:37:11.354143 2019-04-17 14:35:39.730414 0:01:30.620202\n",
      "2019-04-17 14:38:50.525980 2019-04-17 14:37:11.364252 0:01:38.155504\n",
      "2019-04-17 14:40:29.144778 2019-04-17 14:38:50.535300 0:01:37.607265\n",
      "2019-04-17 14:42:28.047041 2019-04-17 14:40:29.154021 0:01:57.887339\n",
      "2019-04-17 14:44:33.251192 2019-04-17 14:42:28.056306 0:02:04.190003\n",
      "2019-04-17 14:46:25.694151 2019-04-17 14:44:33.260987 0:01:51.428869\n",
      "2019-04-17 14:48:07.308746 2019-04-17 14:46:25.701556 0:01:40.603492\n",
      "2019-04-17 14:50:02.378871 2019-04-17 14:48:07.318925 0:01:54.054984\n",
      "2019-04-17 14:51:57.836530 2019-04-17 14:50:02.389231 0:01:54.444345\n",
      "2019-04-17 14:53:38.224402 2019-04-17 14:51:57.846648 0:01:39.370715\n",
      "2019-04-17 14:55:55.169377 2019-04-17 14:53:38.235174 0:02:15.928914\n",
      "2019-04-17 14:58:16.667379 2019-04-17 14:55:55.179693 0:02:20.481052\n",
      "2019-04-17 15:00:04.735039 2019-04-17 14:58:16.678351 0:01:47.050702\n",
      "2019-04-17 15:01:47.747135 2019-04-17 15:00:04.746126 0:01:41.996388\n",
      "2019-04-17 15:03:52.010945 2019-04-17 15:01:47.757793 0:02:03.246062\n",
      "2019-04-17 15:05:32.525072 2019-04-17 15:03:52.021668 0:01:39.497211\n",
      "2019-04-17 15:07:52.921570 2019-04-17 15:05:32.534322 0:02:19.380328\n",
      "2019-04-17 15:09:59.800415 2019-04-17 15:07:52.930064 0:02:05.866327\n",
      "2019-04-17 15:11:44.651730 2019-04-17 15:09:59.810272 0:01:43.835582\n",
      "2019-04-17 15:13:53.152336 2019-04-17 15:11:44.662907 0:02:07.482979\n",
      "2019-04-17 15:16:29.876512 2019-04-17 15:13:53.164203 0:02:35.705851\n",
      "2019-04-17 15:19:11.195504 2019-04-17 15:16:29.885244 0:02:40.305779\n",
      "2019-04-17 15:21:06.266149 2019-04-17 15:19:11.207347 0:01:54.052286\n",
      "2019-04-17 15:23:07.858353 2019-04-17 15:21:06.278414 0:02:00.573920\n",
      "2019-04-17 15:25:27.392290 2019-04-17 15:23:07.870711 0:02:18.515034\n",
      "2019-04-17 15:27:37.650552 2019-04-17 15:25:27.404847 0:02:09.243426\n",
      "[[0, 1.0], [1, 2.0], [2, 2.9990997961595953], [3, 4.001054552950209], [4, 5.001652033375256], [5, 6.001826298499227], [6, 7.000065722846756], [7, 8.002374984689565], [8, 9.002902759065021], [9, 10.004997923755521], [10, 11.005484870301936], [11, 12.00468623813379], [12, 13.007468505313094], [13, 14.006301426882834], [14, 15.006327317701254], [15, 16.00769753947603], [16, 17.010915967365623], [17, 18.010073519966305], [18, 19.01048777306101], [19, 20.01061025654814], [20, 21.010030700535843], [21, 22.008010220898477], [22, 23.010953807792546], [23, 24.009925145660755], [24, 25.007210592929624], [25, 26.00816755741041], [26, 27.01069290800694], [27, 28.00964731726311], [28, 29.0107705804622], [29, 30.013703213548474], [30, 31.011904797469075], [31, 32.009572632209974], [32, 33.008916399543125], [33, 34.010510676477296], [34, 35.00808689755302], [35, 36.007906657624794], [36, 37.007549165170474], [37, 38.005254840338296], [38, 39.006945709941185], [39, 40.008197431431654], [40, 41.00836273434925], [41, 42.010539554697836], [42, 43.01015816302651], [43, 44.00903888303026], [44, 45.00773338830153], [45, 46.00719963912182], [46, 47.00651253663302], [47, 48.0085111086548], [48, 49.006515524035144], [49, 50.00797337627226], [50, 51.00863657954406], [51, 52.008714251999315], [52, 53.008197431431654], [53, 54.00893930295942], [54, 55.0076816066647], [55, 56.01049175626383], [56, 57.01155925462325], [57, 58.013966104935484], [58, 59.015727676388664], [59, 60.01612997987486], [60, 61.01899091531013], [61, 62.02095861750996], [62, 63.023650266824795], [63, 64.02345807728807], [64, 65.02511011066333], [65, 66.02733373364522], [66, 67.02956532303277], [67, 68.02982821441978], [68, 69.03211756024842], [69, 70.03391199312499], [70, 71.03623021717416], [71, 72.03430035540127]]\n"
     ]
    },
    {
     "name": "stderr",
     "output_type": "stream",
     "text": [
      "reconstraining parameters GP_regression.mul\n",
      "reconstraining parameters GP_regression.Gaussian_noise.variance\n"
     ]
    },
    {
     "name": "stdout",
     "output_type": "stream",
     "text": [
      "sampling end!. 2019-04-17 15:27:37.662554 2019-04-17 15:30:01.274435\n"
     ]
    },
    {
     "name": "stderr",
     "output_type": "stream",
     "text": [
      "[I 2019-04-17 15:30:02,286] Finished a trial resulted in value: -0.07252608321980314. Current best value is -0.3678504795545692 with parameters: {'a': 0.628575516140339, 'b': 0.6255697130800353, 'ab': [0.628575516140339, 0.6255697130800353]}.\n"
     ]
    },
    {
     "name": "stdout",
     "output_type": "stream",
     "text": [
      "2019-04-17 13:32:45.535397 2019-04-17 13:32:44.528432 0:00:00.000208\n",
      "2019-04-17 13:32:46.544049 2019-04-17 13:32:45.539577 0:00:00.000255\n",
      "2019-04-17 13:32:47.551702 2019-04-17 13:32:46.548077 0:00:00.000312\n",
      "2019-04-17 13:32:48.562685 2019-04-17 13:32:47.555801 0:00:00.000704\n",
      "2019-04-17 13:32:49.571595 2019-04-17 13:32:48.566388 0:00:00.000390\n",
      "2019-04-17 13:32:50.580238 2019-04-17 13:32:49.575298 0:00:00.000548\n",
      "2019-04-17 13:32:51.586422 2019-04-17 13:32:50.583475 0:00:00.000498\n",
      "2019-04-17 13:32:52.597042 2019-04-17 13:32:51.589940 0:00:00.000566\n",
      "2019-04-17 13:32:53.607390 2019-04-17 13:32:52.601836 0:00:00.000807\n",
      "2019-04-17 13:32:54.618539 2019-04-17 13:32:53.611387 0:00:00.000831\n",
      "2019-04-17 13:34:35.122242 2019-04-17 13:32:54.623813 0:01:39.493723\n",
      "2019-04-17 13:36:06.841772 2019-04-17 13:34:35.127388 0:01:30.710969\n",
      "2019-04-17 13:37:47.978833 2019-04-17 13:36:06.847609 0:01:40.124213\n",
      "2019-04-17 13:39:23.736225 2019-04-17 13:37:47.984325 0:01:34.748855\n",
      "2019-04-17 13:41:02.277467 2019-04-17 13:39:23.741729 0:01:37.531495\n",
      "2019-04-17 13:42:49.027379 2019-04-17 13:41:02.282765 0:01:45.739021\n",
      "2019-04-17 13:44:12.567658 2019-04-17 13:42:49.033075 0:01:22.527134\n",
      "2019-04-17 13:46:00.167530 2019-04-17 13:44:12.574396 0:01:46.589763\n",
      "2019-04-17 13:47:43.244229 2019-04-17 13:46:00.173749 0:01:42.065847\n",
      "2019-04-17 13:49:05.804982 2019-04-17 13:47:43.251344 0:01:21.549298\n",
      "2019-04-17 13:50:43.560259 2019-04-17 13:49:05.811815 0:01:36.744809\n",
      "2019-04-17 13:52:57.285626 2019-04-17 13:50:43.566362 0:02:12.717076\n",
      "2019-04-17 13:54:49.150780 2019-04-17 13:52:57.292908 0:01:50.850699\n",
      "2019-04-17 13:56:08.997671 2019-04-17 13:54:49.157619 0:01:18.836868\n",
      "2019-04-17 13:57:42.967280 2019-04-17 13:56:09.004677 0:01:32.961112\n",
      "2019-04-17 13:59:30.969727 2019-04-17 13:57:42.974637 0:01:46.989912\n",
      "2019-04-17 14:01:20.562652 2019-04-17 13:59:30.976434 0:01:48.579465\n",
      "2019-04-17 14:02:56.020329 2019-04-17 14:01:20.569600 0:01:34.447562\n",
      "2019-04-17 14:04:54.973702 2019-04-17 14:02:56.027981 0:01:57.940376\n",
      "2019-04-17 14:06:25.218921 2019-04-17 14:04:54.981432 0:01:29.230327\n",
      "2019-04-17 14:08:11.042810 2019-04-17 14:06:25.227910 0:01:44.812489\n",
      "2019-04-17 14:10:09.786447 2019-04-17 14:08:11.050107 0:01:57.734465\n",
      "2019-04-17 14:12:03.866770 2019-04-17 14:10:09.794211 0:01:53.069001\n",
      "2019-04-17 14:13:59.547424 2019-04-17 14:12:03.874431 0:01:54.667175\n",
      "2019-04-17 14:15:50.282620 2019-04-17 14:13:59.555178 0:01:49.725659\n",
      "2019-04-17 14:17:29.871802 2019-04-17 14:15:50.288872 0:01:38.578894\n",
      "2019-04-17 14:19:13.298968 2019-04-17 14:17:29.879649 0:01:42.415461\n",
      "2019-04-17 14:21:14.836276 2019-04-17 14:19:13.306950 0:02:00.527413\n",
      "2019-04-17 14:23:16.663054 2019-04-17 14:21:14.845227 0:02:00.811912\n",
      "2019-04-17 14:25:09.866602 2019-04-17 14:23:16.671587 0:01:52.189541\n",
      "2019-04-17 14:26:48.742325 2019-04-17 14:25:09.875328 0:01:37.862614\n",
      "2019-04-17 14:28:37.114982 2019-04-17 14:26:48.750813 0:01:47.357766\n",
      "2019-04-17 14:30:11.752872 2019-04-17 14:28:37.124364 0:01:33.624674\n",
      "2019-04-17 14:32:13.594553 2019-04-17 14:30:11.761072 0:02:00.830388\n",
      "2019-04-17 14:33:54.377060 2019-04-17 14:32:13.603926 0:01:39.770228\n",
      "2019-04-17 14:35:39.721296 2019-04-17 14:33:54.385493 0:01:44.332122\n",
      "2019-04-17 14:37:11.354143 2019-04-17 14:35:39.730414 0:01:30.620202\n",
      "2019-04-17 14:38:50.525980 2019-04-17 14:37:11.364252 0:01:38.155504\n",
      "2019-04-17 14:40:29.144778 2019-04-17 14:38:50.535300 0:01:37.607265\n",
      "2019-04-17 14:42:28.047041 2019-04-17 14:40:29.154021 0:01:57.887339\n",
      "2019-04-17 14:44:33.251192 2019-04-17 14:42:28.056306 0:02:04.190003\n",
      "2019-04-17 14:46:25.694151 2019-04-17 14:44:33.260987 0:01:51.428869\n",
      "2019-04-17 14:48:07.308746 2019-04-17 14:46:25.701556 0:01:40.603492\n",
      "2019-04-17 14:50:02.378871 2019-04-17 14:48:07.318925 0:01:54.054984\n",
      "2019-04-17 14:51:57.836530 2019-04-17 14:50:02.389231 0:01:54.444345\n",
      "2019-04-17 14:53:38.224402 2019-04-17 14:51:57.846648 0:01:39.370715\n",
      "2019-04-17 14:55:55.169377 2019-04-17 14:53:38.235174 0:02:15.928914\n",
      "2019-04-17 14:58:16.667379 2019-04-17 14:55:55.179693 0:02:20.481052\n",
      "2019-04-17 15:00:04.735039 2019-04-17 14:58:16.678351 0:01:47.050702\n",
      "2019-04-17 15:01:47.747135 2019-04-17 15:00:04.746126 0:01:41.996388\n",
      "2019-04-17 15:03:52.010945 2019-04-17 15:01:47.757793 0:02:03.246062\n",
      "2019-04-17 15:05:32.525072 2019-04-17 15:03:52.021668 0:01:39.497211\n",
      "2019-04-17 15:07:52.921570 2019-04-17 15:05:32.534322 0:02:19.380328\n",
      "2019-04-17 15:09:59.800415 2019-04-17 15:07:52.930064 0:02:05.866327\n",
      "2019-04-17 15:11:44.651730 2019-04-17 15:09:59.810272 0:01:43.835582\n",
      "2019-04-17 15:13:53.152336 2019-04-17 15:11:44.662907 0:02:07.482979\n",
      "2019-04-17 15:16:29.876512 2019-04-17 15:13:53.164203 0:02:35.705851\n",
      "2019-04-17 15:19:11.195504 2019-04-17 15:16:29.885244 0:02:40.305779\n",
      "2019-04-17 15:21:06.266149 2019-04-17 15:19:11.207347 0:01:54.052286\n",
      "2019-04-17 15:23:07.858353 2019-04-17 15:21:06.278414 0:02:00.573920\n",
      "2019-04-17 15:25:27.392290 2019-04-17 15:23:07.870711 0:02:18.515034\n",
      "2019-04-17 15:27:37.650552 2019-04-17 15:25:27.404847 0:02:09.243426\n",
      "2019-04-17 15:30:02.276457 2019-04-17 15:27:37.662524 0:02:23.611881\n",
      "[[0, 1.0], [1, 2.0], [2, 2.9990997961595953], [3, 4.001054552950209], [4, 5.001652033375256], [5, 6.001826298499227], [6, 7.000065722846756], [7, 8.002374984689565], [8, 9.002902759065021], [9, 10.004997923755521], [10, 11.005484870301936], [11, 12.00468623813379], [12, 13.007468505313094], [13, 14.006301426882834], [14, 15.006327317701254], [15, 16.00769753947603], [16, 17.010915967365623], [17, 18.010073519966305], [18, 19.01048777306101], [19, 20.01061025654814], [20, 21.010030700535843], [21, 22.008010220898477], [22, 23.010953807792546], [23, 24.009925145660755], [24, 25.007210592929624], [25, 26.00816755741041], [26, 27.01069290800694], [27, 28.00964731726311], [28, 29.0107705804622], [29, 30.013703213548474], [30, 31.011904797469075], [31, 32.009572632209974], [32, 33.008916399543125], [33, 34.010510676477296], [34, 35.00808689755302], [35, 36.007906657624794], [36, 37.007549165170474], [37, 38.005254840338296], [38, 39.006945709941185], [39, 40.008197431431654], [40, 41.00836273434925], [41, 42.010539554697836], [42, 43.01015816302651], [43, 44.00903888303026], [44, 45.00773338830153], [45, 46.00719963912182], [46, 47.00651253663302], [47, 48.0085111086548], [48, 49.006515524035144], [49, 50.00797337627226], [50, 51.00863657954406], [51, 52.008714251999315], [52, 53.008197431431654], [53, 54.00893930295942], [54, 55.0076816066647], [55, 56.01049175626383], [56, 57.01155925462325], [57, 58.013966104935484], [58, 59.015727676388664], [59, 60.01612997987486], [60, 61.01899091531013], [61, 62.02095861750996], [62, 63.023650266824795], [63, 64.02345807728807], [64, 65.02511011066333], [65, 66.02733373364522], [66, 67.02956532303277], [67, 68.02982821441978], [68, 69.03211756024842], [69, 70.03391199312499], [70, 71.03623021717416], [71, 72.03430035540127], [72, 73.03214444686756]]\n"
     ]
    },
    {
     "name": "stderr",
     "output_type": "stream",
     "text": [
      "reconstraining parameters GP_regression.mul\n",
      "reconstraining parameters GP_regression.Gaussian_noise.variance\n"
     ]
    },
    {
     "name": "stdout",
     "output_type": "stream",
     "text": [
      "sampling end!. 2019-04-17 15:30:02.288797 2019-04-17 15:32:16.899185\n"
     ]
    },
    {
     "name": "stderr",
     "output_type": "stream",
     "text": [
      "[I 2019-04-17 15:32:17,912] Finished a trial resulted in value: -0.2503697768040224. Current best value is -0.3678504795545692 with parameters: {'a': 0.628575516140339, 'b': 0.6255697130800353, 'ab': [0.628575516140339, 0.6255697130800353]}.\n"
     ]
    },
    {
     "name": "stdout",
     "output_type": "stream",
     "text": [
      "2019-04-17 13:32:45.535397 2019-04-17 13:32:44.528432 0:00:00.000208\n",
      "2019-04-17 13:32:46.544049 2019-04-17 13:32:45.539577 0:00:00.000255\n",
      "2019-04-17 13:32:47.551702 2019-04-17 13:32:46.548077 0:00:00.000312\n",
      "2019-04-17 13:32:48.562685 2019-04-17 13:32:47.555801 0:00:00.000704\n",
      "2019-04-17 13:32:49.571595 2019-04-17 13:32:48.566388 0:00:00.000390\n",
      "2019-04-17 13:32:50.580238 2019-04-17 13:32:49.575298 0:00:00.000548\n",
      "2019-04-17 13:32:51.586422 2019-04-17 13:32:50.583475 0:00:00.000498\n",
      "2019-04-17 13:32:52.597042 2019-04-17 13:32:51.589940 0:00:00.000566\n",
      "2019-04-17 13:32:53.607390 2019-04-17 13:32:52.601836 0:00:00.000807\n",
      "2019-04-17 13:32:54.618539 2019-04-17 13:32:53.611387 0:00:00.000831\n",
      "2019-04-17 13:34:35.122242 2019-04-17 13:32:54.623813 0:01:39.493723\n",
      "2019-04-17 13:36:06.841772 2019-04-17 13:34:35.127388 0:01:30.710969\n",
      "2019-04-17 13:37:47.978833 2019-04-17 13:36:06.847609 0:01:40.124213\n",
      "2019-04-17 13:39:23.736225 2019-04-17 13:37:47.984325 0:01:34.748855\n",
      "2019-04-17 13:41:02.277467 2019-04-17 13:39:23.741729 0:01:37.531495\n",
      "2019-04-17 13:42:49.027379 2019-04-17 13:41:02.282765 0:01:45.739021\n",
      "2019-04-17 13:44:12.567658 2019-04-17 13:42:49.033075 0:01:22.527134\n",
      "2019-04-17 13:46:00.167530 2019-04-17 13:44:12.574396 0:01:46.589763\n",
      "2019-04-17 13:47:43.244229 2019-04-17 13:46:00.173749 0:01:42.065847\n",
      "2019-04-17 13:49:05.804982 2019-04-17 13:47:43.251344 0:01:21.549298\n",
      "2019-04-17 13:50:43.560259 2019-04-17 13:49:05.811815 0:01:36.744809\n",
      "2019-04-17 13:52:57.285626 2019-04-17 13:50:43.566362 0:02:12.717076\n",
      "2019-04-17 13:54:49.150780 2019-04-17 13:52:57.292908 0:01:50.850699\n",
      "2019-04-17 13:56:08.997671 2019-04-17 13:54:49.157619 0:01:18.836868\n",
      "2019-04-17 13:57:42.967280 2019-04-17 13:56:09.004677 0:01:32.961112\n",
      "2019-04-17 13:59:30.969727 2019-04-17 13:57:42.974637 0:01:46.989912\n",
      "2019-04-17 14:01:20.562652 2019-04-17 13:59:30.976434 0:01:48.579465\n",
      "2019-04-17 14:02:56.020329 2019-04-17 14:01:20.569600 0:01:34.447562\n",
      "2019-04-17 14:04:54.973702 2019-04-17 14:02:56.027981 0:01:57.940376\n",
      "2019-04-17 14:06:25.218921 2019-04-17 14:04:54.981432 0:01:29.230327\n",
      "2019-04-17 14:08:11.042810 2019-04-17 14:06:25.227910 0:01:44.812489\n",
      "2019-04-17 14:10:09.786447 2019-04-17 14:08:11.050107 0:01:57.734465\n",
      "2019-04-17 14:12:03.866770 2019-04-17 14:10:09.794211 0:01:53.069001\n",
      "2019-04-17 14:13:59.547424 2019-04-17 14:12:03.874431 0:01:54.667175\n",
      "2019-04-17 14:15:50.282620 2019-04-17 14:13:59.555178 0:01:49.725659\n",
      "2019-04-17 14:17:29.871802 2019-04-17 14:15:50.288872 0:01:38.578894\n",
      "2019-04-17 14:19:13.298968 2019-04-17 14:17:29.879649 0:01:42.415461\n",
      "2019-04-17 14:21:14.836276 2019-04-17 14:19:13.306950 0:02:00.527413\n",
      "2019-04-17 14:23:16.663054 2019-04-17 14:21:14.845227 0:02:00.811912\n",
      "2019-04-17 14:25:09.866602 2019-04-17 14:23:16.671587 0:01:52.189541\n",
      "2019-04-17 14:26:48.742325 2019-04-17 14:25:09.875328 0:01:37.862614\n",
      "2019-04-17 14:28:37.114982 2019-04-17 14:26:48.750813 0:01:47.357766\n",
      "2019-04-17 14:30:11.752872 2019-04-17 14:28:37.124364 0:01:33.624674\n",
      "2019-04-17 14:32:13.594553 2019-04-17 14:30:11.761072 0:02:00.830388\n",
      "2019-04-17 14:33:54.377060 2019-04-17 14:32:13.603926 0:01:39.770228\n",
      "2019-04-17 14:35:39.721296 2019-04-17 14:33:54.385493 0:01:44.332122\n",
      "2019-04-17 14:37:11.354143 2019-04-17 14:35:39.730414 0:01:30.620202\n",
      "2019-04-17 14:38:50.525980 2019-04-17 14:37:11.364252 0:01:38.155504\n",
      "2019-04-17 14:40:29.144778 2019-04-17 14:38:50.535300 0:01:37.607265\n",
      "2019-04-17 14:42:28.047041 2019-04-17 14:40:29.154021 0:01:57.887339\n",
      "2019-04-17 14:44:33.251192 2019-04-17 14:42:28.056306 0:02:04.190003\n",
      "2019-04-17 14:46:25.694151 2019-04-17 14:44:33.260987 0:01:51.428869\n",
      "2019-04-17 14:48:07.308746 2019-04-17 14:46:25.701556 0:01:40.603492\n",
      "2019-04-17 14:50:02.378871 2019-04-17 14:48:07.318925 0:01:54.054984\n",
      "2019-04-17 14:51:57.836530 2019-04-17 14:50:02.389231 0:01:54.444345\n",
      "2019-04-17 14:53:38.224402 2019-04-17 14:51:57.846648 0:01:39.370715\n",
      "2019-04-17 14:55:55.169377 2019-04-17 14:53:38.235174 0:02:15.928914\n",
      "2019-04-17 14:58:16.667379 2019-04-17 14:55:55.179693 0:02:20.481052\n",
      "2019-04-17 15:00:04.735039 2019-04-17 14:58:16.678351 0:01:47.050702\n",
      "2019-04-17 15:01:47.747135 2019-04-17 15:00:04.746126 0:01:41.996388\n",
      "2019-04-17 15:03:52.010945 2019-04-17 15:01:47.757793 0:02:03.246062\n",
      "2019-04-17 15:05:32.525072 2019-04-17 15:03:52.021668 0:01:39.497211\n",
      "2019-04-17 15:07:52.921570 2019-04-17 15:05:32.534322 0:02:19.380328\n",
      "2019-04-17 15:09:59.800415 2019-04-17 15:07:52.930064 0:02:05.866327\n",
      "2019-04-17 15:11:44.651730 2019-04-17 15:09:59.810272 0:01:43.835582\n",
      "2019-04-17 15:13:53.152336 2019-04-17 15:11:44.662907 0:02:07.482979\n",
      "2019-04-17 15:16:29.876512 2019-04-17 15:13:53.164203 0:02:35.705851\n",
      "2019-04-17 15:19:11.195504 2019-04-17 15:16:29.885244 0:02:40.305779\n",
      "2019-04-17 15:21:06.266149 2019-04-17 15:19:11.207347 0:01:54.052286\n",
      "2019-04-17 15:23:07.858353 2019-04-17 15:21:06.278414 0:02:00.573920\n",
      "2019-04-17 15:25:27.392290 2019-04-17 15:23:07.870711 0:02:18.515034\n",
      "2019-04-17 15:27:37.650552 2019-04-17 15:25:27.404847 0:02:09.243426\n",
      "2019-04-17 15:30:02.276457 2019-04-17 15:27:37.662524 0:02:23.611881\n",
      "2019-04-17 15:32:17.902105 2019-04-17 15:30:02.288760 0:02:14.610388\n",
      "[[0, 1.0], [1, 2.0], [2, 2.9990997961595953], [3, 4.001054552950209], [4, 5.001652033375256], [5, 6.001826298499227], [6, 7.000065722846756], [7, 8.002374984689565], [8, 9.002902759065021], [9, 10.004997923755521], [10, 11.005484870301936], [11, 12.00468623813379], [12, 13.007468505313094], [13, 14.006301426882834], [14, 15.006327317701254], [15, 16.00769753947603], [16, 17.010915967365623], [17, 18.010073519966305], [18, 19.01048777306101], [19, 20.01061025654814], [20, 21.010030700535843], [21, 22.008010220898477], [22, 23.010953807792546], [23, 24.009925145660755], [24, 25.007210592929624], [25, 26.00816755741041], [26, 27.01069290800694], [27, 28.00964731726311], [28, 29.0107705804622], [29, 30.013703213548474], [30, 31.011904797469075], [31, 32.009572632209974], [32, 33.008916399543125], [33, 34.010510676477296], [34, 35.00808689755302], [35, 36.007906657624794], [36, 37.007549165170474], [37, 38.005254840338296], [38, 39.006945709941185], [39, 40.008197431431654], [40, 41.00836273434925], [41, 42.010539554697836], [42, 43.01015816302651], [43, 44.00903888303026], [44, 45.00773338830153], [45, 46.00719963912182], [46, 47.00651253663302], [47, 48.0085111086548], [48, 49.006515524035144], [49, 50.00797337627226], [50, 51.00863657954406], [51, 52.008714251999315], [52, 53.008197431431654], [53, 54.00893930295942], [54, 55.0076816066647], [55, 56.01049175626383], [56, 57.01155925462325], [57, 58.013966104935484], [58, 59.015727676388664], [59, 60.01612997987486], [60, 61.01899091531013], [61, 62.02095861750996], [62, 63.023650266824795], [63, 64.02345807728807], [64, 65.02511011066333], [65, 66.02733373364522], [66, 67.02956532303277], [67, 68.02982821441978], [68, 69.03211756024842], [69, 70.03391199312499], [70, 71.03623021717416], [71, 72.03430035540127], [72, 73.03214444686756], [73, 74.03088973797496]]\n"
     ]
    },
    {
     "name": "stderr",
     "output_type": "stream",
     "text": [
      "reconstraining parameters GP_regression.mul\n",
      "reconstraining parameters GP_regression.Gaussian_noise.variance\n"
     ]
    },
    {
     "name": "stdout",
     "output_type": "stream",
     "text": [
      "sampling end!. 2019-04-17 15:32:17.914550 2019-04-17 15:34:40.098372\n"
     ]
    },
    {
     "name": "stderr",
     "output_type": "stream",
     "text": [
      "[I 2019-04-17 15:34:41,110] Finished a trial resulted in value: -0.10940232532984583. Current best value is -0.3678504795545692 with parameters: {'a': 0.628575516140339, 'b': 0.6255697130800353, 'ab': [0.628575516140339, 0.6255697130800353]}.\n"
     ]
    },
    {
     "name": "stdout",
     "output_type": "stream",
     "text": [
      "2019-04-17 13:32:45.535397 2019-04-17 13:32:44.528432 0:00:00.000208\n",
      "2019-04-17 13:32:46.544049 2019-04-17 13:32:45.539577 0:00:00.000255\n",
      "2019-04-17 13:32:47.551702 2019-04-17 13:32:46.548077 0:00:00.000312\n",
      "2019-04-17 13:32:48.562685 2019-04-17 13:32:47.555801 0:00:00.000704\n",
      "2019-04-17 13:32:49.571595 2019-04-17 13:32:48.566388 0:00:00.000390\n",
      "2019-04-17 13:32:50.580238 2019-04-17 13:32:49.575298 0:00:00.000548\n",
      "2019-04-17 13:32:51.586422 2019-04-17 13:32:50.583475 0:00:00.000498\n",
      "2019-04-17 13:32:52.597042 2019-04-17 13:32:51.589940 0:00:00.000566\n",
      "2019-04-17 13:32:53.607390 2019-04-17 13:32:52.601836 0:00:00.000807\n",
      "2019-04-17 13:32:54.618539 2019-04-17 13:32:53.611387 0:00:00.000831\n",
      "2019-04-17 13:34:35.122242 2019-04-17 13:32:54.623813 0:01:39.493723\n",
      "2019-04-17 13:36:06.841772 2019-04-17 13:34:35.127388 0:01:30.710969\n",
      "2019-04-17 13:37:47.978833 2019-04-17 13:36:06.847609 0:01:40.124213\n",
      "2019-04-17 13:39:23.736225 2019-04-17 13:37:47.984325 0:01:34.748855\n",
      "2019-04-17 13:41:02.277467 2019-04-17 13:39:23.741729 0:01:37.531495\n",
      "2019-04-17 13:42:49.027379 2019-04-17 13:41:02.282765 0:01:45.739021\n",
      "2019-04-17 13:44:12.567658 2019-04-17 13:42:49.033075 0:01:22.527134\n",
      "2019-04-17 13:46:00.167530 2019-04-17 13:44:12.574396 0:01:46.589763\n",
      "2019-04-17 13:47:43.244229 2019-04-17 13:46:00.173749 0:01:42.065847\n",
      "2019-04-17 13:49:05.804982 2019-04-17 13:47:43.251344 0:01:21.549298\n",
      "2019-04-17 13:50:43.560259 2019-04-17 13:49:05.811815 0:01:36.744809\n",
      "2019-04-17 13:52:57.285626 2019-04-17 13:50:43.566362 0:02:12.717076\n",
      "2019-04-17 13:54:49.150780 2019-04-17 13:52:57.292908 0:01:50.850699\n",
      "2019-04-17 13:56:08.997671 2019-04-17 13:54:49.157619 0:01:18.836868\n",
      "2019-04-17 13:57:42.967280 2019-04-17 13:56:09.004677 0:01:32.961112\n",
      "2019-04-17 13:59:30.969727 2019-04-17 13:57:42.974637 0:01:46.989912\n",
      "2019-04-17 14:01:20.562652 2019-04-17 13:59:30.976434 0:01:48.579465\n",
      "2019-04-17 14:02:56.020329 2019-04-17 14:01:20.569600 0:01:34.447562\n",
      "2019-04-17 14:04:54.973702 2019-04-17 14:02:56.027981 0:01:57.940376\n",
      "2019-04-17 14:06:25.218921 2019-04-17 14:04:54.981432 0:01:29.230327\n",
      "2019-04-17 14:08:11.042810 2019-04-17 14:06:25.227910 0:01:44.812489\n",
      "2019-04-17 14:10:09.786447 2019-04-17 14:08:11.050107 0:01:57.734465\n",
      "2019-04-17 14:12:03.866770 2019-04-17 14:10:09.794211 0:01:53.069001\n",
      "2019-04-17 14:13:59.547424 2019-04-17 14:12:03.874431 0:01:54.667175\n",
      "2019-04-17 14:15:50.282620 2019-04-17 14:13:59.555178 0:01:49.725659\n",
      "2019-04-17 14:17:29.871802 2019-04-17 14:15:50.288872 0:01:38.578894\n",
      "2019-04-17 14:19:13.298968 2019-04-17 14:17:29.879649 0:01:42.415461\n",
      "2019-04-17 14:21:14.836276 2019-04-17 14:19:13.306950 0:02:00.527413\n",
      "2019-04-17 14:23:16.663054 2019-04-17 14:21:14.845227 0:02:00.811912\n",
      "2019-04-17 14:25:09.866602 2019-04-17 14:23:16.671587 0:01:52.189541\n",
      "2019-04-17 14:26:48.742325 2019-04-17 14:25:09.875328 0:01:37.862614\n",
      "2019-04-17 14:28:37.114982 2019-04-17 14:26:48.750813 0:01:47.357766\n",
      "2019-04-17 14:30:11.752872 2019-04-17 14:28:37.124364 0:01:33.624674\n",
      "2019-04-17 14:32:13.594553 2019-04-17 14:30:11.761072 0:02:00.830388\n",
      "2019-04-17 14:33:54.377060 2019-04-17 14:32:13.603926 0:01:39.770228\n",
      "2019-04-17 14:35:39.721296 2019-04-17 14:33:54.385493 0:01:44.332122\n",
      "2019-04-17 14:37:11.354143 2019-04-17 14:35:39.730414 0:01:30.620202\n",
      "2019-04-17 14:38:50.525980 2019-04-17 14:37:11.364252 0:01:38.155504\n",
      "2019-04-17 14:40:29.144778 2019-04-17 14:38:50.535300 0:01:37.607265\n",
      "2019-04-17 14:42:28.047041 2019-04-17 14:40:29.154021 0:01:57.887339\n",
      "2019-04-17 14:44:33.251192 2019-04-17 14:42:28.056306 0:02:04.190003\n",
      "2019-04-17 14:46:25.694151 2019-04-17 14:44:33.260987 0:01:51.428869\n",
      "2019-04-17 14:48:07.308746 2019-04-17 14:46:25.701556 0:01:40.603492\n",
      "2019-04-17 14:50:02.378871 2019-04-17 14:48:07.318925 0:01:54.054984\n",
      "2019-04-17 14:51:57.836530 2019-04-17 14:50:02.389231 0:01:54.444345\n",
      "2019-04-17 14:53:38.224402 2019-04-17 14:51:57.846648 0:01:39.370715\n",
      "2019-04-17 14:55:55.169377 2019-04-17 14:53:38.235174 0:02:15.928914\n",
      "2019-04-17 14:58:16.667379 2019-04-17 14:55:55.179693 0:02:20.481052\n",
      "2019-04-17 15:00:04.735039 2019-04-17 14:58:16.678351 0:01:47.050702\n",
      "2019-04-17 15:01:47.747135 2019-04-17 15:00:04.746126 0:01:41.996388\n",
      "2019-04-17 15:03:52.010945 2019-04-17 15:01:47.757793 0:02:03.246062\n",
      "2019-04-17 15:05:32.525072 2019-04-17 15:03:52.021668 0:01:39.497211\n",
      "2019-04-17 15:07:52.921570 2019-04-17 15:05:32.534322 0:02:19.380328\n",
      "2019-04-17 15:09:59.800415 2019-04-17 15:07:52.930064 0:02:05.866327\n",
      "2019-04-17 15:11:44.651730 2019-04-17 15:09:59.810272 0:01:43.835582\n",
      "2019-04-17 15:13:53.152336 2019-04-17 15:11:44.662907 0:02:07.482979\n",
      "2019-04-17 15:16:29.876512 2019-04-17 15:13:53.164203 0:02:35.705851\n",
      "2019-04-17 15:19:11.195504 2019-04-17 15:16:29.885244 0:02:40.305779\n",
      "2019-04-17 15:21:06.266149 2019-04-17 15:19:11.207347 0:01:54.052286\n",
      "2019-04-17 15:23:07.858353 2019-04-17 15:21:06.278414 0:02:00.573920\n",
      "2019-04-17 15:25:27.392290 2019-04-17 15:23:07.870711 0:02:18.515034\n",
      "2019-04-17 15:27:37.650552 2019-04-17 15:25:27.404847 0:02:09.243426\n",
      "2019-04-17 15:30:02.276457 2019-04-17 15:27:37.662524 0:02:23.611881\n",
      "2019-04-17 15:32:17.902105 2019-04-17 15:30:02.288760 0:02:14.610388\n",
      "2019-04-17 15:34:41.100515 2019-04-17 15:32:17.914502 0:02:22.183822\n",
      "[[0, 1.0], [1, 2.0], [2, 2.9990997961595953], [3, 4.001054552950209], [4, 5.001652033375256], [5, 6.001826298499227], [6, 7.000065722846756], [7, 8.002374984689565], [8, 9.002902759065021], [9, 10.004997923755521], [10, 11.005484870301936], [11, 12.00468623813379], [12, 13.007468505313094], [13, 14.006301426882834], [14, 15.006327317701254], [15, 16.00769753947603], [16, 17.010915967365623], [17, 18.010073519966305], [18, 19.01048777306101], [19, 20.01061025654814], [20, 21.010030700535843], [21, 22.008010220898477], [22, 23.010953807792546], [23, 24.009925145660755], [24, 25.007210592929624], [25, 26.00816755741041], [26, 27.01069290800694], [27, 28.00964731726311], [28, 29.0107705804622], [29, 30.013703213548474], [30, 31.011904797469075], [31, 32.009572632209974], [32, 33.008916399543125], [33, 34.010510676477296], [34, 35.00808689755302], [35, 36.007906657624794], [36, 37.007549165170474], [37, 38.005254840338296], [38, 39.006945709941185], [39, 40.008197431431654], [40, 41.00836273434925], [41, 42.010539554697836], [42, 43.01015816302651], [43, 44.00903888303026], [44, 45.00773338830153], [45, 46.00719963912182], [46, 47.00651253663302], [47, 48.0085111086548], [48, 49.006515524035144], [49, 50.00797337627226], [50, 51.00863657954406], [51, 52.008714251999315], [52, 53.008197431431654], [53, 54.00893930295942], [54, 55.0076816066647], [55, 56.01049175626383], [56, 57.01155925462325], [57, 58.013966104935484], [58, 59.015727676388664], [59, 60.01612997987486], [60, 61.01899091531013], [61, 62.02095861750996], [62, 63.023650266824795], [63, 64.02345807728807], [64, 65.02511011066333], [65, 66.02733373364522], [66, 67.02956532303277], [67, 68.02982821441978], [68, 69.03211756024842], [69, 70.03391199312499], [70, 71.03623021717416], [71, 72.03430035540127], [72, 73.03214444686756], [73, 74.03088973797496], [74, 75.0288722457397]]\n"
     ]
    },
    {
     "name": "stderr",
     "output_type": "stream",
     "text": [
      "reconstraining parameters GP_regression.mul\n",
      "reconstraining parameters GP_regression.Gaussian_noise.variance\n"
     ]
    },
    {
     "name": "stdout",
     "output_type": "stream",
     "text": [
      "sampling end!. 2019-04-17 15:34:41.113202 2019-04-17 15:37:33.714462\n"
     ]
    },
    {
     "name": "stderr",
     "output_type": "stream",
     "text": [
      "[I 2019-04-17 15:37:34,726] Finished a trial resulted in value: 0.32651801908745215. Current best value is -0.3678504795545692 with parameters: {'a': 0.628575516140339, 'b': 0.6255697130800353, 'ab': [0.628575516140339, 0.6255697130800353]}.\n"
     ]
    },
    {
     "name": "stdout",
     "output_type": "stream",
     "text": [
      "2019-04-17 13:32:45.535397 2019-04-17 13:32:44.528432 0:00:00.000208\n",
      "2019-04-17 13:32:46.544049 2019-04-17 13:32:45.539577 0:00:00.000255\n",
      "2019-04-17 13:32:47.551702 2019-04-17 13:32:46.548077 0:00:00.000312\n",
      "2019-04-17 13:32:48.562685 2019-04-17 13:32:47.555801 0:00:00.000704\n",
      "2019-04-17 13:32:49.571595 2019-04-17 13:32:48.566388 0:00:00.000390\n",
      "2019-04-17 13:32:50.580238 2019-04-17 13:32:49.575298 0:00:00.000548\n",
      "2019-04-17 13:32:51.586422 2019-04-17 13:32:50.583475 0:00:00.000498\n",
      "2019-04-17 13:32:52.597042 2019-04-17 13:32:51.589940 0:00:00.000566\n",
      "2019-04-17 13:32:53.607390 2019-04-17 13:32:52.601836 0:00:00.000807\n",
      "2019-04-17 13:32:54.618539 2019-04-17 13:32:53.611387 0:00:00.000831\n",
      "2019-04-17 13:34:35.122242 2019-04-17 13:32:54.623813 0:01:39.493723\n",
      "2019-04-17 13:36:06.841772 2019-04-17 13:34:35.127388 0:01:30.710969\n",
      "2019-04-17 13:37:47.978833 2019-04-17 13:36:06.847609 0:01:40.124213\n",
      "2019-04-17 13:39:23.736225 2019-04-17 13:37:47.984325 0:01:34.748855\n",
      "2019-04-17 13:41:02.277467 2019-04-17 13:39:23.741729 0:01:37.531495\n",
      "2019-04-17 13:42:49.027379 2019-04-17 13:41:02.282765 0:01:45.739021\n",
      "2019-04-17 13:44:12.567658 2019-04-17 13:42:49.033075 0:01:22.527134\n",
      "2019-04-17 13:46:00.167530 2019-04-17 13:44:12.574396 0:01:46.589763\n",
      "2019-04-17 13:47:43.244229 2019-04-17 13:46:00.173749 0:01:42.065847\n",
      "2019-04-17 13:49:05.804982 2019-04-17 13:47:43.251344 0:01:21.549298\n",
      "2019-04-17 13:50:43.560259 2019-04-17 13:49:05.811815 0:01:36.744809\n",
      "2019-04-17 13:52:57.285626 2019-04-17 13:50:43.566362 0:02:12.717076\n",
      "2019-04-17 13:54:49.150780 2019-04-17 13:52:57.292908 0:01:50.850699\n",
      "2019-04-17 13:56:08.997671 2019-04-17 13:54:49.157619 0:01:18.836868\n",
      "2019-04-17 13:57:42.967280 2019-04-17 13:56:09.004677 0:01:32.961112\n",
      "2019-04-17 13:59:30.969727 2019-04-17 13:57:42.974637 0:01:46.989912\n",
      "2019-04-17 14:01:20.562652 2019-04-17 13:59:30.976434 0:01:48.579465\n",
      "2019-04-17 14:02:56.020329 2019-04-17 14:01:20.569600 0:01:34.447562\n",
      "2019-04-17 14:04:54.973702 2019-04-17 14:02:56.027981 0:01:57.940376\n",
      "2019-04-17 14:06:25.218921 2019-04-17 14:04:54.981432 0:01:29.230327\n",
      "2019-04-17 14:08:11.042810 2019-04-17 14:06:25.227910 0:01:44.812489\n",
      "2019-04-17 14:10:09.786447 2019-04-17 14:08:11.050107 0:01:57.734465\n",
      "2019-04-17 14:12:03.866770 2019-04-17 14:10:09.794211 0:01:53.069001\n",
      "2019-04-17 14:13:59.547424 2019-04-17 14:12:03.874431 0:01:54.667175\n",
      "2019-04-17 14:15:50.282620 2019-04-17 14:13:59.555178 0:01:49.725659\n",
      "2019-04-17 14:17:29.871802 2019-04-17 14:15:50.288872 0:01:38.578894\n",
      "2019-04-17 14:19:13.298968 2019-04-17 14:17:29.879649 0:01:42.415461\n",
      "2019-04-17 14:21:14.836276 2019-04-17 14:19:13.306950 0:02:00.527413\n",
      "2019-04-17 14:23:16.663054 2019-04-17 14:21:14.845227 0:02:00.811912\n",
      "2019-04-17 14:25:09.866602 2019-04-17 14:23:16.671587 0:01:52.189541\n",
      "2019-04-17 14:26:48.742325 2019-04-17 14:25:09.875328 0:01:37.862614\n",
      "2019-04-17 14:28:37.114982 2019-04-17 14:26:48.750813 0:01:47.357766\n",
      "2019-04-17 14:30:11.752872 2019-04-17 14:28:37.124364 0:01:33.624674\n",
      "2019-04-17 14:32:13.594553 2019-04-17 14:30:11.761072 0:02:00.830388\n",
      "2019-04-17 14:33:54.377060 2019-04-17 14:32:13.603926 0:01:39.770228\n",
      "2019-04-17 14:35:39.721296 2019-04-17 14:33:54.385493 0:01:44.332122\n",
      "2019-04-17 14:37:11.354143 2019-04-17 14:35:39.730414 0:01:30.620202\n",
      "2019-04-17 14:38:50.525980 2019-04-17 14:37:11.364252 0:01:38.155504\n",
      "2019-04-17 14:40:29.144778 2019-04-17 14:38:50.535300 0:01:37.607265\n",
      "2019-04-17 14:42:28.047041 2019-04-17 14:40:29.154021 0:01:57.887339\n",
      "2019-04-17 14:44:33.251192 2019-04-17 14:42:28.056306 0:02:04.190003\n",
      "2019-04-17 14:46:25.694151 2019-04-17 14:44:33.260987 0:01:51.428869\n",
      "2019-04-17 14:48:07.308746 2019-04-17 14:46:25.701556 0:01:40.603492\n",
      "2019-04-17 14:50:02.378871 2019-04-17 14:48:07.318925 0:01:54.054984\n",
      "2019-04-17 14:51:57.836530 2019-04-17 14:50:02.389231 0:01:54.444345\n",
      "2019-04-17 14:53:38.224402 2019-04-17 14:51:57.846648 0:01:39.370715\n",
      "2019-04-17 14:55:55.169377 2019-04-17 14:53:38.235174 0:02:15.928914\n",
      "2019-04-17 14:58:16.667379 2019-04-17 14:55:55.179693 0:02:20.481052\n",
      "2019-04-17 15:00:04.735039 2019-04-17 14:58:16.678351 0:01:47.050702\n",
      "2019-04-17 15:01:47.747135 2019-04-17 15:00:04.746126 0:01:41.996388\n",
      "2019-04-17 15:03:52.010945 2019-04-17 15:01:47.757793 0:02:03.246062\n",
      "2019-04-17 15:05:32.525072 2019-04-17 15:03:52.021668 0:01:39.497211\n",
      "2019-04-17 15:07:52.921570 2019-04-17 15:05:32.534322 0:02:19.380328\n",
      "2019-04-17 15:09:59.800415 2019-04-17 15:07:52.930064 0:02:05.866327\n",
      "2019-04-17 15:11:44.651730 2019-04-17 15:09:59.810272 0:01:43.835582\n",
      "2019-04-17 15:13:53.152336 2019-04-17 15:11:44.662907 0:02:07.482979\n",
      "2019-04-17 15:16:29.876512 2019-04-17 15:13:53.164203 0:02:35.705851\n",
      "2019-04-17 15:19:11.195504 2019-04-17 15:16:29.885244 0:02:40.305779\n",
      "2019-04-17 15:21:06.266149 2019-04-17 15:19:11.207347 0:01:54.052286\n",
      "2019-04-17 15:23:07.858353 2019-04-17 15:21:06.278414 0:02:00.573920\n",
      "2019-04-17 15:25:27.392290 2019-04-17 15:23:07.870711 0:02:18.515034\n",
      "2019-04-17 15:27:37.650552 2019-04-17 15:25:27.404847 0:02:09.243426\n",
      "2019-04-17 15:30:02.276457 2019-04-17 15:27:37.662524 0:02:23.611881\n",
      "2019-04-17 15:32:17.902105 2019-04-17 15:30:02.288760 0:02:14.610388\n",
      "2019-04-17 15:34:41.100515 2019-04-17 15:32:17.914502 0:02:22.183822\n",
      "2019-04-17 15:37:34.718077 2019-04-17 15:34:41.113157 0:02:52.601260\n",
      "[[0, 1.0], [1, 2.0], [2, 2.9990997961595953], [3, 4.001054552950209], [4, 5.001652033375256], [5, 6.001826298499227], [6, 7.000065722846756], [7, 8.002374984689565], [8, 9.002902759065021], [9, 10.004997923755521], [10, 11.005484870301936], [11, 12.00468623813379], [12, 13.007468505313094], [13, 14.006301426882834], [14, 15.006327317701254], [15, 16.00769753947603], [16, 17.010915967365623], [17, 18.010073519966305], [18, 19.01048777306101], [19, 20.01061025654814], [20, 21.010030700535843], [21, 22.008010220898477], [22, 23.010953807792546], [23, 24.009925145660755], [24, 25.007210592929624], [25, 26.00816755741041], [26, 27.01069290800694], [27, 28.00964731726311], [28, 29.0107705804622], [29, 30.013703213548474], [30, 31.011904797469075], [31, 32.009572632209974], [32, 33.008916399543125], [33, 34.010510676477296], [34, 35.00808689755302], [35, 36.007906657624794], [36, 37.007549165170474], [37, 38.005254840338296], [38, 39.006945709941185], [39, 40.008197431431654], [40, 41.00836273434925], [41, 42.010539554697836], [42, 43.01015816302651], [43, 44.00903888303026], [44, 45.00773338830153], [45, 46.00719963912182], [46, 47.00651253663302], [47, 48.0085111086548], [48, 49.006515524035144], [49, 50.00797337627226], [50, 51.00863657954406], [51, 52.008714251999315], [52, 53.008197431431654], [53, 54.00893930295942], [54, 55.0076816066647], [55, 56.01049175626383], [56, 57.01155925462325], [57, 58.013966104935484], [58, 59.015727676388664], [59, 60.01612997987486], [60, 61.01899091531013], [61, 62.02095861750996], [62, 63.023650266824795], [63, 64.02345807728807], [64, 65.02511011066333], [65, 66.02733373364522], [66, 67.02956532303277], [67, 68.02982821441978], [68, 69.03211756024842], [69, 70.03391199312499], [70, 71.03623021717416], [71, 72.03430035540127], [72, 73.03214444686756], [73, 74.03088973797496], [74, 75.0288722457397], [75, 76.02831758474512]]\n"
     ]
    },
    {
     "name": "stderr",
     "output_type": "stream",
     "text": [
      "reconstraining parameters GP_regression.mul\n",
      "reconstraining parameters GP_regression.Gaussian_noise.variance\n"
     ]
    },
    {
     "name": "stdout",
     "output_type": "stream",
     "text": [
      "sampling end!. 2019-04-17 15:37:34.728339 2019-04-17 15:40:12.914419\n"
     ]
    },
    {
     "name": "stderr",
     "output_type": "stream",
     "text": [
      "[I 2019-04-17 15:40:13,932] Finished a trial resulted in value: -0.2841994597624618. Current best value is -0.3678504795545692 with parameters: {'a': 0.628575516140339, 'b': 0.6255697130800353, 'ab': [0.628575516140339, 0.6255697130800353]}.\n"
     ]
    },
    {
     "name": "stdout",
     "output_type": "stream",
     "text": [
      "2019-04-17 13:32:45.535397 2019-04-17 13:32:44.528432 0:00:00.000208\n",
      "2019-04-17 13:32:46.544049 2019-04-17 13:32:45.539577 0:00:00.000255\n",
      "2019-04-17 13:32:47.551702 2019-04-17 13:32:46.548077 0:00:00.000312\n",
      "2019-04-17 13:32:48.562685 2019-04-17 13:32:47.555801 0:00:00.000704\n",
      "2019-04-17 13:32:49.571595 2019-04-17 13:32:48.566388 0:00:00.000390\n",
      "2019-04-17 13:32:50.580238 2019-04-17 13:32:49.575298 0:00:00.000548\n",
      "2019-04-17 13:32:51.586422 2019-04-17 13:32:50.583475 0:00:00.000498\n",
      "2019-04-17 13:32:52.597042 2019-04-17 13:32:51.589940 0:00:00.000566\n",
      "2019-04-17 13:32:53.607390 2019-04-17 13:32:52.601836 0:00:00.000807\n",
      "2019-04-17 13:32:54.618539 2019-04-17 13:32:53.611387 0:00:00.000831\n",
      "2019-04-17 13:34:35.122242 2019-04-17 13:32:54.623813 0:01:39.493723\n",
      "2019-04-17 13:36:06.841772 2019-04-17 13:34:35.127388 0:01:30.710969\n",
      "2019-04-17 13:37:47.978833 2019-04-17 13:36:06.847609 0:01:40.124213\n",
      "2019-04-17 13:39:23.736225 2019-04-17 13:37:47.984325 0:01:34.748855\n",
      "2019-04-17 13:41:02.277467 2019-04-17 13:39:23.741729 0:01:37.531495\n",
      "2019-04-17 13:42:49.027379 2019-04-17 13:41:02.282765 0:01:45.739021\n",
      "2019-04-17 13:44:12.567658 2019-04-17 13:42:49.033075 0:01:22.527134\n",
      "2019-04-17 13:46:00.167530 2019-04-17 13:44:12.574396 0:01:46.589763\n",
      "2019-04-17 13:47:43.244229 2019-04-17 13:46:00.173749 0:01:42.065847\n",
      "2019-04-17 13:49:05.804982 2019-04-17 13:47:43.251344 0:01:21.549298\n",
      "2019-04-17 13:50:43.560259 2019-04-17 13:49:05.811815 0:01:36.744809\n",
      "2019-04-17 13:52:57.285626 2019-04-17 13:50:43.566362 0:02:12.717076\n",
      "2019-04-17 13:54:49.150780 2019-04-17 13:52:57.292908 0:01:50.850699\n",
      "2019-04-17 13:56:08.997671 2019-04-17 13:54:49.157619 0:01:18.836868\n",
      "2019-04-17 13:57:42.967280 2019-04-17 13:56:09.004677 0:01:32.961112\n",
      "2019-04-17 13:59:30.969727 2019-04-17 13:57:42.974637 0:01:46.989912\n",
      "2019-04-17 14:01:20.562652 2019-04-17 13:59:30.976434 0:01:48.579465\n",
      "2019-04-17 14:02:56.020329 2019-04-17 14:01:20.569600 0:01:34.447562\n",
      "2019-04-17 14:04:54.973702 2019-04-17 14:02:56.027981 0:01:57.940376\n",
      "2019-04-17 14:06:25.218921 2019-04-17 14:04:54.981432 0:01:29.230327\n",
      "2019-04-17 14:08:11.042810 2019-04-17 14:06:25.227910 0:01:44.812489\n",
      "2019-04-17 14:10:09.786447 2019-04-17 14:08:11.050107 0:01:57.734465\n",
      "2019-04-17 14:12:03.866770 2019-04-17 14:10:09.794211 0:01:53.069001\n",
      "2019-04-17 14:13:59.547424 2019-04-17 14:12:03.874431 0:01:54.667175\n",
      "2019-04-17 14:15:50.282620 2019-04-17 14:13:59.555178 0:01:49.725659\n",
      "2019-04-17 14:17:29.871802 2019-04-17 14:15:50.288872 0:01:38.578894\n",
      "2019-04-17 14:19:13.298968 2019-04-17 14:17:29.879649 0:01:42.415461\n",
      "2019-04-17 14:21:14.836276 2019-04-17 14:19:13.306950 0:02:00.527413\n",
      "2019-04-17 14:23:16.663054 2019-04-17 14:21:14.845227 0:02:00.811912\n",
      "2019-04-17 14:25:09.866602 2019-04-17 14:23:16.671587 0:01:52.189541\n",
      "2019-04-17 14:26:48.742325 2019-04-17 14:25:09.875328 0:01:37.862614\n",
      "2019-04-17 14:28:37.114982 2019-04-17 14:26:48.750813 0:01:47.357766\n",
      "2019-04-17 14:30:11.752872 2019-04-17 14:28:37.124364 0:01:33.624674\n",
      "2019-04-17 14:32:13.594553 2019-04-17 14:30:11.761072 0:02:00.830388\n",
      "2019-04-17 14:33:54.377060 2019-04-17 14:32:13.603926 0:01:39.770228\n",
      "2019-04-17 14:35:39.721296 2019-04-17 14:33:54.385493 0:01:44.332122\n",
      "2019-04-17 14:37:11.354143 2019-04-17 14:35:39.730414 0:01:30.620202\n",
      "2019-04-17 14:38:50.525980 2019-04-17 14:37:11.364252 0:01:38.155504\n",
      "2019-04-17 14:40:29.144778 2019-04-17 14:38:50.535300 0:01:37.607265\n",
      "2019-04-17 14:42:28.047041 2019-04-17 14:40:29.154021 0:01:57.887339\n",
      "2019-04-17 14:44:33.251192 2019-04-17 14:42:28.056306 0:02:04.190003\n",
      "2019-04-17 14:46:25.694151 2019-04-17 14:44:33.260987 0:01:51.428869\n",
      "2019-04-17 14:48:07.308746 2019-04-17 14:46:25.701556 0:01:40.603492\n",
      "2019-04-17 14:50:02.378871 2019-04-17 14:48:07.318925 0:01:54.054984\n",
      "2019-04-17 14:51:57.836530 2019-04-17 14:50:02.389231 0:01:54.444345\n",
      "2019-04-17 14:53:38.224402 2019-04-17 14:51:57.846648 0:01:39.370715\n",
      "2019-04-17 14:55:55.169377 2019-04-17 14:53:38.235174 0:02:15.928914\n",
      "2019-04-17 14:58:16.667379 2019-04-17 14:55:55.179693 0:02:20.481052\n",
      "2019-04-17 15:00:04.735039 2019-04-17 14:58:16.678351 0:01:47.050702\n",
      "2019-04-17 15:01:47.747135 2019-04-17 15:00:04.746126 0:01:41.996388\n",
      "2019-04-17 15:03:52.010945 2019-04-17 15:01:47.757793 0:02:03.246062\n",
      "2019-04-17 15:05:32.525072 2019-04-17 15:03:52.021668 0:01:39.497211\n",
      "2019-04-17 15:07:52.921570 2019-04-17 15:05:32.534322 0:02:19.380328\n",
      "2019-04-17 15:09:59.800415 2019-04-17 15:07:52.930064 0:02:05.866327\n",
      "2019-04-17 15:11:44.651730 2019-04-17 15:09:59.810272 0:01:43.835582\n",
      "2019-04-17 15:13:53.152336 2019-04-17 15:11:44.662907 0:02:07.482979\n",
      "2019-04-17 15:16:29.876512 2019-04-17 15:13:53.164203 0:02:35.705851\n",
      "2019-04-17 15:19:11.195504 2019-04-17 15:16:29.885244 0:02:40.305779\n",
      "2019-04-17 15:21:06.266149 2019-04-17 15:19:11.207347 0:01:54.052286\n",
      "2019-04-17 15:23:07.858353 2019-04-17 15:21:06.278414 0:02:00.573920\n",
      "2019-04-17 15:25:27.392290 2019-04-17 15:23:07.870711 0:02:18.515034\n",
      "2019-04-17 15:27:37.650552 2019-04-17 15:25:27.404847 0:02:09.243426\n",
      "2019-04-17 15:30:02.276457 2019-04-17 15:27:37.662524 0:02:23.611881\n",
      "2019-04-17 15:32:17.902105 2019-04-17 15:30:02.288760 0:02:14.610388\n",
      "2019-04-17 15:34:41.100515 2019-04-17 15:32:17.914502 0:02:22.183822\n",
      "2019-04-17 15:37:34.718077 2019-04-17 15:34:41.113157 0:02:52.601260\n",
      "2019-04-17 15:40:13.921761 2019-04-17 15:37:34.728312 0:02:38.186080\n",
      "[[0, 1.0], [1, 2.0], [2, 2.9990997961595953], [3, 4.001054552950209], [4, 5.001652033375256], [5, 6.001826298499227], [6, 7.000065722846756], [7, 8.002374984689565], [8, 9.002902759065021], [9, 10.004997923755521], [10, 11.005484870301936], [11, 12.00468623813379], [12, 13.007468505313094], [13, 14.006301426882834], [14, 15.006327317701254], [15, 16.00769753947603], [16, 17.010915967365623], [17, 18.010073519966305], [18, 19.01048777306101], [19, 20.01061025654814], [20, 21.010030700535843], [21, 22.008010220898477], [22, 23.010953807792546], [23, 24.009925145660755], [24, 25.007210592929624], [25, 26.00816755741041], [26, 27.01069290800694], [27, 28.00964731726311], [28, 29.0107705804622], [29, 30.013703213548474], [30, 31.011904797469075], [31, 32.009572632209974], [32, 33.008916399543125], [33, 34.010510676477296], [34, 35.00808689755302], [35, 36.007906657624794], [36, 37.007549165170474], [37, 38.005254840338296], [38, 39.006945709941185], [39, 40.008197431431654], [40, 41.00836273434925], [41, 42.010539554697836], [42, 43.01015816302651], [43, 44.00903888303026], [44, 45.00773338830153], [45, 46.00719963912182], [46, 47.00651253663302], [47, 48.0085111086548], [48, 49.006515524035144], [49, 50.00797337627226], [50, 51.00863657954406], [51, 52.008714251999315], [52, 53.008197431431654], [53, 54.00893930295942], [54, 55.0076816066647], [55, 56.01049175626383], [56, 57.01155925462325], [57, 58.013966104935484], [58, 59.015727676388664], [59, 60.01612997987486], [60, 61.01899091531013], [61, 62.02095861750996], [62, 63.023650266824795], [63, 64.02345807728807], [64, 65.02511011066333], [65, 66.02733373364522], [66, 67.02956532303277], [67, 68.02982821441978], [68, 69.03211756024842], [69, 70.03391199312499], [70, 71.03623021717416], [71, 72.03430035540127], [72, 73.03214444686756], [73, 74.03088973797496], [74, 75.0288722457397], [75, 76.02831758474512], [76, 77.03145634857803]]\n"
     ]
    },
    {
     "name": "stderr",
     "output_type": "stream",
     "text": [
      "reconstraining parameters GP_regression.mul\n",
      "reconstraining parameters GP_regression.Gaussian_noise.variance\n"
     ]
    },
    {
     "name": "stdout",
     "output_type": "stream",
     "text": [
      "sampling end!. 2019-04-17 15:40:13.934649 2019-04-17 15:42:36.641404\n"
     ]
    },
    {
     "name": "stderr",
     "output_type": "stream",
     "text": [
      "[I 2019-04-17 15:42:37,655] Finished a trial resulted in value: 0.20056577138303214. Current best value is -0.3678504795545692 with parameters: {'a': 0.628575516140339, 'b': 0.6255697130800353, 'ab': [0.628575516140339, 0.6255697130800353]}.\n"
     ]
    },
    {
     "name": "stdout",
     "output_type": "stream",
     "text": [
      "2019-04-17 13:32:45.535397 2019-04-17 13:32:44.528432 0:00:00.000208\n",
      "2019-04-17 13:32:46.544049 2019-04-17 13:32:45.539577 0:00:00.000255\n",
      "2019-04-17 13:32:47.551702 2019-04-17 13:32:46.548077 0:00:00.000312\n",
      "2019-04-17 13:32:48.562685 2019-04-17 13:32:47.555801 0:00:00.000704\n",
      "2019-04-17 13:32:49.571595 2019-04-17 13:32:48.566388 0:00:00.000390\n",
      "2019-04-17 13:32:50.580238 2019-04-17 13:32:49.575298 0:00:00.000548\n",
      "2019-04-17 13:32:51.586422 2019-04-17 13:32:50.583475 0:00:00.000498\n",
      "2019-04-17 13:32:52.597042 2019-04-17 13:32:51.589940 0:00:00.000566\n",
      "2019-04-17 13:32:53.607390 2019-04-17 13:32:52.601836 0:00:00.000807\n",
      "2019-04-17 13:32:54.618539 2019-04-17 13:32:53.611387 0:00:00.000831\n",
      "2019-04-17 13:34:35.122242 2019-04-17 13:32:54.623813 0:01:39.493723\n",
      "2019-04-17 13:36:06.841772 2019-04-17 13:34:35.127388 0:01:30.710969\n",
      "2019-04-17 13:37:47.978833 2019-04-17 13:36:06.847609 0:01:40.124213\n",
      "2019-04-17 13:39:23.736225 2019-04-17 13:37:47.984325 0:01:34.748855\n",
      "2019-04-17 13:41:02.277467 2019-04-17 13:39:23.741729 0:01:37.531495\n",
      "2019-04-17 13:42:49.027379 2019-04-17 13:41:02.282765 0:01:45.739021\n",
      "2019-04-17 13:44:12.567658 2019-04-17 13:42:49.033075 0:01:22.527134\n",
      "2019-04-17 13:46:00.167530 2019-04-17 13:44:12.574396 0:01:46.589763\n",
      "2019-04-17 13:47:43.244229 2019-04-17 13:46:00.173749 0:01:42.065847\n",
      "2019-04-17 13:49:05.804982 2019-04-17 13:47:43.251344 0:01:21.549298\n",
      "2019-04-17 13:50:43.560259 2019-04-17 13:49:05.811815 0:01:36.744809\n",
      "2019-04-17 13:52:57.285626 2019-04-17 13:50:43.566362 0:02:12.717076\n",
      "2019-04-17 13:54:49.150780 2019-04-17 13:52:57.292908 0:01:50.850699\n",
      "2019-04-17 13:56:08.997671 2019-04-17 13:54:49.157619 0:01:18.836868\n",
      "2019-04-17 13:57:42.967280 2019-04-17 13:56:09.004677 0:01:32.961112\n",
      "2019-04-17 13:59:30.969727 2019-04-17 13:57:42.974637 0:01:46.989912\n",
      "2019-04-17 14:01:20.562652 2019-04-17 13:59:30.976434 0:01:48.579465\n",
      "2019-04-17 14:02:56.020329 2019-04-17 14:01:20.569600 0:01:34.447562\n",
      "2019-04-17 14:04:54.973702 2019-04-17 14:02:56.027981 0:01:57.940376\n",
      "2019-04-17 14:06:25.218921 2019-04-17 14:04:54.981432 0:01:29.230327\n",
      "2019-04-17 14:08:11.042810 2019-04-17 14:06:25.227910 0:01:44.812489\n",
      "2019-04-17 14:10:09.786447 2019-04-17 14:08:11.050107 0:01:57.734465\n",
      "2019-04-17 14:12:03.866770 2019-04-17 14:10:09.794211 0:01:53.069001\n",
      "2019-04-17 14:13:59.547424 2019-04-17 14:12:03.874431 0:01:54.667175\n",
      "2019-04-17 14:15:50.282620 2019-04-17 14:13:59.555178 0:01:49.725659\n",
      "2019-04-17 14:17:29.871802 2019-04-17 14:15:50.288872 0:01:38.578894\n",
      "2019-04-17 14:19:13.298968 2019-04-17 14:17:29.879649 0:01:42.415461\n",
      "2019-04-17 14:21:14.836276 2019-04-17 14:19:13.306950 0:02:00.527413\n",
      "2019-04-17 14:23:16.663054 2019-04-17 14:21:14.845227 0:02:00.811912\n",
      "2019-04-17 14:25:09.866602 2019-04-17 14:23:16.671587 0:01:52.189541\n",
      "2019-04-17 14:26:48.742325 2019-04-17 14:25:09.875328 0:01:37.862614\n",
      "2019-04-17 14:28:37.114982 2019-04-17 14:26:48.750813 0:01:47.357766\n",
      "2019-04-17 14:30:11.752872 2019-04-17 14:28:37.124364 0:01:33.624674\n",
      "2019-04-17 14:32:13.594553 2019-04-17 14:30:11.761072 0:02:00.830388\n",
      "2019-04-17 14:33:54.377060 2019-04-17 14:32:13.603926 0:01:39.770228\n",
      "2019-04-17 14:35:39.721296 2019-04-17 14:33:54.385493 0:01:44.332122\n",
      "2019-04-17 14:37:11.354143 2019-04-17 14:35:39.730414 0:01:30.620202\n",
      "2019-04-17 14:38:50.525980 2019-04-17 14:37:11.364252 0:01:38.155504\n",
      "2019-04-17 14:40:29.144778 2019-04-17 14:38:50.535300 0:01:37.607265\n",
      "2019-04-17 14:42:28.047041 2019-04-17 14:40:29.154021 0:01:57.887339\n",
      "2019-04-17 14:44:33.251192 2019-04-17 14:42:28.056306 0:02:04.190003\n",
      "2019-04-17 14:46:25.694151 2019-04-17 14:44:33.260987 0:01:51.428869\n",
      "2019-04-17 14:48:07.308746 2019-04-17 14:46:25.701556 0:01:40.603492\n",
      "2019-04-17 14:50:02.378871 2019-04-17 14:48:07.318925 0:01:54.054984\n",
      "2019-04-17 14:51:57.836530 2019-04-17 14:50:02.389231 0:01:54.444345\n",
      "2019-04-17 14:53:38.224402 2019-04-17 14:51:57.846648 0:01:39.370715\n",
      "2019-04-17 14:55:55.169377 2019-04-17 14:53:38.235174 0:02:15.928914\n",
      "2019-04-17 14:58:16.667379 2019-04-17 14:55:55.179693 0:02:20.481052\n",
      "2019-04-17 15:00:04.735039 2019-04-17 14:58:16.678351 0:01:47.050702\n",
      "2019-04-17 15:01:47.747135 2019-04-17 15:00:04.746126 0:01:41.996388\n",
      "2019-04-17 15:03:52.010945 2019-04-17 15:01:47.757793 0:02:03.246062\n",
      "2019-04-17 15:05:32.525072 2019-04-17 15:03:52.021668 0:01:39.497211\n",
      "2019-04-17 15:07:52.921570 2019-04-17 15:05:32.534322 0:02:19.380328\n",
      "2019-04-17 15:09:59.800415 2019-04-17 15:07:52.930064 0:02:05.866327\n",
      "2019-04-17 15:11:44.651730 2019-04-17 15:09:59.810272 0:01:43.835582\n",
      "2019-04-17 15:13:53.152336 2019-04-17 15:11:44.662907 0:02:07.482979\n",
      "2019-04-17 15:16:29.876512 2019-04-17 15:13:53.164203 0:02:35.705851\n",
      "2019-04-17 15:19:11.195504 2019-04-17 15:16:29.885244 0:02:40.305779\n",
      "2019-04-17 15:21:06.266149 2019-04-17 15:19:11.207347 0:01:54.052286\n",
      "2019-04-17 15:23:07.858353 2019-04-17 15:21:06.278414 0:02:00.573920\n",
      "2019-04-17 15:25:27.392290 2019-04-17 15:23:07.870711 0:02:18.515034\n",
      "2019-04-17 15:27:37.650552 2019-04-17 15:25:27.404847 0:02:09.243426\n",
      "2019-04-17 15:30:02.276457 2019-04-17 15:27:37.662524 0:02:23.611881\n",
      "2019-04-17 15:32:17.902105 2019-04-17 15:30:02.288760 0:02:14.610388\n",
      "2019-04-17 15:34:41.100515 2019-04-17 15:32:17.914502 0:02:22.183822\n",
      "2019-04-17 15:37:34.718077 2019-04-17 15:34:41.113157 0:02:52.601260\n",
      "2019-04-17 15:40:13.921761 2019-04-17 15:37:34.728312 0:02:38.186080\n",
      "2019-04-17 15:42:37.644619 2019-04-17 15:40:13.934613 0:02:22.706755\n",
      "[[0, 1.0], [1, 2.0], [2, 2.9990997961595953], [3, 4.001054552950209], [4, 5.001652033375256], [5, 6.001826298499227], [6, 7.000065722846756], [7, 8.002374984689565], [8, 9.002902759065021], [9, 10.004997923755521], [10, 11.005484870301936], [11, 12.00468623813379], [12, 13.007468505313094], [13, 14.006301426882834], [14, 15.006327317701254], [15, 16.00769753947603], [16, 17.010915967365623], [17, 18.010073519966305], [18, 19.01048777306101], [19, 20.01061025654814], [20, 21.010030700535843], [21, 22.008010220898477], [22, 23.010953807792546], [23, 24.009925145660755], [24, 25.007210592929624], [25, 26.00816755741041], [26, 27.01069290800694], [27, 28.00964731726311], [28, 29.0107705804622], [29, 30.013703213548474], [30, 31.011904797469075], [31, 32.009572632209974], [32, 33.008916399543125], [33, 34.010510676477296], [34, 35.00808689755302], [35, 36.007906657624794], [36, 37.007549165170474], [37, 38.005254840338296], [38, 39.006945709941185], [39, 40.008197431431654], [40, 41.00836273434925], [41, 42.010539554697836], [42, 43.01015816302651], [43, 44.00903888303026], [44, 45.00773338830153], [45, 46.00719963912182], [46, 47.00651253663302], [47, 48.0085111086548], [48, 49.006515524035144], [49, 50.00797337627226], [50, 51.00863657954406], [51, 52.008714251999315], [52, 53.008197431431654], [53, 54.00893930295942], [54, 55.0076816066647], [55, 56.01049175626383], [56, 57.01155925462325], [57, 58.013966104935484], [58, 59.015727676388664], [59, 60.01612997987486], [60, 61.01899091531013], [61, 62.02095861750996], [62, 63.023650266824795], [63, 64.02345807728807], [64, 65.02511011066333], [65, 66.02733373364522], [66, 67.02956532303277], [67, 68.02982821441978], [68, 69.03211756024842], [69, 70.03391199312499], [70, 71.03623021717416], [71, 72.03430035540127], [72, 73.03214444686756], [73, 74.03088973797496], [74, 75.0288722457397], [75, 76.02831758474512], [76, 77.03145634857803], [77, 78.0304944050937]]\n"
     ]
    },
    {
     "name": "stderr",
     "output_type": "stream",
     "text": [
      "reconstraining parameters GP_regression.mul\n",
      "reconstraining parameters GP_regression.Gaussian_noise.variance\n"
     ]
    },
    {
     "name": "stdout",
     "output_type": "stream",
     "text": [
      "sampling end!. 2019-04-17 15:42:37.657310 2019-04-17 15:45:25.293805\n"
     ]
    },
    {
     "name": "stderr",
     "output_type": "stream",
     "text": [
      "[I 2019-04-17 15:45:26,304] Finished a trial resulted in value: -0.38638832738732365. Current best value is -0.38638832738732365 with parameters: {'a': 0.03496739799353207, 'b': 0.6606983319426899, 'ab': [0.03496739799353207, 0.6606983319426899]}.\n"
     ]
    },
    {
     "name": "stdout",
     "output_type": "stream",
     "text": [
      "2019-04-17 13:32:45.535397 2019-04-17 13:32:44.528432 0:00:00.000208\n",
      "2019-04-17 13:32:46.544049 2019-04-17 13:32:45.539577 0:00:00.000255\n",
      "2019-04-17 13:32:47.551702 2019-04-17 13:32:46.548077 0:00:00.000312\n",
      "2019-04-17 13:32:48.562685 2019-04-17 13:32:47.555801 0:00:00.000704\n",
      "2019-04-17 13:32:49.571595 2019-04-17 13:32:48.566388 0:00:00.000390\n",
      "2019-04-17 13:32:50.580238 2019-04-17 13:32:49.575298 0:00:00.000548\n",
      "2019-04-17 13:32:51.586422 2019-04-17 13:32:50.583475 0:00:00.000498\n",
      "2019-04-17 13:32:52.597042 2019-04-17 13:32:51.589940 0:00:00.000566\n",
      "2019-04-17 13:32:53.607390 2019-04-17 13:32:52.601836 0:00:00.000807\n",
      "2019-04-17 13:32:54.618539 2019-04-17 13:32:53.611387 0:00:00.000831\n",
      "2019-04-17 13:34:35.122242 2019-04-17 13:32:54.623813 0:01:39.493723\n",
      "2019-04-17 13:36:06.841772 2019-04-17 13:34:35.127388 0:01:30.710969\n",
      "2019-04-17 13:37:47.978833 2019-04-17 13:36:06.847609 0:01:40.124213\n",
      "2019-04-17 13:39:23.736225 2019-04-17 13:37:47.984325 0:01:34.748855\n",
      "2019-04-17 13:41:02.277467 2019-04-17 13:39:23.741729 0:01:37.531495\n",
      "2019-04-17 13:42:49.027379 2019-04-17 13:41:02.282765 0:01:45.739021\n",
      "2019-04-17 13:44:12.567658 2019-04-17 13:42:49.033075 0:01:22.527134\n",
      "2019-04-17 13:46:00.167530 2019-04-17 13:44:12.574396 0:01:46.589763\n",
      "2019-04-17 13:47:43.244229 2019-04-17 13:46:00.173749 0:01:42.065847\n",
      "2019-04-17 13:49:05.804982 2019-04-17 13:47:43.251344 0:01:21.549298\n",
      "2019-04-17 13:50:43.560259 2019-04-17 13:49:05.811815 0:01:36.744809\n",
      "2019-04-17 13:52:57.285626 2019-04-17 13:50:43.566362 0:02:12.717076\n",
      "2019-04-17 13:54:49.150780 2019-04-17 13:52:57.292908 0:01:50.850699\n",
      "2019-04-17 13:56:08.997671 2019-04-17 13:54:49.157619 0:01:18.836868\n",
      "2019-04-17 13:57:42.967280 2019-04-17 13:56:09.004677 0:01:32.961112\n",
      "2019-04-17 13:59:30.969727 2019-04-17 13:57:42.974637 0:01:46.989912\n",
      "2019-04-17 14:01:20.562652 2019-04-17 13:59:30.976434 0:01:48.579465\n",
      "2019-04-17 14:02:56.020329 2019-04-17 14:01:20.569600 0:01:34.447562\n",
      "2019-04-17 14:04:54.973702 2019-04-17 14:02:56.027981 0:01:57.940376\n",
      "2019-04-17 14:06:25.218921 2019-04-17 14:04:54.981432 0:01:29.230327\n",
      "2019-04-17 14:08:11.042810 2019-04-17 14:06:25.227910 0:01:44.812489\n",
      "2019-04-17 14:10:09.786447 2019-04-17 14:08:11.050107 0:01:57.734465\n",
      "2019-04-17 14:12:03.866770 2019-04-17 14:10:09.794211 0:01:53.069001\n",
      "2019-04-17 14:13:59.547424 2019-04-17 14:12:03.874431 0:01:54.667175\n",
      "2019-04-17 14:15:50.282620 2019-04-17 14:13:59.555178 0:01:49.725659\n",
      "2019-04-17 14:17:29.871802 2019-04-17 14:15:50.288872 0:01:38.578894\n",
      "2019-04-17 14:19:13.298968 2019-04-17 14:17:29.879649 0:01:42.415461\n",
      "2019-04-17 14:21:14.836276 2019-04-17 14:19:13.306950 0:02:00.527413\n",
      "2019-04-17 14:23:16.663054 2019-04-17 14:21:14.845227 0:02:00.811912\n",
      "2019-04-17 14:25:09.866602 2019-04-17 14:23:16.671587 0:01:52.189541\n",
      "2019-04-17 14:26:48.742325 2019-04-17 14:25:09.875328 0:01:37.862614\n",
      "2019-04-17 14:28:37.114982 2019-04-17 14:26:48.750813 0:01:47.357766\n",
      "2019-04-17 14:30:11.752872 2019-04-17 14:28:37.124364 0:01:33.624674\n",
      "2019-04-17 14:32:13.594553 2019-04-17 14:30:11.761072 0:02:00.830388\n",
      "2019-04-17 14:33:54.377060 2019-04-17 14:32:13.603926 0:01:39.770228\n",
      "2019-04-17 14:35:39.721296 2019-04-17 14:33:54.385493 0:01:44.332122\n",
      "2019-04-17 14:37:11.354143 2019-04-17 14:35:39.730414 0:01:30.620202\n",
      "2019-04-17 14:38:50.525980 2019-04-17 14:37:11.364252 0:01:38.155504\n",
      "2019-04-17 14:40:29.144778 2019-04-17 14:38:50.535300 0:01:37.607265\n",
      "2019-04-17 14:42:28.047041 2019-04-17 14:40:29.154021 0:01:57.887339\n",
      "2019-04-17 14:44:33.251192 2019-04-17 14:42:28.056306 0:02:04.190003\n",
      "2019-04-17 14:46:25.694151 2019-04-17 14:44:33.260987 0:01:51.428869\n",
      "2019-04-17 14:48:07.308746 2019-04-17 14:46:25.701556 0:01:40.603492\n",
      "2019-04-17 14:50:02.378871 2019-04-17 14:48:07.318925 0:01:54.054984\n",
      "2019-04-17 14:51:57.836530 2019-04-17 14:50:02.389231 0:01:54.444345\n",
      "2019-04-17 14:53:38.224402 2019-04-17 14:51:57.846648 0:01:39.370715\n",
      "2019-04-17 14:55:55.169377 2019-04-17 14:53:38.235174 0:02:15.928914\n",
      "2019-04-17 14:58:16.667379 2019-04-17 14:55:55.179693 0:02:20.481052\n",
      "2019-04-17 15:00:04.735039 2019-04-17 14:58:16.678351 0:01:47.050702\n",
      "2019-04-17 15:01:47.747135 2019-04-17 15:00:04.746126 0:01:41.996388\n",
      "2019-04-17 15:03:52.010945 2019-04-17 15:01:47.757793 0:02:03.246062\n",
      "2019-04-17 15:05:32.525072 2019-04-17 15:03:52.021668 0:01:39.497211\n",
      "2019-04-17 15:07:52.921570 2019-04-17 15:05:32.534322 0:02:19.380328\n",
      "2019-04-17 15:09:59.800415 2019-04-17 15:07:52.930064 0:02:05.866327\n",
      "2019-04-17 15:11:44.651730 2019-04-17 15:09:59.810272 0:01:43.835582\n",
      "2019-04-17 15:13:53.152336 2019-04-17 15:11:44.662907 0:02:07.482979\n",
      "2019-04-17 15:16:29.876512 2019-04-17 15:13:53.164203 0:02:35.705851\n",
      "2019-04-17 15:19:11.195504 2019-04-17 15:16:29.885244 0:02:40.305779\n",
      "2019-04-17 15:21:06.266149 2019-04-17 15:19:11.207347 0:01:54.052286\n",
      "2019-04-17 15:23:07.858353 2019-04-17 15:21:06.278414 0:02:00.573920\n",
      "2019-04-17 15:25:27.392290 2019-04-17 15:23:07.870711 0:02:18.515034\n",
      "2019-04-17 15:27:37.650552 2019-04-17 15:25:27.404847 0:02:09.243426\n",
      "2019-04-17 15:30:02.276457 2019-04-17 15:27:37.662524 0:02:23.611881\n",
      "2019-04-17 15:32:17.902105 2019-04-17 15:30:02.288760 0:02:14.610388\n",
      "2019-04-17 15:34:41.100515 2019-04-17 15:32:17.914502 0:02:22.183822\n",
      "2019-04-17 15:37:34.718077 2019-04-17 15:34:41.113157 0:02:52.601260\n",
      "2019-04-17 15:40:13.921761 2019-04-17 15:37:34.728312 0:02:38.186080\n",
      "2019-04-17 15:42:37.644619 2019-04-17 15:40:13.934613 0:02:22.706755\n",
      "2019-04-17 15:45:26.297423 2019-04-17 15:42:37.657279 0:02:47.636495\n",
      "[[0, 1.0], [1, 2.0], [2, 2.9990997961595953], [3, 4.001054552950209], [4, 5.001652033375256], [5, 6.001826298499227], [6, 7.000065722846756], [7, 8.002374984689565], [8, 9.002902759065021], [9, 10.004997923755521], [10, 11.005484870301936], [11, 12.00468623813379], [12, 13.007468505313094], [13, 14.006301426882834], [14, 15.006327317701254], [15, 16.00769753947603], [16, 17.010915967365623], [17, 18.010073519966305], [18, 19.01048777306101], [19, 20.01061025654814], [20, 21.010030700535843], [21, 22.008010220898477], [22, 23.010953807792546], [23, 24.009925145660755], [24, 25.007210592929624], [25, 26.00816755741041], [26, 27.01069290800694], [27, 28.00964731726311], [28, 29.0107705804622], [29, 30.013703213548474], [30, 31.011904797469075], [31, 32.009572632209974], [32, 33.008916399543125], [33, 34.010510676477296], [34, 35.00808689755302], [35, 36.007906657624794], [36, 37.007549165170474], [37, 38.005254840338296], [38, 39.006945709941185], [39, 40.008197431431654], [40, 41.00836273434925], [41, 42.010539554697836], [42, 43.01015816302651], [43, 44.00903888303026], [44, 45.00773338830153], [45, 46.00719963912182], [46, 47.00651253663302], [47, 48.0085111086548], [48, 49.006515524035144], [49, 50.00797337627226], [50, 51.00863657954406], [51, 52.008714251999315], [52, 53.008197431431654], [53, 54.00893930295942], [54, 55.0076816066647], [55, 56.01049175626383], [56, 57.01155925462325], [57, 58.013966104935484], [58, 59.015727676388664], [59, 60.01612997987486], [60, 61.01899091531013], [61, 62.02095861750996], [62, 63.023650266824795], [63, 64.02345807728807], [64, 65.02511011066333], [65, 66.02733373364522], [66, 67.02956532303277], [67, 68.02982821441978], [68, 69.03211756024842], [69, 70.03391199312499], [70, 71.03623021717416], [71, 72.03430035540127], [72, 73.03214444686756], [73, 74.03088973797496], [74, 75.0288722457397], [75, 76.02831758474512], [76, 77.03145634857803], [77, 78.0304944050937], [78, 79.02992879029132]]\n"
     ]
    },
    {
     "name": "stderr",
     "output_type": "stream",
     "text": [
      "reconstraining parameters GP_regression.mul\n",
      "reconstraining parameters GP_regression.Gaussian_noise.variance\n"
     ]
    },
    {
     "name": "stdout",
     "output_type": "stream",
     "text": [
      "sampling end!. 2019-04-17 15:45:26.308278 2019-04-17 15:48:00.805833\n"
     ]
    },
    {
     "name": "stderr",
     "output_type": "stream",
     "text": [
      "[I 2019-04-17 15:48:01,821] Finished a trial resulted in value: -0.4016320552580156. Current best value is -0.4016320552580156 with parameters: {'a': 0.03498819430020029, 'b': 0.6602911621187639, 'ab': [0.03498819430020029, 0.6602911621187639]}.\n"
     ]
    },
    {
     "name": "stdout",
     "output_type": "stream",
     "text": [
      "2019-04-17 13:32:45.535397 2019-04-17 13:32:44.528432 0:00:00.000208\n",
      "2019-04-17 13:32:46.544049 2019-04-17 13:32:45.539577 0:00:00.000255\n",
      "2019-04-17 13:32:47.551702 2019-04-17 13:32:46.548077 0:00:00.000312\n",
      "2019-04-17 13:32:48.562685 2019-04-17 13:32:47.555801 0:00:00.000704\n",
      "2019-04-17 13:32:49.571595 2019-04-17 13:32:48.566388 0:00:00.000390\n",
      "2019-04-17 13:32:50.580238 2019-04-17 13:32:49.575298 0:00:00.000548\n",
      "2019-04-17 13:32:51.586422 2019-04-17 13:32:50.583475 0:00:00.000498\n",
      "2019-04-17 13:32:52.597042 2019-04-17 13:32:51.589940 0:00:00.000566\n",
      "2019-04-17 13:32:53.607390 2019-04-17 13:32:52.601836 0:00:00.000807\n",
      "2019-04-17 13:32:54.618539 2019-04-17 13:32:53.611387 0:00:00.000831\n",
      "2019-04-17 13:34:35.122242 2019-04-17 13:32:54.623813 0:01:39.493723\n",
      "2019-04-17 13:36:06.841772 2019-04-17 13:34:35.127388 0:01:30.710969\n",
      "2019-04-17 13:37:47.978833 2019-04-17 13:36:06.847609 0:01:40.124213\n",
      "2019-04-17 13:39:23.736225 2019-04-17 13:37:47.984325 0:01:34.748855\n",
      "2019-04-17 13:41:02.277467 2019-04-17 13:39:23.741729 0:01:37.531495\n",
      "2019-04-17 13:42:49.027379 2019-04-17 13:41:02.282765 0:01:45.739021\n",
      "2019-04-17 13:44:12.567658 2019-04-17 13:42:49.033075 0:01:22.527134\n",
      "2019-04-17 13:46:00.167530 2019-04-17 13:44:12.574396 0:01:46.589763\n",
      "2019-04-17 13:47:43.244229 2019-04-17 13:46:00.173749 0:01:42.065847\n",
      "2019-04-17 13:49:05.804982 2019-04-17 13:47:43.251344 0:01:21.549298\n",
      "2019-04-17 13:50:43.560259 2019-04-17 13:49:05.811815 0:01:36.744809\n",
      "2019-04-17 13:52:57.285626 2019-04-17 13:50:43.566362 0:02:12.717076\n",
      "2019-04-17 13:54:49.150780 2019-04-17 13:52:57.292908 0:01:50.850699\n",
      "2019-04-17 13:56:08.997671 2019-04-17 13:54:49.157619 0:01:18.836868\n",
      "2019-04-17 13:57:42.967280 2019-04-17 13:56:09.004677 0:01:32.961112\n",
      "2019-04-17 13:59:30.969727 2019-04-17 13:57:42.974637 0:01:46.989912\n",
      "2019-04-17 14:01:20.562652 2019-04-17 13:59:30.976434 0:01:48.579465\n",
      "2019-04-17 14:02:56.020329 2019-04-17 14:01:20.569600 0:01:34.447562\n",
      "2019-04-17 14:04:54.973702 2019-04-17 14:02:56.027981 0:01:57.940376\n",
      "2019-04-17 14:06:25.218921 2019-04-17 14:04:54.981432 0:01:29.230327\n",
      "2019-04-17 14:08:11.042810 2019-04-17 14:06:25.227910 0:01:44.812489\n",
      "2019-04-17 14:10:09.786447 2019-04-17 14:08:11.050107 0:01:57.734465\n",
      "2019-04-17 14:12:03.866770 2019-04-17 14:10:09.794211 0:01:53.069001\n",
      "2019-04-17 14:13:59.547424 2019-04-17 14:12:03.874431 0:01:54.667175\n",
      "2019-04-17 14:15:50.282620 2019-04-17 14:13:59.555178 0:01:49.725659\n",
      "2019-04-17 14:17:29.871802 2019-04-17 14:15:50.288872 0:01:38.578894\n",
      "2019-04-17 14:19:13.298968 2019-04-17 14:17:29.879649 0:01:42.415461\n",
      "2019-04-17 14:21:14.836276 2019-04-17 14:19:13.306950 0:02:00.527413\n",
      "2019-04-17 14:23:16.663054 2019-04-17 14:21:14.845227 0:02:00.811912\n",
      "2019-04-17 14:25:09.866602 2019-04-17 14:23:16.671587 0:01:52.189541\n",
      "2019-04-17 14:26:48.742325 2019-04-17 14:25:09.875328 0:01:37.862614\n",
      "2019-04-17 14:28:37.114982 2019-04-17 14:26:48.750813 0:01:47.357766\n",
      "2019-04-17 14:30:11.752872 2019-04-17 14:28:37.124364 0:01:33.624674\n",
      "2019-04-17 14:32:13.594553 2019-04-17 14:30:11.761072 0:02:00.830388\n",
      "2019-04-17 14:33:54.377060 2019-04-17 14:32:13.603926 0:01:39.770228\n",
      "2019-04-17 14:35:39.721296 2019-04-17 14:33:54.385493 0:01:44.332122\n",
      "2019-04-17 14:37:11.354143 2019-04-17 14:35:39.730414 0:01:30.620202\n",
      "2019-04-17 14:38:50.525980 2019-04-17 14:37:11.364252 0:01:38.155504\n",
      "2019-04-17 14:40:29.144778 2019-04-17 14:38:50.535300 0:01:37.607265\n",
      "2019-04-17 14:42:28.047041 2019-04-17 14:40:29.154021 0:01:57.887339\n",
      "2019-04-17 14:44:33.251192 2019-04-17 14:42:28.056306 0:02:04.190003\n",
      "2019-04-17 14:46:25.694151 2019-04-17 14:44:33.260987 0:01:51.428869\n",
      "2019-04-17 14:48:07.308746 2019-04-17 14:46:25.701556 0:01:40.603492\n",
      "2019-04-17 14:50:02.378871 2019-04-17 14:48:07.318925 0:01:54.054984\n",
      "2019-04-17 14:51:57.836530 2019-04-17 14:50:02.389231 0:01:54.444345\n",
      "2019-04-17 14:53:38.224402 2019-04-17 14:51:57.846648 0:01:39.370715\n",
      "2019-04-17 14:55:55.169377 2019-04-17 14:53:38.235174 0:02:15.928914\n",
      "2019-04-17 14:58:16.667379 2019-04-17 14:55:55.179693 0:02:20.481052\n",
      "2019-04-17 15:00:04.735039 2019-04-17 14:58:16.678351 0:01:47.050702\n",
      "2019-04-17 15:01:47.747135 2019-04-17 15:00:04.746126 0:01:41.996388\n",
      "2019-04-17 15:03:52.010945 2019-04-17 15:01:47.757793 0:02:03.246062\n",
      "2019-04-17 15:05:32.525072 2019-04-17 15:03:52.021668 0:01:39.497211\n",
      "2019-04-17 15:07:52.921570 2019-04-17 15:05:32.534322 0:02:19.380328\n",
      "2019-04-17 15:09:59.800415 2019-04-17 15:07:52.930064 0:02:05.866327\n",
      "2019-04-17 15:11:44.651730 2019-04-17 15:09:59.810272 0:01:43.835582\n",
      "2019-04-17 15:13:53.152336 2019-04-17 15:11:44.662907 0:02:07.482979\n",
      "2019-04-17 15:16:29.876512 2019-04-17 15:13:53.164203 0:02:35.705851\n",
      "2019-04-17 15:19:11.195504 2019-04-17 15:16:29.885244 0:02:40.305779\n",
      "2019-04-17 15:21:06.266149 2019-04-17 15:19:11.207347 0:01:54.052286\n",
      "2019-04-17 15:23:07.858353 2019-04-17 15:21:06.278414 0:02:00.573920\n",
      "2019-04-17 15:25:27.392290 2019-04-17 15:23:07.870711 0:02:18.515034\n",
      "2019-04-17 15:27:37.650552 2019-04-17 15:25:27.404847 0:02:09.243426\n",
      "2019-04-17 15:30:02.276457 2019-04-17 15:27:37.662524 0:02:23.611881\n",
      "2019-04-17 15:32:17.902105 2019-04-17 15:30:02.288760 0:02:14.610388\n",
      "2019-04-17 15:34:41.100515 2019-04-17 15:32:17.914502 0:02:22.183822\n",
      "2019-04-17 15:37:34.718077 2019-04-17 15:34:41.113157 0:02:52.601260\n",
      "2019-04-17 15:40:13.921761 2019-04-17 15:37:34.728312 0:02:38.186080\n",
      "2019-04-17 15:42:37.644619 2019-04-17 15:40:13.934613 0:02:22.706755\n",
      "2019-04-17 15:45:26.297423 2019-04-17 15:42:37.657279 0:02:47.636495\n",
      "2019-04-17 15:48:01.811037 2019-04-17 15:45:26.308250 0:02:34.497555\n",
      "[[0, 1.0], [1, 2.0], [2, 2.9990997961595953], [3, 4.001054552950209], [4, 5.001652033375256], [5, 6.001826298499227], [6, 7.000065722846756], [7, 8.002374984689565], [8, 9.002902759065021], [9, 10.004997923755521], [10, 11.005484870301936], [11, 12.00468623813379], [12, 13.007468505313094], [13, 14.006301426882834], [14, 15.006327317701254], [15, 16.00769753947603], [16, 17.010915967365623], [17, 18.010073519966305], [18, 19.01048777306101], [19, 20.01061025654814], [20, 21.010030700535843], [21, 22.008010220898477], [22, 23.010953807792546], [23, 24.009925145660755], [24, 25.007210592929624], [25, 26.00816755741041], [26, 27.01069290800694], [27, 28.00964731726311], [28, 29.0107705804622], [29, 30.013703213548474], [30, 31.011904797469075], [31, 32.009572632209974], [32, 33.008916399543125], [33, 34.010510676477296], [34, 35.00808689755302], [35, 36.007906657624794], [36, 37.007549165170474], [37, 38.005254840338296], [38, 39.006945709941185], [39, 40.008197431431654], [40, 41.00836273434925], [41, 42.010539554697836], [42, 43.01015816302651], [43, 44.00903888303026], [44, 45.00773338830153], [45, 46.00719963912182], [46, 47.00651253663302], [47, 48.0085111086548], [48, 49.006515524035144], [49, 50.00797337627226], [50, 51.00863657954406], [51, 52.008714251999315], [52, 53.008197431431654], [53, 54.00893930295942], [54, 55.0076816066647], [55, 56.01049175626383], [56, 57.01155925462325], [57, 58.013966104935484], [58, 59.015727676388664], [59, 60.01612997987486], [60, 61.01899091531013], [61, 62.02095861750996], [62, 63.023650266824795], [63, 64.02345807728807], [64, 65.02511011066333], [65, 66.02733373364522], [66, 67.02956532303277], [67, 68.02982821441978], [68, 69.03211756024842], [69, 70.03391199312499], [70, 71.03623021717416], [71, 72.03430035540127], [72, 73.03214444686756], [73, 74.03088973797496], [74, 75.0288722457397], [75, 76.02831758474512], [76, 77.03145634857803], [77, 78.0304944050937], [78, 79.02992879029132], [79, 80.03093952801038]]\n"
     ]
    },
    {
     "name": "stderr",
     "output_type": "stream",
     "text": [
      "reconstraining parameters GP_regression.mul\n",
      "reconstraining parameters GP_regression.Gaussian_noise.variance\n"
     ]
    },
    {
     "name": "stdout",
     "output_type": "stream",
     "text": [
      "sampling end!. 2019-04-17 15:48:01.824660 2019-04-17 15:50:07.392441\n"
     ]
    },
    {
     "name": "stderr",
     "output_type": "stream",
     "text": [
      "[I 2019-04-17 15:50:08,403] Finished a trial resulted in value: 0.2632629366167654. Current best value is -0.4016320552580156 with parameters: {'a': 0.03498819430020029, 'b': 0.6602911621187639, 'ab': [0.03498819430020029, 0.6602911621187639]}.\n"
     ]
    },
    {
     "name": "stdout",
     "output_type": "stream",
     "text": [
      "2019-04-17 13:32:45.535397 2019-04-17 13:32:44.528432 0:00:00.000208\n",
      "2019-04-17 13:32:46.544049 2019-04-17 13:32:45.539577 0:00:00.000255\n",
      "2019-04-17 13:32:47.551702 2019-04-17 13:32:46.548077 0:00:00.000312\n",
      "2019-04-17 13:32:48.562685 2019-04-17 13:32:47.555801 0:00:00.000704\n",
      "2019-04-17 13:32:49.571595 2019-04-17 13:32:48.566388 0:00:00.000390\n",
      "2019-04-17 13:32:50.580238 2019-04-17 13:32:49.575298 0:00:00.000548\n",
      "2019-04-17 13:32:51.586422 2019-04-17 13:32:50.583475 0:00:00.000498\n",
      "2019-04-17 13:32:52.597042 2019-04-17 13:32:51.589940 0:00:00.000566\n",
      "2019-04-17 13:32:53.607390 2019-04-17 13:32:52.601836 0:00:00.000807\n",
      "2019-04-17 13:32:54.618539 2019-04-17 13:32:53.611387 0:00:00.000831\n",
      "2019-04-17 13:34:35.122242 2019-04-17 13:32:54.623813 0:01:39.493723\n",
      "2019-04-17 13:36:06.841772 2019-04-17 13:34:35.127388 0:01:30.710969\n",
      "2019-04-17 13:37:47.978833 2019-04-17 13:36:06.847609 0:01:40.124213\n",
      "2019-04-17 13:39:23.736225 2019-04-17 13:37:47.984325 0:01:34.748855\n",
      "2019-04-17 13:41:02.277467 2019-04-17 13:39:23.741729 0:01:37.531495\n",
      "2019-04-17 13:42:49.027379 2019-04-17 13:41:02.282765 0:01:45.739021\n",
      "2019-04-17 13:44:12.567658 2019-04-17 13:42:49.033075 0:01:22.527134\n",
      "2019-04-17 13:46:00.167530 2019-04-17 13:44:12.574396 0:01:46.589763\n",
      "2019-04-17 13:47:43.244229 2019-04-17 13:46:00.173749 0:01:42.065847\n",
      "2019-04-17 13:49:05.804982 2019-04-17 13:47:43.251344 0:01:21.549298\n",
      "2019-04-17 13:50:43.560259 2019-04-17 13:49:05.811815 0:01:36.744809\n",
      "2019-04-17 13:52:57.285626 2019-04-17 13:50:43.566362 0:02:12.717076\n",
      "2019-04-17 13:54:49.150780 2019-04-17 13:52:57.292908 0:01:50.850699\n",
      "2019-04-17 13:56:08.997671 2019-04-17 13:54:49.157619 0:01:18.836868\n",
      "2019-04-17 13:57:42.967280 2019-04-17 13:56:09.004677 0:01:32.961112\n",
      "2019-04-17 13:59:30.969727 2019-04-17 13:57:42.974637 0:01:46.989912\n",
      "2019-04-17 14:01:20.562652 2019-04-17 13:59:30.976434 0:01:48.579465\n",
      "2019-04-17 14:02:56.020329 2019-04-17 14:01:20.569600 0:01:34.447562\n",
      "2019-04-17 14:04:54.973702 2019-04-17 14:02:56.027981 0:01:57.940376\n",
      "2019-04-17 14:06:25.218921 2019-04-17 14:04:54.981432 0:01:29.230327\n",
      "2019-04-17 14:08:11.042810 2019-04-17 14:06:25.227910 0:01:44.812489\n",
      "2019-04-17 14:10:09.786447 2019-04-17 14:08:11.050107 0:01:57.734465\n",
      "2019-04-17 14:12:03.866770 2019-04-17 14:10:09.794211 0:01:53.069001\n",
      "2019-04-17 14:13:59.547424 2019-04-17 14:12:03.874431 0:01:54.667175\n",
      "2019-04-17 14:15:50.282620 2019-04-17 14:13:59.555178 0:01:49.725659\n",
      "2019-04-17 14:17:29.871802 2019-04-17 14:15:50.288872 0:01:38.578894\n",
      "2019-04-17 14:19:13.298968 2019-04-17 14:17:29.879649 0:01:42.415461\n",
      "2019-04-17 14:21:14.836276 2019-04-17 14:19:13.306950 0:02:00.527413\n",
      "2019-04-17 14:23:16.663054 2019-04-17 14:21:14.845227 0:02:00.811912\n",
      "2019-04-17 14:25:09.866602 2019-04-17 14:23:16.671587 0:01:52.189541\n",
      "2019-04-17 14:26:48.742325 2019-04-17 14:25:09.875328 0:01:37.862614\n",
      "2019-04-17 14:28:37.114982 2019-04-17 14:26:48.750813 0:01:47.357766\n",
      "2019-04-17 14:30:11.752872 2019-04-17 14:28:37.124364 0:01:33.624674\n",
      "2019-04-17 14:32:13.594553 2019-04-17 14:30:11.761072 0:02:00.830388\n",
      "2019-04-17 14:33:54.377060 2019-04-17 14:32:13.603926 0:01:39.770228\n",
      "2019-04-17 14:35:39.721296 2019-04-17 14:33:54.385493 0:01:44.332122\n",
      "2019-04-17 14:37:11.354143 2019-04-17 14:35:39.730414 0:01:30.620202\n",
      "2019-04-17 14:38:50.525980 2019-04-17 14:37:11.364252 0:01:38.155504\n",
      "2019-04-17 14:40:29.144778 2019-04-17 14:38:50.535300 0:01:37.607265\n",
      "2019-04-17 14:42:28.047041 2019-04-17 14:40:29.154021 0:01:57.887339\n",
      "2019-04-17 14:44:33.251192 2019-04-17 14:42:28.056306 0:02:04.190003\n",
      "2019-04-17 14:46:25.694151 2019-04-17 14:44:33.260987 0:01:51.428869\n",
      "2019-04-17 14:48:07.308746 2019-04-17 14:46:25.701556 0:01:40.603492\n",
      "2019-04-17 14:50:02.378871 2019-04-17 14:48:07.318925 0:01:54.054984\n",
      "2019-04-17 14:51:57.836530 2019-04-17 14:50:02.389231 0:01:54.444345\n",
      "2019-04-17 14:53:38.224402 2019-04-17 14:51:57.846648 0:01:39.370715\n",
      "2019-04-17 14:55:55.169377 2019-04-17 14:53:38.235174 0:02:15.928914\n",
      "2019-04-17 14:58:16.667379 2019-04-17 14:55:55.179693 0:02:20.481052\n",
      "2019-04-17 15:00:04.735039 2019-04-17 14:58:16.678351 0:01:47.050702\n",
      "2019-04-17 15:01:47.747135 2019-04-17 15:00:04.746126 0:01:41.996388\n",
      "2019-04-17 15:03:52.010945 2019-04-17 15:01:47.757793 0:02:03.246062\n",
      "2019-04-17 15:05:32.525072 2019-04-17 15:03:52.021668 0:01:39.497211\n",
      "2019-04-17 15:07:52.921570 2019-04-17 15:05:32.534322 0:02:19.380328\n",
      "2019-04-17 15:09:59.800415 2019-04-17 15:07:52.930064 0:02:05.866327\n",
      "2019-04-17 15:11:44.651730 2019-04-17 15:09:59.810272 0:01:43.835582\n",
      "2019-04-17 15:13:53.152336 2019-04-17 15:11:44.662907 0:02:07.482979\n",
      "2019-04-17 15:16:29.876512 2019-04-17 15:13:53.164203 0:02:35.705851\n",
      "2019-04-17 15:19:11.195504 2019-04-17 15:16:29.885244 0:02:40.305779\n",
      "2019-04-17 15:21:06.266149 2019-04-17 15:19:11.207347 0:01:54.052286\n",
      "2019-04-17 15:23:07.858353 2019-04-17 15:21:06.278414 0:02:00.573920\n",
      "2019-04-17 15:25:27.392290 2019-04-17 15:23:07.870711 0:02:18.515034\n",
      "2019-04-17 15:27:37.650552 2019-04-17 15:25:27.404847 0:02:09.243426\n",
      "2019-04-17 15:30:02.276457 2019-04-17 15:27:37.662524 0:02:23.611881\n",
      "2019-04-17 15:32:17.902105 2019-04-17 15:30:02.288760 0:02:14.610388\n",
      "2019-04-17 15:34:41.100515 2019-04-17 15:32:17.914502 0:02:22.183822\n",
      "2019-04-17 15:37:34.718077 2019-04-17 15:34:41.113157 0:02:52.601260\n",
      "2019-04-17 15:40:13.921761 2019-04-17 15:37:34.728312 0:02:38.186080\n",
      "2019-04-17 15:42:37.644619 2019-04-17 15:40:13.934613 0:02:22.706755\n",
      "2019-04-17 15:45:26.297423 2019-04-17 15:42:37.657279 0:02:47.636495\n",
      "2019-04-17 15:48:01.811037 2019-04-17 15:45:26.308250 0:02:34.497555\n",
      "2019-04-17 15:50:08.394413 2019-04-17 15:48:01.824631 0:02:05.567781\n",
      "[[0, 1.0], [1, 2.0], [2, 2.9990997961595953], [3, 4.001054552950209], [4, 5.001652033375256], [5, 6.001826298499227], [6, 7.000065722846756], [7, 8.002374984689565], [8, 9.002902759065021], [9, 10.004997923755521], [10, 11.005484870301936], [11, 12.00468623813379], [12, 13.007468505313094], [13, 14.006301426882834], [14, 15.006327317701254], [15, 16.00769753947603], [16, 17.010915967365623], [17, 18.010073519966305], [18, 19.01048777306101], [19, 20.01061025654814], [20, 21.010030700535843], [21, 22.008010220898477], [22, 23.010953807792546], [23, 24.009925145660755], [24, 25.007210592929624], [25, 26.00816755741041], [26, 27.01069290800694], [27, 28.00964731726311], [28, 29.0107705804622], [29, 30.013703213548474], [30, 31.011904797469075], [31, 32.009572632209974], [32, 33.008916399543125], [33, 34.010510676477296], [34, 35.00808689755302], [35, 36.007906657624794], [36, 37.007549165170474], [37, 38.005254840338296], [38, 39.006945709941185], [39, 40.008197431431654], [40, 41.00836273434925], [41, 42.010539554697836], [42, 43.01015816302651], [43, 44.00903888303026], [44, 45.00773338830153], [45, 46.00719963912182], [46, 47.00651253663302], [47, 48.0085111086548], [48, 49.006515524035144], [49, 50.00797337627226], [50, 51.00863657954406], [51, 52.008714251999315], [52, 53.008197431431654], [53, 54.00893930295942], [54, 55.0076816066647], [55, 56.01049175626383], [56, 57.01155925462325], [57, 58.013966104935484], [58, 59.015727676388664], [59, 60.01612997987486], [60, 61.01899091531013], [61, 62.02095861750996], [62, 63.023650266824795], [63, 64.02345807728807], [64, 65.02511011066333], [65, 66.02733373364522], [66, 67.02956532303277], [67, 68.02982821441978], [68, 69.03211756024842], [69, 70.03391199312499], [70, 71.03623021717416], [71, 72.03430035540127], [72, 73.03214444686756], [73, 74.03088973797496], [74, 75.0288722457397], [75, 76.02831758474512], [76, 77.03145634857803], [77, 78.0304944050937], [78, 79.02992879029132], [79, 80.03093952801038], [80, 81.02873283364053]]\n"
     ]
    },
    {
     "name": "stderr",
     "output_type": "stream",
     "text": [
      "reconstraining parameters GP_regression.mul\n",
      "reconstraining parameters GP_regression.Gaussian_noise.variance\n"
     ]
    },
    {
     "name": "stdout",
     "output_type": "stream",
     "text": [
      "sampling end!. 2019-04-17 15:50:08.405070 2019-04-17 15:52:42.398928\n"
     ]
    },
    {
     "name": "stderr",
     "output_type": "stream",
     "text": [
      "[I 2019-04-17 15:52:43,414] Finished a trial resulted in value: -0.3131388969504276. Current best value is -0.4016320552580156 with parameters: {'a': 0.03498819430020029, 'b': 0.6602911621187639, 'ab': [0.03498819430020029, 0.6602911621187639]}.\n"
     ]
    },
    {
     "name": "stdout",
     "output_type": "stream",
     "text": [
      "2019-04-17 13:32:45.535397 2019-04-17 13:32:44.528432 0:00:00.000208\n",
      "2019-04-17 13:32:46.544049 2019-04-17 13:32:45.539577 0:00:00.000255\n",
      "2019-04-17 13:32:47.551702 2019-04-17 13:32:46.548077 0:00:00.000312\n",
      "2019-04-17 13:32:48.562685 2019-04-17 13:32:47.555801 0:00:00.000704\n",
      "2019-04-17 13:32:49.571595 2019-04-17 13:32:48.566388 0:00:00.000390\n",
      "2019-04-17 13:32:50.580238 2019-04-17 13:32:49.575298 0:00:00.000548\n",
      "2019-04-17 13:32:51.586422 2019-04-17 13:32:50.583475 0:00:00.000498\n",
      "2019-04-17 13:32:52.597042 2019-04-17 13:32:51.589940 0:00:00.000566\n",
      "2019-04-17 13:32:53.607390 2019-04-17 13:32:52.601836 0:00:00.000807\n",
      "2019-04-17 13:32:54.618539 2019-04-17 13:32:53.611387 0:00:00.000831\n",
      "2019-04-17 13:34:35.122242 2019-04-17 13:32:54.623813 0:01:39.493723\n",
      "2019-04-17 13:36:06.841772 2019-04-17 13:34:35.127388 0:01:30.710969\n",
      "2019-04-17 13:37:47.978833 2019-04-17 13:36:06.847609 0:01:40.124213\n",
      "2019-04-17 13:39:23.736225 2019-04-17 13:37:47.984325 0:01:34.748855\n",
      "2019-04-17 13:41:02.277467 2019-04-17 13:39:23.741729 0:01:37.531495\n",
      "2019-04-17 13:42:49.027379 2019-04-17 13:41:02.282765 0:01:45.739021\n",
      "2019-04-17 13:44:12.567658 2019-04-17 13:42:49.033075 0:01:22.527134\n",
      "2019-04-17 13:46:00.167530 2019-04-17 13:44:12.574396 0:01:46.589763\n",
      "2019-04-17 13:47:43.244229 2019-04-17 13:46:00.173749 0:01:42.065847\n",
      "2019-04-17 13:49:05.804982 2019-04-17 13:47:43.251344 0:01:21.549298\n",
      "2019-04-17 13:50:43.560259 2019-04-17 13:49:05.811815 0:01:36.744809\n",
      "2019-04-17 13:52:57.285626 2019-04-17 13:50:43.566362 0:02:12.717076\n",
      "2019-04-17 13:54:49.150780 2019-04-17 13:52:57.292908 0:01:50.850699\n",
      "2019-04-17 13:56:08.997671 2019-04-17 13:54:49.157619 0:01:18.836868\n",
      "2019-04-17 13:57:42.967280 2019-04-17 13:56:09.004677 0:01:32.961112\n",
      "2019-04-17 13:59:30.969727 2019-04-17 13:57:42.974637 0:01:46.989912\n",
      "2019-04-17 14:01:20.562652 2019-04-17 13:59:30.976434 0:01:48.579465\n",
      "2019-04-17 14:02:56.020329 2019-04-17 14:01:20.569600 0:01:34.447562\n",
      "2019-04-17 14:04:54.973702 2019-04-17 14:02:56.027981 0:01:57.940376\n",
      "2019-04-17 14:06:25.218921 2019-04-17 14:04:54.981432 0:01:29.230327\n",
      "2019-04-17 14:08:11.042810 2019-04-17 14:06:25.227910 0:01:44.812489\n",
      "2019-04-17 14:10:09.786447 2019-04-17 14:08:11.050107 0:01:57.734465\n",
      "2019-04-17 14:12:03.866770 2019-04-17 14:10:09.794211 0:01:53.069001\n",
      "2019-04-17 14:13:59.547424 2019-04-17 14:12:03.874431 0:01:54.667175\n",
      "2019-04-17 14:15:50.282620 2019-04-17 14:13:59.555178 0:01:49.725659\n",
      "2019-04-17 14:17:29.871802 2019-04-17 14:15:50.288872 0:01:38.578894\n",
      "2019-04-17 14:19:13.298968 2019-04-17 14:17:29.879649 0:01:42.415461\n",
      "2019-04-17 14:21:14.836276 2019-04-17 14:19:13.306950 0:02:00.527413\n",
      "2019-04-17 14:23:16.663054 2019-04-17 14:21:14.845227 0:02:00.811912\n",
      "2019-04-17 14:25:09.866602 2019-04-17 14:23:16.671587 0:01:52.189541\n",
      "2019-04-17 14:26:48.742325 2019-04-17 14:25:09.875328 0:01:37.862614\n",
      "2019-04-17 14:28:37.114982 2019-04-17 14:26:48.750813 0:01:47.357766\n",
      "2019-04-17 14:30:11.752872 2019-04-17 14:28:37.124364 0:01:33.624674\n",
      "2019-04-17 14:32:13.594553 2019-04-17 14:30:11.761072 0:02:00.830388\n",
      "2019-04-17 14:33:54.377060 2019-04-17 14:32:13.603926 0:01:39.770228\n",
      "2019-04-17 14:35:39.721296 2019-04-17 14:33:54.385493 0:01:44.332122\n",
      "2019-04-17 14:37:11.354143 2019-04-17 14:35:39.730414 0:01:30.620202\n",
      "2019-04-17 14:38:50.525980 2019-04-17 14:37:11.364252 0:01:38.155504\n",
      "2019-04-17 14:40:29.144778 2019-04-17 14:38:50.535300 0:01:37.607265\n",
      "2019-04-17 14:42:28.047041 2019-04-17 14:40:29.154021 0:01:57.887339\n",
      "2019-04-17 14:44:33.251192 2019-04-17 14:42:28.056306 0:02:04.190003\n",
      "2019-04-17 14:46:25.694151 2019-04-17 14:44:33.260987 0:01:51.428869\n",
      "2019-04-17 14:48:07.308746 2019-04-17 14:46:25.701556 0:01:40.603492\n",
      "2019-04-17 14:50:02.378871 2019-04-17 14:48:07.318925 0:01:54.054984\n",
      "2019-04-17 14:51:57.836530 2019-04-17 14:50:02.389231 0:01:54.444345\n",
      "2019-04-17 14:53:38.224402 2019-04-17 14:51:57.846648 0:01:39.370715\n",
      "2019-04-17 14:55:55.169377 2019-04-17 14:53:38.235174 0:02:15.928914\n",
      "2019-04-17 14:58:16.667379 2019-04-17 14:55:55.179693 0:02:20.481052\n",
      "2019-04-17 15:00:04.735039 2019-04-17 14:58:16.678351 0:01:47.050702\n",
      "2019-04-17 15:01:47.747135 2019-04-17 15:00:04.746126 0:01:41.996388\n",
      "2019-04-17 15:03:52.010945 2019-04-17 15:01:47.757793 0:02:03.246062\n",
      "2019-04-17 15:05:32.525072 2019-04-17 15:03:52.021668 0:01:39.497211\n",
      "2019-04-17 15:07:52.921570 2019-04-17 15:05:32.534322 0:02:19.380328\n",
      "2019-04-17 15:09:59.800415 2019-04-17 15:07:52.930064 0:02:05.866327\n",
      "2019-04-17 15:11:44.651730 2019-04-17 15:09:59.810272 0:01:43.835582\n",
      "2019-04-17 15:13:53.152336 2019-04-17 15:11:44.662907 0:02:07.482979\n",
      "2019-04-17 15:16:29.876512 2019-04-17 15:13:53.164203 0:02:35.705851\n",
      "2019-04-17 15:19:11.195504 2019-04-17 15:16:29.885244 0:02:40.305779\n",
      "2019-04-17 15:21:06.266149 2019-04-17 15:19:11.207347 0:01:54.052286\n",
      "2019-04-17 15:23:07.858353 2019-04-17 15:21:06.278414 0:02:00.573920\n",
      "2019-04-17 15:25:27.392290 2019-04-17 15:23:07.870711 0:02:18.515034\n",
      "2019-04-17 15:27:37.650552 2019-04-17 15:25:27.404847 0:02:09.243426\n",
      "2019-04-17 15:30:02.276457 2019-04-17 15:27:37.662524 0:02:23.611881\n",
      "2019-04-17 15:32:17.902105 2019-04-17 15:30:02.288760 0:02:14.610388\n",
      "2019-04-17 15:34:41.100515 2019-04-17 15:32:17.914502 0:02:22.183822\n",
      "2019-04-17 15:37:34.718077 2019-04-17 15:34:41.113157 0:02:52.601260\n",
      "2019-04-17 15:40:13.921761 2019-04-17 15:37:34.728312 0:02:38.186080\n",
      "2019-04-17 15:42:37.644619 2019-04-17 15:40:13.934613 0:02:22.706755\n",
      "2019-04-17 15:45:26.297423 2019-04-17 15:42:37.657279 0:02:47.636495\n",
      "2019-04-17 15:48:01.811037 2019-04-17 15:45:26.308250 0:02:34.497555\n",
      "2019-04-17 15:50:08.394413 2019-04-17 15:48:01.824631 0:02:05.567781\n",
      "2019-04-17 15:52:43.403139 2019-04-17 15:50:08.405042 0:02:33.993858\n",
      "[[0, 1.0], [1, 2.0], [2, 2.9990997961595953], [3, 4.001054552950209], [4, 5.001652033375256], [5, 6.001826298499227], [6, 7.000065722846756], [7, 8.002374984689565], [8, 9.002902759065021], [9, 10.004997923755521], [10, 11.005484870301936], [11, 12.00468623813379], [12, 13.007468505313094], [13, 14.006301426882834], [14, 15.006327317701254], [15, 16.00769753947603], [16, 17.010915967365623], [17, 18.010073519966305], [18, 19.01048777306101], [19, 20.01061025654814], [20, 21.010030700535843], [21, 22.008010220898477], [22, 23.010953807792546], [23, 24.009925145660755], [24, 25.007210592929624], [25, 26.00816755741041], [26, 27.01069290800694], [27, 28.00964731726311], [28, 29.0107705804622], [29, 30.013703213548474], [30, 31.011904797469075], [31, 32.009572632209974], [32, 33.008916399543125], [33, 34.010510676477296], [34, 35.00808689755302], [35, 36.007906657624794], [36, 37.007549165170474], [37, 38.005254840338296], [38, 39.006945709941185], [39, 40.008197431431654], [40, 41.00836273434925], [41, 42.010539554697836], [42, 43.01015816302651], [43, 44.00903888303026], [44, 45.00773338830153], [45, 46.00719963912182], [46, 47.00651253663302], [47, 48.0085111086548], [48, 49.006515524035144], [49, 50.00797337627226], [50, 51.00863657954406], [51, 52.008714251999315], [52, 53.008197431431654], [53, 54.00893930295942], [54, 55.0076816066647], [55, 56.01049175626383], [56, 57.01155925462325], [57, 58.013966104935484], [58, 59.015727676388664], [59, 60.01612997987486], [60, 61.01899091531013], [61, 62.02095861750996], [62, 63.023650266824795], [63, 64.02345807728807], [64, 65.02511011066333], [65, 66.02733373364522], [66, 67.02956532303277], [67, 68.02982821441978], [68, 69.03211756024842], [69, 70.03391199312499], [70, 71.03623021717416], [71, 72.03430035540127], [72, 73.03214444686756], [73, 74.03088973797496], [74, 75.0288722457397], [75, 76.02831758474512], [76, 77.03145634857803], [77, 78.0304944050937], [78, 79.02992879029132], [79, 80.03093952801038], [80, 81.02873283364053], [81, 82.02875474125612]]\n"
     ]
    },
    {
     "name": "stderr",
     "output_type": "stream",
     "text": [
      "reconstraining parameters GP_regression.mul\n",
      "reconstraining parameters GP_regression.Gaussian_noise.variance\n"
     ]
    },
    {
     "name": "stdout",
     "output_type": "stream",
     "text": [
      "sampling end!. 2019-04-17 15:52:43.415994 2019-04-17 15:55:31.481533\n"
     ]
    },
    {
     "name": "stderr",
     "output_type": "stream",
     "text": [
      "[I 2019-04-17 15:55:32,494] Finished a trial resulted in value: -0.26563017978467884. Current best value is -0.4016320552580156 with parameters: {'a': 0.03498819430020029, 'b': 0.6602911621187639, 'ab': [0.03498819430020029, 0.6602911621187639]}.\n"
     ]
    },
    {
     "name": "stdout",
     "output_type": "stream",
     "text": [
      "2019-04-17 13:32:45.535397 2019-04-17 13:32:44.528432 0:00:00.000208\n",
      "2019-04-17 13:32:46.544049 2019-04-17 13:32:45.539577 0:00:00.000255\n",
      "2019-04-17 13:32:47.551702 2019-04-17 13:32:46.548077 0:00:00.000312\n",
      "2019-04-17 13:32:48.562685 2019-04-17 13:32:47.555801 0:00:00.000704\n",
      "2019-04-17 13:32:49.571595 2019-04-17 13:32:48.566388 0:00:00.000390\n",
      "2019-04-17 13:32:50.580238 2019-04-17 13:32:49.575298 0:00:00.000548\n",
      "2019-04-17 13:32:51.586422 2019-04-17 13:32:50.583475 0:00:00.000498\n",
      "2019-04-17 13:32:52.597042 2019-04-17 13:32:51.589940 0:00:00.000566\n",
      "2019-04-17 13:32:53.607390 2019-04-17 13:32:52.601836 0:00:00.000807\n",
      "2019-04-17 13:32:54.618539 2019-04-17 13:32:53.611387 0:00:00.000831\n",
      "2019-04-17 13:34:35.122242 2019-04-17 13:32:54.623813 0:01:39.493723\n",
      "2019-04-17 13:36:06.841772 2019-04-17 13:34:35.127388 0:01:30.710969\n",
      "2019-04-17 13:37:47.978833 2019-04-17 13:36:06.847609 0:01:40.124213\n",
      "2019-04-17 13:39:23.736225 2019-04-17 13:37:47.984325 0:01:34.748855\n",
      "2019-04-17 13:41:02.277467 2019-04-17 13:39:23.741729 0:01:37.531495\n",
      "2019-04-17 13:42:49.027379 2019-04-17 13:41:02.282765 0:01:45.739021\n",
      "2019-04-17 13:44:12.567658 2019-04-17 13:42:49.033075 0:01:22.527134\n",
      "2019-04-17 13:46:00.167530 2019-04-17 13:44:12.574396 0:01:46.589763\n",
      "2019-04-17 13:47:43.244229 2019-04-17 13:46:00.173749 0:01:42.065847\n",
      "2019-04-17 13:49:05.804982 2019-04-17 13:47:43.251344 0:01:21.549298\n",
      "2019-04-17 13:50:43.560259 2019-04-17 13:49:05.811815 0:01:36.744809\n",
      "2019-04-17 13:52:57.285626 2019-04-17 13:50:43.566362 0:02:12.717076\n",
      "2019-04-17 13:54:49.150780 2019-04-17 13:52:57.292908 0:01:50.850699\n",
      "2019-04-17 13:56:08.997671 2019-04-17 13:54:49.157619 0:01:18.836868\n",
      "2019-04-17 13:57:42.967280 2019-04-17 13:56:09.004677 0:01:32.961112\n",
      "2019-04-17 13:59:30.969727 2019-04-17 13:57:42.974637 0:01:46.989912\n",
      "2019-04-17 14:01:20.562652 2019-04-17 13:59:30.976434 0:01:48.579465\n",
      "2019-04-17 14:02:56.020329 2019-04-17 14:01:20.569600 0:01:34.447562\n",
      "2019-04-17 14:04:54.973702 2019-04-17 14:02:56.027981 0:01:57.940376\n",
      "2019-04-17 14:06:25.218921 2019-04-17 14:04:54.981432 0:01:29.230327\n",
      "2019-04-17 14:08:11.042810 2019-04-17 14:06:25.227910 0:01:44.812489\n",
      "2019-04-17 14:10:09.786447 2019-04-17 14:08:11.050107 0:01:57.734465\n",
      "2019-04-17 14:12:03.866770 2019-04-17 14:10:09.794211 0:01:53.069001\n",
      "2019-04-17 14:13:59.547424 2019-04-17 14:12:03.874431 0:01:54.667175\n",
      "2019-04-17 14:15:50.282620 2019-04-17 14:13:59.555178 0:01:49.725659\n",
      "2019-04-17 14:17:29.871802 2019-04-17 14:15:50.288872 0:01:38.578894\n",
      "2019-04-17 14:19:13.298968 2019-04-17 14:17:29.879649 0:01:42.415461\n",
      "2019-04-17 14:21:14.836276 2019-04-17 14:19:13.306950 0:02:00.527413\n",
      "2019-04-17 14:23:16.663054 2019-04-17 14:21:14.845227 0:02:00.811912\n",
      "2019-04-17 14:25:09.866602 2019-04-17 14:23:16.671587 0:01:52.189541\n",
      "2019-04-17 14:26:48.742325 2019-04-17 14:25:09.875328 0:01:37.862614\n",
      "2019-04-17 14:28:37.114982 2019-04-17 14:26:48.750813 0:01:47.357766\n",
      "2019-04-17 14:30:11.752872 2019-04-17 14:28:37.124364 0:01:33.624674\n",
      "2019-04-17 14:32:13.594553 2019-04-17 14:30:11.761072 0:02:00.830388\n",
      "2019-04-17 14:33:54.377060 2019-04-17 14:32:13.603926 0:01:39.770228\n",
      "2019-04-17 14:35:39.721296 2019-04-17 14:33:54.385493 0:01:44.332122\n",
      "2019-04-17 14:37:11.354143 2019-04-17 14:35:39.730414 0:01:30.620202\n",
      "2019-04-17 14:38:50.525980 2019-04-17 14:37:11.364252 0:01:38.155504\n",
      "2019-04-17 14:40:29.144778 2019-04-17 14:38:50.535300 0:01:37.607265\n",
      "2019-04-17 14:42:28.047041 2019-04-17 14:40:29.154021 0:01:57.887339\n",
      "2019-04-17 14:44:33.251192 2019-04-17 14:42:28.056306 0:02:04.190003\n",
      "2019-04-17 14:46:25.694151 2019-04-17 14:44:33.260987 0:01:51.428869\n",
      "2019-04-17 14:48:07.308746 2019-04-17 14:46:25.701556 0:01:40.603492\n",
      "2019-04-17 14:50:02.378871 2019-04-17 14:48:07.318925 0:01:54.054984\n",
      "2019-04-17 14:51:57.836530 2019-04-17 14:50:02.389231 0:01:54.444345\n",
      "2019-04-17 14:53:38.224402 2019-04-17 14:51:57.846648 0:01:39.370715\n",
      "2019-04-17 14:55:55.169377 2019-04-17 14:53:38.235174 0:02:15.928914\n",
      "2019-04-17 14:58:16.667379 2019-04-17 14:55:55.179693 0:02:20.481052\n",
      "2019-04-17 15:00:04.735039 2019-04-17 14:58:16.678351 0:01:47.050702\n",
      "2019-04-17 15:01:47.747135 2019-04-17 15:00:04.746126 0:01:41.996388\n",
      "2019-04-17 15:03:52.010945 2019-04-17 15:01:47.757793 0:02:03.246062\n",
      "2019-04-17 15:05:32.525072 2019-04-17 15:03:52.021668 0:01:39.497211\n",
      "2019-04-17 15:07:52.921570 2019-04-17 15:05:32.534322 0:02:19.380328\n",
      "2019-04-17 15:09:59.800415 2019-04-17 15:07:52.930064 0:02:05.866327\n",
      "2019-04-17 15:11:44.651730 2019-04-17 15:09:59.810272 0:01:43.835582\n",
      "2019-04-17 15:13:53.152336 2019-04-17 15:11:44.662907 0:02:07.482979\n",
      "2019-04-17 15:16:29.876512 2019-04-17 15:13:53.164203 0:02:35.705851\n",
      "2019-04-17 15:19:11.195504 2019-04-17 15:16:29.885244 0:02:40.305779\n",
      "2019-04-17 15:21:06.266149 2019-04-17 15:19:11.207347 0:01:54.052286\n",
      "2019-04-17 15:23:07.858353 2019-04-17 15:21:06.278414 0:02:00.573920\n",
      "2019-04-17 15:25:27.392290 2019-04-17 15:23:07.870711 0:02:18.515034\n",
      "2019-04-17 15:27:37.650552 2019-04-17 15:25:27.404847 0:02:09.243426\n",
      "2019-04-17 15:30:02.276457 2019-04-17 15:27:37.662524 0:02:23.611881\n",
      "2019-04-17 15:32:17.902105 2019-04-17 15:30:02.288760 0:02:14.610388\n",
      "2019-04-17 15:34:41.100515 2019-04-17 15:32:17.914502 0:02:22.183822\n",
      "2019-04-17 15:37:34.718077 2019-04-17 15:34:41.113157 0:02:52.601260\n",
      "2019-04-17 15:40:13.921761 2019-04-17 15:37:34.728312 0:02:38.186080\n",
      "2019-04-17 15:42:37.644619 2019-04-17 15:40:13.934613 0:02:22.706755\n",
      "2019-04-17 15:45:26.297423 2019-04-17 15:42:37.657279 0:02:47.636495\n",
      "2019-04-17 15:48:01.811037 2019-04-17 15:45:26.308250 0:02:34.497555\n",
      "2019-04-17 15:50:08.394413 2019-04-17 15:48:01.824631 0:02:05.567781\n",
      "2019-04-17 15:52:43.403139 2019-04-17 15:50:08.405042 0:02:33.993858\n",
      "2019-04-17 15:55:32.483305 2019-04-17 15:52:43.415967 0:02:48.065539\n",
      "[[0, 1.0], [1, 2.0], [2, 2.9990997961595953], [3, 4.001054552950209], [4, 5.001652033375256], [5, 6.001826298499227], [6, 7.000065722846756], [7, 8.002374984689565], [8, 9.002902759065021], [9, 10.004997923755521], [10, 11.005484870301936], [11, 12.00468623813379], [12, 13.007468505313094], [13, 14.006301426882834], [14, 15.006327317701254], [15, 16.00769753947603], [16, 17.010915967365623], [17, 18.010073519966305], [18, 19.01048777306101], [19, 20.01061025654814], [20, 21.010030700535843], [21, 22.008010220898477], [22, 23.010953807792546], [23, 24.009925145660755], [24, 25.007210592929624], [25, 26.00816755741041], [26, 27.01069290800694], [27, 28.00964731726311], [28, 29.0107705804622], [29, 30.013703213548474], [30, 31.011904797469075], [31, 32.009572632209974], [32, 33.008916399543125], [33, 34.010510676477296], [34, 35.00808689755302], [35, 36.007906657624794], [36, 37.007549165170474], [37, 38.005254840338296], [38, 39.006945709941185], [39, 40.008197431431654], [40, 41.00836273434925], [41, 42.010539554697836], [42, 43.01015816302651], [43, 44.00903888303026], [44, 45.00773338830153], [45, 46.00719963912182], [46, 47.00651253663302], [47, 48.0085111086548], [48, 49.006515524035144], [49, 50.00797337627226], [50, 51.00863657954406], [51, 52.008714251999315], [52, 53.008197431431654], [53, 54.00893930295942], [54, 55.0076816066647], [55, 56.01049175626383], [56, 57.01155925462325], [57, 58.013966104935484], [58, 59.015727676388664], [59, 60.01612997987486], [60, 61.01899091531013], [61, 62.02095861750996], [62, 63.023650266824795], [63, 64.02345807728807], [64, 65.02511011066333], [65, 66.02733373364522], [66, 67.02956532303277], [67, 68.02982821441978], [68, 69.03211756024842], [69, 70.03391199312499], [70, 71.03623021717416], [71, 72.03430035540127], [72, 73.03214444686756], [73, 74.03088973797496], [74, 75.0288722457397], [75, 76.02831758474512], [76, 77.03145634857803], [77, 78.0304944050937], [78, 79.02992879029132], [79, 80.03093952801038], [80, 81.02873283364053], [81, 82.02875474125612], [82, 83.02634689514318]]\n"
     ]
    },
    {
     "name": "stderr",
     "output_type": "stream",
     "text": [
      "reconstraining parameters GP_regression.mul\n",
      "reconstraining parameters GP_regression.Gaussian_noise.variance\n"
     ]
    },
    {
     "name": "stdout",
     "output_type": "stream",
     "text": [
      "sampling end!. 2019-04-17 15:55:32.496061 2019-04-17 16:35:22.999221\n"
     ]
    },
    {
     "name": "stderr",
     "output_type": "stream",
     "text": [
      "[I 2019-04-17 16:35:24,013] Finished a trial resulted in value: -0.22504639347754724. Current best value is -0.4016320552580156 with parameters: {'a': 0.03498819430020029, 'b': 0.6602911621187639, 'ab': [0.03498819430020029, 0.6602911621187639]}.\n"
     ]
    },
    {
     "name": "stdout",
     "output_type": "stream",
     "text": [
      "2019-04-17 13:32:45.535397 2019-04-17 13:32:44.528432 0:00:00.000208\n",
      "2019-04-17 13:32:46.544049 2019-04-17 13:32:45.539577 0:00:00.000255\n",
      "2019-04-17 13:32:47.551702 2019-04-17 13:32:46.548077 0:00:00.000312\n",
      "2019-04-17 13:32:48.562685 2019-04-17 13:32:47.555801 0:00:00.000704\n",
      "2019-04-17 13:32:49.571595 2019-04-17 13:32:48.566388 0:00:00.000390\n",
      "2019-04-17 13:32:50.580238 2019-04-17 13:32:49.575298 0:00:00.000548\n",
      "2019-04-17 13:32:51.586422 2019-04-17 13:32:50.583475 0:00:00.000498\n",
      "2019-04-17 13:32:52.597042 2019-04-17 13:32:51.589940 0:00:00.000566\n",
      "2019-04-17 13:32:53.607390 2019-04-17 13:32:52.601836 0:00:00.000807\n",
      "2019-04-17 13:32:54.618539 2019-04-17 13:32:53.611387 0:00:00.000831\n",
      "2019-04-17 13:34:35.122242 2019-04-17 13:32:54.623813 0:01:39.493723\n",
      "2019-04-17 13:36:06.841772 2019-04-17 13:34:35.127388 0:01:30.710969\n",
      "2019-04-17 13:37:47.978833 2019-04-17 13:36:06.847609 0:01:40.124213\n",
      "2019-04-17 13:39:23.736225 2019-04-17 13:37:47.984325 0:01:34.748855\n",
      "2019-04-17 13:41:02.277467 2019-04-17 13:39:23.741729 0:01:37.531495\n",
      "2019-04-17 13:42:49.027379 2019-04-17 13:41:02.282765 0:01:45.739021\n",
      "2019-04-17 13:44:12.567658 2019-04-17 13:42:49.033075 0:01:22.527134\n",
      "2019-04-17 13:46:00.167530 2019-04-17 13:44:12.574396 0:01:46.589763\n",
      "2019-04-17 13:47:43.244229 2019-04-17 13:46:00.173749 0:01:42.065847\n",
      "2019-04-17 13:49:05.804982 2019-04-17 13:47:43.251344 0:01:21.549298\n",
      "2019-04-17 13:50:43.560259 2019-04-17 13:49:05.811815 0:01:36.744809\n",
      "2019-04-17 13:52:57.285626 2019-04-17 13:50:43.566362 0:02:12.717076\n",
      "2019-04-17 13:54:49.150780 2019-04-17 13:52:57.292908 0:01:50.850699\n",
      "2019-04-17 13:56:08.997671 2019-04-17 13:54:49.157619 0:01:18.836868\n",
      "2019-04-17 13:57:42.967280 2019-04-17 13:56:09.004677 0:01:32.961112\n",
      "2019-04-17 13:59:30.969727 2019-04-17 13:57:42.974637 0:01:46.989912\n",
      "2019-04-17 14:01:20.562652 2019-04-17 13:59:30.976434 0:01:48.579465\n",
      "2019-04-17 14:02:56.020329 2019-04-17 14:01:20.569600 0:01:34.447562\n",
      "2019-04-17 14:04:54.973702 2019-04-17 14:02:56.027981 0:01:57.940376\n",
      "2019-04-17 14:06:25.218921 2019-04-17 14:04:54.981432 0:01:29.230327\n",
      "2019-04-17 14:08:11.042810 2019-04-17 14:06:25.227910 0:01:44.812489\n",
      "2019-04-17 14:10:09.786447 2019-04-17 14:08:11.050107 0:01:57.734465\n",
      "2019-04-17 14:12:03.866770 2019-04-17 14:10:09.794211 0:01:53.069001\n",
      "2019-04-17 14:13:59.547424 2019-04-17 14:12:03.874431 0:01:54.667175\n",
      "2019-04-17 14:15:50.282620 2019-04-17 14:13:59.555178 0:01:49.725659\n",
      "2019-04-17 14:17:29.871802 2019-04-17 14:15:50.288872 0:01:38.578894\n",
      "2019-04-17 14:19:13.298968 2019-04-17 14:17:29.879649 0:01:42.415461\n",
      "2019-04-17 14:21:14.836276 2019-04-17 14:19:13.306950 0:02:00.527413\n",
      "2019-04-17 14:23:16.663054 2019-04-17 14:21:14.845227 0:02:00.811912\n",
      "2019-04-17 14:25:09.866602 2019-04-17 14:23:16.671587 0:01:52.189541\n",
      "2019-04-17 14:26:48.742325 2019-04-17 14:25:09.875328 0:01:37.862614\n",
      "2019-04-17 14:28:37.114982 2019-04-17 14:26:48.750813 0:01:47.357766\n",
      "2019-04-17 14:30:11.752872 2019-04-17 14:28:37.124364 0:01:33.624674\n",
      "2019-04-17 14:32:13.594553 2019-04-17 14:30:11.761072 0:02:00.830388\n",
      "2019-04-17 14:33:54.377060 2019-04-17 14:32:13.603926 0:01:39.770228\n",
      "2019-04-17 14:35:39.721296 2019-04-17 14:33:54.385493 0:01:44.332122\n",
      "2019-04-17 14:37:11.354143 2019-04-17 14:35:39.730414 0:01:30.620202\n",
      "2019-04-17 14:38:50.525980 2019-04-17 14:37:11.364252 0:01:38.155504\n",
      "2019-04-17 14:40:29.144778 2019-04-17 14:38:50.535300 0:01:37.607265\n",
      "2019-04-17 14:42:28.047041 2019-04-17 14:40:29.154021 0:01:57.887339\n",
      "2019-04-17 14:44:33.251192 2019-04-17 14:42:28.056306 0:02:04.190003\n",
      "2019-04-17 14:46:25.694151 2019-04-17 14:44:33.260987 0:01:51.428869\n",
      "2019-04-17 14:48:07.308746 2019-04-17 14:46:25.701556 0:01:40.603492\n",
      "2019-04-17 14:50:02.378871 2019-04-17 14:48:07.318925 0:01:54.054984\n",
      "2019-04-17 14:51:57.836530 2019-04-17 14:50:02.389231 0:01:54.444345\n",
      "2019-04-17 14:53:38.224402 2019-04-17 14:51:57.846648 0:01:39.370715\n",
      "2019-04-17 14:55:55.169377 2019-04-17 14:53:38.235174 0:02:15.928914\n",
      "2019-04-17 14:58:16.667379 2019-04-17 14:55:55.179693 0:02:20.481052\n",
      "2019-04-17 15:00:04.735039 2019-04-17 14:58:16.678351 0:01:47.050702\n",
      "2019-04-17 15:01:47.747135 2019-04-17 15:00:04.746126 0:01:41.996388\n",
      "2019-04-17 15:03:52.010945 2019-04-17 15:01:47.757793 0:02:03.246062\n",
      "2019-04-17 15:05:32.525072 2019-04-17 15:03:52.021668 0:01:39.497211\n",
      "2019-04-17 15:07:52.921570 2019-04-17 15:05:32.534322 0:02:19.380328\n",
      "2019-04-17 15:09:59.800415 2019-04-17 15:07:52.930064 0:02:05.866327\n",
      "2019-04-17 15:11:44.651730 2019-04-17 15:09:59.810272 0:01:43.835582\n",
      "2019-04-17 15:13:53.152336 2019-04-17 15:11:44.662907 0:02:07.482979\n",
      "2019-04-17 15:16:29.876512 2019-04-17 15:13:53.164203 0:02:35.705851\n",
      "2019-04-17 15:19:11.195504 2019-04-17 15:16:29.885244 0:02:40.305779\n",
      "2019-04-17 15:21:06.266149 2019-04-17 15:19:11.207347 0:01:54.052286\n",
      "2019-04-17 15:23:07.858353 2019-04-17 15:21:06.278414 0:02:00.573920\n",
      "2019-04-17 15:25:27.392290 2019-04-17 15:23:07.870711 0:02:18.515034\n",
      "2019-04-17 15:27:37.650552 2019-04-17 15:25:27.404847 0:02:09.243426\n",
      "2019-04-17 15:30:02.276457 2019-04-17 15:27:37.662524 0:02:23.611881\n",
      "2019-04-17 15:32:17.902105 2019-04-17 15:30:02.288760 0:02:14.610388\n",
      "2019-04-17 15:34:41.100515 2019-04-17 15:32:17.914502 0:02:22.183822\n",
      "2019-04-17 15:37:34.718077 2019-04-17 15:34:41.113157 0:02:52.601260\n",
      "2019-04-17 15:40:13.921761 2019-04-17 15:37:34.728312 0:02:38.186080\n",
      "2019-04-17 15:42:37.644619 2019-04-17 15:40:13.934613 0:02:22.706755\n",
      "2019-04-17 15:45:26.297423 2019-04-17 15:42:37.657279 0:02:47.636495\n",
      "2019-04-17 15:48:01.811037 2019-04-17 15:45:26.308250 0:02:34.497555\n",
      "2019-04-17 15:50:08.394413 2019-04-17 15:48:01.824631 0:02:05.567781\n",
      "2019-04-17 15:52:43.403139 2019-04-17 15:50:08.405042 0:02:33.993858\n",
      "2019-04-17 15:55:32.483305 2019-04-17 15:52:43.415967 0:02:48.065539\n",
      "2019-04-17 16:35:24.001681 2019-04-17 15:55:32.496034 0:39:50.503160\n",
      "[[0, 1.0], [1, 2.0], [2, 2.9990997961595953], [3, 4.001054552950209], [4, 5.001652033375256], [5, 6.001826298499227], [6, 7.000065722846756], [7, 8.002374984689565], [8, 9.002902759065021], [9, 10.004997923755521], [10, 11.005484870301936], [11, 12.00468623813379], [12, 13.007468505313094], [13, 14.006301426882834], [14, 15.006327317701254], [15, 16.00769753947603], [16, 17.010915967365623], [17, 18.010073519966305], [18, 19.01048777306101], [19, 20.01061025654814], [20, 21.010030700535843], [21, 22.008010220898477], [22, 23.010953807792546], [23, 24.009925145660755], [24, 25.007210592929624], [25, 26.00816755741041], [26, 27.01069290800694], [27, 28.00964731726311], [28, 29.0107705804622], [29, 30.013703213548474], [30, 31.011904797469075], [31, 32.009572632209974], [32, 33.008916399543125], [33, 34.010510676477296], [34, 35.00808689755302], [35, 36.007906657624794], [36, 37.007549165170474], [37, 38.005254840338296], [38, 39.006945709941185], [39, 40.008197431431654], [40, 41.00836273434925], [41, 42.010539554697836], [42, 43.01015816302651], [43, 44.00903888303026], [44, 45.00773338830153], [45, 46.00719963912182], [46, 47.00651253663302], [47, 48.0085111086548], [48, 49.006515524035144], [49, 50.00797337627226], [50, 51.00863657954406], [51, 52.008714251999315], [52, 53.008197431431654], [53, 54.00893930295942], [54, 55.0076816066647], [55, 56.01049175626383], [56, 57.01155925462325], [57, 58.013966104935484], [58, 59.015727676388664], [59, 60.01612997987486], [60, 61.01899091531013], [61, 62.02095861750996], [62, 63.023650266824795], [63, 64.02345807728807], [64, 65.02511011066333], [65, 66.02733373364522], [66, 67.02956532303277], [67, 68.02982821441978], [68, 69.03211756024842], [69, 70.03391199312499], [70, 71.03623021717416], [71, 72.03430035540127], [72, 73.03214444686756], [73, 74.03088973797496], [74, 75.0288722457397], [75, 76.02831758474512], [76, 77.03145634857803], [77, 78.0304944050937], [78, 79.02992879029132], [79, 80.03093952801038], [80, 81.02873283364053], [81, 82.02875474125612], [82, 83.02634689514318], [83, 84.02462415991764]]\n"
     ]
    },
    {
     "name": "stderr",
     "output_type": "stream",
     "text": [
      "reconstraining parameters GP_regression.mul\n",
      "reconstraining parameters GP_regression.Gaussian_noise.variance\n"
     ]
    }
   ],
   "source": [
    "sampler_ctv = optuna.samplers.CTVGPSampler()\n",
    "study_rbf_ctv = optuna.create_study(sampler=sampler_ctv)\n",
    "study_rbf_ctv.optimize(lambda t: - objevtive_rbf(t), n_trials=100)"
   ]
  },
  {
   "cell_type": "code",
   "execution_count": 30,
   "metadata": {},
   "outputs": [],
   "source": [
    "target_dir = './results/20190417/'\n",
    "\n",
    "#trials_normal = study_rbf.trials\n",
    "#trials_dtv = study_rbf_dtv.trials\n",
    "trials_ctv = study_rbf_ctv.trials\n",
    "\n",
    "#trial_values_normal = [- trial.value for trial in trials_normal]\n",
    "#trial_values_dtv = [- trial.value for trial in trials_dtv]\n",
    "trial_values_ctv = [- trial.value for trial in trials_ctv]\n",
    "\n",
    "#np.savetxt(target_dir + 'syn_bogunovic_gp_normal.csv', trial_values_normal, delimiter=',')\n",
    "#np.savetxt(target_dir + 'syn_bogunovic_gp_dtv.csv', trial_values_dtv, delimiter=',')\n",
    "np.savetxt(target_dir + 'syn_bogunovic_gp_ctv.csv', trial_values_ctv, delimiter=',')"
   ]
  },
  {
   "cell_type": "code",
   "execution_count": 24,
   "metadata": {},
   "outputs": [],
   "source": [
    "target_dir = './results/20190414/'\n",
    "trial_values_normal = np.loadtxt(target_dir + 'syn_bogunovic_gp_normal.csv', delimiter=',')\n",
    "trial_values_dtv = np.loadtxt(target_dir + 'syn_bogunovic_gp_dtv.csv', delimiter=',')"
   ]
  },
  {
   "cell_type": "code",
   "execution_count": 31,
   "metadata": {},
   "outputs": [
    {
     "data": {
      "application/vnd.plotly.v1+json": {
       "config": {
        "linkText": "Export to plot.ly",
        "plotlyServerURL": "https://plot.ly",
        "showLink": false
       },
       "data": [
        {
         "mode": "markers",
         "name": "normal",
         "type": "scatter",
         "uid": "26b86ad4-1b33-4f8f-8673-19a8292d62cc",
         "x": [
          1,
          2,
          3,
          4,
          5,
          6,
          7,
          8,
          9,
          10,
          11,
          12,
          13,
          14,
          15,
          16,
          17,
          18,
          19,
          20,
          21,
          22,
          23,
          24,
          25,
          26,
          27,
          28,
          29,
          30,
          31,
          32,
          33,
          34,
          35,
          36,
          37,
          38,
          39,
          40,
          41,
          42,
          43,
          44,
          45,
          46,
          47,
          48,
          49,
          50,
          51,
          52,
          53,
          54,
          55,
          56,
          57,
          58,
          59,
          60,
          61,
          62,
          63,
          64,
          65,
          66,
          67,
          68,
          69,
          70,
          71,
          72,
          73,
          74,
          75,
          76,
          77,
          78,
          79,
          80,
          81,
          82,
          83,
          84,
          85,
          86,
          87,
          88,
          89,
          90,
          91,
          92,
          93,
          94,
          95,
          96,
          97,
          98,
          99,
          100,
          101,
          102,
          103,
          104,
          105,
          106,
          107,
          108,
          109,
          110,
          111,
          112,
          113,
          114,
          115,
          116,
          117,
          118,
          119,
          120,
          121,
          122,
          123,
          124,
          125,
          126,
          127,
          128,
          129,
          130,
          131,
          132,
          133,
          134,
          135,
          136,
          137,
          138,
          139,
          140,
          141,
          142,
          143,
          144,
          145,
          146,
          147,
          148,
          149,
          150,
          151,
          152,
          153,
          154,
          155,
          156,
          157,
          158,
          159,
          160,
          161,
          162,
          163,
          164,
          165,
          166,
          167,
          168,
          169,
          170,
          171,
          172,
          173,
          174,
          175,
          176,
          177,
          178,
          179,
          180,
          181,
          182,
          183,
          184,
          185,
          186,
          187,
          188,
          189,
          190,
          191,
          192,
          193,
          194,
          195,
          196,
          197,
          198,
          199,
          200,
          201,
          202,
          203,
          204,
          205,
          206,
          207,
          208,
          209,
          210,
          211,
          212,
          213,
          214,
          215,
          216,
          217,
          218,
          219,
          220,
          221,
          222,
          223,
          224,
          225,
          226,
          227,
          228,
          229,
          230,
          231,
          232,
          233,
          234,
          235,
          236,
          237,
          238,
          239,
          240,
          241,
          242,
          243,
          244,
          245,
          246,
          247,
          248,
          249,
          250,
          251,
          252,
          253,
          254,
          255,
          256,
          257,
          258,
          259,
          260,
          261,
          262,
          263,
          264,
          265,
          266,
          267,
          268,
          269,
          270,
          271,
          272,
          273,
          274,
          275,
          276,
          277,
          278,
          279,
          280,
          281,
          282,
          283,
          284,
          285,
          286,
          287,
          288,
          289,
          290,
          291,
          292,
          293,
          294,
          295,
          296,
          297,
          298,
          299,
          300
         ],
         "y": [
          0.34400436599969136,
          0.2710046087476466,
          0.3550254816929659,
          0.4438259444746875,
          0.42765903746747325,
          0.4378050923611984,
          0.4189785771374451,
          0.4715266043619973,
          0.5588347771790079,
          0.5797922084312047,
          0.5894003809089462,
          0.6087981600660918,
          0.6480289513652748,
          0.6980699248869199,
          0.7108213656020438,
          0.7782559141276022,
          0.7946677656918235,
          0.805589107407459,
          0.8077357163446932,
          0.8192993603863735,
          0.8248448994157099,
          0.819113260254953,
          0.8119810640566921,
          0.825756680478932,
          0.8242936037648556,
          0.8248914858892136,
          0.8319066213807166,
          0.814763515705856,
          0.8014037693825063,
          0.7813227670815428,
          0.762414699901613,
          0.7441947164913381,
          0.7308848517179153,
          0.7178780473700147,
          0.742052677397767,
          0.7270469722901715,
          0.7516131295780797,
          0.7372320157070072,
          0.7235153562895421,
          0.710263693049104,
          0.701534791368287,
          0.6925345735515511,
          0.6808918065688399,
          0.6710226216815784,
          0.6634446312394878,
          0.6732836784070929,
          0.6688977524789361,
          0.6642341373905919,
          0.6564746493931154,
          0.6481229943825003,
          0.6390433296646489,
          0.665020950238251,
          0.659223975477307,
          0.6610112834587468,
          0.6602382450693446,
          0.661148176913237,
          0.666218466565598,
          0.6756752911430792,
          0.6866913211983076,
          0.7006780085904488,
          0.7063869667322081,
          0.7127124803291135,
          0.7168934075609629,
          0.7192942690510921,
          0.7474251355885461,
          0.7526134852583297,
          0.7678424399886504,
          0.7813817880652261,
          0.7850913911712799,
          0.81194663338715,
          0.816014190150529,
          0.8217896551184563,
          0.8303717833054318,
          0.834067368764292,
          0.8629107712506292,
          0.8657097840207378,
          0.8812866309758121,
          0.8908725588327391,
          0.8956412283757699,
          0.8945894284466787,
          0.9026988201102452,
          0.898841762829616,
          0.899870476039133,
          0.9125749929442077,
          0.9141048449538399,
          0.9130742023480561,
          0.9102961380327315,
          0.9107524823714065,
          0.911531957044984,
          0.9096154146942061,
          0.9096277719871619,
          0.9074056977551852,
          0.9074409863839352,
          0.9073350314594413,
          0.9063329657074289,
          0.905140357366918,
          0.9056044898119903,
          0.906936920072126,
          0.9108036084730331,
          0.9120640111848144,
          0.9116960751159346,
          0.9169319690531812,
          0.9168998105140725,
          0.9117673852348818,
          0.9057730874897189,
          0.909299695728599,
          0.9075721703236863,
          0.9050193594859792,
          0.9009223484865099,
          0.8995755403794853,
          0.8996243689079497,
          0.8994949355414837,
          0.8986174950265302,
          0.8999105791093702,
          0.9038775628891498,
          0.903503342789856,
          0.9021873344746004,
          0.9011930015093975,
          0.9002024768450712,
          0.8969862641253817,
          0.8924233529512886,
          0.8861789269233282,
          0.8817686778226983,
          0.8780924866737334,
          0.8740426245533847,
          0.8731054728890257,
          0.870785686204973,
          0.8700273612297466,
          0.8675504986820872,
          0.8642955363217197,
          0.8617022373014355,
          0.8601310985586023,
          0.8583594808056283,
          0.8552011523405859,
          0.852548929618174,
          0.8503024575891842,
          0.8497638960542141,
          0.8506856247430697,
          0.8525544083638714,
          0.8548648969492587,
          0.8580927227064717,
          0.8592821947695137,
          0.8617065304592695,
          0.8641926708198934,
          0.8666659244714581,
          0.8694114832151555,
          0.87259229075074,
          0.8751995208984016,
          0.8771321454661761,
          0.8781707998391137,
          0.8791467364241639,
          0.8808689351842073,
          0.8820724864117683,
          0.8832956418659019,
          0.8847893996629418,
          0.8880949328958618,
          0.890207638822942,
          0.8925222188673689,
          0.8952127908055416,
          0.8977236596945355,
          0.8998284893734846,
          0.9016411401034371,
          0.9039616719224715,
          0.9070553063921951,
          0.9090338309281607,
          0.9111942822170302,
          0.9138910845544882,
          0.9165156791642637,
          0.9199211965594577,
          0.9237036536289133,
          0.9281470043589504,
          0.9317918262233099,
          0.934615045641049,
          0.9379923379455272,
          0.9415737497269486,
          0.9452211376255949,
          0.9481501745980747,
          0.950547952153086,
          0.9540112764144366,
          0.9569741058264495,
          0.9594721109646779,
          0.9631492110521319,
          0.9664896670560884,
          0.9695899571794631,
          0.9723835868354539,
          0.9749923284644479,
          0.9772655011039226,
          0.979587607263347,
          0.9816738073797455,
          0.9840953818931716,
          0.9865813343266788,
          0.9883911383608462,
          0.9900744086647962,
          0.9926631959317276,
          0.9940591566441019,
          0.9960556342480918,
          0.9981789553689423,
          1.0010417443794501,
          1.0038269500856116,
          1.0067948655504884,
          1.0091435654951413,
          1.0110224835264008,
          1.0145041393475374,
          1.0187220056505377,
          1.022728679468497,
          1.028141868394344,
          1.0333728961823145,
          1.0389241439613104,
          1.0441125207717994,
          1.0493906310346965,
          1.0545371005117372,
          1.057369268912979,
          1.061521423539298,
          1.067064026475903,
          1.0732885268446377,
          1.078072673562923,
          1.0838575622227007,
          1.0904621495829134,
          1.0951980536421122,
          1.1011631238392423,
          1.1059870856566454,
          1.1099301500148369,
          1.1141204353985168,
          1.119309249106529,
          1.1237315319168673,
          1.1302897576076525,
          1.126096188340483,
          1.122263238673011,
          1.1185339001899968,
          1.1154192231229056,
          1.1260518515114473,
          1.1229229324301266,
          1.1193374264483646,
          1.1155470907467278,
          1.1119171947590103,
          1.1083583445086294,
          1.1047736693366879,
          1.101183454455947,
          1.0975150644809413,
          1.099865125761251,
          1.101881133601291,
          1.0982077768024965,
          1.0953774107196914,
          1.0921272623186782,
          1.088729161331243,
          1.0854947198488765,
          1.0821583960466503,
          1.079257327972504,
          1.075532320377409,
          1.072346893375095,
          1.0693148653072413,
          1.0662409892247247,
          1.0636162294833444,
          1.0609322886155665,
          1.059791053730769,
          1.0570522599249041,
          1.054463974445836,
          1.0521556838796677,
          1.0496864762110958,
          1.0471390319440297,
          1.0445782986110828,
          1.0419677038799882,
          1.039509131098644,
          1.0370296232099212,
          1.0345824456685857,
          1.0320653075874533,
          1.029662340960213,
          1.0273962492148083,
          1.0249462917130603,
          1.0227253791417115,
          1.0202904146509653,
          1.0179160308943767,
          1.0156335496737712,
          1.0133729126017488,
          1.0110453989262969,
          1.0167072308989302,
          1.014663710795746,
          1.0172187412031226,
          1.0151814028389143,
          1.0132794890923595,
          1.0113731314394487,
          1.0134903588242223,
          1.011531687463006,
          1.0145151605525773,
          1.0132522128677015,
          1.016023567394844,
          1.0151387586463911,
          1.0128034556357384,
          1.0119362320831782,
          1.0105172415090697,
          1.0092210164297875,
          1.0120983430147459,
          1.00994947977119,
          1.0135672679318224,
          1.0163845560724905,
          1.0203814342231572,
          1.0238090512566633,
          1.0216163169903625,
          1.0193787245755555,
          1.0171570948262139
         ]
        },
        {
         "mode": "markers",
         "name": "dtv",
         "type": "scatter",
         "uid": "d58aa962-c9c7-4b9d-88b2-eda29fea5611",
         "x": [
          1,
          2,
          3,
          4,
          5,
          6,
          7,
          8,
          9,
          10,
          11,
          12,
          13,
          14,
          15,
          16,
          17,
          18,
          19,
          20,
          21,
          22,
          23,
          24,
          25,
          26,
          27,
          28,
          29,
          30,
          31,
          32,
          33,
          34,
          35,
          36,
          37,
          38,
          39,
          40,
          41,
          42,
          43,
          44,
          45,
          46,
          47,
          48,
          49,
          50,
          51,
          52,
          53,
          54,
          55,
          56,
          57,
          58,
          59,
          60,
          61,
          62,
          63,
          64,
          65,
          66,
          67,
          68,
          69,
          70,
          71,
          72,
          73,
          74,
          75,
          76,
          77,
          78,
          79,
          80,
          81,
          82,
          83,
          84,
          85,
          86,
          87,
          88,
          89,
          90,
          91,
          92,
          93,
          94,
          95,
          96,
          97,
          98,
          99,
          100,
          101,
          102,
          103,
          104,
          105,
          106,
          107,
          108,
          109,
          110,
          111,
          112,
          113,
          114,
          115,
          116,
          117,
          118,
          119,
          120,
          121,
          122,
          123,
          124,
          125,
          126,
          127,
          128,
          129,
          130,
          131,
          132,
          133,
          134,
          135,
          136,
          137,
          138,
          139,
          140,
          141,
          142,
          143,
          144,
          145,
          146,
          147,
          148,
          149,
          150,
          151,
          152,
          153,
          154,
          155,
          156,
          157,
          158,
          159,
          160,
          161,
          162,
          163,
          164,
          165,
          166,
          167,
          168,
          169,
          170,
          171,
          172,
          173,
          174,
          175,
          176,
          177,
          178,
          179,
          180,
          181,
          182,
          183,
          184,
          185,
          186,
          187,
          188,
          189,
          190,
          191,
          192,
          193,
          194,
          195,
          196,
          197,
          198,
          199,
          200,
          201,
          202,
          203,
          204,
          205,
          206,
          207,
          208,
          209,
          210,
          211,
          212,
          213,
          214,
          215,
          216,
          217,
          218,
          219,
          220,
          221,
          222,
          223,
          224,
          225,
          226,
          227,
          228,
          229,
          230,
          231,
          232,
          233,
          234,
          235,
          236,
          237,
          238,
          239,
          240,
          241,
          242,
          243,
          244,
          245,
          246,
          247,
          248,
          249,
          250,
          251,
          252,
          253,
          254,
          255,
          256,
          257,
          258,
          259,
          260,
          261,
          262,
          263,
          264,
          265,
          266,
          267,
          268,
          269,
          270,
          271,
          272,
          273,
          274,
          275,
          276,
          277,
          278,
          279,
          280,
          281,
          282,
          283,
          284,
          285,
          286,
          287,
          288,
          289,
          290,
          291,
          292,
          293,
          294,
          295,
          296,
          297,
          298,
          299,
          300
         ],
         "y": [
          0.3554461149369895,
          0.4402920214972471,
          0.3805173649427271,
          0.46943915785769974,
          0.5015471092307273,
          0.5643033665171631,
          0.5241037089685937,
          0.5481333466125877,
          0.6186406973307621,
          0.6493854186908937,
          0.658762256544141,
          0.6942720312970997,
          0.7137701447707026,
          0.7494301631040161,
          0.7587575879380003,
          0.7865243358938715,
          0.8024498097071359,
          0.8129388156441429,
          0.814698597832078,
          0.8259140977993891,
          0.842635544651129,
          0.8362966556080608,
          0.8232228187154044,
          0.8177581409557401,
          0.8196200711445435,
          0.8146413324277748,
          0.8152299601687787,
          0.8170913138952878,
          0.8217794310417156,
          0.823715548033192,
          0.8294418035661129,
          0.8410242677287696,
          0.8602776874804683,
          0.8693373579711031,
          0.8787094927184937,
          0.8880764032049403,
          0.9074659169063637,
          0.9155557962775116,
          0.9191289450558099,
          0.9050002894874885,
          0.8934883714986592,
          0.8859517167465422,
          0.8737130044463197,
          0.8638212425243709,
          0.8556845654304186,
          0.8483306648308957,
          0.8428425776481988,
          0.8342680359020741,
          0.8287626302748411,
          0.822369153395114,
          0.8098503478100314,
          0.8047023499409536,
          0.7953217435526969,
          0.7927835672638978,
          0.7896146691689473,
          0.7924016069476686,
          0.7977236267460466,
          0.8109733042479331,
          0.8290274208724558,
          0.8372530217280808,
          0.8569582079793658,
          0.8785224304265064,
          0.882283605894269,
          0.8814013645521781,
          0.8778050214242759,
          0.876609014090449,
          0.8720782500943555,
          0.8664333544590583,
          0.8639330217115819,
          0.8646233738482777,
          0.8670235525806695,
          0.8700259269626813,
          0.8740163672492309,
          0.8762876988532087,
          0.8756231642145397,
          0.8776874653548891,
          0.8763757611568096,
          0.8734164366254685,
          0.8722033034000236,
          0.8712401887333814,
          0.8706421979476061,
          0.8674194867927647,
          0.8685585492045533,
          0.8673690114680335,
          0.8702388561220145,
          0.8734659104905853,
          0.8824755142323116,
          0.8944032341035348,
          0.8950275294691594,
          0.8936212661663923,
          0.8923093337291629,
          0.8906832092624246,
          0.8913910424639917,
          0.8907178646822862,
          0.8897123058650225,
          0.8869799080269068,
          0.8865102831292596,
          0.8857358909892032,
          0.884792165953231,
          0.8827125639667696,
          0.8798716146791336,
          0.8990089549964924,
          0.8958878880978104,
          0.8948049206248397,
          0.8912635980326499,
          0.8894563622119626,
          0.8886438104673525,
          0.8895597501677478,
          0.8895556410902924,
          0.8883042215726478,
          0.8932177210522819,
          0.9156016931011843,
          0.9376089550222065,
          0.9341089370214538,
          0.9315127440885447,
          0.9272784280542056,
          0.9229453843978236,
          0.9176603736645804,
          0.91136012925269,
          0.9047419050137433,
          0.8994517258882738,
          0.8934000062345973,
          0.8892812186556918,
          0.8854642846902587,
          0.8814928376547039,
          0.8800417764014323,
          0.8774261636520867,
          0.8755240718283094,
          0.8733954136331398,
          0.8708134431552561,
          0.8687380084526357,
          0.8679206869135011,
          0.8672735719764004,
          0.8650716493699598,
          0.8642907155682096,
          0.8638553617641298,
          0.8647592756962637,
          0.8666650485030207,
          0.8691924060123053,
          0.8722031254492791,
          0.8826465333693334,
          0.8839480710292559,
          0.886466767155446,
          0.8948983820131775,
          0.8979512095691519,
          0.9023106690087557,
          0.9070935564248629,
          0.9113531157146476,
          0.914415298876189,
          0.9165387633298568,
          0.9185793570595034,
          0.9212998668098527,
          0.9235834391280767,
          0.9254442868245576,
          0.9273938038057736,
          0.9310884391073397,
          0.9342372413256681,
          0.9393481981504228,
          0.9427364273645851,
          0.9457837513051714,
          0.9488381545921555,
          0.950892229711688,
          0.953877091322939,
          0.9569865519816493,
          0.9600317722831224,
          0.975236180333979,
          0.9775580295033773,
          0.9796321604557621,
          0.9827955916142452,
          0.986326069628207,
          0.9906679048310322,
          0.9941532085957191,
          0.9976600028562579,
          1.0002334101041057,
          1.0029898947254647,
          1.0058107059047399,
          1.0080126570444963,
          1.0112553232859474,
          1.0156016660881797,
          1.019476840525893,
          1.0228617482382016,
          1.0274667122365484,
          1.0317361138019943,
          1.0348345371338001,
          1.0387819530016105,
          1.0410129627530151,
          1.042826239467381,
          1.0442467146410321,
          1.0455244302122633,
          1.0467236799871713,
          1.0486944982087667,
          1.0511173783018795,
          1.0512391005322672,
          1.0524412318918903,
          1.053730754032355,
          1.0601467838058745,
          1.07068452515246,
          1.076179619127401,
          1.0730721255850084,
          1.0690042617900741,
          1.0656100742474721,
          1.0618588620733873,
          1.0581356585435946,
          1.0547531401235908,
          1.0513003558930691,
          1.0473304485881034,
          1.0432715834621897,
          1.0393622293090845,
          1.0354616159640295,
          1.0311243579045049,
          1.0273427182896984,
          1.0227475530584331,
          1.0181406156370243,
          1.0140293319924916,
          1.0093970853473564,
          1.0047809180068954,
          1.0008684819440914,
          0.9962773421186598,
          0.9928396767023158,
          0.9890812046525435,
          0.9855692338422372,
          0.9821589944509215,
          0.9787335875340437,
          0.9754931586446388,
          0.9721051695791949,
          0.9687036700881513,
          0.9651651092243968,
          0.9619599230525728,
          0.9588994191709382,
          0.9558477807225875,
          0.9524557695748493,
          0.9496163477507897,
          0.9461023762878663,
          0.9420592037396276,
          0.9380504411705227,
          0.9340756511655629,
          0.9301344036922905,
          0.9262856442797869,
          0.923673613599745,
          0.9218297019157947,
          0.9195025126018259,
          0.9157029154423142,
          0.9119345906874076,
          0.9081985821630869,
          0.9044916491746661,
          0.9008148538528179,
          0.8971678301530088,
          0.89355021793465,
          0.889961662842543,
          0.8897132235830165,
          0.8866655486587163,
          0.8831470345767373,
          0.8796563348353272,
          0.8761931209186528,
          0.8750598801740324,
          0.8716416775171025,
          0.8682500756590593,
          0.8648847652882878,
          0.8615454418701863,
          0.858231805555301,
          0.8549435610895718,
          0.8521302139889995,
          0.8504538403299268,
          0.8488947975930835,
          0.8461425527006329,
          0.8429615656604049,
          0.8398044062384559,
          0.8438336459834597,
          0.8406967179314765,
          0.8375830263835822,
          0.834492314109104,
          0.8314243276601735,
          0.8283788173024439,
          0.825361401790546,
          0.8223600876022167,
          0.8193805220674261,
          0.8164224696411899,
          0.8134856981676605,
          0.8105699788193893,
          0.8076750860378914,
          0.8052087225516376,
          0.8023533724716673,
          0.8000182188263526,
          0.79926216507641,
          0.8085149133255195,
          0.8092869669540703,
          0.8086269844742574,
          0.8162857324584023,
          0.8158015265660085,
          0.8170077063380567,
          0.8186695085366341,
          0.8163731651087945,
          0.8140948074286858,
          0.8117331614355855,
          0.8110225996680542,
          0.8094120352486528,
          0.8066867422006775,
          0.8079666381231946,
          0.8056762360713043,
          0.8033258851797118
         ]
        },
        {
         "mode": "markers",
         "name": "ctv",
         "type": "scatter",
         "uid": "8edeb124-1653-4f47-8d54-50cfaa326281",
         "x": [
          1,
          2,
          3,
          4,
          5,
          6,
          7,
          8,
          9,
          10,
          11,
          12,
          13,
          14,
          15,
          16,
          17,
          18,
          19,
          20,
          21,
          22,
          23,
          24,
          25,
          26,
          27,
          28,
          29,
          30,
          31,
          32,
          33,
          34,
          35,
          36,
          37,
          38,
          39,
          40,
          41,
          42,
          43,
          44,
          45,
          46,
          47,
          48,
          49,
          50,
          51,
          52,
          53,
          54,
          55,
          56,
          57,
          58,
          59,
          60,
          61,
          62,
          63,
          64,
          65,
          66,
          67,
          68,
          69,
          70,
          71,
          72,
          73,
          74,
          75,
          76,
          77,
          78,
          79,
          80,
          81,
          82,
          83,
          84,
          85,
          86,
          87,
          88,
          89,
          90,
          91,
          92,
          93,
          94,
          95,
          96,
          97,
          98,
          99,
          100,
          101,
          102,
          103,
          104,
          105,
          106,
          107,
          108,
          109,
          110,
          111,
          112,
          113,
          114,
          115,
          116,
          117,
          118,
          119,
          120,
          121,
          122,
          123,
          124,
          125,
          126,
          127,
          128,
          129,
          130,
          131,
          132,
          133,
          134,
          135,
          136,
          137,
          138,
          139,
          140,
          141,
          142,
          143,
          144,
          145,
          146,
          147,
          148,
          149,
          150,
          151,
          152,
          153,
          154,
          155,
          156,
          157,
          158,
          159,
          160,
          161,
          162,
          163,
          164,
          165,
          166,
          167,
          168,
          169,
          170,
          171,
          172,
          173,
          174,
          175,
          176,
          177,
          178,
          179,
          180,
          181,
          182,
          183,
          184,
          185,
          186,
          187,
          188,
          189,
          190,
          191,
          192,
          193,
          194,
          195,
          196,
          197,
          198,
          199,
          200,
          201,
          202,
          203,
          204,
          205,
          206,
          207,
          208,
          209,
          210,
          211,
          212,
          213,
          214,
          215,
          216,
          217,
          218,
          219,
          220,
          221,
          222,
          223,
          224,
          225,
          226,
          227,
          228,
          229,
          230,
          231,
          232,
          233,
          234,
          235,
          236,
          237,
          238,
          239,
          240,
          241,
          242,
          243,
          244,
          245,
          246,
          247,
          248,
          249,
          250,
          251,
          252,
          253,
          254,
          255,
          256,
          257,
          258,
          259,
          260,
          261,
          262,
          263,
          264,
          265,
          266,
          267,
          268,
          269,
          270,
          271,
          272,
          273,
          274,
          275,
          276,
          277,
          278,
          279,
          280,
          281,
          282,
          283,
          284,
          285,
          286,
          287,
          288,
          289,
          290,
          291,
          292,
          293,
          294,
          295,
          296,
          297,
          298,
          299,
          300
         ],
         "y": [
          0.40465227758655264,
          0.35248827073832084,
          0.43405890800041597,
          0.5465238211938663,
          0.6071779694285547,
          0.649017679438248,
          0.6281500387736935,
          0.5994044091360905,
          0.6427759944823312,
          0.7016554425758477,
          0.7289749439046425,
          0.756993282026245,
          0.797627968639695,
          0.8119604627848646,
          0.8291051491672284,
          0.8572328173099097,
          0.8752767569702403,
          0.9094670998355725,
          0.9191531956555693,
          0.9377545365972673,
          0.9553959509320394,
          0.9628938229876649,
          0.9703734130416045,
          0.9808724967154876,
          0.9943321485257216,
          1.0160154737823066,
          1.042594709437042,
          1.0530375746730878,
          1.0656489552834718,
          1.0729977210482282,
          1.085751535734387,
          1.086200233944887,
          1.0969875814507752,
          1.1103435672548434,
          1.1271008112023317,
          1.1252725229365867,
          1.1419986943749594,
          1.1544981594532704,
          1.163081150402399,
          1.1566424581372272,
          1.1755214183109681,
          1.196300472184981,
          1.2138953683853762,
          1.2314571281013065,
          1.224642882319582,
          1.242476230987254,
          1.231322432963271,
          1.2457664987073558,
          1.2597782153275463,
          1.2476556516644601,
          1.2325427385061278,
          1.2494373922373514,
          1.2410048646881364,
          1.2353208412714638,
          1.2311241329229636,
          1.248170979236822,
          1.2492315161243077,
          1.253874399416605,
          1.2570081990963742,
          1.2621273484965854,
          1.266862875575498,
          1.280322999989402,
          1.2973108882425939,
          1.3042298212579524,
          1.3252210917539418,
          1.332890411865783,
          1.3454507663996844,
          1.3585281162689555,
          1.3662336553053946,
          1.3863263916325728,
          1.406812407903469,
          1.4252282183736211,
          1.4410380348761058,
          1.4631400515682649,
          1.4713618762934837,
          1.487195193127697,
          1.4931644893363925,
          1.4983106958922747,
          1.5055795363751925,
          1.511403464427677,
          1.516977312190438,
          1.521368341917167,
          1.5270841903365944,
          1.5317965441866968,
          1.5373360414111537,
          1.5397565017323593,
          1.5400119591337658,
          1.5429704694067126,
          1.5456407882522232,
          1.5458211068088301,
          1.5629094125871463,
          1.5669320791925203,
          1.5695449476928354,
          1.5716306603134462,
          1.5840185130925661,
          1.5849956600539417,
          1.5858855641639806,
          1.5848274365757808,
          1.5847332774229588,
          1.5846296715629615,
          1.5837908858937149,
          1.5824376150194146,
          1.5905842354066784,
          1.591395263484171,
          1.5979251749207466,
          1.5988180520987851,
          1.5994844142672995,
          1.607145672688399,
          1.6080436293660199,
          1.6087382815038194,
          1.609135846837045,
          1.61096470527853,
          1.6169373012448598,
          1.6171973140500748,
          1.6181686424787076,
          1.6230811305028656,
          1.6283059206652,
          1.632727754751102,
          1.633993131987864,
          1.633653313406515,
          1.640781630727608,
          1.6446382768724694,
          1.6465375441573795,
          1.6500521228966816,
          1.652849322037179,
          1.6573301656570736,
          1.6605833350057502,
          1.6651507778989425,
          1.6694222705015223,
          1.6738485322400096,
          1.6792226217234554,
          1.6851785667985748,
          1.6901942350418884,
          1.6994710299361724,
          1.7049897610220643,
          1.710176080838377,
          1.717574945050692,
          1.7293292137888658,
          1.7409627107890373,
          1.7499060911180557,
          1.7600571987115452,
          1.768450288042732,
          1.7734112042406471,
          1.7833483714864338,
          1.7910094218848418,
          1.8023486695804134,
          1.8101471132365115,
          1.8174376292971521,
          1.8217558645064997,
          1.8291260592853014,
          1.8303092175110227,
          1.8362372049594402,
          1.8440033485418463,
          1.8507014526116878,
          1.8569197359544745,
          1.8633465645029372,
          1.8638846855846183,
          1.8687850041630156,
          1.8711985030678289,
          1.8723307570784957,
          1.8773163598294194,
          1.8818946298504353,
          1.8859075719817635,
          1.890635799746694,
          1.896482868942761,
          1.9018901664839643,
          1.907708026702227,
          1.9121455532070044,
          1.917132449942312,
          1.9227361213057108,
          1.927000317227089,
          1.9309672385878731,
          1.9364362645138637,
          1.934649120919793,
          1.943070444154139,
          1.9508304644177294,
          1.9534270110828265,
          1.9558828042262661,
          1.9618688550562946,
          1.963333913979518,
          1.9647213690810923,
          1.9661103764868657,
          1.9673181700341922,
          1.9696470267229496,
          1.970653198352127,
          1.9710880505059865,
          1.9759467676507807,
          1.9760048453523882,
          1.9766348719756397,
          1.979689159531083,
          1.9802063041212188,
          1.9840109187922905,
          1.9854852924282356,
          1.98864628891307,
          1.9914487894965414,
          1.991447435576496,
          1.9944144784845808,
          1.997039275472113,
          1.9992889347111282,
          1.9975333886003694,
          1.9993613038201952,
          1.9978046933564226,
          2.000392840550893,
          2.001997452912193,
          2.0043776204751818,
          2.0063706079548984,
          2.0091576063791914,
          2.0125932580143364,
          2.0159967580870397,
          2.0142683072367564,
          2.0161409217433737,
          2.016398409631393,
          2.0189968621328402,
          2.0217279536596187,
          2.0238055134465007,
          2.0251829361459435,
          2.0267177022727223,
          2.028524820437617,
          2.025858404690444,
          2.027243474583254,
          2.0254828060368997,
          2.026207716138681,
          2.0270629677210037,
          2.0287097426353196,
          2.0294486511560073,
          2.0303149377106635,
          2.031653768551444,
          2.030398012306933,
          2.032347971207492,
          2.0302362670426475,
          2.0308723572998004,
          2.0316524147681565,
          2.032005042933657,
          2.0316690760216836,
          2.0289824588617282,
          2.0214260946368334,
          2.024253324186201,
          2.0280074671044535,
          2.028553583212822,
          2.0263519180774443,
          2.029714641870224,
          2.033338314048534,
          2.0311753622302,
          2.0348795349847904,
          2.032281273590326,
          2.0290156361964105,
          2.0312295175615467,
          2.0277823698428334,
          2.0295607779673435,
          2.026548263570906,
          2.023683362849907,
          2.0205556146473,
          2.021960042566417,
          2.019337704038753,
          2.016844774859477,
          2.0179504529855676,
          2.014976477904169,
          2.020043348430571,
          2.0253249005813463,
          2.021755643698177,
          2.0186991456040735,
          2.0223132210967503,
          2.0184183290243007,
          2.0202870355993454,
          2.0225101755385673,
          2.0268904543183623,
          2.0293866647434227,
          2.026703268244042,
          2.03117418740897,
          2.027564285491146,
          2.0236722381095813,
          2.026360256270486,
          2.0227040656643833,
          2.0188314257173494,
          2.0216838918379914,
          2.018362620398924,
          2.0206959602432675,
          2.0173334627728714,
          2.0197863109337653,
          2.016408579789966,
          2.01285110286602,
          2.0125945422023572,
          2.0099428841248232,
          2.0142676500574495,
          2.0105873974446817,
          2.0153335259962146,
          2.020019830597411,
          2.022361348134585,
          2.026702241256377,
          2.0303675093172244,
          2.032008157982921,
          2.028550248471012,
          2.0248612013337306,
          2.020833131579493,
          2.023265312390955,
          2.027348182569883,
          2.030903931157413,
          2.0279900536582582,
          2.0293967249698732,
          2.0269370180031228
         ]
        }
       ],
       "layout": {}
      },
      "text/html": [
       "<div id=\"d76c4f05-dcf1-4f03-be5e-092fd8f10271\" style=\"height: 525px; width: 100%;\" class=\"plotly-graph-div\"></div><script type=\"text/javascript\">require([\"plotly\"], function(Plotly) { window.PLOTLYENV=window.PLOTLYENV || {};window.PLOTLYENV.BASE_URL=\"https://plot.ly\";\n",
       "if (document.getElementById(\"d76c4f05-dcf1-4f03-be5e-092fd8f10271\")) {\n",
       "    Plotly.newPlot(\"d76c4f05-dcf1-4f03-be5e-092fd8f10271\", [{\"mode\": \"markers\", \"name\": \"normal\", \"x\": [1, 2, 3, 4, 5, 6, 7, 8, 9, 10, 11, 12, 13, 14, 15, 16, 17, 18, 19, 20, 21, 22, 23, 24, 25, 26, 27, 28, 29, 30, 31, 32, 33, 34, 35, 36, 37, 38, 39, 40, 41, 42, 43, 44, 45, 46, 47, 48, 49, 50, 51, 52, 53, 54, 55, 56, 57, 58, 59, 60, 61, 62, 63, 64, 65, 66, 67, 68, 69, 70, 71, 72, 73, 74, 75, 76, 77, 78, 79, 80, 81, 82, 83, 84, 85, 86, 87, 88, 89, 90, 91, 92, 93, 94, 95, 96, 97, 98, 99, 100, 101, 102, 103, 104, 105, 106, 107, 108, 109, 110, 111, 112, 113, 114, 115, 116, 117, 118, 119, 120, 121, 122, 123, 124, 125, 126, 127, 128, 129, 130, 131, 132, 133, 134, 135, 136, 137, 138, 139, 140, 141, 142, 143, 144, 145, 146, 147, 148, 149, 150, 151, 152, 153, 154, 155, 156, 157, 158, 159, 160, 161, 162, 163, 164, 165, 166, 167, 168, 169, 170, 171, 172, 173, 174, 175, 176, 177, 178, 179, 180, 181, 182, 183, 184, 185, 186, 187, 188, 189, 190, 191, 192, 193, 194, 195, 196, 197, 198, 199, 200, 201, 202, 203, 204, 205, 206, 207, 208, 209, 210, 211, 212, 213, 214, 215, 216, 217, 218, 219, 220, 221, 222, 223, 224, 225, 226, 227, 228, 229, 230, 231, 232, 233, 234, 235, 236, 237, 238, 239, 240, 241, 242, 243, 244, 245, 246, 247, 248, 249, 250, 251, 252, 253, 254, 255, 256, 257, 258, 259, 260, 261, 262, 263, 264, 265, 266, 267, 268, 269, 270, 271, 272, 273, 274, 275, 276, 277, 278, 279, 280, 281, 282, 283, 284, 285, 286, 287, 288, 289, 290, 291, 292, 293, 294, 295, 296, 297, 298, 299, 300], \"y\": [0.34400436599969136, 0.2710046087476466, 0.3550254816929659, 0.4438259444746875, 0.42765903746747325, 0.4378050923611984, 0.4189785771374451, 0.4715266043619973, 0.5588347771790079, 0.5797922084312047, 0.5894003809089462, 0.6087981600660918, 0.6480289513652748, 0.6980699248869199, 0.7108213656020438, 0.7782559141276022, 0.7946677656918235, 0.805589107407459, 0.8077357163446932, 0.8192993603863735, 0.8248448994157099, 0.819113260254953, 0.8119810640566921, 0.825756680478932, 0.8242936037648556, 0.8248914858892136, 0.8319066213807166, 0.814763515705856, 0.8014037693825063, 0.7813227670815428, 0.762414699901613, 0.7441947164913381, 0.7308848517179153, 0.7178780473700147, 0.742052677397767, 0.7270469722901715, 0.7516131295780797, 0.7372320157070072, 0.7235153562895421, 0.710263693049104, 0.701534791368287, 0.6925345735515511, 0.6808918065688399, 0.6710226216815784, 0.6634446312394878, 0.6732836784070929, 0.6688977524789361, 0.6642341373905919, 0.6564746493931154, 0.6481229943825003, 0.6390433296646489, 0.665020950238251, 0.659223975477307, 0.6610112834587468, 0.6602382450693446, 0.661148176913237, 0.666218466565598, 0.6756752911430792, 0.6866913211983076, 0.7006780085904488, 0.7063869667322081, 0.7127124803291135, 0.7168934075609629, 0.7192942690510921, 0.7474251355885461, 0.7526134852583297, 0.7678424399886504, 0.7813817880652261, 0.7850913911712799, 0.81194663338715, 0.816014190150529, 0.8217896551184563, 0.8303717833054318, 0.834067368764292, 0.8629107712506292, 0.8657097840207378, 0.8812866309758121, 0.8908725588327391, 0.8956412283757699, 0.8945894284466787, 0.9026988201102452, 0.898841762829616, 0.899870476039133, 0.9125749929442077, 0.9141048449538399, 0.9130742023480561, 0.9102961380327315, 0.9107524823714065, 0.911531957044984, 0.9096154146942061, 0.9096277719871619, 0.9074056977551852, 0.9074409863839352, 0.9073350314594413, 0.9063329657074289, 0.905140357366918, 0.9056044898119903, 0.906936920072126, 0.9108036084730331, 0.9120640111848144, 0.9116960751159346, 0.9169319690531812, 0.9168998105140725, 0.9117673852348818, 0.9057730874897189, 0.909299695728599, 0.9075721703236863, 0.9050193594859792, 0.9009223484865099, 0.8995755403794853, 0.8996243689079497, 0.8994949355414837, 0.8986174950265302, 0.8999105791093702, 0.9038775628891498, 0.903503342789856, 0.9021873344746004, 0.9011930015093975, 0.9002024768450712, 0.8969862641253817, 0.8924233529512886, 0.8861789269233282, 0.8817686778226983, 0.8780924866737334, 0.8740426245533847, 0.8731054728890257, 0.870785686204973, 0.8700273612297466, 0.8675504986820872, 0.8642955363217197, 0.8617022373014355, 0.8601310985586023, 0.8583594808056283, 0.8552011523405859, 0.852548929618174, 0.8503024575891842, 0.8497638960542141, 0.8506856247430697, 0.8525544083638714, 0.8548648969492587, 0.8580927227064717, 0.8592821947695137, 0.8617065304592695, 0.8641926708198934, 0.8666659244714581, 0.8694114832151555, 0.87259229075074, 0.8751995208984016, 0.8771321454661761, 0.8781707998391137, 0.8791467364241639, 0.8808689351842073, 0.8820724864117683, 0.8832956418659019, 0.8847893996629418, 0.8880949328958618, 0.890207638822942, 0.8925222188673689, 0.8952127908055416, 0.8977236596945355, 0.8998284893734846, 0.9016411401034371, 0.9039616719224715, 0.9070553063921951, 0.9090338309281607, 0.9111942822170302, 0.9138910845544882, 0.9165156791642637, 0.9199211965594577, 0.9237036536289133, 0.9281470043589504, 0.9317918262233099, 0.934615045641049, 0.9379923379455272, 0.9415737497269486, 0.9452211376255949, 0.9481501745980747, 0.950547952153086, 0.9540112764144366, 0.9569741058264495, 0.9594721109646779, 0.9631492110521319, 0.9664896670560884, 0.9695899571794631, 0.9723835868354539, 0.9749923284644479, 0.9772655011039226, 0.979587607263347, 0.9816738073797455, 0.9840953818931716, 0.9865813343266788, 0.9883911383608462, 0.9900744086647962, 0.9926631959317276, 0.9940591566441019, 0.9960556342480918, 0.9981789553689423, 1.0010417443794501, 1.0038269500856116, 1.0067948655504884, 1.0091435654951413, 1.0110224835264008, 1.0145041393475374, 1.0187220056505377, 1.022728679468497, 1.028141868394344, 1.0333728961823145, 1.0389241439613104, 1.0441125207717994, 1.0493906310346965, 1.0545371005117372, 1.057369268912979, 1.061521423539298, 1.067064026475903, 1.0732885268446377, 1.078072673562923, 1.0838575622227007, 1.0904621495829134, 1.0951980536421122, 1.1011631238392423, 1.1059870856566454, 1.1099301500148369, 1.1141204353985168, 1.119309249106529, 1.1237315319168673, 1.1302897576076525, 1.126096188340483, 1.122263238673011, 1.1185339001899968, 1.1154192231229056, 1.1260518515114473, 1.1229229324301266, 1.1193374264483646, 1.1155470907467278, 1.1119171947590103, 1.1083583445086294, 1.1047736693366879, 1.101183454455947, 1.0975150644809413, 1.099865125761251, 1.101881133601291, 1.0982077768024965, 1.0953774107196914, 1.0921272623186782, 1.088729161331243, 1.0854947198488765, 1.0821583960466503, 1.079257327972504, 1.075532320377409, 1.072346893375095, 1.0693148653072413, 1.0662409892247247, 1.0636162294833444, 1.0609322886155665, 1.059791053730769, 1.0570522599249041, 1.054463974445836, 1.0521556838796677, 1.0496864762110958, 1.0471390319440297, 1.0445782986110828, 1.0419677038799882, 1.039509131098644, 1.0370296232099212, 1.0345824456685857, 1.0320653075874533, 1.029662340960213, 1.0273962492148083, 1.0249462917130603, 1.0227253791417115, 1.0202904146509653, 1.0179160308943767, 1.0156335496737712, 1.0133729126017488, 1.0110453989262969, 1.0167072308989302, 1.014663710795746, 1.0172187412031226, 1.0151814028389143, 1.0132794890923595, 1.0113731314394487, 1.0134903588242223, 1.011531687463006, 1.0145151605525773, 1.0132522128677015, 1.016023567394844, 1.0151387586463911, 1.0128034556357384, 1.0119362320831782, 1.0105172415090697, 1.0092210164297875, 1.0120983430147459, 1.00994947977119, 1.0135672679318224, 1.0163845560724905, 1.0203814342231572, 1.0238090512566633, 1.0216163169903625, 1.0193787245755555, 1.0171570948262139], \"type\": \"scatter\", \"uid\": \"b1aa92c2-6d6e-456f-b4e1-f73da52df01e\"}, {\"mode\": \"markers\", \"name\": \"dtv\", \"x\": [1, 2, 3, 4, 5, 6, 7, 8, 9, 10, 11, 12, 13, 14, 15, 16, 17, 18, 19, 20, 21, 22, 23, 24, 25, 26, 27, 28, 29, 30, 31, 32, 33, 34, 35, 36, 37, 38, 39, 40, 41, 42, 43, 44, 45, 46, 47, 48, 49, 50, 51, 52, 53, 54, 55, 56, 57, 58, 59, 60, 61, 62, 63, 64, 65, 66, 67, 68, 69, 70, 71, 72, 73, 74, 75, 76, 77, 78, 79, 80, 81, 82, 83, 84, 85, 86, 87, 88, 89, 90, 91, 92, 93, 94, 95, 96, 97, 98, 99, 100, 101, 102, 103, 104, 105, 106, 107, 108, 109, 110, 111, 112, 113, 114, 115, 116, 117, 118, 119, 120, 121, 122, 123, 124, 125, 126, 127, 128, 129, 130, 131, 132, 133, 134, 135, 136, 137, 138, 139, 140, 141, 142, 143, 144, 145, 146, 147, 148, 149, 150, 151, 152, 153, 154, 155, 156, 157, 158, 159, 160, 161, 162, 163, 164, 165, 166, 167, 168, 169, 170, 171, 172, 173, 174, 175, 176, 177, 178, 179, 180, 181, 182, 183, 184, 185, 186, 187, 188, 189, 190, 191, 192, 193, 194, 195, 196, 197, 198, 199, 200, 201, 202, 203, 204, 205, 206, 207, 208, 209, 210, 211, 212, 213, 214, 215, 216, 217, 218, 219, 220, 221, 222, 223, 224, 225, 226, 227, 228, 229, 230, 231, 232, 233, 234, 235, 236, 237, 238, 239, 240, 241, 242, 243, 244, 245, 246, 247, 248, 249, 250, 251, 252, 253, 254, 255, 256, 257, 258, 259, 260, 261, 262, 263, 264, 265, 266, 267, 268, 269, 270, 271, 272, 273, 274, 275, 276, 277, 278, 279, 280, 281, 282, 283, 284, 285, 286, 287, 288, 289, 290, 291, 292, 293, 294, 295, 296, 297, 298, 299, 300], \"y\": [0.3554461149369895, 0.4402920214972471, 0.3805173649427271, 0.46943915785769974, 0.5015471092307273, 0.5643033665171631, 0.5241037089685937, 0.5481333466125877, 0.6186406973307621, 0.6493854186908937, 0.658762256544141, 0.6942720312970997, 0.7137701447707026, 0.7494301631040161, 0.7587575879380003, 0.7865243358938715, 0.8024498097071359, 0.8129388156441429, 0.814698597832078, 0.8259140977993891, 0.842635544651129, 0.8362966556080608, 0.8232228187154044, 0.8177581409557401, 0.8196200711445435, 0.8146413324277748, 0.8152299601687787, 0.8170913138952878, 0.8217794310417156, 0.823715548033192, 0.8294418035661129, 0.8410242677287696, 0.8602776874804683, 0.8693373579711031, 0.8787094927184937, 0.8880764032049403, 0.9074659169063637, 0.9155557962775116, 0.9191289450558099, 0.9050002894874885, 0.8934883714986592, 0.8859517167465422, 0.8737130044463197, 0.8638212425243709, 0.8556845654304186, 0.8483306648308957, 0.8428425776481988, 0.8342680359020741, 0.8287626302748411, 0.822369153395114, 0.8098503478100314, 0.8047023499409536, 0.7953217435526969, 0.7927835672638978, 0.7896146691689473, 0.7924016069476686, 0.7977236267460466, 0.8109733042479331, 0.8290274208724558, 0.8372530217280808, 0.8569582079793658, 0.8785224304265064, 0.882283605894269, 0.8814013645521781, 0.8778050214242759, 0.876609014090449, 0.8720782500943555, 0.8664333544590583, 0.8639330217115819, 0.8646233738482777, 0.8670235525806695, 0.8700259269626813, 0.8740163672492309, 0.8762876988532087, 0.8756231642145397, 0.8776874653548891, 0.8763757611568096, 0.8734164366254685, 0.8722033034000236, 0.8712401887333814, 0.8706421979476061, 0.8674194867927647, 0.8685585492045533, 0.8673690114680335, 0.8702388561220145, 0.8734659104905853, 0.8824755142323116, 0.8944032341035348, 0.8950275294691594, 0.8936212661663923, 0.8923093337291629, 0.8906832092624246, 0.8913910424639917, 0.8907178646822862, 0.8897123058650225, 0.8869799080269068, 0.8865102831292596, 0.8857358909892032, 0.884792165953231, 0.8827125639667696, 0.8798716146791336, 0.8990089549964924, 0.8958878880978104, 0.8948049206248397, 0.8912635980326499, 0.8894563622119626, 0.8886438104673525, 0.8895597501677478, 0.8895556410902924, 0.8883042215726478, 0.8932177210522819, 0.9156016931011843, 0.9376089550222065, 0.9341089370214538, 0.9315127440885447, 0.9272784280542056, 0.9229453843978236, 0.9176603736645804, 0.91136012925269, 0.9047419050137433, 0.8994517258882738, 0.8934000062345973, 0.8892812186556918, 0.8854642846902587, 0.8814928376547039, 0.8800417764014323, 0.8774261636520867, 0.8755240718283094, 0.8733954136331398, 0.8708134431552561, 0.8687380084526357, 0.8679206869135011, 0.8672735719764004, 0.8650716493699598, 0.8642907155682096, 0.8638553617641298, 0.8647592756962637, 0.8666650485030207, 0.8691924060123053, 0.8722031254492791, 0.8826465333693334, 0.8839480710292559, 0.886466767155446, 0.8948983820131775, 0.8979512095691519, 0.9023106690087557, 0.9070935564248629, 0.9113531157146476, 0.914415298876189, 0.9165387633298568, 0.9185793570595034, 0.9212998668098527, 0.9235834391280767, 0.9254442868245576, 0.9273938038057736, 0.9310884391073397, 0.9342372413256681, 0.9393481981504228, 0.9427364273645851, 0.9457837513051714, 0.9488381545921555, 0.950892229711688, 0.953877091322939, 0.9569865519816493, 0.9600317722831224, 0.975236180333979, 0.9775580295033773, 0.9796321604557621, 0.9827955916142452, 0.986326069628207, 0.9906679048310322, 0.9941532085957191, 0.9976600028562579, 1.0002334101041057, 1.0029898947254647, 1.0058107059047399, 1.0080126570444963, 1.0112553232859474, 1.0156016660881797, 1.019476840525893, 1.0228617482382016, 1.0274667122365484, 1.0317361138019943, 1.0348345371338001, 1.0387819530016105, 1.0410129627530151, 1.042826239467381, 1.0442467146410321, 1.0455244302122633, 1.0467236799871713, 1.0486944982087667, 1.0511173783018795, 1.0512391005322672, 1.0524412318918903, 1.053730754032355, 1.0601467838058745, 1.07068452515246, 1.076179619127401, 1.0730721255850084, 1.0690042617900741, 1.0656100742474721, 1.0618588620733873, 1.0581356585435946, 1.0547531401235908, 1.0513003558930691, 1.0473304485881034, 1.0432715834621897, 1.0393622293090845, 1.0354616159640295, 1.0311243579045049, 1.0273427182896984, 1.0227475530584331, 1.0181406156370243, 1.0140293319924916, 1.0093970853473564, 1.0047809180068954, 1.0008684819440914, 0.9962773421186598, 0.9928396767023158, 0.9890812046525435, 0.9855692338422372, 0.9821589944509215, 0.9787335875340437, 0.9754931586446388, 0.9721051695791949, 0.9687036700881513, 0.9651651092243968, 0.9619599230525728, 0.9588994191709382, 0.9558477807225875, 0.9524557695748493, 0.9496163477507897, 0.9461023762878663, 0.9420592037396276, 0.9380504411705227, 0.9340756511655629, 0.9301344036922905, 0.9262856442797869, 0.923673613599745, 0.9218297019157947, 0.9195025126018259, 0.9157029154423142, 0.9119345906874076, 0.9081985821630869, 0.9044916491746661, 0.9008148538528179, 0.8971678301530088, 0.89355021793465, 0.889961662842543, 0.8897132235830165, 0.8866655486587163, 0.8831470345767373, 0.8796563348353272, 0.8761931209186528, 0.8750598801740324, 0.8716416775171025, 0.8682500756590593, 0.8648847652882878, 0.8615454418701863, 0.858231805555301, 0.8549435610895718, 0.8521302139889995, 0.8504538403299268, 0.8488947975930835, 0.8461425527006329, 0.8429615656604049, 0.8398044062384559, 0.8438336459834597, 0.8406967179314765, 0.8375830263835822, 0.834492314109104, 0.8314243276601735, 0.8283788173024439, 0.825361401790546, 0.8223600876022167, 0.8193805220674261, 0.8164224696411899, 0.8134856981676605, 0.8105699788193893, 0.8076750860378914, 0.8052087225516376, 0.8023533724716673, 0.8000182188263526, 0.79926216507641, 0.8085149133255195, 0.8092869669540703, 0.8086269844742574, 0.8162857324584023, 0.8158015265660085, 0.8170077063380567, 0.8186695085366341, 0.8163731651087945, 0.8140948074286858, 0.8117331614355855, 0.8110225996680542, 0.8094120352486528, 0.8066867422006775, 0.8079666381231946, 0.8056762360713043, 0.8033258851797118], \"type\": \"scatter\", \"uid\": \"65861ec9-8136-4655-b1c1-488026ecb4d4\"}, {\"mode\": \"markers\", \"name\": \"ctv\", \"x\": [1, 2, 3, 4, 5, 6, 7, 8, 9, 10, 11, 12, 13, 14, 15, 16, 17, 18, 19, 20, 21, 22, 23, 24, 25, 26, 27, 28, 29, 30, 31, 32, 33, 34, 35, 36, 37, 38, 39, 40, 41, 42, 43, 44, 45, 46, 47, 48, 49, 50, 51, 52, 53, 54, 55, 56, 57, 58, 59, 60, 61, 62, 63, 64, 65, 66, 67, 68, 69, 70, 71, 72, 73, 74, 75, 76, 77, 78, 79, 80, 81, 82, 83, 84, 85, 86, 87, 88, 89, 90, 91, 92, 93, 94, 95, 96, 97, 98, 99, 100, 101, 102, 103, 104, 105, 106, 107, 108, 109, 110, 111, 112, 113, 114, 115, 116, 117, 118, 119, 120, 121, 122, 123, 124, 125, 126, 127, 128, 129, 130, 131, 132, 133, 134, 135, 136, 137, 138, 139, 140, 141, 142, 143, 144, 145, 146, 147, 148, 149, 150, 151, 152, 153, 154, 155, 156, 157, 158, 159, 160, 161, 162, 163, 164, 165, 166, 167, 168, 169, 170, 171, 172, 173, 174, 175, 176, 177, 178, 179, 180, 181, 182, 183, 184, 185, 186, 187, 188, 189, 190, 191, 192, 193, 194, 195, 196, 197, 198, 199, 200, 201, 202, 203, 204, 205, 206, 207, 208, 209, 210, 211, 212, 213, 214, 215, 216, 217, 218, 219, 220, 221, 222, 223, 224, 225, 226, 227, 228, 229, 230, 231, 232, 233, 234, 235, 236, 237, 238, 239, 240, 241, 242, 243, 244, 245, 246, 247, 248, 249, 250, 251, 252, 253, 254, 255, 256, 257, 258, 259, 260, 261, 262, 263, 264, 265, 266, 267, 268, 269, 270, 271, 272, 273, 274, 275, 276, 277, 278, 279, 280, 281, 282, 283, 284, 285, 286, 287, 288, 289, 290, 291, 292, 293, 294, 295, 296, 297, 298, 299, 300], \"y\": [0.40465227758655264, 0.35248827073832084, 0.43405890800041597, 0.5465238211938663, 0.6071779694285547, 0.649017679438248, 0.6281500387736935, 0.5994044091360905, 0.6427759944823312, 0.7016554425758477, 0.7289749439046425, 0.756993282026245, 0.797627968639695, 0.8119604627848646, 0.8291051491672284, 0.8572328173099097, 0.8752767569702403, 0.9094670998355725, 0.9191531956555693, 0.9377545365972673, 0.9553959509320394, 0.9628938229876649, 0.9703734130416045, 0.9808724967154876, 0.9943321485257216, 1.0160154737823066, 1.042594709437042, 1.0530375746730878, 1.0656489552834718, 1.0729977210482282, 1.085751535734387, 1.086200233944887, 1.0969875814507752, 1.1103435672548434, 1.1271008112023317, 1.1252725229365867, 1.1419986943749594, 1.1544981594532704, 1.163081150402399, 1.1566424581372272, 1.1755214183109681, 1.196300472184981, 1.2138953683853762, 1.2314571281013065, 1.224642882319582, 1.242476230987254, 1.231322432963271, 1.2457664987073558, 1.2597782153275463, 1.2476556516644601, 1.2325427385061278, 1.2494373922373514, 1.2410048646881364, 1.2353208412714638, 1.2311241329229636, 1.248170979236822, 1.2492315161243077, 1.253874399416605, 1.2570081990963742, 1.2621273484965854, 1.266862875575498, 1.280322999989402, 1.2973108882425939, 1.3042298212579524, 1.3252210917539418, 1.332890411865783, 1.3454507663996844, 1.3585281162689555, 1.3662336553053946, 1.3863263916325728, 1.406812407903469, 1.4252282183736211, 1.4410380348761058, 1.4631400515682649, 1.4713618762934837, 1.487195193127697, 1.4931644893363925, 1.4983106958922747, 1.5055795363751925, 1.511403464427677, 1.516977312190438, 1.521368341917167, 1.5270841903365944, 1.5317965441866968, 1.5373360414111537, 1.5397565017323593, 1.5400119591337658, 1.5429704694067126, 1.5456407882522232, 1.5458211068088301, 1.5629094125871463, 1.5669320791925203, 1.5695449476928354, 1.5716306603134462, 1.5840185130925661, 1.5849956600539417, 1.5858855641639806, 1.5848274365757808, 1.5847332774229588, 1.5846296715629615, 1.5837908858937149, 1.5824376150194146, 1.5905842354066784, 1.591395263484171, 1.5979251749207466, 1.5988180520987851, 1.5994844142672995, 1.607145672688399, 1.6080436293660199, 1.6087382815038194, 1.609135846837045, 1.61096470527853, 1.6169373012448598, 1.6171973140500748, 1.6181686424787076, 1.6230811305028656, 1.6283059206652, 1.632727754751102, 1.633993131987864, 1.633653313406515, 1.640781630727608, 1.6446382768724694, 1.6465375441573795, 1.6500521228966816, 1.652849322037179, 1.6573301656570736, 1.6605833350057502, 1.6651507778989425, 1.6694222705015223, 1.6738485322400096, 1.6792226217234554, 1.6851785667985748, 1.6901942350418884, 1.6994710299361724, 1.7049897610220643, 1.710176080838377, 1.717574945050692, 1.7293292137888658, 1.7409627107890373, 1.7499060911180557, 1.7600571987115452, 1.768450288042732, 1.7734112042406471, 1.7833483714864338, 1.7910094218848418, 1.8023486695804134, 1.8101471132365115, 1.8174376292971521, 1.8217558645064997, 1.8291260592853014, 1.8303092175110227, 1.8362372049594402, 1.8440033485418463, 1.8507014526116878, 1.8569197359544745, 1.8633465645029372, 1.8638846855846183, 1.8687850041630156, 1.8711985030678289, 1.8723307570784957, 1.8773163598294194, 1.8818946298504353, 1.8859075719817635, 1.890635799746694, 1.896482868942761, 1.9018901664839643, 1.907708026702227, 1.9121455532070044, 1.917132449942312, 1.9227361213057108, 1.927000317227089, 1.9309672385878731, 1.9364362645138637, 1.934649120919793, 1.943070444154139, 1.9508304644177294, 1.9534270110828265, 1.9558828042262661, 1.9618688550562946, 1.963333913979518, 1.9647213690810923, 1.9661103764868657, 1.9673181700341922, 1.9696470267229496, 1.970653198352127, 1.9710880505059865, 1.9759467676507807, 1.9760048453523882, 1.9766348719756397, 1.979689159531083, 1.9802063041212188, 1.9840109187922905, 1.9854852924282356, 1.98864628891307, 1.9914487894965414, 1.991447435576496, 1.9944144784845808, 1.997039275472113, 1.9992889347111282, 1.9975333886003694, 1.9993613038201952, 1.9978046933564226, 2.000392840550893, 2.001997452912193, 2.0043776204751818, 2.0063706079548984, 2.0091576063791914, 2.0125932580143364, 2.0159967580870397, 2.0142683072367564, 2.0161409217433737, 2.016398409631393, 2.0189968621328402, 2.0217279536596187, 2.0238055134465007, 2.0251829361459435, 2.0267177022727223, 2.028524820437617, 2.025858404690444, 2.027243474583254, 2.0254828060368997, 2.026207716138681, 2.0270629677210037, 2.0287097426353196, 2.0294486511560073, 2.0303149377106635, 2.031653768551444, 2.030398012306933, 2.032347971207492, 2.0302362670426475, 2.0308723572998004, 2.0316524147681565, 2.032005042933657, 2.0316690760216836, 2.0289824588617282, 2.0214260946368334, 2.024253324186201, 2.0280074671044535, 2.028553583212822, 2.0263519180774443, 2.029714641870224, 2.033338314048534, 2.0311753622302, 2.0348795349847904, 2.032281273590326, 2.0290156361964105, 2.0312295175615467, 2.0277823698428334, 2.0295607779673435, 2.026548263570906, 2.023683362849907, 2.0205556146473, 2.021960042566417, 2.019337704038753, 2.016844774859477, 2.0179504529855676, 2.014976477904169, 2.020043348430571, 2.0253249005813463, 2.021755643698177, 2.0186991456040735, 2.0223132210967503, 2.0184183290243007, 2.0202870355993454, 2.0225101755385673, 2.0268904543183623, 2.0293866647434227, 2.026703268244042, 2.03117418740897, 2.027564285491146, 2.0236722381095813, 2.026360256270486, 2.0227040656643833, 2.0188314257173494, 2.0216838918379914, 2.018362620398924, 2.0206959602432675, 2.0173334627728714, 2.0197863109337653, 2.016408579789966, 2.01285110286602, 2.0125945422023572, 2.0099428841248232, 2.0142676500574495, 2.0105873974446817, 2.0153335259962146, 2.020019830597411, 2.022361348134585, 2.026702241256377, 2.0303675093172244, 2.032008157982921, 2.028550248471012, 2.0248612013337306, 2.020833131579493, 2.023265312390955, 2.027348182569883, 2.030903931157413, 2.0279900536582582, 2.0293967249698732, 2.0269370180031228], \"type\": \"scatter\", \"uid\": \"54b116f6-cdd3-493f-aab8-f312b64a43f4\"}], {}, {\"showLink\": false, \"linkText\": \"Export to plot.ly\", \"plotlyServerURL\": \"https://plot.ly\"}); \n",
       "}\n",
       "});</script><script type=\"text/javascript\">window.addEventListener(\"resize\", function(){if (document.getElementById(\"d76c4f05-dcf1-4f03-be5e-092fd8f10271\")) {window._Plotly.Plots.resize(document.getElementById(\"d76c4f05-dcf1-4f03-be5e-092fd8f10271\"));};})</script>"
      ],
      "text/vnd.plotly.v1+html": [
       "<div id=\"d76c4f05-dcf1-4f03-be5e-092fd8f10271\" style=\"height: 525px; width: 100%;\" class=\"plotly-graph-div\"></div><script type=\"text/javascript\">require([\"plotly\"], function(Plotly) { window.PLOTLYENV=window.PLOTLYENV || {};window.PLOTLYENV.BASE_URL=\"https://plot.ly\";\n",
       "if (document.getElementById(\"d76c4f05-dcf1-4f03-be5e-092fd8f10271\")) {\n",
       "    Plotly.newPlot(\"d76c4f05-dcf1-4f03-be5e-092fd8f10271\", [{\"mode\": \"markers\", \"name\": \"normal\", \"x\": [1, 2, 3, 4, 5, 6, 7, 8, 9, 10, 11, 12, 13, 14, 15, 16, 17, 18, 19, 20, 21, 22, 23, 24, 25, 26, 27, 28, 29, 30, 31, 32, 33, 34, 35, 36, 37, 38, 39, 40, 41, 42, 43, 44, 45, 46, 47, 48, 49, 50, 51, 52, 53, 54, 55, 56, 57, 58, 59, 60, 61, 62, 63, 64, 65, 66, 67, 68, 69, 70, 71, 72, 73, 74, 75, 76, 77, 78, 79, 80, 81, 82, 83, 84, 85, 86, 87, 88, 89, 90, 91, 92, 93, 94, 95, 96, 97, 98, 99, 100, 101, 102, 103, 104, 105, 106, 107, 108, 109, 110, 111, 112, 113, 114, 115, 116, 117, 118, 119, 120, 121, 122, 123, 124, 125, 126, 127, 128, 129, 130, 131, 132, 133, 134, 135, 136, 137, 138, 139, 140, 141, 142, 143, 144, 145, 146, 147, 148, 149, 150, 151, 152, 153, 154, 155, 156, 157, 158, 159, 160, 161, 162, 163, 164, 165, 166, 167, 168, 169, 170, 171, 172, 173, 174, 175, 176, 177, 178, 179, 180, 181, 182, 183, 184, 185, 186, 187, 188, 189, 190, 191, 192, 193, 194, 195, 196, 197, 198, 199, 200, 201, 202, 203, 204, 205, 206, 207, 208, 209, 210, 211, 212, 213, 214, 215, 216, 217, 218, 219, 220, 221, 222, 223, 224, 225, 226, 227, 228, 229, 230, 231, 232, 233, 234, 235, 236, 237, 238, 239, 240, 241, 242, 243, 244, 245, 246, 247, 248, 249, 250, 251, 252, 253, 254, 255, 256, 257, 258, 259, 260, 261, 262, 263, 264, 265, 266, 267, 268, 269, 270, 271, 272, 273, 274, 275, 276, 277, 278, 279, 280, 281, 282, 283, 284, 285, 286, 287, 288, 289, 290, 291, 292, 293, 294, 295, 296, 297, 298, 299, 300], \"y\": [0.34400436599969136, 0.2710046087476466, 0.3550254816929659, 0.4438259444746875, 0.42765903746747325, 0.4378050923611984, 0.4189785771374451, 0.4715266043619973, 0.5588347771790079, 0.5797922084312047, 0.5894003809089462, 0.6087981600660918, 0.6480289513652748, 0.6980699248869199, 0.7108213656020438, 0.7782559141276022, 0.7946677656918235, 0.805589107407459, 0.8077357163446932, 0.8192993603863735, 0.8248448994157099, 0.819113260254953, 0.8119810640566921, 0.825756680478932, 0.8242936037648556, 0.8248914858892136, 0.8319066213807166, 0.814763515705856, 0.8014037693825063, 0.7813227670815428, 0.762414699901613, 0.7441947164913381, 0.7308848517179153, 0.7178780473700147, 0.742052677397767, 0.7270469722901715, 0.7516131295780797, 0.7372320157070072, 0.7235153562895421, 0.710263693049104, 0.701534791368287, 0.6925345735515511, 0.6808918065688399, 0.6710226216815784, 0.6634446312394878, 0.6732836784070929, 0.6688977524789361, 0.6642341373905919, 0.6564746493931154, 0.6481229943825003, 0.6390433296646489, 0.665020950238251, 0.659223975477307, 0.6610112834587468, 0.6602382450693446, 0.661148176913237, 0.666218466565598, 0.6756752911430792, 0.6866913211983076, 0.7006780085904488, 0.7063869667322081, 0.7127124803291135, 0.7168934075609629, 0.7192942690510921, 0.7474251355885461, 0.7526134852583297, 0.7678424399886504, 0.7813817880652261, 0.7850913911712799, 0.81194663338715, 0.816014190150529, 0.8217896551184563, 0.8303717833054318, 0.834067368764292, 0.8629107712506292, 0.8657097840207378, 0.8812866309758121, 0.8908725588327391, 0.8956412283757699, 0.8945894284466787, 0.9026988201102452, 0.898841762829616, 0.899870476039133, 0.9125749929442077, 0.9141048449538399, 0.9130742023480561, 0.9102961380327315, 0.9107524823714065, 0.911531957044984, 0.9096154146942061, 0.9096277719871619, 0.9074056977551852, 0.9074409863839352, 0.9073350314594413, 0.9063329657074289, 0.905140357366918, 0.9056044898119903, 0.906936920072126, 0.9108036084730331, 0.9120640111848144, 0.9116960751159346, 0.9169319690531812, 0.9168998105140725, 0.9117673852348818, 0.9057730874897189, 0.909299695728599, 0.9075721703236863, 0.9050193594859792, 0.9009223484865099, 0.8995755403794853, 0.8996243689079497, 0.8994949355414837, 0.8986174950265302, 0.8999105791093702, 0.9038775628891498, 0.903503342789856, 0.9021873344746004, 0.9011930015093975, 0.9002024768450712, 0.8969862641253817, 0.8924233529512886, 0.8861789269233282, 0.8817686778226983, 0.8780924866737334, 0.8740426245533847, 0.8731054728890257, 0.870785686204973, 0.8700273612297466, 0.8675504986820872, 0.8642955363217197, 0.8617022373014355, 0.8601310985586023, 0.8583594808056283, 0.8552011523405859, 0.852548929618174, 0.8503024575891842, 0.8497638960542141, 0.8506856247430697, 0.8525544083638714, 0.8548648969492587, 0.8580927227064717, 0.8592821947695137, 0.8617065304592695, 0.8641926708198934, 0.8666659244714581, 0.8694114832151555, 0.87259229075074, 0.8751995208984016, 0.8771321454661761, 0.8781707998391137, 0.8791467364241639, 0.8808689351842073, 0.8820724864117683, 0.8832956418659019, 0.8847893996629418, 0.8880949328958618, 0.890207638822942, 0.8925222188673689, 0.8952127908055416, 0.8977236596945355, 0.8998284893734846, 0.9016411401034371, 0.9039616719224715, 0.9070553063921951, 0.9090338309281607, 0.9111942822170302, 0.9138910845544882, 0.9165156791642637, 0.9199211965594577, 0.9237036536289133, 0.9281470043589504, 0.9317918262233099, 0.934615045641049, 0.9379923379455272, 0.9415737497269486, 0.9452211376255949, 0.9481501745980747, 0.950547952153086, 0.9540112764144366, 0.9569741058264495, 0.9594721109646779, 0.9631492110521319, 0.9664896670560884, 0.9695899571794631, 0.9723835868354539, 0.9749923284644479, 0.9772655011039226, 0.979587607263347, 0.9816738073797455, 0.9840953818931716, 0.9865813343266788, 0.9883911383608462, 0.9900744086647962, 0.9926631959317276, 0.9940591566441019, 0.9960556342480918, 0.9981789553689423, 1.0010417443794501, 1.0038269500856116, 1.0067948655504884, 1.0091435654951413, 1.0110224835264008, 1.0145041393475374, 1.0187220056505377, 1.022728679468497, 1.028141868394344, 1.0333728961823145, 1.0389241439613104, 1.0441125207717994, 1.0493906310346965, 1.0545371005117372, 1.057369268912979, 1.061521423539298, 1.067064026475903, 1.0732885268446377, 1.078072673562923, 1.0838575622227007, 1.0904621495829134, 1.0951980536421122, 1.1011631238392423, 1.1059870856566454, 1.1099301500148369, 1.1141204353985168, 1.119309249106529, 1.1237315319168673, 1.1302897576076525, 1.126096188340483, 1.122263238673011, 1.1185339001899968, 1.1154192231229056, 1.1260518515114473, 1.1229229324301266, 1.1193374264483646, 1.1155470907467278, 1.1119171947590103, 1.1083583445086294, 1.1047736693366879, 1.101183454455947, 1.0975150644809413, 1.099865125761251, 1.101881133601291, 1.0982077768024965, 1.0953774107196914, 1.0921272623186782, 1.088729161331243, 1.0854947198488765, 1.0821583960466503, 1.079257327972504, 1.075532320377409, 1.072346893375095, 1.0693148653072413, 1.0662409892247247, 1.0636162294833444, 1.0609322886155665, 1.059791053730769, 1.0570522599249041, 1.054463974445836, 1.0521556838796677, 1.0496864762110958, 1.0471390319440297, 1.0445782986110828, 1.0419677038799882, 1.039509131098644, 1.0370296232099212, 1.0345824456685857, 1.0320653075874533, 1.029662340960213, 1.0273962492148083, 1.0249462917130603, 1.0227253791417115, 1.0202904146509653, 1.0179160308943767, 1.0156335496737712, 1.0133729126017488, 1.0110453989262969, 1.0167072308989302, 1.014663710795746, 1.0172187412031226, 1.0151814028389143, 1.0132794890923595, 1.0113731314394487, 1.0134903588242223, 1.011531687463006, 1.0145151605525773, 1.0132522128677015, 1.016023567394844, 1.0151387586463911, 1.0128034556357384, 1.0119362320831782, 1.0105172415090697, 1.0092210164297875, 1.0120983430147459, 1.00994947977119, 1.0135672679318224, 1.0163845560724905, 1.0203814342231572, 1.0238090512566633, 1.0216163169903625, 1.0193787245755555, 1.0171570948262139], \"type\": \"scatter\", \"uid\": \"b1aa92c2-6d6e-456f-b4e1-f73da52df01e\"}, {\"mode\": \"markers\", \"name\": \"dtv\", \"x\": [1, 2, 3, 4, 5, 6, 7, 8, 9, 10, 11, 12, 13, 14, 15, 16, 17, 18, 19, 20, 21, 22, 23, 24, 25, 26, 27, 28, 29, 30, 31, 32, 33, 34, 35, 36, 37, 38, 39, 40, 41, 42, 43, 44, 45, 46, 47, 48, 49, 50, 51, 52, 53, 54, 55, 56, 57, 58, 59, 60, 61, 62, 63, 64, 65, 66, 67, 68, 69, 70, 71, 72, 73, 74, 75, 76, 77, 78, 79, 80, 81, 82, 83, 84, 85, 86, 87, 88, 89, 90, 91, 92, 93, 94, 95, 96, 97, 98, 99, 100, 101, 102, 103, 104, 105, 106, 107, 108, 109, 110, 111, 112, 113, 114, 115, 116, 117, 118, 119, 120, 121, 122, 123, 124, 125, 126, 127, 128, 129, 130, 131, 132, 133, 134, 135, 136, 137, 138, 139, 140, 141, 142, 143, 144, 145, 146, 147, 148, 149, 150, 151, 152, 153, 154, 155, 156, 157, 158, 159, 160, 161, 162, 163, 164, 165, 166, 167, 168, 169, 170, 171, 172, 173, 174, 175, 176, 177, 178, 179, 180, 181, 182, 183, 184, 185, 186, 187, 188, 189, 190, 191, 192, 193, 194, 195, 196, 197, 198, 199, 200, 201, 202, 203, 204, 205, 206, 207, 208, 209, 210, 211, 212, 213, 214, 215, 216, 217, 218, 219, 220, 221, 222, 223, 224, 225, 226, 227, 228, 229, 230, 231, 232, 233, 234, 235, 236, 237, 238, 239, 240, 241, 242, 243, 244, 245, 246, 247, 248, 249, 250, 251, 252, 253, 254, 255, 256, 257, 258, 259, 260, 261, 262, 263, 264, 265, 266, 267, 268, 269, 270, 271, 272, 273, 274, 275, 276, 277, 278, 279, 280, 281, 282, 283, 284, 285, 286, 287, 288, 289, 290, 291, 292, 293, 294, 295, 296, 297, 298, 299, 300], \"y\": [0.3554461149369895, 0.4402920214972471, 0.3805173649427271, 0.46943915785769974, 0.5015471092307273, 0.5643033665171631, 0.5241037089685937, 0.5481333466125877, 0.6186406973307621, 0.6493854186908937, 0.658762256544141, 0.6942720312970997, 0.7137701447707026, 0.7494301631040161, 0.7587575879380003, 0.7865243358938715, 0.8024498097071359, 0.8129388156441429, 0.814698597832078, 0.8259140977993891, 0.842635544651129, 0.8362966556080608, 0.8232228187154044, 0.8177581409557401, 0.8196200711445435, 0.8146413324277748, 0.8152299601687787, 0.8170913138952878, 0.8217794310417156, 0.823715548033192, 0.8294418035661129, 0.8410242677287696, 0.8602776874804683, 0.8693373579711031, 0.8787094927184937, 0.8880764032049403, 0.9074659169063637, 0.9155557962775116, 0.9191289450558099, 0.9050002894874885, 0.8934883714986592, 0.8859517167465422, 0.8737130044463197, 0.8638212425243709, 0.8556845654304186, 0.8483306648308957, 0.8428425776481988, 0.8342680359020741, 0.8287626302748411, 0.822369153395114, 0.8098503478100314, 0.8047023499409536, 0.7953217435526969, 0.7927835672638978, 0.7896146691689473, 0.7924016069476686, 0.7977236267460466, 0.8109733042479331, 0.8290274208724558, 0.8372530217280808, 0.8569582079793658, 0.8785224304265064, 0.882283605894269, 0.8814013645521781, 0.8778050214242759, 0.876609014090449, 0.8720782500943555, 0.8664333544590583, 0.8639330217115819, 0.8646233738482777, 0.8670235525806695, 0.8700259269626813, 0.8740163672492309, 0.8762876988532087, 0.8756231642145397, 0.8776874653548891, 0.8763757611568096, 0.8734164366254685, 0.8722033034000236, 0.8712401887333814, 0.8706421979476061, 0.8674194867927647, 0.8685585492045533, 0.8673690114680335, 0.8702388561220145, 0.8734659104905853, 0.8824755142323116, 0.8944032341035348, 0.8950275294691594, 0.8936212661663923, 0.8923093337291629, 0.8906832092624246, 0.8913910424639917, 0.8907178646822862, 0.8897123058650225, 0.8869799080269068, 0.8865102831292596, 0.8857358909892032, 0.884792165953231, 0.8827125639667696, 0.8798716146791336, 0.8990089549964924, 0.8958878880978104, 0.8948049206248397, 0.8912635980326499, 0.8894563622119626, 0.8886438104673525, 0.8895597501677478, 0.8895556410902924, 0.8883042215726478, 0.8932177210522819, 0.9156016931011843, 0.9376089550222065, 0.9341089370214538, 0.9315127440885447, 0.9272784280542056, 0.9229453843978236, 0.9176603736645804, 0.91136012925269, 0.9047419050137433, 0.8994517258882738, 0.8934000062345973, 0.8892812186556918, 0.8854642846902587, 0.8814928376547039, 0.8800417764014323, 0.8774261636520867, 0.8755240718283094, 0.8733954136331398, 0.8708134431552561, 0.8687380084526357, 0.8679206869135011, 0.8672735719764004, 0.8650716493699598, 0.8642907155682096, 0.8638553617641298, 0.8647592756962637, 0.8666650485030207, 0.8691924060123053, 0.8722031254492791, 0.8826465333693334, 0.8839480710292559, 0.886466767155446, 0.8948983820131775, 0.8979512095691519, 0.9023106690087557, 0.9070935564248629, 0.9113531157146476, 0.914415298876189, 0.9165387633298568, 0.9185793570595034, 0.9212998668098527, 0.9235834391280767, 0.9254442868245576, 0.9273938038057736, 0.9310884391073397, 0.9342372413256681, 0.9393481981504228, 0.9427364273645851, 0.9457837513051714, 0.9488381545921555, 0.950892229711688, 0.953877091322939, 0.9569865519816493, 0.9600317722831224, 0.975236180333979, 0.9775580295033773, 0.9796321604557621, 0.9827955916142452, 0.986326069628207, 0.9906679048310322, 0.9941532085957191, 0.9976600028562579, 1.0002334101041057, 1.0029898947254647, 1.0058107059047399, 1.0080126570444963, 1.0112553232859474, 1.0156016660881797, 1.019476840525893, 1.0228617482382016, 1.0274667122365484, 1.0317361138019943, 1.0348345371338001, 1.0387819530016105, 1.0410129627530151, 1.042826239467381, 1.0442467146410321, 1.0455244302122633, 1.0467236799871713, 1.0486944982087667, 1.0511173783018795, 1.0512391005322672, 1.0524412318918903, 1.053730754032355, 1.0601467838058745, 1.07068452515246, 1.076179619127401, 1.0730721255850084, 1.0690042617900741, 1.0656100742474721, 1.0618588620733873, 1.0581356585435946, 1.0547531401235908, 1.0513003558930691, 1.0473304485881034, 1.0432715834621897, 1.0393622293090845, 1.0354616159640295, 1.0311243579045049, 1.0273427182896984, 1.0227475530584331, 1.0181406156370243, 1.0140293319924916, 1.0093970853473564, 1.0047809180068954, 1.0008684819440914, 0.9962773421186598, 0.9928396767023158, 0.9890812046525435, 0.9855692338422372, 0.9821589944509215, 0.9787335875340437, 0.9754931586446388, 0.9721051695791949, 0.9687036700881513, 0.9651651092243968, 0.9619599230525728, 0.9588994191709382, 0.9558477807225875, 0.9524557695748493, 0.9496163477507897, 0.9461023762878663, 0.9420592037396276, 0.9380504411705227, 0.9340756511655629, 0.9301344036922905, 0.9262856442797869, 0.923673613599745, 0.9218297019157947, 0.9195025126018259, 0.9157029154423142, 0.9119345906874076, 0.9081985821630869, 0.9044916491746661, 0.9008148538528179, 0.8971678301530088, 0.89355021793465, 0.889961662842543, 0.8897132235830165, 0.8866655486587163, 0.8831470345767373, 0.8796563348353272, 0.8761931209186528, 0.8750598801740324, 0.8716416775171025, 0.8682500756590593, 0.8648847652882878, 0.8615454418701863, 0.858231805555301, 0.8549435610895718, 0.8521302139889995, 0.8504538403299268, 0.8488947975930835, 0.8461425527006329, 0.8429615656604049, 0.8398044062384559, 0.8438336459834597, 0.8406967179314765, 0.8375830263835822, 0.834492314109104, 0.8314243276601735, 0.8283788173024439, 0.825361401790546, 0.8223600876022167, 0.8193805220674261, 0.8164224696411899, 0.8134856981676605, 0.8105699788193893, 0.8076750860378914, 0.8052087225516376, 0.8023533724716673, 0.8000182188263526, 0.79926216507641, 0.8085149133255195, 0.8092869669540703, 0.8086269844742574, 0.8162857324584023, 0.8158015265660085, 0.8170077063380567, 0.8186695085366341, 0.8163731651087945, 0.8140948074286858, 0.8117331614355855, 0.8110225996680542, 0.8094120352486528, 0.8066867422006775, 0.8079666381231946, 0.8056762360713043, 0.8033258851797118], \"type\": \"scatter\", \"uid\": \"65861ec9-8136-4655-b1c1-488026ecb4d4\"}, {\"mode\": \"markers\", \"name\": \"ctv\", \"x\": [1, 2, 3, 4, 5, 6, 7, 8, 9, 10, 11, 12, 13, 14, 15, 16, 17, 18, 19, 20, 21, 22, 23, 24, 25, 26, 27, 28, 29, 30, 31, 32, 33, 34, 35, 36, 37, 38, 39, 40, 41, 42, 43, 44, 45, 46, 47, 48, 49, 50, 51, 52, 53, 54, 55, 56, 57, 58, 59, 60, 61, 62, 63, 64, 65, 66, 67, 68, 69, 70, 71, 72, 73, 74, 75, 76, 77, 78, 79, 80, 81, 82, 83, 84, 85, 86, 87, 88, 89, 90, 91, 92, 93, 94, 95, 96, 97, 98, 99, 100, 101, 102, 103, 104, 105, 106, 107, 108, 109, 110, 111, 112, 113, 114, 115, 116, 117, 118, 119, 120, 121, 122, 123, 124, 125, 126, 127, 128, 129, 130, 131, 132, 133, 134, 135, 136, 137, 138, 139, 140, 141, 142, 143, 144, 145, 146, 147, 148, 149, 150, 151, 152, 153, 154, 155, 156, 157, 158, 159, 160, 161, 162, 163, 164, 165, 166, 167, 168, 169, 170, 171, 172, 173, 174, 175, 176, 177, 178, 179, 180, 181, 182, 183, 184, 185, 186, 187, 188, 189, 190, 191, 192, 193, 194, 195, 196, 197, 198, 199, 200, 201, 202, 203, 204, 205, 206, 207, 208, 209, 210, 211, 212, 213, 214, 215, 216, 217, 218, 219, 220, 221, 222, 223, 224, 225, 226, 227, 228, 229, 230, 231, 232, 233, 234, 235, 236, 237, 238, 239, 240, 241, 242, 243, 244, 245, 246, 247, 248, 249, 250, 251, 252, 253, 254, 255, 256, 257, 258, 259, 260, 261, 262, 263, 264, 265, 266, 267, 268, 269, 270, 271, 272, 273, 274, 275, 276, 277, 278, 279, 280, 281, 282, 283, 284, 285, 286, 287, 288, 289, 290, 291, 292, 293, 294, 295, 296, 297, 298, 299, 300], \"y\": [0.40465227758655264, 0.35248827073832084, 0.43405890800041597, 0.5465238211938663, 0.6071779694285547, 0.649017679438248, 0.6281500387736935, 0.5994044091360905, 0.6427759944823312, 0.7016554425758477, 0.7289749439046425, 0.756993282026245, 0.797627968639695, 0.8119604627848646, 0.8291051491672284, 0.8572328173099097, 0.8752767569702403, 0.9094670998355725, 0.9191531956555693, 0.9377545365972673, 0.9553959509320394, 0.9628938229876649, 0.9703734130416045, 0.9808724967154876, 0.9943321485257216, 1.0160154737823066, 1.042594709437042, 1.0530375746730878, 1.0656489552834718, 1.0729977210482282, 1.085751535734387, 1.086200233944887, 1.0969875814507752, 1.1103435672548434, 1.1271008112023317, 1.1252725229365867, 1.1419986943749594, 1.1544981594532704, 1.163081150402399, 1.1566424581372272, 1.1755214183109681, 1.196300472184981, 1.2138953683853762, 1.2314571281013065, 1.224642882319582, 1.242476230987254, 1.231322432963271, 1.2457664987073558, 1.2597782153275463, 1.2476556516644601, 1.2325427385061278, 1.2494373922373514, 1.2410048646881364, 1.2353208412714638, 1.2311241329229636, 1.248170979236822, 1.2492315161243077, 1.253874399416605, 1.2570081990963742, 1.2621273484965854, 1.266862875575498, 1.280322999989402, 1.2973108882425939, 1.3042298212579524, 1.3252210917539418, 1.332890411865783, 1.3454507663996844, 1.3585281162689555, 1.3662336553053946, 1.3863263916325728, 1.406812407903469, 1.4252282183736211, 1.4410380348761058, 1.4631400515682649, 1.4713618762934837, 1.487195193127697, 1.4931644893363925, 1.4983106958922747, 1.5055795363751925, 1.511403464427677, 1.516977312190438, 1.521368341917167, 1.5270841903365944, 1.5317965441866968, 1.5373360414111537, 1.5397565017323593, 1.5400119591337658, 1.5429704694067126, 1.5456407882522232, 1.5458211068088301, 1.5629094125871463, 1.5669320791925203, 1.5695449476928354, 1.5716306603134462, 1.5840185130925661, 1.5849956600539417, 1.5858855641639806, 1.5848274365757808, 1.5847332774229588, 1.5846296715629615, 1.5837908858937149, 1.5824376150194146, 1.5905842354066784, 1.591395263484171, 1.5979251749207466, 1.5988180520987851, 1.5994844142672995, 1.607145672688399, 1.6080436293660199, 1.6087382815038194, 1.609135846837045, 1.61096470527853, 1.6169373012448598, 1.6171973140500748, 1.6181686424787076, 1.6230811305028656, 1.6283059206652, 1.632727754751102, 1.633993131987864, 1.633653313406515, 1.640781630727608, 1.6446382768724694, 1.6465375441573795, 1.6500521228966816, 1.652849322037179, 1.6573301656570736, 1.6605833350057502, 1.6651507778989425, 1.6694222705015223, 1.6738485322400096, 1.6792226217234554, 1.6851785667985748, 1.6901942350418884, 1.6994710299361724, 1.7049897610220643, 1.710176080838377, 1.717574945050692, 1.7293292137888658, 1.7409627107890373, 1.7499060911180557, 1.7600571987115452, 1.768450288042732, 1.7734112042406471, 1.7833483714864338, 1.7910094218848418, 1.8023486695804134, 1.8101471132365115, 1.8174376292971521, 1.8217558645064997, 1.8291260592853014, 1.8303092175110227, 1.8362372049594402, 1.8440033485418463, 1.8507014526116878, 1.8569197359544745, 1.8633465645029372, 1.8638846855846183, 1.8687850041630156, 1.8711985030678289, 1.8723307570784957, 1.8773163598294194, 1.8818946298504353, 1.8859075719817635, 1.890635799746694, 1.896482868942761, 1.9018901664839643, 1.907708026702227, 1.9121455532070044, 1.917132449942312, 1.9227361213057108, 1.927000317227089, 1.9309672385878731, 1.9364362645138637, 1.934649120919793, 1.943070444154139, 1.9508304644177294, 1.9534270110828265, 1.9558828042262661, 1.9618688550562946, 1.963333913979518, 1.9647213690810923, 1.9661103764868657, 1.9673181700341922, 1.9696470267229496, 1.970653198352127, 1.9710880505059865, 1.9759467676507807, 1.9760048453523882, 1.9766348719756397, 1.979689159531083, 1.9802063041212188, 1.9840109187922905, 1.9854852924282356, 1.98864628891307, 1.9914487894965414, 1.991447435576496, 1.9944144784845808, 1.997039275472113, 1.9992889347111282, 1.9975333886003694, 1.9993613038201952, 1.9978046933564226, 2.000392840550893, 2.001997452912193, 2.0043776204751818, 2.0063706079548984, 2.0091576063791914, 2.0125932580143364, 2.0159967580870397, 2.0142683072367564, 2.0161409217433737, 2.016398409631393, 2.0189968621328402, 2.0217279536596187, 2.0238055134465007, 2.0251829361459435, 2.0267177022727223, 2.028524820437617, 2.025858404690444, 2.027243474583254, 2.0254828060368997, 2.026207716138681, 2.0270629677210037, 2.0287097426353196, 2.0294486511560073, 2.0303149377106635, 2.031653768551444, 2.030398012306933, 2.032347971207492, 2.0302362670426475, 2.0308723572998004, 2.0316524147681565, 2.032005042933657, 2.0316690760216836, 2.0289824588617282, 2.0214260946368334, 2.024253324186201, 2.0280074671044535, 2.028553583212822, 2.0263519180774443, 2.029714641870224, 2.033338314048534, 2.0311753622302, 2.0348795349847904, 2.032281273590326, 2.0290156361964105, 2.0312295175615467, 2.0277823698428334, 2.0295607779673435, 2.026548263570906, 2.023683362849907, 2.0205556146473, 2.021960042566417, 2.019337704038753, 2.016844774859477, 2.0179504529855676, 2.014976477904169, 2.020043348430571, 2.0253249005813463, 2.021755643698177, 2.0186991456040735, 2.0223132210967503, 2.0184183290243007, 2.0202870355993454, 2.0225101755385673, 2.0268904543183623, 2.0293866647434227, 2.026703268244042, 2.03117418740897, 2.027564285491146, 2.0236722381095813, 2.026360256270486, 2.0227040656643833, 2.0188314257173494, 2.0216838918379914, 2.018362620398924, 2.0206959602432675, 2.0173334627728714, 2.0197863109337653, 2.016408579789966, 2.01285110286602, 2.0125945422023572, 2.0099428841248232, 2.0142676500574495, 2.0105873974446817, 2.0153335259962146, 2.020019830597411, 2.022361348134585, 2.026702241256377, 2.0303675093172244, 2.032008157982921, 2.028550248471012, 2.0248612013337306, 2.020833131579493, 2.023265312390955, 2.027348182569883, 2.030903931157413, 2.0279900536582582, 2.0293967249698732, 2.0269370180031228], \"type\": \"scatter\", \"uid\": \"54b116f6-cdd3-493f-aab8-f312b64a43f4\"}], {}, {\"showLink\": false, \"linkText\": \"Export to plot.ly\", \"plotlyServerURL\": \"https://plot.ly\"}); \n",
       "}\n",
       "});</script><script type=\"text/javascript\">window.addEventListener(\"resize\", function(){if (document.getElementById(\"d76c4f05-dcf1-4f03-be5e-092fd8f10271\")) {window._Plotly.Plots.resize(document.getElementById(\"d76c4f05-dcf1-4f03-be5e-092fd8f10271\"));};})</script>"
      ]
     },
     "metadata": {},
     "output_type": "display_data"
    }
   ],
   "source": [
    "assert len(trial_values_normal) == len(best_values)\n",
    "assert len(trial_values_dtv) == len(best_values)\n",
    "assert len(trial_values_ctv) == len(best_values)\n",
    "\n",
    "def calc_avg_cum_regrets(trial_values, best_values):\n",
    "    cum_regret = 0.\n",
    "    avg_cum_regrets = []\n",
    "    for t, (best_value, trial_value) in enumerate(zip(best_values, trial_values)):\n",
    "        cum_regret += best_value - trial_value\n",
    "        avg_cum_regrets.append(cum_regret / (t + 1))\n",
    "    return avg_cum_regrets\n",
    "\n",
    "avg_cum_regrets_normal = calc_avg_cum_regrets(trial_values_normal, best_values)\n",
    "avg_cum_regrets_dtv = calc_avg_cum_regrets(trial_values_dtv, best_values)\n",
    "avg_cum_regrets_ctv = calc_avg_cum_regrets(trial_values_ctv, best_values)\n",
    "\n",
    "data = [\n",
    "    go.Scatter(x=np.arange(len(avg_cum_regrets_normal)) + 1, y=avg_cum_regrets_normal, mode='markers', name='normal'),\n",
    "    go.Scatter(x=np.arange(len(avg_cum_regrets_dtv)) + 1, y=avg_cum_regrets_dtv, mode='markers', name='dtv'),\n",
    "    go.Scatter(x=np.arange(len(avg_cum_regrets_ctv)) + 1, y=avg_cum_regrets_ctv, mode='markers', name='ctv')\n",
    "]\n",
    "iplot(data, filename='syn_bogunovic_rbf_ctv')"
   ]
  },
  {
   "cell_type": "code",
   "execution_count": 19,
   "metadata": {},
   "outputs": [
    {
     "data": {
      "text/plain": [
       "array([1.00424800e+00, 1.00094100e+00, 1.00088800e+00, 1.00498100e+00,\n",
       "       1.00585300e+00, 1.00099300e+00, 1.00604500e+00, 1.00376100e+00,\n",
       "       1.00610900e+00, 1.00363600e+00, 9.53047640e+01, 9.00594060e+01,\n",
       "       1.17828287e+02, 1.08893651e+02, 1.14985957e+02, 1.06621405e+02,\n",
       "       1.11671334e+02, 1.10387226e+02, 9.67140750e+01, 1.16030433e+02,\n",
       "       1.22442555e+02, 1.01555297e+02, 1.03274310e+02, 9.53138320e+01,\n",
       "       1.00035979e+02, 1.11408339e+02, 1.19411161e+02, 1.31532755e+02,\n",
       "       1.16061349e+02, 1.05783681e+02, 1.07623706e+02, 1.04832195e+02,\n",
       "       1.05574025e+02, 1.01745742e+02, 1.07761384e+02, 1.07791047e+02,\n",
       "       1.10765410e+02, 1.15168415e+02, 1.32659274e+02, 1.15808094e+02,\n",
       "       1.27004195e+02, 1.10956794e+02, 1.27579808e+02, 1.21242905e+02,\n",
       "       1.27090603e+02, 1.20073538e+02, 1.19133743e+02, 1.02481036e+02,\n",
       "       1.04670528e+02, 1.06982820e+02, 1.20217218e+02, 1.24927456e+02,\n",
       "       1.14846201e+02, 1.21110184e+02, 1.17990689e+02, 1.22912694e+02,\n",
       "       1.42537577e+02, 1.21094083e+02, 1.17488074e+02, 1.19593350e+02,\n",
       "       1.35162682e+02, 1.20040096e+02, 1.34282613e+02, 1.27788724e+02,\n",
       "       1.49954461e+02, 1.49031728e+02, 1.46157901e+02, 1.67631290e+02,\n",
       "       1.54855363e+02, 1.50653249e+02, 1.40511551e+02, 1.77696943e+02,\n",
       "       1.84791947e+02, 1.44010259e+02, 1.54524685e+02, 1.74506911e+02,\n",
       "       1.72574291e+02, 1.55131204e+02, 2.01192902e+02, 1.92085859e+02,\n",
       "       2.04213111e+02, 1.66485461e+02, 1.60499078e+02, 2.32793842e+02,\n",
       "       1.67506302e+02, 1.98186011e+02, 1.88019805e+02, 1.82442583e+02,\n",
       "       1.91623094e+02, 1.96365880e+02, 1.81883605e+02, 1.77754872e+02,\n",
       "       1.81122155e+02, 1.92457816e+02, 1.70745356e+02, 2.24031475e+02,\n",
       "       1.65745925e+02, 1.88743448e+02, 1.92116034e+02, 2.17071325e+02,\n",
       "       1.81375479e+02, 1.84362104e+02, 2.02137708e+02, 1.76811715e+02,\n",
       "       2.29057343e+02, 1.85121262e+02, 2.21531821e+02, 1.87038851e+02,\n",
       "       1.93050199e+02, 2.11233936e+02, 2.13412321e+02, 1.72195306e+02,\n",
       "       1.89611755e+02, 2.60356678e+02, 1.65028035e+02, 2.22919589e+02,\n",
       "       1.88138043e+02, 2.43256989e+02, 2.16686671e+02, 2.32298593e+02,\n",
       "       2.06224854e+02, 1.86218605e+02, 1.92935864e+02, 2.51940833e+02,\n",
       "       2.33006956e+02, 2.30782767e+02, 2.21312769e+02, 2.47123552e+02,\n",
       "       3.04966200e+02, 2.35758166e+02, 2.62968189e+02, 2.77577096e+02,\n",
       "       2.76906166e+02, 2.86270737e+02, 2.43802749e+02, 2.70372427e+02,\n",
       "       2.41517819e+02, 2.26734252e+02, 2.44147039e+02, 2.26951677e+02,\n",
       "       2.42414195e+02, 2.23843638e+02, 2.73248295e+02, 2.97429994e+02,\n",
       "       2.64172724e+02, 2.84821135e+02, 2.80241424e+02, 3.17420245e+02,\n",
       "       2.63250449e+02, 2.52360559e+02, 3.21015588e+02, 2.71211794e+02,\n",
       "       3.04504927e+02, 3.00606373e+02, 3.25203525e+02, 2.48094568e+02,\n",
       "       3.11380406e+02, 3.08796866e+02, 3.10429675e+02, 2.74280031e+02,\n",
       "       2.72976641e+02, 2.60505412e+02, 2.98376116e+02, 3.08176451e+02,\n",
       "       2.68680368e+02, 2.61496159e+02, 1.97823903e+02, 2.79536443e+02,\n",
       "       2.82422932e+02, 3.00079145e+02, 3.18055294e+02, 2.72773439e+02,\n",
       "       3.24688212e+02, 3.56510030e+02, 3.00721117e+02, 2.69965230e+02,\n",
       "       3.03780912e+02, 3.37595838e+02, 3.51912736e+02, 3.18309482e+02,\n",
       "       2.83170033e+02, 3.24086834e+02, 2.94783848e+02, 2.17706897e+02,\n",
       "       2.82955026e+02, 3.46047775e+02, 3.34205381e+02, 3.53083613e+02,\n",
       "       3.43849673e+02, 3.05445524e+02, 3.80769995e+02, 3.13818668e+02,\n",
       "       3.43159809e+02, 3.55963009e+02, 2.78648844e+02, 3.33805198e+02,\n",
       "       3.75377541e+02, 3.24033193e+02, 4.38337756e+02, 3.55186596e+02,\n",
       "       3.03257958e+02, 2.58840308e+02, 2.81060990e+02, 3.60903982e+02,\n",
       "       3.21092522e+02, 3.53212300e+02, 4.13792191e+02, 3.39825249e+02,\n",
       "       4.01590677e+02, 2.51020215e+02, 3.21573493e+02, 2.84644724e+02,\n",
       "       3.39064561e+02, 3.81081821e+02, 4.15305888e+02, 4.03442983e+02,\n",
       "       3.94854031e+02, 3.80878577e+02, 3.06215812e+02, 3.32712800e+02,\n",
       "       3.54903492e+02, 3.68594836e+02, 3.79141056e+02, 3.55610079e+02,\n",
       "       3.66668106e+02, 4.04531941e+02, 4.39242097e+02, 4.29717694e+02,\n",
       "       3.90012585e+02, 4.02656407e+02, 4.80580625e+02, 5.13287362e+02,\n",
       "       4.45374862e+02, 5.20542265e+02, 4.13667710e+02, 4.28804386e+02,\n",
       "       3.25119144e+02, 5.29201239e+02, 5.51883128e+02, 4.42016516e+02,\n",
       "       4.85208893e+02, 4.99683579e+02, 4.28385244e+02, 6.08539093e+02,\n",
       "       4.68275909e+02, 4.88791342e+02, 5.32020379e+02, 5.48687162e+02,\n",
       "       6.27538133e+02, 4.84235442e+02, 4.56910206e+02, 5.69781302e+02,\n",
       "       4.53823490e+02, 4.47653524e+02, 4.68366300e+02, 5.69740310e+02,\n",
       "       5.39307216e+02, 5.00541202e+02, 5.45400717e+02, 5.93759914e+02,\n",
       "       4.55418892e+02, 5.00816847e+02, 4.46171647e+02, 5.63673437e+02,\n",
       "       5.27507821e+02, 5.44064245e+02, 5.70026033e+02, 6.01501370e+02,\n",
       "       5.36052939e+02, 5.30076416e+02, 5.19046760e+02, 5.05567608e+02,\n",
       "       5.87867656e+02, 5.15397019e+02, 6.31862194e+02, 7.44946107e+02,\n",
       "       5.35706837e+02, 5.48631038e+02, 5.64179068e+02, 2.36949098e+03,\n",
       "       5.97563263e+02, 5.44700423e+02, 6.45371319e+02, 6.32680069e+02,\n",
       "       5.25249539e+02, 6.28897124e+02, 6.93895746e+02, 5.93331316e+02,\n",
       "       6.06842500e+02, 5.67693025e+02, 5.59357596e+02, 5.74545471e+02,\n",
       "       7.09502236e+02, 6.49769286e+02, 6.36283601e+02, 6.98032865e+02,\n",
       "       8.18435318e+02, 6.31219869e+02, 6.48460842e+02, 6.39568175e+02])"
      ]
     },
     "execution_count": 19,
     "metadata": {},
     "output_type": "execute_result"
    }
   ],
   "source": [
    "elapsed_times = np.asarray([(trial.datetime_complete - trial.datetime_start).total_seconds() for trial in trials_ctv])\n",
    "elapsed_times"
   ]
  }
 ],
 "metadata": {
  "kernelspec": {
   "display_name": "Python 3",
   "language": "python",
   "name": "python3"
  },
  "language_info": {
   "codemirror_mode": {
    "name": "ipython",
    "version": 3
   },
   "file_extension": ".py",
   "mimetype": "text/x-python",
   "name": "python",
   "nbconvert_exporter": "python",
   "pygments_lexer": "ipython3",
   "version": "3.6.5"
  }
 },
 "nbformat": 4,
 "nbformat_minor": 1
}
