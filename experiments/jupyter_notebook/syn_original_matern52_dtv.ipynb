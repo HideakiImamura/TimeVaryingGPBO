{
 "cells": [
  {
   "cell_type": "code",
   "execution_count": 1,
   "metadata": {},
   "outputs": [
    {
     "data": {
      "text/html": [
       "<script type=\"text/javascript\">window.PlotlyConfig = {MathJaxConfig: 'local'};</script><script type=\"text/javascript\">if (window.MathJax) {MathJax.Hub.Config({SVG: {font: \"STIX-Web\"}});}</script><script>requirejs.config({paths: { 'plotly': ['https://cdn.plot.ly/plotly-latest.min']},});if(!window._Plotly) {require(['plotly'],function(plotly) {window._Plotly=plotly;});}</script>"
      ]
     },
     "metadata": {},
     "output_type": "execute_result"
    }
   ],
   "source": [
    "# This is necessary for jupyter to draw graphs offline.\n",
    "# Plotly tries to use cloud service to draw graphs by default.\n",
    "from plotly.offline import download_plotlyjs, init_notebook_mode, plot, iplot\n",
    "init_notebook_mode(connected=True)"
   ]
  },
  {
   "cell_type": "code",
   "execution_count": 2,
   "metadata": {},
   "outputs": [],
   "source": [
    "import GPy\n",
    "import optuna\n",
    "import numpy as np\n",
    "import plotly.figure_factory as ff\n",
    "import plotly.graph_objs as go\n",
    "import plotly.io as pio\n",
    "import time\n",
    "    \n",
    "\n",
    "seed = 123\n",
    "np.random.seed(seed=seed)"
   ]
  },
  {
   "cell_type": "code",
   "execution_count": 3,
   "metadata": {},
   "outputs": [
    {
     "data": {
      "text/plain": [
       "(300, 2500)"
      ]
     },
     "execution_count": 3,
     "metadata": {},
     "output_type": "execute_result"
    }
   ],
   "source": [
    "data = np.loadtxt('functions/bogunovic_matern52.csv', delimiter=',')\n",
    "data.shape"
   ]
  },
  {
   "cell_type": "code",
   "execution_count": 4,
   "metadata": {},
   "outputs": [
    {
     "data": {
      "text/plain": [
       "(300,)"
      ]
     },
     "execution_count": 4,
     "metadata": {},
     "output_type": "execute_result"
    }
   ],
   "source": [
    "best_values = np.max(data, axis=1)\n",
    "best_values.shape"
   ]
  },
  {
   "cell_type": "code",
   "execution_count": 5,
   "metadata": {},
   "outputs": [],
   "source": [
    "t = -1\n",
    "quantization = int(np.sqrt(data.shape[1]))\n",
    "\n",
    "def quantize(a):\n",
    "    return np.argmin(np.abs(np.linspace(0., 1., quantization) - a))\n",
    "\n",
    "\n",
    "def fun_rbf(a, b):\n",
    "    global t\n",
    "    t += 1\n",
    "    i = quantize(a)\n",
    "    j = quantize(b)\n",
    "    place = i * quantization + j\n",
    "    if place < quantization ** 2 // 2:\n",
    "        time.sleep(1)\n",
    "    else:\n",
    "        time.sleep(10)\n",
    "    return data[t][place]\n",
    "\n",
    "\n",
    "def objevtive_rbf(trial):\n",
    "    a, b = trial.suggest_joint('ab',\n",
    "                               [['uniform', 'a', 0., 1.],\n",
    "                                ['uniform', 'b', 0., 1.]])\n",
    "    return fun_rbf(a, b)"
   ]
  },
  {
   "cell_type": "code",
   "execution_count": 6,
   "metadata": {},
   "outputs": [],
   "source": [
    "n_trials = int(data.shape[0])"
   ]
  },
  {
   "cell_type": "code",
   "execution_count": 7,
   "metadata": {},
   "outputs": [
    {
     "name": "stdout",
     "output_type": "stream",
     "text": [
      "0\n",
      "sampling end!. 2019-04-18 03:33:23.533423 2019-04-18 03:33:23.535867\n"
     ]
    },
    {
     "name": "stderr",
     "output_type": "stream",
     "text": [
      "[I 2019-04-18 03:33:24,538] Finished a trial resulted in value: -0.09000477831349363. Current best value is -0.09000477831349363 with parameters: {'a': 0.20753093886420004, 'b': 0.4965173959391822, 'ab': [0.20753093886420004, 0.4965173959391822]}.\n"
     ]
    },
    {
     "name": "stdout",
     "output_type": "stream",
     "text": [
      "1\n",
      "sampling end!. 2019-04-18 03:33:24.540680 2019-04-18 03:33:24.542340\n"
     ]
    },
    {
     "name": "stderr",
     "output_type": "stream",
     "text": [
      "[I 2019-04-18 03:33:25,545] Finished a trial resulted in value: -0.15962260064297273. Current best value is -0.15962260064297273 with parameters: {'a': 0.3375200451899908, 'b': 0.5084708940696124, 'ab': [0.3375200451899908, 0.5084708940696124]}.\n"
     ]
    },
    {
     "name": "stdout",
     "output_type": "stream",
     "text": [
      "2\n",
      "sampling end!. 2019-04-18 03:33:25.547711 2019-04-18 03:33:25.549615\n"
     ]
    },
    {
     "name": "stderr",
     "output_type": "stream",
     "text": [
      "[I 2019-04-18 03:33:35,552] Finished a trial resulted in value: -0.10493072905609852. Current best value is -0.15962260064297273 with parameters: {'a': 0.3375200451899908, 'b': 0.5084708940696124, 'ab': [0.3375200451899908, 0.5084708940696124]}.\n"
     ]
    },
    {
     "name": "stdout",
     "output_type": "stream",
     "text": [
      "3\n",
      "sampling end!. 2019-04-18 03:33:35.554874 2019-04-18 03:33:35.556810\n"
     ]
    },
    {
     "name": "stderr",
     "output_type": "stream",
     "text": [
      "[I 2019-04-18 03:33:36,559] Finished a trial resulted in value: -0.17241258935012727. Current best value is -0.17241258935012727 with parameters: {'a': 0.3407945433061539, 'b': 0.27258536282147705, 'ab': [0.3407945433061539, 0.27258536282147705]}.\n"
     ]
    },
    {
     "name": "stdout",
     "output_type": "stream",
     "text": [
      "4\n",
      "sampling end!. 2019-04-18 03:33:36.562288 2019-04-18 03:33:36.565138\n"
     ]
    },
    {
     "name": "stderr",
     "output_type": "stream",
     "text": [
      "[I 2019-04-18 03:33:37,568] Finished a trial resulted in value: -0.2556202846114961. Current best value is -0.2556202846114961 with parameters: {'a': 0.45452371725232443, 'b': 0.33580131022980897, 'ab': [0.45452371725232443, 0.33580131022980897]}.\n"
     ]
    },
    {
     "name": "stdout",
     "output_type": "stream",
     "text": [
      "5\n",
      "sampling end!. 2019-04-18 03:33:37.570509 2019-04-18 03:33:37.572361\n"
     ]
    },
    {
     "name": "stderr",
     "output_type": "stream",
     "text": [
      "[I 2019-04-18 03:33:47,576] Finished a trial resulted in value: -0.4503035523350414. Current best value is -0.4503035523350414 with parameters: {'a': 0.6706629313406604, 'b': 0.5081199814361284, 'ab': [0.6706629313406604, 0.5081199814361284]}.\n"
     ]
    },
    {
     "name": "stdout",
     "output_type": "stream",
     "text": [
      "6\n",
      "sampling end!. 2019-04-18 03:33:47.578624 2019-04-18 03:33:47.580681\n"
     ]
    },
    {
     "name": "stderr",
     "output_type": "stream",
     "text": [
      "[I 2019-04-18 03:33:57,583] Finished a trial resulted in value: -0.07941505142135416. Current best value is -0.4503035523350414 with parameters: {'a': 0.6706629313406604, 'b': 0.5081199814361284, 'ab': [0.6706629313406604, 0.5081199814361284]}.\n"
     ]
    },
    {
     "name": "stdout",
     "output_type": "stream",
     "text": [
      "7\n",
      "sampling end!. 2019-04-18 03:33:57.585358 2019-04-18 03:33:57.586758\n"
     ]
    },
    {
     "name": "stderr",
     "output_type": "stream",
     "text": [
      "[I 2019-04-18 03:33:58,589] Finished a trial resulted in value: 0.13543479674979014. Current best value is -0.4503035523350414 with parameters: {'a': 0.6706629313406604, 'b': 0.5081199814361284, 'ab': [0.6706629313406604, 0.5081199814361284]}.\n"
     ]
    },
    {
     "name": "stdout",
     "output_type": "stream",
     "text": [
      "8\n",
      "sampling end!. 2019-04-18 03:33:58.592925 2019-04-18 03:33:58.595759\n"
     ]
    },
    {
     "name": "stderr",
     "output_type": "stream",
     "text": [
      "[I 2019-04-18 03:34:08,600] Finished a trial resulted in value: -0.19462767518830987. Current best value is -0.4503035523350414 with parameters: {'a': 0.6706629313406604, 'b': 0.5081199814361284, 'ab': [0.6706629313406604, 0.5081199814361284]}.\n"
     ]
    },
    {
     "name": "stdout",
     "output_type": "stream",
     "text": [
      "9\n",
      "sampling end!. 2019-04-18 03:34:08.601991 2019-04-18 03:34:08.603512\n"
     ]
    },
    {
     "name": "stderr",
     "output_type": "stream",
     "text": [
      "[I 2019-04-18 03:34:09,606] Finished a trial resulted in value: -0.24965528474791288. Current best value is -0.4503035523350414 with parameters: {'a': 0.6706629313406604, 'b': 0.5081199814361284, 'ab': [0.6706629313406604, 0.5081199814361284]}.\n"
     ]
    },
    {
     "name": "stdout",
     "output_type": "stream",
     "text": [
      "10\n",
      "The set cost function is ignored! LCB acquisition does not make sense with cost.\n",
      "ab\n"
     ]
    },
    {
     "name": "stderr",
     "output_type": "stream",
     "text": [
      "reconstraining parameters GP_regression.mul\n",
      "reconstraining parameters GP_regression.Gaussian_noise.variance\n"
     ]
    },
    {
     "name": "stdout",
     "output_type": "stream",
     "text": [
      "sampling end!. 2019-04-18 03:34:09.608599 2019-04-18 03:34:21.654621\n"
     ]
    },
    {
     "name": "stderr",
     "output_type": "stream",
     "text": [
      "[I 2019-04-18 03:34:31,657] Finished a trial resulted in value: 0.17772836755494953. Current best value is -0.4503035523350414 with parameters: {'a': 0.6706629313406604, 'b': 0.5081199814361284, 'ab': [0.6706629313406604, 0.5081199814361284]}.\n"
     ]
    },
    {
     "name": "stdout",
     "output_type": "stream",
     "text": [
      "11\n",
      "The set cost function is ignored! LCB acquisition does not make sense with cost.\n",
      "ab\n"
     ]
    },
    {
     "name": "stderr",
     "output_type": "stream",
     "text": [
      "reconstraining parameters GP_regression.mul\n",
      "reconstraining parameters GP_regression.Gaussian_noise.variance\n"
     ]
    },
    {
     "name": "stdout",
     "output_type": "stream",
     "text": [
      "sampling end!. 2019-04-18 03:34:31.659178 2019-04-18 03:34:43.061511\n"
     ]
    },
    {
     "name": "stderr",
     "output_type": "stream",
     "text": [
      "[I 2019-04-18 03:34:44,065] Finished a trial resulted in value: 0.6024340277656711. Current best value is -0.4503035523350414 with parameters: {'a': 0.6706629313406604, 'b': 0.5081199814361284, 'ab': [0.6706629313406604, 0.5081199814361284]}.\n"
     ]
    },
    {
     "name": "stdout",
     "output_type": "stream",
     "text": [
      "12\n",
      "The set cost function is ignored! LCB acquisition does not make sense with cost.\n",
      "ab\n"
     ]
    },
    {
     "name": "stderr",
     "output_type": "stream",
     "text": [
      "reconstraining parameters GP_regression.mul\n",
      "reconstraining parameters GP_regression.Gaussian_noise.variance\n"
     ]
    },
    {
     "name": "stdout",
     "output_type": "stream",
     "text": [
      "sampling end!. 2019-04-18 03:34:44.067087 2019-04-18 03:35:02.349143\n"
     ]
    },
    {
     "name": "stderr",
     "output_type": "stream",
     "text": [
      "[I 2019-04-18 03:35:03,353] Finished a trial resulted in value: 0.19106694698097978. Current best value is -0.4503035523350414 with parameters: {'a': 0.6706629313406604, 'b': 0.5081199814361284, 'ab': [0.6706629313406604, 0.5081199814361284]}.\n"
     ]
    },
    {
     "name": "stdout",
     "output_type": "stream",
     "text": [
      "13\n",
      "The set cost function is ignored! LCB acquisition does not make sense with cost.\n",
      "ab\n"
     ]
    },
    {
     "name": "stderr",
     "output_type": "stream",
     "text": [
      "reconstraining parameters GP_regression.mul\n",
      "reconstraining parameters GP_regression.Gaussian_noise.variance\n"
     ]
    },
    {
     "name": "stdout",
     "output_type": "stream",
     "text": [
      "sampling end!. 2019-04-18 03:35:03.355206 2019-04-18 03:35:16.113028\n"
     ]
    },
    {
     "name": "stderr",
     "output_type": "stream",
     "text": [
      "[I 2019-04-18 03:35:26,115] Finished a trial resulted in value: -0.24682258925252276. Current best value is -0.4503035523350414 with parameters: {'a': 0.6706629313406604, 'b': 0.5081199814361284, 'ab': [0.6706629313406604, 0.5081199814361284]}.\n"
     ]
    },
    {
     "name": "stdout",
     "output_type": "stream",
     "text": [
      "14\n",
      "The set cost function is ignored! LCB acquisition does not make sense with cost.\n",
      "ab\n"
     ]
    },
    {
     "name": "stderr",
     "output_type": "stream",
     "text": [
      "reconstraining parameters GP_regression.mul\n",
      "reconstraining parameters GP_regression.Gaussian_noise.variance\n"
     ]
    },
    {
     "name": "stdout",
     "output_type": "stream",
     "text": [
      "sampling end!. 2019-04-18 03:35:26.118066 2019-04-18 03:35:39.448130\n"
     ]
    },
    {
     "name": "stderr",
     "output_type": "stream",
     "text": [
      "[I 2019-04-18 03:35:49,452] Finished a trial resulted in value: -0.3623153640927782. Current best value is -0.4503035523350414 with parameters: {'a': 0.6706629313406604, 'b': 0.5081199814361284, 'ab': [0.6706629313406604, 0.5081199814361284]}.\n"
     ]
    },
    {
     "name": "stdout",
     "output_type": "stream",
     "text": [
      "15\n",
      "The set cost function is ignored! LCB acquisition does not make sense with cost.\n",
      "ab\n"
     ]
    },
    {
     "name": "stderr",
     "output_type": "stream",
     "text": [
      "reconstraining parameters GP_regression.mul\n",
      "reconstraining parameters GP_regression.Gaussian_noise.variance\n"
     ]
    },
    {
     "name": "stdout",
     "output_type": "stream",
     "text": [
      "sampling end!. 2019-04-18 03:35:49.454101 2019-04-18 03:36:10.340741\n"
     ]
    },
    {
     "name": "stderr",
     "output_type": "stream",
     "text": [
      "[I 2019-04-18 03:36:20,344] Finished a trial resulted in value: -0.3037383723076725. Current best value is -0.4503035523350414 with parameters: {'a': 0.6706629313406604, 'b': 0.5081199814361284, 'ab': [0.6706629313406604, 0.5081199814361284]}.\n"
     ]
    },
    {
     "name": "stdout",
     "output_type": "stream",
     "text": [
      "16\n",
      "The set cost function is ignored! LCB acquisition does not make sense with cost.\n",
      "ab\n"
     ]
    },
    {
     "name": "stderr",
     "output_type": "stream",
     "text": [
      "reconstraining parameters GP_regression.mul\n",
      "reconstraining parameters GP_regression.Gaussian_noise.variance\n"
     ]
    },
    {
     "name": "stdout",
     "output_type": "stream",
     "text": [
      "sampling end!. 2019-04-18 03:36:20.346714 2019-04-18 03:36:36.473642\n"
     ]
    },
    {
     "name": "stderr",
     "output_type": "stream",
     "text": [
      "[I 2019-04-18 03:36:46,477] Finished a trial resulted in value: -0.40673718330782577. Current best value is -0.4503035523350414 with parameters: {'a': 0.6706629313406604, 'b': 0.5081199814361284, 'ab': [0.6706629313406604, 0.5081199814361284]}.\n"
     ]
    },
    {
     "name": "stdout",
     "output_type": "stream",
     "text": [
      "17\n",
      "The set cost function is ignored! LCB acquisition does not make sense with cost.\n",
      "ab\n"
     ]
    },
    {
     "name": "stderr",
     "output_type": "stream",
     "text": [
      "reconstraining parameters GP_regression.mul\n",
      "reconstraining parameters GP_regression.Gaussian_noise.variance\n"
     ]
    },
    {
     "name": "stdout",
     "output_type": "stream",
     "text": [
      "sampling end!. 2019-04-18 03:36:46.479810 2019-04-18 03:37:03.086773\n"
     ]
    },
    {
     "name": "stderr",
     "output_type": "stream",
     "text": [
      "[I 2019-04-18 03:37:13,090] Finished a trial resulted in value: -0.44079446326443694. Current best value is -0.4503035523350414 with parameters: {'a': 0.6706629313406604, 'b': 0.5081199814361284, 'ab': [0.6706629313406604, 0.5081199814361284]}.\n"
     ]
    },
    {
     "name": "stdout",
     "output_type": "stream",
     "text": [
      "18\n",
      "The set cost function is ignored! LCB acquisition does not make sense with cost.\n",
      "ab\n"
     ]
    },
    {
     "name": "stderr",
     "output_type": "stream",
     "text": [
      "reconstraining parameters GP_regression.mul\n",
      "reconstraining parameters GP_regression.Gaussian_noise.variance\n"
     ]
    },
    {
     "name": "stdout",
     "output_type": "stream",
     "text": [
      "sampling end!. 2019-04-18 03:37:13.092713 2019-04-18 03:37:32.867508\n"
     ]
    },
    {
     "name": "stderr",
     "output_type": "stream",
     "text": [
      "[I 2019-04-18 03:37:42,871] Finished a trial resulted in value: -0.4832007547922924. Current best value is -0.4832007547922924 with parameters: {'a': 0.9701010791513243, 'b': 0.2740274998196107, 'ab': [0.9701010791513243, 0.2740274998196107]}.\n"
     ]
    },
    {
     "name": "stdout",
     "output_type": "stream",
     "text": [
      "19\n",
      "The set cost function is ignored! LCB acquisition does not make sense with cost.\n",
      "ab\n"
     ]
    },
    {
     "name": "stderr",
     "output_type": "stream",
     "text": [
      "reconstraining parameters GP_regression.mul\n",
      "reconstraining parameters GP_regression.Gaussian_noise.variance\n"
     ]
    },
    {
     "name": "stdout",
     "output_type": "stream",
     "text": [
      "sampling end!. 2019-04-18 03:37:42.874022 2019-04-18 03:37:56.934628\n"
     ]
    },
    {
     "name": "stderr",
     "output_type": "stream",
     "text": [
      "[I 2019-04-18 03:38:06,938] Finished a trial resulted in value: -0.47827637756873226. Current best value is -0.4832007547922924 with parameters: {'a': 0.9701010791513243, 'b': 0.2740274998196107, 'ab': [0.9701010791513243, 0.2740274998196107]}.\n"
     ]
    },
    {
     "name": "stdout",
     "output_type": "stream",
     "text": [
      "20\n",
      "The set cost function is ignored! LCB acquisition does not make sense with cost.\n",
      "ab\n"
     ]
    },
    {
     "name": "stderr",
     "output_type": "stream",
     "text": [
      "reconstraining parameters GP_regression.mul\n",
      "reconstraining parameters GP_regression.Gaussian_noise.variance\n"
     ]
    },
    {
     "name": "stdout",
     "output_type": "stream",
     "text": [
      "sampling end!. 2019-04-18 03:38:06.940010 2019-04-18 03:38:22.336134\n"
     ]
    },
    {
     "name": "stderr",
     "output_type": "stream",
     "text": [
      "[I 2019-04-18 03:38:32,340] Finished a trial resulted in value: -0.4537674618066482. Current best value is -0.4832007547922924 with parameters: {'a': 0.9701010791513243, 'b': 0.2740274998196107, 'ab': [0.9701010791513243, 0.2740274998196107]}.\n"
     ]
    },
    {
     "name": "stdout",
     "output_type": "stream",
     "text": [
      "21\n",
      "The set cost function is ignored! LCB acquisition does not make sense with cost.\n",
      "ab\n"
     ]
    },
    {
     "name": "stderr",
     "output_type": "stream",
     "text": [
      "reconstraining parameters GP_regression.mul\n",
      "reconstraining parameters GP_regression.Gaussian_noise.variance\n"
     ]
    },
    {
     "name": "stdout",
     "output_type": "stream",
     "text": [
      "sampling end!. 2019-04-18 03:38:32.342108 2019-04-18 03:38:50.719793\n"
     ]
    },
    {
     "name": "stderr",
     "output_type": "stream",
     "text": [
      "[I 2019-04-18 03:39:00,725] Finished a trial resulted in value: -0.2992472527979314. Current best value is -0.4832007547922924 with parameters: {'a': 0.9701010791513243, 'b': 0.2740274998196107, 'ab': [0.9701010791513243, 0.2740274998196107]}.\n"
     ]
    },
    {
     "name": "stdout",
     "output_type": "stream",
     "text": [
      "22\n",
      "The set cost function is ignored! LCB acquisition does not make sense with cost.\n",
      "ab\n"
     ]
    },
    {
     "name": "stderr",
     "output_type": "stream",
     "text": [
      "reconstraining parameters GP_regression.mul\n",
      "reconstraining parameters GP_regression.Gaussian_noise.variance\n"
     ]
    },
    {
     "name": "stdout",
     "output_type": "stream",
     "text": [
      "sampling end!. 2019-04-18 03:39:00.728038 2019-04-18 03:39:15.291126\n"
     ]
    },
    {
     "name": "stderr",
     "output_type": "stream",
     "text": [
      "[I 2019-04-18 03:39:16,295] Finished a trial resulted in value: 0.2686979193150291. Current best value is -0.4832007547922924 with parameters: {'a': 0.9701010791513243, 'b': 0.2740274998196107, 'ab': [0.9701010791513243, 0.2740274998196107]}.\n"
     ]
    },
    {
     "name": "stdout",
     "output_type": "stream",
     "text": [
      "23\n",
      "The set cost function is ignored! LCB acquisition does not make sense with cost.\n",
      "ab\n"
     ]
    },
    {
     "name": "stderr",
     "output_type": "stream",
     "text": [
      "reconstraining parameters GP_regression.mul\n",
      "reconstraining parameters GP_regression.Gaussian_noise.variance\n"
     ]
    },
    {
     "name": "stdout",
     "output_type": "stream",
     "text": [
      "sampling end!. 2019-04-18 03:39:16.297079 2019-04-18 03:39:27.531532\n"
     ]
    },
    {
     "name": "stderr",
     "output_type": "stream",
     "text": [
      "[I 2019-04-18 03:39:37,538] Finished a trial resulted in value: -0.1385292717385402. Current best value is -0.4832007547922924 with parameters: {'a': 0.9701010791513243, 'b': 0.2740274998196107, 'ab': [0.9701010791513243, 0.2740274998196107]}.\n"
     ]
    },
    {
     "name": "stdout",
     "output_type": "stream",
     "text": [
      "24\n",
      "The set cost function is ignored! LCB acquisition does not make sense with cost.\n",
      "ab\n"
     ]
    },
    {
     "name": "stderr",
     "output_type": "stream",
     "text": [
      "reconstraining parameters GP_regression.mul\n",
      "reconstraining parameters GP_regression.Gaussian_noise.variance\n"
     ]
    },
    {
     "name": "stdout",
     "output_type": "stream",
     "text": [
      "sampling end!. 2019-04-18 03:39:37.540379 2019-04-18 03:39:54.265656\n"
     ]
    },
    {
     "name": "stderr",
     "output_type": "stream",
     "text": [
      "[I 2019-04-18 03:40:04,270] Finished a trial resulted in value: -0.3583870024302165. Current best value is -0.4832007547922924 with parameters: {'a': 0.9701010791513243, 'b': 0.2740274998196107, 'ab': [0.9701010791513243, 0.2740274998196107]}.\n"
     ]
    },
    {
     "name": "stdout",
     "output_type": "stream",
     "text": [
      "25\n",
      "The set cost function is ignored! LCB acquisition does not make sense with cost.\n",
      "ab\n"
     ]
    },
    {
     "name": "stderr",
     "output_type": "stream",
     "text": [
      "reconstraining parameters GP_regression.mul\n",
      "reconstraining parameters GP_regression.Gaussian_noise.variance\n"
     ]
    },
    {
     "name": "stdout",
     "output_type": "stream",
     "text": [
      "sampling end!. 2019-04-18 03:40:04.272250 2019-04-18 03:40:23.579665\n"
     ]
    },
    {
     "name": "stderr",
     "output_type": "stream",
     "text": [
      "[I 2019-04-18 03:40:33,584] Finished a trial resulted in value: -0.23017909086727645. Current best value is -0.4832007547922924 with parameters: {'a': 0.9701010791513243, 'b': 0.2740274998196107, 'ab': [0.9701010791513243, 0.2740274998196107]}.\n"
     ]
    },
    {
     "name": "stdout",
     "output_type": "stream",
     "text": [
      "26\n",
      "The set cost function is ignored! LCB acquisition does not make sense with cost.\n",
      "ab\n"
     ]
    },
    {
     "name": "stderr",
     "output_type": "stream",
     "text": [
      "reconstraining parameters GP_regression.mul\n",
      "reconstraining parameters GP_regression.Gaussian_noise.variance\n"
     ]
    },
    {
     "name": "stdout",
     "output_type": "stream",
     "text": [
      "sampling end!. 2019-04-18 03:40:33.586857 2019-04-18 03:40:45.755557\n"
     ]
    },
    {
     "name": "stderr",
     "output_type": "stream",
     "text": [
      "[I 2019-04-18 03:40:55,759] Finished a trial resulted in value: 0.7402878166365494. Current best value is -0.4832007547922924 with parameters: {'a': 0.9701010791513243, 'b': 0.2740274998196107, 'ab': [0.9701010791513243, 0.2740274998196107]}.\n"
     ]
    },
    {
     "name": "stdout",
     "output_type": "stream",
     "text": [
      "27\n",
      "The set cost function is ignored! LCB acquisition does not make sense with cost.\n",
      "ab\n"
     ]
    },
    {
     "name": "stderr",
     "output_type": "stream",
     "text": [
      "reconstraining parameters GP_regression.mul\n",
      "reconstraining parameters GP_regression.Gaussian_noise.variance\n"
     ]
    },
    {
     "name": "stdout",
     "output_type": "stream",
     "text": [
      "sampling end!. 2019-04-18 03:40:55.761761 2019-04-18 03:41:06.717284\n"
     ]
    },
    {
     "name": "stderr",
     "output_type": "stream",
     "text": [
      "[I 2019-04-18 03:41:07,722] Finished a trial resulted in value: 0.8215935841702214. Current best value is -0.4832007547922924 with parameters: {'a': 0.9701010791513243, 'b': 0.2740274998196107, 'ab': [0.9701010791513243, 0.2740274998196107]}.\n"
     ]
    },
    {
     "name": "stdout",
     "output_type": "stream",
     "text": [
      "28\n",
      "The set cost function is ignored! LCB acquisition does not make sense with cost.\n",
      "ab\n"
     ]
    },
    {
     "name": "stderr",
     "output_type": "stream",
     "text": [
      "reconstraining parameters GP_regression.mul\n",
      "reconstraining parameters GP_regression.Gaussian_noise.variance\n"
     ]
    },
    {
     "name": "stdout",
     "output_type": "stream",
     "text": [
      "sampling end!. 2019-04-18 03:41:07.725155 2019-04-18 03:41:17.584008\n"
     ]
    },
    {
     "name": "stderr",
     "output_type": "stream",
     "text": [
      "[I 2019-04-18 03:41:18,589] Finished a trial resulted in value: 0.23424610210791263. Current best value is -0.4832007547922924 with parameters: {'a': 0.9701010791513243, 'b': 0.2740274998196107, 'ab': [0.9701010791513243, 0.2740274998196107]}.\n"
     ]
    },
    {
     "name": "stdout",
     "output_type": "stream",
     "text": [
      "29\n",
      "The set cost function is ignored! LCB acquisition does not make sense with cost.\n",
      "ab\n"
     ]
    },
    {
     "name": "stderr",
     "output_type": "stream",
     "text": [
      "reconstraining parameters GP_regression.mul\n",
      "reconstraining parameters GP_regression.Gaussian_noise.variance\n"
     ]
    },
    {
     "name": "stdout",
     "output_type": "stream",
     "text": [
      "sampling end!. 2019-04-18 03:41:18.591180 2019-04-18 03:41:29.334388\n"
     ]
    },
    {
     "name": "stderr",
     "output_type": "stream",
     "text": [
      "[I 2019-04-18 03:41:39,338] Finished a trial resulted in value: 0.03033045625811763. Current best value is -0.4832007547922924 with parameters: {'a': 0.9701010791513243, 'b': 0.2740274998196107, 'ab': [0.9701010791513243, 0.2740274998196107]}.\n"
     ]
    },
    {
     "name": "stdout",
     "output_type": "stream",
     "text": [
      "30\n",
      "The set cost function is ignored! LCB acquisition does not make sense with cost.\n",
      "ab\n"
     ]
    },
    {
     "name": "stderr",
     "output_type": "stream",
     "text": [
      "reconstraining parameters GP_regression.mul\n",
      "reconstraining parameters GP_regression.Gaussian_noise.variance\n"
     ]
    },
    {
     "name": "stdout",
     "output_type": "stream",
     "text": [
      "sampling end!. 2019-04-18 03:41:39.340798 2019-04-18 03:41:49.936561\n"
     ]
    },
    {
     "name": "stderr",
     "output_type": "stream",
     "text": [
      "[I 2019-04-18 03:41:59,941] Finished a trial resulted in value: -0.31798892035118753. Current best value is -0.4832007547922924 with parameters: {'a': 0.9701010791513243, 'b': 0.2740274998196107, 'ab': [0.9701010791513243, 0.2740274998196107]}.\n"
     ]
    },
    {
     "name": "stdout",
     "output_type": "stream",
     "text": [
      "31\n",
      "The set cost function is ignored! LCB acquisition does not make sense with cost.\n",
      "ab\n"
     ]
    },
    {
     "name": "stderr",
     "output_type": "stream",
     "text": [
      "reconstraining parameters GP_regression.mul\n",
      "reconstraining parameters GP_regression.Gaussian_noise.variance\n"
     ]
    },
    {
     "name": "stdout",
     "output_type": "stream",
     "text": [
      "sampling end!. 2019-04-18 03:41:59.943747 2019-04-18 03:42:12.836508\n"
     ]
    },
    {
     "name": "stderr",
     "output_type": "stream",
     "text": [
      "[I 2019-04-18 03:42:22,841] Finished a trial resulted in value: -0.25722295679303137. Current best value is -0.4832007547922924 with parameters: {'a': 0.9701010791513243, 'b': 0.2740274998196107, 'ab': [0.9701010791513243, 0.2740274998196107]}.\n"
     ]
    },
    {
     "name": "stdout",
     "output_type": "stream",
     "text": [
      "32\n",
      "The set cost function is ignored! LCB acquisition does not make sense with cost.\n",
      "ab\n"
     ]
    },
    {
     "name": "stderr",
     "output_type": "stream",
     "text": [
      "reconstraining parameters GP_regression.mul\n",
      "reconstraining parameters GP_regression.Gaussian_noise.variance\n"
     ]
    },
    {
     "name": "stdout",
     "output_type": "stream",
     "text": [
      "sampling end!. 2019-04-18 03:42:22.843945 2019-04-18 03:42:35.221646\n"
     ]
    },
    {
     "name": "stderr",
     "output_type": "stream",
     "text": [
      "[I 2019-04-18 03:42:45,227] Finished a trial resulted in value: -0.27160386897341326. Current best value is -0.4832007547922924 with parameters: {'a': 0.9701010791513243, 'b': 0.2740274998196107, 'ab': [0.9701010791513243, 0.2740274998196107]}.\n"
     ]
    },
    {
     "name": "stdout",
     "output_type": "stream",
     "text": [
      "33\n",
      "The set cost function is ignored! LCB acquisition does not make sense with cost.\n",
      "ab\n"
     ]
    },
    {
     "name": "stderr",
     "output_type": "stream",
     "text": [
      "reconstraining parameters GP_regression.mul\n",
      "reconstraining parameters GP_regression.Gaussian_noise.variance\n"
     ]
    },
    {
     "name": "stdout",
     "output_type": "stream",
     "text": [
      "sampling end!. 2019-04-18 03:42:45.229054 2019-04-18 03:42:57.636297\n"
     ]
    },
    {
     "name": "stderr",
     "output_type": "stream",
     "text": [
      "[I 2019-04-18 03:43:07,641] Finished a trial resulted in value: -0.265615949735563. Current best value is -0.4832007547922924 with parameters: {'a': 0.9701010791513243, 'b': 0.2740274998196107, 'ab': [0.9701010791513243, 0.2740274998196107]}.\n"
     ]
    },
    {
     "name": "stdout",
     "output_type": "stream",
     "text": [
      "34\n",
      "The set cost function is ignored! LCB acquisition does not make sense with cost.\n",
      "ab\n"
     ]
    },
    {
     "name": "stderr",
     "output_type": "stream",
     "text": [
      "reconstraining parameters GP_regression.mul\n",
      "reconstraining parameters GP_regression.Gaussian_noise.variance\n"
     ]
    },
    {
     "name": "stdout",
     "output_type": "stream",
     "text": [
      "sampling end!. 2019-04-18 03:43:07.643188 2019-04-18 03:43:21.531760\n"
     ]
    },
    {
     "name": "stderr",
     "output_type": "stream",
     "text": [
      "[I 2019-04-18 03:43:31,537] Finished a trial resulted in value: 0.5556683419369797. Current best value is -0.4832007547922924 with parameters: {'a': 0.9701010791513243, 'b': 0.2740274998196107, 'ab': [0.9701010791513243, 0.2740274998196107]}.\n"
     ]
    },
    {
     "name": "stdout",
     "output_type": "stream",
     "text": [
      "35\n",
      "The set cost function is ignored! LCB acquisition does not make sense with cost.\n",
      "ab\n"
     ]
    },
    {
     "name": "stderr",
     "output_type": "stream",
     "text": [
      "reconstraining parameters GP_regression.mul\n",
      "reconstraining parameters GP_regression.Gaussian_noise.variance\n"
     ]
    },
    {
     "name": "stdout",
     "output_type": "stream",
     "text": [
      "sampling end!. 2019-04-18 03:43:31.540209 2019-04-18 03:43:44.860116\n"
     ]
    },
    {
     "name": "stderr",
     "output_type": "stream",
     "text": [
      "[I 2019-04-18 03:43:45,865] Finished a trial resulted in value: -0.7586350701250024. Current best value is -0.7586350701250024 with parameters: {'a': 0.3906068364108967, 'b': 0.0, 'ab': [0.3906068364108967, 0.0]}.\n"
     ]
    },
    {
     "name": "stdout",
     "output_type": "stream",
     "text": [
      "36\n",
      "The set cost function is ignored! LCB acquisition does not make sense with cost.\n",
      "ab\n"
     ]
    },
    {
     "name": "stderr",
     "output_type": "stream",
     "text": [
      "reconstraining parameters GP_regression.mul\n",
      "reconstraining parameters GP_regression.Gaussian_noise.variance\n"
     ]
    },
    {
     "name": "stdout",
     "output_type": "stream",
     "text": [
      "sampling end!. 2019-04-18 03:43:45.867862 2019-04-18 03:44:01.847956\n"
     ]
    },
    {
     "name": "stderr",
     "output_type": "stream",
     "text": [
      "[I 2019-04-18 03:44:02,853] Finished a trial resulted in value: -0.7864103795278041. Current best value is -0.7864103795278041 with parameters: {'a': 0.3946481754127774, 'b': 0.0, 'ab': [0.3946481754127774, 0.0]}.\n"
     ]
    },
    {
     "name": "stdout",
     "output_type": "stream",
     "text": [
      "37\n",
      "The set cost function is ignored! LCB acquisition does not make sense with cost.\n",
      "ab\n"
     ]
    },
    {
     "name": "stderr",
     "output_type": "stream",
     "text": [
      "reconstraining parameters GP_regression.mul\n",
      "reconstraining parameters GP_regression.Gaussian_noise.variance\n"
     ]
    },
    {
     "name": "stdout",
     "output_type": "stream",
     "text": [
      "sampling end!. 2019-04-18 03:44:02.855320 2019-04-18 03:44:18.545235\n"
     ]
    },
    {
     "name": "stderr",
     "output_type": "stream",
     "text": [
      "[I 2019-04-18 03:44:19,552] Finished a trial resulted in value: -0.728195655527716. Current best value is -0.7864103795278041 with parameters: {'a': 0.3946481754127774, 'b': 0.0, 'ab': [0.3946481754127774, 0.0]}.\n"
     ]
    },
    {
     "name": "stdout",
     "output_type": "stream",
     "text": [
      "38\n",
      "The set cost function is ignored! LCB acquisition does not make sense with cost.\n",
      "ab\n"
     ]
    },
    {
     "name": "stderr",
     "output_type": "stream",
     "text": [
      "reconstraining parameters GP_regression.mul\n",
      "reconstraining parameters GP_regression.Gaussian_noise.variance\n"
     ]
    },
    {
     "name": "stdout",
     "output_type": "stream",
     "text": [
      "sampling end!. 2019-04-18 03:44:19.554560 2019-04-18 03:44:34.308059\n"
     ]
    },
    {
     "name": "stderr",
     "output_type": "stream",
     "text": [
      "[I 2019-04-18 03:44:35,313] Finished a trial resulted in value: -0.8038369625224019. Current best value is -0.8038369625224019 with parameters: {'a': 0.3961398766166706, 'b': 0.0, 'ab': [0.3961398766166706, 0.0]}.\n"
     ]
    },
    {
     "name": "stdout",
     "output_type": "stream",
     "text": [
      "39\n",
      "The set cost function is ignored! LCB acquisition does not make sense with cost.\n",
      "ab\n"
     ]
    },
    {
     "name": "stderr",
     "output_type": "stream",
     "text": [
      "reconstraining parameters GP_regression.mul\n",
      "reconstraining parameters GP_regression.Gaussian_noise.variance\n"
     ]
    },
    {
     "name": "stdout",
     "output_type": "stream",
     "text": [
      "sampling end!. 2019-04-18 03:44:35.316299 2019-04-18 03:44:49.335121\n"
     ]
    },
    {
     "name": "stderr",
     "output_type": "stream",
     "text": [
      "[I 2019-04-18 03:44:50,341] Finished a trial resulted in value: -0.6544596317653166. Current best value is -0.8038369625224019 with parameters: {'a': 0.3961398766166706, 'b': 0.0, 'ab': [0.3961398766166706, 0.0]}.\n"
     ]
    },
    {
     "name": "stdout",
     "output_type": "stream",
     "text": [
      "40\n",
      "The set cost function is ignored! LCB acquisition does not make sense with cost.\n",
      "ab\n"
     ]
    },
    {
     "name": "stderr",
     "output_type": "stream",
     "text": [
      "reconstraining parameters GP_regression.mul\n",
      "reconstraining parameters GP_regression.Gaussian_noise.variance\n"
     ]
    },
    {
     "name": "stdout",
     "output_type": "stream",
     "text": [
      "sampling end!. 2019-04-18 03:44:50.343236 2019-04-18 03:45:05.345636\n"
     ]
    },
    {
     "name": "stderr",
     "output_type": "stream",
     "text": [
      "[I 2019-04-18 03:45:06,351] Finished a trial resulted in value: -1.0844463429736244. Current best value is -1.0844463429736244 with parameters: {'a': 0.3466647245918577, 'b': 0.0, 'ab': [0.3466647245918577, 0.0]}.\n"
     ]
    },
    {
     "name": "stdout",
     "output_type": "stream",
     "text": [
      "41\n",
      "The set cost function is ignored! LCB acquisition does not make sense with cost.\n",
      "ab\n"
     ]
    },
    {
     "name": "stderr",
     "output_type": "stream",
     "text": [
      "reconstraining parameters GP_regression.mul\n",
      "reconstraining parameters GP_regression.Gaussian_noise.variance\n"
     ]
    },
    {
     "name": "stdout",
     "output_type": "stream",
     "text": [
      "sampling end!. 2019-04-18 03:45:06.353643 2019-04-18 03:45:21.609624\n"
     ]
    },
    {
     "name": "stderr",
     "output_type": "stream",
     "text": [
      "[I 2019-04-18 03:45:22,615] Finished a trial resulted in value: -1.1989454569537676. Current best value is -1.1989454569537676 with parameters: {'a': 0.33235587362344365, 'b': 0.0, 'ab': [0.33235587362344365, 0.0]}.\n"
     ]
    },
    {
     "name": "stdout",
     "output_type": "stream",
     "text": [
      "42\n",
      "The set cost function is ignored! LCB acquisition does not make sense with cost.\n",
      "ab\n"
     ]
    },
    {
     "name": "stderr",
     "output_type": "stream",
     "text": [
      "reconstraining parameters GP_regression.mul\n",
      "reconstraining parameters GP_regression.Gaussian_noise.variance\n"
     ]
    },
    {
     "name": "stdout",
     "output_type": "stream",
     "text": [
      "sampling end!. 2019-04-18 03:45:22.617238 2019-04-18 03:45:37.416716\n"
     ]
    },
    {
     "name": "stderr",
     "output_type": "stream",
     "text": [
      "[I 2019-04-18 03:45:38,424] Finished a trial resulted in value: -1.1612019200195414. Current best value is -1.1989454569537676 with parameters: {'a': 0.33235587362344365, 'b': 0.0, 'ab': [0.33235587362344365, 0.0]}.\n"
     ]
    },
    {
     "name": "stdout",
     "output_type": "stream",
     "text": [
      "43\n",
      "The set cost function is ignored! LCB acquisition does not make sense with cost.\n",
      "ab\n"
     ]
    },
    {
     "name": "stderr",
     "output_type": "stream",
     "text": [
      "reconstraining parameters GP_regression.mul\n",
      "reconstraining parameters GP_regression.Gaussian_noise.variance\n"
     ]
    },
    {
     "name": "stdout",
     "output_type": "stream",
     "text": [
      "sampling end!. 2019-04-18 03:45:38.426545 2019-04-18 03:45:54.936105\n"
     ]
    },
    {
     "name": "stderr",
     "output_type": "stream",
     "text": [
      "[I 2019-04-18 03:45:55,942] Finished a trial resulted in value: -0.9125097517508778. Current best value is -1.1989454569537676 with parameters: {'a': 0.33235587362344365, 'b': 0.0, 'ab': [0.33235587362344365, 0.0]}.\n"
     ]
    },
    {
     "name": "stdout",
     "output_type": "stream",
     "text": [
      "44\n",
      "The set cost function is ignored! LCB acquisition does not make sense with cost.\n",
      "ab\n"
     ]
    },
    {
     "name": "stderr",
     "output_type": "stream",
     "text": [
      "reconstraining parameters GP_regression.mul\n",
      "reconstraining parameters GP_regression.Gaussian_noise.variance\n"
     ]
    },
    {
     "name": "stdout",
     "output_type": "stream",
     "text": [
      "sampling end!. 2019-04-18 03:45:55.944775 2019-04-18 03:46:11.079811\n"
     ]
    },
    {
     "name": "stderr",
     "output_type": "stream",
     "text": [
      "[I 2019-04-18 03:46:12,086] Finished a trial resulted in value: -1.0654698429287262. Current best value is -1.1989454569537676 with parameters: {'a': 0.33235587362344365, 'b': 0.0, 'ab': [0.33235587362344365, 0.0]}.\n"
     ]
    },
    {
     "name": "stdout",
     "output_type": "stream",
     "text": [
      "45\n",
      "The set cost function is ignored! LCB acquisition does not make sense with cost.\n",
      "ab\n"
     ]
    },
    {
     "name": "stderr",
     "output_type": "stream",
     "text": [
      "reconstraining parameters GP_regression.mul\n",
      "reconstraining parameters GP_regression.Gaussian_noise.variance\n"
     ]
    },
    {
     "name": "stdout",
     "output_type": "stream",
     "text": [
      "sampling end!. 2019-04-18 03:46:12.088569 2019-04-18 03:46:29.681091\n"
     ]
    },
    {
     "name": "stderr",
     "output_type": "stream",
     "text": [
      "[I 2019-04-18 03:46:30,688] Finished a trial resulted in value: -0.9512740983360949. Current best value is -1.1989454569537676 with parameters: {'a': 0.33235587362344365, 'b': 0.0, 'ab': [0.33235587362344365, 0.0]}.\n"
     ]
    },
    {
     "name": "stdout",
     "output_type": "stream",
     "text": [
      "46\n",
      "The set cost function is ignored! LCB acquisition does not make sense with cost.\n",
      "ab\n"
     ]
    },
    {
     "name": "stderr",
     "output_type": "stream",
     "text": [
      "reconstraining parameters GP_regression.mul\n",
      "reconstraining parameters GP_regression.Gaussian_noise.variance\n"
     ]
    },
    {
     "name": "stdout",
     "output_type": "stream",
     "text": [
      "sampling end!. 2019-04-18 03:46:30.690135 2019-04-18 03:46:46.262256\n"
     ]
    },
    {
     "name": "stderr",
     "output_type": "stream",
     "text": [
      "[I 2019-04-18 03:46:47,268] Finished a trial resulted in value: -0.9007805150433593. Current best value is -1.1989454569537676 with parameters: {'a': 0.33235587362344365, 'b': 0.0, 'ab': [0.33235587362344365, 0.0]}.\n"
     ]
    },
    {
     "name": "stdout",
     "output_type": "stream",
     "text": [
      "47\n",
      "The set cost function is ignored! LCB acquisition does not make sense with cost.\n",
      "ab\n"
     ]
    },
    {
     "name": "stderr",
     "output_type": "stream",
     "text": [
      "reconstraining parameters GP_regression.mul\n",
      "reconstraining parameters GP_regression.Gaussian_noise.variance\n"
     ]
    },
    {
     "name": "stdout",
     "output_type": "stream",
     "text": [
      "sampling end!. 2019-04-18 03:46:47.270351 2019-04-18 03:47:02.254930\n"
     ]
    },
    {
     "name": "stderr",
     "output_type": "stream",
     "text": [
      "[I 2019-04-18 03:47:03,261] Finished a trial resulted in value: -0.9640575578332378. Current best value is -1.1989454569537676 with parameters: {'a': 0.33235587362344365, 'b': 0.0, 'ab': [0.33235587362344365, 0.0]}.\n"
     ]
    },
    {
     "name": "stdout",
     "output_type": "stream",
     "text": [
      "48\n",
      "The set cost function is ignored! LCB acquisition does not make sense with cost.\n",
      "ab\n"
     ]
    },
    {
     "name": "stderr",
     "output_type": "stream",
     "text": [
      "reconstraining parameters GP_regression.mul\n",
      "reconstraining parameters GP_regression.Gaussian_noise.variance\n"
     ]
    },
    {
     "name": "stdout",
     "output_type": "stream",
     "text": [
      "sampling end!. 2019-04-18 03:47:03.263874 2019-04-18 03:47:18.769670\n"
     ]
    },
    {
     "name": "stderr",
     "output_type": "stream",
     "text": [
      "[I 2019-04-18 03:47:19,777] Finished a trial resulted in value: -0.8135693989789001. Current best value is -1.1989454569537676 with parameters: {'a': 0.33235587362344365, 'b': 0.0, 'ab': [0.33235587362344365, 0.0]}.\n"
     ]
    },
    {
     "name": "stdout",
     "output_type": "stream",
     "text": [
      "49\n",
      "The set cost function is ignored! LCB acquisition does not make sense with cost.\n",
      "ab\n"
     ]
    },
    {
     "name": "stderr",
     "output_type": "stream",
     "text": [
      "reconstraining parameters GP_regression.mul\n",
      "reconstraining parameters GP_regression.Gaussian_noise.variance\n"
     ]
    },
    {
     "name": "stdout",
     "output_type": "stream",
     "text": [
      "sampling end!. 2019-04-18 03:47:19.781162 2019-04-18 03:47:35.603540\n"
     ]
    },
    {
     "name": "stderr",
     "output_type": "stream",
     "text": [
      "[I 2019-04-18 03:47:36,611] Finished a trial resulted in value: -0.9927056372656536. Current best value is -1.1989454569537676 with parameters: {'a': 0.33235587362344365, 'b': 0.0, 'ab': [0.33235587362344365, 0.0]}.\n"
     ]
    },
    {
     "name": "stdout",
     "output_type": "stream",
     "text": [
      "50\n",
      "The set cost function is ignored! LCB acquisition does not make sense with cost.\n",
      "ab\n"
     ]
    },
    {
     "name": "stderr",
     "output_type": "stream",
     "text": [
      "reconstraining parameters GP_regression.mul\n",
      "reconstraining parameters GP_regression.Gaussian_noise.variance\n"
     ]
    },
    {
     "name": "stdout",
     "output_type": "stream",
     "text": [
      "sampling end!. 2019-04-18 03:47:36.613386 2019-04-18 03:47:53.521354\n"
     ]
    },
    {
     "name": "stderr",
     "output_type": "stream",
     "text": [
      "[I 2019-04-18 03:47:54,528] Finished a trial resulted in value: -0.7404950024723275. Current best value is -1.1989454569537676 with parameters: {'a': 0.33235587362344365, 'b': 0.0, 'ab': [0.33235587362344365, 0.0]}.\n"
     ]
    },
    {
     "name": "stdout",
     "output_type": "stream",
     "text": [
      "51\n",
      "The set cost function is ignored! LCB acquisition does not make sense with cost.\n",
      "ab\n"
     ]
    },
    {
     "name": "stderr",
     "output_type": "stream",
     "text": [
      "reconstraining parameters GP_regression.mul\n",
      "reconstraining parameters GP_regression.Gaussian_noise.variance\n"
     ]
    },
    {
     "name": "stdout",
     "output_type": "stream",
     "text": [
      "sampling end!. 2019-04-18 03:47:54.530986 2019-04-18 03:48:10.904961\n"
     ]
    },
    {
     "name": "stderr",
     "output_type": "stream",
     "text": [
      "[I 2019-04-18 03:48:11,913] Finished a trial resulted in value: -0.7446354108043907. Current best value is -1.1989454569537676 with parameters: {'a': 0.33235587362344365, 'b': 0.0, 'ab': [0.33235587362344365, 0.0]}.\n"
     ]
    },
    {
     "name": "stdout",
     "output_type": "stream",
     "text": [
      "52\n",
      "The set cost function is ignored! LCB acquisition does not make sense with cost.\n",
      "ab\n"
     ]
    },
    {
     "name": "stderr",
     "output_type": "stream",
     "text": [
      "reconstraining parameters GP_regression.mul\n",
      "reconstraining parameters GP_regression.Gaussian_noise.variance\n"
     ]
    },
    {
     "name": "stdout",
     "output_type": "stream",
     "text": [
      "sampling end!. 2019-04-18 03:48:11.914991 2019-04-18 03:48:33.643173\n"
     ]
    },
    {
     "name": "stderr",
     "output_type": "stream",
     "text": [
      "[I 2019-04-18 03:48:34,650] Finished a trial resulted in value: -0.8839175762447257. Current best value is -1.1989454569537676 with parameters: {'a': 0.33235587362344365, 'b': 0.0, 'ab': [0.33235587362344365, 0.0]}.\n"
     ]
    },
    {
     "name": "stdout",
     "output_type": "stream",
     "text": [
      "53\n",
      "The set cost function is ignored! LCB acquisition does not make sense with cost.\n",
      "ab\n"
     ]
    },
    {
     "name": "stderr",
     "output_type": "stream",
     "text": [
      "reconstraining parameters GP_regression.mul\n",
      "reconstraining parameters GP_regression.Gaussian_noise.variance\n"
     ]
    },
    {
     "name": "stdout",
     "output_type": "stream",
     "text": [
      "sampling end!. 2019-04-18 03:48:34.652481 2019-04-18 03:48:56.117056\n"
     ]
    },
    {
     "name": "stderr",
     "output_type": "stream",
     "text": [
      "[I 2019-04-18 03:48:57,125] Finished a trial resulted in value: -0.8533164526437014. Current best value is -1.1989454569537676 with parameters: {'a': 0.33235587362344365, 'b': 0.0, 'ab': [0.33235587362344365, 0.0]}.\n"
     ]
    },
    {
     "name": "stdout",
     "output_type": "stream",
     "text": [
      "54\n",
      "The set cost function is ignored! LCB acquisition does not make sense with cost.\n",
      "ab\n"
     ]
    },
    {
     "name": "stderr",
     "output_type": "stream",
     "text": [
      "reconstraining parameters GP_regression.mul\n",
      "reconstraining parameters GP_regression.Gaussian_noise.variance\n"
     ]
    },
    {
     "name": "stdout",
     "output_type": "stream",
     "text": [
      "sampling end!. 2019-04-18 03:48:57.127129 2019-04-18 03:49:10.929426\n"
     ]
    },
    {
     "name": "stderr",
     "output_type": "stream",
     "text": [
      "[I 2019-04-18 03:49:11,937] Finished a trial resulted in value: 0.22820899108285853. Current best value is -1.1989454569537676 with parameters: {'a': 0.33235587362344365, 'b': 0.0, 'ab': [0.33235587362344365, 0.0]}.\n"
     ]
    },
    {
     "name": "stdout",
     "output_type": "stream",
     "text": [
      "55\n",
      "The set cost function is ignored! LCB acquisition does not make sense with cost.\n",
      "ab\n"
     ]
    },
    {
     "name": "stderr",
     "output_type": "stream",
     "text": [
      "reconstraining parameters GP_regression.mul\n",
      "reconstraining parameters GP_regression.Gaussian_noise.variance\n"
     ]
    },
    {
     "name": "stdout",
     "output_type": "stream",
     "text": [
      "sampling end!. 2019-04-18 03:49:11.939461 2019-04-18 03:49:31.517233\n"
     ]
    },
    {
     "name": "stderr",
     "output_type": "stream",
     "text": [
      "[I 2019-04-18 03:49:32,525] Finished a trial resulted in value: -0.7769231460582273. Current best value is -1.1989454569537676 with parameters: {'a': 0.33235587362344365, 'b': 0.0, 'ab': [0.33235587362344365, 0.0]}.\n"
     ]
    },
    {
     "name": "stdout",
     "output_type": "stream",
     "text": [
      "56\n",
      "The set cost function is ignored! LCB acquisition does not make sense with cost.\n",
      "ab\n"
     ]
    },
    {
     "name": "stderr",
     "output_type": "stream",
     "text": [
      "reconstraining parameters GP_regression.mul\n",
      "reconstraining parameters GP_regression.Gaussian_noise.variance\n"
     ]
    },
    {
     "name": "stdout",
     "output_type": "stream",
     "text": [
      "sampling end!. 2019-04-18 03:49:32.527336 2019-04-18 03:49:54.268610\n"
     ]
    },
    {
     "name": "stderr",
     "output_type": "stream",
     "text": [
      "[I 2019-04-18 03:49:55,276] Finished a trial resulted in value: -0.5451945643195959. Current best value is -1.1989454569537676 with parameters: {'a': 0.33235587362344365, 'b': 0.0, 'ab': [0.33235587362344365, 0.0]}.\n"
     ]
    },
    {
     "name": "stdout",
     "output_type": "stream",
     "text": [
      "57\n",
      "The set cost function is ignored! LCB acquisition does not make sense with cost.\n",
      "ab\n"
     ]
    },
    {
     "name": "stderr",
     "output_type": "stream",
     "text": [
      "reconstraining parameters GP_regression.mul\n",
      "reconstraining parameters GP_regression.Gaussian_noise.variance\n"
     ]
    },
    {
     "name": "stdout",
     "output_type": "stream",
     "text": [
      "sampling end!. 2019-04-18 03:49:55.278539 2019-04-18 03:50:12.055803\n"
     ]
    },
    {
     "name": "stderr",
     "output_type": "stream",
     "text": [
      "[I 2019-04-18 03:50:22,063] Finished a trial resulted in value: 0.35844980356154466. Current best value is -1.1989454569537676 with parameters: {'a': 0.33235587362344365, 'b': 0.0, 'ab': [0.33235587362344365, 0.0]}.\n"
     ]
    },
    {
     "name": "stdout",
     "output_type": "stream",
     "text": [
      "58\n",
      "The set cost function is ignored! LCB acquisition does not make sense with cost.\n",
      "ab\n"
     ]
    },
    {
     "name": "stderr",
     "output_type": "stream",
     "text": [
      "reconstraining parameters GP_regression.mul\n",
      "reconstraining parameters GP_regression.Gaussian_noise.variance\n"
     ]
    },
    {
     "name": "stdout",
     "output_type": "stream",
     "text": [
      "sampling end!. 2019-04-18 03:50:22.065069 2019-04-18 03:50:38.802620\n"
     ]
    },
    {
     "name": "stderr",
     "output_type": "stream",
     "text": [
      "[I 2019-04-18 03:50:39,810] Finished a trial resulted in value: -0.7140771933782291. Current best value is -1.1989454569537676 with parameters: {'a': 0.33235587362344365, 'b': 0.0, 'ab': [0.33235587362344365, 0.0]}.\n"
     ]
    },
    {
     "name": "stdout",
     "output_type": "stream",
     "text": [
      "59\n",
      "The set cost function is ignored! LCB acquisition does not make sense with cost.\n",
      "ab\n"
     ]
    },
    {
     "name": "stderr",
     "output_type": "stream",
     "text": [
      "reconstraining parameters GP_regression.mul\n",
      "reconstraining parameters GP_regression.Gaussian_noise.variance\n"
     ]
    },
    {
     "name": "stdout",
     "output_type": "stream",
     "text": [
      "sampling end!. 2019-04-18 03:50:39.812183 2019-04-18 03:50:58.700062\n"
     ]
    },
    {
     "name": "stderr",
     "output_type": "stream",
     "text": [
      "[I 2019-04-18 03:50:59,708] Finished a trial resulted in value: -0.6001920276543683. Current best value is -1.1989454569537676 with parameters: {'a': 0.33235587362344365, 'b': 0.0, 'ab': [0.33235587362344365, 0.0]}.\n"
     ]
    },
    {
     "name": "stdout",
     "output_type": "stream",
     "text": [
      "60\n",
      "The set cost function is ignored! LCB acquisition does not make sense with cost.\n",
      "ab\n"
     ]
    },
    {
     "name": "stderr",
     "output_type": "stream",
     "text": [
      "reconstraining parameters GP_regression.mul\n",
      "reconstraining parameters GP_regression.Gaussian_noise.variance\n"
     ]
    },
    {
     "name": "stdout",
     "output_type": "stream",
     "text": [
      "sampling end!. 2019-04-18 03:50:59.710023 2019-04-18 03:51:11.247198\n"
     ]
    },
    {
     "name": "stderr",
     "output_type": "stream",
     "text": [
      "[I 2019-04-18 03:51:21,255] Finished a trial resulted in value: 0.3169674524945872. Current best value is -1.1989454569537676 with parameters: {'a': 0.33235587362344365, 'b': 0.0, 'ab': [0.33235587362344365, 0.0]}.\n"
     ]
    },
    {
     "name": "stdout",
     "output_type": "stream",
     "text": [
      "61\n",
      "The set cost function is ignored! LCB acquisition does not make sense with cost.\n",
      "ab\n"
     ]
    },
    {
     "name": "stderr",
     "output_type": "stream",
     "text": [
      "reconstraining parameters GP_regression.mul\n",
      "reconstraining parameters GP_regression.Gaussian_noise.variance\n"
     ]
    },
    {
     "name": "stdout",
     "output_type": "stream",
     "text": [
      "sampling end!. 2019-04-18 03:51:21.257419 2019-04-18 03:51:45.370523\n"
     ]
    },
    {
     "name": "stderr",
     "output_type": "stream",
     "text": [
      "[I 2019-04-18 03:51:46,378] Finished a trial resulted in value: -1.5830933582430036. Current best value is -1.5830933582430036 with parameters: {'a': 0.4433124845146685, 'b': 0.49378043775685415, 'ab': [0.4433124845146685, 0.49378043775685415]}.\n"
     ]
    },
    {
     "name": "stdout",
     "output_type": "stream",
     "text": [
      "62\n",
      "The set cost function is ignored! LCB acquisition does not make sense with cost.\n",
      "ab\n"
     ]
    },
    {
     "name": "stderr",
     "output_type": "stream",
     "text": [
      "reconstraining parameters GP_regression.mul\n",
      "reconstraining parameters GP_regression.Gaussian_noise.variance\n"
     ]
    },
    {
     "name": "stdout",
     "output_type": "stream",
     "text": [
      "sampling end!. 2019-04-18 03:51:46.380130 2019-04-18 03:52:02.027535\n"
     ]
    },
    {
     "name": "stderr",
     "output_type": "stream",
     "text": [
      "[I 2019-04-18 03:52:03,035] Finished a trial resulted in value: -2.086945341012102. Current best value is -2.086945341012102 with parameters: {'a': 0.42433777206275075, 'b': 0.43904772668084374, 'ab': [0.42433777206275075, 0.43904772668084374]}.\n"
     ]
    },
    {
     "name": "stdout",
     "output_type": "stream",
     "text": [
      "63\n",
      "The set cost function is ignored! LCB acquisition does not make sense with cost.\n",
      "ab\n"
     ]
    },
    {
     "name": "stderr",
     "output_type": "stream",
     "text": [
      "reconstraining parameters GP_regression.mul\n",
      "reconstraining parameters GP_regression.Gaussian_noise.variance\n"
     ]
    },
    {
     "name": "stdout",
     "output_type": "stream",
     "text": [
      "sampling end!. 2019-04-18 03:52:03.038207 2019-04-18 03:52:18.643178\n"
     ]
    },
    {
     "name": "stderr",
     "output_type": "stream",
     "text": [
      "[I 2019-04-18 03:52:19,651] Finished a trial resulted in value: -1.8797156984860064. Current best value is -2.086945341012102 with parameters: {'a': 0.42433777206275075, 'b': 0.43904772668084374, 'ab': [0.42433777206275075, 0.43904772668084374]}.\n"
     ]
    },
    {
     "name": "stdout",
     "output_type": "stream",
     "text": [
      "64\n",
      "The set cost function is ignored! LCB acquisition does not make sense with cost.\n",
      "ab\n"
     ]
    },
    {
     "name": "stderr",
     "output_type": "stream",
     "text": [
      "reconstraining parameters GP_regression.mul\n",
      "reconstraining parameters GP_regression.Gaussian_noise.variance\n"
     ]
    },
    {
     "name": "stdout",
     "output_type": "stream",
     "text": [
      "sampling end!. 2019-04-18 03:52:19.653752 2019-04-18 03:52:36.709144\n"
     ]
    },
    {
     "name": "stderr",
     "output_type": "stream",
     "text": [
      "[I 2019-04-18 03:52:37,717] Finished a trial resulted in value: -2.0329401240067564. Current best value is -2.086945341012102 with parameters: {'a': 0.42433777206275075, 'b': 0.43904772668084374, 'ab': [0.42433777206275075, 0.43904772668084374]}.\n"
     ]
    },
    {
     "name": "stdout",
     "output_type": "stream",
     "text": [
      "65\n",
      "The set cost function is ignored! LCB acquisition does not make sense with cost.\n",
      "ab\n"
     ]
    },
    {
     "name": "stderr",
     "output_type": "stream",
     "text": [
      "reconstraining parameters GP_regression.mul\n",
      "reconstraining parameters GP_regression.Gaussian_noise.variance\n"
     ]
    },
    {
     "name": "stdout",
     "output_type": "stream",
     "text": [
      "sampling end!. 2019-04-18 03:52:37.718897 2019-04-18 03:52:55.608603\n"
     ]
    },
    {
     "name": "stderr",
     "output_type": "stream",
     "text": [
      "[I 2019-04-18 03:52:56,616] Finished a trial resulted in value: -2.179471805835342. Current best value is -2.179471805835342 with parameters: {'a': 0.4145494029227471, 'b': 0.4326495800658167, 'ab': [0.4145494029227471, 0.4326495800658167]}.\n"
     ]
    },
    {
     "name": "stdout",
     "output_type": "stream",
     "text": [
      "66\n",
      "The set cost function is ignored! LCB acquisition does not make sense with cost.\n",
      "ab\n"
     ]
    },
    {
     "name": "stderr",
     "output_type": "stream",
     "text": [
      "reconstraining parameters GP_regression.mul\n",
      "reconstraining parameters GP_regression.Gaussian_noise.variance\n"
     ]
    },
    {
     "name": "stdout",
     "output_type": "stream",
     "text": [
      "sampling end!. 2019-04-18 03:52:56.619066 2019-04-18 03:53:14.851626\n"
     ]
    },
    {
     "name": "stderr",
     "output_type": "stream",
     "text": [
      "[I 2019-04-18 03:53:15,861] Finished a trial resulted in value: -2.0350159550532423. Current best value is -2.179471805835342 with parameters: {'a': 0.4145494029227471, 'b': 0.4326495800658167, 'ab': [0.4145494029227471, 0.4326495800658167]}.\n"
     ]
    },
    {
     "name": "stdout",
     "output_type": "stream",
     "text": [
      "67\n",
      "The set cost function is ignored! LCB acquisition does not make sense with cost.\n",
      "ab\n"
     ]
    },
    {
     "name": "stderr",
     "output_type": "stream",
     "text": [
      "reconstraining parameters GP_regression.mul\n",
      "reconstraining parameters GP_regression.Gaussian_noise.variance\n"
     ]
    },
    {
     "name": "stdout",
     "output_type": "stream",
     "text": [
      "sampling end!. 2019-04-18 03:53:15.863738 2019-04-18 03:53:34.679742\n"
     ]
    },
    {
     "name": "stderr",
     "output_type": "stream",
     "text": [
      "[I 2019-04-18 03:53:35,689] Finished a trial resulted in value: -1.749192541925902. Current best value is -2.179471805835342 with parameters: {'a': 0.4145494029227471, 'b': 0.4326495800658167, 'ab': [0.4145494029227471, 0.4326495800658167]}.\n"
     ]
    },
    {
     "name": "stdout",
     "output_type": "stream",
     "text": [
      "68\n",
      "The set cost function is ignored! LCB acquisition does not make sense with cost.\n",
      "ab\n"
     ]
    },
    {
     "name": "stderr",
     "output_type": "stream",
     "text": [
      "reconstraining parameters GP_regression.mul\n",
      "reconstraining parameters GP_regression.Gaussian_noise.variance\n"
     ]
    },
    {
     "name": "stdout",
     "output_type": "stream",
     "text": [
      "sampling end!. 2019-04-18 03:53:35.691351 2019-04-18 03:53:58.010396\n"
     ]
    },
    {
     "name": "stderr",
     "output_type": "stream",
     "text": [
      "[I 2019-04-18 03:53:59,019] Finished a trial resulted in value: -1.9969178018965408. Current best value is -2.179471805835342 with parameters: {'a': 0.4145494029227471, 'b': 0.4326495800658167, 'ab': [0.4145494029227471, 0.4326495800658167]}.\n"
     ]
    },
    {
     "name": "stdout",
     "output_type": "stream",
     "text": [
      "69\n",
      "The set cost function is ignored! LCB acquisition does not make sense with cost.\n",
      "ab\n"
     ]
    },
    {
     "name": "stderr",
     "output_type": "stream",
     "text": [
      "reconstraining parameters GP_regression.mul\n",
      "reconstraining parameters GP_regression.Gaussian_noise.variance\n"
     ]
    },
    {
     "name": "stdout",
     "output_type": "stream",
     "text": [
      "sampling end!. 2019-04-18 03:53:59.021749 2019-04-18 03:54:18.945268\n"
     ]
    },
    {
     "name": "stderr",
     "output_type": "stream",
     "text": [
      "[I 2019-04-18 03:54:19,954] Finished a trial resulted in value: -2.00736855962325. Current best value is -2.179471805835342 with parameters: {'a': 0.4145494029227471, 'b': 0.4326495800658167, 'ab': [0.4145494029227471, 0.4326495800658167]}.\n"
     ]
    },
    {
     "name": "stdout",
     "output_type": "stream",
     "text": [
      "70\n",
      "The set cost function is ignored! LCB acquisition does not make sense with cost.\n",
      "ab\n"
     ]
    },
    {
     "name": "stderr",
     "output_type": "stream",
     "text": [
      "reconstraining parameters GP_regression.mul\n",
      "reconstraining parameters GP_regression.Gaussian_noise.variance\n"
     ]
    },
    {
     "name": "stdout",
     "output_type": "stream",
     "text": [
      "sampling end!. 2019-04-18 03:54:19.956286 2019-04-18 03:54:41.106543\n"
     ]
    },
    {
     "name": "stderr",
     "output_type": "stream",
     "text": [
      "[I 2019-04-18 03:54:42,116] Finished a trial resulted in value: -1.9251040456344994. Current best value is -2.179471805835342 with parameters: {'a': 0.4145494029227471, 'b': 0.4326495800658167, 'ab': [0.4145494029227471, 0.4326495800658167]}.\n"
     ]
    },
    {
     "name": "stdout",
     "output_type": "stream",
     "text": [
      "71\n",
      "The set cost function is ignored! LCB acquisition does not make sense with cost.\n",
      "ab\n"
     ]
    },
    {
     "name": "stderr",
     "output_type": "stream",
     "text": [
      "reconstraining parameters GP_regression.mul\n",
      "reconstraining parameters GP_regression.Gaussian_noise.variance\n"
     ]
    },
    {
     "name": "stdout",
     "output_type": "stream",
     "text": [
      "sampling end!. 2019-04-18 03:54:42.118451 2019-04-18 03:55:05.041718\n"
     ]
    },
    {
     "name": "stderr",
     "output_type": "stream",
     "text": [
      "[I 2019-04-18 03:55:06,051] Finished a trial resulted in value: -1.985514516357384. Current best value is -2.179471805835342 with parameters: {'a': 0.4145494029227471, 'b': 0.4326495800658167, 'ab': [0.4145494029227471, 0.4326495800658167]}.\n"
     ]
    },
    {
     "name": "stdout",
     "output_type": "stream",
     "text": [
      "72\n",
      "The set cost function is ignored! LCB acquisition does not make sense with cost.\n",
      "ab\n"
     ]
    },
    {
     "name": "stderr",
     "output_type": "stream",
     "text": [
      "reconstraining parameters GP_regression.mul\n",
      "reconstraining parameters GP_regression.Gaussian_noise.variance\n"
     ]
    },
    {
     "name": "stdout",
     "output_type": "stream",
     "text": [
      "sampling end!. 2019-04-18 03:55:06.053663 2019-04-18 03:55:27.094537\n"
     ]
    },
    {
     "name": "stderr",
     "output_type": "stream",
     "text": [
      "[I 2019-04-18 03:55:28,103] Finished a trial resulted in value: -1.9321635396122052. Current best value is -2.179471805835342 with parameters: {'a': 0.4145494029227471, 'b': 0.4326495800658167, 'ab': [0.4145494029227471, 0.4326495800658167]}.\n"
     ]
    },
    {
     "name": "stdout",
     "output_type": "stream",
     "text": [
      "73\n",
      "The set cost function is ignored! LCB acquisition does not make sense with cost.\n",
      "ab\n"
     ]
    },
    {
     "name": "stderr",
     "output_type": "stream",
     "text": [
      "reconstraining parameters GP_regression.mul\n",
      "reconstraining parameters GP_regression.Gaussian_noise.variance\n"
     ]
    },
    {
     "name": "stdout",
     "output_type": "stream",
     "text": [
      "sampling end!. 2019-04-18 03:55:28.105854 2019-04-18 03:55:50.332114\n"
     ]
    },
    {
     "name": "stderr",
     "output_type": "stream",
     "text": [
      "[I 2019-04-18 03:55:51,342] Finished a trial resulted in value: -1.975317795876125. Current best value is -2.179471805835342 with parameters: {'a': 0.4145494029227471, 'b': 0.4326495800658167, 'ab': [0.4145494029227471, 0.4326495800658167]}.\n"
     ]
    },
    {
     "name": "stdout",
     "output_type": "stream",
     "text": [
      "74\n",
      "The set cost function is ignored! LCB acquisition does not make sense with cost.\n",
      "ab\n"
     ]
    },
    {
     "name": "stderr",
     "output_type": "stream",
     "text": [
      "reconstraining parameters GP_regression.mul\n",
      "reconstraining parameters GP_regression.Gaussian_noise.variance\n"
     ]
    },
    {
     "name": "stdout",
     "output_type": "stream",
     "text": [
      "sampling end!. 2019-04-18 03:55:51.344633 2019-04-18 03:56:12.626184\n"
     ]
    },
    {
     "name": "stderr",
     "output_type": "stream",
     "text": [
      "[I 2019-04-18 03:56:13,635] Finished a trial resulted in value: -1.9970336213778006. Current best value is -2.179471805835342 with parameters: {'a': 0.4145494029227471, 'b': 0.4326495800658167, 'ab': [0.4145494029227471, 0.4326495800658167]}.\n"
     ]
    },
    {
     "name": "stdout",
     "output_type": "stream",
     "text": [
      "75\n",
      "The set cost function is ignored! LCB acquisition does not make sense with cost.\n",
      "ab\n"
     ]
    },
    {
     "name": "stderr",
     "output_type": "stream",
     "text": [
      "reconstraining parameters GP_regression.mul\n",
      "reconstraining parameters GP_regression.Gaussian_noise.variance\n"
     ]
    },
    {
     "name": "stdout",
     "output_type": "stream",
     "text": [
      "sampling end!. 2019-04-18 03:56:13.637502 2019-04-18 03:56:35.576575\n"
     ]
    },
    {
     "name": "stderr",
     "output_type": "stream",
     "text": [
      "[I 2019-04-18 03:56:36,586] Finished a trial resulted in value: -1.9220379998206478. Current best value is -2.179471805835342 with parameters: {'a': 0.4145494029227471, 'b': 0.4326495800658167, 'ab': [0.4145494029227471, 0.4326495800658167]}.\n"
     ]
    },
    {
     "name": "stdout",
     "output_type": "stream",
     "text": [
      "76\n",
      "The set cost function is ignored! LCB acquisition does not make sense with cost.\n",
      "ab\n"
     ]
    },
    {
     "name": "stderr",
     "output_type": "stream",
     "text": [
      "reconstraining parameters GP_regression.mul\n",
      "reconstraining parameters GP_regression.Gaussian_noise.variance\n"
     ]
    },
    {
     "name": "stdout",
     "output_type": "stream",
     "text": [
      "sampling end!. 2019-04-18 03:56:36.587838 2019-04-18 03:56:56.075189\n"
     ]
    },
    {
     "name": "stderr",
     "output_type": "stream",
     "text": [
      "[I 2019-04-18 03:56:57,085] Finished a trial resulted in value: -2.005261552680751. Current best value is -2.179471805835342 with parameters: {'a': 0.4145494029227471, 'b': 0.4326495800658167, 'ab': [0.4145494029227471, 0.4326495800658167]}.\n"
     ]
    },
    {
     "name": "stdout",
     "output_type": "stream",
     "text": [
      "77\n",
      "The set cost function is ignored! LCB acquisition does not make sense with cost.\n",
      "ab\n"
     ]
    },
    {
     "name": "stderr",
     "output_type": "stream",
     "text": [
      "reconstraining parameters GP_regression.mul\n",
      "reconstraining parameters GP_regression.Gaussian_noise.variance\n"
     ]
    },
    {
     "name": "stdout",
     "output_type": "stream",
     "text": [
      "sampling end!. 2019-04-18 03:56:57.087682 2019-04-18 03:57:17.500666\n"
     ]
    },
    {
     "name": "stderr",
     "output_type": "stream",
     "text": [
      "[I 2019-04-18 03:57:18,510] Finished a trial resulted in value: -2.0333081671214326. Current best value is -2.179471805835342 with parameters: {'a': 0.4145494029227471, 'b': 0.4326495800658167, 'ab': [0.4145494029227471, 0.4326495800658167]}.\n"
     ]
    },
    {
     "name": "stdout",
     "output_type": "stream",
     "text": [
      "78\n",
      "The set cost function is ignored! LCB acquisition does not make sense with cost.\n",
      "ab\n"
     ]
    },
    {
     "name": "stderr",
     "output_type": "stream",
     "text": [
      "reconstraining parameters GP_regression.mul\n",
      "reconstraining parameters GP_regression.Gaussian_noise.variance\n"
     ]
    },
    {
     "name": "stdout",
     "output_type": "stream",
     "text": [
      "sampling end!. 2019-04-18 03:57:18.512245 2019-04-18 03:57:38.827500\n"
     ]
    },
    {
     "name": "stderr",
     "output_type": "stream",
     "text": [
      "[I 2019-04-18 03:57:39,836] Finished a trial resulted in value: -2.119166141646027. Current best value is -2.179471805835342 with parameters: {'a': 0.4145494029227471, 'b': 0.4326495800658167, 'ab': [0.4145494029227471, 0.4326495800658167]}.\n"
     ]
    },
    {
     "name": "stdout",
     "output_type": "stream",
     "text": [
      "79\n",
      "The set cost function is ignored! LCB acquisition does not make sense with cost.\n",
      "ab\n"
     ]
    },
    {
     "name": "stderr",
     "output_type": "stream",
     "text": [
      "reconstraining parameters GP_regression.mul\n",
      "reconstraining parameters GP_regression.Gaussian_noise.variance\n"
     ]
    },
    {
     "name": "stdout",
     "output_type": "stream",
     "text": [
      "sampling end!. 2019-04-18 03:57:39.839352 2019-04-18 03:58:01.320969\n"
     ]
    },
    {
     "name": "stderr",
     "output_type": "stream",
     "text": [
      "[I 2019-04-18 03:58:02,331] Finished a trial resulted in value: -2.0664733909786066. Current best value is -2.179471805835342 with parameters: {'a': 0.4145494029227471, 'b': 0.4326495800658167, 'ab': [0.4145494029227471, 0.4326495800658167]}.\n"
     ]
    },
    {
     "name": "stdout",
     "output_type": "stream",
     "text": [
      "80\n",
      "The set cost function is ignored! LCB acquisition does not make sense with cost.\n",
      "ab\n"
     ]
    },
    {
     "name": "stderr",
     "output_type": "stream",
     "text": [
      "reconstraining parameters GP_regression.mul\n",
      "reconstraining parameters GP_regression.Gaussian_noise.variance\n"
     ]
    },
    {
     "name": "stdout",
     "output_type": "stream",
     "text": [
      "sampling end!. 2019-04-18 03:58:02.333869 2019-04-18 03:58:23.550023\n"
     ]
    },
    {
     "name": "stderr",
     "output_type": "stream",
     "text": [
      "[I 2019-04-18 03:58:24,559] Finished a trial resulted in value: -2.0157473376870816. Current best value is -2.179471805835342 with parameters: {'a': 0.4145494029227471, 'b': 0.4326495800658167, 'ab': [0.4145494029227471, 0.4326495800658167]}.\n"
     ]
    },
    {
     "name": "stdout",
     "output_type": "stream",
     "text": [
      "81\n",
      "The set cost function is ignored! LCB acquisition does not make sense with cost.\n",
      "ab\n"
     ]
    },
    {
     "name": "stderr",
     "output_type": "stream",
     "text": [
      "reconstraining parameters GP_regression.mul\n",
      "reconstraining parameters GP_regression.Gaussian_noise.variance\n"
     ]
    },
    {
     "name": "stdout",
     "output_type": "stream",
     "text": [
      "sampling end!. 2019-04-18 03:58:24.561669 2019-04-18 03:58:44.391384\n"
     ]
    },
    {
     "name": "stderr",
     "output_type": "stream",
     "text": [
      "[I 2019-04-18 03:58:45,400] Finished a trial resulted in value: -1.9060426732225422. Current best value is -2.179471805835342 with parameters: {'a': 0.4145494029227471, 'b': 0.4326495800658167, 'ab': [0.4145494029227471, 0.4326495800658167]}.\n"
     ]
    },
    {
     "name": "stdout",
     "output_type": "stream",
     "text": [
      "82\n",
      "The set cost function is ignored! LCB acquisition does not make sense with cost.\n",
      "ab\n"
     ]
    },
    {
     "name": "stderr",
     "output_type": "stream",
     "text": [
      "reconstraining parameters GP_regression.mul\n",
      "reconstraining parameters GP_regression.Gaussian_noise.variance\n"
     ]
    },
    {
     "name": "stdout",
     "output_type": "stream",
     "text": [
      "sampling end!. 2019-04-18 03:58:45.402457 2019-04-18 03:59:05.148551\n"
     ]
    },
    {
     "name": "stderr",
     "output_type": "stream",
     "text": [
      "[I 2019-04-18 03:59:06,158] Finished a trial resulted in value: -1.7739799100596152. Current best value is -2.179471805835342 with parameters: {'a': 0.4145494029227471, 'b': 0.4326495800658167, 'ab': [0.4145494029227471, 0.4326495800658167]}.\n"
     ]
    },
    {
     "name": "stdout",
     "output_type": "stream",
     "text": [
      "83\n",
      "The set cost function is ignored! LCB acquisition does not make sense with cost.\n",
      "ab\n"
     ]
    },
    {
     "name": "stderr",
     "output_type": "stream",
     "text": [
      "reconstraining parameters GP_regression.mul\n",
      "reconstraining parameters GP_regression.Gaussian_noise.variance\n"
     ]
    },
    {
     "name": "stdout",
     "output_type": "stream",
     "text": [
      "sampling end!. 2019-04-18 03:59:06.160551 2019-04-18 03:59:28.536060\n"
     ]
    },
    {
     "name": "stderr",
     "output_type": "stream",
     "text": [
      "[I 2019-04-18 03:59:29,546] Finished a trial resulted in value: -1.79168677927634. Current best value is -2.179471805835342 with parameters: {'a': 0.4145494029227471, 'b': 0.4326495800658167, 'ab': [0.4145494029227471, 0.4326495800658167]}.\n"
     ]
    },
    {
     "name": "stdout",
     "output_type": "stream",
     "text": [
      "84\n",
      "The set cost function is ignored! LCB acquisition does not make sense with cost.\n",
      "ab\n"
     ]
    },
    {
     "name": "stderr",
     "output_type": "stream",
     "text": [
      "reconstraining parameters GP_regression.mul\n",
      "reconstraining parameters GP_regression.Gaussian_noise.variance\n"
     ]
    },
    {
     "name": "stdout",
     "output_type": "stream",
     "text": [
      "sampling end!. 2019-04-18 03:59:29.548589 2019-04-18 03:59:50.024053\n"
     ]
    },
    {
     "name": "stderr",
     "output_type": "stream",
     "text": [
      "[I 2019-04-18 03:59:51,033] Finished a trial resulted in value: -1.7259294314627827. Current best value is -2.179471805835342 with parameters: {'a': 0.4145494029227471, 'b': 0.4326495800658167, 'ab': [0.4145494029227471, 0.4326495800658167]}.\n"
     ]
    },
    {
     "name": "stdout",
     "output_type": "stream",
     "text": [
      "85\n",
      "The set cost function is ignored! LCB acquisition does not make sense with cost.\n",
      "ab\n"
     ]
    },
    {
     "name": "stderr",
     "output_type": "stream",
     "text": [
      "reconstraining parameters GP_regression.mul\n",
      "reconstraining parameters GP_regression.Gaussian_noise.variance\n"
     ]
    },
    {
     "name": "stdout",
     "output_type": "stream",
     "text": [
      "sampling end!. 2019-04-18 03:59:51.035819 2019-04-18 04:00:16.815286\n"
     ]
    },
    {
     "name": "stderr",
     "output_type": "stream",
     "text": [
      "[I 2019-04-18 04:00:17,827] Finished a trial resulted in value: -1.7026846755363882. Current best value is -2.179471805835342 with parameters: {'a': 0.4145494029227471, 'b': 0.4326495800658167, 'ab': [0.4145494029227471, 0.4326495800658167]}.\n"
     ]
    },
    {
     "name": "stdout",
     "output_type": "stream",
     "text": [
      "86\n",
      "The set cost function is ignored! LCB acquisition does not make sense with cost.\n",
      "ab\n"
     ]
    },
    {
     "name": "stderr",
     "output_type": "stream",
     "text": [
      "reconstraining parameters GP_regression.mul\n",
      "reconstraining parameters GP_regression.Gaussian_noise.variance\n"
     ]
    },
    {
     "name": "stdout",
     "output_type": "stream",
     "text": [
      "sampling end!. 2019-04-18 04:00:17.829699 2019-04-18 04:00:38.976968\n"
     ]
    },
    {
     "name": "stderr",
     "output_type": "stream",
     "text": [
      "[I 2019-04-18 04:00:39,987] Finished a trial resulted in value: -1.6573542550849372. Current best value is -2.179471805835342 with parameters: {'a': 0.4145494029227471, 'b': 0.4326495800658167, 'ab': [0.4145494029227471, 0.4326495800658167]}.\n"
     ]
    },
    {
     "name": "stdout",
     "output_type": "stream",
     "text": [
      "87\n",
      "The set cost function is ignored! LCB acquisition does not make sense with cost.\n",
      "ab\n"
     ]
    },
    {
     "name": "stderr",
     "output_type": "stream",
     "text": [
      "reconstraining parameters GP_regression.mul\n",
      "reconstraining parameters GP_regression.Gaussian_noise.variance\n"
     ]
    },
    {
     "name": "stdout",
     "output_type": "stream",
     "text": [
      "sampling end!. 2019-04-18 04:00:39.989613 2019-04-18 04:01:10.659597\n"
     ]
    },
    {
     "name": "stderr",
     "output_type": "stream",
     "text": [
      "[I 2019-04-18 04:01:11,669] Finished a trial resulted in value: -1.8545667294738597. Current best value is -2.179471805835342 with parameters: {'a': 0.4145494029227471, 'b': 0.4326495800658167, 'ab': [0.4145494029227471, 0.4326495800658167]}.\n"
     ]
    },
    {
     "name": "stdout",
     "output_type": "stream",
     "text": [
      "88\n",
      "The set cost function is ignored! LCB acquisition does not make sense with cost.\n",
      "ab\n"
     ]
    },
    {
     "name": "stderr",
     "output_type": "stream",
     "text": [
      "reconstraining parameters GP_regression.mul\n",
      "reconstraining parameters GP_regression.Gaussian_noise.variance\n"
     ]
    },
    {
     "name": "stdout",
     "output_type": "stream",
     "text": [
      "sampling end!. 2019-04-18 04:01:11.671721 2019-04-18 04:01:36.162555\n"
     ]
    },
    {
     "name": "stderr",
     "output_type": "stream",
     "text": [
      "[I 2019-04-18 04:01:37,173] Finished a trial resulted in value: -1.7552039441804532. Current best value is -2.179471805835342 with parameters: {'a': 0.4145494029227471, 'b': 0.4326495800658167, 'ab': [0.4145494029227471, 0.4326495800658167]}.\n"
     ]
    },
    {
     "name": "stdout",
     "output_type": "stream",
     "text": [
      "89\n",
      "The set cost function is ignored! LCB acquisition does not make sense with cost.\n",
      "ab\n"
     ]
    },
    {
     "name": "stderr",
     "output_type": "stream",
     "text": [
      "reconstraining parameters GP_regression.mul\n",
      "reconstraining parameters GP_regression.Gaussian_noise.variance\n"
     ]
    },
    {
     "name": "stdout",
     "output_type": "stream",
     "text": [
      "sampling end!. 2019-04-18 04:01:37.175821 2019-04-18 04:01:58.536225\n"
     ]
    },
    {
     "name": "stderr",
     "output_type": "stream",
     "text": [
      "[I 2019-04-18 04:01:59,546] Finished a trial resulted in value: -1.7252527496717984. Current best value is -2.179471805835342 with parameters: {'a': 0.4145494029227471, 'b': 0.4326495800658167, 'ab': [0.4145494029227471, 0.4326495800658167]}.\n"
     ]
    },
    {
     "name": "stdout",
     "output_type": "stream",
     "text": [
      "90\n",
      "The set cost function is ignored! LCB acquisition does not make sense with cost.\n",
      "ab\n"
     ]
    },
    {
     "name": "stderr",
     "output_type": "stream",
     "text": [
      "reconstraining parameters GP_regression.mul\n",
      "reconstraining parameters GP_regression.Gaussian_noise.variance\n"
     ]
    },
    {
     "name": "stdout",
     "output_type": "stream",
     "text": [
      "sampling end!. 2019-04-18 04:01:59.548954 2019-04-18 04:02:22.376611\n"
     ]
    },
    {
     "name": "stderr",
     "output_type": "stream",
     "text": [
      "[I 2019-04-18 04:02:23,387] Finished a trial resulted in value: -1.682687669587719. Current best value is -2.179471805835342 with parameters: {'a': 0.4145494029227471, 'b': 0.4326495800658167, 'ab': [0.4145494029227471, 0.4326495800658167]}.\n"
     ]
    },
    {
     "name": "stdout",
     "output_type": "stream",
     "text": [
      "91\n",
      "The set cost function is ignored! LCB acquisition does not make sense with cost.\n",
      "ab\n"
     ]
    },
    {
     "name": "stderr",
     "output_type": "stream",
     "text": [
      "reconstraining parameters GP_regression.mul\n",
      "reconstraining parameters GP_regression.Gaussian_noise.variance\n"
     ]
    },
    {
     "name": "stdout",
     "output_type": "stream",
     "text": [
      "sampling end!. 2019-04-18 04:02:23.389953 2019-04-18 04:02:47.683115\n"
     ]
    },
    {
     "name": "stderr",
     "output_type": "stream",
     "text": [
      "[I 2019-04-18 04:02:48,693] Finished a trial resulted in value: -1.874527938414937. Current best value is -2.179471805835342 with parameters: {'a': 0.4145494029227471, 'b': 0.4326495800658167, 'ab': [0.4145494029227471, 0.4326495800658167]}.\n"
     ]
    },
    {
     "name": "stdout",
     "output_type": "stream",
     "text": [
      "92\n",
      "The set cost function is ignored! LCB acquisition does not make sense with cost.\n",
      "ab\n"
     ]
    },
    {
     "name": "stderr",
     "output_type": "stream",
     "text": [
      "reconstraining parameters GP_regression.mul\n",
      "reconstraining parameters GP_regression.Gaussian_noise.variance\n"
     ]
    },
    {
     "name": "stdout",
     "output_type": "stream",
     "text": [
      "sampling end!. 2019-04-18 04:02:48.695631 2019-04-18 04:03:11.256911\n"
     ]
    },
    {
     "name": "stderr",
     "output_type": "stream",
     "text": [
      "[I 2019-04-18 04:03:12,268] Finished a trial resulted in value: -1.6002946642601568. Current best value is -2.179471805835342 with parameters: {'a': 0.4145494029227471, 'b': 0.4326495800658167, 'ab': [0.4145494029227471, 0.4326495800658167]}.\n"
     ]
    },
    {
     "name": "stdout",
     "output_type": "stream",
     "text": [
      "93\n",
      "The set cost function is ignored! LCB acquisition does not make sense with cost.\n",
      "ab\n"
     ]
    },
    {
     "name": "stderr",
     "output_type": "stream",
     "text": [
      "reconstraining parameters GP_regression.mul\n",
      "reconstraining parameters GP_regression.Gaussian_noise.variance\n"
     ]
    },
    {
     "name": "stdout",
     "output_type": "stream",
     "text": [
      "sampling end!. 2019-04-18 04:03:12.270415 2019-04-18 04:03:34.664083\n"
     ]
    },
    {
     "name": "stderr",
     "output_type": "stream",
     "text": [
      "[I 2019-04-18 04:03:35,676] Finished a trial resulted in value: -1.5872057005958218. Current best value is -2.179471805835342 with parameters: {'a': 0.4145494029227471, 'b': 0.4326495800658167, 'ab': [0.4145494029227471, 0.4326495800658167]}.\n"
     ]
    },
    {
     "name": "stdout",
     "output_type": "stream",
     "text": [
      "94\n",
      "The set cost function is ignored! LCB acquisition does not make sense with cost.\n",
      "ab\n"
     ]
    },
    {
     "name": "stderr",
     "output_type": "stream",
     "text": [
      "reconstraining parameters GP_regression.mul\n",
      "reconstraining parameters GP_regression.Gaussian_noise.variance\n"
     ]
    },
    {
     "name": "stdout",
     "output_type": "stream",
     "text": [
      "sampling end!. 2019-04-18 04:03:35.678798 2019-04-18 04:03:59.368230\n"
     ]
    },
    {
     "name": "stderr",
     "output_type": "stream",
     "text": [
      "[I 2019-04-18 04:04:00,382] Finished a trial resulted in value: -1.779536527255254. Current best value is -2.179471805835342 with parameters: {'a': 0.4145494029227471, 'b': 0.4326495800658167, 'ab': [0.4145494029227471, 0.4326495800658167]}.\n"
     ]
    },
    {
     "name": "stdout",
     "output_type": "stream",
     "text": [
      "95\n",
      "The set cost function is ignored! LCB acquisition does not make sense with cost.\n",
      "ab\n"
     ]
    },
    {
     "name": "stderr",
     "output_type": "stream",
     "text": [
      "reconstraining parameters GP_regression.mul\n",
      "reconstraining parameters GP_regression.Gaussian_noise.variance\n"
     ]
    },
    {
     "name": "stdout",
     "output_type": "stream",
     "text": [
      "sampling end!. 2019-04-18 04:04:00.384664 2019-04-18 04:04:22.305137\n"
     ]
    },
    {
     "name": "stderr",
     "output_type": "stream",
     "text": [
      "[I 2019-04-18 04:04:23,315] Finished a trial resulted in value: -1.6639711874219876. Current best value is -2.179471805835342 with parameters: {'a': 0.4145494029227471, 'b': 0.4326495800658167, 'ab': [0.4145494029227471, 0.4326495800658167]}.\n"
     ]
    },
    {
     "name": "stdout",
     "output_type": "stream",
     "text": [
      "96\n",
      "The set cost function is ignored! LCB acquisition does not make sense with cost.\n",
      "ab\n"
     ]
    },
    {
     "name": "stderr",
     "output_type": "stream",
     "text": [
      "reconstraining parameters GP_regression.mul\n",
      "reconstraining parameters GP_regression.Gaussian_noise.variance\n"
     ]
    },
    {
     "name": "stdout",
     "output_type": "stream",
     "text": [
      "sampling end!. 2019-04-18 04:04:23.317632 2019-04-18 04:04:50.097465\n"
     ]
    },
    {
     "name": "stderr",
     "output_type": "stream",
     "text": [
      "[I 2019-04-18 04:04:51,109] Finished a trial resulted in value: -1.5104954517405509. Current best value is -2.179471805835342 with parameters: {'a': 0.4145494029227471, 'b': 0.4326495800658167, 'ab': [0.4145494029227471, 0.4326495800658167]}.\n"
     ]
    },
    {
     "name": "stdout",
     "output_type": "stream",
     "text": [
      "97\n",
      "The set cost function is ignored! LCB acquisition does not make sense with cost.\n",
      "ab\n"
     ]
    },
    {
     "name": "stderr",
     "output_type": "stream",
     "text": [
      "reconstraining parameters GP_regression.mul\n",
      "reconstraining parameters GP_regression.Gaussian_noise.variance\n"
     ]
    },
    {
     "name": "stdout",
     "output_type": "stream",
     "text": [
      "sampling end!. 2019-04-18 04:04:51.111905 2019-04-18 04:05:19.570471\n"
     ]
    },
    {
     "name": "stderr",
     "output_type": "stream",
     "text": [
      "[I 2019-04-18 04:05:20,584] Finished a trial resulted in value: -1.1915032542374906. Current best value is -2.179471805835342 with parameters: {'a': 0.4145494029227471, 'b': 0.4326495800658167, 'ab': [0.4145494029227471, 0.4326495800658167]}.\n"
     ]
    },
    {
     "name": "stdout",
     "output_type": "stream",
     "text": [
      "98\n",
      "The set cost function is ignored! LCB acquisition does not make sense with cost.\n",
      "ab\n"
     ]
    },
    {
     "name": "stderr",
     "output_type": "stream",
     "text": [
      "reconstraining parameters GP_regression.mul\n",
      "reconstraining parameters GP_regression.Gaussian_noise.variance\n"
     ]
    },
    {
     "name": "stdout",
     "output_type": "stream",
     "text": [
      "sampling end!. 2019-04-18 04:05:20.586789 2019-04-18 04:05:49.917430\n"
     ]
    },
    {
     "name": "stderr",
     "output_type": "stream",
     "text": [
      "[I 2019-04-18 04:05:50,929] Finished a trial resulted in value: -0.23982336175200228. Current best value is -2.179471805835342 with parameters: {'a': 0.4145494029227471, 'b': 0.4326495800658167, 'ab': [0.4145494029227471, 0.4326495800658167]}.\n"
     ]
    },
    {
     "name": "stdout",
     "output_type": "stream",
     "text": [
      "99\n",
      "The set cost function is ignored! LCB acquisition does not make sense with cost.\n",
      "ab\n"
     ]
    },
    {
     "name": "stderr",
     "output_type": "stream",
     "text": [
      "reconstraining parameters GP_regression.mul\n",
      "reconstraining parameters GP_regression.Gaussian_noise.variance\n"
     ]
    },
    {
     "name": "stdout",
     "output_type": "stream",
     "text": [
      "sampling end!. 2019-04-18 04:05:50.931719 2019-04-18 04:06:07.489014\n"
     ]
    },
    {
     "name": "stderr",
     "output_type": "stream",
     "text": [
      "[I 2019-04-18 04:06:08,500] Finished a trial resulted in value: 1.286049550352589. Current best value is -2.179471805835342 with parameters: {'a': 0.4145494029227471, 'b': 0.4326495800658167, 'ab': [0.4145494029227471, 0.4326495800658167]}.\n"
     ]
    },
    {
     "name": "stdout",
     "output_type": "stream",
     "text": [
      "100\n",
      "The set cost function is ignored! LCB acquisition does not make sense with cost.\n",
      "ab\n"
     ]
    },
    {
     "name": "stderr",
     "output_type": "stream",
     "text": [
      "reconstraining parameters GP_regression.mul\n",
      "reconstraining parameters GP_regression.Gaussian_noise.variance\n"
     ]
    },
    {
     "name": "stdout",
     "output_type": "stream",
     "text": [
      "sampling end!. 2019-04-18 04:06:08.502896 2019-04-18 04:06:26.596638\n"
     ]
    },
    {
     "name": "stderr",
     "output_type": "stream",
     "text": [
      "[I 2019-04-18 04:06:36,609] Finished a trial resulted in value: -0.040529699794253235. Current best value is -2.179471805835342 with parameters: {'a': 0.4145494029227471, 'b': 0.4326495800658167, 'ab': [0.4145494029227471, 0.4326495800658167]}.\n"
     ]
    },
    {
     "name": "stdout",
     "output_type": "stream",
     "text": [
      "101\n",
      "The set cost function is ignored! LCB acquisition does not make sense with cost.\n",
      "ab\n"
     ]
    },
    {
     "name": "stderr",
     "output_type": "stream",
     "text": [
      "reconstraining parameters GP_regression.mul\n",
      "reconstraining parameters GP_regression.Gaussian_noise.variance\n"
     ]
    },
    {
     "name": "stdout",
     "output_type": "stream",
     "text": [
      "sampling end!. 2019-04-18 04:06:36.611509 2019-04-18 04:06:53.204532\n"
     ]
    },
    {
     "name": "stderr",
     "output_type": "stream",
     "text": [
      "[I 2019-04-18 04:07:03,217] Finished a trial resulted in value: 0.08340427908434359. Current best value is -2.179471805835342 with parameters: {'a': 0.4145494029227471, 'b': 0.4326495800658167, 'ab': [0.4145494029227471, 0.4326495800658167]}.\n"
     ]
    },
    {
     "name": "stdout",
     "output_type": "stream",
     "text": [
      "102\n",
      "The set cost function is ignored! LCB acquisition does not make sense with cost.\n",
      "ab\n"
     ]
    },
    {
     "name": "stderr",
     "output_type": "stream",
     "text": [
      "reconstraining parameters GP_regression.mul\n",
      "reconstraining parameters GP_regression.Gaussian_noise.variance\n"
     ]
    },
    {
     "name": "stdout",
     "output_type": "stream",
     "text": [
      "sampling end!. 2019-04-18 04:07:03.219240 2019-04-18 04:07:20.196924\n"
     ]
    },
    {
     "name": "stderr",
     "output_type": "stream",
     "text": [
      "[I 2019-04-18 04:07:21,208] Finished a trial resulted in value: 0.046209229785534225. Current best value is -2.179471805835342 with parameters: {'a': 0.4145494029227471, 'b': 0.4326495800658167, 'ab': [0.4145494029227471, 0.4326495800658167]}.\n"
     ]
    },
    {
     "name": "stdout",
     "output_type": "stream",
     "text": [
      "103\n",
      "The set cost function is ignored! LCB acquisition does not make sense with cost.\n",
      "ab\n"
     ]
    },
    {
     "name": "stderr",
     "output_type": "stream",
     "text": [
      "reconstraining parameters GP_regression.mul\n",
      "reconstraining parameters GP_regression.Gaussian_noise.variance\n"
     ]
    },
    {
     "name": "stdout",
     "output_type": "stream",
     "text": [
      "sampling end!. 2019-04-18 04:07:21.211099 2019-04-18 04:07:43.847024\n"
     ]
    },
    {
     "name": "stderr",
     "output_type": "stream",
     "text": [
      "[I 2019-04-18 04:07:53,859] Finished a trial resulted in value: 0.35397889458931925. Current best value is -2.179471805835342 with parameters: {'a': 0.4145494029227471, 'b': 0.4326495800658167, 'ab': [0.4145494029227471, 0.4326495800658167]}.\n"
     ]
    },
    {
     "name": "stdout",
     "output_type": "stream",
     "text": [
      "104\n",
      "The set cost function is ignored! LCB acquisition does not make sense with cost.\n",
      "ab\n"
     ]
    },
    {
     "name": "stderr",
     "output_type": "stream",
     "text": [
      "reconstraining parameters GP_regression.mul\n",
      "reconstraining parameters GP_regression.Gaussian_noise.variance\n"
     ]
    },
    {
     "name": "stdout",
     "output_type": "stream",
     "text": [
      "sampling end!. 2019-04-18 04:07:53.861708 2019-04-18 04:08:22.218108\n"
     ]
    },
    {
     "name": "stderr",
     "output_type": "stream",
     "text": [
      "[I 2019-04-18 04:08:23,230] Finished a trial resulted in value: -1.5497925772117471. Current best value is -2.179471805835342 with parameters: {'a': 0.4145494029227471, 'b': 0.4326495800658167, 'ab': [0.4145494029227471, 0.4326495800658167]}.\n"
     ]
    },
    {
     "name": "stdout",
     "output_type": "stream",
     "text": [
      "105\n",
      "The set cost function is ignored! LCB acquisition does not make sense with cost.\n",
      "ab\n"
     ]
    },
    {
     "name": "stderr",
     "output_type": "stream",
     "text": [
      "reconstraining parameters GP_regression.mul\n",
      "reconstraining parameters GP_regression.Gaussian_noise.variance\n"
     ]
    },
    {
     "name": "stdout",
     "output_type": "stream",
     "text": [
      "sampling end!. 2019-04-18 04:08:23.232030 2019-04-18 04:08:55.386660\n"
     ]
    },
    {
     "name": "stderr",
     "output_type": "stream",
     "text": [
      "[I 2019-04-18 04:08:56,398] Finished a trial resulted in value: -1.514230615464902. Current best value is -2.179471805835342 with parameters: {'a': 0.4145494029227471, 'b': 0.4326495800658167, 'ab': [0.4145494029227471, 0.4326495800658167]}.\n"
     ]
    },
    {
     "name": "stdout",
     "output_type": "stream",
     "text": [
      "106\n",
      "The set cost function is ignored! LCB acquisition does not make sense with cost.\n",
      "ab\n"
     ]
    },
    {
     "name": "stderr",
     "output_type": "stream",
     "text": [
      "reconstraining parameters GP_regression.mul\n",
      "reconstraining parameters GP_regression.Gaussian_noise.variance\n"
     ]
    },
    {
     "name": "stdout",
     "output_type": "stream",
     "text": [
      "sampling end!. 2019-04-18 04:08:56.400704 2019-04-18 04:09:28.929922\n"
     ]
    },
    {
     "name": "stderr",
     "output_type": "stream",
     "text": [
      "[I 2019-04-18 04:09:29,943] Finished a trial resulted in value: -1.5755783351430113. Current best value is -2.179471805835342 with parameters: {'a': 0.4145494029227471, 'b': 0.4326495800658167, 'ab': [0.4145494029227471, 0.4326495800658167]}.\n"
     ]
    },
    {
     "name": "stdout",
     "output_type": "stream",
     "text": [
      "107\n",
      "The set cost function is ignored! LCB acquisition does not make sense with cost.\n",
      "ab\n"
     ]
    },
    {
     "name": "stderr",
     "output_type": "stream",
     "text": [
      "reconstraining parameters GP_regression.mul\n",
      "reconstraining parameters GP_regression.Gaussian_noise.variance\n"
     ]
    },
    {
     "name": "stdout",
     "output_type": "stream",
     "text": [
      "sampling end!. 2019-04-18 04:09:29.944940 2019-04-18 04:09:57.193884\n"
     ]
    },
    {
     "name": "stderr",
     "output_type": "stream",
     "text": [
      "[I 2019-04-18 04:09:58,207] Finished a trial resulted in value: -1.6513686752877739. Current best value is -2.179471805835342 with parameters: {'a': 0.4145494029227471, 'b': 0.4326495800658167, 'ab': [0.4145494029227471, 0.4326495800658167]}.\n"
     ]
    },
    {
     "name": "stdout",
     "output_type": "stream",
     "text": [
      "108\n",
      "The set cost function is ignored! LCB acquisition does not make sense with cost.\n",
      "ab\n"
     ]
    },
    {
     "name": "stderr",
     "output_type": "stream",
     "text": [
      "reconstraining parameters GP_regression.mul\n",
      "reconstraining parameters GP_regression.Gaussian_noise.variance\n"
     ]
    },
    {
     "name": "stdout",
     "output_type": "stream",
     "text": [
      "sampling end!. 2019-04-18 04:09:58.209783 2019-04-18 04:10:31.105740\n"
     ]
    },
    {
     "name": "stderr",
     "output_type": "stream",
     "text": [
      "[I 2019-04-18 04:10:32,118] Finished a trial resulted in value: -1.7217156095798063. Current best value is -2.179471805835342 with parameters: {'a': 0.4145494029227471, 'b': 0.4326495800658167, 'ab': [0.4145494029227471, 0.4326495800658167]}.\n"
     ]
    },
    {
     "name": "stdout",
     "output_type": "stream",
     "text": [
      "109\n",
      "The set cost function is ignored! LCB acquisition does not make sense with cost.\n",
      "ab\n"
     ]
    },
    {
     "name": "stderr",
     "output_type": "stream",
     "text": [
      "reconstraining parameters GP_regression.mul\n",
      "reconstraining parameters GP_regression.Gaussian_noise.variance\n"
     ]
    },
    {
     "name": "stdout",
     "output_type": "stream",
     "text": [
      "sampling end!. 2019-04-18 04:10:32.121100 2019-04-18 04:11:03.107383\n"
     ]
    },
    {
     "name": "stderr",
     "output_type": "stream",
     "text": [
      "[I 2019-04-18 04:11:04,120] Finished a trial resulted in value: -1.6085285422311448. Current best value is -2.179471805835342 with parameters: {'a': 0.4145494029227471, 'b': 0.4326495800658167, 'ab': [0.4145494029227471, 0.4326495800658167]}.\n"
     ]
    },
    {
     "name": "stdout",
     "output_type": "stream",
     "text": [
      "110\n",
      "The set cost function is ignored! LCB acquisition does not make sense with cost.\n",
      "ab\n"
     ]
    },
    {
     "name": "stderr",
     "output_type": "stream",
     "text": [
      "reconstraining parameters GP_regression.mul\n",
      "reconstraining parameters GP_regression.Gaussian_noise.variance\n"
     ]
    },
    {
     "name": "stdout",
     "output_type": "stream",
     "text": [
      "sampling end!. 2019-04-18 04:11:04.122097 2019-04-18 04:11:36.762687\n"
     ]
    },
    {
     "name": "stderr",
     "output_type": "stream",
     "text": [
      "[I 2019-04-18 04:11:37,775] Finished a trial resulted in value: -1.581835677933751. Current best value is -2.179471805835342 with parameters: {'a': 0.4145494029227471, 'b': 0.4326495800658167, 'ab': [0.4145494029227471, 0.4326495800658167]}.\n"
     ]
    },
    {
     "name": "stdout",
     "output_type": "stream",
     "text": [
      "111\n",
      "The set cost function is ignored! LCB acquisition does not make sense with cost.\n",
      "ab\n"
     ]
    },
    {
     "name": "stderr",
     "output_type": "stream",
     "text": [
      "reconstraining parameters GP_regression.mul\n",
      "reconstraining parameters GP_regression.Gaussian_noise.variance\n"
     ]
    },
    {
     "name": "stdout",
     "output_type": "stream",
     "text": [
      "sampling end!. 2019-04-18 04:11:37.777373 2019-04-18 04:12:12.055436\n"
     ]
    },
    {
     "name": "stderr",
     "output_type": "stream",
     "text": [
      "[I 2019-04-18 04:12:13,068] Finished a trial resulted in value: -1.570907092396939. Current best value is -2.179471805835342 with parameters: {'a': 0.4145494029227471, 'b': 0.4326495800658167, 'ab': [0.4145494029227471, 0.4326495800658167]}.\n"
     ]
    },
    {
     "name": "stdout",
     "output_type": "stream",
     "text": [
      "112\n",
      "The set cost function is ignored! LCB acquisition does not make sense with cost.\n",
      "ab\n"
     ]
    },
    {
     "name": "stderr",
     "output_type": "stream",
     "text": [
      "reconstraining parameters GP_regression.mul\n",
      "reconstraining parameters GP_regression.Gaussian_noise.variance\n"
     ]
    },
    {
     "name": "stdout",
     "output_type": "stream",
     "text": [
      "sampling end!. 2019-04-18 04:12:13.070692 2019-04-18 04:12:48.730701\n"
     ]
    },
    {
     "name": "stderr",
     "output_type": "stream",
     "text": [
      "[I 2019-04-18 04:12:49,743] Finished a trial resulted in value: -1.7905866929360998. Current best value is -2.179471805835342 with parameters: {'a': 0.4145494029227471, 'b': 0.4326495800658167, 'ab': [0.4145494029227471, 0.4326495800658167]}.\n"
     ]
    },
    {
     "name": "stdout",
     "output_type": "stream",
     "text": [
      "113\n",
      "The set cost function is ignored! LCB acquisition does not make sense with cost.\n",
      "ab\n"
     ]
    },
    {
     "name": "stderr",
     "output_type": "stream",
     "text": [
      "reconstraining parameters GP_regression.mul\n",
      "reconstraining parameters GP_regression.Gaussian_noise.variance\n"
     ]
    },
    {
     "name": "stdout",
     "output_type": "stream",
     "text": [
      "sampling end!. 2019-04-18 04:12:49.745692 2019-04-18 04:13:20.727574\n"
     ]
    },
    {
     "name": "stderr",
     "output_type": "stream",
     "text": [
      "[I 2019-04-18 04:13:21,740] Finished a trial resulted in value: -1.5088520717593448. Current best value is -2.179471805835342 with parameters: {'a': 0.4145494029227471, 'b': 0.4326495800658167, 'ab': [0.4145494029227471, 0.4326495800658167]}.\n"
     ]
    },
    {
     "name": "stdout",
     "output_type": "stream",
     "text": [
      "114\n",
      "The set cost function is ignored! LCB acquisition does not make sense with cost.\n",
      "ab\n"
     ]
    },
    {
     "name": "stderr",
     "output_type": "stream",
     "text": [
      "reconstraining parameters GP_regression.mul\n",
      "reconstraining parameters GP_regression.Gaussian_noise.variance\n"
     ]
    },
    {
     "name": "stdout",
     "output_type": "stream",
     "text": [
      "sampling end!. 2019-04-18 04:13:21.742966 2019-04-18 04:13:57.378004\n"
     ]
    },
    {
     "name": "stderr",
     "output_type": "stream",
     "text": [
      "[I 2019-04-18 04:13:58,392] Finished a trial resulted in value: -1.5876838063079854. Current best value is -2.179471805835342 with parameters: {'a': 0.4145494029227471, 'b': 0.4326495800658167, 'ab': [0.4145494029227471, 0.4326495800658167]}.\n"
     ]
    },
    {
     "name": "stdout",
     "output_type": "stream",
     "text": [
      "115\n",
      "The set cost function is ignored! LCB acquisition does not make sense with cost.\n",
      "ab\n"
     ]
    },
    {
     "name": "stderr",
     "output_type": "stream",
     "text": [
      "reconstraining parameters GP_regression.mul\n",
      "reconstraining parameters GP_regression.Gaussian_noise.variance\n"
     ]
    },
    {
     "name": "stdout",
     "output_type": "stream",
     "text": [
      "sampling end!. 2019-04-18 04:13:58.395203 2019-04-18 04:14:35.701173\n"
     ]
    },
    {
     "name": "stderr",
     "output_type": "stream",
     "text": [
      "[I 2019-04-18 04:14:36,714] Finished a trial resulted in value: -1.4912103282647995. Current best value is -2.179471805835342 with parameters: {'a': 0.4145494029227471, 'b': 0.4326495800658167, 'ab': [0.4145494029227471, 0.4326495800658167]}.\n"
     ]
    },
    {
     "name": "stdout",
     "output_type": "stream",
     "text": [
      "116\n",
      "The set cost function is ignored! LCB acquisition does not make sense with cost.\n",
      "ab\n"
     ]
    },
    {
     "name": "stderr",
     "output_type": "stream",
     "text": [
      "reconstraining parameters GP_regression.mul\n",
      "reconstraining parameters GP_regression.Gaussian_noise.variance\n"
     ]
    },
    {
     "name": "stdout",
     "output_type": "stream",
     "text": [
      "sampling end!. 2019-04-18 04:14:36.716442 2019-04-18 04:15:14.993008\n"
     ]
    },
    {
     "name": "stderr",
     "output_type": "stream",
     "text": [
      "[I 2019-04-18 04:15:16,005] Finished a trial resulted in value: -1.4423704987178771. Current best value is -2.179471805835342 with parameters: {'a': 0.4145494029227471, 'b': 0.4326495800658167, 'ab': [0.4145494029227471, 0.4326495800658167]}.\n"
     ]
    },
    {
     "name": "stdout",
     "output_type": "stream",
     "text": [
      "117\n",
      "The set cost function is ignored! LCB acquisition does not make sense with cost.\n",
      "ab\n"
     ]
    },
    {
     "name": "stderr",
     "output_type": "stream",
     "text": [
      "reconstraining parameters GP_regression.mul\n",
      "reconstraining parameters GP_regression.Gaussian_noise.variance\n"
     ]
    },
    {
     "name": "stdout",
     "output_type": "stream",
     "text": [
      "sampling end!. 2019-04-18 04:15:16.008069 2019-04-18 04:15:53.569668\n"
     ]
    },
    {
     "name": "stderr",
     "output_type": "stream",
     "text": [
      "[I 2019-04-18 04:15:54,583] Finished a trial resulted in value: -1.2704972949465292. Current best value is -2.179471805835342 with parameters: {'a': 0.4145494029227471, 'b': 0.4326495800658167, 'ab': [0.4145494029227471, 0.4326495800658167]}.\n"
     ]
    },
    {
     "name": "stdout",
     "output_type": "stream",
     "text": [
      "118\n",
      "The set cost function is ignored! LCB acquisition does not make sense with cost.\n",
      "ab\n"
     ]
    },
    {
     "name": "stderr",
     "output_type": "stream",
     "text": [
      "reconstraining parameters GP_regression.mul\n",
      "reconstraining parameters GP_regression.Gaussian_noise.variance\n"
     ]
    },
    {
     "name": "stdout",
     "output_type": "stream",
     "text": [
      "sampling end!. 2019-04-18 04:15:54.585430 2019-04-18 04:16:35.826744\n"
     ]
    },
    {
     "name": "stderr",
     "output_type": "stream",
     "text": [
      "[I 2019-04-18 04:16:36,841] Finished a trial resulted in value: -1.0902605477206129. Current best value is -2.179471805835342 with parameters: {'a': 0.4145494029227471, 'b': 0.4326495800658167, 'ab': [0.4145494029227471, 0.4326495800658167]}.\n"
     ]
    },
    {
     "name": "stdout",
     "output_type": "stream",
     "text": [
      "119\n",
      "The set cost function is ignored! LCB acquisition does not make sense with cost.\n",
      "ab\n"
     ]
    },
    {
     "name": "stderr",
     "output_type": "stream",
     "text": [
      "reconstraining parameters GP_regression.mul\n",
      "reconstraining parameters GP_regression.Gaussian_noise.variance\n"
     ]
    },
    {
     "name": "stdout",
     "output_type": "stream",
     "text": [
      "sampling end!. 2019-04-18 04:16:36.843707 2019-04-18 04:17:07.796889\n"
     ]
    },
    {
     "name": "stderr",
     "output_type": "stream",
     "text": [
      "[I 2019-04-18 04:17:08,810] Finished a trial resulted in value: -1.017008707551368. Current best value is -2.179471805835342 with parameters: {'a': 0.4145494029227471, 'b': 0.4326495800658167, 'ab': [0.4145494029227471, 0.4326495800658167]}.\n"
     ]
    },
    {
     "name": "stdout",
     "output_type": "stream",
     "text": [
      "120\n",
      "The set cost function is ignored! LCB acquisition does not make sense with cost.\n",
      "ab\n"
     ]
    },
    {
     "name": "stderr",
     "output_type": "stream",
     "text": [
      "reconstraining parameters GP_regression.mul\n",
      "reconstraining parameters GP_regression.Gaussian_noise.variance\n"
     ]
    },
    {
     "name": "stdout",
     "output_type": "stream",
     "text": [
      "sampling end!. 2019-04-18 04:17:08.812235 2019-04-18 04:17:31.804415\n"
     ]
    },
    {
     "name": "stderr",
     "output_type": "stream",
     "text": [
      "[I 2019-04-18 04:17:41,818] Finished a trial resulted in value: -0.14699616164088333. Current best value is -2.179471805835342 with parameters: {'a': 0.4145494029227471, 'b': 0.4326495800658167, 'ab': [0.4145494029227471, 0.4326495800658167]}.\n"
     ]
    },
    {
     "name": "stdout",
     "output_type": "stream",
     "text": [
      "121\n",
      "The set cost function is ignored! LCB acquisition does not make sense with cost.\n",
      "ab\n"
     ]
    },
    {
     "name": "stderr",
     "output_type": "stream",
     "text": [
      "reconstraining parameters GP_regression.mul\n",
      "reconstraining parameters GP_regression.Gaussian_noise.variance\n"
     ]
    },
    {
     "name": "stdout",
     "output_type": "stream",
     "text": [
      "sampling end!. 2019-04-18 04:17:41.820705 2019-04-18 04:18:04.951576\n"
     ]
    },
    {
     "name": "stderr",
     "output_type": "stream",
     "text": [
      "[I 2019-04-18 04:18:05,965] Finished a trial resulted in value: -1.1740870952892544. Current best value is -2.179471805835342 with parameters: {'a': 0.4145494029227471, 'b': 0.4326495800658167, 'ab': [0.4145494029227471, 0.4326495800658167]}.\n"
     ]
    },
    {
     "name": "stdout",
     "output_type": "stream",
     "text": [
      "122\n",
      "The set cost function is ignored! LCB acquisition does not make sense with cost.\n",
      "ab\n"
     ]
    },
    {
     "name": "stderr",
     "output_type": "stream",
     "text": [
      "reconstraining parameters GP_regression.mul\n",
      "reconstraining parameters GP_regression.Gaussian_noise.variance\n"
     ]
    },
    {
     "name": "stdout",
     "output_type": "stream",
     "text": [
      "sampling end!. 2019-04-18 04:18:05.967570 2019-04-18 04:18:25.005477\n"
     ]
    },
    {
     "name": "stderr",
     "output_type": "stream",
     "text": [
      "[I 2019-04-18 04:18:35,018] Finished a trial resulted in value: 0.6813897207112642. Current best value is -2.179471805835342 with parameters: {'a': 0.4145494029227471, 'b': 0.4326495800658167, 'ab': [0.4145494029227471, 0.4326495800658167]}.\n"
     ]
    },
    {
     "name": "stdout",
     "output_type": "stream",
     "text": [
      "123\n",
      "The set cost function is ignored! LCB acquisition does not make sense with cost.\n",
      "ab\n"
     ]
    },
    {
     "name": "stderr",
     "output_type": "stream",
     "text": [
      "reconstraining parameters GP_regression.mul\n",
      "reconstraining parameters GP_regression.Gaussian_noise.variance\n"
     ]
    },
    {
     "name": "stdout",
     "output_type": "stream",
     "text": [
      "sampling end!. 2019-04-18 04:18:35.020307 2019-04-18 04:19:13.044897\n"
     ]
    },
    {
     "name": "stderr",
     "output_type": "stream",
     "text": [
      "[I 2019-04-18 04:19:14,059] Finished a trial resulted in value: -1.5627501749179569. Current best value is -2.179471805835342 with parameters: {'a': 0.4145494029227471, 'b': 0.4326495800658167, 'ab': [0.4145494029227471, 0.4326495800658167]}.\n"
     ]
    },
    {
     "name": "stdout",
     "output_type": "stream",
     "text": [
      "124\n",
      "The set cost function is ignored! LCB acquisition does not make sense with cost.\n",
      "ab\n"
     ]
    },
    {
     "name": "stderr",
     "output_type": "stream",
     "text": [
      "reconstraining parameters GP_regression.mul\n",
      "reconstraining parameters GP_regression.Gaussian_noise.variance\n"
     ]
    },
    {
     "name": "stdout",
     "output_type": "stream",
     "text": [
      "sampling end!. 2019-04-18 04:19:14.061715 2019-04-18 04:19:49.674854\n"
     ]
    },
    {
     "name": "stderr",
     "output_type": "stream",
     "text": [
      "[I 2019-04-18 04:19:50,689] Finished a trial resulted in value: -1.5826445130516962. Current best value is -2.179471805835342 with parameters: {'a': 0.4145494029227471, 'b': 0.4326495800658167, 'ab': [0.4145494029227471, 0.4326495800658167]}.\n"
     ]
    },
    {
     "name": "stdout",
     "output_type": "stream",
     "text": [
      "125\n",
      "The set cost function is ignored! LCB acquisition does not make sense with cost.\n",
      "ab\n"
     ]
    },
    {
     "name": "stderr",
     "output_type": "stream",
     "text": [
      "reconstraining parameters GP_regression.mul\n",
      "reconstraining parameters GP_regression.Gaussian_noise.variance\n"
     ]
    },
    {
     "name": "stdout",
     "output_type": "stream",
     "text": [
      "sampling end!. 2019-04-18 04:19:50.691432 2019-04-18 04:20:23.093244\n"
     ]
    },
    {
     "name": "stderr",
     "output_type": "stream",
     "text": [
      "[I 2019-04-18 04:20:24,107] Finished a trial resulted in value: -1.6981527802239071. Current best value is -2.179471805835342 with parameters: {'a': 0.4145494029227471, 'b': 0.4326495800658167, 'ab': [0.4145494029227471, 0.4326495800658167]}.\n"
     ]
    },
    {
     "name": "stdout",
     "output_type": "stream",
     "text": [
      "126\n",
      "The set cost function is ignored! LCB acquisition does not make sense with cost.\n",
      "ab\n"
     ]
    },
    {
     "name": "stderr",
     "output_type": "stream",
     "text": [
      "reconstraining parameters GP_regression.mul\n",
      "reconstraining parameters GP_regression.Gaussian_noise.variance\n"
     ]
    },
    {
     "name": "stdout",
     "output_type": "stream",
     "text": [
      "sampling end!. 2019-04-18 04:20:24.110024 2019-04-18 04:20:55.851366\n"
     ]
    },
    {
     "name": "stderr",
     "output_type": "stream",
     "text": [
      "[I 2019-04-18 04:20:56,865] Finished a trial resulted in value: -1.5723406605512174. Current best value is -2.179471805835342 with parameters: {'a': 0.4145494029227471, 'b': 0.4326495800658167, 'ab': [0.4145494029227471, 0.4326495800658167]}.\n"
     ]
    },
    {
     "name": "stdout",
     "output_type": "stream",
     "text": [
      "127\n",
      "The set cost function is ignored! LCB acquisition does not make sense with cost.\n",
      "ab\n"
     ]
    },
    {
     "name": "stderr",
     "output_type": "stream",
     "text": [
      "reconstraining parameters GP_regression.mul\n",
      "reconstraining parameters GP_regression.Gaussian_noise.variance\n"
     ]
    },
    {
     "name": "stdout",
     "output_type": "stream",
     "text": [
      "sampling end!. 2019-04-18 04:20:56.867736 2019-04-18 04:21:30.532978\n"
     ]
    },
    {
     "name": "stderr",
     "output_type": "stream",
     "text": [
      "[I 2019-04-18 04:21:31,548] Finished a trial resulted in value: -1.7340762848235194. Current best value is -2.179471805835342 with parameters: {'a': 0.4145494029227471, 'b': 0.4326495800658167, 'ab': [0.4145494029227471, 0.4326495800658167]}.\n"
     ]
    },
    {
     "name": "stdout",
     "output_type": "stream",
     "text": [
      "128\n",
      "The set cost function is ignored! LCB acquisition does not make sense with cost.\n",
      "ab\n"
     ]
    },
    {
     "name": "stderr",
     "output_type": "stream",
     "text": [
      "reconstraining parameters GP_regression.mul\n",
      "reconstraining parameters GP_regression.Gaussian_noise.variance\n"
     ]
    },
    {
     "name": "stdout",
     "output_type": "stream",
     "text": [
      "sampling end!. 2019-04-18 04:21:31.550277 2019-04-18 04:22:06.581305\n"
     ]
    },
    {
     "name": "stderr",
     "output_type": "stream",
     "text": [
      "[I 2019-04-18 04:22:07,595] Finished a trial resulted in value: -1.6450275241884214. Current best value is -2.179471805835342 with parameters: {'a': 0.4145494029227471, 'b': 0.4326495800658167, 'ab': [0.4145494029227471, 0.4326495800658167]}.\n"
     ]
    },
    {
     "name": "stdout",
     "output_type": "stream",
     "text": [
      "129\n",
      "The set cost function is ignored! LCB acquisition does not make sense with cost.\n",
      "ab\n"
     ]
    },
    {
     "name": "stderr",
     "output_type": "stream",
     "text": [
      "reconstraining parameters GP_regression.mul\n",
      "reconstraining parameters GP_regression.Gaussian_noise.variance\n"
     ]
    },
    {
     "name": "stdout",
     "output_type": "stream",
     "text": [
      "sampling end!. 2019-04-18 04:22:07.597883 2019-04-18 04:22:45.256476\n"
     ]
    },
    {
     "name": "stderr",
     "output_type": "stream",
     "text": [
      "[I 2019-04-18 04:22:46,270] Finished a trial resulted in value: -1.56003145220067. Current best value is -2.179471805835342 with parameters: {'a': 0.4145494029227471, 'b': 0.4326495800658167, 'ab': [0.4145494029227471, 0.4326495800658167]}.\n"
     ]
    },
    {
     "name": "stdout",
     "output_type": "stream",
     "text": [
      "130\n",
      "The set cost function is ignored! LCB acquisition does not make sense with cost.\n",
      "ab\n"
     ]
    },
    {
     "name": "stderr",
     "output_type": "stream",
     "text": [
      "reconstraining parameters GP_regression.mul\n",
      "reconstraining parameters GP_regression.Gaussian_noise.variance\n"
     ]
    },
    {
     "name": "stdout",
     "output_type": "stream",
     "text": [
      "sampling end!. 2019-04-18 04:22:46.272993 2019-04-18 04:23:23.067856\n"
     ]
    },
    {
     "name": "stderr",
     "output_type": "stream",
     "text": [
      "[I 2019-04-18 04:23:24,086] Finished a trial resulted in value: -1.6564406714665503. Current best value is -2.179471805835342 with parameters: {'a': 0.4145494029227471, 'b': 0.4326495800658167, 'ab': [0.4145494029227471, 0.4326495800658167]}.\n"
     ]
    },
    {
     "name": "stdout",
     "output_type": "stream",
     "text": [
      "131\n",
      "The set cost function is ignored! LCB acquisition does not make sense with cost.\n",
      "ab\n"
     ]
    },
    {
     "name": "stderr",
     "output_type": "stream",
     "text": [
      "reconstraining parameters GP_regression.mul\n",
      "reconstraining parameters GP_regression.Gaussian_noise.variance\n"
     ]
    },
    {
     "name": "stdout",
     "output_type": "stream",
     "text": [
      "sampling end!. 2019-04-18 04:23:24.088304 2019-04-18 04:24:02.909363\n"
     ]
    },
    {
     "name": "stderr",
     "output_type": "stream",
     "text": [
      "[I 2019-04-18 04:24:03,924] Finished a trial resulted in value: -1.6863231217984223. Current best value is -2.179471805835342 with parameters: {'a': 0.4145494029227471, 'b': 0.4326495800658167, 'ab': [0.4145494029227471, 0.4326495800658167]}.\n"
     ]
    },
    {
     "name": "stdout",
     "output_type": "stream",
     "text": [
      "132\n",
      "The set cost function is ignored! LCB acquisition does not make sense with cost.\n",
      "ab\n"
     ]
    },
    {
     "name": "stderr",
     "output_type": "stream",
     "text": [
      "reconstraining parameters GP_regression.mul\n",
      "reconstraining parameters GP_regression.Gaussian_noise.variance\n"
     ]
    },
    {
     "name": "stdout",
     "output_type": "stream",
     "text": [
      "sampling end!. 2019-04-18 04:24:03.926527 2019-04-18 04:24:41.486600\n"
     ]
    },
    {
     "name": "stderr",
     "output_type": "stream",
     "text": [
      "[I 2019-04-18 04:24:42,503] Finished a trial resulted in value: -1.7754886202396796. Current best value is -2.179471805835342 with parameters: {'a': 0.4145494029227471, 'b': 0.4326495800658167, 'ab': [0.4145494029227471, 0.4326495800658167]}.\n"
     ]
    },
    {
     "name": "stdout",
     "output_type": "stream",
     "text": [
      "133\n",
      "The set cost function is ignored! LCB acquisition does not make sense with cost.\n",
      "ab\n"
     ]
    },
    {
     "name": "stderr",
     "output_type": "stream",
     "text": [
      "reconstraining parameters GP_regression.mul\n",
      "reconstraining parameters GP_regression.Gaussian_noise.variance\n"
     ]
    },
    {
     "name": "stdout",
     "output_type": "stream",
     "text": [
      "sampling end!. 2019-04-18 04:24:42.505041 2019-04-18 04:25:22.472727\n"
     ]
    },
    {
     "name": "stderr",
     "output_type": "stream",
     "text": [
      "[I 2019-04-18 04:25:23,487] Finished a trial resulted in value: -1.8355245743015078. Current best value is -2.179471805835342 with parameters: {'a': 0.4145494029227471, 'b': 0.4326495800658167, 'ab': [0.4145494029227471, 0.4326495800658167]}.\n"
     ]
    },
    {
     "name": "stdout",
     "output_type": "stream",
     "text": [
      "134\n",
      "The set cost function is ignored! LCB acquisition does not make sense with cost.\n",
      "ab\n"
     ]
    },
    {
     "name": "stderr",
     "output_type": "stream",
     "text": [
      "reconstraining parameters GP_regression.mul\n",
      "reconstraining parameters GP_regression.Gaussian_noise.variance\n"
     ]
    },
    {
     "name": "stdout",
     "output_type": "stream",
     "text": [
      "sampling end!. 2019-04-18 04:25:23.489638 2019-04-18 04:26:02.902904\n"
     ]
    },
    {
     "name": "stderr",
     "output_type": "stream",
     "text": [
      "[I 2019-04-18 04:26:03,917] Finished a trial resulted in value: -1.8482377868558213. Current best value is -2.179471805835342 with parameters: {'a': 0.4145494029227471, 'b': 0.4326495800658167, 'ab': [0.4145494029227471, 0.4326495800658167]}.\n"
     ]
    },
    {
     "name": "stdout",
     "output_type": "stream",
     "text": [
      "135\n",
      "The set cost function is ignored! LCB acquisition does not make sense with cost.\n",
      "ab\n"
     ]
    },
    {
     "name": "stderr",
     "output_type": "stream",
     "text": [
      "reconstraining parameters GP_regression.mul\n",
      "reconstraining parameters GP_regression.Gaussian_noise.variance\n"
     ]
    },
    {
     "name": "stdout",
     "output_type": "stream",
     "text": [
      "sampling end!. 2019-04-18 04:26:03.919434 2019-04-18 04:26:44.527470\n"
     ]
    },
    {
     "name": "stderr",
     "output_type": "stream",
     "text": [
      "[I 2019-04-18 04:26:45,542] Finished a trial resulted in value: -1.9132684123275618. Current best value is -2.179471805835342 with parameters: {'a': 0.4145494029227471, 'b': 0.4326495800658167, 'ab': [0.4145494029227471, 0.4326495800658167]}.\n"
     ]
    },
    {
     "name": "stdout",
     "output_type": "stream",
     "text": [
      "136\n",
      "The set cost function is ignored! LCB acquisition does not make sense with cost.\n",
      "ab\n"
     ]
    },
    {
     "name": "stderr",
     "output_type": "stream",
     "text": [
      "reconstraining parameters GP_regression.mul\n",
      "reconstraining parameters GP_regression.Gaussian_noise.variance\n"
     ]
    },
    {
     "name": "stdout",
     "output_type": "stream",
     "text": [
      "sampling end!. 2019-04-18 04:26:45.544768 2019-04-18 04:27:28.509049\n"
     ]
    },
    {
     "name": "stderr",
     "output_type": "stream",
     "text": [
      "[I 2019-04-18 04:27:29,526] Finished a trial resulted in value: -2.11555082098997. Current best value is -2.179471805835342 with parameters: {'a': 0.4145494029227471, 'b': 0.4326495800658167, 'ab': [0.4145494029227471, 0.4326495800658167]}.\n"
     ]
    },
    {
     "name": "stdout",
     "output_type": "stream",
     "text": [
      "137\n",
      "The set cost function is ignored! LCB acquisition does not make sense with cost.\n",
      "ab\n"
     ]
    },
    {
     "name": "stderr",
     "output_type": "stream",
     "text": [
      "reconstraining parameters GP_regression.mul\n",
      "reconstraining parameters GP_regression.Gaussian_noise.variance\n"
     ]
    },
    {
     "name": "stdout",
     "output_type": "stream",
     "text": [
      "sampling end!. 2019-04-18 04:27:29.528711 2019-04-18 04:28:07.843331\n"
     ]
    },
    {
     "name": "stderr",
     "output_type": "stream",
     "text": [
      "[I 2019-04-18 04:28:08,863] Finished a trial resulted in value: -2.0340100294219905. Current best value is -2.179471805835342 with parameters: {'a': 0.4145494029227471, 'b': 0.4326495800658167, 'ab': [0.4145494029227471, 0.4326495800658167]}.\n"
     ]
    },
    {
     "name": "stdout",
     "output_type": "stream",
     "text": [
      "138\n",
      "The set cost function is ignored! LCB acquisition does not make sense with cost.\n",
      "ab\n"
     ]
    },
    {
     "name": "stderr",
     "output_type": "stream",
     "text": [
      "reconstraining parameters GP_regression.mul\n",
      "reconstraining parameters GP_regression.Gaussian_noise.variance\n"
     ]
    },
    {
     "name": "stdout",
     "output_type": "stream",
     "text": [
      "sampling end!. 2019-04-18 04:28:08.865333 2019-04-18 04:28:48.810978\n"
     ]
    },
    {
     "name": "stderr",
     "output_type": "stream",
     "text": [
      "[I 2019-04-18 04:28:49,827] Finished a trial resulted in value: -2.006970587680319. Current best value is -2.179471805835342 with parameters: {'a': 0.4145494029227471, 'b': 0.4326495800658167, 'ab': [0.4145494029227471, 0.4326495800658167]}.\n"
     ]
    },
    {
     "name": "stdout",
     "output_type": "stream",
     "text": [
      "139\n",
      "The set cost function is ignored! LCB acquisition does not make sense with cost.\n",
      "ab\n"
     ]
    },
    {
     "name": "stderr",
     "output_type": "stream",
     "text": [
      "reconstraining parameters GP_regression.mul\n",
      "reconstraining parameters GP_regression.Gaussian_noise.variance\n"
     ]
    },
    {
     "name": "stdout",
     "output_type": "stream",
     "text": [
      "sampling end!. 2019-04-18 04:28:49.829661 2019-04-18 04:29:27.321084\n"
     ]
    },
    {
     "name": "stderr",
     "output_type": "stream",
     "text": [
      "[I 2019-04-18 04:29:28,337] Finished a trial resulted in value: -2.137189123405312. Current best value is -2.179471805835342 with parameters: {'a': 0.4145494029227471, 'b': 0.4326495800658167, 'ab': [0.4145494029227471, 0.4326495800658167]}.\n"
     ]
    },
    {
     "name": "stdout",
     "output_type": "stream",
     "text": [
      "140\n",
      "The set cost function is ignored! LCB acquisition does not make sense with cost.\n",
      "ab\n"
     ]
    },
    {
     "name": "stderr",
     "output_type": "stream",
     "text": [
      "reconstraining parameters GP_regression.mul\n",
      "reconstraining parameters GP_regression.Gaussian_noise.variance\n"
     ]
    },
    {
     "name": "stdout",
     "output_type": "stream",
     "text": [
      "sampling end!. 2019-04-18 04:29:28.339499 2019-04-18 04:30:07.561618\n"
     ]
    },
    {
     "name": "stderr",
     "output_type": "stream",
     "text": [
      "[I 2019-04-18 04:30:08,578] Finished a trial resulted in value: -2.0816413193452727. Current best value is -2.179471805835342 with parameters: {'a': 0.4145494029227471, 'b': 0.4326495800658167, 'ab': [0.4145494029227471, 0.4326495800658167]}.\n"
     ]
    },
    {
     "name": "stdout",
     "output_type": "stream",
     "text": [
      "141\n",
      "The set cost function is ignored! LCB acquisition does not make sense with cost.\n",
      "ab\n"
     ]
    },
    {
     "name": "stderr",
     "output_type": "stream",
     "text": [
      "reconstraining parameters GP_regression.mul\n",
      "reconstraining parameters GP_regression.Gaussian_noise.variance\n"
     ]
    },
    {
     "name": "stdout",
     "output_type": "stream",
     "text": [
      "sampling end!. 2019-04-18 04:30:08.580443 2019-04-18 04:30:47.650404\n"
     ]
    },
    {
     "name": "stderr",
     "output_type": "stream",
     "text": [
      "[I 2019-04-18 04:30:48,666] Finished a trial resulted in value: -1.5824082270612978. Current best value is -2.179471805835342 with parameters: {'a': 0.4145494029227471, 'b': 0.4326495800658167, 'ab': [0.4145494029227471, 0.4326495800658167]}.\n"
     ]
    },
    {
     "name": "stdout",
     "output_type": "stream",
     "text": [
      "142\n",
      "The set cost function is ignored! LCB acquisition does not make sense with cost.\n",
      "ab\n"
     ]
    },
    {
     "name": "stderr",
     "output_type": "stream",
     "text": [
      "reconstraining parameters GP_regression.mul\n",
      "reconstraining parameters GP_regression.Gaussian_noise.variance\n"
     ]
    },
    {
     "name": "stdout",
     "output_type": "stream",
     "text": [
      "sampling end!. 2019-04-18 04:30:48.668361 2019-04-18 04:31:27.996389\n"
     ]
    },
    {
     "name": "stderr",
     "output_type": "stream",
     "text": [
      "[I 2019-04-18 04:31:29,014] Finished a trial resulted in value: -1.4797492843829028. Current best value is -2.179471805835342 with parameters: {'a': 0.4145494029227471, 'b': 0.4326495800658167, 'ab': [0.4145494029227471, 0.4326495800658167]}.\n"
     ]
    },
    {
     "name": "stdout",
     "output_type": "stream",
     "text": [
      "143\n",
      "The set cost function is ignored! LCB acquisition does not make sense with cost.\n",
      "ab\n"
     ]
    },
    {
     "name": "stderr",
     "output_type": "stream",
     "text": [
      "reconstraining parameters GP_regression.mul\n",
      "reconstraining parameters GP_regression.Gaussian_noise.variance\n"
     ]
    },
    {
     "name": "stdout",
     "output_type": "stream",
     "text": [
      "sampling end!. 2019-04-18 04:31:29.016504 2019-04-18 04:32:08.513539\n"
     ]
    },
    {
     "name": "stderr",
     "output_type": "stream",
     "text": [
      "[I 2019-04-18 04:32:09,530] Finished a trial resulted in value: 0.4698234553038442. Current best value is -2.179471805835342 with parameters: {'a': 0.4145494029227471, 'b': 0.4326495800658167, 'ab': [0.4145494029227471, 0.4326495800658167]}.\n"
     ]
    },
    {
     "name": "stdout",
     "output_type": "stream",
     "text": [
      "144\n",
      "The set cost function is ignored! LCB acquisition does not make sense with cost.\n",
      "ab\n"
     ]
    },
    {
     "name": "stderr",
     "output_type": "stream",
     "text": [
      "reconstraining parameters GP_regression.mul\n",
      "reconstraining parameters GP_regression.Gaussian_noise.variance\n"
     ]
    },
    {
     "name": "stdout",
     "output_type": "stream",
     "text": [
      "sampling end!. 2019-04-18 04:32:09.532011 2019-04-18 04:32:58.494930\n"
     ]
    },
    {
     "name": "stderr",
     "output_type": "stream",
     "text": [
      "[I 2019-04-18 04:32:59,511] Finished a trial resulted in value: -1.6814876670695889. Current best value is -2.179471805835342 with parameters: {'a': 0.4145494029227471, 'b': 0.4326495800658167, 'ab': [0.4145494029227471, 0.4326495800658167]}.\n"
     ]
    },
    {
     "name": "stdout",
     "output_type": "stream",
     "text": [
      "145\n",
      "The set cost function is ignored! LCB acquisition does not make sense with cost.\n",
      "ab\n"
     ]
    },
    {
     "name": "stderr",
     "output_type": "stream",
     "text": [
      "reconstraining parameters GP_regression.mul\n",
      "reconstraining parameters GP_regression.Gaussian_noise.variance\n"
     ]
    },
    {
     "name": "stdout",
     "output_type": "stream",
     "text": [
      "sampling end!. 2019-04-18 04:32:59.514245 2019-04-18 04:33:44.980287\n"
     ]
    },
    {
     "name": "stderr",
     "output_type": "stream",
     "text": [
      "[I 2019-04-18 04:33:45,996] Finished a trial resulted in value: -1.7058832849912917. Current best value is -2.179471805835342 with parameters: {'a': 0.4145494029227471, 'b': 0.4326495800658167, 'ab': [0.4145494029227471, 0.4326495800658167]}.\n"
     ]
    },
    {
     "name": "stdout",
     "output_type": "stream",
     "text": [
      "146\n",
      "The set cost function is ignored! LCB acquisition does not make sense with cost.\n",
      "ab\n"
     ]
    },
    {
     "name": "stderr",
     "output_type": "stream",
     "text": [
      "reconstraining parameters GP_regression.mul\n",
      "reconstraining parameters GP_regression.Gaussian_noise.variance\n"
     ]
    },
    {
     "name": "stdout",
     "output_type": "stream",
     "text": [
      "sampling end!. 2019-04-18 04:33:45.998435 2019-04-18 04:34:35.164623\n"
     ]
    },
    {
     "name": "stderr",
     "output_type": "stream",
     "text": [
      "[I 2019-04-18 04:34:36,183] Finished a trial resulted in value: -1.5522163050090265. Current best value is -2.179471805835342 with parameters: {'a': 0.4145494029227471, 'b': 0.4326495800658167, 'ab': [0.4145494029227471, 0.4326495800658167]}.\n"
     ]
    },
    {
     "name": "stdout",
     "output_type": "stream",
     "text": [
      "147\n",
      "The set cost function is ignored! LCB acquisition does not make sense with cost.\n",
      "ab\n"
     ]
    },
    {
     "name": "stderr",
     "output_type": "stream",
     "text": [
      "reconstraining parameters GP_regression.mul\n",
      "reconstraining parameters GP_regression.Gaussian_noise.variance\n"
     ]
    },
    {
     "name": "stdout",
     "output_type": "stream",
     "text": [
      "sampling end!. 2019-04-18 04:34:36.185019 2019-04-18 04:35:00.798445\n"
     ]
    },
    {
     "name": "stderr",
     "output_type": "stream",
     "text": [
      "[I 2019-04-18 04:35:10,814] Finished a trial resulted in value: -0.4291959228830434. Current best value is -2.179471805835342 with parameters: {'a': 0.4145494029227471, 'b': 0.4326495800658167, 'ab': [0.4145494029227471, 0.4326495800658167]}.\n"
     ]
    },
    {
     "name": "stdout",
     "output_type": "stream",
     "text": [
      "148\n",
      "The set cost function is ignored! LCB acquisition does not make sense with cost.\n",
      "ab\n"
     ]
    },
    {
     "name": "stderr",
     "output_type": "stream",
     "text": [
      "reconstraining parameters GP_regression.mul\n",
      "reconstraining parameters GP_regression.Gaussian_noise.variance\n"
     ]
    },
    {
     "name": "stdout",
     "output_type": "stream",
     "text": [
      "sampling end!. 2019-04-18 04:35:10.816999 2019-04-18 04:35:45.784233\n"
     ]
    },
    {
     "name": "stderr",
     "output_type": "stream",
     "text": [
      "[I 2019-04-18 04:35:46,802] Finished a trial resulted in value: -1.4920382320486576. Current best value is -2.179471805835342 with parameters: {'a': 0.4145494029227471, 'b': 0.4326495800658167, 'ab': [0.4145494029227471, 0.4326495800658167]}.\n"
     ]
    },
    {
     "name": "stdout",
     "output_type": "stream",
     "text": [
      "149\n",
      "The set cost function is ignored! LCB acquisition does not make sense with cost.\n",
      "ab\n"
     ]
    },
    {
     "name": "stderr",
     "output_type": "stream",
     "text": [
      "reconstraining parameters GP_regression.mul\n",
      "reconstraining parameters GP_regression.Gaussian_noise.variance\n"
     ]
    },
    {
     "name": "stdout",
     "output_type": "stream",
     "text": [
      "sampling end!. 2019-04-18 04:35:46.804062 2019-04-18 04:36:41.733438\n"
     ]
    },
    {
     "name": "stderr",
     "output_type": "stream",
     "text": [
      "[I 2019-04-18 04:36:42,751] Finished a trial resulted in value: -1.2631184116230525. Current best value is -2.179471805835342 with parameters: {'a': 0.4145494029227471, 'b': 0.4326495800658167, 'ab': [0.4145494029227471, 0.4326495800658167]}.\n"
     ]
    },
    {
     "name": "stdout",
     "output_type": "stream",
     "text": [
      "150\n",
      "The set cost function is ignored! LCB acquisition does not make sense with cost.\n",
      "ab\n"
     ]
    },
    {
     "name": "stderr",
     "output_type": "stream",
     "text": [
      "reconstraining parameters GP_regression.mul\n",
      "reconstraining parameters GP_regression.Gaussian_noise.variance\n"
     ]
    },
    {
     "name": "stdout",
     "output_type": "stream",
     "text": [
      "sampling end!. 2019-04-18 04:36:42.753795 2019-04-18 04:37:15.929515\n"
     ]
    },
    {
     "name": "stderr",
     "output_type": "stream",
     "text": [
      "[I 2019-04-18 04:37:16,946] Finished a trial resulted in value: -0.586898116885221. Current best value is -2.179471805835342 with parameters: {'a': 0.4145494029227471, 'b': 0.4326495800658167, 'ab': [0.4145494029227471, 0.4326495800658167]}.\n"
     ]
    },
    {
     "name": "stdout",
     "output_type": "stream",
     "text": [
      "151\n",
      "The set cost function is ignored! LCB acquisition does not make sense with cost.\n",
      "ab\n"
     ]
    },
    {
     "name": "stderr",
     "output_type": "stream",
     "text": [
      "reconstraining parameters GP_regression.mul\n",
      "reconstraining parameters GP_regression.Gaussian_noise.variance\n"
     ]
    },
    {
     "name": "stdout",
     "output_type": "stream",
     "text": [
      "sampling end!. 2019-04-18 04:37:16.948956 2019-04-18 04:37:48.802430\n"
     ]
    },
    {
     "name": "stderr",
     "output_type": "stream",
     "text": [
      "[I 2019-04-18 04:37:49,819] Finished a trial resulted in value: -1.0275396291089285. Current best value is -2.179471805835342 with parameters: {'a': 0.4145494029227471, 'b': 0.4326495800658167, 'ab': [0.4145494029227471, 0.4326495800658167]}.\n"
     ]
    },
    {
     "name": "stdout",
     "output_type": "stream",
     "text": [
      "152\n",
      "The set cost function is ignored! LCB acquisition does not make sense with cost.\n",
      "ab\n"
     ]
    },
    {
     "name": "stderr",
     "output_type": "stream",
     "text": [
      "reconstraining parameters GP_regression.mul\n",
      "reconstraining parameters GP_regression.Gaussian_noise.variance\n"
     ]
    },
    {
     "name": "stdout",
     "output_type": "stream",
     "text": [
      "sampling end!. 2019-04-18 04:37:49.821523 2019-04-18 04:38:34.522563\n"
     ]
    },
    {
     "name": "stderr",
     "output_type": "stream",
     "text": [
      "[I 2019-04-18 04:38:35,539] Finished a trial resulted in value: -1.8475729939205126. Current best value is -2.179471805835342 with parameters: {'a': 0.4145494029227471, 'b': 0.4326495800658167, 'ab': [0.4145494029227471, 0.4326495800658167]}.\n"
     ]
    },
    {
     "name": "stdout",
     "output_type": "stream",
     "text": [
      "153\n",
      "The set cost function is ignored! LCB acquisition does not make sense with cost.\n",
      "ab\n"
     ]
    },
    {
     "name": "stderr",
     "output_type": "stream",
     "text": [
      "reconstraining parameters GP_regression.mul\n",
      "reconstraining parameters GP_regression.Gaussian_noise.variance\n"
     ]
    },
    {
     "name": "stdout",
     "output_type": "stream",
     "text": [
      "sampling end!. 2019-04-18 04:38:35.542170 2019-04-18 04:39:13.307096\n"
     ]
    },
    {
     "name": "stderr",
     "output_type": "stream",
     "text": [
      "[I 2019-04-18 04:39:23,325] Finished a trial resulted in value: -1.3601589072879003. Current best value is -2.179471805835342 with parameters: {'a': 0.4145494029227471, 'b': 0.4326495800658167, 'ab': [0.4145494029227471, 0.4326495800658167]}.\n"
     ]
    },
    {
     "name": "stdout",
     "output_type": "stream",
     "text": [
      "154\n",
      "The set cost function is ignored! LCB acquisition does not make sense with cost.\n",
      "ab\n"
     ]
    },
    {
     "name": "stderr",
     "output_type": "stream",
     "text": [
      "reconstraining parameters GP_regression.mul\n",
      "reconstraining parameters GP_regression.Gaussian_noise.variance\n"
     ]
    },
    {
     "name": "stdout",
     "output_type": "stream",
     "text": [
      "sampling end!. 2019-04-18 04:39:23.327454 2019-04-18 04:40:12.885739\n"
     ]
    },
    {
     "name": "stderr",
     "output_type": "stream",
     "text": [
      "[I 2019-04-18 04:40:22,904] Finished a trial resulted in value: -0.3320676563787534. Current best value is -2.179471805835342 with parameters: {'a': 0.4145494029227471, 'b': 0.4326495800658167, 'ab': [0.4145494029227471, 0.4326495800658167]}.\n"
     ]
    },
    {
     "name": "stdout",
     "output_type": "stream",
     "text": [
      "155\n",
      "The set cost function is ignored! LCB acquisition does not make sense with cost.\n",
      "ab\n"
     ]
    },
    {
     "name": "stderr",
     "output_type": "stream",
     "text": [
      "reconstraining parameters GP_regression.mul\n",
      "reconstraining parameters GP_regression.Gaussian_noise.variance\n"
     ]
    },
    {
     "name": "stdout",
     "output_type": "stream",
     "text": [
      "sampling end!. 2019-04-18 04:40:22.906041 2019-04-18 04:41:14.588539\n"
     ]
    },
    {
     "name": "stderr",
     "output_type": "stream",
     "text": [
      "[I 2019-04-18 04:41:15,605] Finished a trial resulted in value: -1.7864873371386714. Current best value is -2.179471805835342 with parameters: {'a': 0.4145494029227471, 'b': 0.4326495800658167, 'ab': [0.4145494029227471, 0.4326495800658167]}.\n"
     ]
    },
    {
     "name": "stdout",
     "output_type": "stream",
     "text": [
      "156\n",
      "The set cost function is ignored! LCB acquisition does not make sense with cost.\n",
      "ab\n"
     ]
    },
    {
     "name": "stderr",
     "output_type": "stream",
     "text": [
      "reconstraining parameters GP_regression.mul\n",
      "reconstraining parameters GP_regression.Gaussian_noise.variance\n"
     ]
    },
    {
     "name": "stdout",
     "output_type": "stream",
     "text": [
      "sampling end!. 2019-04-18 04:41:15.606778 2019-04-18 04:42:06.124050\n"
     ]
    },
    {
     "name": "stderr",
     "output_type": "stream",
     "text": [
      "[I 2019-04-18 04:42:07,142] Finished a trial resulted in value: -1.7288637996355967. Current best value is -2.179471805835342 with parameters: {'a': 0.4145494029227471, 'b': 0.4326495800658167, 'ab': [0.4145494029227471, 0.4326495800658167]}.\n"
     ]
    },
    {
     "name": "stdout",
     "output_type": "stream",
     "text": [
      "157\n",
      "The set cost function is ignored! LCB acquisition does not make sense with cost.\n",
      "ab\n"
     ]
    },
    {
     "name": "stderr",
     "output_type": "stream",
     "text": [
      "reconstraining parameters GP_regression.mul\n",
      "reconstraining parameters GP_regression.Gaussian_noise.variance\n"
     ]
    },
    {
     "name": "stdout",
     "output_type": "stream",
     "text": [
      "sampling end!. 2019-04-18 04:42:07.144318 2019-04-18 04:42:55.958193\n"
     ]
    },
    {
     "name": "stderr",
     "output_type": "stream",
     "text": [
      "[I 2019-04-18 04:42:56,976] Finished a trial resulted in value: -1.7708005638252606. Current best value is -2.179471805835342 with parameters: {'a': 0.4145494029227471, 'b': 0.4326495800658167, 'ab': [0.4145494029227471, 0.4326495800658167]}.\n"
     ]
    },
    {
     "name": "stdout",
     "output_type": "stream",
     "text": [
      "158\n",
      "The set cost function is ignored! LCB acquisition does not make sense with cost.\n",
      "ab\n"
     ]
    },
    {
     "name": "stderr",
     "output_type": "stream",
     "text": [
      "reconstraining parameters GP_regression.mul\n",
      "reconstraining parameters GP_regression.Gaussian_noise.variance\n"
     ]
    },
    {
     "name": "stdout",
     "output_type": "stream",
     "text": [
      "sampling end!. 2019-04-18 04:42:56.978139 2019-04-18 04:43:39.302539\n"
     ]
    },
    {
     "name": "stderr",
     "output_type": "stream",
     "text": [
      "[I 2019-04-18 04:43:40,320] Finished a trial resulted in value: -1.9356978237365867. Current best value is -2.179471805835342 with parameters: {'a': 0.4145494029227471, 'b': 0.4326495800658167, 'ab': [0.4145494029227471, 0.4326495800658167]}.\n"
     ]
    },
    {
     "name": "stdout",
     "output_type": "stream",
     "text": [
      "159\n",
      "The set cost function is ignored! LCB acquisition does not make sense with cost.\n",
      "ab\n"
     ]
    },
    {
     "name": "stderr",
     "output_type": "stream",
     "text": [
      "reconstraining parameters GP_regression.mul\n",
      "reconstraining parameters GP_regression.Gaussian_noise.variance\n"
     ]
    },
    {
     "name": "stdout",
     "output_type": "stream",
     "text": [
      "sampling end!. 2019-04-18 04:43:40.322149 2019-04-18 04:44:29.210666\n"
     ]
    },
    {
     "name": "stderr",
     "output_type": "stream",
     "text": [
      "[I 2019-04-18 04:44:30,228] Finished a trial resulted in value: -1.8671470992826236. Current best value is -2.179471805835342 with parameters: {'a': 0.4145494029227471, 'b': 0.4326495800658167, 'ab': [0.4145494029227471, 0.4326495800658167]}.\n"
     ]
    },
    {
     "name": "stdout",
     "output_type": "stream",
     "text": [
      "160\n",
      "The set cost function is ignored! LCB acquisition does not make sense with cost.\n",
      "ab\n"
     ]
    },
    {
     "name": "stderr",
     "output_type": "stream",
     "text": [
      "reconstraining parameters GP_regression.mul\n",
      "reconstraining parameters GP_regression.Gaussian_noise.variance\n"
     ]
    },
    {
     "name": "stdout",
     "output_type": "stream",
     "text": [
      "sampling end!. 2019-04-18 04:44:30.230722 2019-04-18 04:45:09.032421\n"
     ]
    },
    {
     "name": "stderr",
     "output_type": "stream",
     "text": [
      "[I 2019-04-18 04:45:10,051] Finished a trial resulted in value: -1.7109785620098061. Current best value is -2.179471805835342 with parameters: {'a': 0.4145494029227471, 'b': 0.4326495800658167, 'ab': [0.4145494029227471, 0.4326495800658167]}.\n"
     ]
    },
    {
     "name": "stdout",
     "output_type": "stream",
     "text": [
      "161\n",
      "The set cost function is ignored! LCB acquisition does not make sense with cost.\n",
      "ab\n"
     ]
    },
    {
     "name": "stderr",
     "output_type": "stream",
     "text": [
      "reconstraining parameters GP_regression.mul\n",
      "reconstraining parameters GP_regression.Gaussian_noise.variance\n"
     ]
    },
    {
     "name": "stdout",
     "output_type": "stream",
     "text": [
      "sampling end!. 2019-04-18 04:45:10.054124 2019-04-18 04:46:00.187271\n"
     ]
    },
    {
     "name": "stderr",
     "output_type": "stream",
     "text": [
      "[I 2019-04-18 04:46:01,207] Finished a trial resulted in value: -1.4987425117322102. Current best value is -2.179471805835342 with parameters: {'a': 0.4145494029227471, 'b': 0.4326495800658167, 'ab': [0.4145494029227471, 0.4326495800658167]}.\n"
     ]
    },
    {
     "name": "stdout",
     "output_type": "stream",
     "text": [
      "162\n",
      "The set cost function is ignored! LCB acquisition does not make sense with cost.\n",
      "ab\n"
     ]
    },
    {
     "name": "stderr",
     "output_type": "stream",
     "text": [
      "reconstraining parameters GP_regression.mul\n",
      "reconstraining parameters GP_regression.Gaussian_noise.variance\n"
     ]
    },
    {
     "name": "stdout",
     "output_type": "stream",
     "text": [
      "sampling end!. 2019-04-18 04:46:01.209584 2019-04-18 04:46:40.339102\n"
     ]
    },
    {
     "name": "stderr",
     "output_type": "stream",
     "text": [
      "[I 2019-04-18 04:46:41,357] Finished a trial resulted in value: -1.2582054250497035. Current best value is -2.179471805835342 with parameters: {'a': 0.4145494029227471, 'b': 0.4326495800658167, 'ab': [0.4145494029227471, 0.4326495800658167]}.\n"
     ]
    },
    {
     "name": "stdout",
     "output_type": "stream",
     "text": [
      "163\n",
      "The set cost function is ignored! LCB acquisition does not make sense with cost.\n",
      "ab\n"
     ]
    },
    {
     "name": "stderr",
     "output_type": "stream",
     "text": [
      "reconstraining parameters GP_regression.mul\n",
      "reconstraining parameters GP_regression.Gaussian_noise.variance\n"
     ]
    },
    {
     "name": "stdout",
     "output_type": "stream",
     "text": [
      "sampling end!. 2019-04-18 04:46:41.359406 2019-04-18 04:47:24.050085\n"
     ]
    },
    {
     "name": "stderr",
     "output_type": "stream",
     "text": [
      "[I 2019-04-18 04:47:25,068] Finished a trial resulted in value: -1.6633304967318392. Current best value is -2.179471805835342 with parameters: {'a': 0.4145494029227471, 'b': 0.4326495800658167, 'ab': [0.4145494029227471, 0.4326495800658167]}.\n"
     ]
    },
    {
     "name": "stdout",
     "output_type": "stream",
     "text": [
      "164\n",
      "The set cost function is ignored! LCB acquisition does not make sense with cost.\n",
      "ab\n"
     ]
    },
    {
     "name": "stderr",
     "output_type": "stream",
     "text": [
      "reconstraining parameters GP_regression.mul\n",
      "reconstraining parameters GP_regression.Gaussian_noise.variance\n"
     ]
    },
    {
     "name": "stdout",
     "output_type": "stream",
     "text": [
      "sampling end!. 2019-04-18 04:47:25.070605 2019-04-18 04:48:18.399471\n"
     ]
    },
    {
     "name": "stderr",
     "output_type": "stream",
     "text": [
      "[I 2019-04-18 04:48:19,418] Finished a trial resulted in value: -1.9567098803132588. Current best value is -2.179471805835342 with parameters: {'a': 0.4145494029227471, 'b': 0.4326495800658167, 'ab': [0.4145494029227471, 0.4326495800658167]}.\n"
     ]
    },
    {
     "name": "stdout",
     "output_type": "stream",
     "text": [
      "165\n",
      "The set cost function is ignored! LCB acquisition does not make sense with cost.\n",
      "ab\n"
     ]
    },
    {
     "name": "stderr",
     "output_type": "stream",
     "text": [
      "reconstraining parameters GP_regression.mul\n",
      "reconstraining parameters GP_regression.Gaussian_noise.variance\n"
     ]
    },
    {
     "name": "stdout",
     "output_type": "stream",
     "text": [
      "sampling end!. 2019-04-18 04:48:19.420534 2019-04-18 04:49:01.725273\n"
     ]
    },
    {
     "name": "stderr",
     "output_type": "stream",
     "text": [
      "[I 2019-04-18 04:49:02,744] Finished a trial resulted in value: -1.7783634999217839. Current best value is -2.179471805835342 with parameters: {'a': 0.4145494029227471, 'b': 0.4326495800658167, 'ab': [0.4145494029227471, 0.4326495800658167]}.\n"
     ]
    },
    {
     "name": "stdout",
     "output_type": "stream",
     "text": [
      "166\n",
      "The set cost function is ignored! LCB acquisition does not make sense with cost.\n",
      "ab\n"
     ]
    },
    {
     "name": "stderr",
     "output_type": "stream",
     "text": [
      "reconstraining parameters GP_regression.mul\n",
      "reconstraining parameters GP_regression.Gaussian_noise.variance\n"
     ]
    },
    {
     "name": "stdout",
     "output_type": "stream",
     "text": [
      "sampling end!. 2019-04-18 04:49:02.746631 2019-04-18 04:49:59.509822\n"
     ]
    },
    {
     "name": "stderr",
     "output_type": "stream",
     "text": [
      "[I 2019-04-18 04:50:00,530] Finished a trial resulted in value: -1.8519503433911397. Current best value is -2.179471805835342 with parameters: {'a': 0.4145494029227471, 'b': 0.4326495800658167, 'ab': [0.4145494029227471, 0.4326495800658167]}.\n"
     ]
    },
    {
     "name": "stdout",
     "output_type": "stream",
     "text": [
      "167\n",
      "The set cost function is ignored! LCB acquisition does not make sense with cost.\n",
      "ab\n"
     ]
    },
    {
     "name": "stderr",
     "output_type": "stream",
     "text": [
      "reconstraining parameters GP_regression.mul\n",
      "reconstraining parameters GP_regression.Gaussian_noise.variance\n"
     ]
    },
    {
     "name": "stdout",
     "output_type": "stream",
     "text": [
      "sampling end!. 2019-04-18 04:50:00.532561 2019-04-18 04:50:56.123541\n"
     ]
    },
    {
     "name": "stderr",
     "output_type": "stream",
     "text": [
      "[I 2019-04-18 04:50:57,141] Finished a trial resulted in value: -1.7265067005629964. Current best value is -2.179471805835342 with parameters: {'a': 0.4145494029227471, 'b': 0.4326495800658167, 'ab': [0.4145494029227471, 0.4326495800658167]}.\n"
     ]
    },
    {
     "name": "stdout",
     "output_type": "stream",
     "text": [
      "168\n",
      "The set cost function is ignored! LCB acquisition does not make sense with cost.\n",
      "ab\n"
     ]
    },
    {
     "name": "stderr",
     "output_type": "stream",
     "text": [
      "reconstraining parameters GP_regression.mul\n",
      "reconstraining parameters GP_regression.Gaussian_noise.variance\n"
     ]
    },
    {
     "name": "stdout",
     "output_type": "stream",
     "text": [
      "sampling end!. 2019-04-18 04:50:57.143855 2019-04-18 04:51:56.715517\n"
     ]
    },
    {
     "name": "stderr",
     "output_type": "stream",
     "text": [
      "[I 2019-04-18 04:51:57,734] Finished a trial resulted in value: -1.993596370321195. Current best value is -2.179471805835342 with parameters: {'a': 0.4145494029227471, 'b': 0.4326495800658167, 'ab': [0.4145494029227471, 0.4326495800658167]}.\n"
     ]
    },
    {
     "name": "stdout",
     "output_type": "stream",
     "text": [
      "169\n",
      "The set cost function is ignored! LCB acquisition does not make sense with cost.\n",
      "ab\n"
     ]
    },
    {
     "name": "stderr",
     "output_type": "stream",
     "text": [
      "reconstraining parameters GP_regression.mul\n",
      "reconstraining parameters GP_regression.Gaussian_noise.variance\n"
     ]
    },
    {
     "name": "stdout",
     "output_type": "stream",
     "text": [
      "sampling end!. 2019-04-18 04:51:57.736201 2019-04-18 04:52:48.938439\n"
     ]
    },
    {
     "name": "stderr",
     "output_type": "stream",
     "text": [
      "[I 2019-04-18 04:52:49,957] Finished a trial resulted in value: -2.1585021376130538. Current best value is -2.179471805835342 with parameters: {'a': 0.4145494029227471, 'b': 0.4326495800658167, 'ab': [0.4145494029227471, 0.4326495800658167]}.\n"
     ]
    },
    {
     "name": "stdout",
     "output_type": "stream",
     "text": [
      "170\n",
      "The set cost function is ignored! LCB acquisition does not make sense with cost.\n",
      "ab\n"
     ]
    },
    {
     "name": "stderr",
     "output_type": "stream",
     "text": [
      "reconstraining parameters GP_regression.mul\n",
      "reconstraining parameters GP_regression.Gaussian_noise.variance\n"
     ]
    },
    {
     "name": "stdout",
     "output_type": "stream",
     "text": [
      "sampling end!. 2019-04-18 04:52:49.960195 2019-04-18 04:53:40.809200\n"
     ]
    },
    {
     "name": "stderr",
     "output_type": "stream",
     "text": [
      "[I 2019-04-18 04:53:41,828] Finished a trial resulted in value: -1.8788816355473381. Current best value is -2.179471805835342 with parameters: {'a': 0.4145494029227471, 'b': 0.4326495800658167, 'ab': [0.4145494029227471, 0.4326495800658167]}.\n"
     ]
    },
    {
     "name": "stdout",
     "output_type": "stream",
     "text": [
      "171\n",
      "The set cost function is ignored! LCB acquisition does not make sense with cost.\n",
      "ab\n"
     ]
    },
    {
     "name": "stderr",
     "output_type": "stream",
     "text": [
      "reconstraining parameters GP_regression.mul\n",
      "reconstraining parameters GP_regression.Gaussian_noise.variance\n"
     ]
    },
    {
     "name": "stdout",
     "output_type": "stream",
     "text": [
      "sampling end!. 2019-04-18 04:53:41.830526 2019-04-18 04:54:27.116544\n"
     ]
    },
    {
     "name": "stderr",
     "output_type": "stream",
     "text": [
      "[I 2019-04-18 04:54:28,137] Finished a trial resulted in value: -2.4031166206926273. Current best value is -2.4031166206926273 with parameters: {'a': 0.42862997366133715, 'b': 0.49823808789844454, 'ab': [0.42862997366133715, 0.49823808789844454]}.\n"
     ]
    },
    {
     "name": "stdout",
     "output_type": "stream",
     "text": [
      "172\n",
      "The set cost function is ignored! LCB acquisition does not make sense with cost.\n",
      "ab\n"
     ]
    },
    {
     "name": "stderr",
     "output_type": "stream",
     "text": [
      "reconstraining parameters GP_regression.mul\n",
      "reconstraining parameters GP_regression.Gaussian_noise.variance\n"
     ]
    },
    {
     "name": "stdout",
     "output_type": "stream",
     "text": [
      "sampling end!. 2019-04-18 04:54:28.139712 2019-04-18 04:55:25.118048\n"
     ]
    },
    {
     "name": "stderr",
     "output_type": "stream",
     "text": [
      "[I 2019-04-18 04:55:26,137] Finished a trial resulted in value: -2.501125130787981. Current best value is -2.501125130787981 with parameters: {'a': 0.437896281083266, 'b': 0.48661088704346295, 'ab': [0.437896281083266, 0.48661088704346295]}.\n"
     ]
    },
    {
     "name": "stdout",
     "output_type": "stream",
     "text": [
      "173\n",
      "The set cost function is ignored! LCB acquisition does not make sense with cost.\n",
      "ab\n"
     ]
    },
    {
     "name": "stderr",
     "output_type": "stream",
     "text": [
      "reconstraining parameters GP_regression.mul\n",
      "reconstraining parameters GP_regression.Gaussian_noise.variance\n"
     ]
    },
    {
     "name": "stdout",
     "output_type": "stream",
     "text": [
      "sampling end!. 2019-04-18 04:55:26.139619 2019-04-18 04:56:20.707221\n"
     ]
    },
    {
     "name": "stderr",
     "output_type": "stream",
     "text": [
      "[I 2019-04-18 04:56:21,729] Finished a trial resulted in value: -2.5032036045091757. Current best value is -2.5032036045091757 with parameters: {'a': 0.4328880797524369, 'b': 0.49158627197446203, 'ab': [0.4328880797524369, 0.49158627197446203]}.\n"
     ]
    },
    {
     "name": "stdout",
     "output_type": "stream",
     "text": [
      "174\n",
      "The set cost function is ignored! LCB acquisition does not make sense with cost.\n",
      "ab\n"
     ]
    },
    {
     "name": "stderr",
     "output_type": "stream",
     "text": [
      "reconstraining parameters GP_regression.mul\n",
      "reconstraining parameters GP_regression.Gaussian_noise.variance\n"
     ]
    },
    {
     "name": "stdout",
     "output_type": "stream",
     "text": [
      "sampling end!. 2019-04-18 04:56:21.732145 2019-04-18 04:57:13.507397\n"
     ]
    },
    {
     "name": "stderr",
     "output_type": "stream",
     "text": [
      "[I 2019-04-18 04:57:14,527] Finished a trial resulted in value: -2.5293186490809245. Current best value is -2.5293186490809245 with parameters: {'a': 0.43473867230830704, 'b': 0.4892636959779763, 'ab': [0.43473867230830704, 0.4892636959779763]}.\n"
     ]
    },
    {
     "name": "stdout",
     "output_type": "stream",
     "text": [
      "175\n",
      "The set cost function is ignored! LCB acquisition does not make sense with cost.\n",
      "ab\n"
     ]
    },
    {
     "name": "stderr",
     "output_type": "stream",
     "text": [
      "reconstraining parameters GP_regression.mul\n",
      "reconstraining parameters GP_regression.Gaussian_noise.variance\n"
     ]
    },
    {
     "name": "stdout",
     "output_type": "stream",
     "text": [
      "sampling end!. 2019-04-18 04:57:14.529442 2019-04-18 04:58:05.765917\n"
     ]
    },
    {
     "name": "stderr",
     "output_type": "stream",
     "text": [
      "[I 2019-04-18 04:58:06,786] Finished a trial resulted in value: -2.626459964187661. Current best value is -2.626459964187661 with parameters: {'a': 0.4342699737054341, 'b': 0.49095171558222017, 'ab': [0.4342699737054341, 0.49095171558222017]}.\n"
     ]
    },
    {
     "name": "stdout",
     "output_type": "stream",
     "text": [
      "176\n",
      "The set cost function is ignored! LCB acquisition does not make sense with cost.\n",
      "ab\n"
     ]
    },
    {
     "name": "stderr",
     "output_type": "stream",
     "text": [
      "reconstraining parameters GP_regression.mul\n",
      "reconstraining parameters GP_regression.Gaussian_noise.variance\n"
     ]
    },
    {
     "name": "stdout",
     "output_type": "stream",
     "text": [
      "sampling end!. 2019-04-18 04:58:06.789214 2019-04-18 04:59:01.795134\n"
     ]
    },
    {
     "name": "stderr",
     "output_type": "stream",
     "text": [
      "[I 2019-04-18 04:59:02,815] Finished a trial resulted in value: -2.4845318494399966. Current best value is -2.626459964187661 with parameters: {'a': 0.4342699737054341, 'b': 0.49095171558222017, 'ab': [0.4342699737054341, 0.49095171558222017]}.\n"
     ]
    },
    {
     "name": "stdout",
     "output_type": "stream",
     "text": [
      "177\n",
      "The set cost function is ignored! LCB acquisition does not make sense with cost.\n",
      "ab\n"
     ]
    },
    {
     "name": "stderr",
     "output_type": "stream",
     "text": [
      "reconstraining parameters GP_regression.mul\n",
      "reconstraining parameters GP_regression.Gaussian_noise.variance\n"
     ]
    },
    {
     "name": "stdout",
     "output_type": "stream",
     "text": [
      "sampling end!. 2019-04-18 04:59:02.817360 2019-04-18 04:59:57.894796\n"
     ]
    },
    {
     "name": "stderr",
     "output_type": "stream",
     "text": [
      "[I 2019-04-18 04:59:58,914] Finished a trial resulted in value: -2.407922178395083. Current best value is -2.626459964187661 with parameters: {'a': 0.4342699737054341, 'b': 0.49095171558222017, 'ab': [0.4342699737054341, 0.49095171558222017]}.\n"
     ]
    },
    {
     "name": "stdout",
     "output_type": "stream",
     "text": [
      "178\n",
      "The set cost function is ignored! LCB acquisition does not make sense with cost.\n",
      "ab\n"
     ]
    },
    {
     "name": "stderr",
     "output_type": "stream",
     "text": [
      "reconstraining parameters GP_regression.mul\n",
      "reconstraining parameters GP_regression.Gaussian_noise.variance\n"
     ]
    },
    {
     "name": "stdout",
     "output_type": "stream",
     "text": [
      "sampling end!. 2019-04-18 04:59:58.917028 2019-04-18 05:00:52.278711\n"
     ]
    },
    {
     "name": "stderr",
     "output_type": "stream",
     "text": [
      "[I 2019-04-18 05:00:53,300] Finished a trial resulted in value: -2.5150250904886566. Current best value is -2.626459964187661 with parameters: {'a': 0.4342699737054341, 'b': 0.49095171558222017, 'ab': [0.4342699737054341, 0.49095171558222017]}.\n"
     ]
    },
    {
     "name": "stdout",
     "output_type": "stream",
     "text": [
      "179\n",
      "The set cost function is ignored! LCB acquisition does not make sense with cost.\n",
      "ab\n"
     ]
    },
    {
     "name": "stderr",
     "output_type": "stream",
     "text": [
      "reconstraining parameters GP_regression.mul\n",
      "reconstraining parameters GP_regression.Gaussian_noise.variance\n"
     ]
    },
    {
     "name": "stdout",
     "output_type": "stream",
     "text": [
      "sampling end!. 2019-04-18 05:00:53.302869 2019-04-18 05:01:45.726739\n"
     ]
    },
    {
     "name": "stderr",
     "output_type": "stream",
     "text": [
      "[I 2019-04-18 05:01:46,747] Finished a trial resulted in value: -2.5018376123683774. Current best value is -2.626459964187661 with parameters: {'a': 0.4342699737054341, 'b': 0.49095171558222017, 'ab': [0.4342699737054341, 0.49095171558222017]}.\n"
     ]
    },
    {
     "name": "stdout",
     "output_type": "stream",
     "text": [
      "180\n",
      "The set cost function is ignored! LCB acquisition does not make sense with cost.\n",
      "ab\n"
     ]
    },
    {
     "name": "stderr",
     "output_type": "stream",
     "text": [
      "reconstraining parameters GP_regression.mul\n",
      "reconstraining parameters GP_regression.Gaussian_noise.variance\n"
     ]
    },
    {
     "name": "stdout",
     "output_type": "stream",
     "text": [
      "sampling end!. 2019-04-18 05:01:46.749738 2019-04-18 05:02:38.799628\n"
     ]
    },
    {
     "name": "stderr",
     "output_type": "stream",
     "text": [
      "[I 2019-04-18 05:02:39,821] Finished a trial resulted in value: -2.2038799066814816. Current best value is -2.626459964187661 with parameters: {'a': 0.4342699737054341, 'b': 0.49095171558222017, 'ab': [0.4342699737054341, 0.49095171558222017]}.\n"
     ]
    },
    {
     "name": "stdout",
     "output_type": "stream",
     "text": [
      "181\n",
      "The set cost function is ignored! LCB acquisition does not make sense with cost.\n",
      "ab\n"
     ]
    },
    {
     "name": "stderr",
     "output_type": "stream",
     "text": [
      "reconstraining parameters GP_regression.mul\n",
      "reconstraining parameters GP_regression.Gaussian_noise.variance\n"
     ]
    },
    {
     "name": "stdout",
     "output_type": "stream",
     "text": [
      "sampling end!. 2019-04-18 05:02:39.823160 2019-04-18 05:03:39.635188\n"
     ]
    },
    {
     "name": "stderr",
     "output_type": "stream",
     "text": [
      "[I 2019-04-18 05:03:40,656] Finished a trial resulted in value: -2.5274211151110957. Current best value is -2.626459964187661 with parameters: {'a': 0.4342699737054341, 'b': 0.49095171558222017, 'ab': [0.4342699737054341, 0.49095171558222017]}.\n"
     ]
    },
    {
     "name": "stdout",
     "output_type": "stream",
     "text": [
      "182\n",
      "The set cost function is ignored! LCB acquisition does not make sense with cost.\n",
      "ab\n"
     ]
    },
    {
     "name": "stderr",
     "output_type": "stream",
     "text": [
      "reconstraining parameters GP_regression.mul\n",
      "reconstraining parameters GP_regression.Gaussian_noise.variance\n"
     ]
    },
    {
     "name": "stdout",
     "output_type": "stream",
     "text": [
      "sampling end!. 2019-04-18 05:03:40.658839 2019-04-18 05:04:35.176473\n"
     ]
    },
    {
     "name": "stderr",
     "output_type": "stream",
     "text": [
      "[I 2019-04-18 05:04:36,195] Finished a trial resulted in value: -2.3469330311772074. Current best value is -2.626459964187661 with parameters: {'a': 0.4342699737054341, 'b': 0.49095171558222017, 'ab': [0.4342699737054341, 0.49095171558222017]}.\n"
     ]
    },
    {
     "name": "stdout",
     "output_type": "stream",
     "text": [
      "183\n",
      "The set cost function is ignored! LCB acquisition does not make sense with cost.\n",
      "ab\n"
     ]
    },
    {
     "name": "stderr",
     "output_type": "stream",
     "text": [
      "reconstraining parameters GP_regression.mul\n",
      "reconstraining parameters GP_regression.Gaussian_noise.variance\n"
     ]
    },
    {
     "name": "stdout",
     "output_type": "stream",
     "text": [
      "sampling end!. 2019-04-18 05:04:36.197645 2019-04-18 05:05:34.976867\n"
     ]
    },
    {
     "name": "stderr",
     "output_type": "stream",
     "text": [
      "[I 2019-04-18 05:05:35,997] Finished a trial resulted in value: -2.104133540996976. Current best value is -2.626459964187661 with parameters: {'a': 0.4342699737054341, 'b': 0.49095171558222017, 'ab': [0.4342699737054341, 0.49095171558222017]}.\n"
     ]
    },
    {
     "name": "stdout",
     "output_type": "stream",
     "text": [
      "184\n",
      "The set cost function is ignored! LCB acquisition does not make sense with cost.\n",
      "ab\n"
     ]
    },
    {
     "name": "stderr",
     "output_type": "stream",
     "text": [
      "reconstraining parameters GP_regression.mul\n",
      "reconstraining parameters GP_regression.Gaussian_noise.variance\n"
     ]
    },
    {
     "name": "stdout",
     "output_type": "stream",
     "text": [
      "sampling end!. 2019-04-18 05:05:35.999902 2019-04-18 05:06:40.173983\n"
     ]
    },
    {
     "name": "stderr",
     "output_type": "stream",
     "text": [
      "[I 2019-04-18 05:06:41,195] Finished a trial resulted in value: -1.909463585619526. Current best value is -2.626459964187661 with parameters: {'a': 0.4342699737054341, 'b': 0.49095171558222017, 'ab': [0.4342699737054341, 0.49095171558222017]}.\n"
     ]
    },
    {
     "name": "stdout",
     "output_type": "stream",
     "text": [
      "185\n",
      "The set cost function is ignored! LCB acquisition does not make sense with cost.\n",
      "ab\n"
     ]
    },
    {
     "name": "stderr",
     "output_type": "stream",
     "text": [
      "reconstraining parameters GP_regression.mul\n",
      "reconstraining parameters GP_regression.Gaussian_noise.variance\n"
     ]
    },
    {
     "name": "stdout",
     "output_type": "stream",
     "text": [
      "sampling end!. 2019-04-18 05:06:41.197190 2019-04-18 05:07:47.079472\n"
     ]
    },
    {
     "name": "stderr",
     "output_type": "stream",
     "text": [
      "[I 2019-04-18 05:07:48,101] Finished a trial resulted in value: -2.045286321578356. Current best value is -2.626459964187661 with parameters: {'a': 0.4342699737054341, 'b': 0.49095171558222017, 'ab': [0.4342699737054341, 0.49095171558222017]}.\n"
     ]
    },
    {
     "name": "stdout",
     "output_type": "stream",
     "text": [
      "186\n",
      "The set cost function is ignored! LCB acquisition does not make sense with cost.\n",
      "ab\n"
     ]
    },
    {
     "name": "stderr",
     "output_type": "stream",
     "text": [
      "reconstraining parameters GP_regression.mul\n",
      "reconstraining parameters GP_regression.Gaussian_noise.variance\n"
     ]
    },
    {
     "name": "stdout",
     "output_type": "stream",
     "text": [
      "sampling end!. 2019-04-18 05:07:48.103856 2019-04-18 05:09:00.073660\n"
     ]
    },
    {
     "name": "stderr",
     "output_type": "stream",
     "text": [
      "[I 2019-04-18 05:09:01,094] Finished a trial resulted in value: -1.9093212685410048. Current best value is -2.626459964187661 with parameters: {'a': 0.4342699737054341, 'b': 0.49095171558222017, 'ab': [0.4342699737054341, 0.49095171558222017]}.\n"
     ]
    },
    {
     "name": "stdout",
     "output_type": "stream",
     "text": [
      "187\n",
      "The set cost function is ignored! LCB acquisition does not make sense with cost.\n",
      "ab\n"
     ]
    },
    {
     "name": "stderr",
     "output_type": "stream",
     "text": [
      "reconstraining parameters GP_regression.mul\n",
      "reconstraining parameters GP_regression.Gaussian_noise.variance\n"
     ]
    },
    {
     "name": "stdout",
     "output_type": "stream",
     "text": [
      "sampling end!. 2019-04-18 05:09:01.096781 2019-04-18 05:10:17.068666\n"
     ]
    },
    {
     "name": "stderr",
     "output_type": "stream",
     "text": [
      "[I 2019-04-18 05:10:18,093] Finished a trial resulted in value: -1.6291695992993231. Current best value is -2.626459964187661 with parameters: {'a': 0.4342699737054341, 'b': 0.49095171558222017, 'ab': [0.4342699737054341, 0.49095171558222017]}.\n"
     ]
    },
    {
     "name": "stdout",
     "output_type": "stream",
     "text": [
      "188\n",
      "The set cost function is ignored! LCB acquisition does not make sense with cost.\n",
      "ab\n"
     ]
    },
    {
     "name": "stderr",
     "output_type": "stream",
     "text": [
      "reconstraining parameters GP_regression.mul\n",
      "reconstraining parameters GP_regression.Gaussian_noise.variance\n"
     ]
    },
    {
     "name": "stdout",
     "output_type": "stream",
     "text": [
      "sampling end!. 2019-04-18 05:10:18.095306 2019-04-18 05:11:00.365158\n"
     ]
    },
    {
     "name": "stderr",
     "output_type": "stream",
     "text": [
      "[I 2019-04-18 05:11:01,386] Finished a trial resulted in value: -0.7832926393057444. Current best value is -2.626459964187661 with parameters: {'a': 0.4342699737054341, 'b': 0.49095171558222017, 'ab': [0.4342699737054341, 0.49095171558222017]}.\n"
     ]
    },
    {
     "name": "stdout",
     "output_type": "stream",
     "text": [
      "189\n",
      "The set cost function is ignored! LCB acquisition does not make sense with cost.\n",
      "ab\n"
     ]
    },
    {
     "name": "stderr",
     "output_type": "stream",
     "text": [
      "reconstraining parameters GP_regression.mul\n",
      "reconstraining parameters GP_regression.Gaussian_noise.variance\n"
     ]
    },
    {
     "name": "stdout",
     "output_type": "stream",
     "text": [
      "sampling end!. 2019-04-18 05:11:01.388949 2019-04-18 05:11:42.310690\n"
     ]
    },
    {
     "name": "stderr",
     "output_type": "stream",
     "text": [
      "[I 2019-04-18 05:11:52,335] Finished a trial resulted in value: -0.9659210254916941. Current best value is -2.626459964187661 with parameters: {'a': 0.4342699737054341, 'b': 0.49095171558222017, 'ab': [0.4342699737054341, 0.49095171558222017]}.\n"
     ]
    },
    {
     "name": "stdout",
     "output_type": "stream",
     "text": [
      "190\n",
      "The set cost function is ignored! LCB acquisition does not make sense with cost.\n",
      "ab\n"
     ]
    },
    {
     "name": "stderr",
     "output_type": "stream",
     "text": [
      "reconstraining parameters GP_regression.mul\n",
      "reconstraining parameters GP_regression.Gaussian_noise.variance\n"
     ]
    },
    {
     "name": "stdout",
     "output_type": "stream",
     "text": [
      "sampling end!. 2019-04-18 05:11:52.337446 2019-04-18 05:12:36.599379\n"
     ]
    },
    {
     "name": "stderr",
     "output_type": "stream",
     "text": [
      "[I 2019-04-18 05:12:46,621] Finished a trial resulted in value: 1.7089446128222536. Current best value is -2.626459964187661 with parameters: {'a': 0.4342699737054341, 'b': 0.49095171558222017, 'ab': [0.4342699737054341, 0.49095171558222017]}.\n"
     ]
    },
    {
     "name": "stdout",
     "output_type": "stream",
     "text": [
      "191\n",
      "The set cost function is ignored! LCB acquisition does not make sense with cost.\n",
      "ab\n"
     ]
    },
    {
     "name": "stderr",
     "output_type": "stream",
     "text": [
      "reconstraining parameters GP_regression.mul\n",
      "reconstraining parameters GP_regression.Gaussian_noise.variance\n"
     ]
    },
    {
     "name": "stdout",
     "output_type": "stream",
     "text": [
      "sampling end!. 2019-04-18 05:12:46.624056 2019-04-18 05:13:28.689304\n"
     ]
    },
    {
     "name": "stderr",
     "output_type": "stream",
     "text": [
      "[I 2019-04-18 05:13:29,711] Finished a trial resulted in value: -1.1771546249381268. Current best value is -2.626459964187661 with parameters: {'a': 0.4342699737054341, 'b': 0.49095171558222017, 'ab': [0.4342699737054341, 0.49095171558222017]}.\n"
     ]
    },
    {
     "name": "stdout",
     "output_type": "stream",
     "text": [
      "192\n",
      "The set cost function is ignored! LCB acquisition does not make sense with cost.\n",
      "ab\n"
     ]
    },
    {
     "name": "stderr",
     "output_type": "stream",
     "text": [
      "reconstraining parameters GP_regression.mul\n",
      "reconstraining parameters GP_regression.Gaussian_noise.variance\n"
     ]
    },
    {
     "name": "stdout",
     "output_type": "stream",
     "text": [
      "sampling end!. 2019-04-18 05:13:29.713403 2019-04-18 05:14:14.122413\n"
     ]
    },
    {
     "name": "stderr",
     "output_type": "stream",
     "text": [
      "[I 2019-04-18 05:14:15,143] Finished a trial resulted in value: -1.3063968227151952. Current best value is -2.626459964187661 with parameters: {'a': 0.4342699737054341, 'b': 0.49095171558222017, 'ab': [0.4342699737054341, 0.49095171558222017]}.\n"
     ]
    },
    {
     "name": "stdout",
     "output_type": "stream",
     "text": [
      "193\n",
      "The set cost function is ignored! LCB acquisition does not make sense with cost.\n",
      "ab\n"
     ]
    },
    {
     "name": "stderr",
     "output_type": "stream",
     "text": [
      "reconstraining parameters GP_regression.mul\n",
      "reconstraining parameters GP_regression.Gaussian_noise.variance\n"
     ]
    },
    {
     "name": "stdout",
     "output_type": "stream",
     "text": [
      "sampling end!. 2019-04-18 05:14:15.146522 2019-04-18 05:15:00.316170\n"
     ]
    },
    {
     "name": "stderr",
     "output_type": "stream",
     "text": [
      "[I 2019-04-18 05:15:01,339] Finished a trial resulted in value: 0.8468338631281181. Current best value is -2.626459964187661 with parameters: {'a': 0.4342699737054341, 'b': 0.49095171558222017, 'ab': [0.4342699737054341, 0.49095171558222017]}.\n"
     ]
    },
    {
     "name": "stdout",
     "output_type": "stream",
     "text": [
      "194\n",
      "The set cost function is ignored! LCB acquisition does not make sense with cost.\n",
      "ab\n"
     ]
    },
    {
     "name": "stderr",
     "output_type": "stream",
     "text": [
      "reconstraining parameters GP_regression.mul\n",
      "reconstraining parameters GP_regression.Gaussian_noise.variance\n"
     ]
    },
    {
     "name": "stdout",
     "output_type": "stream",
     "text": [
      "sampling end!. 2019-04-18 05:15:01.341410 2019-04-18 05:15:55.483561\n"
     ]
    },
    {
     "name": "stderr",
     "output_type": "stream",
     "text": [
      "[I 2019-04-18 05:16:05,507] Finished a trial resulted in value: -2.324514513475158. Current best value is -2.626459964187661 with parameters: {'a': 0.4342699737054341, 'b': 0.49095171558222017, 'ab': [0.4342699737054341, 0.49095171558222017]}.\n"
     ]
    },
    {
     "name": "stdout",
     "output_type": "stream",
     "text": [
      "195\n",
      "The set cost function is ignored! LCB acquisition does not make sense with cost.\n",
      "ab\n"
     ]
    },
    {
     "name": "stderr",
     "output_type": "stream",
     "text": [
      "reconstraining parameters GP_regression.mul\n",
      "reconstraining parameters GP_regression.Gaussian_noise.variance\n"
     ]
    },
    {
     "name": "stdout",
     "output_type": "stream",
     "text": [
      "sampling end!. 2019-04-18 05:16:05.510509 2019-04-18 05:16:41.912879\n"
     ]
    },
    {
     "name": "stderr",
     "output_type": "stream",
     "text": [
      "[I 2019-04-18 05:16:51,935] Finished a trial resulted in value: -1.6401370154429906. Current best value is -2.626459964187661 with parameters: {'a': 0.4342699737054341, 'b': 0.49095171558222017, 'ab': [0.4342699737054341, 0.49095171558222017]}.\n"
     ]
    },
    {
     "name": "stdout",
     "output_type": "stream",
     "text": [
      "196\n",
      "The set cost function is ignored! LCB acquisition does not make sense with cost.\n",
      "ab\n"
     ]
    },
    {
     "name": "stderr",
     "output_type": "stream",
     "text": [
      "reconstraining parameters GP_regression.mul\n",
      "reconstraining parameters GP_regression.Gaussian_noise.variance\n"
     ]
    },
    {
     "name": "stdout",
     "output_type": "stream",
     "text": [
      "sampling end!. 2019-04-18 05:16:51.937246 2019-04-18 05:17:46.324499\n"
     ]
    },
    {
     "name": "stderr",
     "output_type": "stream",
     "text": [
      "[I 2019-04-18 05:17:56,346] Finished a trial resulted in value: -2.1140988008953294. Current best value is -2.626459964187661 with parameters: {'a': 0.4342699737054341, 'b': 0.49095171558222017, 'ab': [0.4342699737054341, 0.49095171558222017]}.\n"
     ]
    },
    {
     "name": "stdout",
     "output_type": "stream",
     "text": [
      "197\n",
      "The set cost function is ignored! LCB acquisition does not make sense with cost.\n",
      "ab\n"
     ]
    },
    {
     "name": "stderr",
     "output_type": "stream",
     "text": [
      "reconstraining parameters GP_regression.mul\n",
      "reconstraining parameters GP_regression.Gaussian_noise.variance\n"
     ]
    },
    {
     "name": "stdout",
     "output_type": "stream",
     "text": [
      "sampling end!. 2019-04-18 05:17:56.348165 2019-04-18 05:18:37.907115\n"
     ]
    },
    {
     "name": "stderr",
     "output_type": "stream",
     "text": [
      "[I 2019-04-18 05:18:38,931] Finished a trial resulted in value: 0.08042637067191738. Current best value is -2.626459964187661 with parameters: {'a': 0.4342699737054341, 'b': 0.49095171558222017, 'ab': [0.4342699737054341, 0.49095171558222017]}.\n"
     ]
    },
    {
     "name": "stdout",
     "output_type": "stream",
     "text": [
      "198\n",
      "The set cost function is ignored! LCB acquisition does not make sense with cost.\n",
      "ab\n"
     ]
    },
    {
     "name": "stderr",
     "output_type": "stream",
     "text": [
      "reconstraining parameters GP_regression.mul\n",
      "reconstraining parameters GP_regression.Gaussian_noise.variance\n"
     ]
    },
    {
     "name": "stdout",
     "output_type": "stream",
     "text": [
      "sampling end!. 2019-04-18 05:18:38.934463 2019-04-18 05:19:32.048995\n"
     ]
    },
    {
     "name": "stderr",
     "output_type": "stream",
     "text": [
      "[I 2019-04-18 05:19:42,071] Finished a trial resulted in value: -2.5525255440703263. Current best value is -2.626459964187661 with parameters: {'a': 0.4342699737054341, 'b': 0.49095171558222017, 'ab': [0.4342699737054341, 0.49095171558222017]}.\n"
     ]
    },
    {
     "name": "stdout",
     "output_type": "stream",
     "text": [
      "199\n",
      "The set cost function is ignored! LCB acquisition does not make sense with cost.\n",
      "ab\n"
     ]
    },
    {
     "name": "stderr",
     "output_type": "stream",
     "text": [
      "reconstraining parameters GP_regression.mul\n",
      "reconstraining parameters GP_regression.Gaussian_noise.variance\n"
     ]
    },
    {
     "name": "stdout",
     "output_type": "stream",
     "text": [
      "sampling end!. 2019-04-18 05:19:42.073587 2019-04-18 05:20:31.837895\n"
     ]
    },
    {
     "name": "stderr",
     "output_type": "stream",
     "text": [
      "[I 2019-04-18 05:20:41,859] Finished a trial resulted in value: -1.635518463511331. Current best value is -2.626459964187661 with parameters: {'a': 0.4342699737054341, 'b': 0.49095171558222017, 'ab': [0.4342699737054341, 0.49095171558222017]}.\n"
     ]
    },
    {
     "name": "stdout",
     "output_type": "stream",
     "text": [
      "200\n",
      "The set cost function is ignored! LCB acquisition does not make sense with cost.\n",
      "ab\n"
     ]
    },
    {
     "name": "stderr",
     "output_type": "stream",
     "text": [
      "reconstraining parameters GP_regression.mul\n",
      "reconstraining parameters GP_regression.Gaussian_noise.variance\n"
     ]
    },
    {
     "name": "stdout",
     "output_type": "stream",
     "text": [
      "sampling end!. 2019-04-18 05:20:41.862141 2019-04-18 05:21:25.995667\n"
     ]
    },
    {
     "name": "stderr",
     "output_type": "stream",
     "text": [
      "[I 2019-04-18 05:21:36,020] Finished a trial resulted in value: 2.031642209660133. Current best value is -2.626459964187661 with parameters: {'a': 0.4342699737054341, 'b': 0.49095171558222017, 'ab': [0.4342699737054341, 0.49095171558222017]}.\n"
     ]
    },
    {
     "name": "stdout",
     "output_type": "stream",
     "text": [
      "201\n",
      "The set cost function is ignored! LCB acquisition does not make sense with cost.\n",
      "ab\n"
     ]
    },
    {
     "name": "stderr",
     "output_type": "stream",
     "text": [
      "reconstraining parameters GP_regression.mul\n",
      "reconstraining parameters GP_regression.Gaussian_noise.variance\n"
     ]
    },
    {
     "name": "stdout",
     "output_type": "stream",
     "text": [
      "sampling end!. 2019-04-18 05:21:36.023076 2019-04-18 05:22:35.539806\n"
     ]
    },
    {
     "name": "stderr",
     "output_type": "stream",
     "text": [
      "[I 2019-04-18 05:22:36,562] Finished a trial resulted in value: -1.3631002833259542. Current best value is -2.626459964187661 with parameters: {'a': 0.4342699737054341, 'b': 0.49095171558222017, 'ab': [0.4342699737054341, 0.49095171558222017]}.\n"
     ]
    },
    {
     "name": "stdout",
     "output_type": "stream",
     "text": [
      "202\n",
      "The set cost function is ignored! LCB acquisition does not make sense with cost.\n",
      "ab\n"
     ]
    },
    {
     "name": "stderr",
     "output_type": "stream",
     "text": [
      "reconstraining parameters GP_regression.mul\n",
      "reconstraining parameters GP_regression.Gaussian_noise.variance\n"
     ]
    },
    {
     "name": "stdout",
     "output_type": "stream",
     "text": [
      "sampling end!. 2019-04-18 05:22:36.564414 2019-04-18 05:23:43.056392\n"
     ]
    },
    {
     "name": "stderr",
     "output_type": "stream",
     "text": [
      "[I 2019-04-18 05:23:44,079] Finished a trial resulted in value: -0.9012945062761225. Current best value is -2.626459964187661 with parameters: {'a': 0.4342699737054341, 'b': 0.49095171558222017, 'ab': [0.4342699737054341, 0.49095171558222017]}.\n"
     ]
    },
    {
     "name": "stdout",
     "output_type": "stream",
     "text": [
      "203\n",
      "The set cost function is ignored! LCB acquisition does not make sense with cost.\n",
      "ab\n"
     ]
    },
    {
     "name": "stderr",
     "output_type": "stream",
     "text": [
      "reconstraining parameters GP_regression.mul\n",
      "reconstraining parameters GP_regression.Gaussian_noise.variance\n"
     ]
    },
    {
     "name": "stdout",
     "output_type": "stream",
     "text": [
      "sampling end!. 2019-04-18 05:23:44.081713 2019-04-18 05:24:45.472883\n"
     ]
    },
    {
     "name": "stderr",
     "output_type": "stream",
     "text": [
      "[I 2019-04-18 05:24:46,497] Finished a trial resulted in value: -1.5758676798029156. Current best value is -2.626459964187661 with parameters: {'a': 0.4342699737054341, 'b': 0.49095171558222017, 'ab': [0.4342699737054341, 0.49095171558222017]}.\n"
     ]
    },
    {
     "name": "stdout",
     "output_type": "stream",
     "text": [
      "204\n",
      "The set cost function is ignored! LCB acquisition does not make sense with cost.\n",
      "ab\n"
     ]
    },
    {
     "name": "stderr",
     "output_type": "stream",
     "text": [
      "reconstraining parameters GP_regression.mul\n",
      "reconstraining parameters GP_regression.Gaussian_noise.variance\n"
     ]
    },
    {
     "name": "stdout",
     "output_type": "stream",
     "text": [
      "sampling end!. 2019-04-18 05:24:46.500008 2019-04-18 05:25:43.027920\n"
     ]
    },
    {
     "name": "stderr",
     "output_type": "stream",
     "text": [
      "[I 2019-04-18 05:25:44,050] Finished a trial resulted in value: -1.519002888382092. Current best value is -2.626459964187661 with parameters: {'a': 0.4342699737054341, 'b': 0.49095171558222017, 'ab': [0.4342699737054341, 0.49095171558222017]}.\n"
     ]
    },
    {
     "name": "stdout",
     "output_type": "stream",
     "text": [
      "205\n",
      "The set cost function is ignored! LCB acquisition does not make sense with cost.\n",
      "ab\n"
     ]
    },
    {
     "name": "stderr",
     "output_type": "stream",
     "text": [
      "reconstraining parameters GP_regression.mul\n",
      "reconstraining parameters GP_regression.Gaussian_noise.variance\n"
     ]
    },
    {
     "name": "stdout",
     "output_type": "stream",
     "text": [
      "sampling end!. 2019-04-18 05:25:44.052690 2019-04-18 05:26:29.116318\n"
     ]
    },
    {
     "name": "stderr",
     "output_type": "stream",
     "text": [
      "[I 2019-04-18 05:26:39,138] Finished a trial resulted in value: -2.1303754299869166. Current best value is -2.626459964187661 with parameters: {'a': 0.4342699737054341, 'b': 0.49095171558222017, 'ab': [0.4342699737054341, 0.49095171558222017]}.\n"
     ]
    },
    {
     "name": "stdout",
     "output_type": "stream",
     "text": [
      "206\n",
      "The set cost function is ignored! LCB acquisition does not make sense with cost.\n",
      "ab\n"
     ]
    },
    {
     "name": "stderr",
     "output_type": "stream",
     "text": [
      "reconstraining parameters GP_regression.mul\n",
      "reconstraining parameters GP_regression.Gaussian_noise.variance\n"
     ]
    },
    {
     "name": "stdout",
     "output_type": "stream",
     "text": [
      "sampling end!. 2019-04-18 05:26:39.140912 2019-04-18 05:27:39.545420\n"
     ]
    },
    {
     "name": "stderr",
     "output_type": "stream",
     "text": [
      "[I 2019-04-18 05:27:40,571] Finished a trial resulted in value: -1.3487918940263264. Current best value is -2.626459964187661 with parameters: {'a': 0.4342699737054341, 'b': 0.49095171558222017, 'ab': [0.4342699737054341, 0.49095171558222017]}.\n"
     ]
    },
    {
     "name": "stdout",
     "output_type": "stream",
     "text": [
      "207\n",
      "The set cost function is ignored! LCB acquisition does not make sense with cost.\n",
      "ab\n"
     ]
    },
    {
     "name": "stderr",
     "output_type": "stream",
     "text": [
      "reconstraining parameters GP_regression.mul\n",
      "reconstraining parameters GP_regression.Gaussian_noise.variance\n"
     ]
    },
    {
     "name": "stdout",
     "output_type": "stream",
     "text": [
      "sampling end!. 2019-04-18 05:27:40.574238 2019-04-18 05:28:41.650152\n"
     ]
    },
    {
     "name": "stderr",
     "output_type": "stream",
     "text": [
      "[I 2019-04-18 05:28:42,673] Finished a trial resulted in value: -1.5171334800009573. Current best value is -2.626459964187661 with parameters: {'a': 0.4342699737054341, 'b': 0.49095171558222017, 'ab': [0.4342699737054341, 0.49095171558222017]}.\n"
     ]
    },
    {
     "name": "stdout",
     "output_type": "stream",
     "text": [
      "208\n",
      "The set cost function is ignored! LCB acquisition does not make sense with cost.\n",
      "ab\n"
     ]
    },
    {
     "name": "stderr",
     "output_type": "stream",
     "text": [
      "reconstraining parameters GP_regression.mul\n",
      "reconstraining parameters GP_regression.Gaussian_noise.variance\n"
     ]
    },
    {
     "name": "stdout",
     "output_type": "stream",
     "text": [
      "sampling end!. 2019-04-18 05:28:42.675730 2019-04-18 05:29:47.250254\n"
     ]
    },
    {
     "name": "stderr",
     "output_type": "stream",
     "text": [
      "[I 2019-04-18 05:29:48,273] Finished a trial resulted in value: -1.4471278398559415. Current best value is -2.626459964187661 with parameters: {'a': 0.4342699737054341, 'b': 0.49095171558222017, 'ab': [0.4342699737054341, 0.49095171558222017]}.\n"
     ]
    },
    {
     "name": "stdout",
     "output_type": "stream",
     "text": [
      "209\n",
      "The set cost function is ignored! LCB acquisition does not make sense with cost.\n",
      "ab\n"
     ]
    },
    {
     "name": "stderr",
     "output_type": "stream",
     "text": [
      "reconstraining parameters GP_regression.mul\n",
      "reconstraining parameters GP_regression.Gaussian_noise.variance\n"
     ]
    },
    {
     "name": "stdout",
     "output_type": "stream",
     "text": [
      "sampling end!. 2019-04-18 05:29:48.276172 2019-04-18 05:30:50.521847\n"
     ]
    },
    {
     "name": "stderr",
     "output_type": "stream",
     "text": [
      "[I 2019-04-18 05:30:51,548] Finished a trial resulted in value: -1.1592689725309908. Current best value is -2.626459964187661 with parameters: {'a': 0.4342699737054341, 'b': 0.49095171558222017, 'ab': [0.4342699737054341, 0.49095171558222017]}.\n"
     ]
    },
    {
     "name": "stdout",
     "output_type": "stream",
     "text": [
      "210\n",
      "The set cost function is ignored! LCB acquisition does not make sense with cost.\n",
      "ab\n"
     ]
    },
    {
     "name": "stderr",
     "output_type": "stream",
     "text": [
      "reconstraining parameters GP_regression.mul\n",
      "reconstraining parameters GP_regression.Gaussian_noise.variance\n"
     ]
    },
    {
     "name": "stdout",
     "output_type": "stream",
     "text": [
      "sampling end!. 2019-04-18 05:30:51.550609 2019-04-18 05:31:41.590964\n"
     ]
    },
    {
     "name": "stderr",
     "output_type": "stream",
     "text": [
      "[I 2019-04-18 05:31:42,615] Finished a trial resulted in value: -1.298168326364575. Current best value is -2.626459964187661 with parameters: {'a': 0.4342699737054341, 'b': 0.49095171558222017, 'ab': [0.4342699737054341, 0.49095171558222017]}.\n"
     ]
    },
    {
     "name": "stdout",
     "output_type": "stream",
     "text": [
      "211\n",
      "The set cost function is ignored! LCB acquisition does not make sense with cost.\n",
      "ab\n"
     ]
    },
    {
     "name": "stderr",
     "output_type": "stream",
     "text": [
      "reconstraining parameters GP_regression.mul\n",
      "reconstraining parameters GP_regression.Gaussian_noise.variance\n"
     ]
    },
    {
     "name": "stdout",
     "output_type": "stream",
     "text": [
      "sampling end!. 2019-04-18 05:31:42.617775 2019-04-18 05:32:37.704696\n"
     ]
    },
    {
     "name": "stderr",
     "output_type": "stream",
     "text": [
      "[I 2019-04-18 05:32:38,729] Finished a trial resulted in value: -0.9718761720151656. Current best value is -2.626459964187661 with parameters: {'a': 0.4342699737054341, 'b': 0.49095171558222017, 'ab': [0.4342699737054341, 0.49095171558222017]}.\n"
     ]
    },
    {
     "name": "stdout",
     "output_type": "stream",
     "text": [
      "212\n",
      "The set cost function is ignored! LCB acquisition does not make sense with cost.\n",
      "ab\n"
     ]
    },
    {
     "name": "stderr",
     "output_type": "stream",
     "text": [
      "reconstraining parameters GP_regression.mul\n",
      "reconstraining parameters GP_regression.Gaussian_noise.variance\n"
     ]
    },
    {
     "name": "stdout",
     "output_type": "stream",
     "text": [
      "sampling end!. 2019-04-18 05:32:38.731444 2019-04-18 05:33:37.099440\n"
     ]
    },
    {
     "name": "stderr",
     "output_type": "stream",
     "text": [
      "[I 2019-04-18 05:33:47,127] Finished a trial resulted in value: -1.0907014894638756. Current best value is -2.626459964187661 with parameters: {'a': 0.4342699737054341, 'b': 0.49095171558222017, 'ab': [0.4342699737054341, 0.49095171558222017]}.\n"
     ]
    },
    {
     "name": "stdout",
     "output_type": "stream",
     "text": [
      "213\n",
      "The set cost function is ignored! LCB acquisition does not make sense with cost.\n",
      "ab\n"
     ]
    },
    {
     "name": "stderr",
     "output_type": "stream",
     "text": [
      "reconstraining parameters GP_regression.mul\n",
      "reconstraining parameters GP_regression.Gaussian_noise.variance\n"
     ]
    },
    {
     "name": "stdout",
     "output_type": "stream",
     "text": [
      "sampling end!. 2019-04-18 05:33:47.130313 2019-04-18 05:34:38.786481\n"
     ]
    },
    {
     "name": "stderr",
     "output_type": "stream",
     "text": [
      "[I 2019-04-18 05:34:48,811] Finished a trial resulted in value: -0.25025890695684794. Current best value is -2.626459964187661 with parameters: {'a': 0.4342699737054341, 'b': 0.49095171558222017, 'ab': [0.4342699737054341, 0.49095171558222017]}.\n"
     ]
    },
    {
     "name": "stdout",
     "output_type": "stream",
     "text": [
      "214\n",
      "The set cost function is ignored! LCB acquisition does not make sense with cost.\n",
      "ab\n"
     ]
    },
    {
     "name": "stderr",
     "output_type": "stream",
     "text": [
      "reconstraining parameters GP_regression.mul\n",
      "reconstraining parameters GP_regression.Gaussian_noise.variance\n"
     ]
    },
    {
     "name": "stdout",
     "output_type": "stream",
     "text": [
      "sampling end!. 2019-04-18 05:34:48.813044 2019-04-18 05:35:38.690321\n"
     ]
    },
    {
     "name": "stderr",
     "output_type": "stream",
     "text": [
      "[I 2019-04-18 05:35:48,713] Finished a trial resulted in value: -2.38521937407683. Current best value is -2.626459964187661 with parameters: {'a': 0.4342699737054341, 'b': 0.49095171558222017, 'ab': [0.4342699737054341, 0.49095171558222017]}.\n"
     ]
    },
    {
     "name": "stdout",
     "output_type": "stream",
     "text": [
      "215\n",
      "The set cost function is ignored! LCB acquisition does not make sense with cost.\n",
      "ab\n"
     ]
    },
    {
     "name": "stderr",
     "output_type": "stream",
     "text": [
      "reconstraining parameters GP_regression.mul\n",
      "reconstraining parameters GP_regression.Gaussian_noise.variance\n"
     ]
    },
    {
     "name": "stdout",
     "output_type": "stream",
     "text": [
      "sampling end!. 2019-04-18 05:35:48.715878 2019-04-18 05:36:37.747924\n"
     ]
    },
    {
     "name": "stderr",
     "output_type": "stream",
     "text": [
      "[I 2019-04-18 05:36:38,773] Finished a trial resulted in value: -0.8894161783977823. Current best value is -2.626459964187661 with parameters: {'a': 0.4342699737054341, 'b': 0.49095171558222017, 'ab': [0.4342699737054341, 0.49095171558222017]}.\n"
     ]
    },
    {
     "name": "stdout",
     "output_type": "stream",
     "text": [
      "216\n",
      "The set cost function is ignored! LCB acquisition does not make sense with cost.\n",
      "ab\n"
     ]
    },
    {
     "name": "stderr",
     "output_type": "stream",
     "text": [
      "reconstraining parameters GP_regression.mul\n",
      "reconstraining parameters GP_regression.Gaussian_noise.variance\n"
     ]
    },
    {
     "name": "stdout",
     "output_type": "stream",
     "text": [
      "sampling end!. 2019-04-18 05:36:38.775226 2019-04-18 05:37:26.176097\n"
     ]
    },
    {
     "name": "stderr",
     "output_type": "stream",
     "text": [
      "[I 2019-04-18 05:37:36,202] Finished a trial resulted in value: -2.4806163073191856. Current best value is -2.626459964187661 with parameters: {'a': 0.4342699737054341, 'b': 0.49095171558222017, 'ab': [0.4342699737054341, 0.49095171558222017]}.\n"
     ]
    },
    {
     "name": "stdout",
     "output_type": "stream",
     "text": [
      "217\n",
      "The set cost function is ignored! LCB acquisition does not make sense with cost.\n",
      "ab\n"
     ]
    },
    {
     "name": "stderr",
     "output_type": "stream",
     "text": [
      "reconstraining parameters GP_regression.mul\n",
      "reconstraining parameters GP_regression.Gaussian_noise.variance\n"
     ]
    },
    {
     "name": "stdout",
     "output_type": "stream",
     "text": [
      "sampling end!. 2019-04-18 05:37:36.204206 2019-04-18 05:38:21.572592\n"
     ]
    },
    {
     "name": "stderr",
     "output_type": "stream",
     "text": [
      "[I 2019-04-18 05:38:31,596] Finished a trial resulted in value: -2.7451488697776183. Current best value is -2.7451488697776183 with parameters: {'a': 0.9540083592479589, 'b': 0.8963169235679886, 'ab': [0.9540083592479589, 0.8963169235679886]}.\n"
     ]
    },
    {
     "name": "stdout",
     "output_type": "stream",
     "text": [
      "218\n",
      "The set cost function is ignored! LCB acquisition does not make sense with cost.\n",
      "ab\n"
     ]
    },
    {
     "name": "stderr",
     "output_type": "stream",
     "text": [
      "reconstraining parameters GP_regression.mul\n",
      "reconstraining parameters GP_regression.Gaussian_noise.variance\n"
     ]
    },
    {
     "name": "stdout",
     "output_type": "stream",
     "text": [
      "sampling end!. 2019-04-18 05:38:31.599104 2019-04-18 05:39:29.494797\n"
     ]
    },
    {
     "name": "stderr",
     "output_type": "stream",
     "text": [
      "[I 2019-04-18 05:39:39,519] Finished a trial resulted in value: -2.552203018269715. Current best value is -2.7451488697776183 with parameters: {'a': 0.9540083592479589, 'b': 0.8963169235679886, 'ab': [0.9540083592479589, 0.8963169235679886]}.\n"
     ]
    },
    {
     "name": "stdout",
     "output_type": "stream",
     "text": [
      "219\n",
      "The set cost function is ignored! LCB acquisition does not make sense with cost.\n",
      "ab\n"
     ]
    },
    {
     "name": "stderr",
     "output_type": "stream",
     "text": [
      "reconstraining parameters GP_regression.mul\n",
      "reconstraining parameters GP_regression.Gaussian_noise.variance\n"
     ]
    },
    {
     "name": "stdout",
     "output_type": "stream",
     "text": [
      "sampling end!. 2019-04-18 05:39:39.521898 2019-04-18 05:40:29.586515\n"
     ]
    },
    {
     "name": "stderr",
     "output_type": "stream",
     "text": [
      "[I 2019-04-18 05:40:39,614] Finished a trial resulted in value: -2.5296323224860027. Current best value is -2.7451488697776183 with parameters: {'a': 0.9540083592479589, 'b': 0.8963169235679886, 'ab': [0.9540083592479589, 0.8963169235679886]}.\n"
     ]
    },
    {
     "name": "stdout",
     "output_type": "stream",
     "text": [
      "220\n",
      "The set cost function is ignored! LCB acquisition does not make sense with cost.\n",
      "ab\n"
     ]
    },
    {
     "name": "stderr",
     "output_type": "stream",
     "text": [
      "reconstraining parameters GP_regression.mul\n",
      "reconstraining parameters GP_regression.Gaussian_noise.variance\n"
     ]
    },
    {
     "name": "stdout",
     "output_type": "stream",
     "text": [
      "sampling end!. 2019-04-18 05:40:39.616735 2019-04-18 05:41:24.522522\n"
     ]
    },
    {
     "name": "stderr",
     "output_type": "stream",
     "text": [
      "[I 2019-04-18 05:41:25,547] Finished a trial resulted in value: -1.1756865838878592. Current best value is -2.7451488697776183 with parameters: {'a': 0.9540083592479589, 'b': 0.8963169235679886, 'ab': [0.9540083592479589, 0.8963169235679886]}.\n"
     ]
    },
    {
     "name": "stdout",
     "output_type": "stream",
     "text": [
      "221\n",
      "The set cost function is ignored! LCB acquisition does not make sense with cost.\n",
      "ab\n"
     ]
    },
    {
     "name": "stderr",
     "output_type": "stream",
     "text": [
      "reconstraining parameters GP_regression.mul\n",
      "reconstraining parameters GP_regression.Gaussian_noise.variance\n"
     ]
    },
    {
     "name": "stdout",
     "output_type": "stream",
     "text": [
      "sampling end!. 2019-04-18 05:41:25.549803 2019-04-18 05:42:18.154012\n"
     ]
    },
    {
     "name": "stderr",
     "output_type": "stream",
     "text": [
      "[I 2019-04-18 05:42:28,177] Finished a trial resulted in value: -2.5199681260308693. Current best value is -2.7451488697776183 with parameters: {'a': 0.9540083592479589, 'b': 0.8963169235679886, 'ab': [0.9540083592479589, 0.8963169235679886]}.\n"
     ]
    },
    {
     "name": "stdout",
     "output_type": "stream",
     "text": [
      "222\n",
      "The set cost function is ignored! LCB acquisition does not make sense with cost.\n",
      "ab\n"
     ]
    },
    {
     "name": "stderr",
     "output_type": "stream",
     "text": [
      "reconstraining parameters GP_regression.mul\n",
      "reconstraining parameters GP_regression.Gaussian_noise.variance\n"
     ]
    },
    {
     "name": "stdout",
     "output_type": "stream",
     "text": [
      "sampling end!. 2019-04-18 05:42:28.179752 2019-04-18 05:43:20.596114\n"
     ]
    },
    {
     "name": "stderr",
     "output_type": "stream",
     "text": [
      "[I 2019-04-18 05:43:30,633] Finished a trial resulted in value: -2.2951763293556082. Current best value is -2.7451488697776183 with parameters: {'a': 0.9540083592479589, 'b': 0.8963169235679886, 'ab': [0.9540083592479589, 0.8963169235679886]}.\n"
     ]
    },
    {
     "name": "stdout",
     "output_type": "stream",
     "text": [
      "223\n",
      "The set cost function is ignored! LCB acquisition does not make sense with cost.\n",
      "ab\n"
     ]
    },
    {
     "name": "stderr",
     "output_type": "stream",
     "text": [
      "reconstraining parameters GP_regression.mul\n",
      "reconstraining parameters GP_regression.Gaussian_noise.variance\n"
     ]
    },
    {
     "name": "stdout",
     "output_type": "stream",
     "text": [
      "sampling end!. 2019-04-18 05:43:30.635815 2019-04-18 05:44:09.321880\n"
     ]
    },
    {
     "name": "stderr",
     "output_type": "stream",
     "text": [
      "[I 2019-04-18 05:44:10,347] Finished a trial resulted in value: -0.045758857465008115. Current best value is -2.7451488697776183 with parameters: {'a': 0.9540083592479589, 'b': 0.8963169235679886, 'ab': [0.9540083592479589, 0.8963169235679886]}.\n"
     ]
    },
    {
     "name": "stdout",
     "output_type": "stream",
     "text": [
      "224\n",
      "The set cost function is ignored! LCB acquisition does not make sense with cost.\n",
      "ab\n"
     ]
    },
    {
     "name": "stderr",
     "output_type": "stream",
     "text": [
      "reconstraining parameters GP_regression.mul\n",
      "reconstraining parameters GP_regression.Gaussian_noise.variance\n"
     ]
    },
    {
     "name": "stdout",
     "output_type": "stream",
     "text": [
      "sampling end!. 2019-04-18 05:44:10.349738 2019-04-18 05:45:08.936341\n"
     ]
    },
    {
     "name": "stderr",
     "output_type": "stream",
     "text": [
      "[I 2019-04-18 05:45:09,960] Finished a trial resulted in value: -0.9747268488756706. Current best value is -2.7451488697776183 with parameters: {'a': 0.9540083592479589, 'b': 0.8963169235679886, 'ab': [0.9540083592479589, 0.8963169235679886]}.\n"
     ]
    },
    {
     "name": "stdout",
     "output_type": "stream",
     "text": [
      "225\n",
      "The set cost function is ignored! LCB acquisition does not make sense with cost.\n",
      "ab\n"
     ]
    },
    {
     "name": "stderr",
     "output_type": "stream",
     "text": [
      "reconstraining parameters GP_regression.mul\n",
      "reconstraining parameters GP_regression.Gaussian_noise.variance\n"
     ]
    },
    {
     "name": "stdout",
     "output_type": "stream",
     "text": [
      "sampling end!. 2019-04-18 05:45:09.962780 2019-04-18 05:46:14.860157\n"
     ]
    },
    {
     "name": "stderr",
     "output_type": "stream",
     "text": [
      "[I 2019-04-18 05:46:24,888] Finished a trial resulted in value: -2.263021415186514. Current best value is -2.7451488697776183 with parameters: {'a': 0.9540083592479589, 'b': 0.8963169235679886, 'ab': [0.9540083592479589, 0.8963169235679886]}.\n"
     ]
    },
    {
     "name": "stdout",
     "output_type": "stream",
     "text": [
      "226\n",
      "The set cost function is ignored! LCB acquisition does not make sense with cost.\n",
      "ab\n"
     ]
    },
    {
     "name": "stderr",
     "output_type": "stream",
     "text": [
      "reconstraining parameters GP_regression.mul\n",
      "reconstraining parameters GP_regression.Gaussian_noise.variance\n"
     ]
    },
    {
     "name": "stdout",
     "output_type": "stream",
     "text": [
      "sampling end!. 2019-04-18 05:46:24.890874 2019-04-18 05:47:41.425998\n"
     ]
    },
    {
     "name": "stderr",
     "output_type": "stream",
     "text": [
      "[I 2019-04-18 05:47:42,450] Finished a trial resulted in value: -1.0744440737473107. Current best value is -2.7451488697776183 with parameters: {'a': 0.9540083592479589, 'b': 0.8963169235679886, 'ab': [0.9540083592479589, 0.8963169235679886]}.\n"
     ]
    },
    {
     "name": "stdout",
     "output_type": "stream",
     "text": [
      "227\n",
      "The set cost function is ignored! LCB acquisition does not make sense with cost.\n",
      "ab\n"
     ]
    },
    {
     "name": "stderr",
     "output_type": "stream",
     "text": [
      "reconstraining parameters GP_regression.mul\n",
      "reconstraining parameters GP_regression.Gaussian_noise.variance\n"
     ]
    },
    {
     "name": "stdout",
     "output_type": "stream",
     "text": [
      "sampling end!. 2019-04-18 05:47:42.452553 2019-04-18 05:48:52.546618\n"
     ]
    },
    {
     "name": "stderr",
     "output_type": "stream",
     "text": [
      "[I 2019-04-18 05:49:02,571] Finished a trial resulted in value: -2.3277929217230935. Current best value is -2.7451488697776183 with parameters: {'a': 0.9540083592479589, 'b': 0.8963169235679886, 'ab': [0.9540083592479589, 0.8963169235679886]}.\n"
     ]
    },
    {
     "name": "stdout",
     "output_type": "stream",
     "text": [
      "228\n",
      "The set cost function is ignored! LCB acquisition does not make sense with cost.\n",
      "ab\n"
     ]
    },
    {
     "name": "stderr",
     "output_type": "stream",
     "text": [
      "reconstraining parameters GP_regression.mul\n",
      "reconstraining parameters GP_regression.Gaussian_noise.variance\n"
     ]
    },
    {
     "name": "stdout",
     "output_type": "stream",
     "text": [
      "sampling end!. 2019-04-18 05:49:02.574072 2019-04-18 05:50:13.757695\n"
     ]
    },
    {
     "name": "stderr",
     "output_type": "stream",
     "text": [
      "[I 2019-04-18 05:50:23,787] Finished a trial resulted in value: -2.2195594863429853. Current best value is -2.7451488697776183 with parameters: {'a': 0.9540083592479589, 'b': 0.8963169235679886, 'ab': [0.9540083592479589, 0.8963169235679886]}.\n"
     ]
    },
    {
     "name": "stdout",
     "output_type": "stream",
     "text": [
      "229\n",
      "The set cost function is ignored! LCB acquisition does not make sense with cost.\n",
      "ab\n"
     ]
    },
    {
     "name": "stderr",
     "output_type": "stream",
     "text": [
      "reconstraining parameters GP_regression.mul\n",
      "reconstraining parameters GP_regression.Gaussian_noise.variance\n"
     ]
    },
    {
     "name": "stdout",
     "output_type": "stream",
     "text": [
      "sampling end!. 2019-04-18 05:50:23.790044 2019-04-18 05:51:38.035251\n"
     ]
    },
    {
     "name": "stderr",
     "output_type": "stream",
     "text": [
      "[I 2019-04-18 05:51:48,060] Finished a trial resulted in value: -2.2037406922130387. Current best value is -2.7451488697776183 with parameters: {'a': 0.9540083592479589, 'b': 0.8963169235679886, 'ab': [0.9540083592479589, 0.8963169235679886]}.\n"
     ]
    },
    {
     "name": "stdout",
     "output_type": "stream",
     "text": [
      "230\n",
      "The set cost function is ignored! LCB acquisition does not make sense with cost.\n",
      "ab\n"
     ]
    },
    {
     "name": "stderr",
     "output_type": "stream",
     "text": [
      "reconstraining parameters GP_regression.mul\n",
      "reconstraining parameters GP_regression.Gaussian_noise.variance\n"
     ]
    },
    {
     "name": "stdout",
     "output_type": "stream",
     "text": [
      "sampling end!. 2019-04-18 05:51:48.062566 2019-04-18 05:52:51.773454\n"
     ]
    },
    {
     "name": "stderr",
     "output_type": "stream",
     "text": [
      "[I 2019-04-18 05:52:52,805] Finished a trial resulted in value: -0.7356146263568009. Current best value is -2.7451488697776183 with parameters: {'a': 0.9540083592479589, 'b': 0.8963169235679886, 'ab': [0.9540083592479589, 0.8963169235679886]}.\n"
     ]
    },
    {
     "name": "stdout",
     "output_type": "stream",
     "text": [
      "231\n",
      "The set cost function is ignored! LCB acquisition does not make sense with cost.\n",
      "ab\n"
     ]
    },
    {
     "name": "stderr",
     "output_type": "stream",
     "text": [
      "reconstraining parameters GP_regression.mul\n",
      "reconstraining parameters GP_regression.Gaussian_noise.variance\n"
     ]
    },
    {
     "name": "stdout",
     "output_type": "stream",
     "text": [
      "sampling end!. 2019-04-18 05:52:52.807668 2019-04-18 05:54:13.517155\n"
     ]
    },
    {
     "name": "stderr",
     "output_type": "stream",
     "text": [
      "[I 2019-04-18 05:54:23,545] Finished a trial resulted in value: -2.1009297708804553. Current best value is -2.7451488697776183 with parameters: {'a': 0.9540083592479589, 'b': 0.8963169235679886, 'ab': [0.9540083592479589, 0.8963169235679886]}.\n"
     ]
    },
    {
     "name": "stdout",
     "output_type": "stream",
     "text": [
      "232\n",
      "The set cost function is ignored! LCB acquisition does not make sense with cost.\n",
      "ab\n"
     ]
    },
    {
     "name": "stderr",
     "output_type": "stream",
     "text": [
      "reconstraining parameters GP_regression.mul\n",
      "reconstraining parameters GP_regression.Gaussian_noise.variance\n"
     ]
    },
    {
     "name": "stdout",
     "output_type": "stream",
     "text": [
      "sampling end!. 2019-04-18 05:54:23.547595 2019-04-18 05:55:39.435592\n"
     ]
    },
    {
     "name": "stderr",
     "output_type": "stream",
     "text": [
      "[I 2019-04-18 05:55:49,462] Finished a trial resulted in value: -2.3803904936851725. Current best value is -2.7451488697776183 with parameters: {'a': 0.9540083592479589, 'b': 0.8963169235679886, 'ab': [0.9540083592479589, 0.8963169235679886]}.\n"
     ]
    },
    {
     "name": "stdout",
     "output_type": "stream",
     "text": [
      "233\n",
      "The set cost function is ignored! LCB acquisition does not make sense with cost.\n",
      "ab\n"
     ]
    },
    {
     "name": "stderr",
     "output_type": "stream",
     "text": [
      "reconstraining parameters GP_regression.mul\n",
      "reconstraining parameters GP_regression.Gaussian_noise.variance\n"
     ]
    },
    {
     "name": "stdout",
     "output_type": "stream",
     "text": [
      "sampling end!. 2019-04-18 05:55:49.464061 2019-04-18 05:56:56.446637\n"
     ]
    },
    {
     "name": "stderr",
     "output_type": "stream",
     "text": [
      "[I 2019-04-18 05:57:06,473] Finished a trial resulted in value: -2.4452182099844246. Current best value is -2.7451488697776183 with parameters: {'a': 0.9540083592479589, 'b': 0.8963169235679886, 'ab': [0.9540083592479589, 0.8963169235679886]}.\n"
     ]
    },
    {
     "name": "stdout",
     "output_type": "stream",
     "text": [
      "234\n",
      "The set cost function is ignored! LCB acquisition does not make sense with cost.\n",
      "ab\n"
     ]
    },
    {
     "name": "stderr",
     "output_type": "stream",
     "text": [
      "reconstraining parameters GP_regression.mul\n",
      "reconstraining parameters GP_regression.Gaussian_noise.variance\n"
     ]
    },
    {
     "name": "stdout",
     "output_type": "stream",
     "text": [
      "sampling end!. 2019-04-18 05:57:06.475506 2019-04-18 05:58:19.067261\n"
     ]
    },
    {
     "name": "stderr",
     "output_type": "stream",
     "text": [
      "[I 2019-04-18 05:58:29,097] Finished a trial resulted in value: -2.4723148351528077. Current best value is -2.7451488697776183 with parameters: {'a': 0.9540083592479589, 'b': 0.8963169235679886, 'ab': [0.9540083592479589, 0.8963169235679886]}.\n"
     ]
    },
    {
     "name": "stdout",
     "output_type": "stream",
     "text": [
      "235\n",
      "The set cost function is ignored! LCB acquisition does not make sense with cost.\n",
      "ab\n"
     ]
    },
    {
     "name": "stderr",
     "output_type": "stream",
     "text": [
      "reconstraining parameters GP_regression.mul\n",
      "reconstraining parameters GP_regression.Gaussian_noise.variance\n"
     ]
    },
    {
     "name": "stdout",
     "output_type": "stream",
     "text": [
      "sampling end!. 2019-04-18 05:58:29.100033 2019-04-18 05:59:35.419682\n"
     ]
    },
    {
     "name": "stderr",
     "output_type": "stream",
     "text": [
      "[I 2019-04-18 05:59:45,445] Finished a trial resulted in value: -2.47752412189884. Current best value is -2.7451488697776183 with parameters: {'a': 0.9540083592479589, 'b': 0.8963169235679886, 'ab': [0.9540083592479589, 0.8963169235679886]}.\n"
     ]
    },
    {
     "name": "stdout",
     "output_type": "stream",
     "text": [
      "236\n",
      "The set cost function is ignored! LCB acquisition does not make sense with cost.\n",
      "ab\n"
     ]
    },
    {
     "name": "stderr",
     "output_type": "stream",
     "text": [
      "reconstraining parameters GP_regression.mul\n",
      "reconstraining parameters GP_regression.Gaussian_noise.variance\n"
     ]
    },
    {
     "name": "stdout",
     "output_type": "stream",
     "text": [
      "sampling end!. 2019-04-18 05:59:45.447460 2019-04-18 06:00:56.988656\n"
     ]
    },
    {
     "name": "stderr",
     "output_type": "stream",
     "text": [
      "[I 2019-04-18 06:01:07,014] Finished a trial resulted in value: -2.0798442856974537. Current best value is -2.7451488697776183 with parameters: {'a': 0.9540083592479589, 'b': 0.8963169235679886, 'ab': [0.9540083592479589, 0.8963169235679886]}.\n"
     ]
    },
    {
     "name": "stdout",
     "output_type": "stream",
     "text": [
      "237\n",
      "The set cost function is ignored! LCB acquisition does not make sense with cost.\n",
      "ab\n"
     ]
    },
    {
     "name": "stderr",
     "output_type": "stream",
     "text": [
      "reconstraining parameters GP_regression.mul\n",
      "reconstraining parameters GP_regression.Gaussian_noise.variance\n"
     ]
    },
    {
     "name": "stdout",
     "output_type": "stream",
     "text": [
      "sampling end!. 2019-04-18 06:01:07.016954 2019-04-18 06:02:20.052231\n"
     ]
    },
    {
     "name": "stderr",
     "output_type": "stream",
     "text": [
      "[I 2019-04-18 06:02:30,081] Finished a trial resulted in value: -1.5411172203666594. Current best value is -2.7451488697776183 with parameters: {'a': 0.9540083592479589, 'b': 0.8963169235679886, 'ab': [0.9540083592479589, 0.8963169235679886]}.\n"
     ]
    },
    {
     "name": "stdout",
     "output_type": "stream",
     "text": [
      "238\n",
      "The set cost function is ignored! LCB acquisition does not make sense with cost.\n",
      "ab\n"
     ]
    },
    {
     "name": "stderr",
     "output_type": "stream",
     "text": [
      "reconstraining parameters GP_regression.mul\n",
      "reconstraining parameters GP_regression.Gaussian_noise.variance\n"
     ]
    },
    {
     "name": "stdout",
     "output_type": "stream",
     "text": [
      "sampling end!. 2019-04-18 06:02:30.084092 2019-04-18 06:03:28.829023\n"
     ]
    },
    {
     "name": "stderr",
     "output_type": "stream",
     "text": [
      "[I 2019-04-18 06:03:29,857] Finished a trial resulted in value: -1.2777590001096653. Current best value is -2.7451488697776183 with parameters: {'a': 0.9540083592479589, 'b': 0.8963169235679886, 'ab': [0.9540083592479589, 0.8963169235679886]}.\n"
     ]
    },
    {
     "name": "stdout",
     "output_type": "stream",
     "text": [
      "239\n",
      "The set cost function is ignored! LCB acquisition does not make sense with cost.\n",
      "ab\n"
     ]
    },
    {
     "name": "stderr",
     "output_type": "stream",
     "text": [
      "reconstraining parameters GP_regression.mul\n",
      "reconstraining parameters GP_regression.Gaussian_noise.variance\n"
     ]
    },
    {
     "name": "stdout",
     "output_type": "stream",
     "text": [
      "sampling end!. 2019-04-18 06:03:29.859650 2019-04-18 06:04:38.128787\n"
     ]
    },
    {
     "name": "stderr",
     "output_type": "stream",
     "text": [
      "[I 2019-04-18 06:04:39,155] Finished a trial resulted in value: -0.9281090285594783. Current best value is -2.7451488697776183 with parameters: {'a': 0.9540083592479589, 'b': 0.8963169235679886, 'ab': [0.9540083592479589, 0.8963169235679886]}.\n"
     ]
    },
    {
     "name": "stdout",
     "output_type": "stream",
     "text": [
      "240\n",
      "The set cost function is ignored! LCB acquisition does not make sense with cost.\n",
      "ab\n"
     ]
    },
    {
     "name": "stderr",
     "output_type": "stream",
     "text": [
      "reconstraining parameters GP_regression.mul\n",
      "reconstraining parameters GP_regression.Gaussian_noise.variance\n"
     ]
    },
    {
     "name": "stdout",
     "output_type": "stream",
     "text": [
      "sampling end!. 2019-04-18 06:04:39.157594 2019-04-18 06:05:51.385277\n"
     ]
    },
    {
     "name": "stderr",
     "output_type": "stream",
     "text": [
      "[I 2019-04-18 06:06:01,415] Finished a trial resulted in value: -1.9987550570596346. Current best value is -2.7451488697776183 with parameters: {'a': 0.9540083592479589, 'b': 0.8963169235679886, 'ab': [0.9540083592479589, 0.8963169235679886]}.\n"
     ]
    },
    {
     "name": "stdout",
     "output_type": "stream",
     "text": [
      "241\n",
      "The set cost function is ignored! LCB acquisition does not make sense with cost.\n",
      "ab\n"
     ]
    },
    {
     "name": "stderr",
     "output_type": "stream",
     "text": [
      "reconstraining parameters GP_regression.mul\n",
      "reconstraining parameters GP_regression.Gaussian_noise.variance\n"
     ]
    },
    {
     "name": "stdout",
     "output_type": "stream",
     "text": [
      "sampling end!. 2019-04-18 06:06:01.417688 2019-04-18 06:07:15.937034\n"
     ]
    },
    {
     "name": "stderr",
     "output_type": "stream",
     "text": [
      "[I 2019-04-18 06:07:25,967] Finished a trial resulted in value: -2.1839297243813847. Current best value is -2.7451488697776183 with parameters: {'a': 0.9540083592479589, 'b': 0.8963169235679886, 'ab': [0.9540083592479589, 0.8963169235679886]}.\n"
     ]
    },
    {
     "name": "stdout",
     "output_type": "stream",
     "text": [
      "242\n",
      "The set cost function is ignored! LCB acquisition does not make sense with cost.\n",
      "ab\n"
     ]
    },
    {
     "name": "stderr",
     "output_type": "stream",
     "text": [
      "reconstraining parameters GP_regression.mul\n",
      "reconstraining parameters GP_regression.Gaussian_noise.variance\n"
     ]
    },
    {
     "name": "stdout",
     "output_type": "stream",
     "text": [
      "sampling end!. 2019-04-18 06:07:25.969498 2019-04-18 06:08:39.865330\n"
     ]
    },
    {
     "name": "stderr",
     "output_type": "stream",
     "text": [
      "[I 2019-04-18 06:08:49,892] Finished a trial resulted in value: -2.2954123459674474. Current best value is -2.7451488697776183 with parameters: {'a': 0.9540083592479589, 'b': 0.8963169235679886, 'ab': [0.9540083592479589, 0.8963169235679886]}.\n"
     ]
    },
    {
     "name": "stdout",
     "output_type": "stream",
     "text": [
      "243\n",
      "The set cost function is ignored! LCB acquisition does not make sense with cost.\n",
      "ab\n"
     ]
    },
    {
     "name": "stderr",
     "output_type": "stream",
     "text": [
      "reconstraining parameters GP_regression.mul\n",
      "reconstraining parameters GP_regression.Gaussian_noise.variance\n"
     ]
    },
    {
     "name": "stdout",
     "output_type": "stream",
     "text": [
      "sampling end!. 2019-04-18 06:08:49.894909 2019-04-18 06:10:02.741926\n"
     ]
    },
    {
     "name": "stderr",
     "output_type": "stream",
     "text": [
      "[I 2019-04-18 06:10:12,771] Finished a trial resulted in value: -2.281510588748163. Current best value is -2.7451488697776183 with parameters: {'a': 0.9540083592479589, 'b': 0.8963169235679886, 'ab': [0.9540083592479589, 0.8963169235679886]}.\n"
     ]
    },
    {
     "name": "stdout",
     "output_type": "stream",
     "text": [
      "244\n",
      "The set cost function is ignored! LCB acquisition does not make sense with cost.\n",
      "ab\n"
     ]
    },
    {
     "name": "stderr",
     "output_type": "stream",
     "text": [
      "reconstraining parameters GP_regression.mul\n",
      "reconstraining parameters GP_regression.Gaussian_noise.variance\n"
     ]
    },
    {
     "name": "stdout",
     "output_type": "stream",
     "text": [
      "sampling end!. 2019-04-18 06:10:12.774353 2019-04-18 06:11:22.874158\n"
     ]
    },
    {
     "name": "stderr",
     "output_type": "stream",
     "text": [
      "[I 2019-04-18 06:11:32,902] Finished a trial resulted in value: -2.42006896058524. Current best value is -2.7451488697776183 with parameters: {'a': 0.9540083592479589, 'b': 0.8963169235679886, 'ab': [0.9540083592479589, 0.8963169235679886]}.\n"
     ]
    },
    {
     "name": "stdout",
     "output_type": "stream",
     "text": [
      "245\n",
      "The set cost function is ignored! LCB acquisition does not make sense with cost.\n",
      "ab\n"
     ]
    },
    {
     "name": "stderr",
     "output_type": "stream",
     "text": [
      "reconstraining parameters GP_regression.mul\n",
      "reconstraining parameters GP_regression.Gaussian_noise.variance\n"
     ]
    },
    {
     "name": "stdout",
     "output_type": "stream",
     "text": [
      "sampling end!. 2019-04-18 06:11:32.904428 2019-04-18 06:12:39.691210\n"
     ]
    },
    {
     "name": "stderr",
     "output_type": "stream",
     "text": [
      "[I 2019-04-18 06:12:49,717] Finished a trial resulted in value: -2.5304083143593346. Current best value is -2.7451488697776183 with parameters: {'a': 0.9540083592479589, 'b': 0.8963169235679886, 'ab': [0.9540083592479589, 0.8963169235679886]}.\n"
     ]
    },
    {
     "name": "stdout",
     "output_type": "stream",
     "text": [
      "246\n",
      "The set cost function is ignored! LCB acquisition does not make sense with cost.\n",
      "ab\n"
     ]
    },
    {
     "name": "stderr",
     "output_type": "stream",
     "text": [
      "reconstraining parameters GP_regression.mul\n",
      "reconstraining parameters GP_regression.Gaussian_noise.variance\n"
     ]
    },
    {
     "name": "stdout",
     "output_type": "stream",
     "text": [
      "sampling end!. 2019-04-18 06:12:49.719831 2019-04-18 06:13:53.271200\n"
     ]
    },
    {
     "name": "stderr",
     "output_type": "stream",
     "text": [
      "[I 2019-04-18 06:14:03,304] Finished a trial resulted in value: -2.585583341259472. Current best value is -2.7451488697776183 with parameters: {'a': 0.9540083592479589, 'b': 0.8963169235679886, 'ab': [0.9540083592479589, 0.8963169235679886]}.\n"
     ]
    },
    {
     "name": "stdout",
     "output_type": "stream",
     "text": [
      "247\n",
      "The set cost function is ignored! LCB acquisition does not make sense with cost.\n",
      "ab\n"
     ]
    },
    {
     "name": "stderr",
     "output_type": "stream",
     "text": [
      "reconstraining parameters GP_regression.mul\n",
      "reconstraining parameters GP_regression.Gaussian_noise.variance\n"
     ]
    },
    {
     "name": "stdout",
     "output_type": "stream",
     "text": [
      "sampling end!. 2019-04-18 06:14:03.306882 2019-04-18 06:15:09.473021\n"
     ]
    },
    {
     "name": "stderr",
     "output_type": "stream",
     "text": [
      "[I 2019-04-18 06:15:19,499] Finished a trial resulted in value: -2.6134487850072574. Current best value is -2.7451488697776183 with parameters: {'a': 0.9540083592479589, 'b': 0.8963169235679886, 'ab': [0.9540083592479589, 0.8963169235679886]}.\n"
     ]
    },
    {
     "name": "stdout",
     "output_type": "stream",
     "text": [
      "248\n",
      "The set cost function is ignored! LCB acquisition does not make sense with cost.\n",
      "ab\n"
     ]
    },
    {
     "name": "stderr",
     "output_type": "stream",
     "text": [
      "reconstraining parameters GP_regression.mul\n",
      "reconstraining parameters GP_regression.Gaussian_noise.variance\n"
     ]
    },
    {
     "name": "stdout",
     "output_type": "stream",
     "text": [
      "sampling end!. 2019-04-18 06:15:19.501893 2019-04-18 06:16:24.299498\n"
     ]
    },
    {
     "name": "stderr",
     "output_type": "stream",
     "text": [
      "[I 2019-04-18 06:16:34,326] Finished a trial resulted in value: -2.4897072041628316. Current best value is -2.7451488697776183 with parameters: {'a': 0.9540083592479589, 'b': 0.8963169235679886, 'ab': [0.9540083592479589, 0.8963169235679886]}.\n"
     ]
    },
    {
     "name": "stdout",
     "output_type": "stream",
     "text": [
      "249\n",
      "The set cost function is ignored! LCB acquisition does not make sense with cost.\n",
      "ab\n"
     ]
    },
    {
     "name": "stderr",
     "output_type": "stream",
     "text": [
      "reconstraining parameters GP_regression.mul\n",
      "reconstraining parameters GP_regression.Gaussian_noise.variance\n"
     ]
    },
    {
     "name": "stdout",
     "output_type": "stream",
     "text": [
      "sampling end!. 2019-04-18 06:16:34.328988 2019-04-18 06:17:42.567883\n"
     ]
    },
    {
     "name": "stderr",
     "output_type": "stream",
     "text": [
      "[I 2019-04-18 06:17:52,602] Finished a trial resulted in value: -2.2245486741462046. Current best value is -2.7451488697776183 with parameters: {'a': 0.9540083592479589, 'b': 0.8963169235679886, 'ab': [0.9540083592479589, 0.8963169235679886]}.\n"
     ]
    },
    {
     "name": "stdout",
     "output_type": "stream",
     "text": [
      "250\n",
      "The set cost function is ignored! LCB acquisition does not make sense with cost.\n",
      "ab\n"
     ]
    },
    {
     "name": "stderr",
     "output_type": "stream",
     "text": [
      "reconstraining parameters GP_regression.mul\n",
      "reconstraining parameters GP_regression.Gaussian_noise.variance\n"
     ]
    },
    {
     "name": "stdout",
     "output_type": "stream",
     "text": [
      "sampling end!. 2019-04-18 06:17:52.604341 2019-04-18 06:19:04.722657\n"
     ]
    },
    {
     "name": "stderr",
     "output_type": "stream",
     "text": [
      "[I 2019-04-18 06:19:05,752] Finished a trial resulted in value: -0.9060141375398963. Current best value is -2.7451488697776183 with parameters: {'a': 0.9540083592479589, 'b': 0.8963169235679886, 'ab': [0.9540083592479589, 0.8963169235679886]}.\n"
     ]
    },
    {
     "name": "stdout",
     "output_type": "stream",
     "text": [
      "251\n",
      "The set cost function is ignored! LCB acquisition does not make sense with cost.\n",
      "ab\n"
     ]
    },
    {
     "name": "stderr",
     "output_type": "stream",
     "text": [
      "reconstraining parameters GP_regression.mul\n",
      "reconstraining parameters GP_regression.Gaussian_noise.variance\n"
     ]
    },
    {
     "name": "stdout",
     "output_type": "stream",
     "text": [
      "sampling end!. 2019-04-18 06:19:05.754507 2019-04-18 06:19:50.978543\n"
     ]
    },
    {
     "name": "stderr",
     "output_type": "stream",
     "text": [
      "[I 2019-04-18 06:20:01,007] Finished a trial resulted in value: -1.3277093856844893. Current best value is -2.7451488697776183 with parameters: {'a': 0.9540083592479589, 'b': 0.8963169235679886, 'ab': [0.9540083592479589, 0.8963169235679886]}.\n"
     ]
    },
    {
     "name": "stdout",
     "output_type": "stream",
     "text": [
      "252\n",
      "The set cost function is ignored! LCB acquisition does not make sense with cost.\n",
      "ab\n"
     ]
    },
    {
     "name": "stderr",
     "output_type": "stream",
     "text": [
      "reconstraining parameters GP_regression.mul\n",
      "reconstraining parameters GP_regression.Gaussian_noise.variance\n"
     ]
    },
    {
     "name": "stdout",
     "output_type": "stream",
     "text": [
      "sampling end!. 2019-04-18 06:20:01.009389 2019-04-18 06:21:19.972607\n"
     ]
    },
    {
     "name": "stderr",
     "output_type": "stream",
     "text": [
      "[I 2019-04-18 06:21:30,005] Finished a trial resulted in value: -2.3141160453617555. Current best value is -2.7451488697776183 with parameters: {'a': 0.9540083592479589, 'b': 0.8963169235679886, 'ab': [0.9540083592479589, 0.8963169235679886]}.\n"
     ]
    },
    {
     "name": "stdout",
     "output_type": "stream",
     "text": [
      "253\n",
      "The set cost function is ignored! LCB acquisition does not make sense with cost.\n",
      "ab\n"
     ]
    },
    {
     "name": "stderr",
     "output_type": "stream",
     "text": [
      "reconstraining parameters GP_regression.mul\n",
      "reconstraining parameters GP_regression.Gaussian_noise.variance\n"
     ]
    },
    {
     "name": "stdout",
     "output_type": "stream",
     "text": [
      "sampling end!. 2019-04-18 06:21:30.007790 2019-04-18 06:22:54.033055\n"
     ]
    },
    {
     "name": "stderr",
     "output_type": "stream",
     "text": [
      "[I 2019-04-18 06:23:04,061] Finished a trial resulted in value: -2.3964531520425254. Current best value is -2.7451488697776183 with parameters: {'a': 0.9540083592479589, 'b': 0.8963169235679886, 'ab': [0.9540083592479589, 0.8963169235679886]}.\n"
     ]
    },
    {
     "name": "stdout",
     "output_type": "stream",
     "text": [
      "254\n",
      "The set cost function is ignored! LCB acquisition does not make sense with cost.\n",
      "ab\n"
     ]
    },
    {
     "name": "stderr",
     "output_type": "stream",
     "text": [
      "reconstraining parameters GP_regression.mul\n",
      "reconstraining parameters GP_regression.Gaussian_noise.variance\n"
     ]
    },
    {
     "name": "stdout",
     "output_type": "stream",
     "text": [
      "sampling end!. 2019-04-18 06:23:04.063451 2019-04-18 06:24:24.351212\n"
     ]
    },
    {
     "name": "stderr",
     "output_type": "stream",
     "text": [
      "[I 2019-04-18 06:24:34,384] Finished a trial resulted in value: -2.3562278931835627. Current best value is -2.7451488697776183 with parameters: {'a': 0.9540083592479589, 'b': 0.8963169235679886, 'ab': [0.9540083592479589, 0.8963169235679886]}.\n"
     ]
    },
    {
     "name": "stdout",
     "output_type": "stream",
     "text": [
      "255\n",
      "The set cost function is ignored! LCB acquisition does not make sense with cost.\n",
      "ab\n"
     ]
    },
    {
     "name": "stderr",
     "output_type": "stream",
     "text": [
      "reconstraining parameters GP_regression.mul\n",
      "reconstraining parameters GP_regression.Gaussian_noise.variance\n"
     ]
    },
    {
     "name": "stdout",
     "output_type": "stream",
     "text": [
      "sampling end!. 2019-04-18 06:24:34.386311 2019-04-18 06:25:59.060275\n"
     ]
    },
    {
     "name": "stderr",
     "output_type": "stream",
     "text": [
      "[I 2019-04-18 06:26:09,094] Finished a trial resulted in value: -2.37564246018055. Current best value is -2.7451488697776183 with parameters: {'a': 0.9540083592479589, 'b': 0.8963169235679886, 'ab': [0.9540083592479589, 0.8963169235679886]}.\n"
     ]
    },
    {
     "name": "stdout",
     "output_type": "stream",
     "text": [
      "256\n",
      "The set cost function is ignored! LCB acquisition does not make sense with cost.\n",
      "ab\n"
     ]
    },
    {
     "name": "stderr",
     "output_type": "stream",
     "text": [
      "reconstraining parameters GP_regression.mul\n",
      "reconstraining parameters GP_regression.Gaussian_noise.variance\n"
     ]
    },
    {
     "name": "stdout",
     "output_type": "stream",
     "text": [
      "sampling end!. 2019-04-18 06:26:09.096362 2019-04-18 06:27:40.031022\n"
     ]
    },
    {
     "name": "stderr",
     "output_type": "stream",
     "text": [
      "[I 2019-04-18 06:27:50,059] Finished a trial resulted in value: -2.318882429469986. Current best value is -2.7451488697776183 with parameters: {'a': 0.9540083592479589, 'b': 0.8963169235679886, 'ab': [0.9540083592479589, 0.8963169235679886]}.\n"
     ]
    },
    {
     "name": "stdout",
     "output_type": "stream",
     "text": [
      "257\n",
      "The set cost function is ignored! LCB acquisition does not make sense with cost.\n",
      "ab\n"
     ]
    },
    {
     "name": "stderr",
     "output_type": "stream",
     "text": [
      "reconstraining parameters GP_regression.mul\n",
      "reconstraining parameters GP_regression.Gaussian_noise.variance\n"
     ]
    },
    {
     "name": "stdout",
     "output_type": "stream",
     "text": [
      "sampling end!. 2019-04-18 06:27:50.062044 2019-04-18 06:29:15.431585\n"
     ]
    },
    {
     "name": "stderr",
     "output_type": "stream",
     "text": [
      "[I 2019-04-18 06:29:25,462] Finished a trial resulted in value: -2.552819108111953. Current best value is -2.7451488697776183 with parameters: {'a': 0.9540083592479589, 'b': 0.8963169235679886, 'ab': [0.9540083592479589, 0.8963169235679886]}.\n"
     ]
    },
    {
     "name": "stdout",
     "output_type": "stream",
     "text": [
      "258\n",
      "The set cost function is ignored! LCB acquisition does not make sense with cost.\n",
      "ab\n"
     ]
    },
    {
     "name": "stderr",
     "output_type": "stream",
     "text": [
      "reconstraining parameters GP_regression.mul\n",
      "reconstraining parameters GP_regression.Gaussian_noise.variance\n"
     ]
    },
    {
     "name": "stdout",
     "output_type": "stream",
     "text": [
      "sampling end!. 2019-04-18 06:29:25.465008 2019-04-18 06:30:49.887886\n"
     ]
    },
    {
     "name": "stderr",
     "output_type": "stream",
     "text": [
      "[I 2019-04-18 06:30:59,920] Finished a trial resulted in value: -2.5338611410046745. Current best value is -2.7451488697776183 with parameters: {'a': 0.9540083592479589, 'b': 0.8963169235679886, 'ab': [0.9540083592479589, 0.8963169235679886]}.\n"
     ]
    },
    {
     "name": "stdout",
     "output_type": "stream",
     "text": [
      "259\n",
      "The set cost function is ignored! LCB acquisition does not make sense with cost.\n",
      "ab\n"
     ]
    },
    {
     "name": "stderr",
     "output_type": "stream",
     "text": [
      "reconstraining parameters GP_regression.mul\n",
      "reconstraining parameters GP_regression.Gaussian_noise.variance\n"
     ]
    },
    {
     "name": "stdout",
     "output_type": "stream",
     "text": [
      "sampling end!. 2019-04-18 06:30:59.922957 2019-04-18 06:32:29.135278\n"
     ]
    },
    {
     "name": "stderr",
     "output_type": "stream",
     "text": [
      "[I 2019-04-18 06:32:39,165] Finished a trial resulted in value: -2.162484482921848. Current best value is -2.7451488697776183 with parameters: {'a': 0.9540083592479589, 'b': 0.8963169235679886, 'ab': [0.9540083592479589, 0.8963169235679886]}.\n"
     ]
    },
    {
     "name": "stdout",
     "output_type": "stream",
     "text": [
      "260\n",
      "The set cost function is ignored! LCB acquisition does not make sense with cost.\n",
      "ab\n"
     ]
    },
    {
     "name": "stderr",
     "output_type": "stream",
     "text": [
      "reconstraining parameters GP_regression.mul\n",
      "reconstraining parameters GP_regression.Gaussian_noise.variance\n"
     ]
    },
    {
     "name": "stdout",
     "output_type": "stream",
     "text": [
      "sampling end!. 2019-04-18 06:32:39.167651 2019-04-18 06:34:05.507884\n"
     ]
    },
    {
     "name": "stderr",
     "output_type": "stream",
     "text": [
      "[I 2019-04-18 06:34:15,537] Finished a trial resulted in value: -2.3378173966299647. Current best value is -2.7451488697776183 with parameters: {'a': 0.9540083592479589, 'b': 0.8963169235679886, 'ab': [0.9540083592479589, 0.8963169235679886]}.\n"
     ]
    },
    {
     "name": "stdout",
     "output_type": "stream",
     "text": [
      "261\n",
      "The set cost function is ignored! LCB acquisition does not make sense with cost.\n",
      "ab\n"
     ]
    },
    {
     "name": "stderr",
     "output_type": "stream",
     "text": [
      "reconstraining parameters GP_regression.mul\n",
      "reconstraining parameters GP_regression.Gaussian_noise.variance\n"
     ]
    },
    {
     "name": "stdout",
     "output_type": "stream",
     "text": [
      "sampling end!. 2019-04-18 06:34:15.539280 2019-04-18 06:35:38.387770\n"
     ]
    },
    {
     "name": "stderr",
     "output_type": "stream",
     "text": [
      "[I 2019-04-18 06:35:48,418] Finished a trial resulted in value: -2.3116091763873357. Current best value is -2.7451488697776183 with parameters: {'a': 0.9540083592479589, 'b': 0.8963169235679886, 'ab': [0.9540083592479589, 0.8963169235679886]}.\n"
     ]
    },
    {
     "name": "stdout",
     "output_type": "stream",
     "text": [
      "262\n",
      "The set cost function is ignored! LCB acquisition does not make sense with cost.\n",
      "ab\n"
     ]
    },
    {
     "name": "stderr",
     "output_type": "stream",
     "text": [
      "reconstraining parameters GP_regression.mul\n",
      "reconstraining parameters GP_regression.Gaussian_noise.variance\n"
     ]
    },
    {
     "name": "stdout",
     "output_type": "stream",
     "text": [
      "sampling end!. 2019-04-18 06:35:48.421153 2019-04-18 06:37:11.241893\n"
     ]
    },
    {
     "name": "stderr",
     "output_type": "stream",
     "text": [
      "[I 2019-04-18 06:37:21,273] Finished a trial resulted in value: -2.244870177984289. Current best value is -2.7451488697776183 with parameters: {'a': 0.9540083592479589, 'b': 0.8963169235679886, 'ab': [0.9540083592479589, 0.8963169235679886]}.\n"
     ]
    },
    {
     "name": "stdout",
     "output_type": "stream",
     "text": [
      "263\n",
      "The set cost function is ignored! LCB acquisition does not make sense with cost.\n",
      "ab\n"
     ]
    },
    {
     "name": "stderr",
     "output_type": "stream",
     "text": [
      "reconstraining parameters GP_regression.mul\n",
      "reconstraining parameters GP_regression.Gaussian_noise.variance\n"
     ]
    },
    {
     "name": "stdout",
     "output_type": "stream",
     "text": [
      "sampling end!. 2019-04-18 06:37:21.275622 2019-04-18 06:38:46.222195\n"
     ]
    },
    {
     "name": "stderr",
     "output_type": "stream",
     "text": [
      "[I 2019-04-18 06:38:56,251] Finished a trial resulted in value: -2.2630762342953448. Current best value is -2.7451488697776183 with parameters: {'a': 0.9540083592479589, 'b': 0.8963169235679886, 'ab': [0.9540083592479589, 0.8963169235679886]}.\n"
     ]
    },
    {
     "name": "stdout",
     "output_type": "stream",
     "text": [
      "264\n",
      "The set cost function is ignored! LCB acquisition does not make sense with cost.\n",
      "ab\n"
     ]
    },
    {
     "name": "stderr",
     "output_type": "stream",
     "text": [
      "reconstraining parameters GP_regression.mul\n",
      "reconstraining parameters GP_regression.Gaussian_noise.variance\n"
     ]
    },
    {
     "name": "stdout",
     "output_type": "stream",
     "text": [
      "sampling end!. 2019-04-18 06:38:56.254107 2019-04-18 06:40:23.421933\n"
     ]
    },
    {
     "name": "stderr",
     "output_type": "stream",
     "text": [
      "[I 2019-04-18 06:40:33,454] Finished a trial resulted in value: -2.64223890474979. Current best value is -2.7451488697776183 with parameters: {'a': 0.9540083592479589, 'b': 0.8963169235679886, 'ab': [0.9540083592479589, 0.8963169235679886]}.\n"
     ]
    },
    {
     "name": "stdout",
     "output_type": "stream",
     "text": [
      "265\n",
      "The set cost function is ignored! LCB acquisition does not make sense with cost.\n",
      "ab\n"
     ]
    },
    {
     "name": "stderr",
     "output_type": "stream",
     "text": [
      "reconstraining parameters GP_regression.mul\n",
      "reconstraining parameters GP_regression.Gaussian_noise.variance\n"
     ]
    },
    {
     "name": "stdout",
     "output_type": "stream",
     "text": [
      "sampling end!. 2019-04-18 06:40:33.456844 2019-04-18 06:42:05.191479\n"
     ]
    },
    {
     "name": "stderr",
     "output_type": "stream",
     "text": [
      "[I 2019-04-18 06:42:15,223] Finished a trial resulted in value: -2.4488351490961353. Current best value is -2.7451488697776183 with parameters: {'a': 0.9540083592479589, 'b': 0.8963169235679886, 'ab': [0.9540083592479589, 0.8963169235679886]}.\n"
     ]
    },
    {
     "name": "stdout",
     "output_type": "stream",
     "text": [
      "266\n",
      "The set cost function is ignored! LCB acquisition does not make sense with cost.\n",
      "ab\n"
     ]
    },
    {
     "name": "stderr",
     "output_type": "stream",
     "text": [
      "reconstraining parameters GP_regression.mul\n",
      "reconstraining parameters GP_regression.Gaussian_noise.variance\n"
     ]
    },
    {
     "name": "stdout",
     "output_type": "stream",
     "text": [
      "sampling end!. 2019-04-18 06:42:15.225905 2019-04-18 06:43:48.444794\n"
     ]
    },
    {
     "name": "stderr",
     "output_type": "stream",
     "text": [
      "[I 2019-04-18 06:43:58,474] Finished a trial resulted in value: -2.4289096023404144. Current best value is -2.7451488697776183 with parameters: {'a': 0.9540083592479589, 'b': 0.8963169235679886, 'ab': [0.9540083592479589, 0.8963169235679886]}.\n"
     ]
    },
    {
     "name": "stdout",
     "output_type": "stream",
     "text": [
      "267\n",
      "The set cost function is ignored! LCB acquisition does not make sense with cost.\n",
      "ab\n"
     ]
    },
    {
     "name": "stderr",
     "output_type": "stream",
     "text": [
      "reconstraining parameters GP_regression.mul\n",
      "reconstraining parameters GP_regression.Gaussian_noise.variance\n"
     ]
    },
    {
     "name": "stdout",
     "output_type": "stream",
     "text": [
      "sampling end!. 2019-04-18 06:43:58.476585 2019-04-18 06:45:36.067066\n"
     ]
    },
    {
     "name": "stderr",
     "output_type": "stream",
     "text": [
      "[I 2019-04-18 06:45:46,101] Finished a trial resulted in value: -2.2577649033136447. Current best value is -2.7451488697776183 with parameters: {'a': 0.9540083592479589, 'b': 0.8963169235679886, 'ab': [0.9540083592479589, 0.8963169235679886]}.\n"
     ]
    },
    {
     "name": "stdout",
     "output_type": "stream",
     "text": [
      "268\n",
      "The set cost function is ignored! LCB acquisition does not make sense with cost.\n",
      "ab\n"
     ]
    },
    {
     "name": "stderr",
     "output_type": "stream",
     "text": [
      "reconstraining parameters GP_regression.mul\n",
      "reconstraining parameters GP_regression.Gaussian_noise.variance\n"
     ]
    },
    {
     "name": "stdout",
     "output_type": "stream",
     "text": [
      "sampling end!. 2019-04-18 06:45:46.103249 2019-04-18 06:47:11.817925\n"
     ]
    },
    {
     "name": "stderr",
     "output_type": "stream",
     "text": [
      "[I 2019-04-18 06:47:21,849] Finished a trial resulted in value: -2.3863587922003924. Current best value is -2.7451488697776183 with parameters: {'a': 0.9540083592479589, 'b': 0.8963169235679886, 'ab': [0.9540083592479589, 0.8963169235679886]}.\n"
     ]
    },
    {
     "name": "stdout",
     "output_type": "stream",
     "text": [
      "269\n",
      "The set cost function is ignored! LCB acquisition does not make sense with cost.\n",
      "ab\n"
     ]
    },
    {
     "name": "stderr",
     "output_type": "stream",
     "text": [
      "reconstraining parameters GP_regression.mul\n",
      "reconstraining parameters GP_regression.Gaussian_noise.variance\n"
     ]
    },
    {
     "name": "stdout",
     "output_type": "stream",
     "text": [
      "sampling end!. 2019-04-18 06:47:21.851327 2019-04-18 06:48:59.864151\n"
     ]
    },
    {
     "name": "stderr",
     "output_type": "stream",
     "text": [
      "[I 2019-04-18 06:49:09,895] Finished a trial resulted in value: -2.2023995079083236. Current best value is -2.7451488697776183 with parameters: {'a': 0.9540083592479589, 'b': 0.8963169235679886, 'ab': [0.9540083592479589, 0.8963169235679886]}.\n"
     ]
    },
    {
     "name": "stdout",
     "output_type": "stream",
     "text": [
      "270\n",
      "The set cost function is ignored! LCB acquisition does not make sense with cost.\n",
      "ab\n"
     ]
    },
    {
     "name": "stderr",
     "output_type": "stream",
     "text": [
      "reconstraining parameters GP_regression.mul\n",
      "reconstraining parameters GP_regression.Gaussian_noise.variance\n"
     ]
    },
    {
     "name": "stdout",
     "output_type": "stream",
     "text": [
      "sampling end!. 2019-04-18 06:49:09.897625 2019-04-18 06:50:36.830216\n"
     ]
    },
    {
     "name": "stderr",
     "output_type": "stream",
     "text": [
      "[I 2019-04-18 06:50:46,862] Finished a trial resulted in value: -2.1796685958673665. Current best value is -2.7451488697776183 with parameters: {'a': 0.9540083592479589, 'b': 0.8963169235679886, 'ab': [0.9540083592479589, 0.8963169235679886]}.\n"
     ]
    },
    {
     "name": "stdout",
     "output_type": "stream",
     "text": [
      "271\n",
      "The set cost function is ignored! LCB acquisition does not make sense with cost.\n",
      "ab\n"
     ]
    },
    {
     "name": "stderr",
     "output_type": "stream",
     "text": [
      "reconstraining parameters GP_regression.mul\n",
      "reconstraining parameters GP_regression.Gaussian_noise.variance\n"
     ]
    },
    {
     "name": "stdout",
     "output_type": "stream",
     "text": [
      "sampling end!. 2019-04-18 06:50:46.865096 2019-04-18 06:52:10.702828\n"
     ]
    },
    {
     "name": "stderr",
     "output_type": "stream",
     "text": [
      "[I 2019-04-18 06:52:11,733] Finished a trial resulted in value: 0.26529743809232825. Current best value is -2.7451488697776183 with parameters: {'a': 0.9540083592479589, 'b': 0.8963169235679886, 'ab': [0.9540083592479589, 0.8963169235679886]}.\n"
     ]
    },
    {
     "name": "stdout",
     "output_type": "stream",
     "text": [
      "272\n",
      "The set cost function is ignored! LCB acquisition does not make sense with cost.\n",
      "ab\n"
     ]
    },
    {
     "name": "stderr",
     "output_type": "stream",
     "text": [
      "reconstraining parameters GP_regression.mul\n",
      "reconstraining parameters GP_regression.Gaussian_noise.variance\n"
     ]
    },
    {
     "name": "stdout",
     "output_type": "stream",
     "text": [
      "sampling end!. 2019-04-18 06:52:11.735501 2019-04-18 06:53:54.591280\n"
     ]
    },
    {
     "name": "stderr",
     "output_type": "stream",
     "text": [
      "[I 2019-04-18 06:54:04,622] Finished a trial resulted in value: -2.338797674105726. Current best value is -2.7451488697776183 with parameters: {'a': 0.9540083592479589, 'b': 0.8963169235679886, 'ab': [0.9540083592479589, 0.8963169235679886]}.\n"
     ]
    },
    {
     "name": "stdout",
     "output_type": "stream",
     "text": [
      "273\n",
      "The set cost function is ignored! LCB acquisition does not make sense with cost.\n",
      "ab\n"
     ]
    },
    {
     "name": "stderr",
     "output_type": "stream",
     "text": [
      "reconstraining parameters GP_regression.mul\n",
      "reconstraining parameters GP_regression.Gaussian_noise.variance\n"
     ]
    },
    {
     "name": "stdout",
     "output_type": "stream",
     "text": [
      "sampling end!. 2019-04-18 06:54:04.624201 2019-04-18 06:55:46.596093\n"
     ]
    },
    {
     "name": "stderr",
     "output_type": "stream",
     "text": [
      "[I 2019-04-18 06:55:56,632] Finished a trial resulted in value: -2.5409586655854746. Current best value is -2.7451488697776183 with parameters: {'a': 0.9540083592479589, 'b': 0.8963169235679886, 'ab': [0.9540083592479589, 0.8963169235679886]}.\n"
     ]
    },
    {
     "name": "stdout",
     "output_type": "stream",
     "text": [
      "274\n",
      "The set cost function is ignored! LCB acquisition does not make sense with cost.\n",
      "ab\n"
     ]
    },
    {
     "name": "stderr",
     "output_type": "stream",
     "text": [
      "reconstraining parameters GP_regression.mul\n",
      "reconstraining parameters GP_regression.Gaussian_noise.variance\n"
     ]
    },
    {
     "name": "stdout",
     "output_type": "stream",
     "text": [
      "sampling end!. 2019-04-18 06:55:56.634597 2019-04-18 06:57:35.633814\n"
     ]
    },
    {
     "name": "stderr",
     "output_type": "stream",
     "text": [
      "[I 2019-04-18 06:57:45,667] Finished a trial resulted in value: -2.596380854361652. Current best value is -2.7451488697776183 with parameters: {'a': 0.9540083592479589, 'b': 0.8963169235679886, 'ab': [0.9540083592479589, 0.8963169235679886]}.\n"
     ]
    },
    {
     "name": "stdout",
     "output_type": "stream",
     "text": [
      "275\n",
      "The set cost function is ignored! LCB acquisition does not make sense with cost.\n",
      "ab\n"
     ]
    },
    {
     "name": "stderr",
     "output_type": "stream",
     "text": [
      "reconstraining parameters GP_regression.mul\n",
      "reconstraining parameters GP_regression.Gaussian_noise.variance\n"
     ]
    },
    {
     "name": "stdout",
     "output_type": "stream",
     "text": [
      "sampling end!. 2019-04-18 06:57:45.669240 2019-04-18 06:59:22.200586\n"
     ]
    },
    {
     "name": "stderr",
     "output_type": "stream",
     "text": [
      "[I 2019-04-18 06:59:32,232] Finished a trial resulted in value: -2.43251877483423. Current best value is -2.7451488697776183 with parameters: {'a': 0.9540083592479589, 'b': 0.8963169235679886, 'ab': [0.9540083592479589, 0.8963169235679886]}.\n"
     ]
    },
    {
     "name": "stdout",
     "output_type": "stream",
     "text": [
      "276\n",
      "The set cost function is ignored! LCB acquisition does not make sense with cost.\n",
      "ab\n"
     ]
    },
    {
     "name": "stderr",
     "output_type": "stream",
     "text": [
      "reconstraining parameters GP_regression.mul\n",
      "reconstraining parameters GP_regression.Gaussian_noise.variance\n"
     ]
    },
    {
     "name": "stdout",
     "output_type": "stream",
     "text": [
      "sampling end!. 2019-04-18 06:59:32.235121 2019-04-18 07:01:17.014804\n"
     ]
    },
    {
     "name": "stderr",
     "output_type": "stream",
     "text": [
      "[I 2019-04-18 07:01:27,045] Finished a trial resulted in value: -2.3927811033875375. Current best value is -2.7451488697776183 with parameters: {'a': 0.9540083592479589, 'b': 0.8963169235679886, 'ab': [0.9540083592479589, 0.8963169235679886]}.\n"
     ]
    },
    {
     "name": "stdout",
     "output_type": "stream",
     "text": [
      "277\n",
      "The set cost function is ignored! LCB acquisition does not make sense with cost.\n",
      "ab\n"
     ]
    },
    {
     "name": "stderr",
     "output_type": "stream",
     "text": [
      "reconstraining parameters GP_regression.mul\n",
      "reconstraining parameters GP_regression.Gaussian_noise.variance\n"
     ]
    },
    {
     "name": "stdout",
     "output_type": "stream",
     "text": [
      "sampling end!. 2019-04-18 07:01:27.047199 2019-04-18 07:03:00.735937\n"
     ]
    },
    {
     "name": "stderr",
     "output_type": "stream",
     "text": [
      "[I 2019-04-18 07:03:10,767] Finished a trial resulted in value: -2.4778877781177617. Current best value is -2.7451488697776183 with parameters: {'a': 0.9540083592479589, 'b': 0.8963169235679886, 'ab': [0.9540083592479589, 0.8963169235679886]}.\n"
     ]
    },
    {
     "name": "stdout",
     "output_type": "stream",
     "text": [
      "278\n",
      "The set cost function is ignored! LCB acquisition does not make sense with cost.\n",
      "ab\n"
     ]
    },
    {
     "name": "stderr",
     "output_type": "stream",
     "text": [
      "reconstraining parameters GP_regression.mul\n",
      "reconstraining parameters GP_regression.Gaussian_noise.variance\n"
     ]
    },
    {
     "name": "stdout",
     "output_type": "stream",
     "text": [
      "sampling end!. 2019-04-18 07:03:10.770210 2019-04-18 07:04:59.540931\n"
     ]
    },
    {
     "name": "stderr",
     "output_type": "stream",
     "text": [
      "[I 2019-04-18 07:05:09,575] Finished a trial resulted in value: -2.651951895154823. Current best value is -2.7451488697776183 with parameters: {'a': 0.9540083592479589, 'b': 0.8963169235679886, 'ab': [0.9540083592479589, 0.8963169235679886]}.\n"
     ]
    },
    {
     "name": "stdout",
     "output_type": "stream",
     "text": [
      "279\n",
      "The set cost function is ignored! LCB acquisition does not make sense with cost.\n",
      "ab\n"
     ]
    },
    {
     "name": "stderr",
     "output_type": "stream",
     "text": [
      "reconstraining parameters GP_regression.mul\n",
      "reconstraining parameters GP_regression.Gaussian_noise.variance\n"
     ]
    },
    {
     "name": "stdout",
     "output_type": "stream",
     "text": [
      "sampling end!. 2019-04-18 07:05:09.578209 2019-04-18 07:06:46.635029\n"
     ]
    },
    {
     "name": "stderr",
     "output_type": "stream",
     "text": [
      "[I 2019-04-18 07:06:56,672] Finished a trial resulted in value: -2.3940920555808556. Current best value is -2.7451488697776183 with parameters: {'a': 0.9540083592479589, 'b': 0.8963169235679886, 'ab': [0.9540083592479589, 0.8963169235679886]}.\n"
     ]
    },
    {
     "name": "stdout",
     "output_type": "stream",
     "text": [
      "280\n",
      "The set cost function is ignored! LCB acquisition does not make sense with cost.\n",
      "ab\n"
     ]
    },
    {
     "name": "stderr",
     "output_type": "stream",
     "text": [
      "reconstraining parameters GP_regression.mul\n",
      "reconstraining parameters GP_regression.Gaussian_noise.variance\n"
     ]
    },
    {
     "name": "stdout",
     "output_type": "stream",
     "text": [
      "sampling end!. 2019-04-18 07:06:56.674332 2019-04-18 07:08:16.887664\n"
     ]
    },
    {
     "name": "stderr",
     "output_type": "stream",
     "text": [
      "[I 2019-04-18 07:08:26,920] Finished a trial resulted in value: -0.7417376904253999. Current best value is -2.7451488697776183 with parameters: {'a': 0.9540083592479589, 'b': 0.8963169235679886, 'ab': [0.9540083592479589, 0.8963169235679886]}.\n"
     ]
    },
    {
     "name": "stdout",
     "output_type": "stream",
     "text": [
      "281\n",
      "The set cost function is ignored! LCB acquisition does not make sense with cost.\n",
      "ab\n"
     ]
    },
    {
     "name": "stderr",
     "output_type": "stream",
     "text": [
      "reconstraining parameters GP_regression.mul\n",
      "reconstraining parameters GP_regression.Gaussian_noise.variance\n"
     ]
    },
    {
     "name": "stdout",
     "output_type": "stream",
     "text": [
      "sampling end!. 2019-04-18 07:08:26.922504 2019-04-18 07:10:04.374222\n"
     ]
    },
    {
     "name": "stderr",
     "output_type": "stream",
     "text": [
      "[I 2019-04-18 07:10:14,406] Finished a trial resulted in value: -2.2995162825135305. Current best value is -2.7451488697776183 with parameters: {'a': 0.9540083592479589, 'b': 0.8963169235679886, 'ab': [0.9540083592479589, 0.8963169235679886]}.\n"
     ]
    },
    {
     "name": "stdout",
     "output_type": "stream",
     "text": [
      "282\n",
      "The set cost function is ignored! LCB acquisition does not make sense with cost.\n",
      "ab\n"
     ]
    },
    {
     "name": "stderr",
     "output_type": "stream",
     "text": [
      "reconstraining parameters GP_regression.mul\n",
      "reconstraining parameters GP_regression.Gaussian_noise.variance\n"
     ]
    },
    {
     "name": "stdout",
     "output_type": "stream",
     "text": [
      "sampling end!. 2019-04-18 07:10:14.408888 2019-04-18 07:11:41.492687\n"
     ]
    },
    {
     "name": "stderr",
     "output_type": "stream",
     "text": [
      "[I 2019-04-18 07:11:51,525] Finished a trial resulted in value: -2.2470787430221124. Current best value is -2.7451488697776183 with parameters: {'a': 0.9540083592479589, 'b': 0.8963169235679886, 'ab': [0.9540083592479589, 0.8963169235679886]}.\n"
     ]
    },
    {
     "name": "stdout",
     "output_type": "stream",
     "text": [
      "283\n",
      "The set cost function is ignored! LCB acquisition does not make sense with cost.\n",
      "ab\n"
     ]
    },
    {
     "name": "stderr",
     "output_type": "stream",
     "text": [
      "reconstraining parameters GP_regression.mul\n",
      "reconstraining parameters GP_regression.Gaussian_noise.variance\n"
     ]
    },
    {
     "name": "stdout",
     "output_type": "stream",
     "text": [
      "sampling end!. 2019-04-18 07:11:51.527952 2019-04-18 07:13:35.199952\n"
     ]
    },
    {
     "name": "stderr",
     "output_type": "stream",
     "text": [
      "[I 2019-04-18 07:13:45,232] Finished a trial resulted in value: -2.2900962167594607. Current best value is -2.7451488697776183 with parameters: {'a': 0.9540083592479589, 'b': 0.8963169235679886, 'ab': [0.9540083592479589, 0.8963169235679886]}.\n"
     ]
    },
    {
     "name": "stdout",
     "output_type": "stream",
     "text": [
      "284\n",
      "The set cost function is ignored! LCB acquisition does not make sense with cost.\n",
      "ab\n"
     ]
    },
    {
     "name": "stderr",
     "output_type": "stream",
     "text": [
      "reconstraining parameters GP_regression.mul\n",
      "reconstraining parameters GP_regression.Gaussian_noise.variance\n"
     ]
    },
    {
     "name": "stdout",
     "output_type": "stream",
     "text": [
      "sampling end!. 2019-04-18 07:13:45.234853 2019-04-18 07:15:02.195192\n"
     ]
    },
    {
     "name": "stderr",
     "output_type": "stream",
     "text": [
      "[I 2019-04-18 07:15:12,226] Finished a trial resulted in value: -2.280918675309805. Current best value is -2.7451488697776183 with parameters: {'a': 0.9540083592479589, 'b': 0.8963169235679886, 'ab': [0.9540083592479589, 0.8963169235679886]}.\n"
     ]
    },
    {
     "name": "stdout",
     "output_type": "stream",
     "text": [
      "285\n",
      "The set cost function is ignored! LCB acquisition does not make sense with cost.\n",
      "ab\n"
     ]
    },
    {
     "name": "stderr",
     "output_type": "stream",
     "text": [
      "reconstraining parameters GP_regression.mul\n",
      "reconstraining parameters GP_regression.Gaussian_noise.variance\n"
     ]
    },
    {
     "name": "stdout",
     "output_type": "stream",
     "text": [
      "sampling end!. 2019-04-18 07:15:12.228412 2019-04-18 07:16:41.540247\n"
     ]
    },
    {
     "name": "stderr",
     "output_type": "stream",
     "text": [
      "[I 2019-04-18 07:16:51,575] Finished a trial resulted in value: -2.183496599814541. Current best value is -2.7451488697776183 with parameters: {'a': 0.9540083592479589, 'b': 0.8963169235679886, 'ab': [0.9540083592479589, 0.8963169235679886]}.\n"
     ]
    },
    {
     "name": "stdout",
     "output_type": "stream",
     "text": [
      "286\n",
      "The set cost function is ignored! LCB acquisition does not make sense with cost.\n",
      "ab\n"
     ]
    },
    {
     "name": "stderr",
     "output_type": "stream",
     "text": [
      "reconstraining parameters GP_regression.mul\n",
      "reconstraining parameters GP_regression.Gaussian_noise.variance\n"
     ]
    },
    {
     "name": "stdout",
     "output_type": "stream",
     "text": [
      "sampling end!. 2019-04-18 07:16:51.577361 2019-04-18 07:18:04.662900\n"
     ]
    },
    {
     "name": "stderr",
     "output_type": "stream",
     "text": [
      "[I 2019-04-18 07:18:14,694] Finished a trial resulted in value: -2.0010918136513354. Current best value is -2.7451488697776183 with parameters: {'a': 0.9540083592479589, 'b': 0.8963169235679886, 'ab': [0.9540083592479589, 0.8963169235679886]}.\n"
     ]
    },
    {
     "name": "stdout",
     "output_type": "stream",
     "text": [
      "287\n",
      "The set cost function is ignored! LCB acquisition does not make sense with cost.\n",
      "ab\n"
     ]
    },
    {
     "name": "stderr",
     "output_type": "stream",
     "text": [
      "reconstraining parameters GP_regression.mul\n",
      "reconstraining parameters GP_regression.Gaussian_noise.variance\n"
     ]
    },
    {
     "name": "stdout",
     "output_type": "stream",
     "text": [
      "sampling end!. 2019-04-18 07:18:14.696561 2019-04-18 07:19:58.949458\n"
     ]
    },
    {
     "name": "stderr",
     "output_type": "stream",
     "text": [
      "[I 2019-04-18 07:20:08,984] Finished a trial resulted in value: -2.255936793787931. Current best value is -2.7451488697776183 with parameters: {'a': 0.9540083592479589, 'b': 0.8963169235679886, 'ab': [0.9540083592479589, 0.8963169235679886]}.\n"
     ]
    },
    {
     "name": "stdout",
     "output_type": "stream",
     "text": [
      "288\n",
      "The set cost function is ignored! LCB acquisition does not make sense with cost.\n",
      "ab\n"
     ]
    },
    {
     "name": "stderr",
     "output_type": "stream",
     "text": [
      "reconstraining parameters GP_regression.mul\n",
      "reconstraining parameters GP_regression.Gaussian_noise.variance\n"
     ]
    },
    {
     "name": "stdout",
     "output_type": "stream",
     "text": [
      "sampling end!. 2019-04-18 07:20:08.986150 2019-04-18 07:21:51.509635\n"
     ]
    },
    {
     "name": "stderr",
     "output_type": "stream",
     "text": [
      "[I 2019-04-18 07:22:01,553] Finished a trial resulted in value: -2.270959926477886. Current best value is -2.7451488697776183 with parameters: {'a': 0.9540083592479589, 'b': 0.8963169235679886, 'ab': [0.9540083592479589, 0.8963169235679886]}.\n"
     ]
    },
    {
     "name": "stdout",
     "output_type": "stream",
     "text": [
      "289\n",
      "The set cost function is ignored! LCB acquisition does not make sense with cost.\n",
      "ab\n"
     ]
    },
    {
     "name": "stderr",
     "output_type": "stream",
     "text": [
      "reconstraining parameters GP_regression.mul\n",
      "reconstraining parameters GP_regression.Gaussian_noise.variance\n"
     ]
    },
    {
     "name": "stdout",
     "output_type": "stream",
     "text": [
      "sampling end!. 2019-04-18 07:22:01.556016 2019-04-18 07:23:56.174988\n"
     ]
    },
    {
     "name": "stderr",
     "output_type": "stream",
     "text": [
      "[I 2019-04-18 07:24:06,205] Finished a trial resulted in value: -2.330712784711158. Current best value is -2.7451488697776183 with parameters: {'a': 0.9540083592479589, 'b': 0.8963169235679886, 'ab': [0.9540083592479589, 0.8963169235679886]}.\n"
     ]
    },
    {
     "name": "stdout",
     "output_type": "stream",
     "text": [
      "290\n",
      "The set cost function is ignored! LCB acquisition does not make sense with cost.\n",
      "ab\n"
     ]
    },
    {
     "name": "stderr",
     "output_type": "stream",
     "text": [
      "reconstraining parameters GP_regression.mul\n",
      "reconstraining parameters GP_regression.Gaussian_noise.variance\n"
     ]
    },
    {
     "name": "stdout",
     "output_type": "stream",
     "text": [
      "sampling end!. 2019-04-18 07:24:06.207378 2019-04-18 07:26:01.151290\n"
     ]
    },
    {
     "name": "stderr",
     "output_type": "stream",
     "text": [
      "[I 2019-04-18 07:26:11,188] Finished a trial resulted in value: -2.4127097398828212. Current best value is -2.7451488697776183 with parameters: {'a': 0.9540083592479589, 'b': 0.8963169235679886, 'ab': [0.9540083592479589, 0.8963169235679886]}.\n"
     ]
    },
    {
     "name": "stdout",
     "output_type": "stream",
     "text": [
      "291\n",
      "The set cost function is ignored! LCB acquisition does not make sense with cost.\n",
      "ab\n"
     ]
    },
    {
     "name": "stderr",
     "output_type": "stream",
     "text": [
      "reconstraining parameters GP_regression.mul\n",
      "reconstraining parameters GP_regression.Gaussian_noise.variance\n"
     ]
    },
    {
     "name": "stdout",
     "output_type": "stream",
     "text": [
      "sampling end!. 2019-04-18 07:26:11.190801 2019-04-18 07:28:03.902038\n"
     ]
    },
    {
     "name": "stderr",
     "output_type": "stream",
     "text": [
      "[I 2019-04-18 07:28:13,936] Finished a trial resulted in value: -2.489906731242208. Current best value is -2.7451488697776183 with parameters: {'a': 0.9540083592479589, 'b': 0.8963169235679886, 'ab': [0.9540083592479589, 0.8963169235679886]}.\n"
     ]
    },
    {
     "name": "stdout",
     "output_type": "stream",
     "text": [
      "292\n",
      "The set cost function is ignored! LCB acquisition does not make sense with cost.\n",
      "ab\n"
     ]
    },
    {
     "name": "stderr",
     "output_type": "stream",
     "text": [
      "reconstraining parameters GP_regression.mul\n",
      "reconstraining parameters GP_regression.Gaussian_noise.variance\n"
     ]
    },
    {
     "name": "stdout",
     "output_type": "stream",
     "text": [
      "sampling end!. 2019-04-18 07:28:13.939332 2019-04-18 07:30:06.103550\n"
     ]
    },
    {
     "name": "stderr",
     "output_type": "stream",
     "text": [
      "[I 2019-04-18 07:30:16,138] Finished a trial resulted in value: -2.354933180874524. Current best value is -2.7451488697776183 with parameters: {'a': 0.9540083592479589, 'b': 0.8963169235679886, 'ab': [0.9540083592479589, 0.8963169235679886]}.\n"
     ]
    },
    {
     "name": "stdout",
     "output_type": "stream",
     "text": [
      "293\n",
      "The set cost function is ignored! LCB acquisition does not make sense with cost.\n",
      "ab\n"
     ]
    },
    {
     "name": "stderr",
     "output_type": "stream",
     "text": [
      "reconstraining parameters GP_regression.mul\n",
      "reconstraining parameters GP_regression.Gaussian_noise.variance\n"
     ]
    },
    {
     "name": "stdout",
     "output_type": "stream",
     "text": [
      "sampling end!. 2019-04-18 07:30:16.140905 2019-04-18 07:32:09.637325\n"
     ]
    },
    {
     "name": "stderr",
     "output_type": "stream",
     "text": [
      "[I 2019-04-18 07:32:19,670] Finished a trial resulted in value: -2.079297144906633. Current best value is -2.7451488697776183 with parameters: {'a': 0.9540083592479589, 'b': 0.8963169235679886, 'ab': [0.9540083592479589, 0.8963169235679886]}.\n"
     ]
    },
    {
     "name": "stdout",
     "output_type": "stream",
     "text": [
      "294\n",
      "The set cost function is ignored! LCB acquisition does not make sense with cost.\n",
      "ab\n"
     ]
    },
    {
     "name": "stderr",
     "output_type": "stream",
     "text": [
      "reconstraining parameters GP_regression.mul\n",
      "reconstraining parameters GP_regression.Gaussian_noise.variance\n"
     ]
    },
    {
     "name": "stdout",
     "output_type": "stream",
     "text": [
      "sampling end!. 2019-04-18 07:32:19.672135 2019-04-18 07:33:58.367827\n"
     ]
    },
    {
     "name": "stderr",
     "output_type": "stream",
     "text": [
      "[I 2019-04-18 07:34:08,407] Finished a trial resulted in value: -0.3859860303956692. Current best value is -2.7451488697776183 with parameters: {'a': 0.9540083592479589, 'b': 0.8963169235679886, 'ab': [0.9540083592479589, 0.8963169235679886]}.\n"
     ]
    },
    {
     "name": "stdout",
     "output_type": "stream",
     "text": [
      "295\n",
      "The set cost function is ignored! LCB acquisition does not make sense with cost.\n",
      "ab\n"
     ]
    },
    {
     "name": "stderr",
     "output_type": "stream",
     "text": [
      "reconstraining parameters GP_regression.mul\n",
      "reconstraining parameters GP_regression.Gaussian_noise.variance\n"
     ]
    },
    {
     "name": "stdout",
     "output_type": "stream",
     "text": [
      "sampling end!. 2019-04-18 07:34:08.409747 2019-04-18 07:35:18.680050\n"
     ]
    },
    {
     "name": "stderr",
     "output_type": "stream",
     "text": [
      "[I 2019-04-18 07:35:19,716] Finished a trial resulted in value: -0.7281169081399975. Current best value is -2.7451488697776183 with parameters: {'a': 0.9540083592479589, 'b': 0.8963169235679886, 'ab': [0.9540083592479589, 0.8963169235679886]}.\n"
     ]
    },
    {
     "name": "stdout",
     "output_type": "stream",
     "text": [
      "296\n",
      "The set cost function is ignored! LCB acquisition does not make sense with cost.\n",
      "ab\n"
     ]
    },
    {
     "name": "stderr",
     "output_type": "stream",
     "text": [
      "reconstraining parameters GP_regression.mul\n",
      "reconstraining parameters GP_regression.Gaussian_noise.variance\n"
     ]
    },
    {
     "name": "stdout",
     "output_type": "stream",
     "text": [
      "sampling end!. 2019-04-18 07:35:19.718932 2019-04-18 07:37:08.773265\n"
     ]
    },
    {
     "name": "stderr",
     "output_type": "stream",
     "text": [
      "[I 2019-04-18 07:37:18,809] Finished a trial resulted in value: -2.321463417272824. Current best value is -2.7451488697776183 with parameters: {'a': 0.9540083592479589, 'b': 0.8963169235679886, 'ab': [0.9540083592479589, 0.8963169235679886]}.\n"
     ]
    },
    {
     "name": "stdout",
     "output_type": "stream",
     "text": [
      "297\n",
      "The set cost function is ignored! LCB acquisition does not make sense with cost.\n",
      "ab\n"
     ]
    },
    {
     "name": "stderr",
     "output_type": "stream",
     "text": [
      "reconstraining parameters GP_regression.mul\n",
      "reconstraining parameters GP_regression.Gaussian_noise.variance\n"
     ]
    },
    {
     "name": "stdout",
     "output_type": "stream",
     "text": [
      "sampling end!. 2019-04-18 07:37:18.811835 2019-04-18 07:39:17.878623\n"
     ]
    },
    {
     "name": "stderr",
     "output_type": "stream",
     "text": [
      "[I 2019-04-18 07:39:27,917] Finished a trial resulted in value: -2.375806646920272. Current best value is -2.7451488697776183 with parameters: {'a': 0.9540083592479589, 'b': 0.8963169235679886, 'ab': [0.9540083592479589, 0.8963169235679886]}.\n"
     ]
    },
    {
     "name": "stdout",
     "output_type": "stream",
     "text": [
      "298\n",
      "The set cost function is ignored! LCB acquisition does not make sense with cost.\n",
      "ab\n"
     ]
    },
    {
     "name": "stderr",
     "output_type": "stream",
     "text": [
      "reconstraining parameters GP_regression.mul\n",
      "reconstraining parameters GP_regression.Gaussian_noise.variance\n"
     ]
    },
    {
     "name": "stdout",
     "output_type": "stream",
     "text": [
      "sampling end!. 2019-04-18 07:39:27.920055 2019-04-18 07:41:20.614318\n"
     ]
    },
    {
     "name": "stderr",
     "output_type": "stream",
     "text": [
      "[I 2019-04-18 07:41:30,653] Finished a trial resulted in value: -1.9905230002938328. Current best value is -2.7451488697776183 with parameters: {'a': 0.9540083592479589, 'b': 0.8963169235679886, 'ab': [0.9540083592479589, 0.8963169235679886]}.\n"
     ]
    },
    {
     "name": "stdout",
     "output_type": "stream",
     "text": [
      "299\n",
      "The set cost function is ignored! LCB acquisition does not make sense with cost.\n",
      "ab\n"
     ]
    },
    {
     "name": "stderr",
     "output_type": "stream",
     "text": [
      "reconstraining parameters GP_regression.mul\n",
      "reconstraining parameters GP_regression.Gaussian_noise.variance\n"
     ]
    },
    {
     "name": "stdout",
     "output_type": "stream",
     "text": [
      "sampling end!. 2019-04-18 07:41:30.655965 2019-04-18 07:43:36.876788\n"
     ]
    },
    {
     "name": "stderr",
     "output_type": "stream",
     "text": [
      "[I 2019-04-18 07:43:46,922] Finished a trial resulted in value: -2.3980340840222563. Current best value is -2.7451488697776183 with parameters: {'a': 0.9540083592479589, 'b': 0.8963169235679886, 'ab': [0.9540083592479589, 0.8963169235679886]}.\n"
     ]
    }
   ],
   "source": [
    "sampler = optuna.samplers.DTVGPSampler()\n",
    "study = optuna.create_study(sampler=sampler)\n",
    "study.optimize(lambda t: - objevtive_rbf(t), n_trials=n_trials)"
   ]
  },
  {
   "cell_type": "code",
   "execution_count": 8,
   "metadata": {},
   "outputs": [],
   "source": [
    "target_dir = './results/20190418/'\n",
    "\n",
    "trials = study.trials\n",
    "\n",
    "trial_values = [- trial.value for trial in trials]\n",
    "\n",
    "np.savetxt(target_dir + 'syn_original_matern52_dtv.csv', trial_values, delimiter=',')"
   ]
  },
  {
   "cell_type": "code",
   "execution_count": null,
   "metadata": {},
   "outputs": [],
   "source": []
  }
 ],
 "metadata": {
  "kernelspec": {
   "display_name": "Python 3",
   "language": "python",
   "name": "python3"
  },
  "language_info": {
   "codemirror_mode": {
    "name": "ipython",
    "version": 3
   },
   "file_extension": ".py",
   "mimetype": "text/x-python",
   "name": "python",
   "nbconvert_exporter": "python",
   "pygments_lexer": "ipython3",
   "version": "3.6.5"
  }
 },
 "nbformat": 4,
 "nbformat_minor": 2
}
