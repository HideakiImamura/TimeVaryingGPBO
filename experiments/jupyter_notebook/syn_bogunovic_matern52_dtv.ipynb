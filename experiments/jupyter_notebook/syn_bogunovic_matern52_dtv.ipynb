{
 "cells": [
  {
   "cell_type": "code",
   "execution_count": 1,
   "metadata": {},
   "outputs": [
    {
     "data": {
      "text/html": [
       "<script type=\"text/javascript\">window.PlotlyConfig = {MathJaxConfig: 'local'};</script><script type=\"text/javascript\">if (window.MathJax) {MathJax.Hub.Config({SVG: {font: \"STIX-Web\"}});}</script><script>requirejs.config({paths: { 'plotly': ['https://cdn.plot.ly/plotly-latest.min']},});if(!window._Plotly) {require(['plotly'],function(plotly) {window._Plotly=plotly;});}</script>"
      ],
      "text/vnd.plotly.v1+html": [
       "<script type=\"text/javascript\">window.PlotlyConfig = {MathJaxConfig: 'local'};</script><script type=\"text/javascript\">if (window.MathJax) {MathJax.Hub.Config({SVG: {font: \"STIX-Web\"}});}</script><script>requirejs.config({paths: { 'plotly': ['https://cdn.plot.ly/plotly-latest.min']},});if(!window._Plotly) {require(['plotly'],function(plotly) {window._Plotly=plotly;});}</script>"
      ]
     },
     "metadata": {},
     "output_type": "display_data"
    }
   ],
   "source": [
    "# This is necessary for jupyter to draw graphs offline.\n",
    "# Plotly tries to use cloud service to draw graphs by default.\n",
    "from plotly.offline import download_plotlyjs, init_notebook_mode, plot, iplot\n",
    "init_notebook_mode(connected=True)"
   ]
  },
  {
   "cell_type": "code",
   "execution_count": 2,
   "metadata": {},
   "outputs": [],
   "source": [
    "import GPy\n",
    "import optuna\n",
    "import numpy as np\n",
    "import plotly.figure_factory as ff\n",
    "import plotly.graph_objs as go\n",
    "import plotly.io as pio\n",
    "import time\n",
    "    \n",
    "\n",
    "seed = 123\n",
    "np.random.seed(seed=seed)"
   ]
  },
  {
   "cell_type": "code",
   "execution_count": 3,
   "metadata": {},
   "outputs": [
    {
     "data": {
      "text/plain": [
       "(300, 2500)"
      ]
     },
     "execution_count": 3,
     "metadata": {},
     "output_type": "execute_result"
    }
   ],
   "source": [
    "data = np.loadtxt('functions/bogunovic_rbf.csv', delimiter=',')\n",
    "data.shape"
   ]
  },
  {
   "cell_type": "code",
   "execution_count": 4,
   "metadata": {},
   "outputs": [
    {
     "data": {
      "text/plain": [
       "(300,)"
      ]
     },
     "execution_count": 4,
     "metadata": {},
     "output_type": "execute_result"
    }
   ],
   "source": [
    "best_values = np.max(data, axis=1)\n",
    "best_values.shape"
   ]
  },
  {
   "cell_type": "code",
   "execution_count": 5,
   "metadata": {},
   "outputs": [],
   "source": [
    "t = -1\n",
    "quantization = int(np.sqrt(data.shape[1]))\n",
    "\n",
    "def quantize(a):\n",
    "    return np.argmin(np.abs(np.linspace(0., 1., quantization) - a))\n",
    "\n",
    "\n",
    "def fun_rbf(a, b):\n",
    "    global t\n",
    "    t += 1\n",
    "    i = quantize(a)\n",
    "    j = quantize(b)\n",
    "    time.sleep(1)\n",
    "    return data[t][i + quantization + j]\n",
    "\n",
    "\n",
    "def objevtive_rbf(trial):\n",
    "    a, b = trial.suggest_joint('ab',\n",
    "                               [['uniform', 'a', 0., 1.],\n",
    "                                ['uniform', 'b', 0., 1.]])\n",
    "    return fun_rbf(a, b)"
   ]
  },
  {
   "cell_type": "code",
   "execution_count": 6,
   "metadata": {},
   "outputs": [],
   "source": [
    "n_trials = int(data.shape[0])"
   ]
  },
  {
   "cell_type": "code",
   "execution_count": 7,
   "metadata": {},
   "outputs": [
    {
     "name": "stdout",
     "output_type": "stream",
     "text": [
      "sampling end!. 2019-04-17 16:39:04.432018 2019-04-17 16:39:04.432350\n"
     ]
    },
    {
     "name": "stderr",
     "output_type": "stream",
     "text": [
      "[I 2019-04-17 16:39:05,435] Finished a trial resulted in value: 0.11393855951302717. Current best value is 0.11393855951302717 with parameters: {'a': 0.39781597074444264, 'b': 0.4323611188324965, 'ab': [0.39781597074444264, 0.4323611188324965]}.\n"
     ]
    },
    {
     "name": "stdout",
     "output_type": "stream",
     "text": [
      "sampling end!. 2019-04-17 16:39:05.437554 2019-04-17 16:39:05.437776\n"
     ]
    },
    {
     "name": "stderr",
     "output_type": "stream",
     "text": [
      "[I 2019-04-17 16:39:06,442] Finished a trial resulted in value: 0.0724323045852751. Current best value is 0.0724323045852751 with parameters: {'a': 0.7972770744328641, 'b': 0.9533729957334626, 'ab': [0.7972770744328641, 0.9533729957334626]}.\n"
     ]
    },
    {
     "name": "stdout",
     "output_type": "stream",
     "text": [
      "sampling end!. 2019-04-17 16:39:06.444915 2019-04-17 16:39:06.445267\n"
     ]
    },
    {
     "name": "stderr",
     "output_type": "stream",
     "text": [
      "[I 2019-04-17 16:39:07,447] Finished a trial resulted in value: 0.04543702349792178. Current best value is 0.04543702349792178 with parameters: {'a': 0.03671887837934906, 'b': 0.40351013723549956, 'ab': [0.03671887837934906, 0.40351013723549956]}.\n"
     ]
    },
    {
     "name": "stdout",
     "output_type": "stream",
     "text": [
      "sampling end!. 2019-04-17 16:39:07.449311 2019-04-17 16:39:07.449790\n"
     ]
    },
    {
     "name": "stderr",
     "output_type": "stream",
     "text": [
      "[I 2019-04-17 16:39:08,452] Finished a trial resulted in value: 0.32257928501924427. Current best value is 0.04543702349792178 with parameters: {'a': 0.03671887837934906, 'b': 0.40351013723549956, 'ab': [0.03671887837934906, 0.40351013723549956]}.\n"
     ]
    },
    {
     "name": "stdout",
     "output_type": "stream",
     "text": [
      "sampling end!. 2019-04-17 16:39:08.454714 2019-04-17 16:39:08.455155\n"
     ]
    },
    {
     "name": "stderr",
     "output_type": "stream",
     "text": [
      "[I 2019-04-17 16:39:09,460] Finished a trial resulted in value: 0.029256039912708795. Current best value is 0.029256039912708795 with parameters: {'a': 0.51980817295006, 'b': 0.5176155020810741, 'ab': [0.51980817295006, 0.5176155020810741]}.\n"
     ]
    },
    {
     "name": "stdout",
     "output_type": "stream",
     "text": [
      "sampling end!. 2019-04-17 16:39:09.462393 2019-04-17 16:39:09.463023\n"
     ]
    },
    {
     "name": "stderr",
     "output_type": "stream",
     "text": [
      "[I 2019-04-17 16:39:10,465] Finished a trial resulted in value: 0.09789217885689637. Current best value is 0.029256039912708795 with parameters: {'a': 0.51980817295006, 'b': 0.5176155020810741, 'ab': [0.51980817295006, 0.5176155020810741]}.\n"
     ]
    },
    {
     "name": "stdout",
     "output_type": "stream",
     "text": [
      "sampling end!. 2019-04-17 16:39:10.466857 2019-04-17 16:39:10.467445\n"
     ]
    },
    {
     "name": "stderr",
     "output_type": "stream",
     "text": [
      "[I 2019-04-17 16:39:11,470] Finished a trial resulted in value: 0.3110616046608925. Current best value is 0.029256039912708795 with parameters: {'a': 0.51980817295006, 'b': 0.5176155020810741, 'ab': [0.51980817295006, 0.5176155020810741]}.\n"
     ]
    },
    {
     "name": "stdout",
     "output_type": "stream",
     "text": [
      "sampling end!. 2019-04-17 16:39:11.471904 2019-04-17 16:39:11.472416\n"
     ]
    },
    {
     "name": "stderr",
     "output_type": "stream",
     "text": [
      "[I 2019-04-17 16:39:12,477] Finished a trial resulted in value: 0.03581086463714847. Current best value is 0.029256039912708795 with parameters: {'a': 0.51980817295006, 'b': 0.5176155020810741, 'ab': [0.51980817295006, 0.5176155020810741]}.\n"
     ]
    },
    {
     "name": "stdout",
     "output_type": "stream",
     "text": [
      "sampling end!. 2019-04-17 16:39:12.479026 2019-04-17 16:39:12.479662\n"
     ]
    },
    {
     "name": "stderr",
     "output_type": "stream",
     "text": [
      "[I 2019-04-17 16:39:13,484] Finished a trial resulted in value: 0.19759794715538576. Current best value is 0.029256039912708795 with parameters: {'a': 0.51980817295006, 'b': 0.5176155020810741, 'ab': [0.51980817295006, 0.5176155020810741]}.\n"
     ]
    },
    {
     "name": "stdout",
     "output_type": "stream",
     "text": [
      "sampling end!. 2019-04-17 16:39:13.486860 2019-04-17 16:39:13.487856\n"
     ]
    },
    {
     "name": "stderr",
     "output_type": "stream",
     "text": [
      "[I 2019-04-17 16:39:14,493] Finished a trial resulted in value: 0.007711063699429019. Current best value is 0.007711063699429019 with parameters: {'a': 0.9192314348278838, 'b': 0.3044681432203098, 'ab': [0.9192314348278838, 0.3044681432203098]}.\n"
     ]
    },
    {
     "name": "stdout",
     "output_type": "stream",
     "text": [
      "The set cost function is ignored! LCB acquisition does not make sense with cost.\n",
      "ab\n"
     ]
    },
    {
     "name": "stderr",
     "output_type": "stream",
     "text": [
      "reconstraining parameters GP_regression.mul\n",
      "reconstraining parameters GP_regression.Gaussian_noise.variance\n"
     ]
    },
    {
     "name": "stdout",
     "output_type": "stream",
     "text": [
      "sampling end!. 2019-04-17 16:39:14.495066 2019-04-17 16:39:30.153661\n"
     ]
    },
    {
     "name": "stderr",
     "output_type": "stream",
     "text": [
      "[I 2019-04-17 16:39:31,157] Finished a trial resulted in value: 0.16102750000954458. Current best value is 0.007711063699429019 with parameters: {'a': 0.9192314348278838, 'b': 0.3044681432203098, 'ab': [0.9192314348278838, 0.3044681432203098]}.\n"
     ]
    },
    {
     "name": "stdout",
     "output_type": "stream",
     "text": [
      "The set cost function is ignored! LCB acquisition does not make sense with cost.\n",
      "ab\n"
     ]
    },
    {
     "name": "stderr",
     "output_type": "stream",
     "text": [
      "reconstraining parameters GP_regression.mul\n",
      "reconstraining parameters GP_regression.Gaussian_noise.variance\n"
     ]
    },
    {
     "name": "stdout",
     "output_type": "stream",
     "text": [
      "sampling end!. 2019-04-17 16:39:31.159389 2019-04-17 16:39:43.186993\n"
     ]
    },
    {
     "name": "stderr",
     "output_type": "stream",
     "text": [
      "[I 2019-04-17 16:39:44,190] Finished a trial resulted in value: 0.03070250370368277. Current best value is 0.007711063699429019 with parameters: {'a': 0.9192314348278838, 'b': 0.3044681432203098, 'ab': [0.9192314348278838, 0.3044681432203098]}.\n"
     ]
    },
    {
     "name": "stdout",
     "output_type": "stream",
     "text": [
      "The set cost function is ignored! LCB acquisition does not make sense with cost.\n",
      "ab\n"
     ]
    },
    {
     "name": "stderr",
     "output_type": "stream",
     "text": [
      "reconstraining parameters GP_regression.mul\n",
      "reconstraining parameters GP_regression.Gaussian_noise.variance\n"
     ]
    },
    {
     "name": "stdout",
     "output_type": "stream",
     "text": [
      "sampling end!. 2019-04-17 16:39:44.193066 2019-04-17 16:40:00.555638\n"
     ]
    },
    {
     "name": "stderr",
     "output_type": "stream",
     "text": [
      "[I 2019-04-17 16:40:01,560] Finished a trial resulted in value: 0.024484858256987208. Current best value is 0.007711063699429019 with parameters: {'a': 0.9192314348278838, 'b': 0.3044681432203098, 'ab': [0.9192314348278838, 0.3044681432203098]}.\n"
     ]
    },
    {
     "name": "stdout",
     "output_type": "stream",
     "text": [
      "The set cost function is ignored! LCB acquisition does not make sense with cost.\n",
      "ab\n"
     ]
    },
    {
     "name": "stderr",
     "output_type": "stream",
     "text": [
      "reconstraining parameters GP_regression.mul\n",
      "reconstraining parameters GP_regression.Gaussian_noise.variance\n"
     ]
    },
    {
     "name": "stdout",
     "output_type": "stream",
     "text": [
      "sampling end!. 2019-04-17 16:40:01.562534 2019-04-17 16:40:18.144937\n"
     ]
    },
    {
     "name": "stderr",
     "output_type": "stream",
     "text": [
      "[I 2019-04-17 16:40:19,152] Finished a trial resulted in value: 0.005436875074228308. Current best value is 0.005436875074228308 with parameters: {'a': 0.0, 'b': 1.0, 'ab': [0.0, 1.0]}.\n"
     ]
    },
    {
     "name": "stdout",
     "output_type": "stream",
     "text": [
      "The set cost function is ignored! LCB acquisition does not make sense with cost.\n",
      "ab\n"
     ]
    },
    {
     "name": "stderr",
     "output_type": "stream",
     "text": [
      "reconstraining parameters GP_regression.mul\n",
      "reconstraining parameters GP_regression.Gaussian_noise.variance\n"
     ]
    },
    {
     "name": "stdout",
     "output_type": "stream",
     "text": [
      "sampling end!. 2019-04-17 16:40:19.154774 2019-04-17 16:40:32.638836\n"
     ]
    },
    {
     "name": "stderr",
     "output_type": "stream",
     "text": [
      "[I 2019-04-17 16:40:33,643] Finished a trial resulted in value: -0.11410740522866768. Current best value is -0.11410740522866768 with parameters: {'a': 0.0, 'b': 1.0, 'ab': [0.0, 1.0]}.\n"
     ]
    },
    {
     "name": "stdout",
     "output_type": "stream",
     "text": [
      "The set cost function is ignored! LCB acquisition does not make sense with cost.\n",
      "ab\n"
     ]
    },
    {
     "name": "stderr",
     "output_type": "stream",
     "text": [
      "reconstraining parameters GP_regression.mul\n",
      "reconstraining parameters GP_regression.Gaussian_noise.variance\n"
     ]
    },
    {
     "name": "stdout",
     "output_type": "stream",
     "text": [
      "sampling end!. 2019-04-17 16:40:33.645859 2019-04-17 16:40:45.070778\n"
     ]
    },
    {
     "name": "stderr",
     "output_type": "stream",
     "text": [
      "[I 2019-04-17 16:40:46,073] Finished a trial resulted in value: -0.14981012198893592. Current best value is -0.14981012198893592 with parameters: {'a': 0.0, 'b': 0.9999364972147174, 'ab': [0.0, 0.9999364972147174]}.\n"
     ]
    },
    {
     "name": "stdout",
     "output_type": "stream",
     "text": [
      "The set cost function is ignored! LCB acquisition does not make sense with cost.\n",
      "ab\n"
     ]
    },
    {
     "name": "stderr",
     "output_type": "stream",
     "text": [
      "reconstraining parameters GP_regression.mul\n",
      "reconstraining parameters GP_regression.Gaussian_noise.variance\n"
     ]
    },
    {
     "name": "stdout",
     "output_type": "stream",
     "text": [
      "sampling end!. 2019-04-17 16:40:46.076254 2019-04-17 16:41:01.135027\n"
     ]
    },
    {
     "name": "stderr",
     "output_type": "stream",
     "text": [
      "[I 2019-04-17 16:41:02,139] Finished a trial resulted in value: -0.12495272853320649. Current best value is -0.14981012198893592 with parameters: {'a': 0.0, 'b': 0.9999364972147174, 'ab': [0.0, 0.9999364972147174]}.\n"
     ]
    },
    {
     "name": "stdout",
     "output_type": "stream",
     "text": [
      "The set cost function is ignored! LCB acquisition does not make sense with cost.\n",
      "ab\n"
     ]
    },
    {
     "name": "stderr",
     "output_type": "stream",
     "text": [
      "reconstraining parameters GP_regression.mul\n",
      "reconstraining parameters GP_regression.Gaussian_noise.variance\n"
     ]
    },
    {
     "name": "stdout",
     "output_type": "stream",
     "text": [
      "sampling end!. 2019-04-17 16:41:02.143428 2019-04-17 16:41:16.856337\n"
     ]
    },
    {
     "name": "stderr",
     "output_type": "stream",
     "text": [
      "[I 2019-04-17 16:41:17,864] Finished a trial resulted in value: -0.20560348904924786. Current best value is -0.20560348904924786 with parameters: {'a': 0.0, 'b': 1.0, 'ab': [0.0, 1.0]}.\n"
     ]
    },
    {
     "name": "stdout",
     "output_type": "stream",
     "text": [
      "The set cost function is ignored! LCB acquisition does not make sense with cost.\n",
      "ab\n"
     ]
    },
    {
     "name": "stderr",
     "output_type": "stream",
     "text": [
      "reconstraining parameters GP_regression.mul\n",
      "reconstraining parameters GP_regression.Gaussian_noise.variance\n"
     ]
    },
    {
     "name": "stdout",
     "output_type": "stream",
     "text": [
      "sampling end!. 2019-04-17 16:41:17.866526 2019-04-17 16:41:29.198678\n"
     ]
    },
    {
     "name": "stderr",
     "output_type": "stream",
     "text": [
      "[I 2019-04-17 16:41:30,202] Finished a trial resulted in value: -0.1624121965536517. Current best value is -0.20560348904924786 with parameters: {'a': 0.0, 'b': 1.0, 'ab': [0.0, 1.0]}.\n"
     ]
    },
    {
     "name": "stdout",
     "output_type": "stream",
     "text": [
      "The set cost function is ignored! LCB acquisition does not make sense with cost.\n",
      "ab\n"
     ]
    },
    {
     "name": "stderr",
     "output_type": "stream",
     "text": [
      "reconstraining parameters GP_regression.mul\n",
      "reconstraining parameters GP_regression.Gaussian_noise.variance\n"
     ]
    },
    {
     "name": "stdout",
     "output_type": "stream",
     "text": [
      "sampling end!. 2019-04-17 16:41:30.204146 2019-04-17 16:41:42.368623\n"
     ]
    },
    {
     "name": "stderr",
     "output_type": "stream",
     "text": [
      "[I 2019-04-17 16:41:43,372] Finished a trial resulted in value: -0.02525429884874006. Current best value is -0.20560348904924786 with parameters: {'a': 0.0, 'b': 1.0, 'ab': [0.0, 1.0]}.\n"
     ]
    },
    {
     "name": "stdout",
     "output_type": "stream",
     "text": [
      "The set cost function is ignored! LCB acquisition does not make sense with cost.\n",
      "ab\n"
     ]
    },
    {
     "name": "stderr",
     "output_type": "stream",
     "text": [
      "reconstraining parameters GP_regression.mul\n",
      "reconstraining parameters GP_regression.Gaussian_noise.variance\n"
     ]
    },
    {
     "name": "stdout",
     "output_type": "stream",
     "text": [
      "sampling end!. 2019-04-17 16:41:43.374225 2019-04-17 16:41:56.486692\n"
     ]
    },
    {
     "name": "stderr",
     "output_type": "stream",
     "text": [
      "[I 2019-04-17 16:41:57,493] Finished a trial resulted in value: -0.24072577823343833. Current best value is -0.24072577823343833 with parameters: {'a': 0.0, 'b': 1.0, 'ab': [0.0, 1.0]}.\n"
     ]
    },
    {
     "name": "stdout",
     "output_type": "stream",
     "text": [
      "The set cost function is ignored! LCB acquisition does not make sense with cost.\n",
      "ab\n"
     ]
    },
    {
     "name": "stderr",
     "output_type": "stream",
     "text": [
      "reconstraining parameters GP_regression.mul\n",
      "reconstraining parameters GP_regression.Gaussian_noise.variance\n"
     ]
    },
    {
     "name": "stdout",
     "output_type": "stream",
     "text": [
      "sampling end!. 2019-04-17 16:41:57.495198 2019-04-17 16:42:11.354250\n"
     ]
    },
    {
     "name": "stderr",
     "output_type": "stream",
     "text": [
      "[I 2019-04-17 16:42:12,357] Finished a trial resulted in value: -0.2643522676793506. Current best value is -0.2643522676793506 with parameters: {'a': 0.0, 'b': 1.0, 'ab': [0.0, 1.0]}.\n"
     ]
    },
    {
     "name": "stdout",
     "output_type": "stream",
     "text": [
      "The set cost function is ignored! LCB acquisition does not make sense with cost.\n",
      "ab\n"
     ]
    },
    {
     "name": "stderr",
     "output_type": "stream",
     "text": [
      "reconstraining parameters GP_regression.mul\n",
      "reconstraining parameters GP_regression.Gaussian_noise.variance\n"
     ]
    },
    {
     "name": "stdout",
     "output_type": "stream",
     "text": [
      "sampling end!. 2019-04-17 16:42:12.359587 2019-04-17 16:42:23.974473\n"
     ]
    },
    {
     "name": "stderr",
     "output_type": "stream",
     "text": [
      "[I 2019-04-17 16:42:24,979] Finished a trial resulted in value: -0.38345098658743. Current best value is -0.38345098658743 with parameters: {'a': 0.0, 'b': 1.0, 'ab': [0.0, 1.0]}.\n"
     ]
    },
    {
     "name": "stdout",
     "output_type": "stream",
     "text": [
      "The set cost function is ignored! LCB acquisition does not make sense with cost.\n",
      "ab\n"
     ]
    },
    {
     "name": "stderr",
     "output_type": "stream",
     "text": [
      "reconstraining parameters GP_regression.mul\n",
      "reconstraining parameters GP_regression.Gaussian_noise.variance\n"
     ]
    },
    {
     "name": "stdout",
     "output_type": "stream",
     "text": [
      "sampling end!. 2019-04-17 16:42:24.982300 2019-04-17 16:42:37.195280\n"
     ]
    },
    {
     "name": "stderr",
     "output_type": "stream",
     "text": [
      "[I 2019-04-17 16:42:38,200] Finished a trial resulted in value: -0.30688180460472264. Current best value is -0.38345098658743 with parameters: {'a': 0.0, 'b': 1.0, 'ab': [0.0, 1.0]}.\n"
     ]
    },
    {
     "name": "stdout",
     "output_type": "stream",
     "text": [
      "The set cost function is ignored! LCB acquisition does not make sense with cost.\n",
      "ab\n"
     ]
    },
    {
     "name": "stderr",
     "output_type": "stream",
     "text": [
      "reconstraining parameters GP_regression.mul\n",
      "reconstraining parameters GP_regression.Gaussian_noise.variance\n"
     ]
    },
    {
     "name": "stdout",
     "output_type": "stream",
     "text": [
      "sampling end!. 2019-04-17 16:42:38.203109 2019-04-17 16:42:50.311902\n"
     ]
    },
    {
     "name": "stderr",
     "output_type": "stream",
     "text": [
      "[I 2019-04-17 16:42:51,319] Finished a trial resulted in value: -0.2161615667588378. Current best value is -0.38345098658743 with parameters: {'a': 0.0, 'b': 1.0, 'ab': [0.0, 1.0]}.\n"
     ]
    },
    {
     "name": "stdout",
     "output_type": "stream",
     "text": [
      "The set cost function is ignored! LCB acquisition does not make sense with cost.\n",
      "ab\n"
     ]
    },
    {
     "name": "stderr",
     "output_type": "stream",
     "text": [
      "reconstraining parameters GP_regression.mul\n",
      "reconstraining parameters GP_regression.Gaussian_noise.variance\n"
     ]
    },
    {
     "name": "stdout",
     "output_type": "stream",
     "text": [
      "sampling end!. 2019-04-17 16:42:51.321791 2019-04-17 16:43:04.552649\n"
     ]
    },
    {
     "name": "stderr",
     "output_type": "stream",
     "text": [
      "[I 2019-04-17 16:43:05,556] Finished a trial resulted in value: -0.4836644801977632. Current best value is -0.4836644801977632 with parameters: {'a': 0.0, 'b': 1.0, 'ab': [0.0, 1.0]}.\n"
     ]
    },
    {
     "name": "stdout",
     "output_type": "stream",
     "text": [
      "The set cost function is ignored! LCB acquisition does not make sense with cost.\n",
      "ab\n"
     ]
    },
    {
     "name": "stderr",
     "output_type": "stream",
     "text": [
      "reconstraining parameters GP_regression.mul\n",
      "reconstraining parameters GP_regression.Gaussian_noise.variance\n"
     ]
    },
    {
     "name": "stdout",
     "output_type": "stream",
     "text": [
      "sampling end!. 2019-04-17 16:43:05.558322 2019-04-17 16:43:17.280198\n"
     ]
    },
    {
     "name": "stderr",
     "output_type": "stream",
     "text": [
      "[I 2019-04-17 16:43:18,286] Finished a trial resulted in value: -0.42757569349182567. Current best value is -0.4836644801977632 with parameters: {'a': 0.0, 'b': 1.0, 'ab': [0.0, 1.0]}.\n"
     ]
    },
    {
     "name": "stdout",
     "output_type": "stream",
     "text": [
      "The set cost function is ignored! LCB acquisition does not make sense with cost.\n",
      "ab\n"
     ]
    },
    {
     "name": "stderr",
     "output_type": "stream",
     "text": [
      "reconstraining parameters GP_regression.mul\n",
      "reconstraining parameters GP_regression.Gaussian_noise.variance\n"
     ]
    },
    {
     "name": "stdout",
     "output_type": "stream",
     "text": [
      "sampling end!. 2019-04-17 16:43:18.288336 2019-04-17 16:43:30.175139\n"
     ]
    },
    {
     "name": "stderr",
     "output_type": "stream",
     "text": [
      "[I 2019-04-17 16:43:31,179] Finished a trial resulted in value: -0.38175335825893725. Current best value is -0.4836644801977632 with parameters: {'a': 0.0, 'b': 1.0, 'ab': [0.0, 1.0]}.\n"
     ]
    },
    {
     "name": "stdout",
     "output_type": "stream",
     "text": [
      "The set cost function is ignored! LCB acquisition does not make sense with cost.\n",
      "ab\n"
     ]
    },
    {
     "name": "stderr",
     "output_type": "stream",
     "text": [
      "reconstraining parameters GP_regression.mul\n",
      "reconstraining parameters GP_regression.Gaussian_noise.variance\n"
     ]
    },
    {
     "name": "stdout",
     "output_type": "stream",
     "text": [
      "sampling end!. 2019-04-17 16:43:31.181246 2019-04-17 16:43:43.702693\n"
     ]
    },
    {
     "name": "stderr",
     "output_type": "stream",
     "text": [
      "[I 2019-04-17 16:43:44,707] Finished a trial resulted in value: -0.35579214904075207. Current best value is -0.4836644801977632 with parameters: {'a': 0.0, 'b': 1.0, 'ab': [0.0, 1.0]}.\n"
     ]
    },
    {
     "name": "stdout",
     "output_type": "stream",
     "text": [
      "The set cost function is ignored! LCB acquisition does not make sense with cost.\n",
      "ab\n"
     ]
    },
    {
     "name": "stderr",
     "output_type": "stream",
     "text": [
      "reconstraining parameters GP_regression.mul\n",
      "reconstraining parameters GP_regression.Gaussian_noise.variance\n"
     ]
    },
    {
     "name": "stdout",
     "output_type": "stream",
     "text": [
      "sampling end!. 2019-04-17 16:43:44.709773 2019-04-17 16:43:57.120453\n"
     ]
    },
    {
     "name": "stderr",
     "output_type": "stream",
     "text": [
      "[I 2019-04-17 16:43:58,130] Finished a trial resulted in value: -0.2768239699111865. Current best value is -0.4836644801977632 with parameters: {'a': 0.0, 'b': 1.0, 'ab': [0.0, 1.0]}.\n"
     ]
    },
    {
     "name": "stdout",
     "output_type": "stream",
     "text": [
      "The set cost function is ignored! LCB acquisition does not make sense with cost.\n",
      "ab\n"
     ]
    },
    {
     "name": "stderr",
     "output_type": "stream",
     "text": [
      "reconstraining parameters GP_regression.mul\n",
      "reconstraining parameters GP_regression.Gaussian_noise.variance\n"
     ]
    },
    {
     "name": "stdout",
     "output_type": "stream",
     "text": [
      "sampling end!. 2019-04-17 16:43:58.132992 2019-04-17 16:44:09.401115\n"
     ]
    },
    {
     "name": "stderr",
     "output_type": "stream",
     "text": [
      "[I 2019-04-17 16:44:10,410] Finished a trial resulted in value: -0.26080041515152896. Current best value is -0.4836644801977632 with parameters: {'a': 0.0, 'b': 1.0, 'ab': [0.0, 1.0]}.\n"
     ]
    },
    {
     "name": "stdout",
     "output_type": "stream",
     "text": [
      "The set cost function is ignored! LCB acquisition does not make sense with cost.\n",
      "ab\n"
     ]
    },
    {
     "name": "stderr",
     "output_type": "stream",
     "text": [
      "reconstraining parameters GP_regression.mul\n",
      "reconstraining parameters GP_regression.Gaussian_noise.variance\n"
     ]
    },
    {
     "name": "stdout",
     "output_type": "stream",
     "text": [
      "sampling end!. 2019-04-17 16:44:10.412708 2019-04-17 16:44:23.103430\n"
     ]
    },
    {
     "name": "stderr",
     "output_type": "stream",
     "text": [
      "[I 2019-04-17 16:44:24,112] Finished a trial resulted in value: -0.11680503986759358. Current best value is -0.4836644801977632 with parameters: {'a': 0.0, 'b': 1.0, 'ab': [0.0, 1.0]}.\n"
     ]
    },
    {
     "name": "stdout",
     "output_type": "stream",
     "text": [
      "The set cost function is ignored! LCB acquisition does not make sense with cost.\n",
      "ab\n"
     ]
    },
    {
     "name": "stderr",
     "output_type": "stream",
     "text": [
      "reconstraining parameters GP_regression.mul\n",
      "reconstraining parameters GP_regression.Gaussian_noise.variance\n"
     ]
    },
    {
     "name": "stdout",
     "output_type": "stream",
     "text": [
      "sampling end!. 2019-04-17 16:44:24.114590 2019-04-17 16:44:35.137878\n"
     ]
    },
    {
     "name": "stderr",
     "output_type": "stream",
     "text": [
      "[I 2019-04-17 16:44:36,145] Finished a trial resulted in value: -0.12992940435563405. Current best value is -0.4836644801977632 with parameters: {'a': 0.0, 'b': 1.0, 'ab': [0.0, 1.0]}.\n"
     ]
    },
    {
     "name": "stdout",
     "output_type": "stream",
     "text": [
      "The set cost function is ignored! LCB acquisition does not make sense with cost.\n",
      "ab\n"
     ]
    },
    {
     "name": "stderr",
     "output_type": "stream",
     "text": [
      "reconstraining parameters GP_regression.mul\n",
      "reconstraining parameters GP_regression.Gaussian_noise.variance\n"
     ]
    },
    {
     "name": "stdout",
     "output_type": "stream",
     "text": [
      "sampling end!. 2019-04-17 16:44:36.147386 2019-04-17 16:44:50.503702\n"
     ]
    },
    {
     "name": "stderr",
     "output_type": "stream",
     "text": [
      "[I 2019-04-17 16:44:51,509] Finished a trial resulted in value: -0.6891831728946654. Current best value is -0.6891831728946654 with parameters: {'a': 0.0, 'b': 0.3694540802521487, 'ab': [0.0, 0.3694540802521487]}.\n"
     ]
    },
    {
     "name": "stdout",
     "output_type": "stream",
     "text": [
      "The set cost function is ignored! LCB acquisition does not make sense with cost.\n",
      "ab\n"
     ]
    },
    {
     "name": "stderr",
     "output_type": "stream",
     "text": [
      "reconstraining parameters GP_regression.mul\n",
      "reconstraining parameters GP_regression.Gaussian_noise.variance\n"
     ]
    },
    {
     "name": "stdout",
     "output_type": "stream",
     "text": [
      "sampling end!. 2019-04-17 16:44:51.514136 2019-04-17 16:45:05.233171\n"
     ]
    },
    {
     "name": "stderr",
     "output_type": "stream",
     "text": [
      "[I 2019-04-17 16:45:06,238] Finished a trial resulted in value: -0.8816675697013427. Current best value is -0.8816675697013427 with parameters: {'a': 0.0, 'b': 0.2831493981016603, 'ab': [0.0, 0.2831493981016603]}.\n"
     ]
    },
    {
     "name": "stdout",
     "output_type": "stream",
     "text": [
      "The set cost function is ignored! LCB acquisition does not make sense with cost.\n",
      "ab\n"
     ]
    },
    {
     "name": "stderr",
     "output_type": "stream",
     "text": [
      "reconstraining parameters GP_regression.mul\n",
      "reconstraining parameters GP_regression.Gaussian_noise.variance\n"
     ]
    },
    {
     "name": "stdout",
     "output_type": "stream",
     "text": [
      "sampling end!. 2019-04-17 16:45:06.240768 2019-04-17 16:45:19.526099\n"
     ]
    },
    {
     "name": "stderr",
     "output_type": "stream",
     "text": [
      "[I 2019-04-17 16:45:20,531] Finished a trial resulted in value: -0.7504693392536658. Current best value is -0.8816675697013427 with parameters: {'a': 0.0, 'b': 0.2831493981016603, 'ab': [0.0, 0.2831493981016603]}.\n"
     ]
    },
    {
     "name": "stdout",
     "output_type": "stream",
     "text": [
      "The set cost function is ignored! LCB acquisition does not make sense with cost.\n",
      "ab\n"
     ]
    },
    {
     "name": "stderr",
     "output_type": "stream",
     "text": [
      "reconstraining parameters GP_regression.mul\n",
      "reconstraining parameters GP_regression.Gaussian_noise.variance\n"
     ]
    },
    {
     "name": "stdout",
     "output_type": "stream",
     "text": [
      "sampling end!. 2019-04-17 16:45:20.533668 2019-04-17 16:45:35.599915\n"
     ]
    },
    {
     "name": "stderr",
     "output_type": "stream",
     "text": [
      "[I 2019-04-17 16:45:36,607] Finished a trial resulted in value: -0.5749894182593978. Current best value is -0.8816675697013427 with parameters: {'a': 0.0, 'b': 0.2831493981016603, 'ab': [0.0, 0.2831493981016603]}.\n"
     ]
    },
    {
     "name": "stdout",
     "output_type": "stream",
     "text": [
      "The set cost function is ignored! LCB acquisition does not make sense with cost.\n",
      "ab\n"
     ]
    },
    {
     "name": "stderr",
     "output_type": "stream",
     "text": [
      "reconstraining parameters GP_regression.mul\n",
      "reconstraining parameters GP_regression.Gaussian_noise.variance\n"
     ]
    },
    {
     "name": "stdout",
     "output_type": "stream",
     "text": [
      "sampling end!. 2019-04-17 16:45:36.609359 2019-04-17 16:45:51.102214\n"
     ]
    },
    {
     "name": "stderr",
     "output_type": "stream",
     "text": [
      "[I 2019-04-17 16:45:52,108] Finished a trial resulted in value: -0.5205307812962562. Current best value is -0.8816675697013427 with parameters: {'a': 0.0, 'b': 0.2831493981016603, 'ab': [0.0, 0.2831493981016603]}.\n"
     ]
    },
    {
     "name": "stdout",
     "output_type": "stream",
     "text": [
      "The set cost function is ignored! LCB acquisition does not make sense with cost.\n",
      "ab\n"
     ]
    },
    {
     "name": "stderr",
     "output_type": "stream",
     "text": [
      "reconstraining parameters GP_regression.mul\n",
      "reconstraining parameters GP_regression.Gaussian_noise.variance\n"
     ]
    },
    {
     "name": "stdout",
     "output_type": "stream",
     "text": [
      "sampling end!. 2019-04-17 16:45:52.110630 2019-04-17 16:46:07.833907\n"
     ]
    },
    {
     "name": "stderr",
     "output_type": "stream",
     "text": [
      "[I 2019-04-17 16:46:08,841] Finished a trial resulted in value: -0.5198082480928834. Current best value is -0.8816675697013427 with parameters: {'a': 0.0, 'b': 0.2831493981016603, 'ab': [0.0, 0.2831493981016603]}.\n"
     ]
    },
    {
     "name": "stdout",
     "output_type": "stream",
     "text": [
      "The set cost function is ignored! LCB acquisition does not make sense with cost.\n",
      "ab\n"
     ]
    },
    {
     "name": "stderr",
     "output_type": "stream",
     "text": [
      "reconstraining parameters GP_regression.mul\n",
      "reconstraining parameters GP_regression.Gaussian_noise.variance\n"
     ]
    },
    {
     "name": "stdout",
     "output_type": "stream",
     "text": [
      "sampling end!. 2019-04-17 16:46:08.843908 2019-04-17 16:46:24.270713\n"
     ]
    },
    {
     "name": "stderr",
     "output_type": "stream",
     "text": [
      "[I 2019-04-17 16:46:25,277] Finished a trial resulted in value: 0.07536921027558509. Current best value is -0.8816675697013427 with parameters: {'a': 0.0, 'b': 0.2831493981016603, 'ab': [0.0, 0.2831493981016603]}.\n"
     ]
    },
    {
     "name": "stdout",
     "output_type": "stream",
     "text": [
      "The set cost function is ignored! LCB acquisition does not make sense with cost.\n",
      "ab\n"
     ]
    },
    {
     "name": "stderr",
     "output_type": "stream",
     "text": [
      "reconstraining parameters GP_regression.mul\n",
      "reconstraining parameters GP_regression.Gaussian_noise.variance\n"
     ]
    },
    {
     "name": "stdout",
     "output_type": "stream",
     "text": [
      "sampling end!. 2019-04-17 16:46:25.280363 2019-04-17 16:46:37.736900\n"
     ]
    },
    {
     "name": "stderr",
     "output_type": "stream",
     "text": [
      "[I 2019-04-17 16:46:38,746] Finished a trial resulted in value: 0.53488446519091. Current best value is -0.8816675697013427 with parameters: {'a': 0.0, 'b': 0.2831493981016603, 'ab': [0.0, 0.2831493981016603]}.\n"
     ]
    },
    {
     "name": "stdout",
     "output_type": "stream",
     "text": [
      "The set cost function is ignored! LCB acquisition does not make sense with cost.\n",
      "ab\n"
     ]
    },
    {
     "name": "stderr",
     "output_type": "stream",
     "text": [
      "reconstraining parameters GP_regression.mul\n",
      "reconstraining parameters GP_regression.Gaussian_noise.variance\n"
     ]
    },
    {
     "name": "stdout",
     "output_type": "stream",
     "text": [
      "sampling end!. 2019-04-17 16:46:38.748289 2019-04-17 16:46:53.603461\n"
     ]
    },
    {
     "name": "stderr",
     "output_type": "stream",
     "text": [
      "[I 2019-04-17 16:46:54,611] Finished a trial resulted in value: 0.25346749471131397. Current best value is -0.8816675697013427 with parameters: {'a': 0.0, 'b': 0.2831493981016603, 'ab': [0.0, 0.2831493981016603]}.\n"
     ]
    },
    {
     "name": "stdout",
     "output_type": "stream",
     "text": [
      "The set cost function is ignored! LCB acquisition does not make sense with cost.\n",
      "ab\n"
     ]
    },
    {
     "name": "stderr",
     "output_type": "stream",
     "text": [
      "reconstraining parameters GP_regression.mul\n",
      "reconstraining parameters GP_regression.Gaussian_noise.variance\n"
     ]
    },
    {
     "name": "stdout",
     "output_type": "stream",
     "text": [
      "sampling end!. 2019-04-17 16:46:54.613252 2019-04-17 16:47:05.588630\n"
     ]
    },
    {
     "name": "stderr",
     "output_type": "stream",
     "text": [
      "[I 2019-04-17 16:47:06,600] Finished a trial resulted in value: 0.5042997019478115. Current best value is -0.8816675697013427 with parameters: {'a': 0.0, 'b': 0.2831493981016603, 'ab': [0.0, 0.2831493981016603]}.\n"
     ]
    },
    {
     "name": "stdout",
     "output_type": "stream",
     "text": [
      "The set cost function is ignored! LCB acquisition does not make sense with cost.\n",
      "ab\n"
     ]
    },
    {
     "name": "stderr",
     "output_type": "stream",
     "text": [
      "reconstraining parameters GP_regression.mul\n",
      "reconstraining parameters GP_regression.Gaussian_noise.variance\n"
     ]
    },
    {
     "name": "stdout",
     "output_type": "stream",
     "text": [
      "sampling end!. 2019-04-17 16:47:06.602342 2019-04-17 16:47:17.529391\n"
     ]
    },
    {
     "name": "stderr",
     "output_type": "stream",
     "text": [
      "[I 2019-04-17 16:47:18,538] Finished a trial resulted in value: 0.48742847979834514. Current best value is -0.8816675697013427 with parameters: {'a': 0.0, 'b': 0.2831493981016603, 'ab': [0.0, 0.2831493981016603]}.\n"
     ]
    },
    {
     "name": "stdout",
     "output_type": "stream",
     "text": [
      "The set cost function is ignored! LCB acquisition does not make sense with cost.\n",
      "ab\n"
     ]
    },
    {
     "name": "stderr",
     "output_type": "stream",
     "text": [
      "reconstraining parameters GP_regression.mul\n",
      "reconstraining parameters GP_regression.Gaussian_noise.variance\n"
     ]
    },
    {
     "name": "stdout",
     "output_type": "stream",
     "text": [
      "sampling end!. 2019-04-17 16:47:18.539968 2019-04-17 16:47:30.047756\n"
     ]
    },
    {
     "name": "stderr",
     "output_type": "stream",
     "text": [
      "[I 2019-04-17 16:47:31,060] Finished a trial resulted in value: -0.0292819019631602. Current best value is -0.8816675697013427 with parameters: {'a': 0.0, 'b': 0.2831493981016603, 'ab': [0.0, 0.2831493981016603]}.\n"
     ]
    },
    {
     "name": "stdout",
     "output_type": "stream",
     "text": [
      "The set cost function is ignored! LCB acquisition does not make sense with cost.\n",
      "ab\n"
     ]
    },
    {
     "name": "stderr",
     "output_type": "stream",
     "text": [
      "reconstraining parameters GP_regression.mul\n",
      "reconstraining parameters GP_regression.Gaussian_noise.variance\n"
     ]
    },
    {
     "name": "stdout",
     "output_type": "stream",
     "text": [
      "sampling end!. 2019-04-17 16:47:31.062755 2019-04-17 16:47:43.387500\n"
     ]
    },
    {
     "name": "stderr",
     "output_type": "stream",
     "text": [
      "[I 2019-04-17 16:47:44,400] Finished a trial resulted in value: -0.2357513879934709. Current best value is -0.8816675697013427 with parameters: {'a': 0.0, 'b': 0.2831493981016603, 'ab': [0.0, 0.2831493981016603]}.\n"
     ]
    },
    {
     "name": "stdout",
     "output_type": "stream",
     "text": [
      "The set cost function is ignored! LCB acquisition does not make sense with cost.\n",
      "ab\n"
     ]
    },
    {
     "name": "stderr",
     "output_type": "stream",
     "text": [
      "reconstraining parameters GP_regression.mul\n",
      "reconstraining parameters GP_regression.Gaussian_noise.variance\n"
     ]
    },
    {
     "name": "stdout",
     "output_type": "stream",
     "text": [
      "sampling end!. 2019-04-17 16:47:44.402818 2019-04-17 16:47:58.734093\n"
     ]
    },
    {
     "name": "stderr",
     "output_type": "stream",
     "text": [
      "[I 2019-04-17 16:47:59,747] Finished a trial resulted in value: -0.12469380494011614. Current best value is -0.8816675697013427 with parameters: {'a': 0.0, 'b': 0.2831493981016603, 'ab': [0.0, 0.2831493981016603]}.\n"
     ]
    },
    {
     "name": "stdout",
     "output_type": "stream",
     "text": [
      "The set cost function is ignored! LCB acquisition does not make sense with cost.\n",
      "ab\n"
     ]
    },
    {
     "name": "stderr",
     "output_type": "stream",
     "text": [
      "reconstraining parameters GP_regression.mul\n",
      "reconstraining parameters GP_regression.Gaussian_noise.variance\n"
     ]
    },
    {
     "name": "stdout",
     "output_type": "stream",
     "text": [
      "sampling end!. 2019-04-17 16:47:59.749661 2019-04-17 16:48:15.812224\n"
     ]
    },
    {
     "name": "stderr",
     "output_type": "stream",
     "text": [
      "[I 2019-04-17 16:48:16,822] Finished a trial resulted in value: -0.24848943281637953. Current best value is -0.8816675697013427 with parameters: {'a': 0.0, 'b': 0.2831493981016603, 'ab': [0.0, 0.2831493981016603]}.\n"
     ]
    },
    {
     "name": "stdout",
     "output_type": "stream",
     "text": [
      "The set cost function is ignored! LCB acquisition does not make sense with cost.\n",
      "ab\n"
     ]
    },
    {
     "name": "stderr",
     "output_type": "stream",
     "text": [
      "reconstraining parameters GP_regression.mul\n",
      "reconstraining parameters GP_regression.Gaussian_noise.variance\n"
     ]
    },
    {
     "name": "stdout",
     "output_type": "stream",
     "text": [
      "sampling end!. 2019-04-17 16:48:16.824423 2019-04-17 16:48:31.861282\n"
     ]
    },
    {
     "name": "stderr",
     "output_type": "stream",
     "text": [
      "[I 2019-04-17 16:48:32,872] Finished a trial resulted in value: -0.34705933621796253. Current best value is -0.8816675697013427 with parameters: {'a': 0.0, 'b': 0.2831493981016603, 'ab': [0.0, 0.2831493981016603]}.\n"
     ]
    },
    {
     "name": "stdout",
     "output_type": "stream",
     "text": [
      "The set cost function is ignored! LCB acquisition does not make sense with cost.\n",
      "ab\n"
     ]
    },
    {
     "name": "stderr",
     "output_type": "stream",
     "text": [
      "reconstraining parameters GP_regression.mul\n",
      "reconstraining parameters GP_regression.Gaussian_noise.variance\n"
     ]
    },
    {
     "name": "stdout",
     "output_type": "stream",
     "text": [
      "sampling end!. 2019-04-17 16:48:32.874270 2019-04-17 16:48:47.823184\n"
     ]
    },
    {
     "name": "stderr",
     "output_type": "stream",
     "text": [
      "[I 2019-04-17 16:48:48,838] Finished a trial resulted in value: -0.44271224213601784. Current best value is -0.8816675697013427 with parameters: {'a': 0.0, 'b': 0.2831493981016603, 'ab': [0.0, 0.2831493981016603]}.\n"
     ]
    },
    {
     "name": "stdout",
     "output_type": "stream",
     "text": [
      "The set cost function is ignored! LCB acquisition does not make sense with cost.\n",
      "ab\n"
     ]
    },
    {
     "name": "stderr",
     "output_type": "stream",
     "text": [
      "reconstraining parameters GP_regression.mul\n",
      "reconstraining parameters GP_regression.Gaussian_noise.variance\n"
     ]
    },
    {
     "name": "stdout",
     "output_type": "stream",
     "text": [
      "sampling end!. 2019-04-17 16:48:48.840597 2019-04-17 16:49:02.467720\n"
     ]
    },
    {
     "name": "stderr",
     "output_type": "stream",
     "text": [
      "[I 2019-04-17 16:49:03,474] Finished a trial resulted in value: -0.21826141743145355. Current best value is -0.8816675697013427 with parameters: {'a': 0.0, 'b': 0.2831493981016603, 'ab': [0.0, 0.2831493981016603]}.\n"
     ]
    },
    {
     "name": "stdout",
     "output_type": "stream",
     "text": [
      "The set cost function is ignored! LCB acquisition does not make sense with cost.\n",
      "ab\n"
     ]
    },
    {
     "name": "stderr",
     "output_type": "stream",
     "text": [
      "reconstraining parameters GP_regression.mul\n",
      "reconstraining parameters GP_regression.Gaussian_noise.variance\n"
     ]
    },
    {
     "name": "stdout",
     "output_type": "stream",
     "text": [
      "sampling end!. 2019-04-17 16:49:03.476864 2019-04-17 16:49:19.323299\n"
     ]
    },
    {
     "name": "stderr",
     "output_type": "stream",
     "text": [
      "[I 2019-04-17 16:49:20,339] Finished a trial resulted in value: -0.21092299895932026. Current best value is -0.8816675697013427 with parameters: {'a': 0.0, 'b': 0.2831493981016603, 'ab': [0.0, 0.2831493981016603]}.\n"
     ]
    },
    {
     "name": "stdout",
     "output_type": "stream",
     "text": [
      "The set cost function is ignored! LCB acquisition does not make sense with cost.\n",
      "ab\n"
     ]
    },
    {
     "name": "stderr",
     "output_type": "stream",
     "text": [
      "reconstraining parameters GP_regression.mul\n",
      "reconstraining parameters GP_regression.Gaussian_noise.variance\n"
     ]
    },
    {
     "name": "stdout",
     "output_type": "stream",
     "text": [
      "sampling end!. 2019-04-17 16:49:20.340879 2019-04-17 16:49:32.288038\n"
     ]
    },
    {
     "name": "stderr",
     "output_type": "stream",
     "text": [
      "[I 2019-04-17 16:49:33,295] Finished a trial resulted in value: 0.4313455552913459. Current best value is -0.8816675697013427 with parameters: {'a': 0.0, 'b': 0.2831493981016603, 'ab': [0.0, 0.2831493981016603]}.\n"
     ]
    },
    {
     "name": "stdout",
     "output_type": "stream",
     "text": [
      "The set cost function is ignored! LCB acquisition does not make sense with cost.\n",
      "ab\n"
     ]
    },
    {
     "name": "stderr",
     "output_type": "stream",
     "text": [
      "reconstraining parameters GP_regression.mul\n",
      "reconstraining parameters GP_regression.Gaussian_noise.variance\n"
     ]
    },
    {
     "name": "stdout",
     "output_type": "stream",
     "text": [
      "sampling end!. 2019-04-17 16:49:33.297198 2019-04-17 16:49:45.342055\n"
     ]
    },
    {
     "name": "stderr",
     "output_type": "stream",
     "text": [
      "[I 2019-04-17 16:49:46,351] Finished a trial resulted in value: -0.2685547565021812. Current best value is -0.8816675697013427 with parameters: {'a': 0.0, 'b': 0.2831493981016603, 'ab': [0.0, 0.2831493981016603]}.\n"
     ]
    },
    {
     "name": "stdout",
     "output_type": "stream",
     "text": [
      "The set cost function is ignored! LCB acquisition does not make sense with cost.\n",
      "ab\n"
     ]
    },
    {
     "name": "stderr",
     "output_type": "stream",
     "text": [
      "reconstraining parameters GP_regression.mul\n",
      "reconstraining parameters GP_regression.Gaussian_noise.variance\n"
     ]
    },
    {
     "name": "stdout",
     "output_type": "stream",
     "text": [
      "sampling end!. 2019-04-17 16:49:46.353357 2019-04-17 16:49:58.557850\n"
     ]
    },
    {
     "name": "stderr",
     "output_type": "stream",
     "text": [
      "[I 2019-04-17 16:49:59,574] Finished a trial resulted in value: -0.1402886058007144. Current best value is -0.8816675697013427 with parameters: {'a': 0.0, 'b': 0.2831493981016603, 'ab': [0.0, 0.2831493981016603]}.\n"
     ]
    },
    {
     "name": "stdout",
     "output_type": "stream",
     "text": [
      "The set cost function is ignored! LCB acquisition does not make sense with cost.\n",
      "ab\n"
     ]
    },
    {
     "name": "stderr",
     "output_type": "stream",
     "text": [
      "reconstraining parameters GP_regression.mul\n",
      "reconstraining parameters GP_regression.Gaussian_noise.variance\n"
     ]
    },
    {
     "name": "stdout",
     "output_type": "stream",
     "text": [
      "sampling end!. 2019-04-17 16:49:59.576641 2019-04-17 16:50:13.421090\n"
     ]
    },
    {
     "name": "stderr",
     "output_type": "stream",
     "text": [
      "[I 2019-04-17 16:50:14,430] Finished a trial resulted in value: -0.27593590694635856. Current best value is -0.8816675697013427 with parameters: {'a': 0.0, 'b': 0.2831493981016603, 'ab': [0.0, 0.2831493981016603]}.\n"
     ]
    },
    {
     "name": "stdout",
     "output_type": "stream",
     "text": [
      "The set cost function is ignored! LCB acquisition does not make sense with cost.\n",
      "ab\n"
     ]
    },
    {
     "name": "stderr",
     "output_type": "stream",
     "text": [
      "reconstraining parameters GP_regression.mul\n",
      "reconstraining parameters GP_regression.Gaussian_noise.variance\n"
     ]
    },
    {
     "name": "stdout",
     "output_type": "stream",
     "text": [
      "sampling end!. 2019-04-17 16:50:14.431841 2019-04-17 16:50:27.930388\n"
     ]
    },
    {
     "name": "stderr",
     "output_type": "stream",
     "text": [
      "[I 2019-04-17 16:50:28,939] Finished a trial resulted in value: -0.24012447727203434. Current best value is -0.8816675697013427 with parameters: {'a': 0.0, 'b': 0.2831493981016603, 'ab': [0.0, 0.2831493981016603]}.\n"
     ]
    },
    {
     "name": "stdout",
     "output_type": "stream",
     "text": [
      "The set cost function is ignored! LCB acquisition does not make sense with cost.\n",
      "ab\n"
     ]
    },
    {
     "name": "stderr",
     "output_type": "stream",
     "text": [
      "reconstraining parameters GP_regression.mul\n",
      "reconstraining parameters GP_regression.Gaussian_noise.variance\n"
     ]
    },
    {
     "name": "stdout",
     "output_type": "stream",
     "text": [
      "sampling end!. 2019-04-17 16:50:28.941558 2019-04-17 16:50:43.124528\n"
     ]
    },
    {
     "name": "stderr",
     "output_type": "stream",
     "text": [
      "[I 2019-04-17 16:50:44,139] Finished a trial resulted in value: -0.25371989912059834. Current best value is -0.8816675697013427 with parameters: {'a': 0.0, 'b': 0.2831493981016603, 'ab': [0.0, 0.2831493981016603]}.\n"
     ]
    },
    {
     "name": "stdout",
     "output_type": "stream",
     "text": [
      "The set cost function is ignored! LCB acquisition does not make sense with cost.\n",
      "ab\n"
     ]
    },
    {
     "name": "stderr",
     "output_type": "stream",
     "text": [
      "reconstraining parameters GP_regression.mul\n",
      "reconstraining parameters GP_regression.Gaussian_noise.variance\n"
     ]
    },
    {
     "name": "stdout",
     "output_type": "stream",
     "text": [
      "sampling end!. 2019-04-17 16:50:44.141891 2019-04-17 16:50:58.495085\n"
     ]
    },
    {
     "name": "stderr",
     "output_type": "stream",
     "text": [
      "[I 2019-04-17 16:50:59,504] Finished a trial resulted in value: -0.2582396911288159. Current best value is -0.8816675697013427 with parameters: {'a': 0.0, 'b': 0.2831493981016603, 'ab': [0.0, 0.2831493981016603]}.\n"
     ]
    },
    {
     "name": "stdout",
     "output_type": "stream",
     "text": [
      "The set cost function is ignored! LCB acquisition does not make sense with cost.\n",
      "ab\n"
     ]
    },
    {
     "name": "stderr",
     "output_type": "stream",
     "text": [
      "reconstraining parameters GP_regression.mul\n",
      "reconstraining parameters GP_regression.Gaussian_noise.variance\n"
     ]
    },
    {
     "name": "stdout",
     "output_type": "stream",
     "text": [
      "sampling end!. 2019-04-17 16:50:59.505963 2019-04-17 16:51:14.068279\n"
     ]
    },
    {
     "name": "stderr",
     "output_type": "stream",
     "text": [
      "[I 2019-04-17 16:51:15,086] Finished a trial resulted in value: -0.17818450334510033. Current best value is -0.8816675697013427 with parameters: {'a': 0.0, 'b': 0.2831493981016603, 'ab': [0.0, 0.2831493981016603]}.\n"
     ]
    },
    {
     "name": "stdout",
     "output_type": "stream",
     "text": [
      "The set cost function is ignored! LCB acquisition does not make sense with cost.\n",
      "ab\n"
     ]
    },
    {
     "name": "stderr",
     "output_type": "stream",
     "text": [
      "reconstraining parameters GP_regression.mul\n",
      "reconstraining parameters GP_regression.Gaussian_noise.variance\n"
     ]
    },
    {
     "name": "stdout",
     "output_type": "stream",
     "text": [
      "sampling end!. 2019-04-17 16:51:15.088545 2019-04-17 16:51:32.626952\n"
     ]
    },
    {
     "name": "stderr",
     "output_type": "stream",
     "text": [
      "[I 2019-04-17 16:51:33,640] Finished a trial resulted in value: 0.17403369194015705. Current best value is -0.8816675697013427 with parameters: {'a': 0.0, 'b': 0.2831493981016603, 'ab': [0.0, 0.2831493981016603]}.\n"
     ]
    },
    {
     "name": "stdout",
     "output_type": "stream",
     "text": [
      "The set cost function is ignored! LCB acquisition does not make sense with cost.\n",
      "ab\n"
     ]
    },
    {
     "name": "stderr",
     "output_type": "stream",
     "text": [
      "reconstraining parameters GP_regression.mul\n",
      "reconstraining parameters GP_regression.Gaussian_noise.variance\n"
     ]
    },
    {
     "name": "stdout",
     "output_type": "stream",
     "text": [
      "sampling end!. 2019-04-17 16:51:33.642415 2019-04-17 16:51:48.409357\n"
     ]
    },
    {
     "name": "stderr",
     "output_type": "stream",
     "text": [
      "[I 2019-04-17 16:51:49,423] Finished a trial resulted in value: -0.22988733152280932. Current best value is -0.8816675697013427 with parameters: {'a': 0.0, 'b': 0.2831493981016603, 'ab': [0.0, 0.2831493981016603]}.\n"
     ]
    },
    {
     "name": "stdout",
     "output_type": "stream",
     "text": [
      "The set cost function is ignored! LCB acquisition does not make sense with cost.\n",
      "ab\n"
     ]
    },
    {
     "name": "stderr",
     "output_type": "stream",
     "text": [
      "reconstraining parameters GP_regression.mul\n",
      "reconstraining parameters GP_regression.Gaussian_noise.variance\n"
     ]
    },
    {
     "name": "stdout",
     "output_type": "stream",
     "text": [
      "sampling end!. 2019-04-17 16:51:49.425937 2019-04-17 16:52:02.615513\n"
     ]
    },
    {
     "name": "stderr",
     "output_type": "stream",
     "text": [
      "[I 2019-04-17 16:52:03,623] Finished a trial resulted in value: 0.7011695774605935. Current best value is -0.8816675697013427 with parameters: {'a': 0.0, 'b': 0.2831493981016603, 'ab': [0.0, 0.2831493981016603]}.\n"
     ]
    },
    {
     "name": "stdout",
     "output_type": "stream",
     "text": [
      "The set cost function is ignored! LCB acquisition does not make sense with cost.\n",
      "ab\n"
     ]
    },
    {
     "name": "stderr",
     "output_type": "stream",
     "text": [
      "reconstraining parameters GP_regression.mul\n",
      "reconstraining parameters GP_regression.Gaussian_noise.variance\n"
     ]
    },
    {
     "name": "stdout",
     "output_type": "stream",
     "text": [
      "sampling end!. 2019-04-17 16:52:03.626082 2019-04-17 16:52:18.325385\n"
     ]
    },
    {
     "name": "stderr",
     "output_type": "stream",
     "text": [
      "[I 2019-04-17 16:52:19,340] Finished a trial resulted in value: -0.669059912668387. Current best value is -0.8816675697013427 with parameters: {'a': 0.0, 'b': 0.2831493981016603, 'ab': [0.0, 0.2831493981016603]}.\n"
     ]
    },
    {
     "name": "stdout",
     "output_type": "stream",
     "text": [
      "The set cost function is ignored! LCB acquisition does not make sense with cost.\n",
      "ab\n"
     ]
    },
    {
     "name": "stderr",
     "output_type": "stream",
     "text": [
      "reconstraining parameters GP_regression.mul\n",
      "reconstraining parameters GP_regression.Gaussian_noise.variance\n"
     ]
    },
    {
     "name": "stdout",
     "output_type": "stream",
     "text": [
      "sampling end!. 2019-04-17 16:52:19.343290 2019-04-17 16:52:38.356998\n"
     ]
    },
    {
     "name": "stderr",
     "output_type": "stream",
     "text": [
      "[I 2019-04-17 16:52:39,376] Finished a trial resulted in value: -0.4058532991174917. Current best value is -0.8816675697013427 with parameters: {'a': 0.0, 'b': 0.2831493981016603, 'ab': [0.0, 0.2831493981016603]}.\n"
     ]
    },
    {
     "name": "stdout",
     "output_type": "stream",
     "text": [
      "The set cost function is ignored! LCB acquisition does not make sense with cost.\n",
      "ab\n"
     ]
    },
    {
     "name": "stderr",
     "output_type": "stream",
     "text": [
      "reconstraining parameters GP_regression.mul\n",
      "reconstraining parameters GP_regression.Gaussian_noise.variance\n"
     ]
    },
    {
     "name": "stdout",
     "output_type": "stream",
     "text": [
      "sampling end!. 2019-04-17 16:52:39.378931 2019-04-17 16:52:59.947209\n"
     ]
    },
    {
     "name": "stderr",
     "output_type": "stream",
     "text": [
      "[I 2019-04-17 16:53:00,960] Finished a trial resulted in value: -1.0076372040346129. Current best value is -1.0076372040346129 with parameters: {'a': 1.0, 'b': 0.2097417789455643, 'ab': [1.0, 0.2097417789455643]}.\n"
     ]
    },
    {
     "name": "stdout",
     "output_type": "stream",
     "text": [
      "The set cost function is ignored! LCB acquisition does not make sense with cost.\n",
      "ab\n"
     ]
    },
    {
     "name": "stderr",
     "output_type": "stream",
     "text": [
      "reconstraining parameters GP_regression.mul\n",
      "reconstraining parameters GP_regression.Gaussian_noise.variance\n"
     ]
    },
    {
     "name": "stdout",
     "output_type": "stream",
     "text": [
      "sampling end!. 2019-04-17 16:53:00.962591 2019-04-17 16:53:20.407273\n"
     ]
    },
    {
     "name": "stderr",
     "output_type": "stream",
     "text": [
      "[I 2019-04-17 16:53:21,458] Finished a trial resulted in value: -1.0382593952853298. Current best value is -1.0382593952853298 with parameters: {'a': 1.0, 'b': 0.17479518644609218, 'ab': [1.0, 0.17479518644609218]}.\n"
     ]
    },
    {
     "name": "stdout",
     "output_type": "stream",
     "text": [
      "The set cost function is ignored! LCB acquisition does not make sense with cost.\n",
      "ab\n"
     ]
    },
    {
     "name": "stderr",
     "output_type": "stream",
     "text": [
      "reconstraining parameters GP_regression.mul\n",
      "reconstraining parameters GP_regression.Gaussian_noise.variance\n"
     ]
    },
    {
     "name": "stdout",
     "output_type": "stream",
     "text": [
      "sampling end!. 2019-04-17 16:53:21.461014 2019-04-17 16:53:42.751666\n"
     ]
    },
    {
     "name": "stderr",
     "output_type": "stream",
     "text": [
      "[I 2019-04-17 16:53:43,763] Finished a trial resulted in value: -1.007124579552105. Current best value is -1.0382593952853298 with parameters: {'a': 1.0, 'b': 0.17479518644609218, 'ab': [1.0, 0.17479518644609218]}.\n"
     ]
    },
    {
     "name": "stdout",
     "output_type": "stream",
     "text": [
      "The set cost function is ignored! LCB acquisition does not make sense with cost.\n",
      "ab\n"
     ]
    },
    {
     "name": "stderr",
     "output_type": "stream",
     "text": [
      "reconstraining parameters GP_regression.mul\n",
      "reconstraining parameters GP_regression.Gaussian_noise.variance\n"
     ]
    },
    {
     "name": "stdout",
     "output_type": "stream",
     "text": [
      "sampling end!. 2019-04-17 16:53:43.765381 2019-04-17 16:54:08.229913\n"
     ]
    },
    {
     "name": "stderr",
     "output_type": "stream",
     "text": [
      "[I 2019-04-17 16:54:09,243] Finished a trial resulted in value: -0.8769692640344926. Current best value is -1.0382593952853298 with parameters: {'a': 1.0, 'b': 0.17479518644609218, 'ab': [1.0, 0.17479518644609218]}.\n"
     ]
    },
    {
     "name": "stdout",
     "output_type": "stream",
     "text": [
      "The set cost function is ignored! LCB acquisition does not make sense with cost.\n",
      "ab\n"
     ]
    },
    {
     "name": "stderr",
     "output_type": "stream",
     "text": [
      "reconstraining parameters GP_regression.mul\n",
      "reconstraining parameters GP_regression.Gaussian_noise.variance\n"
     ]
    },
    {
     "name": "stdout",
     "output_type": "stream",
     "text": [
      "sampling end!. 2019-04-17 16:54:09.245264 2019-04-17 16:54:32.614517\n"
     ]
    },
    {
     "name": "stderr",
     "output_type": "stream",
     "text": [
      "[I 2019-04-17 16:54:33,624] Finished a trial resulted in value: -0.9160223004956318. Current best value is -1.0382593952853298 with parameters: {'a': 1.0, 'b': 0.17479518644609218, 'ab': [1.0, 0.17479518644609218]}.\n"
     ]
    },
    {
     "name": "stdout",
     "output_type": "stream",
     "text": [
      "The set cost function is ignored! LCB acquisition does not make sense with cost.\n",
      "ab\n"
     ]
    },
    {
     "name": "stderr",
     "output_type": "stream",
     "text": [
      "reconstraining parameters GP_regression.mul\n",
      "reconstraining parameters GP_regression.Gaussian_noise.variance\n"
     ]
    },
    {
     "name": "stdout",
     "output_type": "stream",
     "text": [
      "sampling end!. 2019-04-17 16:54:33.626143 2019-04-17 16:54:55.211595\n"
     ]
    },
    {
     "name": "stderr",
     "output_type": "stream",
     "text": [
      "[I 2019-04-17 16:54:56,225] Finished a trial resulted in value: -0.9449679085603703. Current best value is -1.0382593952853298 with parameters: {'a': 1.0, 'b': 0.17479518644609218, 'ab': [1.0, 0.17479518644609218]}.\n"
     ]
    },
    {
     "name": "stdout",
     "output_type": "stream",
     "text": [
      "The set cost function is ignored! LCB acquisition does not make sense with cost.\n",
      "ab\n"
     ]
    },
    {
     "name": "stderr",
     "output_type": "stream",
     "text": [
      "reconstraining parameters GP_regression.mul\n",
      "reconstraining parameters GP_regression.Gaussian_noise.variance\n"
     ]
    },
    {
     "name": "stdout",
     "output_type": "stream",
     "text": [
      "sampling end!. 2019-04-17 16:54:56.227324 2019-04-17 16:55:20.118177\n"
     ]
    },
    {
     "name": "stderr",
     "output_type": "stream",
     "text": [
      "[I 2019-04-17 16:55:21,130] Finished a trial resulted in value: -0.7929858513546914. Current best value is -1.0382593952853298 with parameters: {'a': 1.0, 'b': 0.17479518644609218, 'ab': [1.0, 0.17479518644609218]}.\n"
     ]
    },
    {
     "name": "stdout",
     "output_type": "stream",
     "text": [
      "The set cost function is ignored! LCB acquisition does not make sense with cost.\n",
      "ab\n"
     ]
    },
    {
     "name": "stderr",
     "output_type": "stream",
     "text": [
      "reconstraining parameters GP_regression.mul\n",
      "reconstraining parameters GP_regression.Gaussian_noise.variance\n"
     ]
    },
    {
     "name": "stdout",
     "output_type": "stream",
     "text": [
      "sampling end!. 2019-04-17 16:55:21.133243 2019-04-17 16:55:47.236984\n"
     ]
    },
    {
     "name": "stderr",
     "output_type": "stream",
     "text": [
      "[I 2019-04-17 16:55:48,251] Finished a trial resulted in value: -0.8435494832106809. Current best value is -1.0382593952853298 with parameters: {'a': 1.0, 'b': 0.17479518644609218, 'ab': [1.0, 0.17479518644609218]}.\n"
     ]
    },
    {
     "name": "stdout",
     "output_type": "stream",
     "text": [
      "The set cost function is ignored! LCB acquisition does not make sense with cost.\n",
      "ab\n"
     ]
    },
    {
     "name": "stderr",
     "output_type": "stream",
     "text": [
      "reconstraining parameters GP_regression.mul\n",
      "reconstraining parameters GP_regression.Gaussian_noise.variance\n"
     ]
    },
    {
     "name": "stdout",
     "output_type": "stream",
     "text": [
      "sampling end!. 2019-04-17 16:55:48.253442 2019-04-17 16:56:13.768596\n"
     ]
    },
    {
     "name": "stderr",
     "output_type": "stream",
     "text": [
      "[I 2019-04-17 16:56:14,779] Finished a trial resulted in value: 0.9593823643776563. Current best value is -1.0382593952853298 with parameters: {'a': 1.0, 'b': 0.17479518644609218, 'ab': [1.0, 0.17479518644609218]}.\n"
     ]
    },
    {
     "name": "stdout",
     "output_type": "stream",
     "text": [
      "The set cost function is ignored! LCB acquisition does not make sense with cost.\n",
      "ab\n"
     ]
    },
    {
     "name": "stderr",
     "output_type": "stream",
     "text": [
      "reconstraining parameters GP_regression.mul\n",
      "reconstraining parameters GP_regression.Gaussian_noise.variance\n"
     ]
    },
    {
     "name": "stdout",
     "output_type": "stream",
     "text": [
      "sampling end!. 2019-04-17 16:56:14.781787 2019-04-17 16:56:33.456218\n"
     ]
    },
    {
     "name": "stderr",
     "output_type": "stream",
     "text": [
      "[I 2019-04-17 16:56:34,480] Finished a trial resulted in value: -1.0035264800769836. Current best value is -1.0382593952853298 with parameters: {'a': 1.0, 'b': 0.17479518644609218, 'ab': [1.0, 0.17479518644609218]}.\n"
     ]
    },
    {
     "name": "stdout",
     "output_type": "stream",
     "text": [
      "The set cost function is ignored! LCB acquisition does not make sense with cost.\n",
      "ab\n"
     ]
    },
    {
     "name": "stderr",
     "output_type": "stream",
     "text": [
      "reconstraining parameters GP_regression.mul\n",
      "reconstraining parameters GP_regression.Gaussian_noise.variance\n"
     ]
    },
    {
     "name": "stdout",
     "output_type": "stream",
     "text": [
      "sampling end!. 2019-04-17 16:56:34.482974 2019-04-17 16:57:07.226610\n"
     ]
    },
    {
     "name": "stderr",
     "output_type": "stream",
     "text": [
      "[I 2019-04-17 16:57:08,242] Finished a trial resulted in value: -0.9500547726344333. Current best value is -1.0382593952853298 with parameters: {'a': 1.0, 'b': 0.17479518644609218, 'ab': [1.0, 0.17479518644609218]}.\n"
     ]
    },
    {
     "name": "stdout",
     "output_type": "stream",
     "text": [
      "The set cost function is ignored! LCB acquisition does not make sense with cost.\n",
      "ab\n"
     ]
    },
    {
     "name": "stderr",
     "output_type": "stream",
     "text": [
      "reconstraining parameters GP_regression.mul\n",
      "reconstraining parameters GP_regression.Gaussian_noise.variance\n"
     ]
    },
    {
     "name": "stdout",
     "output_type": "stream",
     "text": [
      "sampling end!. 2019-04-17 16:57:08.244218 2019-04-17 16:57:37.591788\n"
     ]
    },
    {
     "name": "stderr",
     "output_type": "stream",
     "text": [
      "[I 2019-04-17 16:57:38,604] Finished a trial resulted in value: -1.0504970193694114. Current best value is -1.0504970193694114 with parameters: {'a': 0.4941017312804553, 'b': 0.7251746785958529, 'ab': [0.4941017312804553, 0.7251746785958529]}.\n"
     ]
    },
    {
     "name": "stdout",
     "output_type": "stream",
     "text": [
      "The set cost function is ignored! LCB acquisition does not make sense with cost.\n",
      "ab\n"
     ]
    },
    {
     "name": "stderr",
     "output_type": "stream",
     "text": [
      "reconstraining parameters GP_regression.mul\n",
      "reconstraining parameters GP_regression.Gaussian_noise.variance\n"
     ]
    },
    {
     "name": "stdout",
     "output_type": "stream",
     "text": [
      "sampling end!. 2019-04-17 16:57:38.606253 2019-04-17 16:58:04.597133\n"
     ]
    },
    {
     "name": "stderr",
     "output_type": "stream",
     "text": [
      "[I 2019-04-17 16:58:05,613] Finished a trial resulted in value: -1.1522998838044893. Current best value is -1.1522998838044893 with parameters: {'a': 0.49777263406944733, 'b': 0.6945428423468878, 'ab': [0.49777263406944733, 0.6945428423468878]}.\n"
     ]
    },
    {
     "name": "stdout",
     "output_type": "stream",
     "text": [
      "The set cost function is ignored! LCB acquisition does not make sense with cost.\n",
      "ab\n"
     ]
    },
    {
     "name": "stderr",
     "output_type": "stream",
     "text": [
      "reconstraining parameters GP_regression.mul\n",
      "reconstraining parameters GP_regression.Gaussian_noise.variance\n"
     ]
    },
    {
     "name": "stdout",
     "output_type": "stream",
     "text": [
      "sampling end!. 2019-04-17 16:58:05.615470 2019-04-17 16:58:33.621046\n"
     ]
    },
    {
     "name": "stderr",
     "output_type": "stream",
     "text": [
      "[I 2019-04-17 16:58:34,633] Finished a trial resulted in value: -1.2259832295547082. Current best value is -1.2259832295547082 with parameters: {'a': 0.5082513413887153, 'b': 0.694409552474024, 'ab': [0.5082513413887153, 0.694409552474024]}.\n"
     ]
    },
    {
     "name": "stdout",
     "output_type": "stream",
     "text": [
      "The set cost function is ignored! LCB acquisition does not make sense with cost.\n",
      "ab\n"
     ]
    },
    {
     "name": "stderr",
     "output_type": "stream",
     "text": [
      "reconstraining parameters GP_regression.mul\n",
      "reconstraining parameters GP_regression.Gaussian_noise.variance\n"
     ]
    },
    {
     "name": "stdout",
     "output_type": "stream",
     "text": [
      "sampling end!. 2019-04-17 16:58:34.635458 2019-04-17 16:58:59.411086\n"
     ]
    },
    {
     "name": "stderr",
     "output_type": "stream",
     "text": [
      "[I 2019-04-17 16:59:00,429] Finished a trial resulted in value: -1.1205352237919652. Current best value is -1.2259832295547082 with parameters: {'a': 0.5082513413887153, 'b': 0.694409552474024, 'ab': [0.5082513413887153, 0.694409552474024]}.\n"
     ]
    },
    {
     "name": "stdout",
     "output_type": "stream",
     "text": [
      "The set cost function is ignored! LCB acquisition does not make sense with cost.\n",
      "ab\n"
     ]
    },
    {
     "name": "stderr",
     "output_type": "stream",
     "text": [
      "reconstraining parameters GP_regression.mul\n",
      "reconstraining parameters GP_regression.Gaussian_noise.variance\n"
     ]
    },
    {
     "name": "stdout",
     "output_type": "stream",
     "text": [
      "sampling end!. 2019-04-17 16:59:00.431706 2019-04-17 16:59:29.280669\n"
     ]
    },
    {
     "name": "stderr",
     "output_type": "stream",
     "text": [
      "[I 2019-04-17 16:59:30,291] Finished a trial resulted in value: -1.1072178325018005. Current best value is -1.2259832295547082 with parameters: {'a': 0.5082513413887153, 'b': 0.694409552474024, 'ab': [0.5082513413887153, 0.694409552474024]}.\n"
     ]
    },
    {
     "name": "stdout",
     "output_type": "stream",
     "text": [
      "The set cost function is ignored! LCB acquisition does not make sense with cost.\n",
      "ab\n"
     ]
    },
    {
     "name": "stderr",
     "output_type": "stream",
     "text": [
      "reconstraining parameters GP_regression.mul\n",
      "reconstraining parameters GP_regression.Gaussian_noise.variance\n"
     ]
    },
    {
     "name": "stdout",
     "output_type": "stream",
     "text": [
      "sampling end!. 2019-04-17 16:59:30.293667 2019-04-17 16:59:54.223995\n"
     ]
    },
    {
     "name": "stderr",
     "output_type": "stream",
     "text": [
      "[I 2019-04-17 16:59:55,242] Finished a trial resulted in value: -1.2678309894971618. Current best value is -1.2678309894971618 with parameters: {'a': 0.5083613624341814, 'b': 0.684436309692696, 'ab': [0.5083613624341814, 0.684436309692696]}.\n"
     ]
    },
    {
     "name": "stdout",
     "output_type": "stream",
     "text": [
      "The set cost function is ignored! LCB acquisition does not make sense with cost.\n",
      "ab\n"
     ]
    },
    {
     "name": "stderr",
     "output_type": "stream",
     "text": [
      "reconstraining parameters GP_regression.mul\n",
      "reconstraining parameters GP_regression.Gaussian_noise.variance\n"
     ]
    },
    {
     "name": "stdout",
     "output_type": "stream",
     "text": [
      "sampling end!. 2019-04-17 16:59:55.244291 2019-04-17 17:00:24.106498\n"
     ]
    },
    {
     "name": "stderr",
     "output_type": "stream",
     "text": [
      "[I 2019-04-17 17:00:25,125] Finished a trial resulted in value: -0.9763439362457642. Current best value is -1.2678309894971618 with parameters: {'a': 0.5083613624341814, 'b': 0.684436309692696, 'ab': [0.5083613624341814, 0.684436309692696]}.\n"
     ]
    },
    {
     "name": "stdout",
     "output_type": "stream",
     "text": [
      "The set cost function is ignored! LCB acquisition does not make sense with cost.\n",
      "ab\n"
     ]
    },
    {
     "name": "stderr",
     "output_type": "stream",
     "text": [
      "reconstraining parameters GP_regression.mul\n",
      "reconstraining parameters GP_regression.Gaussian_noise.variance\n"
     ]
    },
    {
     "name": "stdout",
     "output_type": "stream",
     "text": [
      "sampling end!. 2019-04-17 17:00:25.127833 2019-04-17 17:00:54.247662\n"
     ]
    },
    {
     "name": "stderr",
     "output_type": "stream",
     "text": [
      "[I 2019-04-17 17:00:55,262] Finished a trial resulted in value: -0.9903578684372896. Current best value is -1.2678309894971618 with parameters: {'a': 0.5083613624341814, 'b': 0.684436309692696, 'ab': [0.5083613624341814, 0.684436309692696]}.\n"
     ]
    },
    {
     "name": "stdout",
     "output_type": "stream",
     "text": [
      "The set cost function is ignored! LCB acquisition does not make sense with cost.\n",
      "ab\n"
     ]
    },
    {
     "name": "stderr",
     "output_type": "stream",
     "text": [
      "reconstraining parameters GP_regression.mul\n",
      "reconstraining parameters GP_regression.Gaussian_noise.variance\n"
     ]
    },
    {
     "name": "stdout",
     "output_type": "stream",
     "text": [
      "sampling end!. 2019-04-17 17:00:55.264601 2019-04-17 17:01:26.382990\n"
     ]
    },
    {
     "name": "stderr",
     "output_type": "stream",
     "text": [
      "[I 2019-04-17 17:01:27,395] Finished a trial resulted in value: -0.9302602076263239. Current best value is -1.2678309894971618 with parameters: {'a': 0.5083613624341814, 'b': 0.684436309692696, 'ab': [0.5083613624341814, 0.684436309692696]}.\n"
     ]
    },
    {
     "name": "stdout",
     "output_type": "stream",
     "text": [
      "The set cost function is ignored! LCB acquisition does not make sense with cost.\n",
      "ab\n"
     ]
    },
    {
     "name": "stderr",
     "output_type": "stream",
     "text": [
      "reconstraining parameters GP_regression.mul\n",
      "reconstraining parameters GP_regression.Gaussian_noise.variance\n"
     ]
    },
    {
     "name": "stdout",
     "output_type": "stream",
     "text": [
      "sampling end!. 2019-04-17 17:01:27.397734 2019-04-17 17:01:55.676994\n"
     ]
    },
    {
     "name": "stderr",
     "output_type": "stream",
     "text": [
      "[I 2019-04-17 17:01:56,692] Finished a trial resulted in value: -1.0110728917725929. Current best value is -1.2678309894971618 with parameters: {'a': 0.5083613624341814, 'b': 0.684436309692696, 'ab': [0.5083613624341814, 0.684436309692696]}.\n"
     ]
    },
    {
     "name": "stdout",
     "output_type": "stream",
     "text": [
      "The set cost function is ignored! LCB acquisition does not make sense with cost.\n",
      "ab\n"
     ]
    },
    {
     "name": "stderr",
     "output_type": "stream",
     "text": [
      "reconstraining parameters GP_regression.mul\n",
      "reconstraining parameters GP_regression.Gaussian_noise.variance\n"
     ]
    },
    {
     "name": "stdout",
     "output_type": "stream",
     "text": [
      "sampling end!. 2019-04-17 17:01:56.694108 2019-04-17 17:02:27.342306\n"
     ]
    },
    {
     "name": "stderr",
     "output_type": "stream",
     "text": [
      "[I 2019-04-17 17:02:28,353] Finished a trial resulted in value: -1.0386169480128251. Current best value is -1.2678309894971618 with parameters: {'a': 0.5083613624341814, 'b': 0.684436309692696, 'ab': [0.5083613624341814, 0.684436309692696]}.\n"
     ]
    },
    {
     "name": "stdout",
     "output_type": "stream",
     "text": [
      "The set cost function is ignored! LCB acquisition does not make sense with cost.\n",
      "ab\n"
     ]
    },
    {
     "name": "stderr",
     "output_type": "stream",
     "text": [
      "reconstraining parameters GP_regression.mul\n",
      "reconstraining parameters GP_regression.Gaussian_noise.variance\n"
     ]
    },
    {
     "name": "stdout",
     "output_type": "stream",
     "text": [
      "sampling end!. 2019-04-17 17:02:28.355031 2019-04-17 17:03:02.438565\n"
     ]
    },
    {
     "name": "stderr",
     "output_type": "stream",
     "text": [
      "[I 2019-04-17 17:03:03,453] Finished a trial resulted in value: -0.9396842284982663. Current best value is -1.2678309894971618 with parameters: {'a': 0.5083613624341814, 'b': 0.684436309692696, 'ab': [0.5083613624341814, 0.684436309692696]}.\n"
     ]
    },
    {
     "name": "stdout",
     "output_type": "stream",
     "text": [
      "The set cost function is ignored! LCB acquisition does not make sense with cost.\n",
      "ab\n"
     ]
    },
    {
     "name": "stderr",
     "output_type": "stream",
     "text": [
      "reconstraining parameters GP_regression.mul\n",
      "reconstraining parameters GP_regression.Gaussian_noise.variance\n"
     ]
    },
    {
     "name": "stdout",
     "output_type": "stream",
     "text": [
      "sampling end!. 2019-04-17 17:03:03.455359 2019-04-17 17:03:31.298684\n"
     ]
    },
    {
     "name": "stderr",
     "output_type": "stream",
     "text": [
      "[I 2019-04-17 17:03:32,309] Finished a trial resulted in value: -0.7098836771412802. Current best value is -1.2678309894971618 with parameters: {'a': 0.5083613624341814, 'b': 0.684436309692696, 'ab': [0.5083613624341814, 0.684436309692696]}.\n"
     ]
    },
    {
     "name": "stdout",
     "output_type": "stream",
     "text": [
      "The set cost function is ignored! LCB acquisition does not make sense with cost.\n",
      "ab\n"
     ]
    },
    {
     "name": "stderr",
     "output_type": "stream",
     "text": [
      "reconstraining parameters GP_regression.mul\n",
      "reconstraining parameters GP_regression.Gaussian_noise.variance\n"
     ]
    },
    {
     "name": "stdout",
     "output_type": "stream",
     "text": [
      "sampling end!. 2019-04-17 17:03:32.311618 2019-04-17 17:04:03.315499\n"
     ]
    },
    {
     "name": "stderr",
     "output_type": "stream",
     "text": [
      "[I 2019-04-17 17:04:04,329] Finished a trial resulted in value: -1.015377721841422. Current best value is -1.2678309894971618 with parameters: {'a': 0.5083613624341814, 'b': 0.684436309692696, 'ab': [0.5083613624341814, 0.684436309692696]}.\n"
     ]
    },
    {
     "name": "stdout",
     "output_type": "stream",
     "text": [
      "The set cost function is ignored! LCB acquisition does not make sense with cost.\n",
      "ab\n"
     ]
    },
    {
     "name": "stderr",
     "output_type": "stream",
     "text": [
      "reconstraining parameters GP_regression.mul\n",
      "reconstraining parameters GP_regression.Gaussian_noise.variance\n"
     ]
    },
    {
     "name": "stdout",
     "output_type": "stream",
     "text": [
      "sampling end!. 2019-04-17 17:04:04.331581 2019-04-17 17:04:30.912073\n"
     ]
    },
    {
     "name": "stderr",
     "output_type": "stream",
     "text": [
      "[I 2019-04-17 17:04:31,928] Finished a trial resulted in value: -0.9450324739942256. Current best value is -1.2678309894971618 with parameters: {'a': 0.5083613624341814, 'b': 0.684436309692696, 'ab': [0.5083613624341814, 0.684436309692696]}.\n"
     ]
    },
    {
     "name": "stdout",
     "output_type": "stream",
     "text": [
      "The set cost function is ignored! LCB acquisition does not make sense with cost.\n",
      "ab\n"
     ]
    },
    {
     "name": "stderr",
     "output_type": "stream",
     "text": [
      "reconstraining parameters GP_regression.mul\n",
      "reconstraining parameters GP_regression.Gaussian_noise.variance\n"
     ]
    },
    {
     "name": "stdout",
     "output_type": "stream",
     "text": [
      "sampling end!. 2019-04-17 17:04:31.931104 2019-04-17 17:05:06.637365\n"
     ]
    },
    {
     "name": "stderr",
     "output_type": "stream",
     "text": [
      "[I 2019-04-17 17:05:07,651] Finished a trial resulted in value: -1.1316918877174347. Current best value is -1.2678309894971618 with parameters: {'a': 0.5083613624341814, 'b': 0.684436309692696, 'ab': [0.5083613624341814, 0.684436309692696]}.\n"
     ]
    },
    {
     "name": "stdout",
     "output_type": "stream",
     "text": [
      "The set cost function is ignored! LCB acquisition does not make sense with cost.\n",
      "ab\n"
     ]
    },
    {
     "name": "stderr",
     "output_type": "stream",
     "text": [
      "reconstraining parameters GP_regression.mul\n",
      "reconstraining parameters GP_regression.Gaussian_noise.variance\n"
     ]
    },
    {
     "name": "stdout",
     "output_type": "stream",
     "text": [
      "sampling end!. 2019-04-17 17:05:07.653988 2019-04-17 17:05:38.545809\n"
     ]
    },
    {
     "name": "stderr",
     "output_type": "stream",
     "text": [
      "[I 2019-04-17 17:05:39,562] Finished a trial resulted in value: -1.0266650465116656. Current best value is -1.2678309894971618 with parameters: {'a': 0.5083613624341814, 'b': 0.684436309692696, 'ab': [0.5083613624341814, 0.684436309692696]}.\n"
     ]
    },
    {
     "name": "stdout",
     "output_type": "stream",
     "text": [
      "The set cost function is ignored! LCB acquisition does not make sense with cost.\n",
      "ab\n"
     ]
    },
    {
     "name": "stderr",
     "output_type": "stream",
     "text": [
      "reconstraining parameters GP_regression.mul\n",
      "reconstraining parameters GP_regression.Gaussian_noise.variance\n"
     ]
    },
    {
     "name": "stdout",
     "output_type": "stream",
     "text": [
      "sampling end!. 2019-04-17 17:05:39.564538 2019-04-17 17:06:13.450813\n"
     ]
    },
    {
     "name": "stderr",
     "output_type": "stream",
     "text": [
      "[I 2019-04-17 17:06:14,470] Finished a trial resulted in value: -1.0130657942055432. Current best value is -1.2678309894971618 with parameters: {'a': 0.5083613624341814, 'b': 0.684436309692696, 'ab': [0.5083613624341814, 0.684436309692696]}.\n"
     ]
    },
    {
     "name": "stdout",
     "output_type": "stream",
     "text": [
      "The set cost function is ignored! LCB acquisition does not make sense with cost.\n",
      "ab\n"
     ]
    },
    {
     "name": "stderr",
     "output_type": "stream",
     "text": [
      "reconstraining parameters GP_regression.mul\n",
      "reconstraining parameters GP_regression.Gaussian_noise.variance\n"
     ]
    },
    {
     "name": "stdout",
     "output_type": "stream",
     "text": [
      "sampling end!. 2019-04-17 17:06:14.471979 2019-04-17 17:06:48.504522\n"
     ]
    },
    {
     "name": "stderr",
     "output_type": "stream",
     "text": [
      "[I 2019-04-17 17:06:49,521] Finished a trial resulted in value: -1.0283932482183928. Current best value is -1.2678309894971618 with parameters: {'a': 0.5083613624341814, 'b': 0.684436309692696, 'ab': [0.5083613624341814, 0.684436309692696]}.\n"
     ]
    },
    {
     "name": "stdout",
     "output_type": "stream",
     "text": [
      "The set cost function is ignored! LCB acquisition does not make sense with cost.\n",
      "ab\n"
     ]
    },
    {
     "name": "stderr",
     "output_type": "stream",
     "text": [
      "reconstraining parameters GP_regression.mul\n",
      "reconstraining parameters GP_regression.Gaussian_noise.variance\n"
     ]
    },
    {
     "name": "stdout",
     "output_type": "stream",
     "text": [
      "sampling end!. 2019-04-17 17:06:49.524255 2019-04-17 17:07:20.394654\n"
     ]
    },
    {
     "name": "stderr",
     "output_type": "stream",
     "text": [
      "[I 2019-04-17 17:07:21,408] Finished a trial resulted in value: -1.0290996133415244. Current best value is -1.2678309894971618 with parameters: {'a': 0.5083613624341814, 'b': 0.684436309692696, 'ab': [0.5083613624341814, 0.684436309692696]}.\n"
     ]
    },
    {
     "name": "stdout",
     "output_type": "stream",
     "text": [
      "The set cost function is ignored! LCB acquisition does not make sense with cost.\n",
      "ab\n"
     ]
    },
    {
     "name": "stderr",
     "output_type": "stream",
     "text": [
      "reconstraining parameters GP_regression.mul\n",
      "reconstraining parameters GP_regression.Gaussian_noise.variance\n"
     ]
    },
    {
     "name": "stdout",
     "output_type": "stream",
     "text": [
      "sampling end!. 2019-04-17 17:07:21.410874 2019-04-17 17:07:57.050554\n"
     ]
    },
    {
     "name": "stderr",
     "output_type": "stream",
     "text": [
      "[I 2019-04-17 17:07:58,069] Finished a trial resulted in value: -0.7647911381662809. Current best value is -1.2678309894971618 with parameters: {'a': 0.5083613624341814, 'b': 0.684436309692696, 'ab': [0.5083613624341814, 0.684436309692696]}.\n"
     ]
    },
    {
     "name": "stdout",
     "output_type": "stream",
     "text": [
      "The set cost function is ignored! LCB acquisition does not make sense with cost.\n",
      "ab\n"
     ]
    },
    {
     "name": "stderr",
     "output_type": "stream",
     "text": [
      "reconstraining parameters GP_regression.mul\n",
      "reconstraining parameters GP_regression.Gaussian_noise.variance\n"
     ]
    },
    {
     "name": "stdout",
     "output_type": "stream",
     "text": [
      "sampling end!. 2019-04-17 17:07:58.071681 2019-04-17 17:08:29.959359\n"
     ]
    },
    {
     "name": "stderr",
     "output_type": "stream",
     "text": [
      "[I 2019-04-17 17:08:30,977] Finished a trial resulted in value: -0.5687748389712097. Current best value is -1.2678309894971618 with parameters: {'a': 0.5083613624341814, 'b': 0.684436309692696, 'ab': [0.5083613624341814, 0.684436309692696]}.\n"
     ]
    },
    {
     "name": "stdout",
     "output_type": "stream",
     "text": [
      "The set cost function is ignored! LCB acquisition does not make sense with cost.\n",
      "ab\n"
     ]
    },
    {
     "name": "stderr",
     "output_type": "stream",
     "text": [
      "reconstraining parameters GP_regression.mul\n",
      "reconstraining parameters GP_regression.Gaussian_noise.variance\n"
     ]
    },
    {
     "name": "stdout",
     "output_type": "stream",
     "text": [
      "sampling end!. 2019-04-17 17:08:30.979935 2019-04-17 17:09:03.144985\n"
     ]
    },
    {
     "name": "stderr",
     "output_type": "stream",
     "text": [
      "[I 2019-04-17 17:09:04,161] Finished a trial resulted in value: -1.1461067300994592. Current best value is -1.2678309894971618 with parameters: {'a': 0.5083613624341814, 'b': 0.684436309692696, 'ab': [0.5083613624341814, 0.684436309692696]}.\n"
     ]
    },
    {
     "name": "stdout",
     "output_type": "stream",
     "text": [
      "The set cost function is ignored! LCB acquisition does not make sense with cost.\n",
      "ab\n"
     ]
    },
    {
     "name": "stderr",
     "output_type": "stream",
     "text": [
      "reconstraining parameters GP_regression.mul\n",
      "reconstraining parameters GP_regression.Gaussian_noise.variance\n"
     ]
    },
    {
     "name": "stdout",
     "output_type": "stream",
     "text": [
      "sampling end!. 2019-04-17 17:09:04.163825 2019-04-17 17:09:38.126695\n"
     ]
    },
    {
     "name": "stderr",
     "output_type": "stream",
     "text": [
      "[I 2019-04-17 17:09:39,147] Finished a trial resulted in value: -1.0420513787553314. Current best value is -1.2678309894971618 with parameters: {'a': 0.5083613624341814, 'b': 0.684436309692696, 'ab': [0.5083613624341814, 0.684436309692696]}.\n"
     ]
    },
    {
     "name": "stdout",
     "output_type": "stream",
     "text": [
      "The set cost function is ignored! LCB acquisition does not make sense with cost.\n",
      "ab\n"
     ]
    },
    {
     "name": "stderr",
     "output_type": "stream",
     "text": [
      "reconstraining parameters GP_regression.mul\n",
      "reconstraining parameters GP_regression.Gaussian_noise.variance\n"
     ]
    },
    {
     "name": "stdout",
     "output_type": "stream",
     "text": [
      "sampling end!. 2019-04-17 17:09:39.149486 2019-04-17 17:10:11.604626\n"
     ]
    },
    {
     "name": "stderr",
     "output_type": "stream",
     "text": [
      "[I 2019-04-17 17:10:12,621] Finished a trial resulted in value: -0.6903295842069421. Current best value is -1.2678309894971618 with parameters: {'a': 0.5083613624341814, 'b': 0.684436309692696, 'ab': [0.5083613624341814, 0.684436309692696]}.\n"
     ]
    },
    {
     "name": "stdout",
     "output_type": "stream",
     "text": [
      "The set cost function is ignored! LCB acquisition does not make sense with cost.\n",
      "ab\n"
     ]
    },
    {
     "name": "stderr",
     "output_type": "stream",
     "text": [
      "reconstraining parameters GP_regression.mul\n",
      "reconstraining parameters GP_regression.Gaussian_noise.variance\n"
     ]
    },
    {
     "name": "stdout",
     "output_type": "stream",
     "text": [
      "sampling end!. 2019-04-17 17:10:12.627685 2019-04-17 17:10:45.077386\n"
     ]
    },
    {
     "name": "stderr",
     "output_type": "stream",
     "text": [
      "[I 2019-04-17 17:10:46,096] Finished a trial resulted in value: -0.4781011249145528. Current best value is -1.2678309894971618 with parameters: {'a': 0.5083613624341814, 'b': 0.684436309692696, 'ab': [0.5083613624341814, 0.684436309692696]}.\n"
     ]
    },
    {
     "name": "stdout",
     "output_type": "stream",
     "text": [
      "The set cost function is ignored! LCB acquisition does not make sense with cost.\n",
      "ab\n"
     ]
    },
    {
     "name": "stderr",
     "output_type": "stream",
     "text": [
      "reconstraining parameters GP_regression.mul\n",
      "reconstraining parameters GP_regression.Gaussian_noise.variance\n"
     ]
    },
    {
     "name": "stdout",
     "output_type": "stream",
     "text": [
      "sampling end!. 2019-04-17 17:10:46.103399 2019-04-17 17:11:24.418698\n"
     ]
    },
    {
     "name": "stderr",
     "output_type": "stream",
     "text": [
      "[I 2019-04-17 17:11:25,438] Finished a trial resulted in value: -1.3149409755232564. Current best value is -1.3149409755232564 with parameters: {'a': 1.0, 'b': 0.6671529459199689, 'ab': [1.0, 0.6671529459199689]}.\n"
     ]
    },
    {
     "name": "stdout",
     "output_type": "stream",
     "text": [
      "The set cost function is ignored! LCB acquisition does not make sense with cost.\n",
      "ab\n"
     ]
    },
    {
     "name": "stderr",
     "output_type": "stream",
     "text": [
      "reconstraining parameters GP_regression.mul\n",
      "reconstraining parameters GP_regression.Gaussian_noise.variance\n"
     ]
    },
    {
     "name": "stdout",
     "output_type": "stream",
     "text": [
      "sampling end!. 2019-04-17 17:11:25.440368 2019-04-17 17:12:00.726436\n"
     ]
    },
    {
     "name": "stderr",
     "output_type": "stream",
     "text": [
      "[I 2019-04-17 17:12:01,745] Finished a trial resulted in value: -1.1677986396816613. Current best value is -1.3149409755232564 with parameters: {'a': 1.0, 'b': 0.6671529459199689, 'ab': [1.0, 0.6671529459199689]}.\n"
     ]
    },
    {
     "name": "stdout",
     "output_type": "stream",
     "text": [
      "The set cost function is ignored! LCB acquisition does not make sense with cost.\n",
      "ab\n"
     ]
    },
    {
     "name": "stderr",
     "output_type": "stream",
     "text": [
      "reconstraining parameters GP_regression.mul\n",
      "reconstraining parameters GP_regression.Gaussian_noise.variance\n"
     ]
    },
    {
     "name": "stdout",
     "output_type": "stream",
     "text": [
      "sampling end!. 2019-04-17 17:12:01.746961 2019-04-17 17:12:36.061745\n"
     ]
    },
    {
     "name": "stderr",
     "output_type": "stream",
     "text": [
      "[I 2019-04-17 17:12:37,083] Finished a trial resulted in value: -1.2608539954892855. Current best value is -1.3149409755232564 with parameters: {'a': 1.0, 'b': 0.6671529459199689, 'ab': [1.0, 0.6671529459199689]}.\n"
     ]
    },
    {
     "name": "stdout",
     "output_type": "stream",
     "text": [
      "The set cost function is ignored! LCB acquisition does not make sense with cost.\n",
      "ab\n"
     ]
    },
    {
     "name": "stderr",
     "output_type": "stream",
     "text": [
      "reconstraining parameters GP_regression.mul\n",
      "reconstraining parameters GP_regression.Gaussian_noise.variance\n"
     ]
    },
    {
     "name": "stdout",
     "output_type": "stream",
     "text": [
      "sampling end!. 2019-04-17 17:12:37.087753 2019-04-17 17:13:10.768509\n"
     ]
    },
    {
     "name": "stderr",
     "output_type": "stream",
     "text": [
      "[I 2019-04-17 17:13:11,792] Finished a trial resulted in value: -1.1636521947674092. Current best value is -1.3149409755232564 with parameters: {'a': 1.0, 'b': 0.6671529459199689, 'ab': [1.0, 0.6671529459199689]}.\n"
     ]
    },
    {
     "name": "stdout",
     "output_type": "stream",
     "text": [
      "The set cost function is ignored! LCB acquisition does not make sense with cost.\n",
      "ab\n"
     ]
    },
    {
     "name": "stderr",
     "output_type": "stream",
     "text": [
      "reconstraining parameters GP_regression.mul\n",
      "reconstraining parameters GP_regression.Gaussian_noise.variance\n"
     ]
    },
    {
     "name": "stdout",
     "output_type": "stream",
     "text": [
      "sampling end!. 2019-04-17 17:13:11.795390 2019-04-17 17:13:41.323089\n"
     ]
    },
    {
     "name": "stderr",
     "output_type": "stream",
     "text": [
      "[I 2019-04-17 17:13:42,351] Finished a trial resulted in value: 0.19378887625603985. Current best value is -1.3149409755232564 with parameters: {'a': 1.0, 'b': 0.6671529459199689, 'ab': [1.0, 0.6671529459199689]}.\n"
     ]
    },
    {
     "name": "stdout",
     "output_type": "stream",
     "text": [
      "The set cost function is ignored! LCB acquisition does not make sense with cost.\n",
      "ab\n"
     ]
    },
    {
     "name": "stderr",
     "output_type": "stream",
     "text": [
      "reconstraining parameters GP_regression.mul\n",
      "reconstraining parameters GP_regression.Gaussian_noise.variance\n"
     ]
    },
    {
     "name": "stdout",
     "output_type": "stream",
     "text": [
      "sampling end!. 2019-04-17 17:13:42.356247 2019-04-17 17:14:13.857150\n"
     ]
    },
    {
     "name": "stderr",
     "output_type": "stream",
     "text": [
      "[I 2019-04-17 17:14:14,888] Finished a trial resulted in value: -0.6464924218111728. Current best value is -1.3149409755232564 with parameters: {'a': 1.0, 'b': 0.6671529459199689, 'ab': [1.0, 0.6671529459199689]}.\n"
     ]
    },
    {
     "name": "stdout",
     "output_type": "stream",
     "text": [
      "The set cost function is ignored! LCB acquisition does not make sense with cost.\n",
      "ab\n"
     ]
    },
    {
     "name": "stderr",
     "output_type": "stream",
     "text": [
      "reconstraining parameters GP_regression.mul\n",
      "reconstraining parameters GP_regression.Gaussian_noise.variance\n"
     ]
    },
    {
     "name": "stdout",
     "output_type": "stream",
     "text": [
      "sampling end!. 2019-04-17 17:14:14.895643 2019-04-17 17:14:45.161997\n"
     ]
    },
    {
     "name": "stderr",
     "output_type": "stream",
     "text": [
      "[I 2019-04-17 17:14:46,186] Finished a trial resulted in value: -1.2359147636032757. Current best value is -1.3149409755232564 with parameters: {'a': 1.0, 'b': 0.6671529459199689, 'ab': [1.0, 0.6671529459199689]}.\n"
     ]
    },
    {
     "name": "stdout",
     "output_type": "stream",
     "text": [
      "The set cost function is ignored! LCB acquisition does not make sense with cost.\n",
      "ab\n"
     ]
    },
    {
     "name": "stderr",
     "output_type": "stream",
     "text": [
      "reconstraining parameters GP_regression.mul\n",
      "reconstraining parameters GP_regression.Gaussian_noise.variance\n"
     ]
    },
    {
     "name": "stdout",
     "output_type": "stream",
     "text": [
      "sampling end!. 2019-04-17 17:14:46.188307 2019-04-17 17:15:17.871625\n"
     ]
    },
    {
     "name": "stderr",
     "output_type": "stream",
     "text": [
      "[I 2019-04-17 17:15:18,896] Finished a trial resulted in value: -0.22058078936974881. Current best value is -1.3149409755232564 with parameters: {'a': 1.0, 'b': 0.6671529459199689, 'ab': [1.0, 0.6671529459199689]}.\n"
     ]
    },
    {
     "name": "stdout",
     "output_type": "stream",
     "text": [
      "The set cost function is ignored! LCB acquisition does not make sense with cost.\n",
      "ab\n"
     ]
    },
    {
     "name": "stderr",
     "output_type": "stream",
     "text": [
      "reconstraining parameters GP_regression.mul\n",
      "reconstraining parameters GP_regression.Gaussian_noise.variance\n"
     ]
    },
    {
     "name": "stdout",
     "output_type": "stream",
     "text": [
      "sampling end!. 2019-04-17 17:15:18.898141 2019-04-17 17:15:49.079433\n"
     ]
    },
    {
     "name": "stderr",
     "output_type": "stream",
     "text": [
      "[I 2019-04-17 17:15:50,095] Finished a trial resulted in value: -1.2378046064200414. Current best value is -1.3149409755232564 with parameters: {'a': 1.0, 'b': 0.6671529459199689, 'ab': [1.0, 0.6671529459199689]}.\n"
     ]
    },
    {
     "name": "stdout",
     "output_type": "stream",
     "text": [
      "The set cost function is ignored! LCB acquisition does not make sense with cost.\n",
      "ab\n"
     ]
    },
    {
     "name": "stderr",
     "output_type": "stream",
     "text": [
      "reconstraining parameters GP_regression.mul\n",
      "reconstraining parameters GP_regression.Gaussian_noise.variance\n"
     ]
    },
    {
     "name": "stdout",
     "output_type": "stream",
     "text": [
      "sampling end!. 2019-04-17 17:15:50.097585 2019-04-17 17:16:20.936085\n"
     ]
    },
    {
     "name": "stderr",
     "output_type": "stream",
     "text": [
      "[I 2019-04-17 17:16:21,951] Finished a trial resulted in value: -0.8813374125651421. Current best value is -1.3149409755232564 with parameters: {'a': 1.0, 'b': 0.6671529459199689, 'ab': [1.0, 0.6671529459199689]}.\n"
     ]
    },
    {
     "name": "stdout",
     "output_type": "stream",
     "text": [
      "The set cost function is ignored! LCB acquisition does not make sense with cost.\n",
      "ab\n"
     ]
    },
    {
     "name": "stderr",
     "output_type": "stream",
     "text": [
      "reconstraining parameters GP_regression.mul\n",
      "reconstraining parameters GP_regression.Gaussian_noise.variance\n"
     ]
    },
    {
     "name": "stdout",
     "output_type": "stream",
     "text": [
      "sampling end!. 2019-04-17 17:16:21.953670 2019-04-17 17:17:17.203306\n"
     ]
    },
    {
     "name": "stderr",
     "output_type": "stream",
     "text": [
      "[I 2019-04-17 17:17:18,220] Finished a trial resulted in value: 0.3134088888556433. Current best value is -1.3149409755232564 with parameters: {'a': 1.0, 'b': 0.6671529459199689, 'ab': [1.0, 0.6671529459199689]}.\n"
     ]
    },
    {
     "name": "stdout",
     "output_type": "stream",
     "text": [
      "The set cost function is ignored! LCB acquisition does not make sense with cost.\n",
      "ab\n"
     ]
    },
    {
     "name": "stderr",
     "output_type": "stream",
     "text": [
      "reconstraining parameters GP_regression.mul\n",
      "reconstraining parameters GP_regression.Gaussian_noise.variance\n"
     ]
    },
    {
     "name": "stdout",
     "output_type": "stream",
     "text": [
      "sampling end!. 2019-04-17 17:17:18.223131 2019-04-17 17:17:50.802446\n"
     ]
    },
    {
     "name": "stderr",
     "output_type": "stream",
     "text": [
      "[I 2019-04-17 17:17:51,826] Finished a trial resulted in value: -0.9532220781776691. Current best value is -1.3149409755232564 with parameters: {'a': 1.0, 'b': 0.6671529459199689, 'ab': [1.0, 0.6671529459199689]}.\n"
     ]
    },
    {
     "name": "stdout",
     "output_type": "stream",
     "text": [
      "The set cost function is ignored! LCB acquisition does not make sense with cost.\n",
      "ab\n"
     ]
    },
    {
     "name": "stderr",
     "output_type": "stream",
     "text": [
      "reconstraining parameters GP_regression.mul\n",
      "reconstraining parameters GP_regression.Gaussian_noise.variance\n"
     ]
    },
    {
     "name": "stdout",
     "output_type": "stream",
     "text": [
      "sampling end!. 2019-04-17 17:17:51.830185 2019-04-17 17:18:24.189043\n"
     ]
    },
    {
     "name": "stderr",
     "output_type": "stream",
     "text": [
      "[I 2019-04-17 17:18:25,208] Finished a trial resulted in value: -0.3348060691485718. Current best value is -1.3149409755232564 with parameters: {'a': 1.0, 'b': 0.6671529459199689, 'ab': [1.0, 0.6671529459199689]}.\n"
     ]
    },
    {
     "name": "stdout",
     "output_type": "stream",
     "text": [
      "The set cost function is ignored! LCB acquisition does not make sense with cost.\n",
      "ab\n"
     ]
    },
    {
     "name": "stderr",
     "output_type": "stream",
     "text": [
      "reconstraining parameters GP_regression.mul\n",
      "reconstraining parameters GP_regression.Gaussian_noise.variance\n"
     ]
    },
    {
     "name": "stdout",
     "output_type": "stream",
     "text": [
      "sampling end!. 2019-04-17 17:18:25.213419 2019-04-17 17:18:55.676618\n"
     ]
    },
    {
     "name": "stderr",
     "output_type": "stream",
     "text": [
      "[I 2019-04-17 17:18:56,698] Finished a trial resulted in value: -0.9343732062662465. Current best value is -1.3149409755232564 with parameters: {'a': 1.0, 'b': 0.6671529459199689, 'ab': [1.0, 0.6671529459199689]}.\n"
     ]
    },
    {
     "name": "stdout",
     "output_type": "stream",
     "text": [
      "The set cost function is ignored! LCB acquisition does not make sense with cost.\n",
      "ab\n"
     ]
    },
    {
     "name": "stderr",
     "output_type": "stream",
     "text": [
      "reconstraining parameters GP_regression.mul\n",
      "reconstraining parameters GP_regression.Gaussian_noise.variance\n"
     ]
    },
    {
     "name": "stdout",
     "output_type": "stream",
     "text": [
      "sampling end!. 2019-04-17 17:18:56.701222 2019-04-17 17:19:32.993440\n"
     ]
    },
    {
     "name": "stderr",
     "output_type": "stream",
     "text": [
      "[I 2019-04-17 17:19:34,008] Finished a trial resulted in value: -0.39008373818564934. Current best value is -1.3149409755232564 with parameters: {'a': 1.0, 'b': 0.6671529459199689, 'ab': [1.0, 0.6671529459199689]}.\n"
     ]
    },
    {
     "name": "stdout",
     "output_type": "stream",
     "text": [
      "The set cost function is ignored! LCB acquisition does not make sense with cost.\n",
      "ab\n"
     ]
    },
    {
     "name": "stderr",
     "output_type": "stream",
     "text": [
      "reconstraining parameters GP_regression.mul\n",
      "reconstraining parameters GP_regression.Gaussian_noise.variance\n"
     ]
    },
    {
     "name": "stdout",
     "output_type": "stream",
     "text": [
      "sampling end!. 2019-04-17 17:19:34.011306 2019-04-17 17:20:05.152191\n"
     ]
    },
    {
     "name": "stderr",
     "output_type": "stream",
     "text": [
      "[I 2019-04-17 17:20:06,200] Finished a trial resulted in value: -0.6439655646813522. Current best value is -1.3149409755232564 with parameters: {'a': 1.0, 'b': 0.6671529459199689, 'ab': [1.0, 0.6671529459199689]}.\n"
     ]
    },
    {
     "name": "stdout",
     "output_type": "stream",
     "text": [
      "The set cost function is ignored! LCB acquisition does not make sense with cost.\n",
      "ab\n"
     ]
    },
    {
     "name": "stderr",
     "output_type": "stream",
     "text": [
      "reconstraining parameters GP_regression.mul\n",
      "reconstraining parameters GP_regression.Gaussian_noise.variance\n"
     ]
    },
    {
     "name": "stdout",
     "output_type": "stream",
     "text": [
      "sampling end!. 2019-04-17 17:20:06.208491 2019-04-17 17:20:38.625713\n"
     ]
    },
    {
     "name": "stderr",
     "output_type": "stream",
     "text": [
      "[I 2019-04-17 17:20:39,650] Finished a trial resulted in value: -0.540889106145794. Current best value is -1.3149409755232564 with parameters: {'a': 1.0, 'b': 0.6671529459199689, 'ab': [1.0, 0.6671529459199689]}.\n"
     ]
    },
    {
     "name": "stdout",
     "output_type": "stream",
     "text": [
      "The set cost function is ignored! LCB acquisition does not make sense with cost.\n",
      "ab\n"
     ]
    },
    {
     "name": "stderr",
     "output_type": "stream",
     "text": [
      "reconstraining parameters GP_regression.mul\n",
      "reconstraining parameters GP_regression.Gaussian_noise.variance\n"
     ]
    },
    {
     "name": "stdout",
     "output_type": "stream",
     "text": [
      "sampling end!. 2019-04-17 17:20:39.653248 2019-04-17 17:21:13.098544\n"
     ]
    },
    {
     "name": "stderr",
     "output_type": "stream",
     "text": [
      "[I 2019-04-17 17:21:14,118] Finished a trial resulted in value: -0.9483387945415847. Current best value is -1.3149409755232564 with parameters: {'a': 1.0, 'b': 0.6671529459199689, 'ab': [1.0, 0.6671529459199689]}.\n"
     ]
    },
    {
     "name": "stdout",
     "output_type": "stream",
     "text": [
      "The set cost function is ignored! LCB acquisition does not make sense with cost.\n",
      "ab\n"
     ]
    },
    {
     "name": "stderr",
     "output_type": "stream",
     "text": [
      "reconstraining parameters GP_regression.mul\n",
      "reconstraining parameters GP_regression.Gaussian_noise.variance\n"
     ]
    },
    {
     "name": "stdout",
     "output_type": "stream",
     "text": [
      "sampling end!. 2019-04-17 17:21:14.120535 2019-04-17 17:21:52.337349\n"
     ]
    },
    {
     "name": "stderr",
     "output_type": "stream",
     "text": [
      "[I 2019-04-17 17:21:53,357] Finished a trial resulted in value: -1.0151312152577512. Current best value is -1.3149409755232564 with parameters: {'a': 1.0, 'b': 0.6671529459199689, 'ab': [1.0, 0.6671529459199689]}.\n"
     ]
    },
    {
     "name": "stdout",
     "output_type": "stream",
     "text": [
      "The set cost function is ignored! LCB acquisition does not make sense with cost.\n",
      "ab\n"
     ]
    },
    {
     "name": "stderr",
     "output_type": "stream",
     "text": [
      "reconstraining parameters GP_regression.mul\n",
      "reconstraining parameters GP_regression.Gaussian_noise.variance\n"
     ]
    },
    {
     "name": "stdout",
     "output_type": "stream",
     "text": [
      "sampling end!. 2019-04-17 17:21:53.359452 2019-04-17 17:22:27.819124\n"
     ]
    },
    {
     "name": "stderr",
     "output_type": "stream",
     "text": [
      "[I 2019-04-17 17:22:28,837] Finished a trial resulted in value: -0.2871082452321179. Current best value is -1.3149409755232564 with parameters: {'a': 1.0, 'b': 0.6671529459199689, 'ab': [1.0, 0.6671529459199689]}.\n"
     ]
    },
    {
     "name": "stdout",
     "output_type": "stream",
     "text": [
      "The set cost function is ignored! LCB acquisition does not make sense with cost.\n",
      "ab\n"
     ]
    },
    {
     "name": "stderr",
     "output_type": "stream",
     "text": [
      "reconstraining parameters GP_regression.mul\n",
      "reconstraining parameters GP_regression.Gaussian_noise.variance\n"
     ]
    },
    {
     "name": "stdout",
     "output_type": "stream",
     "text": [
      "sampling end!. 2019-04-17 17:22:28.839947 2019-04-17 17:23:12.339067\n"
     ]
    },
    {
     "name": "stderr",
     "output_type": "stream",
     "text": [
      "[I 2019-04-17 17:23:13,359] Finished a trial resulted in value: -1.0262444899736405. Current best value is -1.3149409755232564 with parameters: {'a': 1.0, 'b': 0.6671529459199689, 'ab': [1.0, 0.6671529459199689]}.\n"
     ]
    },
    {
     "name": "stdout",
     "output_type": "stream",
     "text": [
      "The set cost function is ignored! LCB acquisition does not make sense with cost.\n",
      "ab\n"
     ]
    },
    {
     "name": "stderr",
     "output_type": "stream",
     "text": [
      "reconstraining parameters GP_regression.mul\n",
      "reconstraining parameters GP_regression.Gaussian_noise.variance\n"
     ]
    },
    {
     "name": "stdout",
     "output_type": "stream",
     "text": [
      "sampling end!. 2019-04-17 17:23:13.362788 2019-04-17 17:23:53.631481\n"
     ]
    },
    {
     "name": "stderr",
     "output_type": "stream",
     "text": [
      "[I 2019-04-17 17:23:54,648] Finished a trial resulted in value: -1.2725226249395087. Current best value is -1.3149409755232564 with parameters: {'a': 1.0, 'b': 0.6671529459199689, 'ab': [1.0, 0.6671529459199689]}.\n"
     ]
    },
    {
     "name": "stdout",
     "output_type": "stream",
     "text": [
      "The set cost function is ignored! LCB acquisition does not make sense with cost.\n",
      "ab\n"
     ]
    },
    {
     "name": "stderr",
     "output_type": "stream",
     "text": [
      "reconstraining parameters GP_regression.mul\n",
      "reconstraining parameters GP_regression.Gaussian_noise.variance\n"
     ]
    },
    {
     "name": "stdout",
     "output_type": "stream",
     "text": [
      "sampling end!. 2019-04-17 17:23:54.650155 2019-04-17 17:24:36.032061\n"
     ]
    },
    {
     "name": "stderr",
     "output_type": "stream",
     "text": [
      "[I 2019-04-17 17:24:37,048] Finished a trial resulted in value: -0.9770189861568968. Current best value is -1.3149409755232564 with parameters: {'a': 1.0, 'b': 0.6671529459199689, 'ab': [1.0, 0.6671529459199689]}.\n"
     ]
    },
    {
     "name": "stdout",
     "output_type": "stream",
     "text": [
      "The set cost function is ignored! LCB acquisition does not make sense with cost.\n",
      "ab\n"
     ]
    },
    {
     "name": "stderr",
     "output_type": "stream",
     "text": [
      "reconstraining parameters GP_regression.mul\n",
      "reconstraining parameters GP_regression.Gaussian_noise.variance\n"
     ]
    },
    {
     "name": "stdout",
     "output_type": "stream",
     "text": [
      "sampling end!. 2019-04-17 17:24:37.051022 2019-04-17 17:25:12.542688\n"
     ]
    },
    {
     "name": "stderr",
     "output_type": "stream",
     "text": [
      "[I 2019-04-17 17:25:13,563] Finished a trial resulted in value: -0.393953916936082. Current best value is -1.3149409755232564 with parameters: {'a': 1.0, 'b': 0.6671529459199689, 'ab': [1.0, 0.6671529459199689]}.\n"
     ]
    },
    {
     "name": "stdout",
     "output_type": "stream",
     "text": [
      "The set cost function is ignored! LCB acquisition does not make sense with cost.\n",
      "ab\n"
     ]
    },
    {
     "name": "stderr",
     "output_type": "stream",
     "text": [
      "reconstraining parameters GP_regression.mul\n",
      "reconstraining parameters GP_regression.Gaussian_noise.variance\n"
     ]
    },
    {
     "name": "stdout",
     "output_type": "stream",
     "text": [
      "sampling end!. 2019-04-17 17:25:13.566727 2019-04-17 17:25:53.976801\n"
     ]
    },
    {
     "name": "stderr",
     "output_type": "stream",
     "text": [
      "[I 2019-04-17 17:25:55,007] Finished a trial resulted in value: -0.7379061165302612. Current best value is -1.3149409755232564 with parameters: {'a': 1.0, 'b': 0.6671529459199689, 'ab': [1.0, 0.6671529459199689]}.\n"
     ]
    },
    {
     "name": "stdout",
     "output_type": "stream",
     "text": [
      "The set cost function is ignored! LCB acquisition does not make sense with cost.\n",
      "ab\n"
     ]
    },
    {
     "name": "stderr",
     "output_type": "stream",
     "text": [
      "reconstraining parameters GP_regression.mul\n",
      "reconstraining parameters GP_regression.Gaussian_noise.variance\n"
     ]
    },
    {
     "name": "stdout",
     "output_type": "stream",
     "text": [
      "sampling end!. 2019-04-17 17:25:55.010089 2019-04-17 17:26:35.609690\n"
     ]
    },
    {
     "name": "stderr",
     "output_type": "stream",
     "text": [
      "[I 2019-04-17 17:26:36,639] Finished a trial resulted in value: -0.9059663969764535. Current best value is -1.3149409755232564 with parameters: {'a': 1.0, 'b': 0.6671529459199689, 'ab': [1.0, 0.6671529459199689]}.\n"
     ]
    },
    {
     "name": "stdout",
     "output_type": "stream",
     "text": [
      "The set cost function is ignored! LCB acquisition does not make sense with cost.\n",
      "ab\n"
     ]
    },
    {
     "name": "stderr",
     "output_type": "stream",
     "text": [
      "reconstraining parameters GP_regression.mul\n",
      "reconstraining parameters GP_regression.Gaussian_noise.variance\n"
     ]
    },
    {
     "name": "stdout",
     "output_type": "stream",
     "text": [
      "sampling end!. 2019-04-17 17:26:36.646445 2019-04-17 17:27:16.913085\n"
     ]
    },
    {
     "name": "stderr",
     "output_type": "stream",
     "text": [
      "[I 2019-04-17 17:27:17,939] Finished a trial resulted in value: -1.0876951093968623. Current best value is -1.3149409755232564 with parameters: {'a': 1.0, 'b': 0.6671529459199689, 'ab': [1.0, 0.6671529459199689]}.\n"
     ]
    },
    {
     "name": "stdout",
     "output_type": "stream",
     "text": [
      "The set cost function is ignored! LCB acquisition does not make sense with cost.\n",
      "ab\n"
     ]
    },
    {
     "name": "stderr",
     "output_type": "stream",
     "text": [
      "reconstraining parameters GP_regression.mul\n",
      "reconstraining parameters GP_regression.Gaussian_noise.variance\n"
     ]
    },
    {
     "name": "stdout",
     "output_type": "stream",
     "text": [
      "sampling end!. 2019-04-17 17:27:17.941616 2019-04-17 17:28:06.005339\n"
     ]
    },
    {
     "name": "stderr",
     "output_type": "stream",
     "text": [
      "[I 2019-04-17 17:28:07,025] Finished a trial resulted in value: -0.9998671220860526. Current best value is -1.3149409755232564 with parameters: {'a': 1.0, 'b': 0.6671529459199689, 'ab': [1.0, 0.6671529459199689]}.\n"
     ]
    },
    {
     "name": "stdout",
     "output_type": "stream",
     "text": [
      "The set cost function is ignored! LCB acquisition does not make sense with cost.\n",
      "ab\n"
     ]
    },
    {
     "name": "stderr",
     "output_type": "stream",
     "text": [
      "reconstraining parameters GP_regression.mul\n",
      "reconstraining parameters GP_regression.Gaussian_noise.variance\n"
     ]
    },
    {
     "name": "stdout",
     "output_type": "stream",
     "text": [
      "sampling end!. 2019-04-17 17:28:07.034346 2019-04-17 17:29:12.921299\n"
     ]
    },
    {
     "name": "stderr",
     "output_type": "stream",
     "text": [
      "[I 2019-04-17 17:29:13,948] Finished a trial resulted in value: -0.9885839449192928. Current best value is -1.3149409755232564 with parameters: {'a': 1.0, 'b': 0.6671529459199689, 'ab': [1.0, 0.6671529459199689]}.\n"
     ]
    },
    {
     "name": "stdout",
     "output_type": "stream",
     "text": [
      "The set cost function is ignored! LCB acquisition does not make sense with cost.\n",
      "ab\n"
     ]
    },
    {
     "name": "stderr",
     "output_type": "stream",
     "text": [
      "reconstraining parameters GP_regression.mul\n",
      "reconstraining parameters GP_regression.Gaussian_noise.variance\n"
     ]
    },
    {
     "name": "stdout",
     "output_type": "stream",
     "text": [
      "sampling end!. 2019-04-17 17:29:13.951109 2019-04-17 17:30:06.120488\n"
     ]
    },
    {
     "name": "stderr",
     "output_type": "stream",
     "text": [
      "[I 2019-04-17 17:30:07,144] Finished a trial resulted in value: 1.430174679776612. Current best value is -1.3149409755232564 with parameters: {'a': 1.0, 'b': 0.6671529459199689, 'ab': [1.0, 0.6671529459199689]}.\n"
     ]
    },
    {
     "name": "stdout",
     "output_type": "stream",
     "text": [
      "The set cost function is ignored! LCB acquisition does not make sense with cost.\n",
      "ab\n"
     ]
    },
    {
     "name": "stderr",
     "output_type": "stream",
     "text": [
      "reconstraining parameters GP_regression.mul\n",
      "reconstraining parameters GP_regression.Gaussian_noise.variance\n"
     ]
    },
    {
     "name": "stdout",
     "output_type": "stream",
     "text": [
      "sampling end!. 2019-04-17 17:30:07.149952 2019-04-17 17:31:01.669473\n"
     ]
    },
    {
     "name": "stderr",
     "output_type": "stream",
     "text": [
      "[I 2019-04-17 17:31:02,695] Finished a trial resulted in value: -1.0256118720154879. Current best value is -1.3149409755232564 with parameters: {'a': 1.0, 'b': 0.6671529459199689, 'ab': [1.0, 0.6671529459199689]}.\n"
     ]
    },
    {
     "name": "stdout",
     "output_type": "stream",
     "text": [
      "The set cost function is ignored! LCB acquisition does not make sense with cost.\n",
      "ab\n"
     ]
    },
    {
     "name": "stderr",
     "output_type": "stream",
     "text": [
      "reconstraining parameters GP_regression.mul\n",
      "reconstraining parameters GP_regression.Gaussian_noise.variance\n"
     ]
    },
    {
     "name": "stdout",
     "output_type": "stream",
     "text": [
      "sampling end!. 2019-04-17 17:31:02.697569 2019-04-17 17:31:47.426654\n"
     ]
    },
    {
     "name": "stderr",
     "output_type": "stream",
     "text": [
      "[I 2019-04-17 17:31:48,450] Finished a trial resulted in value: -0.819398928304935. Current best value is -1.3149409755232564 with parameters: {'a': 1.0, 'b': 0.6671529459199689, 'ab': [1.0, 0.6671529459199689]}.\n"
     ]
    },
    {
     "name": "stdout",
     "output_type": "stream",
     "text": [
      "The set cost function is ignored! LCB acquisition does not make sense with cost.\n",
      "ab\n"
     ]
    },
    {
     "name": "stderr",
     "output_type": "stream",
     "text": [
      "reconstraining parameters GP_regression.mul\n",
      "reconstraining parameters GP_regression.Gaussian_noise.variance\n"
     ]
    },
    {
     "name": "stdout",
     "output_type": "stream",
     "text": [
      "sampling end!. 2019-04-17 17:31:48.452628 2019-04-17 17:32:37.921544\n"
     ]
    },
    {
     "name": "stderr",
     "output_type": "stream",
     "text": [
      "[I 2019-04-17 17:32:38,938] Finished a trial resulted in value: -0.5740699760588616. Current best value is -1.3149409755232564 with parameters: {'a': 1.0, 'b': 0.6671529459199689, 'ab': [1.0, 0.6671529459199689]}.\n"
     ]
    },
    {
     "name": "stdout",
     "output_type": "stream",
     "text": [
      "The set cost function is ignored! LCB acquisition does not make sense with cost.\n",
      "ab\n"
     ]
    },
    {
     "name": "stderr",
     "output_type": "stream",
     "text": [
      "reconstraining parameters GP_regression.mul\n",
      "reconstraining parameters GP_regression.Gaussian_noise.variance\n"
     ]
    },
    {
     "name": "stdout",
     "output_type": "stream",
     "text": [
      "sampling end!. 2019-04-17 17:32:38.941074 2019-04-17 17:33:33.492073\n"
     ]
    },
    {
     "name": "stderr",
     "output_type": "stream",
     "text": [
      "[I 2019-04-17 17:33:34,510] Finished a trial resulted in value: -1.143735720926501. Current best value is -1.3149409755232564 with parameters: {'a': 1.0, 'b': 0.6671529459199689, 'ab': [1.0, 0.6671529459199689]}.\n"
     ]
    },
    {
     "name": "stdout",
     "output_type": "stream",
     "text": [
      "The set cost function is ignored! LCB acquisition does not make sense with cost.\n",
      "ab\n"
     ]
    },
    {
     "name": "stderr",
     "output_type": "stream",
     "text": [
      "reconstraining parameters GP_regression.mul\n",
      "reconstraining parameters GP_regression.Gaussian_noise.variance\n"
     ]
    },
    {
     "name": "stdout",
     "output_type": "stream",
     "text": [
      "sampling end!. 2019-04-17 17:33:34.516877 2019-04-17 17:34:19.178225\n"
     ]
    },
    {
     "name": "stderr",
     "output_type": "stream",
     "text": [
      "[I 2019-04-17 17:34:20,201] Finished a trial resulted in value: -1.2841672853581163. Current best value is -1.3149409755232564 with parameters: {'a': 1.0, 'b': 0.6671529459199689, 'ab': [1.0, 0.6671529459199689]}.\n"
     ]
    },
    {
     "name": "stdout",
     "output_type": "stream",
     "text": [
      "The set cost function is ignored! LCB acquisition does not make sense with cost.\n",
      "ab\n"
     ]
    },
    {
     "name": "stderr",
     "output_type": "stream",
     "text": [
      "reconstraining parameters GP_regression.mul\n",
      "reconstraining parameters GP_regression.Gaussian_noise.variance\n"
     ]
    },
    {
     "name": "stdout",
     "output_type": "stream",
     "text": [
      "sampling end!. 2019-04-17 17:34:20.208597 2019-04-17 17:35:28.424466\n"
     ]
    },
    {
     "name": "stderr",
     "output_type": "stream",
     "text": [
      "[I 2019-04-17 17:35:29,451] Finished a trial resulted in value: -0.9712095529188537. Current best value is -1.3149409755232564 with parameters: {'a': 1.0, 'b': 0.6671529459199689, 'ab': [1.0, 0.6671529459199689]}.\n"
     ]
    },
    {
     "name": "stdout",
     "output_type": "stream",
     "text": [
      "The set cost function is ignored! LCB acquisition does not make sense with cost.\n",
      "ab\n"
     ]
    },
    {
     "name": "stderr",
     "output_type": "stream",
     "text": [
      "reconstraining parameters GP_regression.mul\n",
      "reconstraining parameters GP_regression.Gaussian_noise.variance\n"
     ]
    },
    {
     "name": "stdout",
     "output_type": "stream",
     "text": [
      "sampling end!. 2019-04-17 17:35:29.453848 2019-04-17 17:36:28.950050\n"
     ]
    },
    {
     "name": "stderr",
     "output_type": "stream",
     "text": [
      "[I 2019-04-17 17:36:29,971] Finished a trial resulted in value: -0.8701650258947694. Current best value is -1.3149409755232564 with parameters: {'a': 1.0, 'b': 0.6671529459199689, 'ab': [1.0, 0.6671529459199689]}.\n"
     ]
    },
    {
     "name": "stdout",
     "output_type": "stream",
     "text": [
      "The set cost function is ignored! LCB acquisition does not make sense with cost.\n",
      "ab\n"
     ]
    },
    {
     "name": "stderr",
     "output_type": "stream",
     "text": [
      "reconstraining parameters GP_regression.mul\n",
      "reconstraining parameters GP_regression.Gaussian_noise.variance\n"
     ]
    },
    {
     "name": "stdout",
     "output_type": "stream",
     "text": [
      "sampling end!. 2019-04-17 17:36:29.973672 2019-04-17 17:37:22.887796\n"
     ]
    },
    {
     "name": "stderr",
     "output_type": "stream",
     "text": [
      "[I 2019-04-17 17:37:23,913] Finished a trial resulted in value: -0.9477017756207753. Current best value is -1.3149409755232564 with parameters: {'a': 1.0, 'b': 0.6671529459199689, 'ab': [1.0, 0.6671529459199689]}.\n"
     ]
    },
    {
     "name": "stdout",
     "output_type": "stream",
     "text": [
      "The set cost function is ignored! LCB acquisition does not make sense with cost.\n",
      "ab\n"
     ]
    },
    {
     "name": "stderr",
     "output_type": "stream",
     "text": [
      "reconstraining parameters GP_regression.mul\n",
      "reconstraining parameters GP_regression.Gaussian_noise.variance\n"
     ]
    },
    {
     "name": "stdout",
     "output_type": "stream",
     "text": [
      "sampling end!. 2019-04-17 17:37:23.919683 2019-04-17 17:38:06.670904\n"
     ]
    },
    {
     "name": "stderr",
     "output_type": "stream",
     "text": [
      "[I 2019-04-17 17:38:07,695] Finished a trial resulted in value: -0.576871082187598. Current best value is -1.3149409755232564 with parameters: {'a': 1.0, 'b': 0.6671529459199689, 'ab': [1.0, 0.6671529459199689]}.\n"
     ]
    },
    {
     "name": "stdout",
     "output_type": "stream",
     "text": [
      "The set cost function is ignored! LCB acquisition does not make sense with cost.\n",
      "ab\n"
     ]
    },
    {
     "name": "stderr",
     "output_type": "stream",
     "text": [
      "reconstraining parameters GP_regression.mul\n",
      "reconstraining parameters GP_regression.Gaussian_noise.variance\n"
     ]
    },
    {
     "name": "stdout",
     "output_type": "stream",
     "text": [
      "sampling end!. 2019-04-17 17:38:07.698040 2019-04-17 17:39:06.752097\n"
     ]
    },
    {
     "name": "stderr",
     "output_type": "stream",
     "text": [
      "[I 2019-04-17 17:39:07,771] Finished a trial resulted in value: -0.7446110637652656. Current best value is -1.3149409755232564 with parameters: {'a': 1.0, 'b': 0.6671529459199689, 'ab': [1.0, 0.6671529459199689]}.\n"
     ]
    },
    {
     "name": "stdout",
     "output_type": "stream",
     "text": [
      "The set cost function is ignored! LCB acquisition does not make sense with cost.\n",
      "ab\n"
     ]
    },
    {
     "name": "stderr",
     "output_type": "stream",
     "text": [
      "reconstraining parameters GP_regression.mul\n",
      "reconstraining parameters GP_regression.Gaussian_noise.variance\n"
     ]
    },
    {
     "name": "stdout",
     "output_type": "stream",
     "text": [
      "sampling end!. 2019-04-17 17:39:07.773632 2019-04-17 17:39:54.050871\n"
     ]
    },
    {
     "name": "stderr",
     "output_type": "stream",
     "text": [
      "[I 2019-04-17 17:39:55,070] Finished a trial resulted in value: -0.6775860500634618. Current best value is -1.3149409755232564 with parameters: {'a': 1.0, 'b': 0.6671529459199689, 'ab': [1.0, 0.6671529459199689]}.\n"
     ]
    },
    {
     "name": "stdout",
     "output_type": "stream",
     "text": [
      "The set cost function is ignored! LCB acquisition does not make sense with cost.\n",
      "ab\n"
     ]
    },
    {
     "name": "stderr",
     "output_type": "stream",
     "text": [
      "reconstraining parameters GP_regression.mul\n",
      "reconstraining parameters GP_regression.Gaussian_noise.variance\n"
     ]
    },
    {
     "name": "stdout",
     "output_type": "stream",
     "text": [
      "sampling end!. 2019-04-17 17:39:55.076928 2019-04-17 17:41:12.200025\n"
     ]
    },
    {
     "name": "stderr",
     "output_type": "stream",
     "text": [
      "[I 2019-04-17 17:41:13,216] Finished a trial resulted in value: -0.9137218686615218. Current best value is -1.3149409755232564 with parameters: {'a': 1.0, 'b': 0.6671529459199689, 'ab': [1.0, 0.6671529459199689]}.\n"
     ]
    },
    {
     "name": "stdout",
     "output_type": "stream",
     "text": [
      "The set cost function is ignored! LCB acquisition does not make sense with cost.\n",
      "ab\n"
     ]
    },
    {
     "name": "stderr",
     "output_type": "stream",
     "text": [
      "reconstraining parameters GP_regression.mul\n",
      "reconstraining parameters GP_regression.Gaussian_noise.variance\n"
     ]
    },
    {
     "name": "stdout",
     "output_type": "stream",
     "text": [
      "sampling end!. 2019-04-17 17:41:13.219019 2019-04-17 17:42:14.834084\n"
     ]
    },
    {
     "name": "stderr",
     "output_type": "stream",
     "text": [
      "[I 2019-04-17 17:42:15,851] Finished a trial resulted in value: -0.735596101957622. Current best value is -1.3149409755232564 with parameters: {'a': 1.0, 'b': 0.6671529459199689, 'ab': [1.0, 0.6671529459199689]}.\n"
     ]
    },
    {
     "name": "stdout",
     "output_type": "stream",
     "text": [
      "The set cost function is ignored! LCB acquisition does not make sense with cost.\n",
      "ab\n"
     ]
    },
    {
     "name": "stderr",
     "output_type": "stream",
     "text": [
      "reconstraining parameters GP_regression.mul\n",
      "reconstraining parameters GP_regression.Gaussian_noise.variance\n"
     ]
    },
    {
     "name": "stdout",
     "output_type": "stream",
     "text": [
      "sampling end!. 2019-04-17 17:42:15.853866 2019-04-17 17:43:24.534111\n"
     ]
    },
    {
     "name": "stderr",
     "output_type": "stream",
     "text": [
      "[I 2019-04-17 17:43:25,551] Finished a trial resulted in value: -0.8960318793142774. Current best value is -1.3149409755232564 with parameters: {'a': 1.0, 'b': 0.6671529459199689, 'ab': [1.0, 0.6671529459199689]}.\n"
     ]
    },
    {
     "name": "stdout",
     "output_type": "stream",
     "text": [
      "The set cost function is ignored! LCB acquisition does not make sense with cost.\n",
      "ab\n"
     ]
    },
    {
     "name": "stderr",
     "output_type": "stream",
     "text": [
      "reconstraining parameters GP_regression.mul\n",
      "reconstraining parameters GP_regression.Gaussian_noise.variance\n"
     ]
    },
    {
     "name": "stdout",
     "output_type": "stream",
     "text": [
      "sampling end!. 2019-04-17 17:43:25.553435 2019-04-17 17:44:26.826567\n"
     ]
    },
    {
     "name": "stderr",
     "output_type": "stream",
     "text": [
      "[I 2019-04-17 17:44:27,852] Finished a trial resulted in value: -0.7334459917112598. Current best value is -1.3149409755232564 with parameters: {'a': 1.0, 'b': 0.6671529459199689, 'ab': [1.0, 0.6671529459199689]}.\n"
     ]
    },
    {
     "name": "stdout",
     "output_type": "stream",
     "text": [
      "The set cost function is ignored! LCB acquisition does not make sense with cost.\n",
      "ab\n"
     ]
    },
    {
     "name": "stderr",
     "output_type": "stream",
     "text": [
      "reconstraining parameters GP_regression.mul\n",
      "reconstraining parameters GP_regression.Gaussian_noise.variance\n"
     ]
    },
    {
     "name": "stdout",
     "output_type": "stream",
     "text": [
      "sampling end!. 2019-04-17 17:44:27.854362 2019-04-17 17:45:14.053837\n"
     ]
    },
    {
     "name": "stderr",
     "output_type": "stream",
     "text": [
      "[I 2019-04-17 17:45:15,074] Finished a trial resulted in value: 0.7347588769435075. Current best value is -1.3149409755232564 with parameters: {'a': 1.0, 'b': 0.6671529459199689, 'ab': [1.0, 0.6671529459199689]}.\n"
     ]
    },
    {
     "name": "stdout",
     "output_type": "stream",
     "text": [
      "The set cost function is ignored! LCB acquisition does not make sense with cost.\n",
      "ab\n"
     ]
    },
    {
     "name": "stderr",
     "output_type": "stream",
     "text": [
      "reconstraining parameters GP_regression.mul\n",
      "reconstraining parameters GP_regression.Gaussian_noise.variance\n"
     ]
    },
    {
     "name": "stdout",
     "output_type": "stream",
     "text": [
      "sampling end!. 2019-04-17 17:45:15.077040 2019-04-17 17:46:04.378200\n"
     ]
    },
    {
     "name": "stderr",
     "output_type": "stream",
     "text": [
      "[I 2019-04-17 17:46:05,405] Finished a trial resulted in value: 0.6189828311788947. Current best value is -1.3149409755232564 with parameters: {'a': 1.0, 'b': 0.6671529459199689, 'ab': [1.0, 0.6671529459199689]}.\n"
     ]
    },
    {
     "name": "stdout",
     "output_type": "stream",
     "text": [
      "The set cost function is ignored! LCB acquisition does not make sense with cost.\n",
      "ab\n"
     ]
    },
    {
     "name": "stderr",
     "output_type": "stream",
     "text": [
      "reconstraining parameters GP_regression.mul\n",
      "reconstraining parameters GP_regression.Gaussian_noise.variance\n"
     ]
    },
    {
     "name": "stdout",
     "output_type": "stream",
     "text": [
      "sampling end!. 2019-04-17 17:46:05.407276 2019-04-17 17:46:55.674248\n"
     ]
    },
    {
     "name": "stderr",
     "output_type": "stream",
     "text": [
      "[I 2019-04-17 17:46:56,704] Finished a trial resulted in value: -0.7495768941324148. Current best value is -1.3149409755232564 with parameters: {'a': 1.0, 'b': 0.6671529459199689, 'ab': [1.0, 0.6671529459199689]}.\n"
     ]
    },
    {
     "name": "stdout",
     "output_type": "stream",
     "text": [
      "The set cost function is ignored! LCB acquisition does not make sense with cost.\n",
      "ab\n"
     ]
    },
    {
     "name": "stderr",
     "output_type": "stream",
     "text": [
      "reconstraining parameters GP_regression.mul\n",
      "reconstraining parameters GP_regression.Gaussian_noise.variance\n"
     ]
    },
    {
     "name": "stdout",
     "output_type": "stream",
     "text": [
      "sampling end!. 2019-04-17 17:46:56.706536 2019-04-17 17:47:45.221170\n"
     ]
    },
    {
     "name": "stderr",
     "output_type": "stream",
     "text": [
      "[I 2019-04-17 17:47:46,250] Finished a trial resulted in value: -0.5367763105575883. Current best value is -1.3149409755232564 with parameters: {'a': 1.0, 'b': 0.6671529459199689, 'ab': [1.0, 0.6671529459199689]}.\n"
     ]
    },
    {
     "name": "stdout",
     "output_type": "stream",
     "text": [
      "The set cost function is ignored! LCB acquisition does not make sense with cost.\n",
      "ab\n"
     ]
    },
    {
     "name": "stderr",
     "output_type": "stream",
     "text": [
      "reconstraining parameters GP_regression.mul\n",
      "reconstraining parameters GP_regression.Gaussian_noise.variance\n"
     ]
    },
    {
     "name": "stdout",
     "output_type": "stream",
     "text": [
      "sampling end!. 2019-04-17 17:47:46.253141 2019-04-17 17:48:30.442466\n"
     ]
    },
    {
     "name": "stderr",
     "output_type": "stream",
     "text": [
      "[I 2019-04-17 17:48:31,490] Finished a trial resulted in value: -0.41558615069903293. Current best value is -1.3149409755232564 with parameters: {'a': 1.0, 'b': 0.6671529459199689, 'ab': [1.0, 0.6671529459199689]}.\n"
     ]
    },
    {
     "name": "stdout",
     "output_type": "stream",
     "text": [
      "The set cost function is ignored! LCB acquisition does not make sense with cost.\n",
      "ab\n"
     ]
    },
    {
     "name": "stderr",
     "output_type": "stream",
     "text": [
      "reconstraining parameters GP_regression.mul\n",
      "reconstraining parameters GP_regression.Gaussian_noise.variance\n"
     ]
    },
    {
     "name": "stdout",
     "output_type": "stream",
     "text": [
      "sampling end!. 2019-04-17 17:48:31.492880 2019-04-17 17:49:15.107079\n"
     ]
    },
    {
     "name": "stderr",
     "output_type": "stream",
     "text": [
      "[I 2019-04-17 17:49:16,127] Finished a trial resulted in value: -1.0968658014564616. Current best value is -1.3149409755232564 with parameters: {'a': 1.0, 'b': 0.6671529459199689, 'ab': [1.0, 0.6671529459199689]}.\n"
     ]
    },
    {
     "name": "stdout",
     "output_type": "stream",
     "text": [
      "The set cost function is ignored! LCB acquisition does not make sense with cost.\n",
      "ab\n"
     ]
    },
    {
     "name": "stderr",
     "output_type": "stream",
     "text": [
      "reconstraining parameters GP_regression.mul\n",
      "reconstraining parameters GP_regression.Gaussian_noise.variance\n"
     ]
    },
    {
     "name": "stdout",
     "output_type": "stream",
     "text": [
      "sampling end!. 2019-04-17 17:49:16.129526 2019-04-17 17:50:16.860932\n"
     ]
    },
    {
     "name": "stderr",
     "output_type": "stream",
     "text": [
      "[I 2019-04-17 17:50:17,882] Finished a trial resulted in value: -0.9380831468336921. Current best value is -1.3149409755232564 with parameters: {'a': 1.0, 'b': 0.6671529459199689, 'ab': [1.0, 0.6671529459199689]}.\n"
     ]
    },
    {
     "name": "stdout",
     "output_type": "stream",
     "text": [
      "The set cost function is ignored! LCB acquisition does not make sense with cost.\n",
      "ab\n"
     ]
    },
    {
     "name": "stderr",
     "output_type": "stream",
     "text": [
      "reconstraining parameters GP_regression.mul\n",
      "reconstraining parameters GP_regression.Gaussian_noise.variance\n"
     ]
    },
    {
     "name": "stdout",
     "output_type": "stream",
     "text": [
      "sampling end!. 2019-04-17 17:50:17.884837 2019-04-17 17:51:19.123768\n"
     ]
    },
    {
     "name": "stderr",
     "output_type": "stream",
     "text": [
      "[I 2019-04-17 17:51:20,150] Finished a trial resulted in value: -0.40685410845801995. Current best value is -1.3149409755232564 with parameters: {'a': 1.0, 'b': 0.6671529459199689, 'ab': [1.0, 0.6671529459199689]}.\n"
     ]
    },
    {
     "name": "stdout",
     "output_type": "stream",
     "text": [
      "The set cost function is ignored! LCB acquisition does not make sense with cost.\n",
      "ab\n"
     ]
    },
    {
     "name": "stderr",
     "output_type": "stream",
     "text": [
      "reconstraining parameters GP_regression.mul\n",
      "reconstraining parameters GP_regression.Gaussian_noise.variance\n"
     ]
    },
    {
     "name": "stdout",
     "output_type": "stream",
     "text": [
      "sampling end!. 2019-04-17 17:51:20.152291 2019-04-17 17:52:07.207978\n"
     ]
    },
    {
     "name": "stderr",
     "output_type": "stream",
     "text": [
      "[I 2019-04-17 17:52:08,237] Finished a trial resulted in value: 1.0478051479778334. Current best value is -1.3149409755232564 with parameters: {'a': 1.0, 'b': 0.6671529459199689, 'ab': [1.0, 0.6671529459199689]}.\n"
     ]
    },
    {
     "name": "stdout",
     "output_type": "stream",
     "text": [
      "The set cost function is ignored! LCB acquisition does not make sense with cost.\n",
      "ab\n"
     ]
    },
    {
     "name": "stderr",
     "output_type": "stream",
     "text": [
      "reconstraining parameters GP_regression.mul\n",
      "reconstraining parameters GP_regression.Gaussian_noise.variance\n"
     ]
    },
    {
     "name": "stdout",
     "output_type": "stream",
     "text": [
      "sampling end!. 2019-04-17 17:52:08.239081 2019-04-17 17:52:59.503344\n"
     ]
    },
    {
     "name": "stderr",
     "output_type": "stream",
     "text": [
      "[I 2019-04-17 17:53:00,533] Finished a trial resulted in value: -0.7316308982377395. Current best value is -1.3149409755232564 with parameters: {'a': 1.0, 'b': 0.6671529459199689, 'ab': [1.0, 0.6671529459199689]}.\n"
     ]
    },
    {
     "name": "stdout",
     "output_type": "stream",
     "text": [
      "The set cost function is ignored! LCB acquisition does not make sense with cost.\n",
      "ab\n"
     ]
    },
    {
     "name": "stderr",
     "output_type": "stream",
     "text": [
      "reconstraining parameters GP_regression.mul\n",
      "reconstraining parameters GP_regression.Gaussian_noise.variance\n"
     ]
    },
    {
     "name": "stdout",
     "output_type": "stream",
     "text": [
      "sampling end!. 2019-04-17 17:53:00.535767 2019-04-17 17:53:58.854644\n"
     ]
    },
    {
     "name": "stderr",
     "output_type": "stream",
     "text": [
      "[I 2019-04-17 17:53:59,884] Finished a trial resulted in value: -1.033874819200822. Current best value is -1.3149409755232564 with parameters: {'a': 1.0, 'b': 0.6671529459199689, 'ab': [1.0, 0.6671529459199689]}.\n"
     ]
    },
    {
     "name": "stdout",
     "output_type": "stream",
     "text": [
      "The set cost function is ignored! LCB acquisition does not make sense with cost.\n",
      "ab\n"
     ]
    },
    {
     "name": "stderr",
     "output_type": "stream",
     "text": [
      "reconstraining parameters GP_regression.mul\n",
      "reconstraining parameters GP_regression.Gaussian_noise.variance\n"
     ]
    },
    {
     "name": "stdout",
     "output_type": "stream",
     "text": [
      "sampling end!. 2019-04-17 17:53:59.886817 2019-04-17 17:55:06.150731\n"
     ]
    },
    {
     "name": "stderr",
     "output_type": "stream",
     "text": [
      "[I 2019-04-17 17:55:07,168] Finished a trial resulted in value: -0.9210597084146017. Current best value is -1.3149409755232564 with parameters: {'a': 1.0, 'b': 0.6671529459199689, 'ab': [1.0, 0.6671529459199689]}.\n"
     ]
    },
    {
     "name": "stdout",
     "output_type": "stream",
     "text": [
      "The set cost function is ignored! LCB acquisition does not make sense with cost.\n",
      "ab\n"
     ]
    },
    {
     "name": "stderr",
     "output_type": "stream",
     "text": [
      "reconstraining parameters GP_regression.mul\n",
      "reconstraining parameters GP_regression.Gaussian_noise.variance\n"
     ]
    },
    {
     "name": "stdout",
     "output_type": "stream",
     "text": [
      "sampling end!. 2019-04-17 17:55:07.171585 2019-04-17 17:56:13.603811\n"
     ]
    },
    {
     "name": "stderr",
     "output_type": "stream",
     "text": [
      "[I 2019-04-17 17:56:14,623] Finished a trial resulted in value: -1.047483966713442. Current best value is -1.3149409755232564 with parameters: {'a': 1.0, 'b': 0.6671529459199689, 'ab': [1.0, 0.6671529459199689]}.\n"
     ]
    },
    {
     "name": "stdout",
     "output_type": "stream",
     "text": [
      "The set cost function is ignored! LCB acquisition does not make sense with cost.\n",
      "ab\n"
     ]
    },
    {
     "name": "stderr",
     "output_type": "stream",
     "text": [
      "reconstraining parameters GP_regression.mul\n",
      "reconstraining parameters GP_regression.Gaussian_noise.variance\n"
     ]
    },
    {
     "name": "stdout",
     "output_type": "stream",
     "text": [
      "sampling end!. 2019-04-17 17:56:14.626238 2019-04-17 17:57:12.475750\n"
     ]
    },
    {
     "name": "stderr",
     "output_type": "stream",
     "text": [
      "[I 2019-04-17 17:57:13,506] Finished a trial resulted in value: -1.2739634527810082. Current best value is -1.3149409755232564 with parameters: {'a': 1.0, 'b': 0.6671529459199689, 'ab': [1.0, 0.6671529459199689]}.\n"
     ]
    },
    {
     "name": "stdout",
     "output_type": "stream",
     "text": [
      "The set cost function is ignored! LCB acquisition does not make sense with cost.\n",
      "ab\n"
     ]
    },
    {
     "name": "stderr",
     "output_type": "stream",
     "text": [
      "reconstraining parameters GP_regression.mul\n",
      "reconstraining parameters GP_regression.Gaussian_noise.variance\n"
     ]
    },
    {
     "name": "stdout",
     "output_type": "stream",
     "text": [
      "sampling end!. 2019-04-17 17:57:13.508069 2019-04-17 17:58:16.625773\n"
     ]
    },
    {
     "name": "stderr",
     "output_type": "stream",
     "text": [
      "[I 2019-04-17 17:58:17,651] Finished a trial resulted in value: 0.37000636238254786. Current best value is -1.3149409755232564 with parameters: {'a': 1.0, 'b': 0.6671529459199689, 'ab': [1.0, 0.6671529459199689]}.\n"
     ]
    },
    {
     "name": "stdout",
     "output_type": "stream",
     "text": [
      "The set cost function is ignored! LCB acquisition does not make sense with cost.\n",
      "ab\n"
     ]
    },
    {
     "name": "stderr",
     "output_type": "stream",
     "text": [
      "reconstraining parameters GP_regression.mul\n",
      "reconstraining parameters GP_regression.Gaussian_noise.variance\n"
     ]
    },
    {
     "name": "stdout",
     "output_type": "stream",
     "text": [
      "sampling end!. 2019-04-17 17:58:17.654334 2019-04-17 17:59:14.038278\n"
     ]
    },
    {
     "name": "stderr",
     "output_type": "stream",
     "text": [
      "[I 2019-04-17 17:59:15,057] Finished a trial resulted in value: -1.471294171757132. Current best value is -1.471294171757132 with parameters: {'a': 0.29808799382297063, 'b': 0.34494042342067155, 'ab': [0.29808799382297063, 0.34494042342067155]}.\n"
     ]
    },
    {
     "name": "stdout",
     "output_type": "stream",
     "text": [
      "The set cost function is ignored! LCB acquisition does not make sense with cost.\n",
      "ab\n"
     ]
    },
    {
     "name": "stderr",
     "output_type": "stream",
     "text": [
      "reconstraining parameters GP_regression.mul\n",
      "reconstraining parameters GP_regression.Gaussian_noise.variance\n"
     ]
    },
    {
     "name": "stdout",
     "output_type": "stream",
     "text": [
      "sampling end!. 2019-04-17 17:59:15.059569 2019-04-17 18:00:29.544040\n"
     ]
    },
    {
     "name": "stderr",
     "output_type": "stream",
     "text": [
      "[I 2019-04-17 18:00:30,564] Finished a trial resulted in value: -1.4804558649107469. Current best value is -1.4804558649107469 with parameters: {'a': 0.3038163712139314, 'b': 0.31995656657911237, 'ab': [0.3038163712139314, 0.31995656657911237]}.\n"
     ]
    },
    {
     "name": "stdout",
     "output_type": "stream",
     "text": [
      "The set cost function is ignored! LCB acquisition does not make sense with cost.\n",
      "ab\n"
     ]
    },
    {
     "name": "stderr",
     "output_type": "stream",
     "text": [
      "reconstraining parameters GP_regression.mul\n",
      "reconstraining parameters GP_regression.Gaussian_noise.variance\n"
     ]
    },
    {
     "name": "stdout",
     "output_type": "stream",
     "text": [
      "sampling end!. 2019-04-17 18:00:30.566046 2019-04-17 18:01:34.973854\n"
     ]
    },
    {
     "name": "stderr",
     "output_type": "stream",
     "text": [
      "[I 2019-04-17 18:01:35,999] Finished a trial resulted in value: -1.5371477676501175. Current best value is -1.5371477676501175 with parameters: {'a': 0.3251726616194776, 'b': 0.34178830060789417, 'ab': [0.3251726616194776, 0.34178830060789417]}.\n"
     ]
    },
    {
     "name": "stdout",
     "output_type": "stream",
     "text": [
      "The set cost function is ignored! LCB acquisition does not make sense with cost.\n",
      "ab\n"
     ]
    },
    {
     "name": "stderr",
     "output_type": "stream",
     "text": [
      "reconstraining parameters GP_regression.mul\n",
      "reconstraining parameters GP_regression.Gaussian_noise.variance\n"
     ]
    },
    {
     "name": "stdout",
     "output_type": "stream",
     "text": [
      "sampling end!. 2019-04-17 18:01:36.001106 2019-04-17 18:02:44.830738\n"
     ]
    },
    {
     "name": "stderr",
     "output_type": "stream",
     "text": [
      "[I 2019-04-17 18:02:45,848] Finished a trial resulted in value: -1.4637945600331375. Current best value is -1.5371477676501175 with parameters: {'a': 0.3251726616194776, 'b': 0.34178830060789417, 'ab': [0.3251726616194776, 0.34178830060789417]}.\n"
     ]
    },
    {
     "name": "stdout",
     "output_type": "stream",
     "text": [
      "The set cost function is ignored! LCB acquisition does not make sense with cost.\n",
      "ab\n"
     ]
    },
    {
     "name": "stderr",
     "output_type": "stream",
     "text": [
      "reconstraining parameters GP_regression.mul\n",
      "reconstraining parameters GP_regression.Gaussian_noise.variance\n"
     ]
    },
    {
     "name": "stdout",
     "output_type": "stream",
     "text": [
      "sampling end!. 2019-04-17 18:02:45.851320 2019-04-17 18:03:41.205198\n"
     ]
    },
    {
     "name": "stderr",
     "output_type": "stream",
     "text": [
      "[I 2019-04-17 18:03:42,238] Finished a trial resulted in value: -1.5648148536849606. Current best value is -1.5648148536849606 with parameters: {'a': 0.3378356975120683, 'b': 0.3237497714441002, 'ab': [0.3378356975120683, 0.3237497714441002]}.\n"
     ]
    },
    {
     "name": "stdout",
     "output_type": "stream",
     "text": [
      "The set cost function is ignored! LCB acquisition does not make sense with cost.\n",
      "ab\n"
     ]
    },
    {
     "name": "stderr",
     "output_type": "stream",
     "text": [
      "reconstraining parameters GP_regression.mul\n",
      "reconstraining parameters GP_regression.Gaussian_noise.variance\n"
     ]
    },
    {
     "name": "stdout",
     "output_type": "stream",
     "text": [
      "sampling end!. 2019-04-17 18:03:42.241000 2019-04-17 18:04:45.605924\n"
     ]
    },
    {
     "name": "stderr",
     "output_type": "stream",
     "text": [
      "[I 2019-04-17 18:04:46,630] Finished a trial resulted in value: -1.493322213787486. Current best value is -1.5648148536849606 with parameters: {'a': 0.3378356975120683, 'b': 0.3237497714441002, 'ab': [0.3378356975120683, 0.3237497714441002]}.\n"
     ]
    },
    {
     "name": "stdout",
     "output_type": "stream",
     "text": [
      "The set cost function is ignored! LCB acquisition does not make sense with cost.\n",
      "ab\n"
     ]
    },
    {
     "name": "stderr",
     "output_type": "stream",
     "text": [
      "reconstraining parameters GP_regression.mul\n",
      "reconstraining parameters GP_regression.Gaussian_noise.variance\n"
     ]
    },
    {
     "name": "stdout",
     "output_type": "stream",
     "text": [
      "sampling end!. 2019-04-17 18:04:46.636696 2019-04-17 18:05:53.175403\n"
     ]
    },
    {
     "name": "stderr",
     "output_type": "stream",
     "text": [
      "[I 2019-04-17 18:05:54,196] Finished a trial resulted in value: -1.5286174373464856. Current best value is -1.5648148536849606 with parameters: {'a': 0.3378356975120683, 'b': 0.3237497714441002, 'ab': [0.3378356975120683, 0.3237497714441002]}.\n"
     ]
    },
    {
     "name": "stdout",
     "output_type": "stream",
     "text": [
      "The set cost function is ignored! LCB acquisition does not make sense with cost.\n",
      "ab\n"
     ]
    },
    {
     "name": "stderr",
     "output_type": "stream",
     "text": [
      "reconstraining parameters GP_regression.mul\n",
      "reconstraining parameters GP_regression.Gaussian_noise.variance\n"
     ]
    },
    {
     "name": "stdout",
     "output_type": "stream",
     "text": [
      "sampling end!. 2019-04-17 18:05:54.198433 2019-04-17 18:07:07.127080\n"
     ]
    },
    {
     "name": "stderr",
     "output_type": "stream",
     "text": [
      "[I 2019-04-17 18:07:08,150] Finished a trial resulted in value: -1.3965439807327256. Current best value is -1.5648148536849606 with parameters: {'a': 0.3378356975120683, 'b': 0.3237497714441002, 'ab': [0.3378356975120683, 0.3237497714441002]}.\n"
     ]
    },
    {
     "name": "stdout",
     "output_type": "stream",
     "text": [
      "The set cost function is ignored! LCB acquisition does not make sense with cost.\n",
      "ab\n"
     ]
    },
    {
     "name": "stderr",
     "output_type": "stream",
     "text": [
      "reconstraining parameters GP_regression.mul\n",
      "reconstraining parameters GP_regression.Gaussian_noise.variance\n"
     ]
    },
    {
     "name": "stdout",
     "output_type": "stream",
     "text": [
      "sampling end!. 2019-04-17 18:07:08.152613 2019-04-17 18:08:15.099376\n"
     ]
    },
    {
     "name": "stderr",
     "output_type": "stream",
     "text": [
      "[I 2019-04-17 18:08:16,121] Finished a trial resulted in value: -1.535053942753653. Current best value is -1.5648148536849606 with parameters: {'a': 0.3378356975120683, 'b': 0.3237497714441002, 'ab': [0.3378356975120683, 0.3237497714441002]}.\n"
     ]
    },
    {
     "name": "stdout",
     "output_type": "stream",
     "text": [
      "The set cost function is ignored! LCB acquisition does not make sense with cost.\n",
      "ab\n"
     ]
    },
    {
     "name": "stderr",
     "output_type": "stream",
     "text": [
      "reconstraining parameters GP_regression.mul\n",
      "reconstraining parameters GP_regression.Gaussian_noise.variance\n"
     ]
    },
    {
     "name": "stdout",
     "output_type": "stream",
     "text": [
      "sampling end!. 2019-04-17 18:08:16.125024 2019-04-17 18:09:45.490031\n"
     ]
    },
    {
     "name": "stderr",
     "output_type": "stream",
     "text": [
      "[I 2019-04-17 18:09:46,513] Finished a trial resulted in value: -1.5203995541848492. Current best value is -1.5648148536849606 with parameters: {'a': 0.3378356975120683, 'b': 0.3237497714441002, 'ab': [0.3378356975120683, 0.3237497714441002]}.\n"
     ]
    },
    {
     "name": "stdout",
     "output_type": "stream",
     "text": [
      "The set cost function is ignored! LCB acquisition does not make sense with cost.\n",
      "ab\n"
     ]
    },
    {
     "name": "stderr",
     "output_type": "stream",
     "text": [
      "reconstraining parameters GP_regression.mul\n",
      "reconstraining parameters GP_regression.Gaussian_noise.variance\n"
     ]
    },
    {
     "name": "stdout",
     "output_type": "stream",
     "text": [
      "sampling end!. 2019-04-17 18:09:46.515929 2019-04-17 18:10:57.512789\n"
     ]
    },
    {
     "name": "stderr",
     "output_type": "stream",
     "text": [
      "[I 2019-04-17 18:10:58,533] Finished a trial resulted in value: -1.4062614679214316. Current best value is -1.5648148536849606 with parameters: {'a': 0.3378356975120683, 'b': 0.3237497714441002, 'ab': [0.3378356975120683, 0.3237497714441002]}.\n"
     ]
    },
    {
     "name": "stdout",
     "output_type": "stream",
     "text": [
      "The set cost function is ignored! LCB acquisition does not make sense with cost.\n",
      "ab\n"
     ]
    },
    {
     "name": "stderr",
     "output_type": "stream",
     "text": [
      "reconstraining parameters GP_regression.mul\n",
      "reconstraining parameters GP_regression.Gaussian_noise.variance\n"
     ]
    },
    {
     "name": "stdout",
     "output_type": "stream",
     "text": [
      "sampling end!. 2019-04-17 18:10:58.535672 2019-04-17 18:12:11.025288\n"
     ]
    },
    {
     "name": "stderr",
     "output_type": "stream",
     "text": [
      "[I 2019-04-17 18:12:12,048] Finished a trial resulted in value: -1.4314444456028124. Current best value is -1.5648148536849606 with parameters: {'a': 0.3378356975120683, 'b': 0.3237497714441002, 'ab': [0.3378356975120683, 0.3237497714441002]}.\n"
     ]
    },
    {
     "name": "stdout",
     "output_type": "stream",
     "text": [
      "The set cost function is ignored! LCB acquisition does not make sense with cost.\n",
      "ab\n"
     ]
    },
    {
     "name": "stderr",
     "output_type": "stream",
     "text": [
      "reconstraining parameters GP_regression.mul\n",
      "reconstraining parameters GP_regression.Gaussian_noise.variance\n"
     ]
    },
    {
     "name": "stdout",
     "output_type": "stream",
     "text": [
      "sampling end!. 2019-04-17 18:12:12.050517 2019-04-17 18:13:40.592077\n"
     ]
    },
    {
     "name": "stderr",
     "output_type": "stream",
     "text": [
      "[I 2019-04-17 18:13:41,614] Finished a trial resulted in value: -1.382799643749686. Current best value is -1.5648148536849606 with parameters: {'a': 0.3378356975120683, 'b': 0.3237497714441002, 'ab': [0.3378356975120683, 0.3237497714441002]}.\n"
     ]
    },
    {
     "name": "stdout",
     "output_type": "stream",
     "text": [
      "The set cost function is ignored! LCB acquisition does not make sense with cost.\n",
      "ab\n"
     ]
    },
    {
     "name": "stderr",
     "output_type": "stream",
     "text": [
      "reconstraining parameters GP_regression.mul\n",
      "reconstraining parameters GP_regression.Gaussian_noise.variance\n"
     ]
    },
    {
     "name": "stdout",
     "output_type": "stream",
     "text": [
      "sampling end!. 2019-04-17 18:13:41.616639 2019-04-17 18:14:50.710418\n"
     ]
    },
    {
     "name": "stderr",
     "output_type": "stream",
     "text": [
      "[I 2019-04-17 18:14:51,737] Finished a trial resulted in value: -1.5427518167346377. Current best value is -1.5648148536849606 with parameters: {'a': 0.3378356975120683, 'b': 0.3237497714441002, 'ab': [0.3378356975120683, 0.3237497714441002]}.\n"
     ]
    },
    {
     "name": "stdout",
     "output_type": "stream",
     "text": [
      "The set cost function is ignored! LCB acquisition does not make sense with cost.\n",
      "ab\n"
     ]
    },
    {
     "name": "stderr",
     "output_type": "stream",
     "text": [
      "reconstraining parameters GP_regression.mul\n",
      "reconstraining parameters GP_regression.Gaussian_noise.variance\n"
     ]
    },
    {
     "name": "stdout",
     "output_type": "stream",
     "text": [
      "sampling end!. 2019-04-17 18:14:51.739953 2019-04-17 18:15:58.864668\n"
     ]
    },
    {
     "name": "stderr",
     "output_type": "stream",
     "text": [
      "[I 2019-04-17 18:15:59,889] Finished a trial resulted in value: -1.71581893090124. Current best value is -1.71581893090124 with parameters: {'a': 0.6154727937952184, 'b': 0.0, 'ab': [0.6154727937952184, 0.0]}.\n"
     ]
    },
    {
     "name": "stdout",
     "output_type": "stream",
     "text": [
      "The set cost function is ignored! LCB acquisition does not make sense with cost.\n",
      "ab\n"
     ]
    },
    {
     "name": "stderr",
     "output_type": "stream",
     "text": [
      "reconstraining parameters GP_regression.mul\n",
      "reconstraining parameters GP_regression.Gaussian_noise.variance\n"
     ]
    },
    {
     "name": "stdout",
     "output_type": "stream",
     "text": [
      "sampling end!. 2019-04-17 18:15:59.891881 2019-04-17 18:17:10.130442\n"
     ]
    },
    {
     "name": "stderr",
     "output_type": "stream",
     "text": [
      "[I 2019-04-17 18:17:11,154] Finished a trial resulted in value: -1.582469117674265. Current best value is -1.71581893090124 with parameters: {'a': 0.6154727937952184, 'b': 0.0, 'ab': [0.6154727937952184, 0.0]}.\n"
     ]
    },
    {
     "name": "stdout",
     "output_type": "stream",
     "text": [
      "The set cost function is ignored! LCB acquisition does not make sense with cost.\n",
      "ab\n"
     ]
    },
    {
     "name": "stderr",
     "output_type": "stream",
     "text": [
      "reconstraining parameters GP_regression.mul\n",
      "reconstraining parameters GP_regression.Gaussian_noise.variance\n"
     ]
    },
    {
     "name": "stdout",
     "output_type": "stream",
     "text": [
      "sampling end!. 2019-04-17 18:17:11.157233 2019-04-17 18:18:30.016684\n"
     ]
    },
    {
     "name": "stderr",
     "output_type": "stream",
     "text": [
      "[I 2019-04-17 18:18:31,044] Finished a trial resulted in value: -1.7984698720022285. Current best value is -1.7984698720022285 with parameters: {'a': 0.6222255301611918, 'b': 0.0, 'ab': [0.6222255301611918, 0.0]}.\n"
     ]
    },
    {
     "name": "stdout",
     "output_type": "stream",
     "text": [
      "The set cost function is ignored! LCB acquisition does not make sense with cost.\n",
      "ab\n"
     ]
    },
    {
     "name": "stderr",
     "output_type": "stream",
     "text": [
      "reconstraining parameters GP_regression.mul\n",
      "reconstraining parameters GP_regression.Gaussian_noise.variance\n"
     ]
    },
    {
     "name": "stdout",
     "output_type": "stream",
     "text": [
      "sampling end!. 2019-04-17 18:18:31.046575 2019-04-17 18:19:54.590408\n"
     ]
    },
    {
     "name": "stderr",
     "output_type": "stream",
     "text": [
      "[I 2019-04-17 18:19:55,618] Finished a trial resulted in value: -1.9255841681036747. Current best value is -1.9255841681036747 with parameters: {'a': 0.6192288955087264, 'b': 0.0, 'ab': [0.6192288955087264, 0.0]}.\n"
     ]
    },
    {
     "name": "stdout",
     "output_type": "stream",
     "text": [
      "The set cost function is ignored! LCB acquisition does not make sense with cost.\n",
      "ab\n"
     ]
    },
    {
     "name": "stderr",
     "output_type": "stream",
     "text": [
      "reconstraining parameters GP_regression.mul\n",
      "reconstraining parameters GP_regression.Gaussian_noise.variance\n"
     ]
    },
    {
     "name": "stdout",
     "output_type": "stream",
     "text": [
      "sampling end!. 2019-04-17 18:19:55.621095 2019-04-17 18:21:14.311175\n"
     ]
    },
    {
     "name": "stderr",
     "output_type": "stream",
     "text": [
      "[I 2019-04-17 18:21:15,335] Finished a trial resulted in value: -1.765519252174387. Current best value is -1.9255841681036747 with parameters: {'a': 0.6192288955087264, 'b': 0.0, 'ab': [0.6192288955087264, 0.0]}.\n"
     ]
    },
    {
     "name": "stdout",
     "output_type": "stream",
     "text": [
      "The set cost function is ignored! LCB acquisition does not make sense with cost.\n",
      "ab\n"
     ]
    },
    {
     "name": "stderr",
     "output_type": "stream",
     "text": [
      "reconstraining parameters GP_regression.mul\n",
      "reconstraining parameters GP_regression.Gaussian_noise.variance\n"
     ]
    },
    {
     "name": "stdout",
     "output_type": "stream",
     "text": [
      "sampling end!. 2019-04-17 18:21:15.337260 2019-04-17 18:22:34.449163\n"
     ]
    },
    {
     "name": "stderr",
     "output_type": "stream",
     "text": [
      "[I 2019-04-17 18:22:35,475] Finished a trial resulted in value: -1.873200615831731. Current best value is -1.9255841681036747 with parameters: {'a': 0.6192288955087264, 'b': 0.0, 'ab': [0.6192288955087264, 0.0]}.\n"
     ]
    },
    {
     "name": "stdout",
     "output_type": "stream",
     "text": [
      "The set cost function is ignored! LCB acquisition does not make sense with cost.\n",
      "ab\n"
     ]
    },
    {
     "name": "stderr",
     "output_type": "stream",
     "text": [
      "reconstraining parameters GP_regression.mul\n",
      "reconstraining parameters GP_regression.Gaussian_noise.variance\n"
     ]
    },
    {
     "name": "stdout",
     "output_type": "stream",
     "text": [
      "sampling end!. 2019-04-17 18:22:35.477481 2019-04-17 18:24:06.163108\n"
     ]
    },
    {
     "name": "stderr",
     "output_type": "stream",
     "text": [
      "[I 2019-04-17 18:24:07,185] Finished a trial resulted in value: -1.952825543024755. Current best value is -1.952825543024755 with parameters: {'a': 0.6159420076598124, 'b': 0.01801614712409784, 'ab': [0.6159420076598124, 0.01801614712409784]}.\n"
     ]
    },
    {
     "name": "stdout",
     "output_type": "stream",
     "text": [
      "The set cost function is ignored! LCB acquisition does not make sense with cost.\n",
      "ab\n"
     ]
    },
    {
     "name": "stderr",
     "output_type": "stream",
     "text": [
      "reconstraining parameters GP_regression.mul\n",
      "reconstraining parameters GP_regression.Gaussian_noise.variance\n"
     ]
    },
    {
     "name": "stdout",
     "output_type": "stream",
     "text": [
      "sampling end!. 2019-04-17 18:24:07.195410 2019-04-17 18:25:30.050571\n"
     ]
    },
    {
     "name": "stderr",
     "output_type": "stream",
     "text": [
      "[I 2019-04-17 18:25:31,071] Finished a trial resulted in value: -1.9202081597606397. Current best value is -1.952825543024755 with parameters: {'a': 0.6159420076598124, 'b': 0.01801614712409784, 'ab': [0.6159420076598124, 0.01801614712409784]}.\n"
     ]
    },
    {
     "name": "stdout",
     "output_type": "stream",
     "text": [
      "The set cost function is ignored! LCB acquisition does not make sense with cost.\n",
      "ab\n"
     ]
    },
    {
     "name": "stderr",
     "output_type": "stream",
     "text": [
      "reconstraining parameters GP_regression.mul\n",
      "reconstraining parameters GP_regression.Gaussian_noise.variance\n"
     ]
    },
    {
     "name": "stdout",
     "output_type": "stream",
     "text": [
      "sampling end!. 2019-04-17 18:25:31.073698 2019-04-17 18:26:47.765125\n"
     ]
    },
    {
     "name": "stderr",
     "output_type": "stream",
     "text": [
      "[I 2019-04-17 18:26:48,789] Finished a trial resulted in value: -1.923471161987492. Current best value is -1.952825543024755 with parameters: {'a': 0.6159420076598124, 'b': 0.01801614712409784, 'ab': [0.6159420076598124, 0.01801614712409784]}.\n"
     ]
    },
    {
     "name": "stdout",
     "output_type": "stream",
     "text": [
      "The set cost function is ignored! LCB acquisition does not make sense with cost.\n",
      "ab\n"
     ]
    },
    {
     "name": "stderr",
     "output_type": "stream",
     "text": [
      "reconstraining parameters GP_regression.mul\n",
      "reconstraining parameters GP_regression.Gaussian_noise.variance\n"
     ]
    },
    {
     "name": "stdout",
     "output_type": "stream",
     "text": [
      "sampling end!. 2019-04-17 18:26:48.791102 2019-04-17 18:28:03.840242\n"
     ]
    },
    {
     "name": "stderr",
     "output_type": "stream",
     "text": [
      "[I 2019-04-17 18:28:04,864] Finished a trial resulted in value: -1.890790769679169. Current best value is -1.952825543024755 with parameters: {'a': 0.6159420076598124, 'b': 0.01801614712409784, 'ab': [0.6159420076598124, 0.01801614712409784]}.\n"
     ]
    },
    {
     "name": "stdout",
     "output_type": "stream",
     "text": [
      "The set cost function is ignored! LCB acquisition does not make sense with cost.\n",
      "ab\n"
     ]
    },
    {
     "name": "stderr",
     "output_type": "stream",
     "text": [
      "reconstraining parameters GP_regression.mul\n",
      "reconstraining parameters GP_regression.Gaussian_noise.variance\n"
     ]
    },
    {
     "name": "stdout",
     "output_type": "stream",
     "text": [
      "sampling end!. 2019-04-17 18:28:04.866872 2019-04-17 18:29:17.928251\n"
     ]
    },
    {
     "name": "stderr",
     "output_type": "stream",
     "text": [
      "[I 2019-04-17 18:29:18,949] Finished a trial resulted in value: -1.9774382518966316. Current best value is -1.9774382518966316 with parameters: {'a': 0.6163098642151806, 'b': 0.012319332218615123, 'ab': [0.6163098642151806, 0.012319332218615123]}.\n"
     ]
    },
    {
     "name": "stdout",
     "output_type": "stream",
     "text": [
      "The set cost function is ignored! LCB acquisition does not make sense with cost.\n",
      "ab\n"
     ]
    },
    {
     "name": "stderr",
     "output_type": "stream",
     "text": [
      "reconstraining parameters GP_regression.mul\n",
      "reconstraining parameters GP_regression.Gaussian_noise.variance\n"
     ]
    },
    {
     "name": "stdout",
     "output_type": "stream",
     "text": [
      "sampling end!. 2019-04-17 18:29:18.951692 2019-04-17 18:30:38.266456\n"
     ]
    },
    {
     "name": "stderr",
     "output_type": "stream",
     "text": [
      "[I 2019-04-17 18:30:39,298] Finished a trial resulted in value: -2.0291103940719126. Current best value is -2.0291103940719126 with parameters: {'a': 0.6169847575297942, 'b': 0.017546485919889835, 'ab': [0.6169847575297942, 0.017546485919889835]}.\n"
     ]
    },
    {
     "name": "stdout",
     "output_type": "stream",
     "text": [
      "The set cost function is ignored! LCB acquisition does not make sense with cost.\n",
      "ab\n"
     ]
    },
    {
     "name": "stderr",
     "output_type": "stream",
     "text": [
      "reconstraining parameters GP_regression.mul\n",
      "reconstraining parameters GP_regression.Gaussian_noise.variance\n"
     ]
    },
    {
     "name": "stdout",
     "output_type": "stream",
     "text": [
      "sampling end!. 2019-04-17 18:30:39.302233 2019-04-17 18:31:48.884182\n"
     ]
    },
    {
     "name": "stderr",
     "output_type": "stream",
     "text": [
      "[I 2019-04-17 18:31:49,916] Finished a trial resulted in value: -1.8279815164682816. Current best value is -2.0291103940719126 with parameters: {'a': 0.6169847575297942, 'b': 0.017546485919889835, 'ab': [0.6169847575297942, 0.017546485919889835]}.\n"
     ]
    },
    {
     "name": "stdout",
     "output_type": "stream",
     "text": [
      "The set cost function is ignored! LCB acquisition does not make sense with cost.\n",
      "ab\n"
     ]
    },
    {
     "name": "stderr",
     "output_type": "stream",
     "text": [
      "reconstraining parameters GP_regression.mul\n",
      "reconstraining parameters GP_regression.Gaussian_noise.variance\n"
     ]
    },
    {
     "name": "stdout",
     "output_type": "stream",
     "text": [
      "sampling end!. 2019-04-17 18:31:49.922460 2019-04-17 18:33:00.950775\n"
     ]
    },
    {
     "name": "stderr",
     "output_type": "stream",
     "text": [
      "[I 2019-04-17 18:33:01,985] Finished a trial resulted in value: -1.925099816020269. Current best value is -2.0291103940719126 with parameters: {'a': 0.6169847575297942, 'b': 0.017546485919889835, 'ab': [0.6169847575297942, 0.017546485919889835]}.\n"
     ]
    },
    {
     "name": "stdout",
     "output_type": "stream",
     "text": [
      "The set cost function is ignored! LCB acquisition does not make sense with cost.\n",
      "ab\n"
     ]
    },
    {
     "name": "stderr",
     "output_type": "stream",
     "text": [
      "reconstraining parameters GP_regression.mul\n",
      "reconstraining parameters GP_regression.Gaussian_noise.variance\n"
     ]
    },
    {
     "name": "stdout",
     "output_type": "stream",
     "text": [
      "sampling end!. 2019-04-17 18:33:01.987342 2019-04-17 18:34:17.011419\n"
     ]
    },
    {
     "name": "stderr",
     "output_type": "stream",
     "text": [
      "[I 2019-04-17 18:34:18,042] Finished a trial resulted in value: -1.8910884417531473. Current best value is -2.0291103940719126 with parameters: {'a': 0.6169847575297942, 'b': 0.017546485919889835, 'ab': [0.6169847575297942, 0.017546485919889835]}.\n"
     ]
    },
    {
     "name": "stdout",
     "output_type": "stream",
     "text": [
      "The set cost function is ignored! LCB acquisition does not make sense with cost.\n",
      "ab\n"
     ]
    },
    {
     "name": "stderr",
     "output_type": "stream",
     "text": [
      "reconstraining parameters GP_regression.mul\n",
      "reconstraining parameters GP_regression.Gaussian_noise.variance\n"
     ]
    },
    {
     "name": "stdout",
     "output_type": "stream",
     "text": [
      "sampling end!. 2019-04-17 18:34:18.045089 2019-04-17 18:35:36.013746\n"
     ]
    },
    {
     "name": "stderr",
     "output_type": "stream",
     "text": [
      "[I 2019-04-17 18:35:37,042] Finished a trial resulted in value: -1.592088790453647. Current best value is -2.0291103940719126 with parameters: {'a': 0.6169847575297942, 'b': 0.017546485919889835, 'ab': [0.6169847575297942, 0.017546485919889835]}.\n"
     ]
    },
    {
     "name": "stdout",
     "output_type": "stream",
     "text": [
      "The set cost function is ignored! LCB acquisition does not make sense with cost.\n",
      "ab\n"
     ]
    },
    {
     "name": "stderr",
     "output_type": "stream",
     "text": [
      "reconstraining parameters GP_regression.mul\n",
      "reconstraining parameters GP_regression.Gaussian_noise.variance\n"
     ]
    },
    {
     "name": "stdout",
     "output_type": "stream",
     "text": [
      "sampling end!. 2019-04-17 18:35:37.045127 2019-04-17 18:37:01.050919\n"
     ]
    },
    {
     "name": "stderr",
     "output_type": "stream",
     "text": [
      "[I 2019-04-17 18:37:02,082] Finished a trial resulted in value: -1.515646574335775. Current best value is -2.0291103940719126 with parameters: {'a': 0.6169847575297942, 'b': 0.017546485919889835, 'ab': [0.6169847575297942, 0.017546485919889835]}.\n"
     ]
    },
    {
     "name": "stdout",
     "output_type": "stream",
     "text": [
      "The set cost function is ignored! LCB acquisition does not make sense with cost.\n",
      "ab\n"
     ]
    },
    {
     "name": "stderr",
     "output_type": "stream",
     "text": [
      "reconstraining parameters GP_regression.mul\n",
      "reconstraining parameters GP_regression.Gaussian_noise.variance\n"
     ]
    },
    {
     "name": "stdout",
     "output_type": "stream",
     "text": [
      "sampling end!. 2019-04-17 18:37:02.085064 2019-04-17 18:38:30.840333\n"
     ]
    },
    {
     "name": "stderr",
     "output_type": "stream",
     "text": [
      "[I 2019-04-17 18:38:31,862] Finished a trial resulted in value: -1.5316689807486943. Current best value is -2.0291103940719126 with parameters: {'a': 0.6169847575297942, 'b': 0.017546485919889835, 'ab': [0.6169847575297942, 0.017546485919889835]}.\n"
     ]
    },
    {
     "name": "stdout",
     "output_type": "stream",
     "text": [
      "The set cost function is ignored! LCB acquisition does not make sense with cost.\n",
      "ab\n"
     ]
    },
    {
     "name": "stderr",
     "output_type": "stream",
     "text": [
      "reconstraining parameters GP_regression.mul\n",
      "reconstraining parameters GP_regression.Gaussian_noise.variance\n"
     ]
    },
    {
     "name": "stdout",
     "output_type": "stream",
     "text": [
      "sampling end!. 2019-04-17 18:38:31.864554 2019-04-17 18:39:48.760027\n"
     ]
    },
    {
     "name": "stderr",
     "output_type": "stream",
     "text": [
      "[I 2019-04-17 18:39:49,785] Finished a trial resulted in value: -1.5900917778552928. Current best value is -2.0291103940719126 with parameters: {'a': 0.6169847575297942, 'b': 0.017546485919889835, 'ab': [0.6169847575297942, 0.017546485919889835]}.\n"
     ]
    },
    {
     "name": "stdout",
     "output_type": "stream",
     "text": [
      "The set cost function is ignored! LCB acquisition does not make sense with cost.\n",
      "ab\n"
     ]
    },
    {
     "name": "stderr",
     "output_type": "stream",
     "text": [
      "reconstraining parameters GP_regression.mul\n",
      "reconstraining parameters GP_regression.Gaussian_noise.variance\n"
     ]
    },
    {
     "name": "stdout",
     "output_type": "stream",
     "text": [
      "sampling end!. 2019-04-17 18:39:49.787830 2019-04-17 18:41:03.543053\n"
     ]
    },
    {
     "name": "stderr",
     "output_type": "stream",
     "text": [
      "[I 2019-04-17 18:41:04,571] Finished a trial resulted in value: -1.8177144614585024. Current best value is -2.0291103940719126 with parameters: {'a': 0.6169847575297942, 'b': 0.017546485919889835, 'ab': [0.6169847575297942, 0.017546485919889835]}.\n"
     ]
    },
    {
     "name": "stdout",
     "output_type": "stream",
     "text": [
      "The set cost function is ignored! LCB acquisition does not make sense with cost.\n",
      "ab\n"
     ]
    },
    {
     "name": "stderr",
     "output_type": "stream",
     "text": [
      "reconstraining parameters GP_regression.mul\n",
      "reconstraining parameters GP_regression.Gaussian_noise.variance\n"
     ]
    },
    {
     "name": "stdout",
     "output_type": "stream",
     "text": [
      "sampling end!. 2019-04-17 18:41:04.575251 2019-04-17 18:42:35.105333\n"
     ]
    },
    {
     "name": "stderr",
     "output_type": "stream",
     "text": [
      "[I 2019-04-17 18:42:36,128] Finished a trial resulted in value: -1.8587863943740315. Current best value is -2.0291103940719126 with parameters: {'a': 0.6169847575297942, 'b': 0.017546485919889835, 'ab': [0.6169847575297942, 0.017546485919889835]}.\n"
     ]
    },
    {
     "name": "stdout",
     "output_type": "stream",
     "text": [
      "The set cost function is ignored! LCB acquisition does not make sense with cost.\n",
      "ab\n"
     ]
    },
    {
     "name": "stderr",
     "output_type": "stream",
     "text": [
      "reconstraining parameters GP_regression.mul\n",
      "reconstraining parameters GP_regression.Gaussian_noise.variance\n"
     ]
    },
    {
     "name": "stdout",
     "output_type": "stream",
     "text": [
      "sampling end!. 2019-04-17 18:42:36.130902 2019-04-17 18:44:20.868357\n"
     ]
    },
    {
     "name": "stderr",
     "output_type": "stream",
     "text": [
      "[I 2019-04-17 18:44:21,895] Finished a trial resulted in value: -1.9979470581147876. Current best value is -2.0291103940719126 with parameters: {'a': 0.6169847575297942, 'b': 0.017546485919889835, 'ab': [0.6169847575297942, 0.017546485919889835]}.\n"
     ]
    },
    {
     "name": "stdout",
     "output_type": "stream",
     "text": [
      "The set cost function is ignored! LCB acquisition does not make sense with cost.\n",
      "ab\n"
     ]
    },
    {
     "name": "stderr",
     "output_type": "stream",
     "text": [
      "reconstraining parameters GP_regression.mul\n",
      "reconstraining parameters GP_regression.Gaussian_noise.variance\n"
     ]
    },
    {
     "name": "stdout",
     "output_type": "stream",
     "text": [
      "sampling end!. 2019-04-17 18:44:21.898748 2019-04-17 18:45:47.414979\n"
     ]
    },
    {
     "name": "stderr",
     "output_type": "stream",
     "text": [
      "[I 2019-04-17 18:45:48,441] Finished a trial resulted in value: -1.9718587960173015. Current best value is -2.0291103940719126 with parameters: {'a': 0.6169847575297942, 'b': 0.017546485919889835, 'ab': [0.6169847575297942, 0.017546485919889835]}.\n"
     ]
    },
    {
     "name": "stdout",
     "output_type": "stream",
     "text": [
      "The set cost function is ignored! LCB acquisition does not make sense with cost.\n",
      "ab\n"
     ]
    },
    {
     "name": "stderr",
     "output_type": "stream",
     "text": [
      "reconstraining parameters GP_regression.mul\n",
      "reconstraining parameters GP_regression.Gaussian_noise.variance\n"
     ]
    },
    {
     "name": "stdout",
     "output_type": "stream",
     "text": [
      "sampling end!. 2019-04-17 18:45:48.443395 2019-04-17 18:47:18.283839\n"
     ]
    },
    {
     "name": "stderr",
     "output_type": "stream",
     "text": [
      "[I 2019-04-17 18:47:19,311] Finished a trial resulted in value: -2.0814333922059287. Current best value is -2.0814333922059287 with parameters: {'a': 0.6131374249531687, 'b': 0.02207216156639799, 'ab': [0.6131374249531687, 0.02207216156639799]}.\n"
     ]
    },
    {
     "name": "stdout",
     "output_type": "stream",
     "text": [
      "The set cost function is ignored! LCB acquisition does not make sense with cost.\n",
      "ab\n"
     ]
    },
    {
     "name": "stderr",
     "output_type": "stream",
     "text": [
      "reconstraining parameters GP_regression.mul\n",
      "reconstraining parameters GP_regression.Gaussian_noise.variance\n"
     ]
    },
    {
     "name": "stdout",
     "output_type": "stream",
     "text": [
      "sampling end!. 2019-04-17 18:47:19.314644 2019-04-17 18:48:51.791470\n"
     ]
    },
    {
     "name": "stderr",
     "output_type": "stream",
     "text": [
      "[I 2019-04-17 18:48:52,826] Finished a trial resulted in value: -2.028354777368129. Current best value is -2.0814333922059287 with parameters: {'a': 0.6131374249531687, 'b': 0.02207216156639799, 'ab': [0.6131374249531687, 0.02207216156639799]}.\n"
     ]
    },
    {
     "name": "stdout",
     "output_type": "stream",
     "text": [
      "The set cost function is ignored! LCB acquisition does not make sense with cost.\n",
      "ab\n"
     ]
    },
    {
     "name": "stderr",
     "output_type": "stream",
     "text": [
      "reconstraining parameters GP_regression.mul\n",
      "reconstraining parameters GP_regression.Gaussian_noise.variance\n"
     ]
    },
    {
     "name": "stdout",
     "output_type": "stream",
     "text": [
      "sampling end!. 2019-04-17 18:48:52.828283 2019-04-17 18:50:14.381099\n"
     ]
    },
    {
     "name": "stderr",
     "output_type": "stream",
     "text": [
      "[I 2019-04-17 18:50:15,414] Finished a trial resulted in value: -1.9049921695872163. Current best value is -2.0814333922059287 with parameters: {'a': 0.6131374249531687, 'b': 0.02207216156639799, 'ab': [0.6131374249531687, 0.02207216156639799]}.\n"
     ]
    },
    {
     "name": "stdout",
     "output_type": "stream",
     "text": [
      "The set cost function is ignored! LCB acquisition does not make sense with cost.\n",
      "ab\n"
     ]
    },
    {
     "name": "stderr",
     "output_type": "stream",
     "text": [
      "reconstraining parameters GP_regression.mul\n",
      "reconstraining parameters GP_regression.Gaussian_noise.variance\n"
     ]
    },
    {
     "name": "stdout",
     "output_type": "stream",
     "text": [
      "sampling end!. 2019-04-17 18:50:15.416899 2019-04-17 18:51:26.871593\n"
     ]
    },
    {
     "name": "stderr",
     "output_type": "stream",
     "text": [
      "[I 2019-04-17 18:51:27,931] Finished a trial resulted in value: -2.1495991616592387. Current best value is -2.1495991616592387 with parameters: {'a': 0.35383694766465, 'b': 0.27999156492747096, 'ab': [0.35383694766465, 0.27999156492747096]}.\n"
     ]
    },
    {
     "name": "stdout",
     "output_type": "stream",
     "text": [
      "The set cost function is ignored! LCB acquisition does not make sense with cost.\n",
      "ab\n"
     ]
    },
    {
     "name": "stderr",
     "output_type": "stream",
     "text": [
      "reconstraining parameters GP_regression.mul\n",
      "reconstraining parameters GP_regression.Gaussian_noise.variance\n"
     ]
    },
    {
     "name": "stdout",
     "output_type": "stream",
     "text": [
      "sampling end!. 2019-04-17 18:51:27.951580 2019-04-17 18:53:01.152189\n"
     ]
    },
    {
     "name": "stderr",
     "output_type": "stream",
     "text": [
      "[I 2019-04-17 18:53:02,185] Finished a trial resulted in value: -1.8297494079834602. Current best value is -2.1495991616592387 with parameters: {'a': 0.35383694766465, 'b': 0.27999156492747096, 'ab': [0.35383694766465, 0.27999156492747096]}.\n"
     ]
    },
    {
     "name": "stdout",
     "output_type": "stream",
     "text": [
      "The set cost function is ignored! LCB acquisition does not make sense with cost.\n",
      "ab\n"
     ]
    },
    {
     "name": "stderr",
     "output_type": "stream",
     "text": [
      "reconstraining parameters GP_regression.mul\n",
      "reconstraining parameters GP_regression.Gaussian_noise.variance\n"
     ]
    },
    {
     "name": "stdout",
     "output_type": "stream",
     "text": [
      "sampling end!. 2019-04-17 18:53:02.187580 2019-04-17 18:54:56.945789\n"
     ]
    },
    {
     "name": "stderr",
     "output_type": "stream",
     "text": [
      "[I 2019-04-17 18:54:57,992] Finished a trial resulted in value: -1.8505311972723686. Current best value is -2.1495991616592387 with parameters: {'a': 0.35383694766465, 'b': 0.27999156492747096, 'ab': [0.35383694766465, 0.27999156492747096]}.\n"
     ]
    },
    {
     "name": "stdout",
     "output_type": "stream",
     "text": [
      "The set cost function is ignored! LCB acquisition does not make sense with cost.\n",
      "ab\n"
     ]
    },
    {
     "name": "stderr",
     "output_type": "stream",
     "text": [
      "reconstraining parameters GP_regression.mul\n",
      "reconstraining parameters GP_regression.Gaussian_noise.variance\n"
     ]
    },
    {
     "name": "stdout",
     "output_type": "stream",
     "text": [
      "sampling end!. 2019-04-17 18:54:57.997284 2019-04-17 18:56:54.147229\n"
     ]
    },
    {
     "name": "stderr",
     "output_type": "stream",
     "text": [
      "[I 2019-04-17 18:56:55,175] Finished a trial resulted in value: -2.2649829662408676. Current best value is -2.2649829662408676 with parameters: {'a': 0.35712051007674706, 'b': 0.28419339616830896, 'ab': [0.35712051007674706, 0.28419339616830896]}.\n"
     ]
    },
    {
     "name": "stdout",
     "output_type": "stream",
     "text": [
      "The set cost function is ignored! LCB acquisition does not make sense with cost.\n",
      "ab\n"
     ]
    },
    {
     "name": "stderr",
     "output_type": "stream",
     "text": [
      "reconstraining parameters GP_regression.mul\n",
      "reconstraining parameters GP_regression.Gaussian_noise.variance\n"
     ]
    },
    {
     "name": "stdout",
     "output_type": "stream",
     "text": [
      "sampling end!. 2019-04-17 18:56:55.178330 2019-04-17 18:58:40.701419\n"
     ]
    },
    {
     "name": "stderr",
     "output_type": "stream",
     "text": [
      "[I 2019-04-17 18:58:41,741] Finished a trial resulted in value: -2.3471534836972294. Current best value is -2.3471534836972294 with parameters: {'a': 0.6051259829206596, 'b': 0.012663715126263948, 'ab': [0.6051259829206596, 0.012663715126263948]}.\n"
     ]
    },
    {
     "name": "stdout",
     "output_type": "stream",
     "text": [
      "The set cost function is ignored! LCB acquisition does not make sense with cost.\n",
      "ab\n"
     ]
    },
    {
     "name": "stderr",
     "output_type": "stream",
     "text": [
      "reconstraining parameters GP_regression.mul\n",
      "reconstraining parameters GP_regression.Gaussian_noise.variance\n"
     ]
    },
    {
     "name": "stdout",
     "output_type": "stream",
     "text": [
      "sampling end!. 2019-04-17 18:58:41.744014 2019-04-17 19:01:03.479890\n"
     ]
    },
    {
     "name": "stderr",
     "output_type": "stream",
     "text": [
      "[I 2019-04-17 19:01:04,512] Finished a trial resulted in value: -2.423835872122528. Current best value is -2.423835872122528 with parameters: {'a': 0.3551188436365114, 'b': 0.28463080252401257, 'ab': [0.3551188436365114, 0.28463080252401257]}.\n"
     ]
    },
    {
     "name": "stdout",
     "output_type": "stream",
     "text": [
      "The set cost function is ignored! LCB acquisition does not make sense with cost.\n",
      "ab\n"
     ]
    },
    {
     "name": "stderr",
     "output_type": "stream",
     "text": [
      "reconstraining parameters GP_regression.mul\n",
      "reconstraining parameters GP_regression.Gaussian_noise.variance\n"
     ]
    },
    {
     "name": "stdout",
     "output_type": "stream",
     "text": [
      "sampling end!. 2019-04-17 19:01:04.514898 2019-04-17 19:02:53.215502\n"
     ]
    },
    {
     "name": "stderr",
     "output_type": "stream",
     "text": [
      "[I 2019-04-17 19:02:54,251] Finished a trial resulted in value: -2.4138096243979503. Current best value is -2.423835872122528 with parameters: {'a': 0.3551188436365114, 'b': 0.28463080252401257, 'ab': [0.3551188436365114, 0.28463080252401257]}.\n"
     ]
    },
    {
     "name": "stdout",
     "output_type": "stream",
     "text": [
      "The set cost function is ignored! LCB acquisition does not make sense with cost.\n",
      "ab\n"
     ]
    },
    {
     "name": "stderr",
     "output_type": "stream",
     "text": [
      "reconstraining parameters GP_regression.mul\n",
      "reconstraining parameters GP_regression.Gaussian_noise.variance\n"
     ]
    },
    {
     "name": "stdout",
     "output_type": "stream",
     "text": [
      "sampling end!. 2019-04-17 19:02:54.258043 2019-04-17 19:05:02.760803\n"
     ]
    },
    {
     "name": "stderr",
     "output_type": "stream",
     "text": [
      "[I 2019-04-17 19:05:03,799] Finished a trial resulted in value: -2.505980861156014. Current best value is -2.505980861156014 with parameters: {'a': 0.3533295552935793, 'b': 0.2877211731944755, 'ab': [0.3533295552935793, 0.2877211731944755]}.\n"
     ]
    },
    {
     "name": "stdout",
     "output_type": "stream",
     "text": [
      "The set cost function is ignored! LCB acquisition does not make sense with cost.\n",
      "ab\n"
     ]
    },
    {
     "name": "stderr",
     "output_type": "stream",
     "text": [
      "reconstraining parameters GP_regression.mul\n",
      "reconstraining parameters GP_regression.Gaussian_noise.variance\n"
     ]
    },
    {
     "name": "stdout",
     "output_type": "stream",
     "text": [
      "sampling end!. 2019-04-17 19:05:03.801355 2019-04-17 19:07:33.573567\n"
     ]
    },
    {
     "name": "stderr",
     "output_type": "stream",
     "text": [
      "[I 2019-04-17 19:07:34,610] Finished a trial resulted in value: -2.5752284686911353. Current best value is -2.5752284686911353 with parameters: {'a': 0.3551155203862155, 'b': 0.2842587497250473, 'ab': [0.3551155203862155, 0.2842587497250473]}.\n"
     ]
    },
    {
     "name": "stdout",
     "output_type": "stream",
     "text": [
      "The set cost function is ignored! LCB acquisition does not make sense with cost.\n",
      "ab\n"
     ]
    },
    {
     "name": "stderr",
     "output_type": "stream",
     "text": [
      "reconstraining parameters GP_regression.mul\n",
      "reconstraining parameters GP_regression.Gaussian_noise.variance\n"
     ]
    },
    {
     "name": "stdout",
     "output_type": "stream",
     "text": [
      "sampling end!. 2019-04-17 19:07:34.613955 2019-04-17 19:09:49.689571\n"
     ]
    },
    {
     "name": "stderr",
     "output_type": "stream",
     "text": [
      "[I 2019-04-17 19:09:50,726] Finished a trial resulted in value: -2.533522240802135. Current best value is -2.5752284686911353 with parameters: {'a': 0.3551155203862155, 'b': 0.2842587497250473, 'ab': [0.3551155203862155, 0.2842587497250473]}.\n"
     ]
    },
    {
     "name": "stdout",
     "output_type": "stream",
     "text": [
      "The set cost function is ignored! LCB acquisition does not make sense with cost.\n",
      "ab\n"
     ]
    },
    {
     "name": "stderr",
     "output_type": "stream",
     "text": [
      "reconstraining parameters GP_regression.mul\n",
      "reconstraining parameters GP_regression.Gaussian_noise.variance\n"
     ]
    },
    {
     "name": "stdout",
     "output_type": "stream",
     "text": [
      "sampling end!. 2019-04-17 19:09:50.730948 2019-04-17 19:12:09.634187\n"
     ]
    },
    {
     "name": "stderr",
     "output_type": "stream",
     "text": [
      "[I 2019-04-17 19:12:10,664] Finished a trial resulted in value: -2.7130540107498837. Current best value is -2.7130540107498837 with parameters: {'a': 0.3589331388983415, 'b': 0.2772238587825426, 'ab': [0.3589331388983415, 0.2772238587825426]}.\n"
     ]
    },
    {
     "name": "stdout",
     "output_type": "stream",
     "text": [
      "The set cost function is ignored! LCB acquisition does not make sense with cost.\n",
      "ab\n"
     ]
    },
    {
     "name": "stderr",
     "output_type": "stream",
     "text": [
      "reconstraining parameters GP_regression.mul\n",
      "reconstraining parameters GP_regression.Gaussian_noise.variance\n"
     ]
    },
    {
     "name": "stdout",
     "output_type": "stream",
     "text": [
      "sampling end!. 2019-04-17 19:12:10.666809 2019-04-17 19:14:22.369742\n"
     ]
    },
    {
     "name": "stderr",
     "output_type": "stream",
     "text": [
      "[I 2019-04-17 19:14:23,414] Finished a trial resulted in value: -2.7595542067835375. Current best value is -2.7595542067835375 with parameters: {'a': 0.3643263986422737, 'b': 0.26547841701309344, 'ab': [0.3643263986422737, 0.26547841701309344]}.\n"
     ]
    },
    {
     "name": "stdout",
     "output_type": "stream",
     "text": [
      "The set cost function is ignored! LCB acquisition does not make sense with cost.\n",
      "ab\n"
     ]
    },
    {
     "name": "stderr",
     "output_type": "stream",
     "text": [
      "reconstraining parameters GP_regression.mul\n",
      "reconstraining parameters GP_regression.Gaussian_noise.variance\n"
     ]
    },
    {
     "name": "stdout",
     "output_type": "stream",
     "text": [
      "sampling end!. 2019-04-17 19:14:23.418162 2019-04-17 19:16:44.828911\n"
     ]
    },
    {
     "name": "stderr",
     "output_type": "stream",
     "text": [
      "[I 2019-04-17 19:16:45,870] Finished a trial resulted in value: -2.8579994627142487. Current best value is -2.8579994627142487 with parameters: {'a': 0.35974930555173257, 'b': 0.27519839851069533, 'ab': [0.35974930555173257, 0.27519839851069533]}.\n"
     ]
    },
    {
     "name": "stdout",
     "output_type": "stream",
     "text": [
      "The set cost function is ignored! LCB acquisition does not make sense with cost.\n",
      "ab\n"
     ]
    },
    {
     "name": "stderr",
     "output_type": "stream",
     "text": [
      "reconstraining parameters GP_regression.mul\n",
      "reconstraining parameters GP_regression.Gaussian_noise.variance\n"
     ]
    },
    {
     "name": "stdout",
     "output_type": "stream",
     "text": [
      "sampling end!. 2019-04-17 19:16:45.873418 2019-04-17 19:18:56.556319\n"
     ]
    },
    {
     "name": "stderr",
     "output_type": "stream",
     "text": [
      "[I 2019-04-17 19:18:57,602] Finished a trial resulted in value: -2.720824198544644. Current best value is -2.8579994627142487 with parameters: {'a': 0.35974930555173257, 'b': 0.27519839851069533, 'ab': [0.35974930555173257, 0.27519839851069533]}.\n"
     ]
    },
    {
     "name": "stdout",
     "output_type": "stream",
     "text": [
      "The set cost function is ignored! LCB acquisition does not make sense with cost.\n",
      "ab\n"
     ]
    },
    {
     "name": "stderr",
     "output_type": "stream",
     "text": [
      "reconstraining parameters GP_regression.mul\n",
      "reconstraining parameters GP_regression.Gaussian_noise.variance\n"
     ]
    },
    {
     "name": "stdout",
     "output_type": "stream",
     "text": [
      "sampling end!. 2019-04-17 19:18:57.604290 2019-04-17 19:21:13.332215\n"
     ]
    },
    {
     "name": "stderr",
     "output_type": "stream",
     "text": [
      "[I 2019-04-17 19:21:14,380] Finished a trial resulted in value: -2.846440461820031. Current best value is -2.8579994627142487 with parameters: {'a': 0.35974930555173257, 'b': 0.27519839851069533, 'ab': [0.35974930555173257, 0.27519839851069533]}.\n"
     ]
    },
    {
     "name": "stdout",
     "output_type": "stream",
     "text": [
      "The set cost function is ignored! LCB acquisition does not make sense with cost.\n",
      "ab\n"
     ]
    },
    {
     "name": "stderr",
     "output_type": "stream",
     "text": [
      "reconstraining parameters GP_regression.mul\n",
      "reconstraining parameters GP_regression.Gaussian_noise.variance\n"
     ]
    },
    {
     "name": "stdout",
     "output_type": "stream",
     "text": [
      "sampling end!. 2019-04-17 19:21:14.383544 2019-04-17 19:23:37.962174\n"
     ]
    },
    {
     "name": "stderr",
     "output_type": "stream",
     "text": [
      "[I 2019-04-17 19:23:38,999] Finished a trial resulted in value: -2.9557850515886654. Current best value is -2.9557850515886654 with parameters: {'a': 0.35936699424864443, 'b': 0.27634512655929344, 'ab': [0.35936699424864443, 0.27634512655929344]}.\n"
     ]
    },
    {
     "name": "stdout",
     "output_type": "stream",
     "text": [
      "The set cost function is ignored! LCB acquisition does not make sense with cost.\n",
      "ab\n"
     ]
    },
    {
     "name": "stderr",
     "output_type": "stream",
     "text": [
      "reconstraining parameters GP_regression.mul\n",
      "reconstraining parameters GP_regression.Gaussian_noise.variance\n"
     ]
    },
    {
     "name": "stdout",
     "output_type": "stream",
     "text": [
      "sampling end!. 2019-04-17 19:23:39.002663 2019-04-17 19:25:52.856991\n"
     ]
    },
    {
     "name": "stderr",
     "output_type": "stream",
     "text": [
      "[I 2019-04-17 19:25:53,890] Finished a trial resulted in value: -2.7399870697164075. Current best value is -2.9557850515886654 with parameters: {'a': 0.35936699424864443, 'b': 0.27634512655929344, 'ab': [0.35936699424864443, 0.27634512655929344]}.\n"
     ]
    },
    {
     "name": "stdout",
     "output_type": "stream",
     "text": [
      "The set cost function is ignored! LCB acquisition does not make sense with cost.\n",
      "ab\n"
     ]
    },
    {
     "name": "stderr",
     "output_type": "stream",
     "text": [
      "reconstraining parameters GP_regression.mul\n",
      "reconstraining parameters GP_regression.Gaussian_noise.variance\n"
     ]
    },
    {
     "name": "stdout",
     "output_type": "stream",
     "text": [
      "sampling end!. 2019-04-17 19:25:53.892302 2019-04-17 19:28:05.654407\n"
     ]
    },
    {
     "name": "stderr",
     "output_type": "stream",
     "text": [
      "[I 2019-04-17 19:28:06,694] Finished a trial resulted in value: -2.8360491522427136. Current best value is -2.9557850515886654 with parameters: {'a': 0.35936699424864443, 'b': 0.27634512655929344, 'ab': [0.35936699424864443, 0.27634512655929344]}.\n"
     ]
    },
    {
     "name": "stdout",
     "output_type": "stream",
     "text": [
      "The set cost function is ignored! LCB acquisition does not make sense with cost.\n",
      "ab\n"
     ]
    },
    {
     "name": "stderr",
     "output_type": "stream",
     "text": [
      "reconstraining parameters GP_regression.mul\n",
      "reconstraining parameters GP_regression.Gaussian_noise.variance\n"
     ]
    },
    {
     "name": "stdout",
     "output_type": "stream",
     "text": [
      "sampling end!. 2019-04-17 19:28:06.697057 2019-04-17 19:30:29.023784\n"
     ]
    },
    {
     "name": "stderr",
     "output_type": "stream",
     "text": [
      "[I 2019-04-17 19:30:30,066] Finished a trial resulted in value: -2.762658981092202. Current best value is -2.9557850515886654 with parameters: {'a': 0.35936699424864443, 'b': 0.27634512655929344, 'ab': [0.35936699424864443, 0.27634512655929344]}.\n"
     ]
    },
    {
     "name": "stdout",
     "output_type": "stream",
     "text": [
      "The set cost function is ignored! LCB acquisition does not make sense with cost.\n",
      "ab\n"
     ]
    },
    {
     "name": "stderr",
     "output_type": "stream",
     "text": [
      "reconstraining parameters GP_regression.mul\n",
      "reconstraining parameters GP_regression.Gaussian_noise.variance\n"
     ]
    },
    {
     "name": "stdout",
     "output_type": "stream",
     "text": [
      "sampling end!. 2019-04-17 19:30:30.068891 2019-04-17 19:32:56.932056\n"
     ]
    },
    {
     "name": "stderr",
     "output_type": "stream",
     "text": [
      "[I 2019-04-17 19:32:57,962] Finished a trial resulted in value: -2.7548421520152195. Current best value is -2.9557850515886654 with parameters: {'a': 0.35936699424864443, 'b': 0.27634512655929344, 'ab': [0.35936699424864443, 0.27634512655929344]}.\n"
     ]
    },
    {
     "name": "stdout",
     "output_type": "stream",
     "text": [
      "The set cost function is ignored! LCB acquisition does not make sense with cost.\n",
      "ab\n"
     ]
    },
    {
     "name": "stderr",
     "output_type": "stream",
     "text": [
      "reconstraining parameters GP_regression.mul\n",
      "reconstraining parameters GP_regression.Gaussian_noise.variance\n"
     ]
    },
    {
     "name": "stdout",
     "output_type": "stream",
     "text": [
      "sampling end!. 2019-04-17 19:32:57.964431 2019-04-17 19:35:40.725444\n"
     ]
    },
    {
     "name": "stderr",
     "output_type": "stream",
     "text": [
      "[I 2019-04-17 19:35:41,759] Finished a trial resulted in value: -2.7274725852241417. Current best value is -2.9557850515886654 with parameters: {'a': 0.35936699424864443, 'b': 0.27634512655929344, 'ab': [0.35936699424864443, 0.27634512655929344]}.\n"
     ]
    },
    {
     "name": "stdout",
     "output_type": "stream",
     "text": [
      "The set cost function is ignored! LCB acquisition does not make sense with cost.\n",
      "ab\n"
     ]
    },
    {
     "name": "stderr",
     "output_type": "stream",
     "text": [
      "reconstraining parameters GP_regression.mul\n",
      "reconstraining parameters GP_regression.Gaussian_noise.variance\n"
     ]
    },
    {
     "name": "stdout",
     "output_type": "stream",
     "text": [
      "sampling end!. 2019-04-17 19:35:41.761543 2019-04-17 19:38:17.111954\n"
     ]
    },
    {
     "name": "stderr",
     "output_type": "stream",
     "text": [
      "[I 2019-04-17 19:38:18,157] Finished a trial resulted in value: -2.8057757793759857. Current best value is -2.9557850515886654 with parameters: {'a': 0.35936699424864443, 'b': 0.27634512655929344, 'ab': [0.35936699424864443, 0.27634512655929344]}.\n"
     ]
    },
    {
     "name": "stdout",
     "output_type": "stream",
     "text": [
      "The set cost function is ignored! LCB acquisition does not make sense with cost.\n",
      "ab\n"
     ]
    },
    {
     "name": "stderr",
     "output_type": "stream",
     "text": [
      "reconstraining parameters GP_regression.mul\n",
      "reconstraining parameters GP_regression.Gaussian_noise.variance\n"
     ]
    },
    {
     "name": "stdout",
     "output_type": "stream",
     "text": [
      "sampling end!. 2019-04-17 19:38:18.159885 2019-04-17 19:41:11.527552\n"
     ]
    },
    {
     "name": "stderr",
     "output_type": "stream",
     "text": [
      "[I 2019-04-17 19:41:12,565] Finished a trial resulted in value: -2.698231156070411. Current best value is -2.9557850515886654 with parameters: {'a': 0.35936699424864443, 'b': 0.27634512655929344, 'ab': [0.35936699424864443, 0.27634512655929344]}.\n"
     ]
    },
    {
     "name": "stdout",
     "output_type": "stream",
     "text": [
      "The set cost function is ignored! LCB acquisition does not make sense with cost.\n",
      "ab\n"
     ]
    },
    {
     "name": "stderr",
     "output_type": "stream",
     "text": [
      "reconstraining parameters GP_regression.mul\n",
      "reconstraining parameters GP_regression.Gaussian_noise.variance\n"
     ]
    },
    {
     "name": "stdout",
     "output_type": "stream",
     "text": [
      "sampling end!. 2019-04-17 19:41:12.567777 2019-04-17 19:43:56.067901\n"
     ]
    },
    {
     "name": "stderr",
     "output_type": "stream",
     "text": [
      "[I 2019-04-17 19:43:57,127] Finished a trial resulted in value: -2.8637875019114274. Current best value is -2.9557850515886654 with parameters: {'a': 0.35936699424864443, 'b': 0.27634512655929344, 'ab': [0.35936699424864443, 0.27634512655929344]}.\n"
     ]
    },
    {
     "name": "stdout",
     "output_type": "stream",
     "text": [
      "The set cost function is ignored! LCB acquisition does not make sense with cost.\n",
      "ab\n"
     ]
    },
    {
     "name": "stderr",
     "output_type": "stream",
     "text": [
      "reconstraining parameters GP_regression.mul\n",
      "reconstraining parameters GP_regression.Gaussian_noise.variance\n"
     ]
    },
    {
     "name": "stdout",
     "output_type": "stream",
     "text": [
      "sampling end!. 2019-04-17 19:43:57.130851 2019-04-17 19:46:44.655946\n"
     ]
    },
    {
     "name": "stderr",
     "output_type": "stream",
     "text": [
      "[I 2019-04-17 19:46:45,705] Finished a trial resulted in value: -3.010117083419561. Current best value is -3.010117083419561 with parameters: {'a': 0.3779872809968054, 'b': 0.24466325282823043, 'ab': [0.3779872809968054, 0.24466325282823043]}.\n"
     ]
    },
    {
     "name": "stdout",
     "output_type": "stream",
     "text": [
      "The set cost function is ignored! LCB acquisition does not make sense with cost.\n",
      "ab\n"
     ]
    },
    {
     "name": "stderr",
     "output_type": "stream",
     "text": [
      "reconstraining parameters GP_regression.mul\n",
      "reconstraining parameters GP_regression.Gaussian_noise.variance\n"
     ]
    },
    {
     "name": "stdout",
     "output_type": "stream",
     "text": [
      "sampling end!. 2019-04-17 19:46:45.707447 2019-04-17 19:49:20.111700\n"
     ]
    },
    {
     "name": "stderr",
     "output_type": "stream",
     "text": [
      "[I 2019-04-17 19:49:21,142] Finished a trial resulted in value: -2.8525798375385762. Current best value is -3.010117083419561 with parameters: {'a': 0.3779872809968054, 'b': 0.24466325282823043, 'ab': [0.3779872809968054, 0.24466325282823043]}.\n"
     ]
    },
    {
     "name": "stdout",
     "output_type": "stream",
     "text": [
      "The set cost function is ignored! LCB acquisition does not make sense with cost.\n",
      "ab\n"
     ]
    },
    {
     "name": "stderr",
     "output_type": "stream",
     "text": [
      "reconstraining parameters GP_regression.mul\n",
      "reconstraining parameters GP_regression.Gaussian_noise.variance\n"
     ]
    },
    {
     "name": "stdout",
     "output_type": "stream",
     "text": [
      "sampling end!. 2019-04-17 19:49:21.149164 2019-04-17 19:52:15.391421\n"
     ]
    },
    {
     "name": "stderr",
     "output_type": "stream",
     "text": [
      "[I 2019-04-17 19:52:16,440] Finished a trial resulted in value: -2.686337890238362. Current best value is -3.010117083419561 with parameters: {'a': 0.3779872809968054, 'b': 0.24466325282823043, 'ab': [0.3779872809968054, 0.24466325282823043]}.\n"
     ]
    },
    {
     "name": "stdout",
     "output_type": "stream",
     "text": [
      "The set cost function is ignored! LCB acquisition does not make sense with cost.\n",
      "ab\n"
     ]
    },
    {
     "name": "stderr",
     "output_type": "stream",
     "text": [
      "reconstraining parameters GP_regression.mul\n",
      "reconstraining parameters GP_regression.Gaussian_noise.variance\n"
     ]
    },
    {
     "name": "stdout",
     "output_type": "stream",
     "text": [
      "sampling end!. 2019-04-17 19:52:16.442405 2019-04-17 19:55:35.756296\n"
     ]
    },
    {
     "name": "stderr",
     "output_type": "stream",
     "text": [
      "[I 2019-04-17 19:55:36,807] Finished a trial resulted in value: -2.5797738354772903. Current best value is -3.010117083419561 with parameters: {'a': 0.3779872809968054, 'b': 0.24466325282823043, 'ab': [0.3779872809968054, 0.24466325282823043]}.\n"
     ]
    },
    {
     "name": "stdout",
     "output_type": "stream",
     "text": [
      "The set cost function is ignored! LCB acquisition does not make sense with cost.\n",
      "ab\n"
     ]
    },
    {
     "name": "stderr",
     "output_type": "stream",
     "text": [
      "reconstraining parameters GP_regression.mul\n",
      "reconstraining parameters GP_regression.Gaussian_noise.variance\n"
     ]
    },
    {
     "name": "stdout",
     "output_type": "stream",
     "text": [
      "sampling end!. 2019-04-17 19:55:36.810073 2019-04-17 19:57:31.415382\n"
     ]
    },
    {
     "name": "stderr",
     "output_type": "stream",
     "text": [
      "[I 2019-04-17 19:57:32,452] Finished a trial resulted in value: -2.228868329608215. Current best value is -3.010117083419561 with parameters: {'a': 0.3779872809968054, 'b': 0.24466325282823043, 'ab': [0.3779872809968054, 0.24466325282823043]}.\n"
     ]
    },
    {
     "name": "stdout",
     "output_type": "stream",
     "text": [
      "The set cost function is ignored! LCB acquisition does not make sense with cost.\n",
      "ab\n"
     ]
    },
    {
     "name": "stderr",
     "output_type": "stream",
     "text": [
      "reconstraining parameters GP_regression.mul\n",
      "reconstraining parameters GP_regression.Gaussian_noise.variance\n"
     ]
    },
    {
     "name": "stdout",
     "output_type": "stream",
     "text": [
      "sampling end!. 2019-04-17 19:57:32.455688 2019-04-17 19:59:14.115716\n"
     ]
    },
    {
     "name": "stderr",
     "output_type": "stream",
     "text": [
      "[I 2019-04-17 19:59:15,161] Finished a trial resulted in value: -2.476842689400926. Current best value is -3.010117083419561 with parameters: {'a': 0.3779872809968054, 'b': 0.24466325282823043, 'ab': [0.3779872809968054, 0.24466325282823043]}.\n"
     ]
    },
    {
     "name": "stdout",
     "output_type": "stream",
     "text": [
      "The set cost function is ignored! LCB acquisition does not make sense with cost.\n",
      "ab\n"
     ]
    },
    {
     "name": "stderr",
     "output_type": "stream",
     "text": [
      "reconstraining parameters GP_regression.mul\n",
      "reconstraining parameters GP_regression.Gaussian_noise.variance\n"
     ]
    },
    {
     "name": "stdout",
     "output_type": "stream",
     "text": [
      "sampling end!. 2019-04-17 19:59:15.163792 2019-04-17 20:00:57.026462\n"
     ]
    },
    {
     "name": "stderr",
     "output_type": "stream",
     "text": [
      "[I 2019-04-17 20:00:58,064] Finished a trial resulted in value: -2.523998477476853. Current best value is -3.010117083419561 with parameters: {'a': 0.3779872809968054, 'b': 0.24466325282823043, 'ab': [0.3779872809968054, 0.24466325282823043]}.\n"
     ]
    },
    {
     "name": "stdout",
     "output_type": "stream",
     "text": [
      "The set cost function is ignored! LCB acquisition does not make sense with cost.\n",
      "ab\n"
     ]
    },
    {
     "name": "stderr",
     "output_type": "stream",
     "text": [
      "reconstraining parameters GP_regression.mul\n",
      "reconstraining parameters GP_regression.Gaussian_noise.variance\n"
     ]
    },
    {
     "name": "stdout",
     "output_type": "stream",
     "text": [
      "sampling end!. 2019-04-17 20:00:58.066158 2019-04-17 20:02:45.321342\n"
     ]
    },
    {
     "name": "stderr",
     "output_type": "stream",
     "text": [
      "[I 2019-04-17 20:02:46,362] Finished a trial resulted in value: -2.5009292746120755. Current best value is -3.010117083419561 with parameters: {'a': 0.3779872809968054, 'b': 0.24466325282823043, 'ab': [0.3779872809968054, 0.24466325282823043]}.\n"
     ]
    },
    {
     "name": "stdout",
     "output_type": "stream",
     "text": [
      "The set cost function is ignored! LCB acquisition does not make sense with cost.\n",
      "ab\n"
     ]
    },
    {
     "name": "stderr",
     "output_type": "stream",
     "text": [
      "reconstraining parameters GP_regression.mul\n",
      "reconstraining parameters GP_regression.Gaussian_noise.variance\n"
     ]
    },
    {
     "name": "stdout",
     "output_type": "stream",
     "text": [
      "sampling end!. 2019-04-17 20:02:46.364528 2019-04-17 20:04:28.169680\n"
     ]
    },
    {
     "name": "stderr",
     "output_type": "stream",
     "text": [
      "[I 2019-04-17 20:04:29,205] Finished a trial resulted in value: -2.5983392132291443. Current best value is -3.010117083419561 with parameters: {'a': 0.3779872809968054, 'b': 0.24466325282823043, 'ab': [0.3779872809968054, 0.24466325282823043]}.\n"
     ]
    },
    {
     "name": "stdout",
     "output_type": "stream",
     "text": [
      "The set cost function is ignored! LCB acquisition does not make sense with cost.\n",
      "ab\n"
     ]
    },
    {
     "name": "stderr",
     "output_type": "stream",
     "text": [
      "reconstraining parameters GP_regression.mul\n",
      "reconstraining parameters GP_regression.Gaussian_noise.variance\n"
     ]
    },
    {
     "name": "stdout",
     "output_type": "stream",
     "text": [
      "sampling end!. 2019-04-17 20:04:29.207294 2019-04-17 20:06:23.651559\n"
     ]
    },
    {
     "name": "stderr",
     "output_type": "stream",
     "text": [
      "[I 2019-04-17 20:06:24,681] Finished a trial resulted in value: -2.840486129596026. Current best value is -3.010117083419561 with parameters: {'a': 0.3779872809968054, 'b': 0.24466325282823043, 'ab': [0.3779872809968054, 0.24466325282823043]}.\n"
     ]
    },
    {
     "name": "stdout",
     "output_type": "stream",
     "text": [
      "The set cost function is ignored! LCB acquisition does not make sense with cost.\n",
      "ab\n"
     ]
    },
    {
     "name": "stderr",
     "output_type": "stream",
     "text": [
      "reconstraining parameters GP_regression.mul\n",
      "reconstraining parameters GP_regression.Gaussian_noise.variance\n"
     ]
    },
    {
     "name": "stdout",
     "output_type": "stream",
     "text": [
      "sampling end!. 2019-04-17 20:06:24.683793 2019-04-17 20:08:24.532229\n"
     ]
    },
    {
     "name": "stderr",
     "output_type": "stream",
     "text": [
      "[I 2019-04-17 20:08:25,562] Finished a trial resulted in value: -2.7997406483477167. Current best value is -3.010117083419561 with parameters: {'a': 0.3779872809968054, 'b': 0.24466325282823043, 'ab': [0.3779872809968054, 0.24466325282823043]}.\n"
     ]
    },
    {
     "name": "stdout",
     "output_type": "stream",
     "text": [
      "The set cost function is ignored! LCB acquisition does not make sense with cost.\n",
      "ab\n"
     ]
    },
    {
     "name": "stderr",
     "output_type": "stream",
     "text": [
      "reconstraining parameters GP_regression.mul\n",
      "reconstraining parameters GP_regression.Gaussian_noise.variance\n"
     ]
    },
    {
     "name": "stdout",
     "output_type": "stream",
     "text": [
      "sampling end!. 2019-04-17 20:08:25.564399 2019-04-17 20:09:53.259772\n"
     ]
    },
    {
     "name": "stderr",
     "output_type": "stream",
     "text": [
      "[I 2019-04-17 20:09:54,304] Finished a trial resulted in value: -2.644270282927094. Current best value is -3.010117083419561 with parameters: {'a': 0.3779872809968054, 'b': 0.24466325282823043, 'ab': [0.3779872809968054, 0.24466325282823043]}.\n"
     ]
    },
    {
     "name": "stdout",
     "output_type": "stream",
     "text": [
      "The set cost function is ignored! LCB acquisition does not make sense with cost.\n",
      "ab\n"
     ]
    },
    {
     "name": "stderr",
     "output_type": "stream",
     "text": [
      "reconstraining parameters GP_regression.mul\n",
      "reconstraining parameters GP_regression.Gaussian_noise.variance\n"
     ]
    },
    {
     "name": "stdout",
     "output_type": "stream",
     "text": [
      "sampling end!. 2019-04-17 20:09:54.310050 2019-04-17 20:11:34.923568\n"
     ]
    },
    {
     "name": "stderr",
     "output_type": "stream",
     "text": [
      "[I 2019-04-17 20:11:35,991] Finished a trial resulted in value: -2.381036745810388. Current best value is -3.010117083419561 with parameters: {'a': 0.3779872809968054, 'b': 0.24466325282823043, 'ab': [0.3779872809968054, 0.24466325282823043]}.\n"
     ]
    },
    {
     "name": "stdout",
     "output_type": "stream",
     "text": [
      "The set cost function is ignored! LCB acquisition does not make sense with cost.\n",
      "ab\n"
     ]
    },
    {
     "name": "stderr",
     "output_type": "stream",
     "text": [
      "reconstraining parameters GP_regression.mul\n",
      "reconstraining parameters GP_regression.Gaussian_noise.variance\n"
     ]
    },
    {
     "name": "stdout",
     "output_type": "stream",
     "text": [
      "sampling end!. 2019-04-17 20:11:35.993275 2019-04-17 20:13:18.669177\n"
     ]
    },
    {
     "name": "stderr",
     "output_type": "stream",
     "text": [
      "[I 2019-04-17 20:13:19,711] Finished a trial resulted in value: -2.3986449195269266. Current best value is -3.010117083419561 with parameters: {'a': 0.3779872809968054, 'b': 0.24466325282823043, 'ab': [0.3779872809968054, 0.24466325282823043]}.\n"
     ]
    },
    {
     "name": "stdout",
     "output_type": "stream",
     "text": [
      "The set cost function is ignored! LCB acquisition does not make sense with cost.\n",
      "ab\n"
     ]
    },
    {
     "name": "stderr",
     "output_type": "stream",
     "text": [
      "reconstraining parameters GP_regression.mul\n",
      "reconstraining parameters GP_regression.Gaussian_noise.variance\n"
     ]
    },
    {
     "name": "stdout",
     "output_type": "stream",
     "text": [
      "sampling end!. 2019-04-17 20:13:19.713519 2019-04-17 20:15:07.843405\n"
     ]
    },
    {
     "name": "stderr",
     "output_type": "stream",
     "text": [
      "[I 2019-04-17 20:15:08,901] Finished a trial resulted in value: -2.3381285023815748. Current best value is -3.010117083419561 with parameters: {'a': 0.3779872809968054, 'b': 0.24466325282823043, 'ab': [0.3779872809968054, 0.24466325282823043]}.\n"
     ]
    },
    {
     "name": "stdout",
     "output_type": "stream",
     "text": [
      "The set cost function is ignored! LCB acquisition does not make sense with cost.\n",
      "ab\n"
     ]
    },
    {
     "name": "stderr",
     "output_type": "stream",
     "text": [
      "reconstraining parameters GP_regression.mul\n",
      "reconstraining parameters GP_regression.Gaussian_noise.variance\n"
     ]
    },
    {
     "name": "stdout",
     "output_type": "stream",
     "text": [
      "sampling end!. 2019-04-17 20:15:08.903889 2019-04-17 20:16:55.879584\n"
     ]
    },
    {
     "name": "stderr",
     "output_type": "stream",
     "text": [
      "[I 2019-04-17 20:16:56,917] Finished a trial resulted in value: -2.5053999529531903. Current best value is -3.010117083419561 with parameters: {'a': 0.3779872809968054, 'b': 0.24466325282823043, 'ab': [0.3779872809968054, 0.24466325282823043]}.\n"
     ]
    },
    {
     "name": "stdout",
     "output_type": "stream",
     "text": [
      "The set cost function is ignored! LCB acquisition does not make sense with cost.\n",
      "ab\n"
     ]
    },
    {
     "name": "stderr",
     "output_type": "stream",
     "text": [
      "reconstraining parameters GP_regression.mul\n",
      "reconstraining parameters GP_regression.Gaussian_noise.variance\n"
     ]
    },
    {
     "name": "stdout",
     "output_type": "stream",
     "text": [
      "sampling end!. 2019-04-17 20:16:56.919862 2019-04-17 20:18:43.829037\n"
     ]
    },
    {
     "name": "stderr",
     "output_type": "stream",
     "text": [
      "[I 2019-04-17 20:18:44,855] Finished a trial resulted in value: -2.48503784923771. Current best value is -3.010117083419561 with parameters: {'a': 0.3779872809968054, 'b': 0.24466325282823043, 'ab': [0.3779872809968054, 0.24466325282823043]}.\n"
     ]
    },
    {
     "name": "stdout",
     "output_type": "stream",
     "text": [
      "The set cost function is ignored! LCB acquisition does not make sense with cost.\n",
      "ab\n"
     ]
    },
    {
     "name": "stderr",
     "output_type": "stream",
     "text": [
      "reconstraining parameters GP_regression.mul\n",
      "reconstraining parameters GP_regression.Gaussian_noise.variance\n"
     ]
    },
    {
     "name": "stdout",
     "output_type": "stream",
     "text": [
      "sampling end!. 2019-04-17 20:18:44.858098 2019-04-17 20:20:22.778329\n"
     ]
    },
    {
     "name": "stderr",
     "output_type": "stream",
     "text": [
      "[I 2019-04-17 20:20:23,832] Finished a trial resulted in value: -0.8068244992919229. Current best value is -3.010117083419561 with parameters: {'a': 0.3779872809968054, 'b': 0.24466325282823043, 'ab': [0.3779872809968054, 0.24466325282823043]}.\n"
     ]
    },
    {
     "name": "stdout",
     "output_type": "stream",
     "text": [
      "The set cost function is ignored! LCB acquisition does not make sense with cost.\n",
      "ab\n"
     ]
    },
    {
     "name": "stderr",
     "output_type": "stream",
     "text": [
      "reconstraining parameters GP_regression.mul\n",
      "reconstraining parameters GP_regression.Gaussian_noise.variance\n"
     ]
    },
    {
     "name": "stdout",
     "output_type": "stream",
     "text": [
      "sampling end!. 2019-04-17 20:20:23.834976 2019-04-17 20:21:49.345718\n"
     ]
    },
    {
     "name": "stderr",
     "output_type": "stream",
     "text": [
      "[I 2019-04-17 20:21:50,390] Finished a trial resulted in value: -0.44718729395546225. Current best value is -3.010117083419561 with parameters: {'a': 0.3779872809968054, 'b': 0.24466325282823043, 'ab': [0.3779872809968054, 0.24466325282823043]}.\n"
     ]
    },
    {
     "name": "stdout",
     "output_type": "stream",
     "text": [
      "The set cost function is ignored! LCB acquisition does not make sense with cost.\n",
      "ab\n"
     ]
    },
    {
     "name": "stderr",
     "output_type": "stream",
     "text": [
      "reconstraining parameters GP_regression.mul\n",
      "reconstraining parameters GP_regression.Gaussian_noise.variance\n"
     ]
    },
    {
     "name": "stdout",
     "output_type": "stream",
     "text": [
      "sampling end!. 2019-04-17 20:21:50.395334 2019-04-17 20:23:39.905795\n"
     ]
    },
    {
     "name": "stderr",
     "output_type": "stream",
     "text": [
      "[I 2019-04-17 20:23:40,948] Finished a trial resulted in value: -2.353353178099951. Current best value is -3.010117083419561 with parameters: {'a': 0.3779872809968054, 'b': 0.24466325282823043, 'ab': [0.3779872809968054, 0.24466325282823043]}.\n"
     ]
    },
    {
     "name": "stdout",
     "output_type": "stream",
     "text": [
      "The set cost function is ignored! LCB acquisition does not make sense with cost.\n",
      "ab\n"
     ]
    },
    {
     "name": "stderr",
     "output_type": "stream",
     "text": [
      "reconstraining parameters GP_regression.mul\n",
      "reconstraining parameters GP_regression.Gaussian_noise.variance\n"
     ]
    },
    {
     "name": "stdout",
     "output_type": "stream",
     "text": [
      "sampling end!. 2019-04-17 20:23:40.950570 2019-04-17 20:25:15.053286\n"
     ]
    },
    {
     "name": "stderr",
     "output_type": "stream",
     "text": [
      "[I 2019-04-17 20:25:16,109] Finished a trial resulted in value: -2.17530353810511. Current best value is -3.010117083419561 with parameters: {'a': 0.3779872809968054, 'b': 0.24466325282823043, 'ab': [0.3779872809968054, 0.24466325282823043]}.\n"
     ]
    },
    {
     "name": "stdout",
     "output_type": "stream",
     "text": [
      "The set cost function is ignored! LCB acquisition does not make sense with cost.\n",
      "ab\n"
     ]
    },
    {
     "name": "stderr",
     "output_type": "stream",
     "text": [
      "reconstraining parameters GP_regression.mul\n",
      "reconstraining parameters GP_regression.Gaussian_noise.variance\n"
     ]
    },
    {
     "name": "stdout",
     "output_type": "stream",
     "text": [
      "sampling end!. 2019-04-17 20:25:16.120309 2019-04-17 20:26:59.293644\n"
     ]
    },
    {
     "name": "stderr",
     "output_type": "stream",
     "text": [
      "[I 2019-04-17 20:27:00,361] Finished a trial resulted in value: -2.1406240879130296. Current best value is -3.010117083419561 with parameters: {'a': 0.3779872809968054, 'b': 0.24466325282823043, 'ab': [0.3779872809968054, 0.24466325282823043]}.\n"
     ]
    },
    {
     "name": "stdout",
     "output_type": "stream",
     "text": [
      "The set cost function is ignored! LCB acquisition does not make sense with cost.\n",
      "ab\n"
     ]
    },
    {
     "name": "stderr",
     "output_type": "stream",
     "text": [
      "reconstraining parameters GP_regression.mul\n",
      "reconstraining parameters GP_regression.Gaussian_noise.variance\n"
     ]
    },
    {
     "name": "stdout",
     "output_type": "stream",
     "text": [
      "sampling end!. 2019-04-17 20:27:00.363321 2019-04-17 20:29:02.094357\n"
     ]
    },
    {
     "name": "stderr",
     "output_type": "stream",
     "text": [
      "[I 2019-04-17 20:29:03,134] Finished a trial resulted in value: -1.948712050495455. Current best value is -3.010117083419561 with parameters: {'a': 0.3779872809968054, 'b': 0.24466325282823043, 'ab': [0.3779872809968054, 0.24466325282823043]}.\n"
     ]
    },
    {
     "name": "stdout",
     "output_type": "stream",
     "text": [
      "The set cost function is ignored! LCB acquisition does not make sense with cost.\n",
      "ab\n"
     ]
    },
    {
     "name": "stderr",
     "output_type": "stream",
     "text": [
      "reconstraining parameters GP_regression.mul\n",
      "reconstraining parameters GP_regression.Gaussian_noise.variance\n"
     ]
    },
    {
     "name": "stdout",
     "output_type": "stream",
     "text": [
      "sampling end!. 2019-04-17 20:29:03.136551 2019-04-17 20:30:25.036138\n"
     ]
    },
    {
     "name": "stderr",
     "output_type": "stream",
     "text": [
      "[I 2019-04-17 20:30:26,077] Finished a trial resulted in value: 1.4387852861153578. Current best value is -3.010117083419561 with parameters: {'a': 0.3779872809968054, 'b': 0.24466325282823043, 'ab': [0.3779872809968054, 0.24466325282823043]}.\n"
     ]
    },
    {
     "name": "stdout",
     "output_type": "stream",
     "text": [
      "The set cost function is ignored! LCB acquisition does not make sense with cost.\n",
      "ab\n"
     ]
    },
    {
     "name": "stderr",
     "output_type": "stream",
     "text": [
      "reconstraining parameters GP_regression.mul\n",
      "reconstraining parameters GP_regression.Gaussian_noise.variance\n"
     ]
    },
    {
     "name": "stdout",
     "output_type": "stream",
     "text": [
      "sampling end!. 2019-04-17 20:30:26.079290 2019-04-17 20:32:08.550998\n"
     ]
    },
    {
     "name": "stderr",
     "output_type": "stream",
     "text": [
      "[I 2019-04-17 20:32:09,595] Finished a trial resulted in value: -0.8514413160508361. Current best value is -3.010117083419561 with parameters: {'a': 0.3779872809968054, 'b': 0.24466325282823043, 'ab': [0.3779872809968054, 0.24466325282823043]}.\n"
     ]
    },
    {
     "name": "stdout",
     "output_type": "stream",
     "text": [
      "The set cost function is ignored! LCB acquisition does not make sense with cost.\n",
      "ab\n"
     ]
    },
    {
     "name": "stderr",
     "output_type": "stream",
     "text": [
      "reconstraining parameters GP_regression.mul\n",
      "reconstraining parameters GP_regression.Gaussian_noise.variance\n"
     ]
    },
    {
     "name": "stdout",
     "output_type": "stream",
     "text": [
      "sampling end!. 2019-04-17 20:32:09.597668 2019-04-17 20:34:06.274600\n"
     ]
    },
    {
     "name": "stderr",
     "output_type": "stream",
     "text": [
      "[I 2019-04-17 20:34:07,327] Finished a trial resulted in value: -1.9690171203865452. Current best value is -3.010117083419561 with parameters: {'a': 0.3779872809968054, 'b': 0.24466325282823043, 'ab': [0.3779872809968054, 0.24466325282823043]}.\n"
     ]
    },
    {
     "name": "stdout",
     "output_type": "stream",
     "text": [
      "The set cost function is ignored! LCB acquisition does not make sense with cost.\n",
      "ab\n"
     ]
    },
    {
     "name": "stderr",
     "output_type": "stream",
     "text": [
      "reconstraining parameters GP_regression.mul\n",
      "reconstraining parameters GP_regression.Gaussian_noise.variance\n"
     ]
    },
    {
     "name": "stdout",
     "output_type": "stream",
     "text": [
      "sampling end!. 2019-04-17 20:34:07.330277 2019-04-17 20:36:16.281853\n"
     ]
    },
    {
     "name": "stderr",
     "output_type": "stream",
     "text": [
      "[I 2019-04-17 20:36:17,330] Finished a trial resulted in value: -2.2011016784251356. Current best value is -3.010117083419561 with parameters: {'a': 0.3779872809968054, 'b': 0.24466325282823043, 'ab': [0.3779872809968054, 0.24466325282823043]}.\n"
     ]
    },
    {
     "name": "stdout",
     "output_type": "stream",
     "text": [
      "The set cost function is ignored! LCB acquisition does not make sense with cost.\n",
      "ab\n"
     ]
    },
    {
     "name": "stderr",
     "output_type": "stream",
     "text": [
      "reconstraining parameters GP_regression.mul\n",
      "reconstraining parameters GP_regression.Gaussian_noise.variance\n"
     ]
    },
    {
     "name": "stdout",
     "output_type": "stream",
     "text": [
      "sampling end!. 2019-04-17 20:36:17.332885 2019-04-17 20:39:07.836271\n"
     ]
    },
    {
     "name": "stderr",
     "output_type": "stream",
     "text": [
      "[I 2019-04-17 20:39:08,883] Finished a trial resulted in value: -2.2168365140357533. Current best value is -3.010117083419561 with parameters: {'a': 0.3779872809968054, 'b': 0.24466325282823043, 'ab': [0.3779872809968054, 0.24466325282823043]}.\n"
     ]
    },
    {
     "name": "stdout",
     "output_type": "stream",
     "text": [
      "The set cost function is ignored! LCB acquisition does not make sense with cost.\n",
      "ab\n"
     ]
    },
    {
     "name": "stderr",
     "output_type": "stream",
     "text": [
      "reconstraining parameters GP_regression.mul\n",
      "reconstraining parameters GP_regression.Gaussian_noise.variance\n"
     ]
    },
    {
     "name": "stdout",
     "output_type": "stream",
     "text": [
      "sampling end!. 2019-04-17 20:39:08.886582 2019-04-17 20:42:20.639270\n"
     ]
    },
    {
     "name": "stderr",
     "output_type": "stream",
     "text": [
      "[I 2019-04-17 20:42:21,679] Finished a trial resulted in value: -2.55204615966019. Current best value is -3.010117083419561 with parameters: {'a': 0.3779872809968054, 'b': 0.24466325282823043, 'ab': [0.3779872809968054, 0.24466325282823043]}.\n"
     ]
    },
    {
     "name": "stdout",
     "output_type": "stream",
     "text": [
      "The set cost function is ignored! LCB acquisition does not make sense with cost.\n",
      "ab\n"
     ]
    },
    {
     "name": "stderr",
     "output_type": "stream",
     "text": [
      "reconstraining parameters GP_regression.mul\n",
      "reconstraining parameters GP_regression.Gaussian_noise.variance\n"
     ]
    },
    {
     "name": "stdout",
     "output_type": "stream",
     "text": [
      "sampling end!. 2019-04-17 20:42:21.683703 2019-04-17 20:44:39.357917\n"
     ]
    },
    {
     "name": "stderr",
     "output_type": "stream",
     "text": [
      "[I 2019-04-17 20:44:40,403] Finished a trial resulted in value: -2.6351332924426702. Current best value is -3.010117083419561 with parameters: {'a': 0.3779872809968054, 'b': 0.24466325282823043, 'ab': [0.3779872809968054, 0.24466325282823043]}.\n"
     ]
    },
    {
     "name": "stdout",
     "output_type": "stream",
     "text": [
      "The set cost function is ignored! LCB acquisition does not make sense with cost.\n",
      "ab\n"
     ]
    },
    {
     "name": "stderr",
     "output_type": "stream",
     "text": [
      "reconstraining parameters GP_regression.mul\n",
      "reconstraining parameters GP_regression.Gaussian_noise.variance\n"
     ]
    },
    {
     "name": "stdout",
     "output_type": "stream",
     "text": [
      "sampling end!. 2019-04-17 20:44:40.405827 2019-04-17 20:46:59.575670\n"
     ]
    },
    {
     "name": "stderr",
     "output_type": "stream",
     "text": [
      "[I 2019-04-17 20:47:00,636] Finished a trial resulted in value: -2.6130447779758246. Current best value is -3.010117083419561 with parameters: {'a': 0.3779872809968054, 'b': 0.24466325282823043, 'ab': [0.3779872809968054, 0.24466325282823043]}.\n"
     ]
    },
    {
     "name": "stdout",
     "output_type": "stream",
     "text": [
      "The set cost function is ignored! LCB acquisition does not make sense with cost.\n",
      "ab\n"
     ]
    },
    {
     "name": "stderr",
     "output_type": "stream",
     "text": [
      "reconstraining parameters GP_regression.mul\n",
      "reconstraining parameters GP_regression.Gaussian_noise.variance\n"
     ]
    },
    {
     "name": "stdout",
     "output_type": "stream",
     "text": [
      "sampling end!. 2019-04-17 20:47:00.653493 2019-04-17 20:49:24.230355\n"
     ]
    },
    {
     "name": "stderr",
     "output_type": "stream",
     "text": [
      "[I 2019-04-17 20:49:25,268] Finished a trial resulted in value: -2.8379934565308456. Current best value is -3.010117083419561 with parameters: {'a': 0.3779872809968054, 'b': 0.24466325282823043, 'ab': [0.3779872809968054, 0.24466325282823043]}.\n"
     ]
    },
    {
     "name": "stdout",
     "output_type": "stream",
     "text": [
      "The set cost function is ignored! LCB acquisition does not make sense with cost.\n",
      "ab\n"
     ]
    },
    {
     "name": "stderr",
     "output_type": "stream",
     "text": [
      "reconstraining parameters GP_regression.mul\n",
      "reconstraining parameters GP_regression.Gaussian_noise.variance\n"
     ]
    },
    {
     "name": "stdout",
     "output_type": "stream",
     "text": [
      "sampling end!. 2019-04-17 20:49:25.274698 2019-04-17 20:51:52.580456\n"
     ]
    },
    {
     "name": "stderr",
     "output_type": "stream",
     "text": [
      "[I 2019-04-17 20:51:53,624] Finished a trial resulted in value: -2.616302563787284. Current best value is -3.010117083419561 with parameters: {'a': 0.3779872809968054, 'b': 0.24466325282823043, 'ab': [0.3779872809968054, 0.24466325282823043]}.\n"
     ]
    },
    {
     "name": "stdout",
     "output_type": "stream",
     "text": [
      "The set cost function is ignored! LCB acquisition does not make sense with cost.\n",
      "ab\n"
     ]
    },
    {
     "name": "stderr",
     "output_type": "stream",
     "text": [
      "reconstraining parameters GP_regression.mul\n",
      "reconstraining parameters GP_regression.Gaussian_noise.variance\n"
     ]
    },
    {
     "name": "stdout",
     "output_type": "stream",
     "text": [
      "sampling end!. 2019-04-17 20:51:53.627731 2019-04-17 20:54:24.164432\n"
     ]
    },
    {
     "name": "stderr",
     "output_type": "stream",
     "text": [
      "[I 2019-04-17 20:54:25,198] Finished a trial resulted in value: -2.669491739117978. Current best value is -3.010117083419561 with parameters: {'a': 0.3779872809968054, 'b': 0.24466325282823043, 'ab': [0.3779872809968054, 0.24466325282823043]}.\n"
     ]
    },
    {
     "name": "stdout",
     "output_type": "stream",
     "text": [
      "The set cost function is ignored! LCB acquisition does not make sense with cost.\n",
      "ab\n"
     ]
    },
    {
     "name": "stderr",
     "output_type": "stream",
     "text": [
      "reconstraining parameters GP_regression.mul\n",
      "reconstraining parameters GP_regression.Gaussian_noise.variance\n"
     ]
    },
    {
     "name": "stdout",
     "output_type": "stream",
     "text": [
      "sampling end!. 2019-04-17 20:54:25.201359 2019-04-17 20:56:54.837148\n"
     ]
    },
    {
     "name": "stderr",
     "output_type": "stream",
     "text": [
      "[I 2019-04-17 20:56:55,871] Finished a trial resulted in value: -2.5424162193594264. Current best value is -3.010117083419561 with parameters: {'a': 0.3779872809968054, 'b': 0.24466325282823043, 'ab': [0.3779872809968054, 0.24466325282823043]}.\n"
     ]
    },
    {
     "name": "stdout",
     "output_type": "stream",
     "text": [
      "The set cost function is ignored! LCB acquisition does not make sense with cost.\n",
      "ab\n"
     ]
    },
    {
     "name": "stderr",
     "output_type": "stream",
     "text": [
      "reconstraining parameters GP_regression.mul\n",
      "reconstraining parameters GP_regression.Gaussian_noise.variance\n"
     ]
    },
    {
     "name": "stdout",
     "output_type": "stream",
     "text": [
      "sampling end!. 2019-04-17 20:56:55.873978 2019-04-17 21:00:33.352613\n"
     ]
    },
    {
     "name": "stderr",
     "output_type": "stream",
     "text": [
      "[I 2019-04-17 21:00:34,435] Finished a trial resulted in value: -2.434294888614145. Current best value is -3.010117083419561 with parameters: {'a': 0.3779872809968054, 'b': 0.24466325282823043, 'ab': [0.3779872809968054, 0.24466325282823043]}.\n"
     ]
    },
    {
     "name": "stdout",
     "output_type": "stream",
     "text": [
      "The set cost function is ignored! LCB acquisition does not make sense with cost.\n",
      "ab\n"
     ]
    },
    {
     "name": "stderr",
     "output_type": "stream",
     "text": [
      "reconstraining parameters GP_regression.mul\n",
      "reconstraining parameters GP_regression.Gaussian_noise.variance\n"
     ]
    },
    {
     "name": "stdout",
     "output_type": "stream",
     "text": [
      "sampling end!. 2019-04-17 21:00:34.448255 2019-04-17 21:06:10.189973\n"
     ]
    },
    {
     "name": "stderr",
     "output_type": "stream",
     "text": [
      "[I 2019-04-17 21:06:11,387] Finished a trial resulted in value: -2.4557174433354616. Current best value is -3.010117083419561 with parameters: {'a': 0.3779872809968054, 'b': 0.24466325282823043, 'ab': [0.3779872809968054, 0.24466325282823043]}.\n"
     ]
    },
    {
     "name": "stdout",
     "output_type": "stream",
     "text": [
      "The set cost function is ignored! LCB acquisition does not make sense with cost.\n",
      "ab\n"
     ]
    },
    {
     "name": "stderr",
     "output_type": "stream",
     "text": [
      "reconstraining parameters GP_regression.mul\n",
      "reconstraining parameters GP_regression.Gaussian_noise.variance\n"
     ]
    },
    {
     "name": "stdout",
     "output_type": "stream",
     "text": [
      "sampling end!. 2019-04-17 21:06:11.392249 2019-04-17 21:17:27.951488\n"
     ]
    },
    {
     "name": "stderr",
     "output_type": "stream",
     "text": [
      "[I 2019-04-17 21:17:29,362] Finished a trial resulted in value: -2.499662773326064. Current best value is -3.010117083419561 with parameters: {'a': 0.3779872809968054, 'b': 0.24466325282823043, 'ab': [0.3779872809968054, 0.24466325282823043]}.\n"
     ]
    },
    {
     "name": "stdout",
     "output_type": "stream",
     "text": [
      "The set cost function is ignored! LCB acquisition does not make sense with cost.\n",
      "ab\n"
     ]
    },
    {
     "name": "stderr",
     "output_type": "stream",
     "text": [
      "reconstraining parameters GP_regression.mul\n",
      "reconstraining parameters GP_regression.Gaussian_noise.variance\n"
     ]
    },
    {
     "name": "stdout",
     "output_type": "stream",
     "text": [
      "sampling end!. 2019-04-17 21:17:29.409384 2019-04-17 21:30:57.572762\n"
     ]
    },
    {
     "name": "stderr",
     "output_type": "stream",
     "text": [
      "[I 2019-04-17 21:30:58,649] Finished a trial resulted in value: -2.6582331494925477. Current best value is -3.010117083419561 with parameters: {'a': 0.3779872809968054, 'b': 0.24466325282823043, 'ab': [0.3779872809968054, 0.24466325282823043]}.\n"
     ]
    },
    {
     "name": "stdout",
     "output_type": "stream",
     "text": [
      "The set cost function is ignored! LCB acquisition does not make sense with cost.\n",
      "ab\n"
     ]
    },
    {
     "name": "stderr",
     "output_type": "stream",
     "text": [
      "reconstraining parameters GP_regression.mul\n",
      "reconstraining parameters GP_regression.Gaussian_noise.variance\n"
     ]
    },
    {
     "name": "stdout",
     "output_type": "stream",
     "text": [
      "sampling end!. 2019-04-17 21:30:58.653735 2019-04-17 21:43:14.604496\n"
     ]
    },
    {
     "name": "stderr",
     "output_type": "stream",
     "text": [
      "[I 2019-04-17 21:43:15,677] Finished a trial resulted in value: -2.577835900952089. Current best value is -3.010117083419561 with parameters: {'a': 0.3779872809968054, 'b': 0.24466325282823043, 'ab': [0.3779872809968054, 0.24466325282823043]}.\n"
     ]
    },
    {
     "name": "stdout",
     "output_type": "stream",
     "text": [
      "The set cost function is ignored! LCB acquisition does not make sense with cost.\n",
      "ab\n"
     ]
    },
    {
     "name": "stderr",
     "output_type": "stream",
     "text": [
      "reconstraining parameters GP_regression.mul\n",
      "reconstraining parameters GP_regression.Gaussian_noise.variance\n"
     ]
    },
    {
     "name": "stdout",
     "output_type": "stream",
     "text": [
      "sampling end!. 2019-04-17 21:43:15.682127 2019-04-17 21:55:56.808124\n"
     ]
    },
    {
     "name": "stderr",
     "output_type": "stream",
     "text": [
      "[I 2019-04-17 21:55:57,866] Finished a trial resulted in value: -2.5308861965348672. Current best value is -3.010117083419561 with parameters: {'a': 0.3779872809968054, 'b': 0.24466325282823043, 'ab': [0.3779872809968054, 0.24466325282823043]}.\n"
     ]
    },
    {
     "name": "stdout",
     "output_type": "stream",
     "text": [
      "The set cost function is ignored! LCB acquisition does not make sense with cost.\n",
      "ab\n"
     ]
    },
    {
     "name": "stderr",
     "output_type": "stream",
     "text": [
      "reconstraining parameters GP_regression.mul\n",
      "reconstraining parameters GP_regression.Gaussian_noise.variance\n"
     ]
    },
    {
     "name": "stdout",
     "output_type": "stream",
     "text": [
      "sampling end!. 2019-04-17 21:55:57.870665 2019-04-17 22:07:18.860973\n"
     ]
    },
    {
     "name": "stderr",
     "output_type": "stream",
     "text": [
      "[I 2019-04-17 22:07:19,955] Finished a trial resulted in value: -2.4851524131772056. Current best value is -3.010117083419561 with parameters: {'a': 0.3779872809968054, 'b': 0.24466325282823043, 'ab': [0.3779872809968054, 0.24466325282823043]}.\n"
     ]
    },
    {
     "name": "stdout",
     "output_type": "stream",
     "text": [
      "The set cost function is ignored! LCB acquisition does not make sense with cost.\n",
      "ab\n"
     ]
    },
    {
     "name": "stderr",
     "output_type": "stream",
     "text": [
      "reconstraining parameters GP_regression.mul\n",
      "reconstraining parameters GP_regression.Gaussian_noise.variance\n"
     ]
    },
    {
     "name": "stdout",
     "output_type": "stream",
     "text": [
      "sampling end!. 2019-04-17 22:07:19.961439 2019-04-17 22:19:24.121764\n"
     ]
    },
    {
     "name": "stderr",
     "output_type": "stream",
     "text": [
      "[I 2019-04-17 22:19:25,187] Finished a trial resulted in value: -2.490990887966309. Current best value is -3.010117083419561 with parameters: {'a': 0.3779872809968054, 'b': 0.24466325282823043, 'ab': [0.3779872809968054, 0.24466325282823043]}.\n"
     ]
    },
    {
     "name": "stdout",
     "output_type": "stream",
     "text": [
      "The set cost function is ignored! LCB acquisition does not make sense with cost.\n",
      "ab\n"
     ]
    },
    {
     "name": "stderr",
     "output_type": "stream",
     "text": [
      "reconstraining parameters GP_regression.mul\n",
      "reconstraining parameters GP_regression.Gaussian_noise.variance\n"
     ]
    },
    {
     "name": "stdout",
     "output_type": "stream",
     "text": [
      "sampling end!. 2019-04-17 22:19:25.191701 2019-04-17 23:47:29.763929\n"
     ]
    },
    {
     "name": "stderr",
     "output_type": "stream",
     "text": [
      "[I 2019-04-17 23:47:30,863] Finished a trial resulted in value: -2.6732489325251585. Current best value is -3.010117083419561 with parameters: {'a': 0.3779872809968054, 'b': 0.24466325282823043, 'ab': [0.3779872809968054, 0.24466325282823043]}.\n"
     ]
    },
    {
     "name": "stdout",
     "output_type": "stream",
     "text": [
      "The set cost function is ignored! LCB acquisition does not make sense with cost.\n",
      "ab\n"
     ]
    },
    {
     "name": "stderr",
     "output_type": "stream",
     "text": [
      "reconstraining parameters GP_regression.mul\n",
      "reconstraining parameters GP_regression.Gaussian_noise.variance\n"
     ]
    },
    {
     "name": "stdout",
     "output_type": "stream",
     "text": [
      "sampling end!. 2019-04-17 23:47:30.870201 2019-04-18 00:03:46.788431\n"
     ]
    },
    {
     "name": "stderr",
     "output_type": "stream",
     "text": [
      "[I 2019-04-18 00:03:47,897] Finished a trial resulted in value: -2.717938413674494. Current best value is -3.010117083419561 with parameters: {'a': 0.3779872809968054, 'b': 0.24466325282823043, 'ab': [0.3779872809968054, 0.24466325282823043]}.\n"
     ]
    },
    {
     "name": "stdout",
     "output_type": "stream",
     "text": [
      "The set cost function is ignored! LCB acquisition does not make sense with cost.\n",
      "ab\n"
     ]
    },
    {
     "name": "stderr",
     "output_type": "stream",
     "text": [
      "reconstraining parameters GP_regression.mul\n",
      "reconstraining parameters GP_regression.Gaussian_noise.variance\n"
     ]
    },
    {
     "name": "stdout",
     "output_type": "stream",
     "text": [
      "sampling end!. 2019-04-18 00:03:47.905164 2019-04-18 00:22:49.237253\n"
     ]
    },
    {
     "name": "stderr",
     "output_type": "stream",
     "text": [
      "[I 2019-04-18 00:22:50,308] Finished a trial resulted in value: -2.7325995170287323. Current best value is -3.010117083419561 with parameters: {'a': 0.3779872809968054, 'b': 0.24466325282823043, 'ab': [0.3779872809968054, 0.24466325282823043]}.\n"
     ]
    },
    {
     "name": "stdout",
     "output_type": "stream",
     "text": [
      "The set cost function is ignored! LCB acquisition does not make sense with cost.\n",
      "ab\n"
     ]
    },
    {
     "name": "stderr",
     "output_type": "stream",
     "text": [
      "reconstraining parameters GP_regression.mul\n",
      "reconstraining parameters GP_regression.Gaussian_noise.variance\n"
     ]
    },
    {
     "name": "stdout",
     "output_type": "stream",
     "text": [
      "sampling end!. 2019-04-18 00:22:50.313750 2019-04-18 00:30:32.479776\n"
     ]
    },
    {
     "name": "stderr",
     "output_type": "stream",
     "text": [
      "[I 2019-04-18 00:30:33,540] Finished a trial resulted in value: -2.6459990605833625. Current best value is -3.010117083419561 with parameters: {'a': 0.3779872809968054, 'b': 0.24466325282823043, 'ab': [0.3779872809968054, 0.24466325282823043]}.\n"
     ]
    },
    {
     "name": "stdout",
     "output_type": "stream",
     "text": [
      "The set cost function is ignored! LCB acquisition does not make sense with cost.\n",
      "ab\n"
     ]
    },
    {
     "name": "stderr",
     "output_type": "stream",
     "text": [
      "reconstraining parameters GP_regression.mul\n",
      "reconstraining parameters GP_regression.Gaussian_noise.variance\n"
     ]
    },
    {
     "name": "stdout",
     "output_type": "stream",
     "text": [
      "sampling end!. 2019-04-18 00:30:33.543571 2019-04-18 00:36:26.025487\n"
     ]
    },
    {
     "name": "stderr",
     "output_type": "stream",
     "text": [
      "[I 2019-04-18 00:36:27,094] Finished a trial resulted in value: -2.814689111333093. Current best value is -3.010117083419561 with parameters: {'a': 0.3779872809968054, 'b': 0.24466325282823043, 'ab': [0.3779872809968054, 0.24466325282823043]}.\n"
     ]
    },
    {
     "name": "stdout",
     "output_type": "stream",
     "text": [
      "The set cost function is ignored! LCB acquisition does not make sense with cost.\n",
      "ab\n"
     ]
    },
    {
     "name": "stderr",
     "output_type": "stream",
     "text": [
      "reconstraining parameters GP_regression.mul\n",
      "reconstraining parameters GP_regression.Gaussian_noise.variance\n"
     ]
    },
    {
     "name": "stdout",
     "output_type": "stream",
     "text": [
      "sampling end!. 2019-04-18 00:36:27.098892 2019-04-18 00:42:46.328890\n"
     ]
    },
    {
     "name": "stderr",
     "output_type": "stream",
     "text": [
      "[I 2019-04-18 00:42:47,387] Finished a trial resulted in value: -2.776233493171435. Current best value is -3.010117083419561 with parameters: {'a': 0.3779872809968054, 'b': 0.24466325282823043, 'ab': [0.3779872809968054, 0.24466325282823043]}.\n"
     ]
    },
    {
     "name": "stdout",
     "output_type": "stream",
     "text": [
      "The set cost function is ignored! LCB acquisition does not make sense with cost.\n",
      "ab\n"
     ]
    },
    {
     "name": "stderr",
     "output_type": "stream",
     "text": [
      "reconstraining parameters GP_regression.mul\n",
      "reconstraining parameters GP_regression.Gaussian_noise.variance\n"
     ]
    },
    {
     "name": "stdout",
     "output_type": "stream",
     "text": [
      "sampling end!. 2019-04-18 00:42:47.390979 2019-04-18 00:49:57.925067\n"
     ]
    },
    {
     "name": "stderr",
     "output_type": "stream",
     "text": [
      "[I 2019-04-18 00:49:59,030] Finished a trial resulted in value: -2.749277368047831. Current best value is -3.010117083419561 with parameters: {'a': 0.3779872809968054, 'b': 0.24466325282823043, 'ab': [0.3779872809968054, 0.24466325282823043]}.\n"
     ]
    },
    {
     "name": "stdout",
     "output_type": "stream",
     "text": [
      "The set cost function is ignored! LCB acquisition does not make sense with cost.\n",
      "ab\n"
     ]
    },
    {
     "name": "stderr",
     "output_type": "stream",
     "text": [
      "reconstraining parameters GP_regression.mul\n",
      "reconstraining parameters GP_regression.Gaussian_noise.variance\n"
     ]
    },
    {
     "name": "stdout",
     "output_type": "stream",
     "text": [
      "sampling end!. 2019-04-18 00:49:59.040300 2019-04-18 00:53:45.791368\n"
     ]
    },
    {
     "name": "stderr",
     "output_type": "stream",
     "text": [
      "[I 2019-04-18 00:53:46,855] Finished a trial resulted in value: -2.393923456424137. Current best value is -3.010117083419561 with parameters: {'a': 0.3779872809968054, 'b': 0.24466325282823043, 'ab': [0.3779872809968054, 0.24466325282823043]}.\n"
     ]
    },
    {
     "name": "stdout",
     "output_type": "stream",
     "text": [
      "The set cost function is ignored! LCB acquisition does not make sense with cost.\n",
      "ab\n"
     ]
    },
    {
     "name": "stderr",
     "output_type": "stream",
     "text": [
      "reconstraining parameters GP_regression.mul\n",
      "reconstraining parameters GP_regression.Gaussian_noise.variance\n"
     ]
    },
    {
     "name": "stdout",
     "output_type": "stream",
     "text": [
      "sampling end!. 2019-04-18 00:53:46.862122 2019-04-18 00:56:49.772495\n"
     ]
    },
    {
     "name": "stderr",
     "output_type": "stream",
     "text": [
      "[I 2019-04-18 00:56:50,837] Finished a trial resulted in value: -2.8065347326575094. Current best value is -3.010117083419561 with parameters: {'a': 0.3779872809968054, 'b': 0.24466325282823043, 'ab': [0.3779872809968054, 0.24466325282823043]}.\n"
     ]
    },
    {
     "name": "stdout",
     "output_type": "stream",
     "text": [
      "The set cost function is ignored! LCB acquisition does not make sense with cost.\n",
      "ab\n"
     ]
    },
    {
     "name": "stderr",
     "output_type": "stream",
     "text": [
      "reconstraining parameters GP_regression.mul\n",
      "reconstraining parameters GP_regression.Gaussian_noise.variance\n"
     ]
    },
    {
     "name": "stdout",
     "output_type": "stream",
     "text": [
      "sampling end!. 2019-04-18 00:56:50.845112 2019-04-18 01:00:20.717418\n"
     ]
    },
    {
     "name": "stderr",
     "output_type": "stream",
     "text": [
      "[I 2019-04-18 01:00:21,753] Finished a trial resulted in value: -2.343155685885201. Current best value is -3.010117083419561 with parameters: {'a': 0.3779872809968054, 'b': 0.24466325282823043, 'ab': [0.3779872809968054, 0.24466325282823043]}.\n"
     ]
    },
    {
     "name": "stdout",
     "output_type": "stream",
     "text": [
      "The set cost function is ignored! LCB acquisition does not make sense with cost.\n",
      "ab\n"
     ]
    },
    {
     "name": "stderr",
     "output_type": "stream",
     "text": [
      "reconstraining parameters GP_regression.mul\n",
      "reconstraining parameters GP_regression.Gaussian_noise.variance\n"
     ]
    },
    {
     "name": "stdout",
     "output_type": "stream",
     "text": [
      "sampling end!. 2019-04-18 01:00:21.755757 2019-04-18 01:04:19.018599\n"
     ]
    },
    {
     "name": "stderr",
     "output_type": "stream",
     "text": [
      "[I 2019-04-18 01:04:20,074] Finished a trial resulted in value: -2.4749653850317377. Current best value is -3.010117083419561 with parameters: {'a': 0.3779872809968054, 'b': 0.24466325282823043, 'ab': [0.3779872809968054, 0.24466325282823043]}.\n"
     ]
    },
    {
     "name": "stdout",
     "output_type": "stream",
     "text": [
      "The set cost function is ignored! LCB acquisition does not make sense with cost.\n",
      "ab\n"
     ]
    },
    {
     "name": "stderr",
     "output_type": "stream",
     "text": [
      "reconstraining parameters GP_regression.mul\n",
      "reconstraining parameters GP_regression.Gaussian_noise.variance\n"
     ]
    },
    {
     "name": "stdout",
     "output_type": "stream",
     "text": [
      "sampling end!. 2019-04-18 01:04:20.077631 2019-04-18 01:08:19.159959\n"
     ]
    },
    {
     "name": "stderr",
     "output_type": "stream",
     "text": [
      "[I 2019-04-18 01:08:20,210] Finished a trial resulted in value: -2.4051641205869934. Current best value is -3.010117083419561 with parameters: {'a': 0.3779872809968054, 'b': 0.24466325282823043, 'ab': [0.3779872809968054, 0.24466325282823043]}.\n"
     ]
    },
    {
     "name": "stdout",
     "output_type": "stream",
     "text": [
      "The set cost function is ignored! LCB acquisition does not make sense with cost.\n",
      "ab\n"
     ]
    },
    {
     "name": "stderr",
     "output_type": "stream",
     "text": [
      "reconstraining parameters GP_regression.mul\n",
      "reconstraining parameters GP_regression.Gaussian_noise.variance\n"
     ]
    },
    {
     "name": "stdout",
     "output_type": "stream",
     "text": [
      "sampling end!. 2019-04-18 01:08:20.212879 2019-04-18 01:11:22.142725\n"
     ]
    },
    {
     "name": "stderr",
     "output_type": "stream",
     "text": [
      "[I 2019-04-18 01:11:23,211] Finished a trial resulted in value: 0.1048443818235236. Current best value is -3.010117083419561 with parameters: {'a': 0.3779872809968054, 'b': 0.24466325282823043, 'ab': [0.3779872809968054, 0.24466325282823043]}.\n"
     ]
    },
    {
     "name": "stdout",
     "output_type": "stream",
     "text": [
      "The set cost function is ignored! LCB acquisition does not make sense with cost.\n",
      "ab\n"
     ]
    },
    {
     "name": "stderr",
     "output_type": "stream",
     "text": [
      "reconstraining parameters GP_regression.mul\n",
      "reconstraining parameters GP_regression.Gaussian_noise.variance\n"
     ]
    },
    {
     "name": "stdout",
     "output_type": "stream",
     "text": [
      "sampling end!. 2019-04-18 01:11:23.216404 2019-04-18 01:15:03.954000\n"
     ]
    },
    {
     "name": "stderr",
     "output_type": "stream",
     "text": [
      "[I 2019-04-18 01:15:04,988] Finished a trial resulted in value: -2.4052667585488603. Current best value is -3.010117083419561 with parameters: {'a': 0.3779872809968054, 'b': 0.24466325282823043, 'ab': [0.3779872809968054, 0.24466325282823043]}.\n"
     ]
    },
    {
     "name": "stdout",
     "output_type": "stream",
     "text": [
      "The set cost function is ignored! LCB acquisition does not make sense with cost.\n",
      "ab\n"
     ]
    },
    {
     "name": "stderr",
     "output_type": "stream",
     "text": [
      "reconstraining parameters GP_regression.mul\n",
      "reconstraining parameters GP_regression.Gaussian_noise.variance\n"
     ]
    },
    {
     "name": "stdout",
     "output_type": "stream",
     "text": [
      "sampling end!. 2019-04-18 01:15:04.991709 2019-04-18 01:19:09.929908\n"
     ]
    },
    {
     "name": "stderr",
     "output_type": "stream",
     "text": [
      "[I 2019-04-18 01:19:10,982] Finished a trial resulted in value: -2.288068060077685. Current best value is -3.010117083419561 with parameters: {'a': 0.3779872809968054, 'b': 0.24466325282823043, 'ab': [0.3779872809968054, 0.24466325282823043]}.\n"
     ]
    },
    {
     "name": "stdout",
     "output_type": "stream",
     "text": [
      "The set cost function is ignored! LCB acquisition does not make sense with cost.\n",
      "ab\n"
     ]
    },
    {
     "name": "stderr",
     "output_type": "stream",
     "text": [
      "reconstraining parameters GP_regression.mul\n",
      "reconstraining parameters GP_regression.Gaussian_noise.variance\n"
     ]
    },
    {
     "name": "stdout",
     "output_type": "stream",
     "text": [
      "sampling end!. 2019-04-18 01:19:10.986477 2019-04-18 01:22:51.433052\n"
     ]
    },
    {
     "name": "stderr",
     "output_type": "stream",
     "text": [
      "[I 2019-04-18 01:22:52,489] Finished a trial resulted in value: -1.8230031143612526. Current best value is -3.010117083419561 with parameters: {'a': 0.3779872809968054, 'b': 0.24466325282823043, 'ab': [0.3779872809968054, 0.24466325282823043]}.\n"
     ]
    },
    {
     "name": "stdout",
     "output_type": "stream",
     "text": [
      "The set cost function is ignored! LCB acquisition does not make sense with cost.\n",
      "ab\n"
     ]
    },
    {
     "name": "stderr",
     "output_type": "stream",
     "text": [
      "reconstraining parameters GP_regression.mul\n",
      "reconstraining parameters GP_regression.Gaussian_noise.variance\n"
     ]
    },
    {
     "name": "stdout",
     "output_type": "stream",
     "text": [
      "sampling end!. 2019-04-18 01:22:52.493666 2019-04-18 01:26:34.189817\n"
     ]
    },
    {
     "name": "stderr",
     "output_type": "stream",
     "text": [
      "[I 2019-04-18 01:26:35,254] Finished a trial resulted in value: -2.2129512684696016. Current best value is -3.010117083419561 with parameters: {'a': 0.3779872809968054, 'b': 0.24466325282823043, 'ab': [0.3779872809968054, 0.24466325282823043]}.\n"
     ]
    },
    {
     "name": "stdout",
     "output_type": "stream",
     "text": [
      "The set cost function is ignored! LCB acquisition does not make sense with cost.\n",
      "ab\n"
     ]
    },
    {
     "name": "stderr",
     "output_type": "stream",
     "text": [
      "reconstraining parameters GP_regression.mul\n",
      "reconstraining parameters GP_regression.Gaussian_noise.variance\n"
     ]
    },
    {
     "name": "stdout",
     "output_type": "stream",
     "text": [
      "sampling end!. 2019-04-18 01:26:35.256677 2019-04-18 01:30:01.290146\n"
     ]
    },
    {
     "name": "stderr",
     "output_type": "stream",
     "text": [
      "[I 2019-04-18 01:30:02,351] Finished a trial resulted in value: -1.6154466412576451. Current best value is -3.010117083419561 with parameters: {'a': 0.3779872809968054, 'b': 0.24466325282823043, 'ab': [0.3779872809968054, 0.24466325282823043]}.\n"
     ]
    },
    {
     "name": "stdout",
     "output_type": "stream",
     "text": [
      "The set cost function is ignored! LCB acquisition does not make sense with cost.\n",
      "ab\n"
     ]
    },
    {
     "name": "stderr",
     "output_type": "stream",
     "text": [
      "reconstraining parameters GP_regression.mul\n",
      "reconstraining parameters GP_regression.Gaussian_noise.variance\n"
     ]
    },
    {
     "name": "stdout",
     "output_type": "stream",
     "text": [
      "sampling end!. 2019-04-18 01:30:02.357118 2019-04-18 01:32:38.504312\n"
     ]
    },
    {
     "name": "stderr",
     "output_type": "stream",
     "text": [
      "[I 2019-04-18 01:32:39,577] Finished a trial resulted in value: 0.9944252458710339. Current best value is -3.010117083419561 with parameters: {'a': 0.3779872809968054, 'b': 0.24466325282823043, 'ab': [0.3779872809968054, 0.24466325282823043]}.\n"
     ]
    },
    {
     "name": "stdout",
     "output_type": "stream",
     "text": [
      "The set cost function is ignored! LCB acquisition does not make sense with cost.\n",
      "ab\n"
     ]
    },
    {
     "name": "stderr",
     "output_type": "stream",
     "text": [
      "reconstraining parameters GP_regression.mul\n",
      "reconstraining parameters GP_regression.Gaussian_noise.variance\n"
     ]
    },
    {
     "name": "stdout",
     "output_type": "stream",
     "text": [
      "sampling end!. 2019-04-18 01:32:39.582400 2019-04-18 01:37:53.325817\n"
     ]
    },
    {
     "name": "stderr",
     "output_type": "stream",
     "text": [
      "[I 2019-04-18 01:37:54,410] Finished a trial resulted in value: -2.1829399972868218. Current best value is -3.010117083419561 with parameters: {'a': 0.3779872809968054, 'b': 0.24466325282823043, 'ab': [0.3779872809968054, 0.24466325282823043]}.\n"
     ]
    },
    {
     "name": "stdout",
     "output_type": "stream",
     "text": [
      "The set cost function is ignored! LCB acquisition does not make sense with cost.\n",
      "ab\n"
     ]
    },
    {
     "name": "stderr",
     "output_type": "stream",
     "text": [
      "reconstraining parameters GP_regression.mul\n",
      "reconstraining parameters GP_regression.Gaussian_noise.variance\n"
     ]
    },
    {
     "name": "stdout",
     "output_type": "stream",
     "text": [
      "sampling end!. 2019-04-18 01:37:54.415392 2019-04-18 01:43:53.552700\n"
     ]
    },
    {
     "name": "stderr",
     "output_type": "stream",
     "text": [
      "[I 2019-04-18 01:43:54,601] Finished a trial resulted in value: -2.142833206959778. Current best value is -3.010117083419561 with parameters: {'a': 0.3779872809968054, 'b': 0.24466325282823043, 'ab': [0.3779872809968054, 0.24466325282823043]}.\n"
     ]
    },
    {
     "name": "stdout",
     "output_type": "stream",
     "text": [
      "The set cost function is ignored! LCB acquisition does not make sense with cost.\n",
      "ab\n"
     ]
    },
    {
     "name": "stderr",
     "output_type": "stream",
     "text": [
      "reconstraining parameters GP_regression.mul\n",
      "reconstraining parameters GP_regression.Gaussian_noise.variance\n"
     ]
    },
    {
     "name": "stdout",
     "output_type": "stream",
     "text": [
      "sampling end!. 2019-04-18 01:43:54.604534 2019-04-18 01:51:21.894365\n"
     ]
    },
    {
     "name": "stderr",
     "output_type": "stream",
     "text": [
      "[I 2019-04-18 01:51:22,937] Finished a trial resulted in value: -2.058407821648642. Current best value is -3.010117083419561 with parameters: {'a': 0.3779872809968054, 'b': 0.24466325282823043, 'ab': [0.3779872809968054, 0.24466325282823043]}.\n"
     ]
    },
    {
     "name": "stdout",
     "output_type": "stream",
     "text": [
      "The set cost function is ignored! LCB acquisition does not make sense with cost.\n",
      "ab\n"
     ]
    },
    {
     "name": "stderr",
     "output_type": "stream",
     "text": [
      "reconstraining parameters GP_regression.mul\n",
      "reconstraining parameters GP_regression.Gaussian_noise.variance\n"
     ]
    },
    {
     "name": "stdout",
     "output_type": "stream",
     "text": [
      "sampling end!. 2019-04-18 01:51:22.940097 2019-04-18 01:57:27.742547\n"
     ]
    },
    {
     "name": "stderr",
     "output_type": "stream",
     "text": [
      "[I 2019-04-18 01:57:28,805] Finished a trial resulted in value: -2.0096405363870855. Current best value is -3.010117083419561 with parameters: {'a': 0.3779872809968054, 'b': 0.24466325282823043, 'ab': [0.3779872809968054, 0.24466325282823043]}.\n"
     ]
    },
    {
     "name": "stdout",
     "output_type": "stream",
     "text": [
      "The set cost function is ignored! LCB acquisition does not make sense with cost.\n",
      "ab\n"
     ]
    },
    {
     "name": "stderr",
     "output_type": "stream",
     "text": [
      "reconstraining parameters GP_regression.mul\n",
      "reconstraining parameters GP_regression.Gaussian_noise.variance\n"
     ]
    },
    {
     "name": "stdout",
     "output_type": "stream",
     "text": [
      "sampling end!. 2019-04-18 01:57:28.808438 2019-04-18 02:03:09.582126\n"
     ]
    },
    {
     "name": "stderr",
     "output_type": "stream",
     "text": [
      "[I 2019-04-18 02:03:10,626] Finished a trial resulted in value: -1.9388815933650345. Current best value is -3.010117083419561 with parameters: {'a': 0.3779872809968054, 'b': 0.24466325282823043, 'ab': [0.3779872809968054, 0.24466325282823043]}.\n"
     ]
    },
    {
     "name": "stdout",
     "output_type": "stream",
     "text": [
      "The set cost function is ignored! LCB acquisition does not make sense with cost.\n",
      "ab\n"
     ]
    },
    {
     "name": "stderr",
     "output_type": "stream",
     "text": [
      "reconstraining parameters GP_regression.mul\n",
      "reconstraining parameters GP_regression.Gaussian_noise.variance\n"
     ]
    },
    {
     "name": "stdout",
     "output_type": "stream",
     "text": [
      "sampling end!. 2019-04-18 02:03:10.628870 2019-04-18 02:10:37.662841\n"
     ]
    },
    {
     "name": "stderr",
     "output_type": "stream",
     "text": [
      "[I 2019-04-18 02:10:38,707] Finished a trial resulted in value: -2.054856474799786. Current best value is -3.010117083419561 with parameters: {'a': 0.3779872809968054, 'b': 0.24466325282823043, 'ab': [0.3779872809968054, 0.24466325282823043]}.\n"
     ]
    },
    {
     "name": "stdout",
     "output_type": "stream",
     "text": [
      "The set cost function is ignored! LCB acquisition does not make sense with cost.\n",
      "ab\n"
     ]
    },
    {
     "name": "stderr",
     "output_type": "stream",
     "text": [
      "reconstraining parameters GP_regression.mul\n",
      "reconstraining parameters GP_regression.Gaussian_noise.variance\n"
     ]
    },
    {
     "name": "stdout",
     "output_type": "stream",
     "text": [
      "sampling end!. 2019-04-18 02:10:38.709765 2019-04-18 02:17:44.719465\n"
     ]
    },
    {
     "name": "stderr",
     "output_type": "stream",
     "text": [
      "[I 2019-04-18 02:17:45,799] Finished a trial resulted in value: -1.9424993630359495. Current best value is -3.010117083419561 with parameters: {'a': 0.3779872809968054, 'b': 0.24466325282823043, 'ab': [0.3779872809968054, 0.24466325282823043]}.\n"
     ]
    },
    {
     "name": "stdout",
     "output_type": "stream",
     "text": [
      "The set cost function is ignored! LCB acquisition does not make sense with cost.\n",
      "ab\n"
     ]
    },
    {
     "name": "stderr",
     "output_type": "stream",
     "text": [
      "reconstraining parameters GP_regression.mul\n",
      "reconstraining parameters GP_regression.Gaussian_noise.variance\n"
     ]
    },
    {
     "name": "stdout",
     "output_type": "stream",
     "text": [
      "sampling end!. 2019-04-18 02:17:45.804314 2019-04-18 02:23:28.298809\n"
     ]
    },
    {
     "name": "stderr",
     "output_type": "stream",
     "text": [
      "[I 2019-04-18 02:23:29,364] Finished a trial resulted in value: -1.7809523022968392. Current best value is -3.010117083419561 with parameters: {'a': 0.3779872809968054, 'b': 0.24466325282823043, 'ab': [0.3779872809968054, 0.24466325282823043]}.\n"
     ]
    },
    {
     "name": "stdout",
     "output_type": "stream",
     "text": [
      "The set cost function is ignored! LCB acquisition does not make sense with cost.\n",
      "ab\n"
     ]
    },
    {
     "name": "stderr",
     "output_type": "stream",
     "text": [
      "reconstraining parameters GP_regression.mul\n",
      "reconstraining parameters GP_regression.Gaussian_noise.variance\n"
     ]
    },
    {
     "name": "stdout",
     "output_type": "stream",
     "text": [
      "sampling end!. 2019-04-18 02:23:29.367519 2019-04-18 02:28:36.801768\n"
     ]
    },
    {
     "name": "stderr",
     "output_type": "stream",
     "text": [
      "[I 2019-04-18 02:28:37,842] Finished a trial resulted in value: -2.275382829996138. Current best value is -3.010117083419561 with parameters: {'a': 0.3779872809968054, 'b': 0.24466325282823043, 'ab': [0.3779872809968054, 0.24466325282823043]}.\n"
     ]
    },
    {
     "name": "stdout",
     "output_type": "stream",
     "text": [
      "The set cost function is ignored! LCB acquisition does not make sense with cost.\n",
      "ab\n"
     ]
    },
    {
     "name": "stderr",
     "output_type": "stream",
     "text": [
      "reconstraining parameters GP_regression.mul\n",
      "reconstraining parameters GP_regression.Gaussian_noise.variance\n"
     ]
    },
    {
     "name": "stdout",
     "output_type": "stream",
     "text": [
      "sampling end!. 2019-04-18 02:28:37.844927 2019-04-18 02:33:34.644992\n"
     ]
    },
    {
     "name": "stderr",
     "output_type": "stream",
     "text": [
      "[I 2019-04-18 02:33:35,717] Finished a trial resulted in value: -1.8562942245753025. Current best value is -3.010117083419561 with parameters: {'a': 0.3779872809968054, 'b': 0.24466325282823043, 'ab': [0.3779872809968054, 0.24466325282823043]}.\n"
     ]
    },
    {
     "name": "stdout",
     "output_type": "stream",
     "text": [
      "The set cost function is ignored! LCB acquisition does not make sense with cost.\n",
      "ab\n"
     ]
    },
    {
     "name": "stderr",
     "output_type": "stream",
     "text": [
      "reconstraining parameters GP_regression.mul\n",
      "reconstraining parameters GP_regression.Gaussian_noise.variance\n"
     ]
    },
    {
     "name": "stdout",
     "output_type": "stream",
     "text": [
      "sampling end!. 2019-04-18 02:33:35.720701 2019-04-18 02:39:04.194942\n"
     ]
    },
    {
     "name": "stderr",
     "output_type": "stream",
     "text": [
      "[I 2019-04-18 02:39:05,253] Finished a trial resulted in value: -2.3039161651863167. Current best value is -3.010117083419561 with parameters: {'a': 0.3779872809968054, 'b': 0.24466325282823043, 'ab': [0.3779872809968054, 0.24466325282823043]}.\n"
     ]
    },
    {
     "name": "stdout",
     "output_type": "stream",
     "text": [
      "The set cost function is ignored! LCB acquisition does not make sense with cost.\n",
      "ab\n"
     ]
    },
    {
     "name": "stderr",
     "output_type": "stream",
     "text": [
      "reconstraining parameters GP_regression.mul\n",
      "reconstraining parameters GP_regression.Gaussian_noise.variance\n"
     ]
    },
    {
     "name": "stdout",
     "output_type": "stream",
     "text": [
      "sampling end!. 2019-04-18 02:39:05.256178 2019-04-18 02:44:07.655914\n"
     ]
    },
    {
     "name": "stderr",
     "output_type": "stream",
     "text": [
      "[I 2019-04-18 02:44:08,714] Finished a trial resulted in value: -1.9855675755347602. Current best value is -3.010117083419561 with parameters: {'a': 0.3779872809968054, 'b': 0.24466325282823043, 'ab': [0.3779872809968054, 0.24466325282823043]}.\n"
     ]
    }
   ],
   "source": [
    "sampler_dtv = optuna.samplers.DTVGPSampler()\n",
    "study_rbf_dtv = optuna.create_study(sampler=sampler_dtv)\n",
    "study_rbf_dtv.optimize(lambda t: - objevtive_rbf(t), n_trials=n_trials)"
   ]
  },
  {
   "cell_type": "code",
   "execution_count": 8,
   "metadata": {},
   "outputs": [],
   "source": [
    "target_dir = './results/20190417/'\n",
    "\n",
    "#trials_normal = study_rbf.trials\n",
    "trials_dtv = study_rbf_dtv.trials\n",
    "#trials_ctv = study_rbf_ctv.trials\n",
    "\n",
    "#trial_values_normal = [- trial.value for trial in trials_normal]\n",
    "trial_values_dtv = [- trial.value for trial in trials_dtv]\n",
    "#trial_values_ctv = [- trial.value for trial in trials_ctv]\n",
    "\n",
    "#np.savetxt(target_dir + 'syn_bogunovic_gp_normal.csv', trial_values_normal, delimiter=',')\n",
    "np.savetxt(target_dir + 'syn_bogunovic_matern52_dtv.csv', trial_values_dtv, delimiter=',')\n",
    "#np.savetxt(target_dir + 'syn_bogunovic_gp_ctv.csv', trial_values_ctv, delimiter=',')"
   ]
  }
 ],
 "metadata": {
  "kernelspec": {
   "display_name": "Python 3",
   "language": "python",
   "name": "python3"
  },
  "language_info": {
   "codemirror_mode": {
    "name": "ipython",
    "version": 3
   },
   "file_extension": ".py",
   "mimetype": "text/x-python",
   "name": "python",
   "nbconvert_exporter": "python",
   "pygments_lexer": "ipython3",
   "version": "3.6.5"
  }
 },
 "nbformat": 4,
 "nbformat_minor": 1
}
