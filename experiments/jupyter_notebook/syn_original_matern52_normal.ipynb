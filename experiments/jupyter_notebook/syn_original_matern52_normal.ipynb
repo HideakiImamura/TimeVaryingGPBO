{
 "cells": [
  {
   "cell_type": "code",
   "execution_count": 1,
   "metadata": {},
   "outputs": [
    {
     "data": {
      "text/html": [
       "<script type=\"text/javascript\">window.PlotlyConfig = {MathJaxConfig: 'local'};</script><script type=\"text/javascript\">if (window.MathJax) {MathJax.Hub.Config({SVG: {font: \"STIX-Web\"}});}</script><script>requirejs.config({paths: { 'plotly': ['https://cdn.plot.ly/plotly-latest.min']},});if(!window._Plotly) {require(['plotly'],function(plotly) {window._Plotly=plotly;});}</script>"
      ],
      "text/vnd.plotly.v1+html": [
       "<script type=\"text/javascript\">window.PlotlyConfig = {MathJaxConfig: 'local'};</script><script type=\"text/javascript\">if (window.MathJax) {MathJax.Hub.Config({SVG: {font: \"STIX-Web\"}});}</script><script>requirejs.config({paths: { 'plotly': ['https://cdn.plot.ly/plotly-latest.min']},});if(!window._Plotly) {require(['plotly'],function(plotly) {window._Plotly=plotly;});}</script>"
      ]
     },
     "metadata": {},
     "output_type": "display_data"
    }
   ],
   "source": [
    "# This is necessary for jupyter to draw graphs offline.\n",
    "# Plotly tries to use cloud service to draw graphs by default.\n",
    "from plotly.offline import download_plotlyjs, init_notebook_mode, plot, iplot\n",
    "init_notebook_mode(connected=True)"
   ]
  },
  {
   "cell_type": "code",
   "execution_count": 2,
   "metadata": {},
   "outputs": [],
   "source": [
    "import GPy\n",
    "import optuna\n",
    "import numpy as np\n",
    "import plotly.figure_factory as ff\n",
    "import plotly.graph_objs as go\n",
    "import plotly.io as pio\n",
    "import time\n",
    "    \n",
    "\n",
    "seed = 123\n",
    "np.random.seed(seed=seed)"
   ]
  },
  {
   "cell_type": "code",
   "execution_count": 3,
   "metadata": {},
   "outputs": [
    {
     "data": {
      "text/plain": [
       "(300, 2500)"
      ]
     },
     "execution_count": 3,
     "metadata": {},
     "output_type": "execute_result"
    }
   ],
   "source": [
    "data = np.loadtxt('functions/bogunovic_matern52.csv', delimiter=',')\n",
    "data.shape"
   ]
  },
  {
   "cell_type": "code",
   "execution_count": 4,
   "metadata": {},
   "outputs": [
    {
     "data": {
      "text/plain": [
       "(300,)"
      ]
     },
     "execution_count": 4,
     "metadata": {},
     "output_type": "execute_result"
    }
   ],
   "source": [
    "best_values = np.max(data, axis=1)\n",
    "best_values.shape"
   ]
  },
  {
   "cell_type": "code",
   "execution_count": 8,
   "metadata": {},
   "outputs": [],
   "source": [
    "t = -1\n",
    "quantization = int(np.sqrt(data.shape[1]))\n",
    "\n",
    "def quantize(a):\n",
    "    return np.argmin(np.abs(np.linspace(0., 1., quantization) - a))\n",
    "\n",
    "\n",
    "def fun_rbf(a, b):\n",
    "    global t\n",
    "    t += 1\n",
    "    i = quantize(a)\n",
    "    j = quantize(b)\n",
    "    place = i * quantization + j\n",
    "    if place < quantization ** 2 // 2:\n",
    "        time.sleep(1)\n",
    "    else:\n",
    "        time.sleep(10)\n",
    "    return data[t][place]\n",
    "\n",
    "\n",
    "def objevtive_rbf(trial):\n",
    "    a, b = trial.suggest_joint('ab',\n",
    "                               [['uniform', 'a', 0., 1.],\n",
    "                                ['uniform', 'b', 0., 1.]])\n",
    "    return fun_rbf(a, b)"
   ]
  },
  {
   "cell_type": "code",
   "execution_count": 9,
   "metadata": {},
   "outputs": [],
   "source": [
    "n_trials = int(data.shape[0])"
   ]
  },
  {
   "cell_type": "code",
   "execution_count": 10,
   "metadata": {},
   "outputs": [
    {
     "name": "stdout",
     "output_type": "stream",
     "text": [
      "sampling end!. 2019-04-17 19:09:08.910322 2019-04-17 19:09:08.910459\n"
     ]
    },
    {
     "name": "stderr",
     "output_type": "stream",
     "text": [
      "[I 2019-04-17 19:09:09,913] Finished a trial resulted in value: -0.0394973692513077. Current best value is -0.0394973692513077 with parameters: {'a': 0.038298897380184216, 'b': 0.8160862693751889, 'ab': [0.038298897380184216, 0.8160862693751889]}.\n"
     ]
    },
    {
     "name": "stdout",
     "output_type": "stream",
     "text": [
      "sampling end!. 2019-04-17 19:09:09.915648 2019-04-17 19:09:09.915946\n"
     ]
    },
    {
     "name": "stderr",
     "output_type": "stream",
     "text": [
      "[I 2019-04-17 19:09:10,918] Finished a trial resulted in value: 0.0861166375130947. Current best value is -0.0394973692513077 with parameters: {'a': 0.038298897380184216, 'b': 0.8160862693751889, 'ab': [0.038298897380184216, 0.8160862693751889]}.\n"
     ]
    },
    {
     "name": "stdout",
     "output_type": "stream",
     "text": [
      "sampling end!. 2019-04-17 19:09:10.921364 2019-04-17 19:09:10.921720\n"
     ]
    },
    {
     "name": "stderr",
     "output_type": "stream",
     "text": [
      "[I 2019-04-17 19:09:20,924] Finished a trial resulted in value: -0.020950613449402425. Current best value is -0.0394973692513077 with parameters: {'a': 0.038298897380184216, 'b': 0.8160862693751889, 'ab': [0.038298897380184216, 0.8160862693751889]}.\n"
     ]
    },
    {
     "name": "stdout",
     "output_type": "stream",
     "text": [
      "sampling end!. 2019-04-17 19:09:20.927178 2019-04-17 19:09:20.927597\n"
     ]
    },
    {
     "name": "stderr",
     "output_type": "stream",
     "text": [
      "[I 2019-04-17 19:09:30,930] Finished a trial resulted in value: -0.43382654656350167. Current best value is -0.43382654656350167 with parameters: {'a': 0.6277108656161623, 'b': 0.33727524227270644, 'ab': [0.6277108656161623, 0.33727524227270644]}.\n"
     ]
    },
    {
     "name": "stdout",
     "output_type": "stream",
     "text": [
      "sampling end!. 2019-04-17 19:09:30.933449 2019-04-17 19:09:30.934010\n"
     ]
    },
    {
     "name": "stderr",
     "output_type": "stream",
     "text": [
      "[I 2019-04-17 19:09:40,937] Finished a trial resulted in value: -0.2482412074724452. Current best value is -0.43382654656350167 with parameters: {'a': 0.6277108656161623, 'b': 0.33727524227270644, 'ab': [0.6277108656161623, 0.33727524227270644]}.\n"
     ]
    },
    {
     "name": "stdout",
     "output_type": "stream",
     "text": [
      "sampling end!. 2019-04-17 19:09:40.939971 2019-04-17 19:09:40.940535\n"
     ]
    },
    {
     "name": "stderr",
     "output_type": "stream",
     "text": [
      "[I 2019-04-17 19:09:41,943] Finished a trial resulted in value: -0.02973372278141398. Current best value is -0.43382654656350167 with parameters: {'a': 0.6277108656161623, 'b': 0.33727524227270644, 'ab': [0.6277108656161623, 0.33727524227270644]}.\n"
     ]
    },
    {
     "name": "stdout",
     "output_type": "stream",
     "text": [
      "sampling end!. 2019-04-17 19:09:41.945830 2019-04-17 19:09:41.946531\n"
     ]
    },
    {
     "name": "stderr",
     "output_type": "stream",
     "text": [
      "[I 2019-04-17 19:09:51,950] Finished a trial resulted in value: 0.22508802927407368. Current best value is -0.43382654656350167 with parameters: {'a': 0.6277108656161623, 'b': 0.33727524227270644, 'ab': [0.6277108656161623, 0.33727524227270644]}.\n"
     ]
    },
    {
     "name": "stdout",
     "output_type": "stream",
     "text": [
      "sampling end!. 2019-04-17 19:09:51.952468 2019-04-17 19:09:51.953155\n"
     ]
    },
    {
     "name": "stderr",
     "output_type": "stream",
     "text": [
      "[I 2019-04-17 19:10:01,956] Finished a trial resulted in value: 0.31149720380958906. Current best value is -0.43382654656350167 with parameters: {'a': 0.6277108656161623, 'b': 0.33727524227270644, 'ab': [0.6277108656161623, 0.33727524227270644]}.\n"
     ]
    },
    {
     "name": "stdout",
     "output_type": "stream",
     "text": [
      "sampling end!. 2019-04-17 19:10:01.959511 2019-04-17 19:10:01.960402\n"
     ]
    },
    {
     "name": "stderr",
     "output_type": "stream",
     "text": [
      "[I 2019-04-17 19:10:02,963] Finished a trial resulted in value: -0.06854923222943782. Current best value is -0.43382654656350167 with parameters: {'a': 0.6277108656161623, 'b': 0.33727524227270644, 'ab': [0.6277108656161623, 0.33727524227270644]}.\n"
     ]
    },
    {
     "name": "stdout",
     "output_type": "stream",
     "text": [
      "sampling end!. 2019-04-17 19:10:02.966143 2019-04-17 19:10:02.967106\n"
     ]
    },
    {
     "name": "stderr",
     "output_type": "stream",
     "text": [
      "[I 2019-04-17 19:10:12,971] Finished a trial resulted in value: -0.42178053588043024. Current best value is -0.43382654656350167 with parameters: {'a': 0.6277108656161623, 'b': 0.33727524227270644, 'ab': [0.6277108656161623, 0.33727524227270644]}.\n"
     ]
    },
    {
     "name": "stdout",
     "output_type": "stream",
     "text": [
      "The set cost function is ignored! LCB acquisition does not make sense with cost.\n"
     ]
    },
    {
     "name": "stderr",
     "output_type": "stream",
     "text": [
      "reconstraining parameters GP_regression.Mat52\n",
      "reconstraining parameters GP_regression.Gaussian_noise.variance\n"
     ]
    },
    {
     "name": "stdout",
     "output_type": "stream",
     "text": [
      "sampling end!. 2019-04-17 19:10:12.973572 2019-04-17 19:10:24.514217\n"
     ]
    },
    {
     "name": "stderr",
     "output_type": "stream",
     "text": [
      "[I 2019-04-17 19:10:34,517] Finished a trial resulted in value: -0.15844298658504985. Current best value is -0.43382654656350167 with parameters: {'a': 0.6277108656161623, 'b': 0.33727524227270644, 'ab': [0.6277108656161623, 0.33727524227270644]}.\n"
     ]
    },
    {
     "name": "stdout",
     "output_type": "stream",
     "text": [
      "The set cost function is ignored! LCB acquisition does not make sense with cost.\n"
     ]
    },
    {
     "name": "stderr",
     "output_type": "stream",
     "text": [
      "reconstraining parameters GP_regression.Mat52\n",
      "reconstraining parameters GP_regression.Gaussian_noise.variance\n"
     ]
    },
    {
     "name": "stdout",
     "output_type": "stream",
     "text": [
      "sampling end!. 2019-04-17 19:10:34.520261 2019-04-17 19:10:43.234002\n"
     ]
    },
    {
     "name": "stderr",
     "output_type": "stream",
     "text": [
      "[I 2019-04-17 19:10:53,238] Finished a trial resulted in value: -0.16664720302280908. Current best value is -0.43382654656350167 with parameters: {'a': 0.6277108656161623, 'b': 0.33727524227270644, 'ab': [0.6277108656161623, 0.33727524227270644]}.\n"
     ]
    },
    {
     "name": "stdout",
     "output_type": "stream",
     "text": [
      "The set cost function is ignored! LCB acquisition does not make sense with cost.\n"
     ]
    },
    {
     "name": "stderr",
     "output_type": "stream",
     "text": [
      "reconstraining parameters GP_regression.Mat52\n",
      "reconstraining parameters GP_regression.Gaussian_noise.variance\n"
     ]
    },
    {
     "name": "stdout",
     "output_type": "stream",
     "text": [
      "sampling end!. 2019-04-17 19:10:53.240917 2019-04-17 19:11:02.267115\n"
     ]
    },
    {
     "name": "stderr",
     "output_type": "stream",
     "text": [
      "[I 2019-04-17 19:11:12,271] Finished a trial resulted in value: -0.3442958903887736. Current best value is -0.43382654656350167 with parameters: {'a': 0.6277108656161623, 'b': 0.33727524227270644, 'ab': [0.6277108656161623, 0.33727524227270644]}.\n"
     ]
    },
    {
     "name": "stdout",
     "output_type": "stream",
     "text": [
      "The set cost function is ignored! LCB acquisition does not make sense with cost.\n"
     ]
    },
    {
     "name": "stderr",
     "output_type": "stream",
     "text": [
      "reconstraining parameters GP_regression.Mat52\n",
      "reconstraining parameters GP_regression.Gaussian_noise.variance\n"
     ]
    },
    {
     "name": "stdout",
     "output_type": "stream",
     "text": [
      "sampling end!. 2019-04-17 19:11:12.273967 2019-04-17 19:11:19.809578\n"
     ]
    },
    {
     "name": "stderr",
     "output_type": "stream",
     "text": [
      "[I 2019-04-17 19:11:20,815] Finished a trial resulted in value: 0.6429245001931105. Current best value is -0.43382654656350167 with parameters: {'a': 0.6277108656161623, 'b': 0.33727524227270644, 'ab': [0.6277108656161623, 0.33727524227270644]}.\n"
     ]
    },
    {
     "name": "stdout",
     "output_type": "stream",
     "text": [
      "The set cost function is ignored! LCB acquisition does not make sense with cost.\n"
     ]
    },
    {
     "name": "stderr",
     "output_type": "stream",
     "text": [
      "reconstraining parameters GP_regression.Mat52\n",
      "reconstraining parameters GP_regression.Gaussian_noise.variance\n"
     ]
    },
    {
     "name": "stdout",
     "output_type": "stream",
     "text": [
      "sampling end!. 2019-04-17 19:11:20.817340 2019-04-17 19:11:29.453350\n"
     ]
    },
    {
     "name": "stderr",
     "output_type": "stream",
     "text": [
      "[I 2019-04-17 19:11:30,458] Finished a trial resulted in value: 0.4017914400962116. Current best value is -0.43382654656350167 with parameters: {'a': 0.6277108656161623, 'b': 0.33727524227270644, 'ab': [0.6277108656161623, 0.33727524227270644]}.\n"
     ]
    },
    {
     "name": "stdout",
     "output_type": "stream",
     "text": [
      "The set cost function is ignored! LCB acquisition does not make sense with cost.\n"
     ]
    },
    {
     "name": "stderr",
     "output_type": "stream",
     "text": [
      "reconstraining parameters GP_regression.Mat52\n",
      "reconstraining parameters GP_regression.Gaussian_noise.variance\n"
     ]
    },
    {
     "name": "stdout",
     "output_type": "stream",
     "text": [
      "sampling end!. 2019-04-17 19:11:30.460130 2019-04-17 19:11:43.120436\n"
     ]
    },
    {
     "name": "stderr",
     "output_type": "stream",
     "text": [
      "[I 2019-04-17 19:11:53,124] Finished a trial resulted in value: -0.521180169582116. Current best value is -0.521180169582116 with parameters: {'a': 0.818499549004067, 'b': 0.3668837230454859, 'ab': [0.818499549004067, 0.3668837230454859]}.\n"
     ]
    },
    {
     "name": "stdout",
     "output_type": "stream",
     "text": [
      "The set cost function is ignored! LCB acquisition does not make sense with cost.\n"
     ]
    },
    {
     "name": "stderr",
     "output_type": "stream",
     "text": [
      "reconstraining parameters GP_regression.Mat52\n",
      "reconstraining parameters GP_regression.Gaussian_noise.variance\n"
     ]
    },
    {
     "name": "stdout",
     "output_type": "stream",
     "text": [
      "sampling end!. 2019-04-17 19:11:53.127141 2019-04-17 19:12:04.952267\n"
     ]
    },
    {
     "name": "stderr",
     "output_type": "stream",
     "text": [
      "[I 2019-04-17 19:12:14,957] Finished a trial resulted in value: -0.5324853921161977. Current best value is -0.5324853921161977 with parameters: {'a': 0.79655244849575, 'b': 0.3747595719529273, 'ab': [0.79655244849575, 0.3747595719529273]}.\n"
     ]
    },
    {
     "name": "stdout",
     "output_type": "stream",
     "text": [
      "The set cost function is ignored! LCB acquisition does not make sense with cost.\n"
     ]
    },
    {
     "name": "stderr",
     "output_type": "stream",
     "text": [
      "reconstraining parameters GP_regression.Mat52\n",
      "reconstraining parameters GP_regression.Gaussian_noise.variance\n"
     ]
    },
    {
     "name": "stdout",
     "output_type": "stream",
     "text": [
      "sampling end!. 2019-04-17 19:12:14.959782 2019-04-17 19:12:26.079105\n"
     ]
    },
    {
     "name": "stderr",
     "output_type": "stream",
     "text": [
      "[I 2019-04-17 19:12:36,083] Finished a trial resulted in value: -0.42399141579574556. Current best value is -0.5324853921161977 with parameters: {'a': 0.79655244849575, 'b': 0.3747595719529273, 'ab': [0.79655244849575, 0.3747595719529273]}.\n"
     ]
    },
    {
     "name": "stdout",
     "output_type": "stream",
     "text": [
      "The set cost function is ignored! LCB acquisition does not make sense with cost.\n"
     ]
    },
    {
     "name": "stderr",
     "output_type": "stream",
     "text": [
      "reconstraining parameters GP_regression.Mat52\n",
      "reconstraining parameters GP_regression.Gaussian_noise.variance\n"
     ]
    },
    {
     "name": "stdout",
     "output_type": "stream",
     "text": [
      "sampling end!. 2019-04-17 19:12:36.085908 2019-04-17 19:12:48.264329\n"
     ]
    },
    {
     "name": "stderr",
     "output_type": "stream",
     "text": [
      "[I 2019-04-17 19:12:58,269] Finished a trial resulted in value: -0.44182295303956165. Current best value is -0.5324853921161977 with parameters: {'a': 0.79655244849575, 'b': 0.3747595719529273, 'ab': [0.79655244849575, 0.3747595719529273]}.\n"
     ]
    },
    {
     "name": "stdout",
     "output_type": "stream",
     "text": [
      "The set cost function is ignored! LCB acquisition does not make sense with cost.\n"
     ]
    },
    {
     "name": "stderr",
     "output_type": "stream",
     "text": [
      "reconstraining parameters GP_regression.Mat52\n",
      "reconstraining parameters GP_regression.Gaussian_noise.variance\n"
     ]
    },
    {
     "name": "stdout",
     "output_type": "stream",
     "text": [
      "sampling end!. 2019-04-17 19:12:58.271446 2019-04-17 19:13:10.542137\n"
     ]
    },
    {
     "name": "stderr",
     "output_type": "stream",
     "text": [
      "[I 2019-04-17 19:13:20,547] Finished a trial resulted in value: -0.21653969448680854. Current best value is -0.5324853921161977 with parameters: {'a': 0.79655244849575, 'b': 0.3747595719529273, 'ab': [0.79655244849575, 0.3747595719529273]}.\n"
     ]
    },
    {
     "name": "stdout",
     "output_type": "stream",
     "text": [
      "The set cost function is ignored! LCB acquisition does not make sense with cost.\n"
     ]
    },
    {
     "name": "stderr",
     "output_type": "stream",
     "text": [
      "reconstraining parameters GP_regression.Mat52\n",
      "reconstraining parameters GP_regression.Gaussian_noise.variance\n"
     ]
    },
    {
     "name": "stdout",
     "output_type": "stream",
     "text": [
      "sampling end!. 2019-04-17 19:13:20.549862 2019-04-17 19:13:32.705256\n"
     ]
    },
    {
     "name": "stderr",
     "output_type": "stream",
     "text": [
      "[I 2019-04-17 19:13:42,710] Finished a trial resulted in value: -0.24688153262092208. Current best value is -0.5324853921161977 with parameters: {'a': 0.79655244849575, 'b': 0.3747595719529273, 'ab': [0.79655244849575, 0.3747595719529273]}.\n"
     ]
    },
    {
     "name": "stdout",
     "output_type": "stream",
     "text": [
      "The set cost function is ignored! LCB acquisition does not make sense with cost.\n"
     ]
    },
    {
     "name": "stderr",
     "output_type": "stream",
     "text": [
      "reconstraining parameters GP_regression.Mat52\n",
      "reconstraining parameters GP_regression.Gaussian_noise.variance\n"
     ]
    },
    {
     "name": "stdout",
     "output_type": "stream",
     "text": [
      "sampling end!. 2019-04-17 19:13:42.712391 2019-04-17 19:13:53.602592\n"
     ]
    },
    {
     "name": "stderr",
     "output_type": "stream",
     "text": [
      "[I 2019-04-17 19:14:03,607] Finished a trial resulted in value: -0.08936295450953241. Current best value is -0.5324853921161977 with parameters: {'a': 0.79655244849575, 'b': 0.3747595719529273, 'ab': [0.79655244849575, 0.3747595719529273]}.\n"
     ]
    },
    {
     "name": "stdout",
     "output_type": "stream",
     "text": [
      "The set cost function is ignored! LCB acquisition does not make sense with cost.\n"
     ]
    },
    {
     "name": "stderr",
     "output_type": "stream",
     "text": [
      "reconstraining parameters GP_regression.Mat52\n",
      "reconstraining parameters GP_regression.Gaussian_noise.variance\n"
     ]
    },
    {
     "name": "stdout",
     "output_type": "stream",
     "text": [
      "sampling end!. 2019-04-17 19:14:03.609958 2019-04-17 19:14:15.664795\n"
     ]
    },
    {
     "name": "stderr",
     "output_type": "stream",
     "text": [
      "[I 2019-04-17 19:14:25,670] Finished a trial resulted in value: -0.08037029286712331. Current best value is -0.5324853921161977 with parameters: {'a': 0.79655244849575, 'b': 0.3747595719529273, 'ab': [0.79655244849575, 0.3747595719529273]}.\n"
     ]
    },
    {
     "name": "stdout",
     "output_type": "stream",
     "text": [
      "The set cost function is ignored! LCB acquisition does not make sense with cost.\n"
     ]
    },
    {
     "name": "stderr",
     "output_type": "stream",
     "text": [
      "reconstraining parameters GP_regression.Mat52\n",
      "reconstraining parameters GP_regression.Gaussian_noise.variance\n"
     ]
    },
    {
     "name": "stdout",
     "output_type": "stream",
     "text": [
      "sampling end!. 2019-04-17 19:14:25.672970 2019-04-17 19:14:37.377105\n"
     ]
    },
    {
     "name": "stderr",
     "output_type": "stream",
     "text": [
      "[I 2019-04-17 19:14:47,382] Finished a trial resulted in value: -0.18174093820117126. Current best value is -0.5324853921161977 with parameters: {'a': 0.79655244849575, 'b': 0.3747595719529273, 'ab': [0.79655244849575, 0.3747595719529273]}.\n"
     ]
    },
    {
     "name": "stdout",
     "output_type": "stream",
     "text": [
      "The set cost function is ignored! LCB acquisition does not make sense with cost.\n"
     ]
    },
    {
     "name": "stderr",
     "output_type": "stream",
     "text": [
      "reconstraining parameters GP_regression.Mat52\n",
      "reconstraining parameters GP_regression.Gaussian_noise.variance\n"
     ]
    },
    {
     "name": "stdout",
     "output_type": "stream",
     "text": [
      "sampling end!. 2019-04-17 19:14:47.384990 2019-04-17 19:15:00.204199\n"
     ]
    },
    {
     "name": "stderr",
     "output_type": "stream",
     "text": [
      "[I 2019-04-17 19:15:10,210] Finished a trial resulted in value: -0.02994132079959219. Current best value is -0.5324853921161977 with parameters: {'a': 0.79655244849575, 'b': 0.3747595719529273, 'ab': [0.79655244849575, 0.3747595719529273]}.\n"
     ]
    },
    {
     "name": "stdout",
     "output_type": "stream",
     "text": [
      "The set cost function is ignored! LCB acquisition does not make sense with cost.\n"
     ]
    },
    {
     "name": "stderr",
     "output_type": "stream",
     "text": [
      "reconstraining parameters GP_regression.Mat52\n",
      "reconstraining parameters GP_regression.Gaussian_noise.variance\n"
     ]
    },
    {
     "name": "stdout",
     "output_type": "stream",
     "text": [
      "sampling end!. 2019-04-17 19:15:10.212685 2019-04-17 19:15:19.415643\n"
     ]
    },
    {
     "name": "stderr",
     "output_type": "stream",
     "text": [
      "[I 2019-04-17 19:15:29,422] Finished a trial resulted in value: -0.15181864424710775. Current best value is -0.5324853921161977 with parameters: {'a': 0.79655244849575, 'b': 0.3747595719529273, 'ab': [0.79655244849575, 0.3747595719529273]}.\n"
     ]
    },
    {
     "name": "stdout",
     "output_type": "stream",
     "text": [
      "The set cost function is ignored! LCB acquisition does not make sense with cost.\n"
     ]
    },
    {
     "name": "stderr",
     "output_type": "stream",
     "text": [
      "reconstraining parameters GP_regression.Mat52\n",
      "reconstraining parameters GP_regression.Gaussian_noise.variance\n"
     ]
    },
    {
     "name": "stdout",
     "output_type": "stream",
     "text": [
      "sampling end!. 2019-04-17 19:15:29.425182 2019-04-17 19:15:40.714257\n"
     ]
    },
    {
     "name": "stderr",
     "output_type": "stream",
     "text": [
      "[I 2019-04-17 19:15:50,720] Finished a trial resulted in value: -0.028435669184737722. Current best value is -0.5324853921161977 with parameters: {'a': 0.79655244849575, 'b': 0.3747595719529273, 'ab': [0.79655244849575, 0.3747595719529273]}.\n"
     ]
    },
    {
     "name": "stdout",
     "output_type": "stream",
     "text": [
      "The set cost function is ignored! LCB acquisition does not make sense with cost.\n"
     ]
    },
    {
     "name": "stderr",
     "output_type": "stream",
     "text": [
      "reconstraining parameters GP_regression.Mat52\n",
      "reconstraining parameters GP_regression.Gaussian_noise.variance\n"
     ]
    },
    {
     "name": "stdout",
     "output_type": "stream",
     "text": [
      "sampling end!. 2019-04-17 19:15:50.723314 2019-04-17 19:16:03.035951\n"
     ]
    },
    {
     "name": "stderr",
     "output_type": "stream",
     "text": [
      "[I 2019-04-17 19:16:13,044] Finished a trial resulted in value: -0.2064878499131828. Current best value is -0.5324853921161977 with parameters: {'a': 0.79655244849575, 'b': 0.3747595719529273, 'ab': [0.79655244849575, 0.3747595719529273]}.\n"
     ]
    },
    {
     "name": "stdout",
     "output_type": "stream",
     "text": [
      "The set cost function is ignored! LCB acquisition does not make sense with cost.\n"
     ]
    },
    {
     "name": "stderr",
     "output_type": "stream",
     "text": [
      "reconstraining parameters GP_regression.Mat52\n",
      "reconstraining parameters GP_regression.Gaussian_noise.variance\n"
     ]
    },
    {
     "name": "stdout",
     "output_type": "stream",
     "text": [
      "sampling end!. 2019-04-17 19:16:13.046689 2019-04-17 19:16:25.828254\n"
     ]
    },
    {
     "name": "stderr",
     "output_type": "stream",
     "text": [
      "[I 2019-04-17 19:16:35,836] Finished a trial resulted in value: -0.09356136868143158. Current best value is -0.5324853921161977 with parameters: {'a': 0.79655244849575, 'b': 0.3747595719529273, 'ab': [0.79655244849575, 0.3747595719529273]}.\n"
     ]
    },
    {
     "name": "stdout",
     "output_type": "stream",
     "text": [
      "The set cost function is ignored! LCB acquisition does not make sense with cost.\n"
     ]
    },
    {
     "name": "stderr",
     "output_type": "stream",
     "text": [
      "reconstraining parameters GP_regression.Mat52\n",
      "reconstraining parameters GP_regression.Gaussian_noise.variance\n"
     ]
    },
    {
     "name": "stdout",
     "output_type": "stream",
     "text": [
      "sampling end!. 2019-04-17 19:16:35.838474 2019-04-17 19:16:46.645661\n"
     ]
    },
    {
     "name": "stderr",
     "output_type": "stream",
     "text": [
      "[I 2019-04-17 19:16:56,651] Finished a trial resulted in value: -0.570921214847637. Current best value is -0.570921214847637 with parameters: {'a': 1.0, 'b': 0.45543683092916193, 'ab': [1.0, 0.45543683092916193]}.\n"
     ]
    },
    {
     "name": "stdout",
     "output_type": "stream",
     "text": [
      "The set cost function is ignored! LCB acquisition does not make sense with cost.\n"
     ]
    },
    {
     "name": "stderr",
     "output_type": "stream",
     "text": [
      "reconstraining parameters GP_regression.Mat52\n",
      "reconstraining parameters GP_regression.Gaussian_noise.variance\n"
     ]
    },
    {
     "name": "stdout",
     "output_type": "stream",
     "text": [
      "sampling end!. 2019-04-17 19:16:56.653699 2019-04-17 19:17:06.360202\n"
     ]
    },
    {
     "name": "stderr",
     "output_type": "stream",
     "text": [
      "[I 2019-04-17 19:17:16,368] Finished a trial resulted in value: -0.4097015616836894. Current best value is -0.570921214847637 with parameters: {'a': 1.0, 'b': 0.45543683092916193, 'ab': [1.0, 0.45543683092916193]}.\n"
     ]
    },
    {
     "name": "stdout",
     "output_type": "stream",
     "text": [
      "The set cost function is ignored! LCB acquisition does not make sense with cost.\n"
     ]
    },
    {
     "name": "stderr",
     "output_type": "stream",
     "text": [
      "reconstraining parameters GP_regression.Mat52\n",
      "reconstraining parameters GP_regression.Gaussian_noise.variance\n"
     ]
    },
    {
     "name": "stdout",
     "output_type": "stream",
     "text": [
      "sampling end!. 2019-04-17 19:17:16.370666 2019-04-17 19:17:26.127182\n"
     ]
    },
    {
     "name": "stderr",
     "output_type": "stream",
     "text": [
      "[I 2019-04-17 19:17:36,134] Finished a trial resulted in value: -0.6477548614931365. Current best value is -0.6477548614931365 with parameters: {'a': 1.0, 'b': 0.48770715972709994, 'ab': [1.0, 0.48770715972709994]}.\n"
     ]
    },
    {
     "name": "stdout",
     "output_type": "stream",
     "text": [
      "The set cost function is ignored! LCB acquisition does not make sense with cost.\n"
     ]
    },
    {
     "name": "stderr",
     "output_type": "stream",
     "text": [
      "reconstraining parameters GP_regression.Mat52\n",
      "reconstraining parameters GP_regression.Gaussian_noise.variance\n"
     ]
    },
    {
     "name": "stdout",
     "output_type": "stream",
     "text": [
      "sampling end!. 2019-04-17 19:17:36.136953 2019-04-17 19:17:43.301739\n"
     ]
    },
    {
     "name": "stderr",
     "output_type": "stream",
     "text": [
      "[I 2019-04-17 19:17:53,310] Finished a trial resulted in value: -0.06759454221504313. Current best value is -0.6477548614931365 with parameters: {'a': 1.0, 'b': 0.48770715972709994, 'ab': [1.0, 0.48770715972709994]}.\n"
     ]
    },
    {
     "name": "stdout",
     "output_type": "stream",
     "text": [
      "The set cost function is ignored! LCB acquisition does not make sense with cost.\n"
     ]
    },
    {
     "name": "stderr",
     "output_type": "stream",
     "text": [
      "reconstraining parameters GP_regression.Mat52\n",
      "reconstraining parameters GP_regression.Gaussian_noise.variance\n"
     ]
    },
    {
     "name": "stdout",
     "output_type": "stream",
     "text": [
      "sampling end!. 2019-04-17 19:17:53.312838 2019-04-17 19:18:02.580350\n"
     ]
    },
    {
     "name": "stderr",
     "output_type": "stream",
     "text": [
      "[I 2019-04-17 19:18:12,589] Finished a trial resulted in value: -0.3531219748973554. Current best value is -0.6477548614931365 with parameters: {'a': 1.0, 'b': 0.48770715972709994, 'ab': [1.0, 0.48770715972709994]}.\n"
     ]
    },
    {
     "name": "stdout",
     "output_type": "stream",
     "text": [
      "The set cost function is ignored! LCB acquisition does not make sense with cost.\n"
     ]
    },
    {
     "name": "stderr",
     "output_type": "stream",
     "text": [
      "reconstraining parameters GP_regression.Mat52\n",
      "reconstraining parameters GP_regression.Gaussian_noise.variance\n"
     ]
    },
    {
     "name": "stdout",
     "output_type": "stream",
     "text": [
      "sampling end!. 2019-04-17 19:18:12.591462 2019-04-17 19:18:22.082820\n"
     ]
    },
    {
     "name": "stderr",
     "output_type": "stream",
     "text": [
      "[I 2019-04-17 19:18:32,091] Finished a trial resulted in value: -0.3242809535995771. Current best value is -0.6477548614931365 with parameters: {'a': 1.0, 'b': 0.48770715972709994, 'ab': [1.0, 0.48770715972709994]}.\n"
     ]
    },
    {
     "name": "stdout",
     "output_type": "stream",
     "text": [
      "The set cost function is ignored! LCB acquisition does not make sense with cost.\n"
     ]
    },
    {
     "name": "stderr",
     "output_type": "stream",
     "text": [
      "reconstraining parameters GP_regression.Mat52\n",
      "reconstraining parameters GP_regression.Gaussian_noise.variance\n"
     ]
    },
    {
     "name": "stdout",
     "output_type": "stream",
     "text": [
      "sampling end!. 2019-04-17 19:18:32.094384 2019-04-17 19:18:41.886568\n"
     ]
    },
    {
     "name": "stderr",
     "output_type": "stream",
     "text": [
      "[I 2019-04-17 19:18:51,896] Finished a trial resulted in value: -0.16102072369168616. Current best value is -0.6477548614931365 with parameters: {'a': 1.0, 'b': 0.48770715972709994, 'ab': [1.0, 0.48770715972709994]}.\n"
     ]
    },
    {
     "name": "stdout",
     "output_type": "stream",
     "text": [
      "The set cost function is ignored! LCB acquisition does not make sense with cost.\n"
     ]
    },
    {
     "name": "stderr",
     "output_type": "stream",
     "text": [
      "reconstraining parameters GP_regression.Mat52\n",
      "reconstraining parameters GP_regression.Gaussian_noise.variance\n"
     ]
    },
    {
     "name": "stdout",
     "output_type": "stream",
     "text": [
      "sampling end!. 2019-04-17 19:18:51.899533 2019-04-17 19:19:01.326089\n"
     ]
    },
    {
     "name": "stderr",
     "output_type": "stream",
     "text": [
      "[I 2019-04-17 19:19:11,335] Finished a trial resulted in value: -0.23640319796724396. Current best value is -0.6477548614931365 with parameters: {'a': 1.0, 'b': 0.48770715972709994, 'ab': [1.0, 0.48770715972709994]}.\n"
     ]
    },
    {
     "name": "stdout",
     "output_type": "stream",
     "text": [
      "The set cost function is ignored! LCB acquisition does not make sense with cost.\n"
     ]
    },
    {
     "name": "stderr",
     "output_type": "stream",
     "text": [
      "reconstraining parameters GP_regression.Mat52\n",
      "reconstraining parameters GP_regression.Gaussian_noise.variance\n"
     ]
    },
    {
     "name": "stdout",
     "output_type": "stream",
     "text": [
      "sampling end!. 2019-04-17 19:19:11.337472 2019-04-17 19:19:20.641706\n"
     ]
    },
    {
     "name": "stderr",
     "output_type": "stream",
     "text": [
      "[I 2019-04-17 19:19:30,647] Finished a trial resulted in value: -0.07086738405523882. Current best value is -0.6477548614931365 with parameters: {'a': 1.0, 'b': 0.48770715972709994, 'ab': [1.0, 0.48770715972709994]}.\n"
     ]
    },
    {
     "name": "stdout",
     "output_type": "stream",
     "text": [
      "The set cost function is ignored! LCB acquisition does not make sense with cost.\n"
     ]
    },
    {
     "name": "stderr",
     "output_type": "stream",
     "text": [
      "reconstraining parameters GP_regression.Mat52\n",
      "reconstraining parameters GP_regression.Gaussian_noise.variance\n"
     ]
    },
    {
     "name": "stdout",
     "output_type": "stream",
     "text": [
      "sampling end!. 2019-04-17 19:19:30.649650 2019-04-17 19:19:39.908209\n"
     ]
    },
    {
     "name": "stderr",
     "output_type": "stream",
     "text": [
      "[I 2019-04-17 19:19:49,916] Finished a trial resulted in value: -0.11362666263634112. Current best value is -0.6477548614931365 with parameters: {'a': 1.0, 'b': 0.48770715972709994, 'ab': [1.0, 0.48770715972709994]}.\n"
     ]
    },
    {
     "name": "stdout",
     "output_type": "stream",
     "text": [
      "The set cost function is ignored! LCB acquisition does not make sense with cost.\n"
     ]
    },
    {
     "name": "stderr",
     "output_type": "stream",
     "text": [
      "reconstraining parameters GP_regression.Mat52\n",
      "reconstraining parameters GP_regression.Gaussian_noise.variance\n"
     ]
    },
    {
     "name": "stdout",
     "output_type": "stream",
     "text": [
      "sampling end!. 2019-04-17 19:19:49.918273 2019-04-17 19:20:00.215016\n"
     ]
    },
    {
     "name": "stderr",
     "output_type": "stream",
     "text": [
      "[I 2019-04-17 19:20:10,224] Finished a trial resulted in value: 0.028721294755591313. Current best value is -0.6477548614931365 with parameters: {'a': 1.0, 'b': 0.48770715972709994, 'ab': [1.0, 0.48770715972709994]}.\n"
     ]
    },
    {
     "name": "stdout",
     "output_type": "stream",
     "text": [
      "The set cost function is ignored! LCB acquisition does not make sense with cost.\n"
     ]
    },
    {
     "name": "stderr",
     "output_type": "stream",
     "text": [
      "reconstraining parameters GP_regression.Mat52\n",
      "reconstraining parameters GP_regression.Gaussian_noise.variance\n"
     ]
    },
    {
     "name": "stdout",
     "output_type": "stream",
     "text": [
      "sampling end!. 2019-04-17 19:20:10.227202 2019-04-17 19:20:20.998955\n"
     ]
    },
    {
     "name": "stderr",
     "output_type": "stream",
     "text": [
      "[I 2019-04-17 19:20:31,008] Finished a trial resulted in value: 0.029647138336510392. Current best value is -0.6477548614931365 with parameters: {'a': 1.0, 'b': 0.48770715972709994, 'ab': [1.0, 0.48770715972709994]}.\n"
     ]
    },
    {
     "name": "stdout",
     "output_type": "stream",
     "text": [
      "The set cost function is ignored! LCB acquisition does not make sense with cost.\n"
     ]
    },
    {
     "name": "stderr",
     "output_type": "stream",
     "text": [
      "reconstraining parameters GP_regression.Mat52\n",
      "reconstraining parameters GP_regression.Gaussian_noise.variance\n"
     ]
    },
    {
     "name": "stdout",
     "output_type": "stream",
     "text": [
      "sampling end!. 2019-04-17 19:20:31.010909 2019-04-17 19:20:41.417803\n"
     ]
    },
    {
     "name": "stderr",
     "output_type": "stream",
     "text": [
      "[I 2019-04-17 19:20:51,426] Finished a trial resulted in value: 0.006854326445576264. Current best value is -0.6477548614931365 with parameters: {'a': 1.0, 'b': 0.48770715972709994, 'ab': [1.0, 0.48770715972709994]}.\n"
     ]
    },
    {
     "name": "stdout",
     "output_type": "stream",
     "text": [
      "The set cost function is ignored! LCB acquisition does not make sense with cost.\n"
     ]
    },
    {
     "name": "stderr",
     "output_type": "stream",
     "text": [
      "reconstraining parameters GP_regression.Mat52\n",
      "reconstraining parameters GP_regression.Gaussian_noise.variance\n"
     ]
    },
    {
     "name": "stdout",
     "output_type": "stream",
     "text": [
      "sampling end!. 2019-04-17 19:20:51.428661 2019-04-17 19:21:03.497891\n"
     ]
    },
    {
     "name": "stderr",
     "output_type": "stream",
     "text": [
      "[I 2019-04-17 19:21:13,504] Finished a trial resulted in value: 0.02459273418351593. Current best value is -0.6477548614931365 with parameters: {'a': 1.0, 'b': 0.48770715972709994, 'ab': [1.0, 0.48770715972709994]}.\n"
     ]
    },
    {
     "name": "stdout",
     "output_type": "stream",
     "text": [
      "The set cost function is ignored! LCB acquisition does not make sense with cost.\n"
     ]
    },
    {
     "name": "stderr",
     "output_type": "stream",
     "text": [
      "reconstraining parameters GP_regression.Mat52\n",
      "reconstraining parameters GP_regression.Gaussian_noise.variance\n"
     ]
    },
    {
     "name": "stdout",
     "output_type": "stream",
     "text": [
      "sampling end!. 2019-04-17 19:21:13.506496 2019-04-17 19:21:23.041885\n"
     ]
    },
    {
     "name": "stderr",
     "output_type": "stream",
     "text": [
      "[I 2019-04-17 19:21:33,051] Finished a trial resulted in value: 0.028148946441298894. Current best value is -0.6477548614931365 with parameters: {'a': 1.0, 'b': 0.48770715972709994, 'ab': [1.0, 0.48770715972709994]}.\n"
     ]
    },
    {
     "name": "stdout",
     "output_type": "stream",
     "text": [
      "The set cost function is ignored! LCB acquisition does not make sense with cost.\n"
     ]
    },
    {
     "name": "stderr",
     "output_type": "stream",
     "text": [
      "reconstraining parameters GP_regression.Mat52\n",
      "reconstraining parameters GP_regression.Gaussian_noise.variance\n"
     ]
    },
    {
     "name": "stdout",
     "output_type": "stream",
     "text": [
      "sampling end!. 2019-04-17 19:21:33.053449 2019-04-17 19:21:43.271824\n"
     ]
    },
    {
     "name": "stderr",
     "output_type": "stream",
     "text": [
      "[I 2019-04-17 19:21:53,282] Finished a trial resulted in value: -0.057675532682609484. Current best value is -0.6477548614931365 with parameters: {'a': 1.0, 'b': 0.48770715972709994, 'ab': [1.0, 0.48770715972709994]}.\n"
     ]
    },
    {
     "name": "stdout",
     "output_type": "stream",
     "text": [
      "The set cost function is ignored! LCB acquisition does not make sense with cost.\n"
     ]
    },
    {
     "name": "stderr",
     "output_type": "stream",
     "text": [
      "reconstraining parameters GP_regression.Mat52\n",
      "reconstraining parameters GP_regression.Gaussian_noise.variance\n"
     ]
    },
    {
     "name": "stdout",
     "output_type": "stream",
     "text": [
      "sampling end!. 2019-04-17 19:21:53.284708 2019-04-17 19:22:06.343979\n"
     ]
    },
    {
     "name": "stderr",
     "output_type": "stream",
     "text": [
      "[I 2019-04-17 19:22:16,354] Finished a trial resulted in value: -0.0383637148601076. Current best value is -0.6477548614931365 with parameters: {'a': 1.0, 'b': 0.48770715972709994, 'ab': [1.0, 0.48770715972709994]}.\n"
     ]
    },
    {
     "name": "stdout",
     "output_type": "stream",
     "text": [
      "The set cost function is ignored! LCB acquisition does not make sense with cost.\n"
     ]
    },
    {
     "name": "stderr",
     "output_type": "stream",
     "text": [
      "reconstraining parameters GP_regression.Mat52\n",
      "reconstraining parameters GP_regression.Gaussian_noise.variance\n"
     ]
    },
    {
     "name": "stdout",
     "output_type": "stream",
     "text": [
      "sampling end!. 2019-04-17 19:22:16.356841 2019-04-17 19:22:29.130549\n"
     ]
    },
    {
     "name": "stderr",
     "output_type": "stream",
     "text": [
      "[I 2019-04-17 19:22:39,140] Finished a trial resulted in value: 0.13732942963438313. Current best value is -0.6477548614931365 with parameters: {'a': 1.0, 'b': 0.48770715972709994, 'ab': [1.0, 0.48770715972709994]}.\n"
     ]
    },
    {
     "name": "stdout",
     "output_type": "stream",
     "text": [
      "The set cost function is ignored! LCB acquisition does not make sense with cost.\n"
     ]
    },
    {
     "name": "stderr",
     "output_type": "stream",
     "text": [
      "reconstraining parameters GP_regression.Mat52\n",
      "reconstraining parameters GP_regression.Gaussian_noise.variance\n"
     ]
    },
    {
     "name": "stdout",
     "output_type": "stream",
     "text": [
      "sampling end!. 2019-04-17 19:22:39.142866 2019-04-17 19:22:51.929386\n"
     ]
    },
    {
     "name": "stderr",
     "output_type": "stream",
     "text": [
      "[I 2019-04-17 19:23:01,940] Finished a trial resulted in value: -0.4154291724538013. Current best value is -0.6477548614931365 with parameters: {'a': 1.0, 'b': 0.48770715972709994, 'ab': [1.0, 0.48770715972709994]}.\n"
     ]
    },
    {
     "name": "stdout",
     "output_type": "stream",
     "text": [
      "The set cost function is ignored! LCB acquisition does not make sense with cost.\n"
     ]
    },
    {
     "name": "stderr",
     "output_type": "stream",
     "text": [
      "reconstraining parameters GP_regression.Mat52\n",
      "reconstraining parameters GP_regression.Gaussian_noise.variance\n"
     ]
    },
    {
     "name": "stdout",
     "output_type": "stream",
     "text": [
      "sampling end!. 2019-04-17 19:23:01.942864 2019-04-17 19:23:14.713766\n"
     ]
    },
    {
     "name": "stderr",
     "output_type": "stream",
     "text": [
      "[I 2019-04-17 19:23:24,723] Finished a trial resulted in value: -0.47368575460798784. Current best value is -0.6477548614931365 with parameters: {'a': 1.0, 'b': 0.48770715972709994, 'ab': [1.0, 0.48770715972709994]}.\n"
     ]
    },
    {
     "name": "stdout",
     "output_type": "stream",
     "text": [
      "The set cost function is ignored! LCB acquisition does not make sense with cost.\n"
     ]
    },
    {
     "name": "stderr",
     "output_type": "stream",
     "text": [
      "reconstraining parameters GP_regression.Mat52\n",
      "reconstraining parameters GP_regression.Gaussian_noise.variance\n"
     ]
    },
    {
     "name": "stdout",
     "output_type": "stream",
     "text": [
      "sampling end!. 2019-04-17 19:23:24.725936 2019-04-17 19:23:37.280788\n"
     ]
    },
    {
     "name": "stderr",
     "output_type": "stream",
     "text": [
      "[I 2019-04-17 19:23:47,288] Finished a trial resulted in value: -0.3082098408201578. Current best value is -0.6477548614931365 with parameters: {'a': 1.0, 'b': 0.48770715972709994, 'ab': [1.0, 0.48770715972709994]}.\n"
     ]
    },
    {
     "name": "stdout",
     "output_type": "stream",
     "text": [
      "The set cost function is ignored! LCB acquisition does not make sense with cost.\n"
     ]
    },
    {
     "name": "stderr",
     "output_type": "stream",
     "text": [
      "reconstraining parameters GP_regression.Mat52\n",
      "reconstraining parameters GP_regression.Gaussian_noise.variance\n"
     ]
    },
    {
     "name": "stdout",
     "output_type": "stream",
     "text": [
      "sampling end!. 2019-04-17 19:23:47.290866 2019-04-17 19:24:00.096215\n"
     ]
    },
    {
     "name": "stderr",
     "output_type": "stream",
     "text": [
      "[I 2019-04-17 19:24:10,104] Finished a trial resulted in value: -0.2221666609682873. Current best value is -0.6477548614931365 with parameters: {'a': 1.0, 'b': 0.48770715972709994, 'ab': [1.0, 0.48770715972709994]}.\n"
     ]
    },
    {
     "name": "stdout",
     "output_type": "stream",
     "text": [
      "The set cost function is ignored! LCB acquisition does not make sense with cost.\n"
     ]
    },
    {
     "name": "stderr",
     "output_type": "stream",
     "text": [
      "reconstraining parameters GP_regression.Mat52\n",
      "reconstraining parameters GP_regression.Gaussian_noise.variance\n"
     ]
    },
    {
     "name": "stdout",
     "output_type": "stream",
     "text": [
      "sampling end!. 2019-04-17 19:24:10.107084 2019-04-17 19:24:21.699035\n"
     ]
    },
    {
     "name": "stderr",
     "output_type": "stream",
     "text": [
      "[I 2019-04-17 19:24:31,710] Finished a trial resulted in value: -0.272136364761412. Current best value is -0.6477548614931365 with parameters: {'a': 1.0, 'b': 0.48770715972709994, 'ab': [1.0, 0.48770715972709994]}.\n"
     ]
    },
    {
     "name": "stdout",
     "output_type": "stream",
     "text": [
      "The set cost function is ignored! LCB acquisition does not make sense with cost.\n"
     ]
    },
    {
     "name": "stderr",
     "output_type": "stream",
     "text": [
      "reconstraining parameters GP_regression.Mat52\n",
      "reconstraining parameters GP_regression.Gaussian_noise.variance\n"
     ]
    },
    {
     "name": "stdout",
     "output_type": "stream",
     "text": [
      "sampling end!. 2019-04-17 19:24:31.713409 2019-04-17 19:24:41.709234\n"
     ]
    },
    {
     "name": "stderr",
     "output_type": "stream",
     "text": [
      "[I 2019-04-17 19:24:51,722] Finished a trial resulted in value: -0.3210866840047572. Current best value is -0.6477548614931365 with parameters: {'a': 1.0, 'b': 0.48770715972709994, 'ab': [1.0, 0.48770715972709994]}.\n"
     ]
    },
    {
     "name": "stdout",
     "output_type": "stream",
     "text": [
      "The set cost function is ignored! LCB acquisition does not make sense with cost.\n"
     ]
    },
    {
     "name": "stderr",
     "output_type": "stream",
     "text": [
      "reconstraining parameters GP_regression.Mat52\n",
      "reconstraining parameters GP_regression.Gaussian_noise.variance\n"
     ]
    },
    {
     "name": "stdout",
     "output_type": "stream",
     "text": [
      "sampling end!. 2019-04-17 19:24:51.725213 2019-04-17 19:25:01.895086\n"
     ]
    },
    {
     "name": "stderr",
     "output_type": "stream",
     "text": [
      "[I 2019-04-17 19:25:11,908] Finished a trial resulted in value: -0.376824514346592. Current best value is -0.6477548614931365 with parameters: {'a': 1.0, 'b': 0.48770715972709994, 'ab': [1.0, 0.48770715972709994]}.\n"
     ]
    },
    {
     "name": "stdout",
     "output_type": "stream",
     "text": [
      "The set cost function is ignored! LCB acquisition does not make sense with cost.\n"
     ]
    },
    {
     "name": "stderr",
     "output_type": "stream",
     "text": [
      "reconstraining parameters GP_regression.Mat52\n",
      "reconstraining parameters GP_regression.Gaussian_noise.variance\n"
     ]
    },
    {
     "name": "stdout",
     "output_type": "stream",
     "text": [
      "sampling end!. 2019-04-17 19:25:11.910040 2019-04-17 19:25:23.393055\n"
     ]
    },
    {
     "name": "stderr",
     "output_type": "stream",
     "text": [
      "[I 2019-04-17 19:25:33,406] Finished a trial resulted in value: -0.6883669848941053. Current best value is -0.6883669848941053 with parameters: {'a': 0.6809952149847456, 'b': 0.3757847964030914, 'ab': [0.6809952149847456, 0.3757847964030914]}.\n"
     ]
    },
    {
     "name": "stdout",
     "output_type": "stream",
     "text": [
      "The set cost function is ignored! LCB acquisition does not make sense with cost.\n"
     ]
    },
    {
     "name": "stderr",
     "output_type": "stream",
     "text": [
      "reconstraining parameters GP_regression.Mat52\n",
      "reconstraining parameters GP_regression.Gaussian_noise.variance\n"
     ]
    },
    {
     "name": "stdout",
     "output_type": "stream",
     "text": [
      "sampling end!. 2019-04-17 19:25:33.408579 2019-04-17 19:25:44.693464\n"
     ]
    },
    {
     "name": "stderr",
     "output_type": "stream",
     "text": [
      "[I 2019-04-17 19:25:54,706] Finished a trial resulted in value: -0.5561849224392321. Current best value is -0.6883669848941053 with parameters: {'a': 0.6809952149847456, 'b': 0.3757847964030914, 'ab': [0.6809952149847456, 0.3757847964030914]}.\n"
     ]
    },
    {
     "name": "stdout",
     "output_type": "stream",
     "text": [
      "The set cost function is ignored! LCB acquisition does not make sense with cost.\n"
     ]
    },
    {
     "name": "stderr",
     "output_type": "stream",
     "text": [
      "reconstraining parameters GP_regression.Mat52\n",
      "reconstraining parameters GP_regression.Gaussian_noise.variance\n"
     ]
    },
    {
     "name": "stdout",
     "output_type": "stream",
     "text": [
      "sampling end!. 2019-04-17 19:25:54.708368 2019-04-17 19:26:04.922494\n"
     ]
    },
    {
     "name": "stderr",
     "output_type": "stream",
     "text": [
      "[I 2019-04-17 19:26:14,934] Finished a trial resulted in value: -0.46480625367753337. Current best value is -0.6883669848941053 with parameters: {'a': 0.6809952149847456, 'b': 0.3757847964030914, 'ab': [0.6809952149847456, 0.3757847964030914]}.\n"
     ]
    },
    {
     "name": "stdout",
     "output_type": "stream",
     "text": [
      "The set cost function is ignored! LCB acquisition does not make sense with cost.\n"
     ]
    },
    {
     "name": "stderr",
     "output_type": "stream",
     "text": [
      "reconstraining parameters GP_regression.Mat52\n",
      "reconstraining parameters GP_regression.Gaussian_noise.variance\n"
     ]
    },
    {
     "name": "stdout",
     "output_type": "stream",
     "text": [
      "sampling end!. 2019-04-17 19:26:14.937061 2019-04-17 19:26:26.585868\n"
     ]
    },
    {
     "name": "stderr",
     "output_type": "stream",
     "text": [
      "[I 2019-04-17 19:26:36,601] Finished a trial resulted in value: -0.8599462964561694. Current best value is -0.8599462964561694 with parameters: {'a': 0.617475330266711, 'b': 0.41863627879641935, 'ab': [0.617475330266711, 0.41863627879641935]}.\n"
     ]
    },
    {
     "name": "stdout",
     "output_type": "stream",
     "text": [
      "The set cost function is ignored! LCB acquisition does not make sense with cost.\n"
     ]
    },
    {
     "name": "stderr",
     "output_type": "stream",
     "text": [
      "reconstraining parameters GP_regression.Mat52\n",
      "reconstraining parameters GP_regression.Gaussian_noise.variance\n"
     ]
    },
    {
     "name": "stdout",
     "output_type": "stream",
     "text": [
      "sampling end!. 2019-04-17 19:26:36.603400 2019-04-17 19:26:47.968839\n"
     ]
    },
    {
     "name": "stderr",
     "output_type": "stream",
     "text": [
      "[I 2019-04-17 19:26:57,980] Finished a trial resulted in value: -0.5797730921039383. Current best value is -0.8599462964561694 with parameters: {'a': 0.617475330266711, 'b': 0.41863627879641935, 'ab': [0.617475330266711, 0.41863627879641935]}.\n"
     ]
    },
    {
     "name": "stdout",
     "output_type": "stream",
     "text": [
      "The set cost function is ignored! LCB acquisition does not make sense with cost.\n"
     ]
    },
    {
     "name": "stderr",
     "output_type": "stream",
     "text": [
      "reconstraining parameters GP_regression.Mat52\n",
      "reconstraining parameters GP_regression.Gaussian_noise.variance\n"
     ]
    },
    {
     "name": "stdout",
     "output_type": "stream",
     "text": [
      "sampling end!. 2019-04-17 19:26:57.982775 2019-04-17 19:27:10.089000\n"
     ]
    },
    {
     "name": "stderr",
     "output_type": "stream",
     "text": [
      "[I 2019-04-17 19:27:20,101] Finished a trial resulted in value: -0.5955784034434436. Current best value is -0.8599462964561694 with parameters: {'a': 0.617475330266711, 'b': 0.41863627879641935, 'ab': [0.617475330266711, 0.41863627879641935]}.\n"
     ]
    },
    {
     "name": "stdout",
     "output_type": "stream",
     "text": [
      "The set cost function is ignored! LCB acquisition does not make sense with cost.\n"
     ]
    },
    {
     "name": "stderr",
     "output_type": "stream",
     "text": [
      "reconstraining parameters GP_regression.Mat52\n",
      "reconstraining parameters GP_regression.Gaussian_noise.variance\n"
     ]
    },
    {
     "name": "stdout",
     "output_type": "stream",
     "text": [
      "sampling end!. 2019-04-17 19:27:20.104314 2019-04-17 19:27:31.746112\n"
     ]
    },
    {
     "name": "stderr",
     "output_type": "stream",
     "text": [
      "[I 2019-04-17 19:27:41,759] Finished a trial resulted in value: -0.7445753889131741. Current best value is -0.8599462964561694 with parameters: {'a': 0.617475330266711, 'b': 0.41863627879641935, 'ab': [0.617475330266711, 0.41863627879641935]}.\n"
     ]
    },
    {
     "name": "stdout",
     "output_type": "stream",
     "text": [
      "The set cost function is ignored! LCB acquisition does not make sense with cost.\n"
     ]
    },
    {
     "name": "stderr",
     "output_type": "stream",
     "text": [
      "reconstraining parameters GP_regression.Mat52\n",
      "reconstraining parameters GP_regression.Gaussian_noise.variance\n"
     ]
    },
    {
     "name": "stdout",
     "output_type": "stream",
     "text": [
      "sampling end!. 2019-04-17 19:27:41.761722 2019-04-17 19:27:53.689246\n"
     ]
    },
    {
     "name": "stderr",
     "output_type": "stream",
     "text": [
      "[I 2019-04-17 19:28:03,698] Finished a trial resulted in value: -0.9029556226558241. Current best value is -0.9029556226558241 with parameters: {'a': 0.5817119462552411, 'b': 0.4543325848851959, 'ab': [0.5817119462552411, 0.4543325848851959]}.\n"
     ]
    },
    {
     "name": "stdout",
     "output_type": "stream",
     "text": [
      "The set cost function is ignored! LCB acquisition does not make sense with cost.\n"
     ]
    },
    {
     "name": "stderr",
     "output_type": "stream",
     "text": [
      "reconstraining parameters GP_regression.Mat52\n",
      "reconstraining parameters GP_regression.Gaussian_noise.variance\n"
     ]
    },
    {
     "name": "stdout",
     "output_type": "stream",
     "text": [
      "sampling end!. 2019-04-17 19:28:03.700931 2019-04-17 19:28:15.504184\n"
     ]
    },
    {
     "name": "stderr",
     "output_type": "stream",
     "text": [
      "[I 2019-04-17 19:28:25,517] Finished a trial resulted in value: -0.9322908714212359. Current best value is -0.9322908714212359 with parameters: {'a': 0.5724975003628698, 'b': 0.4765480935878712, 'ab': [0.5724975003628698, 0.4765480935878712]}.\n"
     ]
    },
    {
     "name": "stdout",
     "output_type": "stream",
     "text": [
      "The set cost function is ignored! LCB acquisition does not make sense with cost.\n"
     ]
    },
    {
     "name": "stderr",
     "output_type": "stream",
     "text": [
      "reconstraining parameters GP_regression.Mat52\n",
      "reconstraining parameters GP_regression.Gaussian_noise.variance\n"
     ]
    },
    {
     "name": "stdout",
     "output_type": "stream",
     "text": [
      "sampling end!. 2019-04-17 19:28:25.519644 2019-04-17 19:28:37.741999\n"
     ]
    },
    {
     "name": "stderr",
     "output_type": "stream",
     "text": [
      "[I 2019-04-17 19:28:47,755] Finished a trial resulted in value: -1.0178520661724966. Current best value is -1.0178520661724966 with parameters: {'a': 0.5636572839418669, 'b': 0.5147529195485309, 'ab': [0.5636572839418669, 0.5147529195485309]}.\n"
     ]
    },
    {
     "name": "stdout",
     "output_type": "stream",
     "text": [
      "The set cost function is ignored! LCB acquisition does not make sense with cost.\n"
     ]
    },
    {
     "name": "stderr",
     "output_type": "stream",
     "text": [
      "reconstraining parameters GP_regression.Mat52\n",
      "reconstraining parameters GP_regression.Gaussian_noise.variance\n"
     ]
    },
    {
     "name": "stdout",
     "output_type": "stream",
     "text": [
      "sampling end!. 2019-04-17 19:28:47.757551 2019-04-17 19:28:58.678785\n"
     ]
    },
    {
     "name": "stderr",
     "output_type": "stream",
     "text": [
      "[I 2019-04-17 19:29:08,690] Finished a trial resulted in value: -0.9382537182427371. Current best value is -1.0178520661724966 with parameters: {'a': 0.5636572839418669, 'b': 0.5147529195485309, 'ab': [0.5636572839418669, 0.5147529195485309]}.\n"
     ]
    },
    {
     "name": "stdout",
     "output_type": "stream",
     "text": [
      "The set cost function is ignored! LCB acquisition does not make sense with cost.\n"
     ]
    },
    {
     "name": "stderr",
     "output_type": "stream",
     "text": [
      "reconstraining parameters GP_regression.Mat52\n",
      "reconstraining parameters GP_regression.Gaussian_noise.variance\n"
     ]
    },
    {
     "name": "stdout",
     "output_type": "stream",
     "text": [
      "sampling end!. 2019-04-17 19:29:08.692613 2019-04-17 19:29:20.812992\n"
     ]
    },
    {
     "name": "stderr",
     "output_type": "stream",
     "text": [
      "[I 2019-04-17 19:29:30,826] Finished a trial resulted in value: -1.0585718425436421. Current best value is -1.0585718425436421 with parameters: {'a': 0.5590626273175443, 'b': 0.5449957642925125, 'ab': [0.5590626273175443, 0.5449957642925125]}.\n"
     ]
    },
    {
     "name": "stdout",
     "output_type": "stream",
     "text": [
      "The set cost function is ignored! LCB acquisition does not make sense with cost.\n"
     ]
    },
    {
     "name": "stderr",
     "output_type": "stream",
     "text": [
      "reconstraining parameters GP_regression.Mat52\n",
      "reconstraining parameters GP_regression.Gaussian_noise.variance\n"
     ]
    },
    {
     "name": "stdout",
     "output_type": "stream",
     "text": [
      "sampling end!. 2019-04-17 19:29:30.828609 2019-04-17 19:29:43.531517\n"
     ]
    },
    {
     "name": "stderr",
     "output_type": "stream",
     "text": [
      "[I 2019-04-17 19:29:53,542] Finished a trial resulted in value: -0.7617310873891787. Current best value is -1.0585718425436421 with parameters: {'a': 0.5590626273175443, 'b': 0.5449957642925125, 'ab': [0.5590626273175443, 0.5449957642925125]}.\n"
     ]
    },
    {
     "name": "stdout",
     "output_type": "stream",
     "text": [
      "The set cost function is ignored! LCB acquisition does not make sense with cost.\n"
     ]
    },
    {
     "name": "stderr",
     "output_type": "stream",
     "text": [
      "reconstraining parameters GP_regression.Mat52\n",
      "reconstraining parameters GP_regression.Gaussian_noise.variance\n"
     ]
    },
    {
     "name": "stdout",
     "output_type": "stream",
     "text": [
      "sampling end!. 2019-04-17 19:29:53.545231 2019-04-17 19:30:06.764374\n"
     ]
    },
    {
     "name": "stderr",
     "output_type": "stream",
     "text": [
      "[I 2019-04-17 19:30:16,777] Finished a trial resulted in value: -0.8356961671656828. Current best value is -1.0585718425436421 with parameters: {'a': 0.5590626273175443, 'b': 0.5449957642925125, 'ab': [0.5590626273175443, 0.5449957642925125]}.\n"
     ]
    },
    {
     "name": "stdout",
     "output_type": "stream",
     "text": [
      "The set cost function is ignored! LCB acquisition does not make sense with cost.\n"
     ]
    },
    {
     "name": "stderr",
     "output_type": "stream",
     "text": [
      "reconstraining parameters GP_regression.Mat52\n",
      "reconstraining parameters GP_regression.Gaussian_noise.variance\n"
     ]
    },
    {
     "name": "stdout",
     "output_type": "stream",
     "text": [
      "sampling end!. 2019-04-17 19:30:16.779656 2019-04-17 19:30:30.231929\n"
     ]
    },
    {
     "name": "stderr",
     "output_type": "stream",
     "text": [
      "[I 2019-04-17 19:30:40,246] Finished a trial resulted in value: -0.9616110737414745. Current best value is -1.0585718425436421 with parameters: {'a': 0.5590626273175443, 'b': 0.5449957642925125, 'ab': [0.5590626273175443, 0.5449957642925125]}.\n"
     ]
    },
    {
     "name": "stdout",
     "output_type": "stream",
     "text": [
      "The set cost function is ignored! LCB acquisition does not make sense with cost.\n"
     ]
    },
    {
     "name": "stderr",
     "output_type": "stream",
     "text": [
      "reconstraining parameters GP_regression.Mat52\n",
      "reconstraining parameters GP_regression.Gaussian_noise.variance\n"
     ]
    },
    {
     "name": "stdout",
     "output_type": "stream",
     "text": [
      "sampling end!. 2019-04-17 19:30:40.248408 2019-04-17 19:30:52.999800\n"
     ]
    },
    {
     "name": "stderr",
     "output_type": "stream",
     "text": [
      "[I 2019-04-17 19:31:03,014] Finished a trial resulted in value: -0.8573800643226511. Current best value is -1.0585718425436421 with parameters: {'a': 0.5590626273175443, 'b': 0.5449957642925125, 'ab': [0.5590626273175443, 0.5449957642925125]}.\n"
     ]
    },
    {
     "name": "stdout",
     "output_type": "stream",
     "text": [
      "The set cost function is ignored! LCB acquisition does not make sense with cost.\n"
     ]
    },
    {
     "name": "stderr",
     "output_type": "stream",
     "text": [
      "reconstraining parameters GP_regression.Mat52\n",
      "reconstraining parameters GP_regression.Gaussian_noise.variance\n"
     ]
    },
    {
     "name": "stdout",
     "output_type": "stream",
     "text": [
      "sampling end!. 2019-04-17 19:31:03.017190 2019-04-17 19:31:16.542988\n"
     ]
    },
    {
     "name": "stderr",
     "output_type": "stream",
     "text": [
      "[I 2019-04-17 19:31:26,558] Finished a trial resulted in value: -1.1270630568024926. Current best value is -1.1270630568024926 with parameters: {'a': 0.560805333947355, 'b': 0.5302933050612161, 'ab': [0.560805333947355, 0.5302933050612161]}.\n"
     ]
    },
    {
     "name": "stdout",
     "output_type": "stream",
     "text": [
      "The set cost function is ignored! LCB acquisition does not make sense with cost.\n"
     ]
    },
    {
     "name": "stderr",
     "output_type": "stream",
     "text": [
      "reconstraining parameters GP_regression.Mat52\n",
      "reconstraining parameters GP_regression.Gaussian_noise.variance\n"
     ]
    },
    {
     "name": "stdout",
     "output_type": "stream",
     "text": [
      "sampling end!. 2019-04-17 19:31:26.560207 2019-04-17 19:31:39.287481\n"
     ]
    },
    {
     "name": "stderr",
     "output_type": "stream",
     "text": [
      "[I 2019-04-17 19:31:49,302] Finished a trial resulted in value: -0.6108571984967383. Current best value is -1.1270630568024926 with parameters: {'a': 0.560805333947355, 'b': 0.5302933050612161, 'ab': [0.560805333947355, 0.5302933050612161]}.\n"
     ]
    },
    {
     "name": "stdout",
     "output_type": "stream",
     "text": [
      "The set cost function is ignored! LCB acquisition does not make sense with cost.\n"
     ]
    },
    {
     "name": "stderr",
     "output_type": "stream",
     "text": [
      "reconstraining parameters GP_regression.Mat52\n",
      "reconstraining parameters GP_regression.Gaussian_noise.variance\n"
     ]
    },
    {
     "name": "stdout",
     "output_type": "stream",
     "text": [
      "sampling end!. 2019-04-17 19:31:49.304147 2019-04-17 19:32:03.209831\n"
     ]
    },
    {
     "name": "stderr",
     "output_type": "stream",
     "text": [
      "[I 2019-04-17 19:32:13,224] Finished a trial resulted in value: -0.9048884741729185. Current best value is -1.1270630568024926 with parameters: {'a': 0.560805333947355, 'b': 0.5302933050612161, 'ab': [0.560805333947355, 0.5302933050612161]}.\n"
     ]
    },
    {
     "name": "stdout",
     "output_type": "stream",
     "text": [
      "The set cost function is ignored! LCB acquisition does not make sense with cost.\n"
     ]
    },
    {
     "name": "stderr",
     "output_type": "stream",
     "text": [
      "reconstraining parameters GP_regression.Mat52\n",
      "reconstraining parameters GP_regression.Gaussian_noise.variance\n"
     ]
    },
    {
     "name": "stdout",
     "output_type": "stream",
     "text": [
      "sampling end!. 2019-04-17 19:32:13.226698 2019-04-17 19:32:28.489213\n"
     ]
    },
    {
     "name": "stderr",
     "output_type": "stream",
     "text": [
      "[I 2019-04-17 19:32:38,504] Finished a trial resulted in value: -0.7461153337019557. Current best value is -1.1270630568024926 with parameters: {'a': 0.560805333947355, 'b': 0.5302933050612161, 'ab': [0.560805333947355, 0.5302933050612161]}.\n"
     ]
    },
    {
     "name": "stdout",
     "output_type": "stream",
     "text": [
      "The set cost function is ignored! LCB acquisition does not make sense with cost.\n"
     ]
    },
    {
     "name": "stderr",
     "output_type": "stream",
     "text": [
      "reconstraining parameters GP_regression.Mat52\n",
      "reconstraining parameters GP_regression.Gaussian_noise.variance\n"
     ]
    },
    {
     "name": "stdout",
     "output_type": "stream",
     "text": [
      "sampling end!. 2019-04-17 19:32:38.506129 2019-04-17 19:32:51.834158\n"
     ]
    },
    {
     "name": "stderr",
     "output_type": "stream",
     "text": [
      "[I 2019-04-17 19:33:01,847] Finished a trial resulted in value: -0.7978960928430364. Current best value is -1.1270630568024926 with parameters: {'a': 0.560805333947355, 'b': 0.5302933050612161, 'ab': [0.560805333947355, 0.5302933050612161]}.\n"
     ]
    },
    {
     "name": "stdout",
     "output_type": "stream",
     "text": [
      "The set cost function is ignored! LCB acquisition does not make sense with cost.\n"
     ]
    },
    {
     "name": "stderr",
     "output_type": "stream",
     "text": [
      "reconstraining parameters GP_regression.Mat52\n",
      "reconstraining parameters GP_regression.Gaussian_noise.variance\n"
     ]
    },
    {
     "name": "stdout",
     "output_type": "stream",
     "text": [
      "sampling end!. 2019-04-17 19:33:01.849942 2019-04-17 19:33:15.241277\n"
     ]
    },
    {
     "name": "stderr",
     "output_type": "stream",
     "text": [
      "[I 2019-04-17 19:33:25,255] Finished a trial resulted in value: -0.8427287727315443. Current best value is -1.1270630568024926 with parameters: {'a': 0.560805333947355, 'b': 0.5302933050612161, 'ab': [0.560805333947355, 0.5302933050612161]}.\n"
     ]
    },
    {
     "name": "stdout",
     "output_type": "stream",
     "text": [
      "The set cost function is ignored! LCB acquisition does not make sense with cost.\n"
     ]
    },
    {
     "name": "stderr",
     "output_type": "stream",
     "text": [
      "reconstraining parameters GP_regression.Mat52\n",
      "reconstraining parameters GP_regression.Gaussian_noise.variance\n"
     ]
    },
    {
     "name": "stdout",
     "output_type": "stream",
     "text": [
      "sampling end!. 2019-04-17 19:33:25.257718 2019-04-17 19:33:38.938010\n"
     ]
    },
    {
     "name": "stderr",
     "output_type": "stream",
     "text": [
      "[I 2019-04-17 19:33:48,953] Finished a trial resulted in value: -0.8188659505745914. Current best value is -1.1270630568024926 with parameters: {'a': 0.560805333947355, 'b': 0.5302933050612161, 'ab': [0.560805333947355, 0.5302933050612161]}.\n"
     ]
    },
    {
     "name": "stdout",
     "output_type": "stream",
     "text": [
      "The set cost function is ignored! LCB acquisition does not make sense with cost.\n"
     ]
    },
    {
     "name": "stderr",
     "output_type": "stream",
     "text": [
      "reconstraining parameters GP_regression.Mat52\n",
      "reconstraining parameters GP_regression.Gaussian_noise.variance\n"
     ]
    },
    {
     "name": "stdout",
     "output_type": "stream",
     "text": [
      "sampling end!. 2019-04-17 19:33:48.955896 2019-04-17 19:34:01.831164\n"
     ]
    },
    {
     "name": "stderr",
     "output_type": "stream",
     "text": [
      "[I 2019-04-17 19:34:11,841] Finished a trial resulted in value: -0.5025207173266706. Current best value is -1.1270630568024926 with parameters: {'a': 0.560805333947355, 'b': 0.5302933050612161, 'ab': [0.560805333947355, 0.5302933050612161]}.\n"
     ]
    },
    {
     "name": "stdout",
     "output_type": "stream",
     "text": [
      "The set cost function is ignored! LCB acquisition does not make sense with cost.\n"
     ]
    },
    {
     "name": "stderr",
     "output_type": "stream",
     "text": [
      "reconstraining parameters GP_regression.Mat52\n",
      "reconstraining parameters GP_regression.Gaussian_noise.variance\n"
     ]
    },
    {
     "name": "stdout",
     "output_type": "stream",
     "text": [
      "sampling end!. 2019-04-17 19:34:11.843833 2019-04-17 19:34:25.680190\n"
     ]
    },
    {
     "name": "stderr",
     "output_type": "stream",
     "text": [
      "[I 2019-04-17 19:34:35,695] Finished a trial resulted in value: -0.8004144732688955. Current best value is -1.1270630568024926 with parameters: {'a': 0.560805333947355, 'b': 0.5302933050612161, 'ab': [0.560805333947355, 0.5302933050612161]}.\n"
     ]
    },
    {
     "name": "stdout",
     "output_type": "stream",
     "text": [
      "The set cost function is ignored! LCB acquisition does not make sense with cost.\n"
     ]
    },
    {
     "name": "stderr",
     "output_type": "stream",
     "text": [
      "reconstraining parameters GP_regression.Mat52\n",
      "reconstraining parameters GP_regression.Gaussian_noise.variance\n"
     ]
    },
    {
     "name": "stdout",
     "output_type": "stream",
     "text": [
      "sampling end!. 2019-04-17 19:34:35.697184 2019-04-17 19:34:50.110224\n"
     ]
    },
    {
     "name": "stderr",
     "output_type": "stream",
     "text": [
      "[I 2019-04-17 19:35:00,125] Finished a trial resulted in value: -0.6114615439639255. Current best value is -1.1270630568024926 with parameters: {'a': 0.560805333947355, 'b': 0.5302933050612161, 'ab': [0.560805333947355, 0.5302933050612161]}.\n"
     ]
    },
    {
     "name": "stdout",
     "output_type": "stream",
     "text": [
      "The set cost function is ignored! LCB acquisition does not make sense with cost.\n"
     ]
    },
    {
     "name": "stderr",
     "output_type": "stream",
     "text": [
      "reconstraining parameters GP_regression.Mat52\n",
      "reconstraining parameters GP_regression.Gaussian_noise.variance\n"
     ]
    },
    {
     "name": "stdout",
     "output_type": "stream",
     "text": [
      "sampling end!. 2019-04-17 19:35:00.127905 2019-04-17 19:35:14.258467\n"
     ]
    },
    {
     "name": "stderr",
     "output_type": "stream",
     "text": [
      "[I 2019-04-17 19:35:24,274] Finished a trial resulted in value: -0.6810691181311943. Current best value is -1.1270630568024926 with parameters: {'a': 0.560805333947355, 'b': 0.5302933050612161, 'ab': [0.560805333947355, 0.5302933050612161]}.\n"
     ]
    },
    {
     "name": "stdout",
     "output_type": "stream",
     "text": [
      "The set cost function is ignored! LCB acquisition does not make sense with cost.\n"
     ]
    },
    {
     "name": "stderr",
     "output_type": "stream",
     "text": [
      "reconstraining parameters GP_regression.Mat52\n",
      "reconstraining parameters GP_regression.Gaussian_noise.variance\n"
     ]
    },
    {
     "name": "stdout",
     "output_type": "stream",
     "text": [
      "sampling end!. 2019-04-17 19:35:24.276456 2019-04-17 19:35:36.935098\n"
     ]
    },
    {
     "name": "stderr",
     "output_type": "stream",
     "text": [
      "[I 2019-04-17 19:35:46,949] Finished a trial resulted in value: -0.6356655166073055. Current best value is -1.1270630568024926 with parameters: {'a': 0.560805333947355, 'b': 0.5302933050612161, 'ab': [0.560805333947355, 0.5302933050612161]}.\n"
     ]
    },
    {
     "name": "stdout",
     "output_type": "stream",
     "text": [
      "The set cost function is ignored! LCB acquisition does not make sense with cost.\n"
     ]
    },
    {
     "name": "stderr",
     "output_type": "stream",
     "text": [
      "reconstraining parameters GP_regression.Mat52\n",
      "reconstraining parameters GP_regression.Gaussian_noise.variance\n"
     ]
    },
    {
     "name": "stdout",
     "output_type": "stream",
     "text": [
      "sampling end!. 2019-04-17 19:35:46.951525 2019-04-17 19:36:00.047611\n"
     ]
    },
    {
     "name": "stderr",
     "output_type": "stream",
     "text": [
      "[I 2019-04-17 19:36:10,060] Finished a trial resulted in value: -0.4235904010805632. Current best value is -1.1270630568024926 with parameters: {'a': 0.560805333947355, 'b': 0.5302933050612161, 'ab': [0.560805333947355, 0.5302933050612161]}.\n"
     ]
    },
    {
     "name": "stdout",
     "output_type": "stream",
     "text": [
      "The set cost function is ignored! LCB acquisition does not make sense with cost.\n"
     ]
    },
    {
     "name": "stderr",
     "output_type": "stream",
     "text": [
      "reconstraining parameters GP_regression.Mat52\n",
      "reconstraining parameters GP_regression.Gaussian_noise.variance\n"
     ]
    },
    {
     "name": "stdout",
     "output_type": "stream",
     "text": [
      "sampling end!. 2019-04-17 19:36:10.062769 2019-04-17 19:36:23.175510\n"
     ]
    },
    {
     "name": "stderr",
     "output_type": "stream",
     "text": [
      "[I 2019-04-17 19:36:33,190] Finished a trial resulted in value: -0.42398079374918857. Current best value is -1.1270630568024926 with parameters: {'a': 0.560805333947355, 'b': 0.5302933050612161, 'ab': [0.560805333947355, 0.5302933050612161]}.\n"
     ]
    },
    {
     "name": "stdout",
     "output_type": "stream",
     "text": [
      "The set cost function is ignored! LCB acquisition does not make sense with cost.\n"
     ]
    },
    {
     "name": "stderr",
     "output_type": "stream",
     "text": [
      "reconstraining parameters GP_regression.Mat52\n",
      "reconstraining parameters GP_regression.Gaussian_noise.variance\n"
     ]
    },
    {
     "name": "stdout",
     "output_type": "stream",
     "text": [
      "sampling end!. 2019-04-17 19:36:33.192257 2019-04-17 19:36:47.535708\n"
     ]
    },
    {
     "name": "stderr",
     "output_type": "stream",
     "text": [
      "[I 2019-04-17 19:36:57,552] Finished a trial resulted in value: -0.3833213037426506. Current best value is -1.1270630568024926 with parameters: {'a': 0.560805333947355, 'b': 0.5302933050612161, 'ab': [0.560805333947355, 0.5302933050612161]}.\n"
     ]
    },
    {
     "name": "stdout",
     "output_type": "stream",
     "text": [
      "The set cost function is ignored! LCB acquisition does not make sense with cost.\n"
     ]
    },
    {
     "name": "stderr",
     "output_type": "stream",
     "text": [
      "reconstraining parameters GP_regression.Mat52\n",
      "reconstraining parameters GP_regression.Gaussian_noise.variance\n"
     ]
    },
    {
     "name": "stdout",
     "output_type": "stream",
     "text": [
      "sampling end!. 2019-04-17 19:36:57.554727 2019-04-17 19:37:11.485426\n"
     ]
    },
    {
     "name": "stderr",
     "output_type": "stream",
     "text": [
      "[I 2019-04-17 19:37:21,502] Finished a trial resulted in value: -0.2287324268506559. Current best value is -1.1270630568024926 with parameters: {'a': 0.560805333947355, 'b': 0.5302933050612161, 'ab': [0.560805333947355, 0.5302933050612161]}.\n"
     ]
    },
    {
     "name": "stdout",
     "output_type": "stream",
     "text": [
      "The set cost function is ignored! LCB acquisition does not make sense with cost.\n"
     ]
    },
    {
     "name": "stderr",
     "output_type": "stream",
     "text": [
      "reconstraining parameters GP_regression.Mat52\n",
      "reconstraining parameters GP_regression.Gaussian_noise.variance\n"
     ]
    },
    {
     "name": "stdout",
     "output_type": "stream",
     "text": [
      "sampling end!. 2019-04-17 19:37:21.504536 2019-04-17 19:37:35.425605\n"
     ]
    },
    {
     "name": "stderr",
     "output_type": "stream",
     "text": [
      "[I 2019-04-17 19:37:45,442] Finished a trial resulted in value: -0.5002830745104614. Current best value is -1.1270630568024926 with parameters: {'a': 0.560805333947355, 'b': 0.5302933050612161, 'ab': [0.560805333947355, 0.5302933050612161]}.\n"
     ]
    },
    {
     "name": "stdout",
     "output_type": "stream",
     "text": [
      "The set cost function is ignored! LCB acquisition does not make sense with cost.\n"
     ]
    },
    {
     "name": "stderr",
     "output_type": "stream",
     "text": [
      "reconstraining parameters GP_regression.Mat52\n",
      "reconstraining parameters GP_regression.Gaussian_noise.variance\n"
     ]
    },
    {
     "name": "stdout",
     "output_type": "stream",
     "text": [
      "sampling end!. 2019-04-17 19:37:45.444977 2019-04-17 19:37:59.520116\n"
     ]
    },
    {
     "name": "stderr",
     "output_type": "stream",
     "text": [
      "[I 2019-04-17 19:38:09,538] Finished a trial resulted in value: -0.29554211052519824. Current best value is -1.1270630568024926 with parameters: {'a': 0.560805333947355, 'b': 0.5302933050612161, 'ab': [0.560805333947355, 0.5302933050612161]}.\n"
     ]
    },
    {
     "name": "stdout",
     "output_type": "stream",
     "text": [
      "The set cost function is ignored! LCB acquisition does not make sense with cost.\n"
     ]
    },
    {
     "name": "stderr",
     "output_type": "stream",
     "text": [
      "reconstraining parameters GP_regression.Mat52\n",
      "reconstraining parameters GP_regression.Gaussian_noise.variance\n"
     ]
    },
    {
     "name": "stdout",
     "output_type": "stream",
     "text": [
      "sampling end!. 2019-04-17 19:38:09.540627 2019-04-17 19:38:24.433511\n"
     ]
    },
    {
     "name": "stderr",
     "output_type": "stream",
     "text": [
      "[I 2019-04-17 19:38:34,448] Finished a trial resulted in value: -0.27916269264175997. Current best value is -1.1270630568024926 with parameters: {'a': 0.560805333947355, 'b': 0.5302933050612161, 'ab': [0.560805333947355, 0.5302933050612161]}.\n"
     ]
    },
    {
     "name": "stdout",
     "output_type": "stream",
     "text": [
      "The set cost function is ignored! LCB acquisition does not make sense with cost.\n"
     ]
    },
    {
     "name": "stderr",
     "output_type": "stream",
     "text": [
      "reconstraining parameters GP_regression.Mat52\n",
      "reconstraining parameters GP_regression.Gaussian_noise.variance\n"
     ]
    },
    {
     "name": "stdout",
     "output_type": "stream",
     "text": [
      "sampling end!. 2019-04-17 19:38:34.450498 2019-04-17 19:38:47.816487\n"
     ]
    },
    {
     "name": "stderr",
     "output_type": "stream",
     "text": [
      "[I 2019-04-17 19:38:57,832] Finished a trial resulted in value: 0.02567842081532261. Current best value is -1.1270630568024926 with parameters: {'a': 0.560805333947355, 'b': 0.5302933050612161, 'ab': [0.560805333947355, 0.5302933050612161]}.\n"
     ]
    },
    {
     "name": "stdout",
     "output_type": "stream",
     "text": [
      "The set cost function is ignored! LCB acquisition does not make sense with cost.\n"
     ]
    },
    {
     "name": "stderr",
     "output_type": "stream",
     "text": [
      "reconstraining parameters GP_regression.Mat52\n",
      "reconstraining parameters GP_regression.Gaussian_noise.variance\n"
     ]
    },
    {
     "name": "stdout",
     "output_type": "stream",
     "text": [
      "sampling end!. 2019-04-17 19:38:57.835464 2019-04-17 19:39:13.132332\n"
     ]
    },
    {
     "name": "stderr",
     "output_type": "stream",
     "text": [
      "[I 2019-04-17 19:39:23,148] Finished a trial resulted in value: -0.12690614238684733. Current best value is -1.1270630568024926 with parameters: {'a': 0.560805333947355, 'b': 0.5302933050612161, 'ab': [0.560805333947355, 0.5302933050612161]}.\n"
     ]
    },
    {
     "name": "stdout",
     "output_type": "stream",
     "text": [
      "The set cost function is ignored! LCB acquisition does not make sense with cost.\n"
     ]
    },
    {
     "name": "stderr",
     "output_type": "stream",
     "text": [
      "reconstraining parameters GP_regression.Mat52\n",
      "reconstraining parameters GP_regression.Gaussian_noise.variance\n"
     ]
    },
    {
     "name": "stdout",
     "output_type": "stream",
     "text": [
      "sampling end!. 2019-04-17 19:39:23.151059 2019-04-17 19:39:37.669004\n"
     ]
    },
    {
     "name": "stderr",
     "output_type": "stream",
     "text": [
      "[I 2019-04-17 19:39:47,681] Finished a trial resulted in value: -0.2843660512553475. Current best value is -1.1270630568024926 with parameters: {'a': 0.560805333947355, 'b': 0.5302933050612161, 'ab': [0.560805333947355, 0.5302933050612161]}.\n"
     ]
    },
    {
     "name": "stdout",
     "output_type": "stream",
     "text": [
      "The set cost function is ignored! LCB acquisition does not make sense with cost.\n"
     ]
    },
    {
     "name": "stderr",
     "output_type": "stream",
     "text": [
      "reconstraining parameters GP_regression.Mat52\n",
      "reconstraining parameters GP_regression.Gaussian_noise.variance\n"
     ]
    },
    {
     "name": "stdout",
     "output_type": "stream",
     "text": [
      "sampling end!. 2019-04-17 19:39:47.684481 2019-04-17 19:40:00.191097\n"
     ]
    },
    {
     "name": "stderr",
     "output_type": "stream",
     "text": [
      "[I 2019-04-17 19:40:10,208] Finished a trial resulted in value: -0.1840268152908576. Current best value is -1.1270630568024926 with parameters: {'a': 0.560805333947355, 'b': 0.5302933050612161, 'ab': [0.560805333947355, 0.5302933050612161]}.\n"
     ]
    },
    {
     "name": "stdout",
     "output_type": "stream",
     "text": [
      "The set cost function is ignored! LCB acquisition does not make sense with cost.\n"
     ]
    },
    {
     "name": "stderr",
     "output_type": "stream",
     "text": [
      "reconstraining parameters GP_regression.Mat52\n",
      "reconstraining parameters GP_regression.Gaussian_noise.variance\n"
     ]
    },
    {
     "name": "stdout",
     "output_type": "stream",
     "text": [
      "sampling end!. 2019-04-17 19:40:10.210479 2019-04-17 19:40:24.049200\n"
     ]
    },
    {
     "name": "stderr",
     "output_type": "stream",
     "text": [
      "[I 2019-04-17 19:40:34,068] Finished a trial resulted in value: 0.020570344099830412. Current best value is -1.1270630568024926 with parameters: {'a': 0.560805333947355, 'b': 0.5302933050612161, 'ab': [0.560805333947355, 0.5302933050612161]}.\n"
     ]
    },
    {
     "name": "stdout",
     "output_type": "stream",
     "text": [
      "The set cost function is ignored! LCB acquisition does not make sense with cost.\n"
     ]
    },
    {
     "name": "stderr",
     "output_type": "stream",
     "text": [
      "reconstraining parameters GP_regression.Mat52\n",
      "reconstraining parameters GP_regression.Gaussian_noise.variance\n"
     ]
    },
    {
     "name": "stdout",
     "output_type": "stream",
     "text": [
      "sampling end!. 2019-04-17 19:40:34.070937 2019-04-17 19:40:47.741579\n"
     ]
    },
    {
     "name": "stderr",
     "output_type": "stream",
     "text": [
      "[I 2019-04-17 19:40:57,760] Finished a trial resulted in value: -0.023862606206119782. Current best value is -1.1270630568024926 with parameters: {'a': 0.560805333947355, 'b': 0.5302933050612161, 'ab': [0.560805333947355, 0.5302933050612161]}.\n"
     ]
    },
    {
     "name": "stdout",
     "output_type": "stream",
     "text": [
      "The set cost function is ignored! LCB acquisition does not make sense with cost.\n"
     ]
    },
    {
     "name": "stderr",
     "output_type": "stream",
     "text": [
      "reconstraining parameters GP_regression.Mat52\n",
      "reconstraining parameters GP_regression.Gaussian_noise.variance\n"
     ]
    },
    {
     "name": "stdout",
     "output_type": "stream",
     "text": [
      "sampling end!. 2019-04-17 19:40:57.762990 2019-04-17 19:41:11.696998\n"
     ]
    },
    {
     "name": "stderr",
     "output_type": "stream",
     "text": [
      "[I 2019-04-17 19:41:21,714] Finished a trial resulted in value: 0.065944681308764. Current best value is -1.1270630568024926 with parameters: {'a': 0.560805333947355, 'b': 0.5302933050612161, 'ab': [0.560805333947355, 0.5302933050612161]}.\n"
     ]
    },
    {
     "name": "stdout",
     "output_type": "stream",
     "text": [
      "The set cost function is ignored! LCB acquisition does not make sense with cost.\n"
     ]
    },
    {
     "name": "stderr",
     "output_type": "stream",
     "text": [
      "reconstraining parameters GP_regression.Mat52\n",
      "reconstraining parameters GP_regression.Gaussian_noise.variance\n"
     ]
    },
    {
     "name": "stdout",
     "output_type": "stream",
     "text": [
      "sampling end!. 2019-04-17 19:41:21.716634 2019-04-17 19:41:35.222653\n"
     ]
    },
    {
     "name": "stderr",
     "output_type": "stream",
     "text": [
      "[I 2019-04-17 19:41:45,239] Finished a trial resulted in value: -0.04055783690806994. Current best value is -1.1270630568024926 with parameters: {'a': 0.560805333947355, 'b': 0.5302933050612161, 'ab': [0.560805333947355, 0.5302933050612161]}.\n"
     ]
    },
    {
     "name": "stdout",
     "output_type": "stream",
     "text": [
      "The set cost function is ignored! LCB acquisition does not make sense with cost.\n"
     ]
    },
    {
     "name": "stderr",
     "output_type": "stream",
     "text": [
      "reconstraining parameters GP_regression.Mat52\n",
      "reconstraining parameters GP_regression.Gaussian_noise.variance\n"
     ]
    },
    {
     "name": "stdout",
     "output_type": "stream",
     "text": [
      "sampling end!. 2019-04-17 19:41:45.241670 2019-04-17 19:42:02.187564\n"
     ]
    },
    {
     "name": "stderr",
     "output_type": "stream",
     "text": [
      "[I 2019-04-17 19:42:12,206] Finished a trial resulted in value: 0.39191226242192634. Current best value is -1.1270630568024926 with parameters: {'a': 0.560805333947355, 'b': 0.5302933050612161, 'ab': [0.560805333947355, 0.5302933050612161]}.\n"
     ]
    },
    {
     "name": "stdout",
     "output_type": "stream",
     "text": [
      "The set cost function is ignored! LCB acquisition does not make sense with cost.\n"
     ]
    },
    {
     "name": "stderr",
     "output_type": "stream",
     "text": [
      "reconstraining parameters GP_regression.Mat52\n",
      "reconstraining parameters GP_regression.Gaussian_noise.variance\n"
     ]
    },
    {
     "name": "stdout",
     "output_type": "stream",
     "text": [
      "sampling end!. 2019-04-17 19:42:12.208190 2019-04-17 19:42:24.816255\n"
     ]
    },
    {
     "name": "stderr",
     "output_type": "stream",
     "text": [
      "[I 2019-04-17 19:42:25,831] Finished a trial resulted in value: 1.2149318254510155. Current best value is -1.1270630568024926 with parameters: {'a': 0.560805333947355, 'b': 0.5302933050612161, 'ab': [0.560805333947355, 0.5302933050612161]}.\n"
     ]
    },
    {
     "name": "stdout",
     "output_type": "stream",
     "text": [
      "The set cost function is ignored! LCB acquisition does not make sense with cost.\n"
     ]
    },
    {
     "name": "stderr",
     "output_type": "stream",
     "text": [
      "reconstraining parameters GP_regression.Mat52\n",
      "reconstraining parameters GP_regression.Gaussian_noise.variance\n"
     ]
    },
    {
     "name": "stdout",
     "output_type": "stream",
     "text": [
      "sampling end!. 2019-04-17 19:42:25.833751 2019-04-17 19:42:43.082572\n"
     ]
    },
    {
     "name": "stderr",
     "output_type": "stream",
     "text": [
      "[I 2019-04-17 19:42:53,100] Finished a trial resulted in value: -0.0910296634923703. Current best value is -1.1270630568024926 with parameters: {'a': 0.560805333947355, 'b': 0.5302933050612161, 'ab': [0.560805333947355, 0.5302933050612161]}.\n"
     ]
    },
    {
     "name": "stdout",
     "output_type": "stream",
     "text": [
      "The set cost function is ignored! LCB acquisition does not make sense with cost.\n"
     ]
    },
    {
     "name": "stderr",
     "output_type": "stream",
     "text": [
      "reconstraining parameters GP_regression.Mat52\n",
      "reconstraining parameters GP_regression.Gaussian_noise.variance\n"
     ]
    },
    {
     "name": "stdout",
     "output_type": "stream",
     "text": [
      "sampling end!. 2019-04-17 19:42:53.102960 2019-04-17 19:43:11.055284\n"
     ]
    },
    {
     "name": "stderr",
     "output_type": "stream",
     "text": [
      "[I 2019-04-17 19:43:21,070] Finished a trial resulted in value: -0.1798934139746217. Current best value is -1.1270630568024926 with parameters: {'a': 0.560805333947355, 'b': 0.5302933050612161, 'ab': [0.560805333947355, 0.5302933050612161]}.\n"
     ]
    },
    {
     "name": "stdout",
     "output_type": "stream",
     "text": [
      "The set cost function is ignored! LCB acquisition does not make sense with cost.\n"
     ]
    },
    {
     "name": "stderr",
     "output_type": "stream",
     "text": [
      "reconstraining parameters GP_regression.Mat52\n",
      "reconstraining parameters GP_regression.Gaussian_noise.variance\n"
     ]
    },
    {
     "name": "stdout",
     "output_type": "stream",
     "text": [
      "sampling end!. 2019-04-17 19:43:21.073083 2019-04-17 19:43:37.395964\n"
     ]
    },
    {
     "name": "stderr",
     "output_type": "stream",
     "text": [
      "[I 2019-04-17 19:43:47,415] Finished a trial resulted in value: 0.023509588563931916. Current best value is -1.1270630568024926 with parameters: {'a': 0.560805333947355, 'b': 0.5302933050612161, 'ab': [0.560805333947355, 0.5302933050612161]}.\n"
     ]
    },
    {
     "name": "stdout",
     "output_type": "stream",
     "text": [
      "The set cost function is ignored! LCB acquisition does not make sense with cost.\n"
     ]
    },
    {
     "name": "stderr",
     "output_type": "stream",
     "text": [
      "reconstraining parameters GP_regression.Mat52\n",
      "reconstraining parameters GP_regression.Gaussian_noise.variance\n"
     ]
    },
    {
     "name": "stdout",
     "output_type": "stream",
     "text": [
      "sampling end!. 2019-04-17 19:43:47.417509 2019-04-17 19:44:04.404366\n"
     ]
    },
    {
     "name": "stderr",
     "output_type": "stream",
     "text": [
      "[I 2019-04-17 19:44:14,424] Finished a trial resulted in value: -0.4325829489161315. Current best value is -1.1270630568024926 with parameters: {'a': 0.560805333947355, 'b': 0.5302933050612161, 'ab': [0.560805333947355, 0.5302933050612161]}.\n"
     ]
    },
    {
     "name": "stdout",
     "output_type": "stream",
     "text": [
      "The set cost function is ignored! LCB acquisition does not make sense with cost.\n"
     ]
    },
    {
     "name": "stderr",
     "output_type": "stream",
     "text": [
      "reconstraining parameters GP_regression.Mat52\n",
      "reconstraining parameters GP_regression.Gaussian_noise.variance\n"
     ]
    },
    {
     "name": "stdout",
     "output_type": "stream",
     "text": [
      "sampling end!. 2019-04-17 19:44:14.426941 2019-04-17 19:44:32.285961\n"
     ]
    },
    {
     "name": "stderr",
     "output_type": "stream",
     "text": [
      "[I 2019-04-17 19:44:42,305] Finished a trial resulted in value: -0.6756292575268954. Current best value is -1.1270630568024926 with parameters: {'a': 0.560805333947355, 'b': 0.5302933050612161, 'ab': [0.560805333947355, 0.5302933050612161]}.\n"
     ]
    },
    {
     "name": "stdout",
     "output_type": "stream",
     "text": [
      "The set cost function is ignored! LCB acquisition does not make sense with cost.\n"
     ]
    },
    {
     "name": "stderr",
     "output_type": "stream",
     "text": [
      "reconstraining parameters GP_regression.Mat52\n",
      "reconstraining parameters GP_regression.Gaussian_noise.variance\n"
     ]
    },
    {
     "name": "stdout",
     "output_type": "stream",
     "text": [
      "sampling end!. 2019-04-17 19:44:42.317597 2019-04-17 19:45:00.018092\n"
     ]
    },
    {
     "name": "stderr",
     "output_type": "stream",
     "text": [
      "[I 2019-04-17 19:45:10,034] Finished a trial resulted in value: -0.5317282836769183. Current best value is -1.1270630568024926 with parameters: {'a': 0.560805333947355, 'b': 0.5302933050612161, 'ab': [0.560805333947355, 0.5302933050612161]}.\n"
     ]
    },
    {
     "name": "stdout",
     "output_type": "stream",
     "text": [
      "The set cost function is ignored! LCB acquisition does not make sense with cost.\n"
     ]
    },
    {
     "name": "stderr",
     "output_type": "stream",
     "text": [
      "reconstraining parameters GP_regression.Mat52\n",
      "reconstraining parameters GP_regression.Gaussian_noise.variance\n"
     ]
    },
    {
     "name": "stdout",
     "output_type": "stream",
     "text": [
      "sampling end!. 2019-04-17 19:45:10.037009 2019-04-17 19:45:27.318568\n"
     ]
    },
    {
     "name": "stderr",
     "output_type": "stream",
     "text": [
      "[I 2019-04-17 19:45:37,336] Finished a trial resulted in value: -0.6148095664194546. Current best value is -1.1270630568024926 with parameters: {'a': 0.560805333947355, 'b': 0.5302933050612161, 'ab': [0.560805333947355, 0.5302933050612161]}.\n"
     ]
    },
    {
     "name": "stdout",
     "output_type": "stream",
     "text": [
      "The set cost function is ignored! LCB acquisition does not make sense with cost.\n"
     ]
    },
    {
     "name": "stderr",
     "output_type": "stream",
     "text": [
      "reconstraining parameters GP_regression.Mat52\n",
      "reconstraining parameters GP_regression.Gaussian_noise.variance\n"
     ]
    },
    {
     "name": "stdout",
     "output_type": "stream",
     "text": [
      "sampling end!. 2019-04-17 19:45:37.338800 2019-04-17 19:45:52.976722\n"
     ]
    },
    {
     "name": "stderr",
     "output_type": "stream",
     "text": [
      "[I 2019-04-17 19:46:02,995] Finished a trial resulted in value: -0.6262088696919659. Current best value is -1.1270630568024926 with parameters: {'a': 0.560805333947355, 'b': 0.5302933050612161, 'ab': [0.560805333947355, 0.5302933050612161]}.\n"
     ]
    },
    {
     "name": "stdout",
     "output_type": "stream",
     "text": [
      "The set cost function is ignored! LCB acquisition does not make sense with cost.\n"
     ]
    },
    {
     "name": "stderr",
     "output_type": "stream",
     "text": [
      "reconstraining parameters GP_regression.Mat52\n",
      "reconstraining parameters GP_regression.Gaussian_noise.variance\n"
     ]
    },
    {
     "name": "stdout",
     "output_type": "stream",
     "text": [
      "sampling end!. 2019-04-17 19:46:02.998389 2019-04-17 19:46:20.652021\n"
     ]
    },
    {
     "name": "stderr",
     "output_type": "stream",
     "text": [
      "[I 2019-04-17 19:46:30,672] Finished a trial resulted in value: -0.4075529423144008. Current best value is -1.1270630568024926 with parameters: {'a': 0.560805333947355, 'b': 0.5302933050612161, 'ab': [0.560805333947355, 0.5302933050612161]}.\n"
     ]
    },
    {
     "name": "stdout",
     "output_type": "stream",
     "text": [
      "The set cost function is ignored! LCB acquisition does not make sense with cost.\n"
     ]
    },
    {
     "name": "stderr",
     "output_type": "stream",
     "text": [
      "reconstraining parameters GP_regression.Mat52\n",
      "reconstraining parameters GP_regression.Gaussian_noise.variance\n"
     ]
    },
    {
     "name": "stdout",
     "output_type": "stream",
     "text": [
      "sampling end!. 2019-04-17 19:46:30.675088 2019-04-17 19:46:48.675594\n"
     ]
    },
    {
     "name": "stderr",
     "output_type": "stream",
     "text": [
      "[I 2019-04-17 19:46:58,689] Finished a trial resulted in value: -0.5100337170957663. Current best value is -1.1270630568024926 with parameters: {'a': 0.560805333947355, 'b': 0.5302933050612161, 'ab': [0.560805333947355, 0.5302933050612161]}.\n"
     ]
    },
    {
     "name": "stdout",
     "output_type": "stream",
     "text": [
      "The set cost function is ignored! LCB acquisition does not make sense with cost.\n"
     ]
    },
    {
     "name": "stderr",
     "output_type": "stream",
     "text": [
      "reconstraining parameters GP_regression.Mat52\n",
      "reconstraining parameters GP_regression.Gaussian_noise.variance\n"
     ]
    },
    {
     "name": "stdout",
     "output_type": "stream",
     "text": [
      "sampling end!. 2019-04-17 19:46:58.691482 2019-04-17 19:47:16.351682\n"
     ]
    },
    {
     "name": "stderr",
     "output_type": "stream",
     "text": [
      "[I 2019-04-17 19:47:26,365] Finished a trial resulted in value: -0.4216243411271412. Current best value is -1.1270630568024926 with parameters: {'a': 0.560805333947355, 'b': 0.5302933050612161, 'ab': [0.560805333947355, 0.5302933050612161]}.\n"
     ]
    },
    {
     "name": "stdout",
     "output_type": "stream",
     "text": [
      "The set cost function is ignored! LCB acquisition does not make sense with cost.\n"
     ]
    },
    {
     "name": "stderr",
     "output_type": "stream",
     "text": [
      "reconstraining parameters GP_regression.Mat52\n",
      "reconstraining parameters GP_regression.Gaussian_noise.variance\n"
     ]
    },
    {
     "name": "stdout",
     "output_type": "stream",
     "text": [
      "sampling end!. 2019-04-17 19:47:26.367594 2019-04-17 19:47:47.365092\n"
     ]
    },
    {
     "name": "stderr",
     "output_type": "stream",
     "text": [
      "[I 2019-04-17 19:47:57,379] Finished a trial resulted in value: -0.2971723688481202. Current best value is -1.1270630568024926 with parameters: {'a': 0.560805333947355, 'b': 0.5302933050612161, 'ab': [0.560805333947355, 0.5302933050612161]}.\n"
     ]
    },
    {
     "name": "stdout",
     "output_type": "stream",
     "text": [
      "The set cost function is ignored! LCB acquisition does not make sense with cost.\n"
     ]
    },
    {
     "name": "stderr",
     "output_type": "stream",
     "text": [
      "reconstraining parameters GP_regression.Mat52\n",
      "reconstraining parameters GP_regression.Gaussian_noise.variance\n"
     ]
    },
    {
     "name": "stdout",
     "output_type": "stream",
     "text": [
      "sampling end!. 2019-04-17 19:47:57.382522 2019-04-17 19:48:12.278703\n"
     ]
    },
    {
     "name": "stderr",
     "output_type": "stream",
     "text": [
      "[I 2019-04-17 19:48:22,299] Finished a trial resulted in value: -0.2321985160029788. Current best value is -1.1270630568024926 with parameters: {'a': 0.560805333947355, 'b': 0.5302933050612161, 'ab': [0.560805333947355, 0.5302933050612161]}.\n"
     ]
    },
    {
     "name": "stdout",
     "output_type": "stream",
     "text": [
      "The set cost function is ignored! LCB acquisition does not make sense with cost.\n"
     ]
    },
    {
     "name": "stderr",
     "output_type": "stream",
     "text": [
      "reconstraining parameters GP_regression.Mat52\n",
      "reconstraining parameters GP_regression.Gaussian_noise.variance\n"
     ]
    },
    {
     "name": "stdout",
     "output_type": "stream",
     "text": [
      "sampling end!. 2019-04-17 19:48:22.301206 2019-04-17 19:48:41.790319\n"
     ]
    },
    {
     "name": "stderr",
     "output_type": "stream",
     "text": [
      "[I 2019-04-17 19:48:51,813] Finished a trial resulted in value: -0.36766768238955155. Current best value is -1.1270630568024926 with parameters: {'a': 0.560805333947355, 'b': 0.5302933050612161, 'ab': [0.560805333947355, 0.5302933050612161]}.\n"
     ]
    },
    {
     "name": "stdout",
     "output_type": "stream",
     "text": [
      "The set cost function is ignored! LCB acquisition does not make sense with cost.\n"
     ]
    },
    {
     "name": "stderr",
     "output_type": "stream",
     "text": [
      "reconstraining parameters GP_regression.Mat52\n",
      "reconstraining parameters GP_regression.Gaussian_noise.variance\n"
     ]
    },
    {
     "name": "stdout",
     "output_type": "stream",
     "text": [
      "sampling end!. 2019-04-17 19:48:51.815483 2019-04-17 19:49:14.764668\n"
     ]
    },
    {
     "name": "stderr",
     "output_type": "stream",
     "text": [
      "[I 2019-04-17 19:49:24,784] Finished a trial resulted in value: -0.2970089341000491. Current best value is -1.1270630568024926 with parameters: {'a': 0.560805333947355, 'b': 0.5302933050612161, 'ab': [0.560805333947355, 0.5302933050612161]}.\n"
     ]
    },
    {
     "name": "stdout",
     "output_type": "stream",
     "text": [
      "The set cost function is ignored! LCB acquisition does not make sense with cost.\n"
     ]
    },
    {
     "name": "stderr",
     "output_type": "stream",
     "text": [
      "reconstraining parameters GP_regression.Mat52\n",
      "reconstraining parameters GP_regression.Gaussian_noise.variance\n"
     ]
    },
    {
     "name": "stdout",
     "output_type": "stream",
     "text": [
      "sampling end!. 2019-04-17 19:49:24.786642 2019-04-17 19:49:43.255620\n"
     ]
    },
    {
     "name": "stderr",
     "output_type": "stream",
     "text": [
      "[I 2019-04-17 19:49:53,270] Finished a trial resulted in value: -0.40459213811072503. Current best value is -1.1270630568024926 with parameters: {'a': 0.560805333947355, 'b': 0.5302933050612161, 'ab': [0.560805333947355, 0.5302933050612161]}.\n"
     ]
    },
    {
     "name": "stdout",
     "output_type": "stream",
     "text": [
      "The set cost function is ignored! LCB acquisition does not make sense with cost.\n"
     ]
    },
    {
     "name": "stderr",
     "output_type": "stream",
     "text": [
      "reconstraining parameters GP_regression.Mat52\n",
      "reconstraining parameters GP_regression.Gaussian_noise.variance\n"
     ]
    },
    {
     "name": "stdout",
     "output_type": "stream",
     "text": [
      "sampling end!. 2019-04-17 19:49:53.272527 2019-04-17 19:50:11.061378\n"
     ]
    },
    {
     "name": "stderr",
     "output_type": "stream",
     "text": [
      "[I 2019-04-17 19:50:21,083] Finished a trial resulted in value: -0.4876341596628443. Current best value is -1.1270630568024926 with parameters: {'a': 0.560805333947355, 'b': 0.5302933050612161, 'ab': [0.560805333947355, 0.5302933050612161]}.\n"
     ]
    },
    {
     "name": "stdout",
     "output_type": "stream",
     "text": [
      "The set cost function is ignored! LCB acquisition does not make sense with cost.\n"
     ]
    },
    {
     "name": "stderr",
     "output_type": "stream",
     "text": [
      "reconstraining parameters GP_regression.Mat52\n",
      "reconstraining parameters GP_regression.Gaussian_noise.variance\n"
     ]
    },
    {
     "name": "stdout",
     "output_type": "stream",
     "text": [
      "sampling end!. 2019-04-17 19:50:21.085929 2019-04-17 19:50:41.974768\n"
     ]
    },
    {
     "name": "stderr",
     "output_type": "stream",
     "text": [
      "[I 2019-04-17 19:50:51,998] Finished a trial resulted in value: -0.46176516678509516. Current best value is -1.1270630568024926 with parameters: {'a': 0.560805333947355, 'b': 0.5302933050612161, 'ab': [0.560805333947355, 0.5302933050612161]}.\n"
     ]
    },
    {
     "name": "stdout",
     "output_type": "stream",
     "text": [
      "The set cost function is ignored! LCB acquisition does not make sense with cost.\n"
     ]
    },
    {
     "name": "stderr",
     "output_type": "stream",
     "text": [
      "reconstraining parameters GP_regression.Mat52\n",
      "reconstraining parameters GP_regression.Gaussian_noise.variance\n"
     ]
    },
    {
     "name": "stdout",
     "output_type": "stream",
     "text": [
      "sampling end!. 2019-04-17 19:50:52.000683 2019-04-17 19:51:10.758935\n"
     ]
    },
    {
     "name": "stderr",
     "output_type": "stream",
     "text": [
      "[I 2019-04-17 19:51:20,781] Finished a trial resulted in value: -0.3626569000207386. Current best value is -1.1270630568024926 with parameters: {'a': 0.560805333947355, 'b': 0.5302933050612161, 'ab': [0.560805333947355, 0.5302933050612161]}.\n"
     ]
    },
    {
     "name": "stdout",
     "output_type": "stream",
     "text": [
      "The set cost function is ignored! LCB acquisition does not make sense with cost.\n"
     ]
    },
    {
     "name": "stderr",
     "output_type": "stream",
     "text": [
      "reconstraining parameters GP_regression.Mat52\n",
      "reconstraining parameters GP_regression.Gaussian_noise.variance\n"
     ]
    },
    {
     "name": "stdout",
     "output_type": "stream",
     "text": [
      "sampling end!. 2019-04-17 19:51:20.783890 2019-04-17 19:51:39.027060\n"
     ]
    },
    {
     "name": "stderr",
     "output_type": "stream",
     "text": [
      "[I 2019-04-17 19:51:49,049] Finished a trial resulted in value: -0.39430177010569456. Current best value is -1.1270630568024926 with parameters: {'a': 0.560805333947355, 'b': 0.5302933050612161, 'ab': [0.560805333947355, 0.5302933050612161]}.\n"
     ]
    },
    {
     "name": "stdout",
     "output_type": "stream",
     "text": [
      "The set cost function is ignored! LCB acquisition does not make sense with cost.\n"
     ]
    },
    {
     "name": "stderr",
     "output_type": "stream",
     "text": [
      "reconstraining parameters GP_regression.Mat52\n",
      "reconstraining parameters GP_regression.Gaussian_noise.variance\n"
     ]
    },
    {
     "name": "stdout",
     "output_type": "stream",
     "text": [
      "sampling end!. 2019-04-17 19:51:49.051297 2019-04-17 19:52:03.448832\n"
     ]
    },
    {
     "name": "stderr",
     "output_type": "stream",
     "text": [
      "[I 2019-04-17 19:52:13,471] Finished a trial resulted in value: -0.08459526994338586. Current best value is -1.1270630568024926 with parameters: {'a': 0.560805333947355, 'b': 0.5302933050612161, 'ab': [0.560805333947355, 0.5302933050612161]}.\n"
     ]
    },
    {
     "name": "stdout",
     "output_type": "stream",
     "text": [
      "The set cost function is ignored! LCB acquisition does not make sense with cost.\n"
     ]
    },
    {
     "name": "stderr",
     "output_type": "stream",
     "text": [
      "reconstraining parameters GP_regression.Mat52\n",
      "reconstraining parameters GP_regression.Gaussian_noise.variance\n"
     ]
    },
    {
     "name": "stdout",
     "output_type": "stream",
     "text": [
      "sampling end!. 2019-04-17 19:52:13.473172 2019-04-17 19:52:32.618958\n"
     ]
    },
    {
     "name": "stderr",
     "output_type": "stream",
     "text": [
      "[I 2019-04-17 19:52:42,643] Finished a trial resulted in value: -0.37980234304566185. Current best value is -1.1270630568024926 with parameters: {'a': 0.560805333947355, 'b': 0.5302933050612161, 'ab': [0.560805333947355, 0.5302933050612161]}.\n"
     ]
    },
    {
     "name": "stdout",
     "output_type": "stream",
     "text": [
      "The set cost function is ignored! LCB acquisition does not make sense with cost.\n"
     ]
    },
    {
     "name": "stderr",
     "output_type": "stream",
     "text": [
      "reconstraining parameters GP_regression.Mat52\n",
      "reconstraining parameters GP_regression.Gaussian_noise.variance\n"
     ]
    },
    {
     "name": "stdout",
     "output_type": "stream",
     "text": [
      "sampling end!. 2019-04-17 19:52:42.645242 2019-04-17 19:53:01.175565\n"
     ]
    },
    {
     "name": "stderr",
     "output_type": "stream",
     "text": [
      "[I 2019-04-17 19:53:11,196] Finished a trial resulted in value: -0.3478735909496272. Current best value is -1.1270630568024926 with parameters: {'a': 0.560805333947355, 'b': 0.5302933050612161, 'ab': [0.560805333947355, 0.5302933050612161]}.\n"
     ]
    },
    {
     "name": "stdout",
     "output_type": "stream",
     "text": [
      "The set cost function is ignored! LCB acquisition does not make sense with cost.\n"
     ]
    },
    {
     "name": "stderr",
     "output_type": "stream",
     "text": [
      "reconstraining parameters GP_regression.Mat52\n",
      "reconstraining parameters GP_regression.Gaussian_noise.variance\n"
     ]
    },
    {
     "name": "stdout",
     "output_type": "stream",
     "text": [
      "sampling end!. 2019-04-17 19:53:11.198808 2019-04-17 19:53:30.575327\n"
     ]
    },
    {
     "name": "stderr",
     "output_type": "stream",
     "text": [
      "[I 2019-04-17 19:53:40,595] Finished a trial resulted in value: -0.5507548576838192. Current best value is -1.1270630568024926 with parameters: {'a': 0.560805333947355, 'b': 0.5302933050612161, 'ab': [0.560805333947355, 0.5302933050612161]}.\n"
     ]
    },
    {
     "name": "stdout",
     "output_type": "stream",
     "text": [
      "The set cost function is ignored! LCB acquisition does not make sense with cost.\n"
     ]
    },
    {
     "name": "stderr",
     "output_type": "stream",
     "text": [
      "reconstraining parameters GP_regression.Mat52\n",
      "reconstraining parameters GP_regression.Gaussian_noise.variance\n"
     ]
    },
    {
     "name": "stdout",
     "output_type": "stream",
     "text": [
      "sampling end!. 2019-04-17 19:53:40.598091 2019-04-17 19:54:03.199888\n"
     ]
    },
    {
     "name": "stderr",
     "output_type": "stream",
     "text": [
      "[I 2019-04-17 19:54:13,222] Finished a trial resulted in value: -0.693124234845324. Current best value is -1.1270630568024926 with parameters: {'a': 0.560805333947355, 'b': 0.5302933050612161, 'ab': [0.560805333947355, 0.5302933050612161]}.\n"
     ]
    },
    {
     "name": "stdout",
     "output_type": "stream",
     "text": [
      "The set cost function is ignored! LCB acquisition does not make sense with cost.\n"
     ]
    },
    {
     "name": "stderr",
     "output_type": "stream",
     "text": [
      "reconstraining parameters GP_regression.Mat52\n",
      "reconstraining parameters GP_regression.Gaussian_noise.variance\n"
     ]
    },
    {
     "name": "stdout",
     "output_type": "stream",
     "text": [
      "sampling end!. 2019-04-17 19:54:13.225428 2019-04-17 19:54:36.685435\n"
     ]
    },
    {
     "name": "stderr",
     "output_type": "stream",
     "text": [
      "[I 2019-04-17 19:54:46,710] Finished a trial resulted in value: -0.5546242756129498. Current best value is -1.1270630568024926 with parameters: {'a': 0.560805333947355, 'b': 0.5302933050612161, 'ab': [0.560805333947355, 0.5302933050612161]}.\n"
     ]
    },
    {
     "name": "stdout",
     "output_type": "stream",
     "text": [
      "The set cost function is ignored! LCB acquisition does not make sense with cost.\n"
     ]
    },
    {
     "name": "stderr",
     "output_type": "stream",
     "text": [
      "reconstraining parameters GP_regression.Mat52\n",
      "reconstraining parameters GP_regression.Gaussian_noise.variance\n"
     ]
    },
    {
     "name": "stdout",
     "output_type": "stream",
     "text": [
      "sampling end!. 2019-04-17 19:54:46.712227 2019-04-17 19:55:07.232033\n"
     ]
    },
    {
     "name": "stderr",
     "output_type": "stream",
     "text": [
      "[I 2019-04-17 19:55:17,255] Finished a trial resulted in value: -0.9377481899130442. Current best value is -1.1270630568024926 with parameters: {'a': 0.560805333947355, 'b': 0.5302933050612161, 'ab': [0.560805333947355, 0.5302933050612161]}.\n"
     ]
    },
    {
     "name": "stdout",
     "output_type": "stream",
     "text": [
      "The set cost function is ignored! LCB acquisition does not make sense with cost.\n"
     ]
    },
    {
     "name": "stderr",
     "output_type": "stream",
     "text": [
      "reconstraining parameters GP_regression.Mat52\n",
      "reconstraining parameters GP_regression.Gaussian_noise.variance\n"
     ]
    },
    {
     "name": "stdout",
     "output_type": "stream",
     "text": [
      "sampling end!. 2019-04-17 19:55:17.258092 2019-04-17 19:55:45.751130\n"
     ]
    },
    {
     "name": "stderr",
     "output_type": "stream",
     "text": [
      "[I 2019-04-17 19:55:55,775] Finished a trial resulted in value: -0.8177280626428975. Current best value is -1.1270630568024926 with parameters: {'a': 0.560805333947355, 'b': 0.5302933050612161, 'ab': [0.560805333947355, 0.5302933050612161]}.\n"
     ]
    },
    {
     "name": "stdout",
     "output_type": "stream",
     "text": [
      "The set cost function is ignored! LCB acquisition does not make sense with cost.\n"
     ]
    },
    {
     "name": "stderr",
     "output_type": "stream",
     "text": [
      "reconstraining parameters GP_regression.Mat52\n",
      "reconstraining parameters GP_regression.Gaussian_noise.variance\n"
     ]
    },
    {
     "name": "stdout",
     "output_type": "stream",
     "text": [
      "sampling end!. 2019-04-17 19:55:55.777750 2019-04-17 19:56:19.759539\n"
     ]
    },
    {
     "name": "stderr",
     "output_type": "stream",
     "text": [
      "[I 2019-04-17 19:56:29,776] Finished a trial resulted in value: -0.6987017697174427. Current best value is -1.1270630568024926 with parameters: {'a': 0.560805333947355, 'b': 0.5302933050612161, 'ab': [0.560805333947355, 0.5302933050612161]}.\n"
     ]
    },
    {
     "name": "stdout",
     "output_type": "stream",
     "text": [
      "The set cost function is ignored! LCB acquisition does not make sense with cost.\n"
     ]
    },
    {
     "name": "stderr",
     "output_type": "stream",
     "text": [
      "reconstraining parameters GP_regression.Mat52\n",
      "reconstraining parameters GP_regression.Gaussian_noise.variance\n"
     ]
    },
    {
     "name": "stdout",
     "output_type": "stream",
     "text": [
      "sampling end!. 2019-04-17 19:56:29.778379 2019-04-17 19:56:53.450092\n"
     ]
    },
    {
     "name": "stderr",
     "output_type": "stream",
     "text": [
      "[I 2019-04-17 19:57:03,464] Finished a trial resulted in value: -0.7375992672780912. Current best value is -1.1270630568024926 with parameters: {'a': 0.560805333947355, 'b': 0.5302933050612161, 'ab': [0.560805333947355, 0.5302933050612161]}.\n"
     ]
    },
    {
     "name": "stdout",
     "output_type": "stream",
     "text": [
      "The set cost function is ignored! LCB acquisition does not make sense with cost.\n"
     ]
    },
    {
     "name": "stderr",
     "output_type": "stream",
     "text": [
      "reconstraining parameters GP_regression.Mat52\n",
      "reconstraining parameters GP_regression.Gaussian_noise.variance\n"
     ]
    },
    {
     "name": "stdout",
     "output_type": "stream",
     "text": [
      "sampling end!. 2019-04-17 19:57:03.466977 2019-04-17 19:57:24.124951\n"
     ]
    },
    {
     "name": "stderr",
     "output_type": "stream",
     "text": [
      "[I 2019-04-17 19:57:34,143] Finished a trial resulted in value: -0.4828364477021685. Current best value is -1.1270630568024926 with parameters: {'a': 0.560805333947355, 'b': 0.5302933050612161, 'ab': [0.560805333947355, 0.5302933050612161]}.\n"
     ]
    },
    {
     "name": "stdout",
     "output_type": "stream",
     "text": [
      "The set cost function is ignored! LCB acquisition does not make sense with cost.\n"
     ]
    },
    {
     "name": "stderr",
     "output_type": "stream",
     "text": [
      "reconstraining parameters GP_regression.Mat52\n",
      "reconstraining parameters GP_regression.Gaussian_noise.variance\n"
     ]
    },
    {
     "name": "stdout",
     "output_type": "stream",
     "text": [
      "sampling end!. 2019-04-17 19:57:34.145097 2019-04-17 19:57:54.105788\n"
     ]
    },
    {
     "name": "stderr",
     "output_type": "stream",
     "text": [
      "[I 2019-04-17 19:58:04,130] Finished a trial resulted in value: -0.5919306549661505. Current best value is -1.1270630568024926 with parameters: {'a': 0.560805333947355, 'b': 0.5302933050612161, 'ab': [0.560805333947355, 0.5302933050612161]}.\n"
     ]
    },
    {
     "name": "stdout",
     "output_type": "stream",
     "text": [
      "The set cost function is ignored! LCB acquisition does not make sense with cost.\n"
     ]
    },
    {
     "name": "stderr",
     "output_type": "stream",
     "text": [
      "reconstraining parameters GP_regression.Mat52\n",
      "reconstraining parameters GP_regression.Gaussian_noise.variance\n"
     ]
    },
    {
     "name": "stdout",
     "output_type": "stream",
     "text": [
      "sampling end!. 2019-04-17 19:58:04.132330 2019-04-17 19:58:23.953676\n"
     ]
    },
    {
     "name": "stderr",
     "output_type": "stream",
     "text": [
      "[I 2019-04-17 19:58:33,977] Finished a trial resulted in value: -0.6193996426617253. Current best value is -1.1270630568024926 with parameters: {'a': 0.560805333947355, 'b': 0.5302933050612161, 'ab': [0.560805333947355, 0.5302933050612161]}.\n"
     ]
    },
    {
     "name": "stdout",
     "output_type": "stream",
     "text": [
      "The set cost function is ignored! LCB acquisition does not make sense with cost.\n"
     ]
    },
    {
     "name": "stderr",
     "output_type": "stream",
     "text": [
      "reconstraining parameters GP_regression.Mat52\n",
      "reconstraining parameters GP_regression.Gaussian_noise.variance\n"
     ]
    },
    {
     "name": "stdout",
     "output_type": "stream",
     "text": [
      "sampling end!. 2019-04-17 19:58:33.979323 2019-04-17 19:58:54.311426\n"
     ]
    },
    {
     "name": "stderr",
     "output_type": "stream",
     "text": [
      "[I 2019-04-17 19:59:04,334] Finished a trial resulted in value: -0.5831459949532272. Current best value is -1.1270630568024926 with parameters: {'a': 0.560805333947355, 'b': 0.5302933050612161, 'ab': [0.560805333947355, 0.5302933050612161]}.\n"
     ]
    },
    {
     "name": "stdout",
     "output_type": "stream",
     "text": [
      "The set cost function is ignored! LCB acquisition does not make sense with cost.\n"
     ]
    },
    {
     "name": "stderr",
     "output_type": "stream",
     "text": [
      "reconstraining parameters GP_regression.Mat52\n",
      "reconstraining parameters GP_regression.Gaussian_noise.variance\n"
     ]
    },
    {
     "name": "stdout",
     "output_type": "stream",
     "text": [
      "sampling end!. 2019-04-17 19:59:04.349677 2019-04-17 19:59:33.694580\n"
     ]
    },
    {
     "name": "stderr",
     "output_type": "stream",
     "text": [
      "[I 2019-04-17 19:59:43,719] Finished a trial resulted in value: -0.6431002735486264. Current best value is -1.1270630568024926 with parameters: {'a': 0.560805333947355, 'b': 0.5302933050612161, 'ab': [0.560805333947355, 0.5302933050612161]}.\n"
     ]
    },
    {
     "name": "stdout",
     "output_type": "stream",
     "text": [
      "The set cost function is ignored! LCB acquisition does not make sense with cost.\n"
     ]
    },
    {
     "name": "stderr",
     "output_type": "stream",
     "text": [
      "reconstraining parameters GP_regression.Mat52\n",
      "reconstraining parameters GP_regression.Gaussian_noise.variance\n"
     ]
    },
    {
     "name": "stdout",
     "output_type": "stream",
     "text": [
      "sampling end!. 2019-04-17 19:59:43.733684 2019-04-17 20:00:08.017667\n"
     ]
    },
    {
     "name": "stderr",
     "output_type": "stream",
     "text": [
      "[I 2019-04-17 20:00:18,042] Finished a trial resulted in value: -0.670363348275393. Current best value is -1.1270630568024926 with parameters: {'a': 0.560805333947355, 'b': 0.5302933050612161, 'ab': [0.560805333947355, 0.5302933050612161]}.\n"
     ]
    },
    {
     "name": "stdout",
     "output_type": "stream",
     "text": [
      "The set cost function is ignored! LCB acquisition does not make sense with cost.\n"
     ]
    },
    {
     "name": "stderr",
     "output_type": "stream",
     "text": [
      "reconstraining parameters GP_regression.Mat52\n",
      "reconstraining parameters GP_regression.Gaussian_noise.variance\n"
     ]
    },
    {
     "name": "stdout",
     "output_type": "stream",
     "text": [
      "sampling end!. 2019-04-17 20:00:18.046326 2019-04-17 20:00:41.618761\n"
     ]
    },
    {
     "name": "stderr",
     "output_type": "stream",
     "text": [
      "[I 2019-04-17 20:00:51,642] Finished a trial resulted in value: -0.6420328936634488. Current best value is -1.1270630568024926 with parameters: {'a': 0.560805333947355, 'b': 0.5302933050612161, 'ab': [0.560805333947355, 0.5302933050612161]}.\n"
     ]
    },
    {
     "name": "stdout",
     "output_type": "stream",
     "text": [
      "The set cost function is ignored! LCB acquisition does not make sense with cost.\n"
     ]
    },
    {
     "name": "stderr",
     "output_type": "stream",
     "text": [
      "reconstraining parameters GP_regression.Mat52\n",
      "reconstraining parameters GP_regression.Gaussian_noise.variance\n"
     ]
    },
    {
     "name": "stdout",
     "output_type": "stream",
     "text": [
      "sampling end!. 2019-04-17 20:00:51.644787 2019-04-17 20:01:13.569338\n"
     ]
    },
    {
     "name": "stderr",
     "output_type": "stream",
     "text": [
      "[I 2019-04-17 20:01:23,585] Finished a trial resulted in value: -0.7584212159561787. Current best value is -1.1270630568024926 with parameters: {'a': 0.560805333947355, 'b': 0.5302933050612161, 'ab': [0.560805333947355, 0.5302933050612161]}.\n"
     ]
    },
    {
     "name": "stdout",
     "output_type": "stream",
     "text": [
      "The set cost function is ignored! LCB acquisition does not make sense with cost.\n"
     ]
    },
    {
     "name": "stderr",
     "output_type": "stream",
     "text": [
      "reconstraining parameters GP_regression.Mat52\n",
      "reconstraining parameters GP_regression.Gaussian_noise.variance\n"
     ]
    },
    {
     "name": "stdout",
     "output_type": "stream",
     "text": [
      "sampling end!. 2019-04-17 20:01:23.588064 2019-04-17 20:01:53.856774\n"
     ]
    },
    {
     "name": "stderr",
     "output_type": "stream",
     "text": [
      "[I 2019-04-17 20:02:03,879] Finished a trial resulted in value: -0.8627011962492362. Current best value is -1.1270630568024926 with parameters: {'a': 0.560805333947355, 'b': 0.5302933050612161, 'ab': [0.560805333947355, 0.5302933050612161]}.\n"
     ]
    },
    {
     "name": "stdout",
     "output_type": "stream",
     "text": [
      "The set cost function is ignored! LCB acquisition does not make sense with cost.\n"
     ]
    },
    {
     "name": "stderr",
     "output_type": "stream",
     "text": [
      "reconstraining parameters GP_regression.Mat52\n",
      "reconstraining parameters GP_regression.Gaussian_noise.variance\n"
     ]
    },
    {
     "name": "stdout",
     "output_type": "stream",
     "text": [
      "sampling end!. 2019-04-17 20:02:03.890555 2019-04-17 20:02:25.387050\n"
     ]
    },
    {
     "name": "stderr",
     "output_type": "stream",
     "text": [
      "[I 2019-04-17 20:02:35,411] Finished a trial resulted in value: -0.9642156996788472. Current best value is -1.1270630568024926 with parameters: {'a': 0.560805333947355, 'b': 0.5302933050612161, 'ab': [0.560805333947355, 0.5302933050612161]}.\n"
     ]
    },
    {
     "name": "stdout",
     "output_type": "stream",
     "text": [
      "The set cost function is ignored! LCB acquisition does not make sense with cost.\n"
     ]
    },
    {
     "name": "stderr",
     "output_type": "stream",
     "text": [
      "reconstraining parameters GP_regression.Mat52\n",
      "reconstraining parameters GP_regression.Gaussian_noise.variance\n"
     ]
    },
    {
     "name": "stdout",
     "output_type": "stream",
     "text": [
      "sampling end!. 2019-04-17 20:02:35.413716 2019-04-17 20:02:56.275776\n"
     ]
    },
    {
     "name": "stderr",
     "output_type": "stream",
     "text": [
      "[I 2019-04-17 20:03:06,302] Finished a trial resulted in value: -1.1065316077208924. Current best value is -1.1270630568024926 with parameters: {'a': 0.560805333947355, 'b': 0.5302933050612161, 'ab': [0.560805333947355, 0.5302933050612161]}.\n"
     ]
    },
    {
     "name": "stdout",
     "output_type": "stream",
     "text": [
      "The set cost function is ignored! LCB acquisition does not make sense with cost.\n"
     ]
    },
    {
     "name": "stderr",
     "output_type": "stream",
     "text": [
      "reconstraining parameters GP_regression.Mat52\n",
      "reconstraining parameters GP_regression.Gaussian_noise.variance\n"
     ]
    },
    {
     "name": "stdout",
     "output_type": "stream",
     "text": [
      "sampling end!. 2019-04-17 20:03:06.304837 2019-04-17 20:03:35.879987\n"
     ]
    },
    {
     "name": "stderr",
     "output_type": "stream",
     "text": [
      "[I 2019-04-17 20:03:45,905] Finished a trial resulted in value: -1.313175889877654. Current best value is -1.313175889877654 with parameters: {'a': 0.5488201605304069, 'b': 0.49143491916277104, 'ab': [0.5488201605304069, 0.49143491916277104]}.\n"
     ]
    },
    {
     "name": "stdout",
     "output_type": "stream",
     "text": [
      "The set cost function is ignored! LCB acquisition does not make sense with cost.\n"
     ]
    },
    {
     "name": "stderr",
     "output_type": "stream",
     "text": [
      "reconstraining parameters GP_regression.Mat52\n",
      "reconstraining parameters GP_regression.Gaussian_noise.variance\n"
     ]
    },
    {
     "name": "stdout",
     "output_type": "stream",
     "text": [
      "sampling end!. 2019-04-17 20:03:45.917990 2019-04-17 20:04:09.020622\n"
     ]
    },
    {
     "name": "stderr",
     "output_type": "stream",
     "text": [
      "[I 2019-04-17 20:04:19,044] Finished a trial resulted in value: -1.4283792940265279. Current best value is -1.4283792940265279 with parameters: {'a': 0.5364052980052315, 'b': 0.49123131085200805, 'ab': [0.5364052980052315, 0.49123131085200805]}.\n"
     ]
    },
    {
     "name": "stdout",
     "output_type": "stream",
     "text": [
      "The set cost function is ignored! LCB acquisition does not make sense with cost.\n"
     ]
    },
    {
     "name": "stderr",
     "output_type": "stream",
     "text": [
      "reconstraining parameters GP_regression.Mat52\n",
      "reconstraining parameters GP_regression.Gaussian_noise.variance\n"
     ]
    },
    {
     "name": "stdout",
     "output_type": "stream",
     "text": [
      "sampling end!. 2019-04-17 20:04:19.046982 2019-04-17 20:04:41.087371\n"
     ]
    },
    {
     "name": "stderr",
     "output_type": "stream",
     "text": [
      "[I 2019-04-17 20:04:51,104] Finished a trial resulted in value: -1.4476654677085066. Current best value is -1.4476654677085066 with parameters: {'a': 0.5166037836714742, 'b': 0.4794547357714295, 'ab': [0.5166037836714742, 0.4794547357714295]}.\n"
     ]
    },
    {
     "name": "stdout",
     "output_type": "stream",
     "text": [
      "The set cost function is ignored! LCB acquisition does not make sense with cost.\n"
     ]
    },
    {
     "name": "stderr",
     "output_type": "stream",
     "text": [
      "reconstraining parameters GP_regression.Mat52\n",
      "reconstraining parameters GP_regression.Gaussian_noise.variance\n"
     ]
    },
    {
     "name": "stdout",
     "output_type": "stream",
     "text": [
      "sampling end!. 2019-04-17 20:04:51.106929 2019-04-17 20:05:15.053924\n"
     ]
    },
    {
     "name": "stderr",
     "output_type": "stream",
     "text": [
      "[I 2019-04-17 20:05:16,075] Finished a trial resulted in value: -1.4696558862565012. Current best value is -1.4696558862565012 with parameters: {'a': 0.488985927129319, 'b': 0.46256094082601995, 'ab': [0.488985927129319, 0.46256094082601995]}.\n"
     ]
    },
    {
     "name": "stdout",
     "output_type": "stream",
     "text": [
      "The set cost function is ignored! LCB acquisition does not make sense with cost.\n"
     ]
    },
    {
     "name": "stderr",
     "output_type": "stream",
     "text": [
      "reconstraining parameters GP_regression.Mat52\n",
      "reconstraining parameters GP_regression.Gaussian_noise.variance\n"
     ]
    },
    {
     "name": "stdout",
     "output_type": "stream",
     "text": [
      "sampling end!. 2019-04-17 20:05:16.077862 2019-04-17 20:05:49.538386\n"
     ]
    },
    {
     "name": "stderr",
     "output_type": "stream",
     "text": [
      "[I 2019-04-17 20:05:50,555] Finished a trial resulted in value: -1.545211282330224. Current best value is -1.545211282330224 with parameters: {'a': 0.48271662939853893, 'b': 0.47839313806554756, 'ab': [0.48271662939853893, 0.47839313806554756]}.\n"
     ]
    },
    {
     "name": "stdout",
     "output_type": "stream",
     "text": [
      "The set cost function is ignored! LCB acquisition does not make sense with cost.\n"
     ]
    },
    {
     "name": "stderr",
     "output_type": "stream",
     "text": [
      "reconstraining parameters GP_regression.Mat52\n",
      "reconstraining parameters GP_regression.Gaussian_noise.variance\n"
     ]
    },
    {
     "name": "stdout",
     "output_type": "stream",
     "text": [
      "sampling end!. 2019-04-17 20:05:50.557785 2019-04-17 20:06:14.572662\n"
     ]
    },
    {
     "name": "stderr",
     "output_type": "stream",
     "text": [
      "[I 2019-04-17 20:06:15,597] Finished a trial resulted in value: 0.3622561705718862. Current best value is -1.545211282330224 with parameters: {'a': 0.48271662939853893, 'b': 0.47839313806554756, 'ab': [0.48271662939853893, 0.47839313806554756]}.\n"
     ]
    },
    {
     "name": "stdout",
     "output_type": "stream",
     "text": [
      "The set cost function is ignored! LCB acquisition does not make sense with cost.\n"
     ]
    },
    {
     "name": "stderr",
     "output_type": "stream",
     "text": [
      "reconstraining parameters GP_regression.Mat52\n",
      "reconstraining parameters GP_regression.Gaussian_noise.variance\n"
     ]
    },
    {
     "name": "stdout",
     "output_type": "stream",
     "text": [
      "sampling end!. 2019-04-17 20:06:15.600670 2019-04-17 20:06:42.352544\n"
     ]
    },
    {
     "name": "stderr",
     "output_type": "stream",
     "text": [
      "[I 2019-04-17 20:06:43,370] Finished a trial resulted in value: 0.9243669717914124. Current best value is -1.545211282330224 with parameters: {'a': 0.48271662939853893, 'b': 0.47839313806554756, 'ab': [0.48271662939853893, 0.47839313806554756]}.\n"
     ]
    },
    {
     "name": "stdout",
     "output_type": "stream",
     "text": [
      "The set cost function is ignored! LCB acquisition does not make sense with cost.\n"
     ]
    },
    {
     "name": "stderr",
     "output_type": "stream",
     "text": [
      "reconstraining parameters GP_regression.Mat52\n",
      "reconstraining parameters GP_regression.Gaussian_noise.variance\n"
     ]
    },
    {
     "name": "stdout",
     "output_type": "stream",
     "text": [
      "sampling end!. 2019-04-17 20:06:43.372755 2019-04-17 20:07:14.338339\n"
     ]
    },
    {
     "name": "stderr",
     "output_type": "stream",
     "text": [
      "[I 2019-04-17 20:07:15,360] Finished a trial resulted in value: -1.4713514601796294. Current best value is -1.545211282330224 with parameters: {'a': 0.48271662939853893, 'b': 0.47839313806554756, 'ab': [0.48271662939853893, 0.47839313806554756]}.\n"
     ]
    },
    {
     "name": "stdout",
     "output_type": "stream",
     "text": [
      "The set cost function is ignored! LCB acquisition does not make sense with cost.\n"
     ]
    },
    {
     "name": "stderr",
     "output_type": "stream",
     "text": [
      "reconstraining parameters GP_regression.Mat52\n",
      "reconstraining parameters GP_regression.Gaussian_noise.variance\n"
     ]
    },
    {
     "name": "stdout",
     "output_type": "stream",
     "text": [
      "sampling end!. 2019-04-17 20:07:15.362683 2019-04-17 20:07:47.821504\n"
     ]
    },
    {
     "name": "stderr",
     "output_type": "stream",
     "text": [
      "[I 2019-04-17 20:07:48,840] Finished a trial resulted in value: -1.4467160267656758. Current best value is -1.545211282330224 with parameters: {'a': 0.48271662939853893, 'b': 0.47839313806554756, 'ab': [0.48271662939853893, 0.47839313806554756]}.\n"
     ]
    },
    {
     "name": "stdout",
     "output_type": "stream",
     "text": [
      "The set cost function is ignored! LCB acquisition does not make sense with cost.\n"
     ]
    },
    {
     "name": "stderr",
     "output_type": "stream",
     "text": [
      "reconstraining parameters GP_regression.Mat52\n",
      "reconstraining parameters GP_regression.Gaussian_noise.variance\n"
     ]
    },
    {
     "name": "stdout",
     "output_type": "stream",
     "text": [
      "sampling end!. 2019-04-17 20:07:48.842868 2019-04-17 20:08:22.626187\n"
     ]
    },
    {
     "name": "stderr",
     "output_type": "stream",
     "text": [
      "[I 2019-04-17 20:08:23,648] Finished a trial resulted in value: -1.3925099341645046. Current best value is -1.545211282330224 with parameters: {'a': 0.48271662939853893, 'b': 0.47839313806554756, 'ab': [0.48271662939853893, 0.47839313806554756]}.\n"
     ]
    },
    {
     "name": "stdout",
     "output_type": "stream",
     "text": [
      "The set cost function is ignored! LCB acquisition does not make sense with cost.\n"
     ]
    },
    {
     "name": "stderr",
     "output_type": "stream",
     "text": [
      "reconstraining parameters GP_regression.Mat52\n",
      "reconstraining parameters GP_regression.Gaussian_noise.variance\n"
     ]
    },
    {
     "name": "stdout",
     "output_type": "stream",
     "text": [
      "sampling end!. 2019-04-17 20:08:23.651114 2019-04-17 20:08:55.967219\n"
     ]
    },
    {
     "name": "stderr",
     "output_type": "stream",
     "text": [
      "[I 2019-04-17 20:08:56,986] Finished a trial resulted in value: -1.5791858275662147. Current best value is -1.5791858275662147 with parameters: {'a': 0.4791147167363856, 'b': 0.481044008786509, 'ab': [0.4791147167363856, 0.481044008786509]}.\n"
     ]
    },
    {
     "name": "stdout",
     "output_type": "stream",
     "text": [
      "The set cost function is ignored! LCB acquisition does not make sense with cost.\n"
     ]
    },
    {
     "name": "stderr",
     "output_type": "stream",
     "text": [
      "reconstraining parameters GP_regression.Mat52\n",
      "reconstraining parameters GP_regression.Gaussian_noise.variance\n"
     ]
    },
    {
     "name": "stdout",
     "output_type": "stream",
     "text": [
      "sampling end!. 2019-04-17 20:08:56.988170 2019-04-17 20:09:30.953492\n"
     ]
    },
    {
     "name": "stderr",
     "output_type": "stream",
     "text": [
      "[I 2019-04-17 20:09:31,971] Finished a trial resulted in value: -1.766320346254396. Current best value is -1.766320346254396 with parameters: {'a': 0.4777395924872572, 'b': 0.4810901703754902, 'ab': [0.4777395924872572, 0.4810901703754902]}.\n"
     ]
    },
    {
     "name": "stdout",
     "output_type": "stream",
     "text": [
      "The set cost function is ignored! LCB acquisition does not make sense with cost.\n"
     ]
    },
    {
     "name": "stderr",
     "output_type": "stream",
     "text": [
      "reconstraining parameters GP_regression.Mat52\n",
      "reconstraining parameters GP_regression.Gaussian_noise.variance\n"
     ]
    },
    {
     "name": "stdout",
     "output_type": "stream",
     "text": [
      "sampling end!. 2019-04-17 20:09:31.974169 2019-04-17 20:10:07.627060\n"
     ]
    },
    {
     "name": "stderr",
     "output_type": "stream",
     "text": [
      "[I 2019-04-17 20:10:08,653] Finished a trial resulted in value: -1.8246535248100455. Current best value is -1.8246535248100455 with parameters: {'a': 0.4780814024012201, 'b': 0.48651396316534296, 'ab': [0.4780814024012201, 0.48651396316534296]}.\n"
     ]
    },
    {
     "name": "stdout",
     "output_type": "stream",
     "text": [
      "The set cost function is ignored! LCB acquisition does not make sense with cost.\n"
     ]
    },
    {
     "name": "stderr",
     "output_type": "stream",
     "text": [
      "reconstraining parameters GP_regression.Mat52\n",
      "reconstraining parameters GP_regression.Gaussian_noise.variance\n"
     ]
    },
    {
     "name": "stdout",
     "output_type": "stream",
     "text": [
      "sampling end!. 2019-04-17 20:10:08.673497 2019-04-17 20:10:41.949909\n"
     ]
    },
    {
     "name": "stderr",
     "output_type": "stream",
     "text": [
      "[I 2019-04-17 20:10:42,969] Finished a trial resulted in value: -1.892045272075411. Current best value is -1.892045272075411 with parameters: {'a': 0.47348500771907415, 'b': 0.49319440245790364, 'ab': [0.47348500771907415, 0.49319440245790364]}.\n"
     ]
    },
    {
     "name": "stdout",
     "output_type": "stream",
     "text": [
      "The set cost function is ignored! LCB acquisition does not make sense with cost.\n"
     ]
    },
    {
     "name": "stderr",
     "output_type": "stream",
     "text": [
      "reconstraining parameters GP_regression.Mat52\n",
      "reconstraining parameters GP_regression.Gaussian_noise.variance\n"
     ]
    },
    {
     "name": "stdout",
     "output_type": "stream",
     "text": [
      "sampling end!. 2019-04-17 20:10:42.971666 2019-04-17 20:11:14.140474\n"
     ]
    },
    {
     "name": "stderr",
     "output_type": "stream",
     "text": [
      "[I 2019-04-17 20:11:15,168] Finished a trial resulted in value: -1.853411652886223. Current best value is -1.892045272075411 with parameters: {'a': 0.47348500771907415, 'b': 0.49319440245790364, 'ab': [0.47348500771907415, 0.49319440245790364]}.\n"
     ]
    },
    {
     "name": "stdout",
     "output_type": "stream",
     "text": [
      "The set cost function is ignored! LCB acquisition does not make sense with cost.\n"
     ]
    },
    {
     "name": "stderr",
     "output_type": "stream",
     "text": [
      "reconstraining parameters GP_regression.Mat52\n",
      "reconstraining parameters GP_regression.Gaussian_noise.variance\n"
     ]
    },
    {
     "name": "stdout",
     "output_type": "stream",
     "text": [
      "sampling end!. 2019-04-17 20:11:15.170422 2019-04-17 20:11:50.758935\n"
     ]
    },
    {
     "name": "stderr",
     "output_type": "stream",
     "text": [
      "[I 2019-04-17 20:11:51,792] Finished a trial resulted in value: -1.9214306124994969. Current best value is -1.9214306124994969 with parameters: {'a': 0.46617980439563855, 'b': 0.5110690106295781, 'ab': [0.46617980439563855, 0.5110690106295781]}.\n"
     ]
    },
    {
     "name": "stdout",
     "output_type": "stream",
     "text": [
      "The set cost function is ignored! LCB acquisition does not make sense with cost.\n"
     ]
    },
    {
     "name": "stderr",
     "output_type": "stream",
     "text": [
      "reconstraining parameters GP_regression.Mat52\n",
      "reconstraining parameters GP_regression.Gaussian_noise.variance\n"
     ]
    },
    {
     "name": "stdout",
     "output_type": "stream",
     "text": [
      "sampling end!. 2019-04-17 20:11:51.796038 2019-04-17 20:12:22.412449\n"
     ]
    },
    {
     "name": "stderr",
     "output_type": "stream",
     "text": [
      "[I 2019-04-17 20:12:23,431] Finished a trial resulted in value: -1.8711406743417265. Current best value is -1.9214306124994969 with parameters: {'a': 0.46617980439563855, 'b': 0.5110690106295781, 'ab': [0.46617980439563855, 0.5110690106295781]}.\n"
     ]
    },
    {
     "name": "stdout",
     "output_type": "stream",
     "text": [
      "The set cost function is ignored! LCB acquisition does not make sense with cost.\n"
     ]
    },
    {
     "name": "stderr",
     "output_type": "stream",
     "text": [
      "reconstraining parameters GP_regression.Mat52\n",
      "reconstraining parameters GP_regression.Gaussian_noise.variance\n"
     ]
    },
    {
     "name": "stdout",
     "output_type": "stream",
     "text": [
      "sampling end!. 2019-04-17 20:12:23.433166 2019-04-17 20:12:55.833741\n"
     ]
    },
    {
     "name": "stderr",
     "output_type": "stream",
     "text": [
      "[I 2019-04-17 20:12:56,861] Finished a trial resulted in value: -1.9678342078551014. Current best value is -1.9678342078551014 with parameters: {'a': 0.46395486712260414, 'b': 0.5195704946989171, 'ab': [0.46395486712260414, 0.5195704946989171]}.\n"
     ]
    },
    {
     "name": "stdout",
     "output_type": "stream",
     "text": [
      "The set cost function is ignored! LCB acquisition does not make sense with cost.\n"
     ]
    },
    {
     "name": "stderr",
     "output_type": "stream",
     "text": [
      "reconstraining parameters GP_regression.Mat52\n",
      "reconstraining parameters GP_regression.Gaussian_noise.variance\n"
     ]
    },
    {
     "name": "stdout",
     "output_type": "stream",
     "text": [
      "sampling end!. 2019-04-17 20:12:56.863698 2019-04-17 20:13:31.601799\n"
     ]
    },
    {
     "name": "stderr",
     "output_type": "stream",
     "text": [
      "[I 2019-04-17 20:13:32,620] Finished a trial resulted in value: -2.112919647742172. Current best value is -2.112919647742172 with parameters: {'a': 0.4620099070520201, 'b': 0.5232808558065306, 'ab': [0.4620099070520201, 0.5232808558065306]}.\n"
     ]
    },
    {
     "name": "stdout",
     "output_type": "stream",
     "text": [
      "The set cost function is ignored! LCB acquisition does not make sense with cost.\n"
     ]
    },
    {
     "name": "stderr",
     "output_type": "stream",
     "text": [
      "reconstraining parameters GP_regression.Mat52\n",
      "reconstraining parameters GP_regression.Gaussian_noise.variance\n"
     ]
    },
    {
     "name": "stdout",
     "output_type": "stream",
     "text": [
      "sampling end!. 2019-04-17 20:13:32.622288 2019-04-17 20:14:03.290696\n"
     ]
    },
    {
     "name": "stderr",
     "output_type": "stream",
     "text": [
      "[I 2019-04-17 20:14:04,310] Finished a trial resulted in value: -2.0888422338235597. Current best value is -2.112919647742172 with parameters: {'a': 0.4620099070520201, 'b': 0.5232808558065306, 'ab': [0.4620099070520201, 0.5232808558065306]}.\n"
     ]
    },
    {
     "name": "stdout",
     "output_type": "stream",
     "text": [
      "The set cost function is ignored! LCB acquisition does not make sense with cost.\n"
     ]
    },
    {
     "name": "stderr",
     "output_type": "stream",
     "text": [
      "reconstraining parameters GP_regression.Mat52\n",
      "reconstraining parameters GP_regression.Gaussian_noise.variance\n"
     ]
    },
    {
     "name": "stdout",
     "output_type": "stream",
     "text": [
      "sampling end!. 2019-04-17 20:14:04.312540 2019-04-17 20:14:36.824851\n"
     ]
    },
    {
     "name": "stderr",
     "output_type": "stream",
     "text": [
      "[I 2019-04-17 20:14:37,845] Finished a trial resulted in value: -1.8570709387893136. Current best value is -2.112919647742172 with parameters: {'a': 0.4620099070520201, 'b': 0.5232808558065306, 'ab': [0.4620099070520201, 0.5232808558065306]}.\n"
     ]
    },
    {
     "name": "stdout",
     "output_type": "stream",
     "text": [
      "The set cost function is ignored! LCB acquisition does not make sense with cost.\n"
     ]
    },
    {
     "name": "stderr",
     "output_type": "stream",
     "text": [
      "reconstraining parameters GP_regression.Mat52\n",
      "reconstraining parameters GP_regression.Gaussian_noise.variance\n"
     ]
    },
    {
     "name": "stdout",
     "output_type": "stream",
     "text": [
      "sampling end!. 2019-04-17 20:14:37.846963 2019-04-17 20:15:11.727720\n"
     ]
    },
    {
     "name": "stderr",
     "output_type": "stream",
     "text": [
      "[I 2019-04-17 20:15:12,747] Finished a trial resulted in value: -1.8914712169254413. Current best value is -2.112919647742172 with parameters: {'a': 0.4620099070520201, 'b': 0.5232808558065306, 'ab': [0.4620099070520201, 0.5232808558065306]}.\n"
     ]
    },
    {
     "name": "stdout",
     "output_type": "stream",
     "text": [
      "The set cost function is ignored! LCB acquisition does not make sense with cost.\n"
     ]
    },
    {
     "name": "stderr",
     "output_type": "stream",
     "text": [
      "reconstraining parameters GP_regression.Mat52\n",
      "reconstraining parameters GP_regression.Gaussian_noise.variance\n"
     ]
    },
    {
     "name": "stdout",
     "output_type": "stream",
     "text": [
      "sampling end!. 2019-04-17 20:15:12.749415 2019-04-17 20:15:45.860767\n"
     ]
    },
    {
     "name": "stderr",
     "output_type": "stream",
     "text": [
      "[I 2019-04-17 20:15:46,887] Finished a trial resulted in value: -1.848586959186472. Current best value is -2.112919647742172 with parameters: {'a': 0.4620099070520201, 'b': 0.5232808558065306, 'ab': [0.4620099070520201, 0.5232808558065306]}.\n"
     ]
    },
    {
     "name": "stdout",
     "output_type": "stream",
     "text": [
      "The set cost function is ignored! LCB acquisition does not make sense with cost.\n"
     ]
    },
    {
     "name": "stderr",
     "output_type": "stream",
     "text": [
      "reconstraining parameters GP_regression.Mat52\n",
      "reconstraining parameters GP_regression.Gaussian_noise.variance\n"
     ]
    },
    {
     "name": "stdout",
     "output_type": "stream",
     "text": [
      "sampling end!. 2019-04-17 20:15:46.889340 2019-04-17 20:16:21.189039\n"
     ]
    },
    {
     "name": "stderr",
     "output_type": "stream",
     "text": [
      "[I 2019-04-17 20:16:22,214] Finished a trial resulted in value: -1.8526410198448457. Current best value is -2.112919647742172 with parameters: {'a': 0.4620099070520201, 'b': 0.5232808558065306, 'ab': [0.4620099070520201, 0.5232808558065306]}.\n"
     ]
    },
    {
     "name": "stdout",
     "output_type": "stream",
     "text": [
      "The set cost function is ignored! LCB acquisition does not make sense with cost.\n"
     ]
    },
    {
     "name": "stderr",
     "output_type": "stream",
     "text": [
      "reconstraining parameters GP_regression.Mat52\n",
      "reconstraining parameters GP_regression.Gaussian_noise.variance\n"
     ]
    },
    {
     "name": "stdout",
     "output_type": "stream",
     "text": [
      "sampling end!. 2019-04-17 20:16:22.217350 2019-04-17 20:16:56.549242\n"
     ]
    },
    {
     "name": "stderr",
     "output_type": "stream",
     "text": [
      "[I 2019-04-17 20:16:57,568] Finished a trial resulted in value: -2.029654612776391. Current best value is -2.112919647742172 with parameters: {'a': 0.4620099070520201, 'b': 0.5232808558065306, 'ab': [0.4620099070520201, 0.5232808558065306]}.\n"
     ]
    },
    {
     "name": "stdout",
     "output_type": "stream",
     "text": [
      "The set cost function is ignored! LCB acquisition does not make sense with cost.\n"
     ]
    },
    {
     "name": "stderr",
     "output_type": "stream",
     "text": [
      "reconstraining parameters GP_regression.Mat52\n",
      "reconstraining parameters GP_regression.Gaussian_noise.variance\n"
     ]
    },
    {
     "name": "stdout",
     "output_type": "stream",
     "text": [
      "sampling end!. 2019-04-17 20:16:57.570814 2019-04-17 20:17:33.062569\n"
     ]
    },
    {
     "name": "stderr",
     "output_type": "stream",
     "text": [
      "[I 2019-04-17 20:17:34,084] Finished a trial resulted in value: -2.0509115912098053. Current best value is -2.112919647742172 with parameters: {'a': 0.4620099070520201, 'b': 0.5232808558065306, 'ab': [0.4620099070520201, 0.5232808558065306]}.\n"
     ]
    },
    {
     "name": "stdout",
     "output_type": "stream",
     "text": [
      "The set cost function is ignored! LCB acquisition does not make sense with cost.\n"
     ]
    },
    {
     "name": "stderr",
     "output_type": "stream",
     "text": [
      "reconstraining parameters GP_regression.Mat52\n",
      "reconstraining parameters GP_regression.Gaussian_noise.variance\n"
     ]
    },
    {
     "name": "stdout",
     "output_type": "stream",
     "text": [
      "sampling end!. 2019-04-17 20:17:34.086089 2019-04-17 20:18:09.890899\n"
     ]
    },
    {
     "name": "stderr",
     "output_type": "stream",
     "text": [
      "[I 2019-04-17 20:18:10,920] Finished a trial resulted in value: -2.001990527950953. Current best value is -2.112919647742172 with parameters: {'a': 0.4620099070520201, 'b': 0.5232808558065306, 'ab': [0.4620099070520201, 0.5232808558065306]}.\n"
     ]
    },
    {
     "name": "stdout",
     "output_type": "stream",
     "text": [
      "The set cost function is ignored! LCB acquisition does not make sense with cost.\n"
     ]
    },
    {
     "name": "stderr",
     "output_type": "stream",
     "text": [
      "reconstraining parameters GP_regression.Mat52\n",
      "reconstraining parameters GP_regression.Gaussian_noise.variance\n"
     ]
    },
    {
     "name": "stdout",
     "output_type": "stream",
     "text": [
      "sampling end!. 2019-04-17 20:18:10.933366 2019-04-17 20:18:44.774562\n"
     ]
    },
    {
     "name": "stderr",
     "output_type": "stream",
     "text": [
      "[I 2019-04-17 20:18:45,796] Finished a trial resulted in value: -1.9659852586269295. Current best value is -2.112919647742172 with parameters: {'a': 0.4620099070520201, 'b': 0.5232808558065306, 'ab': [0.4620099070520201, 0.5232808558065306]}.\n"
     ]
    },
    {
     "name": "stdout",
     "output_type": "stream",
     "text": [
      "The set cost function is ignored! LCB acquisition does not make sense with cost.\n"
     ]
    },
    {
     "name": "stderr",
     "output_type": "stream",
     "text": [
      "reconstraining parameters GP_regression.Mat52\n",
      "reconstraining parameters GP_regression.Gaussian_noise.variance\n"
     ]
    },
    {
     "name": "stdout",
     "output_type": "stream",
     "text": [
      "sampling end!. 2019-04-17 20:18:45.798787 2019-04-17 20:19:19.264102\n"
     ]
    },
    {
     "name": "stderr",
     "output_type": "stream",
     "text": [
      "[I 2019-04-17 20:19:20,282] Finished a trial resulted in value: -1.9989363060645604. Current best value is -2.112919647742172 with parameters: {'a': 0.4620099070520201, 'b': 0.5232808558065306, 'ab': [0.4620099070520201, 0.5232808558065306]}.\n"
     ]
    },
    {
     "name": "stdout",
     "output_type": "stream",
     "text": [
      "The set cost function is ignored! LCB acquisition does not make sense with cost.\n"
     ]
    },
    {
     "name": "stderr",
     "output_type": "stream",
     "text": [
      "reconstraining parameters GP_regression.Mat52\n",
      "reconstraining parameters GP_regression.Gaussian_noise.variance\n"
     ]
    },
    {
     "name": "stdout",
     "output_type": "stream",
     "text": [
      "sampling end!. 2019-04-17 20:19:20.284578 2019-04-17 20:19:57.267613\n"
     ]
    },
    {
     "name": "stderr",
     "output_type": "stream",
     "text": [
      "[I 2019-04-17 20:19:58,297] Finished a trial resulted in value: -2.0415078898556214. Current best value is -2.112919647742172 with parameters: {'a': 0.4620099070520201, 'b': 0.5232808558065306, 'ab': [0.4620099070520201, 0.5232808558065306]}.\n"
     ]
    },
    {
     "name": "stdout",
     "output_type": "stream",
     "text": [
      "The set cost function is ignored! LCB acquisition does not make sense with cost.\n"
     ]
    },
    {
     "name": "stderr",
     "output_type": "stream",
     "text": [
      "reconstraining parameters GP_regression.Mat52\n",
      "reconstraining parameters GP_regression.Gaussian_noise.variance\n"
     ]
    },
    {
     "name": "stdout",
     "output_type": "stream",
     "text": [
      "sampling end!. 2019-04-17 20:19:58.299980 2019-04-17 20:20:36.570389\n"
     ]
    },
    {
     "name": "stderr",
     "output_type": "stream",
     "text": [
      "[I 2019-04-17 20:20:37,592] Finished a trial resulted in value: -2.2578114321106337. Current best value is -2.2578114321106337 with parameters: {'a': 0.4470376416730559, 'b': 0.5381480698732047, 'ab': [0.4470376416730559, 0.5381480698732047]}.\n"
     ]
    },
    {
     "name": "stdout",
     "output_type": "stream",
     "text": [
      "The set cost function is ignored! LCB acquisition does not make sense with cost.\n"
     ]
    },
    {
     "name": "stderr",
     "output_type": "stream",
     "text": [
      "reconstraining parameters GP_regression.Mat52\n",
      "reconstraining parameters GP_regression.Gaussian_noise.variance\n"
     ]
    },
    {
     "name": "stdout",
     "output_type": "stream",
     "text": [
      "sampling end!. 2019-04-17 20:20:37.594774 2019-04-17 20:21:15.093990\n"
     ]
    },
    {
     "name": "stderr",
     "output_type": "stream",
     "text": [
      "[I 2019-04-17 20:21:16,112] Finished a trial resulted in value: -2.362603556590586. Current best value is -2.362603556590586 with parameters: {'a': 0.4381414154433419, 'b': 0.54673807050602, 'ab': [0.4381414154433419, 0.54673807050602]}.\n"
     ]
    },
    {
     "name": "stdout",
     "output_type": "stream",
     "text": [
      "The set cost function is ignored! LCB acquisition does not make sense with cost.\n"
     ]
    },
    {
     "name": "stderr",
     "output_type": "stream",
     "text": [
      "reconstraining parameters GP_regression.Mat52\n",
      "reconstraining parameters GP_regression.Gaussian_noise.variance\n"
     ]
    },
    {
     "name": "stdout",
     "output_type": "stream",
     "text": [
      "sampling end!. 2019-04-17 20:21:16.114892 2019-04-17 20:21:49.143359\n"
     ]
    },
    {
     "name": "stderr",
     "output_type": "stream",
     "text": [
      "[I 2019-04-17 20:21:50,172] Finished a trial resulted in value: -2.504579267307882. Current best value is -2.504579267307882 with parameters: {'a': 0.4340547461185713, 'b': 0.5525315145240505, 'ab': [0.4340547461185713, 0.5525315145240505]}.\n"
     ]
    },
    {
     "name": "stdout",
     "output_type": "stream",
     "text": [
      "The set cost function is ignored! LCB acquisition does not make sense with cost.\n"
     ]
    },
    {
     "name": "stderr",
     "output_type": "stream",
     "text": [
      "reconstraining parameters GP_regression.Mat52\n",
      "reconstraining parameters GP_regression.Gaussian_noise.variance\n"
     ]
    },
    {
     "name": "stdout",
     "output_type": "stream",
     "text": [
      "sampling end!. 2019-04-17 20:21:50.176185 2019-04-17 20:22:21.806630\n"
     ]
    },
    {
     "name": "stderr",
     "output_type": "stream",
     "text": [
      "[I 2019-04-17 20:22:22,826] Finished a trial resulted in value: -2.1585860824462597. Current best value is -2.504579267307882 with parameters: {'a': 0.4340547461185713, 'b': 0.5525315145240505, 'ab': [0.4340547461185713, 0.5525315145240505]}.\n"
     ]
    },
    {
     "name": "stdout",
     "output_type": "stream",
     "text": [
      "The set cost function is ignored! LCB acquisition does not make sense with cost.\n"
     ]
    },
    {
     "name": "stderr",
     "output_type": "stream",
     "text": [
      "reconstraining parameters GP_regression.Mat52\n",
      "reconstraining parameters GP_regression.Gaussian_noise.variance\n"
     ]
    },
    {
     "name": "stdout",
     "output_type": "stream",
     "text": [
      "sampling end!. 2019-04-17 20:22:22.828737 2019-04-17 20:22:58.718674\n"
     ]
    },
    {
     "name": "stderr",
     "output_type": "stream",
     "text": [
      "[I 2019-04-17 20:22:59,751] Finished a trial resulted in value: -2.3396138407716345. Current best value is -2.504579267307882 with parameters: {'a': 0.4340547461185713, 'b': 0.5525315145240505, 'ab': [0.4340547461185713, 0.5525315145240505]}.\n"
     ]
    },
    {
     "name": "stdout",
     "output_type": "stream",
     "text": [
      "The set cost function is ignored! LCB acquisition does not make sense with cost.\n"
     ]
    },
    {
     "name": "stderr",
     "output_type": "stream",
     "text": [
      "reconstraining parameters GP_regression.Mat52\n",
      "reconstraining parameters GP_regression.Gaussian_noise.variance\n"
     ]
    },
    {
     "name": "stdout",
     "output_type": "stream",
     "text": [
      "sampling end!. 2019-04-17 20:22:59.753409 2019-04-17 20:23:34.261604\n"
     ]
    },
    {
     "name": "stderr",
     "output_type": "stream",
     "text": [
      "[I 2019-04-17 20:23:35,281] Finished a trial resulted in value: -2.3486367833090114. Current best value is -2.504579267307882 with parameters: {'a': 0.4340547461185713, 'b': 0.5525315145240505, 'ab': [0.4340547461185713, 0.5525315145240505]}.\n"
     ]
    },
    {
     "name": "stdout",
     "output_type": "stream",
     "text": [
      "The set cost function is ignored! LCB acquisition does not make sense with cost.\n"
     ]
    },
    {
     "name": "stderr",
     "output_type": "stream",
     "text": [
      "reconstraining parameters GP_regression.Mat52\n",
      "reconstraining parameters GP_regression.Gaussian_noise.variance\n"
     ]
    },
    {
     "name": "stdout",
     "output_type": "stream",
     "text": [
      "sampling end!. 2019-04-17 20:23:35.283656 2019-04-17 20:24:11.493141\n"
     ]
    },
    {
     "name": "stderr",
     "output_type": "stream",
     "text": [
      "[I 2019-04-17 20:24:12,513] Finished a trial resulted in value: -2.157896689791384. Current best value is -2.504579267307882 with parameters: {'a': 0.4340547461185713, 'b': 0.5525315145240505, 'ab': [0.4340547461185713, 0.5525315145240505]}.\n"
     ]
    },
    {
     "name": "stdout",
     "output_type": "stream",
     "text": [
      "The set cost function is ignored! LCB acquisition does not make sense with cost.\n"
     ]
    },
    {
     "name": "stderr",
     "output_type": "stream",
     "text": [
      "reconstraining parameters GP_regression.Mat52\n",
      "reconstraining parameters GP_regression.Gaussian_noise.variance\n"
     ]
    },
    {
     "name": "stdout",
     "output_type": "stream",
     "text": [
      "sampling end!. 2019-04-17 20:24:12.515190 2019-04-17 20:24:48.067003\n"
     ]
    },
    {
     "name": "stderr",
     "output_type": "stream",
     "text": [
      "[I 2019-04-17 20:24:49,087] Finished a trial resulted in value: -2.185524021265328. Current best value is -2.504579267307882 with parameters: {'a': 0.4340547461185713, 'b': 0.5525315145240505, 'ab': [0.4340547461185713, 0.5525315145240505]}.\n"
     ]
    },
    {
     "name": "stdout",
     "output_type": "stream",
     "text": [
      "The set cost function is ignored! LCB acquisition does not make sense with cost.\n"
     ]
    },
    {
     "name": "stderr",
     "output_type": "stream",
     "text": [
      "reconstraining parameters GP_regression.Mat52\n",
      "reconstraining parameters GP_regression.Gaussian_noise.variance\n"
     ]
    },
    {
     "name": "stdout",
     "output_type": "stream",
     "text": [
      "sampling end!. 2019-04-17 20:24:49.089799 2019-04-17 20:25:23.886071\n"
     ]
    },
    {
     "name": "stderr",
     "output_type": "stream",
     "text": [
      "[I 2019-04-17 20:25:24,905] Finished a trial resulted in value: -2.288585002386253. Current best value is -2.504579267307882 with parameters: {'a': 0.4340547461185713, 'b': 0.5525315145240505, 'ab': [0.4340547461185713, 0.5525315145240505]}.\n"
     ]
    },
    {
     "name": "stdout",
     "output_type": "stream",
     "text": [
      "The set cost function is ignored! LCB acquisition does not make sense with cost.\n"
     ]
    },
    {
     "name": "stderr",
     "output_type": "stream",
     "text": [
      "reconstraining parameters GP_regression.Mat52\n",
      "reconstraining parameters GP_regression.Gaussian_noise.variance\n"
     ]
    },
    {
     "name": "stdout",
     "output_type": "stream",
     "text": [
      "sampling end!. 2019-04-17 20:25:24.907058 2019-04-17 20:26:01.356349\n"
     ]
    },
    {
     "name": "stderr",
     "output_type": "stream",
     "text": [
      "[I 2019-04-17 20:26:02,379] Finished a trial resulted in value: -2.2171910144654103. Current best value is -2.504579267307882 with parameters: {'a': 0.4340547461185713, 'b': 0.5525315145240505, 'ab': [0.4340547461185713, 0.5525315145240505]}.\n"
     ]
    },
    {
     "name": "stdout",
     "output_type": "stream",
     "text": [
      "The set cost function is ignored! LCB acquisition does not make sense with cost.\n"
     ]
    },
    {
     "name": "stderr",
     "output_type": "stream",
     "text": [
      "reconstraining parameters GP_regression.Mat52\n",
      "reconstraining parameters GP_regression.Gaussian_noise.variance\n"
     ]
    },
    {
     "name": "stdout",
     "output_type": "stream",
     "text": [
      "sampling end!. 2019-04-17 20:26:02.381574 2019-04-17 20:26:38.221577\n"
     ]
    },
    {
     "name": "stderr",
     "output_type": "stream",
     "text": [
      "[I 2019-04-17 20:26:39,241] Finished a trial resulted in value: -2.1127677202688813. Current best value is -2.504579267307882 with parameters: {'a': 0.4340547461185713, 'b': 0.5525315145240505, 'ab': [0.4340547461185713, 0.5525315145240505]}.\n"
     ]
    },
    {
     "name": "stdout",
     "output_type": "stream",
     "text": [
      "The set cost function is ignored! LCB acquisition does not make sense with cost.\n"
     ]
    },
    {
     "name": "stderr",
     "output_type": "stream",
     "text": [
      "reconstraining parameters GP_regression.Mat52\n",
      "reconstraining parameters GP_regression.Gaussian_noise.variance\n"
     ]
    },
    {
     "name": "stdout",
     "output_type": "stream",
     "text": [
      "sampling end!. 2019-04-17 20:26:39.243830 2019-04-17 20:27:19.519887\n"
     ]
    },
    {
     "name": "stderr",
     "output_type": "stream",
     "text": [
      "[I 2019-04-17 20:27:20,540] Finished a trial resulted in value: -2.231479409767548. Current best value is -2.504579267307882 with parameters: {'a': 0.4340547461185713, 'b': 0.5525315145240505, 'ab': [0.4340547461185713, 0.5525315145240505]}.\n"
     ]
    },
    {
     "name": "stdout",
     "output_type": "stream",
     "text": [
      "The set cost function is ignored! LCB acquisition does not make sense with cost.\n"
     ]
    },
    {
     "name": "stderr",
     "output_type": "stream",
     "text": [
      "reconstraining parameters GP_regression.Mat52\n",
      "reconstraining parameters GP_regression.Gaussian_noise.variance\n"
     ]
    },
    {
     "name": "stdout",
     "output_type": "stream",
     "text": [
      "sampling end!. 2019-04-17 20:27:20.542019 2019-04-17 20:27:58.128938\n"
     ]
    },
    {
     "name": "stderr",
     "output_type": "stream",
     "text": [
      "[I 2019-04-17 20:27:59,157] Finished a trial resulted in value: -2.2413994497386094. Current best value is -2.504579267307882 with parameters: {'a': 0.4340547461185713, 'b': 0.5525315145240505, 'ab': [0.4340547461185713, 0.5525315145240505]}.\n"
     ]
    },
    {
     "name": "stdout",
     "output_type": "stream",
     "text": [
      "The set cost function is ignored! LCB acquisition does not make sense with cost.\n"
     ]
    },
    {
     "name": "stderr",
     "output_type": "stream",
     "text": [
      "reconstraining parameters GP_regression.Mat52\n",
      "reconstraining parameters GP_regression.Gaussian_noise.variance\n"
     ]
    },
    {
     "name": "stdout",
     "output_type": "stream",
     "text": [
      "sampling end!. 2019-04-17 20:27:59.168608 2019-04-17 20:28:36.175399\n"
     ]
    },
    {
     "name": "stderr",
     "output_type": "stream",
     "text": [
      "[I 2019-04-17 20:28:37,199] Finished a trial resulted in value: -2.1631081366671525. Current best value is -2.504579267307882 with parameters: {'a': 0.4340547461185713, 'b': 0.5525315145240505, 'ab': [0.4340547461185713, 0.5525315145240505]}.\n"
     ]
    },
    {
     "name": "stdout",
     "output_type": "stream",
     "text": [
      "The set cost function is ignored! LCB acquisition does not make sense with cost.\n"
     ]
    },
    {
     "name": "stderr",
     "output_type": "stream",
     "text": [
      "reconstraining parameters GP_regression.Mat52\n",
      "reconstraining parameters GP_regression.Gaussian_noise.variance\n"
     ]
    },
    {
     "name": "stdout",
     "output_type": "stream",
     "text": [
      "sampling end!. 2019-04-17 20:28:37.202105 2019-04-17 20:29:16.129671\n"
     ]
    },
    {
     "name": "stderr",
     "output_type": "stream",
     "text": [
      "[I 2019-04-17 20:29:17,151] Finished a trial resulted in value: -1.9905884812778445. Current best value is -2.504579267307882 with parameters: {'a': 0.4340547461185713, 'b': 0.5525315145240505, 'ab': [0.4340547461185713, 0.5525315145240505]}.\n"
     ]
    },
    {
     "name": "stdout",
     "output_type": "stream",
     "text": [
      "The set cost function is ignored! LCB acquisition does not make sense with cost.\n"
     ]
    },
    {
     "name": "stderr",
     "output_type": "stream",
     "text": [
      "reconstraining parameters GP_regression.Mat52\n",
      "reconstraining parameters GP_regression.Gaussian_noise.variance\n"
     ]
    },
    {
     "name": "stdout",
     "output_type": "stream",
     "text": [
      "sampling end!. 2019-04-17 20:29:17.153730 2019-04-17 20:29:54.701561\n"
     ]
    },
    {
     "name": "stderr",
     "output_type": "stream",
     "text": [
      "[I 2019-04-17 20:29:55,723] Finished a trial resulted in value: -1.9187670998053068. Current best value is -2.504579267307882 with parameters: {'a': 0.4340547461185713, 'b': 0.5525315145240505, 'ab': [0.4340547461185713, 0.5525315145240505]}.\n"
     ]
    },
    {
     "name": "stdout",
     "output_type": "stream",
     "text": [
      "The set cost function is ignored! LCB acquisition does not make sense with cost.\n"
     ]
    },
    {
     "name": "stderr",
     "output_type": "stream",
     "text": [
      "reconstraining parameters GP_regression.Mat52\n",
      "reconstraining parameters GP_regression.Gaussian_noise.variance\n"
     ]
    },
    {
     "name": "stdout",
     "output_type": "stream",
     "text": [
      "sampling end!. 2019-04-17 20:29:55.725170 2019-04-17 20:30:34.824492\n"
     ]
    },
    {
     "name": "stderr",
     "output_type": "stream",
     "text": [
      "[I 2019-04-17 20:30:35,848] Finished a trial resulted in value: -1.8322781407146544. Current best value is -2.504579267307882 with parameters: {'a': 0.4340547461185713, 'b': 0.5525315145240505, 'ab': [0.4340547461185713, 0.5525315145240505]}.\n"
     ]
    },
    {
     "name": "stdout",
     "output_type": "stream",
     "text": [
      "The set cost function is ignored! LCB acquisition does not make sense with cost.\n"
     ]
    },
    {
     "name": "stderr",
     "output_type": "stream",
     "text": [
      "reconstraining parameters GP_regression.Mat52\n",
      "reconstraining parameters GP_regression.Gaussian_noise.variance\n"
     ]
    },
    {
     "name": "stdout",
     "output_type": "stream",
     "text": [
      "sampling end!. 2019-04-17 20:30:35.850310 2019-04-17 20:31:15.128046\n"
     ]
    },
    {
     "name": "stderr",
     "output_type": "stream",
     "text": [
      "[I 2019-04-17 20:31:16,156] Finished a trial resulted in value: -1.7528323322564434. Current best value is -2.504579267307882 with parameters: {'a': 0.4340547461185713, 'b': 0.5525315145240505, 'ab': [0.4340547461185713, 0.5525315145240505]}.\n"
     ]
    },
    {
     "name": "stdout",
     "output_type": "stream",
     "text": [
      "The set cost function is ignored! LCB acquisition does not make sense with cost.\n"
     ]
    },
    {
     "name": "stderr",
     "output_type": "stream",
     "text": [
      "reconstraining parameters GP_regression.Mat52\n",
      "reconstraining parameters GP_regression.Gaussian_noise.variance\n"
     ]
    },
    {
     "name": "stdout",
     "output_type": "stream",
     "text": [
      "sampling end!. 2019-04-17 20:31:16.160935 2019-04-17 20:31:52.645498\n"
     ]
    },
    {
     "name": "stderr",
     "output_type": "stream",
     "text": [
      "[I 2019-04-17 20:31:53,678] Finished a trial resulted in value: -1.7172246119277788. Current best value is -2.504579267307882 with parameters: {'a': 0.4340547461185713, 'b': 0.5525315145240505, 'ab': [0.4340547461185713, 0.5525315145240505]}.\n"
     ]
    },
    {
     "name": "stdout",
     "output_type": "stream",
     "text": [
      "The set cost function is ignored! LCB acquisition does not make sense with cost.\n"
     ]
    },
    {
     "name": "stderr",
     "output_type": "stream",
     "text": [
      "reconstraining parameters GP_regression.Mat52\n",
      "reconstraining parameters GP_regression.Gaussian_noise.variance\n"
     ]
    },
    {
     "name": "stdout",
     "output_type": "stream",
     "text": [
      "sampling end!. 2019-04-17 20:31:53.680697 2019-04-17 20:32:32.754466\n"
     ]
    },
    {
     "name": "stderr",
     "output_type": "stream",
     "text": [
      "[I 2019-04-17 20:32:33,776] Finished a trial resulted in value: -1.7631317017124752. Current best value is -2.504579267307882 with parameters: {'a': 0.4340547461185713, 'b': 0.5525315145240505, 'ab': [0.4340547461185713, 0.5525315145240505]}.\n"
     ]
    },
    {
     "name": "stdout",
     "output_type": "stream",
     "text": [
      "The set cost function is ignored! LCB acquisition does not make sense with cost.\n"
     ]
    },
    {
     "name": "stderr",
     "output_type": "stream",
     "text": [
      "reconstraining parameters GP_regression.Mat52\n",
      "reconstraining parameters GP_regression.Gaussian_noise.variance\n"
     ]
    },
    {
     "name": "stdout",
     "output_type": "stream",
     "text": [
      "sampling end!. 2019-04-17 20:32:33.778253 2019-04-17 20:33:18.038443\n"
     ]
    },
    {
     "name": "stderr",
     "output_type": "stream",
     "text": [
      "[I 2019-04-17 20:33:19,083] Finished a trial resulted in value: -1.6968675291718007. Current best value is -2.504579267307882 with parameters: {'a': 0.4340547461185713, 'b': 0.5525315145240505, 'ab': [0.4340547461185713, 0.5525315145240505]}.\n"
     ]
    },
    {
     "name": "stdout",
     "output_type": "stream",
     "text": [
      "The set cost function is ignored! LCB acquisition does not make sense with cost.\n"
     ]
    },
    {
     "name": "stderr",
     "output_type": "stream",
     "text": [
      "reconstraining parameters GP_regression.Mat52\n",
      "reconstraining parameters GP_regression.Gaussian_noise.variance\n"
     ]
    },
    {
     "name": "stdout",
     "output_type": "stream",
     "text": [
      "sampling end!. 2019-04-17 20:33:19.089584 2019-04-17 20:34:04.658390\n"
     ]
    },
    {
     "name": "stderr",
     "output_type": "stream",
     "text": [
      "[I 2019-04-17 20:34:05,686] Finished a trial resulted in value: -1.714151227650024. Current best value is -2.504579267307882 with parameters: {'a': 0.4340547461185713, 'b': 0.5525315145240505, 'ab': [0.4340547461185713, 0.5525315145240505]}.\n"
     ]
    },
    {
     "name": "stdout",
     "output_type": "stream",
     "text": [
      "The set cost function is ignored! LCB acquisition does not make sense with cost.\n"
     ]
    },
    {
     "name": "stderr",
     "output_type": "stream",
     "text": [
      "reconstraining parameters GP_regression.Mat52\n",
      "reconstraining parameters GP_regression.Gaussian_noise.variance\n"
     ]
    },
    {
     "name": "stdout",
     "output_type": "stream",
     "text": [
      "sampling end!. 2019-04-17 20:34:05.688288 2019-04-17 20:34:56.848625\n"
     ]
    },
    {
     "name": "stderr",
     "output_type": "stream",
     "text": [
      "[I 2019-04-17 20:34:57,870] Finished a trial resulted in value: -1.9447148099017884. Current best value is -2.504579267307882 with parameters: {'a': 0.4340547461185713, 'b': 0.5525315145240505, 'ab': [0.4340547461185713, 0.5525315145240505]}.\n"
     ]
    },
    {
     "name": "stdout",
     "output_type": "stream",
     "text": [
      "The set cost function is ignored! LCB acquisition does not make sense with cost.\n"
     ]
    },
    {
     "name": "stderr",
     "output_type": "stream",
     "text": [
      "reconstraining parameters GP_regression.Mat52\n",
      "reconstraining parameters GP_regression.Gaussian_noise.variance\n"
     ]
    },
    {
     "name": "stdout",
     "output_type": "stream",
     "text": [
      "sampling end!. 2019-04-17 20:34:57.872295 2019-04-17 20:35:38.512466\n"
     ]
    },
    {
     "name": "stderr",
     "output_type": "stream",
     "text": [
      "[I 2019-04-17 20:35:39,534] Finished a trial resulted in value: -1.508108794114316. Current best value is -2.504579267307882 with parameters: {'a': 0.4340547461185713, 'b': 0.5525315145240505, 'ab': [0.4340547461185713, 0.5525315145240505]}.\n"
     ]
    },
    {
     "name": "stdout",
     "output_type": "stream",
     "text": [
      "The set cost function is ignored! LCB acquisition does not make sense with cost.\n"
     ]
    },
    {
     "name": "stderr",
     "output_type": "stream",
     "text": [
      "reconstraining parameters GP_regression.Mat52\n",
      "reconstraining parameters GP_regression.Gaussian_noise.variance\n"
     ]
    },
    {
     "name": "stdout",
     "output_type": "stream",
     "text": [
      "sampling end!. 2019-04-17 20:35:39.535982 2019-04-17 20:36:22.809050\n"
     ]
    },
    {
     "name": "stderr",
     "output_type": "stream",
     "text": [
      "[I 2019-04-17 20:36:23,844] Finished a trial resulted in value: -1.6257032813437642. Current best value is -2.504579267307882 with parameters: {'a': 0.4340547461185713, 'b': 0.5525315145240505, 'ab': [0.4340547461185713, 0.5525315145240505]}.\n"
     ]
    },
    {
     "name": "stdout",
     "output_type": "stream",
     "text": [
      "The set cost function is ignored! LCB acquisition does not make sense with cost.\n"
     ]
    },
    {
     "name": "stderr",
     "output_type": "stream",
     "text": [
      "reconstraining parameters GP_regression.Mat52\n",
      "reconstraining parameters GP_regression.Gaussian_noise.variance\n"
     ]
    },
    {
     "name": "stdout",
     "output_type": "stream",
     "text": [
      "sampling end!. 2019-04-17 20:36:23.849437 2019-04-17 20:37:12.865281\n"
     ]
    },
    {
     "name": "stderr",
     "output_type": "stream",
     "text": [
      "[I 2019-04-17 20:37:13,907] Finished a trial resulted in value: -1.5000936724167566. Current best value is -2.504579267307882 with parameters: {'a': 0.4340547461185713, 'b': 0.5525315145240505, 'ab': [0.4340547461185713, 0.5525315145240505]}.\n"
     ]
    },
    {
     "name": "stdout",
     "output_type": "stream",
     "text": [
      "The set cost function is ignored! LCB acquisition does not make sense with cost.\n"
     ]
    },
    {
     "name": "stderr",
     "output_type": "stream",
     "text": [
      "reconstraining parameters GP_regression.Mat52\n",
      "reconstraining parameters GP_regression.Gaussian_noise.variance\n"
     ]
    },
    {
     "name": "stdout",
     "output_type": "stream",
     "text": [
      "sampling end!. 2019-04-17 20:37:13.912630 2019-04-17 20:38:01.213756\n"
     ]
    },
    {
     "name": "stderr",
     "output_type": "stream",
     "text": [
      "[I 2019-04-17 20:38:02,249] Finished a trial resulted in value: -1.4449107888293045. Current best value is -2.504579267307882 with parameters: {'a': 0.4340547461185713, 'b': 0.5525315145240505, 'ab': [0.4340547461185713, 0.5525315145240505]}.\n"
     ]
    },
    {
     "name": "stdout",
     "output_type": "stream",
     "text": [
      "The set cost function is ignored! LCB acquisition does not make sense with cost.\n"
     ]
    },
    {
     "name": "stderr",
     "output_type": "stream",
     "text": [
      "reconstraining parameters GP_regression.Mat52\n",
      "reconstraining parameters GP_regression.Gaussian_noise.variance\n"
     ]
    },
    {
     "name": "stdout",
     "output_type": "stream",
     "text": [
      "sampling end!. 2019-04-17 20:38:02.252334 2019-04-17 20:38:49.605537\n"
     ]
    },
    {
     "name": "stderr",
     "output_type": "stream",
     "text": [
      "[I 2019-04-17 20:38:50,646] Finished a trial resulted in value: -1.6113172937227787. Current best value is -2.504579267307882 with parameters: {'a': 0.4340547461185713, 'b': 0.5525315145240505, 'ab': [0.4340547461185713, 0.5525315145240505]}.\n"
     ]
    },
    {
     "name": "stdout",
     "output_type": "stream",
     "text": [
      "The set cost function is ignored! LCB acquisition does not make sense with cost.\n"
     ]
    },
    {
     "name": "stderr",
     "output_type": "stream",
     "text": [
      "reconstraining parameters GP_regression.Mat52\n",
      "reconstraining parameters GP_regression.Gaussian_noise.variance\n"
     ]
    },
    {
     "name": "stdout",
     "output_type": "stream",
     "text": [
      "sampling end!. 2019-04-17 20:38:50.649003 2019-04-17 20:39:37.901139\n"
     ]
    },
    {
     "name": "stderr",
     "output_type": "stream",
     "text": [
      "[I 2019-04-17 20:39:38,931] Finished a trial resulted in value: -1.3185667015748606. Current best value is -2.504579267307882 with parameters: {'a': 0.4340547461185713, 'b': 0.5525315145240505, 'ab': [0.4340547461185713, 0.5525315145240505]}.\n"
     ]
    },
    {
     "name": "stdout",
     "output_type": "stream",
     "text": [
      "The set cost function is ignored! LCB acquisition does not make sense with cost.\n"
     ]
    },
    {
     "name": "stderr",
     "output_type": "stream",
     "text": [
      "reconstraining parameters GP_regression.Mat52\n",
      "reconstraining parameters GP_regression.Gaussian_noise.variance\n"
     ]
    },
    {
     "name": "stdout",
     "output_type": "stream",
     "text": [
      "sampling end!. 2019-04-17 20:39:38.933802 2019-04-17 20:40:27.254782\n"
     ]
    },
    {
     "name": "stderr",
     "output_type": "stream",
     "text": [
      "[I 2019-04-17 20:40:28,291] Finished a trial resulted in value: -1.175680090750757. Current best value is -2.504579267307882 with parameters: {'a': 0.4340547461185713, 'b': 0.5525315145240505, 'ab': [0.4340547461185713, 0.5525315145240505]}.\n"
     ]
    },
    {
     "name": "stdout",
     "output_type": "stream",
     "text": [
      "The set cost function is ignored! LCB acquisition does not make sense with cost.\n"
     ]
    },
    {
     "name": "stderr",
     "output_type": "stream",
     "text": [
      "reconstraining parameters GP_regression.Mat52\n",
      "reconstraining parameters GP_regression.Gaussian_noise.variance\n"
     ]
    },
    {
     "name": "stdout",
     "output_type": "stream",
     "text": [
      "sampling end!. 2019-04-17 20:40:28.293378 2019-04-17 20:41:14.741645\n"
     ]
    },
    {
     "name": "stderr",
     "output_type": "stream",
     "text": [
      "[I 2019-04-17 20:41:15,776] Finished a trial resulted in value: -1.1719887205599113. Current best value is -2.504579267307882 with parameters: {'a': 0.4340547461185713, 'b': 0.5525315145240505, 'ab': [0.4340547461185713, 0.5525315145240505]}.\n"
     ]
    },
    {
     "name": "stdout",
     "output_type": "stream",
     "text": [
      "The set cost function is ignored! LCB acquisition does not make sense with cost.\n"
     ]
    },
    {
     "name": "stderr",
     "output_type": "stream",
     "text": [
      "reconstraining parameters GP_regression.Mat52\n",
      "reconstraining parameters GP_regression.Gaussian_noise.variance\n"
     ]
    },
    {
     "name": "stdout",
     "output_type": "stream",
     "text": [
      "sampling end!. 2019-04-17 20:41:15.778789 2019-04-17 20:42:04.446983\n"
     ]
    },
    {
     "name": "stderr",
     "output_type": "stream",
     "text": [
      "[I 2019-04-17 20:42:05,477] Finished a trial resulted in value: -0.7062761571959442. Current best value is -2.504579267307882 with parameters: {'a': 0.4340547461185713, 'b': 0.5525315145240505, 'ab': [0.4340547461185713, 0.5525315145240505]}.\n"
     ]
    },
    {
     "name": "stdout",
     "output_type": "stream",
     "text": [
      "The set cost function is ignored! LCB acquisition does not make sense with cost.\n"
     ]
    },
    {
     "name": "stderr",
     "output_type": "stream",
     "text": [
      "reconstraining parameters GP_regression.Mat52\n",
      "reconstraining parameters GP_regression.Gaussian_noise.variance\n"
     ]
    },
    {
     "name": "stdout",
     "output_type": "stream",
     "text": [
      "sampling end!. 2019-04-17 20:42:05.479292 2019-04-17 20:42:47.253864\n"
     ]
    },
    {
     "name": "stderr",
     "output_type": "stream",
     "text": [
      "[I 2019-04-17 20:42:48,287] Finished a trial resulted in value: -0.9240428367783022. Current best value is -2.504579267307882 with parameters: {'a': 0.4340547461185713, 'b': 0.5525315145240505, 'ab': [0.4340547461185713, 0.5525315145240505]}.\n"
     ]
    },
    {
     "name": "stdout",
     "output_type": "stream",
     "text": [
      "The set cost function is ignored! LCB acquisition does not make sense with cost.\n"
     ]
    },
    {
     "name": "stderr",
     "output_type": "stream",
     "text": [
      "reconstraining parameters GP_regression.Mat52\n",
      "reconstraining parameters GP_regression.Gaussian_noise.variance\n"
     ]
    },
    {
     "name": "stdout",
     "output_type": "stream",
     "text": [
      "sampling end!. 2019-04-17 20:42:48.289619 2019-04-17 20:43:30.424524\n"
     ]
    },
    {
     "name": "stderr",
     "output_type": "stream",
     "text": [
      "[I 2019-04-17 20:43:31,462] Finished a trial resulted in value: -1.0227464039583252. Current best value is -2.504579267307882 with parameters: {'a': 0.4340547461185713, 'b': 0.5525315145240505, 'ab': [0.4340547461185713, 0.5525315145240505]}.\n"
     ]
    },
    {
     "name": "stdout",
     "output_type": "stream",
     "text": [
      "The set cost function is ignored! LCB acquisition does not make sense with cost.\n"
     ]
    },
    {
     "name": "stderr",
     "output_type": "stream",
     "text": [
      "reconstraining parameters GP_regression.Mat52\n",
      "reconstraining parameters GP_regression.Gaussian_noise.variance\n"
     ]
    },
    {
     "name": "stdout",
     "output_type": "stream",
     "text": [
      "sampling end!. 2019-04-17 20:43:31.464289 2019-04-17 20:44:14.236294\n"
     ]
    },
    {
     "name": "stderr",
     "output_type": "stream",
     "text": [
      "[I 2019-04-17 20:44:15,270] Finished a trial resulted in value: -0.8851807089749536. Current best value is -2.504579267307882 with parameters: {'a': 0.4340547461185713, 'b': 0.5525315145240505, 'ab': [0.4340547461185713, 0.5525315145240505]}.\n"
     ]
    },
    {
     "name": "stdout",
     "output_type": "stream",
     "text": [
      "The set cost function is ignored! LCB acquisition does not make sense with cost.\n"
     ]
    },
    {
     "name": "stderr",
     "output_type": "stream",
     "text": [
      "reconstraining parameters GP_regression.Mat52\n",
      "reconstraining parameters GP_regression.Gaussian_noise.variance\n"
     ]
    },
    {
     "name": "stdout",
     "output_type": "stream",
     "text": [
      "sampling end!. 2019-04-17 20:44:15.272169 2019-04-17 20:45:00.368339\n"
     ]
    },
    {
     "name": "stderr",
     "output_type": "stream",
     "text": [
      "[I 2019-04-17 20:45:01,393] Finished a trial resulted in value: -1.1075858264869216. Current best value is -2.504579267307882 with parameters: {'a': 0.4340547461185713, 'b': 0.5525315145240505, 'ab': [0.4340547461185713, 0.5525315145240505]}.\n"
     ]
    },
    {
     "name": "stdout",
     "output_type": "stream",
     "text": [
      "The set cost function is ignored! LCB acquisition does not make sense with cost.\n"
     ]
    },
    {
     "name": "stderr",
     "output_type": "stream",
     "text": [
      "reconstraining parameters GP_regression.Mat52\n",
      "reconstraining parameters GP_regression.Gaussian_noise.variance\n"
     ]
    },
    {
     "name": "stdout",
     "output_type": "stream",
     "text": [
      "sampling end!. 2019-04-17 20:45:01.396064 2019-04-17 20:45:39.116954\n"
     ]
    },
    {
     "name": "stderr",
     "output_type": "stream",
     "text": [
      "[I 2019-04-17 20:45:40,140] Finished a trial resulted in value: -0.8798273750464712. Current best value is -2.504579267307882 with parameters: {'a': 0.4340547461185713, 'b': 0.5525315145240505, 'ab': [0.4340547461185713, 0.5525315145240505]}.\n"
     ]
    },
    {
     "name": "stdout",
     "output_type": "stream",
     "text": [
      "The set cost function is ignored! LCB acquisition does not make sense with cost.\n"
     ]
    },
    {
     "name": "stderr",
     "output_type": "stream",
     "text": [
      "reconstraining parameters GP_regression.Mat52\n",
      "reconstraining parameters GP_regression.Gaussian_noise.variance\n"
     ]
    },
    {
     "name": "stdout",
     "output_type": "stream",
     "text": [
      "sampling end!. 2019-04-17 20:45:40.142890 2019-04-17 20:46:21.264678\n"
     ]
    },
    {
     "name": "stderr",
     "output_type": "stream",
     "text": [
      "[I 2019-04-17 20:46:22,293] Finished a trial resulted in value: -0.9737626052124478. Current best value is -2.504579267307882 with parameters: {'a': 0.4340547461185713, 'b': 0.5525315145240505, 'ab': [0.4340547461185713, 0.5525315145240505]}.\n"
     ]
    },
    {
     "name": "stdout",
     "output_type": "stream",
     "text": [
      "The set cost function is ignored! LCB acquisition does not make sense with cost.\n"
     ]
    },
    {
     "name": "stderr",
     "output_type": "stream",
     "text": [
      "reconstraining parameters GP_regression.Mat52\n",
      "reconstraining parameters GP_regression.Gaussian_noise.variance\n"
     ]
    },
    {
     "name": "stdout",
     "output_type": "stream",
     "text": [
      "sampling end!. 2019-04-17 20:46:22.295523 2019-04-17 20:47:01.762810\n"
     ]
    },
    {
     "name": "stderr",
     "output_type": "stream",
     "text": [
      "[I 2019-04-17 20:47:02,786] Finished a trial resulted in value: -0.7910065869376741. Current best value is -2.504579267307882 with parameters: {'a': 0.4340547461185713, 'b': 0.5525315145240505, 'ab': [0.4340547461185713, 0.5525315145240505]}.\n"
     ]
    },
    {
     "name": "stdout",
     "output_type": "stream",
     "text": [
      "The set cost function is ignored! LCB acquisition does not make sense with cost.\n"
     ]
    },
    {
     "name": "stderr",
     "output_type": "stream",
     "text": [
      "reconstraining parameters GP_regression.Mat52\n",
      "reconstraining parameters GP_regression.Gaussian_noise.variance\n"
     ]
    },
    {
     "name": "stdout",
     "output_type": "stream",
     "text": [
      "sampling end!. 2019-04-17 20:47:02.788056 2019-04-17 20:47:47.533510\n"
     ]
    },
    {
     "name": "stderr",
     "output_type": "stream",
     "text": [
      "[I 2019-04-17 20:47:48,569] Finished a trial resulted in value: -1.0103003113887445. Current best value is -2.504579267307882 with parameters: {'a': 0.4340547461185713, 'b': 0.5525315145240505, 'ab': [0.4340547461185713, 0.5525315145240505]}.\n"
     ]
    },
    {
     "name": "stdout",
     "output_type": "stream",
     "text": [
      "The set cost function is ignored! LCB acquisition does not make sense with cost.\n"
     ]
    },
    {
     "name": "stderr",
     "output_type": "stream",
     "text": [
      "reconstraining parameters GP_regression.Mat52\n",
      "reconstraining parameters GP_regression.Gaussian_noise.variance\n"
     ]
    },
    {
     "name": "stdout",
     "output_type": "stream",
     "text": [
      "sampling end!. 2019-04-17 20:47:48.571443 2019-04-17 20:48:31.964815\n"
     ]
    },
    {
     "name": "stderr",
     "output_type": "stream",
     "text": [
      "[I 2019-04-17 20:48:32,989] Finished a trial resulted in value: -1.105289356562978. Current best value is -2.504579267307882 with parameters: {'a': 0.4340547461185713, 'b': 0.5525315145240505, 'ab': [0.4340547461185713, 0.5525315145240505]}.\n"
     ]
    },
    {
     "name": "stdout",
     "output_type": "stream",
     "text": [
      "The set cost function is ignored! LCB acquisition does not make sense with cost.\n"
     ]
    },
    {
     "name": "stderr",
     "output_type": "stream",
     "text": [
      "reconstraining parameters GP_regression.Mat52\n",
      "reconstraining parameters GP_regression.Gaussian_noise.variance\n"
     ]
    },
    {
     "name": "stdout",
     "output_type": "stream",
     "text": [
      "sampling end!. 2019-04-17 20:48:32.991051 2019-04-17 20:49:08.227997\n"
     ]
    },
    {
     "name": "stderr",
     "output_type": "stream",
     "text": [
      "[I 2019-04-17 20:49:18,264] Finished a trial resulted in value: -0.4616344008263357. Current best value is -2.504579267307882 with parameters: {'a': 0.4340547461185713, 'b': 0.5525315145240505, 'ab': [0.4340547461185713, 0.5525315145240505]}.\n"
     ]
    },
    {
     "name": "stdout",
     "output_type": "stream",
     "text": [
      "The set cost function is ignored! LCB acquisition does not make sense with cost.\n"
     ]
    },
    {
     "name": "stderr",
     "output_type": "stream",
     "text": [
      "reconstraining parameters GP_regression.Mat52\n",
      "reconstraining parameters GP_regression.Gaussian_noise.variance\n"
     ]
    },
    {
     "name": "stdout",
     "output_type": "stream",
     "text": [
      "sampling end!. 2019-04-17 20:49:18.266793 2019-04-17 20:50:05.881854\n"
     ]
    },
    {
     "name": "stderr",
     "output_type": "stream",
     "text": [
      "[I 2019-04-17 20:50:06,922] Finished a trial resulted in value: -1.0807562019200614. Current best value is -2.504579267307882 with parameters: {'a': 0.4340547461185713, 'b': 0.5525315145240505, 'ab': [0.4340547461185713, 0.5525315145240505]}.\n"
     ]
    },
    {
     "name": "stdout",
     "output_type": "stream",
     "text": [
      "The set cost function is ignored! LCB acquisition does not make sense with cost.\n"
     ]
    },
    {
     "name": "stderr",
     "output_type": "stream",
     "text": [
      "reconstraining parameters GP_regression.Mat52\n",
      "reconstraining parameters GP_regression.Gaussian_noise.variance\n"
     ]
    },
    {
     "name": "stdout",
     "output_type": "stream",
     "text": [
      "sampling end!. 2019-04-17 20:50:06.925557 2019-04-17 20:50:49.896619\n"
     ]
    },
    {
     "name": "stderr",
     "output_type": "stream",
     "text": [
      "[I 2019-04-17 20:50:50,921] Finished a trial resulted in value: -1.0235234998694733. Current best value is -2.504579267307882 with parameters: {'a': 0.4340547461185713, 'b': 0.5525315145240505, 'ab': [0.4340547461185713, 0.5525315145240505]}.\n"
     ]
    },
    {
     "name": "stdout",
     "output_type": "stream",
     "text": [
      "The set cost function is ignored! LCB acquisition does not make sense with cost.\n"
     ]
    },
    {
     "name": "stderr",
     "output_type": "stream",
     "text": [
      "reconstraining parameters GP_regression.Mat52\n",
      "reconstraining parameters GP_regression.Gaussian_noise.variance\n"
     ]
    },
    {
     "name": "stdout",
     "output_type": "stream",
     "text": [
      "sampling end!. 2019-04-17 20:50:50.923972 2019-04-17 20:51:38.090509\n"
     ]
    },
    {
     "name": "stderr",
     "output_type": "stream",
     "text": [
      "[I 2019-04-17 20:51:39,114] Finished a trial resulted in value: -0.9471196969654813. Current best value is -2.504579267307882 with parameters: {'a': 0.4340547461185713, 'b': 0.5525315145240505, 'ab': [0.4340547461185713, 0.5525315145240505]}.\n"
     ]
    },
    {
     "name": "stdout",
     "output_type": "stream",
     "text": [
      "The set cost function is ignored! LCB acquisition does not make sense with cost.\n"
     ]
    },
    {
     "name": "stderr",
     "output_type": "stream",
     "text": [
      "reconstraining parameters GP_regression.Mat52\n",
      "reconstraining parameters GP_regression.Gaussian_noise.variance\n"
     ]
    },
    {
     "name": "stdout",
     "output_type": "stream",
     "text": [
      "sampling end!. 2019-04-17 20:51:39.116107 2019-04-17 20:52:24.218032\n"
     ]
    },
    {
     "name": "stderr",
     "output_type": "stream",
     "text": [
      "[I 2019-04-17 20:52:25,251] Finished a trial resulted in value: -0.8160217787224359. Current best value is -2.504579267307882 with parameters: {'a': 0.4340547461185713, 'b': 0.5525315145240505, 'ab': [0.4340547461185713, 0.5525315145240505]}.\n"
     ]
    },
    {
     "name": "stdout",
     "output_type": "stream",
     "text": [
      "The set cost function is ignored! LCB acquisition does not make sense with cost.\n"
     ]
    },
    {
     "name": "stderr",
     "output_type": "stream",
     "text": [
      "reconstraining parameters GP_regression.Mat52\n",
      "reconstraining parameters GP_regression.Gaussian_noise.variance\n"
     ]
    },
    {
     "name": "stdout",
     "output_type": "stream",
     "text": [
      "sampling end!. 2019-04-17 20:52:25.253359 2019-04-17 20:53:09.133007\n"
     ]
    },
    {
     "name": "stderr",
     "output_type": "stream",
     "text": [
      "[I 2019-04-17 20:53:10,157] Finished a trial resulted in value: -0.8911891723436014. Current best value is -2.504579267307882 with parameters: {'a': 0.4340547461185713, 'b': 0.5525315145240505, 'ab': [0.4340547461185713, 0.5525315145240505]}.\n"
     ]
    },
    {
     "name": "stdout",
     "output_type": "stream",
     "text": [
      "The set cost function is ignored! LCB acquisition does not make sense with cost.\n"
     ]
    },
    {
     "name": "stderr",
     "output_type": "stream",
     "text": [
      "reconstraining parameters GP_regression.Mat52\n",
      "reconstraining parameters GP_regression.Gaussian_noise.variance\n"
     ]
    },
    {
     "name": "stdout",
     "output_type": "stream",
     "text": [
      "sampling end!. 2019-04-17 20:53:10.159434 2019-04-17 20:53:58.399173\n"
     ]
    },
    {
     "name": "stderr",
     "output_type": "stream",
     "text": [
      "[I 2019-04-17 20:53:59,804] Finished a trial resulted in value: -1.0759421208341924. Current best value is -2.504579267307882 with parameters: {'a': 0.4340547461185713, 'b': 0.5525315145240505, 'ab': [0.4340547461185713, 0.5525315145240505]}.\n"
     ]
    },
    {
     "name": "stdout",
     "output_type": "stream",
     "text": [
      "The set cost function is ignored! LCB acquisition does not make sense with cost.\n"
     ]
    },
    {
     "name": "stderr",
     "output_type": "stream",
     "text": [
      "reconstraining parameters GP_regression.Mat52\n",
      "reconstraining parameters GP_regression.Gaussian_noise.variance\n"
     ]
    },
    {
     "name": "stdout",
     "output_type": "stream",
     "text": [
      "sampling end!. 2019-04-17 20:53:59.806098 2019-04-17 20:54:53.422552\n"
     ]
    },
    {
     "name": "stderr",
     "output_type": "stream",
     "text": [
      "[I 2019-04-17 20:54:54,448] Finished a trial resulted in value: -0.6491705879443026. Current best value is -2.504579267307882 with parameters: {'a': 0.4340547461185713, 'b': 0.5525315145240505, 'ab': [0.4340547461185713, 0.5525315145240505]}.\n"
     ]
    },
    {
     "name": "stdout",
     "output_type": "stream",
     "text": [
      "The set cost function is ignored! LCB acquisition does not make sense with cost.\n"
     ]
    },
    {
     "name": "stderr",
     "output_type": "stream",
     "text": [
      "reconstraining parameters GP_regression.Mat52\n",
      "reconstraining parameters GP_regression.Gaussian_noise.variance\n"
     ]
    },
    {
     "name": "stdout",
     "output_type": "stream",
     "text": [
      "sampling end!. 2019-04-17 20:54:54.450587 2019-04-17 20:55:43.242539\n"
     ]
    },
    {
     "name": "stderr",
     "output_type": "stream",
     "text": [
      "[I 2019-04-17 20:55:44,271] Finished a trial resulted in value: -0.7032097213545359. Current best value is -2.504579267307882 with parameters: {'a': 0.4340547461185713, 'b': 0.5525315145240505, 'ab': [0.4340547461185713, 0.5525315145240505]}.\n"
     ]
    },
    {
     "name": "stdout",
     "output_type": "stream",
     "text": [
      "The set cost function is ignored! LCB acquisition does not make sense with cost.\n"
     ]
    },
    {
     "name": "stderr",
     "output_type": "stream",
     "text": [
      "reconstraining parameters GP_regression.Mat52\n",
      "reconstraining parameters GP_regression.Gaussian_noise.variance\n"
     ]
    },
    {
     "name": "stdout",
     "output_type": "stream",
     "text": [
      "sampling end!. 2019-04-17 20:55:44.274320 2019-04-17 20:56:33.953064\n"
     ]
    },
    {
     "name": "stderr",
     "output_type": "stream",
     "text": [
      "[I 2019-04-17 20:56:34,989] Finished a trial resulted in value: -0.9571608058547112. Current best value is -2.504579267307882 with parameters: {'a': 0.4340547461185713, 'b': 0.5525315145240505, 'ab': [0.4340547461185713, 0.5525315145240505]}.\n"
     ]
    },
    {
     "name": "stdout",
     "output_type": "stream",
     "text": [
      "The set cost function is ignored! LCB acquisition does not make sense with cost.\n"
     ]
    },
    {
     "name": "stderr",
     "output_type": "stream",
     "text": [
      "reconstraining parameters GP_regression.Mat52\n",
      "reconstraining parameters GP_regression.Gaussian_noise.variance\n"
     ]
    },
    {
     "name": "stdout",
     "output_type": "stream",
     "text": [
      "sampling end!. 2019-04-17 20:56:34.991873 2019-04-17 20:57:25.290388\n"
     ]
    },
    {
     "name": "stderr",
     "output_type": "stream",
     "text": [
      "[I 2019-04-17 20:57:26,314] Finished a trial resulted in value: -0.8969975058174001. Current best value is -2.504579267307882 with parameters: {'a': 0.4340547461185713, 'b': 0.5525315145240505, 'ab': [0.4340547461185713, 0.5525315145240505]}.\n"
     ]
    },
    {
     "name": "stdout",
     "output_type": "stream",
     "text": [
      "The set cost function is ignored! LCB acquisition does not make sense with cost.\n"
     ]
    },
    {
     "name": "stderr",
     "output_type": "stream",
     "text": [
      "reconstraining parameters GP_regression.Mat52\n",
      "reconstraining parameters GP_regression.Gaussian_noise.variance\n"
     ]
    },
    {
     "name": "stdout",
     "output_type": "stream",
     "text": [
      "sampling end!. 2019-04-17 20:57:26.316814 2019-04-17 20:58:27.949809\n"
     ]
    },
    {
     "name": "stderr",
     "output_type": "stream",
     "text": [
      "[I 2019-04-17 20:58:28,977] Finished a trial resulted in value: -1.0267367870926523. Current best value is -2.504579267307882 with parameters: {'a': 0.4340547461185713, 'b': 0.5525315145240505, 'ab': [0.4340547461185713, 0.5525315145240505]}.\n"
     ]
    },
    {
     "name": "stdout",
     "output_type": "stream",
     "text": [
      "The set cost function is ignored! LCB acquisition does not make sense with cost.\n"
     ]
    },
    {
     "name": "stderr",
     "output_type": "stream",
     "text": [
      "reconstraining parameters GP_regression.Mat52\n",
      "reconstraining parameters GP_regression.Gaussian_noise.variance\n"
     ]
    },
    {
     "name": "stdout",
     "output_type": "stream",
     "text": [
      "sampling end!. 2019-04-17 20:58:28.980232 2019-04-17 20:59:26.145926\n"
     ]
    },
    {
     "name": "stderr",
     "output_type": "stream",
     "text": [
      "[I 2019-04-17 20:59:27,190] Finished a trial resulted in value: -0.9916886054135048. Current best value is -2.504579267307882 with parameters: {'a': 0.4340547461185713, 'b': 0.5525315145240505, 'ab': [0.4340547461185713, 0.5525315145240505]}.\n"
     ]
    },
    {
     "name": "stdout",
     "output_type": "stream",
     "text": [
      "The set cost function is ignored! LCB acquisition does not make sense with cost.\n"
     ]
    },
    {
     "name": "stderr",
     "output_type": "stream",
     "text": [
      "reconstraining parameters GP_regression.Mat52\n",
      "reconstraining parameters GP_regression.Gaussian_noise.variance\n"
     ]
    },
    {
     "name": "stdout",
     "output_type": "stream",
     "text": [
      "sampling end!. 2019-04-17 20:59:27.192875 2019-04-17 21:00:29.732347\n"
     ]
    },
    {
     "name": "stderr",
     "output_type": "stream",
     "text": [
      "[I 2019-04-17 21:00:30,774] Finished a trial resulted in value: -0.9199309713413902. Current best value is -2.504579267307882 with parameters: {'a': 0.4340547461185713, 'b': 0.5525315145240505, 'ab': [0.4340547461185713, 0.5525315145240505]}.\n"
     ]
    },
    {
     "name": "stdout",
     "output_type": "stream",
     "text": [
      "The set cost function is ignored! LCB acquisition does not make sense with cost.\n"
     ]
    },
    {
     "name": "stderr",
     "output_type": "stream",
     "text": [
      "reconstraining parameters GP_regression.Mat52\n",
      "reconstraining parameters GP_regression.Gaussian_noise.variance\n"
     ]
    },
    {
     "name": "stdout",
     "output_type": "stream",
     "text": [
      "sampling end!. 2019-04-17 21:00:30.776821 2019-04-17 21:01:31.670303\n"
     ]
    },
    {
     "name": "stderr",
     "output_type": "stream",
     "text": [
      "[I 2019-04-17 21:01:32,711] Finished a trial resulted in value: -1.102266570810551. Current best value is -2.504579267307882 with parameters: {'a': 0.4340547461185713, 'b': 0.5525315145240505, 'ab': [0.4340547461185713, 0.5525315145240505]}.\n"
     ]
    },
    {
     "name": "stdout",
     "output_type": "stream",
     "text": [
      "The set cost function is ignored! LCB acquisition does not make sense with cost.\n"
     ]
    },
    {
     "name": "stderr",
     "output_type": "stream",
     "text": [
      "reconstraining parameters GP_regression.Mat52\n",
      "reconstraining parameters GP_regression.Gaussian_noise.variance\n"
     ]
    },
    {
     "name": "stdout",
     "output_type": "stream",
     "text": [
      "sampling end!. 2019-04-17 21:01:32.714597 2019-04-17 21:02:41.066456\n"
     ]
    },
    {
     "name": "stderr",
     "output_type": "stream",
     "text": [
      "[I 2019-04-17 21:02:42,106] Finished a trial resulted in value: -1.0604979858007246. Current best value is -2.504579267307882 with parameters: {'a': 0.4340547461185713, 'b': 0.5525315145240505, 'ab': [0.4340547461185713, 0.5525315145240505]}.\n"
     ]
    },
    {
     "name": "stdout",
     "output_type": "stream",
     "text": [
      "The set cost function is ignored! LCB acquisition does not make sense with cost.\n"
     ]
    },
    {
     "name": "stderr",
     "output_type": "stream",
     "text": [
      "reconstraining parameters GP_regression.Mat52\n",
      "reconstraining parameters GP_regression.Gaussian_noise.variance\n"
     ]
    },
    {
     "name": "stdout",
     "output_type": "stream",
     "text": [
      "sampling end!. 2019-04-17 21:02:42.108872 2019-04-17 21:04:06.644116\n"
     ]
    },
    {
     "name": "stderr",
     "output_type": "stream",
     "text": [
      "[I 2019-04-17 21:04:07,686] Finished a trial resulted in value: -1.091287284966002. Current best value is -2.504579267307882 with parameters: {'a': 0.4340547461185713, 'b': 0.5525315145240505, 'ab': [0.4340547461185713, 0.5525315145240505]}.\n"
     ]
    },
    {
     "name": "stdout",
     "output_type": "stream",
     "text": [
      "The set cost function is ignored! LCB acquisition does not make sense with cost.\n"
     ]
    },
    {
     "name": "stderr",
     "output_type": "stream",
     "text": [
      "reconstraining parameters GP_regression.Mat52\n",
      "reconstraining parameters GP_regression.Gaussian_noise.variance\n"
     ]
    },
    {
     "name": "stdout",
     "output_type": "stream",
     "text": [
      "sampling end!. 2019-04-17 21:04:07.688277 2019-04-17 21:05:51.718045\n"
     ]
    },
    {
     "name": "stderr",
     "output_type": "stream",
     "text": [
      "[I 2019-04-17 21:05:52,752] Finished a trial resulted in value: -1.2034935801612257. Current best value is -2.504579267307882 with parameters: {'a': 0.4340547461185713, 'b': 0.5525315145240505, 'ab': [0.4340547461185713, 0.5525315145240505]}.\n"
     ]
    },
    {
     "name": "stdout",
     "output_type": "stream",
     "text": [
      "The set cost function is ignored! LCB acquisition does not make sense with cost.\n"
     ]
    },
    {
     "name": "stderr",
     "output_type": "stream",
     "text": [
      "reconstraining parameters GP_regression.Mat52\n",
      "reconstraining parameters GP_regression.Gaussian_noise.variance\n"
     ]
    },
    {
     "name": "stdout",
     "output_type": "stream",
     "text": [
      "sampling end!. 2019-04-17 21:05:52.754731 2019-04-17 21:08:10.643838\n"
     ]
    },
    {
     "name": "stderr",
     "output_type": "stream",
     "text": [
      "[I 2019-04-17 21:08:11,690] Finished a trial resulted in value: -0.8905350321849137. Current best value is -2.504579267307882 with parameters: {'a': 0.4340547461185713, 'b': 0.5525315145240505, 'ab': [0.4340547461185713, 0.5525315145240505]}.\n"
     ]
    },
    {
     "name": "stdout",
     "output_type": "stream",
     "text": [
      "The set cost function is ignored! LCB acquisition does not make sense with cost.\n"
     ]
    },
    {
     "name": "stderr",
     "output_type": "stream",
     "text": [
      "reconstraining parameters GP_regression.Mat52\n",
      "reconstraining parameters GP_regression.Gaussian_noise.variance\n"
     ]
    },
    {
     "name": "stdout",
     "output_type": "stream",
     "text": [
      "sampling end!. 2019-04-17 21:08:11.693195 2019-04-17 21:09:53.502502\n"
     ]
    },
    {
     "name": "stderr",
     "output_type": "stream",
     "text": [
      "[I 2019-04-17 21:09:54,551] Finished a trial resulted in value: -0.9640343097782066. Current best value is -2.504579267307882 with parameters: {'a': 0.4340547461185713, 'b': 0.5525315145240505, 'ab': [0.4340547461185713, 0.5525315145240505]}.\n"
     ]
    },
    {
     "name": "stdout",
     "output_type": "stream",
     "text": [
      "The set cost function is ignored! LCB acquisition does not make sense with cost.\n"
     ]
    },
    {
     "name": "stderr",
     "output_type": "stream",
     "text": [
      "reconstraining parameters GP_regression.Mat52\n",
      "reconstraining parameters GP_regression.Gaussian_noise.variance\n"
     ]
    },
    {
     "name": "stdout",
     "output_type": "stream",
     "text": [
      "sampling end!. 2019-04-17 21:09:54.554464 2019-04-17 21:11:23.369292\n"
     ]
    },
    {
     "name": "stderr",
     "output_type": "stream",
     "text": [
      "[I 2019-04-17 21:11:24,414] Finished a trial resulted in value: -0.9813735406723004. Current best value is -2.504579267307882 with parameters: {'a': 0.4340547461185713, 'b': 0.5525315145240505, 'ab': [0.4340547461185713, 0.5525315145240505]}.\n"
     ]
    },
    {
     "name": "stdout",
     "output_type": "stream",
     "text": [
      "The set cost function is ignored! LCB acquisition does not make sense with cost.\n"
     ]
    },
    {
     "name": "stderr",
     "output_type": "stream",
     "text": [
      "reconstraining parameters GP_regression.Mat52\n",
      "reconstraining parameters GP_regression.Gaussian_noise.variance\n"
     ]
    },
    {
     "name": "stdout",
     "output_type": "stream",
     "text": [
      "sampling end!. 2019-04-17 21:11:24.417045 2019-04-17 21:12:53.407442\n"
     ]
    },
    {
     "name": "stderr",
     "output_type": "stream",
     "text": [
      "[I 2019-04-17 21:12:54,448] Finished a trial resulted in value: -0.9709400636050274. Current best value is -2.504579267307882 with parameters: {'a': 0.4340547461185713, 'b': 0.5525315145240505, 'ab': [0.4340547461185713, 0.5525315145240505]}.\n"
     ]
    },
    {
     "name": "stdout",
     "output_type": "stream",
     "text": [
      "The set cost function is ignored! LCB acquisition does not make sense with cost.\n"
     ]
    },
    {
     "name": "stderr",
     "output_type": "stream",
     "text": [
      "reconstraining parameters GP_regression.Mat52\n",
      "reconstraining parameters GP_regression.Gaussian_noise.variance\n"
     ]
    },
    {
     "name": "stdout",
     "output_type": "stream",
     "text": [
      "sampling end!. 2019-04-17 21:12:54.450818 2019-04-17 21:14:41.279631\n"
     ]
    },
    {
     "name": "stderr",
     "output_type": "stream",
     "text": [
      "[I 2019-04-17 21:14:42,323] Finished a trial resulted in value: -0.8158227847802278. Current best value is -2.504579267307882 with parameters: {'a': 0.4340547461185713, 'b': 0.5525315145240505, 'ab': [0.4340547461185713, 0.5525315145240505]}.\n"
     ]
    },
    {
     "name": "stdout",
     "output_type": "stream",
     "text": [
      "The set cost function is ignored! LCB acquisition does not make sense with cost.\n"
     ]
    },
    {
     "name": "stderr",
     "output_type": "stream",
     "text": [
      "reconstraining parameters GP_regression.Mat52\n",
      "reconstraining parameters GP_regression.Gaussian_noise.variance\n"
     ]
    },
    {
     "name": "stdout",
     "output_type": "stream",
     "text": [
      "sampling end!. 2019-04-17 21:14:42.325697 2019-04-17 21:16:08.673931\n"
     ]
    },
    {
     "name": "stderr",
     "output_type": "stream",
     "text": [
      "[I 2019-04-17 21:16:09,719] Finished a trial resulted in value: -0.9582357284394019. Current best value is -2.504579267307882 with parameters: {'a': 0.4340547461185713, 'b': 0.5525315145240505, 'ab': [0.4340547461185713, 0.5525315145240505]}.\n"
     ]
    },
    {
     "name": "stdout",
     "output_type": "stream",
     "text": [
      "The set cost function is ignored! LCB acquisition does not make sense with cost.\n"
     ]
    },
    {
     "name": "stderr",
     "output_type": "stream",
     "text": [
      "reconstraining parameters GP_regression.Mat52\n",
      "reconstraining parameters GP_regression.Gaussian_noise.variance\n"
     ]
    },
    {
     "name": "stdout",
     "output_type": "stream",
     "text": [
      "sampling end!. 2019-04-17 21:16:09.722286 2019-04-17 21:17:40.027638\n"
     ]
    },
    {
     "name": "stderr",
     "output_type": "stream",
     "text": [
      "[I 2019-04-17 21:17:41,101] Finished a trial resulted in value: -1.0551206988717223. Current best value is -2.504579267307882 with parameters: {'a': 0.4340547461185713, 'b': 0.5525315145240505, 'ab': [0.4340547461185713, 0.5525315145240505]}.\n"
     ]
    },
    {
     "name": "stdout",
     "output_type": "stream",
     "text": [
      "The set cost function is ignored! LCB acquisition does not make sense with cost.\n"
     ]
    },
    {
     "name": "stderr",
     "output_type": "stream",
     "text": [
      "reconstraining parameters GP_regression.Mat52\n",
      "reconstraining parameters GP_regression.Gaussian_noise.variance\n"
     ]
    },
    {
     "name": "stdout",
     "output_type": "stream",
     "text": [
      "sampling end!. 2019-04-17 21:17:41.106852 2019-04-17 21:19:04.537127\n"
     ]
    },
    {
     "name": "stderr",
     "output_type": "stream",
     "text": [
      "[I 2019-04-17 21:19:05,587] Finished a trial resulted in value: -0.9575419734255279. Current best value is -2.504579267307882 with parameters: {'a': 0.4340547461185713, 'b': 0.5525315145240505, 'ab': [0.4340547461185713, 0.5525315145240505]}.\n"
     ]
    },
    {
     "name": "stdout",
     "output_type": "stream",
     "text": [
      "The set cost function is ignored! LCB acquisition does not make sense with cost.\n"
     ]
    },
    {
     "name": "stderr",
     "output_type": "stream",
     "text": [
      "reconstraining parameters GP_regression.Mat52\n",
      "reconstraining parameters GP_regression.Gaussian_noise.variance\n"
     ]
    },
    {
     "name": "stdout",
     "output_type": "stream",
     "text": [
      "sampling end!. 2019-04-17 21:19:05.589742 2019-04-17 21:21:13.492302\n"
     ]
    },
    {
     "name": "stderr",
     "output_type": "stream",
     "text": [
      "[I 2019-04-17 21:21:14,548] Finished a trial resulted in value: -0.7589831986205867. Current best value is -2.504579267307882 with parameters: {'a': 0.4340547461185713, 'b': 0.5525315145240505, 'ab': [0.4340547461185713, 0.5525315145240505]}.\n"
     ]
    },
    {
     "name": "stdout",
     "output_type": "stream",
     "text": [
      "The set cost function is ignored! LCB acquisition does not make sense with cost.\n"
     ]
    },
    {
     "name": "stderr",
     "output_type": "stream",
     "text": [
      "reconstraining parameters GP_regression.Mat52\n",
      "reconstraining parameters GP_regression.Gaussian_noise.variance\n"
     ]
    },
    {
     "name": "stdout",
     "output_type": "stream",
     "text": [
      "sampling end!. 2019-04-17 21:21:14.550995 2019-04-17 21:23:01.901131\n"
     ]
    },
    {
     "name": "stderr",
     "output_type": "stream",
     "text": [
      "[I 2019-04-17 21:23:02,950] Finished a trial resulted in value: -0.9431399593922019. Current best value is -2.504579267307882 with parameters: {'a': 0.4340547461185713, 'b': 0.5525315145240505, 'ab': [0.4340547461185713, 0.5525315145240505]}.\n"
     ]
    },
    {
     "name": "stdout",
     "output_type": "stream",
     "text": [
      "The set cost function is ignored! LCB acquisition does not make sense with cost.\n"
     ]
    },
    {
     "name": "stderr",
     "output_type": "stream",
     "text": [
      "reconstraining parameters GP_regression.Mat52\n",
      "reconstraining parameters GP_regression.Gaussian_noise.variance\n"
     ]
    },
    {
     "name": "stdout",
     "output_type": "stream",
     "text": [
      "sampling end!. 2019-04-17 21:23:02.953302 2019-04-17 21:24:36.239894\n"
     ]
    },
    {
     "name": "stderr",
     "output_type": "stream",
     "text": [
      "[I 2019-04-17 21:24:37,287] Finished a trial resulted in value: -0.9693245843673781. Current best value is -2.504579267307882 with parameters: {'a': 0.4340547461185713, 'b': 0.5525315145240505, 'ab': [0.4340547461185713, 0.5525315145240505]}.\n"
     ]
    },
    {
     "name": "stdout",
     "output_type": "stream",
     "text": [
      "The set cost function is ignored! LCB acquisition does not make sense with cost.\n"
     ]
    },
    {
     "name": "stderr",
     "output_type": "stream",
     "text": [
      "reconstraining parameters GP_regression.Mat52\n",
      "reconstraining parameters GP_regression.Gaussian_noise.variance\n"
     ]
    },
    {
     "name": "stdout",
     "output_type": "stream",
     "text": [
      "sampling end!. 2019-04-17 21:24:37.289807 2019-04-17 21:26:36.295600\n"
     ]
    },
    {
     "name": "stderr",
     "output_type": "stream",
     "text": [
      "[I 2019-04-17 21:26:37,345] Finished a trial resulted in value: -0.7075804223899492. Current best value is -2.504579267307882 with parameters: {'a': 0.4340547461185713, 'b': 0.5525315145240505, 'ab': [0.4340547461185713, 0.5525315145240505]}.\n"
     ]
    },
    {
     "name": "stdout",
     "output_type": "stream",
     "text": [
      "The set cost function is ignored! LCB acquisition does not make sense with cost.\n"
     ]
    },
    {
     "name": "stderr",
     "output_type": "stream",
     "text": [
      "reconstraining parameters GP_regression.Mat52\n",
      "reconstraining parameters GP_regression.Gaussian_noise.variance\n"
     ]
    },
    {
     "name": "stdout",
     "output_type": "stream",
     "text": [
      "sampling end!. 2019-04-17 21:26:37.348695 2019-04-17 21:28:50.059152\n"
     ]
    },
    {
     "name": "stderr",
     "output_type": "stream",
     "text": [
      "[I 2019-04-17 21:28:51,097] Finished a trial resulted in value: -0.8028191197647099. Current best value is -2.504579267307882 with parameters: {'a': 0.4340547461185713, 'b': 0.5525315145240505, 'ab': [0.4340547461185713, 0.5525315145240505]}.\n"
     ]
    },
    {
     "name": "stdout",
     "output_type": "stream",
     "text": [
      "The set cost function is ignored! LCB acquisition does not make sense with cost.\n"
     ]
    },
    {
     "name": "stderr",
     "output_type": "stream",
     "text": [
      "reconstraining parameters GP_regression.Mat52\n",
      "reconstraining parameters GP_regression.Gaussian_noise.variance\n"
     ]
    },
    {
     "name": "stdout",
     "output_type": "stream",
     "text": [
      "sampling end!. 2019-04-17 21:28:51.100071 2019-04-17 21:30:59.378528\n"
     ]
    },
    {
     "name": "stderr",
     "output_type": "stream",
     "text": [
      "[I 2019-04-17 21:31:00,430] Finished a trial resulted in value: -0.8027277601243995. Current best value is -2.504579267307882 with parameters: {'a': 0.4340547461185713, 'b': 0.5525315145240505, 'ab': [0.4340547461185713, 0.5525315145240505]}.\n"
     ]
    },
    {
     "name": "stdout",
     "output_type": "stream",
     "text": [
      "The set cost function is ignored! LCB acquisition does not make sense with cost.\n"
     ]
    },
    {
     "name": "stderr",
     "output_type": "stream",
     "text": [
      "reconstraining parameters GP_regression.Mat52\n",
      "reconstraining parameters GP_regression.Gaussian_noise.variance\n"
     ]
    },
    {
     "name": "stdout",
     "output_type": "stream",
     "text": [
      "sampling end!. 2019-04-17 21:31:00.432371 2019-04-17 21:33:16.568425\n"
     ]
    },
    {
     "name": "stderr",
     "output_type": "stream",
     "text": [
      "[I 2019-04-17 21:33:17,615] Finished a trial resulted in value: -0.597808132836742. Current best value is -2.504579267307882 with parameters: {'a': 0.4340547461185713, 'b': 0.5525315145240505, 'ab': [0.4340547461185713, 0.5525315145240505]}.\n"
     ]
    },
    {
     "name": "stdout",
     "output_type": "stream",
     "text": [
      "The set cost function is ignored! LCB acquisition does not make sense with cost.\n"
     ]
    },
    {
     "name": "stderr",
     "output_type": "stream",
     "text": [
      "reconstraining parameters GP_regression.Mat52\n",
      "reconstraining parameters GP_regression.Gaussian_noise.variance\n"
     ]
    },
    {
     "name": "stdout",
     "output_type": "stream",
     "text": [
      "sampling end!. 2019-04-17 21:33:17.618235 2019-04-17 21:35:28.970833\n"
     ]
    },
    {
     "name": "stderr",
     "output_type": "stream",
     "text": [
      "[I 2019-04-17 21:35:30,021] Finished a trial resulted in value: -0.8949276525242665. Current best value is -2.504579267307882 with parameters: {'a': 0.4340547461185713, 'b': 0.5525315145240505, 'ab': [0.4340547461185713, 0.5525315145240505]}.\n"
     ]
    },
    {
     "name": "stdout",
     "output_type": "stream",
     "text": [
      "The set cost function is ignored! LCB acquisition does not make sense with cost.\n"
     ]
    },
    {
     "name": "stderr",
     "output_type": "stream",
     "text": [
      "reconstraining parameters GP_regression.Mat52\n",
      "reconstraining parameters GP_regression.Gaussian_noise.variance\n"
     ]
    },
    {
     "name": "stdout",
     "output_type": "stream",
     "text": [
      "sampling end!. 2019-04-17 21:35:30.025495 2019-04-17 21:37:30.552486\n"
     ]
    },
    {
     "name": "stderr",
     "output_type": "stream",
     "text": [
      "[I 2019-04-17 21:37:31,606] Finished a trial resulted in value: -0.5938535984723713. Current best value is -2.504579267307882 with parameters: {'a': 0.4340547461185713, 'b': 0.5525315145240505, 'ab': [0.4340547461185713, 0.5525315145240505]}.\n"
     ]
    },
    {
     "name": "stdout",
     "output_type": "stream",
     "text": [
      "The set cost function is ignored! LCB acquisition does not make sense with cost.\n"
     ]
    },
    {
     "name": "stderr",
     "output_type": "stream",
     "text": [
      "reconstraining parameters GP_regression.Mat52\n",
      "reconstraining parameters GP_regression.Gaussian_noise.variance\n"
     ]
    },
    {
     "name": "stdout",
     "output_type": "stream",
     "text": [
      "sampling end!. 2019-04-17 21:37:31.609522 2019-04-17 21:39:09.966588\n"
     ]
    },
    {
     "name": "stderr",
     "output_type": "stream",
     "text": [
      "[I 2019-04-17 21:39:11,015] Finished a trial resulted in value: -0.5892200367966556. Current best value is -2.504579267307882 with parameters: {'a': 0.4340547461185713, 'b': 0.5525315145240505, 'ab': [0.4340547461185713, 0.5525315145240505]}.\n"
     ]
    },
    {
     "name": "stdout",
     "output_type": "stream",
     "text": [
      "The set cost function is ignored! LCB acquisition does not make sense with cost.\n"
     ]
    },
    {
     "name": "stderr",
     "output_type": "stream",
     "text": [
      "reconstraining parameters GP_regression.Mat52\n",
      "reconstraining parameters GP_regression.Gaussian_noise.variance\n"
     ]
    },
    {
     "name": "stdout",
     "output_type": "stream",
     "text": [
      "sampling end!. 2019-04-17 21:39:11.017700 2019-04-17 21:40:51.572440\n"
     ]
    },
    {
     "name": "stderr",
     "output_type": "stream",
     "text": [
      "[I 2019-04-17 21:40:52,625] Finished a trial resulted in value: -0.7235901168748486. Current best value is -2.504579267307882 with parameters: {'a': 0.4340547461185713, 'b': 0.5525315145240505, 'ab': [0.4340547461185713, 0.5525315145240505]}.\n"
     ]
    },
    {
     "name": "stdout",
     "output_type": "stream",
     "text": [
      "The set cost function is ignored! LCB acquisition does not make sense with cost.\n"
     ]
    },
    {
     "name": "stderr",
     "output_type": "stream",
     "text": [
      "reconstraining parameters GP_regression.Mat52\n",
      "reconstraining parameters GP_regression.Gaussian_noise.variance\n"
     ]
    },
    {
     "name": "stdout",
     "output_type": "stream",
     "text": [
      "sampling end!. 2019-04-17 21:40:52.627936 2019-04-17 21:42:44.026845\n"
     ]
    },
    {
     "name": "stderr",
     "output_type": "stream",
     "text": [
      "[I 2019-04-17 21:42:45,074] Finished a trial resulted in value: -0.45062288643564774. Current best value is -2.504579267307882 with parameters: {'a': 0.4340547461185713, 'b': 0.5525315145240505, 'ab': [0.4340547461185713, 0.5525315145240505]}.\n"
     ]
    },
    {
     "name": "stdout",
     "output_type": "stream",
     "text": [
      "The set cost function is ignored! LCB acquisition does not make sense with cost.\n"
     ]
    },
    {
     "name": "stderr",
     "output_type": "stream",
     "text": [
      "reconstraining parameters GP_regression.Mat52\n",
      "reconstraining parameters GP_regression.Gaussian_noise.variance\n"
     ]
    },
    {
     "name": "stdout",
     "output_type": "stream",
     "text": [
      "sampling end!. 2019-04-17 21:42:45.076879 2019-04-17 21:44:26.868369\n"
     ]
    },
    {
     "name": "stderr",
     "output_type": "stream",
     "text": [
      "[I 2019-04-17 21:44:27,922] Finished a trial resulted in value: -0.6338855450104246. Current best value is -2.504579267307882 with parameters: {'a': 0.4340547461185713, 'b': 0.5525315145240505, 'ab': [0.4340547461185713, 0.5525315145240505]}.\n"
     ]
    },
    {
     "name": "stdout",
     "output_type": "stream",
     "text": [
      "The set cost function is ignored! LCB acquisition does not make sense with cost.\n"
     ]
    },
    {
     "name": "stderr",
     "output_type": "stream",
     "text": [
      "reconstraining parameters GP_regression.Mat52\n",
      "reconstraining parameters GP_regression.Gaussian_noise.variance\n"
     ]
    },
    {
     "name": "stdout",
     "output_type": "stream",
     "text": [
      "sampling end!. 2019-04-17 21:44:27.924486 2019-04-17 21:46:16.623305\n"
     ]
    },
    {
     "name": "stderr",
     "output_type": "stream",
     "text": [
      "[I 2019-04-17 21:46:17,672] Finished a trial resulted in value: -0.4914655204231499. Current best value is -2.504579267307882 with parameters: {'a': 0.4340547461185713, 'b': 0.5525315145240505, 'ab': [0.4340547461185713, 0.5525315145240505]}.\n"
     ]
    },
    {
     "name": "stdout",
     "output_type": "stream",
     "text": [
      "The set cost function is ignored! LCB acquisition does not make sense with cost.\n"
     ]
    },
    {
     "name": "stderr",
     "output_type": "stream",
     "text": [
      "reconstraining parameters GP_regression.Mat52\n",
      "reconstraining parameters GP_regression.Gaussian_noise.variance\n"
     ]
    },
    {
     "name": "stdout",
     "output_type": "stream",
     "text": [
      "sampling end!. 2019-04-17 21:46:17.674856 2019-04-17 21:48:30.837783\n"
     ]
    },
    {
     "name": "stderr",
     "output_type": "stream",
     "text": [
      "[I 2019-04-17 21:48:31,887] Finished a trial resulted in value: -0.1713599526383551. Current best value is -2.504579267307882 with parameters: {'a': 0.4340547461185713, 'b': 0.5525315145240505, 'ab': [0.4340547461185713, 0.5525315145240505]}.\n"
     ]
    },
    {
     "name": "stdout",
     "output_type": "stream",
     "text": [
      "The set cost function is ignored! LCB acquisition does not make sense with cost.\n"
     ]
    },
    {
     "name": "stderr",
     "output_type": "stream",
     "text": [
      "reconstraining parameters GP_regression.Mat52\n",
      "reconstraining parameters GP_regression.Gaussian_noise.variance\n"
     ]
    },
    {
     "name": "stdout",
     "output_type": "stream",
     "text": [
      "sampling end!. 2019-04-17 21:48:31.889462 2019-04-17 21:50:24.804987\n"
     ]
    },
    {
     "name": "stderr",
     "output_type": "stream",
     "text": [
      "[I 2019-04-17 21:50:25,855] Finished a trial resulted in value: -0.5582824539875169. Current best value is -2.504579267307882 with parameters: {'a': 0.4340547461185713, 'b': 0.5525315145240505, 'ab': [0.4340547461185713, 0.5525315145240505]}.\n"
     ]
    },
    {
     "name": "stdout",
     "output_type": "stream",
     "text": [
      "The set cost function is ignored! LCB acquisition does not make sense with cost.\n"
     ]
    },
    {
     "name": "stderr",
     "output_type": "stream",
     "text": [
      "reconstraining parameters GP_regression.Mat52\n",
      "reconstraining parameters GP_regression.Gaussian_noise.variance\n"
     ]
    },
    {
     "name": "stdout",
     "output_type": "stream",
     "text": [
      "sampling end!. 2019-04-17 21:50:25.858175 2019-04-17 21:52:10.913677\n"
     ]
    },
    {
     "name": "stderr",
     "output_type": "stream",
     "text": [
      "[I 2019-04-17 21:52:11,969] Finished a trial resulted in value: -0.47442780903109794. Current best value is -2.504579267307882 with parameters: {'a': 0.4340547461185713, 'b': 0.5525315145240505, 'ab': [0.4340547461185713, 0.5525315145240505]}.\n"
     ]
    },
    {
     "name": "stdout",
     "output_type": "stream",
     "text": [
      "The set cost function is ignored! LCB acquisition does not make sense with cost.\n"
     ]
    },
    {
     "name": "stderr",
     "output_type": "stream",
     "text": [
      "reconstraining parameters GP_regression.Mat52\n",
      "reconstraining parameters GP_regression.Gaussian_noise.variance\n"
     ]
    },
    {
     "name": "stdout",
     "output_type": "stream",
     "text": [
      "sampling end!. 2019-04-17 21:52:11.972398 2019-04-17 21:54:13.191924\n"
     ]
    },
    {
     "name": "stderr",
     "output_type": "stream",
     "text": [
      "[I 2019-04-17 21:54:14,247] Finished a trial resulted in value: -0.6265477372007675. Current best value is -2.504579267307882 with parameters: {'a': 0.4340547461185713, 'b': 0.5525315145240505, 'ab': [0.4340547461185713, 0.5525315145240505]}.\n"
     ]
    },
    {
     "name": "stdout",
     "output_type": "stream",
     "text": [
      "The set cost function is ignored! LCB acquisition does not make sense with cost.\n"
     ]
    },
    {
     "name": "stderr",
     "output_type": "stream",
     "text": [
      "reconstraining parameters GP_regression.Mat52\n",
      "reconstraining parameters GP_regression.Gaussian_noise.variance\n"
     ]
    },
    {
     "name": "stdout",
     "output_type": "stream",
     "text": [
      "sampling end!. 2019-04-17 21:54:14.250065 2019-04-17 21:56:07.154353\n"
     ]
    },
    {
     "name": "stderr",
     "output_type": "stream",
     "text": [
      "[I 2019-04-17 21:56:08,203] Finished a trial resulted in value: -0.5880938712744256. Current best value is -2.504579267307882 with parameters: {'a': 0.4340547461185713, 'b': 0.5525315145240505, 'ab': [0.4340547461185713, 0.5525315145240505]}.\n"
     ]
    },
    {
     "name": "stdout",
     "output_type": "stream",
     "text": [
      "The set cost function is ignored! LCB acquisition does not make sense with cost.\n"
     ]
    },
    {
     "name": "stderr",
     "output_type": "stream",
     "text": [
      "reconstraining parameters GP_regression.Mat52\n",
      "reconstraining parameters GP_regression.Gaussian_noise.variance\n"
     ]
    },
    {
     "name": "stdout",
     "output_type": "stream",
     "text": [
      "sampling end!. 2019-04-17 21:56:08.206064 2019-04-17 21:58:07.131971\n"
     ]
    },
    {
     "name": "stderr",
     "output_type": "stream",
     "text": [
      "[I 2019-04-17 21:58:08,184] Finished a trial resulted in value: -0.5534432956167223. Current best value is -2.504579267307882 with parameters: {'a': 0.4340547461185713, 'b': 0.5525315145240505, 'ab': [0.4340547461185713, 0.5525315145240505]}.\n"
     ]
    },
    {
     "name": "stdout",
     "output_type": "stream",
     "text": [
      "The set cost function is ignored! LCB acquisition does not make sense with cost.\n"
     ]
    },
    {
     "name": "stderr",
     "output_type": "stream",
     "text": [
      "reconstraining parameters GP_regression.Mat52\n",
      "reconstraining parameters GP_regression.Gaussian_noise.variance\n"
     ]
    },
    {
     "name": "stdout",
     "output_type": "stream",
     "text": [
      "sampling end!. 2019-04-17 21:58:08.186795 2019-04-17 22:00:33.775678\n"
     ]
    },
    {
     "name": "stderr",
     "output_type": "stream",
     "text": [
      "[I 2019-04-17 22:00:34,825] Finished a trial resulted in value: -0.17125069710506022. Current best value is -2.504579267307882 with parameters: {'a': 0.4340547461185713, 'b': 0.5525315145240505, 'ab': [0.4340547461185713, 0.5525315145240505]}.\n"
     ]
    },
    {
     "name": "stdout",
     "output_type": "stream",
     "text": [
      "The set cost function is ignored! LCB acquisition does not make sense with cost.\n"
     ]
    },
    {
     "name": "stderr",
     "output_type": "stream",
     "text": [
      "reconstraining parameters GP_regression.Mat52\n",
      "reconstraining parameters GP_regression.Gaussian_noise.variance\n"
     ]
    },
    {
     "name": "stdout",
     "output_type": "stream",
     "text": [
      "sampling end!. 2019-04-17 22:00:34.828845 2019-04-17 22:02:29.607162\n"
     ]
    },
    {
     "name": "stderr",
     "output_type": "stream",
     "text": [
      "[I 2019-04-17 22:02:30,653] Finished a trial resulted in value: -0.9724308380796857. Current best value is -2.504579267307882 with parameters: {'a': 0.4340547461185713, 'b': 0.5525315145240505, 'ab': [0.4340547461185713, 0.5525315145240505]}.\n"
     ]
    },
    {
     "name": "stdout",
     "output_type": "stream",
     "text": [
      "The set cost function is ignored! LCB acquisition does not make sense with cost.\n"
     ]
    },
    {
     "name": "stderr",
     "output_type": "stream",
     "text": [
      "reconstraining parameters GP_regression.Mat52\n",
      "reconstraining parameters GP_regression.Gaussian_noise.variance\n"
     ]
    },
    {
     "name": "stdout",
     "output_type": "stream",
     "text": [
      "sampling end!. 2019-04-17 22:02:30.655863 2019-04-17 22:04:20.325744\n"
     ]
    },
    {
     "name": "stderr",
     "output_type": "stream",
     "text": [
      "[I 2019-04-17 22:04:21,378] Finished a trial resulted in value: -1.0754199039798809. Current best value is -2.504579267307882 with parameters: {'a': 0.4340547461185713, 'b': 0.5525315145240505, 'ab': [0.4340547461185713, 0.5525315145240505]}.\n"
     ]
    },
    {
     "name": "stdout",
     "output_type": "stream",
     "text": [
      "The set cost function is ignored! LCB acquisition does not make sense with cost.\n"
     ]
    },
    {
     "name": "stderr",
     "output_type": "stream",
     "text": [
      "reconstraining parameters GP_regression.Mat52\n",
      "reconstraining parameters GP_regression.Gaussian_noise.variance\n"
     ]
    },
    {
     "name": "stdout",
     "output_type": "stream",
     "text": [
      "sampling end!. 2019-04-17 22:04:21.381341 2019-04-17 22:06:11.976667\n"
     ]
    },
    {
     "name": "stderr",
     "output_type": "stream",
     "text": [
      "[I 2019-04-17 22:06:13,026] Finished a trial resulted in value: -1.1481224033699629. Current best value is -2.504579267307882 with parameters: {'a': 0.4340547461185713, 'b': 0.5525315145240505, 'ab': [0.4340547461185713, 0.5525315145240505]}.\n"
     ]
    },
    {
     "name": "stdout",
     "output_type": "stream",
     "text": [
      "The set cost function is ignored! LCB acquisition does not make sense with cost.\n"
     ]
    },
    {
     "name": "stderr",
     "output_type": "stream",
     "text": [
      "reconstraining parameters GP_regression.Mat52\n",
      "reconstraining parameters GP_regression.Gaussian_noise.variance\n"
     ]
    },
    {
     "name": "stdout",
     "output_type": "stream",
     "text": [
      "sampling end!. 2019-04-17 22:06:13.029514 2019-04-17 22:08:09.614161\n"
     ]
    },
    {
     "name": "stderr",
     "output_type": "stream",
     "text": [
      "[I 2019-04-17 22:08:10,662] Finished a trial resulted in value: -1.267197253982132. Current best value is -2.504579267307882 with parameters: {'a': 0.4340547461185713, 'b': 0.5525315145240505, 'ab': [0.4340547461185713, 0.5525315145240505]}.\n"
     ]
    },
    {
     "name": "stdout",
     "output_type": "stream",
     "text": [
      "The set cost function is ignored! LCB acquisition does not make sense with cost.\n"
     ]
    },
    {
     "name": "stderr",
     "output_type": "stream",
     "text": [
      "reconstraining parameters GP_regression.Mat52\n",
      "reconstraining parameters GP_regression.Gaussian_noise.variance\n"
     ]
    },
    {
     "name": "stdout",
     "output_type": "stream",
     "text": [
      "sampling end!. 2019-04-17 22:08:10.664981 2019-04-17 22:10:14.259843\n"
     ]
    },
    {
     "name": "stderr",
     "output_type": "stream",
     "text": [
      "[I 2019-04-17 22:10:15,309] Finished a trial resulted in value: -1.2596739945134938. Current best value is -2.504579267307882 with parameters: {'a': 0.4340547461185713, 'b': 0.5525315145240505, 'ab': [0.4340547461185713, 0.5525315145240505]}.\n"
     ]
    },
    {
     "name": "stdout",
     "output_type": "stream",
     "text": [
      "The set cost function is ignored! LCB acquisition does not make sense with cost.\n"
     ]
    },
    {
     "name": "stderr",
     "output_type": "stream",
     "text": [
      "reconstraining parameters GP_regression.Mat52\n",
      "reconstraining parameters GP_regression.Gaussian_noise.variance\n"
     ]
    },
    {
     "name": "stdout",
     "output_type": "stream",
     "text": [
      "sampling end!. 2019-04-17 22:10:15.311647 2019-04-17 22:12:11.741008\n"
     ]
    },
    {
     "name": "stderr",
     "output_type": "stream",
     "text": [
      "[I 2019-04-17 22:12:12,790] Finished a trial resulted in value: -1.3719188350553175. Current best value is -2.504579267307882 with parameters: {'a': 0.4340547461185713, 'b': 0.5525315145240505, 'ab': [0.4340547461185713, 0.5525315145240505]}.\n"
     ]
    },
    {
     "name": "stdout",
     "output_type": "stream",
     "text": [
      "The set cost function is ignored! LCB acquisition does not make sense with cost.\n"
     ]
    },
    {
     "name": "stderr",
     "output_type": "stream",
     "text": [
      "reconstraining parameters GP_regression.Mat52\n",
      "reconstraining parameters GP_regression.Gaussian_noise.variance\n"
     ]
    },
    {
     "name": "stdout",
     "output_type": "stream",
     "text": [
      "sampling end!. 2019-04-17 22:12:12.793235 2019-04-17 22:14:02.207448\n"
     ]
    },
    {
     "name": "stderr",
     "output_type": "stream",
     "text": [
      "[I 2019-04-17 22:14:03,265] Finished a trial resulted in value: -1.2945971504022915. Current best value is -2.504579267307882 with parameters: {'a': 0.4340547461185713, 'b': 0.5525315145240505, 'ab': [0.4340547461185713, 0.5525315145240505]}.\n"
     ]
    },
    {
     "name": "stdout",
     "output_type": "stream",
     "text": [
      "The set cost function is ignored! LCB acquisition does not make sense with cost.\n"
     ]
    },
    {
     "name": "stderr",
     "output_type": "stream",
     "text": [
      "reconstraining parameters GP_regression.Mat52\n",
      "reconstraining parameters GP_regression.Gaussian_noise.variance\n"
     ]
    },
    {
     "name": "stdout",
     "output_type": "stream",
     "text": [
      "sampling end!. 2019-04-17 22:14:03.268185 2019-04-17 22:16:41.785795\n"
     ]
    },
    {
     "name": "stderr",
     "output_type": "stream",
     "text": [
      "[I 2019-04-17 22:16:42,837] Finished a trial resulted in value: -1.2906028268043896. Current best value is -2.504579267307882 with parameters: {'a': 0.4340547461185713, 'b': 0.5525315145240505, 'ab': [0.4340547461185713, 0.5525315145240505]}.\n"
     ]
    },
    {
     "name": "stdout",
     "output_type": "stream",
     "text": [
      "The set cost function is ignored! LCB acquisition does not make sense with cost.\n"
     ]
    },
    {
     "name": "stderr",
     "output_type": "stream",
     "text": [
      "reconstraining parameters GP_regression.Mat52\n",
      "reconstraining parameters GP_regression.Gaussian_noise.variance\n"
     ]
    },
    {
     "name": "stdout",
     "output_type": "stream",
     "text": [
      "sampling end!. 2019-04-17 22:16:42.840637 2019-04-17 22:19:14.240823\n"
     ]
    },
    {
     "name": "stderr",
     "output_type": "stream",
     "text": [
      "[I 2019-04-17 22:19:15,300] Finished a trial resulted in value: -0.9840365128345381. Current best value is -2.504579267307882 with parameters: {'a': 0.4340547461185713, 'b': 0.5525315145240505, 'ab': [0.4340547461185713, 0.5525315145240505]}.\n"
     ]
    },
    {
     "name": "stdout",
     "output_type": "stream",
     "text": [
      "The set cost function is ignored! LCB acquisition does not make sense with cost.\n"
     ]
    },
    {
     "name": "stderr",
     "output_type": "stream",
     "text": [
      "reconstraining parameters GP_regression.Mat52\n",
      "reconstraining parameters GP_regression.Gaussian_noise.variance\n"
     ]
    },
    {
     "name": "stdout",
     "output_type": "stream",
     "text": [
      "sampling end!. 2019-04-17 22:19:15.302920 2019-04-17 23:34:19.942561\n"
     ]
    },
    {
     "name": "stderr",
     "output_type": "stream",
     "text": [
      "[I 2019-04-17 23:34:20,993] Finished a trial resulted in value: -1.0338290247379402. Current best value is -2.504579267307882 with parameters: {'a': 0.4340547461185713, 'b': 0.5525315145240505, 'ab': [0.4340547461185713, 0.5525315145240505]}.\n"
     ]
    },
    {
     "name": "stdout",
     "output_type": "stream",
     "text": [
      "The set cost function is ignored! LCB acquisition does not make sense with cost.\n"
     ]
    },
    {
     "name": "stderr",
     "output_type": "stream",
     "text": [
      "reconstraining parameters GP_regression.Mat52\n",
      "reconstraining parameters GP_regression.Gaussian_noise.variance\n"
     ]
    },
    {
     "name": "stdout",
     "output_type": "stream",
     "text": [
      "sampling end!. 2019-04-17 23:34:20.995988 2019-04-17 23:36:36.511982\n"
     ]
    },
    {
     "name": "stderr",
     "output_type": "stream",
     "text": [
      "[I 2019-04-17 23:36:37,571] Finished a trial resulted in value: -1.2645030012413205. Current best value is -2.504579267307882 with parameters: {'a': 0.4340547461185713, 'b': 0.5525315145240505, 'ab': [0.4340547461185713, 0.5525315145240505]}.\n"
     ]
    },
    {
     "name": "stdout",
     "output_type": "stream",
     "text": [
      "The set cost function is ignored! LCB acquisition does not make sense with cost.\n"
     ]
    },
    {
     "name": "stderr",
     "output_type": "stream",
     "text": [
      "reconstraining parameters GP_regression.Mat52\n",
      "reconstraining parameters GP_regression.Gaussian_noise.variance\n"
     ]
    },
    {
     "name": "stdout",
     "output_type": "stream",
     "text": [
      "sampling end!. 2019-04-17 23:36:37.574371 2019-04-17 23:39:24.827175\n"
     ]
    },
    {
     "name": "stderr",
     "output_type": "stream",
     "text": [
      "[I 2019-04-17 23:39:25,879] Finished a trial resulted in value: -1.0879716952537164. Current best value is -2.504579267307882 with parameters: {'a': 0.4340547461185713, 'b': 0.5525315145240505, 'ab': [0.4340547461185713, 0.5525315145240505]}.\n"
     ]
    },
    {
     "name": "stdout",
     "output_type": "stream",
     "text": [
      "The set cost function is ignored! LCB acquisition does not make sense with cost.\n"
     ]
    },
    {
     "name": "stderr",
     "output_type": "stream",
     "text": [
      "reconstraining parameters GP_regression.Mat52\n",
      "reconstraining parameters GP_regression.Gaussian_noise.variance\n"
     ]
    },
    {
     "name": "stdout",
     "output_type": "stream",
     "text": [
      "sampling end!. 2019-04-17 23:39:25.882845 2019-04-17 23:41:58.494721\n"
     ]
    },
    {
     "name": "stderr",
     "output_type": "stream",
     "text": [
      "[I 2019-04-17 23:41:59,547] Finished a trial resulted in value: -0.8609721392350483. Current best value is -2.504579267307882 with parameters: {'a': 0.4340547461185713, 'b': 0.5525315145240505, 'ab': [0.4340547461185713, 0.5525315145240505]}.\n"
     ]
    },
    {
     "name": "stdout",
     "output_type": "stream",
     "text": [
      "The set cost function is ignored! LCB acquisition does not make sense with cost.\n"
     ]
    },
    {
     "name": "stderr",
     "output_type": "stream",
     "text": [
      "reconstraining parameters GP_regression.Mat52\n",
      "reconstraining parameters GP_regression.Gaussian_noise.variance\n"
     ]
    },
    {
     "name": "stdout",
     "output_type": "stream",
     "text": [
      "sampling end!. 2019-04-17 23:41:59.549812 2019-04-17 23:44:04.144956\n"
     ]
    },
    {
     "name": "stderr",
     "output_type": "stream",
     "text": [
      "[I 2019-04-17 23:44:05,200] Finished a trial resulted in value: -0.8926905945684995. Current best value is -2.504579267307882 with parameters: {'a': 0.4340547461185713, 'b': 0.5525315145240505, 'ab': [0.4340547461185713, 0.5525315145240505]}.\n"
     ]
    },
    {
     "name": "stdout",
     "output_type": "stream",
     "text": [
      "The set cost function is ignored! LCB acquisition does not make sense with cost.\n"
     ]
    },
    {
     "name": "stderr",
     "output_type": "stream",
     "text": [
      "reconstraining parameters GP_regression.Mat52\n",
      "reconstraining parameters GP_regression.Gaussian_noise.variance\n"
     ]
    },
    {
     "name": "stdout",
     "output_type": "stream",
     "text": [
      "sampling end!. 2019-04-17 23:44:05.203284 2019-04-17 23:46:42.934657\n"
     ]
    },
    {
     "name": "stderr",
     "output_type": "stream",
     "text": [
      "[I 2019-04-17 23:46:43,983] Finished a trial resulted in value: -0.9723420615853637. Current best value is -2.504579267307882 with parameters: {'a': 0.4340547461185713, 'b': 0.5525315145240505, 'ab': [0.4340547461185713, 0.5525315145240505]}.\n"
     ]
    },
    {
     "name": "stdout",
     "output_type": "stream",
     "text": [
      "The set cost function is ignored! LCB acquisition does not make sense with cost.\n"
     ]
    },
    {
     "name": "stderr",
     "output_type": "stream",
     "text": [
      "reconstraining parameters GP_regression.Mat52\n",
      "reconstraining parameters GP_regression.Gaussian_noise.variance\n"
     ]
    },
    {
     "name": "stdout",
     "output_type": "stream",
     "text": [
      "sampling end!. 2019-04-17 23:46:43.985649 2019-04-17 23:49:41.295766\n"
     ]
    },
    {
     "name": "stderr",
     "output_type": "stream",
     "text": [
      "[I 2019-04-17 23:49:42,346] Finished a trial resulted in value: -0.9288237085739316. Current best value is -2.504579267307882 with parameters: {'a': 0.4340547461185713, 'b': 0.5525315145240505, 'ab': [0.4340547461185713, 0.5525315145240505]}.\n"
     ]
    },
    {
     "name": "stdout",
     "output_type": "stream",
     "text": [
      "The set cost function is ignored! LCB acquisition does not make sense with cost.\n"
     ]
    },
    {
     "name": "stderr",
     "output_type": "stream",
     "text": [
      "reconstraining parameters GP_regression.Mat52\n",
      "reconstraining parameters GP_regression.Gaussian_noise.variance\n"
     ]
    },
    {
     "name": "stdout",
     "output_type": "stream",
     "text": [
      "sampling end!. 2019-04-17 23:49:42.348893 2019-04-17 23:52:41.411707\n"
     ]
    },
    {
     "name": "stderr",
     "output_type": "stream",
     "text": [
      "[I 2019-04-17 23:52:42,472] Finished a trial resulted in value: -0.8465922891036733. Current best value is -2.504579267307882 with parameters: {'a': 0.4340547461185713, 'b': 0.5525315145240505, 'ab': [0.4340547461185713, 0.5525315145240505]}.\n"
     ]
    },
    {
     "name": "stdout",
     "output_type": "stream",
     "text": [
      "The set cost function is ignored! LCB acquisition does not make sense with cost.\n"
     ]
    },
    {
     "name": "stderr",
     "output_type": "stream",
     "text": [
      "reconstraining parameters GP_regression.Mat52\n",
      "reconstraining parameters GP_regression.Gaussian_noise.variance\n"
     ]
    },
    {
     "name": "stdout",
     "output_type": "stream",
     "text": [
      "sampling end!. 2019-04-17 23:52:42.475989 2019-04-17 23:55:46.721272\n"
     ]
    },
    {
     "name": "stderr",
     "output_type": "stream",
     "text": [
      "[I 2019-04-17 23:55:47,772] Finished a trial resulted in value: -0.5864777536338117. Current best value is -2.504579267307882 with parameters: {'a': 0.4340547461185713, 'b': 0.5525315145240505, 'ab': [0.4340547461185713, 0.5525315145240505]}.\n"
     ]
    },
    {
     "name": "stdout",
     "output_type": "stream",
     "text": [
      "The set cost function is ignored! LCB acquisition does not make sense with cost.\n"
     ]
    },
    {
     "name": "stderr",
     "output_type": "stream",
     "text": [
      "reconstraining parameters GP_regression.Mat52\n",
      "reconstraining parameters GP_regression.Gaussian_noise.variance\n"
     ]
    },
    {
     "name": "stdout",
     "output_type": "stream",
     "text": [
      "sampling end!. 2019-04-17 23:55:47.774368 2019-04-17 23:59:00.064103\n"
     ]
    },
    {
     "name": "stderr",
     "output_type": "stream",
     "text": [
      "[I 2019-04-17 23:59:01,114] Finished a trial resulted in value: -0.8804088417203647. Current best value is -2.504579267307882 with parameters: {'a': 0.4340547461185713, 'b': 0.5525315145240505, 'ab': [0.4340547461185713, 0.5525315145240505]}.\n"
     ]
    },
    {
     "name": "stdout",
     "output_type": "stream",
     "text": [
      "The set cost function is ignored! LCB acquisition does not make sense with cost.\n"
     ]
    },
    {
     "name": "stderr",
     "output_type": "stream",
     "text": [
      "reconstraining parameters GP_regression.Mat52\n",
      "reconstraining parameters GP_regression.Gaussian_noise.variance\n"
     ]
    },
    {
     "name": "stdout",
     "output_type": "stream",
     "text": [
      "sampling end!. 2019-04-17 23:59:01.117728 2019-04-18 00:02:37.165336\n"
     ]
    },
    {
     "name": "stderr",
     "output_type": "stream",
     "text": [
      "[I 2019-04-18 00:02:38,222] Finished a trial resulted in value: -0.8862061665526817. Current best value is -2.504579267307882 with parameters: {'a': 0.4340547461185713, 'b': 0.5525315145240505, 'ab': [0.4340547461185713, 0.5525315145240505]}.\n"
     ]
    },
    {
     "name": "stdout",
     "output_type": "stream",
     "text": [
      "The set cost function is ignored! LCB acquisition does not make sense with cost.\n"
     ]
    },
    {
     "name": "stderr",
     "output_type": "stream",
     "text": [
      "reconstraining parameters GP_regression.Mat52\n",
      "reconstraining parameters GP_regression.Gaussian_noise.variance\n"
     ]
    },
    {
     "name": "stdout",
     "output_type": "stream",
     "text": [
      "sampling end!. 2019-04-18 00:02:38.224899 2019-04-18 00:05:33.441662\n"
     ]
    },
    {
     "name": "stderr",
     "output_type": "stream",
     "text": [
      "[I 2019-04-18 00:05:34,503] Finished a trial resulted in value: -0.6601979858364763. Current best value is -2.504579267307882 with parameters: {'a': 0.4340547461185713, 'b': 0.5525315145240505, 'ab': [0.4340547461185713, 0.5525315145240505]}.\n"
     ]
    },
    {
     "name": "stdout",
     "output_type": "stream",
     "text": [
      "The set cost function is ignored! LCB acquisition does not make sense with cost.\n"
     ]
    },
    {
     "name": "stderr",
     "output_type": "stream",
     "text": [
      "reconstraining parameters GP_regression.Mat52\n",
      "reconstraining parameters GP_regression.Gaussian_noise.variance\n"
     ]
    },
    {
     "name": "stdout",
     "output_type": "stream",
     "text": [
      "sampling end!. 2019-04-18 00:05:34.511587 2019-04-18 00:08:49.451024\n"
     ]
    },
    {
     "name": "stderr",
     "output_type": "stream",
     "text": [
      "[I 2019-04-18 00:08:50,513] Finished a trial resulted in value: -1.0134876628838783. Current best value is -2.504579267307882 with parameters: {'a': 0.4340547461185713, 'b': 0.5525315145240505, 'ab': [0.4340547461185713, 0.5525315145240505]}.\n"
     ]
    },
    {
     "name": "stdout",
     "output_type": "stream",
     "text": [
      "The set cost function is ignored! LCB acquisition does not make sense with cost.\n"
     ]
    },
    {
     "name": "stderr",
     "output_type": "stream",
     "text": [
      "reconstraining parameters GP_regression.Mat52\n",
      "reconstraining parameters GP_regression.Gaussian_noise.variance\n"
     ]
    },
    {
     "name": "stdout",
     "output_type": "stream",
     "text": [
      "sampling end!. 2019-04-18 00:08:50.516929 2019-04-18 00:11:30.664470\n"
     ]
    },
    {
     "name": "stderr",
     "output_type": "stream",
     "text": [
      "[I 2019-04-18 00:11:31,722] Finished a trial resulted in value: -0.9839472775063713. Current best value is -2.504579267307882 with parameters: {'a': 0.4340547461185713, 'b': 0.5525315145240505, 'ab': [0.4340547461185713, 0.5525315145240505]}.\n"
     ]
    },
    {
     "name": "stdout",
     "output_type": "stream",
     "text": [
      "The set cost function is ignored! LCB acquisition does not make sense with cost.\n"
     ]
    },
    {
     "name": "stderr",
     "output_type": "stream",
     "text": [
      "reconstraining parameters GP_regression.Mat52\n",
      "reconstraining parameters GP_regression.Gaussian_noise.variance\n"
     ]
    },
    {
     "name": "stdout",
     "output_type": "stream",
     "text": [
      "sampling end!. 2019-04-18 00:11:31.725283 2019-04-18 00:14:35.031127\n"
     ]
    },
    {
     "name": "stderr",
     "output_type": "stream",
     "text": [
      "[I 2019-04-18 00:14:36,094] Finished a trial resulted in value: -0.8084435758052888. Current best value is -2.504579267307882 with parameters: {'a': 0.4340547461185713, 'b': 0.5525315145240505, 'ab': [0.4340547461185713, 0.5525315145240505]}.\n"
     ]
    },
    {
     "name": "stdout",
     "output_type": "stream",
     "text": [
      "The set cost function is ignored! LCB acquisition does not make sense with cost.\n"
     ]
    },
    {
     "name": "stderr",
     "output_type": "stream",
     "text": [
      "reconstraining parameters GP_regression.Mat52\n",
      "reconstraining parameters GP_regression.Gaussian_noise.variance\n"
     ]
    },
    {
     "name": "stdout",
     "output_type": "stream",
     "text": [
      "sampling end!. 2019-04-18 00:14:36.098638 2019-04-18 00:17:50.976257\n"
     ]
    },
    {
     "name": "stderr",
     "output_type": "stream",
     "text": [
      "[I 2019-04-18 00:17:52,038] Finished a trial resulted in value: -0.9435782507513729. Current best value is -2.504579267307882 with parameters: {'a': 0.4340547461185713, 'b': 0.5525315145240505, 'ab': [0.4340547461185713, 0.5525315145240505]}.\n"
     ]
    },
    {
     "name": "stdout",
     "output_type": "stream",
     "text": [
      "The set cost function is ignored! LCB acquisition does not make sense with cost.\n"
     ]
    },
    {
     "name": "stderr",
     "output_type": "stream",
     "text": [
      "reconstraining parameters GP_regression.Mat52\n",
      "reconstraining parameters GP_regression.Gaussian_noise.variance\n"
     ]
    },
    {
     "name": "stdout",
     "output_type": "stream",
     "text": [
      "sampling end!. 2019-04-18 00:17:52.041179 2019-04-18 00:21:15.549876\n"
     ]
    },
    {
     "name": "stderr",
     "output_type": "stream",
     "text": [
      "[I 2019-04-18 00:21:16,608] Finished a trial resulted in value: -0.3676598864342414. Current best value is -2.504579267307882 with parameters: {'a': 0.4340547461185713, 'b': 0.5525315145240505, 'ab': [0.4340547461185713, 0.5525315145240505]}.\n"
     ]
    },
    {
     "name": "stdout",
     "output_type": "stream",
     "text": [
      "The set cost function is ignored! LCB acquisition does not make sense with cost.\n"
     ]
    },
    {
     "name": "stderr",
     "output_type": "stream",
     "text": [
      "reconstraining parameters GP_regression.Mat52\n",
      "reconstraining parameters GP_regression.Gaussian_noise.variance\n"
     ]
    },
    {
     "name": "stdout",
     "output_type": "stream",
     "text": [
      "sampling end!. 2019-04-18 00:21:16.611893 2019-04-18 00:23:52.844921\n"
     ]
    },
    {
     "name": "stderr",
     "output_type": "stream",
     "text": [
      "[I 2019-04-18 00:23:53,901] Finished a trial resulted in value: -0.9345124119117849. Current best value is -2.504579267307882 with parameters: {'a': 0.4340547461185713, 'b': 0.5525315145240505, 'ab': [0.4340547461185713, 0.5525315145240505]}.\n"
     ]
    },
    {
     "name": "stdout",
     "output_type": "stream",
     "text": [
      "The set cost function is ignored! LCB acquisition does not make sense with cost.\n"
     ]
    },
    {
     "name": "stderr",
     "output_type": "stream",
     "text": [
      "reconstraining parameters GP_regression.Mat52\n",
      "reconstraining parameters GP_regression.Gaussian_noise.variance\n"
     ]
    },
    {
     "name": "stdout",
     "output_type": "stream",
     "text": [
      "sampling end!. 2019-04-18 00:23:53.904087 2019-04-18 00:26:23.115991\n"
     ]
    },
    {
     "name": "stderr",
     "output_type": "stream",
     "text": [
      "[I 2019-04-18 00:26:24,172] Finished a trial resulted in value: -1.0266154224721533. Current best value is -2.504579267307882 with parameters: {'a': 0.4340547461185713, 'b': 0.5525315145240505, 'ab': [0.4340547461185713, 0.5525315145240505]}.\n"
     ]
    },
    {
     "name": "stdout",
     "output_type": "stream",
     "text": [
      "The set cost function is ignored! LCB acquisition does not make sense with cost.\n"
     ]
    },
    {
     "name": "stderr",
     "output_type": "stream",
     "text": [
      "reconstraining parameters GP_regression.Mat52\n",
      "reconstraining parameters GP_regression.Gaussian_noise.variance\n"
     ]
    },
    {
     "name": "stdout",
     "output_type": "stream",
     "text": [
      "sampling end!. 2019-04-18 00:26:24.175348 2019-04-18 00:28:12.932011\n"
     ]
    },
    {
     "name": "stderr",
     "output_type": "stream",
     "text": [
      "[I 2019-04-18 00:28:13,984] Finished a trial resulted in value: -0.8891923112466197. Current best value is -2.504579267307882 with parameters: {'a': 0.4340547461185713, 'b': 0.5525315145240505, 'ab': [0.4340547461185713, 0.5525315145240505]}.\n"
     ]
    },
    {
     "name": "stdout",
     "output_type": "stream",
     "text": [
      "The set cost function is ignored! LCB acquisition does not make sense with cost.\n"
     ]
    },
    {
     "name": "stderr",
     "output_type": "stream",
     "text": [
      "reconstraining parameters GP_regression.Mat52\n",
      "reconstraining parameters GP_regression.Gaussian_noise.variance\n"
     ]
    },
    {
     "name": "stdout",
     "output_type": "stream",
     "text": [
      "sampling end!. 2019-04-18 00:28:13.986510 2019-04-18 00:30:02.343664\n"
     ]
    },
    {
     "name": "stderr",
     "output_type": "stream",
     "text": [
      "[I 2019-04-18 00:30:03,395] Finished a trial resulted in value: -0.11283141462592468. Current best value is -2.504579267307882 with parameters: {'a': 0.4340547461185713, 'b': 0.5525315145240505, 'ab': [0.4340547461185713, 0.5525315145240505]}.\n"
     ]
    },
    {
     "name": "stdout",
     "output_type": "stream",
     "text": [
      "The set cost function is ignored! LCB acquisition does not make sense with cost.\n"
     ]
    },
    {
     "name": "stderr",
     "output_type": "stream",
     "text": [
      "reconstraining parameters GP_regression.Mat52\n",
      "reconstraining parameters GP_regression.Gaussian_noise.variance\n"
     ]
    },
    {
     "name": "stdout",
     "output_type": "stream",
     "text": [
      "sampling end!. 2019-04-18 00:30:03.397988 2019-04-18 00:31:24.961360\n"
     ]
    },
    {
     "name": "stderr",
     "output_type": "stream",
     "text": [
      "[I 2019-04-18 00:31:26,013] Finished a trial resulted in value: -1.0044612616179833. Current best value is -2.504579267307882 with parameters: {'a': 0.4340547461185713, 'b': 0.5525315145240505, 'ab': [0.4340547461185713, 0.5525315145240505]}.\n"
     ]
    },
    {
     "name": "stdout",
     "output_type": "stream",
     "text": [
      "The set cost function is ignored! LCB acquisition does not make sense with cost.\n"
     ]
    },
    {
     "name": "stderr",
     "output_type": "stream",
     "text": [
      "reconstraining parameters GP_regression.Mat52\n",
      "reconstraining parameters GP_regression.Gaussian_noise.variance\n"
     ]
    },
    {
     "name": "stdout",
     "output_type": "stream",
     "text": [
      "sampling end!. 2019-04-18 00:31:26.016319 2019-04-18 00:32:57.431669\n"
     ]
    },
    {
     "name": "stderr",
     "output_type": "stream",
     "text": [
      "[I 2019-04-18 00:32:58,486] Finished a trial resulted in value: -0.822459328928384. Current best value is -2.504579267307882 with parameters: {'a': 0.4340547461185713, 'b': 0.5525315145240505, 'ab': [0.4340547461185713, 0.5525315145240505]}.\n"
     ]
    },
    {
     "name": "stdout",
     "output_type": "stream",
     "text": [
      "The set cost function is ignored! LCB acquisition does not make sense with cost.\n"
     ]
    },
    {
     "name": "stderr",
     "output_type": "stream",
     "text": [
      "reconstraining parameters GP_regression.Mat52\n",
      "reconstraining parameters GP_regression.Gaussian_noise.variance\n"
     ]
    },
    {
     "name": "stdout",
     "output_type": "stream",
     "text": [
      "sampling end!. 2019-04-18 00:32:58.489947 2019-04-18 00:34:27.765396\n"
     ]
    },
    {
     "name": "stderr",
     "output_type": "stream",
     "text": [
      "[I 2019-04-18 00:34:28,822] Finished a trial resulted in value: -0.6676147954854507. Current best value is -2.504579267307882 with parameters: {'a': 0.4340547461185713, 'b': 0.5525315145240505, 'ab': [0.4340547461185713, 0.5525315145240505]}.\n"
     ]
    },
    {
     "name": "stdout",
     "output_type": "stream",
     "text": [
      "The set cost function is ignored! LCB acquisition does not make sense with cost.\n"
     ]
    },
    {
     "name": "stderr",
     "output_type": "stream",
     "text": [
      "reconstraining parameters GP_regression.Mat52\n",
      "reconstraining parameters GP_regression.Gaussian_noise.variance\n"
     ]
    },
    {
     "name": "stdout",
     "output_type": "stream",
     "text": [
      "sampling end!. 2019-04-18 00:34:28.824356 2019-04-18 00:36:02.483037\n"
     ]
    },
    {
     "name": "stderr",
     "output_type": "stream",
     "text": [
      "[I 2019-04-18 00:36:03,535] Finished a trial resulted in value: -0.6615026955395735. Current best value is -2.504579267307882 with parameters: {'a': 0.4340547461185713, 'b': 0.5525315145240505, 'ab': [0.4340547461185713, 0.5525315145240505]}.\n"
     ]
    },
    {
     "name": "stdout",
     "output_type": "stream",
     "text": [
      "The set cost function is ignored! LCB acquisition does not make sense with cost.\n"
     ]
    },
    {
     "name": "stderr",
     "output_type": "stream",
     "text": [
      "reconstraining parameters GP_regression.Mat52\n",
      "reconstraining parameters GP_regression.Gaussian_noise.variance\n"
     ]
    },
    {
     "name": "stdout",
     "output_type": "stream",
     "text": [
      "sampling end!. 2019-04-18 00:36:03.537539 2019-04-18 00:37:34.060579\n"
     ]
    },
    {
     "name": "stderr",
     "output_type": "stream",
     "text": [
      "[I 2019-04-18 00:37:35,119] Finished a trial resulted in value: -0.6699446765012668. Current best value is -2.504579267307882 with parameters: {'a': 0.4340547461185713, 'b': 0.5525315145240505, 'ab': [0.4340547461185713, 0.5525315145240505]}.\n"
     ]
    },
    {
     "name": "stdout",
     "output_type": "stream",
     "text": [
      "The set cost function is ignored! LCB acquisition does not make sense with cost.\n"
     ]
    },
    {
     "name": "stderr",
     "output_type": "stream",
     "text": [
      "reconstraining parameters GP_regression.Mat52\n",
      "reconstraining parameters GP_regression.Gaussian_noise.variance\n"
     ]
    },
    {
     "name": "stdout",
     "output_type": "stream",
     "text": [
      "sampling end!. 2019-04-18 00:37:35.122258 2019-04-18 00:39:12.893300\n"
     ]
    },
    {
     "name": "stderr",
     "output_type": "stream",
     "text": [
      "[I 2019-04-18 00:39:13,943] Finished a trial resulted in value: -0.5827856940870909. Current best value is -2.504579267307882 with parameters: {'a': 0.4340547461185713, 'b': 0.5525315145240505, 'ab': [0.4340547461185713, 0.5525315145240505]}.\n"
     ]
    },
    {
     "name": "stdout",
     "output_type": "stream",
     "text": [
      "The set cost function is ignored! LCB acquisition does not make sense with cost.\n"
     ]
    },
    {
     "name": "stderr",
     "output_type": "stream",
     "text": [
      "reconstraining parameters GP_regression.Mat52\n",
      "reconstraining parameters GP_regression.Gaussian_noise.variance\n"
     ]
    },
    {
     "name": "stdout",
     "output_type": "stream",
     "text": [
      "sampling end!. 2019-04-18 00:39:13.945974 2019-04-18 00:41:01.955393\n"
     ]
    },
    {
     "name": "stderr",
     "output_type": "stream",
     "text": [
      "[I 2019-04-18 00:41:03,008] Finished a trial resulted in value: -0.13067139179239814. Current best value is -2.504579267307882 with parameters: {'a': 0.4340547461185713, 'b': 0.5525315145240505, 'ab': [0.4340547461185713, 0.5525315145240505]}.\n"
     ]
    },
    {
     "name": "stdout",
     "output_type": "stream",
     "text": [
      "The set cost function is ignored! LCB acquisition does not make sense with cost.\n"
     ]
    },
    {
     "name": "stderr",
     "output_type": "stream",
     "text": [
      "reconstraining parameters GP_regression.Mat52\n",
      "reconstraining parameters GP_regression.Gaussian_noise.variance\n"
     ]
    },
    {
     "name": "stdout",
     "output_type": "stream",
     "text": [
      "sampling end!. 2019-04-18 00:41:03.011071 2019-04-18 00:42:40.609752\n"
     ]
    },
    {
     "name": "stderr",
     "output_type": "stream",
     "text": [
      "[I 2019-04-18 00:42:41,665] Finished a trial resulted in value: -0.6419383890354398. Current best value is -2.504579267307882 with parameters: {'a': 0.4340547461185713, 'b': 0.5525315145240505, 'ab': [0.4340547461185713, 0.5525315145240505]}.\n"
     ]
    },
    {
     "name": "stdout",
     "output_type": "stream",
     "text": [
      "The set cost function is ignored! LCB acquisition does not make sense with cost.\n"
     ]
    },
    {
     "name": "stderr",
     "output_type": "stream",
     "text": [
      "reconstraining parameters GP_regression.Mat52\n",
      "reconstraining parameters GP_regression.Gaussian_noise.variance\n"
     ]
    },
    {
     "name": "stdout",
     "output_type": "stream",
     "text": [
      "sampling end!. 2019-04-18 00:42:41.667411 2019-04-18 00:44:56.798761\n"
     ]
    },
    {
     "name": "stderr",
     "output_type": "stream",
     "text": [
      "[I 2019-04-18 00:44:57,857] Finished a trial resulted in value: -0.5300936504342425. Current best value is -2.504579267307882 with parameters: {'a': 0.4340547461185713, 'b': 0.5525315145240505, 'ab': [0.4340547461185713, 0.5525315145240505]}.\n"
     ]
    },
    {
     "name": "stdout",
     "output_type": "stream",
     "text": [
      "The set cost function is ignored! LCB acquisition does not make sense with cost.\n"
     ]
    },
    {
     "name": "stderr",
     "output_type": "stream",
     "text": [
      "reconstraining parameters GP_regression.Mat52\n",
      "reconstraining parameters GP_regression.Gaussian_noise.variance\n"
     ]
    },
    {
     "name": "stdout",
     "output_type": "stream",
     "text": [
      "sampling end!. 2019-04-18 00:44:57.860645 2019-04-18 00:47:06.724599\n"
     ]
    },
    {
     "name": "stderr",
     "output_type": "stream",
     "text": [
      "[I 2019-04-18 00:47:07,781] Finished a trial resulted in value: -0.3410416575244874. Current best value is -2.504579267307882 with parameters: {'a': 0.4340547461185713, 'b': 0.5525315145240505, 'ab': [0.4340547461185713, 0.5525315145240505]}.\n"
     ]
    },
    {
     "name": "stdout",
     "output_type": "stream",
     "text": [
      "The set cost function is ignored! LCB acquisition does not make sense with cost.\n"
     ]
    },
    {
     "name": "stderr",
     "output_type": "stream",
     "text": [
      "reconstraining parameters GP_regression.Mat52\n",
      "reconstraining parameters GP_regression.Gaussian_noise.variance\n"
     ]
    },
    {
     "name": "stdout",
     "output_type": "stream",
     "text": [
      "sampling end!. 2019-04-18 00:47:07.784433 2019-04-18 00:48:40.043856\n"
     ]
    },
    {
     "name": "stderr",
     "output_type": "stream",
     "text": [
      "[I 2019-04-18 00:48:41,105] Finished a trial resulted in value: -0.4474645937100168. Current best value is -2.504579267307882 with parameters: {'a': 0.4340547461185713, 'b': 0.5525315145240505, 'ab': [0.4340547461185713, 0.5525315145240505]}.\n"
     ]
    },
    {
     "name": "stdout",
     "output_type": "stream",
     "text": [
      "The set cost function is ignored! LCB acquisition does not make sense with cost.\n"
     ]
    },
    {
     "name": "stderr",
     "output_type": "stream",
     "text": [
      "reconstraining parameters GP_regression.Mat52\n",
      "reconstraining parameters GP_regression.Gaussian_noise.variance\n"
     ]
    },
    {
     "name": "stdout",
     "output_type": "stream",
     "text": [
      "sampling end!. 2019-04-18 00:48:41.107881 2019-04-18 00:50:37.019517\n"
     ]
    },
    {
     "name": "stderr",
     "output_type": "stream",
     "text": [
      "[I 2019-04-18 00:50:38,075] Finished a trial resulted in value: -0.251562110028657. Current best value is -2.504579267307882 with parameters: {'a': 0.4340547461185713, 'b': 0.5525315145240505, 'ab': [0.4340547461185713, 0.5525315145240505]}.\n"
     ]
    }
   ],
   "source": [
    "sampler = optuna.samplers.GPSampler()\n",
    "study_rbf = optuna.create_study(sampler=sampler)\n",
    "study_rbf.optimize(lambda t: - objevtive_rbf(t), n_trials=n_trials)"
   ]
  },
  {
   "cell_type": "code",
   "execution_count": 11,
   "metadata": {},
   "outputs": [],
   "source": [
    "trial_values = [- trial.value for trial in study_rbf.trials]\n",
    "\n",
    "target_dir = './results/20190418/'\n",
    "\n",
    "np.savetxt(target_dir + 'syn_original_matern52_normal.csv', trial_values, delimiter=',')"
   ]
  },
  {
   "cell_type": "code",
   "execution_count": 12,
   "metadata": {},
   "outputs": [
    {
     "data": {
      "application/vnd.plotly.v1+json": {
       "config": {
        "linkText": "Export to plot.ly",
        "plotlyServerURL": "https://plot.ly",
        "showLink": false
       },
       "data": [
        {
         "mode": "markers",
         "name": "normal",
         "type": "scatter",
         "uid": "d6ed7ade-39f4-4897-9379-5275f04574fc",
         "x": [
          1,
          2,
          3,
          4,
          5,
          6,
          7,
          8,
          9,
          10,
          11,
          12,
          13,
          14,
          15,
          16,
          17,
          18,
          19,
          20,
          21,
          22,
          23,
          24,
          25,
          26,
          27,
          28,
          29,
          30,
          31,
          32,
          33,
          34,
          35,
          36,
          37,
          38,
          39,
          40,
          41,
          42,
          43,
          44,
          45,
          46,
          47,
          48,
          49,
          50,
          51,
          52,
          53,
          54,
          55,
          56,
          57,
          58,
          59,
          60,
          61,
          62,
          63,
          64,
          65,
          66,
          67,
          68,
          69,
          70,
          71,
          72,
          73,
          74,
          75,
          76,
          77,
          78,
          79,
          80,
          81,
          82,
          83,
          84,
          85,
          86,
          87,
          88,
          89,
          90,
          91,
          92,
          93,
          94,
          95,
          96,
          97,
          98,
          99,
          100,
          101,
          102,
          103,
          104,
          105,
          106,
          107,
          108,
          109,
          110,
          111,
          112,
          113,
          114,
          115,
          116,
          117,
          118,
          119,
          120,
          121,
          122,
          123,
          124,
          125,
          126,
          127,
          128,
          129,
          130,
          131,
          132,
          133,
          134,
          135,
          136,
          137,
          138,
          139,
          140,
          141,
          142,
          143,
          144,
          145,
          146,
          147,
          148,
          149,
          150,
          151,
          152,
          153,
          154,
          155,
          156,
          157,
          158,
          159,
          160,
          161,
          162,
          163,
          164,
          165,
          166,
          167,
          168,
          169,
          170,
          171,
          172,
          173,
          174,
          175,
          176,
          177,
          178,
          179,
          180,
          181,
          182,
          183,
          184,
          185,
          186,
          187,
          188,
          189,
          190,
          191,
          192,
          193,
          194,
          195,
          196,
          197,
          198,
          199,
          200,
          201,
          202,
          203,
          204,
          205,
          206,
          207,
          208,
          209,
          210,
          211,
          212,
          213,
          214,
          215,
          216,
          217,
          218,
          219,
          220,
          221,
          222,
          223,
          224,
          225,
          226,
          227,
          228,
          229,
          230,
          231,
          232,
          233,
          234,
          235,
          236,
          237,
          238,
          239,
          240,
          241,
          242,
          243,
          244,
          245,
          246,
          247,
          248,
          249,
          250,
          251,
          252,
          253,
          254,
          255,
          256,
          257,
          258,
          259,
          260,
          261,
          262,
          263,
          264,
          265,
          266,
          267,
          268,
          269,
          270,
          271,
          272,
          273,
          274,
          275,
          276,
          277,
          278,
          279,
          280,
          281,
          282,
          283,
          284,
          285,
          286,
          287,
          288,
          289,
          290,
          291,
          292,
          293,
          294,
          295,
          296,
          297,
          298,
          299,
          300
         ],
         "y": [
          0.2829690551083533,
          0.409705323770313,
          0.4790224532691693,
          0.439877437033113,
          0.44802527402234915,
          0.4885098440688926,
          0.5812323947108516,
          0.6497333052313257,
          0.6544246729240373,
          0.6155024476555976,
          0.6016438947833062,
          0.5885046247252522,
          0.5691460472663575,
          0.6233245485731055,
          0.6543248276399325,
          0.6246560142101643,
          0.600879598655552,
          0.5878556008183824,
          0.572118514729593,
          0.5744778790856572,
          0.5657669396332514,
          0.5695434745848997,
          0.5762134825167964,
          0.5716260732418464,
          0.5722016731149094,
          0.5702271118846632,
          0.5763687343071073,
          0.5791937160528711,
          0.5910628785679878,
          0.5880067815736155,
          0.5950215486840233,
          0.5947955325607812,
          0.6109125833884762,
          0.6126168945494281,
          0.6172485202650783,
          0.6277005382587765,
          0.6360358592090137,
          0.6490838266830132,
          0.6605017349824424,
          0.6760871085099847,
          0.6920018606302418,
          0.7105911624553458,
          0.7257091871691104,
          0.7390217470307326,
          0.7496522249854285,
          0.7586981286355545,
          0.7714295996615398,
          0.7737711984782671,
          0.7757239872756532,
          0.7832544310826077,
          0.7889364996310101,
          0.7948845680655148,
          0.8050835776233592,
          0.8143562394948801,
          0.820504767783178,
          0.8296417589555364,
          0.8397371824393527,
          0.8455299670832249,
          0.8507759784009159,
          0.8561519125599535,
          0.8592954217562687,
          0.8621267687229393,
          0.8669406766348929,
          0.8704570803385294,
          0.8748832112313005,
          0.8798707494573975,
          0.8868997012046965,
          0.8900163345561627,
          0.893534287038414,
          0.8985571205189449,
          0.9006768817696289,
          0.9097961584063086,
          0.9136299130906467,
          0.9200256585195353,
          0.925252817547907,
          0.930150921646964,
          0.9350894399113311,
          0.9446176126642032,
          0.9495305038832323,
          0.9567367766982733,
          0.961402720437256,
          0.9659345974182477,
          0.9732888658261672,
          0.9800969965900064,
          0.9871705328855368,
          0.9944807745396406,
          0.998915312805929,
          1.0069639819289695,
          1.0142736168355833,
          1.023388076219205,
          1.0309810588758281,
          1.0379492806966482,
          1.0453311794537892,
          1.054127637498324,
          1.0615123352199114,
          1.0692425893495354,
          1.0758432234759487,
          1.0857818276093034,
          1.1049554870975362,
          1.1100977412626891,
          1.1148311658810146,
          1.120401615392815,
          1.123251897946261,
          1.1242357953688347,
          1.1255583962025995,
          1.1259556639291313,
          1.1272742541950262,
          1.1302649114693348,
          1.1330351846349287,
          1.1355213187743942,
          1.1388604720929274,
          1.1423749408083583,
          1.1462243064136424,
          1.1485388318758103,
          1.1507009614152666,
          1.1513011466651644,
          1.151781355261735,
          1.1511594125395004,
          1.1497626778759633,
          1.1502389848804395,
          1.1498986673412588,
          1.1496746936324995,
          1.1490508532844688,
          1.1489382686849137,
          1.1499055904094564,
          1.1490582818415676,
          1.14837774605334,
          1.1487662346601795,
          1.148682537650738,
          1.1496290382578438,
          1.1502693527494827,
          1.1521492059288811,
          1.1539559801381096,
          1.155702661869329,
          1.157003096142025,
          1.1593698232942666,
          1.1610685578637483,
          1.161634156160524,
          1.161475690334262,
          1.160592232117912,
          1.1582252984502266,
          1.1533657111834814,
          1.147586516405906,
          1.141736683023222,
          1.135830534528641,
          1.1428537014254447,
          1.1530860470305835,
          1.1468041992843674,
          1.140649961313076,
          1.1343760188383611,
          1.1280812554422563,
          1.1219047751687825,
          1.1158222768666175,
          1.1097490822780216,
          1.1035166056139627,
          1.0975146281090635,
          1.0919880393137666,
          1.0864696245899437,
          1.081011922798368,
          1.0751933692099642,
          1.0709784838341392,
          1.0661791144471466,
          1.063840725437737,
          1.0611544091012173,
          1.0578854839850127,
          1.0538417167988576,
          1.0506407479814597,
          1.047659165030068,
          1.0441909826560547,
          1.0396143304085077,
          1.0347088468103358,
          1.029615503468769,
          1.024196385294472,
          1.0209159604365226,
          1.0168935609606746,
          1.0132007842883792,
          1.0098166735664953,
          1.005889296846416,
          1.002034039565654,
          0.9984414475916134,
          0.9958272585494308,
          0.9925162488464646,
          0.9892787450305955,
          0.9862674157491448,
          0.9840363403551461,
          0.9812833312439703,
          0.9794666611415211,
          0.977995831425476,
          0.9764496831195533,
          0.9754199207895404,
          0.974580388857231,
          0.9729770470526548,
          0.9696470017726422,
          0.9691850794761437,
          0.9685708666598905,
          0.9683968919120328,
          0.9680751263886384,
          0.9673398759378294,
          0.9687844031147538,
          0.9704018683311277,
          0.9725195515243817,
          0.977171198842487,
          0.9812071947300337,
          0.9832331966436789,
          0.9857928137800175,
          0.9872763824770665,
          0.9903661104737063,
          0.9929191434518826,
          0.9965143004668006,
          0.9990545148555976,
          1.0015679195091614,
          1.0067599235599762,
          1.009486107678129,
          1.0126930250996646,
          1.0159284613252477,
          1.0194995534321873,
          1.0232243789108304,
          1.026313016548861,
          1.0307771191444846,
          1.0347507344469242,
          1.0374999748522673,
          1.0404690834569377,
          1.041924929238199,
          1.0433782243626821,
          1.0445674252480674,
          1.045852612117096,
          1.047416012848336,
          1.0485368029576494,
          1.0494977959999219,
          1.0514876027058881,
          1.0528564268620064,
          1.0540454636180456,
          1.0555708068217455,
          1.058023048780645,
          1.0599637128569546,
          1.061647380641984,
          1.0634793232903383,
          1.065614710305884,
          1.0667365845213634,
          1.067501448682904,
          1.0695836941689298,
          1.0711740132912553,
          1.0732015164276367,
          1.0759604264427118,
          1.0777938177962558,
          1.0812847157559744,
          1.0849894873701722,
          1.0882913961368885,
          1.0922158001425573,
          1.0956603695196652,
          1.0989987411362347,
          1.1032007215579493,
          1.1062305757042807,
          1.1094637037208221,
          1.112092418312421,
          1.1147747302797666,
          1.1177490542450856,
          1.1228358449376978,
          1.1245292598334016,
          1.1249854312674985,
          1.1252333606237916,
          1.124924881851965,
          1.1244364214215647,
          1.1243285781285022,
          1.1251712693595173,
          1.1256908676598043,
          1.1268863066929358,
          1.1277009901284518,
          1.1279483479762962,
          1.128898997989617,
          1.1309886875899406,
          1.13330370272,
          1.1351851664000008,
          1.1372271257373279,
          1.1396593714910588,
          1.1430405419993017,
          1.1453079061210487,
          1.1476980524318454,
          1.1507233422414744,
          1.1515683209203285,
          1.152482127243245,
          1.1536828030569506,
          1.1542121941849146,
          1.157074079362889,
          1.157738402815644,
          1.1579435349114764,
          1.1589431366206504,
          1.1627121256548083,
          1.1634905372147635,
          1.1649867463529973,
          1.1670699561822082,
          1.1693724080469945,
          1.1711531728858318,
          1.1732333440361975,
          1.1776602617598286,
          1.1805928626010351,
          1.183578939327983,
          1.1870538067346295,
          1.1899031802068267,
          1.1937716023361766
         ]
        }
       ],
       "layout": {}
      },
      "text/html": [
       "<div id=\"6667475e-cbdf-4ecf-bbc1-046e27b9121e\" style=\"height: 525px; width: 100%;\" class=\"plotly-graph-div\"></div><script type=\"text/javascript\">require([\"plotly\"], function(Plotly) { window.PLOTLYENV=window.PLOTLYENV || {};window.PLOTLYENV.BASE_URL=\"https://plot.ly\";\n",
       "if (document.getElementById(\"6667475e-cbdf-4ecf-bbc1-046e27b9121e\")) {\n",
       "    Plotly.newPlot(\"6667475e-cbdf-4ecf-bbc1-046e27b9121e\", [{\"mode\": \"markers\", \"name\": \"normal\", \"x\": [1, 2, 3, 4, 5, 6, 7, 8, 9, 10, 11, 12, 13, 14, 15, 16, 17, 18, 19, 20, 21, 22, 23, 24, 25, 26, 27, 28, 29, 30, 31, 32, 33, 34, 35, 36, 37, 38, 39, 40, 41, 42, 43, 44, 45, 46, 47, 48, 49, 50, 51, 52, 53, 54, 55, 56, 57, 58, 59, 60, 61, 62, 63, 64, 65, 66, 67, 68, 69, 70, 71, 72, 73, 74, 75, 76, 77, 78, 79, 80, 81, 82, 83, 84, 85, 86, 87, 88, 89, 90, 91, 92, 93, 94, 95, 96, 97, 98, 99, 100, 101, 102, 103, 104, 105, 106, 107, 108, 109, 110, 111, 112, 113, 114, 115, 116, 117, 118, 119, 120, 121, 122, 123, 124, 125, 126, 127, 128, 129, 130, 131, 132, 133, 134, 135, 136, 137, 138, 139, 140, 141, 142, 143, 144, 145, 146, 147, 148, 149, 150, 151, 152, 153, 154, 155, 156, 157, 158, 159, 160, 161, 162, 163, 164, 165, 166, 167, 168, 169, 170, 171, 172, 173, 174, 175, 176, 177, 178, 179, 180, 181, 182, 183, 184, 185, 186, 187, 188, 189, 190, 191, 192, 193, 194, 195, 196, 197, 198, 199, 200, 201, 202, 203, 204, 205, 206, 207, 208, 209, 210, 211, 212, 213, 214, 215, 216, 217, 218, 219, 220, 221, 222, 223, 224, 225, 226, 227, 228, 229, 230, 231, 232, 233, 234, 235, 236, 237, 238, 239, 240, 241, 242, 243, 244, 245, 246, 247, 248, 249, 250, 251, 252, 253, 254, 255, 256, 257, 258, 259, 260, 261, 262, 263, 264, 265, 266, 267, 268, 269, 270, 271, 272, 273, 274, 275, 276, 277, 278, 279, 280, 281, 282, 283, 284, 285, 286, 287, 288, 289, 290, 291, 292, 293, 294, 295, 296, 297, 298, 299, 300], \"y\": [0.2829690551083533, 0.409705323770313, 0.4790224532691693, 0.439877437033113, 0.44802527402234915, 0.4885098440688926, 0.5812323947108516, 0.6497333052313257, 0.6544246729240373, 0.6155024476555976, 0.6016438947833062, 0.5885046247252522, 0.5691460472663575, 0.6233245485731055, 0.6543248276399325, 0.6246560142101643, 0.600879598655552, 0.5878556008183824, 0.572118514729593, 0.5744778790856572, 0.5657669396332514, 0.5695434745848997, 0.5762134825167964, 0.5716260732418464, 0.5722016731149094, 0.5702271118846632, 0.5763687343071073, 0.5791937160528711, 0.5910628785679878, 0.5880067815736155, 0.5950215486840233, 0.5947955325607812, 0.6109125833884762, 0.6126168945494281, 0.6172485202650783, 0.6277005382587765, 0.6360358592090137, 0.6490838266830132, 0.6605017349824424, 0.6760871085099847, 0.6920018606302418, 0.7105911624553458, 0.7257091871691104, 0.7390217470307326, 0.7496522249854285, 0.7586981286355545, 0.7714295996615398, 0.7737711984782671, 0.7757239872756532, 0.7832544310826077, 0.7889364996310101, 0.7948845680655148, 0.8050835776233592, 0.8143562394948801, 0.820504767783178, 0.8296417589555364, 0.8397371824393527, 0.8455299670832249, 0.8507759784009159, 0.8561519125599535, 0.8592954217562687, 0.8621267687229393, 0.8669406766348929, 0.8704570803385294, 0.8748832112313005, 0.8798707494573975, 0.8868997012046965, 0.8900163345561627, 0.893534287038414, 0.8985571205189449, 0.9006768817696289, 0.9097961584063086, 0.9136299130906467, 0.9200256585195353, 0.925252817547907, 0.930150921646964, 0.9350894399113311, 0.9446176126642032, 0.9495305038832323, 0.9567367766982733, 0.961402720437256, 0.9659345974182477, 0.9732888658261672, 0.9800969965900064, 0.9871705328855368, 0.9944807745396406, 0.998915312805929, 1.0069639819289695, 1.0142736168355833, 1.023388076219205, 1.0309810588758281, 1.0379492806966482, 1.0453311794537892, 1.054127637498324, 1.0615123352199114, 1.0692425893495354, 1.0758432234759487, 1.0857818276093034, 1.1049554870975362, 1.1100977412626891, 1.1148311658810146, 1.120401615392815, 1.123251897946261, 1.1242357953688347, 1.1255583962025995, 1.1259556639291313, 1.1272742541950262, 1.1302649114693348, 1.1330351846349287, 1.1355213187743942, 1.1388604720929274, 1.1423749408083583, 1.1462243064136424, 1.1485388318758103, 1.1507009614152666, 1.1513011466651644, 1.151781355261735, 1.1511594125395004, 1.1497626778759633, 1.1502389848804395, 1.1498986673412588, 1.1496746936324995, 1.1490508532844688, 1.1489382686849137, 1.1499055904094564, 1.1490582818415676, 1.14837774605334, 1.1487662346601795, 1.148682537650738, 1.1496290382578438, 1.1502693527494827, 1.1521492059288811, 1.1539559801381096, 1.155702661869329, 1.157003096142025, 1.1593698232942666, 1.1610685578637483, 1.161634156160524, 1.161475690334262, 1.160592232117912, 1.1582252984502266, 1.1533657111834814, 1.147586516405906, 1.141736683023222, 1.135830534528641, 1.1428537014254447, 1.1530860470305835, 1.1468041992843674, 1.140649961313076, 1.1343760188383611, 1.1280812554422563, 1.1219047751687825, 1.1158222768666175, 1.1097490822780216, 1.1035166056139627, 1.0975146281090635, 1.0919880393137666, 1.0864696245899437, 1.081011922798368, 1.0751933692099642, 1.0709784838341392, 1.0661791144471466, 1.063840725437737, 1.0611544091012173, 1.0578854839850127, 1.0538417167988576, 1.0506407479814597, 1.047659165030068, 1.0441909826560547, 1.0396143304085077, 1.0347088468103358, 1.029615503468769, 1.024196385294472, 1.0209159604365226, 1.0168935609606746, 1.0132007842883792, 1.0098166735664953, 1.005889296846416, 1.002034039565654, 0.9984414475916134, 0.9958272585494308, 0.9925162488464646, 0.9892787450305955, 0.9862674157491448, 0.9840363403551461, 0.9812833312439703, 0.9794666611415211, 0.977995831425476, 0.9764496831195533, 0.9754199207895404, 0.974580388857231, 0.9729770470526548, 0.9696470017726422, 0.9691850794761437, 0.9685708666598905, 0.9683968919120328, 0.9680751263886384, 0.9673398759378294, 0.9687844031147538, 0.9704018683311277, 0.9725195515243817, 0.977171198842487, 0.9812071947300337, 0.9832331966436789, 0.9857928137800175, 0.9872763824770665, 0.9903661104737063, 0.9929191434518826, 0.9965143004668006, 0.9990545148555976, 1.0015679195091614, 1.0067599235599762, 1.009486107678129, 1.0126930250996646, 1.0159284613252477, 1.0194995534321873, 1.0232243789108304, 1.026313016548861, 1.0307771191444846, 1.0347507344469242, 1.0374999748522673, 1.0404690834569377, 1.041924929238199, 1.0433782243626821, 1.0445674252480674, 1.045852612117096, 1.047416012848336, 1.0485368029576494, 1.0494977959999219, 1.0514876027058881, 1.0528564268620064, 1.0540454636180456, 1.0555708068217455, 1.058023048780645, 1.0599637128569546, 1.061647380641984, 1.0634793232903383, 1.065614710305884, 1.0667365845213634, 1.067501448682904, 1.0695836941689298, 1.0711740132912553, 1.0732015164276367, 1.0759604264427118, 1.0777938177962558, 1.0812847157559744, 1.0849894873701722, 1.0882913961368885, 1.0922158001425573, 1.0956603695196652, 1.0989987411362347, 1.1032007215579493, 1.1062305757042807, 1.1094637037208221, 1.112092418312421, 1.1147747302797666, 1.1177490542450856, 1.1228358449376978, 1.1245292598334016, 1.1249854312674985, 1.1252333606237916, 1.124924881851965, 1.1244364214215647, 1.1243285781285022, 1.1251712693595173, 1.1256908676598043, 1.1268863066929358, 1.1277009901284518, 1.1279483479762962, 1.128898997989617, 1.1309886875899406, 1.13330370272, 1.1351851664000008, 1.1372271257373279, 1.1396593714910588, 1.1430405419993017, 1.1453079061210487, 1.1476980524318454, 1.1507233422414744, 1.1515683209203285, 1.152482127243245, 1.1536828030569506, 1.1542121941849146, 1.157074079362889, 1.157738402815644, 1.1579435349114764, 1.1589431366206504, 1.1627121256548083, 1.1634905372147635, 1.1649867463529973, 1.1670699561822082, 1.1693724080469945, 1.1711531728858318, 1.1732333440361975, 1.1776602617598286, 1.1805928626010351, 1.183578939327983, 1.1870538067346295, 1.1899031802068267, 1.1937716023361766], \"type\": \"scatter\", \"uid\": \"1aacaa2a-ecbf-4f2c-8ce2-1f93f522eeba\"}], {}, {\"showLink\": false, \"linkText\": \"Export to plot.ly\", \"plotlyServerURL\": \"https://plot.ly\"}); \n",
       "}\n",
       "});</script><script type=\"text/javascript\">window.addEventListener(\"resize\", function(){if (document.getElementById(\"6667475e-cbdf-4ecf-bbc1-046e27b9121e\")) {window._Plotly.Plots.resize(document.getElementById(\"6667475e-cbdf-4ecf-bbc1-046e27b9121e\"));};})</script>"
      ],
      "text/vnd.plotly.v1+html": [
       "<div id=\"6667475e-cbdf-4ecf-bbc1-046e27b9121e\" style=\"height: 525px; width: 100%;\" class=\"plotly-graph-div\"></div><script type=\"text/javascript\">require([\"plotly\"], function(Plotly) { window.PLOTLYENV=window.PLOTLYENV || {};window.PLOTLYENV.BASE_URL=\"https://plot.ly\";\n",
       "if (document.getElementById(\"6667475e-cbdf-4ecf-bbc1-046e27b9121e\")) {\n",
       "    Plotly.newPlot(\"6667475e-cbdf-4ecf-bbc1-046e27b9121e\", [{\"mode\": \"markers\", \"name\": \"normal\", \"x\": [1, 2, 3, 4, 5, 6, 7, 8, 9, 10, 11, 12, 13, 14, 15, 16, 17, 18, 19, 20, 21, 22, 23, 24, 25, 26, 27, 28, 29, 30, 31, 32, 33, 34, 35, 36, 37, 38, 39, 40, 41, 42, 43, 44, 45, 46, 47, 48, 49, 50, 51, 52, 53, 54, 55, 56, 57, 58, 59, 60, 61, 62, 63, 64, 65, 66, 67, 68, 69, 70, 71, 72, 73, 74, 75, 76, 77, 78, 79, 80, 81, 82, 83, 84, 85, 86, 87, 88, 89, 90, 91, 92, 93, 94, 95, 96, 97, 98, 99, 100, 101, 102, 103, 104, 105, 106, 107, 108, 109, 110, 111, 112, 113, 114, 115, 116, 117, 118, 119, 120, 121, 122, 123, 124, 125, 126, 127, 128, 129, 130, 131, 132, 133, 134, 135, 136, 137, 138, 139, 140, 141, 142, 143, 144, 145, 146, 147, 148, 149, 150, 151, 152, 153, 154, 155, 156, 157, 158, 159, 160, 161, 162, 163, 164, 165, 166, 167, 168, 169, 170, 171, 172, 173, 174, 175, 176, 177, 178, 179, 180, 181, 182, 183, 184, 185, 186, 187, 188, 189, 190, 191, 192, 193, 194, 195, 196, 197, 198, 199, 200, 201, 202, 203, 204, 205, 206, 207, 208, 209, 210, 211, 212, 213, 214, 215, 216, 217, 218, 219, 220, 221, 222, 223, 224, 225, 226, 227, 228, 229, 230, 231, 232, 233, 234, 235, 236, 237, 238, 239, 240, 241, 242, 243, 244, 245, 246, 247, 248, 249, 250, 251, 252, 253, 254, 255, 256, 257, 258, 259, 260, 261, 262, 263, 264, 265, 266, 267, 268, 269, 270, 271, 272, 273, 274, 275, 276, 277, 278, 279, 280, 281, 282, 283, 284, 285, 286, 287, 288, 289, 290, 291, 292, 293, 294, 295, 296, 297, 298, 299, 300], \"y\": [0.2829690551083533, 0.409705323770313, 0.4790224532691693, 0.439877437033113, 0.44802527402234915, 0.4885098440688926, 0.5812323947108516, 0.6497333052313257, 0.6544246729240373, 0.6155024476555976, 0.6016438947833062, 0.5885046247252522, 0.5691460472663575, 0.6233245485731055, 0.6543248276399325, 0.6246560142101643, 0.600879598655552, 0.5878556008183824, 0.572118514729593, 0.5744778790856572, 0.5657669396332514, 0.5695434745848997, 0.5762134825167964, 0.5716260732418464, 0.5722016731149094, 0.5702271118846632, 0.5763687343071073, 0.5791937160528711, 0.5910628785679878, 0.5880067815736155, 0.5950215486840233, 0.5947955325607812, 0.6109125833884762, 0.6126168945494281, 0.6172485202650783, 0.6277005382587765, 0.6360358592090137, 0.6490838266830132, 0.6605017349824424, 0.6760871085099847, 0.6920018606302418, 0.7105911624553458, 0.7257091871691104, 0.7390217470307326, 0.7496522249854285, 0.7586981286355545, 0.7714295996615398, 0.7737711984782671, 0.7757239872756532, 0.7832544310826077, 0.7889364996310101, 0.7948845680655148, 0.8050835776233592, 0.8143562394948801, 0.820504767783178, 0.8296417589555364, 0.8397371824393527, 0.8455299670832249, 0.8507759784009159, 0.8561519125599535, 0.8592954217562687, 0.8621267687229393, 0.8669406766348929, 0.8704570803385294, 0.8748832112313005, 0.8798707494573975, 0.8868997012046965, 0.8900163345561627, 0.893534287038414, 0.8985571205189449, 0.9006768817696289, 0.9097961584063086, 0.9136299130906467, 0.9200256585195353, 0.925252817547907, 0.930150921646964, 0.9350894399113311, 0.9446176126642032, 0.9495305038832323, 0.9567367766982733, 0.961402720437256, 0.9659345974182477, 0.9732888658261672, 0.9800969965900064, 0.9871705328855368, 0.9944807745396406, 0.998915312805929, 1.0069639819289695, 1.0142736168355833, 1.023388076219205, 1.0309810588758281, 1.0379492806966482, 1.0453311794537892, 1.054127637498324, 1.0615123352199114, 1.0692425893495354, 1.0758432234759487, 1.0857818276093034, 1.1049554870975362, 1.1100977412626891, 1.1148311658810146, 1.120401615392815, 1.123251897946261, 1.1242357953688347, 1.1255583962025995, 1.1259556639291313, 1.1272742541950262, 1.1302649114693348, 1.1330351846349287, 1.1355213187743942, 1.1388604720929274, 1.1423749408083583, 1.1462243064136424, 1.1485388318758103, 1.1507009614152666, 1.1513011466651644, 1.151781355261735, 1.1511594125395004, 1.1497626778759633, 1.1502389848804395, 1.1498986673412588, 1.1496746936324995, 1.1490508532844688, 1.1489382686849137, 1.1499055904094564, 1.1490582818415676, 1.14837774605334, 1.1487662346601795, 1.148682537650738, 1.1496290382578438, 1.1502693527494827, 1.1521492059288811, 1.1539559801381096, 1.155702661869329, 1.157003096142025, 1.1593698232942666, 1.1610685578637483, 1.161634156160524, 1.161475690334262, 1.160592232117912, 1.1582252984502266, 1.1533657111834814, 1.147586516405906, 1.141736683023222, 1.135830534528641, 1.1428537014254447, 1.1530860470305835, 1.1468041992843674, 1.140649961313076, 1.1343760188383611, 1.1280812554422563, 1.1219047751687825, 1.1158222768666175, 1.1097490822780216, 1.1035166056139627, 1.0975146281090635, 1.0919880393137666, 1.0864696245899437, 1.081011922798368, 1.0751933692099642, 1.0709784838341392, 1.0661791144471466, 1.063840725437737, 1.0611544091012173, 1.0578854839850127, 1.0538417167988576, 1.0506407479814597, 1.047659165030068, 1.0441909826560547, 1.0396143304085077, 1.0347088468103358, 1.029615503468769, 1.024196385294472, 1.0209159604365226, 1.0168935609606746, 1.0132007842883792, 1.0098166735664953, 1.005889296846416, 1.002034039565654, 0.9984414475916134, 0.9958272585494308, 0.9925162488464646, 0.9892787450305955, 0.9862674157491448, 0.9840363403551461, 0.9812833312439703, 0.9794666611415211, 0.977995831425476, 0.9764496831195533, 0.9754199207895404, 0.974580388857231, 0.9729770470526548, 0.9696470017726422, 0.9691850794761437, 0.9685708666598905, 0.9683968919120328, 0.9680751263886384, 0.9673398759378294, 0.9687844031147538, 0.9704018683311277, 0.9725195515243817, 0.977171198842487, 0.9812071947300337, 0.9832331966436789, 0.9857928137800175, 0.9872763824770665, 0.9903661104737063, 0.9929191434518826, 0.9965143004668006, 0.9990545148555976, 1.0015679195091614, 1.0067599235599762, 1.009486107678129, 1.0126930250996646, 1.0159284613252477, 1.0194995534321873, 1.0232243789108304, 1.026313016548861, 1.0307771191444846, 1.0347507344469242, 1.0374999748522673, 1.0404690834569377, 1.041924929238199, 1.0433782243626821, 1.0445674252480674, 1.045852612117096, 1.047416012848336, 1.0485368029576494, 1.0494977959999219, 1.0514876027058881, 1.0528564268620064, 1.0540454636180456, 1.0555708068217455, 1.058023048780645, 1.0599637128569546, 1.061647380641984, 1.0634793232903383, 1.065614710305884, 1.0667365845213634, 1.067501448682904, 1.0695836941689298, 1.0711740132912553, 1.0732015164276367, 1.0759604264427118, 1.0777938177962558, 1.0812847157559744, 1.0849894873701722, 1.0882913961368885, 1.0922158001425573, 1.0956603695196652, 1.0989987411362347, 1.1032007215579493, 1.1062305757042807, 1.1094637037208221, 1.112092418312421, 1.1147747302797666, 1.1177490542450856, 1.1228358449376978, 1.1245292598334016, 1.1249854312674985, 1.1252333606237916, 1.124924881851965, 1.1244364214215647, 1.1243285781285022, 1.1251712693595173, 1.1256908676598043, 1.1268863066929358, 1.1277009901284518, 1.1279483479762962, 1.128898997989617, 1.1309886875899406, 1.13330370272, 1.1351851664000008, 1.1372271257373279, 1.1396593714910588, 1.1430405419993017, 1.1453079061210487, 1.1476980524318454, 1.1507233422414744, 1.1515683209203285, 1.152482127243245, 1.1536828030569506, 1.1542121941849146, 1.157074079362889, 1.157738402815644, 1.1579435349114764, 1.1589431366206504, 1.1627121256548083, 1.1634905372147635, 1.1649867463529973, 1.1670699561822082, 1.1693724080469945, 1.1711531728858318, 1.1732333440361975, 1.1776602617598286, 1.1805928626010351, 1.183578939327983, 1.1870538067346295, 1.1899031802068267, 1.1937716023361766], \"type\": \"scatter\", \"uid\": \"1aacaa2a-ecbf-4f2c-8ce2-1f93f522eeba\"}], {}, {\"showLink\": false, \"linkText\": \"Export to plot.ly\", \"plotlyServerURL\": \"https://plot.ly\"}); \n",
       "}\n",
       "});</script><script type=\"text/javascript\">window.addEventListener(\"resize\", function(){if (document.getElementById(\"6667475e-cbdf-4ecf-bbc1-046e27b9121e\")) {window._Plotly.Plots.resize(document.getElementById(\"6667475e-cbdf-4ecf-bbc1-046e27b9121e\"));};})</script>"
      ]
     },
     "metadata": {},
     "output_type": "display_data"
    }
   ],
   "source": [
    "def calc_avg_cum_regrets(trial_values, best_values):\n",
    "    cum_regret = 0.\n",
    "    avg_cum_regrets = []\n",
    "    for t, (best_value, trial_value) in enumerate(zip(best_values, trial_values)):\n",
    "        cum_regret += best_value - trial_value\n",
    "        avg_cum_regrets.append(cum_regret / (t + 1))\n",
    "    return avg_cum_regrets\n",
    "\n",
    "avg_cum_regrets_normal = calc_avg_cum_regrets(trial_values, best_values)\n",
    "\n",
    "data = [\n",
    "    go.Scatter(x=np.arange(len(avg_cum_regrets_normal)) + 1, y=avg_cum_regrets_normal, mode='markers', name='normal')\n",
    "]\n",
    "iplot(data, filename='syn_bogunovic_rbf_ctv')"
   ]
  },
  {
   "cell_type": "code",
   "execution_count": null,
   "metadata": {},
   "outputs": [],
   "source": []
  }
 ],
 "metadata": {
  "kernelspec": {
   "display_name": "Python 3",
   "language": "python",
   "name": "python3"
  },
  "language_info": {
   "codemirror_mode": {
    "name": "ipython",
    "version": 3
   },
   "file_extension": ".py",
   "mimetype": "text/x-python",
   "name": "python",
   "nbconvert_exporter": "python",
   "pygments_lexer": "ipython3",
   "version": "3.6.5"
  }
 },
 "nbformat": 4,
 "nbformat_minor": 2
}
