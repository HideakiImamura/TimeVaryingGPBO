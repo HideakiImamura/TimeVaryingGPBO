{
 "cells": [
  {
   "cell_type": "code",
   "execution_count": 1,
   "metadata": {},
   "outputs": [
    {
     "data": {
      "text/html": [
       "<script type=\"text/javascript\">window.PlotlyConfig = {MathJaxConfig: 'local'};</script><script type=\"text/javascript\">if (window.MathJax) {MathJax.Hub.Config({SVG: {font: \"STIX-Web\"}});}</script><script>requirejs.config({paths: { 'plotly': ['https://cdn.plot.ly/plotly-latest.min']},});if(!window._Plotly) {require(['plotly'],function(plotly) {window._Plotly=plotly;});}</script>"
      ],
      "text/vnd.plotly.v1+html": [
       "<script type=\"text/javascript\">window.PlotlyConfig = {MathJaxConfig: 'local'};</script><script type=\"text/javascript\">if (window.MathJax) {MathJax.Hub.Config({SVG: {font: \"STIX-Web\"}});}</script><script>requirejs.config({paths: { 'plotly': ['https://cdn.plot.ly/plotly-latest.min']},});if(!window._Plotly) {require(['plotly'],function(plotly) {window._Plotly=plotly;});}</script>"
      ]
     },
     "metadata": {},
     "output_type": "display_data"
    }
   ],
   "source": [
    "# This is necessary for jupyter to draw graphs offline.\n",
    "# Plotly tries to use cloud service to draw graphs by default.\n",
    "from plotly.offline import download_plotlyjs, init_notebook_mode, plot, iplot\n",
    "init_notebook_mode(connected=True)"
   ]
  },
  {
   "cell_type": "code",
   "execution_count": 2,
   "metadata": {},
   "outputs": [],
   "source": [
    "import numpy as np\n",
    "import pandas as pd\n",
    "import plotly.figure_factory as ff\n",
    "import plotly.graph_objs as go\n",
    "import plotly.io as pio\n",
    "\n",
    "from datetime import datetime"
   ]
  },
  {
   "cell_type": "code",
   "execution_count": 31,
   "metadata": {},
   "outputs": [],
   "source": [
    "def layout_gen(title):\n",
    "    return go.Layout(\n",
    "        title = title,\n",
    "        font = dict(\n",
    "           size = 30,\n",
    "        ),\n",
    "        autosize = False,\n",
    "        width = 1000,\n",
    "        height = 500,\n",
    "        #legend=dict(x=0.8, y=0.2)\n",
    "        annotations=[\n",
    "        dict(\n",
    "            x=0.5,\n",
    "            y=-0.2,\n",
    "            showarrow=False,\n",
    "            text='Algorithms',\n",
    "            xref='paper',\n",
    "            yref='paper'\n",
    "        ),\n",
    "        dict(\n",
    "            x=-0.15,\n",
    "            y=-0.1,\n",
    "            showarrow=False,\n",
    "            text='Wall Clock Time [sec]',\n",
    "            textangle=-90,\n",
    "            xref='paper',\n",
    "            yref='paper'\n",
    "        )\n",
    "        ],\n",
    "        margin=dict(l=150)\n",
    "    )"
   ]
  },
  {
   "cell_type": "code",
   "execution_count": 32,
   "metadata": {},
   "outputs": [],
   "source": [
    "def extract_run_time(target_file):\n",
    "    with open(target_file) as f:\n",
    "        lines = f.readlines()\n",
    "        \n",
    "        i=0\n",
    "        while True:\n",
    "            if lines[i][0:2] != '[I':\n",
    "                i += 1\n",
    "                continue\n",
    "            else:\n",
    "                start = lines[i][3:22]\n",
    "                break\n",
    "        \n",
    "        i=-1\n",
    "        while True:\n",
    "            if lines[i][0:2] != '[I':\n",
    "                i -= 1\n",
    "                continue\n",
    "            else:\n",
    "                end = lines[i][3:22]\n",
    "                break\n",
    "        \n",
    "        start = datetime.strptime(start, '%Y-%m-%d %H:%M:%S')\n",
    "        end = datetime.strptime(end, '%Y-%m-%d %H:%M:%S')\n",
    "        print(start, end)\n",
    "        elapsed = end - start\n",
    "        ret = elapsed.total_seconds()\n",
    "        return ret"
   ]
  },
  {
   "cell_type": "code",
   "execution_count": 38,
   "metadata": {},
   "outputs": [],
   "source": [
    "name_list = [\n",
    "    'GP-UCB',\n",
    "    'TV',\n",
    "    'CTV',\n",
    "    'CTV-simple']\n",
    "\n",
    "def plot_run_time(normal, dtv, ctv, ctv_delta, title, filename='hoge'):\n",
    "    x = name_list\n",
    "    y = []\n",
    "    for target_file in [normal, dtv, ctv, ctv_delta]:\n",
    "        y.append(extract_run_time(target_file))\n",
    "    data = [go.Bar(x=x, y=y)]\n",
    "    layout = layout_gen(title)\n",
    "    fig = go.Figure(data=data, layout=layout)\n",
    "    iplot(fig, filename=filename)"
   ]
  },
  {
   "cell_type": "code",
   "execution_count": 39,
   "metadata": {},
   "outputs": [
    {
     "name": "stdout",
     "output_type": "stream",
     "text": [
      "2019-05-05 17:30:36 2019-05-07 03:53:36\n",
      "2019-05-05 17:30:36 2019-05-08 04:02:57\n",
      "2019-05-07 14:46:38 2019-05-17 14:04:55\n",
      "2019-05-07 14:47:55 2019-05-07 22:30:27\n"
     ]
    },
    {
     "data": {
      "application/vnd.plotly.v1+json": {
       "config": {
        "linkText": "Export to plot.ly",
        "plotlyServerURL": "https://plot.ly",
        "showLink": false
       },
       "data": [
        {
         "type": "bar",
         "uid": "fb39d406-d096-49a6-a72b-b17fa6d2a7c5",
         "x": [
          "GP-UCB",
          "TV",
          "CTV",
          "CTV-simple"
         ],
         "y": [
          123780,
          210741,
          861497,
          27752
         ]
        }
       ],
       "layout": {
        "annotations": [
         {
          "showarrow": false,
          "text": "Algorithms",
          "x": 0.5,
          "xref": "paper",
          "y": -0.2,
          "yref": "paper"
         },
         {
          "showarrow": false,
          "text": "Wall Clock Time [sec]",
          "textangle": -90,
          "x": -0.15,
          "xref": "paper",
          "y": -0.1,
          "yref": "paper"
         }
        ],
        "autosize": false,
        "font": {
         "size": 30
        },
        "height": 500,
        "margin": {
         "l": 150
        },
        "title": {
         "text": "Uniform Setting by SE Kernel"
        },
        "width": 1000
       }
      },
      "text/html": [
       "<div id=\"6dcf0af5-2bca-43bc-9a2b-2431f6443b57\" style=\"height: 500px; width: 1000px;\" class=\"plotly-graph-div\"></div><script type=\"text/javascript\">require([\"plotly\"], function(Plotly) { window.PLOTLYENV=window.PLOTLYENV || {};window.PLOTLYENV.BASE_URL=\"https://plot.ly\";\n",
       "if (document.getElementById(\"6dcf0af5-2bca-43bc-9a2b-2431f6443b57\")) {\n",
       "    Plotly.newPlot(\"6dcf0af5-2bca-43bc-9a2b-2431f6443b57\", [{\"x\": [\"GP-UCB\", \"TV\", \"CTV\", \"CTV-simple\"], \"y\": [123780.0, 210741.0, 861497.0, 27752.0], \"type\": \"bar\", \"uid\": \"fb39d406-d096-49a6-a72b-b17fa6d2a7c5\"}], {\"annotations\": [{\"showarrow\": false, \"text\": \"Algorithms\", \"x\": 0.5, \"xref\": \"paper\", \"y\": -0.2, \"yref\": \"paper\"}, {\"showarrow\": false, \"text\": \"Wall Clock Time [sec]\", \"textangle\": -90, \"x\": -0.15, \"xref\": \"paper\", \"y\": -0.1, \"yref\": \"paper\"}], \"autosize\": false, \"font\": {\"size\": 30}, \"height\": 500, \"margin\": {\"l\": 150}, \"title\": {\"text\": \"Uniform Setting by SE Kernel\"}, \"width\": 1000}, {\"showLink\": false, \"linkText\": \"Export to plot.ly\", \"plotlyServerURL\": \"https://plot.ly\"}); \n",
       "}\n",
       "});</script>"
      ],
      "text/vnd.plotly.v1+html": [
       "<div id=\"6dcf0af5-2bca-43bc-9a2b-2431f6443b57\" style=\"height: 500px; width: 1000px;\" class=\"plotly-graph-div\"></div><script type=\"text/javascript\">require([\"plotly\"], function(Plotly) { window.PLOTLYENV=window.PLOTLYENV || {};window.PLOTLYENV.BASE_URL=\"https://plot.ly\";\n",
       "if (document.getElementById(\"6dcf0af5-2bca-43bc-9a2b-2431f6443b57\")) {\n",
       "    Plotly.newPlot(\"6dcf0af5-2bca-43bc-9a2b-2431f6443b57\", [{\"x\": [\"GP-UCB\", \"TV\", \"CTV\", \"CTV-simple\"], \"y\": [123780.0, 210741.0, 861497.0, 27752.0], \"type\": \"bar\", \"uid\": \"fb39d406-d096-49a6-a72b-b17fa6d2a7c5\"}], {\"annotations\": [{\"showarrow\": false, \"text\": \"Algorithms\", \"x\": 0.5, \"xref\": \"paper\", \"y\": -0.2, \"yref\": \"paper\"}, {\"showarrow\": false, \"text\": \"Wall Clock Time [sec]\", \"textangle\": -90, \"x\": -0.15, \"xref\": \"paper\", \"y\": -0.1, \"yref\": \"paper\"}], \"autosize\": false, \"font\": {\"size\": 30}, \"height\": 500, \"margin\": {\"l\": 150}, \"title\": {\"text\": \"Uniform Setting by SE Kernel\"}, \"width\": 1000}, {\"showLink\": false, \"linkText\": \"Export to plot.ly\", \"plotlyServerURL\": \"https://plot.ly\"}); \n",
       "}\n",
       "});</script>"
      ]
     },
     "metadata": {},
     "output_type": "display_data"
    }
   ],
   "source": [
    "title = 'Uniform Setting by SE Kernel'\n",
    "\n",
    "target_dir = './results/'\n",
    "normal = target_dir + '20190505/output_log_rbf_bogunovic_normal.log'\n",
    "dtv = target_dir + '20190505/output_log_rbf_bogunovic_dtv.log'\n",
    "ctv = target_dir + '20190507/output_log_rbf_bogunovic_ctv.log'\n",
    "ctv_delta = target_dir + '20190507/output_log_rbf_bogunovic_ctv_delta.log'\n",
    "\n",
    "plot_run_time(normal, dtv, ctv, ctv_delta, title)"
   ]
  },
  {
   "cell_type": "code",
   "execution_count": 35,
   "metadata": {},
   "outputs": [
    {
     "name": "stdout",
     "output_type": "stream",
     "text": [
      "2019-05-05 17:30:36 2019-05-07 13:10:05\n",
      "2019-05-05 17:30:36 2019-05-09 02:03:39\n",
      "2019-05-06 20:11:09 2019-05-16 08:57:04\n",
      "2019-05-06 20:11:09 2019-05-07 01:33:47\n"
     ]
    },
    {
     "data": {
      "application/vnd.plotly.v1+json": {
       "config": {
        "linkText": "Export to plot.ly",
        "plotlyServerURL": "https://plot.ly",
        "showLink": false
       },
       "data": [
        {
         "type": "bar",
         "uid": "c7650ebd-a76e-411b-ac2b-487143209acb",
         "x": [
          "GP-UCB",
          "DTV",
          "CTV",
          "CTVsimple"
         ],
         "y": [
          157169,
          289983,
          823555,
          19358
         ]
        }
       ],
       "layout": {
        "annotations": [
         {
          "showarrow": false,
          "text": "Algorithms",
          "x": 0.5,
          "xref": "paper",
          "y": -0.2,
          "yref": "paper"
         },
         {
          "showarrow": false,
          "text": "Wall Clock Time [sec]",
          "textangle": -90,
          "x": -0.15,
          "xref": "paper",
          "y": -0.1,
          "yref": "paper"
         }
        ],
        "autosize": false,
        "font": {
         "size": 30
        },
        "height": 500,
        "margin": {
         "l": 150
        },
        "title": {
         "text": "Uniform Setting by Matern52 Kernel"
        },
        "width": 1000
       }
      },
      "text/html": [
       "<div id=\"2e562627-896c-41f6-bcd3-8eec63912d18\" style=\"height: 500px; width: 1000px;\" class=\"plotly-graph-div\"></div><script type=\"text/javascript\">require([\"plotly\"], function(Plotly) { window.PLOTLYENV=window.PLOTLYENV || {};window.PLOTLYENV.BASE_URL=\"https://plot.ly\";\n",
       "if (document.getElementById(\"2e562627-896c-41f6-bcd3-8eec63912d18\")) {\n",
       "    Plotly.newPlot(\"2e562627-896c-41f6-bcd3-8eec63912d18\", [{\"x\": [\"GP-UCB\", \"DTV\", \"CTV\", \"CTVsimple\"], \"y\": [157169.0, 289983.0, 823555.0, 19358.0], \"type\": \"bar\", \"uid\": \"c7650ebd-a76e-411b-ac2b-487143209acb\"}], {\"annotations\": [{\"showarrow\": false, \"text\": \"Algorithms\", \"x\": 0.5, \"xref\": \"paper\", \"y\": -0.2, \"yref\": \"paper\"}, {\"showarrow\": false, \"text\": \"Wall Clock Time [sec]\", \"textangle\": -90, \"x\": -0.15, \"xref\": \"paper\", \"y\": -0.1, \"yref\": \"paper\"}], \"autosize\": false, \"font\": {\"size\": 30}, \"height\": 500, \"margin\": {\"l\": 150}, \"title\": {\"text\": \"Uniform Setting by Matern52 Kernel\"}, \"width\": 1000}, {\"showLink\": false, \"linkText\": \"Export to plot.ly\", \"plotlyServerURL\": \"https://plot.ly\"}); \n",
       "}\n",
       "});</script>"
      ],
      "text/vnd.plotly.v1+html": [
       "<div id=\"2e562627-896c-41f6-bcd3-8eec63912d18\" style=\"height: 500px; width: 1000px;\" class=\"plotly-graph-div\"></div><script type=\"text/javascript\">require([\"plotly\"], function(Plotly) { window.PLOTLYENV=window.PLOTLYENV || {};window.PLOTLYENV.BASE_URL=\"https://plot.ly\";\n",
       "if (document.getElementById(\"2e562627-896c-41f6-bcd3-8eec63912d18\")) {\n",
       "    Plotly.newPlot(\"2e562627-896c-41f6-bcd3-8eec63912d18\", [{\"x\": [\"GP-UCB\", \"DTV\", \"CTV\", \"CTVsimple\"], \"y\": [157169.0, 289983.0, 823555.0, 19358.0], \"type\": \"bar\", \"uid\": \"c7650ebd-a76e-411b-ac2b-487143209acb\"}], {\"annotations\": [{\"showarrow\": false, \"text\": \"Algorithms\", \"x\": 0.5, \"xref\": \"paper\", \"y\": -0.2, \"yref\": \"paper\"}, {\"showarrow\": false, \"text\": \"Wall Clock Time [sec]\", \"textangle\": -90, \"x\": -0.15, \"xref\": \"paper\", \"y\": -0.1, \"yref\": \"paper\"}], \"autosize\": false, \"font\": {\"size\": 30}, \"height\": 500, \"margin\": {\"l\": 150}, \"title\": {\"text\": \"Uniform Setting by Matern52 Kernel\"}, \"width\": 1000}, {\"showLink\": false, \"linkText\": \"Export to plot.ly\", \"plotlyServerURL\": \"https://plot.ly\"}); \n",
       "}\n",
       "});</script>"
      ]
     },
     "metadata": {},
     "output_type": "display_data"
    }
   ],
   "source": [
    "title = 'Uniform Setting by Matern52 Kernel'\n",
    "\n",
    "target_dir = './results/'\n",
    "normal = target_dir + '20190505/output_log_matern52_bogunovic_normal.log'\n",
    "dtv = target_dir + '20190505/output_log_matern52_bogunovic_dtv.log'\n",
    "ctv = target_dir + '20190506/output_log_matern52_bogunovic_ctv.log'\n",
    "ctv_delta = target_dir + '20190506/output_log_matern52_bogunovic_ctv_delta.log'\n",
    "\n",
    "plot_run_time(normal, dtv, ctv, ctv_delta, title)"
   ]
  },
  {
   "cell_type": "code",
   "execution_count": 36,
   "metadata": {},
   "outputs": [
    {
     "name": "stdout",
     "output_type": "stream",
     "text": [
      "2019-05-07 22:58:58 2019-05-08 14:27:12\n",
      "2019-05-07 23:01:56 2019-05-08 21:39:18\n",
      "2019-05-07 23:15:33 2019-05-16 23:29:54\n",
      "2019-05-07 23:06:25 2019-05-08 11:11:09\n"
     ]
    },
    {
     "data": {
      "application/vnd.plotly.v1+json": {
       "config": {
        "linkText": "Export to plot.ly",
        "plotlyServerURL": "https://plot.ly",
        "showLink": false
       },
       "data": [
        {
         "type": "bar",
         "uid": "47cf8298-3053-4c61-b42e-86884edc5b08",
         "x": [
          "GP-UCB",
          "DTV",
          "CTV",
          "CTVsimple"
         ],
         "y": [
          55694,
          81442,
          778461,
          43484
         ]
        }
       ],
       "layout": {
        "annotations": [
         {
          "showarrow": false,
          "text": "Algorithms",
          "x": 0.5,
          "xref": "paper",
          "y": -0.2,
          "yref": "paper"
         },
         {
          "showarrow": false,
          "text": "Wall Clock Time [sec]",
          "textangle": -90,
          "x": -0.15,
          "xref": "paper",
          "y": -0.1,
          "yref": "paper"
         }
        ],
        "autosize": false,
        "font": {
         "size": 30
        },
        "height": 500,
        "margin": {
         "l": 150
        },
        "title": {
         "text": "Biased Setting by SE Kernel"
        },
        "width": 1000
       }
      },
      "text/html": [
       "<div id=\"b8c85b4f-9806-42fb-b7a4-639b285f3031\" style=\"height: 500px; width: 1000px;\" class=\"plotly-graph-div\"></div><script type=\"text/javascript\">require([\"plotly\"], function(Plotly) { window.PLOTLYENV=window.PLOTLYENV || {};window.PLOTLYENV.BASE_URL=\"https://plot.ly\";\n",
       "if (document.getElementById(\"b8c85b4f-9806-42fb-b7a4-639b285f3031\")) {\n",
       "    Plotly.newPlot(\"b8c85b4f-9806-42fb-b7a4-639b285f3031\", [{\"x\": [\"GP-UCB\", \"DTV\", \"CTV\", \"CTVsimple\"], \"y\": [55694.0, 81442.0, 778461.0, 43484.0], \"type\": \"bar\", \"uid\": \"47cf8298-3053-4c61-b42e-86884edc5b08\"}], {\"annotations\": [{\"showarrow\": false, \"text\": \"Algorithms\", \"x\": 0.5, \"xref\": \"paper\", \"y\": -0.2, \"yref\": \"paper\"}, {\"showarrow\": false, \"text\": \"Wall Clock Time [sec]\", \"textangle\": -90, \"x\": -0.15, \"xref\": \"paper\", \"y\": -0.1, \"yref\": \"paper\"}], \"autosize\": false, \"font\": {\"size\": 30}, \"height\": 500, \"margin\": {\"l\": 150}, \"title\": {\"text\": \"Biased Setting by SE Kernel\"}, \"width\": 1000}, {\"showLink\": false, \"linkText\": \"Export to plot.ly\", \"plotlyServerURL\": \"https://plot.ly\"}); \n",
       "}\n",
       "});</script>"
      ],
      "text/vnd.plotly.v1+html": [
       "<div id=\"b8c85b4f-9806-42fb-b7a4-639b285f3031\" style=\"height: 500px; width: 1000px;\" class=\"plotly-graph-div\"></div><script type=\"text/javascript\">require([\"plotly\"], function(Plotly) { window.PLOTLYENV=window.PLOTLYENV || {};window.PLOTLYENV.BASE_URL=\"https://plot.ly\";\n",
       "if (document.getElementById(\"b8c85b4f-9806-42fb-b7a4-639b285f3031\")) {\n",
       "    Plotly.newPlot(\"b8c85b4f-9806-42fb-b7a4-639b285f3031\", [{\"x\": [\"GP-UCB\", \"DTV\", \"CTV\", \"CTVsimple\"], \"y\": [55694.0, 81442.0, 778461.0, 43484.0], \"type\": \"bar\", \"uid\": \"47cf8298-3053-4c61-b42e-86884edc5b08\"}], {\"annotations\": [{\"showarrow\": false, \"text\": \"Algorithms\", \"x\": 0.5, \"xref\": \"paper\", \"y\": -0.2, \"yref\": \"paper\"}, {\"showarrow\": false, \"text\": \"Wall Clock Time [sec]\", \"textangle\": -90, \"x\": -0.15, \"xref\": \"paper\", \"y\": -0.1, \"yref\": \"paper\"}], \"autosize\": false, \"font\": {\"size\": 30}, \"height\": 500, \"margin\": {\"l\": 150}, \"title\": {\"text\": \"Biased Setting by SE Kernel\"}, \"width\": 1000}, {\"showLink\": false, \"linkText\": \"Export to plot.ly\", \"plotlyServerURL\": \"https://plot.ly\"}); \n",
       "}\n",
       "});</script>"
      ]
     },
     "metadata": {},
     "output_type": "display_data"
    }
   ],
   "source": [
    "title = 'Biased Setting by SE Kernel'\n",
    "\n",
    "target_dir = './results/'\n",
    "normal = target_dir + '20190507/output_log_rbf_tv_and_time_dep_normal.log'\n",
    "dtv = target_dir + '20190507/output_log_rbf_tv_and_time_dep_dtv.log'\n",
    "ctv = target_dir + '20190507/output_log_rbf_tv_and_time_dep_ctv.log'\n",
    "ctv_delta = target_dir + '20190507/output_log_rbf_tv_and_time_dep_ctv_delta.log'\n",
    "\n",
    "plot_run_time(normal, dtv, ctv, ctv_delta, title)"
   ]
  },
  {
   "cell_type": "code",
   "execution_count": 40,
   "metadata": {},
   "outputs": [
    {
     "name": "stdout",
     "output_type": "stream",
     "text": [
      "2019-05-07 22:53:30 2019-05-08 21:32:33\n",
      "2019-05-07 22:53:30 2019-05-10 03:29:01\n",
      "2019-05-07 22:55:47 2019-05-17 02:21:33\n",
      "2019-05-07 22:55:47 2019-05-08 04:12:41\n"
     ]
    },
    {
     "data": {
      "application/vnd.plotly.v1+json": {
       "config": {
        "linkText": "Export to plot.ly",
        "plotlyServerURL": "https://plot.ly",
        "showLink": false
       },
       "data": [
        {
         "type": "bar",
         "uid": "e050be0a-62bc-4a15-a20f-d4a91a3d1614",
         "x": [
          "GP-UCB",
          "TV",
          "CTV",
          "CTV-simple"
         ],
         "y": [
          81543,
          189331,
          789946,
          19014
         ]
        }
       ],
       "layout": {
        "annotations": [
         {
          "showarrow": false,
          "text": "Algorithms",
          "x": 0.5,
          "xref": "paper",
          "y": -0.2,
          "yref": "paper"
         },
         {
          "showarrow": false,
          "text": "Wall Clock Time [sec]",
          "textangle": -90,
          "x": -0.15,
          "xref": "paper",
          "y": -0.1,
          "yref": "paper"
         }
        ],
        "autosize": false,
        "font": {
         "size": 30
        },
        "height": 500,
        "margin": {
         "l": 150
        },
        "title": {
         "text": "Biased Setting by Matern52 Kernel"
        },
        "width": 1000
       }
      },
      "text/html": [
       "<div id=\"243fecb9-d809-4468-872f-59b05151612e\" style=\"height: 500px; width: 1000px;\" class=\"plotly-graph-div\"></div><script type=\"text/javascript\">require([\"plotly\"], function(Plotly) { window.PLOTLYENV=window.PLOTLYENV || {};window.PLOTLYENV.BASE_URL=\"https://plot.ly\";\n",
       "if (document.getElementById(\"243fecb9-d809-4468-872f-59b05151612e\")) {\n",
       "    Plotly.newPlot(\"243fecb9-d809-4468-872f-59b05151612e\", [{\"x\": [\"GP-UCB\", \"TV\", \"CTV\", \"CTV-simple\"], \"y\": [81543.0, 189331.0, 789946.0, 19014.0], \"type\": \"bar\", \"uid\": \"e050be0a-62bc-4a15-a20f-d4a91a3d1614\"}], {\"annotations\": [{\"showarrow\": false, \"text\": \"Algorithms\", \"x\": 0.5, \"xref\": \"paper\", \"y\": -0.2, \"yref\": \"paper\"}, {\"showarrow\": false, \"text\": \"Wall Clock Time [sec]\", \"textangle\": -90, \"x\": -0.15, \"xref\": \"paper\", \"y\": -0.1, \"yref\": \"paper\"}], \"autosize\": false, \"font\": {\"size\": 30}, \"height\": 500, \"margin\": {\"l\": 150}, \"title\": {\"text\": \"Biased Setting by Matern52 Kernel\"}, \"width\": 1000}, {\"showLink\": false, \"linkText\": \"Export to plot.ly\", \"plotlyServerURL\": \"https://plot.ly\"}); \n",
       "}\n",
       "});</script>"
      ],
      "text/vnd.plotly.v1+html": [
       "<div id=\"243fecb9-d809-4468-872f-59b05151612e\" style=\"height: 500px; width: 1000px;\" class=\"plotly-graph-div\"></div><script type=\"text/javascript\">require([\"plotly\"], function(Plotly) { window.PLOTLYENV=window.PLOTLYENV || {};window.PLOTLYENV.BASE_URL=\"https://plot.ly\";\n",
       "if (document.getElementById(\"243fecb9-d809-4468-872f-59b05151612e\")) {\n",
       "    Plotly.newPlot(\"243fecb9-d809-4468-872f-59b05151612e\", [{\"x\": [\"GP-UCB\", \"TV\", \"CTV\", \"CTV-simple\"], \"y\": [81543.0, 189331.0, 789946.0, 19014.0], \"type\": \"bar\", \"uid\": \"e050be0a-62bc-4a15-a20f-d4a91a3d1614\"}], {\"annotations\": [{\"showarrow\": false, \"text\": \"Algorithms\", \"x\": 0.5, \"xref\": \"paper\", \"y\": -0.2, \"yref\": \"paper\"}, {\"showarrow\": false, \"text\": \"Wall Clock Time [sec]\", \"textangle\": -90, \"x\": -0.15, \"xref\": \"paper\", \"y\": -0.1, \"yref\": \"paper\"}], \"autosize\": false, \"font\": {\"size\": 30}, \"height\": 500, \"margin\": {\"l\": 150}, \"title\": {\"text\": \"Biased Setting by Matern52 Kernel\"}, \"width\": 1000}, {\"showLink\": false, \"linkText\": \"Export to plot.ly\", \"plotlyServerURL\": \"https://plot.ly\"}); \n",
       "}\n",
       "});</script>"
      ]
     },
     "metadata": {},
     "output_type": "display_data"
    }
   ],
   "source": [
    "title = 'Biased Setting by Matern52 Kernel'\n",
    "\n",
    "target_dir = './results/'\n",
    "normal = target_dir + '20190507/output_log_matern52_tv_and_time_dep_normal.log'\n",
    "dtv = target_dir + '20190507/output_log_matern52_tv_and_time_dep_dtv.log'\n",
    "ctv = target_dir + '20190507/output_log_matern52_tv_and_time_dep_ctv.log'\n",
    "ctv_delta = target_dir + '20190507/output_log_matern52_tv_and_time_dep_ctv_delta.log'\n",
    "\n",
    "plot_run_time(normal, dtv, ctv, ctv_delta, title)"
   ]
  },
  {
   "cell_type": "code",
   "execution_count": null,
   "metadata": {},
   "outputs": [],
   "source": []
  }
 ],
 "metadata": {
  "kernelspec": {
   "display_name": "Python 3",
   "language": "python",
   "name": "python3"
  },
  "language_info": {
   "codemirror_mode": {
    "name": "ipython",
    "version": 3
   },
   "file_extension": ".py",
   "mimetype": "text/x-python",
   "name": "python",
   "nbconvert_exporter": "python",
   "pygments_lexer": "ipython3",
   "version": "3.6.5"
  }
 },
 "nbformat": 4,
 "nbformat_minor": 2
}
