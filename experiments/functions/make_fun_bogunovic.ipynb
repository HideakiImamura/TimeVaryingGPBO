{
 "cells": [
  {
   "cell_type": "code",
   "execution_count": 1,
   "metadata": {},
   "outputs": [
    {
     "data": {
      "text/html": [
       "<script type=\"text/javascript\">window.PlotlyConfig = {MathJaxConfig: 'local'};</script><script type=\"text/javascript\">if (window.MathJax) {MathJax.Hub.Config({SVG: {font: \"STIX-Web\"}});}</script><script>requirejs.config({paths: { 'plotly': ['https://cdn.plot.ly/plotly-latest.min']},});if(!window._Plotly) {require(['plotly'],function(plotly) {window._Plotly=plotly;});}</script>"
      ],
      "text/vnd.plotly.v1+html": [
       "<script type=\"text/javascript\">window.PlotlyConfig = {MathJaxConfig: 'local'};</script><script type=\"text/javascript\">if (window.MathJax) {MathJax.Hub.Config({SVG: {font: \"STIX-Web\"}});}</script><script>requirejs.config({paths: { 'plotly': ['https://cdn.plot.ly/plotly-latest.min']},});if(!window._Plotly) {require(['plotly'],function(plotly) {window._Plotly=plotly;});}</script>"
      ]
     },
     "metadata": {},
     "output_type": "display_data"
    }
   ],
   "source": [
    "# This is necessary for jupyter to draw graphs offline.\n",
    "# Plotly tries to use cloud service to draw graphs by default.\n",
    "from plotly.offline import download_plotlyjs, init_notebook_mode, plot, iplot\n",
    "init_notebook_mode(connected=True)"
   ]
  },
  {
   "cell_type": "code",
   "execution_count": 2,
   "metadata": {},
   "outputs": [],
   "source": [
    "import GPy\n",
    "import optuna\n",
    "import numpy as np\n",
    "import plotly.figure_factory as ff\n",
    "import plotly.graph_objs as go\n",
    "import plotly.io as pio\n",
    "import sys\n",
    "    \n",
    "\n",
    "seed = 123\n",
    "np.random.seed(seed=seed)"
   ]
  },
  {
   "cell_type": "code",
   "execution_count": 3,
   "metadata": {},
   "outputs": [],
   "source": [
    "variance = 1.\n",
    "lengthscale = 0.2\n",
    "quantization = 50\n",
    "epsilon = 0.01\n",
    "sigma2 = 0.01"
   ]
  },
  {
   "cell_type": "code",
   "execution_count": 10,
   "metadata": {},
   "outputs": [],
   "source": [
    "kernel = GPy.kern.RBF(input_dim=2, variance=variance, lengthscale=lengthscale)\n",
    "\n",
    "x = np.linspace(0., 1., quantization)\n",
    "xx = [[0., 0.] for _ in range(quantization ** 2)]\n",
    "for i in range(quantization):\n",
    "    for j in range(quantization):\n",
    "        xx[i * quantization + j][0] = x[i]\n",
    "        xx[i * quantization + j][1] = x[j]\n",
    "xx = np.asarray(xx)\n",
    "mu_rbf = np.zeros(quantization ** 2)\n",
    "cov_rbf = kernel.K(xx, xx) + sigma2 * np.eye(quantization ** 2)\n",
    "\n",
    "# 初期化もサンプリングにしような\n",
    "# y_rbf = np.zeros(quantization ** 2)\n",
    "y_rbf = np.random.multivariate_normal(mu_rbf, cov_rbf)\n",
    "y_rbf_best = []\n",
    "y_rbf_history = []\n",
    "\n",
    "\n",
    "def quantize(a):\n",
    "    return np.argmin(np.abs(np.linspace(0., 1., quantization) - a))\n",
    "\n",
    "\n",
    "def fun_rbf(a, b):\n",
    "    global y_rbf\n",
    "    global y_rbf_best\n",
    "    global y_rbf_history\n",
    "    y_rbf = np.sqrt(1. - epsilon) * y_rbf + np.sqrt(epsilon) * np.random.multivariate_normal(mu_rbf, cov_rbf)\n",
    "    y_rbf_best.append(np.max(y_rbf))\n",
    "    y_rbf_history.append(y_rbf)\n",
    "    i = quantize(a)\n",
    "    j = quantize(b)\n",
    "    return y_rbf[i + quantization + j]\n",
    "\n",
    "\n",
    "def objevtive_rbf(trial):\n",
    "    a, b = trial.suggest_joint('ab',\n",
    "                               [['uniform', 'a', 0., 1.],\n",
    "                                ['uniform', 'b', 0., 1.]])\n",
    "    return fun_rbf(a, b)"
   ]
  },
  {
   "cell_type": "code",
   "execution_count": 11,
   "metadata": {},
   "outputs": [],
   "source": [
    "n_trials = 300"
   ]
  },
  {
   "cell_type": "code",
   "execution_count": 12,
   "metadata": {},
   "outputs": [
    {
     "name": "stdout",
     "output_type": "stream",
     "text": [
      "300/300 done\n",
      " all done!\n"
     ]
    }
   ],
   "source": [
    "for i in range(n_trials):\n",
    "    fun_rbf(0, 0)\n",
    "    print(\"\\r{}/{} done\".format(i+1, n_trials), end='')\n",
    "print(\"\\n all done!\")"
   ]
  },
  {
   "cell_type": "code",
   "execution_count": 13,
   "metadata": {},
   "outputs": [
    {
     "data": {
      "text/plain": [
       "(300, 2500)"
      ]
     },
     "execution_count": 13,
     "metadata": {},
     "output_type": "execute_result"
    }
   ],
   "source": [
    "np.asarray(y_rbf_history).shape"
   ]
  },
  {
   "cell_type": "code",
   "execution_count": 14,
   "metadata": {},
   "outputs": [],
   "source": [
    "np.savetxt('true_bogunovic_rbf.csv', np.asarray(y_rbf_history), delimiter=',')"
   ]
  },
  {
   "cell_type": "code",
   "execution_count": 15,
   "metadata": {},
   "outputs": [
    {
     "data": {
      "text/plain": [
       "(300, 2500)"
      ]
     },
     "execution_count": 15,
     "metadata": {},
     "output_type": "execute_result"
    }
   ],
   "source": [
    "data = np.loadtxt('true_bogunovic_rbf.csv', delimiter=',')\n",
    "data.shape"
   ]
  },
  {
   "cell_type": "code",
   "execution_count": null,
   "metadata": {},
   "outputs": [],
   "source": []
  }
 ],
 "metadata": {
  "kernelspec": {
   "display_name": "Python 3",
   "language": "python",
   "name": "python3"
  },
  "language_info": {
   "codemirror_mode": {
    "name": "ipython",
    "version": 3
   },
   "file_extension": ".py",
   "mimetype": "text/x-python",
   "name": "python",
   "nbconvert_exporter": "python",
   "pygments_lexer": "ipython3",
   "version": "3.6.5"
  }
 },
 "nbformat": 4,
 "nbformat_minor": 1
}
