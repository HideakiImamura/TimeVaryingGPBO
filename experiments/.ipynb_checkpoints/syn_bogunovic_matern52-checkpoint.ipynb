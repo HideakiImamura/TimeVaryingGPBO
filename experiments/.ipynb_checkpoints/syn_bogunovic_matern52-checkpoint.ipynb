{
 "cells": [
  {
   "cell_type": "code",
   "execution_count": 5,
   "metadata": {},
   "outputs": [
    {
     "data": {
      "text/html": [
       "<script type=\"text/javascript\">window.PlotlyConfig = {MathJaxConfig: 'local'};</script><script type=\"text/javascript\">if (window.MathJax) {MathJax.Hub.Config({SVG: {font: \"STIX-Web\"}});}</script><script>requirejs.config({paths: { 'plotly': ['https://cdn.plot.ly/plotly-latest.min']},});if(!window._Plotly) {require(['plotly'],function(plotly) {window._Plotly=plotly;});}</script>"
      ],
      "text/vnd.plotly.v1+html": [
       "<script type=\"text/javascript\">window.PlotlyConfig = {MathJaxConfig: 'local'};</script><script type=\"text/javascript\">if (window.MathJax) {MathJax.Hub.Config({SVG: {font: \"STIX-Web\"}});}</script><script>requirejs.config({paths: { 'plotly': ['https://cdn.plot.ly/plotly-latest.min']},});if(!window._Plotly) {require(['plotly'],function(plotly) {window._Plotly=plotly;});}</script>"
      ]
     },
     "metadata": {},
     "output_type": "display_data"
    }
   ],
   "source": [
    "# This is necessary for jupyter to draw graphs offline.\n",
    "# Plotly tries to use cloud service to draw graphs by default.\n",
    "from plotly.offline import download_plotlyjs, init_notebook_mode, plot, iplot\n",
    "init_notebook_mode(connected=True)"
   ]
  },
  {
   "cell_type": "code",
   "execution_count": 6,
   "metadata": {},
   "outputs": [],
   "source": [
    "import GPy\n",
    "import optuna\n",
    "import numpy as np\n",
    "import plotly.figure_factory as ff\n",
    "import plotly.graph_objs as go\n",
    "import plotly.io as pio\n",
    "    \n",
    "\n",
    "seed = 123\n",
    "np.random.seed(seed=seed)"
   ]
  },
  {
   "cell_type": "code",
   "execution_count": 7,
   "metadata": {},
   "outputs": [],
   "source": [
    "variance = 1.\n",
    "lengthscale = 0.2\n",
    "quantization = 50\n",
    "epsilon = 0.1\n",
    "sigma2 = 0.01"
   ]
  },
  {
   "cell_type": "code",
   "execution_count": 8,
   "metadata": {},
   "outputs": [],
   "source": [
    "kernel = GPy.kern.Matern52(input_dim=2, variance=variance, lengthscale=lengthscale)\n",
    "\n",
    "x = np.linspace(0., 1., quantization)\n",
    "xx = [[0., 0.] for _ in range(quantization ** 2)]\n",
    "for i in range(quantization):\n",
    "    for j in range(quantization):\n",
    "        xx[i * quantization + j][0] = x[i]\n",
    "        xx[i * quantization + j][1] = x[j]\n",
    "xx = np.asarray(xx)\n",
    "mu_matern52 = np.zeros(quantization ** 2)\n",
    "cov_matern52 = kernel.K(xx, xx) + sigma2 * np.eye(quantization ** 2)\n",
    "\n",
    "y_matern52 = np.zeros(quantization ** 2)\n",
    "y_matern52_best = []\n",
    "\n",
    "\n",
    "def quantize(a):\n",
    "    return np.argmin(np.abs(np.linspace(0., 1., quantization) - a))\n",
    "\n",
    "\n",
    "def fun_matern52(a, b):\n",
    "    global y_matern52\n",
    "    global y_matern52_best\n",
    "    y_matern52 = np.sqrt(1. - epsilon) * y_matern52 + np.sqrt(epsilon) * np.random.multivariate_normal(mu_matern52, cov_matern52)\n",
    "    y_matern52_best.append(np.max(y_matern52))\n",
    "    i = quantize(a)\n",
    "    j = quantize(b)\n",
    "    return y_matern52[i + quantization + j]\n",
    "\n",
    "\n",
    "def objevtive_matern52(trial):\n",
    "    a, b = trial.suggest_joint('ab',\n",
    "                               [['uniform', 'a', 0., 1.],\n",
    "                                ['uniform', 'b', 0., 1.]])\n",
    "    return fun_matern52(a, b)"
   ]
  },
  {
   "cell_type": "code",
   "execution_count": 9,
   "metadata": {},
   "outputs": [],
   "source": [
    "n_trials = 100"
   ]
  },
  {
   "cell_type": "code",
   "execution_count": null,
   "metadata": {},
   "outputs": [
    {
     "name": "stderr",
     "output_type": "stream",
     "text": [
      "[I 2019-04-04 18:14:00,577] Finished a trial resulted in value: -0.046993949000062034. Current best value is -0.046993949000062034 with parameters: {'a': 0.9232358015003836, 'b': 0.8809646814275507, 'ab': [0.9232358015003836, 0.8809646814275507]}.\n",
      "[I 2019-04-04 18:14:09,370] Finished a trial resulted in value: -0.16914649338908166. Current best value is -0.16914649338908166 with parameters: {'a': 0.4459693464355643, 'b': 0.03435758826518209, 'ab': [0.4459693464355643, 0.03435758826518209]}.\n",
      "[I 2019-04-04 18:14:18,067] Finished a trial resulted in value: -0.014248210381441667. Current best value is -0.16914649338908166 with parameters: {'a': 0.4459693464355643, 'b': 0.03435758826518209, 'ab': [0.4459693464355643, 0.03435758826518209]}.\n",
      "[I 2019-04-04 18:14:26,741] Finished a trial resulted in value: -0.5080314226336512. Current best value is -0.5080314226336512 with parameters: {'a': 0.6971018015012834, 'b': 0.40182425196471583, 'ab': [0.6971018015012834, 0.40182425196471583]}.\n",
      "[I 2019-04-04 18:14:35,439] Finished a trial resulted in value: -0.09852993277812608. Current best value is -0.5080314226336512 with parameters: {'a': 0.6971018015012834, 'b': 0.40182425196471583, 'ab': [0.6971018015012834, 0.40182425196471583]}.\n",
      "[I 2019-04-04 18:14:44,002] Finished a trial resulted in value: -1.1384934159474733. Current best value is -1.1384934159474733 with parameters: {'a': 0.5301239143008329, 'b': 0.3547980757528889, 'ab': [0.5301239143008329, 0.3547980757528889]}.\n",
      "[I 2019-04-04 18:14:52,839] Finished a trial resulted in value: 0.14172925900863786. Current best value is -1.1384934159474733 with parameters: {'a': 0.5301239143008329, 'b': 0.3547980757528889, 'ab': [0.5301239143008329, 0.3547980757528889]}.\n",
      "[I 2019-04-04 18:15:01,672] Finished a trial resulted in value: -1.5251665237786423. Current best value is -1.5251665237786423 with parameters: {'a': 0.45103724196326656, 'b': 0.36282076891253157, 'ab': [0.45103724196326656, 0.36282076891253157]}.\n"
     ]
    }
   ],
   "source": [
    "sampler = optuna.samplers.GPSampler()\n",
    "study_rbf = optuna.create_study(sampler=sampler)\n",
    "study_rbf.optimize(lambda t: -objevtive_matern52(t), n_trials=n_trials)"
   ]
  },
  {
   "cell_type": "code",
   "execution_count": null,
   "metadata": {},
   "outputs": [],
   "source": [
    "trials = study_rbf.trials\n",
    "trial_values = [trial.value for trial in trials]\n",
    "\n",
    "assert len(trial_values) == len(y_matern52_best)\n",
    "\n",
    "cum_regret = 0.\n",
    "avg_cum_regrets = []\n",
    "for t, best_value, trial_value in enumerate(zip(y_matern52_best, trial_values)):\n",
    "    cum_regret += best_value - trial_value\n",
    "    avg_cum_regrets.append(cum_regret / (t + 1))\n",
    "\n",
    "data = [\n",
    "    go.Scatter(x=np.arange(len(avg_cum_regrets)) + 1, y=avg_cum_regrets, mode='markers')\n",
    "]\n",
    "iplot(data, filename='syn_bogunovic_matern52')"
   ]
  },
  {
   "cell_type": "code",
   "execution_count": null,
   "metadata": {},
   "outputs": [],
   "source": []
  }
 ],
 "metadata": {
  "kernelspec": {
   "display_name": "Python 3",
   "language": "python",
   "name": "python3"
  },
  "language_info": {
   "codemirror_mode": {
    "name": "ipython",
    "version": 3
   },
   "file_extension": ".py",
   "mimetype": "text/x-python",
   "name": "python",
   "nbconvert_exporter": "python",
   "pygments_lexer": "ipython3",
   "version": "3.6.5"
  }
 },
 "nbformat": 4,
 "nbformat_minor": 1
}
