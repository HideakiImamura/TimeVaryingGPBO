{
 "cells": [
  {
   "cell_type": "code",
   "execution_count": 1,
   "metadata": {},
   "outputs": [
    {
     "data": {
      "text/html": [
       "<script type=\"text/javascript\">window.PlotlyConfig = {MathJaxConfig: 'local'};</script><script type=\"text/javascript\">if (window.MathJax) {MathJax.Hub.Config({SVG: {font: \"STIX-Web\"}});}</script><script>requirejs.config({paths: { 'plotly': ['https://cdn.plot.ly/plotly-latest.min']},});if(!window._Plotly) {require(['plotly'],function(plotly) {window._Plotly=plotly;});}</script>"
      ],
      "text/vnd.plotly.v1+html": [
       "<script type=\"text/javascript\">window.PlotlyConfig = {MathJaxConfig: 'local'};</script><script type=\"text/javascript\">if (window.MathJax) {MathJax.Hub.Config({SVG: {font: \"STIX-Web\"}});}</script><script>requirejs.config({paths: { 'plotly': ['https://cdn.plot.ly/plotly-latest.min']},});if(!window._Plotly) {require(['plotly'],function(plotly) {window._Plotly=plotly;});}</script>"
      ]
     },
     "metadata": {},
     "output_type": "display_data"
    }
   ],
   "source": [
    "# This is necessary for jupyter to draw graphs offline.\n",
    "# Plotly tries to use cloud service to draw graphs by default.\n",
    "from plotly.offline import download_plotlyjs, init_notebook_mode, plot, iplot\n",
    "init_notebook_mode(connected=True)"
   ]
  },
  {
   "cell_type": "code",
   "execution_count": 2,
   "metadata": {},
   "outputs": [],
   "source": [
    "import GPy\n",
    "import optuna\n",
    "import numpy as np\n",
    "import plotly.figure_factory as ff\n",
    "import plotly.graph_objs as go\n",
    "import plotly.io as pio\n",
    "import time\n",
    "    \n",
    "\n",
    "seed = 123\n",
    "np.random.seed(seed=seed)"
   ]
  },
  {
   "cell_type": "code",
   "execution_count": 3,
   "metadata": {},
   "outputs": [
    {
     "data": {
      "text/plain": [
       "(300, 2500)"
      ]
     },
     "execution_count": 3,
     "metadata": {},
     "output_type": "execute_result"
    }
   ],
   "source": [
    "data = np.loadtxt('functions/bogunovic_matern52.csv', delimiter=',')\n",
    "data.shape"
   ]
  },
  {
   "cell_type": "code",
   "execution_count": 4,
   "metadata": {},
   "outputs": [
    {
     "data": {
      "text/plain": [
       "(300,)"
      ]
     },
     "execution_count": 4,
     "metadata": {},
     "output_type": "execute_result"
    }
   ],
   "source": [
    "best_values = np.max(data, axis=1)\n",
    "best_values.shape"
   ]
  },
  {
   "cell_type": "code",
   "execution_count": 5,
   "metadata": {},
   "outputs": [],
   "source": [
    "t = -1\n",
    "quantization = int(np.sqrt(data.shape[1]))\n",
    "\n",
    "def quantize(a):\n",
    "    return np.argmin(np.abs(np.linspace(0., 1., quantization) - a))\n",
    "\n",
    "\n",
    "def fun_rbf(a, b):\n",
    "    global t\n",
    "    t += 1\n",
    "    i = quantize(a)\n",
    "    j = quantize(b)\n",
    "    place = i * quantization + j\n",
    "    if place < quantization ** 2 // 2:\n",
    "        time.sleep(1)\n",
    "    else:\n",
    "        time.sleep(10)\n",
    "    return data[t][place]\n",
    "\n",
    "\n",
    "def objevtive_rbf(trial):\n",
    "    a, b = trial.suggest_joint('ab',\n",
    "                               [['uniform', 'a', 0., 1.],\n",
    "                                ['uniform', 'b', 0., 1.]])\n",
    "    return fun_rbf(a, b)"
   ]
  },
  {
   "cell_type": "code",
   "execution_count": 6,
   "metadata": {},
   "outputs": [],
   "source": [
    "n_trials = int(data.shape[0])"
   ]
  },
  {
   "cell_type": "code",
   "execution_count": null,
   "metadata": {},
   "outputs": [
    {
     "name": "stdout",
     "output_type": "stream",
     "text": [
      "sampling end!. 2019-04-17 21:01:09.092559 2019-04-17 21:01:09.093041\n"
     ]
    },
    {
     "name": "stderr",
     "output_type": "stream",
     "text": [
      "[I 2019-04-17 21:01:19,096] Finished a trial resulted in value: 0.05411630285945954. Current best value is 0.05411630285945954 with parameters: {'a': 0.8600047244694051, 'b': 0.18773557672185248, 'ab': [0.8600047244694051, 0.18773557672185248]}.\n"
     ]
    },
    {
     "name": "stdout",
     "output_type": "stream",
     "text": [
      "sampling end!. 2019-04-17 21:01:19.098888 2019-04-17 21:01:19.099154\n"
     ]
    },
    {
     "name": "stderr",
     "output_type": "stream",
     "text": [
      "[I 2019-04-17 21:01:20,102] Finished a trial resulted in value: -0.38553476982509527. Current best value is -0.38553476982509527 with parameters: {'a': 0.22769328096201003, 'b': 0.03512628723523947, 'ab': [0.22769328096201003, 0.03512628723523947]}.\n"
     ]
    },
    {
     "name": "stdout",
     "output_type": "stream",
     "text": [
      "sampling end!. 2019-04-17 21:01:20.104796 2019-04-17 21:01:20.105152\n"
     ]
    },
    {
     "name": "stderr",
     "output_type": "stream",
     "text": [
      "[I 2019-04-17 21:01:30,108] Finished a trial resulted in value: 0.07636890022970626. Current best value is -0.38553476982509527 with parameters: {'a': 0.22769328096201003, 'b': 0.03512628723523947, 'ab': [0.22769328096201003, 0.03512628723523947]}.\n"
     ]
    },
    {
     "name": "stdout",
     "output_type": "stream",
     "text": [
      "sampling end!. 2019-04-17 21:01:30.111473 2019-04-17 21:01:30.111921\n"
     ]
    },
    {
     "name": "stderr",
     "output_type": "stream",
     "text": [
      "[I 2019-04-17 21:01:40,115] Finished a trial resulted in value: 0.06479277132802222. Current best value is -0.38553476982509527 with parameters: {'a': 0.22769328096201003, 'b': 0.03512628723523947, 'ab': [0.22769328096201003, 0.03512628723523947]}.\n"
     ]
    },
    {
     "name": "stdout",
     "output_type": "stream",
     "text": [
      "sampling end!. 2019-04-17 21:01:40.117930 2019-04-17 21:01:40.118485\n"
     ]
    },
    {
     "name": "stderr",
     "output_type": "stream",
     "text": [
      "[I 2019-04-17 21:01:41,131] Finished a trial resulted in value: -0.29712682900371823. Current best value is -0.38553476982509527 with parameters: {'a': 0.22769328096201003, 'b': 0.03512628723523947, 'ab': [0.22769328096201003, 0.03512628723523947]}.\n"
     ]
    },
    {
     "name": "stdout",
     "output_type": "stream",
     "text": [
      "sampling end!. 2019-04-17 21:01:41.133631 2019-04-17 21:01:41.134284\n"
     ]
    },
    {
     "name": "stderr",
     "output_type": "stream",
     "text": [
      "[I 2019-04-17 21:01:51,137] Finished a trial resulted in value: -0.4786562274908685. Current best value is -0.4786562274908685 with parameters: {'a': 0.686122393854353, 'b': 0.4274326195622056, 'ab': [0.686122393854353, 0.4274326195622056]}.\n"
     ]
    },
    {
     "name": "stdout",
     "output_type": "stream",
     "text": [
      "sampling end!. 2019-04-17 21:01:51.140468 2019-04-17 21:01:51.141224\n"
     ]
    },
    {
     "name": "stderr",
     "output_type": "stream",
     "text": [
      "[I 2019-04-17 21:01:52,144] Finished a trial resulted in value: -0.3137109940077411. Current best value is -0.4786562274908685 with parameters: {'a': 0.686122393854353, 'b': 0.4274326195622056, 'ab': [0.686122393854353, 0.4274326195622056]}.\n"
     ]
    },
    {
     "name": "stdout",
     "output_type": "stream",
     "text": [
      "sampling end!. 2019-04-17 21:01:52.147185 2019-04-17 21:01:52.147980\n"
     ]
    },
    {
     "name": "stderr",
     "output_type": "stream",
     "text": [
      "[I 2019-04-17 21:02:02,152] Finished a trial resulted in value: 0.13058832945317325. Current best value is -0.4786562274908685 with parameters: {'a': 0.686122393854353, 'b': 0.4274326195622056, 'ab': [0.686122393854353, 0.4274326195622056]}.\n"
     ]
    },
    {
     "name": "stdout",
     "output_type": "stream",
     "text": [
      "sampling end!. 2019-04-17 21:02:02.154341 2019-04-17 21:02:02.155141\n"
     ]
    },
    {
     "name": "stderr",
     "output_type": "stream",
     "text": [
      "[I 2019-04-17 21:02:12,159] Finished a trial resulted in value: -0.5096252502308268. Current best value is -0.5096252502308268 with parameters: {'a': 0.763536810418014, 'b': 0.3605109278612645, 'ab': [0.763536810418014, 0.3605109278612645]}.\n"
     ]
    },
    {
     "name": "stdout",
     "output_type": "stream",
     "text": [
      "sampling end!. 2019-04-17 21:02:12.162030 2019-04-17 21:02:12.162981\n"
     ]
    },
    {
     "name": "stderr",
     "output_type": "stream",
     "text": [
      "[I 2019-04-17 21:02:22,167] Finished a trial resulted in value: 0.5450690985250345. Current best value is -0.5096252502308268 with parameters: {'a': 0.763536810418014, 'b': 0.3605109278612645, 'ab': [0.763536810418014, 0.3605109278612645]}.\n"
     ]
    },
    {
     "name": "stdout",
     "output_type": "stream",
     "text": [
      "The set cost function is ignored! LCB acquisition does not make sense with cost.\n",
      "ab\n"
     ]
    },
    {
     "name": "stderr",
     "output_type": "stream",
     "text": [
      "reconstraining parameters GP_regression.mul\n",
      "reconstraining parameters GP_regression.Gaussian_noise.variance\n"
     ]
    }
   ],
   "source": [
    "sampler = optuna.samplers.DTVGPSampler()\n",
    "study = optuna.create_study(sampler=sampler)\n",
    "study.optimize(lambda t: - objevtive_rbf(t), n_trials=n_trials)"
   ]
  },
  {
   "cell_type": "code",
   "execution_count": null,
   "metadata": {},
   "outputs": [],
   "source": []
  }
 ],
 "metadata": {
  "kernelspec": {
   "display_name": "Python 3",
   "language": "python",
   "name": "python3"
  },
  "language_info": {
   "codemirror_mode": {
    "name": "ipython",
    "version": 3
   },
   "file_extension": ".py",
   "mimetype": "text/x-python",
   "name": "python",
   "nbconvert_exporter": "python",
   "pygments_lexer": "ipython3",
   "version": "3.6.5"
  }
 },
 "nbformat": 4,
 "nbformat_minor": 2
}
