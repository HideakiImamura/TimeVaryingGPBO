{
 "cells": [
  {
   "cell_type": "code",
   "execution_count": 1,
   "metadata": {},
   "outputs": [
    {
     "data": {
      "text/html": [
       "<script type=\"text/javascript\">window.PlotlyConfig = {MathJaxConfig: 'local'};</script><script type=\"text/javascript\">if (window.MathJax) {MathJax.Hub.Config({SVG: {font: \"STIX-Web\"}});}</script><script>requirejs.config({paths: { 'plotly': ['https://cdn.plot.ly/plotly-latest.min']},});if(!window._Plotly) {require(['plotly'],function(plotly) {window._Plotly=plotly;});}</script>"
      ],
      "text/vnd.plotly.v1+html": [
       "<script type=\"text/javascript\">window.PlotlyConfig = {MathJaxConfig: 'local'};</script><script type=\"text/javascript\">if (window.MathJax) {MathJax.Hub.Config({SVG: {font: \"STIX-Web\"}});}</script><script>requirejs.config({paths: { 'plotly': ['https://cdn.plot.ly/plotly-latest.min']},});if(!window._Plotly) {require(['plotly'],function(plotly) {window._Plotly=plotly;});}</script>"
      ]
     },
     "metadata": {},
     "output_type": "display_data"
    }
   ],
   "source": [
    "# This is necessary for jupyter to draw graphs offline.\n",
    "# Plotly tries to use cloud service to draw graphs by default.\n",
    "from plotly.offline import download_plotlyjs, init_notebook_mode, plot, iplot\n",
    "init_notebook_mode(connected=True)"
   ]
  },
  {
   "cell_type": "code",
   "execution_count": 2,
   "metadata": {},
   "outputs": [],
   "source": [
    "import GPy\n",
    "import optuna\n",
    "import numpy as np\n",
    "import plotly.figure_factory as ff\n",
    "import plotly.graph_objs as go\n",
    "import plotly.io as pio\n",
    "    \n",
    "\n",
    "seed = 123\n",
    "np.random.seed(seed=seed)"
   ]
  },
  {
   "cell_type": "code",
   "execution_count": 3,
   "metadata": {},
   "outputs": [
    {
     "data": {
      "text/plain": [
       "(300, 2500)"
      ]
     },
     "execution_count": 3,
     "metadata": {},
     "output_type": "execute_result"
    }
   ],
   "source": [
    "data = np.loadtxt('functions/bogunovic_rbf.csv', delimiter=',')\n",
    "data.shape"
   ]
  },
  {
   "cell_type": "code",
   "execution_count": 4,
   "metadata": {},
   "outputs": [
    {
     "data": {
      "text/plain": [
       "(300,)"
      ]
     },
     "execution_count": 4,
     "metadata": {},
     "output_type": "execute_result"
    }
   ],
   "source": [
    "best_values = np.max(data, axis=1)\n",
    "best_values.shape"
   ]
  },
  {
   "cell_type": "code",
   "execution_count": 5,
   "metadata": {},
   "outputs": [],
   "source": [
    "t = -1\n",
    "quantization = int(np.sqrt(data.shape[1]))\n",
    "\n",
    "def quantize(a):\n",
    "    return np.argmin(np.abs(np.linspace(0., 1., quantization) - a))\n",
    "\n",
    "\n",
    "def fun_rbf(a, b):\n",
    "    global t\n",
    "    t += 1\n",
    "    i = quantize(a)\n",
    "    j = quantize(b)\n",
    "    return data[t][i + quantization + j]\n",
    "\n",
    "\n",
    "def objevtive_rbf(trial):\n",
    "    a, b = trial.suggest_joint('ab',\n",
    "                               [['uniform', 'a', 0., 1.],\n",
    "                                ['uniform', 'b', 0., 1.]])\n",
    "    return fun_rbf(a, b)"
   ]
  },
  {
   "cell_type": "code",
   "execution_count": 6,
   "metadata": {},
   "outputs": [],
   "source": [
    "n_trials = int(data.shape[0])"
   ]
  },
  {
   "cell_type": "code",
   "execution_count": 13,
   "metadata": {
    "scrolled": true
   },
   "outputs": [
    {
     "name": "stderr",
     "output_type": "stream",
     "text": [
      "[I 2019-04-12 20:28:49,770] Finished a trial resulted in value: 0.07974173853549968. Current best value is 0.07974173853549968 with parameters: {'a': 0.5400067505826801, 'b': 0.30691324427113165, 'ab': [0.5400067505826801, 0.30691324427113165]}.\n",
      "[I 2019-04-12 20:28:49,773] Finished a trial resulted in value: -0.07298028637374122. Current best value is -0.07298028637374122 with parameters: {'a': 0.0770098699221543, 'b': 0.4622246440095915, 'ab': [0.0770098699221543, 0.4622246440095915]}.\n",
      "[I 2019-04-12 20:28:49,776] Finished a trial resulted in value: 0.16019539578409953. Current best value is -0.07298028637374122 with parameters: {'a': 0.0770098699221543, 'b': 0.4622246440095915, 'ab': [0.0770098699221543, 0.4622246440095915]}.\n",
      "[I 2019-04-12 20:28:49,779] Finished a trial resulted in value: -0.1427527690427927. Current best value is -0.1427527690427927 with parameters: {'a': 0.7873416177029577, 'b': 0.305017761538641, 'ab': [0.7873416177029577, 0.305017761538641]}.\n",
      "[I 2019-04-12 20:28:49,783] Finished a trial resulted in value: -0.1303415716706018. Current best value is -0.1427527690427927 with parameters: {'a': 0.7873416177029577, 'b': 0.305017761538641, 'ab': [0.7873416177029577, 0.305017761538641]}.\n",
      "[I 2019-04-12 20:28:49,786] Finished a trial resulted in value: -0.3270644209062597. Current best value is -0.3270644209062597 with parameters: {'a': 0.283730187853966, 'b': 0.009448108843848946, 'ab': [0.283730187853966, 0.009448108843848946]}.\n",
      "[I 2019-04-12 20:28:49,790] Finished a trial resulted in value: -0.2513076101794943. Current best value is -0.3270644209062597 with parameters: {'a': 0.283730187853966, 'b': 0.009448108843848946, 'ab': [0.283730187853966, 0.009448108843848946]}.\n",
      "[I 2019-04-12 20:28:49,794] Finished a trial resulted in value: 0.33695229628319245. Current best value is -0.3270644209062597 with parameters: {'a': 0.283730187853966, 'b': 0.009448108843848946, 'ab': [0.283730187853966, 0.009448108843848946]}.\n",
      "[I 2019-04-12 20:28:49,798] Finished a trial resulted in value: 0.34014898978744096. Current best value is -0.3270644209062597 with parameters: {'a': 0.283730187853966, 'b': 0.009448108843848946, 'ab': [0.283730187853966, 0.009448108843848946]}.\n",
      "[I 2019-04-12 20:28:49,804] Finished a trial resulted in value: -0.09900750129328874. Current best value is -0.3270644209062597 with parameters: {'a': 0.283730187853966, 'b': 0.009448108843848946, 'ab': [0.283730187853966, 0.009448108843848946]}.\n"
     ]
    },
    {
     "name": "stdout",
     "output_type": "stream",
     "text": [
      "The set cost function is ignored! LCB acquisition does not make sense with cost.\n"
     ]
    },
    {
     "name": "stderr",
     "output_type": "stream",
     "text": [
      "reconstraining parameters GP_regression.Mat52\n",
      "reconstraining parameters GP_regression.Gaussian_noise.variance\n",
      "[I 2019-04-12 20:28:54,880] Finished a trial resulted in value: 0.10536232821232758. Current best value is -0.3270644209062597 with parameters: {'a': 0.283730187853966, 'b': 0.009448108843848946, 'ab': [0.283730187853966, 0.009448108843848946]}.\n"
     ]
    },
    {
     "name": "stdout",
     "output_type": "stream",
     "text": [
      "The set cost function is ignored! LCB acquisition does not make sense with cost.\n"
     ]
    },
    {
     "name": "stderr",
     "output_type": "stream",
     "text": [
      "reconstraining parameters GP_regression.Mat52\n",
      "reconstraining parameters GP_regression.Gaussian_noise.variance\n",
      "[I 2019-04-12 20:29:00,069] Finished a trial resulted in value: 0.03070250370368277. Current best value is -0.3270644209062597 with parameters: {'a': 0.283730187853966, 'b': 0.009448108843848946, 'ab': [0.283730187853966, 0.009448108843848946]}.\n"
     ]
    },
    {
     "name": "stdout",
     "output_type": "stream",
     "text": [
      "The set cost function is ignored! LCB acquisition does not make sense with cost.\n"
     ]
    },
    {
     "name": "stderr",
     "output_type": "stream",
     "text": [
      "reconstraining parameters GP_regression.Mat52\n",
      "reconstraining parameters GP_regression.Gaussian_noise.variance\n",
      "[I 2019-04-12 20:29:05,803] Finished a trial resulted in value: 0.024484858256987208. Current best value is -0.3270644209062597 with parameters: {'a': 0.283730187853966, 'b': 0.009448108843848946, 'ab': [0.283730187853966, 0.009448108843848946]}.\n"
     ]
    },
    {
     "name": "stdout",
     "output_type": "stream",
     "text": [
      "The set cost function is ignored! LCB acquisition does not make sense with cost.\n"
     ]
    },
    {
     "name": "stderr",
     "output_type": "stream",
     "text": [
      "reconstraining parameters GP_regression.Mat52\n",
      "reconstraining parameters GP_regression.Gaussian_noise.variance\n",
      "[I 2019-04-12 20:29:11,552] Finished a trial resulted in value: 0.057493492096482045. Current best value is -0.3270644209062597 with parameters: {'a': 0.283730187853966, 'b': 0.009448108843848946, 'ab': [0.283730187853966, 0.009448108843848946]}.\n"
     ]
    },
    {
     "name": "stdout",
     "output_type": "stream",
     "text": [
      "The set cost function is ignored! LCB acquisition does not make sense with cost.\n"
     ]
    },
    {
     "name": "stderr",
     "output_type": "stream",
     "text": [
      "reconstraining parameters GP_regression.Mat52\n",
      "reconstraining parameters GP_regression.Gaussian_noise.variance\n",
      "[I 2019-04-12 20:29:18,670] Finished a trial resulted in value: 0.1064947006283463. Current best value is -0.3270644209062597 with parameters: {'a': 0.283730187853966, 'b': 0.009448108843848946, 'ab': [0.283730187853966, 0.009448108843848946]}.\n"
     ]
    },
    {
     "name": "stdout",
     "output_type": "stream",
     "text": [
      "The set cost function is ignored! LCB acquisition does not make sense with cost.\n"
     ]
    },
    {
     "name": "stderr",
     "output_type": "stream",
     "text": [
      "reconstraining parameters GP_regression.Mat52\n",
      "reconstraining parameters GP_regression.Gaussian_noise.variance\n",
      "[I 2019-04-12 20:29:28,290] Finished a trial resulted in value: 0.023675929548213737. Current best value is -0.3270644209062597 with parameters: {'a': 0.283730187853966, 'b': 0.009448108843848946, 'ab': [0.283730187853966, 0.009448108843848946]}.\n"
     ]
    },
    {
     "name": "stdout",
     "output_type": "stream",
     "text": [
      "The set cost function is ignored! LCB acquisition does not make sense with cost.\n"
     ]
    },
    {
     "name": "stderr",
     "output_type": "stream",
     "text": [
      "reconstraining parameters GP_regression.Mat52\n",
      "reconstraining parameters GP_regression.Gaussian_noise.variance\n",
      "[I 2019-04-12 20:29:33,469] Finished a trial resulted in value: 0.434776971889386. Current best value is -0.3270644209062597 with parameters: {'a': 0.283730187853966, 'b': 0.009448108843848946, 'ab': [0.283730187853966, 0.009448108843848946]}.\n"
     ]
    },
    {
     "name": "stdout",
     "output_type": "stream",
     "text": [
      "The set cost function is ignored! LCB acquisition does not make sense with cost.\n"
     ]
    },
    {
     "name": "stderr",
     "output_type": "stream",
     "text": [
      "reconstraining parameters GP_regression.Mat52\n",
      "reconstraining parameters GP_regression.Gaussian_noise.variance\n",
      "[I 2019-04-12 20:29:39,095] Finished a trial resulted in value: -0.20560348904924786. Current best value is -0.3270644209062597 with parameters: {'a': 0.283730187853966, 'b': 0.009448108843848946, 'ab': [0.283730187853966, 0.009448108843848946]}.\n"
     ]
    },
    {
     "name": "stdout",
     "output_type": "stream",
     "text": [
      "The set cost function is ignored! LCB acquisition does not make sense with cost.\n"
     ]
    },
    {
     "name": "stderr",
     "output_type": "stream",
     "text": [
      "reconstraining parameters GP_regression.Mat52\n",
      "reconstraining parameters GP_regression.Gaussian_noise.variance\n",
      "[I 2019-04-12 20:29:44,542] Finished a trial resulted in value: -0.1624121965536517. Current best value is -0.3270644209062597 with parameters: {'a': 0.283730187853966, 'b': 0.009448108843848946, 'ab': [0.283730187853966, 0.009448108843848946]}.\n"
     ]
    },
    {
     "name": "stdout",
     "output_type": "stream",
     "text": [
      "The set cost function is ignored! LCB acquisition does not make sense with cost.\n"
     ]
    },
    {
     "name": "stderr",
     "output_type": "stream",
     "text": [
      "reconstraining parameters GP_regression.Mat52\n",
      "reconstraining parameters GP_regression.Gaussian_noise.variance\n",
      "[I 2019-04-12 20:29:50,014] Finished a trial resulted in value: -0.02525429884874006. Current best value is -0.3270644209062597 with parameters: {'a': 0.283730187853966, 'b': 0.009448108843848946, 'ab': [0.283730187853966, 0.009448108843848946]}.\n"
     ]
    },
    {
     "name": "stdout",
     "output_type": "stream",
     "text": [
      "The set cost function is ignored! LCB acquisition does not make sense with cost.\n"
     ]
    },
    {
     "name": "stderr",
     "output_type": "stream",
     "text": [
      "reconstraining parameters GP_regression.Mat52\n",
      "reconstraining parameters GP_regression.Gaussian_noise.variance\n",
      "[I 2019-04-12 20:29:56,374] Finished a trial resulted in value: 0.3557700981520078. Current best value is -0.3270644209062597 with parameters: {'a': 0.283730187853966, 'b': 0.009448108843848946, 'ab': [0.283730187853966, 0.009448108843848946]}.\n"
     ]
    },
    {
     "name": "stdout",
     "output_type": "stream",
     "text": [
      "The set cost function is ignored! LCB acquisition does not make sense with cost.\n"
     ]
    },
    {
     "name": "stderr",
     "output_type": "stream",
     "text": [
      "reconstraining parameters GP_regression.Mat52\n",
      "reconstraining parameters GP_regression.Gaussian_noise.variance\n",
      "[I 2019-04-12 20:30:02,915] Finished a trial resulted in value: 0.5042479791580868. Current best value is -0.3270644209062597 with parameters: {'a': 0.283730187853966, 'b': 0.009448108843848946, 'ab': [0.283730187853966, 0.009448108843848946]}.\n"
     ]
    },
    {
     "name": "stdout",
     "output_type": "stream",
     "text": [
      "The set cost function is ignored! LCB acquisition does not make sense with cost.\n"
     ]
    },
    {
     "name": "stderr",
     "output_type": "stream",
     "text": [
      "reconstraining parameters GP_regression.Mat52\n",
      "reconstraining parameters GP_regression.Gaussian_noise.variance\n",
      "[I 2019-04-12 20:30:08,486] Finished a trial resulted in value: -0.38345098658743. Current best value is -0.38345098658743 with parameters: {'a': 1.0, 'b': 0.0, 'ab': [1.0, 0.0]}.\n"
     ]
    },
    {
     "name": "stdout",
     "output_type": "stream",
     "text": [
      "The set cost function is ignored! LCB acquisition does not make sense with cost.\n"
     ]
    },
    {
     "name": "stderr",
     "output_type": "stream",
     "text": [
      "reconstraining parameters GP_regression.Mat52\n",
      "reconstraining parameters GP_regression.Gaussian_noise.variance\n",
      "[I 2019-04-12 20:30:15,212] Finished a trial resulted in value: -0.13805971908483206. Current best value is -0.38345098658743 with parameters: {'a': 1.0, 'b': 0.0, 'ab': [1.0, 0.0]}.\n"
     ]
    },
    {
     "name": "stdout",
     "output_type": "stream",
     "text": [
      "The set cost function is ignored! LCB acquisition does not make sense with cost.\n"
     ]
    },
    {
     "name": "stderr",
     "output_type": "stream",
     "text": [
      "reconstraining parameters GP_regression.Mat52\n",
      "reconstraining parameters GP_regression.Gaussian_noise.variance\n",
      "[I 2019-04-12 20:30:22,916] Finished a trial resulted in value: 0.4056402869264412. Current best value is -0.38345098658743 with parameters: {'a': 1.0, 'b': 0.0, 'ab': [1.0, 0.0]}.\n"
     ]
    },
    {
     "name": "stdout",
     "output_type": "stream",
     "text": [
      "The set cost function is ignored! LCB acquisition does not make sense with cost.\n"
     ]
    },
    {
     "name": "stderr",
     "output_type": "stream",
     "text": [
      "reconstraining parameters GP_regression.Mat52\n",
      "reconstraining parameters GP_regression.Gaussian_noise.variance\n",
      "[I 2019-04-12 20:30:27,716] Finished a trial resulted in value: -0.4836644801977632. Current best value is -0.4836644801977632 with parameters: {'a': 1.0, 'b': 0.0, 'ab': [1.0, 0.0]}.\n"
     ]
    },
    {
     "name": "stdout",
     "output_type": "stream",
     "text": [
      "The set cost function is ignored! LCB acquisition does not make sense with cost.\n"
     ]
    },
    {
     "name": "stderr",
     "output_type": "stream",
     "text": [
      "reconstraining parameters GP_regression.Mat52\n",
      "reconstraining parameters GP_regression.Gaussian_noise.variance\n",
      "[I 2019-04-12 20:30:32,581] Finished a trial resulted in value: -0.42757569349182567. Current best value is -0.4836644801977632 with parameters: {'a': 1.0, 'b': 0.0, 'ab': [1.0, 0.0]}.\n"
     ]
    },
    {
     "name": "stdout",
     "output_type": "stream",
     "text": [
      "The set cost function is ignored! LCB acquisition does not make sense with cost.\n"
     ]
    },
    {
     "name": "stderr",
     "output_type": "stream",
     "text": [
      "reconstraining parameters GP_regression.Mat52\n",
      "reconstraining parameters GP_regression.Gaussian_noise.variance\n",
      "[I 2019-04-12 20:30:37,450] Finished a trial resulted in value: -0.38175335825893725. Current best value is -0.4836644801977632 with parameters: {'a': 1.0, 'b': 0.0, 'ab': [1.0, 0.0]}.\n"
     ]
    },
    {
     "name": "stdout",
     "output_type": "stream",
     "text": [
      "The set cost function is ignored! LCB acquisition does not make sense with cost.\n"
     ]
    },
    {
     "name": "stderr",
     "output_type": "stream",
     "text": [
      "reconstraining parameters GP_regression.Mat52\n",
      "reconstraining parameters GP_regression.Gaussian_noise.variance\n",
      "[I 2019-04-12 20:30:42,311] Finished a trial resulted in value: -0.35579214904075207. Current best value is -0.4836644801977632 with parameters: {'a': 1.0, 'b': 0.0, 'ab': [1.0, 0.0]}.\n"
     ]
    },
    {
     "name": "stdout",
     "output_type": "stream",
     "text": [
      "The set cost function is ignored! LCB acquisition does not make sense with cost.\n"
     ]
    },
    {
     "name": "stderr",
     "output_type": "stream",
     "text": [
      "reconstraining parameters GP_regression.Mat52\n",
      "reconstraining parameters GP_regression.Gaussian_noise.variance\n",
      "[I 2019-04-12 20:30:47,175] Finished a trial resulted in value: -0.2768239699111865. Current best value is -0.4836644801977632 with parameters: {'a': 1.0, 'b': 0.0, 'ab': [1.0, 0.0]}.\n"
     ]
    },
    {
     "name": "stdout",
     "output_type": "stream",
     "text": [
      "The set cost function is ignored! LCB acquisition does not make sense with cost.\n"
     ]
    },
    {
     "name": "stderr",
     "output_type": "stream",
     "text": [
      "reconstraining parameters GP_regression.Mat52\n",
      "reconstraining parameters GP_regression.Gaussian_noise.variance\n",
      "[I 2019-04-12 20:30:52,074] Finished a trial resulted in value: -0.26080041515152896. Current best value is -0.4836644801977632 with parameters: {'a': 1.0, 'b': 0.0, 'ab': [1.0, 0.0]}.\n"
     ]
    },
    {
     "name": "stdout",
     "output_type": "stream",
     "text": [
      "The set cost function is ignored! LCB acquisition does not make sense with cost.\n"
     ]
    },
    {
     "name": "stderr",
     "output_type": "stream",
     "text": [
      "reconstraining parameters GP_regression.Mat52\n",
      "reconstraining parameters GP_regression.Gaussian_noise.variance\n",
      "[I 2019-04-12 20:30:59,378] Finished a trial resulted in value: -0.11680503986759358. Current best value is -0.4836644801977632 with parameters: {'a': 1.0, 'b': 0.0, 'ab': [1.0, 0.0]}.\n"
     ]
    },
    {
     "name": "stdout",
     "output_type": "stream",
     "text": [
      "The set cost function is ignored! LCB acquisition does not make sense with cost.\n"
     ]
    },
    {
     "name": "stderr",
     "output_type": "stream",
     "text": [
      "reconstraining parameters GP_regression.Mat52\n",
      "reconstraining parameters GP_regression.Gaussian_noise.variance\n",
      "[I 2019-04-12 20:31:04,282] Finished a trial resulted in value: -0.12992940435563405. Current best value is -0.4836644801977632 with parameters: {'a': 1.0, 'b': 0.0, 'ab': [1.0, 0.0]}.\n"
     ]
    },
    {
     "name": "stdout",
     "output_type": "stream",
     "text": [
      "The set cost function is ignored! LCB acquisition does not make sense with cost.\n"
     ]
    },
    {
     "name": "stderr",
     "output_type": "stream",
     "text": [
      "reconstraining parameters GP_regression.Mat52\n",
      "reconstraining parameters GP_regression.Gaussian_noise.variance\n",
      "[I 2019-04-12 20:31:09,911] Finished a trial resulted in value: 0.47581504549712417. Current best value is -0.4836644801977632 with parameters: {'a': 1.0, 'b': 0.0, 'ab': [1.0, 0.0]}.\n"
     ]
    },
    {
     "name": "stdout",
     "output_type": "stream",
     "text": [
      "The set cost function is ignored! LCB acquisition does not make sense with cost.\n"
     ]
    },
    {
     "name": "stderr",
     "output_type": "stream",
     "text": [
      "reconstraining parameters GP_regression.Mat52\n",
      "reconstraining parameters GP_regression.Gaussian_noise.variance\n",
      "[I 2019-04-12 20:31:14,881] Finished a trial resulted in value: 0.21351960337077877. Current best value is -0.4836644801977632 with parameters: {'a': 1.0, 'b': 0.0, 'ab': [1.0, 0.0]}.\n"
     ]
    },
    {
     "name": "stdout",
     "output_type": "stream",
     "text": [
      "The set cost function is ignored! LCB acquisition does not make sense with cost.\n"
     ]
    },
    {
     "name": "stderr",
     "output_type": "stream",
     "text": [
      "reconstraining parameters GP_regression.Mat52\n",
      "reconstraining parameters GP_regression.Gaussian_noise.variance\n",
      "[I 2019-04-12 20:31:20,145] Finished a trial resulted in value: 0.3195790994543659. Current best value is -0.4836644801977632 with parameters: {'a': 1.0, 'b': 0.0, 'ab': [1.0, 0.0]}.\n"
     ]
    },
    {
     "name": "stdout",
     "output_type": "stream",
     "text": [
      "The set cost function is ignored! LCB acquisition does not make sense with cost.\n"
     ]
    },
    {
     "name": "stderr",
     "output_type": "stream",
     "text": [
      "reconstraining parameters GP_regression.Mat52\n",
      "reconstraining parameters GP_regression.Gaussian_noise.variance\n",
      "[I 2019-04-12 20:31:25,314] Finished a trial resulted in value: 0.2743535597358747. Current best value is -0.4836644801977632 with parameters: {'a': 1.0, 'b': 0.0, 'ab': [1.0, 0.0]}.\n"
     ]
    },
    {
     "name": "stdout",
     "output_type": "stream",
     "text": [
      "The set cost function is ignored! LCB acquisition does not make sense with cost.\n"
     ]
    },
    {
     "name": "stderr",
     "output_type": "stream",
     "text": [
      "reconstraining parameters GP_regression.Mat52\n",
      "reconstraining parameters GP_regression.Gaussian_noise.variance\n",
      "[I 2019-04-12 20:31:30,343] Finished a trial resulted in value: 0.39471079253730057. Current best value is -0.4836644801977632 with parameters: {'a': 1.0, 'b': 0.0, 'ab': [1.0, 0.0]}.\n"
     ]
    },
    {
     "name": "stdout",
     "output_type": "stream",
     "text": [
      "The set cost function is ignored! LCB acquisition does not make sense with cost.\n"
     ]
    },
    {
     "name": "stderr",
     "output_type": "stream",
     "text": [
      "reconstraining parameters GP_regression.Mat52\n",
      "reconstraining parameters GP_regression.Gaussian_noise.variance\n",
      "[I 2019-04-12 20:31:35,384] Finished a trial resulted in value: 0.34180878739123866. Current best value is -0.4836644801977632 with parameters: {'a': 1.0, 'b': 0.0, 'ab': [1.0, 0.0]}.\n"
     ]
    },
    {
     "name": "stdout",
     "output_type": "stream",
     "text": [
      "The set cost function is ignored! LCB acquisition does not make sense with cost.\n"
     ]
    },
    {
     "name": "stderr",
     "output_type": "stream",
     "text": [
      "reconstraining parameters GP_regression.Mat52\n",
      "reconstraining parameters GP_regression.Gaussian_noise.variance\n",
      "[I 2019-04-12 20:31:40,513] Finished a trial resulted in value: 0.35206123801909744. Current best value is -0.4836644801977632 with parameters: {'a': 1.0, 'b': 0.0, 'ab': [1.0, 0.0]}.\n"
     ]
    },
    {
     "name": "stdout",
     "output_type": "stream",
     "text": [
      "The set cost function is ignored! LCB acquisition does not make sense with cost.\n"
     ]
    },
    {
     "name": "stderr",
     "output_type": "stream",
     "text": [
      "reconstraining parameters GP_regression.Mat52\n",
      "reconstraining parameters GP_regression.Gaussian_noise.variance\n",
      "[I 2019-04-12 20:31:46,972] Finished a trial resulted in value: 0.4390161826436756. Current best value is -0.4836644801977632 with parameters: {'a': 1.0, 'b': 0.0, 'ab': [1.0, 0.0]}.\n"
     ]
    },
    {
     "name": "stdout",
     "output_type": "stream",
     "text": [
      "The set cost function is ignored! LCB acquisition does not make sense with cost.\n"
     ]
    },
    {
     "name": "stderr",
     "output_type": "stream",
     "text": [
      "reconstraining parameters GP_regression.Mat52\n",
      "reconstraining parameters GP_regression.Gaussian_noise.variance\n",
      "[I 2019-04-12 20:31:53,369] Finished a trial resulted in value: 0.5269650609208577. Current best value is -0.4836644801977632 with parameters: {'a': 1.0, 'b': 0.0, 'ab': [1.0, 0.0]}.\n"
     ]
    },
    {
     "name": "stdout",
     "output_type": "stream",
     "text": [
      "The set cost function is ignored! LCB acquisition does not make sense with cost.\n"
     ]
    },
    {
     "name": "stderr",
     "output_type": "stream",
     "text": [
      "reconstraining parameters GP_regression.Mat52\n",
      "reconstraining parameters GP_regression.Gaussian_noise.variance\n",
      "[I 2019-04-12 20:31:59,313] Finished a trial resulted in value: -0.6509423837916632. Current best value is -0.6509423837916632 with parameters: {'a': 0.28922983925064955, 'b': 0.0, 'ab': [0.28922983925064955, 0.0]}.\n"
     ]
    },
    {
     "name": "stdout",
     "output_type": "stream",
     "text": [
      "The set cost function is ignored! LCB acquisition does not make sense with cost.\n"
     ]
    },
    {
     "name": "stderr",
     "output_type": "stream",
     "text": [
      "reconstraining parameters GP_regression.Mat52\n",
      "reconstraining parameters GP_regression.Gaussian_noise.variance\n",
      "[I 2019-04-12 20:32:05,917] Finished a trial resulted in value: -0.7607566814288145. Current best value is -0.7607566814288145 with parameters: {'a': 0.2878718170372041, 'b': 0.0, 'ab': [0.2878718170372041, 0.0]}.\n"
     ]
    },
    {
     "name": "stdout",
     "output_type": "stream",
     "text": [
      "The set cost function is ignored! LCB acquisition does not make sense with cost.\n"
     ]
    },
    {
     "name": "stderr",
     "output_type": "stream",
     "text": [
      "reconstraining parameters GP_regression.Mat52\n",
      "reconstraining parameters GP_regression.Gaussian_noise.variance\n",
      "[I 2019-04-12 20:32:12,492] Finished a trial resulted in value: -0.8777430848229977. Current best value is -0.8777430848229977 with parameters: {'a': 0.25671325168884845, 'b': 0.0, 'ab': [0.25671325168884845, 0.0]}.\n"
     ]
    },
    {
     "name": "stdout",
     "output_type": "stream",
     "text": [
      "The set cost function is ignored! LCB acquisition does not make sense with cost.\n"
     ]
    },
    {
     "name": "stderr",
     "output_type": "stream",
     "text": [
      "reconstraining parameters GP_regression.Mat52\n",
      "reconstraining parameters GP_regression.Gaussian_noise.variance\n",
      "[I 2019-04-12 20:32:20,344] Finished a trial resulted in value: -0.9542541776500483. Current best value is -0.9542541776500483 with parameters: {'a': 0.28586876920856813, 'b': 0.0, 'ab': [0.28586876920856813, 0.0]}.\n"
     ]
    },
    {
     "name": "stdout",
     "output_type": "stream",
     "text": [
      "The set cost function is ignored! LCB acquisition does not make sense with cost.\n"
     ]
    },
    {
     "name": "stderr",
     "output_type": "stream",
     "text": [
      "reconstraining parameters GP_regression.Mat52\n",
      "reconstraining parameters GP_regression.Gaussian_noise.variance\n",
      "[I 2019-04-12 20:32:27,814] Finished a trial resulted in value: -0.9658758640560717. Current best value is -0.9658758640560717 with parameters: {'a': 0.28667935671174954, 'b': 0.0, 'ab': [0.28667935671174954, 0.0]}.\n"
     ]
    },
    {
     "name": "stdout",
     "output_type": "stream",
     "text": [
      "The set cost function is ignored! LCB acquisition does not make sense with cost.\n"
     ]
    },
    {
     "name": "stderr",
     "output_type": "stream",
     "text": [
      "reconstraining parameters GP_regression.Mat52\n",
      "reconstraining parameters GP_regression.Gaussian_noise.variance\n",
      "[I 2019-04-12 20:32:33,804] Finished a trial resulted in value: -0.048580283169026794. Current best value is -0.9658758640560717 with parameters: {'a': 0.28667935671174954, 'b': 0.0, 'ab': [0.28667935671174954, 0.0]}.\n"
     ]
    },
    {
     "name": "stdout",
     "output_type": "stream",
     "text": [
      "The set cost function is ignored! LCB acquisition does not make sense with cost.\n"
     ]
    },
    {
     "name": "stderr",
     "output_type": "stream",
     "text": [
      "reconstraining parameters GP_regression.Mat52\n",
      "reconstraining parameters GP_regression.Gaussian_noise.variance\n",
      "[I 2019-04-12 20:32:40,132] Finished a trial resulted in value: -0.941929671410501. Current best value is -0.9658758640560717 with parameters: {'a': 0.28667935671174954, 'b': 0.0, 'ab': [0.28667935671174954, 0.0]}.\n"
     ]
    },
    {
     "name": "stdout",
     "output_type": "stream",
     "text": [
      "The set cost function is ignored! LCB acquisition does not make sense with cost.\n"
     ]
    },
    {
     "name": "stderr",
     "output_type": "stream",
     "text": [
      "reconstraining parameters GP_regression.Mat52\n",
      "reconstraining parameters GP_regression.Gaussian_noise.variance\n",
      "[I 2019-04-12 20:32:46,578] Finished a trial resulted in value: -0.9880872360902352. Current best value is -0.9880872360902352 with parameters: {'a': 0.0, 'b': 0.3135752285544942, 'ab': [0.0, 0.3135752285544942]}.\n"
     ]
    },
    {
     "name": "stdout",
     "output_type": "stream",
     "text": [
      "The set cost function is ignored! LCB acquisition does not make sense with cost.\n"
     ]
    },
    {
     "name": "stderr",
     "output_type": "stream",
     "text": [
      "reconstraining parameters GP_regression.Mat52\n",
      "reconstraining parameters GP_regression.Gaussian_noise.variance\n",
      "[I 2019-04-12 20:32:55,450] Finished a trial resulted in value: -0.8818969785590188. Current best value is -0.9880872360902352 with parameters: {'a': 0.0, 'b': 0.3135752285544942, 'ab': [0.0, 0.3135752285544942]}.\n"
     ]
    },
    {
     "name": "stdout",
     "output_type": "stream",
     "text": [
      "The set cost function is ignored! LCB acquisition does not make sense with cost.\n"
     ]
    },
    {
     "name": "stderr",
     "output_type": "stream",
     "text": [
      "reconstraining parameters GP_regression.Mat52\n",
      "reconstraining parameters GP_regression.Gaussian_noise.variance\n",
      "[I 2019-04-12 20:33:03,750] Finished a trial resulted in value: -0.898165932919609. Current best value is -0.9880872360902352 with parameters: {'a': 0.0, 'b': 0.3135752285544942, 'ab': [0.0, 0.3135752285544942]}.\n"
     ]
    },
    {
     "name": "stdout",
     "output_type": "stream",
     "text": [
      "The set cost function is ignored! LCB acquisition does not make sense with cost.\n"
     ]
    },
    {
     "name": "stderr",
     "output_type": "stream",
     "text": [
      "reconstraining parameters GP_regression.Mat52\n",
      "reconstraining parameters GP_regression.Gaussian_noise.variance\n",
      "[I 2019-04-12 20:33:11,659] Finished a trial resulted in value: -0.9139721120899391. Current best value is -0.9880872360902352 with parameters: {'a': 0.0, 'b': 0.3135752285544942, 'ab': [0.0, 0.3135752285544942]}.\n"
     ]
    },
    {
     "name": "stdout",
     "output_type": "stream",
     "text": [
      "The set cost function is ignored! LCB acquisition does not make sense with cost.\n"
     ]
    },
    {
     "name": "stderr",
     "output_type": "stream",
     "text": [
      "reconstraining parameters GP_regression.Mat52\n",
      "reconstraining parameters GP_regression.Gaussian_noise.variance\n",
      "[I 2019-04-12 20:33:19,424] Finished a trial resulted in value: -0.7573253222633131. Current best value is -0.9880872360902352 with parameters: {'a': 0.0, 'b': 0.3135752285544942, 'ab': [0.0, 0.3135752285544942]}.\n"
     ]
    },
    {
     "name": "stdout",
     "output_type": "stream",
     "text": [
      "The set cost function is ignored! LCB acquisition does not make sense with cost.\n"
     ]
    },
    {
     "name": "stderr",
     "output_type": "stream",
     "text": [
      "reconstraining parameters GP_regression.Mat52\n",
      "reconstraining parameters GP_regression.Gaussian_noise.variance\n",
      "[I 2019-04-12 20:33:29,037] Finished a trial resulted in value: -0.717678237869102. Current best value is -0.9880872360902352 with parameters: {'a': 0.0, 'b': 0.3135752285544942, 'ab': [0.0, 0.3135752285544942]}.\n"
     ]
    },
    {
     "name": "stdout",
     "output_type": "stream",
     "text": [
      "The set cost function is ignored! LCB acquisition does not make sense with cost.\n"
     ]
    },
    {
     "name": "stderr",
     "output_type": "stream",
     "text": [
      "reconstraining parameters GP_regression.Mat52\n",
      "reconstraining parameters GP_regression.Gaussian_noise.variance\n",
      "[I 2019-04-12 20:33:38,354] Finished a trial resulted in value: -0.6375366501539204. Current best value is -0.9880872360902352 with parameters: {'a': 0.0, 'b': 0.3135752285544942, 'ab': [0.0, 0.3135752285544942]}.\n"
     ]
    },
    {
     "name": "stdout",
     "output_type": "stream",
     "text": [
      "The set cost function is ignored! LCB acquisition does not make sense with cost.\n"
     ]
    },
    {
     "name": "stderr",
     "output_type": "stream",
     "text": [
      "reconstraining parameters GP_regression.Mat52\n",
      "reconstraining parameters GP_regression.Gaussian_noise.variance\n",
      "[I 2019-04-12 20:33:46,008] Finished a trial resulted in value: -0.5114807444087247. Current best value is -0.9880872360902352 with parameters: {'a': 0.0, 'b': 0.3135752285544942, 'ab': [0.0, 0.3135752285544942]}.\n"
     ]
    },
    {
     "name": "stdout",
     "output_type": "stream",
     "text": [
      "The set cost function is ignored! LCB acquisition does not make sense with cost.\n"
     ]
    },
    {
     "name": "stderr",
     "output_type": "stream",
     "text": [
      "reconstraining parameters GP_regression.Mat52\n",
      "reconstraining parameters GP_regression.Gaussian_noise.variance\n",
      "[I 2019-04-12 20:33:53,000] Finished a trial resulted in value: 0.19840269544532896. Current best value is -0.9880872360902352 with parameters: {'a': 0.0, 'b': 0.3135752285544942, 'ab': [0.0, 0.3135752285544942]}.\n"
     ]
    },
    {
     "name": "stdout",
     "output_type": "stream",
     "text": [
      "The set cost function is ignored! LCB acquisition does not make sense with cost.\n"
     ]
    },
    {
     "name": "stderr",
     "output_type": "stream",
     "text": [
      "reconstraining parameters GP_regression.Mat52\n",
      "reconstraining parameters GP_regression.Gaussian_noise.variance\n",
      "[I 2019-04-12 20:34:01,013] Finished a trial resulted in value: -0.2975288441696318. Current best value is -0.9880872360902352 with parameters: {'a': 0.0, 'b': 0.3135752285544942, 'ab': [0.0, 0.3135752285544942]}.\n"
     ]
    },
    {
     "name": "stdout",
     "output_type": "stream",
     "text": [
      "The set cost function is ignored! LCB acquisition does not make sense with cost.\n"
     ]
    },
    {
     "name": "stderr",
     "output_type": "stream",
     "text": [
      "reconstraining parameters GP_regression.Mat52\n",
      "reconstraining parameters GP_regression.Gaussian_noise.variance\n",
      "[I 2019-04-12 20:34:07,758] Finished a trial resulted in value: -0.3347745940061398. Current best value is -0.9880872360902352 with parameters: {'a': 0.0, 'b': 0.3135752285544942, 'ab': [0.0, 0.3135752285544942]}.\n"
     ]
    },
    {
     "name": "stdout",
     "output_type": "stream",
     "text": [
      "The set cost function is ignored! LCB acquisition does not make sense with cost.\n"
     ]
    },
    {
     "name": "stderr",
     "output_type": "stream",
     "text": [
      "reconstraining parameters GP_regression.Mat52\n",
      "reconstraining parameters GP_regression.Gaussian_noise.variance\n",
      "[I 2019-04-12 20:34:16,961] Finished a trial resulted in value: -0.3404333932146269. Current best value is -0.9880872360902352 with parameters: {'a': 0.0, 'b': 0.3135752285544942, 'ab': [0.0, 0.3135752285544942]}.\n"
     ]
    },
    {
     "name": "stdout",
     "output_type": "stream",
     "text": [
      "The set cost function is ignored! LCB acquisition does not make sense with cost.\n"
     ]
    },
    {
     "name": "stderr",
     "output_type": "stream",
     "text": [
      "reconstraining parameters GP_regression.Mat52\n",
      "reconstraining parameters GP_regression.Gaussian_noise.variance\n",
      "[I 2019-04-12 20:34:24,580] Finished a trial resulted in value: 0.4830765010400615. Current best value is -0.9880872360902352 with parameters: {'a': 0.0, 'b': 0.3135752285544942, 'ab': [0.0, 0.3135752285544942]}.\n"
     ]
    },
    {
     "name": "stdout",
     "output_type": "stream",
     "text": [
      "The set cost function is ignored! LCB acquisition does not make sense with cost.\n"
     ]
    },
    {
     "name": "stderr",
     "output_type": "stream",
     "text": [
      "reconstraining parameters GP_regression.Mat52\n",
      "reconstraining parameters GP_regression.Gaussian_noise.variance\n",
      "[I 2019-04-12 20:34:32,628] Finished a trial resulted in value: 0.12138737088324586. Current best value is -0.9880872360902352 with parameters: {'a': 0.0, 'b': 0.3135752285544942, 'ab': [0.0, 0.3135752285544942]}.\n"
     ]
    },
    {
     "name": "stdout",
     "output_type": "stream",
     "text": [
      "The set cost function is ignored! LCB acquisition does not make sense with cost.\n"
     ]
    },
    {
     "name": "stderr",
     "output_type": "stream",
     "text": [
      "reconstraining parameters GP_regression.Mat52\n",
      "reconstraining parameters GP_regression.Gaussian_noise.variance\n",
      "[I 2019-04-12 20:34:40,733] Finished a trial resulted in value: 0.3487190752714349. Current best value is -0.9880872360902352 with parameters: {'a': 0.0, 'b': 0.3135752285544942, 'ab': [0.0, 0.3135752285544942]}.\n"
     ]
    },
    {
     "name": "stdout",
     "output_type": "stream",
     "text": [
      "The set cost function is ignored! LCB acquisition does not make sense with cost.\n"
     ]
    },
    {
     "name": "stderr",
     "output_type": "stream",
     "text": [
      "reconstraining parameters GP_regression.Mat52\n",
      "reconstraining parameters GP_regression.Gaussian_noise.variance\n",
      "[I 2019-04-12 20:34:49,482] Finished a trial resulted in value: -0.7118892746091856. Current best value is -0.9880872360902352 with parameters: {'a': 0.0, 'b': 0.3135752285544942, 'ab': [0.0, 0.3135752285544942]}.\n"
     ]
    },
    {
     "name": "stdout",
     "output_type": "stream",
     "text": [
      "The set cost function is ignored! LCB acquisition does not make sense with cost.\n"
     ]
    },
    {
     "name": "stderr",
     "output_type": "stream",
     "text": [
      "reconstraining parameters GP_regression.Mat52\n",
      "reconstraining parameters GP_regression.Gaussian_noise.variance\n",
      "[I 2019-04-12 20:34:59,614] Finished a trial resulted in value: -1.0076372040346129. Current best value is -1.0076372040346129 with parameters: {'a': 0.4077496709786348, 'b': 0.7902932512288167, 'ab': [0.4077496709786348, 0.7902932512288167]}.\n"
     ]
    },
    {
     "name": "stdout",
     "output_type": "stream",
     "text": [
      "The set cost function is ignored! LCB acquisition does not make sense with cost.\n"
     ]
    },
    {
     "name": "stderr",
     "output_type": "stream",
     "text": [
      "reconstraining parameters GP_regression.Mat52\n",
      "reconstraining parameters GP_regression.Gaussian_noise.variance\n",
      "[I 2019-04-12 20:35:12,194] Finished a trial resulted in value: -1.071264679437669. Current best value is -1.071264679437669 with parameters: {'a': 0.4076725833120659, 'b': 0.7900030154093212, 'ab': [0.4076725833120659, 0.7900030154093212]}.\n"
     ]
    },
    {
     "name": "stdout",
     "output_type": "stream",
     "text": [
      "The set cost function is ignored! LCB acquisition does not make sense with cost.\n"
     ]
    },
    {
     "name": "stderr",
     "output_type": "stream",
     "text": [
      "reconstraining parameters GP_regression.Mat52\n",
      "reconstraining parameters GP_regression.Gaussian_noise.variance\n",
      "[I 2019-04-12 20:35:21,837] Finished a trial resulted in value: -0.969969227470693. Current best value is -1.071264679437669 with parameters: {'a': 0.4076725833120659, 'b': 0.7900030154093212, 'ab': [0.4076725833120659, 0.7900030154093212]}.\n"
     ]
    },
    {
     "name": "stdout",
     "output_type": "stream",
     "text": [
      "The set cost function is ignored! LCB acquisition does not make sense with cost.\n"
     ]
    },
    {
     "name": "stderr",
     "output_type": "stream",
     "text": [
      "reconstraining parameters GP_regression.Mat52\n",
      "reconstraining parameters GP_regression.Gaussian_noise.variance\n",
      "[I 2019-04-12 20:35:31,593] Finished a trial resulted in value: -0.8769692640344926. Current best value is -1.071264679437669 with parameters: {'a': 0.4076725833120659, 'b': 0.7900030154093212, 'ab': [0.4076725833120659, 0.7900030154093212]}.\n"
     ]
    },
    {
     "name": "stdout",
     "output_type": "stream",
     "text": [
      "The set cost function is ignored! LCB acquisition does not make sense with cost.\n"
     ]
    },
    {
     "name": "stderr",
     "output_type": "stream",
     "text": [
      "reconstraining parameters GP_regression.Mat52\n",
      "reconstraining parameters GP_regression.Gaussian_noise.variance\n",
      "[I 2019-04-12 20:35:43,052] Finished a trial resulted in value: -0.9410615224012789. Current best value is -1.071264679437669 with parameters: {'a': 0.4076725833120659, 'b': 0.7900030154093212, 'ab': [0.4076725833120659, 0.7900030154093212]}.\n"
     ]
    },
    {
     "name": "stdout",
     "output_type": "stream",
     "text": [
      "The set cost function is ignored! LCB acquisition does not make sense with cost.\n"
     ]
    },
    {
     "name": "stderr",
     "output_type": "stream",
     "text": [
      "reconstraining parameters GP_regression.Mat52\n",
      "reconstraining parameters GP_regression.Gaussian_noise.variance\n",
      "[I 2019-04-12 20:35:52,573] Finished a trial resulted in value: -0.9003990407173368. Current best value is -1.071264679437669 with parameters: {'a': 0.4076725833120659, 'b': 0.7900030154093212, 'ab': [0.4076725833120659, 0.7900030154093212]}.\n"
     ]
    },
    {
     "name": "stdout",
     "output_type": "stream",
     "text": [
      "The set cost function is ignored! LCB acquisition does not make sense with cost.\n"
     ]
    },
    {
     "name": "stderr",
     "output_type": "stream",
     "text": [
      "reconstraining parameters GP_regression.Mat52\n",
      "reconstraining parameters GP_regression.Gaussian_noise.variance\n",
      "[I 2019-04-12 20:36:01,734] Finished a trial resulted in value: -0.7929858513546914. Current best value is -1.071264679437669 with parameters: {'a': 0.4076725833120659, 'b': 0.7900030154093212, 'ab': [0.4076725833120659, 0.7900030154093212]}.\n"
     ]
    },
    {
     "name": "stdout",
     "output_type": "stream",
     "text": [
      "The set cost function is ignored! LCB acquisition does not make sense with cost.\n"
     ]
    },
    {
     "name": "stderr",
     "output_type": "stream",
     "text": [
      "reconstraining parameters GP_regression.Mat52\n",
      "reconstraining parameters GP_regression.Gaussian_noise.variance\n",
      "[I 2019-04-12 20:36:11,963] Finished a trial resulted in value: -0.8347242294965304. Current best value is -1.071264679437669 with parameters: {'a': 0.4076725833120659, 'b': 0.7900030154093212, 'ab': [0.4076725833120659, 0.7900030154093212]}.\n"
     ]
    },
    {
     "name": "stdout",
     "output_type": "stream",
     "text": [
      "The set cost function is ignored! LCB acquisition does not make sense with cost.\n"
     ]
    },
    {
     "name": "stderr",
     "output_type": "stream",
     "text": [
      "reconstraining parameters GP_regression.Mat52\n",
      "reconstraining parameters GP_regression.Gaussian_noise.variance\n",
      "[I 2019-04-12 20:36:21,901] Finished a trial resulted in value: -0.9142037965189114. Current best value is -1.071264679437669 with parameters: {'a': 0.4076725833120659, 'b': 0.7900030154093212, 'ab': [0.4076725833120659, 0.7900030154093212]}.\n"
     ]
    },
    {
     "name": "stdout",
     "output_type": "stream",
     "text": [
      "The set cost function is ignored! LCB acquisition does not make sense with cost.\n"
     ]
    },
    {
     "name": "stderr",
     "output_type": "stream",
     "text": [
      "reconstraining parameters GP_regression.Mat52\n",
      "reconstraining parameters GP_regression.Gaussian_noise.variance\n",
      "[I 2019-04-12 20:36:33,401] Finished a trial resulted in value: -1.0439818115859532. Current best value is -1.071264679437669 with parameters: {'a': 0.4076725833120659, 'b': 0.7900030154093212, 'ab': [0.4076725833120659, 0.7900030154093212]}.\n"
     ]
    },
    {
     "name": "stdout",
     "output_type": "stream",
     "text": [
      "The set cost function is ignored! LCB acquisition does not make sense with cost.\n"
     ]
    },
    {
     "name": "stderr",
     "output_type": "stream",
     "text": [
      "reconstraining parameters GP_regression.Mat52\n",
      "reconstraining parameters GP_regression.Gaussian_noise.variance\n",
      "[I 2019-04-12 20:36:44,724] Finished a trial resulted in value: -0.9733289960673692. Current best value is -1.071264679437669 with parameters: {'a': 0.4076725833120659, 'b': 0.7900030154093212, 'ab': [0.4076725833120659, 0.7900030154093212]}.\n"
     ]
    },
    {
     "name": "stdout",
     "output_type": "stream",
     "text": [
      "The set cost function is ignored! LCB acquisition does not make sense with cost.\n"
     ]
    },
    {
     "name": "stderr",
     "output_type": "stream",
     "text": [
      "reconstraining parameters GP_regression.Mat52\n",
      "reconstraining parameters GP_regression.Gaussian_noise.variance\n",
      "[I 2019-04-12 20:36:56,544] Finished a trial resulted in value: -1.0134699713335324. Current best value is -1.071264679437669 with parameters: {'a': 0.4076725833120659, 'b': 0.7900030154093212, 'ab': [0.4076725833120659, 0.7900030154093212]}.\n"
     ]
    },
    {
     "name": "stdout",
     "output_type": "stream",
     "text": [
      "The set cost function is ignored! LCB acquisition does not make sense with cost.\n"
     ]
    },
    {
     "name": "stderr",
     "output_type": "stream",
     "text": [
      "reconstraining parameters GP_regression.Mat52\n",
      "reconstraining parameters GP_regression.Gaussian_noise.variance\n",
      "[I 2019-04-12 20:37:06,190] Finished a trial resulted in value: -1.1107811751398224. Current best value is -1.1107811751398224 with parameters: {'a': 0.38600975387990644, 'b': 0.7624687373743466, 'ab': [0.38600975387990644, 0.7624687373743466]}.\n"
     ]
    },
    {
     "name": "stdout",
     "output_type": "stream",
     "text": [
      "The set cost function is ignored! LCB acquisition does not make sense with cost.\n"
     ]
    },
    {
     "name": "stderr",
     "output_type": "stream",
     "text": [
      "reconstraining parameters GP_regression.Mat52\n",
      "reconstraining parameters GP_regression.Gaussian_noise.variance\n",
      "[I 2019-04-12 20:37:15,650] Finished a trial resulted in value: -1.1454038432183686. Current best value is -1.1454038432183686 with parameters: {'a': 0.3741534975723227, 'b': 0.7566489159564999, 'ab': [0.3741534975723227, 0.7566489159564999]}.\n"
     ]
    },
    {
     "name": "stdout",
     "output_type": "stream",
     "text": [
      "The set cost function is ignored! LCB acquisition does not make sense with cost.\n"
     ]
    },
    {
     "name": "stderr",
     "output_type": "stream",
     "text": [
      "reconstraining parameters GP_regression.Mat52\n",
      "reconstraining parameters GP_regression.Gaussian_noise.variance\n",
      "[I 2019-04-12 20:37:25,493] Finished a trial resulted in value: -1.060407561348891. Current best value is -1.1454038432183686 with parameters: {'a': 0.3741534975723227, 'b': 0.7566489159564999, 'ab': [0.3741534975723227, 0.7566489159564999]}.\n"
     ]
    },
    {
     "name": "stdout",
     "output_type": "stream",
     "text": [
      "The set cost function is ignored! LCB acquisition does not make sense with cost.\n"
     ]
    },
    {
     "name": "stderr",
     "output_type": "stream",
     "text": [
      "reconstraining parameters GP_regression.Mat52\n",
      "reconstraining parameters GP_regression.Gaussian_noise.variance\n",
      "[I 2019-04-12 20:37:35,990] Finished a trial resulted in value: -1.0606350652793899. Current best value is -1.1454038432183686 with parameters: {'a': 0.3741534975723227, 'b': 0.7566489159564999, 'ab': [0.3741534975723227, 0.7566489159564999]}.\n"
     ]
    },
    {
     "name": "stdout",
     "output_type": "stream",
     "text": [
      "The set cost function is ignored! LCB acquisition does not make sense with cost.\n"
     ]
    },
    {
     "name": "stderr",
     "output_type": "stream",
     "text": [
      "reconstraining parameters GP_regression.Mat52\n",
      "reconstraining parameters GP_regression.Gaussian_noise.variance\n",
      "[I 2019-04-12 20:37:45,443] Finished a trial resulted in value: -1.237863663908188. Current best value is -1.237863663908188 with parameters: {'a': 0.35819919497386127, 'b': 0.7505051966648891, 'ab': [0.35819919497386127, 0.7505051966648891]}.\n"
     ]
    },
    {
     "name": "stdout",
     "output_type": "stream",
     "text": [
      "The set cost function is ignored! LCB acquisition does not make sense with cost.\n"
     ]
    },
    {
     "name": "stderr",
     "output_type": "stream",
     "text": [
      "reconstraining parameters GP_regression.Mat52\n",
      "reconstraining parameters GP_regression.Gaussian_noise.variance\n",
      "[I 2019-04-12 20:37:55,230] Finished a trial resulted in value: -0.9613597604624196. Current best value is -1.237863663908188 with parameters: {'a': 0.35819919497386127, 'b': 0.7505051966648891, 'ab': [0.35819919497386127, 0.7505051966648891]}.\n"
     ]
    },
    {
     "name": "stdout",
     "output_type": "stream",
     "text": [
      "The set cost function is ignored! LCB acquisition does not make sense with cost.\n"
     ]
    },
    {
     "name": "stderr",
     "output_type": "stream",
     "text": [
      "reconstraining parameters GP_regression.Mat52\n",
      "reconstraining parameters GP_regression.Gaussian_noise.variance\n",
      "[I 2019-04-12 20:38:05,034] Finished a trial resulted in value: -1.0481689923651871. Current best value is -1.237863663908188 with parameters: {'a': 0.35819919497386127, 'b': 0.7505051966648891, 'ab': [0.35819919497386127, 0.7505051966648891]}.\n"
     ]
    },
    {
     "name": "stdout",
     "output_type": "stream",
     "text": [
      "The set cost function is ignored! LCB acquisition does not make sense with cost.\n"
     ]
    },
    {
     "name": "stderr",
     "output_type": "stream",
     "text": [
      "reconstraining parameters GP_regression.Mat52\n",
      "reconstraining parameters GP_regression.Gaussian_noise.variance\n",
      "[I 2019-04-12 20:38:14,879] Finished a trial resulted in value: -0.9412029301798513. Current best value is -1.237863663908188 with parameters: {'a': 0.35819919497386127, 'b': 0.7505051966648891, 'ab': [0.35819919497386127, 0.7505051966648891]}.\n"
     ]
    },
    {
     "name": "stdout",
     "output_type": "stream",
     "text": [
      "The set cost function is ignored! LCB acquisition does not make sense with cost.\n"
     ]
    },
    {
     "name": "stderr",
     "output_type": "stream",
     "text": [
      "reconstraining parameters GP_regression.Mat52\n",
      "reconstraining parameters GP_regression.Gaussian_noise.variance\n",
      "[I 2019-04-12 20:38:24,643] Finished a trial resulted in value: -0.9983633811911813. Current best value is -1.237863663908188 with parameters: {'a': 0.35819919497386127, 'b': 0.7505051966648891, 'ab': [0.35819919497386127, 0.7505051966648891]}.\n"
     ]
    },
    {
     "name": "stdout",
     "output_type": "stream",
     "text": [
      "The set cost function is ignored! LCB acquisition does not make sense with cost.\n"
     ]
    },
    {
     "name": "stderr",
     "output_type": "stream",
     "text": [
      "reconstraining parameters GP_regression.Mat52\n",
      "reconstraining parameters GP_regression.Gaussian_noise.variance\n",
      "[I 2019-04-12 20:38:34,538] Finished a trial resulted in value: -1.099873336881721. Current best value is -1.237863663908188 with parameters: {'a': 0.35819919497386127, 'b': 0.7505051966648891, 'ab': [0.35819919497386127, 0.7505051966648891]}.\n"
     ]
    },
    {
     "name": "stdout",
     "output_type": "stream",
     "text": [
      "The set cost function is ignored! LCB acquisition does not make sense with cost.\n"
     ]
    },
    {
     "name": "stderr",
     "output_type": "stream",
     "text": [
      "reconstraining parameters GP_regression.Mat52\n",
      "reconstraining parameters GP_regression.Gaussian_noise.variance\n",
      "[I 2019-04-12 20:38:44,961] Finished a trial resulted in value: -0.9962461466986069. Current best value is -1.237863663908188 with parameters: {'a': 0.35819919497386127, 'b': 0.7505051966648891, 'ab': [0.35819919497386127, 0.7505051966648891]}.\n"
     ]
    },
    {
     "name": "stdout",
     "output_type": "stream",
     "text": [
      "The set cost function is ignored! LCB acquisition does not make sense with cost.\n"
     ]
    },
    {
     "name": "stderr",
     "output_type": "stream",
     "text": [
      "reconstraining parameters GP_regression.Mat52\n",
      "reconstraining parameters GP_regression.Gaussian_noise.variance\n",
      "[I 2019-04-12 20:38:55,261] Finished a trial resulted in value: -0.9581817570402245. Current best value is -1.237863663908188 with parameters: {'a': 0.35819919497386127, 'b': 0.7505051966648891, 'ab': [0.35819919497386127, 0.7505051966648891]}.\n"
     ]
    },
    {
     "name": "stdout",
     "output_type": "stream",
     "text": [
      "The set cost function is ignored! LCB acquisition does not make sense with cost.\n"
     ]
    },
    {
     "name": "stderr",
     "output_type": "stream",
     "text": [
      "reconstraining parameters GP_regression.Mat52\n",
      "reconstraining parameters GP_regression.Gaussian_noise.variance\n",
      "[I 2019-04-12 20:39:05,497] Finished a trial resulted in value: -1.0412927525424867. Current best value is -1.237863663908188 with parameters: {'a': 0.35819919497386127, 'b': 0.7505051966648891, 'ab': [0.35819919497386127, 0.7505051966648891]}.\n"
     ]
    },
    {
     "name": "stdout",
     "output_type": "stream",
     "text": [
      "The set cost function is ignored! LCB acquisition does not make sense with cost.\n"
     ]
    },
    {
     "name": "stderr",
     "output_type": "stream",
     "text": [
      "reconstraining parameters GP_regression.Mat52\n",
      "reconstraining parameters GP_regression.Gaussian_noise.variance\n",
      "[I 2019-04-12 20:39:15,637] Finished a trial resulted in value: -1.0533164860040527. Current best value is -1.237863663908188 with parameters: {'a': 0.35819919497386127, 'b': 0.7505051966648891, 'ab': [0.35819919497386127, 0.7505051966648891]}.\n"
     ]
    },
    {
     "name": "stdout",
     "output_type": "stream",
     "text": [
      "The set cost function is ignored! LCB acquisition does not make sense with cost.\n"
     ]
    },
    {
     "name": "stderr",
     "output_type": "stream",
     "text": [
      "reconstraining parameters GP_regression.Mat52\n",
      "reconstraining parameters GP_regression.Gaussian_noise.variance\n",
      "[I 2019-04-12 20:39:26,155] Finished a trial resulted in value: -1.2111868503295966. Current best value is -1.237863663908188 with parameters: {'a': 0.35819919497386127, 'b': 0.7505051966648891, 'ab': [0.35819919497386127, 0.7505051966648891]}.\n"
     ]
    },
    {
     "name": "stdout",
     "output_type": "stream",
     "text": [
      "The set cost function is ignored! LCB acquisition does not make sense with cost.\n"
     ]
    },
    {
     "name": "stderr",
     "output_type": "stream",
     "text": [
      "reconstraining parameters GP_regression.Mat52\n",
      "reconstraining parameters GP_regression.Gaussian_noise.variance\n",
      "[I 2019-04-12 20:39:36,312] Finished a trial resulted in value: -1.0266650465116656. Current best value is -1.237863663908188 with parameters: {'a': 0.35819919497386127, 'b': 0.7505051966648891, 'ab': [0.35819919497386127, 0.7505051966648891]}.\n"
     ]
    },
    {
     "name": "stdout",
     "output_type": "stream",
     "text": [
      "The set cost function is ignored! LCB acquisition does not make sense with cost.\n"
     ]
    },
    {
     "name": "stderr",
     "output_type": "stream",
     "text": [
      "reconstraining parameters GP_regression.Mat52\n",
      "reconstraining parameters GP_regression.Gaussian_noise.variance\n",
      "[I 2019-04-12 20:39:46,740] Finished a trial resulted in value: -1.0619377329038704. Current best value is -1.237863663908188 with parameters: {'a': 0.35819919497386127, 'b': 0.7505051966648891, 'ab': [0.35819919497386127, 0.7505051966648891]}.\n"
     ]
    },
    {
     "name": "stdout",
     "output_type": "stream",
     "text": [
      "The set cost function is ignored! LCB acquisition does not make sense with cost.\n"
     ]
    },
    {
     "name": "stderr",
     "output_type": "stream",
     "text": [
      "reconstraining parameters GP_regression.Mat52\n",
      "reconstraining parameters GP_regression.Gaussian_noise.variance\n",
      "[I 2019-04-12 20:39:56,556] Finished a trial resulted in value: 0.8582060544558592. Current best value is -1.237863663908188 with parameters: {'a': 0.35819919497386127, 'b': 0.7505051966648891, 'ab': [0.35819919497386127, 0.7505051966648891]}.\n"
     ]
    },
    {
     "name": "stdout",
     "output_type": "stream",
     "text": [
      "The set cost function is ignored! LCB acquisition does not make sense with cost.\n"
     ]
    },
    {
     "name": "stderr",
     "output_type": "stream",
     "text": [
      "reconstraining parameters GP_regression.Mat52\n",
      "reconstraining parameters GP_regression.Gaussian_noise.variance\n",
      "[I 2019-04-12 20:40:06,852] Finished a trial resulted in value: -1.1027217973488568. Current best value is -1.237863663908188 with parameters: {'a': 0.35819919497386127, 'b': 0.7505051966648891, 'ab': [0.35819919497386127, 0.7505051966648891]}.\n"
     ]
    },
    {
     "name": "stdout",
     "output_type": "stream",
     "text": [
      "The set cost function is ignored! LCB acquisition does not make sense with cost.\n"
     ]
    },
    {
     "name": "stderr",
     "output_type": "stream",
     "text": [
      "reconstraining parameters GP_regression.Mat52\n",
      "reconstraining parameters GP_regression.Gaussian_noise.variance\n",
      "[I 2019-04-12 20:40:17,235] Finished a trial resulted in value: -0.8470719116893248. Current best value is -1.237863663908188 with parameters: {'a': 0.35819919497386127, 'b': 0.7505051966648891, 'ab': [0.35819919497386127, 0.7505051966648891]}.\n"
     ]
    },
    {
     "name": "stdout",
     "output_type": "stream",
     "text": [
      "The set cost function is ignored! LCB acquisition does not make sense with cost.\n"
     ]
    },
    {
     "name": "stderr",
     "output_type": "stream",
     "text": [
      "reconstraining parameters GP_regression.Mat52\n",
      "reconstraining parameters GP_regression.Gaussian_noise.variance\n",
      "[I 2019-04-12 20:40:28,121] Finished a trial resulted in value: -0.6639797291804815. Current best value is -1.237863663908188 with parameters: {'a': 0.35819919497386127, 'b': 0.7505051966648891, 'ab': [0.35819919497386127, 0.7505051966648891]}.\n"
     ]
    },
    {
     "name": "stdout",
     "output_type": "stream",
     "text": [
      "The set cost function is ignored! LCB acquisition does not make sense with cost.\n"
     ]
    },
    {
     "name": "stderr",
     "output_type": "stream",
     "text": [
      "reconstraining parameters GP_regression.Mat52\n",
      "reconstraining parameters GP_regression.Gaussian_noise.variance\n",
      "[I 2019-04-12 20:40:39,275] Finished a trial resulted in value: -0.7629340009166499. Current best value is -1.237863663908188 with parameters: {'a': 0.35819919497386127, 'b': 0.7505051966648891, 'ab': [0.35819919497386127, 0.7505051966648891]}.\n"
     ]
    },
    {
     "name": "stdout",
     "output_type": "stream",
     "text": [
      "The set cost function is ignored! LCB acquisition does not make sense with cost.\n"
     ]
    },
    {
     "name": "stderr",
     "output_type": "stream",
     "text": [
      "reconstraining parameters GP_regression.Mat52\n",
      "reconstraining parameters GP_regression.Gaussian_noise.variance\n",
      "[I 2019-04-12 20:40:50,391] Finished a trial resulted in value: -0.7965153360741144. Current best value is -1.237863663908188 with parameters: {'a': 0.35819919497386127, 'b': 0.7505051966648891, 'ab': [0.35819919497386127, 0.7505051966648891]}.\n"
     ]
    },
    {
     "name": "stdout",
     "output_type": "stream",
     "text": [
      "The set cost function is ignored! LCB acquisition does not make sense with cost.\n"
     ]
    },
    {
     "name": "stderr",
     "output_type": "stream",
     "text": [
      "reconstraining parameters GP_regression.Mat52\n",
      "reconstraining parameters GP_regression.Gaussian_noise.variance\n",
      "[I 2019-04-12 20:41:01,469] Finished a trial resulted in value: -0.7617058120481327. Current best value is -1.237863663908188 with parameters: {'a': 0.35819919497386127, 'b': 0.7505051966648891, 'ab': [0.35819919497386127, 0.7505051966648891]}.\n"
     ]
    },
    {
     "name": "stdout",
     "output_type": "stream",
     "text": [
      "The set cost function is ignored! LCB acquisition does not make sense with cost.\n"
     ]
    },
    {
     "name": "stderr",
     "output_type": "stream",
     "text": [
      "reconstraining parameters GP_regression.Mat52\n",
      "reconstraining parameters GP_regression.Gaussian_noise.variance\n",
      "[I 2019-04-12 20:41:12,750] Finished a trial resulted in value: -0.8756802847796721. Current best value is -1.237863663908188 with parameters: {'a': 0.35819919497386127, 'b': 0.7505051966648891, 'ab': [0.35819919497386127, 0.7505051966648891]}.\n"
     ]
    },
    {
     "name": "stdout",
     "output_type": "stream",
     "text": [
      "The set cost function is ignored! LCB acquisition does not make sense with cost.\n"
     ]
    },
    {
     "name": "stderr",
     "output_type": "stream",
     "text": [
      "reconstraining parameters GP_regression.Mat52\n",
      "reconstraining parameters GP_regression.Gaussian_noise.variance\n",
      "[I 2019-04-12 20:41:24,519] Finished a trial resulted in value: -0.890003201497596. Current best value is -1.237863663908188 with parameters: {'a': 0.35819919497386127, 'b': 0.7505051966648891, 'ab': [0.35819919497386127, 0.7505051966648891]}.\n"
     ]
    },
    {
     "name": "stdout",
     "output_type": "stream",
     "text": [
      "The set cost function is ignored! LCB acquisition does not make sense with cost.\n"
     ]
    },
    {
     "name": "stderr",
     "output_type": "stream",
     "text": [
      "reconstraining parameters GP_regression.Mat52\n",
      "reconstraining parameters GP_regression.Gaussian_noise.variance\n",
      "[I 2019-04-12 20:41:35,955] Finished a trial resulted in value: -0.8752994724447096. Current best value is -1.237863663908188 with parameters: {'a': 0.35819919497386127, 'b': 0.7505051966648891, 'ab': [0.35819919497386127, 0.7505051966648891]}.\n"
     ]
    },
    {
     "name": "stdout",
     "output_type": "stream",
     "text": [
      "The set cost function is ignored! LCB acquisition does not make sense with cost.\n"
     ]
    },
    {
     "name": "stderr",
     "output_type": "stream",
     "text": [
      "reconstraining parameters GP_regression.Mat52\n",
      "reconstraining parameters GP_regression.Gaussian_noise.variance\n",
      "[I 2019-04-12 20:41:47,380] Finished a trial resulted in value: -0.9684002171482996. Current best value is -1.237863663908188 with parameters: {'a': 0.35819919497386127, 'b': 0.7505051966648891, 'ab': [0.35819919497386127, 0.7505051966648891]}.\n"
     ]
    },
    {
     "name": "stdout",
     "output_type": "stream",
     "text": [
      "The set cost function is ignored! LCB acquisition does not make sense with cost.\n"
     ]
    },
    {
     "name": "stderr",
     "output_type": "stream",
     "text": [
      "reconstraining parameters GP_regression.Mat52\n",
      "reconstraining parameters GP_regression.Gaussian_noise.variance\n",
      "[I 2019-04-12 20:41:58,796] Finished a trial resulted in value: -0.8718219080325984. Current best value is -1.237863663908188 with parameters: {'a': 0.35819919497386127, 'b': 0.7505051966648891, 'ab': [0.35819919497386127, 0.7505051966648891]}.\n"
     ]
    },
    {
     "name": "stdout",
     "output_type": "stream",
     "text": [
      "The set cost function is ignored! LCB acquisition does not make sense with cost.\n"
     ]
    },
    {
     "name": "stderr",
     "output_type": "stream",
     "text": [
      "reconstraining parameters GP_regression.Mat52\n",
      "reconstraining parameters GP_regression.Gaussian_noise.variance\n",
      "[I 2019-04-12 20:42:10,432] Finished a trial resulted in value: -0.7816275347668982. Current best value is -1.237863663908188 with parameters: {'a': 0.35819919497386127, 'b': 0.7505051966648891, 'ab': [0.35819919497386127, 0.7505051966648891]}.\n"
     ]
    },
    {
     "name": "stdout",
     "output_type": "stream",
     "text": [
      "The set cost function is ignored! LCB acquisition does not make sense with cost.\n"
     ]
    },
    {
     "name": "stderr",
     "output_type": "stream",
     "text": [
      "reconstraining parameters GP_regression.Mat52\n",
      "reconstraining parameters GP_regression.Gaussian_noise.variance\n",
      "[I 2019-04-12 20:42:22,014] Finished a trial resulted in value: -0.7386460665407013. Current best value is -1.237863663908188 with parameters: {'a': 0.35819919497386127, 'b': 0.7505051966648891, 'ab': [0.35819919497386127, 0.7505051966648891]}.\n"
     ]
    },
    {
     "name": "stdout",
     "output_type": "stream",
     "text": [
      "The set cost function is ignored! LCB acquisition does not make sense with cost.\n"
     ]
    },
    {
     "name": "stderr",
     "output_type": "stream",
     "text": [
      "reconstraining parameters GP_regression.Mat52\n",
      "reconstraining parameters GP_regression.Gaussian_noise.variance\n",
      "[I 2019-04-12 20:42:33,674] Finished a trial resulted in value: -0.718503275115871. Current best value is -1.237863663908188 with parameters: {'a': 0.35819919497386127, 'b': 0.7505051966648891, 'ab': [0.35819919497386127, 0.7505051966648891]}.\n"
     ]
    },
    {
     "name": "stdout",
     "output_type": "stream",
     "text": [
      "The set cost function is ignored! LCB acquisition does not make sense with cost.\n"
     ]
    },
    {
     "name": "stderr",
     "output_type": "stream",
     "text": [
      "reconstraining parameters GP_regression.Mat52\n",
      "reconstraining parameters GP_regression.Gaussian_noise.variance\n",
      "[I 2019-04-12 20:42:45,493] Finished a trial resulted in value: -0.7703149816690789. Current best value is -1.237863663908188 with parameters: {'a': 0.35819919497386127, 'b': 0.7505051966648891, 'ab': [0.35819919497386127, 0.7505051966648891]}.\n"
     ]
    },
    {
     "name": "stdout",
     "output_type": "stream",
     "text": [
      "The set cost function is ignored! LCB acquisition does not make sense with cost.\n"
     ]
    },
    {
     "name": "stderr",
     "output_type": "stream",
     "text": [
      "reconstraining parameters GP_regression.Mat52\n",
      "reconstraining parameters GP_regression.Gaussian_noise.variance\n",
      "[I 2019-04-12 20:42:57,271] Finished a trial resulted in value: -0.7406348265549494. Current best value is -1.237863663908188 with parameters: {'a': 0.35819919497386127, 'b': 0.7505051966648891, 'ab': [0.35819919497386127, 0.7505051966648891]}.\n"
     ]
    },
    {
     "name": "stdout",
     "output_type": "stream",
     "text": [
      "The set cost function is ignored! LCB acquisition does not make sense with cost.\n"
     ]
    },
    {
     "name": "stderr",
     "output_type": "stream",
     "text": [
      "reconstraining parameters GP_regression.Mat52\n",
      "reconstraining parameters GP_regression.Gaussian_noise.variance\n",
      "[I 2019-04-12 20:43:08,874] Finished a trial resulted in value: -0.7183564515918761. Current best value is -1.237863663908188 with parameters: {'a': 0.35819919497386127, 'b': 0.7505051966648891, 'ab': [0.35819919497386127, 0.7505051966648891]}.\n"
     ]
    },
    {
     "name": "stdout",
     "output_type": "stream",
     "text": [
      "The set cost function is ignored! LCB acquisition does not make sense with cost.\n"
     ]
    },
    {
     "name": "stderr",
     "output_type": "stream",
     "text": [
      "reconstraining parameters GP_regression.Mat52\n",
      "reconstraining parameters GP_regression.Gaussian_noise.variance\n",
      "[I 2019-04-12 20:43:21,310] Finished a trial resulted in value: -0.8967052333333813. Current best value is -1.237863663908188 with parameters: {'a': 0.35819919497386127, 'b': 0.7505051966648891, 'ab': [0.35819919497386127, 0.7505051966648891]}.\n"
     ]
    },
    {
     "name": "stdout",
     "output_type": "stream",
     "text": [
      "The set cost function is ignored! LCB acquisition does not make sense with cost.\n"
     ]
    },
    {
     "name": "stderr",
     "output_type": "stream",
     "text": [
      "reconstraining parameters GP_regression.Mat52\n",
      "reconstraining parameters GP_regression.Gaussian_noise.variance\n",
      "[I 2019-04-12 20:43:33,000] Finished a trial resulted in value: -1.013726939783721. Current best value is -1.237863663908188 with parameters: {'a': 0.35819919497386127, 'b': 0.7505051966648891, 'ab': [0.35819919497386127, 0.7505051966648891]}.\n"
     ]
    },
    {
     "name": "stdout",
     "output_type": "stream",
     "text": [
      "The set cost function is ignored! LCB acquisition does not make sense with cost.\n"
     ]
    },
    {
     "name": "stderr",
     "output_type": "stream",
     "text": [
      "reconstraining parameters GP_regression.Mat52\n",
      "reconstraining parameters GP_regression.Gaussian_noise.variance\n",
      "[I 2019-04-12 20:43:45,108] Finished a trial resulted in value: -1.1244742337960625. Current best value is -1.237863663908188 with parameters: {'a': 0.35819919497386127, 'b': 0.7505051966648891, 'ab': [0.35819919497386127, 0.7505051966648891]}.\n"
     ]
    },
    {
     "name": "stdout",
     "output_type": "stream",
     "text": [
      "The set cost function is ignored! LCB acquisition does not make sense with cost.\n"
     ]
    },
    {
     "name": "stderr",
     "output_type": "stream",
     "text": [
      "reconstraining parameters GP_regression.Mat52\n",
      "reconstraining parameters GP_regression.Gaussian_noise.variance\n",
      "[I 2019-04-12 20:43:57,654] Finished a trial resulted in value: -1.1305773823177874. Current best value is -1.237863663908188 with parameters: {'a': 0.35819919497386127, 'b': 0.7505051966648891, 'ab': [0.35819919497386127, 0.7505051966648891]}.\n"
     ]
    },
    {
     "name": "stdout",
     "output_type": "stream",
     "text": [
      "The set cost function is ignored! LCB acquisition does not make sense with cost.\n"
     ]
    },
    {
     "name": "stderr",
     "output_type": "stream",
     "text": [
      "reconstraining parameters GP_regression.Mat52\n",
      "reconstraining parameters GP_regression.Gaussian_noise.variance\n",
      "[I 2019-04-12 20:44:10,017] Finished a trial resulted in value: -1.163068064472574. Current best value is -1.237863663908188 with parameters: {'a': 0.35819919497386127, 'b': 0.7505051966648891, 'ab': [0.35819919497386127, 0.7505051966648891]}.\n"
     ]
    },
    {
     "name": "stdout",
     "output_type": "stream",
     "text": [
      "The set cost function is ignored! LCB acquisition does not make sense with cost.\n"
     ]
    },
    {
     "name": "stderr",
     "output_type": "stream",
     "text": [
      "reconstraining parameters GP_regression.Mat52\n",
      "reconstraining parameters GP_regression.Gaussian_noise.variance\n",
      "[I 2019-04-12 20:44:22,384] Finished a trial resulted in value: -0.8744400058916375. Current best value is -1.237863663908188 with parameters: {'a': 0.35819919497386127, 'b': 0.7505051966648891, 'ab': [0.35819919497386127, 0.7505051966648891]}.\n"
     ]
    },
    {
     "name": "stdout",
     "output_type": "stream",
     "text": [
      "The set cost function is ignored! LCB acquisition does not make sense with cost.\n"
     ]
    },
    {
     "name": "stderr",
     "output_type": "stream",
     "text": [
      "reconstraining parameters GP_regression.Mat52\n",
      "reconstraining parameters GP_regression.Gaussian_noise.variance\n",
      "[I 2019-04-12 20:44:34,802] Finished a trial resulted in value: -1.1652725818205028. Current best value is -1.237863663908188 with parameters: {'a': 0.35819919497386127, 'b': 0.7505051966648891, 'ab': [0.35819919497386127, 0.7505051966648891]}.\n"
     ]
    },
    {
     "name": "stdout",
     "output_type": "stream",
     "text": [
      "The set cost function is ignored! LCB acquisition does not make sense with cost.\n"
     ]
    },
    {
     "name": "stderr",
     "output_type": "stream",
     "text": [
      "reconstraining parameters GP_regression.Mat52\n",
      "reconstraining parameters GP_regression.Gaussian_noise.variance\n",
      "[I 2019-04-12 20:44:47,192] Finished a trial resulted in value: -1.1981319719406514. Current best value is -1.237863663908188 with parameters: {'a': 0.35819919497386127, 'b': 0.7505051966648891, 'ab': [0.35819919497386127, 0.7505051966648891]}.\n"
     ]
    },
    {
     "name": "stdout",
     "output_type": "stream",
     "text": [
      "The set cost function is ignored! LCB acquisition does not make sense with cost.\n"
     ]
    },
    {
     "name": "stderr",
     "output_type": "stream",
     "text": [
      "reconstraining parameters GP_regression.Mat52\n",
      "reconstraining parameters GP_regression.Gaussian_noise.variance\n",
      "[I 2019-04-12 20:44:59,822] Finished a trial resulted in value: -1.152002272637003. Current best value is -1.237863663908188 with parameters: {'a': 0.35819919497386127, 'b': 0.7505051966648891, 'ab': [0.35819919497386127, 0.7505051966648891]}.\n"
     ]
    },
    {
     "name": "stdout",
     "output_type": "stream",
     "text": [
      "The set cost function is ignored! LCB acquisition does not make sense with cost.\n"
     ]
    },
    {
     "name": "stderr",
     "output_type": "stream",
     "text": [
      "reconstraining parameters GP_regression.Mat52\n",
      "reconstraining parameters GP_regression.Gaussian_noise.variance\n",
      "[I 2019-04-12 20:45:12,900] Finished a trial resulted in value: -1.128231877976976. Current best value is -1.237863663908188 with parameters: {'a': 0.35819919497386127, 'b': 0.7505051966648891, 'ab': [0.35819919497386127, 0.7505051966648891]}.\n"
     ]
    },
    {
     "name": "stdout",
     "output_type": "stream",
     "text": [
      "The set cost function is ignored! LCB acquisition does not make sense with cost.\n"
     ]
    },
    {
     "name": "stderr",
     "output_type": "stream",
     "text": [
      "reconstraining parameters GP_regression.Mat52\n",
      "reconstraining parameters GP_regression.Gaussian_noise.variance\n",
      "[I 2019-04-12 21:05:57,006] Finished a trial resulted in value: -1.0390302569025398. Current best value is -1.237863663908188 with parameters: {'a': 0.35819919497386127, 'b': 0.7505051966648891, 'ab': [0.35819919497386127, 0.7505051966648891]}.\n"
     ]
    },
    {
     "name": "stdout",
     "output_type": "stream",
     "text": [
      "The set cost function is ignored! LCB acquisition does not make sense with cost.\n"
     ]
    },
    {
     "name": "stderr",
     "output_type": "stream",
     "text": [
      "reconstraining parameters GP_regression.Mat52\n",
      "reconstraining parameters GP_regression.Gaussian_noise.variance\n",
      "[I 2019-04-12 21:06:11,761] Finished a trial resulted in value: -1.1364570251942694. Current best value is -1.237863663908188 with parameters: {'a': 0.35819919497386127, 'b': 0.7505051966648891, 'ab': [0.35819919497386127, 0.7505051966648891]}.\n"
     ]
    },
    {
     "name": "stdout",
     "output_type": "stream",
     "text": [
      "The set cost function is ignored! LCB acquisition does not make sense with cost.\n"
     ]
    },
    {
     "name": "stderr",
     "output_type": "stream",
     "text": [
      "reconstraining parameters GP_regression.Mat52\n",
      "reconstraining parameters GP_regression.Gaussian_noise.variance\n",
      "[I 2019-04-12 21:06:28,127] Finished a trial resulted in value: -1.2124227295451317. Current best value is -1.237863663908188 with parameters: {'a': 0.35819919497386127, 'b': 0.7505051966648891, 'ab': [0.35819919497386127, 0.7505051966648891]}.\n"
     ]
    },
    {
     "name": "stdout",
     "output_type": "stream",
     "text": [
      "The set cost function is ignored! LCB acquisition does not make sense with cost.\n"
     ]
    },
    {
     "name": "stderr",
     "output_type": "stream",
     "text": [
      "reconstraining parameters GP_regression.Mat52\n",
      "reconstraining parameters GP_regression.Gaussian_noise.variance\n",
      "[I 2019-04-12 21:06:44,557] Finished a trial resulted in value: -0.9859049289390918. Current best value is -1.237863663908188 with parameters: {'a': 0.35819919497386127, 'b': 0.7505051966648891, 'ab': [0.35819919497386127, 0.7505051966648891]}.\n"
     ]
    },
    {
     "name": "stdout",
     "output_type": "stream",
     "text": [
      "The set cost function is ignored! LCB acquisition does not make sense with cost.\n"
     ]
    },
    {
     "name": "stderr",
     "output_type": "stream",
     "text": [
      "reconstraining parameters GP_regression.Mat52\n",
      "reconstraining parameters GP_regression.Gaussian_noise.variance\n",
      "[I 2019-04-12 21:07:00,670] Finished a trial resulted in value: -1.0130395525976001. Current best value is -1.237863663908188 with parameters: {'a': 0.35819919497386127, 'b': 0.7505051966648891, 'ab': [0.35819919497386127, 0.7505051966648891]}.\n"
     ]
    },
    {
     "name": "stdout",
     "output_type": "stream",
     "text": [
      "The set cost function is ignored! LCB acquisition does not make sense with cost.\n"
     ]
    },
    {
     "name": "stderr",
     "output_type": "stream",
     "text": [
      "reconstraining parameters GP_regression.Mat52\n",
      "reconstraining parameters GP_regression.Gaussian_noise.variance\n",
      "[I 2019-04-12 21:07:16,294] Finished a trial resulted in value: -0.9588454169454966. Current best value is -1.237863663908188 with parameters: {'a': 0.35819919497386127, 'b': 0.7505051966648891, 'ab': [0.35819919497386127, 0.7505051966648891]}.\n"
     ]
    },
    {
     "name": "stdout",
     "output_type": "stream",
     "text": [
      "The set cost function is ignored! LCB acquisition does not make sense with cost.\n"
     ]
    },
    {
     "name": "stderr",
     "output_type": "stream",
     "text": [
      "reconstraining parameters GP_regression.Mat52\n",
      "reconstraining parameters GP_regression.Gaussian_noise.variance\n",
      "[I 2019-04-12 21:07:33,211] Finished a trial resulted in value: -1.0503117852260104. Current best value is -1.237863663908188 with parameters: {'a': 0.35819919497386127, 'b': 0.7505051966648891, 'ab': [0.35819919497386127, 0.7505051966648891]}.\n"
     ]
    },
    {
     "name": "stdout",
     "output_type": "stream",
     "text": [
      "The set cost function is ignored! LCB acquisition does not make sense with cost.\n"
     ]
    },
    {
     "name": "stderr",
     "output_type": "stream",
     "text": [
      "reconstraining parameters GP_regression.Mat52\n",
      "reconstraining parameters GP_regression.Gaussian_noise.variance\n",
      "[I 2019-04-12 21:07:53,743] Finished a trial resulted in value: -1.1846262908958005. Current best value is -1.237863663908188 with parameters: {'a': 0.35819919497386127, 'b': 0.7505051966648891, 'ab': [0.35819919497386127, 0.7505051966648891]}.\n"
     ]
    },
    {
     "name": "stdout",
     "output_type": "stream",
     "text": [
      "The set cost function is ignored! LCB acquisition does not make sense with cost.\n"
     ]
    },
    {
     "name": "stderr",
     "output_type": "stream",
     "text": [
      "reconstraining parameters GP_regression.Mat52\n",
      "reconstraining parameters GP_regression.Gaussian_noise.variance\n",
      "[I 2019-04-12 21:08:10,120] Finished a trial resulted in value: -1.0813655284204884. Current best value is -1.237863663908188 with parameters: {'a': 0.35819919497386127, 'b': 0.7505051966648891, 'ab': [0.35819919497386127, 0.7505051966648891]}.\n"
     ]
    },
    {
     "name": "stdout",
     "output_type": "stream",
     "text": [
      "The set cost function is ignored! LCB acquisition does not make sense with cost.\n"
     ]
    },
    {
     "name": "stderr",
     "output_type": "stream",
     "text": [
      "reconstraining parameters GP_regression.Mat52\n",
      "reconstraining parameters GP_regression.Gaussian_noise.variance\n",
      "[I 2019-04-12 21:08:29,144] Finished a trial resulted in value: -1.1510576850693381. Current best value is -1.237863663908188 with parameters: {'a': 0.35819919497386127, 'b': 0.7505051966648891, 'ab': [0.35819919497386127, 0.7505051966648891]}.\n"
     ]
    },
    {
     "name": "stdout",
     "output_type": "stream",
     "text": [
      "The set cost function is ignored! LCB acquisition does not make sense with cost.\n"
     ]
    },
    {
     "name": "stderr",
     "output_type": "stream",
     "text": [
      "reconstraining parameters GP_regression.Mat52\n",
      "reconstraining parameters GP_regression.Gaussian_noise.variance\n",
      "[I 2019-04-12 21:08:45,915] Finished a trial resulted in value: -1.2663474658257905. Current best value is -1.2663474658257905 with parameters: {'a': 0.39458572064183106, 'b': 0.7295690077362856, 'ab': [0.39458572064183106, 0.7295690077362856]}.\n"
     ]
    },
    {
     "name": "stdout",
     "output_type": "stream",
     "text": [
      "The set cost function is ignored! LCB acquisition does not make sense with cost.\n"
     ]
    },
    {
     "name": "stderr",
     "output_type": "stream",
     "text": [
      "reconstraining parameters GP_regression.Mat52\n",
      "reconstraining parameters GP_regression.Gaussian_noise.variance\n",
      "[I 2019-04-12 21:09:02,371] Finished a trial resulted in value: -1.412383420478284. Current best value is -1.412383420478284 with parameters: {'a': 0.39990974379392774, 'b': 0.7222482710812217, 'ab': [0.39990974379392774, 0.7222482710812217]}.\n"
     ]
    },
    {
     "name": "stdout",
     "output_type": "stream",
     "text": [
      "The set cost function is ignored! LCB acquisition does not make sense with cost.\n"
     ]
    },
    {
     "name": "stderr",
     "output_type": "stream",
     "text": [
      "reconstraining parameters GP_regression.Mat52\n",
      "reconstraining parameters GP_regression.Gaussian_noise.variance\n",
      "[I 2019-04-12 21:09:19,530] Finished a trial resulted in value: -1.4735643034036794. Current best value is -1.4735643034036794 with parameters: {'a': 0.4008746109042244, 'b': 0.7155308734512273, 'ab': [0.4008746109042244, 0.7155308734512273]}.\n"
     ]
    },
    {
     "name": "stdout",
     "output_type": "stream",
     "text": [
      "The set cost function is ignored! LCB acquisition does not make sense with cost.\n"
     ]
    },
    {
     "name": "stderr",
     "output_type": "stream",
     "text": [
      "reconstraining parameters GP_regression.Mat52\n",
      "reconstraining parameters GP_regression.Gaussian_noise.variance\n",
      "[I 2019-04-12 21:25:35,219] Finished a trial resulted in value: -1.3123775206131252. Current best value is -1.4735643034036794 with parameters: {'a': 0.4008746109042244, 'b': 0.7155308734512273, 'ab': [0.4008746109042244, 0.7155308734512273]}.\n"
     ]
    },
    {
     "name": "stdout",
     "output_type": "stream",
     "text": [
      "The set cost function is ignored! LCB acquisition does not make sense with cost.\n"
     ]
    },
    {
     "name": "stderr",
     "output_type": "stream",
     "text": [
      "reconstraining parameters GP_regression.Mat52\n",
      "reconstraining parameters GP_regression.Gaussian_noise.variance\n",
      "[I 2019-04-12 21:51:05,892] Finished a trial resulted in value: -1.1659165050718854. Current best value is -1.4735643034036794 with parameters: {'a': 0.4008746109042244, 'b': 0.7155308734512273, 'ab': [0.4008746109042244, 0.7155308734512273]}.\n"
     ]
    },
    {
     "name": "stdout",
     "output_type": "stream",
     "text": [
      "The set cost function is ignored! LCB acquisition does not make sense with cost.\n"
     ]
    },
    {
     "name": "stderr",
     "output_type": "stream",
     "text": [
      "reconstraining parameters GP_regression.Mat52\n",
      "reconstraining parameters GP_regression.Gaussian_noise.variance\n",
      "[I 2019-04-12 21:51:26,514] Finished a trial resulted in value: -1.1847259104440981. Current best value is -1.4735643034036794 with parameters: {'a': 0.4008746109042244, 'b': 0.7155308734512273, 'ab': [0.4008746109042244, 0.7155308734512273]}.\n"
     ]
    },
    {
     "name": "stdout",
     "output_type": "stream",
     "text": [
      "The set cost function is ignored! LCB acquisition does not make sense with cost.\n"
     ]
    },
    {
     "name": "stderr",
     "output_type": "stream",
     "text": [
      "reconstraining parameters GP_regression.Mat52\n",
      "reconstraining parameters GP_regression.Gaussian_noise.variance\n",
      "[I 2019-04-12 21:51:43,151] Finished a trial resulted in value: -0.9550883666013613. Current best value is -1.4735643034036794 with parameters: {'a': 0.4008746109042244, 'b': 0.7155308734512273, 'ab': [0.4008746109042244, 0.7155308734512273]}.\n"
     ]
    },
    {
     "name": "stdout",
     "output_type": "stream",
     "text": [
      "The set cost function is ignored! LCB acquisition does not make sense with cost.\n"
     ]
    },
    {
     "name": "stderr",
     "output_type": "stream",
     "text": [
      "reconstraining parameters GP_regression.Mat52\n",
      "reconstraining parameters GP_regression.Gaussian_noise.variance\n",
      "[I 2019-04-12 21:51:59,061] Finished a trial resulted in value: -0.9477017756207753. Current best value is -1.4735643034036794 with parameters: {'a': 0.4008746109042244, 'b': 0.7155308734512273, 'ab': [0.4008746109042244, 0.7155308734512273]}.\n"
     ]
    },
    {
     "name": "stdout",
     "output_type": "stream",
     "text": [
      "The set cost function is ignored! LCB acquisition does not make sense with cost.\n"
     ]
    },
    {
     "name": "stderr",
     "output_type": "stream",
     "text": [
      "reconstraining parameters GP_regression.Mat52\n",
      "reconstraining parameters GP_regression.Gaussian_noise.variance\n",
      "[I 2019-04-12 21:52:16,554] Finished a trial resulted in value: -0.8915702035406027. Current best value is -1.4735643034036794 with parameters: {'a': 0.4008746109042244, 'b': 0.7155308734512273, 'ab': [0.4008746109042244, 0.7155308734512273]}.\n"
     ]
    },
    {
     "name": "stdout",
     "output_type": "stream",
     "text": [
      "The set cost function is ignored! LCB acquisition does not make sense with cost.\n"
     ]
    },
    {
     "name": "stderr",
     "output_type": "stream",
     "text": [
      "reconstraining parameters GP_regression.Mat52\n",
      "reconstraining parameters GP_regression.Gaussian_noise.variance\n",
      "[I 2019-04-12 21:52:34,579] Finished a trial resulted in value: -0.9161526424800555. Current best value is -1.4735643034036794 with parameters: {'a': 0.4008746109042244, 'b': 0.7155308734512273, 'ab': [0.4008746109042244, 0.7155308734512273]}.\n"
     ]
    },
    {
     "name": "stdout",
     "output_type": "stream",
     "text": [
      "The set cost function is ignored! LCB acquisition does not make sense with cost.\n"
     ]
    },
    {
     "name": "stderr",
     "output_type": "stream",
     "text": [
      "reconstraining parameters GP_regression.Mat52\n",
      "reconstraining parameters GP_regression.Gaussian_noise.variance\n",
      "[I 2019-04-12 21:52:50,901] Finished a trial resulted in value: -0.7314430729428613. Current best value is -1.4735643034036794 with parameters: {'a': 0.4008746109042244, 'b': 0.7155308734512273, 'ab': [0.4008746109042244, 0.7155308734512273]}.\n"
     ]
    },
    {
     "name": "stdout",
     "output_type": "stream",
     "text": [
      "The set cost function is ignored! LCB acquisition does not make sense with cost.\n"
     ]
    },
    {
     "name": "stderr",
     "output_type": "stream",
     "text": [
      "reconstraining parameters GP_regression.Mat52\n",
      "reconstraining parameters GP_regression.Gaussian_noise.variance\n",
      "[I 2019-04-12 21:53:09,556] Finished a trial resulted in value: -0.9137218686615218. Current best value is -1.4735643034036794 with parameters: {'a': 0.4008746109042244, 'b': 0.7155308734512273, 'ab': [0.4008746109042244, 0.7155308734512273]}.\n"
     ]
    },
    {
     "name": "stdout",
     "output_type": "stream",
     "text": [
      "The set cost function is ignored! LCB acquisition does not make sense with cost.\n"
     ]
    },
    {
     "name": "stderr",
     "output_type": "stream",
     "text": [
      "reconstraining parameters GP_regression.Mat52\n",
      "reconstraining parameters GP_regression.Gaussian_noise.variance\n",
      "[I 2019-04-12 21:53:28,809] Finished a trial resulted in value: -0.9328894454392614. Current best value is -1.4735643034036794 with parameters: {'a': 0.4008746109042244, 'b': 0.7155308734512273, 'ab': [0.4008746109042244, 0.7155308734512273]}.\n"
     ]
    },
    {
     "name": "stdout",
     "output_type": "stream",
     "text": [
      "The set cost function is ignored! LCB acquisition does not make sense with cost.\n"
     ]
    },
    {
     "name": "stderr",
     "output_type": "stream",
     "text": [
      "reconstraining parameters GP_regression.Mat52\n",
      "reconstraining parameters GP_regression.Gaussian_noise.variance\n",
      "[I 2019-04-12 21:53:48,716] Finished a trial resulted in value: -1.0175292412176578. Current best value is -1.4735643034036794 with parameters: {'a': 0.4008746109042244, 'b': 0.7155308734512273, 'ab': [0.4008746109042244, 0.7155308734512273]}.\n"
     ]
    },
    {
     "name": "stdout",
     "output_type": "stream",
     "text": [
      "The set cost function is ignored! LCB acquisition does not make sense with cost.\n"
     ]
    },
    {
     "name": "stderr",
     "output_type": "stream",
     "text": [
      "reconstraining parameters GP_regression.Mat52\n",
      "reconstraining parameters GP_regression.Gaussian_noise.variance\n",
      "[I 2019-04-12 21:54:07,294] Finished a trial resulted in value: -1.0408221189564268. Current best value is -1.4735643034036794 with parameters: {'a': 0.4008746109042244, 'b': 0.7155308734512273, 'ab': [0.4008746109042244, 0.7155308734512273]}.\n"
     ]
    },
    {
     "name": "stdout",
     "output_type": "stream",
     "text": [
      "The set cost function is ignored! LCB acquisition does not make sense with cost.\n"
     ]
    },
    {
     "name": "stderr",
     "output_type": "stream",
     "text": [
      "reconstraining parameters GP_regression.Mat52\n",
      "reconstraining parameters GP_regression.Gaussian_noise.variance\n",
      "[I 2019-04-12 21:54:26,585] Finished a trial resulted in value: -1.0334501139398502. Current best value is -1.4735643034036794 with parameters: {'a': 0.4008746109042244, 'b': 0.7155308734512273, 'ab': [0.4008746109042244, 0.7155308734512273]}.\n"
     ]
    },
    {
     "name": "stdout",
     "output_type": "stream",
     "text": [
      "The set cost function is ignored! LCB acquisition does not make sense with cost.\n"
     ]
    },
    {
     "name": "stderr",
     "output_type": "stream",
     "text": [
      "reconstraining parameters GP_regression.Mat52\n",
      "reconstraining parameters GP_regression.Gaussian_noise.variance\n",
      "[I 2019-04-12 21:54:42,893] Finished a trial resulted in value: -0.9989281733051634. Current best value is -1.4735643034036794 with parameters: {'a': 0.4008746109042244, 'b': 0.7155308734512273, 'ab': [0.4008746109042244, 0.7155308734512273]}.\n"
     ]
    },
    {
     "name": "stdout",
     "output_type": "stream",
     "text": [
      "The set cost function is ignored! LCB acquisition does not make sense with cost.\n"
     ]
    },
    {
     "name": "stderr",
     "output_type": "stream",
     "text": [
      "reconstraining parameters GP_regression.Mat52\n",
      "reconstraining parameters GP_regression.Gaussian_noise.variance\n",
      "[I 2019-04-12 21:55:04,954] Finished a trial resulted in value: -1.0334987906095106. Current best value is -1.4735643034036794 with parameters: {'a': 0.4008746109042244, 'b': 0.7155308734512273, 'ab': [0.4008746109042244, 0.7155308734512273]}.\n"
     ]
    },
    {
     "name": "stdout",
     "output_type": "stream",
     "text": [
      "The set cost function is ignored! LCB acquisition does not make sense with cost.\n"
     ]
    },
    {
     "name": "stderr",
     "output_type": "stream",
     "text": [
      "reconstraining parameters GP_regression.Mat52\n",
      "reconstraining parameters GP_regression.Gaussian_noise.variance\n",
      "[I 2019-04-12 21:55:24,639] Finished a trial resulted in value: -0.874043148529989. Current best value is -1.4735643034036794 with parameters: {'a': 0.4008746109042244, 'b': 0.7155308734512273, 'ab': [0.4008746109042244, 0.7155308734512273]}.\n"
     ]
    },
    {
     "name": "stdout",
     "output_type": "stream",
     "text": [
      "The set cost function is ignored! LCB acquisition does not make sense with cost.\n"
     ]
    },
    {
     "name": "stderr",
     "output_type": "stream",
     "text": [
      "reconstraining parameters GP_regression.Mat52\n",
      "reconstraining parameters GP_regression.Gaussian_noise.variance\n",
      "[I 2019-04-12 21:55:44,624] Finished a trial resulted in value: -0.9600407474081671. Current best value is -1.4735643034036794 with parameters: {'a': 0.4008746109042244, 'b': 0.7155308734512273, 'ab': [0.4008746109042244, 0.7155308734512273]}.\n"
     ]
    },
    {
     "name": "stdout",
     "output_type": "stream",
     "text": [
      "The set cost function is ignored! LCB acquisition does not make sense with cost.\n"
     ]
    },
    {
     "name": "stderr",
     "output_type": "stream",
     "text": [
      "reconstraining parameters GP_regression.Mat52\n",
      "reconstraining parameters GP_regression.Gaussian_noise.variance\n",
      "[I 2019-04-12 21:56:03,502] Finished a trial resulted in value: -1.1456999683436884. Current best value is -1.4735643034036794 with parameters: {'a': 0.4008746109042244, 'b': 0.7155308734512273, 'ab': [0.4008746109042244, 0.7155308734512273]}.\n"
     ]
    },
    {
     "name": "stdout",
     "output_type": "stream",
     "text": [
      "The set cost function is ignored! LCB acquisition does not make sense with cost.\n"
     ]
    },
    {
     "name": "stderr",
     "output_type": "stream",
     "text": [
      "reconstraining parameters GP_regression.Mat52\n",
      "reconstraining parameters GP_regression.Gaussian_noise.variance\n",
      "[I 2019-04-12 21:56:22,075] Finished a trial resulted in value: -1.1650972865825036. Current best value is -1.4735643034036794 with parameters: {'a': 0.4008746109042244, 'b': 0.7155308734512273, 'ab': [0.4008746109042244, 0.7155308734512273]}.\n"
     ]
    },
    {
     "name": "stdout",
     "output_type": "stream",
     "text": [
      "The set cost function is ignored! LCB acquisition does not make sense with cost.\n"
     ]
    },
    {
     "name": "stderr",
     "output_type": "stream",
     "text": [
      "reconstraining parameters GP_regression.Mat52\n",
      "reconstraining parameters GP_regression.Gaussian_noise.variance\n",
      "[I 2019-04-12 21:56:41,891] Finished a trial resulted in value: -1.1198213827432804. Current best value is -1.4735643034036794 with parameters: {'a': 0.4008746109042244, 'b': 0.7155308734512273, 'ab': [0.4008746109042244, 0.7155308734512273]}.\n"
     ]
    },
    {
     "name": "stdout",
     "output_type": "stream",
     "text": [
      "The set cost function is ignored! LCB acquisition does not make sense with cost.\n"
     ]
    },
    {
     "name": "stderr",
     "output_type": "stream",
     "text": [
      "reconstraining parameters GP_regression.Mat52\n",
      "reconstraining parameters GP_regression.Gaussian_noise.variance\n",
      "[I 2019-04-12 21:57:01,981] Finished a trial resulted in value: -1.0071846610192026. Current best value is -1.4735643034036794 with parameters: {'a': 0.4008746109042244, 'b': 0.7155308734512273, 'ab': [0.4008746109042244, 0.7155308734512273]}.\n"
     ]
    },
    {
     "name": "stdout",
     "output_type": "stream",
     "text": [
      "The set cost function is ignored! LCB acquisition does not make sense with cost.\n"
     ]
    },
    {
     "name": "stderr",
     "output_type": "stream",
     "text": [
      "reconstraining parameters GP_regression.Mat52\n",
      "reconstraining parameters GP_regression.Gaussian_noise.variance\n",
      "[I 2019-04-12 21:57:19,542] Finished a trial resulted in value: -0.8385398790721728. Current best value is -1.4735643034036794 with parameters: {'a': 0.4008746109042244, 'b': 0.7155308734512273, 'ab': [0.4008746109042244, 0.7155308734512273]}.\n"
     ]
    },
    {
     "name": "stdout",
     "output_type": "stream",
     "text": [
      "The set cost function is ignored! LCB acquisition does not make sense with cost.\n"
     ]
    },
    {
     "name": "stderr",
     "output_type": "stream",
     "text": [
      "reconstraining parameters GP_regression.Mat52\n",
      "reconstraining parameters GP_regression.Gaussian_noise.variance\n",
      "[I 2019-04-12 21:57:39,061] Finished a trial resulted in value: -0.9166598566381183. Current best value is -1.4735643034036794 with parameters: {'a': 0.4008746109042244, 'b': 0.7155308734512273, 'ab': [0.4008746109042244, 0.7155308734512273]}.\n"
     ]
    },
    {
     "name": "stdout",
     "output_type": "stream",
     "text": [
      "The set cost function is ignored! LCB acquisition does not make sense with cost.\n"
     ]
    },
    {
     "name": "stderr",
     "output_type": "stream",
     "text": [
      "reconstraining parameters GP_regression.Mat52\n",
      "reconstraining parameters GP_regression.Gaussian_noise.variance\n",
      "[I 2019-04-12 21:57:59,141] Finished a trial resulted in value: -1.0540667757824864. Current best value is -1.4735643034036794 with parameters: {'a': 0.4008746109042244, 'b': 0.7155308734512273, 'ab': [0.4008746109042244, 0.7155308734512273]}.\n"
     ]
    },
    {
     "name": "stdout",
     "output_type": "stream",
     "text": [
      "The set cost function is ignored! LCB acquisition does not make sense with cost.\n"
     ]
    },
    {
     "name": "stderr",
     "output_type": "stream",
     "text": [
      "reconstraining parameters GP_regression.Mat52\n",
      "reconstraining parameters GP_regression.Gaussian_noise.variance\n",
      "[I 2019-04-12 21:58:19,522] Finished a trial resulted in value: -1.0699648458745554. Current best value is -1.4735643034036794 with parameters: {'a': 0.4008746109042244, 'b': 0.7155308734512273, 'ab': [0.4008746109042244, 0.7155308734512273]}.\n"
     ]
    },
    {
     "name": "stdout",
     "output_type": "stream",
     "text": [
      "The set cost function is ignored! LCB acquisition does not make sense with cost.\n"
     ]
    },
    {
     "name": "stderr",
     "output_type": "stream",
     "text": [
      "reconstraining parameters GP_regression.Mat52\n",
      "reconstraining parameters GP_regression.Gaussian_noise.variance\n",
      "[I 2019-04-12 21:58:39,212] Finished a trial resulted in value: -1.1651252165819073. Current best value is -1.4735643034036794 with parameters: {'a': 0.4008746109042244, 'b': 0.7155308734512273, 'ab': [0.4008746109042244, 0.7155308734512273]}.\n"
     ]
    },
    {
     "name": "stdout",
     "output_type": "stream",
     "text": [
      "The set cost function is ignored! LCB acquisition does not make sense with cost.\n"
     ]
    },
    {
     "name": "stderr",
     "output_type": "stream",
     "text": [
      "reconstraining parameters GP_regression.Mat52\n",
      "reconstraining parameters GP_regression.Gaussian_noise.variance\n",
      "[I 2019-04-12 21:58:59,572] Finished a trial resulted in value: -1.1890304322776941. Current best value is -1.4735643034036794 with parameters: {'a': 0.4008746109042244, 'b': 0.7155308734512273, 'ab': [0.4008746109042244, 0.7155308734512273]}.\n"
     ]
    },
    {
     "name": "stdout",
     "output_type": "stream",
     "text": [
      "The set cost function is ignored! LCB acquisition does not make sense with cost.\n"
     ]
    },
    {
     "name": "stderr",
     "output_type": "stream",
     "text": [
      "reconstraining parameters GP_regression.Mat52\n",
      "reconstraining parameters GP_regression.Gaussian_noise.variance\n",
      "[I 2019-04-12 21:59:22,648] Finished a trial resulted in value: -1.2117446690583318. Current best value is -1.4735643034036794 with parameters: {'a': 0.4008746109042244, 'b': 0.7155308734512273, 'ab': [0.4008746109042244, 0.7155308734512273]}.\n"
     ]
    },
    {
     "name": "stdout",
     "output_type": "stream",
     "text": [
      "The set cost function is ignored! LCB acquisition does not make sense with cost.\n"
     ]
    },
    {
     "name": "stderr",
     "output_type": "stream",
     "text": [
      "reconstraining parameters GP_regression.Mat52\n",
      "reconstraining parameters GP_regression.Gaussian_noise.variance\n",
      "[I 2019-04-12 21:59:43,830] Finished a trial resulted in value: -1.1793577465727576. Current best value is -1.4735643034036794 with parameters: {'a': 0.4008746109042244, 'b': 0.7155308734512273, 'ab': [0.4008746109042244, 0.7155308734512273]}.\n"
     ]
    },
    {
     "name": "stdout",
     "output_type": "stream",
     "text": [
      "The set cost function is ignored! LCB acquisition does not make sense with cost.\n"
     ]
    },
    {
     "name": "stderr",
     "output_type": "stream",
     "text": [
      "reconstraining parameters GP_regression.Mat52\n",
      "reconstraining parameters GP_regression.Gaussian_noise.variance\n",
      "[I 2019-04-12 22:00:02,874] Finished a trial resulted in value: -1.2638064269126945. Current best value is -1.4735643034036794 with parameters: {'a': 0.4008746109042244, 'b': 0.7155308734512273, 'ab': [0.4008746109042244, 0.7155308734512273]}.\n"
     ]
    },
    {
     "name": "stdout",
     "output_type": "stream",
     "text": [
      "The set cost function is ignored! LCB acquisition does not make sense with cost.\n"
     ]
    },
    {
     "name": "stderr",
     "output_type": "stream",
     "text": [
      "reconstraining parameters GP_regression.Mat52\n",
      "reconstraining parameters GP_regression.Gaussian_noise.variance\n",
      "[I 2019-04-12 22:00:21,757] Finished a trial resulted in value: -1.3768652914362094. Current best value is -1.4735643034036794 with parameters: {'a': 0.4008746109042244, 'b': 0.7155308734512273, 'ab': [0.4008746109042244, 0.7155308734512273]}.\n"
     ]
    },
    {
     "name": "stdout",
     "output_type": "stream",
     "text": [
      "The set cost function is ignored! LCB acquisition does not make sense with cost.\n"
     ]
    },
    {
     "name": "stderr",
     "output_type": "stream",
     "text": [
      "reconstraining parameters GP_regression.Mat52\n",
      "reconstraining parameters GP_regression.Gaussian_noise.variance\n",
      "[I 2019-04-12 22:00:39,793] Finished a trial resulted in value: -1.4472522847651783. Current best value is -1.4735643034036794 with parameters: {'a': 0.4008746109042244, 'b': 0.7155308734512273, 'ab': [0.4008746109042244, 0.7155308734512273]}.\n"
     ]
    },
    {
     "name": "stdout",
     "output_type": "stream",
     "text": [
      "The set cost function is ignored! LCB acquisition does not make sense with cost.\n"
     ]
    },
    {
     "name": "stderr",
     "output_type": "stream",
     "text": [
      "reconstraining parameters GP_regression.Mat52\n",
      "reconstraining parameters GP_regression.Gaussian_noise.variance\n",
      "[I 2019-04-12 22:00:58,344] Finished a trial resulted in value: -1.462696049119041. Current best value is -1.4735643034036794 with parameters: {'a': 0.4008746109042244, 'b': 0.7155308734512273, 'ab': [0.4008746109042244, 0.7155308734512273]}.\n"
     ]
    },
    {
     "name": "stdout",
     "output_type": "stream",
     "text": [
      "The set cost function is ignored! LCB acquisition does not make sense with cost.\n"
     ]
    },
    {
     "name": "stderr",
     "output_type": "stream",
     "text": [
      "reconstraining parameters GP_regression.Mat52\n",
      "reconstraining parameters GP_regression.Gaussian_noise.variance\n",
      "[I 2019-04-12 22:01:18,631] Finished a trial resulted in value: -1.5154923459849425. Current best value is -1.5154923459849425 with parameters: {'a': 0.3999030468929136, 'b': 0.7170021995217825, 'ab': [0.3999030468929136, 0.7170021995217825]}.\n"
     ]
    },
    {
     "name": "stdout",
     "output_type": "stream",
     "text": [
      "The set cost function is ignored! LCB acquisition does not make sense with cost.\n"
     ]
    },
    {
     "name": "stderr",
     "output_type": "stream",
     "text": [
      "reconstraining parameters GP_regression.Mat52\n",
      "reconstraining parameters GP_regression.Gaussian_noise.variance\n",
      "[I 2019-04-12 22:01:40,590] Finished a trial resulted in value: -1.4975986897731952. Current best value is -1.5154923459849425 with parameters: {'a': 0.3999030468929136, 'b': 0.7170021995217825, 'ab': [0.3999030468929136, 0.7170021995217825]}.\n"
     ]
    },
    {
     "name": "stdout",
     "output_type": "stream",
     "text": [
      "The set cost function is ignored! LCB acquisition does not make sense with cost.\n"
     ]
    },
    {
     "name": "stderr",
     "output_type": "stream",
     "text": [
      "reconstraining parameters GP_regression.Mat52\n",
      "reconstraining parameters GP_regression.Gaussian_noise.variance\n",
      "[I 2019-04-12 22:02:03,169] Finished a trial resulted in value: -1.566035808800986. Current best value is -1.566035808800986 with parameters: {'a': 0.40097266217296573, 'b': 0.7118221032227076, 'ab': [0.40097266217296573, 0.7118221032227076]}.\n"
     ]
    },
    {
     "name": "stdout",
     "output_type": "stream",
     "text": [
      "The set cost function is ignored! LCB acquisition does not make sense with cost.\n"
     ]
    },
    {
     "name": "stderr",
     "output_type": "stream",
     "text": [
      "reconstraining parameters GP_regression.Mat52\n",
      "reconstraining parameters GP_regression.Gaussian_noise.variance\n",
      "[I 2019-04-12 22:02:22,592] Finished a trial resulted in value: -1.7549816461108998. Current best value is -1.7549816461108998 with parameters: {'a': 0.40202252206515976, 'b': 0.7089479499820214, 'ab': [0.40202252206515976, 0.7089479499820214]}.\n"
     ]
    },
    {
     "name": "stdout",
     "output_type": "stream",
     "text": [
      "The set cost function is ignored! LCB acquisition does not make sense with cost.\n"
     ]
    },
    {
     "name": "stderr",
     "output_type": "stream",
     "text": [
      "reconstraining parameters GP_regression.Mat52\n",
      "reconstraining parameters GP_regression.Gaussian_noise.variance\n",
      "[I 2019-04-12 22:02:44,774] Finished a trial resulted in value: -1.7682374425812877. Current best value is -1.7682374425812877 with parameters: {'a': 0.40156754533324324, 'b': 0.7031062485141281, 'ab': [0.40156754533324324, 0.7031062485141281]}.\n"
     ]
    },
    {
     "name": "stdout",
     "output_type": "stream",
     "text": [
      "The set cost function is ignored! LCB acquisition does not make sense with cost.\n"
     ]
    },
    {
     "name": "stderr",
     "output_type": "stream",
     "text": [
      "reconstraining parameters GP_regression.Mat52\n",
      "reconstraining parameters GP_regression.Gaussian_noise.variance\n",
      "[I 2019-04-12 22:03:04,936] Finished a trial resulted in value: -1.8440109307521575. Current best value is -1.8440109307521575 with parameters: {'a': 0.4026487428508945, 'b': 0.6950464336088514, 'ab': [0.4026487428508945, 0.6950464336088514]}.\n"
     ]
    },
    {
     "name": "stdout",
     "output_type": "stream",
     "text": [
      "The set cost function is ignored! LCB acquisition does not make sense with cost.\n"
     ]
    },
    {
     "name": "stderr",
     "output_type": "stream",
     "text": [
      "reconstraining parameters GP_regression.Mat52\n",
      "reconstraining parameters GP_regression.Gaussian_noise.variance\n",
      "[I 2019-04-12 22:03:26,202] Finished a trial resulted in value: -1.597928878947192. Current best value is -1.8440109307521575 with parameters: {'a': 0.4026487428508945, 'b': 0.6950464336088514, 'ab': [0.4026487428508945, 0.6950464336088514]}.\n"
     ]
    },
    {
     "name": "stdout",
     "output_type": "stream",
     "text": [
      "The set cost function is ignored! LCB acquisition does not make sense with cost.\n"
     ]
    },
    {
     "name": "stderr",
     "output_type": "stream",
     "text": [
      "reconstraining parameters GP_regression.Mat52\n",
      "reconstraining parameters GP_regression.Gaussian_noise.variance\n",
      "[I 2019-04-12 22:03:47,838] Finished a trial resulted in value: -1.504924755013046. Current best value is -1.8440109307521575 with parameters: {'a': 0.4026487428508945, 'b': 0.6950464336088514, 'ab': [0.4026487428508945, 0.6950464336088514]}.\n"
     ]
    },
    {
     "name": "stdout",
     "output_type": "stream",
     "text": [
      "The set cost function is ignored! LCB acquisition does not make sense with cost.\n"
     ]
    },
    {
     "name": "stderr",
     "output_type": "stream",
     "text": [
      "reconstraining parameters GP_regression.Mat52\n",
      "reconstraining parameters GP_regression.Gaussian_noise.variance\n",
      "[I 2019-04-12 22:04:09,362] Finished a trial resulted in value: -1.523965343839671. Current best value is -1.8440109307521575 with parameters: {'a': 0.4026487428508945, 'b': 0.6950464336088514, 'ab': [0.4026487428508945, 0.6950464336088514]}.\n"
     ]
    },
    {
     "name": "stdout",
     "output_type": "stream",
     "text": [
      "The set cost function is ignored! LCB acquisition does not make sense with cost.\n"
     ]
    },
    {
     "name": "stderr",
     "output_type": "stream",
     "text": [
      "reconstraining parameters GP_regression.Mat52\n",
      "reconstraining parameters GP_regression.Gaussian_noise.variance\n",
      "[I 2019-04-12 22:04:31,587] Finished a trial resulted in value: -1.3306014859496038. Current best value is -1.8440109307521575 with parameters: {'a': 0.4026487428508945, 'b': 0.6950464336088514, 'ab': [0.4026487428508945, 0.6950464336088514]}.\n"
     ]
    },
    {
     "name": "stdout",
     "output_type": "stream",
     "text": [
      "The set cost function is ignored! LCB acquisition does not make sense with cost.\n"
     ]
    },
    {
     "name": "stderr",
     "output_type": "stream",
     "text": [
      "reconstraining parameters GP_regression.Mat52\n",
      "reconstraining parameters GP_regression.Gaussian_noise.variance\n",
      "[I 2019-04-12 22:04:52,526] Finished a trial resulted in value: -1.1858763226905689. Current best value is -1.8440109307521575 with parameters: {'a': 0.4026487428508945, 'b': 0.6950464336088514, 'ab': [0.4026487428508945, 0.6950464336088514]}.\n"
     ]
    },
    {
     "name": "stdout",
     "output_type": "stream",
     "text": [
      "The set cost function is ignored! LCB acquisition does not make sense with cost.\n"
     ]
    },
    {
     "name": "stderr",
     "output_type": "stream",
     "text": [
      "reconstraining parameters GP_regression.Mat52\n",
      "reconstraining parameters GP_regression.Gaussian_noise.variance\n",
      "[I 2019-04-12 22:05:15,596] Finished a trial resulted in value: -1.1491389665458958. Current best value is -1.8440109307521575 with parameters: {'a': 0.4026487428508945, 'b': 0.6950464336088514, 'ab': [0.4026487428508945, 0.6950464336088514]}.\n"
     ]
    },
    {
     "name": "stdout",
     "output_type": "stream",
     "text": [
      "The set cost function is ignored! LCB acquisition does not make sense with cost.\n"
     ]
    },
    {
     "name": "stderr",
     "output_type": "stream",
     "text": [
      "reconstraining parameters GP_regression.Mat52\n",
      "reconstraining parameters GP_regression.Gaussian_noise.variance\n",
      "[I 2019-04-12 22:05:36,346] Finished a trial resulted in value: -1.359729254558409. Current best value is -1.8440109307521575 with parameters: {'a': 0.4026487428508945, 'b': 0.6950464336088514, 'ab': [0.4026487428508945, 0.6950464336088514]}.\n"
     ]
    },
    {
     "name": "stdout",
     "output_type": "stream",
     "text": [
      "The set cost function is ignored! LCB acquisition does not make sense with cost.\n"
     ]
    },
    {
     "name": "stderr",
     "output_type": "stream",
     "text": [
      "reconstraining parameters GP_regression.Mat52\n",
      "reconstraining parameters GP_regression.Gaussian_noise.variance\n",
      "[I 2019-04-12 22:05:58,431] Finished a trial resulted in value: -1.151991435476207. Current best value is -1.8440109307521575 with parameters: {'a': 0.4026487428508945, 'b': 0.6950464336088514, 'ab': [0.4026487428508945, 0.6950464336088514]}.\n"
     ]
    },
    {
     "name": "stdout",
     "output_type": "stream",
     "text": [
      "The set cost function is ignored! LCB acquisition does not make sense with cost.\n"
     ]
    },
    {
     "name": "stderr",
     "output_type": "stream",
     "text": [
      "reconstraining parameters GP_regression.Mat52\n",
      "reconstraining parameters GP_regression.Gaussian_noise.variance\n",
      "[I 2019-04-12 22:06:20,613] Finished a trial resulted in value: -1.1604825415699755. Current best value is -1.8440109307521575 with parameters: {'a': 0.4026487428508945, 'b': 0.6950464336088514, 'ab': [0.4026487428508945, 0.6950464336088514]}.\n"
     ]
    },
    {
     "name": "stdout",
     "output_type": "stream",
     "text": [
      "The set cost function is ignored! LCB acquisition does not make sense with cost.\n"
     ]
    },
    {
     "name": "stderr",
     "output_type": "stream",
     "text": [
      "reconstraining parameters GP_regression.Mat52\n",
      "reconstraining parameters GP_regression.Gaussian_noise.variance\n",
      "[I 2019-04-12 22:06:42,769] Finished a trial resulted in value: -1.2247898381476052. Current best value is -1.8440109307521575 with parameters: {'a': 0.4026487428508945, 'b': 0.6950464336088514, 'ab': [0.4026487428508945, 0.6950464336088514]}.\n"
     ]
    },
    {
     "name": "stdout",
     "output_type": "stream",
     "text": [
      "The set cost function is ignored! LCB acquisition does not make sense with cost.\n"
     ]
    },
    {
     "name": "stderr",
     "output_type": "stream",
     "text": [
      "reconstraining parameters GP_regression.Mat52\n",
      "reconstraining parameters GP_regression.Gaussian_noise.variance\n",
      "[I 2019-04-12 22:07:05,429] Finished a trial resulted in value: -1.1679663095298507. Current best value is -1.8440109307521575 with parameters: {'a': 0.4026487428508945, 'b': 0.6950464336088514, 'ab': [0.4026487428508945, 0.6950464336088514]}.\n"
     ]
    },
    {
     "name": "stdout",
     "output_type": "stream",
     "text": [
      "The set cost function is ignored! LCB acquisition does not make sense with cost.\n"
     ]
    },
    {
     "name": "stderr",
     "output_type": "stream",
     "text": [
      "reconstraining parameters GP_regression.Mat52\n",
      "reconstraining parameters GP_regression.Gaussian_noise.variance\n",
      "[I 2019-04-12 22:07:27,825] Finished a trial resulted in value: -1.1417782284224414. Current best value is -1.8440109307521575 with parameters: {'a': 0.4026487428508945, 'b': 0.6950464336088514, 'ab': [0.4026487428508945, 0.6950464336088514]}.\n"
     ]
    },
    {
     "name": "stdout",
     "output_type": "stream",
     "text": [
      "The set cost function is ignored! LCB acquisition does not make sense with cost.\n"
     ]
    },
    {
     "name": "stderr",
     "output_type": "stream",
     "text": [
      "reconstraining parameters GP_regression.Mat52\n",
      "reconstraining parameters GP_regression.Gaussian_noise.variance\n",
      "[I 2019-04-12 22:07:49,173] Finished a trial resulted in value: -1.2460754533089797. Current best value is -1.8440109307521575 with parameters: {'a': 0.4026487428508945, 'b': 0.6950464336088514, 'ab': [0.4026487428508945, 0.6950464336088514]}.\n"
     ]
    },
    {
     "name": "stdout",
     "output_type": "stream",
     "text": [
      "The set cost function is ignored! LCB acquisition does not make sense with cost.\n"
     ]
    },
    {
     "name": "stderr",
     "output_type": "stream",
     "text": [
      "reconstraining parameters GP_regression.Mat52\n",
      "reconstraining parameters GP_regression.Gaussian_noise.variance\n",
      "[I 2019-04-12 22:08:11,276] Finished a trial resulted in value: -1.1597689664086719. Current best value is -1.8440109307521575 with parameters: {'a': 0.4026487428508945, 'b': 0.6950464336088514, 'ab': [0.4026487428508945, 0.6950464336088514]}.\n"
     ]
    },
    {
     "name": "stdout",
     "output_type": "stream",
     "text": [
      "The set cost function is ignored! LCB acquisition does not make sense with cost.\n"
     ]
    },
    {
     "name": "stderr",
     "output_type": "stream",
     "text": [
      "reconstraining parameters GP_regression.Mat52\n",
      "reconstraining parameters GP_regression.Gaussian_noise.variance\n",
      "[I 2019-04-12 22:08:33,693] Finished a trial resulted in value: -1.0675282659599408. Current best value is -1.8440109307521575 with parameters: {'a': 0.4026487428508945, 'b': 0.6950464336088514, 'ab': [0.4026487428508945, 0.6950464336088514]}.\n"
     ]
    },
    {
     "name": "stdout",
     "output_type": "stream",
     "text": [
      "The set cost function is ignored! LCB acquisition does not make sense with cost.\n"
     ]
    },
    {
     "name": "stderr",
     "output_type": "stream",
     "text": [
      "reconstraining parameters GP_regression.Mat52\n",
      "reconstraining parameters GP_regression.Gaussian_noise.variance\n",
      "[I 2019-04-12 22:08:56,591] Finished a trial resulted in value: -1.1701678920918885. Current best value is -1.8440109307521575 with parameters: {'a': 0.4026487428508945, 'b': 0.6950464336088514, 'ab': [0.4026487428508945, 0.6950464336088514]}.\n"
     ]
    },
    {
     "name": "stdout",
     "output_type": "stream",
     "text": [
      "The set cost function is ignored! LCB acquisition does not make sense with cost.\n"
     ]
    },
    {
     "name": "stderr",
     "output_type": "stream",
     "text": [
      "reconstraining parameters GP_regression.Mat52\n",
      "reconstraining parameters GP_regression.Gaussian_noise.variance\n",
      "[I 2019-04-12 22:09:21,506] Finished a trial resulted in value: -1.0814012323140856. Current best value is -1.8440109307521575 with parameters: {'a': 0.4026487428508945, 'b': 0.6950464336088514, 'ab': [0.4026487428508945, 0.6950464336088514]}.\n"
     ]
    },
    {
     "name": "stdout",
     "output_type": "stream",
     "text": [
      "The set cost function is ignored! LCB acquisition does not make sense with cost.\n"
     ]
    },
    {
     "name": "stderr",
     "output_type": "stream",
     "text": [
      "reconstraining parameters GP_regression.Mat52\n",
      "reconstraining parameters GP_regression.Gaussian_noise.variance\n",
      "[I 2019-04-12 22:09:45,364] Finished a trial resulted in value: -1.1582960330505423. Current best value is -1.8440109307521575 with parameters: {'a': 0.4026487428508945, 'b': 0.6950464336088514, 'ab': [0.4026487428508945, 0.6950464336088514]}.\n"
     ]
    },
    {
     "name": "stdout",
     "output_type": "stream",
     "text": [
      "The set cost function is ignored! LCB acquisition does not make sense with cost.\n"
     ]
    },
    {
     "name": "stderr",
     "output_type": "stream",
     "text": [
      "reconstraining parameters GP_regression.Mat52\n",
      "reconstraining parameters GP_regression.Gaussian_noise.variance\n",
      "[I 2019-04-12 22:10:09,832] Finished a trial resulted in value: -1.0841371430772406. Current best value is -1.8440109307521575 with parameters: {'a': 0.4026487428508945, 'b': 0.6950464336088514, 'ab': [0.4026487428508945, 0.6950464336088514]}.\n"
     ]
    },
    {
     "name": "stdout",
     "output_type": "stream",
     "text": [
      "The set cost function is ignored! LCB acquisition does not make sense with cost.\n"
     ]
    },
    {
     "name": "stderr",
     "output_type": "stream",
     "text": [
      "reconstraining parameters GP_regression.Mat52\n",
      "reconstraining parameters GP_regression.Gaussian_noise.variance\n",
      "[I 2019-04-12 22:10:35,390] Finished a trial resulted in value: -0.9218301872913756. Current best value is -1.8440109307521575 with parameters: {'a': 0.4026487428508945, 'b': 0.6950464336088514, 'ab': [0.4026487428508945, 0.6950464336088514]}.\n"
     ]
    },
    {
     "name": "stdout",
     "output_type": "stream",
     "text": [
      "The set cost function is ignored! LCB acquisition does not make sense with cost.\n"
     ]
    },
    {
     "name": "stderr",
     "output_type": "stream",
     "text": [
      "reconstraining parameters GP_regression.Mat52\n",
      "reconstraining parameters GP_regression.Gaussian_noise.variance\n",
      "[I 2019-04-12 22:10:58,579] Finished a trial resulted in value: -0.9357803545810774. Current best value is -1.8440109307521575 with parameters: {'a': 0.4026487428508945, 'b': 0.6950464336088514, 'ab': [0.4026487428508945, 0.6950464336088514]}.\n"
     ]
    },
    {
     "name": "stdout",
     "output_type": "stream",
     "text": [
      "The set cost function is ignored! LCB acquisition does not make sense with cost.\n"
     ]
    },
    {
     "name": "stderr",
     "output_type": "stream",
     "text": [
      "reconstraining parameters GP_regression.Mat52\n",
      "reconstraining parameters GP_regression.Gaussian_noise.variance\n",
      "[I 2019-04-12 23:36:13,694] Finished a trial resulted in value: -0.7795284660585426. Current best value is -1.8440109307521575 with parameters: {'a': 0.4026487428508945, 'b': 0.6950464336088514, 'ab': [0.4026487428508945, 0.6950464336088514]}.\n"
     ]
    },
    {
     "name": "stdout",
     "output_type": "stream",
     "text": [
      "The set cost function is ignored! LCB acquisition does not make sense with cost.\n"
     ]
    },
    {
     "name": "stderr",
     "output_type": "stream",
     "text": [
      "reconstraining parameters GP_regression.Mat52\n",
      "reconstraining parameters GP_regression.Gaussian_noise.variance\n",
      "[I 2019-04-12 23:36:41,866] Finished a trial resulted in value: -0.7403112042106073. Current best value is -1.8440109307521575 with parameters: {'a': 0.4026487428508945, 'b': 0.6950464336088514, 'ab': [0.4026487428508945, 0.6950464336088514]}.\n"
     ]
    },
    {
     "name": "stdout",
     "output_type": "stream",
     "text": [
      "The set cost function is ignored! LCB acquisition does not make sense with cost.\n"
     ]
    },
    {
     "name": "stderr",
     "output_type": "stream",
     "text": [
      "reconstraining parameters GP_regression.Mat52\n",
      "reconstraining parameters GP_regression.Gaussian_noise.variance\n",
      "[I 2019-04-12 23:37:06,771] Finished a trial resulted in value: -0.9537629546430395. Current best value is -1.8440109307521575 with parameters: {'a': 0.4026487428508945, 'b': 0.6950464336088514, 'ab': [0.4026487428508945, 0.6950464336088514]}.\n"
     ]
    },
    {
     "name": "stdout",
     "output_type": "stream",
     "text": [
      "The set cost function is ignored! LCB acquisition does not make sense with cost.\n"
     ]
    },
    {
     "name": "stderr",
     "output_type": "stream",
     "text": [
      "reconstraining parameters GP_regression.Mat52\n",
      "reconstraining parameters GP_regression.Gaussian_noise.variance\n",
      "[I 2019-04-12 23:37:31,966] Finished a trial resulted in value: -0.9766749934423443. Current best value is -1.8440109307521575 with parameters: {'a': 0.4026487428508945, 'b': 0.6950464336088514, 'ab': [0.4026487428508945, 0.6950464336088514]}.\n"
     ]
    },
    {
     "name": "stdout",
     "output_type": "stream",
     "text": [
      "The set cost function is ignored! LCB acquisition does not make sense with cost.\n"
     ]
    },
    {
     "name": "stderr",
     "output_type": "stream",
     "text": [
      "reconstraining parameters GP_regression.Mat52\n",
      "reconstraining parameters GP_regression.Gaussian_noise.variance\n",
      "[I 2019-04-12 23:37:56,797] Finished a trial resulted in value: -0.9612130982231848. Current best value is -1.8440109307521575 with parameters: {'a': 0.4026487428508945, 'b': 0.6950464336088514, 'ab': [0.4026487428508945, 0.6950464336088514]}.\n"
     ]
    },
    {
     "name": "stdout",
     "output_type": "stream",
     "text": [
      "The set cost function is ignored! LCB acquisition does not make sense with cost.\n"
     ]
    },
    {
     "name": "stderr",
     "output_type": "stream",
     "text": [
      "reconstraining parameters GP_regression.Mat52\n",
      "reconstraining parameters GP_regression.Gaussian_noise.variance\n",
      "[I 2019-04-12 23:38:19,144] Finished a trial resulted in value: -1.0888070842512194. Current best value is -1.8440109307521575 with parameters: {'a': 0.4026487428508945, 'b': 0.6950464336088514, 'ab': [0.4026487428508945, 0.6950464336088514]}.\n"
     ]
    },
    {
     "name": "stdout",
     "output_type": "stream",
     "text": [
      "The set cost function is ignored! LCB acquisition does not make sense with cost.\n"
     ]
    },
    {
     "name": "stderr",
     "output_type": "stream",
     "text": [
      "reconstraining parameters GP_regression.Mat52\n",
      "reconstraining parameters GP_regression.Gaussian_noise.variance\n",
      "[I 2019-04-12 23:38:46,728] Finished a trial resulted in value: -1.1264907690907873. Current best value is -1.8440109307521575 with parameters: {'a': 0.4026487428508945, 'b': 0.6950464336088514, 'ab': [0.4026487428508945, 0.6950464336088514]}.\n"
     ]
    },
    {
     "name": "stdout",
     "output_type": "stream",
     "text": [
      "The set cost function is ignored! LCB acquisition does not make sense with cost.\n"
     ]
    },
    {
     "name": "stderr",
     "output_type": "stream",
     "text": [
      "reconstraining parameters GP_regression.Mat52\n",
      "reconstraining parameters GP_regression.Gaussian_noise.variance\n",
      "[I 2019-04-12 23:39:13,369] Finished a trial resulted in value: -1.0680778413005005. Current best value is -1.8440109307521575 with parameters: {'a': 0.4026487428508945, 'b': 0.6950464336088514, 'ab': [0.4026487428508945, 0.6950464336088514]}.\n"
     ]
    },
    {
     "name": "stdout",
     "output_type": "stream",
     "text": [
      "The set cost function is ignored! LCB acquisition does not make sense with cost.\n"
     ]
    },
    {
     "name": "stderr",
     "output_type": "stream",
     "text": [
      "reconstraining parameters GP_regression.Mat52\n",
      "reconstraining parameters GP_regression.Gaussian_noise.variance\n",
      "[I 2019-04-12 23:39:40,270] Finished a trial resulted in value: -0.957253689656201. Current best value is -1.8440109307521575 with parameters: {'a': 0.4026487428508945, 'b': 0.6950464336088514, 'ab': [0.4026487428508945, 0.6950464336088514]}.\n"
     ]
    },
    {
     "name": "stdout",
     "output_type": "stream",
     "text": [
      "The set cost function is ignored! LCB acquisition does not make sense with cost.\n"
     ]
    },
    {
     "name": "stderr",
     "output_type": "stream",
     "text": [
      "reconstraining parameters GP_regression.Mat52\n",
      "reconstraining parameters GP_regression.Gaussian_noise.variance\n",
      "[I 2019-04-12 23:40:07,140] Finished a trial resulted in value: -0.9283495273608602. Current best value is -1.8440109307521575 with parameters: {'a': 0.4026487428508945, 'b': 0.6950464336088514, 'ab': [0.4026487428508945, 0.6950464336088514]}.\n"
     ]
    },
    {
     "name": "stdout",
     "output_type": "stream",
     "text": [
      "The set cost function is ignored! LCB acquisition does not make sense with cost.\n"
     ]
    },
    {
     "name": "stderr",
     "output_type": "stream",
     "text": [
      "reconstraining parameters GP_regression.Mat52\n",
      "reconstraining parameters GP_regression.Gaussian_noise.variance\n",
      "[I 2019-04-12 23:40:34,417] Finished a trial resulted in value: -0.7951674226566533. Current best value is -1.8440109307521575 with parameters: {'a': 0.4026487428508945, 'b': 0.6950464336088514, 'ab': [0.4026487428508945, 0.6950464336088514]}.\n"
     ]
    },
    {
     "name": "stdout",
     "output_type": "stream",
     "text": [
      "The set cost function is ignored! LCB acquisition does not make sense with cost.\n"
     ]
    },
    {
     "name": "stderr",
     "output_type": "stream",
     "text": [
      "reconstraining parameters GP_regression.Mat52\n",
      "reconstraining parameters GP_regression.Gaussian_noise.variance\n",
      "[I 2019-04-12 23:41:03,171] Finished a trial resulted in value: -0.8604991475442263. Current best value is -1.8440109307521575 with parameters: {'a': 0.4026487428508945, 'b': 0.6950464336088514, 'ab': [0.4026487428508945, 0.6950464336088514]}.\n"
     ]
    },
    {
     "name": "stdout",
     "output_type": "stream",
     "text": [
      "The set cost function is ignored! LCB acquisition does not make sense with cost.\n"
     ]
    },
    {
     "name": "stderr",
     "output_type": "stream",
     "text": [
      "reconstraining parameters GP_regression.Mat52\n",
      "reconstraining parameters GP_regression.Gaussian_noise.variance\n",
      "[I 2019-04-12 23:41:30,946] Finished a trial resulted in value: -0.8171767338581685. Current best value is -1.8440109307521575 with parameters: {'a': 0.4026487428508945, 'b': 0.6950464336088514, 'ab': [0.4026487428508945, 0.6950464336088514]}.\n"
     ]
    },
    {
     "name": "stdout",
     "output_type": "stream",
     "text": [
      "The set cost function is ignored! LCB acquisition does not make sense with cost.\n"
     ]
    },
    {
     "name": "stderr",
     "output_type": "stream",
     "text": [
      "reconstraining parameters GP_regression.Mat52\n",
      "reconstraining parameters GP_regression.Gaussian_noise.variance\n",
      "[I 2019-04-12 23:41:58,467] Finished a trial resulted in value: -0.930634247833807. Current best value is -1.8440109307521575 with parameters: {'a': 0.4026487428508945, 'b': 0.6950464336088514, 'ab': [0.4026487428508945, 0.6950464336088514]}.\n"
     ]
    },
    {
     "name": "stdout",
     "output_type": "stream",
     "text": [
      "The set cost function is ignored! LCB acquisition does not make sense with cost.\n"
     ]
    },
    {
     "name": "stderr",
     "output_type": "stream",
     "text": [
      "reconstraining parameters GP_regression.Mat52\n",
      "reconstraining parameters GP_regression.Gaussian_noise.variance\n",
      "[I 2019-04-12 23:42:25,607] Finished a trial resulted in value: -1.0344659895286872. Current best value is -1.8440109307521575 with parameters: {'a': 0.4026487428508945, 'b': 0.6950464336088514, 'ab': [0.4026487428508945, 0.6950464336088514]}.\n"
     ]
    },
    {
     "name": "stdout",
     "output_type": "stream",
     "text": [
      "The set cost function is ignored! LCB acquisition does not make sense with cost.\n"
     ]
    },
    {
     "name": "stderr",
     "output_type": "stream",
     "text": [
      "reconstraining parameters GP_regression.Mat52\n",
      "reconstraining parameters GP_regression.Gaussian_noise.variance\n",
      "[I 2019-04-12 23:42:51,732] Finished a trial resulted in value: -1.0628809341093755. Current best value is -1.8440109307521575 with parameters: {'a': 0.4026487428508945, 'b': 0.6950464336088514, 'ab': [0.4026487428508945, 0.6950464336088514]}.\n"
     ]
    },
    {
     "name": "stdout",
     "output_type": "stream",
     "text": [
      "The set cost function is ignored! LCB acquisition does not make sense with cost.\n"
     ]
    },
    {
     "name": "stderr",
     "output_type": "stream",
     "text": [
      "reconstraining parameters GP_regression.Mat52\n",
      "reconstraining parameters GP_regression.Gaussian_noise.variance\n",
      "[I 2019-04-12 23:43:18,701] Finished a trial resulted in value: -1.2078806950348235. Current best value is -1.8440109307521575 with parameters: {'a': 0.4026487428508945, 'b': 0.6950464336088514, 'ab': [0.4026487428508945, 0.6950464336088514]}.\n"
     ]
    },
    {
     "name": "stdout",
     "output_type": "stream",
     "text": [
      "The set cost function is ignored! LCB acquisition does not make sense with cost.\n"
     ]
    },
    {
     "name": "stderr",
     "output_type": "stream",
     "text": [
      "reconstraining parameters GP_regression.Mat52\n",
      "reconstraining parameters GP_regression.Gaussian_noise.variance\n",
      "[I 2019-04-12 23:43:43,693] Finished a trial resulted in value: -1.0273804396573483. Current best value is -1.8440109307521575 with parameters: {'a': 0.4026487428508945, 'b': 0.6950464336088514, 'ab': [0.4026487428508945, 0.6950464336088514]}.\n"
     ]
    },
    {
     "name": "stdout",
     "output_type": "stream",
     "text": [
      "The set cost function is ignored! LCB acquisition does not make sense with cost.\n"
     ]
    },
    {
     "name": "stderr",
     "output_type": "stream",
     "text": [
      "reconstraining parameters GP_regression.Mat52\n",
      "reconstraining parameters GP_regression.Gaussian_noise.variance\n",
      "[I 2019-04-12 23:44:12,670] Finished a trial resulted in value: -0.9568875683757947. Current best value is -1.8440109307521575 with parameters: {'a': 0.4026487428508945, 'b': 0.6950464336088514, 'ab': [0.4026487428508945, 0.6950464336088514]}.\n"
     ]
    },
    {
     "name": "stdout",
     "output_type": "stream",
     "text": [
      "The set cost function is ignored! LCB acquisition does not make sense with cost.\n"
     ]
    },
    {
     "name": "stderr",
     "output_type": "stream",
     "text": [
      "reconstraining parameters GP_regression.Mat52\n",
      "reconstraining parameters GP_regression.Gaussian_noise.variance\n",
      "[I 2019-04-12 23:44:40,031] Finished a trial resulted in value: -0.793996048551736. Current best value is -1.8440109307521575 with parameters: {'a': 0.4026487428508945, 'b': 0.6950464336088514, 'ab': [0.4026487428508945, 0.6950464336088514]}.\n"
     ]
    },
    {
     "name": "stdout",
     "output_type": "stream",
     "text": [
      "The set cost function is ignored! LCB acquisition does not make sense with cost.\n"
     ]
    },
    {
     "name": "stderr",
     "output_type": "stream",
     "text": [
      "reconstraining parameters GP_regression.Mat52\n",
      "reconstraining parameters GP_regression.Gaussian_noise.variance\n",
      "[I 2019-04-12 23:45:07,218] Finished a trial resulted in value: -0.7981626681683807. Current best value is -1.8440109307521575 with parameters: {'a': 0.4026487428508945, 'b': 0.6950464336088514, 'ab': [0.4026487428508945, 0.6950464336088514]}.\n"
     ]
    },
    {
     "name": "stdout",
     "output_type": "stream",
     "text": [
      "The set cost function is ignored! LCB acquisition does not make sense with cost.\n"
     ]
    },
    {
     "name": "stderr",
     "output_type": "stream",
     "text": [
      "reconstraining parameters GP_regression.Mat52\n",
      "reconstraining parameters GP_regression.Gaussian_noise.variance\n",
      "[I 2019-04-12 23:45:34,648] Finished a trial resulted in value: -0.7174758927946255. Current best value is -1.8440109307521575 with parameters: {'a': 0.4026487428508945, 'b': 0.6950464336088514, 'ab': [0.4026487428508945, 0.6950464336088514]}.\n"
     ]
    },
    {
     "name": "stdout",
     "output_type": "stream",
     "text": [
      "The set cost function is ignored! LCB acquisition does not make sense with cost.\n"
     ]
    },
    {
     "name": "stderr",
     "output_type": "stream",
     "text": [
      "reconstraining parameters GP_regression.Mat52\n",
      "reconstraining parameters GP_regression.Gaussian_noise.variance\n",
      "[I 2019-04-12 23:46:03,810] Finished a trial resulted in value: -0.7607689542106671. Current best value is -1.8440109307521575 with parameters: {'a': 0.4026487428508945, 'b': 0.6950464336088514, 'ab': [0.4026487428508945, 0.6950464336088514]}.\n"
     ]
    },
    {
     "name": "stdout",
     "output_type": "stream",
     "text": [
      "The set cost function is ignored! LCB acquisition does not make sense with cost.\n"
     ]
    },
    {
     "name": "stderr",
     "output_type": "stream",
     "text": [
      "reconstraining parameters GP_regression.Mat52\n",
      "reconstraining parameters GP_regression.Gaussian_noise.variance\n",
      "[I 2019-04-12 23:46:32,368] Finished a trial resulted in value: -0.7472043797933907. Current best value is -1.8440109307521575 with parameters: {'a': 0.4026487428508945, 'b': 0.6950464336088514, 'ab': [0.4026487428508945, 0.6950464336088514]}.\n"
     ]
    },
    {
     "name": "stdout",
     "output_type": "stream",
     "text": [
      "The set cost function is ignored! LCB acquisition does not make sense with cost.\n"
     ]
    },
    {
     "name": "stderr",
     "output_type": "stream",
     "text": [
      "reconstraining parameters GP_regression.Mat52\n",
      "reconstraining parameters GP_regression.Gaussian_noise.variance\n",
      "[I 2019-04-12 23:47:01,523] Finished a trial resulted in value: -0.8954286515582915. Current best value is -1.8440109307521575 with parameters: {'a': 0.4026487428508945, 'b': 0.6950464336088514, 'ab': [0.4026487428508945, 0.6950464336088514]}.\n"
     ]
    },
    {
     "name": "stdout",
     "output_type": "stream",
     "text": [
      "The set cost function is ignored! LCB acquisition does not make sense with cost.\n"
     ]
    },
    {
     "name": "stderr",
     "output_type": "stream",
     "text": [
      "reconstraining parameters GP_regression.Mat52\n",
      "reconstraining parameters GP_regression.Gaussian_noise.variance\n",
      "[I 2019-04-12 23:47:28,633] Finished a trial resulted in value: -0.7956772851731299. Current best value is -1.8440109307521575 with parameters: {'a': 0.4026487428508945, 'b': 0.6950464336088514, 'ab': [0.4026487428508945, 0.6950464336088514]}.\n"
     ]
    },
    {
     "name": "stdout",
     "output_type": "stream",
     "text": [
      "The set cost function is ignored! LCB acquisition does not make sense with cost.\n"
     ]
    },
    {
     "name": "stderr",
     "output_type": "stream",
     "text": [
      "reconstraining parameters GP_regression.Mat52\n",
      "reconstraining parameters GP_regression.Gaussian_noise.variance\n",
      "[I 2019-04-12 23:48:00,494] Finished a trial resulted in value: -0.9103571188063388. Current best value is -1.8440109307521575 with parameters: {'a': 0.4026487428508945, 'b': 0.6950464336088514, 'ab': [0.4026487428508945, 0.6950464336088514]}.\n"
     ]
    },
    {
     "name": "stdout",
     "output_type": "stream",
     "text": [
      "The set cost function is ignored! LCB acquisition does not make sense with cost.\n"
     ]
    },
    {
     "name": "stderr",
     "output_type": "stream",
     "text": [
      "reconstraining parameters GP_regression.Mat52\n",
      "reconstraining parameters GP_regression.Gaussian_noise.variance\n",
      "[I 2019-04-12 23:48:33,413] Finished a trial resulted in value: -0.9296366460263796. Current best value is -1.8440109307521575 with parameters: {'a': 0.4026487428508945, 'b': 0.6950464336088514, 'ab': [0.4026487428508945, 0.6950464336088514]}.\n"
     ]
    },
    {
     "name": "stdout",
     "output_type": "stream",
     "text": [
      "The set cost function is ignored! LCB acquisition does not make sense with cost.\n"
     ]
    },
    {
     "name": "stderr",
     "output_type": "stream",
     "text": [
      "reconstraining parameters GP_regression.Mat52\n",
      "reconstraining parameters GP_regression.Gaussian_noise.variance\n",
      "[I 2019-04-12 23:49:03,552] Finished a trial resulted in value: -0.6885044502518093. Current best value is -1.8440109307521575 with parameters: {'a': 0.4026487428508945, 'b': 0.6950464336088514, 'ab': [0.4026487428508945, 0.6950464336088514]}.\n"
     ]
    },
    {
     "name": "stdout",
     "output_type": "stream",
     "text": [
      "The set cost function is ignored! LCB acquisition does not make sense with cost.\n"
     ]
    },
    {
     "name": "stderr",
     "output_type": "stream",
     "text": [
      "reconstraining parameters GP_regression.Mat52\n",
      "reconstraining parameters GP_regression.Gaussian_noise.variance\n",
      "[I 2019-04-12 23:49:36,431] Finished a trial resulted in value: -0.8145706811866631. Current best value is -1.8440109307521575 with parameters: {'a': 0.4026487428508945, 'b': 0.6950464336088514, 'ab': [0.4026487428508945, 0.6950464336088514]}.\n"
     ]
    },
    {
     "name": "stdout",
     "output_type": "stream",
     "text": [
      "The set cost function is ignored! LCB acquisition does not make sense with cost.\n"
     ]
    },
    {
     "name": "stderr",
     "output_type": "stream",
     "text": [
      "reconstraining parameters GP_regression.Mat52\n",
      "reconstraining parameters GP_regression.Gaussian_noise.variance\n",
      "[I 2019-04-12 23:50:13,030] Finished a trial resulted in value: -0.8719152945615816. Current best value is -1.8440109307521575 with parameters: {'a': 0.4026487428508945, 'b': 0.6950464336088514, 'ab': [0.4026487428508945, 0.6950464336088514]}.\n"
     ]
    },
    {
     "name": "stdout",
     "output_type": "stream",
     "text": [
      "The set cost function is ignored! LCB acquisition does not make sense with cost.\n"
     ]
    },
    {
     "name": "stderr",
     "output_type": "stream",
     "text": [
      "reconstraining parameters GP_regression.Mat52\n",
      "reconstraining parameters GP_regression.Gaussian_noise.variance\n",
      "[I 2019-04-12 23:50:46,037] Finished a trial resulted in value: -0.8749496851190859. Current best value is -1.8440109307521575 with parameters: {'a': 0.4026487428508945, 'b': 0.6950464336088514, 'ab': [0.4026487428508945, 0.6950464336088514]}.\n"
     ]
    },
    {
     "name": "stdout",
     "output_type": "stream",
     "text": [
      "The set cost function is ignored! LCB acquisition does not make sense with cost.\n"
     ]
    },
    {
     "name": "stderr",
     "output_type": "stream",
     "text": [
      "reconstraining parameters GP_regression.Mat52\n",
      "reconstraining parameters GP_regression.Gaussian_noise.variance\n",
      "[I 2019-04-12 23:51:14,641] Finished a trial resulted in value: -0.692389966153822. Current best value is -1.8440109307521575 with parameters: {'a': 0.4026487428508945, 'b': 0.6950464336088514, 'ab': [0.4026487428508945, 0.6950464336088514]}.\n"
     ]
    },
    {
     "name": "stdout",
     "output_type": "stream",
     "text": [
      "The set cost function is ignored! LCB acquisition does not make sense with cost.\n"
     ]
    },
    {
     "name": "stderr",
     "output_type": "stream",
     "text": [
      "reconstraining parameters GP_regression.Mat52\n",
      "reconstraining parameters GP_regression.Gaussian_noise.variance\n",
      "[I 2019-04-12 23:51:47,507] Finished a trial resulted in value: -0.6910234569369156. Current best value is -1.8440109307521575 with parameters: {'a': 0.4026487428508945, 'b': 0.6950464336088514, 'ab': [0.4026487428508945, 0.6950464336088514]}.\n"
     ]
    },
    {
     "name": "stdout",
     "output_type": "stream",
     "text": [
      "The set cost function is ignored! LCB acquisition does not make sense with cost.\n"
     ]
    },
    {
     "name": "stderr",
     "output_type": "stream",
     "text": [
      "reconstraining parameters GP_regression.Mat52\n",
      "reconstraining parameters GP_regression.Gaussian_noise.variance\n",
      "[I 2019-04-12 23:52:21,097] Finished a trial resulted in value: -0.5203292944748616. Current best value is -1.8440109307521575 with parameters: {'a': 0.4026487428508945, 'b': 0.6950464336088514, 'ab': [0.4026487428508945, 0.6950464336088514]}.\n"
     ]
    },
    {
     "name": "stdout",
     "output_type": "stream",
     "text": [
      "The set cost function is ignored! LCB acquisition does not make sense with cost.\n"
     ]
    },
    {
     "name": "stderr",
     "output_type": "stream",
     "text": [
      "reconstraining parameters GP_regression.Mat52\n",
      "reconstraining parameters GP_regression.Gaussian_noise.variance\n",
      "[I 2019-04-12 23:52:52,497] Finished a trial resulted in value: -0.8463009191464667. Current best value is -1.8440109307521575 with parameters: {'a': 0.4026487428508945, 'b': 0.6950464336088514, 'ab': [0.4026487428508945, 0.6950464336088514]}.\n"
     ]
    },
    {
     "name": "stdout",
     "output_type": "stream",
     "text": [
      "The set cost function is ignored! LCB acquisition does not make sense with cost.\n"
     ]
    },
    {
     "name": "stderr",
     "output_type": "stream",
     "text": [
      "reconstraining parameters GP_regression.Mat52\n",
      "reconstraining parameters GP_regression.Gaussian_noise.variance\n",
      "[I 2019-04-12 23:53:25,887] Finished a trial resulted in value: -0.7249580462238283. Current best value is -1.8440109307521575 with parameters: {'a': 0.4026487428508945, 'b': 0.6950464336088514, 'ab': [0.4026487428508945, 0.6950464336088514]}.\n"
     ]
    },
    {
     "name": "stdout",
     "output_type": "stream",
     "text": [
      "The set cost function is ignored! LCB acquisition does not make sense with cost.\n"
     ]
    },
    {
     "name": "stderr",
     "output_type": "stream",
     "text": [
      "reconstraining parameters GP_regression.Mat52\n",
      "reconstraining parameters GP_regression.Gaussian_noise.variance\n",
      "[I 2019-04-12 23:53:54,592] Finished a trial resulted in value: -0.6440107312921666. Current best value is -1.8440109307521575 with parameters: {'a': 0.4026487428508945, 'b': 0.6950464336088514, 'ab': [0.4026487428508945, 0.6950464336088514]}.\n"
     ]
    },
    {
     "name": "stdout",
     "output_type": "stream",
     "text": [
      "The set cost function is ignored! LCB acquisition does not make sense with cost.\n"
     ]
    },
    {
     "name": "stderr",
     "output_type": "stream",
     "text": [
      "reconstraining parameters GP_regression.Mat52\n",
      "reconstraining parameters GP_regression.Gaussian_noise.variance\n",
      "[I 2019-04-12 23:54:27,303] Finished a trial resulted in value: -0.6147826168456442. Current best value is -1.8440109307521575 with parameters: {'a': 0.4026487428508945, 'b': 0.6950464336088514, 'ab': [0.4026487428508945, 0.6950464336088514]}.\n"
     ]
    },
    {
     "name": "stdout",
     "output_type": "stream",
     "text": [
      "The set cost function is ignored! LCB acquisition does not make sense with cost.\n"
     ]
    },
    {
     "name": "stderr",
     "output_type": "stream",
     "text": [
      "reconstraining parameters GP_regression.Mat52\n",
      "reconstraining parameters GP_regression.Gaussian_noise.variance\n",
      "[I 2019-04-12 23:54:59,999] Finished a trial resulted in value: -0.48419957185901197. Current best value is -1.8440109307521575 with parameters: {'a': 0.4026487428508945, 'b': 0.6950464336088514, 'ab': [0.4026487428508945, 0.6950464336088514]}.\n"
     ]
    },
    {
     "name": "stdout",
     "output_type": "stream",
     "text": [
      "The set cost function is ignored! LCB acquisition does not make sense with cost.\n"
     ]
    },
    {
     "name": "stderr",
     "output_type": "stream",
     "text": [
      "reconstraining parameters GP_regression.Mat52\n",
      "reconstraining parameters GP_regression.Gaussian_noise.variance\n",
      "[I 2019-04-12 23:55:33,868] Finished a trial resulted in value: -0.8354716277893408. Current best value is -1.8440109307521575 with parameters: {'a': 0.4026487428508945, 'b': 0.6950464336088514, 'ab': [0.4026487428508945, 0.6950464336088514]}.\n"
     ]
    },
    {
     "name": "stdout",
     "output_type": "stream",
     "text": [
      "The set cost function is ignored! LCB acquisition does not make sense with cost.\n"
     ]
    },
    {
     "name": "stderr",
     "output_type": "stream",
     "text": [
      "reconstraining parameters GP_regression.Mat52\n",
      "reconstraining parameters GP_regression.Gaussian_noise.variance\n",
      "[I 2019-04-12 23:56:10,887] Finished a trial resulted in value: -0.7201268234051821. Current best value is -1.8440109307521575 with parameters: {'a': 0.4026487428508945, 'b': 0.6950464336088514, 'ab': [0.4026487428508945, 0.6950464336088514]}.\n"
     ]
    },
    {
     "name": "stdout",
     "output_type": "stream",
     "text": [
      "The set cost function is ignored! LCB acquisition does not make sense with cost.\n"
     ]
    },
    {
     "name": "stderr",
     "output_type": "stream",
     "text": [
      "reconstraining parameters GP_regression.Mat52\n",
      "reconstraining parameters GP_regression.Gaussian_noise.variance\n",
      "[I 2019-04-12 23:56:42,734] Finished a trial resulted in value: -0.3445964407462607. Current best value is -1.8440109307521575 with parameters: {'a': 0.4026487428508945, 'b': 0.6950464336088514, 'ab': [0.4026487428508945, 0.6950464336088514]}.\n"
     ]
    },
    {
     "name": "stdout",
     "output_type": "stream",
     "text": [
      "The set cost function is ignored! LCB acquisition does not make sense with cost.\n"
     ]
    },
    {
     "name": "stderr",
     "output_type": "stream",
     "text": [
      "reconstraining parameters GP_regression.Mat52\n",
      "reconstraining parameters GP_regression.Gaussian_noise.variance\n",
      "[I 2019-04-12 23:57:15,336] Finished a trial resulted in value: -0.01823627907288561. Current best value is -1.8440109307521575 with parameters: {'a': 0.4026487428508945, 'b': 0.6950464336088514, 'ab': [0.4026487428508945, 0.6950464336088514]}.\n"
     ]
    },
    {
     "name": "stdout",
     "output_type": "stream",
     "text": [
      "The set cost function is ignored! LCB acquisition does not make sense with cost.\n"
     ]
    },
    {
     "name": "stderr",
     "output_type": "stream",
     "text": [
      "reconstraining parameters GP_regression.Mat52\n",
      "reconstraining parameters GP_regression.Gaussian_noise.variance\n",
      "[I 2019-04-12 23:57:48,028] Finished a trial resulted in value: -0.45072698435120573. Current best value is -1.8440109307521575 with parameters: {'a': 0.4026487428508945, 'b': 0.6950464336088514, 'ab': [0.4026487428508945, 0.6950464336088514]}.\n"
     ]
    },
    {
     "name": "stdout",
     "output_type": "stream",
     "text": [
      "The set cost function is ignored! LCB acquisition does not make sense with cost.\n"
     ]
    },
    {
     "name": "stderr",
     "output_type": "stream",
     "text": [
      "reconstraining parameters GP_regression.Mat52\n",
      "reconstraining parameters GP_regression.Gaussian_noise.variance\n",
      "[I 2019-04-12 23:58:22,363] Finished a trial resulted in value: -0.6440995390926373. Current best value is -1.8440109307521575 with parameters: {'a': 0.4026487428508945, 'b': 0.6950464336088514, 'ab': [0.4026487428508945, 0.6950464336088514]}.\n"
     ]
    },
    {
     "name": "stdout",
     "output_type": "stream",
     "text": [
      "The set cost function is ignored! LCB acquisition does not make sense with cost.\n"
     ]
    },
    {
     "name": "stderr",
     "output_type": "stream",
     "text": [
      "reconstraining parameters GP_regression.Mat52\n",
      "reconstraining parameters GP_regression.Gaussian_noise.variance\n",
      "[I 2019-04-12 23:58:58,973] Finished a trial resulted in value: -0.6617297660234556. Current best value is -1.8440109307521575 with parameters: {'a': 0.4026487428508945, 'b': 0.6950464336088514, 'ab': [0.4026487428508945, 0.6950464336088514]}.\n"
     ]
    },
    {
     "name": "stdout",
     "output_type": "stream",
     "text": [
      "The set cost function is ignored! LCB acquisition does not make sense with cost.\n"
     ]
    },
    {
     "name": "stderr",
     "output_type": "stream",
     "text": [
      "reconstraining parameters GP_regression.Mat52\n",
      "reconstraining parameters GP_regression.Gaussian_noise.variance\n",
      "[I 2019-04-12 23:59:28,733] Finished a trial resulted in value: -0.795746534266912. Current best value is -1.8440109307521575 with parameters: {'a': 0.4026487428508945, 'b': 0.6950464336088514, 'ab': [0.4026487428508945, 0.6950464336088514]}.\n"
     ]
    },
    {
     "name": "stdout",
     "output_type": "stream",
     "text": [
      "The set cost function is ignored! LCB acquisition does not make sense with cost.\n"
     ]
    },
    {
     "name": "stderr",
     "output_type": "stream",
     "text": [
      "reconstraining parameters GP_regression.Mat52\n",
      "reconstraining parameters GP_regression.Gaussian_noise.variance\n",
      "[I 2019-04-13 00:00:02,732] Finished a trial resulted in value: -0.8068244992919229. Current best value is -1.8440109307521575 with parameters: {'a': 0.4026487428508945, 'b': 0.6950464336088514, 'ab': [0.4026487428508945, 0.6950464336088514]}.\n"
     ]
    },
    {
     "name": "stdout",
     "output_type": "stream",
     "text": [
      "The set cost function is ignored! LCB acquisition does not make sense with cost.\n"
     ]
    },
    {
     "name": "stderr",
     "output_type": "stream",
     "text": [
      "reconstraining parameters GP_regression.Mat52\n",
      "reconstraining parameters GP_regression.Gaussian_noise.variance\n",
      "[I 2019-04-13 00:00:37,865] Finished a trial resulted in value: -0.8857046027053377. Current best value is -1.8440109307521575 with parameters: {'a': 0.4026487428508945, 'b': 0.6950464336088514, 'ab': [0.4026487428508945, 0.6950464336088514]}.\n"
     ]
    },
    {
     "name": "stdout",
     "output_type": "stream",
     "text": [
      "The set cost function is ignored! LCB acquisition does not make sense with cost.\n"
     ]
    },
    {
     "name": "stderr",
     "output_type": "stream",
     "text": [
      "reconstraining parameters GP_regression.Mat52\n",
      "reconstraining parameters GP_regression.Gaussian_noise.variance\n",
      "[I 2019-04-13 00:01:10,454] Finished a trial resulted in value: -0.9234671758514311. Current best value is -1.8440109307521575 with parameters: {'a': 0.4026487428508945, 'b': 0.6950464336088514, 'ab': [0.4026487428508945, 0.6950464336088514]}.\n"
     ]
    },
    {
     "name": "stdout",
     "output_type": "stream",
     "text": [
      "The set cost function is ignored! LCB acquisition does not make sense with cost.\n"
     ]
    },
    {
     "name": "stderr",
     "output_type": "stream",
     "text": [
      "reconstraining parameters GP_regression.Mat52\n",
      "reconstraining parameters GP_regression.Gaussian_noise.variance\n",
      "[I 2019-04-13 00:01:43,690] Finished a trial resulted in value: -0.9461800136669853. Current best value is -1.8440109307521575 with parameters: {'a': 0.4026487428508945, 'b': 0.6950464336088514, 'ab': [0.4026487428508945, 0.6950464336088514]}.\n"
     ]
    },
    {
     "name": "stdout",
     "output_type": "stream",
     "text": [
      "The set cost function is ignored! LCB acquisition does not make sense with cost.\n"
     ]
    },
    {
     "name": "stderr",
     "output_type": "stream",
     "text": [
      "reconstraining parameters GP_regression.Mat52\n",
      "reconstraining parameters GP_regression.Gaussian_noise.variance\n",
      "[I 2019-04-13 00:02:20,791] Finished a trial resulted in value: -1.0475525843913767. Current best value is -1.8440109307521575 with parameters: {'a': 0.4026487428508945, 'b': 0.6950464336088514, 'ab': [0.4026487428508945, 0.6950464336088514]}.\n"
     ]
    },
    {
     "name": "stdout",
     "output_type": "stream",
     "text": [
      "The set cost function is ignored! LCB acquisition does not make sense with cost.\n"
     ]
    },
    {
     "name": "stderr",
     "output_type": "stream",
     "text": [
      "reconstraining parameters GP_regression.Mat52\n",
      "reconstraining parameters GP_regression.Gaussian_noise.variance\n",
      "[I 2019-04-13 00:02:56,844] Finished a trial resulted in value: -1.0280419405663728. Current best value is -1.8440109307521575 with parameters: {'a': 0.4026487428508945, 'b': 0.6950464336088514, 'ab': [0.4026487428508945, 0.6950464336088514]}.\n"
     ]
    },
    {
     "name": "stdout",
     "output_type": "stream",
     "text": [
      "The set cost function is ignored! LCB acquisition does not make sense with cost.\n"
     ]
    },
    {
     "name": "stderr",
     "output_type": "stream",
     "text": [
      "reconstraining parameters GP_regression.Mat52\n",
      "reconstraining parameters GP_regression.Gaussian_noise.variance\n",
      "[I 2019-04-13 00:03:30,277] Finished a trial resulted in value: -1.0662211133878177. Current best value is -1.8440109307521575 with parameters: {'a': 0.4026487428508945, 'b': 0.6950464336088514, 'ab': [0.4026487428508945, 0.6950464336088514]}.\n"
     ]
    },
    {
     "name": "stdout",
     "output_type": "stream",
     "text": [
      "The set cost function is ignored! LCB acquisition does not make sense with cost.\n"
     ]
    },
    {
     "name": "stderr",
     "output_type": "stream",
     "text": [
      "reconstraining parameters GP_regression.Mat52\n",
      "reconstraining parameters GP_regression.Gaussian_noise.variance\n",
      "[I 2019-04-13 00:04:05,563] Finished a trial resulted in value: -0.8664840237502256. Current best value is -1.8440109307521575 with parameters: {'a': 0.4026487428508945, 'b': 0.6950464336088514, 'ab': [0.4026487428508945, 0.6950464336088514]}.\n"
     ]
    },
    {
     "name": "stdout",
     "output_type": "stream",
     "text": [
      "The set cost function is ignored! LCB acquisition does not make sense with cost.\n"
     ]
    },
    {
     "name": "stderr",
     "output_type": "stream",
     "text": [
      "reconstraining parameters GP_regression.Mat52\n",
      "reconstraining parameters GP_regression.Gaussian_noise.variance\n",
      "[I 2019-04-13 00:04:41,482] Finished a trial resulted in value: -0.7389283743357102. Current best value is -1.8440109307521575 with parameters: {'a': 0.4026487428508945, 'b': 0.6950464336088514, 'ab': [0.4026487428508945, 0.6950464336088514]}.\n"
     ]
    },
    {
     "name": "stdout",
     "output_type": "stream",
     "text": [
      "The set cost function is ignored! LCB acquisition does not make sense with cost.\n"
     ]
    },
    {
     "name": "stderr",
     "output_type": "stream",
     "text": [
      "reconstraining parameters GP_regression.Mat52\n",
      "reconstraining parameters GP_regression.Gaussian_noise.variance\n",
      "[I 2019-04-13 00:05:17,965] Finished a trial resulted in value: -0.6892427122847612. Current best value is -1.8440109307521575 with parameters: {'a': 0.4026487428508945, 'b': 0.6950464336088514, 'ab': [0.4026487428508945, 0.6950464336088514]}.\n"
     ]
    },
    {
     "name": "stdout",
     "output_type": "stream",
     "text": [
      "The set cost function is ignored! LCB acquisition does not make sense with cost.\n"
     ]
    },
    {
     "name": "stderr",
     "output_type": "stream",
     "text": [
      "reconstraining parameters GP_regression.Mat52\n",
      "reconstraining parameters GP_regression.Gaussian_noise.variance\n",
      "[I 2019-04-13 00:05:52,405] Finished a trial resulted in value: -0.7067325717782313. Current best value is -1.8440109307521575 with parameters: {'a': 0.4026487428508945, 'b': 0.6950464336088514, 'ab': [0.4026487428508945, 0.6950464336088514]}.\n"
     ]
    },
    {
     "name": "stdout",
     "output_type": "stream",
     "text": [
      "The set cost function is ignored! LCB acquisition does not make sense with cost.\n"
     ]
    },
    {
     "name": "stderr",
     "output_type": "stream",
     "text": [
      "reconstraining parameters GP_regression.Mat52\n",
      "reconstraining parameters GP_regression.Gaussian_noise.variance\n",
      "[I 2019-04-13 01:41:58,253] Finished a trial resulted in value: -0.7398024705362333. Current best value is -1.8440109307521575 with parameters: {'a': 0.4026487428508945, 'b': 0.6950464336088514, 'ab': [0.4026487428508945, 0.6950464336088514]}.\n"
     ]
    },
    {
     "name": "stdout",
     "output_type": "stream",
     "text": [
      "The set cost function is ignored! LCB acquisition does not make sense with cost.\n"
     ]
    },
    {
     "name": "stderr",
     "output_type": "stream",
     "text": [
      "reconstraining parameters GP_regression.Mat52\n",
      "reconstraining parameters GP_regression.Gaussian_noise.variance\n",
      "[I 2019-04-13 01:44:49,754] Finished a trial resulted in value: -0.12002892556864522. Current best value is -1.8440109307521575 with parameters: {'a': 0.4026487428508945, 'b': 0.6950464336088514, 'ab': [0.4026487428508945, 0.6950464336088514]}.\n"
     ]
    },
    {
     "name": "stdout",
     "output_type": "stream",
     "text": [
      "The set cost function is ignored! LCB acquisition does not make sense with cost.\n"
     ]
    },
    {
     "name": "stderr",
     "output_type": "stream",
     "text": [
      "reconstraining parameters GP_regression.Mat52\n",
      "reconstraining parameters GP_regression.Gaussian_noise.variance\n",
      "[I 2019-04-13 01:46:03,376] Finished a trial resulted in value: -0.6972609688905862. Current best value is -1.8440109307521575 with parameters: {'a': 0.4026487428508945, 'b': 0.6950464336088514, 'ab': [0.4026487428508945, 0.6950464336088514]}.\n"
     ]
    },
    {
     "name": "stdout",
     "output_type": "stream",
     "text": [
      "The set cost function is ignored! LCB acquisition does not make sense with cost.\n"
     ]
    },
    {
     "name": "stderr",
     "output_type": "stream",
     "text": [
      "reconstraining parameters GP_regression.Mat52\n",
      "reconstraining parameters GP_regression.Gaussian_noise.variance\n",
      "[I 2019-04-13 01:46:43,486] Finished a trial resulted in value: -0.7032584254919358. Current best value is -1.8440109307521575 with parameters: {'a': 0.4026487428508945, 'b': 0.6950464336088514, 'ab': [0.4026487428508945, 0.6950464336088514]}.\n"
     ]
    },
    {
     "name": "stdout",
     "output_type": "stream",
     "text": [
      "The set cost function is ignored! LCB acquisition does not make sense with cost.\n"
     ]
    },
    {
     "name": "stderr",
     "output_type": "stream",
     "text": [
      "reconstraining parameters GP_regression.Mat52\n",
      "reconstraining parameters GP_regression.Gaussian_noise.variance\n",
      "[I 2019-04-13 01:47:24,029] Finished a trial resulted in value: -0.5499600468012288. Current best value is -1.8440109307521575 with parameters: {'a': 0.4026487428508945, 'b': 0.6950464336088514, 'ab': [0.4026487428508945, 0.6950464336088514]}.\n"
     ]
    },
    {
     "name": "stdout",
     "output_type": "stream",
     "text": [
      "The set cost function is ignored! LCB acquisition does not make sense with cost.\n"
     ]
    },
    {
     "name": "stderr",
     "output_type": "stream",
     "text": [
      "reconstraining parameters GP_regression.Mat52\n",
      "reconstraining parameters GP_regression.Gaussian_noise.variance\n",
      "[I 2019-04-13 01:47:59,834] Finished a trial resulted in value: -0.35156713873438006. Current best value is -1.8440109307521575 with parameters: {'a': 0.4026487428508945, 'b': 0.6950464336088514, 'ab': [0.4026487428508945, 0.6950464336088514]}.\n"
     ]
    },
    {
     "name": "stdout",
     "output_type": "stream",
     "text": [
      "The set cost function is ignored! LCB acquisition does not make sense with cost.\n"
     ]
    },
    {
     "name": "stderr",
     "output_type": "stream",
     "text": [
      "reconstraining parameters GP_regression.Mat52\n",
      "reconstraining parameters GP_regression.Gaussian_noise.variance\n",
      "[I 2019-04-13 01:48:37,642] Finished a trial resulted in value: -0.3125775286866534. Current best value is -1.8440109307521575 with parameters: {'a': 0.4026487428508945, 'b': 0.6950464336088514, 'ab': [0.4026487428508945, 0.6950464336088514]}.\n"
     ]
    },
    {
     "name": "stdout",
     "output_type": "stream",
     "text": [
      "The set cost function is ignored! LCB acquisition does not make sense with cost.\n"
     ]
    },
    {
     "name": "stderr",
     "output_type": "stream",
     "text": [
      "reconstraining parameters GP_regression.Mat52\n",
      "reconstraining parameters GP_regression.Gaussian_noise.variance\n",
      "[I 2019-04-13 01:49:17,747] Finished a trial resulted in value: -0.20747067210779746. Current best value is -1.8440109307521575 with parameters: {'a': 0.4026487428508945, 'b': 0.6950464336088514, 'ab': [0.4026487428508945, 0.6950464336088514]}.\n"
     ]
    },
    {
     "name": "stdout",
     "output_type": "stream",
     "text": [
      "The set cost function is ignored! LCB acquisition does not make sense with cost.\n"
     ]
    },
    {
     "name": "stderr",
     "output_type": "stream",
     "text": [
      "reconstraining parameters GP_regression.Mat52\n",
      "reconstraining parameters GP_regression.Gaussian_noise.variance\n",
      "[I 2019-04-13 01:49:58,791] Finished a trial resulted in value: -0.32795884855150903. Current best value is -1.8440109307521575 with parameters: {'a': 0.4026487428508945, 'b': 0.6950464336088514, 'ab': [0.4026487428508945, 0.6950464336088514]}.\n"
     ]
    },
    {
     "name": "stdout",
     "output_type": "stream",
     "text": [
      "The set cost function is ignored! LCB acquisition does not make sense with cost.\n"
     ]
    },
    {
     "name": "stderr",
     "output_type": "stream",
     "text": [
      "reconstraining parameters GP_regression.Mat52\n",
      "reconstraining parameters GP_regression.Gaussian_noise.variance\n",
      "[I 2019-04-13 01:50:43,954] Finished a trial resulted in value: -0.3672286018509159. Current best value is -1.8440109307521575 with parameters: {'a': 0.4026487428508945, 'b': 0.6950464336088514, 'ab': [0.4026487428508945, 0.6950464336088514]}.\n"
     ]
    },
    {
     "name": "stdout",
     "output_type": "stream",
     "text": [
      "The set cost function is ignored! LCB acquisition does not make sense with cost.\n"
     ]
    },
    {
     "name": "stderr",
     "output_type": "stream",
     "text": [
      "reconstraining parameters GP_regression.Mat52\n",
      "reconstraining parameters GP_regression.Gaussian_noise.variance\n",
      "[I 2019-04-13 01:51:24,428] Finished a trial resulted in value: -0.49729500361324397. Current best value is -1.8440109307521575 with parameters: {'a': 0.4026487428508945, 'b': 0.6950464336088514, 'ab': [0.4026487428508945, 0.6950464336088514]}.\n"
     ]
    },
    {
     "name": "stdout",
     "output_type": "stream",
     "text": [
      "The set cost function is ignored! LCB acquisition does not make sense with cost.\n"
     ]
    },
    {
     "name": "stderr",
     "output_type": "stream",
     "text": [
      "reconstraining parameters GP_regression.Mat52\n",
      "reconstraining parameters GP_regression.Gaussian_noise.variance\n",
      "[I 2019-04-13 01:52:12,169] Finished a trial resulted in value: -0.5482751687564471. Current best value is -1.8440109307521575 with parameters: {'a': 0.4026487428508945, 'b': 0.6950464336088514, 'ab': [0.4026487428508945, 0.6950464336088514]}.\n"
     ]
    },
    {
     "name": "stdout",
     "output_type": "stream",
     "text": [
      "The set cost function is ignored! LCB acquisition does not make sense with cost.\n"
     ]
    },
    {
     "name": "stderr",
     "output_type": "stream",
     "text": [
      "reconstraining parameters GP_regression.Mat52\n",
      "reconstraining parameters GP_regression.Gaussian_noise.variance\n",
      "[I 2019-04-13 01:52:54,006] Finished a trial resulted in value: -0.5689981295277556. Current best value is -1.8440109307521575 with parameters: {'a': 0.4026487428508945, 'b': 0.6950464336088514, 'ab': [0.4026487428508945, 0.6950464336088514]}.\n"
     ]
    },
    {
     "name": "stdout",
     "output_type": "stream",
     "text": [
      "The set cost function is ignored! LCB acquisition does not make sense with cost.\n"
     ]
    },
    {
     "name": "stderr",
     "output_type": "stream",
     "text": [
      "reconstraining parameters GP_regression.Mat52\n",
      "reconstraining parameters GP_regression.Gaussian_noise.variance\n",
      "[I 2019-04-13 01:53:35,461] Finished a trial resulted in value: -0.5557147202702205. Current best value is -1.8440109307521575 with parameters: {'a': 0.4026487428508945, 'b': 0.6950464336088514, 'ab': [0.4026487428508945, 0.6950464336088514]}.\n"
     ]
    },
    {
     "name": "stdout",
     "output_type": "stream",
     "text": [
      "The set cost function is ignored! LCB acquisition does not make sense with cost.\n"
     ]
    },
    {
     "name": "stderr",
     "output_type": "stream",
     "text": [
      "reconstraining parameters GP_regression.Mat52\n",
      "reconstraining parameters GP_regression.Gaussian_noise.variance\n",
      "[I 2019-04-13 01:54:23,565] Finished a trial resulted in value: -0.30972909669407656. Current best value is -1.8440109307521575 with parameters: {'a': 0.4026487428508945, 'b': 0.6950464336088514, 'ab': [0.4026487428508945, 0.6950464336088514]}.\n"
     ]
    },
    {
     "name": "stdout",
     "output_type": "stream",
     "text": [
      "The set cost function is ignored! LCB acquisition does not make sense with cost.\n"
     ]
    },
    {
     "name": "stderr",
     "output_type": "stream",
     "text": [
      "reconstraining parameters GP_regression.Mat52\n",
      "reconstraining parameters GP_regression.Gaussian_noise.variance\n",
      "[I 2019-04-13 01:55:22,888] Finished a trial resulted in value: -0.8338907772204968. Current best value is -1.8440109307521575 with parameters: {'a': 0.4026487428508945, 'b': 0.6950464336088514, 'ab': [0.4026487428508945, 0.6950464336088514]}.\n"
     ]
    },
    {
     "name": "stdout",
     "output_type": "stream",
     "text": [
      "The set cost function is ignored! LCB acquisition does not make sense with cost.\n"
     ]
    },
    {
     "name": "stderr",
     "output_type": "stream",
     "text": [
      "reconstraining parameters GP_regression.Mat52\n",
      "reconstraining parameters GP_regression.Gaussian_noise.variance\n",
      "[I 2019-04-13 01:56:15,249] Finished a trial resulted in value: -0.41613219756023767. Current best value is -1.8440109307521575 with parameters: {'a': 0.4026487428508945, 'b': 0.6950464336088514, 'ab': [0.4026487428508945, 0.6950464336088514]}.\n"
     ]
    },
    {
     "name": "stdout",
     "output_type": "stream",
     "text": [
      "The set cost function is ignored! LCB acquisition does not make sense with cost.\n"
     ]
    },
    {
     "name": "stderr",
     "output_type": "stream",
     "text": [
      "reconstraining parameters GP_regression.Mat52\n",
      "reconstraining parameters GP_regression.Gaussian_noise.variance\n",
      "[I 2019-04-13 01:57:08,855] Finished a trial resulted in value: -0.8127084789660435. Current best value is -1.8440109307521575 with parameters: {'a': 0.4026487428508945, 'b': 0.6950464336088514, 'ab': [0.4026487428508945, 0.6950464336088514]}.\n"
     ]
    },
    {
     "name": "stdout",
     "output_type": "stream",
     "text": [
      "The set cost function is ignored! LCB acquisition does not make sense with cost.\n"
     ]
    },
    {
     "name": "stderr",
     "output_type": "stream",
     "text": [
      "reconstraining parameters GP_regression.Mat52\n",
      "reconstraining parameters GP_regression.Gaussian_noise.variance\n",
      "[I 2019-04-13 01:58:11,911] Finished a trial resulted in value: -0.9213169618536499. Current best value is -1.8440109307521575 with parameters: {'a': 0.4026487428508945, 'b': 0.6950464336088514, 'ab': [0.4026487428508945, 0.6950464336088514]}.\n"
     ]
    },
    {
     "name": "stdout",
     "output_type": "stream",
     "text": [
      "The set cost function is ignored! LCB acquisition does not make sense with cost.\n"
     ]
    },
    {
     "name": "stderr",
     "output_type": "stream",
     "text": [
      "reconstraining parameters GP_regression.Mat52\n",
      "reconstraining parameters GP_regression.Gaussian_noise.variance\n",
      "[I 2019-04-13 01:59:01,669] Finished a trial resulted in value: -0.6460839492919508. Current best value is -1.8440109307521575 with parameters: {'a': 0.4026487428508945, 'b': 0.6950464336088514, 'ab': [0.4026487428508945, 0.6950464336088514]}.\n"
     ]
    },
    {
     "name": "stdout",
     "output_type": "stream",
     "text": [
      "The set cost function is ignored! LCB acquisition does not make sense with cost.\n"
     ]
    },
    {
     "name": "stderr",
     "output_type": "stream",
     "text": [
      "reconstraining parameters GP_regression.Mat52\n",
      "reconstraining parameters GP_regression.Gaussian_noise.variance\n",
      "[I 2019-04-13 01:59:46,236] Finished a trial resulted in value: -0.8388735735574956. Current best value is -1.8440109307521575 with parameters: {'a': 0.4026487428508945, 'b': 0.6950464336088514, 'ab': [0.4026487428508945, 0.6950464336088514]}.\n"
     ]
    },
    {
     "name": "stdout",
     "output_type": "stream",
     "text": [
      "The set cost function is ignored! LCB acquisition does not make sense with cost.\n"
     ]
    },
    {
     "name": "stderr",
     "output_type": "stream",
     "text": [
      "reconstraining parameters GP_regression.Mat52\n",
      "reconstraining parameters GP_regression.Gaussian_noise.variance\n",
      "[I 2019-04-13 02:00:40,667] Finished a trial resulted in value: -0.6583306604080329. Current best value is -1.8440109307521575 with parameters: {'a': 0.4026487428508945, 'b': 0.6950464336088514, 'ab': [0.4026487428508945, 0.6950464336088514]}.\n"
     ]
    },
    {
     "name": "stdout",
     "output_type": "stream",
     "text": [
      "The set cost function is ignored! LCB acquisition does not make sense with cost.\n"
     ]
    },
    {
     "name": "stderr",
     "output_type": "stream",
     "text": [
      "reconstraining parameters GP_regression.Mat52\n",
      "reconstraining parameters GP_regression.Gaussian_noise.variance\n",
      "[I 2019-04-13 02:01:27,515] Finished a trial resulted in value: -0.7138464052241789. Current best value is -1.8440109307521575 with parameters: {'a': 0.4026487428508945, 'b': 0.6950464336088514, 'ab': [0.4026487428508945, 0.6950464336088514]}.\n"
     ]
    },
    {
     "name": "stdout",
     "output_type": "stream",
     "text": [
      "The set cost function is ignored! LCB acquisition does not make sense with cost.\n"
     ]
    },
    {
     "name": "stderr",
     "output_type": "stream",
     "text": [
      "reconstraining parameters GP_regression.Mat52\n",
      "reconstraining parameters GP_regression.Gaussian_noise.variance\n",
      "[I 2019-04-13 02:02:13,687] Finished a trial resulted in value: -0.7686767328211596. Current best value is -1.8440109307521575 with parameters: {'a': 0.4026487428508945, 'b': 0.6950464336088514, 'ab': [0.4026487428508945, 0.6950464336088514]}.\n"
     ]
    },
    {
     "name": "stdout",
     "output_type": "stream",
     "text": [
      "The set cost function is ignored! LCB acquisition does not make sense with cost.\n"
     ]
    },
    {
     "name": "stderr",
     "output_type": "stream",
     "text": [
      "reconstraining parameters GP_regression.Mat52\n",
      "reconstraining parameters GP_regression.Gaussian_noise.variance\n",
      "[I 2019-04-13 02:02:58,030] Finished a trial resulted in value: -0.7652833598993607. Current best value is -1.8440109307521575 with parameters: {'a': 0.4026487428508945, 'b': 0.6950464336088514, 'ab': [0.4026487428508945, 0.6950464336088514]}.\n"
     ]
    },
    {
     "name": "stdout",
     "output_type": "stream",
     "text": [
      "The set cost function is ignored! LCB acquisition does not make sense with cost.\n"
     ]
    },
    {
     "name": "stderr",
     "output_type": "stream",
     "text": [
      "reconstraining parameters GP_regression.Mat52\n",
      "reconstraining parameters GP_regression.Gaussian_noise.variance\n",
      "[I 2019-04-13 02:03:38,343] Finished a trial resulted in value: -0.6775164362993956. Current best value is -1.8440109307521575 with parameters: {'a': 0.4026487428508945, 'b': 0.6950464336088514, 'ab': [0.4026487428508945, 0.6950464336088514]}.\n"
     ]
    },
    {
     "name": "stdout",
     "output_type": "stream",
     "text": [
      "The set cost function is ignored! LCB acquisition does not make sense with cost.\n"
     ]
    },
    {
     "name": "stderr",
     "output_type": "stream",
     "text": [
      "reconstraining parameters GP_regression.Mat52\n",
      "reconstraining parameters GP_regression.Gaussian_noise.variance\n",
      "[I 2019-04-13 02:04:24,900] Finished a trial resulted in value: -0.6424640486401374. Current best value is -1.8440109307521575 with parameters: {'a': 0.4026487428508945, 'b': 0.6950464336088514, 'ab': [0.4026487428508945, 0.6950464336088514]}.\n"
     ]
    },
    {
     "name": "stdout",
     "output_type": "stream",
     "text": [
      "The set cost function is ignored! LCB acquisition does not make sense with cost.\n"
     ]
    },
    {
     "name": "stderr",
     "output_type": "stream",
     "text": [
      "reconstraining parameters GP_regression.Mat52\n",
      "reconstraining parameters GP_regression.Gaussian_noise.variance\n",
      "[I 2019-04-13 02:05:11,210] Finished a trial resulted in value: -0.2755296163692952. Current best value is -1.8440109307521575 with parameters: {'a': 0.4026487428508945, 'b': 0.6950464336088514, 'ab': [0.4026487428508945, 0.6950464336088514]}.\n"
     ]
    },
    {
     "name": "stdout",
     "output_type": "stream",
     "text": [
      "The set cost function is ignored! LCB acquisition does not make sense with cost.\n"
     ]
    },
    {
     "name": "stderr",
     "output_type": "stream",
     "text": [
      "reconstraining parameters GP_regression.Mat52\n",
      "reconstraining parameters GP_regression.Gaussian_noise.variance\n",
      "[I 2019-04-13 02:06:04,169] Finished a trial resulted in value: -0.18668207767553452. Current best value is -1.8440109307521575 with parameters: {'a': 0.4026487428508945, 'b': 0.6950464336088514, 'ab': [0.4026487428508945, 0.6950464336088514]}.\n"
     ]
    },
    {
     "name": "stdout",
     "output_type": "stream",
     "text": [
      "The set cost function is ignored! LCB acquisition does not make sense with cost.\n"
     ]
    },
    {
     "name": "stderr",
     "output_type": "stream",
     "text": [
      "reconstraining parameters GP_regression.Mat52\n",
      "reconstraining parameters GP_regression.Gaussian_noise.variance\n",
      "[I 2019-04-13 02:06:48,588] Finished a trial resulted in value: -0.3995711273499851. Current best value is -1.8440109307521575 with parameters: {'a': 0.4026487428508945, 'b': 0.6950464336088514, 'ab': [0.4026487428508945, 0.6950464336088514]}.\n"
     ]
    },
    {
     "name": "stdout",
     "output_type": "stream",
     "text": [
      "The set cost function is ignored! LCB acquisition does not make sense with cost.\n"
     ]
    },
    {
     "name": "stderr",
     "output_type": "stream",
     "text": [
      "reconstraining parameters GP_regression.Mat52\n",
      "reconstraining parameters GP_regression.Gaussian_noise.variance\n",
      "[I 2019-04-13 02:07:29,000] Finished a trial resulted in value: -0.29446754928880936. Current best value is -1.8440109307521575 with parameters: {'a': 0.4026487428508945, 'b': 0.6950464336088514, 'ab': [0.4026487428508945, 0.6950464336088514]}.\n"
     ]
    },
    {
     "name": "stdout",
     "output_type": "stream",
     "text": [
      "The set cost function is ignored! LCB acquisition does not make sense with cost.\n"
     ]
    },
    {
     "name": "stderr",
     "output_type": "stream",
     "text": [
      "reconstraining parameters GP_regression.Mat52\n",
      "reconstraining parameters GP_regression.Gaussian_noise.variance\n",
      "[I 2019-04-13 02:08:20,440] Finished a trial resulted in value: -0.4416163232304393. Current best value is -1.8440109307521575 with parameters: {'a': 0.4026487428508945, 'b': 0.6950464336088514, 'ab': [0.4026487428508945, 0.6950464336088514]}.\n"
     ]
    },
    {
     "name": "stdout",
     "output_type": "stream",
     "text": [
      "The set cost function is ignored! LCB acquisition does not make sense with cost.\n"
     ]
    },
    {
     "name": "stderr",
     "output_type": "stream",
     "text": [
      "reconstraining parameters GP_regression.Mat52\n",
      "reconstraining parameters GP_regression.Gaussian_noise.variance\n",
      "[I 2019-04-13 02:09:05,554] Finished a trial resulted in value: -0.4832807818185314. Current best value is -1.8440109307521575 with parameters: {'a': 0.4026487428508945, 'b': 0.6950464336088514, 'ab': [0.4026487428508945, 0.6950464336088514]}.\n"
     ]
    },
    {
     "name": "stdout",
     "output_type": "stream",
     "text": [
      "The set cost function is ignored! LCB acquisition does not make sense with cost.\n"
     ]
    },
    {
     "name": "stderr",
     "output_type": "stream",
     "text": [
      "reconstraining parameters GP_regression.Mat52\n",
      "reconstraining parameters GP_regression.Gaussian_noise.variance\n",
      "[I 2019-04-13 02:09:47,004] Finished a trial resulted in value: -0.3765169938676717. Current best value is -1.8440109307521575 with parameters: {'a': 0.4026487428508945, 'b': 0.6950464336088514, 'ab': [0.4026487428508945, 0.6950464336088514]}.\n"
     ]
    },
    {
     "name": "stdout",
     "output_type": "stream",
     "text": [
      "The set cost function is ignored! LCB acquisition does not make sense with cost.\n"
     ]
    },
    {
     "name": "stderr",
     "output_type": "stream",
     "text": [
      "reconstraining parameters GP_regression.Mat52\n",
      "reconstraining parameters GP_regression.Gaussian_noise.variance\n",
      "[I 2019-04-13 02:10:34,966] Finished a trial resulted in value: -0.27792688168414736. Current best value is -1.8440109307521575 with parameters: {'a': 0.4026487428508945, 'b': 0.6950464336088514, 'ab': [0.4026487428508945, 0.6950464336088514]}.\n"
     ]
    },
    {
     "name": "stdout",
     "output_type": "stream",
     "text": [
      "The set cost function is ignored! LCB acquisition does not make sense with cost.\n"
     ]
    },
    {
     "name": "stderr",
     "output_type": "stream",
     "text": [
      "reconstraining parameters GP_regression.Mat52\n",
      "reconstraining parameters GP_regression.Gaussian_noise.variance\n",
      "[I 2019-04-13 02:11:19,923] Finished a trial resulted in value: -0.28244903871607796. Current best value is -1.8440109307521575 with parameters: {'a': 0.4026487428508945, 'b': 0.6950464336088514, 'ab': [0.4026487428508945, 0.6950464336088514]}.\n"
     ]
    },
    {
     "name": "stdout",
     "output_type": "stream",
     "text": [
      "The set cost function is ignored! LCB acquisition does not make sense with cost.\n"
     ]
    },
    {
     "name": "stderr",
     "output_type": "stream",
     "text": [
      "reconstraining parameters GP_regression.Mat52\n",
      "reconstraining parameters GP_regression.Gaussian_noise.variance\n",
      "[I 2019-04-13 02:12:06,436] Finished a trial resulted in value: -0.0268294601228537. Current best value is -1.8440109307521575 with parameters: {'a': 0.4026487428508945, 'b': 0.6950464336088514, 'ab': [0.4026487428508945, 0.6950464336088514]}.\n"
     ]
    },
    {
     "name": "stdout",
     "output_type": "stream",
     "text": [
      "The set cost function is ignored! LCB acquisition does not make sense with cost.\n"
     ]
    },
    {
     "name": "stderr",
     "output_type": "stream",
     "text": [
      "reconstraining parameters GP_regression.Mat52\n",
      "reconstraining parameters GP_regression.Gaussian_noise.variance\n",
      "[I 2019-04-13 02:12:54,558] Finished a trial resulted in value: -0.32473690854684717. Current best value is -1.8440109307521575 with parameters: {'a': 0.4026487428508945, 'b': 0.6950464336088514, 'ab': [0.4026487428508945, 0.6950464336088514]}.\n"
     ]
    },
    {
     "name": "stdout",
     "output_type": "stream",
     "text": [
      "The set cost function is ignored! LCB acquisition does not make sense with cost.\n"
     ]
    },
    {
     "name": "stderr",
     "output_type": "stream",
     "text": [
      "reconstraining parameters GP_regression.Mat52\n",
      "reconstraining parameters GP_regression.Gaussian_noise.variance\n",
      "[I 2019-04-13 02:13:37,239] Finished a trial resulted in value: -0.21294100850139652. Current best value is -1.8440109307521575 with parameters: {'a': 0.4026487428508945, 'b': 0.6950464336088514, 'ab': [0.4026487428508945, 0.6950464336088514]}.\n"
     ]
    },
    {
     "name": "stdout",
     "output_type": "stream",
     "text": [
      "The set cost function is ignored! LCB acquisition does not make sense with cost.\n"
     ]
    },
    {
     "name": "stderr",
     "output_type": "stream",
     "text": [
      "reconstraining parameters GP_regression.Mat52\n",
      "reconstraining parameters GP_regression.Gaussian_noise.variance\n",
      "[I 2019-04-13 02:14:25,134] Finished a trial resulted in value: -0.3239267725159734. Current best value is -1.8440109307521575 with parameters: {'a': 0.4026487428508945, 'b': 0.6950464336088514, 'ab': [0.4026487428508945, 0.6950464336088514]}.\n"
     ]
    },
    {
     "name": "stdout",
     "output_type": "stream",
     "text": [
      "The set cost function is ignored! LCB acquisition does not make sense with cost.\n"
     ]
    },
    {
     "name": "stderr",
     "output_type": "stream",
     "text": [
      "reconstraining parameters GP_regression.Mat52\n",
      "reconstraining parameters GP_regression.Gaussian_noise.variance\n",
      "[I 2019-04-13 02:15:09,430] Finished a trial resulted in value: -0.3297347403964972. Current best value is -1.8440109307521575 with parameters: {'a': 0.4026487428508945, 'b': 0.6950464336088514, 'ab': [0.4026487428508945, 0.6950464336088514]}.\n"
     ]
    },
    {
     "name": "stdout",
     "output_type": "stream",
     "text": [
      "The set cost function is ignored! LCB acquisition does not make sense with cost.\n"
     ]
    },
    {
     "name": "stderr",
     "output_type": "stream",
     "text": [
      "reconstraining parameters GP_regression.Mat52\n",
      "reconstraining parameters GP_regression.Gaussian_noise.variance\n",
      "[I 2019-04-13 02:15:54,185] Finished a trial resulted in value: -0.3853374304166403. Current best value is -1.8440109307521575 with parameters: {'a': 0.4026487428508945, 'b': 0.6950464336088514, 'ab': [0.4026487428508945, 0.6950464336088514]}.\n"
     ]
    },
    {
     "name": "stdout",
     "output_type": "stream",
     "text": [
      "The set cost function is ignored! LCB acquisition does not make sense with cost.\n"
     ]
    },
    {
     "name": "stderr",
     "output_type": "stream",
     "text": [
      "reconstraining parameters GP_regression.Mat52\n",
      "reconstraining parameters GP_regression.Gaussian_noise.variance\n",
      "[I 2019-04-13 02:16:42,990] Finished a trial resulted in value: -0.35304482114979996. Current best value is -1.8440109307521575 with parameters: {'a': 0.4026487428508945, 'b': 0.6950464336088514, 'ab': [0.4026487428508945, 0.6950464336088514]}.\n"
     ]
    },
    {
     "name": "stdout",
     "output_type": "stream",
     "text": [
      "The set cost function is ignored! LCB acquisition does not make sense with cost.\n"
     ]
    },
    {
     "name": "stderr",
     "output_type": "stream",
     "text": [
      "reconstraining parameters GP_regression.Mat52\n",
      "reconstraining parameters GP_regression.Gaussian_noise.variance\n",
      "[I 2019-04-13 02:17:32,628] Finished a trial resulted in value: -0.244442461916367. Current best value is -1.8440109307521575 with parameters: {'a': 0.4026487428508945, 'b': 0.6950464336088514, 'ab': [0.4026487428508945, 0.6950464336088514]}.\n"
     ]
    },
    {
     "name": "stdout",
     "output_type": "stream",
     "text": [
      "The set cost function is ignored! LCB acquisition does not make sense with cost.\n"
     ]
    },
    {
     "name": "stderr",
     "output_type": "stream",
     "text": [
      "reconstraining parameters GP_regression.Mat52\n",
      "reconstraining parameters GP_regression.Gaussian_noise.variance\n",
      "[I 2019-04-13 02:18:18,401] Finished a trial resulted in value: 0.06904713343836807. Current best value is -1.8440109307521575 with parameters: {'a': 0.4026487428508945, 'b': 0.6950464336088514, 'ab': [0.4026487428508945, 0.6950464336088514]}.\n"
     ]
    },
    {
     "name": "stdout",
     "output_type": "stream",
     "text": [
      "The set cost function is ignored! LCB acquisition does not make sense with cost.\n"
     ]
    },
    {
     "name": "stderr",
     "output_type": "stream",
     "text": [
      "reconstraining parameters GP_regression.Mat52\n",
      "reconstraining parameters GP_regression.Gaussian_noise.variance\n",
      "[I 2019-04-13 02:19:05,180] Finished a trial resulted in value: -0.2535609305744343. Current best value is -1.8440109307521575 with parameters: {'a': 0.4026487428508945, 'b': 0.6950464336088514, 'ab': [0.4026487428508945, 0.6950464336088514]}.\n"
     ]
    }
   ],
   "source": [
    "sampler = optuna.samplers.GPSampler()\n",
    "study_rbf = optuna.create_study(sampler=sampler)\n",
    "study_rbf.optimize(lambda t: - objevtive_rbf(t), n_trials=n_trials)"
   ]
  },
  {
   "cell_type": "code",
   "execution_count": null,
   "metadata": {},
   "outputs": [
    {
     "name": "stderr",
     "output_type": "stream",
     "text": [
      "[I 2019-04-13 02:57:54,786] Finished a trial resulted in value: -0.2766159575247606. Current best value is -0.2766159575247606 with parameters: {'a': 0.27382579097192095, 'b': 0.8254750165191048, 'ab': [0.27382579097192095, 0.8254750165191048]}.\n",
      "[I 2019-04-13 02:57:54,789] Finished a trial resulted in value: -0.019699767009576385. Current best value is -0.2766159575247606 with parameters: {'a': 0.27382579097192095, 'b': 0.8254750165191048, 'ab': [0.27382579097192095, 0.8254750165191048]}.\n",
      "[I 2019-04-13 02:57:54,793] Finished a trial resulted in value: -0.09787775253812159. Current best value is -0.2766159575247606 with parameters: {'a': 0.27382579097192095, 'b': 0.8254750165191048, 'ab': [0.27382579097192095, 0.8254750165191048]}.\n",
      "[I 2019-04-13 02:57:54,796] Finished a trial resulted in value: 0.2154670843296354. Current best value is -0.2766159575247606 with parameters: {'a': 0.27382579097192095, 'b': 0.8254750165191048, 'ab': [0.27382579097192095, 0.8254750165191048]}.\n",
      "[I 2019-04-13 02:57:54,800] Finished a trial resulted in value: 0.2927313952350121. Current best value is -0.2766159575247606 with parameters: {'a': 0.27382579097192095, 'b': 0.8254750165191048, 'ab': [0.27382579097192095, 0.8254750165191048]}.\n",
      "[I 2019-04-13 02:57:54,803] Finished a trial resulted in value: 0.09789217885689637. Current best value is -0.2766159575247606 with parameters: {'a': 0.27382579097192095, 'b': 0.8254750165191048, 'ab': [0.27382579097192095, 0.8254750165191048]}.\n",
      "[I 2019-04-13 02:57:54,807] Finished a trial resulted in value: -0.1915230038402398. Current best value is -0.2766159575247606 with parameters: {'a': 0.27382579097192095, 'b': 0.8254750165191048, 'ab': [0.27382579097192095, 0.8254750165191048]}.\n",
      "[I 2019-04-13 02:57:54,813] Finished a trial resulted in value: 0.07579488921706622. Current best value is -0.2766159575247606 with parameters: {'a': 0.27382579097192095, 'b': 0.8254750165191048, 'ab': [0.27382579097192095, 0.8254750165191048]}.\n",
      "[I 2019-04-13 02:57:54,818] Finished a trial resulted in value: 0.4232111187091898. Current best value is -0.2766159575247606 with parameters: {'a': 0.27382579097192095, 'b': 0.8254750165191048, 'ab': [0.27382579097192095, 0.8254750165191048]}.\n",
      "[I 2019-04-13 02:57:54,823] Finished a trial resulted in value: 0.5680711362073657. Current best value is -0.2766159575247606 with parameters: {'a': 0.27382579097192095, 'b': 0.8254750165191048, 'ab': [0.27382579097192095, 0.8254750165191048]}.\n"
     ]
    },
    {
     "name": "stdout",
     "output_type": "stream",
     "text": [
      "The set cost function is ignored! LCB acquisition does not make sense with cost.\n",
      "ab\n"
     ]
    },
    {
     "name": "stderr",
     "output_type": "stream",
     "text": [
      "reconstraining parameters GP_regression.mul\n",
      "reconstraining parameters GP_regression.Gaussian_noise.variance\n",
      "[I 2019-04-13 02:58:04,595] Finished a trial resulted in value: 0.10536232821232758. Current best value is -0.2766159575247606 with parameters: {'a': 0.27382579097192095, 'b': 0.8254750165191048, 'ab': [0.27382579097192095, 0.8254750165191048]}.\n"
     ]
    },
    {
     "name": "stdout",
     "output_type": "stream",
     "text": [
      "The set cost function is ignored! LCB acquisition does not make sense with cost.\n",
      "ab\n"
     ]
    },
    {
     "name": "stderr",
     "output_type": "stream",
     "text": [
      "reconstraining parameters GP_regression.mul\n",
      "reconstraining parameters GP_regression.Gaussian_noise.variance\n",
      "[I 2019-04-13 02:58:13,601] Finished a trial resulted in value: 0.03070250370368277. Current best value is -0.2766159575247606 with parameters: {'a': 0.27382579097192095, 'b': 0.8254750165191048, 'ab': [0.27382579097192095, 0.8254750165191048]}.\n"
     ]
    },
    {
     "name": "stdout",
     "output_type": "stream",
     "text": [
      "The set cost function is ignored! LCB acquisition does not make sense with cost.\n",
      "ab\n"
     ]
    },
    {
     "name": "stderr",
     "output_type": "stream",
     "text": [
      "reconstraining parameters GP_regression.mul\n",
      "reconstraining parameters GP_regression.Gaussian_noise.variance\n",
      "[I 2019-04-13 02:58:24,503] Finished a trial resulted in value: 0.06798142748631204. Current best value is -0.2766159575247606 with parameters: {'a': 0.27382579097192095, 'b': 0.8254750165191048, 'ab': [0.27382579097192095, 0.8254750165191048]}.\n"
     ]
    },
    {
     "name": "stdout",
     "output_type": "stream",
     "text": [
      "The set cost function is ignored! LCB acquisition does not make sense with cost.\n",
      "ab\n"
     ]
    },
    {
     "name": "stderr",
     "output_type": "stream",
     "text": [
      "reconstraining parameters GP_regression.mul\n",
      "reconstraining parameters GP_regression.Gaussian_noise.variance\n",
      "[I 2019-04-13 02:58:35,768] Finished a trial resulted in value: 0.20678940338784943. Current best value is -0.2766159575247606 with parameters: {'a': 0.27382579097192095, 'b': 0.8254750165191048, 'ab': [0.27382579097192095, 0.8254750165191048]}.\n"
     ]
    },
    {
     "name": "stdout",
     "output_type": "stream",
     "text": [
      "The set cost function is ignored! LCB acquisition does not make sense with cost.\n",
      "ab\n"
     ]
    },
    {
     "name": "stderr",
     "output_type": "stream",
     "text": [
      "reconstraining parameters GP_regression.mul\n",
      "reconstraining parameters GP_regression.Gaussian_noise.variance\n",
      "[I 2019-04-13 02:58:45,814] Finished a trial resulted in value: -0.11410740522866768. Current best value is -0.2766159575247606 with parameters: {'a': 0.27382579097192095, 'b': 0.8254750165191048, 'ab': [0.27382579097192095, 0.8254750165191048]}.\n"
     ]
    },
    {
     "name": "stdout",
     "output_type": "stream",
     "text": [
      "The set cost function is ignored! LCB acquisition does not make sense with cost.\n",
      "ab\n"
     ]
    },
    {
     "name": "stderr",
     "output_type": "stream",
     "text": [
      "reconstraining parameters GP_regression.mul\n",
      "reconstraining parameters GP_regression.Gaussian_noise.variance\n",
      "[I 2019-04-13 02:58:54,714] Finished a trial resulted in value: -0.14981012198893592. Current best value is -0.2766159575247606 with parameters: {'a': 0.27382579097192095, 'b': 0.8254750165191048, 'ab': [0.27382579097192095, 0.8254750165191048]}.\n"
     ]
    },
    {
     "name": "stdout",
     "output_type": "stream",
     "text": [
      "The set cost function is ignored! LCB acquisition does not make sense with cost.\n",
      "ab\n"
     ]
    },
    {
     "name": "stderr",
     "output_type": "stream",
     "text": [
      "reconstraining parameters GP_regression.mul\n",
      "reconstraining parameters GP_regression.Gaussian_noise.variance\n",
      "[I 2019-04-13 02:59:05,362] Finished a trial resulted in value: -0.12495272853320649. Current best value is -0.2766159575247606 with parameters: {'a': 0.27382579097192095, 'b': 0.8254750165191048, 'ab': [0.27382579097192095, 0.8254750165191048]}.\n"
     ]
    },
    {
     "name": "stdout",
     "output_type": "stream",
     "text": [
      "The set cost function is ignored! LCB acquisition does not make sense with cost.\n",
      "ab\n"
     ]
    },
    {
     "name": "stderr",
     "output_type": "stream",
     "text": [
      "reconstraining parameters GP_regression.mul\n",
      "reconstraining parameters GP_regression.Gaussian_noise.variance\n",
      "[I 2019-04-13 02:59:14,797] Finished a trial resulted in value: -0.20560348904924786. Current best value is -0.2766159575247606 with parameters: {'a': 0.27382579097192095, 'b': 0.8254750165191048, 'ab': [0.27382579097192095, 0.8254750165191048]}.\n"
     ]
    },
    {
     "name": "stdout",
     "output_type": "stream",
     "text": [
      "The set cost function is ignored! LCB acquisition does not make sense with cost.\n",
      "ab\n"
     ]
    },
    {
     "name": "stderr",
     "output_type": "stream",
     "text": [
      "reconstraining parameters GP_regression.mul\n",
      "reconstraining parameters GP_regression.Gaussian_noise.variance\n",
      "[I 2019-04-13 02:59:26,635] Finished a trial resulted in value: 0.47964615189052806. Current best value is -0.2766159575247606 with parameters: {'a': 0.27382579097192095, 'b': 0.8254750165191048, 'ab': [0.27382579097192095, 0.8254750165191048]}.\n"
     ]
    },
    {
     "name": "stdout",
     "output_type": "stream",
     "text": [
      "The set cost function is ignored! LCB acquisition does not make sense with cost.\n",
      "ab\n"
     ]
    },
    {
     "name": "stderr",
     "output_type": "stream",
     "text": [
      "reconstraining parameters GP_regression.mul\n",
      "reconstraining parameters GP_regression.Gaussian_noise.variance\n",
      "[I 2019-04-13 02:59:35,619] Finished a trial resulted in value: -0.02525429884874006. Current best value is -0.2766159575247606 with parameters: {'a': 0.27382579097192095, 'b': 0.8254750165191048, 'ab': [0.27382579097192095, 0.8254750165191048]}.\n"
     ]
    },
    {
     "name": "stdout",
     "output_type": "stream",
     "text": [
      "The set cost function is ignored! LCB acquisition does not make sense with cost.\n",
      "ab\n"
     ]
    },
    {
     "name": "stderr",
     "output_type": "stream",
     "text": [
      "reconstraining parameters GP_regression.mul\n",
      "reconstraining parameters GP_regression.Gaussian_noise.variance\n",
      "[I 2019-04-13 02:59:46,443] Finished a trial resulted in value: -0.24072577823343833. Current best value is -0.2766159575247606 with parameters: {'a': 0.27382579097192095, 'b': 0.8254750165191048, 'ab': [0.27382579097192095, 0.8254750165191048]}.\n"
     ]
    },
    {
     "name": "stdout",
     "output_type": "stream",
     "text": [
      "The set cost function is ignored! LCB acquisition does not make sense with cost.\n",
      "ab\n"
     ]
    },
    {
     "name": "stderr",
     "output_type": "stream",
     "text": [
      "reconstraining parameters GP_regression.mul\n",
      "reconstraining parameters GP_regression.Gaussian_noise.variance\n",
      "[I 2019-04-13 02:59:56,780] Finished a trial resulted in value: -0.2643522676793506. Current best value is -0.2766159575247606 with parameters: {'a': 0.27382579097192095, 'b': 0.8254750165191048, 'ab': [0.27382579097192095, 0.8254750165191048]}.\n"
     ]
    },
    {
     "name": "stdout",
     "output_type": "stream",
     "text": [
      "The set cost function is ignored! LCB acquisition does not make sense with cost.\n",
      "ab\n"
     ]
    },
    {
     "name": "stderr",
     "output_type": "stream",
     "text": [
      "reconstraining parameters GP_regression.mul\n",
      "reconstraining parameters GP_regression.Gaussian_noise.variance\n",
      "[I 2019-04-13 03:00:06,938] Finished a trial resulted in value: -0.38345098658743. Current best value is -0.38345098658743 with parameters: {'a': 1.0, 'b': 0.0, 'ab': [1.0, 0.0]}.\n"
     ]
    },
    {
     "name": "stdout",
     "output_type": "stream",
     "text": [
      "The set cost function is ignored! LCB acquisition does not make sense with cost.\n",
      "ab\n"
     ]
    },
    {
     "name": "stderr",
     "output_type": "stream",
     "text": [
      "reconstraining parameters GP_regression.mul\n",
      "reconstraining parameters GP_regression.Gaussian_noise.variance\n",
      "[I 2019-04-13 03:00:17,460] Finished a trial resulted in value: -0.30688180460472264. Current best value is -0.38345098658743 with parameters: {'a': 1.0, 'b': 0.0, 'ab': [1.0, 0.0]}.\n"
     ]
    },
    {
     "name": "stdout",
     "output_type": "stream",
     "text": [
      "The set cost function is ignored! LCB acquisition does not make sense with cost.\n",
      "ab\n"
     ]
    },
    {
     "name": "stderr",
     "output_type": "stream",
     "text": [
      "reconstraining parameters GP_regression.mul\n",
      "reconstraining parameters GP_regression.Gaussian_noise.variance\n",
      "[I 2019-04-13 03:00:27,624] Finished a trial resulted in value: -0.2161615667588378. Current best value is -0.38345098658743 with parameters: {'a': 1.0, 'b': 0.0, 'ab': [1.0, 0.0]}.\n"
     ]
    },
    {
     "name": "stdout",
     "output_type": "stream",
     "text": [
      "The set cost function is ignored! LCB acquisition does not make sense with cost.\n",
      "ab\n"
     ]
    },
    {
     "name": "stderr",
     "output_type": "stream",
     "text": [
      "reconstraining parameters GP_regression.mul\n",
      "reconstraining parameters GP_regression.Gaussian_noise.variance\n",
      "[I 2019-04-13 03:00:39,479] Finished a trial resulted in value: -0.4836644801977632. Current best value is -0.4836644801977632 with parameters: {'a': 1.0, 'b': 0.0, 'ab': [1.0, 0.0]}.\n"
     ]
    },
    {
     "name": "stdout",
     "output_type": "stream",
     "text": [
      "The set cost function is ignored! LCB acquisition does not make sense with cost.\n",
      "ab\n"
     ]
    },
    {
     "name": "stderr",
     "output_type": "stream",
     "text": [
      "reconstraining parameters GP_regression.mul\n",
      "reconstraining parameters GP_regression.Gaussian_noise.variance\n",
      "[I 2019-04-13 03:00:51,002] Finished a trial resulted in value: -0.42757569349182567. Current best value is -0.4836644801977632 with parameters: {'a': 1.0, 'b': 0.0, 'ab': [1.0, 0.0]}.\n"
     ]
    },
    {
     "name": "stdout",
     "output_type": "stream",
     "text": [
      "The set cost function is ignored! LCB acquisition does not make sense with cost.\n",
      "ab\n"
     ]
    },
    {
     "name": "stderr",
     "output_type": "stream",
     "text": [
      "reconstraining parameters GP_regression.mul\n",
      "reconstraining parameters GP_regression.Gaussian_noise.variance\n",
      "[I 2019-04-13 03:01:01,974] Finished a trial resulted in value: -0.38175335825893725. Current best value is -0.4836644801977632 with parameters: {'a': 1.0, 'b': 0.0, 'ab': [1.0, 0.0]}.\n"
     ]
    },
    {
     "name": "stdout",
     "output_type": "stream",
     "text": [
      "The set cost function is ignored! LCB acquisition does not make sense with cost.\n",
      "ab\n"
     ]
    },
    {
     "name": "stderr",
     "output_type": "stream",
     "text": [
      "reconstraining parameters GP_regression.mul\n",
      "reconstraining parameters GP_regression.Gaussian_noise.variance\n",
      "[I 2019-04-13 03:01:12,904] Finished a trial resulted in value: -0.35579214904075207. Current best value is -0.4836644801977632 with parameters: {'a': 1.0, 'b': 0.0, 'ab': [1.0, 0.0]}.\n"
     ]
    },
    {
     "name": "stdout",
     "output_type": "stream",
     "text": [
      "The set cost function is ignored! LCB acquisition does not make sense with cost.\n",
      "ab\n"
     ]
    },
    {
     "name": "stderr",
     "output_type": "stream",
     "text": [
      "reconstraining parameters GP_regression.mul\n",
      "reconstraining parameters GP_regression.Gaussian_noise.variance\n",
      "[I 2019-04-13 03:01:25,130] Finished a trial resulted in value: -0.2768239699111865. Current best value is -0.4836644801977632 with parameters: {'a': 1.0, 'b': 0.0, 'ab': [1.0, 0.0]}.\n"
     ]
    },
    {
     "name": "stdout",
     "output_type": "stream",
     "text": [
      "The set cost function is ignored! LCB acquisition does not make sense with cost.\n",
      "ab\n"
     ]
    },
    {
     "name": "stderr",
     "output_type": "stream",
     "text": [
      "reconstraining parameters GP_regression.mul\n",
      "reconstraining parameters GP_regression.Gaussian_noise.variance\n",
      "[I 2019-04-13 03:01:35,954] Finished a trial resulted in value: -0.26080041515152896. Current best value is -0.4836644801977632 with parameters: {'a': 1.0, 'b': 0.0, 'ab': [1.0, 0.0]}.\n"
     ]
    },
    {
     "name": "stdout",
     "output_type": "stream",
     "text": [
      "The set cost function is ignored! LCB acquisition does not make sense with cost.\n",
      "ab\n"
     ]
    },
    {
     "name": "stderr",
     "output_type": "stream",
     "text": [
      "reconstraining parameters GP_regression.mul\n",
      "reconstraining parameters GP_regression.Gaussian_noise.variance\n",
      "[I 2019-04-13 03:01:47,766] Finished a trial resulted in value: -0.11680503986759358. Current best value is -0.4836644801977632 with parameters: {'a': 1.0, 'b': 0.0, 'ab': [1.0, 0.0]}.\n"
     ]
    },
    {
     "name": "stdout",
     "output_type": "stream",
     "text": [
      "The set cost function is ignored! LCB acquisition does not make sense with cost.\n",
      "ab\n"
     ]
    },
    {
     "name": "stderr",
     "output_type": "stream",
     "text": [
      "reconstraining parameters GP_regression.mul\n",
      "reconstraining parameters GP_regression.Gaussian_noise.variance\n",
      "[I 2019-04-13 03:01:58,073] Finished a trial resulted in value: -0.12992940435563405. Current best value is -0.4836644801977632 with parameters: {'a': 1.0, 'b': 0.0, 'ab': [1.0, 0.0]}.\n"
     ]
    },
    {
     "name": "stdout",
     "output_type": "stream",
     "text": [
      "The set cost function is ignored! LCB acquisition does not make sense with cost.\n",
      "ab\n"
     ]
    },
    {
     "name": "stderr",
     "output_type": "stream",
     "text": [
      "reconstraining parameters GP_regression.mul\n",
      "reconstraining parameters GP_regression.Gaussian_noise.variance\n",
      "[I 2019-04-13 03:02:07,892] Finished a trial resulted in value: 0.06487328069433701. Current best value is -0.4836644801977632 with parameters: {'a': 1.0, 'b': 0.0, 'ab': [1.0, 0.0]}.\n"
     ]
    },
    {
     "name": "stdout",
     "output_type": "stream",
     "text": [
      "The set cost function is ignored! LCB acquisition does not make sense with cost.\n",
      "ab\n"
     ]
    },
    {
     "name": "stderr",
     "output_type": "stream",
     "text": [
      "reconstraining parameters GP_regression.mul\n",
      "reconstraining parameters GP_regression.Gaussian_noise.variance\n",
      "[I 2019-04-13 03:02:17,317] Finished a trial resulted in value: 0.3531299592622951. Current best value is -0.4836644801977632 with parameters: {'a': 1.0, 'b': 0.0, 'ab': [1.0, 0.0]}.\n"
     ]
    },
    {
     "name": "stdout",
     "output_type": "stream",
     "text": [
      "The set cost function is ignored! LCB acquisition does not make sense with cost.\n",
      "ab\n"
     ]
    },
    {
     "name": "stderr",
     "output_type": "stream",
     "text": [
      "reconstraining parameters GP_regression.mul\n",
      "reconstraining parameters GP_regression.Gaussian_noise.variance\n",
      "[I 2019-04-13 03:02:27,841] Finished a trial resulted in value: 0.3195790994543659. Current best value is -0.4836644801977632 with parameters: {'a': 1.0, 'b': 0.0, 'ab': [1.0, 0.0]}.\n"
     ]
    },
    {
     "name": "stdout",
     "output_type": "stream",
     "text": [
      "The set cost function is ignored! LCB acquisition does not make sense with cost.\n",
      "ab\n"
     ]
    },
    {
     "name": "stderr",
     "output_type": "stream",
     "text": [
      "reconstraining parameters GP_regression.mul\n",
      "reconstraining parameters GP_regression.Gaussian_noise.variance\n",
      "[I 2019-04-13 03:02:37,332] Finished a trial resulted in value: 0.2743535597358747. Current best value is -0.4836644801977632 with parameters: {'a': 1.0, 'b': 0.0, 'ab': [1.0, 0.0]}.\n"
     ]
    },
    {
     "name": "stdout",
     "output_type": "stream",
     "text": [
      "The set cost function is ignored! LCB acquisition does not make sense with cost.\n",
      "ab\n"
     ]
    },
    {
     "name": "stderr",
     "output_type": "stream",
     "text": [
      "reconstraining parameters GP_regression.mul\n",
      "reconstraining parameters GP_regression.Gaussian_noise.variance\n",
      "[I 2019-04-13 03:02:46,808] Finished a trial resulted in value: 0.4396399709259211. Current best value is -0.4836644801977632 with parameters: {'a': 1.0, 'b': 0.0, 'ab': [1.0, 0.0]}.\n"
     ]
    },
    {
     "name": "stdout",
     "output_type": "stream",
     "text": [
      "The set cost function is ignored! LCB acquisition does not make sense with cost.\n",
      "ab\n"
     ]
    },
    {
     "name": "stderr",
     "output_type": "stream",
     "text": [
      "reconstraining parameters GP_regression.mul\n",
      "reconstraining parameters GP_regression.Gaussian_noise.variance\n",
      "[I 2019-04-13 03:02:56,182] Finished a trial resulted in value: 0.04577508686291285. Current best value is -0.4836644801977632 with parameters: {'a': 1.0, 'b': 0.0, 'ab': [1.0, 0.0]}.\n"
     ]
    },
    {
     "name": "stdout",
     "output_type": "stream",
     "text": [
      "The set cost function is ignored! LCB acquisition does not make sense with cost.\n",
      "ab\n"
     ]
    },
    {
     "name": "stderr",
     "output_type": "stream",
     "text": [
      "reconstraining parameters GP_regression.mul\n",
      "reconstraining parameters GP_regression.Gaussian_noise.variance\n",
      "[I 2019-04-13 03:03:11,760] Finished a trial resulted in value: 0.6076223864539038. Current best value is -0.4836644801977632 with parameters: {'a': 1.0, 'b': 0.0, 'ab': [1.0, 0.0]}.\n"
     ]
    },
    {
     "name": "stdout",
     "output_type": "stream",
     "text": [
      "The set cost function is ignored! LCB acquisition does not make sense with cost.\n",
      "ab\n"
     ]
    },
    {
     "name": "stderr",
     "output_type": "stream",
     "text": [
      "reconstraining parameters GP_regression.mul\n",
      "reconstraining parameters GP_regression.Gaussian_noise.variance\n",
      "[I 2019-04-13 03:03:22,834] Finished a trial resulted in value: 0.4390161826436756. Current best value is -0.4836644801977632 with parameters: {'a': 1.0, 'b': 0.0, 'ab': [1.0, 0.0]}.\n"
     ]
    },
    {
     "name": "stdout",
     "output_type": "stream",
     "text": [
      "The set cost function is ignored! LCB acquisition does not make sense with cost.\n",
      "ab\n"
     ]
    },
    {
     "name": "stderr",
     "output_type": "stream",
     "text": [
      "reconstraining parameters GP_regression.mul\n",
      "reconstraining parameters GP_regression.Gaussian_noise.variance\n",
      "[I 2019-04-13 03:03:32,358] Finished a trial resulted in value: 0.0005558234616345192. Current best value is -0.4836644801977632 with parameters: {'a': 1.0, 'b': 0.0, 'ab': [1.0, 0.0]}.\n"
     ]
    },
    {
     "name": "stdout",
     "output_type": "stream",
     "text": [
      "The set cost function is ignored! LCB acquisition does not make sense with cost.\n",
      "ab\n"
     ]
    },
    {
     "name": "stderr",
     "output_type": "stream",
     "text": [
      "reconstraining parameters GP_regression.mul\n",
      "reconstraining parameters GP_regression.Gaussian_noise.variance\n",
      "[I 2019-04-13 03:03:41,907] Finished a trial resulted in value: 0.5940324973487784. Current best value is -0.4836644801977632 with parameters: {'a': 1.0, 'b': 0.0, 'ab': [1.0, 0.0]}.\n"
     ]
    },
    {
     "name": "stdout",
     "output_type": "stream",
     "text": [
      "The set cost function is ignored! LCB acquisition does not make sense with cost.\n",
      "ab\n"
     ]
    },
    {
     "name": "stderr",
     "output_type": "stream",
     "text": [
      "reconstraining parameters GP_regression.mul\n",
      "reconstraining parameters GP_regression.Gaussian_noise.variance\n",
      "[I 2019-04-13 03:03:51,572] Finished a trial resulted in value: -0.05161364767989105. Current best value is -0.4836644801977632 with parameters: {'a': 1.0, 'b': 0.0, 'ab': [1.0, 0.0]}.\n"
     ]
    },
    {
     "name": "stdout",
     "output_type": "stream",
     "text": [
      "The set cost function is ignored! LCB acquisition does not make sense with cost.\n",
      "ab\n"
     ]
    },
    {
     "name": "stderr",
     "output_type": "stream",
     "text": [
      "reconstraining parameters GP_regression.mul\n",
      "reconstraining parameters GP_regression.Gaussian_noise.variance\n",
      "[I 2019-04-13 03:04:01,863] Finished a trial resulted in value: -0.0292819019631602. Current best value is -0.4836644801977632 with parameters: {'a': 1.0, 'b': 0.0, 'ab': [1.0, 0.0]}.\n"
     ]
    },
    {
     "name": "stdout",
     "output_type": "stream",
     "text": [
      "The set cost function is ignored! LCB acquisition does not make sense with cost.\n",
      "ab\n"
     ]
    },
    {
     "name": "stderr",
     "output_type": "stream",
     "text": [
      "reconstraining parameters GP_regression.mul\n",
      "reconstraining parameters GP_regression.Gaussian_noise.variance\n",
      "[I 2019-04-13 03:04:12,610] Finished a trial resulted in value: -0.2357513879934709. Current best value is -0.4836644801977632 with parameters: {'a': 1.0, 'b': 0.0, 'ab': [1.0, 0.0]}.\n"
     ]
    },
    {
     "name": "stdout",
     "output_type": "stream",
     "text": [
      "The set cost function is ignored! LCB acquisition does not make sense with cost.\n",
      "ab\n"
     ]
    },
    {
     "name": "stderr",
     "output_type": "stream",
     "text": [
      "reconstraining parameters GP_regression.mul\n",
      "reconstraining parameters GP_regression.Gaussian_noise.variance\n",
      "[I 2019-04-13 03:04:22,815] Finished a trial resulted in value: -0.12469380494011614. Current best value is -0.4836644801977632 with parameters: {'a': 1.0, 'b': 0.0, 'ab': [1.0, 0.0]}.\n"
     ]
    },
    {
     "name": "stdout",
     "output_type": "stream",
     "text": [
      "The set cost function is ignored! LCB acquisition does not make sense with cost.\n",
      "ab\n"
     ]
    },
    {
     "name": "stderr",
     "output_type": "stream",
     "text": [
      "reconstraining parameters GP_regression.mul\n",
      "reconstraining parameters GP_regression.Gaussian_noise.variance\n",
      "[I 2019-04-13 03:04:33,845] Finished a trial resulted in value: -0.24848943281637953. Current best value is -0.4836644801977632 with parameters: {'a': 1.0, 'b': 0.0, 'ab': [1.0, 0.0]}.\n"
     ]
    },
    {
     "name": "stdout",
     "output_type": "stream",
     "text": [
      "The set cost function is ignored! LCB acquisition does not make sense with cost.\n",
      "ab\n"
     ]
    },
    {
     "name": "stderr",
     "output_type": "stream",
     "text": [
      "reconstraining parameters GP_regression.mul\n",
      "reconstraining parameters GP_regression.Gaussian_noise.variance\n",
      "[I 2019-04-13 03:04:44,350] Finished a trial resulted in value: -0.34705933621796253. Current best value is -0.4836644801977632 with parameters: {'a': 1.0, 'b': 0.0, 'ab': [1.0, 0.0]}.\n"
     ]
    },
    {
     "name": "stdout",
     "output_type": "stream",
     "text": [
      "The set cost function is ignored! LCB acquisition does not make sense with cost.\n",
      "ab\n"
     ]
    },
    {
     "name": "stderr",
     "output_type": "stream",
     "text": [
      "reconstraining parameters GP_regression.mul\n",
      "reconstraining parameters GP_regression.Gaussian_noise.variance\n",
      "[I 2019-04-13 03:04:55,102] Finished a trial resulted in value: -0.44271224213601784. Current best value is -0.4836644801977632 with parameters: {'a': 1.0, 'b': 0.0, 'ab': [1.0, 0.0]}.\n"
     ]
    },
    {
     "name": "stdout",
     "output_type": "stream",
     "text": [
      "The set cost function is ignored! LCB acquisition does not make sense with cost.\n",
      "ab\n"
     ]
    },
    {
     "name": "stderr",
     "output_type": "stream",
     "text": [
      "reconstraining parameters GP_regression.mul\n",
      "reconstraining parameters GP_regression.Gaussian_noise.variance\n",
      "[I 2019-04-13 03:05:05,428] Finished a trial resulted in value: -0.21826141743145355. Current best value is -0.4836644801977632 with parameters: {'a': 1.0, 'b': 0.0, 'ab': [1.0, 0.0]}.\n"
     ]
    },
    {
     "name": "stdout",
     "output_type": "stream",
     "text": [
      "The set cost function is ignored! LCB acquisition does not make sense with cost.\n",
      "ab\n"
     ]
    },
    {
     "name": "stderr",
     "output_type": "stream",
     "text": [
      "reconstraining parameters GP_regression.mul\n",
      "reconstraining parameters GP_regression.Gaussian_noise.variance\n",
      "[I 2019-04-13 03:05:17,423] Finished a trial resulted in value: -0.21092299895932026. Current best value is -0.4836644801977632 with parameters: {'a': 1.0, 'b': 0.0, 'ab': [1.0, 0.0]}.\n"
     ]
    },
    {
     "name": "stdout",
     "output_type": "stream",
     "text": [
      "The set cost function is ignored! LCB acquisition does not make sense with cost.\n",
      "ab\n"
     ]
    },
    {
     "name": "stderr",
     "output_type": "stream",
     "text": [
      "reconstraining parameters GP_regression.mul\n",
      "reconstraining parameters GP_regression.Gaussian_noise.variance\n",
      "[I 2019-04-13 03:05:32,371] Finished a trial resulted in value: -0.34961012522503165. Current best value is -0.4836644801977632 with parameters: {'a': 1.0, 'b': 0.0, 'ab': [1.0, 0.0]}.\n"
     ]
    },
    {
     "name": "stdout",
     "output_type": "stream",
     "text": [
      "The set cost function is ignored! LCB acquisition does not make sense with cost.\n",
      "ab\n"
     ]
    },
    {
     "name": "stderr",
     "output_type": "stream",
     "text": [
      "reconstraining parameters GP_regression.mul\n",
      "reconstraining parameters GP_regression.Gaussian_noise.variance\n",
      "[I 2019-04-13 03:05:43,084] Finished a trial resulted in value: -0.2685547565021812. Current best value is -0.4836644801977632 with parameters: {'a': 1.0, 'b': 0.0, 'ab': [1.0, 0.0]}.\n"
     ]
    },
    {
     "name": "stdout",
     "output_type": "stream",
     "text": [
      "The set cost function is ignored! LCB acquisition does not make sense with cost.\n",
      "ab\n"
     ]
    },
    {
     "name": "stderr",
     "output_type": "stream",
     "text": [
      "reconstraining parameters GP_regression.mul\n",
      "reconstraining parameters GP_regression.Gaussian_noise.variance\n",
      "[I 2019-04-13 03:05:55,736] Finished a trial resulted in value: -0.1402886058007144. Current best value is -0.4836644801977632 with parameters: {'a': 1.0, 'b': 0.0, 'ab': [1.0, 0.0]}.\n"
     ]
    },
    {
     "name": "stdout",
     "output_type": "stream",
     "text": [
      "The set cost function is ignored! LCB acquisition does not make sense with cost.\n",
      "ab\n"
     ]
    },
    {
     "name": "stderr",
     "output_type": "stream",
     "text": [
      "reconstraining parameters GP_regression.mul\n",
      "reconstraining parameters GP_regression.Gaussian_noise.variance\n",
      "[I 2019-04-13 03:06:11,113] Finished a trial resulted in value: 0.32867602421331665. Current best value is -0.4836644801977632 with parameters: {'a': 1.0, 'b': 0.0, 'ab': [1.0, 0.0]}.\n"
     ]
    },
    {
     "name": "stdout",
     "output_type": "stream",
     "text": [
      "The set cost function is ignored! LCB acquisition does not make sense with cost.\n",
      "ab\n"
     ]
    },
    {
     "name": "stderr",
     "output_type": "stream",
     "text": [
      "reconstraining parameters GP_regression.mul\n",
      "reconstraining parameters GP_regression.Gaussian_noise.variance\n",
      "[I 2019-04-13 03:06:21,249] Finished a trial resulted in value: 0.4821804838464435. Current best value is -0.4836644801977632 with parameters: {'a': 1.0, 'b': 0.0, 'ab': [1.0, 0.0]}.\n"
     ]
    },
    {
     "name": "stdout",
     "output_type": "stream",
     "text": [
      "The set cost function is ignored! LCB acquisition does not make sense with cost.\n",
      "ab\n"
     ]
    },
    {
     "name": "stderr",
     "output_type": "stream",
     "text": [
      "reconstraining parameters GP_regression.mul\n",
      "reconstraining parameters GP_regression.Gaussian_noise.variance\n",
      "[I 2019-04-13 03:06:31,635] Finished a trial resulted in value: 0.5072370439294497. Current best value is -0.4836644801977632 with parameters: {'a': 1.0, 'b': 0.0, 'ab': [1.0, 0.0]}.\n"
     ]
    },
    {
     "name": "stdout",
     "output_type": "stream",
     "text": [
      "The set cost function is ignored! LCB acquisition does not make sense with cost.\n",
      "ab\n"
     ]
    },
    {
     "name": "stderr",
     "output_type": "stream",
     "text": [
      "reconstraining parameters GP_regression.mul\n",
      "reconstraining parameters GP_regression.Gaussian_noise.variance\n",
      "[I 2019-04-13 03:06:41,736] Finished a trial resulted in value: -0.2582396911288159. Current best value is -0.4836644801977632 with parameters: {'a': 1.0, 'b': 0.0, 'ab': [1.0, 0.0]}.\n"
     ]
    },
    {
     "name": "stdout",
     "output_type": "stream",
     "text": [
      "The set cost function is ignored! LCB acquisition does not make sense with cost.\n",
      "ab\n"
     ]
    },
    {
     "name": "stderr",
     "output_type": "stream",
     "text": [
      "reconstraining parameters GP_regression.mul\n",
      "reconstraining parameters GP_regression.Gaussian_noise.variance\n",
      "[I 2019-04-13 03:06:52,961] Finished a trial resulted in value: -0.17818450334510033. Current best value is -0.4836644801977632 with parameters: {'a': 1.0, 'b': 0.0, 'ab': [1.0, 0.0]}.\n"
     ]
    },
    {
     "name": "stdout",
     "output_type": "stream",
     "text": [
      "The set cost function is ignored! LCB acquisition does not make sense with cost.\n",
      "ab\n"
     ]
    },
    {
     "name": "stderr",
     "output_type": "stream",
     "text": [
      "reconstraining parameters GP_regression.mul\n",
      "reconstraining parameters GP_regression.Gaussian_noise.variance\n",
      "[I 2019-04-13 03:07:03,443] Finished a trial resulted in value: 0.6223388257447433. Current best value is -0.4836644801977632 with parameters: {'a': 1.0, 'b': 0.0, 'ab': [1.0, 0.0]}.\n"
     ]
    },
    {
     "name": "stdout",
     "output_type": "stream",
     "text": [
      "The set cost function is ignored! LCB acquisition does not make sense with cost.\n",
      "ab\n"
     ]
    },
    {
     "name": "stderr",
     "output_type": "stream",
     "text": [
      "reconstraining parameters GP_regression.mul\n",
      "reconstraining parameters GP_regression.Gaussian_noise.variance\n",
      "[I 2019-04-13 03:07:13,759] Finished a trial resulted in value: -0.5365616109219663. Current best value is -0.5365616109219663 with parameters: {'a': 0.0, 'b': 0.0, 'ab': [0.0, 0.0]}.\n"
     ]
    },
    {
     "name": "stdout",
     "output_type": "stream",
     "text": [
      "The set cost function is ignored! LCB acquisition does not make sense with cost.\n",
      "ab\n"
     ]
    },
    {
     "name": "stderr",
     "output_type": "stream",
     "text": [
      "reconstraining parameters GP_regression.mul\n",
      "reconstraining parameters GP_regression.Gaussian_noise.variance\n",
      "[I 2019-04-13 03:07:24,094] Finished a trial resulted in value: -0.569602814142956. Current best value is -0.569602814142956 with parameters: {'a': 0.0, 'b': 0.0, 'ab': [0.0, 0.0]}.\n"
     ]
    },
    {
     "name": "stdout",
     "output_type": "stream",
     "text": [
      "The set cost function is ignored! LCB acquisition does not make sense with cost.\n",
      "ab\n"
     ]
    },
    {
     "name": "stderr",
     "output_type": "stream",
     "text": [
      "reconstraining parameters GP_regression.mul\n",
      "reconstraining parameters GP_regression.Gaussian_noise.variance\n",
      "[I 2019-04-13 03:07:34,454] Finished a trial resulted in value: -0.6822988871425443. Current best value is -0.6822988871425443 with parameters: {'a': 0.0, 'b': 0.0, 'ab': [0.0, 0.0]}.\n"
     ]
    },
    {
     "name": "stdout",
     "output_type": "stream",
     "text": [
      "The set cost function is ignored! LCB acquisition does not make sense with cost.\n",
      "ab\n"
     ]
    },
    {
     "name": "stderr",
     "output_type": "stream",
     "text": [
      "reconstraining parameters GP_regression.mul\n",
      "reconstraining parameters GP_regression.Gaussian_noise.variance\n",
      "[I 2019-04-13 03:07:44,901] Finished a trial resulted in value: -0.8052185889094201. Current best value is -0.8052185889094201 with parameters: {'a': 0.0, 'b': 0.0, 'ab': [0.0, 0.0]}.\n"
     ]
    },
    {
     "name": "stdout",
     "output_type": "stream",
     "text": [
      "The set cost function is ignored! LCB acquisition does not make sense with cost.\n",
      "ab\n"
     ]
    },
    {
     "name": "stderr",
     "output_type": "stream",
     "text": [
      "reconstraining parameters GP_regression.mul\n",
      "reconstraining parameters GP_regression.Gaussian_noise.variance\n",
      "[I 2019-04-13 03:07:56,674] Finished a trial resulted in value: -0.8072430920507878. Current best value is -0.8072430920507878 with parameters: {'a': 0.0, 'b': 0.0, 'ab': [0.0, 0.0]}.\n"
     ]
    },
    {
     "name": "stdout",
     "output_type": "stream",
     "text": [
      "The set cost function is ignored! LCB acquisition does not make sense with cost.\n",
      "ab\n"
     ]
    },
    {
     "name": "stderr",
     "output_type": "stream",
     "text": [
      "reconstraining parameters GP_regression.mul\n",
      "reconstraining parameters GP_regression.Gaussian_noise.variance\n",
      "[I 2019-04-13 03:08:08,398] Finished a trial resulted in value: -0.773661194805463. Current best value is -0.8072430920507878 with parameters: {'a': 0.0, 'b': 0.0, 'ab': [0.0, 0.0]}.\n"
     ]
    },
    {
     "name": "stdout",
     "output_type": "stream",
     "text": [
      "The set cost function is ignored! LCB acquisition does not make sense with cost.\n",
      "ab\n"
     ]
    },
    {
     "name": "stderr",
     "output_type": "stream",
     "text": [
      "reconstraining parameters GP_regression.mul\n",
      "reconstraining parameters GP_regression.Gaussian_noise.variance\n",
      "[I 2019-04-13 03:08:20,303] Finished a trial resulted in value: -0.701463567970829. Current best value is -0.8072430920507878 with parameters: {'a': 0.0, 'b': 0.0, 'ab': [0.0, 0.0]}.\n"
     ]
    },
    {
     "name": "stdout",
     "output_type": "stream",
     "text": [
      "The set cost function is ignored! LCB acquisition does not make sense with cost.\n",
      "ab\n"
     ]
    },
    {
     "name": "stderr",
     "output_type": "stream",
     "text": [
      "reconstraining parameters GP_regression.mul\n",
      "reconstraining parameters GP_regression.Gaussian_noise.variance\n",
      "[I 2019-04-13 03:08:32,457] Finished a trial resulted in value: -0.6011521265940745. Current best value is -0.8072430920507878 with parameters: {'a': 0.0, 'b': 0.0, 'ab': [0.0, 0.0]}.\n"
     ]
    },
    {
     "name": "stdout",
     "output_type": "stream",
     "text": [
      "The set cost function is ignored! LCB acquisition does not make sense with cost.\n",
      "ab\n"
     ]
    },
    {
     "name": "stderr",
     "output_type": "stream",
     "text": [
      "reconstraining parameters GP_regression.mul\n",
      "reconstraining parameters GP_regression.Gaussian_noise.variance\n",
      "[I 2019-04-13 03:08:45,168] Finished a trial resulted in value: -0.7529682884143136. Current best value is -0.8072430920507878 with parameters: {'a': 0.0, 'b': 0.0, 'ab': [0.0, 0.0]}.\n"
     ]
    },
    {
     "name": "stdout",
     "output_type": "stream",
     "text": [
      "The set cost function is ignored! LCB acquisition does not make sense with cost.\n",
      "ab\n"
     ]
    },
    {
     "name": "stderr",
     "output_type": "stream",
     "text": [
      "reconstraining parameters GP_regression.mul\n",
      "reconstraining parameters GP_regression.Gaussian_noise.variance\n",
      "[I 2019-04-13 03:08:58,001] Finished a trial resulted in value: -0.6777497166909258. Current best value is -0.8072430920507878 with parameters: {'a': 0.0, 'b': 0.0, 'ab': [0.0, 0.0]}.\n"
     ]
    },
    {
     "name": "stdout",
     "output_type": "stream",
     "text": [
      "The set cost function is ignored! LCB acquisition does not make sense with cost.\n",
      "ab\n"
     ]
    },
    {
     "name": "stderr",
     "output_type": "stream",
     "text": [
      "reconstraining parameters GP_regression.mul\n",
      "reconstraining parameters GP_regression.Gaussian_noise.variance\n",
      "[I 2019-04-13 03:09:10,797] Finished a trial resulted in value: -0.6309241440763421. Current best value is -0.8072430920507878 with parameters: {'a': 0.0, 'b': 0.0, 'ab': [0.0, 0.0]}.\n"
     ]
    },
    {
     "name": "stdout",
     "output_type": "stream",
     "text": [
      "The set cost function is ignored! LCB acquisition does not make sense with cost.\n",
      "ab\n"
     ]
    },
    {
     "name": "stderr",
     "output_type": "stream",
     "text": [
      "reconstraining parameters GP_regression.mul\n",
      "reconstraining parameters GP_regression.Gaussian_noise.variance\n",
      "[I 2019-04-13 03:09:23,734] Finished a trial resulted in value: -0.6620773146503114. Current best value is -0.8072430920507878 with parameters: {'a': 0.0, 'b': 0.0, 'ab': [0.0, 0.0]}.\n"
     ]
    },
    {
     "name": "stdout",
     "output_type": "stream",
     "text": [
      "The set cost function is ignored! LCB acquisition does not make sense with cost.\n",
      "ab\n"
     ]
    },
    {
     "name": "stderr",
     "output_type": "stream",
     "text": [
      "reconstraining parameters GP_regression.mul\n",
      "reconstraining parameters GP_regression.Gaussian_noise.variance\n",
      "[I 2019-04-13 03:09:36,657] Finished a trial resulted in value: -0.7462042211204654. Current best value is -0.8072430920507878 with parameters: {'a': 0.0, 'b': 0.0, 'ab': [0.0, 0.0]}.\n"
     ]
    },
    {
     "name": "stdout",
     "output_type": "stream",
     "text": [
      "The set cost function is ignored! LCB acquisition does not make sense with cost.\n",
      "ab\n"
     ]
    },
    {
     "name": "stderr",
     "output_type": "stream",
     "text": [
      "reconstraining parameters GP_regression.mul\n",
      "reconstraining parameters GP_regression.Gaussian_noise.variance\n",
      "[I 2019-04-13 03:09:49,780] Finished a trial resulted in value: -0.7687011749311273. Current best value is -0.8072430920507878 with parameters: {'a': 0.0, 'b': 0.0, 'ab': [0.0, 0.0]}.\n"
     ]
    },
    {
     "name": "stdout",
     "output_type": "stream",
     "text": [
      "The set cost function is ignored! LCB acquisition does not make sense with cost.\n",
      "ab\n"
     ]
    },
    {
     "name": "stderr",
     "output_type": "stream",
     "text": [
      "reconstraining parameters GP_regression.mul\n",
      "reconstraining parameters GP_regression.Gaussian_noise.variance\n",
      "[I 2019-04-13 03:10:02,840] Finished a trial resulted in value: -0.6697096920990291. Current best value is -0.8072430920507878 with parameters: {'a': 0.0, 'b': 0.0, 'ab': [0.0, 0.0]}.\n"
     ]
    },
    {
     "name": "stdout",
     "output_type": "stream",
     "text": [
      "The set cost function is ignored! LCB acquisition does not make sense with cost.\n",
      "ab\n"
     ]
    },
    {
     "name": "stderr",
     "output_type": "stream",
     "text": [
      "reconstraining parameters GP_regression.mul\n",
      "reconstraining parameters GP_regression.Gaussian_noise.variance\n",
      "[I 2019-04-13 03:10:16,008] Finished a trial resulted in value: -0.7012603339272263. Current best value is -0.8072430920507878 with parameters: {'a': 0.0, 'b': 0.0, 'ab': [0.0, 0.0]}.\n"
     ]
    },
    {
     "name": "stdout",
     "output_type": "stream",
     "text": [
      "The set cost function is ignored! LCB acquisition does not make sense with cost.\n",
      "ab\n"
     ]
    },
    {
     "name": "stderr",
     "output_type": "stream",
     "text": [
      "reconstraining parameters GP_regression.mul\n",
      "reconstraining parameters GP_regression.Gaussian_noise.variance\n",
      "[I 2019-04-13 03:10:29,371] Finished a trial resulted in value: -0.7673383627393481. Current best value is -0.8072430920507878 with parameters: {'a': 0.0, 'b': 0.0, 'ab': [0.0, 0.0]}.\n"
     ]
    },
    {
     "name": "stdout",
     "output_type": "stream",
     "text": [
      "The set cost function is ignored! LCB acquisition does not make sense with cost.\n",
      "ab\n"
     ]
    },
    {
     "name": "stderr",
     "output_type": "stream",
     "text": [
      "reconstraining parameters GP_regression.mul\n",
      "reconstraining parameters GP_regression.Gaussian_noise.variance\n",
      "[I 2019-04-13 03:10:42,697] Finished a trial resulted in value: -0.7061989077085271. Current best value is -0.8072430920507878 with parameters: {'a': 0.0, 'b': 0.0, 'ab': [0.0, 0.0]}.\n"
     ]
    },
    {
     "name": "stdout",
     "output_type": "stream",
     "text": [
      "The set cost function is ignored! LCB acquisition does not make sense with cost.\n",
      "ab\n"
     ]
    },
    {
     "name": "stderr",
     "output_type": "stream",
     "text": [
      "reconstraining parameters GP_regression.mul\n",
      "reconstraining parameters GP_regression.Gaussian_noise.variance\n",
      "[I 2019-04-13 03:10:56,125] Finished a trial resulted in value: -0.7239726022002563. Current best value is -0.8072430920507878 with parameters: {'a': 0.0, 'b': 0.0, 'ab': [0.0, 0.0]}.\n"
     ]
    },
    {
     "name": "stdout",
     "output_type": "stream",
     "text": [
      "The set cost function is ignored! LCB acquisition does not make sense with cost.\n",
      "ab\n"
     ]
    },
    {
     "name": "stderr",
     "output_type": "stream",
     "text": [
      "reconstraining parameters GP_regression.mul\n",
      "reconstraining parameters GP_regression.Gaussian_noise.variance\n",
      "[I 2019-04-13 03:11:09,598] Finished a trial resulted in value: -0.8139741365542604. Current best value is -0.8139741365542604 with parameters: {'a': 0.0, 'b': 0.0, 'ab': [0.0, 0.0]}.\n"
     ]
    },
    {
     "name": "stdout",
     "output_type": "stream",
     "text": [
      "The set cost function is ignored! LCB acquisition does not make sense with cost.\n",
      "ab\n"
     ]
    },
    {
     "name": "stderr",
     "output_type": "stream",
     "text": [
      "reconstraining parameters GP_regression.mul\n",
      "reconstraining parameters GP_regression.Gaussian_noise.variance\n",
      "[I 2019-04-13 03:11:23,180] Finished a trial resulted in value: -0.959963185136748. Current best value is -0.959963185136748 with parameters: {'a': 0.0, 'b': 0.0, 'ab': [0.0, 0.0]}.\n"
     ]
    },
    {
     "name": "stdout",
     "output_type": "stream",
     "text": [
      "The set cost function is ignored! LCB acquisition does not make sense with cost.\n",
      "ab\n"
     ]
    },
    {
     "name": "stderr",
     "output_type": "stream",
     "text": [
      "reconstraining parameters GP_regression.mul\n",
      "reconstraining parameters GP_regression.Gaussian_noise.variance\n",
      "[I 2019-04-13 03:11:36,772] Finished a trial resulted in value: -0.7977043300366057. Current best value is -0.959963185136748 with parameters: {'a': 0.0, 'b': 0.0, 'ab': [0.0, 0.0]}.\n"
     ]
    },
    {
     "name": "stdout",
     "output_type": "stream",
     "text": [
      "The set cost function is ignored! LCB acquisition does not make sense with cost.\n",
      "ab\n"
     ]
    },
    {
     "name": "stderr",
     "output_type": "stream",
     "text": [
      "reconstraining parameters GP_regression.mul\n",
      "reconstraining parameters GP_regression.Gaussian_noise.variance\n",
      "[I 2019-04-13 03:11:50,520] Finished a trial resulted in value: -0.8717167304507016. Current best value is -0.959963185136748 with parameters: {'a': 0.0, 'b': 0.0, 'ab': [0.0, 0.0]}.\n"
     ]
    },
    {
     "name": "stdout",
     "output_type": "stream",
     "text": [
      "The set cost function is ignored! LCB acquisition does not make sense with cost.\n",
      "ab\n"
     ]
    },
    {
     "name": "stderr",
     "output_type": "stream",
     "text": [
      "reconstraining parameters GP_regression.mul\n",
      "reconstraining parameters GP_regression.Gaussian_noise.variance\n",
      "[I 2019-04-13 03:12:04,197] Finished a trial resulted in value: -0.7761550060182696. Current best value is -0.959963185136748 with parameters: {'a': 0.0, 'b': 0.0, 'ab': [0.0, 0.0]}.\n"
     ]
    },
    {
     "name": "stdout",
     "output_type": "stream",
     "text": [
      "The set cost function is ignored! LCB acquisition does not make sense with cost.\n",
      "ab\n"
     ]
    },
    {
     "name": "stderr",
     "output_type": "stream",
     "text": [
      "reconstraining parameters GP_regression.mul\n",
      "reconstraining parameters GP_regression.Gaussian_noise.variance\n",
      "[I 2019-04-13 03:12:18,892] Finished a trial resulted in value: -0.7868376835423899. Current best value is -0.959963185136748 with parameters: {'a': 0.0, 'b': 0.0, 'ab': [0.0, 0.0]}.\n"
     ]
    },
    {
     "name": "stdout",
     "output_type": "stream",
     "text": [
      "The set cost function is ignored! LCB acquisition does not make sense with cost.\n",
      "ab\n"
     ]
    },
    {
     "name": "stderr",
     "output_type": "stream",
     "text": [
      "reconstraining parameters GP_regression.mul\n",
      "reconstraining parameters GP_regression.Gaussian_noise.variance\n",
      "[I 2019-04-13 03:15:03,788] Finished a trial resulted in value: -0.9726638913599537. Current best value is -0.9726638913599537 with parameters: {'a': 0.0, 'b': 0.0, 'ab': [0.0, 0.0]}.\n"
     ]
    },
    {
     "name": "stdout",
     "output_type": "stream",
     "text": [
      "The set cost function is ignored! LCB acquisition does not make sense with cost.\n",
      "ab\n"
     ]
    },
    {
     "name": "stderr",
     "output_type": "stream",
     "text": [
      "reconstraining parameters GP_regression.mul\n",
      "reconstraining parameters GP_regression.Gaussian_noise.variance\n",
      "[I 2019-04-13 03:15:19,278] Finished a trial resulted in value: -0.9129840046212205. Current best value is -0.9726638913599537 with parameters: {'a': 0.0, 'b': 0.0, 'ab': [0.0, 0.0]}.\n"
     ]
    },
    {
     "name": "stdout",
     "output_type": "stream",
     "text": [
      "The set cost function is ignored! LCB acquisition does not make sense with cost.\n",
      "ab\n"
     ]
    },
    {
     "name": "stderr",
     "output_type": "stream",
     "text": [
      "reconstraining parameters GP_regression.mul\n",
      "reconstraining parameters GP_regression.Gaussian_noise.variance\n",
      "[I 2019-04-13 03:15:33,528] Finished a trial resulted in value: -0.9392705521859468. Current best value is -0.9726638913599537 with parameters: {'a': 0.0, 'b': 0.0, 'ab': [0.0, 0.0]}.\n"
     ]
    },
    {
     "name": "stdout",
     "output_type": "stream",
     "text": [
      "The set cost function is ignored! LCB acquisition does not make sense with cost.\n",
      "ab\n"
     ]
    },
    {
     "name": "stderr",
     "output_type": "stream",
     "text": [
      "reconstraining parameters GP_regression.mul\n",
      "reconstraining parameters GP_regression.Gaussian_noise.variance\n",
      "[I 2019-04-13 03:15:48,709] Finished a trial resulted in value: -1.0078241032123614. Current best value is -1.0078241032123614 with parameters: {'a': 0.0, 'b': 0.0, 'ab': [0.0, 0.0]}.\n"
     ]
    },
    {
     "name": "stdout",
     "output_type": "stream",
     "text": [
      "The set cost function is ignored! LCB acquisition does not make sense with cost.\n",
      "ab\n"
     ]
    },
    {
     "name": "stderr",
     "output_type": "stream",
     "text": [
      "reconstraining parameters GP_regression.mul\n",
      "reconstraining parameters GP_regression.Gaussian_noise.variance\n",
      "[I 2019-04-13 03:16:02,812] Finished a trial resulted in value: -1.0770989828500603. Current best value is -1.0770989828500603 with parameters: {'a': 0.0, 'b': 0.0, 'ab': [0.0, 0.0]}.\n"
     ]
    },
    {
     "name": "stdout",
     "output_type": "stream",
     "text": [
      "The set cost function is ignored! LCB acquisition does not make sense with cost.\n",
      "ab\n"
     ]
    },
    {
     "name": "stderr",
     "output_type": "stream",
     "text": [
      "reconstraining parameters GP_regression.mul\n",
      "reconstraining parameters GP_regression.Gaussian_noise.variance\n",
      "[I 2019-04-13 03:16:17,635] Finished a trial resulted in value: -1.1478602155881237. Current best value is -1.1478602155881237 with parameters: {'a': 0.0, 'b': 0.0, 'ab': [0.0, 0.0]}.\n"
     ]
    },
    {
     "name": "stdout",
     "output_type": "stream",
     "text": [
      "The set cost function is ignored! LCB acquisition does not make sense with cost.\n",
      "ab\n"
     ]
    },
    {
     "name": "stderr",
     "output_type": "stream",
     "text": [
      "reconstraining parameters GP_regression.mul\n",
      "reconstraining parameters GP_regression.Gaussian_noise.variance\n",
      "[I 2019-04-13 03:16:31,946] Finished a trial resulted in value: -0.9675587986192269. Current best value is -1.1478602155881237 with parameters: {'a': 0.0, 'b': 0.0, 'ab': [0.0, 0.0]}.\n"
     ]
    },
    {
     "name": "stdout",
     "output_type": "stream",
     "text": [
      "The set cost function is ignored! LCB acquisition does not make sense with cost.\n",
      "ab\n"
     ]
    },
    {
     "name": "stderr",
     "output_type": "stream",
     "text": [
      "reconstraining parameters GP_regression.mul\n",
      "reconstraining parameters GP_regression.Gaussian_noise.variance\n",
      "[I 2019-04-13 03:16:46,974] Finished a trial resulted in value: -1.072754556456657. Current best value is -1.1478602155881237 with parameters: {'a': 0.0, 'b': 0.0, 'ab': [0.0, 0.0]}.\n"
     ]
    },
    {
     "name": "stdout",
     "output_type": "stream",
     "text": [
      "The set cost function is ignored! LCB acquisition does not make sense with cost.\n",
      "ab\n"
     ]
    },
    {
     "name": "stderr",
     "output_type": "stream",
     "text": [
      "reconstraining parameters GP_regression.mul\n",
      "reconstraining parameters GP_regression.Gaussian_noise.variance\n",
      "[I 2019-04-13 03:17:01,615] Finished a trial resulted in value: -1.0950808428317498. Current best value is -1.1478602155881237 with parameters: {'a': 0.0, 'b': 0.0, 'ab': [0.0, 0.0]}.\n"
     ]
    },
    {
     "name": "stdout",
     "output_type": "stream",
     "text": [
      "The set cost function is ignored! LCB acquisition does not make sense with cost.\n",
      "ab\n"
     ]
    },
    {
     "name": "stderr",
     "output_type": "stream",
     "text": [
      "reconstraining parameters GP_regression.mul\n",
      "reconstraining parameters GP_regression.Gaussian_noise.variance\n",
      "[I 2019-04-13 03:17:16,074] Finished a trial resulted in value: -1.1646299503138402. Current best value is -1.1646299503138402 with parameters: {'a': 0.0, 'b': 0.0, 'ab': [0.0, 0.0]}.\n"
     ]
    },
    {
     "name": "stdout",
     "output_type": "stream",
     "text": [
      "The set cost function is ignored! LCB acquisition does not make sense with cost.\n",
      "ab\n"
     ]
    },
    {
     "name": "stderr",
     "output_type": "stream",
     "text": [
      "reconstraining parameters GP_regression.mul\n",
      "reconstraining parameters GP_regression.Gaussian_noise.variance\n"
     ]
    }
   ],
   "source": [
    "sampler_dtv = optuna.samplers.DTVGPSampler()\n",
    "study_rbf_dtv = optuna.create_study(sampler=sampler_dtv)\n",
    "study_rbf_dtv.optimize(lambda t: - objevtive_rbf(t), n_trials=n_trials)"
   ]
  },
  {
   "cell_type": "code",
   "execution_count": 7,
   "metadata": {},
   "outputs": [
    {
     "name": "stderr",
     "output_type": "stream",
     "text": [
      "[I 2019-04-13 18:29:30,649] Finished a trial resulted in value: -0.11172461068464734. Current best value is -0.11172461068464734 with parameters: {'a': 0.3375694856905729, 'b': 0.16459973157402707, 'ab': [0.3375694856905729, 0.16459973157402707]}.\n",
      "[I 2019-04-13 18:29:30,653] Finished a trial resulted in value: -0.07565284287115409. Current best value is -0.11172461068464734 with parameters: {'a': 0.3375694856905729, 'b': 0.16459973157402707, 'ab': [0.3375694856905729, 0.16459973157402707]}.\n",
      "[I 2019-04-13 18:29:30,658] Finished a trial resulted in value: 0.167701489552076. Current best value is -0.11172461068464734 with parameters: {'a': 0.3375694856905729, 'b': 0.16459973157402707, 'ab': [0.3375694856905729, 0.16459973157402707]}.\n",
      "[I 2019-04-13 18:29:30,665] Finished a trial resulted in value: -0.2026575480780704. Current best value is -0.2026575480780704 with parameters: {'a': 0.31264057482552876, 'b': 0.8911898956169202, 'ab': [0.31264057482552876, 0.8911898956169202]}.\n",
      "[I 2019-04-13 18:29:30,671] Finished a trial resulted in value: -0.23773146537151232. Current best value is -0.23773146537151232 with parameters: {'a': 0.7373697302079636, 'b': 0.6084934015633068, 'ab': [0.7373697302079636, 0.6084934015633068]}.\n",
      "[I 2019-04-13 18:29:30,676] Finished a trial resulted in value: 0.29332262003333104. Current best value is -0.23773146537151232 with parameters: {'a': 0.7373697302079636, 'b': 0.6084934015633068, 'ab': [0.7373697302079636, 0.6084934015633068]}.\n",
      "[I 2019-04-13 18:29:30,685] Finished a trial resulted in value: -0.3227996458217171. Current best value is -0.3227996458217171 with parameters: {'a': 0.2013451665182867, 'b': 0.019837249096945175, 'ab': [0.2013451665182867, 0.019837249096945175]}.\n",
      "[I 2019-04-13 18:29:30,692] Finished a trial resulted in value: -0.2288861655595722. Current best value is -0.3227996458217171 with parameters: {'a': 0.2013451665182867, 'b': 0.019837249096945175, 'ab': [0.2013451665182867, 0.019837249096945175]}.\n",
      "[I 2019-04-13 18:29:30,701] Finished a trial resulted in value: 0.46483228089072126. Current best value is -0.3227996458217171 with parameters: {'a': 0.2013451665182867, 'b': 0.019837249096945175, 'ab': [0.2013451665182867, 0.019837249096945175]}.\n",
      "[I 2019-04-13 18:29:30,709] Finished a trial resulted in value: 0.10345816798941951. Current best value is -0.3227996458217171 with parameters: {'a': 0.2013451665182867, 'b': 0.019837249096945175, 'ab': [0.2013451665182867, 0.019837249096945175]}.\n",
      "reconstraining parameters GP_regression.mul\n",
      "reconstraining parameters GP_regression.Gaussian_noise.variance\n",
      "[I 2019-04-13 18:31:19,385] Finished a trial resulted in value: 0.5844482199713021. Current best value is -0.3227996458217171 with parameters: {'a': 0.2013451665182867, 'b': 0.019837249096945175, 'ab': [0.2013451665182867, 0.019837249096945175]}.\n",
      "reconstraining parameters GP_regression.mul\n",
      "reconstraining parameters GP_regression.Gaussian_noise.variance\n",
      "[I 2019-04-13 18:32:37,109] Finished a trial resulted in value: 0.606303154731186. Current best value is -0.3227996458217171 with parameters: {'a': 0.2013451665182867, 'b': 0.019837249096945175, 'ab': [0.2013451665182867, 0.019837249096945175]}.\n",
      "reconstraining parameters GP_regression.mul\n",
      "reconstraining parameters GP_regression.Gaussian_noise.variance\n",
      "[I 2019-04-13 18:34:05,476] Finished a trial resulted in value: 0.39693671881473946. Current best value is -0.3227996458217171 with parameters: {'a': 0.2013451665182867, 'b': 0.019837249096945175, 'ab': [0.2013451665182867, 0.019837249096945175]}.\n",
      "reconstraining parameters GP_regression.mul\n",
      "reconstraining parameters GP_regression.Gaussian_noise.variance\n",
      "[I 2019-04-13 18:35:34,459] Finished a trial resulted in value: 0.10872646927174064. Current best value is -0.3227996458217171 with parameters: {'a': 0.2013451665182867, 'b': 0.019837249096945175, 'ab': [0.2013451665182867, 0.019837249096945175]}.\n",
      "reconstraining parameters GP_regression.mul\n",
      "reconstraining parameters GP_regression.Gaussian_noise.variance\n",
      "[I 2019-04-13 18:36:58,914] Finished a trial resulted in value: 0.19715285059635246. Current best value is -0.3227996458217171 with parameters: {'a': 0.2013451665182867, 'b': 0.019837249096945175, 'ab': [0.2013451665182867, 0.019837249096945175]}.\n",
      "reconstraining parameters GP_regression.mul\n",
      "reconstraining parameters GP_regression.Gaussian_noise.variance\n",
      "[I 2019-04-13 18:38:15,279] Finished a trial resulted in value: 0.12127146721998412. Current best value is -0.3227996458217171 with parameters: {'a': 0.2013451665182867, 'b': 0.019837249096945175, 'ab': [0.2013451665182867, 0.019837249096945175]}.\n",
      "reconstraining parameters GP_regression.mul\n",
      "reconstraining parameters GP_regression.Gaussian_noise.variance\n",
      "[I 2019-04-13 18:39:41,274] Finished a trial resulted in value: 0.07893059808377635. Current best value is -0.3227996458217171 with parameters: {'a': 0.2013451665182867, 'b': 0.019837249096945175, 'ab': [0.2013451665182867, 0.019837249096945175]}.\n",
      "reconstraining parameters GP_regression.mul\n",
      "reconstraining parameters GP_regression.Gaussian_noise.variance\n",
      "[I 2019-04-13 18:41:11,283] Finished a trial resulted in value: 0.3070717360185308. Current best value is -0.3227996458217171 with parameters: {'a': 0.2013451665182867, 'b': 0.019837249096945175, 'ab': [0.2013451665182867, 0.019837249096945175]}.\n",
      "reconstraining parameters GP_regression.mul\n",
      "reconstraining parameters GP_regression.Gaussian_noise.variance\n",
      "[I 2019-04-13 18:42:34,757] Finished a trial resulted in value: 0.33496711993933426. Current best value is -0.3227996458217171 with parameters: {'a': 0.2013451665182867, 'b': 0.019837249096945175, 'ab': [0.2013451665182867, 0.019837249096945175]}.\n",
      "reconstraining parameters GP_regression.mul\n",
      "reconstraining parameters GP_regression.Gaussian_noise.variance\n",
      "[I 2019-04-13 18:43:46,461] Finished a trial resulted in value: 0.22644153449819554. Current best value is -0.3227996458217171 with parameters: {'a': 0.2013451665182867, 'b': 0.019837249096945175, 'ab': [0.2013451665182867, 0.019837249096945175]}.\n",
      "reconstraining parameters GP_regression.mul\n",
      "reconstraining parameters GP_regression.Gaussian_noise.variance\n",
      "[I 2019-04-13 18:45:10,042] Finished a trial resulted in value: 0.46752635047906177. Current best value is -0.3227996458217171 with parameters: {'a': 0.2013451665182867, 'b': 0.019837249096945175, 'ab': [0.2013451665182867, 0.019837249096945175]}.\n",
      "reconstraining parameters GP_regression.mul\n",
      "reconstraining parameters GP_regression.Gaussian_noise.variance\n",
      "[I 2019-04-13 18:46:38,334] Finished a trial resulted in value: 0.4844328964564709. Current best value is -0.3227996458217171 with parameters: {'a': 0.2013451665182867, 'b': 0.019837249096945175, 'ab': [0.2013451665182867, 0.019837249096945175]}.\n",
      "reconstraining parameters GP_regression.mul\n",
      "reconstraining parameters GP_regression.Gaussian_noise.variance\n",
      "[I 2019-04-13 18:47:47,926] Finished a trial resulted in value: 0.03735460351202215. Current best value is -0.3227996458217171 with parameters: {'a': 0.2013451665182867, 'b': 0.019837249096945175, 'ab': [0.2013451665182867, 0.019837249096945175]}.\n",
      "reconstraining parameters GP_regression.mul\n",
      "reconstraining parameters GP_regression.Gaussian_noise.variance\n",
      "[I 2019-04-13 18:49:06,051] Finished a trial resulted in value: 0.6624143033581719. Current best value is -0.3227996458217171 with parameters: {'a': 0.2013451665182867, 'b': 0.019837249096945175, 'ab': [0.2013451665182867, 0.019837249096945175]}.\n",
      "reconstraining parameters GP_regression.mul\n",
      "reconstraining parameters GP_regression.Gaussian_noise.variance\n",
      "[I 2019-04-13 18:50:17,671] Finished a trial resulted in value: 0.33715543118143537. Current best value is -0.3227996458217171 with parameters: {'a': 0.2013451665182867, 'b': 0.019837249096945175, 'ab': [0.2013451665182867, 0.019837249096945175]}.\n",
      "reconstraining parameters GP_regression.mul\n",
      "reconstraining parameters GP_regression.Gaussian_noise.variance\n",
      "[I 2019-04-13 18:51:35,267] Finished a trial resulted in value: 0.07025999936910571. Current best value is -0.3227996458217171 with parameters: {'a': 0.2013451665182867, 'b': 0.019837249096945175, 'ab': [0.2013451665182867, 0.019837249096945175]}.\n"
     ]
    },
    {
     "name": "stderr",
     "output_type": "stream",
     "text": [
      "reconstraining parameters GP_regression.mul\n",
      "reconstraining parameters GP_regression.Gaussian_noise.variance\n",
      "[I 2019-04-13 18:52:51,813] Finished a trial resulted in value: 0.3480633518828492. Current best value is -0.3227996458217171 with parameters: {'a': 0.2013451665182867, 'b': 0.019837249096945175, 'ab': [0.2013451665182867, 0.019837249096945175]}.\n",
      "reconstraining parameters GP_regression.mul\n",
      "reconstraining parameters GP_regression.Gaussian_noise.variance\n",
      "[I 2019-04-13 18:54:08,150] Finished a trial resulted in value: 0.28761204693682185. Current best value is -0.3227996458217171 with parameters: {'a': 0.2013451665182867, 'b': 0.019837249096945175, 'ab': [0.2013451665182867, 0.019837249096945175]}.\n",
      "reconstraining parameters GP_regression.mul\n",
      "reconstraining parameters GP_regression.Gaussian_noise.variance\n",
      "[I 2019-04-13 18:55:23,095] Finished a trial resulted in value: -0.35754521791894445. Current best value is -0.35754521791894445 with parameters: {'a': 1.0, 'b': 1.0, 'ab': [1.0, 1.0]}.\n",
      "reconstraining parameters GP_regression.mul\n",
      "reconstraining parameters GP_regression.Gaussian_noise.variance\n",
      "[I 2019-04-13 18:56:35,816] Finished a trial resulted in value: 0.4135401966520551. Current best value is -0.35754521791894445 with parameters: {'a': 1.0, 'b': 1.0, 'ab': [1.0, 1.0]}.\n",
      "reconstraining parameters GP_regression.mul\n",
      "reconstraining parameters GP_regression.Gaussian_noise.variance\n",
      "[I 2019-04-13 18:58:14,050] Finished a trial resulted in value: 0.3974100410438504. Current best value is -0.35754521791894445 with parameters: {'a': 1.0, 'b': 1.0, 'ab': [1.0, 1.0]}.\n",
      "reconstraining parameters GP_regression.mul\n",
      "reconstraining parameters GP_regression.Gaussian_noise.variance\n",
      "[I 2019-04-13 18:59:35,725] Finished a trial resulted in value: 0.32023776688587746. Current best value is -0.35754521791894445 with parameters: {'a': 1.0, 'b': 1.0, 'ab': [1.0, 1.0]}.\n",
      "reconstraining parameters GP_regression.mul\n",
      "reconstraining parameters GP_regression.Gaussian_noise.variance\n",
      "[I 2019-04-13 19:00:54,461] Finished a trial resulted in value: 0.3524231846885224. Current best value is -0.35754521791894445 with parameters: {'a': 1.0, 'b': 1.0, 'ab': [1.0, 1.0]}.\n",
      "reconstraining parameters GP_regression.mul\n",
      "reconstraining parameters GP_regression.Gaussian_noise.variance\n",
      "[I 2019-04-13 19:02:31,084] Finished a trial resulted in value: 0.3845606728766427. Current best value is -0.35754521791894445 with parameters: {'a': 1.0, 'b': 1.0, 'ab': [1.0, 1.0]}.\n",
      "reconstraining parameters GP_regression.mul\n",
      "reconstraining parameters GP_regression.Gaussian_noise.variance\n",
      "[I 2019-04-13 20:57:54,219] Finished a trial resulted in value: 0.5982397012706044. Current best value is -0.35754521791894445 with parameters: {'a': 1.0, 'b': 1.0, 'ab': [1.0, 1.0]}.\n",
      "reconstraining parameters GP_regression.mul\n",
      "reconstraining parameters GP_regression.Gaussian_noise.variance\n",
      "[I 2019-04-13 20:59:23,026] Finished a trial resulted in value: 0.702402539156709. Current best value is -0.35754521791894445 with parameters: {'a': 1.0, 'b': 1.0, 'ab': [1.0, 1.0]}.\n",
      "reconstraining parameters GP_regression.mul\n",
      "reconstraining parameters GP_regression.Gaussian_noise.variance\n",
      "[I 2019-04-13 21:01:15,461] Finished a trial resulted in value: 0.6620884716535502. Current best value is -0.35754521791894445 with parameters: {'a': 1.0, 'b': 1.0, 'ab': [1.0, 1.0]}.\n",
      "reconstraining parameters GP_regression.mul\n",
      "reconstraining parameters GP_regression.Gaussian_noise.variance\n",
      "[I 2019-04-13 21:02:45,262] Finished a trial resulted in value: 0.8913068945933054. Current best value is -0.35754521791894445 with parameters: {'a': 1.0, 'b': 1.0, 'ab': [1.0, 1.0]}.\n",
      "reconstraining parameters GP_regression.mul\n",
      "reconstraining parameters GP_regression.Gaussian_noise.variance\n",
      "[I 2019-04-13 21:04:26,793] Finished a trial resulted in value: 0.2800135711639888. Current best value is -0.35754521791894445 with parameters: {'a': 1.0, 'b': 1.0, 'ab': [1.0, 1.0]}.\n",
      "reconstraining parameters GP_regression.mul\n",
      "reconstraining parameters GP_regression.Gaussian_noise.variance\n",
      "[I 2019-04-13 21:06:09,737] Finished a trial resulted in value: 0.8416277449246466. Current best value is -0.35754521791894445 with parameters: {'a': 1.0, 'b': 1.0, 'ab': [1.0, 1.0]}.\n",
      "reconstraining parameters GP_regression.mul\n",
      "reconstraining parameters GP_regression.Gaussian_noise.variance\n",
      "[I 2019-04-13 21:07:37,155] Finished a trial resulted in value: 0.9113382716544653. Current best value is -0.35754521791894445 with parameters: {'a': 1.0, 'b': 1.0, 'ab': [1.0, 1.0]}.\n",
      "reconstraining parameters GP_regression.mul\n",
      "reconstraining parameters GP_regression.Gaussian_noise.variance\n",
      "[I 2019-04-13 21:09:10,102] Finished a trial resulted in value: 0.9176468125888275. Current best value is -0.35754521791894445 with parameters: {'a': 1.0, 'b': 1.0, 'ab': [1.0, 1.0]}.\n",
      "reconstraining parameters GP_regression.mul\n",
      "reconstraining parameters GP_regression.Gaussian_noise.variance\n",
      "[I 2019-04-13 21:10:41,598] Finished a trial resulted in value: 1.098178186034022. Current best value is -0.35754521791894445 with parameters: {'a': 1.0, 'b': 1.0, 'ab': [1.0, 1.0]}.\n",
      "reconstraining parameters GP_regression.mul\n",
      "reconstraining parameters GP_regression.Gaussian_noise.variance\n",
      "[I 2019-04-13 21:12:00,279] Finished a trial resulted in value: 0.5819828295680692. Current best value is -0.35754521791894445 with parameters: {'a': 1.0, 'b': 1.0, 'ab': [1.0, 1.0]}.\n",
      "reconstraining parameters GP_regression.mul\n",
      "reconstraining parameters GP_regression.Gaussian_noise.variance\n",
      "[I 2019-04-13 21:13:10,041] Finished a trial resulted in value: 0.8584685149083859. Current best value is -0.35754521791894445 with parameters: {'a': 1.0, 'b': 1.0, 'ab': [1.0, 1.0]}.\n",
      "reconstraining parameters GP_regression.mul\n",
      "reconstraining parameters GP_regression.Gaussian_noise.variance\n",
      "[I 2019-04-13 21:14:50,989] Finished a trial resulted in value: -0.06049092859399119. Current best value is -0.35754521791894445 with parameters: {'a': 1.0, 'b': 1.0, 'ab': [1.0, 1.0]}.\n",
      "reconstraining parameters GP_regression.mul\n",
      "reconstraining parameters GP_regression.Gaussian_noise.variance\n",
      "[I 2019-04-13 21:16:22,874] Finished a trial resulted in value: 0.5478326769357325. Current best value is -0.35754521791894445 with parameters: {'a': 1.0, 'b': 1.0, 'ab': [1.0, 1.0]}.\n",
      "reconstraining parameters GP_regression.mul\n",
      "reconstraining parameters GP_regression.Gaussian_noise.variance\n",
      "[I 2019-04-13 21:18:00,584] Finished a trial resulted in value: 0.5859820105143263. Current best value is -0.35754521791894445 with parameters: {'a': 1.0, 'b': 1.0, 'ab': [1.0, 1.0]}.\n",
      "reconstraining parameters GP_regression.mul\n",
      "reconstraining parameters GP_regression.Gaussian_noise.variance\n",
      "[I 2019-04-13 21:19:36,947] Finished a trial resulted in value: 0.24396415375607644. Current best value is -0.35754521791894445 with parameters: {'a': 1.0, 'b': 1.0, 'ab': [1.0, 1.0]}.\n",
      "reconstraining parameters GP_regression.mul\n",
      "reconstraining parameters GP_regression.Gaussian_noise.variance\n",
      "[I 2019-04-13 21:20:36,914] Finished a trial resulted in value: 0.4114128582271046. Current best value is -0.35754521791894445 with parameters: {'a': 1.0, 'b': 1.0, 'ab': [1.0, 1.0]}.\n",
      "reconstraining parameters GP_regression.mul\n",
      "reconstraining parameters GP_regression.Gaussian_noise.variance\n",
      "[I 2019-04-13 21:22:01,557] Finished a trial resulted in value: 1.0070923609640456. Current best value is -0.35754521791894445 with parameters: {'a': 1.0, 'b': 1.0, 'ab': [1.0, 1.0]}.\n",
      "reconstraining parameters GP_regression.mul\n",
      "reconstraining parameters GP_regression.Gaussian_noise.variance\n",
      "[I 2019-04-13 21:23:27,240] Finished a trial resulted in value: 0.4680583148977835. Current best value is -0.35754521791894445 with parameters: {'a': 1.0, 'b': 1.0, 'ab': [1.0, 1.0]}.\n",
      "reconstraining parameters GP_regression.mul\n",
      "reconstraining parameters GP_regression.Gaussian_noise.variance\n",
      "[I 2019-04-13 21:24:50,459] Finished a trial resulted in value: 0.4313455552913459. Current best value is -0.35754521791894445 with parameters: {'a': 1.0, 'b': 1.0, 'ab': [1.0, 1.0]}.\n",
      "reconstraining parameters GP_regression.mul\n",
      "reconstraining parameters GP_regression.Gaussian_noise.variance\n"
     ]
    },
    {
     "name": "stderr",
     "output_type": "stream",
     "text": [
      "[I 2019-04-13 21:26:20,377] Finished a trial resulted in value: 0.6340375648882766. Current best value is -0.35754521791894445 with parameters: {'a': 1.0, 'b': 1.0, 'ab': [1.0, 1.0]}.\n",
      "reconstraining parameters GP_regression.mul\n",
      "reconstraining parameters GP_regression.Gaussian_noise.variance\n",
      "[I 2019-04-13 21:27:58,334] Finished a trial resulted in value: 0.5485086956484851. Current best value is -0.35754521791894445 with parameters: {'a': 1.0, 'b': 1.0, 'ab': [1.0, 1.0]}.\n",
      "reconstraining parameters GP_regression.mul\n",
      "reconstraining parameters GP_regression.Gaussian_noise.variance\n",
      "[I 2019-04-13 21:29:34,713] Finished a trial resulted in value: 0.8134945976880185. Current best value is -0.35754521791894445 with parameters: {'a': 1.0, 'b': 1.0, 'ab': [1.0, 1.0]}.\n",
      "reconstraining parameters GP_regression.mul\n",
      "reconstraining parameters GP_regression.Gaussian_noise.variance\n",
      "[I 2019-04-13 21:31:15,058] Finished a trial resulted in value: -0.37849453723294246. Current best value is -0.37849453723294246 with parameters: {'a': 0.9703704430430422, 'b': 0.2948395904526595, 'ab': [0.9703704430430422, 0.2948395904526595]}.\n",
      "reconstraining parameters GP_regression.mul\n",
      "reconstraining parameters GP_regression.Gaussian_noise.variance\n",
      "[I 2019-04-13 21:32:52,091] Finished a trial resulted in value: -0.3509111853422525. Current best value is -0.37849453723294246 with parameters: {'a': 0.9703704430430422, 'b': 0.2948395904526595, 'ab': [0.9703704430430422, 0.2948395904526595]}.\n",
      "reconstraining parameters GP_regression.mul\n",
      "reconstraining parameters GP_regression.Gaussian_noise.variance\n",
      "[I 2019-04-13 21:34:30,473] Finished a trial resulted in value: 0.4028696715184383. Current best value is -0.37849453723294246 with parameters: {'a': 0.9703704430430422, 'b': 0.2948395904526595, 'ab': [0.9703704430430422, 0.2948395904526595]}.\n",
      "reconstraining parameters GP_regression.mul\n",
      "reconstraining parameters GP_regression.Gaussian_noise.variance\n",
      "[I 2019-04-13 21:35:59,977] Finished a trial resulted in value: 0.7327616273517891. Current best value is -0.37849453723294246 with parameters: {'a': 0.9703704430430422, 'b': 0.2948395904526595, 'ab': [0.9703704430430422, 0.2948395904526595]}.\n",
      "reconstraining parameters GP_regression.mul\n",
      "reconstraining parameters GP_regression.Gaussian_noise.variance\n",
      "[I 2019-04-13 21:37:22,827] Finished a trial resulted in value: 0.6311755269986536. Current best value is -0.37849453723294246 with parameters: {'a': 0.9703704430430422, 'b': 0.2948395904526595, 'ab': [0.9703704430430422, 0.2948395904526595]}.\n",
      "reconstraining parameters GP_regression.mul\n",
      "reconstraining parameters GP_regression.Gaussian_noise.variance\n",
      "[I 2019-04-13 21:38:47,064] Finished a trial resulted in value: 0.75103120953223. Current best value is -0.37849453723294246 with parameters: {'a': 0.9703704430430422, 'b': 0.2948395904526595, 'ab': [0.9703704430430422, 0.2948395904526595]}.\n",
      "reconstraining parameters GP_regression.mul\n",
      "reconstraining parameters GP_regression.Gaussian_noise.variance\n",
      "[I 2019-04-13 21:40:39,104] Finished a trial resulted in value: 0.45895128133453544. Current best value is -0.37849453723294246 with parameters: {'a': 0.9703704430430422, 'b': 0.2948395904526595, 'ab': [0.9703704430430422, 0.2948395904526595]}.\n",
      "reconstraining parameters GP_regression.mul\n",
      "reconstraining parameters GP_regression.Gaussian_noise.variance\n",
      "[I 2019-04-13 21:42:05,095] Finished a trial resulted in value: 0.6492765236610004. Current best value is -0.37849453723294246 with parameters: {'a': 0.9703704430430422, 'b': 0.2948395904526595, 'ab': [0.9703704430430422, 0.2948395904526595]}.\n",
      "reconstraining parameters GP_regression.mul\n",
      "reconstraining parameters GP_regression.Gaussian_noise.variance\n",
      "[I 2019-04-13 21:43:32,962] Finished a trial resulted in value: 0.8762682093837872. Current best value is -0.37849453723294246 with parameters: {'a': 0.9703704430430422, 'b': 0.2948395904526595, 'ab': [0.9703704430430422, 0.2948395904526595]}.\n",
      "reconstraining parameters GP_regression.mul\n",
      "reconstraining parameters GP_regression.Gaussian_noise.variance\n",
      "[I 2019-04-13 21:45:07,165] Finished a trial resulted in value: 0.9493908720965807. Current best value is -0.37849453723294246 with parameters: {'a': 0.9703704430430422, 'b': 0.2948395904526595, 'ab': [0.9703704430430422, 0.2948395904526595]}.\n",
      "reconstraining parameters GP_regression.mul\n",
      "reconstraining parameters GP_regression.Gaussian_noise.variance\n",
      "[I 2019-04-13 21:46:51,037] Finished a trial resulted in value: 1.0449102511988193. Current best value is -0.37849453723294246 with parameters: {'a': 0.9703704430430422, 'b': 0.2948395904526595, 'ab': [0.9703704430430422, 0.2948395904526595]}.\n",
      "reconstraining parameters GP_regression.mul\n",
      "reconstraining parameters GP_regression.Gaussian_noise.variance\n",
      "[I 2019-04-13 21:48:29,507] Finished a trial resulted in value: 0.9919031339692401. Current best value is -0.37849453723294246 with parameters: {'a': 0.9703704430430422, 'b': 0.2948395904526595, 'ab': [0.9703704430430422, 0.2948395904526595]}.\n",
      "reconstraining parameters GP_regression.mul\n",
      "reconstraining parameters GP_regression.Gaussian_noise.variance\n",
      "[I 2019-04-13 21:50:16,905] Finished a trial resulted in value: 0.958486520855775. Current best value is -0.37849453723294246 with parameters: {'a': 0.9703704430430422, 'b': 0.2948395904526595, 'ab': [0.9703704430430422, 0.2948395904526595]}.\n",
      "reconstraining parameters GP_regression.mul\n",
      "reconstraining parameters GP_regression.Gaussian_noise.variance\n",
      "[I 2019-04-13 21:52:03,806] Finished a trial resulted in value: -0.09425385596051382. Current best value is -0.37849453723294246 with parameters: {'a': 0.9703704430430422, 'b': 0.2948395904526595, 'ab': [0.9703704430430422, 0.2948395904526595]}.\n",
      "reconstraining parameters GP_regression.mul\n",
      "reconstraining parameters GP_regression.Gaussian_noise.variance\n",
      "[I 2019-04-13 21:53:35,294] Finished a trial resulted in value: 1.0676660849505801. Current best value is -0.37849453723294246 with parameters: {'a': 0.9703704430430422, 'b': 0.2948395904526595, 'ab': [0.9703704430430422, 0.2948395904526595]}.\n",
      "reconstraining parameters GP_regression.mul\n",
      "reconstraining parameters GP_regression.Gaussian_noise.variance\n",
      "[I 2019-04-13 21:55:17,435] Finished a trial resulted in value: 0.8467951882779892. Current best value is -0.37849453723294246 with parameters: {'a': 0.9703704430430422, 'b': 0.2948395904526595, 'ab': [0.9703704430430422, 0.2948395904526595]}.\n",
      "reconstraining parameters GP_regression.mul\n",
      "reconstraining parameters GP_regression.Gaussian_noise.variance\n",
      "[I 2019-04-13 21:57:01,746] Finished a trial resulted in value: 0.5977863388381935. Current best value is -0.37849453723294246 with parameters: {'a': 0.9703704430430422, 'b': 0.2948395904526595, 'ab': [0.9703704430430422, 0.2948395904526595]}.\n",
      "reconstraining parameters GP_regression.mul\n",
      "reconstraining parameters GP_regression.Gaussian_noise.variance\n",
      "[I 2019-04-13 21:58:45,343] Finished a trial resulted in value: 1.204965294875727. Current best value is -0.37849453723294246 with parameters: {'a': 0.9703704430430422, 'b': 0.2948395904526595, 'ab': [0.9703704430430422, 0.2948395904526595]}.\n",
      "reconstraining parameters GP_regression.mul\n",
      "reconstraining parameters GP_regression.Gaussian_noise.variance\n",
      "[I 2019-04-13 22:00:39,548] Finished a trial resulted in value: 0.7440473745208058. Current best value is -0.37849453723294246 with parameters: {'a': 0.9703704430430422, 'b': 0.2948395904526595, 'ab': [0.9703704430430422, 0.2948395904526595]}.\n",
      "reconstraining parameters GP_regression.mul\n",
      "reconstraining parameters GP_regression.Gaussian_noise.variance\n",
      "[I 2019-04-13 22:02:22,350] Finished a trial resulted in value: 1.1011343780047107. Current best value is -0.37849453723294246 with parameters: {'a': 0.9703704430430422, 'b': 0.2948395904526595, 'ab': [0.9703704430430422, 0.2948395904526595]}.\n",
      "reconstraining parameters GP_regression.mul\n",
      "reconstraining parameters GP_regression.Gaussian_noise.variance\n",
      "[I 2019-04-13 22:04:13,711] Finished a trial resulted in value: 0.33741181221368405. Current best value is -0.37849453723294246 with parameters: {'a': 0.9703704430430422, 'b': 0.2948395904526595, 'ab': [0.9703704430430422, 0.2948395904526595]}.\n"
     ]
    },
    {
     "name": "stderr",
     "output_type": "stream",
     "text": [
      "reconstraining parameters GP_regression.mul\n",
      "reconstraining parameters GP_regression.Gaussian_noise.variance\n",
      "[I 2019-04-13 22:06:16,692] Finished a trial resulted in value: 0.2998076302665545. Current best value is -0.37849453723294246 with parameters: {'a': 0.9703704430430422, 'b': 0.2948395904526595, 'ab': [0.9703704430430422, 0.2948395904526595]}.\n",
      "reconstraining parameters GP_regression.mul\n",
      "reconstraining parameters GP_regression.Gaussian_noise.variance\n",
      "[I 2019-04-13 22:08:21,568] Finished a trial resulted in value: -0.48924585500905976. Current best value is -0.48924585500905976 with parameters: {'a': 0.7979888876781868, 'b': 0.8743477285817173, 'ab': [0.7979888876781868, 0.8743477285817173]}.\n",
      "reconstraining parameters GP_regression.mul\n",
      "reconstraining parameters GP_regression.Gaussian_noise.variance\n",
      "[I 2019-04-13 22:10:18,020] Finished a trial resulted in value: 0.005519692319909848. Current best value is -0.48924585500905976 with parameters: {'a': 0.7979888876781868, 'b': 0.8743477285817173, 'ab': [0.7979888876781868, 0.8743477285817173]}.\n",
      "reconstraining parameters GP_regression.mul\n",
      "reconstraining parameters GP_regression.Gaussian_noise.variance\n",
      "[I 2019-04-13 22:12:26,279] Finished a trial resulted in value: -0.09455457004051368. Current best value is -0.48924585500905976 with parameters: {'a': 0.7979888876781868, 'b': 0.8743477285817173, 'ab': [0.7979888876781868, 0.8743477285817173]}.\n",
      "reconstraining parameters GP_regression.mul\n",
      "reconstraining parameters GP_regression.Gaussian_noise.variance\n",
      "[I 2019-04-13 22:14:27,804] Finished a trial resulted in value: -0.4248745452506001. Current best value is -0.48924585500905976 with parameters: {'a': 0.7979888876781868, 'b': 0.8743477285817173, 'ab': [0.7979888876781868, 0.8743477285817173]}.\n",
      "reconstraining parameters GP_regression.mul\n",
      "reconstraining parameters GP_regression.Gaussian_noise.variance\n",
      "[I 2019-04-13 22:16:22,674] Finished a trial resulted in value: 0.677535088370448. Current best value is -0.48924585500905976 with parameters: {'a': 0.7979888876781868, 'b': 0.8743477285817173, 'ab': [0.7979888876781868, 0.8743477285817173]}.\n",
      "reconstraining parameters GP_regression.mul\n",
      "reconstraining parameters GP_regression.Gaussian_noise.variance\n",
      "[I 2019-04-13 22:18:15,431] Finished a trial resulted in value: -0.38205736810889945. Current best value is -0.48924585500905976 with parameters: {'a': 0.7979888876781868, 'b': 0.8743477285817173, 'ab': [0.7979888876781868, 0.8743477285817173]}.\n",
      "reconstraining parameters GP_regression.mul\n",
      "reconstraining parameters GP_regression.Gaussian_noise.variance\n",
      "[I 2019-04-13 22:20:09,133] Finished a trial resulted in value: -0.42071996033273773. Current best value is -0.48924585500905976 with parameters: {'a': 0.7979888876781868, 'b': 0.8743477285817173, 'ab': [0.7979888876781868, 0.8743477285817173]}.\n",
      "reconstraining parameters GP_regression.mul\n",
      "reconstraining parameters GP_regression.Gaussian_noise.variance\n",
      "[I 2019-04-13 22:21:55,423] Finished a trial resulted in value: 0.5001011419415533. Current best value is -0.48924585500905976 with parameters: {'a': 0.7979888876781868, 'b': 0.8743477285817173, 'ab': [0.7979888876781868, 0.8743477285817173]}.\n",
      "reconstraining parameters GP_regression.mul\n",
      "reconstraining parameters GP_regression.Gaussian_noise.variance\n",
      "[I 2019-04-13 22:23:43,330] Finished a trial resulted in value: -0.4606122119567911. Current best value is -0.48924585500905976 with parameters: {'a': 0.7979888876781868, 'b': 0.8743477285817173, 'ab': [0.7979888876781868, 0.8743477285817173]}.\n",
      "reconstraining parameters GP_regression.mul\n",
      "reconstraining parameters GP_regression.Gaussian_noise.variance\n",
      "[I 2019-04-13 22:25:40,883] Finished a trial resulted in value: -0.40447505946280365. Current best value is -0.48924585500905976 with parameters: {'a': 0.7979888876781868, 'b': 0.8743477285817173, 'ab': [0.7979888876781868, 0.8743477285817173]}.\n",
      "reconstraining parameters GP_regression.mul\n",
      "reconstraining parameters GP_regression.Gaussian_noise.variance\n",
      "[I 2019-04-13 22:27:24,261] Finished a trial resulted in value: -0.4601754876558645. Current best value is -0.48924585500905976 with parameters: {'a': 0.7979888876781868, 'b': 0.8743477285817173, 'ab': [0.7979888876781868, 0.8743477285817173]}.\n",
      "reconstraining parameters GP_regression.mul\n",
      "reconstraining parameters GP_regression.Gaussian_noise.variance\n",
      "[I 2019-04-13 22:29:26,076] Finished a trial resulted in value: -0.4330339605891162. Current best value is -0.48924585500905976 with parameters: {'a': 0.7979888876781868, 'b': 0.8743477285817173, 'ab': [0.7979888876781868, 0.8743477285817173]}.\n",
      "reconstraining parameters GP_regression.mul\n",
      "reconstraining parameters GP_regression.Gaussian_noise.variance\n",
      "[I 2019-04-13 22:31:02,212] Finished a trial resulted in value: -0.17270129014985636. Current best value is -0.48924585500905976 with parameters: {'a': 0.7979888876781868, 'b': 0.8743477285817173, 'ab': [0.7979888876781868, 0.8743477285817173]}.\n",
      "reconstraining parameters GP_regression.mul\n",
      "reconstraining parameters GP_regression.Gaussian_noise.variance\n",
      "[I 2019-04-13 22:32:51,888] Finished a trial resulted in value: -0.24123480537370728. Current best value is -0.48924585500905976 with parameters: {'a': 0.7979888876781868, 'b': 0.8743477285817173, 'ab': [0.7979888876781868, 0.8743477285817173]}.\n",
      "reconstraining parameters GP_regression.mul\n",
      "reconstraining parameters GP_regression.Gaussian_noise.variance\n",
      "[I 2019-04-13 22:34:51,061] Finished a trial resulted in value: -0.3165770730279365. Current best value is -0.48924585500905976 with parameters: {'a': 0.7979888876781868, 'b': 0.8743477285817173, 'ab': [0.7979888876781868, 0.8743477285817173]}.\n",
      "reconstraining parameters GP_regression.mul\n",
      "reconstraining parameters GP_regression.Gaussian_noise.variance\n",
      "[I 2019-04-13 22:36:29,443] Finished a trial resulted in value: -0.5153241116793857. Current best value is -0.5153241116793857 with parameters: {'a': 0.7940631289508695, 'b': 0.8729355086795432, 'ab': [0.7940631289508695, 0.8729355086795432]}.\n",
      "reconstraining parameters GP_regression.mul\n",
      "reconstraining parameters GP_regression.Gaussian_noise.variance\n",
      "[I 2019-04-13 22:38:15,227] Finished a trial resulted in value: -0.5119444085955999. Current best value is -0.5153241116793857 with parameters: {'a': 0.7940631289508695, 'b': 0.8729355086795432, 'ab': [0.7940631289508695, 0.8729355086795432]}.\n",
      "reconstraining parameters GP_regression.mul\n",
      "reconstraining parameters GP_regression.Gaussian_noise.variance\n",
      "[I 2019-04-13 22:40:01,268] Finished a trial resulted in value: -0.6522626570889113. Current best value is -0.6522626570889113 with parameters: {'a': 0.7937536606928799, 'b': 0.8723599380461556, 'ab': [0.7937536606928799, 0.8723599380461556]}.\n",
      "reconstraining parameters GP_regression.mul\n",
      "reconstraining parameters GP_regression.Gaussian_noise.variance\n",
      "[I 2019-04-13 22:42:05,491] Finished a trial resulted in value: -0.7778174377072652. Current best value is -0.7778174377072652 with parameters: {'a': 0.7943016955357687, 'b': 0.8732195355512139, 'ab': [0.7943016955357687, 0.8732195355512139]}.\n",
      "reconstraining parameters GP_regression.mul\n",
      "reconstraining parameters GP_regression.Gaussian_noise.variance\n",
      "[I 2019-04-13 22:43:55,714] Finished a trial resulted in value: -0.9821440554101719. Current best value is -0.9821440554101719 with parameters: {'a': 0.7946437628891592, 'b': 0.8733974787025045, 'ab': [0.7946437628891592, 0.8733974787025045]}.\n",
      "reconstraining parameters GP_regression.mul\n",
      "reconstraining parameters GP_regression.Gaussian_noise.variance\n",
      "[I 2019-04-13 22:46:00,466] Finished a trial resulted in value: 0.09768618470519891. Current best value is -0.9821440554101719 with parameters: {'a': 0.7946437628891592, 'b': 0.8733974787025045, 'ab': [0.7946437628891592, 0.8733974787025045]}.\n",
      "reconstraining parameters GP_regression.mul\n",
      "reconstraining parameters GP_regression.Gaussian_noise.variance\n",
      "[I 2019-04-13 22:48:03,069] Finished a trial resulted in value: -1.1449451100111947. Current best value is -1.1449451100111947 with parameters: {'a': 0.7937753349149711, 'b': 0.8726145086417993, 'ab': [0.7937753349149711, 0.8726145086417993]}.\n",
      "reconstraining parameters GP_regression.mul\n"
     ]
    },
    {
     "name": "stderr",
     "output_type": "stream",
     "text": [
      "reconstraining parameters GP_regression.Gaussian_noise.variance\n",
      "[I 2019-04-13 22:49:57,702] Finished a trial resulted in value: -1.2542261796763143. Current best value is -1.2542261796763143 with parameters: {'a': 0.7941193348536731, 'b': 0.8725002155252235, 'ab': [0.7941193348536731, 0.8725002155252235]}.\n",
      "reconstraining parameters GP_regression.mul\n",
      "reconstraining parameters GP_regression.Gaussian_noise.variance\n",
      "[I 2019-04-13 22:52:15,380] Finished a trial resulted in value: -0.12658552370065204. Current best value is -1.2542261796763143 with parameters: {'a': 0.7941193348536731, 'b': 0.8725002155252235, 'ab': [0.7941193348536731, 0.8725002155252235]}.\n",
      "reconstraining parameters GP_regression.mul\n",
      "reconstraining parameters GP_regression.Gaussian_noise.variance\n",
      "[I 2019-04-13 22:54:26,642] Finished a trial resulted in value: -1.3149409755232564. Current best value is -1.3149409755232564 with parameters: {'a': 0.794828093596442, 'b': 0.8731299910272495, 'ab': [0.794828093596442, 0.8731299910272495]}.\n",
      "reconstraining parameters GP_regression.mul\n",
      "reconstraining parameters GP_regression.Gaussian_noise.variance\n",
      "[I 2019-04-13 22:56:13,522] Finished a trial resulted in value: -1.3384249035574738. Current best value is -1.3384249035574738 with parameters: {'a': 0.7941538897328275, 'b': 0.8723327551698208, 'ab': [0.7941538897328275, 0.8723327551698208]}.\n",
      "reconstraining parameters GP_regression.mul\n",
      "reconstraining parameters GP_regression.Gaussian_noise.variance\n",
      "[I 2019-04-13 22:57:50,762] Finished a trial resulted in value: -0.09862667977558032. Current best value is -1.3384249035574738 with parameters: {'a': 0.7941538897328275, 'b': 0.8723327551698208, 'ab': [0.7941538897328275, 0.8723327551698208]}.\n",
      "reconstraining parameters GP_regression.mul\n",
      "reconstraining parameters GP_regression.Gaussian_noise.variance\n",
      "[I 2019-04-13 22:59:42,913] Finished a trial resulted in value: -0.039254942330558346. Current best value is -1.3384249035574738 with parameters: {'a': 0.7941538897328275, 'b': 0.8723327551698208, 'ab': [0.7941538897328275, 0.8723327551698208]}.\n",
      "reconstraining parameters GP_regression.mul\n",
      "reconstraining parameters GP_regression.Gaussian_noise.variance\n",
      "[I 2019-04-13 23:01:52,087] Finished a trial resulted in value: -0.10693812185339305. Current best value is -1.3384249035574738 with parameters: {'a': 0.7941538897328275, 'b': 0.8723327551698208, 'ab': [0.7941538897328275, 0.8723327551698208]}.\n",
      "reconstraining parameters GP_regression.mul\n",
      "reconstraining parameters GP_regression.Gaussian_noise.variance\n",
      "[I 2019-04-13 23:03:23,280] Finished a trial resulted in value: 1.3897453307214673. Current best value is -1.3384249035574738 with parameters: {'a': 0.7941538897328275, 'b': 0.8723327551698208, 'ab': [0.7941538897328275, 0.8723327551698208]}.\n",
      "reconstraining parameters GP_regression.mul\n",
      "reconstraining parameters GP_regression.Gaussian_noise.variance\n",
      "[I 2019-04-13 23:05:24,222] Finished a trial resulted in value: -1.2359147636032757. Current best value is -1.3384249035574738 with parameters: {'a': 0.7941538897328275, 'b': 0.8723327551698208, 'ab': [0.7941538897328275, 0.8723327551698208]}.\n",
      "reconstraining parameters GP_regression.mul\n",
      "reconstraining parameters GP_regression.Gaussian_noise.variance\n",
      "[I 2019-04-13 23:07:41,013] Finished a trial resulted in value: -0.02753507613092343. Current best value is -1.3384249035574738 with parameters: {'a': 0.7941538897328275, 'b': 0.8723327551698208, 'ab': [0.7941538897328275, 0.8723327551698208]}.\n",
      "reconstraining parameters GP_regression.mul\n",
      "reconstraining parameters GP_regression.Gaussian_noise.variance\n",
      "[I 2019-04-13 23:10:01,166] Finished a trial resulted in value: -1.2378046064200414. Current best value is -1.3384249035574738 with parameters: {'a': 0.7941538897328275, 'b': 0.8723327551698208, 'ab': [0.7941538897328275, 0.8723327551698208]}.\n",
      "reconstraining parameters GP_regression.mul\n",
      "reconstraining parameters GP_regression.Gaussian_noise.variance\n",
      "[I 2019-04-13 23:12:05,257] Finished a trial resulted in value: 0.1632549429686814. Current best value is -1.3384249035574738 with parameters: {'a': 0.7941538897328275, 'b': 0.8723327551698208, 'ab': [0.7941538897328275, 0.8723327551698208]}.\n",
      "reconstraining parameters GP_regression.mul\n",
      "reconstraining parameters GP_regression.Gaussian_noise.variance\n",
      "[I 2019-04-13 23:13:59,547] Finished a trial resulted in value: 0.22911910609283365. Current best value is -1.3384249035574738 with parameters: {'a': 0.7941538897328275, 'b': 0.8723327551698208, 'ab': [0.7941538897328275, 0.8723327551698208]}.\n",
      "reconstraining parameters GP_regression.mul\n",
      "reconstraining parameters GP_regression.Gaussian_noise.variance\n",
      "[I 2019-04-13 23:16:01,366] Finished a trial resulted in value: 0.8544650036809658. Current best value is -1.3384249035574738 with parameters: {'a': 0.7941538897328275, 'b': 0.8723327551698208, 'ab': [0.7941538897328275, 0.8723327551698208]}.\n",
      "reconstraining parameters GP_regression.mul\n",
      "reconstraining parameters GP_regression.Gaussian_noise.variance\n",
      "[I 2019-04-13 23:17:56,523] Finished a trial resulted in value: 0.7682631597381198. Current best value is -1.3384249035574738 with parameters: {'a': 0.7941538897328275, 'b': 0.8723327551698208, 'ab': [0.7941538897328275, 0.8723327551698208]}.\n",
      "reconstraining parameters GP_regression.mul\n",
      "reconstraining parameters GP_regression.Gaussian_noise.variance\n",
      "[I 2019-04-13 23:19:54,140] Finished a trial resulted in value: 0.3281920003948903. Current best value is -1.3384249035574738 with parameters: {'a': 0.7941538897328275, 'b': 0.8723327551698208, 'ab': [0.7941538897328275, 0.8723327551698208]}.\n",
      "reconstraining parameters GP_regression.mul\n",
      "reconstraining parameters GP_regression.Gaussian_noise.variance\n",
      "[I 2019-04-13 23:22:11,131] Finished a trial resulted in value: -0.7715581190110393. Current best value is -1.3384249035574738 with parameters: {'a': 0.7941538897328275, 'b': 0.8723327551698208, 'ab': [0.7941538897328275, 0.8723327551698208]}.\n",
      "reconstraining parameters GP_regression.mul\n",
      "reconstraining parameters GP_regression.Gaussian_noise.variance\n",
      "[I 2019-04-13 23:24:12,456] Finished a trial resulted in value: -0.633110244546514. Current best value is -1.3384249035574738 with parameters: {'a': 0.7941538897328275, 'b': 0.8723327551698208, 'ab': [0.7941538897328275, 0.8723327551698208]}.\n",
      "reconstraining parameters GP_regression.mul\n",
      "reconstraining parameters GP_regression.Gaussian_noise.variance\n",
      "[I 2019-04-13 23:26:17,558] Finished a trial resulted in value: -0.5698819503549853. Current best value is -1.3384249035574738 with parameters: {'a': 0.7941538897328275, 'b': 0.8723327551698208, 'ab': [0.7941538897328275, 0.8723327551698208]}.\n",
      "reconstraining parameters GP_regression.mul\n",
      "reconstraining parameters GP_regression.Gaussian_noise.variance\n",
      "[I 2019-04-13 23:28:16,544] Finished a trial resulted in value: 0.2924225876115802. Current best value is -1.3384249035574738 with parameters: {'a': 0.7941538897328275, 'b': 0.8723327551698208, 'ab': [0.7941538897328275, 0.8723327551698208]}.\n",
      "reconstraining parameters GP_regression.mul\n",
      "reconstraining parameters GP_regression.Gaussian_noise.variance\n",
      "[I 2019-04-13 23:30:23,534] Finished a trial resulted in value: 0.7434643385730836. Current best value is -1.3384249035574738 with parameters: {'a': 0.7941538897328275, 'b': 0.8723327551698208, 'ab': [0.7941538897328275, 0.8723327551698208]}.\n",
      "reconstraining parameters GP_regression.mul\n",
      "reconstraining parameters GP_regression.Gaussian_noise.variance\n",
      "[I 2019-04-13 23:32:33,493] Finished a trial resulted in value: -0.5863293050617956. Current best value is -1.3384249035574738 with parameters: {'a': 0.7941538897328275, 'b': 0.8723327551698208, 'ab': [0.7941538897328275, 0.8723327551698208]}.\n",
      "reconstraining parameters GP_regression.mul\n",
      "reconstraining parameters GP_regression.Gaussian_noise.variance\n",
      "[I 2019-04-13 23:34:36,527] Finished a trial resulted in value: -0.7352569370523192. Current best value is -1.3384249035574738 with parameters: {'a': 0.7941538897328275, 'b': 0.8723327551698208, 'ab': [0.7941538897328275, 0.8723327551698208]}.\n",
      "reconstraining parameters GP_regression.mul\n",
      "reconstraining parameters GP_regression.Gaussian_noise.variance\n"
     ]
    },
    {
     "name": "stderr",
     "output_type": "stream",
     "text": [
      "[I 2019-04-13 23:36:53,997] Finished a trial resulted in value: -0.8073144909275745. Current best value is -1.3384249035574738 with parameters: {'a': 0.7941538897328275, 'b': 0.8723327551698208, 'ab': [0.7941538897328275, 0.8723327551698208]}.\n",
      "reconstraining parameters GP_regression.mul\n",
      "reconstraining parameters GP_regression.Gaussian_noise.variance\n",
      "[I 2019-04-13 23:38:43,438] Finished a trial resulted in value: -0.7446125531626315. Current best value is -1.3384249035574738 with parameters: {'a': 0.7941538897328275, 'b': 0.8723327551698208, 'ab': [0.7941538897328275, 0.8723327551698208]}.\n",
      "reconstraining parameters GP_regression.mul\n",
      "reconstraining parameters GP_regression.Gaussian_noise.variance\n",
      "[I 2019-04-13 23:41:24,744] Finished a trial resulted in value: -0.8447392202331743. Current best value is -1.3384249035574738 with parameters: {'a': 0.7941538897328275, 'b': 0.8723327551698208, 'ab': [0.7941538897328275, 0.8723327551698208]}.\n",
      "reconstraining parameters GP_regression.mul\n",
      "reconstraining parameters GP_regression.Gaussian_noise.variance\n",
      "[I 2019-04-13 23:44:24,564] Finished a trial resulted in value: -0.7325461567098942. Current best value is -1.3384249035574738 with parameters: {'a': 0.7941538897328275, 'b': 0.8723327551698208, 'ab': [0.7941538897328275, 0.8723327551698208]}.\n",
      "reconstraining parameters GP_regression.mul\n",
      "reconstraining parameters GP_regression.Gaussian_noise.variance\n",
      "[I 2019-04-13 23:46:51,504] Finished a trial resulted in value: -0.6488134475178549. Current best value is -1.3384249035574738 with parameters: {'a': 0.7941538897328275, 'b': 0.8723327551698208, 'ab': [0.7941538897328275, 0.8723327551698208]}.\n",
      "reconstraining parameters GP_regression.mul\n",
      "reconstraining parameters GP_regression.Gaussian_noise.variance\n",
      "[I 2019-04-13 23:49:11,950] Finished a trial resulted in value: 0.21586467971357914. Current best value is -1.3384249035574738 with parameters: {'a': 0.7941538897328275, 'b': 0.8723327551698208, 'ab': [0.7941538897328275, 0.8723327551698208]}.\n",
      "reconstraining parameters GP_regression.mul\n",
      "reconstraining parameters GP_regression.Gaussian_noise.variance\n",
      "[I 2019-04-13 23:52:12,267] Finished a trial resulted in value: -0.8593470914466929. Current best value is -1.3384249035574738 with parameters: {'a': 0.7941538897328275, 'b': 0.8723327551698208, 'ab': [0.7941538897328275, 0.8723327551698208]}.\n",
      "reconstraining parameters GP_regression.mul\n",
      "reconstraining parameters GP_regression.Gaussian_noise.variance\n",
      "[I 2019-04-13 23:54:52,533] Finished a trial resulted in value: -0.08368056696896686. Current best value is -1.3384249035574738 with parameters: {'a': 0.7941538897328275, 'b': 0.8723327551698208, 'ab': [0.7941538897328275, 0.8723327551698208]}.\n",
      "reconstraining parameters GP_regression.mul\n",
      "reconstraining parameters GP_regression.Gaussian_noise.variance\n",
      "[I 2019-04-13 23:57:13,964] Finished a trial resulted in value: -0.8315101909140415. Current best value is -1.3384249035574738 with parameters: {'a': 0.7941538897328275, 'b': 0.8723327551698208, 'ab': [0.7941538897328275, 0.8723327551698208]}.\n",
      "reconstraining parameters GP_regression.mul\n",
      "reconstraining parameters GP_regression.Gaussian_noise.variance\n",
      "[I 2019-04-13 23:59:39,959] Finished a trial resulted in value: 0.5796125594582247. Current best value is -1.3384249035574738 with parameters: {'a': 0.7941538897328275, 'b': 0.8723327551698208, 'ab': [0.7941538897328275, 0.8723327551698208]}.\n",
      "reconstraining parameters GP_regression.mul\n",
      "reconstraining parameters GP_regression.Gaussian_noise.variance\n",
      "[I 2019-04-14 00:02:37,434] Finished a trial resulted in value: 0.7066677020836256. Current best value is -1.3384249035574738 with parameters: {'a': 0.7941538897328275, 'b': 0.8723327551698208, 'ab': [0.7941538897328275, 0.8723327551698208]}.\n",
      "reconstraining parameters GP_regression.mul\n",
      "reconstraining parameters GP_regression.Gaussian_noise.variance\n",
      "[I 2019-04-14 00:05:09,995] Finished a trial resulted in value: -0.04123416919661063. Current best value is -1.3384249035574738 with parameters: {'a': 0.7941538897328275, 'b': 0.8723327551698208, 'ab': [0.7941538897328275, 0.8723327551698208]}.\n",
      "reconstraining parameters GP_regression.mul\n",
      "reconstraining parameters GP_regression.Gaussian_noise.variance\n",
      "[I 2019-04-14 00:07:59,194] Finished a trial resulted in value: -1.0090326897188358. Current best value is -1.3384249035574738 with parameters: {'a': 0.7941538897328275, 'b': 0.8723327551698208, 'ab': [0.7941538897328275, 0.8723327551698208]}.\n",
      "reconstraining parameters GP_regression.mul\n",
      "reconstraining parameters GP_regression.Gaussian_noise.variance\n",
      "[I 2019-04-14 00:11:00,724] Finished a trial resulted in value: -0.7917066930526524. Current best value is -1.3384249035574738 with parameters: {'a': 0.7941538897328275, 'b': 0.8723327551698208, 'ab': [0.7941538897328275, 0.8723327551698208]}.\n",
      "reconstraining parameters GP_regression.mul\n",
      "reconstraining parameters GP_regression.Gaussian_noise.variance\n",
      "[I 2019-04-14 00:13:32,108] Finished a trial resulted in value: 0.3029353671624105. Current best value is -1.3384249035574738 with parameters: {'a': 0.7941538897328275, 'b': 0.8723327551698208, 'ab': [0.7941538897328275, 0.8723327551698208]}.\n",
      "reconstraining parameters GP_regression.mul\n",
      "reconstraining parameters GP_regression.Gaussian_noise.variance\n",
      "[I 2019-04-14 00:16:27,668] Finished a trial resulted in value: 0.4100688452765167. Current best value is -1.3384249035574738 with parameters: {'a': 0.7941538897328275, 'b': 0.8723327551698208, 'ab': [0.7941538897328275, 0.8723327551698208]}.\n",
      "reconstraining parameters GP_regression.mul\n",
      "reconstraining parameters GP_regression.Gaussian_noise.variance\n",
      "[I 2019-04-14 00:18:56,626] Finished a trial resulted in value: -0.7244730180787963. Current best value is -1.3384249035574738 with parameters: {'a': 0.7941538897328275, 'b': 0.8723327551698208, 'ab': [0.7941538897328275, 0.8723327551698208]}.\n",
      "reconstraining parameters GP_regression.mul\n",
      "reconstraining parameters GP_regression.Gaussian_noise.variance\n",
      "[I 2019-04-14 00:22:10,676] Finished a trial resulted in value: -0.6596777290587666. Current best value is -1.3384249035574738 with parameters: {'a': 0.7941538897328275, 'b': 0.8723327551698208, 'ab': [0.7941538897328275, 0.8723327551698208]}.\n",
      "reconstraining parameters GP_regression.mul\n",
      "reconstraining parameters GP_regression.Gaussian_noise.variance\n",
      "[I 2019-04-14 00:24:46,970] Finished a trial resulted in value: -0.6309579618765742. Current best value is -1.3384249035574738 with parameters: {'a': 0.7941538897328275, 'b': 0.8723327551698208, 'ab': [0.7941538897328275, 0.8723327551698208]}.\n",
      "reconstraining parameters GP_regression.mul\n",
      "reconstraining parameters GP_regression.Gaussian_noise.variance\n",
      "[I 2019-04-14 00:27:29,970] Finished a trial resulted in value: 0.2541987168858188. Current best value is -1.3384249035574738 with parameters: {'a': 0.7941538897328275, 'b': 0.8723327551698208, 'ab': [0.7941538897328275, 0.8723327551698208]}.\n",
      "reconstraining parameters GP_regression.mul\n",
      "reconstraining parameters GP_regression.Gaussian_noise.variance\n",
      "[I 2019-04-14 00:30:24,479] Finished a trial resulted in value: 0.297477678946375. Current best value is -1.3384249035574738 with parameters: {'a': 0.7941538897328275, 'b': 0.8723327551698208, 'ab': [0.7941538897328275, 0.8723327551698208]}.\n",
      "reconstraining parameters GP_regression.mul\n",
      "reconstraining parameters GP_regression.Gaussian_noise.variance\n",
      "[I 2019-04-14 00:33:41,200] Finished a trial resulted in value: -0.7176261377246145. Current best value is -1.3384249035574738 with parameters: {'a': 0.7941538897328275, 'b': 0.8723327551698208, 'ab': [0.7941538897328275, 0.8723327551698208]}.\n",
      "reconstraining parameters GP_regression.mul\n",
      "reconstraining parameters GP_regression.Gaussian_noise.variance\n",
      "[I 2019-04-14 00:36:14,074] Finished a trial resulted in value: 1.2303677113005933. Current best value is -1.3384249035574738 with parameters: {'a': 0.7941538897328275, 'b': 0.8723327551698208, 'ab': [0.7941538897328275, 0.8723327551698208]}.\n",
      "reconstraining parameters GP_regression.mul\n",
      "reconstraining parameters GP_regression.Gaussian_noise.variance\n"
     ]
    },
    {
     "name": "stderr",
     "output_type": "stream",
     "text": [
      "[I 2019-04-14 00:39:20,346] Finished a trial resulted in value: -0.7574773267716616. Current best value is -1.3384249035574738 with parameters: {'a': 0.7941538897328275, 'b': 0.8723327551698208, 'ab': [0.7941538897328275, 0.8723327551698208]}.\n",
      "reconstraining parameters GP_regression.mul\n",
      "reconstraining parameters GP_regression.Gaussian_noise.variance\n",
      "[I 2019-04-14 00:42:29,359] Finished a trial resulted in value: 0.24046707962565161. Current best value is -1.3384249035574738 with parameters: {'a': 0.7941538897328275, 'b': 0.8723327551698208, 'ab': [0.7941538897328275, 0.8723327551698208]}.\n",
      "reconstraining parameters GP_regression.mul\n",
      "reconstraining parameters GP_regression.Gaussian_noise.variance\n",
      "[I 2019-04-14 01:02:44,073] Finished a trial resulted in value: -0.9898039526279513. Current best value is -1.3384249035574738 with parameters: {'a': 0.7941538897328275, 'b': 0.8723327551698208, 'ab': [0.7941538897328275, 0.8723327551698208]}.\n",
      "reconstraining parameters GP_regression.mul\n",
      "reconstraining parameters GP_regression.Gaussian_noise.variance\n",
      "[I 2019-04-14 01:05:44,086] Finished a trial resulted in value: -0.08239152694916768. Current best value is -1.3384249035574738 with parameters: {'a': 0.7941538897328275, 'b': 0.8723327551698208, 'ab': [0.7941538897328275, 0.8723327551698208]}.\n",
      "reconstraining parameters GP_regression.mul\n",
      "reconstraining parameters GP_regression.Gaussian_noise.variance\n",
      "[I 2019-04-14 01:09:00,767] Finished a trial resulted in value: -1.0827805963191197. Current best value is -1.3384249035574738 with parameters: {'a': 0.7941538897328275, 'b': 0.8723327551698208, 'ab': [0.7941538897328275, 0.8723327551698208]}.\n",
      "reconstraining parameters GP_regression.mul\n",
      "reconstraining parameters GP_regression.Gaussian_noise.variance\n",
      "[I 2019-04-14 01:12:00,274] Finished a trial resulted in value: -1.2646001647140823. Current best value is -1.3384249035574738 with parameters: {'a': 0.7941538897328275, 'b': 0.8723327551698208, 'ab': [0.7941538897328275, 0.8723327551698208]}.\n",
      "reconstraining parameters GP_regression.mul\n",
      "reconstraining parameters GP_regression.Gaussian_noise.variance\n",
      "[I 2019-04-14 01:14:42,034] Finished a trial resulted in value: -1.211548046252691. Current best value is -1.3384249035574738 with parameters: {'a': 0.7941538897328275, 'b': 0.8723327551698208, 'ab': [0.7941538897328275, 0.8723327551698208]}.\n",
      "reconstraining parameters GP_regression.mul\n",
      "reconstraining parameters GP_regression.Gaussian_noise.variance\n",
      "[I 2019-04-14 01:17:46,558] Finished a trial resulted in value: -1.2350042400271142. Current best value is -1.3384249035574738 with parameters: {'a': 0.7941538897328275, 'b': 0.8723327551698208, 'ab': [0.7941538897328275, 0.8723327551698208]}.\n",
      "reconstraining parameters GP_regression.mul\n",
      "reconstraining parameters GP_regression.Gaussian_noise.variance\n",
      "[I 2019-04-14 01:21:05,296] Finished a trial resulted in value: -1.3451288880515109. Current best value is -1.3451288880515109 with parameters: {'a': 0.7944678257968164, 'b': 0.8722652137334241, 'ab': [0.7944678257968164, 0.8722652137334241]}.\n",
      "reconstraining parameters GP_regression.mul\n",
      "reconstraining parameters GP_regression.Gaussian_noise.variance\n",
      "[I 2019-04-14 01:23:45,610] Finished a trial resulted in value: -0.45267835164922304. Current best value is -1.3451288880515109 with parameters: {'a': 0.7944678257968164, 'b': 0.8722652137334241, 'ab': [0.7944678257968164, 0.8722652137334241]}.\n",
      "reconstraining parameters GP_regression.mul\n",
      "reconstraining parameters GP_regression.Gaussian_noise.variance\n",
      "[I 2019-04-14 01:52:42,314] Finished a trial resulted in value: 0.7624453483443518. Current best value is -1.3451288880515109 with parameters: {'a': 0.7944678257968164, 'b': 0.8722652137334241, 'ab': [0.7944678257968164, 0.8722652137334241]}.\n",
      "reconstraining parameters GP_regression.mul\n",
      "reconstraining parameters GP_regression.Gaussian_noise.variance\n",
      "[I 2019-04-14 01:56:10,641] Finished a trial resulted in value: -0.5277527579160394. Current best value is -1.3451288880515109 with parameters: {'a': 0.7944678257968164, 'b': 0.8722652137334241, 'ab': [0.7944678257968164, 0.8722652137334241]}.\n",
      "reconstraining parameters GP_regression.mul\n",
      "reconstraining parameters GP_regression.Gaussian_noise.variance\n",
      "[I 2019-04-14 01:58:45,970] Finished a trial resulted in value: -1.3728425518025789. Current best value is -1.3728425518025789 with parameters: {'a': 0.7946746198968084, 'b': 0.8722934749079332, 'ab': [0.7946746198968084, 0.8722934749079332]}.\n",
      "reconstraining parameters GP_regression.mul\n",
      "reconstraining parameters GP_regression.Gaussian_noise.variance\n",
      "[I 2019-04-14 02:02:06,458] Finished a trial resulted in value: -1.5639540383270418. Current best value is -1.5639540383270418 with parameters: {'a': 0.7942096516177849, 'b': 0.872336340590471, 'ab': [0.7942096516177849, 0.872336340590471]}.\n",
      "reconstraining parameters GP_regression.mul\n",
      "reconstraining parameters GP_regression.Gaussian_noise.variance\n",
      "[I 2019-04-14 02:11:38,564] Finished a trial resulted in value: -1.5955997050999968. Current best value is -1.5955997050999968 with parameters: {'a': 0.7946041834243153, 'b': 0.8723089869853167, 'ab': [0.7946041834243153, 0.8723089869853167]}.\n",
      "reconstraining parameters GP_regression.mul\n",
      "reconstraining parameters GP_regression.Gaussian_noise.variance\n",
      "[I 2019-04-14 02:14:52,444] Finished a trial resulted in value: -0.7673870686820642. Current best value is -1.5955997050999968 with parameters: {'a': 0.7946041834243153, 'b': 0.8723089869853167, 'ab': [0.7946041834243153, 0.8723089869853167]}.\n",
      "reconstraining parameters GP_regression.mul\n",
      "reconstraining parameters GP_regression.Gaussian_noise.variance\n",
      "[I 2019-04-14 02:18:05,002] Finished a trial resulted in value: -0.8039684215216435. Current best value is -1.5955997050999968 with parameters: {'a': 0.7946041834243153, 'b': 0.8723089869853167, 'ab': [0.7946041834243153, 0.8723089869853167]}.\n",
      "reconstraining parameters GP_regression.mul\n",
      "reconstraining parameters GP_regression.Gaussian_noise.variance\n",
      "[I 2019-04-14 02:21:28,799] Finished a trial resulted in value: -1.6965935311977638. Current best value is -1.6965935311977638 with parameters: {'a': 0.7942238424744819, 'b': 0.8721164555729528, 'ab': [0.7942238424744819, 0.8721164555729528]}.\n",
      "reconstraining parameters GP_regression.mul\n",
      "reconstraining parameters GP_regression.Gaussian_noise.variance\n",
      "[I 2019-04-14 02:24:25,463] Finished a trial resulted in value: -0.3282752916812474. Current best value is -1.6965935311977638 with parameters: {'a': 0.7942238424744819, 'b': 0.8721164555729528, 'ab': [0.7942238424744819, 0.8721164555729528]}.\n",
      "reconstraining parameters GP_regression.mul\n",
      "reconstraining parameters GP_regression.Gaussian_noise.variance\n",
      "[I 2019-04-14 02:27:30,933] Finished a trial resulted in value: -1.650208481429146. Current best value is -1.6965935311977638 with parameters: {'a': 0.7942238424744819, 'b': 0.8721164555729528, 'ab': [0.7942238424744819, 0.8721164555729528]}.\n",
      "reconstraining parameters GP_regression.mul\n",
      "reconstraining parameters GP_regression.Gaussian_noise.variance\n",
      "[I 2019-04-14 02:30:41,315] Finished a trial resulted in value: -0.700960139397202. Current best value is -1.6965935311977638 with parameters: {'a': 0.7942238424744819, 'b': 0.8721164555729528, 'ab': [0.7942238424744819, 0.8721164555729528]}.\n",
      "reconstraining parameters GP_regression.mul\n",
      "reconstraining parameters GP_regression.Gaussian_noise.variance\n",
      "[I 2019-04-14 02:34:04,182] Finished a trial resulted in value: -1.6884719730117173. Current best value is -1.6965935311977638 with parameters: {'a': 0.7942238424744819, 'b': 0.8721164555729528, 'ab': [0.7942238424744819, 0.8721164555729528]}.\n",
      "reconstraining parameters GP_regression.mul\n",
      "reconstraining parameters GP_regression.Gaussian_noise.variance\n",
      "[I 2019-04-14 02:37:26,517] Finished a trial resulted in value: -1.700634129137875. Current best value is -1.700634129137875 with parameters: {'a': 0.7953770180760353, 'b': 0.8725256508690596, 'ab': [0.7953770180760353, 0.8725256508690596]}.\n",
      "reconstraining parameters GP_regression.mul\n",
      "reconstraining parameters GP_regression.Gaussian_noise.variance\n"
     ]
    },
    {
     "name": "stderr",
     "output_type": "stream",
     "text": [
      "[I 2019-04-14 02:41:07,240] Finished a trial resulted in value: -1.5776846373506825. Current best value is -1.700634129137875 with parameters: {'a': 0.7953770180760353, 'b': 0.8725256508690596, 'ab': [0.7953770180760353, 0.8725256508690596]}.\n",
      "reconstraining parameters GP_regression.mul\n",
      "reconstraining parameters GP_regression.Gaussian_noise.variance\n",
      "[I 2019-04-14 02:44:34,656] Finished a trial resulted in value: -1.764196540659646. Current best value is -1.764196540659646 with parameters: {'a': 0.796398494343388, 'b': 0.8726901778783551, 'ab': [0.796398494343388, 0.8726901778783551]}.\n",
      "reconstraining parameters GP_regression.mul\n",
      "reconstraining parameters GP_regression.Gaussian_noise.variance\n",
      "[I 2019-04-14 02:48:11,153] Finished a trial resulted in value: -0.4751463243388102. Current best value is -1.764196540659646 with parameters: {'a': 0.796398494343388, 'b': 0.8726901778783551, 'ab': [0.796398494343388, 0.8726901778783551]}.\n",
      "reconstraining parameters GP_regression.mul\n",
      "reconstraining parameters GP_regression.Gaussian_noise.variance\n",
      "[I 2019-04-14 02:51:47,041] Finished a trial resulted in value: -0.48442777970775214. Current best value is -1.764196540659646 with parameters: {'a': 0.796398494343388, 'b': 0.8726901778783551, 'ab': [0.796398494343388, 0.8726901778783551]}.\n",
      "reconstraining parameters GP_regression.mul\n",
      "reconstraining parameters GP_regression.Gaussian_noise.variance\n",
      "[I 2019-04-14 02:55:03,336] Finished a trial resulted in value: -0.3793181455037289. Current best value is -1.764196540659646 with parameters: {'a': 0.796398494343388, 'b': 0.8726901778783551, 'ab': [0.796398494343388, 0.8726901778783551]}.\n",
      "reconstraining parameters GP_regression.mul\n",
      "reconstraining parameters GP_regression.Gaussian_noise.variance\n",
      "[I 2019-04-14 02:58:24,221] Finished a trial resulted in value: 0.5726309791339627. Current best value is -1.764196540659646 with parameters: {'a': 0.796398494343388, 'b': 0.8726901778783551, 'ab': [0.796398494343388, 0.8726901778783551]}.\n",
      "reconstraining parameters GP_regression.mul\n",
      "reconstraining parameters GP_regression.Gaussian_noise.variance\n",
      "[I 2019-04-14 03:02:28,279] Finished a trial resulted in value: -0.4544481413556864. Current best value is -1.764196540659646 with parameters: {'a': 0.796398494343388, 'b': 0.8726901778783551, 'ab': [0.796398494343388, 0.8726901778783551]}.\n",
      "reconstraining parameters GP_regression.mul\n",
      "reconstraining parameters GP_regression.Gaussian_noise.variance\n",
      "[I 2019-04-14 03:06:11,639] Finished a trial resulted in value: -0.5588688939976556. Current best value is -1.764196540659646 with parameters: {'a': 0.796398494343388, 'b': 0.8726901778783551, 'ab': [0.796398494343388, 0.8726901778783551]}.\n",
      "reconstraining parameters GP_regression.mul\n",
      "reconstraining parameters GP_regression.Gaussian_noise.variance\n",
      "[I 2019-04-14 03:09:38,990] Finished a trial resulted in value: -1.867125175274449. Current best value is -1.867125175274449 with parameters: {'a': 0.7960202878319524, 'b': 0.8725208012783191, 'ab': [0.7960202878319524, 0.8725208012783191]}.\n",
      "reconstraining parameters GP_regression.mul\n",
      "reconstraining parameters GP_regression.Gaussian_noise.variance\n",
      "[I 2019-04-14 03:13:07,705] Finished a trial resulted in value: -1.927652978970678. Current best value is -1.927652978970678 with parameters: {'a': 0.7986822069997704, 'b': 0.8733148086350597, 'ab': [0.7986822069997704, 0.8733148086350597]}.\n",
      "reconstraining parameters GP_regression.mul\n",
      "reconstraining parameters GP_regression.Gaussian_noise.variance\n",
      "[I 2019-04-14 03:16:50,414] Finished a trial resulted in value: -0.24464807726253338. Current best value is -1.927652978970678 with parameters: {'a': 0.7986822069997704, 'b': 0.8733148086350597, 'ab': [0.7986822069997704, 0.8733148086350597]}.\n",
      "reconstraining parameters GP_regression.mul\n",
      "reconstraining parameters GP_regression.Gaussian_noise.variance\n",
      "[I 2019-04-14 03:20:56,474] Finished a trial resulted in value: -2.0154332066790612. Current best value is -2.0154332066790612 with parameters: {'a': 0.7962396857847649, 'b': 0.8726268810277502, 'ab': [0.7962396857847649, 0.8726268810277502]}.\n",
      "reconstraining parameters GP_regression.mul\n",
      "reconstraining parameters GP_regression.Gaussian_noise.variance\n",
      "[I 2019-04-14 03:24:44,061] Finished a trial resulted in value: -0.7314262377057728. Current best value is -2.0154332066790612 with parameters: {'a': 0.7962396857847649, 'b': 0.8726268810277502, 'ab': [0.7962396857847649, 0.8726268810277502]}.\n",
      "reconstraining parameters GP_regression.mul\n",
      "reconstraining parameters GP_regression.Gaussian_noise.variance\n",
      "[I 2019-04-14 03:28:19,807] Finished a trial resulted in value: -2.191522074220585. Current best value is -2.191522074220585 with parameters: {'a': 0.7965320905088482, 'b': 0.8725888235886402, 'ab': [0.7965320905088482, 0.8725888235886402]}.\n",
      "reconstraining parameters GP_regression.mul\n",
      "reconstraining parameters GP_regression.Gaussian_noise.variance\n",
      "[I 2019-04-14 03:32:08,508] Finished a trial resulted in value: -0.818006231253074. Current best value is -2.191522074220585 with parameters: {'a': 0.7965320905088482, 'b': 0.8725888235886402, 'ab': [0.7965320905088482, 0.8725888235886402]}.\n",
      "reconstraining parameters GP_regression.mul\n",
      "reconstraining parameters GP_regression.Gaussian_noise.variance\n",
      "[I 2019-04-14 03:35:47,811] Finished a trial resulted in value: -2.150222868435852. Current best value is -2.191522074220585 with parameters: {'a': 0.7965320905088482, 'b': 0.8725888235886402, 'ab': [0.7965320905088482, 0.8725888235886402]}.\n",
      "reconstraining parameters GP_regression.mul\n",
      "reconstraining parameters GP_regression.Gaussian_noise.variance\n",
      "[I 2019-04-14 03:39:46,460] Finished a trial resulted in value: -0.7498531669140831. Current best value is -2.191522074220585 with parameters: {'a': 0.7965320905088482, 'b': 0.8725888235886402, 'ab': [0.7965320905088482, 0.8725888235886402]}.\n",
      "reconstraining parameters GP_regression.mul\n",
      "reconstraining parameters GP_regression.Gaussian_noise.variance\n",
      "[I 2019-04-14 03:43:39,099] Finished a trial resulted in value: -2.2158515242539445. Current best value is -2.2158515242539445 with parameters: {'a': 0.7955355743881467, 'b': 0.8724431617206932, 'ab': [0.7955355743881467, 0.8724431617206932]}.\n",
      "reconstraining parameters GP_regression.mul\n",
      "reconstraining parameters GP_regression.Gaussian_noise.variance\n",
      "[I 2019-04-14 03:47:35,546] Finished a trial resulted in value: -2.258575159566768. Current best value is -2.258575159566768 with parameters: {'a': 0.7968485561022652, 'b': 0.8726679494148598, 'ab': [0.7968485561022652, 0.8726679494148598]}.\n",
      "reconstraining parameters GP_regression.mul\n",
      "reconstraining parameters GP_regression.Gaussian_noise.variance\n",
      "[I 2019-04-14 03:51:40,437] Finished a trial resulted in value: -2.09548095147683. Current best value is -2.258575159566768 with parameters: {'a': 0.7968485561022652, 'b': 0.8726679494148598, 'ab': [0.7968485561022652, 0.8726679494148598]}.\n",
      "reconstraining parameters GP_regression.mul\n",
      "reconstraining parameters GP_regression.Gaussian_noise.variance\n",
      "[I 2019-04-14 03:55:27,663] Finished a trial resulted in value: -2.2507182989657224. Current best value is -2.258575159566768 with parameters: {'a': 0.7968485561022652, 'b': 0.8726679494148598, 'ab': [0.7968485561022652, 0.8726679494148598]}.\n",
      "reconstraining parameters GP_regression.mul\n",
      "reconstraining parameters GP_regression.Gaussian_noise.variance\n",
      "[I 2019-04-14 03:59:37,830] Finished a trial resulted in value: -2.1255608875895997. Current best value is -2.258575159566768 with parameters: {'a': 0.7968485561022652, 'b': 0.8726679494148598, 'ab': [0.7968485561022652, 0.8726679494148598]}.\n",
      "reconstraining parameters GP_regression.mul\n",
      "reconstraining parameters GP_regression.Gaussian_noise.variance\n",
      "[I 2019-04-14 04:03:42,125] Finished a trial resulted in value: -1.953814961618242. Current best value is -2.258575159566768 with parameters: {'a': 0.7968485561022652, 'b': 0.8726679494148598, 'ab': [0.7968485561022652, 0.8726679494148598]}.\n",
      "reconstraining parameters GP_regression.mul\n",
      "reconstraining parameters GP_regression.Gaussian_noise.variance\n"
     ]
    },
    {
     "name": "stderr",
     "output_type": "stream",
     "text": [
      "[I 2019-04-14 04:07:33,275] Finished a trial resulted in value: -0.4255330959621632. Current best value is -2.258575159566768 with parameters: {'a': 0.7968485561022652, 'b': 0.8726679494148598, 'ab': [0.7968485561022652, 0.8726679494148598]}.\n",
      "reconstraining parameters GP_regression.mul\n",
      "reconstraining parameters GP_regression.Gaussian_noise.variance\n",
      "[I 2019-04-14 04:11:24,064] Finished a trial resulted in value: 0.6053021367716759. Current best value is -2.258575159566768 with parameters: {'a': 0.7968485561022652, 'b': 0.8726679494148598, 'ab': [0.7968485561022652, 0.8726679494148598]}.\n",
      "reconstraining parameters GP_regression.mul\n",
      "reconstraining parameters GP_regression.Gaussian_noise.variance\n",
      "[I 2019-04-14 04:15:30,622] Finished a trial resulted in value: -0.5615905045038923. Current best value is -2.258575159566768 with parameters: {'a': 0.7968485561022652, 'b': 0.8726679494148598, 'ab': [0.7968485561022652, 0.8726679494148598]}.\n",
      "reconstraining parameters GP_regression.mul\n",
      "reconstraining parameters GP_regression.Gaussian_noise.variance\n",
      "[I 2019-04-14 04:19:43,040] Finished a trial resulted in value: -2.0312802704452317. Current best value is -2.258575159566768 with parameters: {'a': 0.7968485561022652, 'b': 0.8726679494148598, 'ab': [0.7968485561022652, 0.8726679494148598]}.\n",
      "reconstraining parameters GP_regression.mul\n",
      "reconstraining parameters GP_regression.Gaussian_noise.variance\n",
      "[I 2019-04-14 04:23:36,919] Finished a trial resulted in value: -2.0660269037050414. Current best value is -2.258575159566768 with parameters: {'a': 0.7968485561022652, 'b': 0.8726679494148598, 'ab': [0.7968485561022652, 0.8726679494148598]}.\n",
      "reconstraining parameters GP_regression.mul\n",
      "reconstraining parameters GP_regression.Gaussian_noise.variance\n",
      "[I 2019-04-14 04:27:37,243] Finished a trial resulted in value: -2.221963525526851. Current best value is -2.258575159566768 with parameters: {'a': 0.7968485561022652, 'b': 0.8726679494148598, 'ab': [0.7968485561022652, 0.8726679494148598]}.\n",
      "reconstraining parameters GP_regression.mul\n",
      "reconstraining parameters GP_regression.Gaussian_noise.variance\n",
      "[I 2019-04-14 04:31:49,215] Finished a trial resulted in value: -0.8303424288017929. Current best value is -2.258575159566768 with parameters: {'a': 0.7968485561022652, 'b': 0.8726679494148598, 'ab': [0.7968485561022652, 0.8726679494148598]}.\n",
      "reconstraining parameters GP_regression.mul\n",
      "reconstraining parameters GP_regression.Gaussian_noise.variance\n",
      "[I 2019-04-14 04:36:07,562] Finished a trial resulted in value: -2.324818840705296. Current best value is -2.324818840705296 with parameters: {'a': 0.7963406864026619, 'b': 0.872460168254329, 'ab': [0.7963406864026619, 0.872460168254329]}.\n",
      "reconstraining parameters GP_regression.mul\n",
      "reconstraining parameters GP_regression.Gaussian_noise.variance\n",
      "[I 2019-04-14 04:40:11,594] Finished a trial resulted in value: -0.9290104599853267. Current best value is -2.324818840705296 with parameters: {'a': 0.7963406864026619, 'b': 0.872460168254329, 'ab': [0.7963406864026619, 0.872460168254329]}.\n",
      "reconstraining parameters GP_regression.mul\n",
      "reconstraining parameters GP_regression.Gaussian_noise.variance\n",
      "[I 2019-04-14 04:44:01,182] Finished a trial resulted in value: -2.150551049225023. Current best value is -2.324818840705296 with parameters: {'a': 0.7963406864026619, 'b': 0.872460168254329, 'ab': [0.7963406864026619, 0.872460168254329]}.\n",
      "reconstraining parameters GP_regression.mul\n",
      "reconstraining parameters GP_regression.Gaussian_noise.variance\n",
      "[I 2019-04-14 04:48:27,243] Finished a trial resulted in value: -2.3897637982606414. Current best value is -2.3897637982606414 with parameters: {'a': 0.7982203938961118, 'b': 0.8727180922633605, 'ab': [0.7982203938961118, 0.8727180922633605]}.\n",
      "reconstraining parameters GP_regression.mul\n",
      "reconstraining parameters GP_regression.Gaussian_noise.variance\n",
      "[I 2019-04-14 04:52:29,660] Finished a trial resulted in value: -2.3229461848762796. Current best value is -2.3897637982606414 with parameters: {'a': 0.7982203938961118, 'b': 0.8727180922633605, 'ab': [0.7982203938961118, 0.8727180922633605]}.\n",
      "reconstraining parameters GP_regression.mul\n",
      "reconstraining parameters GP_regression.Gaussian_noise.variance\n",
      "[I 2019-04-14 04:56:42,669] Finished a trial resulted in value: -2.338113493526513. Current best value is -2.3897637982606414 with parameters: {'a': 0.7982203938961118, 'b': 0.8727180922633605, 'ab': [0.7982203938961118, 0.8727180922633605]}.\n",
      "reconstraining parameters GP_regression.mul\n",
      "reconstraining parameters GP_regression.Gaussian_noise.variance\n",
      "[I 2019-04-14 05:00:44,562] Finished a trial resulted in value: -2.521129126690983. Current best value is -2.521129126690983 with parameters: {'a': 0.7997386443668884, 'b': 0.8728655514124518, 'ab': [0.7997386443668884, 0.8728655514124518]}.\n",
      "reconstraining parameters GP_regression.mul\n",
      "reconstraining parameters GP_regression.Gaussian_noise.variance\n",
      "[I 2019-04-14 05:05:00,690] Finished a trial resulted in value: 0.4036089607033855. Current best value is -2.521129126690983 with parameters: {'a': 0.7997386443668884, 'b': 0.8728655514124518, 'ab': [0.7997386443668884, 0.8728655514124518]}.\n",
      "reconstraining parameters GP_regression.mul\n",
      "reconstraining parameters GP_regression.Gaussian_noise.variance\n",
      "[I 2019-04-14 05:09:09,615] Finished a trial resulted in value: -2.7008513874440774. Current best value is -2.7008513874440774 with parameters: {'a': 0.7979934463323758, 'b': 0.8726432118826273, 'ab': [0.7979934463323758, 0.8726432118826273]}.\n",
      "reconstraining parameters GP_regression.mul\n",
      "reconstraining parameters GP_regression.Gaussian_noise.variance\n",
      "[I 2019-04-14 05:13:20,012] Finished a trial resulted in value: -2.7187366915122335. Current best value is -2.7187366915122335 with parameters: {'a': 0.7979522301466889, 'b': 0.8726716522910328, 'ab': [0.7979522301466889, 0.8726716522910328]}.\n",
      "reconstraining parameters GP_regression.mul\n",
      "reconstraining parameters GP_regression.Gaussian_noise.variance\n",
      "[I 2019-04-14 05:17:41,101] Finished a trial resulted in value: -2.798151432113344. Current best value is -2.798151432113344 with parameters: {'a': 0.7976287998919864, 'b': 0.8725751503628663, 'ab': [0.7976287998919864, 0.8725751503628663]}.\n",
      "reconstraining parameters GP_regression.mul\n",
      "reconstraining parameters GP_regression.Gaussian_noise.variance\n",
      "[I 2019-04-14 05:21:57,010] Finished a trial resulted in value: -2.861708053873153. Current best value is -2.861708053873153 with parameters: {'a': 0.7984089413557529, 'b': 0.8726677353768699, 'ab': [0.7984089413557529, 0.8726677353768699]}.\n",
      "reconstraining parameters GP_regression.mul\n",
      "reconstraining parameters GP_regression.Gaussian_noise.variance\n",
      "[I 2019-04-14 05:26:19,045] Finished a trial resulted in value: -2.8096698073483606. Current best value is -2.861708053873153 with parameters: {'a': 0.7984089413557529, 'b': 0.8726677353768699, 'ab': [0.7984089413557529, 0.8726677353768699]}.\n",
      "reconstraining parameters GP_regression.mul\n",
      "reconstraining parameters GP_regression.Gaussian_noise.variance\n",
      "[I 2019-04-14 05:30:44,756] Finished a trial resulted in value: -2.927688761677871. Current best value is -2.927688761677871 with parameters: {'a': 0.7976725926942748, 'b': 0.87273843209924, 'ab': [0.7976725926942748, 0.87273843209924]}.\n",
      "reconstraining parameters GP_regression.mul\n",
      "reconstraining parameters GP_regression.Gaussian_noise.variance\n",
      "[I 2019-04-14 05:35:08,235] Finished a trial resulted in value: -2.996392611175523. Current best value is -2.996392611175523 with parameters: {'a': 0.7981917391917006, 'b': 0.8725471506254875, 'ab': [0.7981917391917006, 0.8725471506254875]}.\n",
      "reconstraining parameters GP_regression.mul\n",
      "reconstraining parameters GP_regression.Gaussian_noise.variance\n",
      "[I 2019-04-14 05:39:18,857] Finished a trial resulted in value: -3.084418733105957. Current best value is -3.084418733105957 with parameters: {'a': 0.8018696728386422, 'b': 0.8729531548290674, 'ab': [0.8018696728386422, 0.8729531548290674]}.\n",
      "reconstraining parameters GP_regression.mul\n",
      "reconstraining parameters GP_regression.Gaussian_noise.variance\n"
     ]
    },
    {
     "name": "stderr",
     "output_type": "stream",
     "text": [
      "[I 2019-04-14 05:43:41,587] Finished a trial resulted in value: -1.6687790172217614. Current best value is -3.084418733105957 with parameters: {'a': 0.8018696728386422, 'b': 0.8729531548290674, 'ab': [0.8018696728386422, 0.8729531548290674]}.\n",
      "reconstraining parameters GP_regression.mul\n",
      "reconstraining parameters GP_regression.Gaussian_noise.variance\n",
      "[I 2019-04-14 05:47:55,860] Finished a trial resulted in value: -3.0508694055293164. Current best value is -3.084418733105957 with parameters: {'a': 0.8018696728386422, 'b': 0.8729531548290674, 'ab': [0.8018696728386422, 0.8729531548290674]}.\n",
      "reconstraining parameters GP_regression.mul\n",
      "reconstraining parameters GP_regression.Gaussian_noise.variance\n",
      "[I 2019-04-14 05:52:02,802] Finished a trial resulted in value: -1.8333022810002704. Current best value is -3.084418733105957 with parameters: {'a': 0.8018696728386422, 'b': 0.8729531548290674, 'ab': [0.8018696728386422, 0.8729531548290674]}.\n",
      "reconstraining parameters GP_regression.mul\n",
      "reconstraining parameters GP_regression.Gaussian_noise.variance\n",
      "[I 2019-04-14 05:56:48,869] Finished a trial resulted in value: -2.90792238840255. Current best value is -3.084418733105957 with parameters: {'a': 0.8018696728386422, 'b': 0.8729531548290674, 'ab': [0.8018696728386422, 0.8729531548290674]}.\n",
      "reconstraining parameters GP_regression.mul\n",
      "reconstraining parameters GP_regression.Gaussian_noise.variance\n",
      "[I 2019-04-14 06:01:37,181] Finished a trial resulted in value: -3.0040028812188915. Current best value is -3.084418733105957 with parameters: {'a': 0.8018696728386422, 'b': 0.8729531548290674, 'ab': [0.8018696728386422, 0.8729531548290674]}.\n",
      "reconstraining parameters GP_regression.mul\n",
      "reconstraining parameters GP_regression.Gaussian_noise.variance\n",
      "[I 2019-04-14 06:05:54,916] Finished a trial resulted in value: -2.942032611175814. Current best value is -3.084418733105957 with parameters: {'a': 0.8018696728386422, 'b': 0.8729531548290674, 'ab': [0.8018696728386422, 0.8729531548290674]}.\n",
      "reconstraining parameters GP_regression.mul\n",
      "reconstraining parameters GP_regression.Gaussian_noise.variance\n",
      "[I 2019-04-14 06:11:00,813] Finished a trial resulted in value: -2.9349727368498177. Current best value is -3.084418733105957 with parameters: {'a': 0.8018696728386422, 'b': 0.8729531548290674, 'ab': [0.8018696728386422, 0.8729531548290674]}.\n",
      "reconstraining parameters GP_regression.mul\n",
      "reconstraining parameters GP_regression.Gaussian_noise.variance\n",
      "[I 2019-04-14 06:15:32,148] Finished a trial resulted in value: -2.8968184360048355. Current best value is -3.084418733105957 with parameters: {'a': 0.8018696728386422, 'b': 0.8729531548290674, 'ab': [0.8018696728386422, 0.8729531548290674]}.\n",
      "reconstraining parameters GP_regression.mul\n",
      "reconstraining parameters GP_regression.Gaussian_noise.variance\n",
      "[I 2019-04-14 06:20:03,574] Finished a trial resulted in value: -2.9897273076177933. Current best value is -3.084418733105957 with parameters: {'a': 0.8018696728386422, 'b': 0.8729531548290674, 'ab': [0.8018696728386422, 0.8729531548290674]}.\n",
      "reconstraining parameters GP_regression.mul\n",
      "reconstraining parameters GP_regression.Gaussian_noise.variance\n",
      "[I 2019-04-14 06:24:28,040] Finished a trial resulted in value: -1.5353349085511536. Current best value is -3.084418733105957 with parameters: {'a': 0.8018696728386422, 'b': 0.8729531548290674, 'ab': [0.8018696728386422, 0.8729531548290674]}.\n",
      "reconstraining parameters GP_regression.mul\n",
      "reconstraining parameters GP_regression.Gaussian_noise.variance\n",
      "[I 2019-04-14 06:28:57,173] Finished a trial resulted in value: -3.068945861209919. Current best value is -3.084418733105957 with parameters: {'a': 0.8018696728386422, 'b': 0.8729531548290674, 'ab': [0.8018696728386422, 0.8729531548290674]}.\n",
      "reconstraining parameters GP_regression.mul\n",
      "reconstraining parameters GP_regression.Gaussian_noise.variance\n",
      "[I 2019-04-14 06:34:04,977] Finished a trial resulted in value: -3.1556967794086153. Current best value is -3.1556967794086153 with parameters: {'a': 0.8009485229666496, 'b': 0.8726374358277293, 'ab': [0.8009485229666496, 0.8726374358277293]}.\n",
      "reconstraining parameters GP_regression.mul\n",
      "reconstraining parameters GP_regression.Gaussian_noise.variance\n",
      "[I 2019-04-14 06:38:54,288] Finished a trial resulted in value: -3.0057764518946626. Current best value is -3.1556967794086153 with parameters: {'a': 0.8009485229666496, 'b': 0.8726374358277293, 'ab': [0.8009485229666496, 0.8726374358277293]}.\n",
      "reconstraining parameters GP_regression.mul\n",
      "reconstraining parameters GP_regression.Gaussian_noise.variance\n",
      "[I 2019-04-14 06:43:35,781] Finished a trial resulted in value: -2.922890119741905. Current best value is -3.1556967794086153 with parameters: {'a': 0.8009485229666496, 'b': 0.8726374358277293, 'ab': [0.8009485229666496, 0.8726374358277293]}.\n",
      "reconstraining parameters GP_regression.mul\n",
      "reconstraining parameters GP_regression.Gaussian_noise.variance\n",
      "[I 2019-04-14 06:48:18,682] Finished a trial resulted in value: -2.8234490784057726. Current best value is -3.1556967794086153 with parameters: {'a': 0.8009485229666496, 'b': 0.8726374358277293, 'ab': [0.8009485229666496, 0.8726374358277293]}.\n",
      "reconstraining parameters GP_regression.mul\n",
      "reconstraining parameters GP_regression.Gaussian_noise.variance\n",
      "[I 2019-04-14 06:53:14,339] Finished a trial resulted in value: 0.39962739275350734. Current best value is -3.1556967794086153 with parameters: {'a': 0.8009485229666496, 'b': 0.8726374358277293, 'ab': [0.8009485229666496, 0.8726374358277293]}.\n",
      "reconstraining parameters GP_regression.mul\n",
      "reconstraining parameters GP_regression.Gaussian_noise.variance\n",
      "[I 2019-04-14 06:57:49,367] Finished a trial resulted in value: -2.559261935069159. Current best value is -3.1556967794086153 with parameters: {'a': 0.8009485229666496, 'b': 0.8726374358277293, 'ab': [0.8009485229666496, 0.8726374358277293]}.\n",
      "reconstraining parameters GP_regression.mul\n",
      "reconstraining parameters GP_regression.Gaussian_noise.variance\n",
      "[I 2019-04-14 07:02:38,118] Finished a trial resulted in value: -2.7435881938464357. Current best value is -3.1556967794086153 with parameters: {'a': 0.8009485229666496, 'b': 0.8726374358277293, 'ab': [0.8009485229666496, 0.8726374358277293]}.\n",
      "reconstraining parameters GP_regression.mul\n",
      "reconstraining parameters GP_regression.Gaussian_noise.variance\n",
      "[I 2019-04-14 07:07:16,077] Finished a trial resulted in value: 0.5007774445290823. Current best value is -3.1556967794086153 with parameters: {'a': 0.8009485229666496, 'b': 0.8726374358277293, 'ab': [0.8009485229666496, 0.8726374358277293]}.\n",
      "reconstraining parameters GP_regression.mul\n",
      "reconstraining parameters GP_regression.Gaussian_noise.variance\n",
      "[I 2019-04-14 07:11:40,290] Finished a trial resulted in value: -2.9337492740784805. Current best value is -3.1556967794086153 with parameters: {'a': 0.8009485229666496, 'b': 0.8726374358277293, 'ab': [0.8009485229666496, 0.8726374358277293]}.\n",
      "reconstraining parameters GP_regression.mul\n",
      "reconstraining parameters GP_regression.Gaussian_noise.variance\n",
      "[I 2019-04-14 07:16:26,996] Finished a trial resulted in value: -2.8829440957416748. Current best value is -3.1556967794086153 with parameters: {'a': 0.8009485229666496, 'b': 0.8726374358277293, 'ab': [0.8009485229666496, 0.8726374358277293]}.\n",
      "reconstraining parameters GP_regression.mul\n",
      "reconstraining parameters GP_regression.Gaussian_noise.variance\n",
      "[I 2019-04-14 07:21:30,521] Finished a trial resulted in value: -2.694269582443981. Current best value is -3.1556967794086153 with parameters: {'a': 0.8009485229666496, 'b': 0.8726374358277293, 'ab': [0.8009485229666496, 0.8726374358277293]}.\n",
      "reconstraining parameters GP_regression.mul\n",
      "reconstraining parameters GP_regression.Gaussian_noise.variance\n",
      "[I 2019-04-14 07:26:35,463] Finished a trial resulted in value: -1.143000532371809. Current best value is -3.1556967794086153 with parameters: {'a': 0.8009485229666496, 'b': 0.8726374358277293, 'ab': [0.8009485229666496, 0.8726374358277293]}.\n",
      "reconstraining parameters GP_regression.mul\n",
      "reconstraining parameters GP_regression.Gaussian_noise.variance\n"
     ]
    },
    {
     "name": "stderr",
     "output_type": "stream",
     "text": [
      "[I 2019-04-14 07:31:20,192] Finished a trial resulted in value: -0.9598020468417425. Current best value is -3.1556967794086153 with parameters: {'a': 0.8009485229666496, 'b': 0.8726374358277293, 'ab': [0.8009485229666496, 0.8726374358277293]}.\n",
      "reconstraining parameters GP_regression.mul\n",
      "reconstraining parameters GP_regression.Gaussian_noise.variance\n",
      "[I 2019-04-14 07:36:12,698] Finished a trial resulted in value: -0.869926611937836. Current best value is -3.1556967794086153 with parameters: {'a': 0.8009485229666496, 'b': 0.8726374358277293, 'ab': [0.8009485229666496, 0.8726374358277293]}.\n",
      "reconstraining parameters GP_regression.mul\n",
      "reconstraining parameters GP_regression.Gaussian_noise.variance\n",
      "[I 2019-04-14 07:41:08,882] Finished a trial resulted in value: -0.7486604461547886. Current best value is -3.1556967794086153 with parameters: {'a': 0.8009485229666496, 'b': 0.8726374358277293, 'ab': [0.8009485229666496, 0.8726374358277293]}.\n",
      "reconstraining parameters GP_regression.mul\n",
      "reconstraining parameters GP_regression.Gaussian_noise.variance\n",
      "[I 2019-04-14 07:46:10,751] Finished a trial resulted in value: -2.3910301827515505. Current best value is -3.1556967794086153 with parameters: {'a': 0.8009485229666496, 'b': 0.8726374358277293, 'ab': [0.8009485229666496, 0.8726374358277293]}.\n",
      "reconstraining parameters GP_regression.mul\n",
      "reconstraining parameters GP_regression.Gaussian_noise.variance\n",
      "[I 2019-04-14 07:51:16,449] Finished a trial resulted in value: -2.460303347247247. Current best value is -3.1556967794086153 with parameters: {'a': 0.8009485229666496, 'b': 0.8726374358277293, 'ab': [0.8009485229666496, 0.8726374358277293]}.\n",
      "reconstraining parameters GP_regression.mul\n",
      "reconstraining parameters GP_regression.Gaussian_noise.variance\n",
      "[I 2019-04-14 07:56:11,115] Finished a trial resulted in value: -0.624992852664692. Current best value is -3.1556967794086153 with parameters: {'a': 0.8009485229666496, 'b': 0.8726374358277293, 'ab': [0.8009485229666496, 0.8726374358277293]}.\n",
      "reconstraining parameters GP_regression.mul\n",
      "reconstraining parameters GP_regression.Gaussian_noise.variance\n",
      "[I 2019-04-14 08:01:33,444] Finished a trial resulted in value: -2.346512291076685. Current best value is -3.1556967794086153 with parameters: {'a': 0.8009485229666496, 'b': 0.8726374358277293, 'ab': [0.8009485229666496, 0.8726374358277293]}.\n",
      "reconstraining parameters GP_regression.mul\n",
      "reconstraining parameters GP_regression.Gaussian_noise.variance\n",
      "[I 2019-04-14 08:06:52,948] Finished a trial resulted in value: -2.0633471787955537. Current best value is -3.1556967794086153 with parameters: {'a': 0.8009485229666496, 'b': 0.8726374358277293, 'ab': [0.8009485229666496, 0.8726374358277293]}.\n",
      "reconstraining parameters GP_regression.mul\n",
      "reconstraining parameters GP_regression.Gaussian_noise.variance\n",
      "[I 2019-04-14 08:11:56,684] Finished a trial resulted in value: -1.983896451654582. Current best value is -3.1556967794086153 with parameters: {'a': 0.8009485229666496, 'b': 0.8726374358277293, 'ab': [0.8009485229666496, 0.8726374358277293]}.\n",
      "reconstraining parameters GP_regression.mul\n",
      "reconstraining parameters GP_regression.Gaussian_noise.variance\n",
      "[I 2019-04-14 08:17:08,275] Finished a trial resulted in value: -1.9589792903436556. Current best value is -3.1556967794086153 with parameters: {'a': 0.8009485229666496, 'b': 0.8726374358277293, 'ab': [0.8009485229666496, 0.8726374358277293]}.\n",
      "reconstraining parameters GP_regression.mul\n",
      "reconstraining parameters GP_regression.Gaussian_noise.variance\n",
      "[I 2019-04-14 08:22:32,373] Finished a trial resulted in value: -1.813792239484749. Current best value is -3.1556967794086153 with parameters: {'a': 0.8009485229666496, 'b': 0.8726374358277293, 'ab': [0.8009485229666496, 0.8726374358277293]}.\n",
      "reconstraining parameters GP_regression.mul\n",
      "reconstraining parameters GP_regression.Gaussian_noise.variance\n",
      "[I 2019-04-14 08:28:11,447] Finished a trial resulted in value: 1.2814291159923434. Current best value is -3.1556967794086153 with parameters: {'a': 0.8009485229666496, 'b': 0.8726374358277293, 'ab': [0.8009485229666496, 0.8726374358277293]}.\n",
      "reconstraining parameters GP_regression.mul\n",
      "reconstraining parameters GP_regression.Gaussian_noise.variance\n",
      "[I 2019-04-14 08:33:22,246] Finished a trial resulted in value: -2.006294289409753. Current best value is -3.1556967794086153 with parameters: {'a': 0.8009485229666496, 'b': 0.8726374358277293, 'ab': [0.8009485229666496, 0.8726374358277293]}.\n",
      "reconstraining parameters GP_regression.mul\n",
      "reconstraining parameters GP_regression.Gaussian_noise.variance\n",
      "[I 2019-04-14 08:38:43,525] Finished a trial resulted in value: -1.9286005529719992. Current best value is -3.1556967794086153 with parameters: {'a': 0.8009485229666496, 'b': 0.8726374358277293, 'ab': [0.8009485229666496, 0.8726374358277293]}.\n",
      "reconstraining parameters GP_regression.mul\n",
      "reconstraining parameters GP_regression.Gaussian_noise.variance\n",
      "[I 2019-04-14 08:44:07,327] Finished a trial resulted in value: -2.291444956494515. Current best value is -3.1556967794086153 with parameters: {'a': 0.8009485229666496, 'b': 0.8726374358277293, 'ab': [0.8009485229666496, 0.8726374358277293]}.\n",
      "reconstraining parameters GP_regression.mul\n",
      "reconstraining parameters GP_regression.Gaussian_noise.variance\n",
      "[I 2019-04-14 08:49:32,896] Finished a trial resulted in value: -2.2235936562340886. Current best value is -3.1556967794086153 with parameters: {'a': 0.8009485229666496, 'b': 0.8726374358277293, 'ab': [0.8009485229666496, 0.8726374358277293]}.\n",
      "reconstraining parameters GP_regression.mul\n",
      "reconstraining parameters GP_regression.Gaussian_noise.variance\n",
      "[I 2019-04-14 08:55:31,879] Finished a trial resulted in value: 1.1045428889874456. Current best value is -3.1556967794086153 with parameters: {'a': 0.8009485229666496, 'b': 0.8726374358277293, 'ab': [0.8009485229666496, 0.8726374358277293]}.\n",
      "reconstraining parameters GP_regression.mul\n",
      "reconstraining parameters GP_regression.Gaussian_noise.variance\n",
      "[I 2019-04-14 09:01:34,165] Finished a trial resulted in value: -2.4482902045024466. Current best value is -3.1556967794086153 with parameters: {'a': 0.8009485229666496, 'b': 0.8726374358277293, 'ab': [0.8009485229666496, 0.8726374358277293]}.\n",
      "reconstraining parameters GP_regression.mul\n",
      "reconstraining parameters GP_regression.Gaussian_noise.variance\n",
      "[I 2019-04-14 09:07:39,614] Finished a trial resulted in value: -0.6250817398521156. Current best value is -3.1556967794086153 with parameters: {'a': 0.8009485229666496, 'b': 0.8726374358277293, 'ab': [0.8009485229666496, 0.8726374358277293]}.\n",
      "reconstraining parameters GP_regression.mul\n",
      "reconstraining parameters GP_regression.Gaussian_noise.variance\n",
      "[I 2019-04-14 09:14:15,424] Finished a trial resulted in value: -2.4909361909351126. Current best value is -3.1556967794086153 with parameters: {'a': 0.8009485229666496, 'b': 0.8726374358277293, 'ab': [0.8009485229666496, 0.8726374358277293]}.\n",
      "reconstraining parameters GP_regression.mul\n",
      "reconstraining parameters GP_regression.Gaussian_noise.variance\n",
      "[I 2019-04-14 09:20:44,698] Finished a trial resulted in value: -2.522988744113428. Current best value is -3.1556967794086153 with parameters: {'a': 0.8009485229666496, 'b': 0.8726374358277293, 'ab': [0.8009485229666496, 0.8726374358277293]}.\n",
      "reconstraining parameters GP_regression.mul\n",
      "reconstraining parameters GP_regression.Gaussian_noise.variance\n",
      "[I 2019-04-14 09:26:11,788] Finished a trial resulted in value: -2.314345175700614. Current best value is -3.1556967794086153 with parameters: {'a': 0.8009485229666496, 'b': 0.8726374358277293, 'ab': [0.8009485229666496, 0.8726374358277293]}.\n",
      "reconstraining parameters GP_regression.mul\n",
      "reconstraining parameters GP_regression.Gaussian_noise.variance\n",
      "[I 2019-04-14 09:31:49,245] Finished a trial resulted in value: -2.1895910885341845. Current best value is -3.1556967794086153 with parameters: {'a': 0.8009485229666496, 'b': 0.8726374358277293, 'ab': [0.8009485229666496, 0.8726374358277293]}.\n",
      "reconstraining parameters GP_regression.mul\n",
      "reconstraining parameters GP_regression.Gaussian_noise.variance\n"
     ]
    },
    {
     "name": "stderr",
     "output_type": "stream",
     "text": [
      "[I 2019-04-14 09:37:14,011] Finished a trial resulted in value: -2.1455989591723217. Current best value is -3.1556967794086153 with parameters: {'a': 0.8009485229666496, 'b': 0.8726374358277293, 'ab': [0.8009485229666496, 0.8726374358277293]}.\n",
      "reconstraining parameters GP_regression.mul\n",
      "reconstraining parameters GP_regression.Gaussian_noise.variance\n",
      "[I 2019-04-14 09:43:08,046] Finished a trial resulted in value: -0.24464029281873578. Current best value is -3.1556967794086153 with parameters: {'a': 0.8009485229666496, 'b': 0.8726374358277293, 'ab': [0.8009485229666496, 0.8726374358277293]}.\n",
      "reconstraining parameters GP_regression.mul\n",
      "reconstraining parameters GP_regression.Gaussian_noise.variance\n",
      "[I 2019-04-14 09:48:49,780] Finished a trial resulted in value: -0.2756629284200345. Current best value is -3.1556967794086153 with parameters: {'a': 0.8009485229666496, 'b': 0.8726374358277293, 'ab': [0.8009485229666496, 0.8726374358277293]}.\n",
      "reconstraining parameters GP_regression.mul\n",
      "reconstraining parameters GP_regression.Gaussian_noise.variance\n",
      "[I 2019-04-14 09:54:39,503] Finished a trial resulted in value: -2.321434103146085. Current best value is -3.1556967794086153 with parameters: {'a': 0.8009485229666496, 'b': 0.8726374358277293, 'ab': [0.8009485229666496, 0.8726374358277293]}.\n",
      "reconstraining parameters GP_regression.mul\n",
      "reconstraining parameters GP_regression.Gaussian_noise.variance\n",
      "[I 2019-04-14 10:00:09,837] Finished a trial resulted in value: -1.9654486925078638. Current best value is -3.1556967794086153 with parameters: {'a': 0.8009485229666496, 'b': 0.8726374358277293, 'ab': [0.8009485229666496, 0.8726374358277293]}.\n",
      "reconstraining parameters GP_regression.mul\n",
      "reconstraining parameters GP_regression.Gaussian_noise.variance\n",
      "[I 2019-04-14 10:05:57,451] Finished a trial resulted in value: -2.1417246164681227. Current best value is -3.1556967794086153 with parameters: {'a': 0.8009485229666496, 'b': 0.8726374358277293, 'ab': [0.8009485229666496, 0.8726374358277293]}.\n",
      "reconstraining parameters GP_regression.mul\n",
      "reconstraining parameters GP_regression.Gaussian_noise.variance\n",
      "[I 2019-04-14 10:11:54,800] Finished a trial resulted in value: -2.2015777488429737. Current best value is -3.1556967794086153 with parameters: {'a': 0.8009485229666496, 'b': 0.8726374358277293, 'ab': [0.8009485229666496, 0.8726374358277293]}.\n",
      "reconstraining parameters GP_regression.mul\n",
      "reconstraining parameters GP_regression.Gaussian_noise.variance\n",
      "[I 2019-04-14 10:18:00,850] Finished a trial resulted in value: -2.187487743176131. Current best value is -3.1556967794086153 with parameters: {'a': 0.8009485229666496, 'b': 0.8726374358277293, 'ab': [0.8009485229666496, 0.8726374358277293]}.\n",
      "reconstraining parameters GP_regression.mul\n",
      "reconstraining parameters GP_regression.Gaussian_noise.variance\n",
      "[I 2019-04-14 10:23:49,434] Finished a trial resulted in value: -2.3106196034755957. Current best value is -3.1556967794086153 with parameters: {'a': 0.8009485229666496, 'b': 0.8726374358277293, 'ab': [0.8009485229666496, 0.8726374358277293]}.\n",
      "reconstraining parameters GP_regression.mul\n",
      "reconstraining parameters GP_regression.Gaussian_noise.variance\n",
      "[I 2019-04-14 10:29:39,708] Finished a trial resulted in value: -0.34003436438805956. Current best value is -3.1556967794086153 with parameters: {'a': 0.8009485229666496, 'b': 0.8726374358277293, 'ab': [0.8009485229666496, 0.8726374358277293]}.\n",
      "reconstraining parameters GP_regression.mul\n",
      "reconstraining parameters GP_regression.Gaussian_noise.variance\n",
      "[I 2019-04-14 10:36:01,360] Finished a trial resulted in value: -2.3519453523190252. Current best value is -3.1556967794086153 with parameters: {'a': 0.8009485229666496, 'b': 0.8726374358277293, 'ab': [0.8009485229666496, 0.8726374358277293]}.\n",
      "reconstraining parameters GP_regression.mul\n",
      "reconstraining parameters GP_regression.Gaussian_noise.variance\n",
      "[I 2019-04-14 10:41:49,752] Finished a trial resulted in value: 1.5135981449207054. Current best value is -3.1556967794086153 with parameters: {'a': 0.8009485229666496, 'b': 0.8726374358277293, 'ab': [0.8009485229666496, 0.8726374358277293]}.\n",
      "reconstraining parameters GP_regression.mul\n",
      "reconstraining parameters GP_regression.Gaussian_noise.variance\n",
      "[I 2019-04-14 10:48:03,484] Finished a trial resulted in value: 1.561028358350933. Current best value is -3.1556967794086153 with parameters: {'a': 0.8009485229666496, 'b': 0.8726374358277293, 'ab': [0.8009485229666496, 0.8726374358277293]}.\n",
      "reconstraining parameters GP_regression.mul\n",
      "reconstraining parameters GP_regression.Gaussian_noise.variance\n",
      "[I 2019-04-14 10:54:25,142] Finished a trial resulted in value: -2.110793094342855. Current best value is -3.1556967794086153 with parameters: {'a': 0.8009485229666496, 'b': 0.8726374358277293, 'ab': [0.8009485229666496, 0.8726374358277293]}.\n",
      "reconstraining parameters GP_regression.mul\n",
      "reconstraining parameters GP_regression.Gaussian_noise.variance\n",
      "[I 2019-04-14 11:00:49,401] Finished a trial resulted in value: -0.3159133528236489. Current best value is -3.1556967794086153 with parameters: {'a': 0.8009485229666496, 'b': 0.8726374358277293, 'ab': [0.8009485229666496, 0.8726374358277293]}.\n",
      "reconstraining parameters GP_regression.mul\n",
      "reconstraining parameters GP_regression.Gaussian_noise.variance\n",
      "[I 2019-04-14 11:07:15,589] Finished a trial resulted in value: -0.31708227168938724. Current best value is -3.1556967794086153 with parameters: {'a': 0.8009485229666496, 'b': 0.8726374358277293, 'ab': [0.8009485229666496, 0.8726374358277293]}.\n",
      "reconstraining parameters GP_regression.mul\n",
      "reconstraining parameters GP_regression.Gaussian_noise.variance\n",
      "[I 2019-04-14 11:13:39,890] Finished a trial resulted in value: 1.2899315788201664. Current best value is -3.1556967794086153 with parameters: {'a': 0.8009485229666496, 'b': 0.8726374358277293, 'ab': [0.8009485229666496, 0.8726374358277293]}.\n",
      "reconstraining parameters GP_regression.mul\n",
      "reconstraining parameters GP_regression.Gaussian_noise.variance\n",
      "[I 2019-04-14 11:20:09,122] Finished a trial resulted in value: -2.343155685885201. Current best value is -3.1556967794086153 with parameters: {'a': 0.8009485229666496, 'b': 0.8726374358277293, 'ab': [0.8009485229666496, 0.8726374358277293]}.\n",
      "reconstraining parameters GP_regression.mul\n",
      "reconstraining parameters GP_regression.Gaussian_noise.variance\n",
      "[I 2019-04-14 11:26:28,194] Finished a trial resulted in value: -0.01428799943904241. Current best value is -3.1556967794086153 with parameters: {'a': 0.8009485229666496, 'b': 0.8726374358277293, 'ab': [0.8009485229666496, 0.8726374358277293]}.\n",
      "reconstraining parameters GP_regression.mul\n",
      "reconstraining parameters GP_regression.Gaussian_noise.variance\n",
      "[I 2019-04-14 11:32:35,715] Finished a trial resulted in value: -2.051193979377494. Current best value is -3.1556967794086153 with parameters: {'a': 0.8009485229666496, 'b': 0.8726374358277293, 'ab': [0.8009485229666496, 0.8726374358277293]}.\n",
      "reconstraining parameters GP_regression.mul\n",
      "reconstraining parameters GP_regression.Gaussian_noise.variance\n",
      "[I 2019-04-14 11:38:53,203] Finished a trial resulted in value: 1.4402206554183326. Current best value is -3.1556967794086153 with parameters: {'a': 0.8009485229666496, 'b': 0.8726374358277293, 'ab': [0.8009485229666496, 0.8726374358277293]}.\n",
      "reconstraining parameters GP_regression.mul\n",
      "reconstraining parameters GP_regression.Gaussian_noise.variance\n",
      "[I 2019-04-14 11:45:48,056] Finished a trial resulted in value: -1.7050784724909585. Current best value is -3.1556967794086153 with parameters: {'a': 0.8009485229666496, 'b': 0.8726374358277293, 'ab': [0.8009485229666496, 0.8726374358277293]}.\n",
      "reconstraining parameters GP_regression.mul\n",
      "reconstraining parameters GP_regression.Gaussian_noise.variance\n",
      "[I 2019-04-14 11:52:01,372] Finished a trial resulted in value: -1.601211896314082. Current best value is -3.1556967794086153 with parameters: {'a': 0.8009485229666496, 'b': 0.8726374358277293, 'ab': [0.8009485229666496, 0.8726374358277293]}.\n",
      "reconstraining parameters GP_regression.mul\n",
      "reconstraining parameters GP_regression.Gaussian_noise.variance\n"
     ]
    },
    {
     "name": "stderr",
     "output_type": "stream",
     "text": [
      "[I 2019-04-14 11:58:36,519] Finished a trial resulted in value: -1.4285853638533568. Current best value is -3.1556967794086153 with parameters: {'a': 0.8009485229666496, 'b': 0.8726374358277293, 'ab': [0.8009485229666496, 0.8726374358277293]}.\n",
      "reconstraining parameters GP_regression.mul\n",
      "reconstraining parameters GP_regression.Gaussian_noise.variance\n",
      "[I 2019-04-14 12:04:56,131] Finished a trial resulted in value: -1.6779499731686935. Current best value is -3.1556967794086153 with parameters: {'a': 0.8009485229666496, 'b': 0.8726374358277293, 'ab': [0.8009485229666496, 0.8726374358277293]}.\n",
      "reconstraining parameters GP_regression.mul\n",
      "reconstraining parameters GP_regression.Gaussian_noise.variance\n",
      "[I 2019-04-14 12:12:11,396] Finished a trial resulted in value: -1.4001532307583506. Current best value is -3.1556967794086153 with parameters: {'a': 0.8009485229666496, 'b': 0.8726374358277293, 'ab': [0.8009485229666496, 0.8726374358277293]}.\n",
      "reconstraining parameters GP_regression.mul\n",
      "reconstraining parameters GP_regression.Gaussian_noise.variance\n",
      "[I 2019-04-14 12:18:56,477] Finished a trial resulted in value: -1.7389643152463834. Current best value is -3.1556967794086153 with parameters: {'a': 0.8009485229666496, 'b': 0.8726374358277293, 'ab': [0.8009485229666496, 0.8726374358277293]}.\n",
      "reconstraining parameters GP_regression.mul\n",
      "reconstraining parameters GP_regression.Gaussian_noise.variance\n",
      "[I 2019-04-14 12:26:10,183] Finished a trial resulted in value: -1.3143740234477197. Current best value is -3.1556967794086153 with parameters: {'a': 0.8009485229666496, 'b': 0.8726374358277293, 'ab': [0.8009485229666496, 0.8726374358277293]}.\n",
      "reconstraining parameters GP_regression.mul\n",
      "reconstraining parameters GP_regression.Gaussian_noise.variance\n",
      "[I 2019-04-14 12:32:42,502] Finished a trial resulted in value: 0.31124716083018694. Current best value is -3.1556967794086153 with parameters: {'a': 0.8009485229666496, 'b': 0.8726374358277293, 'ab': [0.8009485229666496, 0.8726374358277293]}.\n",
      "reconstraining parameters GP_regression.mul\n",
      "reconstraining parameters GP_regression.Gaussian_noise.variance\n",
      "[I 2019-04-14 12:39:20,466] Finished a trial resulted in value: -1.2717420606378538. Current best value is -3.1556967794086153 with parameters: {'a': 0.8009485229666496, 'b': 0.8726374358277293, 'ab': [0.8009485229666496, 0.8726374358277293]}.\n",
      "reconstraining parameters GP_regression.mul\n",
      "reconstraining parameters GP_regression.Gaussian_noise.variance\n",
      "[I 2019-04-14 12:46:17,170] Finished a trial resulted in value: -1.5833102180433654. Current best value is -3.1556967794086153 with parameters: {'a': 0.8009485229666496, 'b': 0.8726374358277293, 'ab': [0.8009485229666496, 0.8726374358277293]}.\n",
      "reconstraining parameters GP_regression.mul\n",
      "reconstraining parameters GP_regression.Gaussian_noise.variance\n",
      "[I 2019-04-14 12:53:07,754] Finished a trial resulted in value: -1.497243135842325. Current best value is -3.1556967794086153 with parameters: {'a': 0.8009485229666496, 'b': 0.8726374358277293, 'ab': [0.8009485229666496, 0.8726374358277293]}.\n",
      "reconstraining parameters GP_regression.mul\n",
      "reconstraining parameters GP_regression.Gaussian_noise.variance\n",
      "[I 2019-04-14 13:00:06,660] Finished a trial resulted in value: 1.2180334804517705. Current best value is -3.1556967794086153 with parameters: {'a': 0.8009485229666496, 'b': 0.8726374358277293, 'ab': [0.8009485229666496, 0.8726374358277293]}.\n",
      "reconstraining parameters GP_regression.mul\n",
      "reconstraining parameters GP_regression.Gaussian_noise.variance\n",
      "[I 2019-04-14 13:07:15,725] Finished a trial resulted in value: -1.4351305626977169. Current best value is -3.1556967794086153 with parameters: {'a': 0.8009485229666496, 'b': 0.8726374358277293, 'ab': [0.8009485229666496, 0.8726374358277293]}.\n",
      "reconstraining parameters GP_regression.mul\n",
      "reconstraining parameters GP_regression.Gaussian_noise.variance\n",
      "[I 2019-04-14 13:14:07,237] Finished a trial resulted in value: 0.32501185962467455. Current best value is -3.1556967794086153 with parameters: {'a': 0.8009485229666496, 'b': 0.8726374358277293, 'ab': [0.8009485229666496, 0.8726374358277293]}.\n",
      "reconstraining parameters GP_regression.mul\n",
      "reconstraining parameters GP_regression.Gaussian_noise.variance\n",
      "[I 2019-04-14 13:20:31,249] Finished a trial resulted in value: -1.465288616668156. Current best value is -3.1556967794086153 with parameters: {'a': 0.8009485229666496, 'b': 0.8726374358277293, 'ab': [0.8009485229666496, 0.8726374358277293]}.\n",
      "reconstraining parameters GP_regression.mul\n",
      "reconstraining parameters GP_regression.Gaussian_noise.variance\n",
      "[I 2019-04-14 13:28:14,501] Finished a trial resulted in value: -1.8852850762246647. Current best value is -3.1556967794086153 with parameters: {'a': 0.8009485229666496, 'b': 0.8726374358277293, 'ab': [0.8009485229666496, 0.8726374358277293]}.\n",
      "reconstraining parameters GP_regression.mul\n",
      "reconstraining parameters GP_regression.Gaussian_noise.variance\n",
      "[I 2019-04-14 13:35:14,156] Finished a trial resulted in value: -1.952628359421838. Current best value is -3.1556967794086153 with parameters: {'a': 0.8009485229666496, 'b': 0.8726374358277293, 'ab': [0.8009485229666496, 0.8726374358277293]}.\n",
      "reconstraining parameters GP_regression.mul\n",
      "reconstraining parameters GP_regression.Gaussian_noise.variance\n",
      "[I 2019-04-14 13:43:06,622] Finished a trial resulted in value: -1.7346376499635014. Current best value is -3.1556967794086153 with parameters: {'a': 0.8009485229666496, 'b': 0.8726374358277293, 'ab': [0.8009485229666496, 0.8726374358277293]}.\n"
     ]
    }
   ],
   "source": [
    "t = -1\n",
    "sampler_ctv = optuna.samplers.CTVGPSampler()\n",
    "study_rbf_ctv = optuna.create_study(sampler=sampler_ctv)\n",
    "study_rbf_ctv.optimize(lambda t: - objevtive_rbf(t), n_trials=n_trials)"
   ]
  },
  {
   "cell_type": "code",
   "execution_count": null,
   "metadata": {},
   "outputs": [],
   "source": []
  },
  {
   "cell_type": "code",
   "execution_count": 12,
   "metadata": {},
   "outputs": [
    {
     "data": {
      "application/vnd.plotly.v1+json": {
       "config": {
        "linkText": "Export to plot.ly",
        "plotlyServerURL": "https://plot.ly",
        "showLink": false
       },
       "data": [
        {
         "mode": "markers",
         "type": "scatter",
         "uid": "efa224a7-a835-4199-91c6-6aca3f5c0274",
         "x": [
          1,
          2,
          3,
          4,
          5,
          6,
          7,
          8,
          9,
          10,
          11,
          12,
          13,
          14,
          15,
          16,
          17,
          18,
          19,
          20,
          21,
          22,
          23,
          24,
          25,
          26,
          27,
          28,
          29,
          30,
          31,
          32,
          33,
          34,
          35,
          36,
          37,
          38,
          39,
          40,
          41,
          42,
          43,
          44,
          45,
          46,
          47,
          48,
          49,
          50,
          51,
          52,
          53,
          54,
          55,
          56,
          57,
          58,
          59,
          60,
          61,
          62,
          63,
          64,
          65,
          66,
          67,
          68,
          69,
          70,
          71,
          72,
          73,
          74,
          75,
          76,
          77,
          78,
          79,
          80,
          81,
          82,
          83,
          84,
          85,
          86,
          87,
          88,
          89,
          90,
          91,
          92,
          93,
          94,
          95,
          96,
          97,
          98,
          99,
          100,
          101,
          102,
          103,
          104,
          105,
          106,
          107,
          108,
          109,
          110,
          111,
          112,
          113,
          114,
          115,
          116,
          117,
          118,
          119,
          120,
          121,
          122,
          123,
          124,
          125,
          126,
          127,
          128,
          129,
          130,
          131,
          132,
          133,
          134,
          135,
          136,
          137,
          138,
          139,
          140,
          141,
          142,
          143,
          144,
          145,
          146,
          147,
          148,
          149,
          150,
          151,
          152,
          153,
          154,
          155,
          156,
          157,
          158,
          159,
          160,
          161,
          162,
          163,
          164,
          165,
          166,
          167,
          168,
          169,
          170,
          171,
          172,
          173,
          174,
          175,
          176,
          177,
          178,
          179,
          180,
          181,
          182,
          183,
          184,
          185,
          186,
          187,
          188,
          189,
          190,
          191,
          192,
          193,
          194,
          195,
          196,
          197,
          198,
          199,
          200,
          201,
          202,
          203,
          204,
          205,
          206,
          207,
          208,
          209,
          210,
          211,
          212,
          213,
          214,
          215,
          216,
          217,
          218,
          219,
          220,
          221,
          222,
          223,
          224,
          225,
          226,
          227,
          228,
          229,
          230,
          231,
          232,
          233,
          234,
          235,
          236,
          237,
          238,
          239,
          240,
          241,
          242,
          243,
          244,
          245,
          246,
          247,
          248,
          249,
          250,
          251,
          252,
          253,
          254,
          255,
          256,
          257,
          258,
          259,
          260,
          261,
          262,
          263,
          264,
          265,
          266,
          267,
          268,
          269,
          270,
          271,
          272,
          273,
          274,
          275,
          276,
          277,
          278,
          279,
          280,
          281,
          282,
          283,
          284,
          285,
          286,
          287,
          288,
          289,
          290,
          291,
          292,
          293,
          294,
          295,
          296,
          297,
          298,
          299,
          300
         ],
         "y": [
          0.01111957023477067,
          0.18606783834513152,
          0.3732400778591915,
          0.37943602537635224,
          0.371984851538081,
          0.35201549981590735,
          0.39898575155021226,
          0.4765247525463278,
          0.5742947146404445,
          0.6270297774909013,
          0.6899787985348442,
          0.7058698038757848,
          0.7421454093023152,
          0.7625277998050679,
          0.8133233633832144,
          0.8376797503737597,
          0.8594125626112704,
          0.8667369711647145,
          0.8656652714831455,
          0.8743324377679033,
          0.875994487908318,
          0.8681392832626503,
          0.8536809842980553,
          0.8469472163057805,
          0.8563805863480919,
          0.8499879816619559,
          0.8492674742461382,
          0.8499132024698844,
          0.8534695303551193,
          0.8568534075677567,
          0.855631896234985,
          0.8553770861144413,
          0.8554941935455286,
          0.8565241100539721,
          0.8456232447338867,
          0.8371948969390508,
          0.8260712192221464,
          0.8135287469357195,
          0.8072269919731969,
          0.7974169336289549,
          0.7866870805505648,
          0.7790722256001908,
          0.7704085877355767,
          0.7635838812260931,
          0.753754449853797,
          0.7441019371730178,
          0.7381769093401361,
          0.7263056219978319,
          0.7168891328968927,
          0.7099712554568378,
          0.698289317582989,
          0.6907083146067909,
          0.6867145495811982,
          0.6917757284003885,
          0.6957540195394771,
          0.6972685489479293,
          0.7019830356633544,
          0.7108232297391501,
          0.7219794974816564,
          0.7331477448715161,
          0.7383244122545695,
          0.7453384088068988,
          0.7632843287042151,
          0.7685722284113669,
          0.7702518950468888,
          0.7741450857427677,
          0.775041940260968,
          0.7764009727347989,
          0.7800982301668983,
          0.7863140243221275,
          0.7928762736949868,
          0.8039439958478076,
          0.8146221765446348,
          0.8242531553438224,
          0.8319810778152363,
          0.8410225557017081,
          0.8460420306864929,
          0.8494551584426097,
          0.854003883961444,
          0.8568738837887538,
          0.8844490323856353,
          0.8837222578328743,
          0.8868859910569035,
          0.8965474894972048,
          0.90828060928813,
          0.9094158660613278,
          0.9076486613106919,
          0.9089480009995197,
          0.9105456049342272,
          0.9117886886349917,
          0.920407983102255,
          0.9235492250712329,
          0.941209270538244,
          0.9425575028643267,
          0.9414850191991051,
          0.939714911276469,
          0.9396807905665323,
          0.9406655034720298,
          0.9408751786776887,
          0.9416816527310935,
          0.9398064413214627,
          0.9399041600244533,
          0.9470200153162733,
          0.9428929599766107,
          0.9370196389887353,
          0.9325076083688297,
          0.9277514573726275,
          0.9234028145153439,
          0.920006740201268,
          0.9144098903104586,
          0.9081034230738452,
          0.9052266397414493,
          0.9034851106532538,
          0.9007718289472443,
          0.8989353951414789,
          0.8952961656238572,
          0.8913568651107342,
          0.8866108302855963,
          0.8804553497194473,
          0.8757756255473121,
          0.8702568431434571,
          0.8653594080704198,
          0.8612987977150498,
          0.8575819788843937,
          0.8536962008263597,
          0.8526586383732981,
          0.8504998503862196,
          0.8500419424191799,
          0.8477200055987343,
          0.844617585492854,
          0.8445464236127475,
          0.8431052531554346,
          0.8414616492776724,
          0.8384294240329879,
          0.8359014363350767,
          0.8351893641505328,
          0.8363458402703907,
          0.8363928546904752,
          0.8374880954460583,
          0.8414751125249058,
          0.8447979012922208,
          0.8460809988581799,
          0.8485976506032596,
          0.8536831827715363,
          0.8567299797963225,
          0.8607777481654599,
          0.8645631314285335,
          0.8672246126526965,
          0.8692107600946033,
          0.870869470335663,
          0.8718937600962325,
          0.873663675805802,
          0.8749143202319145,
          0.8761839572846186,
          0.8773076344997451,
          0.8800621577210237,
          0.882226027821192,
          0.8845911243909466,
          0.8873315774264552,
          0.8904588687525768,
          0.8926088213566312,
          0.8939547430579808,
          0.8957322984804776,
          0.8971172754669224,
          0.8987481041028818,
          0.9007917372106599,
          0.9024159069771248,
          0.9040019054162168,
          0.9072745445330053,
          0.9097767468753877,
          0.9127984912880432,
          0.9150933628216202,
          0.9175850558534662,
          0.9191861358162323,
          0.9210525923398492,
          0.922810871864372,
          0.9234670305213397,
          0.9250589034366759,
          0.927601011735037,
          0.9300571939636288,
          0.9318804873666091,
          0.9346104140242129,
          0.9373177424005716,
          0.9400232423202135,
          0.9418697794530295,
          0.9434103037290006,
          0.9445105871703103,
          0.9457767878812771,
          0.9468728135642638,
          0.9480253440336942,
          0.9491288451134052,
          0.9496961779527426,
          0.9506044671794529,
          0.9516908105675993,
          0.9526494930976704,
          0.9541266173454626,
          0.9559436683481889,
          0.9583452374854493,
          0.9609021307584285,
          0.9636772628225616,
          0.9657618063663499,
          0.9672259556205537,
          0.9700834256098131,
          0.9728635477943564,
          0.9758276693994654,
          0.9800813796708576,
          0.9843120935613059,
          0.989371059614895,
          0.9937735235656562,
          0.9980673165509562,
          1.002381734853285,
          1.0055693716309462,
          1.0100192061665683,
          1.0147907496491553,
          1.020580037763237,
          1.0256082052643067,
          1.0313633864715528,
          1.0373125878246965,
          1.0422911839467182,
          1.0472778467615618,
          1.0522906750348797,
          1.0567555849856758,
          1.0607691133350603,
          1.0664874320126068,
          1.0705944153016171,
          1.075359971177107,
          1.0809972701399904,
          1.0863948336901168,
          1.091515595216918,
          1.0957411548508273,
          1.0991523503172564,
          1.103123575814584,
          1.1073702401435097,
          1.1117001961194106,
          1.1175249079305964,
          1.1229391110024636,
          1.1281169205787873,
          1.1333899701137797,
          1.1378144335908111,
          1.1418328400414737,
          1.1435211590182819,
          1.1467896362418362,
          1.1497653586811676,
          1.151029942886283,
          1.1528674720843157,
          1.1541097633051134,
          1.154831515876689,
          1.154586952471404,
          1.1537832096333909,
          1.153324767401831,
          1.1532915264843218,
          1.1536960094133715,
          1.1547727608432539,
          1.1562882454406447,
          1.1578100484587823,
          1.1602145845721366,
          1.1614396426873808,
          1.1630917055152665,
          1.1646167524294346,
          1.1657382152499038,
          1.1664323909975405,
          1.1672335304883106,
          1.1673563476261615,
          1.1676745532928539,
          1.1684539515897505,
          1.1687844096189308,
          1.1687899216836783,
          1.1690832088122234,
          1.1688187894200432,
          1.1688904417023338,
          1.1697977492529024,
          1.1712438085093348,
          1.1720787870469762,
          1.1734636701035877,
          1.17491238982449,
          1.1754403022238236,
          1.176865520662868,
          1.1768745592761254,
          1.1781772106862363,
          1.17912173101202,
          1.17997029659735,
          1.1800118822234724,
          1.1804242024716602,
          1.1803249145484984,
          1.179946827334496,
          1.1793389443810887,
          1.1788369194714696,
          1.1783717892131436,
          1.1780213123889727,
          1.1781052036885489,
          1.1781256857390239,
          1.1782631015271023,
          1.1782092591077276,
          1.177687910331878,
          1.1770960436694162,
          1.1774406147456782,
          1.177992208620124,
          1.1790143455610738,
          1.1803931385667872,
          1.1820365782382503
         ]
        }
       ],
       "layout": {}
      },
      "text/html": [
       "<div id=\"b5cd146e-3852-4d2a-bcbd-e03f69481ff5\" style=\"height: 525px; width: 100%;\" class=\"plotly-graph-div\"></div><script type=\"text/javascript\">require([\"plotly\"], function(Plotly) { window.PLOTLYENV=window.PLOTLYENV || {};window.PLOTLYENV.BASE_URL=\"https://plot.ly\";\n",
       "if (document.getElementById(\"b5cd146e-3852-4d2a-bcbd-e03f69481ff5\")) {\n",
       "    Plotly.newPlot(\"b5cd146e-3852-4d2a-bcbd-e03f69481ff5\", [{\"mode\": \"markers\", \"x\": [1, 2, 3, 4, 5, 6, 7, 8, 9, 10, 11, 12, 13, 14, 15, 16, 17, 18, 19, 20, 21, 22, 23, 24, 25, 26, 27, 28, 29, 30, 31, 32, 33, 34, 35, 36, 37, 38, 39, 40, 41, 42, 43, 44, 45, 46, 47, 48, 49, 50, 51, 52, 53, 54, 55, 56, 57, 58, 59, 60, 61, 62, 63, 64, 65, 66, 67, 68, 69, 70, 71, 72, 73, 74, 75, 76, 77, 78, 79, 80, 81, 82, 83, 84, 85, 86, 87, 88, 89, 90, 91, 92, 93, 94, 95, 96, 97, 98, 99, 100, 101, 102, 103, 104, 105, 106, 107, 108, 109, 110, 111, 112, 113, 114, 115, 116, 117, 118, 119, 120, 121, 122, 123, 124, 125, 126, 127, 128, 129, 130, 131, 132, 133, 134, 135, 136, 137, 138, 139, 140, 141, 142, 143, 144, 145, 146, 147, 148, 149, 150, 151, 152, 153, 154, 155, 156, 157, 158, 159, 160, 161, 162, 163, 164, 165, 166, 167, 168, 169, 170, 171, 172, 173, 174, 175, 176, 177, 178, 179, 180, 181, 182, 183, 184, 185, 186, 187, 188, 189, 190, 191, 192, 193, 194, 195, 196, 197, 198, 199, 200, 201, 202, 203, 204, 205, 206, 207, 208, 209, 210, 211, 212, 213, 214, 215, 216, 217, 218, 219, 220, 221, 222, 223, 224, 225, 226, 227, 228, 229, 230, 231, 232, 233, 234, 235, 236, 237, 238, 239, 240, 241, 242, 243, 244, 245, 246, 247, 248, 249, 250, 251, 252, 253, 254, 255, 256, 257, 258, 259, 260, 261, 262, 263, 264, 265, 266, 267, 268, 269, 270, 271, 272, 273, 274, 275, 276, 277, 278, 279, 280, 281, 282, 283, 284, 285, 286, 287, 288, 289, 290, 291, 292, 293, 294, 295, 296, 297, 298, 299, 300], \"y\": [0.01111957023477067, 0.18606783834513152, 0.3732400778591915, 0.37943602537635224, 0.371984851538081, 0.35201549981590735, 0.39898575155021226, 0.4765247525463278, 0.5742947146404445, 0.6270297774909013, 0.6899787985348442, 0.7058698038757848, 0.7421454093023152, 0.7625277998050679, 0.8133233633832144, 0.8376797503737597, 0.8594125626112704, 0.8667369711647145, 0.8656652714831455, 0.8743324377679033, 0.875994487908318, 0.8681392832626503, 0.8536809842980553, 0.8469472163057805, 0.8563805863480919, 0.8499879816619559, 0.8492674742461382, 0.8499132024698844, 0.8534695303551193, 0.8568534075677567, 0.855631896234985, 0.8553770861144413, 0.8554941935455286, 0.8565241100539721, 0.8456232447338867, 0.8371948969390508, 0.8260712192221464, 0.8135287469357195, 0.8072269919731969, 0.7974169336289549, 0.7866870805505648, 0.7790722256001908, 0.7704085877355767, 0.7635838812260931, 0.753754449853797, 0.7441019371730178, 0.7381769093401361, 0.7263056219978319, 0.7168891328968927, 0.7099712554568378, 0.698289317582989, 0.6907083146067909, 0.6867145495811982, 0.6917757284003885, 0.6957540195394771, 0.6972685489479293, 0.7019830356633544, 0.7108232297391501, 0.7219794974816564, 0.7331477448715161, 0.7383244122545695, 0.7453384088068988, 0.7632843287042151, 0.7685722284113669, 0.7702518950468888, 0.7741450857427677, 0.775041940260968, 0.7764009727347989, 0.7800982301668983, 0.7863140243221275, 0.7928762736949868, 0.8039439958478076, 0.8146221765446348, 0.8242531553438224, 0.8319810778152363, 0.8410225557017081, 0.8460420306864929, 0.8494551584426097, 0.854003883961444, 0.8568738837887538, 0.8844490323856353, 0.8837222578328743, 0.8868859910569035, 0.8965474894972048, 0.90828060928813, 0.9094158660613278, 0.9076486613106919, 0.9089480009995197, 0.9105456049342272, 0.9117886886349917, 0.920407983102255, 0.9235492250712329, 0.941209270538244, 0.9425575028643267, 0.9414850191991051, 0.939714911276469, 0.9396807905665323, 0.9406655034720298, 0.9408751786776887, 0.9416816527310935, 0.9398064413214627, 0.9399041600244533, 0.9470200153162733, 0.9428929599766107, 0.9370196389887353, 0.9325076083688297, 0.9277514573726275, 0.9234028145153439, 0.920006740201268, 0.9144098903104586, 0.9081034230738452, 0.9052266397414493, 0.9034851106532538, 0.9007718289472443, 0.8989353951414789, 0.8952961656238572, 0.8913568651107342, 0.8866108302855963, 0.8804553497194473, 0.8757756255473121, 0.8702568431434571, 0.8653594080704198, 0.8612987977150498, 0.8575819788843937, 0.8536962008263597, 0.8526586383732981, 0.8504998503862196, 0.8500419424191799, 0.8477200055987343, 0.844617585492854, 0.8445464236127475, 0.8431052531554346, 0.8414616492776724, 0.8384294240329879, 0.8359014363350767, 0.8351893641505328, 0.8363458402703907, 0.8363928546904752, 0.8374880954460583, 0.8414751125249058, 0.8447979012922208, 0.8460809988581799, 0.8485976506032596, 0.8536831827715363, 0.8567299797963225, 0.8607777481654599, 0.8645631314285335, 0.8672246126526965, 0.8692107600946033, 0.870869470335663, 0.8718937600962325, 0.873663675805802, 0.8749143202319145, 0.8761839572846186, 0.8773076344997451, 0.8800621577210237, 0.882226027821192, 0.8845911243909466, 0.8873315774264552, 0.8904588687525768, 0.8926088213566312, 0.8939547430579808, 0.8957322984804776, 0.8971172754669224, 0.8987481041028818, 0.9007917372106599, 0.9024159069771248, 0.9040019054162168, 0.9072745445330053, 0.9097767468753877, 0.9127984912880432, 0.9150933628216202, 0.9175850558534662, 0.9191861358162323, 0.9210525923398492, 0.922810871864372, 0.9234670305213397, 0.9250589034366759, 0.927601011735037, 0.9300571939636288, 0.9318804873666091, 0.9346104140242129, 0.9373177424005716, 0.9400232423202135, 0.9418697794530295, 0.9434103037290006, 0.9445105871703103, 0.9457767878812771, 0.9468728135642638, 0.9480253440336942, 0.9491288451134052, 0.9496961779527426, 0.9506044671794529, 0.9516908105675993, 0.9526494930976704, 0.9541266173454626, 0.9559436683481889, 0.9583452374854493, 0.9609021307584285, 0.9636772628225616, 0.9657618063663499, 0.9672259556205537, 0.9700834256098131, 0.9728635477943564, 0.9758276693994654, 0.9800813796708576, 0.9843120935613059, 0.989371059614895, 0.9937735235656562, 0.9980673165509562, 1.002381734853285, 1.0055693716309462, 1.0100192061665683, 1.0147907496491553, 1.020580037763237, 1.0256082052643067, 1.0313633864715528, 1.0373125878246965, 1.0422911839467182, 1.0472778467615618, 1.0522906750348797, 1.0567555849856758, 1.0607691133350603, 1.0664874320126068, 1.0705944153016171, 1.075359971177107, 1.0809972701399904, 1.0863948336901168, 1.091515595216918, 1.0957411548508273, 1.0991523503172564, 1.103123575814584, 1.1073702401435097, 1.1117001961194106, 1.1175249079305964, 1.1229391110024636, 1.1281169205787873, 1.1333899701137797, 1.1378144335908111, 1.1418328400414737, 1.1435211590182819, 1.1467896362418362, 1.1497653586811676, 1.151029942886283, 1.1528674720843157, 1.1541097633051134, 1.154831515876689, 1.154586952471404, 1.1537832096333909, 1.153324767401831, 1.1532915264843218, 1.1536960094133715, 1.1547727608432539, 1.1562882454406447, 1.1578100484587823, 1.1602145845721366, 1.1614396426873808, 1.1630917055152665, 1.1646167524294346, 1.1657382152499038, 1.1664323909975405, 1.1672335304883106, 1.1673563476261615, 1.1676745532928539, 1.1684539515897505, 1.1687844096189308, 1.1687899216836783, 1.1690832088122234, 1.1688187894200432, 1.1688904417023338, 1.1697977492529024, 1.1712438085093348, 1.1720787870469762, 1.1734636701035877, 1.17491238982449, 1.1754403022238236, 1.176865520662868, 1.1768745592761254, 1.1781772106862363, 1.17912173101202, 1.17997029659735, 1.1800118822234724, 1.1804242024716602, 1.1803249145484984, 1.179946827334496, 1.1793389443810887, 1.1788369194714696, 1.1783717892131436, 1.1780213123889727, 1.1781052036885489, 1.1781256857390239, 1.1782631015271023, 1.1782092591077276, 1.177687910331878, 1.1770960436694162, 1.1774406147456782, 1.177992208620124, 1.1790143455610738, 1.1803931385667872, 1.1820365782382503], \"type\": \"scatter\", \"uid\": \"179a2cc1-4318-4b97-81e4-aac118aa9908\"}], {}, {\"showLink\": false, \"linkText\": \"Export to plot.ly\", \"plotlyServerURL\": \"https://plot.ly\"}); \n",
       "}\n",
       "});</script><script type=\"text/javascript\">window.addEventListener(\"resize\", function(){if (document.getElementById(\"b5cd146e-3852-4d2a-bcbd-e03f69481ff5\")) {window._Plotly.Plots.resize(document.getElementById(\"b5cd146e-3852-4d2a-bcbd-e03f69481ff5\"));};})</script>"
      ],
      "text/vnd.plotly.v1+html": [
       "<div id=\"b5cd146e-3852-4d2a-bcbd-e03f69481ff5\" style=\"height: 525px; width: 100%;\" class=\"plotly-graph-div\"></div><script type=\"text/javascript\">require([\"plotly\"], function(Plotly) { window.PLOTLYENV=window.PLOTLYENV || {};window.PLOTLYENV.BASE_URL=\"https://plot.ly\";\n",
       "if (document.getElementById(\"b5cd146e-3852-4d2a-bcbd-e03f69481ff5\")) {\n",
       "    Plotly.newPlot(\"b5cd146e-3852-4d2a-bcbd-e03f69481ff5\", [{\"mode\": \"markers\", \"x\": [1, 2, 3, 4, 5, 6, 7, 8, 9, 10, 11, 12, 13, 14, 15, 16, 17, 18, 19, 20, 21, 22, 23, 24, 25, 26, 27, 28, 29, 30, 31, 32, 33, 34, 35, 36, 37, 38, 39, 40, 41, 42, 43, 44, 45, 46, 47, 48, 49, 50, 51, 52, 53, 54, 55, 56, 57, 58, 59, 60, 61, 62, 63, 64, 65, 66, 67, 68, 69, 70, 71, 72, 73, 74, 75, 76, 77, 78, 79, 80, 81, 82, 83, 84, 85, 86, 87, 88, 89, 90, 91, 92, 93, 94, 95, 96, 97, 98, 99, 100, 101, 102, 103, 104, 105, 106, 107, 108, 109, 110, 111, 112, 113, 114, 115, 116, 117, 118, 119, 120, 121, 122, 123, 124, 125, 126, 127, 128, 129, 130, 131, 132, 133, 134, 135, 136, 137, 138, 139, 140, 141, 142, 143, 144, 145, 146, 147, 148, 149, 150, 151, 152, 153, 154, 155, 156, 157, 158, 159, 160, 161, 162, 163, 164, 165, 166, 167, 168, 169, 170, 171, 172, 173, 174, 175, 176, 177, 178, 179, 180, 181, 182, 183, 184, 185, 186, 187, 188, 189, 190, 191, 192, 193, 194, 195, 196, 197, 198, 199, 200, 201, 202, 203, 204, 205, 206, 207, 208, 209, 210, 211, 212, 213, 214, 215, 216, 217, 218, 219, 220, 221, 222, 223, 224, 225, 226, 227, 228, 229, 230, 231, 232, 233, 234, 235, 236, 237, 238, 239, 240, 241, 242, 243, 244, 245, 246, 247, 248, 249, 250, 251, 252, 253, 254, 255, 256, 257, 258, 259, 260, 261, 262, 263, 264, 265, 266, 267, 268, 269, 270, 271, 272, 273, 274, 275, 276, 277, 278, 279, 280, 281, 282, 283, 284, 285, 286, 287, 288, 289, 290, 291, 292, 293, 294, 295, 296, 297, 298, 299, 300], \"y\": [0.01111957023477067, 0.18606783834513152, 0.3732400778591915, 0.37943602537635224, 0.371984851538081, 0.35201549981590735, 0.39898575155021226, 0.4765247525463278, 0.5742947146404445, 0.6270297774909013, 0.6899787985348442, 0.7058698038757848, 0.7421454093023152, 0.7625277998050679, 0.8133233633832144, 0.8376797503737597, 0.8594125626112704, 0.8667369711647145, 0.8656652714831455, 0.8743324377679033, 0.875994487908318, 0.8681392832626503, 0.8536809842980553, 0.8469472163057805, 0.8563805863480919, 0.8499879816619559, 0.8492674742461382, 0.8499132024698844, 0.8534695303551193, 0.8568534075677567, 0.855631896234985, 0.8553770861144413, 0.8554941935455286, 0.8565241100539721, 0.8456232447338867, 0.8371948969390508, 0.8260712192221464, 0.8135287469357195, 0.8072269919731969, 0.7974169336289549, 0.7866870805505648, 0.7790722256001908, 0.7704085877355767, 0.7635838812260931, 0.753754449853797, 0.7441019371730178, 0.7381769093401361, 0.7263056219978319, 0.7168891328968927, 0.7099712554568378, 0.698289317582989, 0.6907083146067909, 0.6867145495811982, 0.6917757284003885, 0.6957540195394771, 0.6972685489479293, 0.7019830356633544, 0.7108232297391501, 0.7219794974816564, 0.7331477448715161, 0.7383244122545695, 0.7453384088068988, 0.7632843287042151, 0.7685722284113669, 0.7702518950468888, 0.7741450857427677, 0.775041940260968, 0.7764009727347989, 0.7800982301668983, 0.7863140243221275, 0.7928762736949868, 0.8039439958478076, 0.8146221765446348, 0.8242531553438224, 0.8319810778152363, 0.8410225557017081, 0.8460420306864929, 0.8494551584426097, 0.854003883961444, 0.8568738837887538, 0.8844490323856353, 0.8837222578328743, 0.8868859910569035, 0.8965474894972048, 0.90828060928813, 0.9094158660613278, 0.9076486613106919, 0.9089480009995197, 0.9105456049342272, 0.9117886886349917, 0.920407983102255, 0.9235492250712329, 0.941209270538244, 0.9425575028643267, 0.9414850191991051, 0.939714911276469, 0.9396807905665323, 0.9406655034720298, 0.9408751786776887, 0.9416816527310935, 0.9398064413214627, 0.9399041600244533, 0.9470200153162733, 0.9428929599766107, 0.9370196389887353, 0.9325076083688297, 0.9277514573726275, 0.9234028145153439, 0.920006740201268, 0.9144098903104586, 0.9081034230738452, 0.9052266397414493, 0.9034851106532538, 0.9007718289472443, 0.8989353951414789, 0.8952961656238572, 0.8913568651107342, 0.8866108302855963, 0.8804553497194473, 0.8757756255473121, 0.8702568431434571, 0.8653594080704198, 0.8612987977150498, 0.8575819788843937, 0.8536962008263597, 0.8526586383732981, 0.8504998503862196, 0.8500419424191799, 0.8477200055987343, 0.844617585492854, 0.8445464236127475, 0.8431052531554346, 0.8414616492776724, 0.8384294240329879, 0.8359014363350767, 0.8351893641505328, 0.8363458402703907, 0.8363928546904752, 0.8374880954460583, 0.8414751125249058, 0.8447979012922208, 0.8460809988581799, 0.8485976506032596, 0.8536831827715363, 0.8567299797963225, 0.8607777481654599, 0.8645631314285335, 0.8672246126526965, 0.8692107600946033, 0.870869470335663, 0.8718937600962325, 0.873663675805802, 0.8749143202319145, 0.8761839572846186, 0.8773076344997451, 0.8800621577210237, 0.882226027821192, 0.8845911243909466, 0.8873315774264552, 0.8904588687525768, 0.8926088213566312, 0.8939547430579808, 0.8957322984804776, 0.8971172754669224, 0.8987481041028818, 0.9007917372106599, 0.9024159069771248, 0.9040019054162168, 0.9072745445330053, 0.9097767468753877, 0.9127984912880432, 0.9150933628216202, 0.9175850558534662, 0.9191861358162323, 0.9210525923398492, 0.922810871864372, 0.9234670305213397, 0.9250589034366759, 0.927601011735037, 0.9300571939636288, 0.9318804873666091, 0.9346104140242129, 0.9373177424005716, 0.9400232423202135, 0.9418697794530295, 0.9434103037290006, 0.9445105871703103, 0.9457767878812771, 0.9468728135642638, 0.9480253440336942, 0.9491288451134052, 0.9496961779527426, 0.9506044671794529, 0.9516908105675993, 0.9526494930976704, 0.9541266173454626, 0.9559436683481889, 0.9583452374854493, 0.9609021307584285, 0.9636772628225616, 0.9657618063663499, 0.9672259556205537, 0.9700834256098131, 0.9728635477943564, 0.9758276693994654, 0.9800813796708576, 0.9843120935613059, 0.989371059614895, 0.9937735235656562, 0.9980673165509562, 1.002381734853285, 1.0055693716309462, 1.0100192061665683, 1.0147907496491553, 1.020580037763237, 1.0256082052643067, 1.0313633864715528, 1.0373125878246965, 1.0422911839467182, 1.0472778467615618, 1.0522906750348797, 1.0567555849856758, 1.0607691133350603, 1.0664874320126068, 1.0705944153016171, 1.075359971177107, 1.0809972701399904, 1.0863948336901168, 1.091515595216918, 1.0957411548508273, 1.0991523503172564, 1.103123575814584, 1.1073702401435097, 1.1117001961194106, 1.1175249079305964, 1.1229391110024636, 1.1281169205787873, 1.1333899701137797, 1.1378144335908111, 1.1418328400414737, 1.1435211590182819, 1.1467896362418362, 1.1497653586811676, 1.151029942886283, 1.1528674720843157, 1.1541097633051134, 1.154831515876689, 1.154586952471404, 1.1537832096333909, 1.153324767401831, 1.1532915264843218, 1.1536960094133715, 1.1547727608432539, 1.1562882454406447, 1.1578100484587823, 1.1602145845721366, 1.1614396426873808, 1.1630917055152665, 1.1646167524294346, 1.1657382152499038, 1.1664323909975405, 1.1672335304883106, 1.1673563476261615, 1.1676745532928539, 1.1684539515897505, 1.1687844096189308, 1.1687899216836783, 1.1690832088122234, 1.1688187894200432, 1.1688904417023338, 1.1697977492529024, 1.1712438085093348, 1.1720787870469762, 1.1734636701035877, 1.17491238982449, 1.1754403022238236, 1.176865520662868, 1.1768745592761254, 1.1781772106862363, 1.17912173101202, 1.17997029659735, 1.1800118822234724, 1.1804242024716602, 1.1803249145484984, 1.179946827334496, 1.1793389443810887, 1.1788369194714696, 1.1783717892131436, 1.1780213123889727, 1.1781052036885489, 1.1781256857390239, 1.1782631015271023, 1.1782092591077276, 1.177687910331878, 1.1770960436694162, 1.1774406147456782, 1.177992208620124, 1.1790143455610738, 1.1803931385667872, 1.1820365782382503], \"type\": \"scatter\", \"uid\": \"179a2cc1-4318-4b97-81e4-aac118aa9908\"}], {}, {\"showLink\": false, \"linkText\": \"Export to plot.ly\", \"plotlyServerURL\": \"https://plot.ly\"}); \n",
       "}\n",
       "});</script><script type=\"text/javascript\">window.addEventListener(\"resize\", function(){if (document.getElementById(\"b5cd146e-3852-4d2a-bcbd-e03f69481ff5\")) {window._Plotly.Plots.resize(document.getElementById(\"b5cd146e-3852-4d2a-bcbd-e03f69481ff5\"));};})</script>"
      ]
     },
     "metadata": {},
     "output_type": "display_data"
    }
   ],
   "source": [
    "# trials = study_rbf.trials\n",
    "# trial_values = [- trial.value for trial in trials]\n",
    "\n",
    "assert len(trial_values) == len(best_values)\n",
    "\n",
    "cum_regret = 0.\n",
    "avg_cum_regrets = []\n",
    "for t, (best_value, trial_value) in enumerate(zip(best_values, trial_values)):\n",
    "    cum_regret += best_value - trial_value\n",
    "    avg_cum_regrets.append(cum_regret / (t + 1))\n",
    "\n",
    "data = [\n",
    "    go.Scatter(x=np.arange(len(avg_cum_regrets)) + 1, y=avg_cum_regrets, mode='markers')\n",
    "]\n",
    "iplot(data, filename='syn_bogunovic_rbf_ctv')"
   ]
  },
  {
   "cell_type": "code",
   "execution_count": 15,
   "metadata": {},
   "outputs": [
    {
     "data": {
      "application/vnd.plotly.v1+json": {
       "config": {
        "linkText": "Export to plot.ly",
        "plotlyServerURL": "https://plot.ly",
        "showLink": false
       },
       "data": [
        {
         "mode": "markers",
         "name": "normal",
         "type": "scatter",
         "uid": "4d215690-5038-4c9d-8f1d-f7a38261afc8",
         "x": [
          1,
          2,
          3,
          4,
          5,
          6,
          7,
          8,
          9,
          10,
          11,
          12,
          13,
          14,
          15,
          16,
          17,
          18,
          19,
          20,
          21,
          22,
          23,
          24,
          25,
          26,
          27,
          28,
          29,
          30,
          31,
          32,
          33,
          34,
          35,
          36,
          37,
          38,
          39,
          40,
          41,
          42,
          43,
          44,
          45,
          46,
          47,
          48,
          49,
          50,
          51,
          52,
          53,
          54,
          55,
          56,
          57,
          58,
          59,
          60,
          61,
          62,
          63,
          64,
          65,
          66,
          67,
          68,
          69,
          70,
          71,
          72,
          73,
          74,
          75,
          76,
          77,
          78,
          79,
          80,
          81,
          82,
          83,
          84,
          85,
          86,
          87,
          88,
          89,
          90,
          91,
          92,
          93,
          94,
          95,
          96,
          97,
          98,
          99,
          100,
          101,
          102,
          103,
          104,
          105,
          106,
          107,
          108,
          109,
          110,
          111,
          112,
          113,
          114,
          115,
          116,
          117,
          118,
          119,
          120,
          121,
          122,
          123,
          124,
          125,
          126,
          127,
          128,
          129,
          130,
          131,
          132,
          133,
          134,
          135,
          136,
          137,
          138,
          139,
          140,
          141,
          142,
          143,
          144,
          145,
          146,
          147,
          148,
          149,
          150,
          151,
          152,
          153,
          154,
          155,
          156,
          157,
          158,
          159,
          160,
          161,
          162,
          163,
          164,
          165,
          166,
          167,
          168,
          169,
          170,
          171,
          172,
          173,
          174,
          175,
          176,
          177,
          178,
          179,
          180,
          181,
          182,
          183,
          184,
          185,
          186,
          187,
          188,
          189,
          190,
          191,
          192,
          193,
          194,
          195,
          196,
          197,
          198,
          199,
          200,
          201,
          202,
          203,
          204,
          205,
          206,
          207,
          208,
          209,
          210,
          211,
          212,
          213,
          214,
          215,
          216,
          217,
          218,
          219,
          220,
          221,
          222,
          223,
          224,
          225,
          226,
          227,
          228,
          229,
          230,
          231,
          232,
          233,
          234,
          235,
          236,
          237,
          238,
          239,
          240,
          241,
          242,
          243,
          244,
          245,
          246,
          247,
          248,
          249,
          250,
          251,
          252,
          253,
          254,
          255,
          256,
          257,
          258,
          259,
          260,
          261,
          262,
          263,
          264,
          265,
          266,
          267,
          268,
          269,
          270,
          271,
          272,
          273,
          274,
          275,
          276,
          277,
          278,
          279,
          280,
          281,
          282,
          283,
          284,
          285,
          286,
          287,
          288,
          289,
          290,
          291,
          292,
          293,
          294,
          295,
          296,
          297,
          298,
          299,
          300
         ],
         "y": [
          0.01111957023477067,
          0.18606783834513152,
          0.3732400778591915,
          0.37943602537635224,
          0.371984851538081,
          0.35201549981590735,
          0.39898575155021226,
          0.4765247525463278,
          0.5742947146404445,
          0.6270297774909013,
          0.6899787985348442,
          0.7058698038757848,
          0.7421454093023152,
          0.7625277998050679,
          0.8133233633832144,
          0.8376797503737597,
          0.8594125626112704,
          0.8667369711647145,
          0.8656652714831455,
          0.8743324377679033,
          0.875994487908318,
          0.8681392832626503,
          0.8536809842980553,
          0.8469472163057805,
          0.8563805863480919,
          0.8499879816619559,
          0.8492674742461382,
          0.8499132024698844,
          0.8534695303551193,
          0.8568534075677567,
          0.855631896234985,
          0.8553770861144413,
          0.8554941935455286,
          0.8565241100539721,
          0.8456232447338867,
          0.8371948969390508,
          0.8260712192221464,
          0.8135287469357195,
          0.8072269919731969,
          0.7974169336289549,
          0.7866870805505648,
          0.7790722256001908,
          0.7704085877355767,
          0.7635838812260931,
          0.753754449853797,
          0.7441019371730178,
          0.7381769093401361,
          0.7263056219978319,
          0.7168891328968927,
          0.7099712554568378,
          0.698289317582989,
          0.6907083146067909,
          0.6867145495811982,
          0.6917757284003885,
          0.6957540195394771,
          0.6972685489479293,
          0.7019830356633544,
          0.7108232297391501,
          0.7219794974816564,
          0.7331477448715161,
          0.7383244122545695,
          0.7453384088068988,
          0.7632843287042151,
          0.7685722284113669,
          0.7702518950468888,
          0.7741450857427677,
          0.775041940260968,
          0.7764009727347989,
          0.7800982301668983,
          0.7863140243221275,
          0.7928762736949868,
          0.8039439958478076,
          0.8146221765446348,
          0.8242531553438224,
          0.8319810778152363,
          0.8410225557017081,
          0.8460420306864929,
          0.8494551584426097,
          0.854003883961444,
          0.8568738837887538,
          0.8844490323856353,
          0.8837222578328743,
          0.8868859910569035,
          0.8965474894972048,
          0.90828060928813,
          0.9094158660613278,
          0.9076486613106919,
          0.9089480009995197,
          0.9105456049342272,
          0.9117886886349917,
          0.920407983102255,
          0.9235492250712329,
          0.941209270538244,
          0.9425575028643267,
          0.9414850191991051,
          0.939714911276469,
          0.9396807905665323,
          0.9406655034720298,
          0.9408751786776887,
          0.9416816527310935,
          0.9398064413214627,
          0.9399041600244533,
          0.9470200153162733,
          0.9428929599766107,
          0.9370196389887353,
          0.9325076083688297,
          0.9277514573726275,
          0.9234028145153439,
          0.920006740201268,
          0.9144098903104586,
          0.9081034230738452,
          0.9052266397414493,
          0.9034851106532538,
          0.9007718289472443,
          0.8989353951414789,
          0.8952961656238572,
          0.8913568651107342,
          0.8866108302855963,
          0.8804553497194473,
          0.8757756255473121,
          0.8702568431434571,
          0.8653594080704198,
          0.8612987977150498,
          0.8575819788843937,
          0.8536962008263597,
          0.8526586383732981,
          0.8504998503862196,
          0.8500419424191799,
          0.8477200055987343,
          0.844617585492854,
          0.8445464236127475,
          0.8431052531554346,
          0.8414616492776724,
          0.8384294240329879,
          0.8359014363350767,
          0.8351893641505328,
          0.8363458402703907,
          0.8363928546904752,
          0.8374880954460583,
          0.8414751125249058,
          0.8447979012922208,
          0.8460809988581799,
          0.8485976506032596,
          0.8536831827715363,
          0.8567299797963225,
          0.8607777481654599,
          0.8645631314285335,
          0.8672246126526965,
          0.8692107600946033,
          0.870869470335663,
          0.8718937600962325,
          0.873663675805802,
          0.8749143202319145,
          0.8761839572846186,
          0.8773076344997451,
          0.8800621577210237,
          0.882226027821192,
          0.8845911243909466,
          0.8873315774264552,
          0.8904588687525768,
          0.8926088213566312,
          0.8939547430579808,
          0.8957322984804776,
          0.8971172754669224,
          0.8987481041028818,
          0.9007917372106599,
          0.9024159069771248,
          0.9040019054162168,
          0.9072745445330053,
          0.9097767468753877,
          0.9127984912880432,
          0.9150933628216202,
          0.9175850558534662,
          0.9191861358162323,
          0.9210525923398492,
          0.922810871864372,
          0.9234670305213397,
          0.9250589034366759,
          0.927601011735037,
          0.9300571939636288,
          0.9318804873666091,
          0.9346104140242129,
          0.9373177424005716,
          0.9400232423202135,
          0.9418697794530295,
          0.9434103037290006,
          0.9445105871703103,
          0.9457767878812771,
          0.9468728135642638,
          0.9480253440336942,
          0.9491288451134052,
          0.9496961779527426,
          0.9506044671794529,
          0.9516908105675993,
          0.9526494930976704,
          0.9541266173454626,
          0.9559436683481889,
          0.9583452374854493,
          0.9609021307584285,
          0.9636772628225616,
          0.9657618063663499,
          0.9672259556205537,
          0.9700834256098131,
          0.9728635477943564,
          0.9758276693994654,
          0.9800813796708576,
          0.9843120935613059,
          0.989371059614895,
          0.9937735235656562,
          0.9980673165509562,
          1.002381734853285,
          1.0055693716309462,
          1.0100192061665683,
          1.0147907496491553,
          1.020580037763237,
          1.0256082052643067,
          1.0313633864715528,
          1.0373125878246965,
          1.0422911839467182,
          1.0472778467615618,
          1.0522906750348797,
          1.0567555849856758,
          1.0607691133350603,
          1.0664874320126068,
          1.0705944153016171,
          1.075359971177107,
          1.0809972701399904,
          1.0863948336901168,
          1.091515595216918,
          1.0957411548508273,
          1.0991523503172564,
          1.103123575814584,
          1.1073702401435097,
          1.1117001961194106,
          1.1175249079305964,
          1.1229391110024636,
          1.1281169205787873,
          1.1333899701137797,
          1.1378144335908111,
          1.1418328400414737,
          1.1435211590182819,
          1.1467896362418362,
          1.1497653586811676,
          1.151029942886283,
          1.1528674720843157,
          1.1541097633051134,
          1.154831515876689,
          1.154586952471404,
          1.1537832096333909,
          1.153324767401831,
          1.1532915264843218,
          1.1536960094133715,
          1.1547727608432539,
          1.1562882454406447,
          1.1578100484587823,
          1.1602145845721366,
          1.1614396426873808,
          1.1630917055152665,
          1.1646167524294346,
          1.1657382152499038,
          1.1664323909975405,
          1.1672335304883106,
          1.1673563476261615,
          1.1676745532928539,
          1.1684539515897505,
          1.1687844096189308,
          1.1687899216836783,
          1.1690832088122234,
          1.1688187894200432,
          1.1688904417023338,
          1.1697977492529024,
          1.1712438085093348,
          1.1720787870469762,
          1.1734636701035877,
          1.17491238982449,
          1.1754403022238236,
          1.176865520662868,
          1.1768745592761254,
          1.1781772106862363,
          1.17912173101202,
          1.17997029659735,
          1.1800118822234724,
          1.1804242024716602,
          1.1803249145484984,
          1.179946827334496,
          1.1793389443810887,
          1.1788369194714696,
          1.1783717892131436,
          1.1780213123889727,
          1.1781052036885489,
          1.1781256857390239,
          1.1782631015271023,
          1.1782092591077276,
          1.177687910331878,
          1.1770960436694162,
          1.1774406147456782,
          1.177992208620124,
          1.1790143455610738,
          1.1803931385667872,
          1.1820365782382503
         ]
        },
        {
         "mode": "markers",
         "name": "dtv",
         "type": "scatter",
         "uid": "e0d10cef-b273-49c3-af81-681b280ac1e4",
         "x": [
          1,
          2,
          3,
          4,
          5,
          6,
          7,
          8,
          9,
          10,
          11,
          12,
          13,
          14,
          15,
          16,
          17,
          18,
          19,
          20,
          21,
          22,
          23,
          24,
          25,
          26,
          27,
          28,
          29,
          30,
          31,
          32,
          33,
          34,
          35,
          36,
          37,
          38,
          39,
          40,
          41,
          42,
          43,
          44,
          45,
          46,
          47,
          48,
          49,
          50,
          51,
          52,
          53,
          54,
          55,
          56,
          57,
          58,
          59,
          60,
          61,
          62,
          63,
          64,
          65,
          66,
          67,
          68,
          69,
          70,
          71,
          72,
          73,
          74,
          75,
          76,
          77,
          78,
          79,
          80,
          81,
          82,
          83,
          84,
          85,
          86,
          87,
          88,
          89,
          90,
          91,
          92,
          93,
          94,
          95,
          96,
          97,
          98,
          99,
          100,
          101,
          102,
          103,
          104,
          105,
          106,
          107,
          108,
          109,
          110,
          111,
          112,
          113,
          114,
          115,
          116,
          117,
          118,
          119,
          120,
          121,
          122,
          123,
          124,
          125,
          126,
          127,
          128,
          129,
          130,
          131,
          132,
          133,
          134,
          135,
          136,
          137,
          138,
          139,
          140,
          141,
          142,
          143,
          144,
          145,
          146,
          147,
          148,
          149,
          150,
          151,
          152,
          153,
          154,
          155,
          156,
          157,
          158,
          159,
          160,
          161,
          162,
          163,
          164,
          165,
          166,
          167,
          168,
          169,
          170,
          171,
          172,
          173,
          174,
          175,
          176,
          177,
          178,
          179,
          180,
          181,
          182,
          183,
          184,
          185,
          186,
          187,
          188,
          189,
          190,
          191,
          192,
          193,
          194,
          195,
          196,
          197,
          198,
          199,
          200,
          201,
          202,
          203,
          204,
          205,
          206,
          207,
          208,
          209,
          210,
          211,
          212,
          213,
          214,
          215,
          216,
          217,
          218,
          219,
          220,
          221,
          222,
          223,
          224,
          225,
          226,
          227,
          228,
          229,
          230,
          231,
          232,
          233,
          234,
          235,
          236,
          237,
          238,
          239,
          240,
          241,
          242,
          243,
          244,
          245,
          246,
          247,
          248,
          249,
          250,
          251,
          252,
          253,
          254,
          255,
          256,
          257,
          258,
          259,
          260,
          261,
          262,
          263,
          264,
          265,
          266,
          267,
          268,
          269,
          270,
          271,
          272,
          273,
          274,
          275,
          276,
          277,
          278,
          279,
          280,
          281,
          282,
          283,
          284,
          285,
          286,
          287,
          288,
          289,
          290,
          291,
          292,
          293,
          294,
          295,
          296,
          297,
          298,
          299,
          300
         ],
         "y": [
          0.13884572168277134,
          0.22618654234784868,
          0.2498829265123428,
          0.3913048986543488,
          0.49120400502529593,
          0.45546833004688664,
          0.5095670327055021,
          0.5507221245493051,
          0.5768112569993552,
          0.6522278613212408,
          0.661346295299002,
          0.6742752631783803,
          0.7110961443093349,
          0.7264844053416158,
          0.7373415473597601,
          0.7664467978517713,
          0.7835533033145708,
          0.7950921151622761,
          0.8315837420305292,
          0.8419549847879176,
          0.8451588184035699,
          0.8387052350990271,
          0.8255266773589374,
          0.8199660054891259,
          0.8217396210965938,
          0.8166793612278233,
          0.8171925064206772,
          0.8189837692096184,
          0.8236066292762417,
          0.8254818396599006,
          0.8311511180435728,
          0.8426801661288089,
          0.850148429772794,
          0.8595060196077722,
          0.8731479170481584,
          0.8842242452477196,
          0.8917763809026932,
          0.8982585978255345,
          0.8946846568070033,
          0.9015511456716727,
          0.9029682823001159,
          0.9168746640677286,
          0.9139056048160992,
          0.9151685365089798,
          0.911866369509456,
          0.9073117426424334,
          0.9040351122747501,
          0.8964955787825013,
          0.8938549831954872,
          0.8848888714383363,
          0.8757131899752169,
          0.8692985989875778,
          0.8654050983118613,
          0.8623764886508832,
          0.8660163300295871,
          0.8775796729893333,
          0.8830745540270166,
          0.8906905476140807,
          0.8951921843457337,
          0.9023150391434706,
          0.920953634945323,
          0.9309256107736461,
          0.9541534515052246,
          0.9550545612527053,
          0.9535033838386212,
          0.9535111263165983,
          0.9514250325073775,
          0.9498948159376073,
          0.9468196782893947,
          0.9456432074247717,
          0.9454792479669785,
          0.9488460157717493,
          0.9527268023210338,
          0.9556489292567202,
          0.9687156260689951,
          0.9715832680635759,
          0.9738357740107525,
          0.9686805632888686,
          0.9662615550423681,
          0.9632903639563333,
          0.9607450833048446,
          0.954621261067682,
          0.9531939266706272,
          0.9515720990440971,
          0.9520664910863395,
          0.9498865805299265,
          0.9452725062287485,
          0.9437405067089061,
          0.9428698300038784,
          0.940199487366355,
          0.9385664652442689,
          0.9364477615084429,
          0.9353397019187648,
          0.9343765833672252,
          0.9331331840024735,
          0.9309569324329203,
          0.9306101364757865,
          0.9316271089770641,
          0.9343824681214467,
          0.9405282015198034,
          0.9404928587808364,
          0.9474203999936132,
          0.9527575441200509,
          0.9492372418530046,
          0.9516989538508785,
          0.9469224528989548,
          0.9425739278004932,
          0.9396970266157786,
          0.9339904668719647,
          0.9276561822688588,
          0.9209859060090697,
          0.917171666307947,
          0.9168869849989524,
          0.9186949178629034,
          0.9363939106859902,
          0.9558703063342949,
          0.9611282395221985,
          0.9555196452709521,
          0.9489012557195123,
          0.9497779014901669,
          0.9441155240467105,
          0.9376977076868173,
          0.9332187761936661,
          0.9290475070867977,
          0.9247273942720706,
          0.9229332016170739,
          0.9248450435014693,
          0.9225724916788688,
          0.9200791170507491,
          0.9171380411619607,
          0.9147089835737929,
          0.9135433970716192,
          0.9125532542385929,
          0.9100134235555688,
          0.9088995877228141,
          0.9081362275058327,
          0.9087169234398521,
          0.9103041625673077,
          0.9125175696156982,
          0.9304695833456673,
          0.93376225371891,
          0.93595607885977,
          0.938111082623509,
          0.941126979392878,
          0.9437515717482572,
          0.9477973300770453,
          0.9605423935370223,
          0.9637348907036106,
          0.966504809518421,
          0.9683279795906602,
          0.9700255983781823,
          0.9738921823752462,
          0.9755938007914793,
          0.9771002844753841,
          0.9784622405880059,
          0.9824773890598671,
          0.9850737964496998,
          0.9878245292815715,
          0.9914257531316166,
          0.9941214926326619,
          0.9964815844851124,
          0.9978890632954204,
          1.0006339249552205,
          1.0019050383573571,
          1.0049546563422804,
          1.0104126397783073,
          1.0127752299070858,
          1.0152281552977809,
          1.0180885920571545,
          1.0211998569226937,
          1.0250203971459477,
          1.0280407293181903,
          1.031039702521417,
          1.0333917001299933,
          1.0355873663555308,
          1.0380252266648105,
          1.0378275687865508,
          1.039978072145312,
          1.0413786493645751,
          1.0428001166633651,
          1.0434833053224881,
          1.0448537158220061,
          1.0464633002707755,
          1.0483424308536333,
          1.0490856498876946,
          1.0494237821482582,
          1.0494370479476578,
          1.0495406278619264,
          1.0495348170866778,
          1.0509274827728277,
          1.0517264616150663,
          1.0515183598117959,
          1.0516380044177798,
          1.0520979083462878,
          1.0528462410819244,
          1.053313834131578,
          1.050427024100949,
          1.0519827536481,
          1.048996852394548,
          1.0450002397059681,
          1.0413201306949165,
          1.0376572715959802,
          1.033970019108231,
          1.0302508701109545,
          1.0266231871787685,
          1.0227984660481266,
          1.0189976406873182,
          1.0160270712615656,
          1.0125134083441822,
          1.0089371403566822,
          1.0052503456728132,
          1.0015102381398362,
          0.9977384432603668,
          0.9937209253188691,
          0.9896186026650446,
          0.9853842914578901,
          0.9811009122096127,
          0.9781788053873509,
          0.9740163795106421,
          0.9705637823411112,
          0.9661720910183007,
          0.9618199644821822,
          0.9578285821065092,
          0.9538496983220242,
          0.9496374496925644,
          0.9466650418386144,
          0.9424947112578276,
          0.939332210439516,
          0.9356400325455143,
          0.9319543022985463,
          0.9282965863823021,
          0.9247141095065692,
          0.9209668797146816,
          0.917031123818465,
          0.9131288637171098,
          0.9092596736166135,
          0.9054231349093704,
          0.9016782043572993,
          0.8979054922051767,
          0.8941857783149169,
          0.8912116884072625,
          0.8889406451538887,
          0.8859576012788668,
          0.8841377684582095,
          0.8846335194720794,
          0.8810374482547132,
          0.8774704950229127,
          0.8739323075429817,
          0.8704225392395961,
          0.8713237772440864,
          0.8689050544998668,
          0.8661476283189856,
          0.8634641043003799,
          0.8609335637169641,
          0.858535594526474,
          0.8561765800387765,
          0.8537524396137011,
          0.8512364027574366,
          0.8503641093844941,
          0.8475147630266333,
          0.8449247785863644,
          0.8421496711136669,
          0.8413630440301002,
          0.8417444716721972,
          0.8398587386439723,
          0.8387322081688625,
          0.8382003606107503,
          0.8366839975301646,
          0.8343784388083573,
          0.8319760815644935,
          0.8294764241689456,
          0.8270490967028271,
          0.8245896479492009,
          0.8221853485073776,
          0.8198278803417512,
          0.8176648240416015,
          0.8155670048566396,
          0.8136903497093441,
          0.8118227689522817,
          0.8099285541714129,
          0.8072962748397159,
          0.804680393273598,
          0.8023370169399372,
          0.8008041755991279,
          0.7981026411328768,
          0.796795799789149,
          0.7953632542749207,
          0.7936684103406162,
          0.7923209577722156,
          0.7946513419066007,
          0.7976067553992847,
          0.7962551881773635,
          0.7995366740162538,
          0.7990760955076153,
          0.8030533798078432,
          0.8003629719317219,
          0.799576504052693,
          0.798330321683084,
          0.796170616788057,
          0.7939851967632807
         ]
        },
        {
         "mode": "markers",
         "name": "ctv",
         "type": "scatter",
         "uid": "8b699a1f-8474-47e7-912b-b81c55c44f99",
         "x": [
          1,
          2,
          3,
          4,
          5,
          6,
          7,
          8,
          9,
          10,
          11,
          12,
          13,
          14,
          15,
          16,
          17,
          18,
          19,
          20,
          21,
          22,
          23,
          24,
          25,
          26,
          27,
          28,
          29,
          30,
          31,
          32,
          33,
          34,
          35,
          36,
          37,
          38,
          39,
          40,
          41,
          42,
          43,
          44,
          45,
          46,
          47,
          48,
          49,
          50,
          51,
          52,
          53,
          54,
          55,
          56,
          57,
          58,
          59,
          60,
          61,
          62,
          63,
          64,
          65,
          66,
          67,
          68,
          69,
          70,
          71,
          72,
          73,
          74,
          75,
          76,
          77,
          78,
          79,
          80,
          81,
          82,
          83,
          84,
          85,
          86,
          87,
          88,
          89,
          90,
          91,
          92,
          93,
          94,
          95,
          96,
          97,
          98,
          99,
          100,
          101,
          102,
          103,
          104,
          105,
          106,
          107,
          108,
          109,
          110,
          111,
          112,
          113,
          114,
          115,
          116,
          117,
          118,
          119,
          120,
          121,
          122,
          123,
          124,
          125,
          126,
          127,
          128,
          129,
          130,
          131,
          132,
          133,
          134,
          135,
          136,
          137,
          138,
          139,
          140,
          141,
          142,
          143,
          144,
          145,
          146,
          147,
          148,
          149,
          150,
          151,
          152,
          153,
          154,
          155,
          156,
          157,
          158,
          159,
          160,
          161,
          162,
          163,
          164,
          165,
          166,
          167,
          168,
          169,
          170,
          171,
          172,
          173,
          174,
          175,
          176,
          177,
          178,
          179,
          180,
          181,
          182,
          183,
          184,
          185,
          186,
          187,
          188,
          189,
          190,
          191,
          192,
          193,
          194,
          195,
          196,
          197,
          198,
          199,
          200,
          201,
          202,
          203,
          204,
          205,
          206,
          207,
          208,
          209,
          210,
          211,
          212,
          213,
          214,
          215,
          216,
          217,
          218,
          219,
          220,
          221,
          222,
          223,
          224,
          225,
          226,
          227,
          228,
          229,
          230,
          231,
          232,
          233,
          234,
          235,
          236,
          237,
          238,
          239,
          240,
          241,
          242,
          243,
          244,
          245,
          246,
          247,
          248,
          249,
          250,
          251,
          252,
          253,
          254,
          255,
          256,
          257,
          258,
          259,
          260,
          261,
          262,
          263,
          264,
          265,
          266,
          267,
          268,
          269,
          270,
          271,
          272,
          273,
          274,
          275,
          276,
          277,
          278,
          279,
          280,
          281,
          282,
          283,
          284,
          285,
          286,
          287,
          288,
          289,
          290,
          291,
          292,
          293,
          294,
          295,
          296,
          297,
          298,
          299,
          300
         ],
         "y": [
          0.1904006949617647,
          0.27570840070862856,
          0.4311232227359387,
          0.406654824594078,
          0.3979221415629857,
          0.47702774832659306,
          0.44847026523170574,
          0.45917732116265353,
          0.5510942372776433,
          0.5811212444567928,
          0.6402571792185016,
          0.7029102943568802,
          0.7470481792357637,
          0.7672462659302649,
          0.7961366342975006,
          0.8385097911814604,
          0.8633704338964537,
          0.898956917660042,
          0.9223672900836132,
          0.9407841471056942,
          0.9730081219782382,
          0.9947788959719296,
          0.9931104221112552,
          1.0209544320418844,
          1.036821190504853,
          1.0447933502575673,
          1.0655852012409741,
          1.082411203686182,
          1.0778899084647104,
          1.0943011484275285,
          1.1125314315669346,
          1.1289249325656114,
          1.1423358575007285,
          1.1525022698196588,
          1.1647759813113714,
          1.1783855143842417,
          1.1884666674116788,
          1.1990272168913203,
          1.1937473749813863,
          1.2053764585643347,
          1.2187540912105401,
          1.2344437097104752,
          1.251586668555616,
          1.2595749505555067,
          1.2769029810169743,
          1.2746966767720758,
          1.2840927542894192,
          1.2941996368147894,
          1.2984118634757178,
          1.3051797494922863,
          1.3196617930193788,
          1.3265317638037752,
          1.332688671632848,
          1.342572546279805,
          1.351703202947273,
          1.3662288248991337,
          1.3607233688864537,
          1.3584283262479817,
          1.366207447454437,
          1.3806624833786436,
          1.3916041817545737,
          1.4054115827876303,
          1.417135693860415,
          1.4316085718649012,
          1.448594821953602,
          1.4677168451290397,
          1.4850988965017866,
          1.5006229863723937,
          1.5169680543695707,
          1.5199264025217751,
          1.5392927132973462,
          1.555901459391094,
          1.5698115323477504,
          1.5917246186767935,
          1.6067711884315237,
          1.6266628890762476,
          1.6338971161289857,
          1.6404267047021945,
          1.638877096363873,
          1.6426105345363289,
          1.645451181374331,
          1.6428161251056834,
          1.6543875994878405,
          1.652777373615485,
          1.65234254936695,
          1.6602800329079432,
          1.6555299706227697,
          1.6533810764215446,
          1.6508606214749455,
          1.6471998024221939,
          1.6478348968087593,
          1.6478511619847909,
          1.6475600259818648,
          1.644772608426323,
          1.6419679095089763,
          1.6367366751039958,
          1.629723777902442,
          1.6197504560923282,
          1.6214904025347496,
          1.6100213247886177,
          1.5966524496197225,
          1.593756732959141,
          1.5801327010089925,
          1.5678518706764353,
          1.5658446959876293,
          1.5646220619630167,
          1.5630755369943572,
          1.5764705443980969,
          1.5649220257755458,
          1.5637243576464368,
          1.5513237374643272,
          1.5528828171583984,
          1.5561862302523768,
          1.5636044043556614,
          1.57121187379978,
          1.5740098729368968,
          1.5672586938179511,
          1.5603495520097121,
          1.5535762593226168,
          1.553628010590117,
          1.558172155675248,
          1.5520778948676481,
          1.5458892446578358,
          1.5404032136261245,
          1.5346491984888841,
          1.5293276099329924,
          1.5240493292240873,
          1.5201963894554194,
          1.5224947783551548,
          1.5167039307622954,
          1.5167463307268274,
          1.512633551080433,
          1.5198352985361974,
          1.5275543977191501,
          1.5305316334325048,
          1.5264472427159639,
          1.5245679206494513,
          1.5313799192876643,
          1.5381728965583454,
          1.537180601353358,
          1.5372139361182144,
          1.5356292776685223,
          1.5402165134067372,
          1.5464018868552807,
          1.545654823897737,
          1.5596263462711224,
          1.5600393301953381,
          1.5672368008390205,
          1.564586116284222,
          1.567382459276108,
          1.563119621802421,
          1.5589731387516073,
          1.5558609472283278,
          1.5527136995111017,
          1.5484350343213453,
          1.5504419864499854,
          1.5591622708290747,
          1.56044626498286,
          1.5575361152524625,
          1.5533871957643435,
          1.549335925170095,
          1.549742007553128,
          1.5505881552009169,
          1.5454754954814474,
          1.5492546924182748,
          1.5459117458066438,
          1.5481417367513843,
          1.5446225650668874,
          1.5419259391213578,
          1.5402625249153927,
          1.5386024536554233,
          1.544699833092516,
          1.5507062955737607,
          1.556704678500059,
          1.56815408507871,
          1.5730908906146153,
          1.5766517373150861,
          1.573288662750546,
          1.5699654840403767,
          1.5754872669209536,
          1.5712824543239148,
          1.5741725896766303,
          1.5690962213884805,
          1.5716933784935747,
          1.566272159181812,
          1.5679823961018333,
          1.5619739851771057,
          1.555424800423038,
          1.5490543742925214,
          1.5427512364319003,
          1.5366939158270032,
          1.531443912989112,
          1.5339678805155634,
          1.5409632447801618,
          1.5418455365265267,
          1.5350022491026438,
          1.5282278547927095,
          1.5214227625288415,
          1.521862710293538,
          1.514898707930843,
          1.514952443184429,
          1.5083645393298977,
          1.5017767974245297,
          1.4952409567669724,
          1.488764652130952,
          1.4821204644392507,
          1.4899930529991856,
          1.4834724470809064,
          1.4769245317047086,
          1.4704850692845142,
          1.46397490335779,
          1.4573201523479016,
          1.4506729679814718,
          1.4439669456395487,
          1.437334989163497,
          1.4366015572419097,
          1.4299812735679838,
          1.4293839959409327,
          1.4229342884203846,
          1.4165831110902558,
          1.410267818096556,
          1.404077521861556,
          1.398127317730325,
          1.3923887840711502,
          1.392393983493359,
          1.3865669539445364,
          1.3807859530084905,
          1.3753412574639372,
          1.3700667791911036,
          1.3647990233330145,
          1.3724390951778755,
          1.3673258782885398,
          1.3620191620593598,
          1.3706659132396164,
          1.3655313432531775,
          1.3605072294235583,
          1.3563051273838873,
          1.357965913732172,
          1.3598786396375167,
          1.3619240086264692,
          1.3642976120208608,
          1.3600124919649672,
          1.3558433703775745,
          1.358518770666093,
          1.3541979445369605,
          1.350602992792447,
          1.3469076087800922,
          1.3427378640570822,
          1.3384965483291604,
          1.3474327775110386,
          1.3432652316916316,
          1.339749459793888,
          1.3358781626836453,
          1.3324020129628982,
          1.342222396461812,
          1.3384188082028161,
          1.3415818744916568,
          1.3381886462025339,
          1.3348963357106634,
          1.3315134286916375,
          1.3280584310492745,
          1.324541194862756,
          1.3281075472872275,
          1.3317396461338276,
          1.32823779182896,
          1.3257052552264306,
          1.3223715283054351,
          1.3188798295359982,
          1.3154351849485422,
          1.3120953708291885,
          1.3161542938530513,
          1.3127558450284496,
          1.3234766641957545,
          1.3346162291792885,
          1.3322831942690365,
          1.33650451917373,
          1.340492244026201,
          1.3504058198084006,
          1.3471070727103969,
          1.3514123939742329,
          1.34827070249251,
          1.357184091612772,
          1.3548625516638149,
          1.3528805783829359,
          1.351036946839864,
          1.3484739445529035,
          1.3471809233770686,
          1.344523038463693,
          1.3432760540153141,
          1.3474655428798075,
          1.3457086763627324,
          1.3430674396147477,
          1.3404987890439113,
          1.3470929836560257,
          1.3447325997496804,
          1.3491569672387567,
          1.347341941131313,
          1.344584361978015,
          1.341772596097936,
          1.3396924778922839
         ]
        }
       ],
       "layout": {}
      },
      "text/html": [
       "<div id=\"b36237e0-8a6a-4225-9a44-8c6cb81c89b5\" style=\"height: 525px; width: 100%;\" class=\"plotly-graph-div\"></div><script type=\"text/javascript\">require([\"plotly\"], function(Plotly) { window.PLOTLYENV=window.PLOTLYENV || {};window.PLOTLYENV.BASE_URL=\"https://plot.ly\";\n",
       "if (document.getElementById(\"b36237e0-8a6a-4225-9a44-8c6cb81c89b5\")) {\n",
       "    Plotly.newPlot(\"b36237e0-8a6a-4225-9a44-8c6cb81c89b5\", [{\"mode\": \"markers\", \"name\": \"normal\", \"x\": [1, 2, 3, 4, 5, 6, 7, 8, 9, 10, 11, 12, 13, 14, 15, 16, 17, 18, 19, 20, 21, 22, 23, 24, 25, 26, 27, 28, 29, 30, 31, 32, 33, 34, 35, 36, 37, 38, 39, 40, 41, 42, 43, 44, 45, 46, 47, 48, 49, 50, 51, 52, 53, 54, 55, 56, 57, 58, 59, 60, 61, 62, 63, 64, 65, 66, 67, 68, 69, 70, 71, 72, 73, 74, 75, 76, 77, 78, 79, 80, 81, 82, 83, 84, 85, 86, 87, 88, 89, 90, 91, 92, 93, 94, 95, 96, 97, 98, 99, 100, 101, 102, 103, 104, 105, 106, 107, 108, 109, 110, 111, 112, 113, 114, 115, 116, 117, 118, 119, 120, 121, 122, 123, 124, 125, 126, 127, 128, 129, 130, 131, 132, 133, 134, 135, 136, 137, 138, 139, 140, 141, 142, 143, 144, 145, 146, 147, 148, 149, 150, 151, 152, 153, 154, 155, 156, 157, 158, 159, 160, 161, 162, 163, 164, 165, 166, 167, 168, 169, 170, 171, 172, 173, 174, 175, 176, 177, 178, 179, 180, 181, 182, 183, 184, 185, 186, 187, 188, 189, 190, 191, 192, 193, 194, 195, 196, 197, 198, 199, 200, 201, 202, 203, 204, 205, 206, 207, 208, 209, 210, 211, 212, 213, 214, 215, 216, 217, 218, 219, 220, 221, 222, 223, 224, 225, 226, 227, 228, 229, 230, 231, 232, 233, 234, 235, 236, 237, 238, 239, 240, 241, 242, 243, 244, 245, 246, 247, 248, 249, 250, 251, 252, 253, 254, 255, 256, 257, 258, 259, 260, 261, 262, 263, 264, 265, 266, 267, 268, 269, 270, 271, 272, 273, 274, 275, 276, 277, 278, 279, 280, 281, 282, 283, 284, 285, 286, 287, 288, 289, 290, 291, 292, 293, 294, 295, 296, 297, 298, 299, 300], \"y\": [0.01111957023477067, 0.18606783834513152, 0.3732400778591915, 0.37943602537635224, 0.371984851538081, 0.35201549981590735, 0.39898575155021226, 0.4765247525463278, 0.5742947146404445, 0.6270297774909013, 0.6899787985348442, 0.7058698038757848, 0.7421454093023152, 0.7625277998050679, 0.8133233633832144, 0.8376797503737597, 0.8594125626112704, 0.8667369711647145, 0.8656652714831455, 0.8743324377679033, 0.875994487908318, 0.8681392832626503, 0.8536809842980553, 0.8469472163057805, 0.8563805863480919, 0.8499879816619559, 0.8492674742461382, 0.8499132024698844, 0.8534695303551193, 0.8568534075677567, 0.855631896234985, 0.8553770861144413, 0.8554941935455286, 0.8565241100539721, 0.8456232447338867, 0.8371948969390508, 0.8260712192221464, 0.8135287469357195, 0.8072269919731969, 0.7974169336289549, 0.7866870805505648, 0.7790722256001908, 0.7704085877355767, 0.7635838812260931, 0.753754449853797, 0.7441019371730178, 0.7381769093401361, 0.7263056219978319, 0.7168891328968927, 0.7099712554568378, 0.698289317582989, 0.6907083146067909, 0.6867145495811982, 0.6917757284003885, 0.6957540195394771, 0.6972685489479293, 0.7019830356633544, 0.7108232297391501, 0.7219794974816564, 0.7331477448715161, 0.7383244122545695, 0.7453384088068988, 0.7632843287042151, 0.7685722284113669, 0.7702518950468888, 0.7741450857427677, 0.775041940260968, 0.7764009727347989, 0.7800982301668983, 0.7863140243221275, 0.7928762736949868, 0.8039439958478076, 0.8146221765446348, 0.8242531553438224, 0.8319810778152363, 0.8410225557017081, 0.8460420306864929, 0.8494551584426097, 0.854003883961444, 0.8568738837887538, 0.8844490323856353, 0.8837222578328743, 0.8868859910569035, 0.8965474894972048, 0.90828060928813, 0.9094158660613278, 0.9076486613106919, 0.9089480009995197, 0.9105456049342272, 0.9117886886349917, 0.920407983102255, 0.9235492250712329, 0.941209270538244, 0.9425575028643267, 0.9414850191991051, 0.939714911276469, 0.9396807905665323, 0.9406655034720298, 0.9408751786776887, 0.9416816527310935, 0.9398064413214627, 0.9399041600244533, 0.9470200153162733, 0.9428929599766107, 0.9370196389887353, 0.9325076083688297, 0.9277514573726275, 0.9234028145153439, 0.920006740201268, 0.9144098903104586, 0.9081034230738452, 0.9052266397414493, 0.9034851106532538, 0.9007718289472443, 0.8989353951414789, 0.8952961656238572, 0.8913568651107342, 0.8866108302855963, 0.8804553497194473, 0.8757756255473121, 0.8702568431434571, 0.8653594080704198, 0.8612987977150498, 0.8575819788843937, 0.8536962008263597, 0.8526586383732981, 0.8504998503862196, 0.8500419424191799, 0.8477200055987343, 0.844617585492854, 0.8445464236127475, 0.8431052531554346, 0.8414616492776724, 0.8384294240329879, 0.8359014363350767, 0.8351893641505328, 0.8363458402703907, 0.8363928546904752, 0.8374880954460583, 0.8414751125249058, 0.8447979012922208, 0.8460809988581799, 0.8485976506032596, 0.8536831827715363, 0.8567299797963225, 0.8607777481654599, 0.8645631314285335, 0.8672246126526965, 0.8692107600946033, 0.870869470335663, 0.8718937600962325, 0.873663675805802, 0.8749143202319145, 0.8761839572846186, 0.8773076344997451, 0.8800621577210237, 0.882226027821192, 0.8845911243909466, 0.8873315774264552, 0.8904588687525768, 0.8926088213566312, 0.8939547430579808, 0.8957322984804776, 0.8971172754669224, 0.8987481041028818, 0.9007917372106599, 0.9024159069771248, 0.9040019054162168, 0.9072745445330053, 0.9097767468753877, 0.9127984912880432, 0.9150933628216202, 0.9175850558534662, 0.9191861358162323, 0.9210525923398492, 0.922810871864372, 0.9234670305213397, 0.9250589034366759, 0.927601011735037, 0.9300571939636288, 0.9318804873666091, 0.9346104140242129, 0.9373177424005716, 0.9400232423202135, 0.9418697794530295, 0.9434103037290006, 0.9445105871703103, 0.9457767878812771, 0.9468728135642638, 0.9480253440336942, 0.9491288451134052, 0.9496961779527426, 0.9506044671794529, 0.9516908105675993, 0.9526494930976704, 0.9541266173454626, 0.9559436683481889, 0.9583452374854493, 0.9609021307584285, 0.9636772628225616, 0.9657618063663499, 0.9672259556205537, 0.9700834256098131, 0.9728635477943564, 0.9758276693994654, 0.9800813796708576, 0.9843120935613059, 0.989371059614895, 0.9937735235656562, 0.9980673165509562, 1.002381734853285, 1.0055693716309462, 1.0100192061665683, 1.0147907496491553, 1.020580037763237, 1.0256082052643067, 1.0313633864715528, 1.0373125878246965, 1.0422911839467182, 1.0472778467615618, 1.0522906750348797, 1.0567555849856758, 1.0607691133350603, 1.0664874320126068, 1.0705944153016171, 1.075359971177107, 1.0809972701399904, 1.0863948336901168, 1.091515595216918, 1.0957411548508273, 1.0991523503172564, 1.103123575814584, 1.1073702401435097, 1.1117001961194106, 1.1175249079305964, 1.1229391110024636, 1.1281169205787873, 1.1333899701137797, 1.1378144335908111, 1.1418328400414737, 1.1435211590182819, 1.1467896362418362, 1.1497653586811676, 1.151029942886283, 1.1528674720843157, 1.1541097633051134, 1.154831515876689, 1.154586952471404, 1.1537832096333909, 1.153324767401831, 1.1532915264843218, 1.1536960094133715, 1.1547727608432539, 1.1562882454406447, 1.1578100484587823, 1.1602145845721366, 1.1614396426873808, 1.1630917055152665, 1.1646167524294346, 1.1657382152499038, 1.1664323909975405, 1.1672335304883106, 1.1673563476261615, 1.1676745532928539, 1.1684539515897505, 1.1687844096189308, 1.1687899216836783, 1.1690832088122234, 1.1688187894200432, 1.1688904417023338, 1.1697977492529024, 1.1712438085093348, 1.1720787870469762, 1.1734636701035877, 1.17491238982449, 1.1754403022238236, 1.176865520662868, 1.1768745592761254, 1.1781772106862363, 1.17912173101202, 1.17997029659735, 1.1800118822234724, 1.1804242024716602, 1.1803249145484984, 1.179946827334496, 1.1793389443810887, 1.1788369194714696, 1.1783717892131436, 1.1780213123889727, 1.1781052036885489, 1.1781256857390239, 1.1782631015271023, 1.1782092591077276, 1.177687910331878, 1.1770960436694162, 1.1774406147456782, 1.177992208620124, 1.1790143455610738, 1.1803931385667872, 1.1820365782382503], \"type\": \"scatter\", \"uid\": \"d116a4e2-4982-4128-88df-db75c73dbdc9\"}, {\"mode\": \"markers\", \"name\": \"dtv\", \"x\": [1, 2, 3, 4, 5, 6, 7, 8, 9, 10, 11, 12, 13, 14, 15, 16, 17, 18, 19, 20, 21, 22, 23, 24, 25, 26, 27, 28, 29, 30, 31, 32, 33, 34, 35, 36, 37, 38, 39, 40, 41, 42, 43, 44, 45, 46, 47, 48, 49, 50, 51, 52, 53, 54, 55, 56, 57, 58, 59, 60, 61, 62, 63, 64, 65, 66, 67, 68, 69, 70, 71, 72, 73, 74, 75, 76, 77, 78, 79, 80, 81, 82, 83, 84, 85, 86, 87, 88, 89, 90, 91, 92, 93, 94, 95, 96, 97, 98, 99, 100, 101, 102, 103, 104, 105, 106, 107, 108, 109, 110, 111, 112, 113, 114, 115, 116, 117, 118, 119, 120, 121, 122, 123, 124, 125, 126, 127, 128, 129, 130, 131, 132, 133, 134, 135, 136, 137, 138, 139, 140, 141, 142, 143, 144, 145, 146, 147, 148, 149, 150, 151, 152, 153, 154, 155, 156, 157, 158, 159, 160, 161, 162, 163, 164, 165, 166, 167, 168, 169, 170, 171, 172, 173, 174, 175, 176, 177, 178, 179, 180, 181, 182, 183, 184, 185, 186, 187, 188, 189, 190, 191, 192, 193, 194, 195, 196, 197, 198, 199, 200, 201, 202, 203, 204, 205, 206, 207, 208, 209, 210, 211, 212, 213, 214, 215, 216, 217, 218, 219, 220, 221, 222, 223, 224, 225, 226, 227, 228, 229, 230, 231, 232, 233, 234, 235, 236, 237, 238, 239, 240, 241, 242, 243, 244, 245, 246, 247, 248, 249, 250, 251, 252, 253, 254, 255, 256, 257, 258, 259, 260, 261, 262, 263, 264, 265, 266, 267, 268, 269, 270, 271, 272, 273, 274, 275, 276, 277, 278, 279, 280, 281, 282, 283, 284, 285, 286, 287, 288, 289, 290, 291, 292, 293, 294, 295, 296, 297, 298, 299, 300], \"y\": [0.13884572168277134, 0.22618654234784868, 0.2498829265123428, 0.3913048986543488, 0.49120400502529593, 0.45546833004688664, 0.5095670327055021, 0.5507221245493051, 0.5768112569993552, 0.6522278613212408, 0.661346295299002, 0.6742752631783803, 0.7110961443093349, 0.7264844053416158, 0.7373415473597601, 0.7664467978517713, 0.7835533033145708, 0.7950921151622761, 0.8315837420305292, 0.8419549847879176, 0.8451588184035699, 0.8387052350990271, 0.8255266773589374, 0.8199660054891259, 0.8217396210965938, 0.8166793612278233, 0.8171925064206772, 0.8189837692096184, 0.8236066292762417, 0.8254818396599006, 0.8311511180435728, 0.8426801661288089, 0.850148429772794, 0.8595060196077722, 0.8731479170481584, 0.8842242452477196, 0.8917763809026932, 0.8982585978255345, 0.8946846568070033, 0.9015511456716727, 0.9029682823001159, 0.9168746640677286, 0.9139056048160992, 0.9151685365089798, 0.911866369509456, 0.9073117426424334, 0.9040351122747501, 0.8964955787825013, 0.8938549831954872, 0.8848888714383363, 0.8757131899752169, 0.8692985989875778, 0.8654050983118613, 0.8623764886508832, 0.8660163300295871, 0.8775796729893333, 0.8830745540270166, 0.8906905476140807, 0.8951921843457337, 0.9023150391434706, 0.920953634945323, 0.9309256107736461, 0.9541534515052246, 0.9550545612527053, 0.9535033838386212, 0.9535111263165983, 0.9514250325073775, 0.9498948159376073, 0.9468196782893947, 0.9456432074247717, 0.9454792479669785, 0.9488460157717493, 0.9527268023210338, 0.9556489292567202, 0.9687156260689951, 0.9715832680635759, 0.9738357740107525, 0.9686805632888686, 0.9662615550423681, 0.9632903639563333, 0.9607450833048446, 0.954621261067682, 0.9531939266706272, 0.9515720990440971, 0.9520664910863395, 0.9498865805299265, 0.9452725062287485, 0.9437405067089061, 0.9428698300038784, 0.940199487366355, 0.9385664652442689, 0.9364477615084429, 0.9353397019187648, 0.9343765833672252, 0.9331331840024735, 0.9309569324329203, 0.9306101364757865, 0.9316271089770641, 0.9343824681214467, 0.9405282015198034, 0.9404928587808364, 0.9474203999936132, 0.9527575441200509, 0.9492372418530046, 0.9516989538508785, 0.9469224528989548, 0.9425739278004932, 0.9396970266157786, 0.9339904668719647, 0.9276561822688588, 0.9209859060090697, 0.917171666307947, 0.9168869849989524, 0.9186949178629034, 0.9363939106859902, 0.9558703063342949, 0.9611282395221985, 0.9555196452709521, 0.9489012557195123, 0.9497779014901669, 0.9441155240467105, 0.9376977076868173, 0.9332187761936661, 0.9290475070867977, 0.9247273942720706, 0.9229332016170739, 0.9248450435014693, 0.9225724916788688, 0.9200791170507491, 0.9171380411619607, 0.9147089835737929, 0.9135433970716192, 0.9125532542385929, 0.9100134235555688, 0.9088995877228141, 0.9081362275058327, 0.9087169234398521, 0.9103041625673077, 0.9125175696156982, 0.9304695833456673, 0.93376225371891, 0.93595607885977, 0.938111082623509, 0.941126979392878, 0.9437515717482572, 0.9477973300770453, 0.9605423935370223, 0.9637348907036106, 0.966504809518421, 0.9683279795906602, 0.9700255983781823, 0.9738921823752462, 0.9755938007914793, 0.9771002844753841, 0.9784622405880059, 0.9824773890598671, 0.9850737964496998, 0.9878245292815715, 0.9914257531316166, 0.9941214926326619, 0.9964815844851124, 0.9978890632954204, 1.0006339249552205, 1.0019050383573571, 1.0049546563422804, 1.0104126397783073, 1.0127752299070858, 1.0152281552977809, 1.0180885920571545, 1.0211998569226937, 1.0250203971459477, 1.0280407293181903, 1.031039702521417, 1.0333917001299933, 1.0355873663555308, 1.0380252266648105, 1.0378275687865508, 1.039978072145312, 1.0413786493645751, 1.0428001166633651, 1.0434833053224881, 1.0448537158220061, 1.0464633002707755, 1.0483424308536333, 1.0490856498876946, 1.0494237821482582, 1.0494370479476578, 1.0495406278619264, 1.0495348170866778, 1.0509274827728277, 1.0517264616150663, 1.0515183598117959, 1.0516380044177798, 1.0520979083462878, 1.0528462410819244, 1.053313834131578, 1.050427024100949, 1.0519827536481, 1.048996852394548, 1.0450002397059681, 1.0413201306949165, 1.0376572715959802, 1.033970019108231, 1.0302508701109545, 1.0266231871787685, 1.0227984660481266, 1.0189976406873182, 1.0160270712615656, 1.0125134083441822, 1.0089371403566822, 1.0052503456728132, 1.0015102381398362, 0.9977384432603668, 0.9937209253188691, 0.9896186026650446, 0.9853842914578901, 0.9811009122096127, 0.9781788053873509, 0.9740163795106421, 0.9705637823411112, 0.9661720910183007, 0.9618199644821822, 0.9578285821065092, 0.9538496983220242, 0.9496374496925644, 0.9466650418386144, 0.9424947112578276, 0.939332210439516, 0.9356400325455143, 0.9319543022985463, 0.9282965863823021, 0.9247141095065692, 0.9209668797146816, 0.917031123818465, 0.9131288637171098, 0.9092596736166135, 0.9054231349093704, 0.9016782043572993, 0.8979054922051767, 0.8941857783149169, 0.8912116884072625, 0.8889406451538887, 0.8859576012788668, 0.8841377684582095, 0.8846335194720794, 0.8810374482547132, 0.8774704950229127, 0.8739323075429817, 0.8704225392395961, 0.8713237772440864, 0.8689050544998668, 0.8661476283189856, 0.8634641043003799, 0.8609335637169641, 0.858535594526474, 0.8561765800387765, 0.8537524396137011, 0.8512364027574366, 0.8503641093844941, 0.8475147630266333, 0.8449247785863644, 0.8421496711136669, 0.8413630440301002, 0.8417444716721972, 0.8398587386439723, 0.8387322081688625, 0.8382003606107503, 0.8366839975301646, 0.8343784388083573, 0.8319760815644935, 0.8294764241689456, 0.8270490967028271, 0.8245896479492009, 0.8221853485073776, 0.8198278803417512, 0.8176648240416015, 0.8155670048566396, 0.8136903497093441, 0.8118227689522817, 0.8099285541714129, 0.8072962748397159, 0.804680393273598, 0.8023370169399372, 0.8008041755991279, 0.7981026411328768, 0.796795799789149, 0.7953632542749207, 0.7936684103406162, 0.7923209577722156, 0.7946513419066007, 0.7976067553992847, 0.7962551881773635, 0.7995366740162538, 0.7990760955076153, 0.8030533798078432, 0.8003629719317219, 0.799576504052693, 0.798330321683084, 0.796170616788057, 0.7939851967632807], \"type\": \"scatter\", \"uid\": \"299a5259-764d-48e2-8138-671773dd7c4c\"}, {\"mode\": \"markers\", \"name\": \"ctv\", \"x\": [1, 2, 3, 4, 5, 6, 7, 8, 9, 10, 11, 12, 13, 14, 15, 16, 17, 18, 19, 20, 21, 22, 23, 24, 25, 26, 27, 28, 29, 30, 31, 32, 33, 34, 35, 36, 37, 38, 39, 40, 41, 42, 43, 44, 45, 46, 47, 48, 49, 50, 51, 52, 53, 54, 55, 56, 57, 58, 59, 60, 61, 62, 63, 64, 65, 66, 67, 68, 69, 70, 71, 72, 73, 74, 75, 76, 77, 78, 79, 80, 81, 82, 83, 84, 85, 86, 87, 88, 89, 90, 91, 92, 93, 94, 95, 96, 97, 98, 99, 100, 101, 102, 103, 104, 105, 106, 107, 108, 109, 110, 111, 112, 113, 114, 115, 116, 117, 118, 119, 120, 121, 122, 123, 124, 125, 126, 127, 128, 129, 130, 131, 132, 133, 134, 135, 136, 137, 138, 139, 140, 141, 142, 143, 144, 145, 146, 147, 148, 149, 150, 151, 152, 153, 154, 155, 156, 157, 158, 159, 160, 161, 162, 163, 164, 165, 166, 167, 168, 169, 170, 171, 172, 173, 174, 175, 176, 177, 178, 179, 180, 181, 182, 183, 184, 185, 186, 187, 188, 189, 190, 191, 192, 193, 194, 195, 196, 197, 198, 199, 200, 201, 202, 203, 204, 205, 206, 207, 208, 209, 210, 211, 212, 213, 214, 215, 216, 217, 218, 219, 220, 221, 222, 223, 224, 225, 226, 227, 228, 229, 230, 231, 232, 233, 234, 235, 236, 237, 238, 239, 240, 241, 242, 243, 244, 245, 246, 247, 248, 249, 250, 251, 252, 253, 254, 255, 256, 257, 258, 259, 260, 261, 262, 263, 264, 265, 266, 267, 268, 269, 270, 271, 272, 273, 274, 275, 276, 277, 278, 279, 280, 281, 282, 283, 284, 285, 286, 287, 288, 289, 290, 291, 292, 293, 294, 295, 296, 297, 298, 299, 300], \"y\": [0.1904006949617647, 0.27570840070862856, 0.4311232227359387, 0.406654824594078, 0.3979221415629857, 0.47702774832659306, 0.44847026523170574, 0.45917732116265353, 0.5510942372776433, 0.5811212444567928, 0.6402571792185016, 0.7029102943568802, 0.7470481792357637, 0.7672462659302649, 0.7961366342975006, 0.8385097911814604, 0.8633704338964537, 0.898956917660042, 0.9223672900836132, 0.9407841471056942, 0.9730081219782382, 0.9947788959719296, 0.9931104221112552, 1.0209544320418844, 1.036821190504853, 1.0447933502575673, 1.0655852012409741, 1.082411203686182, 1.0778899084647104, 1.0943011484275285, 1.1125314315669346, 1.1289249325656114, 1.1423358575007285, 1.1525022698196588, 1.1647759813113714, 1.1783855143842417, 1.1884666674116788, 1.1990272168913203, 1.1937473749813863, 1.2053764585643347, 1.2187540912105401, 1.2344437097104752, 1.251586668555616, 1.2595749505555067, 1.2769029810169743, 1.2746966767720758, 1.2840927542894192, 1.2941996368147894, 1.2984118634757178, 1.3051797494922863, 1.3196617930193788, 1.3265317638037752, 1.332688671632848, 1.342572546279805, 1.351703202947273, 1.3662288248991337, 1.3607233688864537, 1.3584283262479817, 1.366207447454437, 1.3806624833786436, 1.3916041817545737, 1.4054115827876303, 1.417135693860415, 1.4316085718649012, 1.448594821953602, 1.4677168451290397, 1.4850988965017866, 1.5006229863723937, 1.5169680543695707, 1.5199264025217751, 1.5392927132973462, 1.555901459391094, 1.5698115323477504, 1.5917246186767935, 1.6067711884315237, 1.6266628890762476, 1.6338971161289857, 1.6404267047021945, 1.638877096363873, 1.6426105345363289, 1.645451181374331, 1.6428161251056834, 1.6543875994878405, 1.652777373615485, 1.65234254936695, 1.6602800329079432, 1.6555299706227697, 1.6533810764215446, 1.6508606214749455, 1.6471998024221939, 1.6478348968087593, 1.6478511619847909, 1.6475600259818648, 1.644772608426323, 1.6419679095089763, 1.6367366751039958, 1.629723777902442, 1.6197504560923282, 1.6214904025347496, 1.6100213247886177, 1.5966524496197225, 1.593756732959141, 1.5801327010089925, 1.5678518706764353, 1.5658446959876293, 1.5646220619630167, 1.5630755369943572, 1.5764705443980969, 1.5649220257755458, 1.5637243576464368, 1.5513237374643272, 1.5528828171583984, 1.5561862302523768, 1.5636044043556614, 1.57121187379978, 1.5740098729368968, 1.5672586938179511, 1.5603495520097121, 1.5535762593226168, 1.553628010590117, 1.558172155675248, 1.5520778948676481, 1.5458892446578358, 1.5404032136261245, 1.5346491984888841, 1.5293276099329924, 1.5240493292240873, 1.5201963894554194, 1.5224947783551548, 1.5167039307622954, 1.5167463307268274, 1.512633551080433, 1.5198352985361974, 1.5275543977191501, 1.5305316334325048, 1.5264472427159639, 1.5245679206494513, 1.5313799192876643, 1.5381728965583454, 1.537180601353358, 1.5372139361182144, 1.5356292776685223, 1.5402165134067372, 1.5464018868552807, 1.545654823897737, 1.5596263462711224, 1.5600393301953381, 1.5672368008390205, 1.564586116284222, 1.567382459276108, 1.563119621802421, 1.5589731387516073, 1.5558609472283278, 1.5527136995111017, 1.5484350343213453, 1.5504419864499854, 1.5591622708290747, 1.56044626498286, 1.5575361152524625, 1.5533871957643435, 1.549335925170095, 1.549742007553128, 1.5505881552009169, 1.5454754954814474, 1.5492546924182748, 1.5459117458066438, 1.5481417367513843, 1.5446225650668874, 1.5419259391213578, 1.5402625249153927, 1.5386024536554233, 1.544699833092516, 1.5507062955737607, 1.556704678500059, 1.56815408507871, 1.5730908906146153, 1.5766517373150861, 1.573288662750546, 1.5699654840403767, 1.5754872669209536, 1.5712824543239148, 1.5741725896766303, 1.5690962213884805, 1.5716933784935747, 1.566272159181812, 1.5679823961018333, 1.5619739851771057, 1.555424800423038, 1.5490543742925214, 1.5427512364319003, 1.5366939158270032, 1.531443912989112, 1.5339678805155634, 1.5409632447801618, 1.5418455365265267, 1.5350022491026438, 1.5282278547927095, 1.5214227625288415, 1.521862710293538, 1.514898707930843, 1.514952443184429, 1.5083645393298977, 1.5017767974245297, 1.4952409567669724, 1.488764652130952, 1.4821204644392507, 1.4899930529991856, 1.4834724470809064, 1.4769245317047086, 1.4704850692845142, 1.46397490335779, 1.4573201523479016, 1.4506729679814718, 1.4439669456395487, 1.437334989163497, 1.4366015572419097, 1.4299812735679838, 1.4293839959409327, 1.4229342884203846, 1.4165831110902558, 1.410267818096556, 1.404077521861556, 1.398127317730325, 1.3923887840711502, 1.392393983493359, 1.3865669539445364, 1.3807859530084905, 1.3753412574639372, 1.3700667791911036, 1.3647990233330145, 1.3724390951778755, 1.3673258782885398, 1.3620191620593598, 1.3706659132396164, 1.3655313432531775, 1.3605072294235583, 1.3563051273838873, 1.357965913732172, 1.3598786396375167, 1.3619240086264692, 1.3642976120208608, 1.3600124919649672, 1.3558433703775745, 1.358518770666093, 1.3541979445369605, 1.350602992792447, 1.3469076087800922, 1.3427378640570822, 1.3384965483291604, 1.3474327775110386, 1.3432652316916316, 1.339749459793888, 1.3358781626836453, 1.3324020129628982, 1.342222396461812, 1.3384188082028161, 1.3415818744916568, 1.3381886462025339, 1.3348963357106634, 1.3315134286916375, 1.3280584310492745, 1.324541194862756, 1.3281075472872275, 1.3317396461338276, 1.32823779182896, 1.3257052552264306, 1.3223715283054351, 1.3188798295359982, 1.3154351849485422, 1.3120953708291885, 1.3161542938530513, 1.3127558450284496, 1.3234766641957545, 1.3346162291792885, 1.3322831942690365, 1.33650451917373, 1.340492244026201, 1.3504058198084006, 1.3471070727103969, 1.3514123939742329, 1.34827070249251, 1.357184091612772, 1.3548625516638149, 1.3528805783829359, 1.351036946839864, 1.3484739445529035, 1.3471809233770686, 1.344523038463693, 1.3432760540153141, 1.3474655428798075, 1.3457086763627324, 1.3430674396147477, 1.3404987890439113, 1.3470929836560257, 1.3447325997496804, 1.3491569672387567, 1.347341941131313, 1.344584361978015, 1.341772596097936, 1.3396924778922839], \"type\": \"scatter\", \"uid\": \"94b8cf4d-9a4f-4b97-9171-a81fdd8e6aa9\"}], {}, {\"showLink\": false, \"linkText\": \"Export to plot.ly\", \"plotlyServerURL\": \"https://plot.ly\"}); \n",
       "}\n",
       "});</script><script type=\"text/javascript\">window.addEventListener(\"resize\", function(){if (document.getElementById(\"b36237e0-8a6a-4225-9a44-8c6cb81c89b5\")) {window._Plotly.Plots.resize(document.getElementById(\"b36237e0-8a6a-4225-9a44-8c6cb81c89b5\"));};})</script>"
      ],
      "text/vnd.plotly.v1+html": [
       "<div id=\"b36237e0-8a6a-4225-9a44-8c6cb81c89b5\" style=\"height: 525px; width: 100%;\" class=\"plotly-graph-div\"></div><script type=\"text/javascript\">require([\"plotly\"], function(Plotly) { window.PLOTLYENV=window.PLOTLYENV || {};window.PLOTLYENV.BASE_URL=\"https://plot.ly\";\n",
       "if (document.getElementById(\"b36237e0-8a6a-4225-9a44-8c6cb81c89b5\")) {\n",
       "    Plotly.newPlot(\"b36237e0-8a6a-4225-9a44-8c6cb81c89b5\", [{\"mode\": \"markers\", \"name\": \"normal\", \"x\": [1, 2, 3, 4, 5, 6, 7, 8, 9, 10, 11, 12, 13, 14, 15, 16, 17, 18, 19, 20, 21, 22, 23, 24, 25, 26, 27, 28, 29, 30, 31, 32, 33, 34, 35, 36, 37, 38, 39, 40, 41, 42, 43, 44, 45, 46, 47, 48, 49, 50, 51, 52, 53, 54, 55, 56, 57, 58, 59, 60, 61, 62, 63, 64, 65, 66, 67, 68, 69, 70, 71, 72, 73, 74, 75, 76, 77, 78, 79, 80, 81, 82, 83, 84, 85, 86, 87, 88, 89, 90, 91, 92, 93, 94, 95, 96, 97, 98, 99, 100, 101, 102, 103, 104, 105, 106, 107, 108, 109, 110, 111, 112, 113, 114, 115, 116, 117, 118, 119, 120, 121, 122, 123, 124, 125, 126, 127, 128, 129, 130, 131, 132, 133, 134, 135, 136, 137, 138, 139, 140, 141, 142, 143, 144, 145, 146, 147, 148, 149, 150, 151, 152, 153, 154, 155, 156, 157, 158, 159, 160, 161, 162, 163, 164, 165, 166, 167, 168, 169, 170, 171, 172, 173, 174, 175, 176, 177, 178, 179, 180, 181, 182, 183, 184, 185, 186, 187, 188, 189, 190, 191, 192, 193, 194, 195, 196, 197, 198, 199, 200, 201, 202, 203, 204, 205, 206, 207, 208, 209, 210, 211, 212, 213, 214, 215, 216, 217, 218, 219, 220, 221, 222, 223, 224, 225, 226, 227, 228, 229, 230, 231, 232, 233, 234, 235, 236, 237, 238, 239, 240, 241, 242, 243, 244, 245, 246, 247, 248, 249, 250, 251, 252, 253, 254, 255, 256, 257, 258, 259, 260, 261, 262, 263, 264, 265, 266, 267, 268, 269, 270, 271, 272, 273, 274, 275, 276, 277, 278, 279, 280, 281, 282, 283, 284, 285, 286, 287, 288, 289, 290, 291, 292, 293, 294, 295, 296, 297, 298, 299, 300], \"y\": [0.01111957023477067, 0.18606783834513152, 0.3732400778591915, 0.37943602537635224, 0.371984851538081, 0.35201549981590735, 0.39898575155021226, 0.4765247525463278, 0.5742947146404445, 0.6270297774909013, 0.6899787985348442, 0.7058698038757848, 0.7421454093023152, 0.7625277998050679, 0.8133233633832144, 0.8376797503737597, 0.8594125626112704, 0.8667369711647145, 0.8656652714831455, 0.8743324377679033, 0.875994487908318, 0.8681392832626503, 0.8536809842980553, 0.8469472163057805, 0.8563805863480919, 0.8499879816619559, 0.8492674742461382, 0.8499132024698844, 0.8534695303551193, 0.8568534075677567, 0.855631896234985, 0.8553770861144413, 0.8554941935455286, 0.8565241100539721, 0.8456232447338867, 0.8371948969390508, 0.8260712192221464, 0.8135287469357195, 0.8072269919731969, 0.7974169336289549, 0.7866870805505648, 0.7790722256001908, 0.7704085877355767, 0.7635838812260931, 0.753754449853797, 0.7441019371730178, 0.7381769093401361, 0.7263056219978319, 0.7168891328968927, 0.7099712554568378, 0.698289317582989, 0.6907083146067909, 0.6867145495811982, 0.6917757284003885, 0.6957540195394771, 0.6972685489479293, 0.7019830356633544, 0.7108232297391501, 0.7219794974816564, 0.7331477448715161, 0.7383244122545695, 0.7453384088068988, 0.7632843287042151, 0.7685722284113669, 0.7702518950468888, 0.7741450857427677, 0.775041940260968, 0.7764009727347989, 0.7800982301668983, 0.7863140243221275, 0.7928762736949868, 0.8039439958478076, 0.8146221765446348, 0.8242531553438224, 0.8319810778152363, 0.8410225557017081, 0.8460420306864929, 0.8494551584426097, 0.854003883961444, 0.8568738837887538, 0.8844490323856353, 0.8837222578328743, 0.8868859910569035, 0.8965474894972048, 0.90828060928813, 0.9094158660613278, 0.9076486613106919, 0.9089480009995197, 0.9105456049342272, 0.9117886886349917, 0.920407983102255, 0.9235492250712329, 0.941209270538244, 0.9425575028643267, 0.9414850191991051, 0.939714911276469, 0.9396807905665323, 0.9406655034720298, 0.9408751786776887, 0.9416816527310935, 0.9398064413214627, 0.9399041600244533, 0.9470200153162733, 0.9428929599766107, 0.9370196389887353, 0.9325076083688297, 0.9277514573726275, 0.9234028145153439, 0.920006740201268, 0.9144098903104586, 0.9081034230738452, 0.9052266397414493, 0.9034851106532538, 0.9007718289472443, 0.8989353951414789, 0.8952961656238572, 0.8913568651107342, 0.8866108302855963, 0.8804553497194473, 0.8757756255473121, 0.8702568431434571, 0.8653594080704198, 0.8612987977150498, 0.8575819788843937, 0.8536962008263597, 0.8526586383732981, 0.8504998503862196, 0.8500419424191799, 0.8477200055987343, 0.844617585492854, 0.8445464236127475, 0.8431052531554346, 0.8414616492776724, 0.8384294240329879, 0.8359014363350767, 0.8351893641505328, 0.8363458402703907, 0.8363928546904752, 0.8374880954460583, 0.8414751125249058, 0.8447979012922208, 0.8460809988581799, 0.8485976506032596, 0.8536831827715363, 0.8567299797963225, 0.8607777481654599, 0.8645631314285335, 0.8672246126526965, 0.8692107600946033, 0.870869470335663, 0.8718937600962325, 0.873663675805802, 0.8749143202319145, 0.8761839572846186, 0.8773076344997451, 0.8800621577210237, 0.882226027821192, 0.8845911243909466, 0.8873315774264552, 0.8904588687525768, 0.8926088213566312, 0.8939547430579808, 0.8957322984804776, 0.8971172754669224, 0.8987481041028818, 0.9007917372106599, 0.9024159069771248, 0.9040019054162168, 0.9072745445330053, 0.9097767468753877, 0.9127984912880432, 0.9150933628216202, 0.9175850558534662, 0.9191861358162323, 0.9210525923398492, 0.922810871864372, 0.9234670305213397, 0.9250589034366759, 0.927601011735037, 0.9300571939636288, 0.9318804873666091, 0.9346104140242129, 0.9373177424005716, 0.9400232423202135, 0.9418697794530295, 0.9434103037290006, 0.9445105871703103, 0.9457767878812771, 0.9468728135642638, 0.9480253440336942, 0.9491288451134052, 0.9496961779527426, 0.9506044671794529, 0.9516908105675993, 0.9526494930976704, 0.9541266173454626, 0.9559436683481889, 0.9583452374854493, 0.9609021307584285, 0.9636772628225616, 0.9657618063663499, 0.9672259556205537, 0.9700834256098131, 0.9728635477943564, 0.9758276693994654, 0.9800813796708576, 0.9843120935613059, 0.989371059614895, 0.9937735235656562, 0.9980673165509562, 1.002381734853285, 1.0055693716309462, 1.0100192061665683, 1.0147907496491553, 1.020580037763237, 1.0256082052643067, 1.0313633864715528, 1.0373125878246965, 1.0422911839467182, 1.0472778467615618, 1.0522906750348797, 1.0567555849856758, 1.0607691133350603, 1.0664874320126068, 1.0705944153016171, 1.075359971177107, 1.0809972701399904, 1.0863948336901168, 1.091515595216918, 1.0957411548508273, 1.0991523503172564, 1.103123575814584, 1.1073702401435097, 1.1117001961194106, 1.1175249079305964, 1.1229391110024636, 1.1281169205787873, 1.1333899701137797, 1.1378144335908111, 1.1418328400414737, 1.1435211590182819, 1.1467896362418362, 1.1497653586811676, 1.151029942886283, 1.1528674720843157, 1.1541097633051134, 1.154831515876689, 1.154586952471404, 1.1537832096333909, 1.153324767401831, 1.1532915264843218, 1.1536960094133715, 1.1547727608432539, 1.1562882454406447, 1.1578100484587823, 1.1602145845721366, 1.1614396426873808, 1.1630917055152665, 1.1646167524294346, 1.1657382152499038, 1.1664323909975405, 1.1672335304883106, 1.1673563476261615, 1.1676745532928539, 1.1684539515897505, 1.1687844096189308, 1.1687899216836783, 1.1690832088122234, 1.1688187894200432, 1.1688904417023338, 1.1697977492529024, 1.1712438085093348, 1.1720787870469762, 1.1734636701035877, 1.17491238982449, 1.1754403022238236, 1.176865520662868, 1.1768745592761254, 1.1781772106862363, 1.17912173101202, 1.17997029659735, 1.1800118822234724, 1.1804242024716602, 1.1803249145484984, 1.179946827334496, 1.1793389443810887, 1.1788369194714696, 1.1783717892131436, 1.1780213123889727, 1.1781052036885489, 1.1781256857390239, 1.1782631015271023, 1.1782092591077276, 1.177687910331878, 1.1770960436694162, 1.1774406147456782, 1.177992208620124, 1.1790143455610738, 1.1803931385667872, 1.1820365782382503], \"type\": \"scatter\", \"uid\": \"d116a4e2-4982-4128-88df-db75c73dbdc9\"}, {\"mode\": \"markers\", \"name\": \"dtv\", \"x\": [1, 2, 3, 4, 5, 6, 7, 8, 9, 10, 11, 12, 13, 14, 15, 16, 17, 18, 19, 20, 21, 22, 23, 24, 25, 26, 27, 28, 29, 30, 31, 32, 33, 34, 35, 36, 37, 38, 39, 40, 41, 42, 43, 44, 45, 46, 47, 48, 49, 50, 51, 52, 53, 54, 55, 56, 57, 58, 59, 60, 61, 62, 63, 64, 65, 66, 67, 68, 69, 70, 71, 72, 73, 74, 75, 76, 77, 78, 79, 80, 81, 82, 83, 84, 85, 86, 87, 88, 89, 90, 91, 92, 93, 94, 95, 96, 97, 98, 99, 100, 101, 102, 103, 104, 105, 106, 107, 108, 109, 110, 111, 112, 113, 114, 115, 116, 117, 118, 119, 120, 121, 122, 123, 124, 125, 126, 127, 128, 129, 130, 131, 132, 133, 134, 135, 136, 137, 138, 139, 140, 141, 142, 143, 144, 145, 146, 147, 148, 149, 150, 151, 152, 153, 154, 155, 156, 157, 158, 159, 160, 161, 162, 163, 164, 165, 166, 167, 168, 169, 170, 171, 172, 173, 174, 175, 176, 177, 178, 179, 180, 181, 182, 183, 184, 185, 186, 187, 188, 189, 190, 191, 192, 193, 194, 195, 196, 197, 198, 199, 200, 201, 202, 203, 204, 205, 206, 207, 208, 209, 210, 211, 212, 213, 214, 215, 216, 217, 218, 219, 220, 221, 222, 223, 224, 225, 226, 227, 228, 229, 230, 231, 232, 233, 234, 235, 236, 237, 238, 239, 240, 241, 242, 243, 244, 245, 246, 247, 248, 249, 250, 251, 252, 253, 254, 255, 256, 257, 258, 259, 260, 261, 262, 263, 264, 265, 266, 267, 268, 269, 270, 271, 272, 273, 274, 275, 276, 277, 278, 279, 280, 281, 282, 283, 284, 285, 286, 287, 288, 289, 290, 291, 292, 293, 294, 295, 296, 297, 298, 299, 300], \"y\": [0.13884572168277134, 0.22618654234784868, 0.2498829265123428, 0.3913048986543488, 0.49120400502529593, 0.45546833004688664, 0.5095670327055021, 0.5507221245493051, 0.5768112569993552, 0.6522278613212408, 0.661346295299002, 0.6742752631783803, 0.7110961443093349, 0.7264844053416158, 0.7373415473597601, 0.7664467978517713, 0.7835533033145708, 0.7950921151622761, 0.8315837420305292, 0.8419549847879176, 0.8451588184035699, 0.8387052350990271, 0.8255266773589374, 0.8199660054891259, 0.8217396210965938, 0.8166793612278233, 0.8171925064206772, 0.8189837692096184, 0.8236066292762417, 0.8254818396599006, 0.8311511180435728, 0.8426801661288089, 0.850148429772794, 0.8595060196077722, 0.8731479170481584, 0.8842242452477196, 0.8917763809026932, 0.8982585978255345, 0.8946846568070033, 0.9015511456716727, 0.9029682823001159, 0.9168746640677286, 0.9139056048160992, 0.9151685365089798, 0.911866369509456, 0.9073117426424334, 0.9040351122747501, 0.8964955787825013, 0.8938549831954872, 0.8848888714383363, 0.8757131899752169, 0.8692985989875778, 0.8654050983118613, 0.8623764886508832, 0.8660163300295871, 0.8775796729893333, 0.8830745540270166, 0.8906905476140807, 0.8951921843457337, 0.9023150391434706, 0.920953634945323, 0.9309256107736461, 0.9541534515052246, 0.9550545612527053, 0.9535033838386212, 0.9535111263165983, 0.9514250325073775, 0.9498948159376073, 0.9468196782893947, 0.9456432074247717, 0.9454792479669785, 0.9488460157717493, 0.9527268023210338, 0.9556489292567202, 0.9687156260689951, 0.9715832680635759, 0.9738357740107525, 0.9686805632888686, 0.9662615550423681, 0.9632903639563333, 0.9607450833048446, 0.954621261067682, 0.9531939266706272, 0.9515720990440971, 0.9520664910863395, 0.9498865805299265, 0.9452725062287485, 0.9437405067089061, 0.9428698300038784, 0.940199487366355, 0.9385664652442689, 0.9364477615084429, 0.9353397019187648, 0.9343765833672252, 0.9331331840024735, 0.9309569324329203, 0.9306101364757865, 0.9316271089770641, 0.9343824681214467, 0.9405282015198034, 0.9404928587808364, 0.9474203999936132, 0.9527575441200509, 0.9492372418530046, 0.9516989538508785, 0.9469224528989548, 0.9425739278004932, 0.9396970266157786, 0.9339904668719647, 0.9276561822688588, 0.9209859060090697, 0.917171666307947, 0.9168869849989524, 0.9186949178629034, 0.9363939106859902, 0.9558703063342949, 0.9611282395221985, 0.9555196452709521, 0.9489012557195123, 0.9497779014901669, 0.9441155240467105, 0.9376977076868173, 0.9332187761936661, 0.9290475070867977, 0.9247273942720706, 0.9229332016170739, 0.9248450435014693, 0.9225724916788688, 0.9200791170507491, 0.9171380411619607, 0.9147089835737929, 0.9135433970716192, 0.9125532542385929, 0.9100134235555688, 0.9088995877228141, 0.9081362275058327, 0.9087169234398521, 0.9103041625673077, 0.9125175696156982, 0.9304695833456673, 0.93376225371891, 0.93595607885977, 0.938111082623509, 0.941126979392878, 0.9437515717482572, 0.9477973300770453, 0.9605423935370223, 0.9637348907036106, 0.966504809518421, 0.9683279795906602, 0.9700255983781823, 0.9738921823752462, 0.9755938007914793, 0.9771002844753841, 0.9784622405880059, 0.9824773890598671, 0.9850737964496998, 0.9878245292815715, 0.9914257531316166, 0.9941214926326619, 0.9964815844851124, 0.9978890632954204, 1.0006339249552205, 1.0019050383573571, 1.0049546563422804, 1.0104126397783073, 1.0127752299070858, 1.0152281552977809, 1.0180885920571545, 1.0211998569226937, 1.0250203971459477, 1.0280407293181903, 1.031039702521417, 1.0333917001299933, 1.0355873663555308, 1.0380252266648105, 1.0378275687865508, 1.039978072145312, 1.0413786493645751, 1.0428001166633651, 1.0434833053224881, 1.0448537158220061, 1.0464633002707755, 1.0483424308536333, 1.0490856498876946, 1.0494237821482582, 1.0494370479476578, 1.0495406278619264, 1.0495348170866778, 1.0509274827728277, 1.0517264616150663, 1.0515183598117959, 1.0516380044177798, 1.0520979083462878, 1.0528462410819244, 1.053313834131578, 1.050427024100949, 1.0519827536481, 1.048996852394548, 1.0450002397059681, 1.0413201306949165, 1.0376572715959802, 1.033970019108231, 1.0302508701109545, 1.0266231871787685, 1.0227984660481266, 1.0189976406873182, 1.0160270712615656, 1.0125134083441822, 1.0089371403566822, 1.0052503456728132, 1.0015102381398362, 0.9977384432603668, 0.9937209253188691, 0.9896186026650446, 0.9853842914578901, 0.9811009122096127, 0.9781788053873509, 0.9740163795106421, 0.9705637823411112, 0.9661720910183007, 0.9618199644821822, 0.9578285821065092, 0.9538496983220242, 0.9496374496925644, 0.9466650418386144, 0.9424947112578276, 0.939332210439516, 0.9356400325455143, 0.9319543022985463, 0.9282965863823021, 0.9247141095065692, 0.9209668797146816, 0.917031123818465, 0.9131288637171098, 0.9092596736166135, 0.9054231349093704, 0.9016782043572993, 0.8979054922051767, 0.8941857783149169, 0.8912116884072625, 0.8889406451538887, 0.8859576012788668, 0.8841377684582095, 0.8846335194720794, 0.8810374482547132, 0.8774704950229127, 0.8739323075429817, 0.8704225392395961, 0.8713237772440864, 0.8689050544998668, 0.8661476283189856, 0.8634641043003799, 0.8609335637169641, 0.858535594526474, 0.8561765800387765, 0.8537524396137011, 0.8512364027574366, 0.8503641093844941, 0.8475147630266333, 0.8449247785863644, 0.8421496711136669, 0.8413630440301002, 0.8417444716721972, 0.8398587386439723, 0.8387322081688625, 0.8382003606107503, 0.8366839975301646, 0.8343784388083573, 0.8319760815644935, 0.8294764241689456, 0.8270490967028271, 0.8245896479492009, 0.8221853485073776, 0.8198278803417512, 0.8176648240416015, 0.8155670048566396, 0.8136903497093441, 0.8118227689522817, 0.8099285541714129, 0.8072962748397159, 0.804680393273598, 0.8023370169399372, 0.8008041755991279, 0.7981026411328768, 0.796795799789149, 0.7953632542749207, 0.7936684103406162, 0.7923209577722156, 0.7946513419066007, 0.7976067553992847, 0.7962551881773635, 0.7995366740162538, 0.7990760955076153, 0.8030533798078432, 0.8003629719317219, 0.799576504052693, 0.798330321683084, 0.796170616788057, 0.7939851967632807], \"type\": \"scatter\", \"uid\": \"299a5259-764d-48e2-8138-671773dd7c4c\"}, {\"mode\": \"markers\", \"name\": \"ctv\", \"x\": [1, 2, 3, 4, 5, 6, 7, 8, 9, 10, 11, 12, 13, 14, 15, 16, 17, 18, 19, 20, 21, 22, 23, 24, 25, 26, 27, 28, 29, 30, 31, 32, 33, 34, 35, 36, 37, 38, 39, 40, 41, 42, 43, 44, 45, 46, 47, 48, 49, 50, 51, 52, 53, 54, 55, 56, 57, 58, 59, 60, 61, 62, 63, 64, 65, 66, 67, 68, 69, 70, 71, 72, 73, 74, 75, 76, 77, 78, 79, 80, 81, 82, 83, 84, 85, 86, 87, 88, 89, 90, 91, 92, 93, 94, 95, 96, 97, 98, 99, 100, 101, 102, 103, 104, 105, 106, 107, 108, 109, 110, 111, 112, 113, 114, 115, 116, 117, 118, 119, 120, 121, 122, 123, 124, 125, 126, 127, 128, 129, 130, 131, 132, 133, 134, 135, 136, 137, 138, 139, 140, 141, 142, 143, 144, 145, 146, 147, 148, 149, 150, 151, 152, 153, 154, 155, 156, 157, 158, 159, 160, 161, 162, 163, 164, 165, 166, 167, 168, 169, 170, 171, 172, 173, 174, 175, 176, 177, 178, 179, 180, 181, 182, 183, 184, 185, 186, 187, 188, 189, 190, 191, 192, 193, 194, 195, 196, 197, 198, 199, 200, 201, 202, 203, 204, 205, 206, 207, 208, 209, 210, 211, 212, 213, 214, 215, 216, 217, 218, 219, 220, 221, 222, 223, 224, 225, 226, 227, 228, 229, 230, 231, 232, 233, 234, 235, 236, 237, 238, 239, 240, 241, 242, 243, 244, 245, 246, 247, 248, 249, 250, 251, 252, 253, 254, 255, 256, 257, 258, 259, 260, 261, 262, 263, 264, 265, 266, 267, 268, 269, 270, 271, 272, 273, 274, 275, 276, 277, 278, 279, 280, 281, 282, 283, 284, 285, 286, 287, 288, 289, 290, 291, 292, 293, 294, 295, 296, 297, 298, 299, 300], \"y\": [0.1904006949617647, 0.27570840070862856, 0.4311232227359387, 0.406654824594078, 0.3979221415629857, 0.47702774832659306, 0.44847026523170574, 0.45917732116265353, 0.5510942372776433, 0.5811212444567928, 0.6402571792185016, 0.7029102943568802, 0.7470481792357637, 0.7672462659302649, 0.7961366342975006, 0.8385097911814604, 0.8633704338964537, 0.898956917660042, 0.9223672900836132, 0.9407841471056942, 0.9730081219782382, 0.9947788959719296, 0.9931104221112552, 1.0209544320418844, 1.036821190504853, 1.0447933502575673, 1.0655852012409741, 1.082411203686182, 1.0778899084647104, 1.0943011484275285, 1.1125314315669346, 1.1289249325656114, 1.1423358575007285, 1.1525022698196588, 1.1647759813113714, 1.1783855143842417, 1.1884666674116788, 1.1990272168913203, 1.1937473749813863, 1.2053764585643347, 1.2187540912105401, 1.2344437097104752, 1.251586668555616, 1.2595749505555067, 1.2769029810169743, 1.2746966767720758, 1.2840927542894192, 1.2941996368147894, 1.2984118634757178, 1.3051797494922863, 1.3196617930193788, 1.3265317638037752, 1.332688671632848, 1.342572546279805, 1.351703202947273, 1.3662288248991337, 1.3607233688864537, 1.3584283262479817, 1.366207447454437, 1.3806624833786436, 1.3916041817545737, 1.4054115827876303, 1.417135693860415, 1.4316085718649012, 1.448594821953602, 1.4677168451290397, 1.4850988965017866, 1.5006229863723937, 1.5169680543695707, 1.5199264025217751, 1.5392927132973462, 1.555901459391094, 1.5698115323477504, 1.5917246186767935, 1.6067711884315237, 1.6266628890762476, 1.6338971161289857, 1.6404267047021945, 1.638877096363873, 1.6426105345363289, 1.645451181374331, 1.6428161251056834, 1.6543875994878405, 1.652777373615485, 1.65234254936695, 1.6602800329079432, 1.6555299706227697, 1.6533810764215446, 1.6508606214749455, 1.6471998024221939, 1.6478348968087593, 1.6478511619847909, 1.6475600259818648, 1.644772608426323, 1.6419679095089763, 1.6367366751039958, 1.629723777902442, 1.6197504560923282, 1.6214904025347496, 1.6100213247886177, 1.5966524496197225, 1.593756732959141, 1.5801327010089925, 1.5678518706764353, 1.5658446959876293, 1.5646220619630167, 1.5630755369943572, 1.5764705443980969, 1.5649220257755458, 1.5637243576464368, 1.5513237374643272, 1.5528828171583984, 1.5561862302523768, 1.5636044043556614, 1.57121187379978, 1.5740098729368968, 1.5672586938179511, 1.5603495520097121, 1.5535762593226168, 1.553628010590117, 1.558172155675248, 1.5520778948676481, 1.5458892446578358, 1.5404032136261245, 1.5346491984888841, 1.5293276099329924, 1.5240493292240873, 1.5201963894554194, 1.5224947783551548, 1.5167039307622954, 1.5167463307268274, 1.512633551080433, 1.5198352985361974, 1.5275543977191501, 1.5305316334325048, 1.5264472427159639, 1.5245679206494513, 1.5313799192876643, 1.5381728965583454, 1.537180601353358, 1.5372139361182144, 1.5356292776685223, 1.5402165134067372, 1.5464018868552807, 1.545654823897737, 1.5596263462711224, 1.5600393301953381, 1.5672368008390205, 1.564586116284222, 1.567382459276108, 1.563119621802421, 1.5589731387516073, 1.5558609472283278, 1.5527136995111017, 1.5484350343213453, 1.5504419864499854, 1.5591622708290747, 1.56044626498286, 1.5575361152524625, 1.5533871957643435, 1.549335925170095, 1.549742007553128, 1.5505881552009169, 1.5454754954814474, 1.5492546924182748, 1.5459117458066438, 1.5481417367513843, 1.5446225650668874, 1.5419259391213578, 1.5402625249153927, 1.5386024536554233, 1.544699833092516, 1.5507062955737607, 1.556704678500059, 1.56815408507871, 1.5730908906146153, 1.5766517373150861, 1.573288662750546, 1.5699654840403767, 1.5754872669209536, 1.5712824543239148, 1.5741725896766303, 1.5690962213884805, 1.5716933784935747, 1.566272159181812, 1.5679823961018333, 1.5619739851771057, 1.555424800423038, 1.5490543742925214, 1.5427512364319003, 1.5366939158270032, 1.531443912989112, 1.5339678805155634, 1.5409632447801618, 1.5418455365265267, 1.5350022491026438, 1.5282278547927095, 1.5214227625288415, 1.521862710293538, 1.514898707930843, 1.514952443184429, 1.5083645393298977, 1.5017767974245297, 1.4952409567669724, 1.488764652130952, 1.4821204644392507, 1.4899930529991856, 1.4834724470809064, 1.4769245317047086, 1.4704850692845142, 1.46397490335779, 1.4573201523479016, 1.4506729679814718, 1.4439669456395487, 1.437334989163497, 1.4366015572419097, 1.4299812735679838, 1.4293839959409327, 1.4229342884203846, 1.4165831110902558, 1.410267818096556, 1.404077521861556, 1.398127317730325, 1.3923887840711502, 1.392393983493359, 1.3865669539445364, 1.3807859530084905, 1.3753412574639372, 1.3700667791911036, 1.3647990233330145, 1.3724390951778755, 1.3673258782885398, 1.3620191620593598, 1.3706659132396164, 1.3655313432531775, 1.3605072294235583, 1.3563051273838873, 1.357965913732172, 1.3598786396375167, 1.3619240086264692, 1.3642976120208608, 1.3600124919649672, 1.3558433703775745, 1.358518770666093, 1.3541979445369605, 1.350602992792447, 1.3469076087800922, 1.3427378640570822, 1.3384965483291604, 1.3474327775110386, 1.3432652316916316, 1.339749459793888, 1.3358781626836453, 1.3324020129628982, 1.342222396461812, 1.3384188082028161, 1.3415818744916568, 1.3381886462025339, 1.3348963357106634, 1.3315134286916375, 1.3280584310492745, 1.324541194862756, 1.3281075472872275, 1.3317396461338276, 1.32823779182896, 1.3257052552264306, 1.3223715283054351, 1.3188798295359982, 1.3154351849485422, 1.3120953708291885, 1.3161542938530513, 1.3127558450284496, 1.3234766641957545, 1.3346162291792885, 1.3322831942690365, 1.33650451917373, 1.340492244026201, 1.3504058198084006, 1.3471070727103969, 1.3514123939742329, 1.34827070249251, 1.357184091612772, 1.3548625516638149, 1.3528805783829359, 1.351036946839864, 1.3484739445529035, 1.3471809233770686, 1.344523038463693, 1.3432760540153141, 1.3474655428798075, 1.3457086763627324, 1.3430674396147477, 1.3404987890439113, 1.3470929836560257, 1.3447325997496804, 1.3491569672387567, 1.347341941131313, 1.344584361978015, 1.341772596097936, 1.3396924778922839], \"type\": \"scatter\", \"uid\": \"94b8cf4d-9a4f-4b97-9171-a81fdd8e6aa9\"}], {}, {\"showLink\": false, \"linkText\": \"Export to plot.ly\", \"plotlyServerURL\": \"https://plot.ly\"}); \n",
       "}\n",
       "});</script><script type=\"text/javascript\">window.addEventListener(\"resize\", function(){if (document.getElementById(\"b36237e0-8a6a-4225-9a44-8c6cb81c89b5\")) {window._Plotly.Plots.resize(document.getElementById(\"b36237e0-8a6a-4225-9a44-8c6cb81c89b5\"));};})</script>"
      ]
     },
     "metadata": {},
     "output_type": "display_data"
    }
   ],
   "source": [
    "trials = study_rbf_ctv.trials\n",
    "trial_values_ctv = [- trial.value for trial in trials]\n",
    "#trial_values_normal = np.loadtxt('./results/syn_bogunovic_gp.csv', delimiter=',')\n",
    "#trial_values_dtv = np.loadtxt('./results/syn_bogunovic_gp_dtv.csv', delimiter=',')\n",
    "np.savetxt('./results/syn_bogunovic_gp_ctv.csv', trial_values, delimiter=',')\n",
    "\n",
    "assert len(trial_values) == len(best_values)\n",
    "\n",
    "def calc_avg_cum_regrets(trial_values, best_values):\n",
    "    cum_regret = 0.\n",
    "    avg_cum_regrets = []\n",
    "    for t, (best_value, trial_value) in enumerate(zip(best_values, trial_values)):\n",
    "        cum_regret += best_value - trial_value\n",
    "        avg_cum_regrets.append(cum_regret / (t + 1))\n",
    "    return avg_cum_regrets\n",
    "\n",
    "avg_cum_regrets_normal = calc_avg_cum_regrets(trial_values_normal, best_values)\n",
    "avg_cum_regrets_dtv = calc_avg_cum_regrets(trial_values_dtv, best_values)\n",
    "avg_cum_regrets_ctv = calc_avg_cum_regrets(trial_values_ctv, best_values)\n",
    "\n",
    "data = [\n",
    "    go.Scatter(x=np.arange(len(avg_cum_regrets_normal)) + 1, y=avg_cum_regrets_normal, mode='markers', name='normal'),\n",
    "    go.Scatter(x=np.arange(len(avg_cum_regrets_dtv)) + 1, y=avg_cum_regrets_dtv, mode='markers', name='dtv'),\n",
    "    go.Scatter(x=np.arange(len(avg_cum_regrets_ctv)) + 1, y=avg_cum_regrets_ctv, mode='markers', name='ctv')\n",
    "]\n",
    "iplot(data, filename='syn_bogunovic_rbf_ctv')"
   ]
  },
  {
   "cell_type": "code",
   "execution_count": null,
   "metadata": {},
   "outputs": [],
   "source": []
  }
 ],
 "metadata": {
  "kernelspec": {
   "display_name": "Python 3",
   "language": "python",
   "name": "python3"
  },
  "language_info": {
   "codemirror_mode": {
    "name": "ipython",
    "version": 3
   },
   "file_extension": ".py",
   "mimetype": "text/x-python",
   "name": "python",
   "nbconvert_exporter": "python",
   "pygments_lexer": "ipython3",
   "version": "3.6.5"
  }
 },
 "nbformat": 4,
 "nbformat_minor": 1
}
